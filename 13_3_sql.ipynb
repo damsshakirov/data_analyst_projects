{
 "cells": [
  {
   "cell_type": "markdown",
   "metadata": {},
   "source": [
    "<div style=\"border-radius: 15px; box-shadow: 2px 2px 4px; border: 1px solid; background:#bdc3c7; padding: 20px\"> <h7 style=\"color:black; margin-bottom:20px\"> Дамир, привет!) Это Михаил.\n",
    "\n",
    "Мои комментарии и замечания далее по тексту помечены различными цветами:\n",
    "    \n",
    "---    \n",
    "<div class=\"alert alert-block alert-danger\">\n",
    "❌ : Критическое замечание, которые следует исправить.\n",
    "</div> \n",
    "    \n",
    "---\n",
    "    \n",
    "<div class=\"alert alert-block alert-warning\">\n",
    "⚠️ : Замечание\\совет на будущее.\n",
    "</div>\n",
    "    \n",
    "---\n",
    "    \n",
    "<div class=\"alert alert-block alert-success\">\n",
    "✔️ : Когда всё сделано правильно.\n",
    "</div>\n",
    "\n",
    "---\n",
    "\n",
    "Если возникнут вопросы по проекту или вопросы общего характера, то не стесняйся - задавай!) Для того, чтобы мне было легче их найти, то выделяй их пожалуйста с помощью цвета, например вот так - <font color=#e17055>\"вопрос, который не останется незамеченным\"</font>\n",
    "        \n",
    "    \n",
    "p.s.: не удаляй мои замечания, если предстоит что то доработать в проекте.</h7>"
   ]
  },
  {
   "cell_type": "markdown",
   "metadata": {},
   "source": [
    "<div class=\"alert alert-danger\" style=\"border-radius: 15px; box-shadow: 4px 4px 4px; border: 1px solid \" > <b>Комментарии от ревьюера ❌ : </b> \n",
    "\n",
    "<s>Итог ревью - почти все запросы корректные и дают правильный результат. Но есть одно задание, которое тебе предстоит доработать, чтобы я смог принять твой проект. \n",
    "    \n",
    "Если возникнут вопросы, пиши - обязательно отвечу. Буду ждать!\n",
    "</div> \n"
   ]
  },
  {
   "cell_type": "markdown",
   "metadata": {},
   "source": [
    "<div class=\"alert alert-info\" style=\"border-radius: 15px; box-shadow: 4px 4px 4px; border: 1px solid \" > <b>Комментарии от студента : </b> \n",
    "\n",
    "Исправил.\n",
    "</div> \n"
   ]
  },
  {
   "cell_type": "markdown",
   "metadata": {},
   "source": [
    "\n",
    "<div class=\"alert alert-success\" style=\"border-radius: 15px; box-shadow: 4px 4px 4px; border: 1px solid \" > <b>Комментарии от ревьюера v2 ✔️ : </b> \n",
    "\n",
    "Все замечания учтены. Ты наглядно показал умение формировать запросы SQL для решения подобных задач. Так держать! \n",
    "    \n",
    "Поздравляю с завершением финального спринта! Особенно ценно, что ты полностью уложился в дедлайн 👏\n",
    "    \n",
    "![](https://media.giphy.com/media/SkwbfLHO0a1lS/giphy.gif)\n",
    "    \n",
    "Остается дождаться финального созвона в ближайшее время)\n",
    "</div>\n",
    "    \n",
    "---"
   ]
  },
  {
   "cell_type": "markdown",
   "metadata": {},
   "source": [
    "---"
   ]
  },
  {
   "cell_type": "markdown",
   "metadata": {},
   "source": [
    "<div class=\"alert alert-danger\" style=\"border-radius: 15px; box-shadow: 4px 4px 4px; border: 1px solid \" ><b> ⬆ Комментарии от ревьюера ❌ : </b> \n",
    "\n",
    "<s>Хорошей практикой является - наличие в проекте описания данных и цели работы, это позволит читателям быстро понять, о чём исследование.\n",
    "\n",
    "Также желательно давать работе какое-то ёмкое наименование (заголовок), о чём она, если ты будешь составлять портфолио проектов, то будет важно показать с первых секунд, какая задача тут решалась.\n",
    "\n",
    "</div>"
   ]
  },
  {
   "cell_type": "markdown",
   "metadata": {},
   "source": [
    "<div class=\"alert alert-info\" style=\"border-radius: 15px; box-shadow: 4px 4px 4px; border: 1px solid \" > <b>Комментарии от студента : </b> \n",
    "\n",
    "На радостях упустил, что тут тоже нужны цели и описание, добавил.\n",
    "</div> \n"
   ]
  },
  {
   "cell_type": "markdown",
   "metadata": {},
   "source": [
    "<div class=\"alert alert-success\" style=\"border-radius: 15px; box-shadow: 4px 4px 4px; border: 1px solid \" > <b>Комментарии от ревьюера v2 ✔️ : </b> \n",
    "\n",
    "👍\n",
    "\n",
    "</div>"
   ]
  },
  {
   "cell_type": "markdown",
   "metadata": {},
   "source": [
    "# Проект по SQL - Анализ базы данных книжного мазагина\n",
    "\n",
    "Коронавирус застал мир врасплох, изменив привычный порядок вещей. В свободное время жители городов больше не выходят на улицу, не посещают кафе и торговые центры. Зато стало больше времени для книг. Это заметили стартаперы — и бросились создавать приложения для тех, кто любит читать.\n",
    "\n",
    "Ваша компания решила быть на волне и купила крупный сервис для чтения книг по подписке. \n",
    "\n",
    "**Цель исследования** \n",
    "\n",
    "Проанализировать базу данных книжного магазина. В ней — информация о книгах, издательствах, авторах, а также пользовательские обзоры книг. Эти данные помогут сформулировать ценностное предложение для нового продукта.\n",
    "\n",
    "**Задания**\n",
    "1. Посчитайте, сколько книг вышло после 1 января 2000 года;\n",
    "2. Для каждой книги посчитайте количество обзоров и среднюю оценку;\n",
    "3. Определите издательство, которое выпустило наибольшее число книг толще 50 страниц — так вы исключите из анализа брошюры;\n",
    "4. Определите автора с самой высокой средней оценкой книг — учитывайте только книги с 50 и более оценками;\n",
    "5. Посчитайте среднее количество обзоров от пользователей, которые поставили больше 50 оценок."
   ]
  },
  {
   "cell_type": "markdown",
   "metadata": {},
   "source": [
    "## Импорт библиотек и подключение к СУБД"
   ]
  },
  {
   "cell_type": "code",
   "execution_count": 1,
   "metadata": {},
   "outputs": [],
   "source": [
    "# импортируем библиотеки\n",
    "import pandas as pd\n",
    "from sqlalchemy import create_engine"
   ]
  },
  {
   "cell_type": "code",
   "execution_count": 2,
   "metadata": {},
   "outputs": [],
   "source": [
    "# устанавливаем параметры\n",
    "db_config = {'user': 'praktikum_student', # имя пользователя\n",
    "'pwd': 'Sdf4$2;d-d30pp', # пароль\n",
    "'host': 'rc1b-wcoijxj3yxfsf3fs.mdb.yandexcloud.net',\n",
    "'port': 6432, # порт подключения\n",
    "'db': 'data-analyst-final-project-db'} # название базы данных\n",
    "connection_string = 'postgresql://{}:{}@{}:{}/{}'.format(db_config['user'],\n",
    " db_config['pwd'],\n",
    " db_config['host'],\n",
    " db_config['port'],\n",
    " db_config['db'])\n",
    "# сохраняем коннектор\n",
    "engine = create_engine(connection_string, connect_args={'sslmode':'require'}) "
   ]
  },
  {
   "cell_type": "markdown",
   "metadata": {},
   "source": [
    "### Формирование SQL запроса"
   ]
  },
  {
   "cell_type": "code",
   "execution_count": 3,
   "metadata": {},
   "outputs": [],
   "source": [
    "# Формируем sql-запрос - функция для выполнения запроса и возвращению результата\n",
    "def sql_result(query):\n",
    "    return pd.io.sql.read_sql(query, con = engine)\n",
    "\n",
    "books = ''' SELECT * FROM books'''\n",
    "authors = ''' SELECT * FROM authors'''\n",
    "ratings = ''' SELECT * FROM ratings'''\n",
    "reviews = ''' SELECT * FROM reviews'''\n",
    "publishers = ''' SELECT * FROM publishers'''"
   ]
  },
  {
   "cell_type": "code",
   "execution_count": 4,
   "metadata": {},
   "outputs": [
    {
     "data": {
      "text/html": [
       "<div>\n",
       "<style scoped>\n",
       "    .dataframe tbody tr th:only-of-type {\n",
       "        vertical-align: middle;\n",
       "    }\n",
       "\n",
       "    .dataframe tbody tr th {\n",
       "        vertical-align: top;\n",
       "    }\n",
       "\n",
       "    .dataframe thead th {\n",
       "        text-align: right;\n",
       "    }\n",
       "</style>\n",
       "<table border=\"1\" class=\"dataframe\">\n",
       "  <thead>\n",
       "    <tr style=\"text-align: right;\">\n",
       "      <th></th>\n",
       "      <th>book_id</th>\n",
       "      <th>author_id</th>\n",
       "      <th>title</th>\n",
       "      <th>num_pages</th>\n",
       "      <th>publication_date</th>\n",
       "      <th>publisher_id</th>\n",
       "    </tr>\n",
       "  </thead>\n",
       "  <tbody>\n",
       "    <tr>\n",
       "      <th>0</th>\n",
       "      <td>1</td>\n",
       "      <td>546</td>\n",
       "      <td>'Salem's Lot</td>\n",
       "      <td>594</td>\n",
       "      <td>2005-11-01</td>\n",
       "      <td>93</td>\n",
       "    </tr>\n",
       "    <tr>\n",
       "      <th>1</th>\n",
       "      <td>2</td>\n",
       "      <td>465</td>\n",
       "      <td>1 000 Places to See Before You Die</td>\n",
       "      <td>992</td>\n",
       "      <td>2003-05-22</td>\n",
       "      <td>336</td>\n",
       "    </tr>\n",
       "  </tbody>\n",
       "</table>\n",
       "</div>"
      ],
      "text/plain": [
       "   book_id  author_id                               title  num_pages  \\\n",
       "0        1        546                        'Salem's Lot        594   \n",
       "1        2        465  1 000 Places to See Before You Die        992   \n",
       "\n",
       "  publication_date  publisher_id  \n",
       "0       2005-11-01            93  \n",
       "1       2003-05-22           336  "
      ]
     },
     "metadata": {},
     "output_type": "display_data"
    },
    {
     "data": {
      "text/html": [
       "<div>\n",
       "<style scoped>\n",
       "    .dataframe tbody tr th:only-of-type {\n",
       "        vertical-align: middle;\n",
       "    }\n",
       "\n",
       "    .dataframe tbody tr th {\n",
       "        vertical-align: top;\n",
       "    }\n",
       "\n",
       "    .dataframe thead th {\n",
       "        text-align: right;\n",
       "    }\n",
       "</style>\n",
       "<table border=\"1\" class=\"dataframe\">\n",
       "  <thead>\n",
       "    <tr style=\"text-align: right;\">\n",
       "      <th></th>\n",
       "      <th>author_id</th>\n",
       "      <th>author</th>\n",
       "    </tr>\n",
       "  </thead>\n",
       "  <tbody>\n",
       "    <tr>\n",
       "      <th>0</th>\n",
       "      <td>1</td>\n",
       "      <td>A.S. Byatt</td>\n",
       "    </tr>\n",
       "    <tr>\n",
       "      <th>1</th>\n",
       "      <td>2</td>\n",
       "      <td>Aesop/Laura Harris/Laura Gibbs</td>\n",
       "    </tr>\n",
       "  </tbody>\n",
       "</table>\n",
       "</div>"
      ],
      "text/plain": [
       "   author_id                          author\n",
       "0          1                      A.S. Byatt\n",
       "1          2  Aesop/Laura Harris/Laura Gibbs"
      ]
     },
     "metadata": {},
     "output_type": "display_data"
    },
    {
     "data": {
      "text/html": [
       "<div>\n",
       "<style scoped>\n",
       "    .dataframe tbody tr th:only-of-type {\n",
       "        vertical-align: middle;\n",
       "    }\n",
       "\n",
       "    .dataframe tbody tr th {\n",
       "        vertical-align: top;\n",
       "    }\n",
       "\n",
       "    .dataframe thead th {\n",
       "        text-align: right;\n",
       "    }\n",
       "</style>\n",
       "<table border=\"1\" class=\"dataframe\">\n",
       "  <thead>\n",
       "    <tr style=\"text-align: right;\">\n",
       "      <th></th>\n",
       "      <th>rating_id</th>\n",
       "      <th>book_id</th>\n",
       "      <th>username</th>\n",
       "      <th>rating</th>\n",
       "    </tr>\n",
       "  </thead>\n",
       "  <tbody>\n",
       "    <tr>\n",
       "      <th>0</th>\n",
       "      <td>1</td>\n",
       "      <td>1</td>\n",
       "      <td>ryanfranco</td>\n",
       "      <td>4</td>\n",
       "    </tr>\n",
       "    <tr>\n",
       "      <th>1</th>\n",
       "      <td>2</td>\n",
       "      <td>1</td>\n",
       "      <td>grantpatricia</td>\n",
       "      <td>2</td>\n",
       "    </tr>\n",
       "  </tbody>\n",
       "</table>\n",
       "</div>"
      ],
      "text/plain": [
       "   rating_id  book_id       username  rating\n",
       "0          1        1     ryanfranco       4\n",
       "1          2        1  grantpatricia       2"
      ]
     },
     "metadata": {},
     "output_type": "display_data"
    },
    {
     "data": {
      "text/html": [
       "<div>\n",
       "<style scoped>\n",
       "    .dataframe tbody tr th:only-of-type {\n",
       "        vertical-align: middle;\n",
       "    }\n",
       "\n",
       "    .dataframe tbody tr th {\n",
       "        vertical-align: top;\n",
       "    }\n",
       "\n",
       "    .dataframe thead th {\n",
       "        text-align: right;\n",
       "    }\n",
       "</style>\n",
       "<table border=\"1\" class=\"dataframe\">\n",
       "  <thead>\n",
       "    <tr style=\"text-align: right;\">\n",
       "      <th></th>\n",
       "      <th>review_id</th>\n",
       "      <th>book_id</th>\n",
       "      <th>username</th>\n",
       "      <th>text</th>\n",
       "    </tr>\n",
       "  </thead>\n",
       "  <tbody>\n",
       "    <tr>\n",
       "      <th>0</th>\n",
       "      <td>1</td>\n",
       "      <td>1</td>\n",
       "      <td>brandtandrea</td>\n",
       "      <td>Mention society tell send professor analysis. ...</td>\n",
       "    </tr>\n",
       "    <tr>\n",
       "      <th>1</th>\n",
       "      <td>2</td>\n",
       "      <td>1</td>\n",
       "      <td>ryanfranco</td>\n",
       "      <td>Foot glass pretty audience hit themselves. Amo...</td>\n",
       "    </tr>\n",
       "  </tbody>\n",
       "</table>\n",
       "</div>"
      ],
      "text/plain": [
       "   review_id  book_id      username  \\\n",
       "0          1        1  brandtandrea   \n",
       "1          2        1    ryanfranco   \n",
       "\n",
       "                                                text  \n",
       "0  Mention society tell send professor analysis. ...  \n",
       "1  Foot glass pretty audience hit themselves. Amo...  "
      ]
     },
     "metadata": {},
     "output_type": "display_data"
    },
    {
     "data": {
      "text/html": [
       "<div>\n",
       "<style scoped>\n",
       "    .dataframe tbody tr th:only-of-type {\n",
       "        vertical-align: middle;\n",
       "    }\n",
       "\n",
       "    .dataframe tbody tr th {\n",
       "        vertical-align: top;\n",
       "    }\n",
       "\n",
       "    .dataframe thead th {\n",
       "        text-align: right;\n",
       "    }\n",
       "</style>\n",
       "<table border=\"1\" class=\"dataframe\">\n",
       "  <thead>\n",
       "    <tr style=\"text-align: right;\">\n",
       "      <th></th>\n",
       "      <th>publisher_id</th>\n",
       "      <th>publisher</th>\n",
       "    </tr>\n",
       "  </thead>\n",
       "  <tbody>\n",
       "    <tr>\n",
       "      <th>0</th>\n",
       "      <td>1</td>\n",
       "      <td>Ace</td>\n",
       "    </tr>\n",
       "    <tr>\n",
       "      <th>1</th>\n",
       "      <td>2</td>\n",
       "      <td>Ace Book</td>\n",
       "    </tr>\n",
       "  </tbody>\n",
       "</table>\n",
       "</div>"
      ],
      "text/plain": [
       "   publisher_id publisher\n",
       "0             1       Ace\n",
       "1             2  Ace Book"
      ]
     },
     "metadata": {},
     "output_type": "display_data"
    }
   ],
   "source": [
    "# Выведу первые строки из каждого полученного датафрейма\n",
    "for x in [books, authors, ratings, reviews, publishers]:\n",
    "    display(sql_result(x).head(2))"
   ]
  },
  {
   "cell_type": "markdown",
   "metadata": {},
   "source": [
    "<div class=\"alert alert-success\" style=\"border-radius: 15px; box-shadow: 4px 4px 4px; border: 1px solid \" > <b>Комментарии от ревьюера ✔️ : </b> \n",
    "\n",
    "Здесь всё хорошо. Ты корректно выгрузил данные и посмотрел их содержимое. Теперь можем приступать к выполнению заданий\n",
    "</div>"
   ]
  },
  {
   "cell_type": "markdown",
   "metadata": {},
   "source": [
    "## Задания\n",
    "\n",
    "### Задание 1\n",
    "\n",
    "Посчитайте, сколько книг вышло после 1 января 2000 года"
   ]
  },
  {
   "cell_type": "code",
   "execution_count": 5,
   "metadata": {},
   "outputs": [
    {
     "data": {
      "text/html": [
       "<div>\n",
       "<style scoped>\n",
       "    .dataframe tbody tr th:only-of-type {\n",
       "        vertical-align: middle;\n",
       "    }\n",
       "\n",
       "    .dataframe tbody tr th {\n",
       "        vertical-align: top;\n",
       "    }\n",
       "\n",
       "    .dataframe thead th {\n",
       "        text-align: right;\n",
       "    }\n",
       "</style>\n",
       "<table border=\"1\" class=\"dataframe\">\n",
       "  <thead>\n",
       "    <tr style=\"text-align: right;\">\n",
       "      <th></th>\n",
       "      <th>count</th>\n",
       "    </tr>\n",
       "  </thead>\n",
       "  <tbody>\n",
       "    <tr>\n",
       "      <th>0</th>\n",
       "      <td>819</td>\n",
       "    </tr>\n",
       "  </tbody>\n",
       "</table>\n",
       "</div>"
      ],
      "text/plain": [
       "   count\n",
       "0    819"
      ]
     },
     "execution_count": 5,
     "metadata": {},
     "output_type": "execute_result"
    }
   ],
   "source": [
    "task_1 = ''' SELECT COUNT(book_id)\n",
    "               FROM books\n",
    "              WHERE DATE_TRUNC('day', publication_date) > '2000-01-01';\n",
    "         '''\n",
    "sql_result(task_1)"
   ]
  },
  {
   "cell_type": "markdown",
   "metadata": {},
   "source": [
    "<div class=\"alert alert-success\" style=\"border-radius: 15px; box-shadow: 4px 4px 4px; border: 1px solid \" > <b>Комментарии от ревьюера ✔️ : </b> \n",
    "    \n",
    "Всё верно. Это правильный ответ\n",
    "\n",
    "</div>"
   ]
  },
  {
   "cell_type": "markdown",
   "metadata": {},
   "source": [
    "**Вывод:**\n",
    "После 1 января 2000 года вышло 819 книг.\n",
    "\n",
    "---\n",
    "\n",
    "### Задание 2\n",
    "\n",
    "Для каждой книги посчитайте количество обзоров и среднюю оценку\n",
    "\n",
    "Датафреймы: books, ratings, reviews"
   ]
  },
  {
   "cell_type": "code",
   "execution_count": 22,
   "metadata": {},
   "outputs": [
    {
     "data": {
      "text/html": [
       "<div>\n",
       "<style scoped>\n",
       "    .dataframe tbody tr th:only-of-type {\n",
       "        vertical-align: middle;\n",
       "    }\n",
       "\n",
       "    .dataframe tbody tr th {\n",
       "        vertical-align: top;\n",
       "    }\n",
       "\n",
       "    .dataframe thead th {\n",
       "        text-align: right;\n",
       "    }\n",
       "</style>\n",
       "<table border=\"1\" class=\"dataframe\">\n",
       "  <thead>\n",
       "    <tr style=\"text-align: right;\">\n",
       "      <th></th>\n",
       "      <th>book_id</th>\n",
       "      <th>title</th>\n",
       "      <th>count_reviews</th>\n",
       "      <th>avg_rating</th>\n",
       "    </tr>\n",
       "  </thead>\n",
       "  <tbody>\n",
       "    <tr>\n",
       "      <th>0</th>\n",
       "      <td>1</td>\n",
       "      <td>'Salem's Lot</td>\n",
       "      <td>2</td>\n",
       "      <td>3.666667</td>\n",
       "    </tr>\n",
       "    <tr>\n",
       "      <th>1</th>\n",
       "      <td>2</td>\n",
       "      <td>1 000 Places to See Before You Die</td>\n",
       "      <td>1</td>\n",
       "      <td>2.500000</td>\n",
       "    </tr>\n",
       "    <tr>\n",
       "      <th>2</th>\n",
       "      <td>3</td>\n",
       "      <td>13 Little Blue Envelopes (Little Blue Envelope...</td>\n",
       "      <td>3</td>\n",
       "      <td>4.666667</td>\n",
       "    </tr>\n",
       "    <tr>\n",
       "      <th>3</th>\n",
       "      <td>4</td>\n",
       "      <td>1491: New Revelations of the Americas Before C...</td>\n",
       "      <td>2</td>\n",
       "      <td>4.500000</td>\n",
       "    </tr>\n",
       "    <tr>\n",
       "      <th>4</th>\n",
       "      <td>5</td>\n",
       "      <td>1776</td>\n",
       "      <td>4</td>\n",
       "      <td>4.000000</td>\n",
       "    </tr>\n",
       "    <tr>\n",
       "      <th>...</th>\n",
       "      <td>...</td>\n",
       "      <td>...</td>\n",
       "      <td>...</td>\n",
       "      <td>...</td>\n",
       "    </tr>\n",
       "    <tr>\n",
       "      <th>995</th>\n",
       "      <td>996</td>\n",
       "      <td>Wyrd Sisters (Discworld  #6; Witches #2)</td>\n",
       "      <td>3</td>\n",
       "      <td>3.666667</td>\n",
       "    </tr>\n",
       "    <tr>\n",
       "      <th>996</th>\n",
       "      <td>997</td>\n",
       "      <td>Xenocide (Ender's Saga  #3)</td>\n",
       "      <td>3</td>\n",
       "      <td>3.400000</td>\n",
       "    </tr>\n",
       "    <tr>\n",
       "      <th>997</th>\n",
       "      <td>998</td>\n",
       "      <td>Year of Wonders</td>\n",
       "      <td>4</td>\n",
       "      <td>3.200000</td>\n",
       "    </tr>\n",
       "    <tr>\n",
       "      <th>998</th>\n",
       "      <td>999</td>\n",
       "      <td>You Suck (A Love Story  #2)</td>\n",
       "      <td>2</td>\n",
       "      <td>4.500000</td>\n",
       "    </tr>\n",
       "    <tr>\n",
       "      <th>999</th>\n",
       "      <td>1000</td>\n",
       "      <td>Zen and the Art of Motorcycle Maintenance: An ...</td>\n",
       "      <td>4</td>\n",
       "      <td>3.833333</td>\n",
       "    </tr>\n",
       "  </tbody>\n",
       "</table>\n",
       "<p>1000 rows × 4 columns</p>\n",
       "</div>"
      ],
      "text/plain": [
       "     book_id                                              title  \\\n",
       "0          1                                       'Salem's Lot   \n",
       "1          2                 1 000 Places to See Before You Die   \n",
       "2          3  13 Little Blue Envelopes (Little Blue Envelope...   \n",
       "3          4  1491: New Revelations of the Americas Before C...   \n",
       "4          5                                               1776   \n",
       "..       ...                                                ...   \n",
       "995      996           Wyrd Sisters (Discworld  #6; Witches #2)   \n",
       "996      997                        Xenocide (Ender's Saga  #3)   \n",
       "997      998                                    Year of Wonders   \n",
       "998      999                        You Suck (A Love Story  #2)   \n",
       "999     1000  Zen and the Art of Motorcycle Maintenance: An ...   \n",
       "\n",
       "     count_reviews  avg_rating  \n",
       "0                2    3.666667  \n",
       "1                1    2.500000  \n",
       "2                3    4.666667  \n",
       "3                2    4.500000  \n",
       "4                4    4.000000  \n",
       "..             ...         ...  \n",
       "995              3    3.666667  \n",
       "996              3    3.400000  \n",
       "997              4    3.200000  \n",
       "998              2    4.500000  \n",
       "999              4    3.833333  \n",
       "\n",
       "[1000 rows x 4 columns]"
      ]
     },
     "execution_count": 22,
     "metadata": {},
     "output_type": "execute_result"
    }
   ],
   "source": [
    "task_2 = '''WITH\n",
    "            rew_c AS(\n",
    "                SELECT b.book_id, b.title, COUNT(re.review_id) AS count_reviews\n",
    "                FROM reviews as re\n",
    "                FULL OUTER JOIN books AS b ON re.book_id = b.book_id\n",
    "                GROUP BY b.book_id\n",
    "            ),\n",
    "            rat_a AS(\n",
    "                SELECT b.book_id, AVG(ra.rating) as avg_rating\n",
    "                FROM ratings as ra\n",
    "                LEFT JOIN books AS b ON ra.book_id = b.book_id\n",
    "                GROUP BY b.book_id\n",
    "            )\n",
    "            SELECT rew_c.book_id, rew_c.title, rew_c.count_reviews, rat_a.avg_rating\n",
    "            FROM rew_c\n",
    "            LEFT JOIN rat_a ON rew_c.book_id = rat_a.book_id; \n",
    "        '''\n",
    "sql_result(task_2)"
   ]
  },
  {
   "cell_type": "code",
   "execution_count": 15,
   "metadata": {},
   "outputs": [
    {
     "data": {
      "text/html": [
       "<div>\n",
       "<style scoped>\n",
       "    .dataframe tbody tr th:only-of-type {\n",
       "        vertical-align: middle;\n",
       "    }\n",
       "\n",
       "    .dataframe tbody tr th {\n",
       "        vertical-align: top;\n",
       "    }\n",
       "\n",
       "    .dataframe thead th {\n",
       "        text-align: right;\n",
       "    }\n",
       "</style>\n",
       "<table border=\"1\" class=\"dataframe\">\n",
       "  <thead>\n",
       "    <tr style=\"text-align: right;\">\n",
       "      <th></th>\n",
       "      <th>book_id</th>\n",
       "      <th>title</th>\n",
       "      <th>count_reviews</th>\n",
       "      <th>avg_rating</th>\n",
       "    </tr>\n",
       "  </thead>\n",
       "  <tbody>\n",
       "    <tr>\n",
       "      <th>0</th>\n",
       "      <td>1</td>\n",
       "      <td>'Salem's Lot</td>\n",
       "      <td>2</td>\n",
       "      <td>3.666667</td>\n",
       "    </tr>\n",
       "    <tr>\n",
       "      <th>1</th>\n",
       "      <td>2</td>\n",
       "      <td>1 000 Places to See Before You Die</td>\n",
       "      <td>1</td>\n",
       "      <td>2.500000</td>\n",
       "    </tr>\n",
       "    <tr>\n",
       "      <th>2</th>\n",
       "      <td>3</td>\n",
       "      <td>13 Little Blue Envelopes (Little Blue Envelope...</td>\n",
       "      <td>3</td>\n",
       "      <td>4.666667</td>\n",
       "    </tr>\n",
       "    <tr>\n",
       "      <th>3</th>\n",
       "      <td>4</td>\n",
       "      <td>1491: New Revelations of the Americas Before C...</td>\n",
       "      <td>2</td>\n",
       "      <td>4.500000</td>\n",
       "    </tr>\n",
       "    <tr>\n",
       "      <th>4</th>\n",
       "      <td>5</td>\n",
       "      <td>1776</td>\n",
       "      <td>4</td>\n",
       "      <td>4.000000</td>\n",
       "    </tr>\n",
       "    <tr>\n",
       "      <th>...</th>\n",
       "      <td>...</td>\n",
       "      <td>...</td>\n",
       "      <td>...</td>\n",
       "      <td>...</td>\n",
       "    </tr>\n",
       "    <tr>\n",
       "      <th>995</th>\n",
       "      <td>996</td>\n",
       "      <td>Wyrd Sisters (Discworld  #6; Witches #2)</td>\n",
       "      <td>3</td>\n",
       "      <td>3.666667</td>\n",
       "    </tr>\n",
       "    <tr>\n",
       "      <th>996</th>\n",
       "      <td>997</td>\n",
       "      <td>Xenocide (Ender's Saga  #3)</td>\n",
       "      <td>3</td>\n",
       "      <td>3.400000</td>\n",
       "    </tr>\n",
       "    <tr>\n",
       "      <th>997</th>\n",
       "      <td>998</td>\n",
       "      <td>Year of Wonders</td>\n",
       "      <td>4</td>\n",
       "      <td>3.200000</td>\n",
       "    </tr>\n",
       "    <tr>\n",
       "      <th>998</th>\n",
       "      <td>999</td>\n",
       "      <td>You Suck (A Love Story  #2)</td>\n",
       "      <td>2</td>\n",
       "      <td>4.500000</td>\n",
       "    </tr>\n",
       "    <tr>\n",
       "      <th>999</th>\n",
       "      <td>1000</td>\n",
       "      <td>Zen and the Art of Motorcycle Maintenance: An ...</td>\n",
       "      <td>4</td>\n",
       "      <td>3.833333</td>\n",
       "    </tr>\n",
       "  </tbody>\n",
       "</table>\n",
       "<p>1000 rows × 4 columns</p>\n",
       "</div>"
      ],
      "text/plain": [
       "     book_id                                              title  \\\n",
       "0          1                                       'Salem's Lot   \n",
       "1          2                 1 000 Places to See Before You Die   \n",
       "2          3  13 Little Blue Envelopes (Little Blue Envelope...   \n",
       "3          4  1491: New Revelations of the Americas Before C...   \n",
       "4          5                                               1776   \n",
       "..       ...                                                ...   \n",
       "995      996           Wyrd Sisters (Discworld  #6; Witches #2)   \n",
       "996      997                        Xenocide (Ender's Saga  #3)   \n",
       "997      998                                    Year of Wonders   \n",
       "998      999                        You Suck (A Love Story  #2)   \n",
       "999     1000  Zen and the Art of Motorcycle Maintenance: An ...   \n",
       "\n",
       "     count_reviews  avg_rating  \n",
       "0                2    3.666667  \n",
       "1                1    2.500000  \n",
       "2                3    4.666667  \n",
       "3                2    4.500000  \n",
       "4                4    4.000000  \n",
       "..             ...         ...  \n",
       "995              3    3.666667  \n",
       "996              3    3.400000  \n",
       "997              4    3.200000  \n",
       "998              2    4.500000  \n",
       "999              4    3.833333  \n",
       "\n",
       "[1000 rows x 4 columns]"
      ]
     },
     "execution_count": 15,
     "metadata": {},
     "output_type": "execute_result"
    }
   ],
   "source": [
    "task_2 = '''WITH\n",
    "            r_c AS(\n",
    "                SELECT b.book_id, b.title, COUNT(re.review_id) AS count_reviews\n",
    "                FROM reviews as re\n",
    "                FULL OUTER JOIN books AS b ON re.book_id = b.book_id\n",
    "                GROUP BY b.book_id\n",
    "            ),\n",
    "            r_a AS(\n",
    "                SELECT b.book_id, AVG(ra.rating) as avg_rating\n",
    "                FROM ratings as ra\n",
    "                LEFT JOIN books AS b ON ra.book_id = b.book_id\n",
    "                GROUP BY b.book_id\n",
    "            )\n",
    "            SELECT r_c.book_id, r_c.title, r_c.count_reviews, r_a.avg_rating\n",
    "            FROM r_c\n",
    "            LEFT JOIN r_a ON r_c.book_id = r_a.book_id; \n",
    "        '''\n",
    "sql_result(task_2)"
   ]
  },
  {
   "cell_type": "markdown",
   "metadata": {},
   "source": [
    "<div class=\"alert alert-success\" style=\"border-radius: 15px; box-shadow: 4px 4px 4px; border: 1px solid \" > <b>Комментарии от ревьюера v2 ✔️ : </b> \n",
    "\n",
    "Теперь книги представлены в полном объеме)\n",
    "\n",
    "</div>"
   ]
  },
  {
   "cell_type": "markdown",
   "metadata": {},
   "source": [
    "<div class=\"alert alert-danger\" style=\"border-radius: 15px; box-shadow: 4px 4px 4px; border: 1px solid \" > <b>Комментарии от ревьюера ❌ : </b>\n",
    "    \n",
    "<s>Ты вывел только те книги (994 из 1000), у которых есть текстовые отзывы reviews, а ведь у книг без отзывов оценки никуда не делись и их по задаче необходимо вывести.\n",
    "\n",
    "\n",
    "</div>"
   ]
  },
  {
   "cell_type": "markdown",
   "metadata": {},
   "source": [
    "**Вывод:**\n",
    "\n",
    "Для всех книг посчитано количество обзоров и средний рейтинг. У 6 книг отсутствуют обзоры, таким образом, они не попали в расчётную таблицу.\n",
    "\n",
    "---\n",
    "\n",
    "\n",
    "### Задание 3\n",
    "\n",
    "Определите издательство, которое выпустило наибольшее число книг толще 50 страниц — так вы исключите из анализа брошюры\n",
    "\n",
    "Датафреймы: books, publishers"
   ]
  },
  {
   "cell_type": "code",
   "execution_count": 7,
   "metadata": {},
   "outputs": [
    {
     "data": {
      "text/html": [
       "<div>\n",
       "<style scoped>\n",
       "    .dataframe tbody tr th:only-of-type {\n",
       "        vertical-align: middle;\n",
       "    }\n",
       "\n",
       "    .dataframe tbody tr th {\n",
       "        vertical-align: top;\n",
       "    }\n",
       "\n",
       "    .dataframe thead th {\n",
       "        text-align: right;\n",
       "    }\n",
       "</style>\n",
       "<table border=\"1\" class=\"dataframe\">\n",
       "  <thead>\n",
       "    <tr style=\"text-align: right;\">\n",
       "      <th></th>\n",
       "      <th>publisher</th>\n",
       "      <th>count</th>\n",
       "    </tr>\n",
       "  </thead>\n",
       "  <tbody>\n",
       "    <tr>\n",
       "      <th>0</th>\n",
       "      <td>Penguin Books</td>\n",
       "      <td>42</td>\n",
       "    </tr>\n",
       "  </tbody>\n",
       "</table>\n",
       "</div>"
      ],
      "text/plain": [
       "       publisher  count\n",
       "0  Penguin Books     42"
      ]
     },
     "execution_count": 7,
     "metadata": {},
     "output_type": "execute_result"
    }
   ],
   "source": [
    "task_3 = ''' SELECT p.publisher, COUNT(b.title)\n",
    "             FROM books AS b\n",
    "             JOIN publishers AS p ON b.publisher_id = p.publisher_id\n",
    "             WHERE b.num_pages > 50\n",
    "             GROUP BY p.publisher\n",
    "             ORDER BY count DESC\n",
    "             LIMIT 1;\n",
    "         '''\n",
    "sql_result(task_3)"
   ]
  },
  {
   "cell_type": "markdown",
   "metadata": {},
   "source": [
    "<div class=\"alert alert-success\" style=\"border-radius: 15px; box-shadow: 4px 4px 4px; border: 1px solid \" > <b>Комментарии от ревьюера ✔️ : </b> \n",
    "    \n",
    "\n",
    "Согласен с результатом. Действительно данное издательство является лидером по выпущенным книгам\n",
    "\n",
    "</div>"
   ]
  },
  {
   "cell_type": "markdown",
   "metadata": {},
   "source": [
    "**Вывод:**\n",
    "\n",
    "Penguin Books выпустило самое большое число книг, толщиной более 50 страниц.\n",
    "\n",
    "---\n",
    "\n",
    "\n",
    "### Задание 4\n",
    "\n",
    "Определите автора с самой высокой средней оценкой книг — учитывайте только книги с 50 и более оценками\n",
    "\n",
    "Датафреймы: books, authors, ratings"
   ]
  },
  {
   "cell_type": "code",
   "execution_count": 8,
   "metadata": {},
   "outputs": [
    {
     "data": {
      "text/html": [
       "<div>\n",
       "<style scoped>\n",
       "    .dataframe tbody tr th:only-of-type {\n",
       "        vertical-align: middle;\n",
       "    }\n",
       "\n",
       "    .dataframe tbody tr th {\n",
       "        vertical-align: top;\n",
       "    }\n",
       "\n",
       "    .dataframe thead th {\n",
       "        text-align: right;\n",
       "    }\n",
       "</style>\n",
       "<table border=\"1\" class=\"dataframe\">\n",
       "  <thead>\n",
       "    <tr style=\"text-align: right;\">\n",
       "      <th></th>\n",
       "      <th>author</th>\n",
       "      <th>rating_avg</th>\n",
       "    </tr>\n",
       "  </thead>\n",
       "  <tbody>\n",
       "    <tr>\n",
       "      <th>0</th>\n",
       "      <td>J.K. Rowling/Mary GrandPré</td>\n",
       "      <td>4.287097</td>\n",
       "    </tr>\n",
       "  </tbody>\n",
       "</table>\n",
       "</div>"
      ],
      "text/plain": [
       "                       author  rating_avg\n",
       "0  J.K. Rowling/Mary GrandPré    4.287097"
      ]
     },
     "execution_count": 8,
     "metadata": {},
     "output_type": "execute_result"
    }
   ],
   "source": [
    "task_4 = ''' SELECT a.author, AVG(r.rating) as rating_avg\n",
    "             FROM books AS b\n",
    "             JOIN ratings AS r ON b.book_id = r.book_id\n",
    "             JOIN authors AS a ON b.author_id = a.author_id\n",
    "             WHERE b.book_id IN (SELECT book_id\n",
    "                                 FROM ratings\n",
    "                                 GROUP BY book_id\n",
    "                                 HAVING COUNT(rating_id) > 50)\n",
    "             GROUP BY a.author\n",
    "             ORDER BY rating_avg DESC\n",
    "             LIMIT 1;\n",
    "         '''\n",
    "sql_result(task_4)"
   ]
  },
  {
   "cell_type": "markdown",
   "metadata": {},
   "source": [
    "<div class=\"alert alert-success\" style=\"border-radius: 15px; box-shadow: 4px 4px 4px; border: 1px solid \" > <b>Комментарии от ревьюера ✔️ : </b> \n",
    "    \n",
    "\n",
    "И здесь ты не ошибся. Ты верно отфильтровал книги и рассчитал средний рейтинг авторов\n",
    "\n",
    "</div>"
   ]
  },
  {
   "cell_type": "markdown",
   "metadata": {},
   "source": [
    "**Вывод:**\n",
    "\n",
    "Среди авторов книг с более 50-ю оценками лидируют Джоан Роулинг и Мэри Гранд.\n",
    "\n",
    "---\n",
    "\n",
    "\n",
    "### Задание 5\n",
    "\n",
    "Посчитайте среднее количество обзоров от пользователей, которые поставили больше 50 оценок\n",
    "\n",
    "Датафреймы: books, ratings, reviews"
   ]
  },
  {
   "cell_type": "code",
   "execution_count": 9,
   "metadata": {},
   "outputs": [
    {
     "data": {
      "text/html": [
       "<div>\n",
       "<style scoped>\n",
       "    .dataframe tbody tr th:only-of-type {\n",
       "        vertical-align: middle;\n",
       "    }\n",
       "\n",
       "    .dataframe tbody tr th {\n",
       "        vertical-align: top;\n",
       "    }\n",
       "\n",
       "    .dataframe thead th {\n",
       "        text-align: right;\n",
       "    }\n",
       "</style>\n",
       "<table border=\"1\" class=\"dataframe\">\n",
       "  <thead>\n",
       "    <tr style=\"text-align: right;\">\n",
       "      <th></th>\n",
       "      <th>user_reviews_avg</th>\n",
       "    </tr>\n",
       "  </thead>\n",
       "  <tbody>\n",
       "    <tr>\n",
       "      <th>0</th>\n",
       "      <td>24.333333</td>\n",
       "    </tr>\n",
       "  </tbody>\n",
       "</table>\n",
       "</div>"
      ],
      "text/plain": [
       "   user_reviews_avg\n",
       "0         24.333333"
      ]
     },
     "execution_count": 9,
     "metadata": {},
     "output_type": "execute_result"
    }
   ],
   "source": [
    "task_5 = ''' WITH\n",
    "            rat AS(\n",
    "                    SELECT username, COUNT(rat.rating) as rating_count\n",
    "                    FROM ratings as rat\n",
    "                    GROUP BY username\n",
    "                    HAVING COUNT(rat.rating) > 50\n",
    "            ),\n",
    "            rew AS(\n",
    "                    SELECT username, COUNT(review_id) AS review_count\n",
    "                    FROM reviews as rew\n",
    "                    GROUP BY username\n",
    "            )\n",
    "            SELECT AVG(rew.review_count) AS user_reviews_avg\n",
    "            FROM rat\n",
    "            LEFT JOIN rew ON rat.username = rew.username;\n",
    "         '''\n",
    "sql_result(task_5)"
   ]
  },
  {
   "cell_type": "markdown",
   "metadata": {},
   "source": [
    "<div class=\"alert alert-success\" style=\"border-radius: 15px; box-shadow: 4px 4px 4px; border: 1px solid \" > <b>Комментарии от ревьюера ✔️ : </b> \n",
    "    \n",
    "\n",
    "И это .. правильный ответ! Ты корректно отобрал пользователей и рассчитал их показатели.\n",
    "\n",
    "\n",
    "В итоге, 4\\5 с первой попытки - это достойный результат)\n",
    "\n",
    "</div>"
   ]
  },
  {
   "cell_type": "markdown",
   "metadata": {},
   "source": [
    "**Вывод:**\n",
    "\n",
    "В среднем активные пользователи (те, кто поставил более 50 оценок) написали порядка 24 обзоров."
   ]
  }
 ],
 "metadata": {
  "ExecuteTimeLog": [
   {
    "duration": 562,
    "start_time": "2022-11-10T20:08:26.753Z"
   },
   {
    "duration": 5138,
    "start_time": "2022-11-10T20:08:32.226Z"
   },
   {
    "duration": 4,
    "start_time": "2022-11-10T20:08:48.090Z"
   },
   {
    "duration": 690,
    "start_time": "2022-11-10T20:08:55.236Z"
   },
   {
    "duration": 74,
    "start_time": "2022-11-10T20:09:18.165Z"
   },
   {
    "duration": 106,
    "start_time": "2022-11-10T20:09:35.049Z"
   },
   {
    "duration": 74,
    "start_time": "2022-11-10T20:09:54.321Z"
   },
   {
    "duration": 89,
    "start_time": "2022-11-10T20:10:12.597Z"
   },
   {
    "duration": 74,
    "start_time": "2022-11-10T20:10:28.952Z"
   },
   {
    "duration": 543,
    "start_time": "2022-11-10T20:10:46.701Z"
   },
   {
    "duration": 6182,
    "start_time": "2022-11-10T20:10:47.246Z"
   },
   {
    "duration": 3,
    "start_time": "2022-11-10T20:10:53.430Z"
   },
   {
    "duration": 676,
    "start_time": "2022-11-10T20:10:53.435Z"
   },
   {
    "duration": 79,
    "start_time": "2022-11-10T20:10:54.113Z"
   },
   {
    "duration": 84,
    "start_time": "2022-11-10T20:10:54.194Z"
   },
   {
    "duration": 77,
    "start_time": "2022-11-10T20:10:54.280Z"
   },
   {
    "duration": 86,
    "start_time": "2022-11-10T20:10:54.358Z"
   },
   {
    "duration": 75,
    "start_time": "2022-11-10T20:10:54.445Z"
   },
   {
    "duration": 69,
    "start_time": "2022-11-10T20:11:16.793Z"
   },
   {
    "duration": 4,
    "start_time": "2022-11-10T20:11:18.380Z"
   },
   {
    "duration": 448,
    "start_time": "2022-11-10T20:11:18.698Z"
   },
   {
    "duration": 71,
    "start_time": "2022-11-10T20:11:22.690Z"
   },
   {
    "duration": 118,
    "start_time": "2022-11-10T20:11:25.351Z"
   },
   {
    "duration": 81,
    "start_time": "2022-11-10T20:11:30.691Z"
   },
   {
    "duration": 77,
    "start_time": "2022-11-10T20:11:33.794Z"
   },
   {
    "duration": 75,
    "start_time": "2022-11-10T20:11:36.430Z"
   },
   {
    "duration": 543,
    "start_time": "2022-11-10T20:11:42.013Z"
   },
   {
    "duration": 6949,
    "start_time": "2022-11-10T20:11:42.559Z"
   },
   {
    "duration": 3,
    "start_time": "2022-11-10T20:11:49.509Z"
   },
   {
    "duration": 705,
    "start_time": "2022-11-10T20:11:49.514Z"
   },
   {
    "duration": 85,
    "start_time": "2022-11-10T20:11:50.221Z"
   },
   {
    "duration": 97,
    "start_time": "2022-11-10T20:11:50.307Z"
   },
   {
    "duration": 77,
    "start_time": "2022-11-10T20:11:50.405Z"
   },
   {
    "duration": 80,
    "start_time": "2022-11-10T20:11:50.486Z"
   },
   {
    "duration": 86,
    "start_time": "2022-11-10T20:11:50.568Z"
   },
   {
    "duration": 528,
    "start_time": "2022-11-11T07:03:40.836Z"
   },
   {
    "duration": 8698,
    "start_time": "2022-11-11T07:03:41.365Z"
   },
   {
    "duration": 5,
    "start_time": "2022-11-11T07:03:50.064Z"
   },
   {
    "duration": 652,
    "start_time": "2022-11-11T07:03:50.071Z"
   },
   {
    "duration": 74,
    "start_time": "2022-11-11T07:03:50.724Z"
   },
   {
    "duration": 90,
    "start_time": "2022-11-11T07:03:50.799Z"
   },
   {
    "duration": 76,
    "start_time": "2022-11-11T07:03:50.890Z"
   },
   {
    "duration": 83,
    "start_time": "2022-11-11T07:03:50.967Z"
   },
   {
    "duration": 76,
    "start_time": "2022-11-11T07:03:51.052Z"
   },
   {
    "duration": 79,
    "start_time": "2022-11-11T07:05:05.085Z"
   },
   {
    "duration": 79,
    "start_time": "2022-11-11T07:05:08.900Z"
   },
   {
    "duration": 486,
    "start_time": "2022-11-11T09:07:36.238Z"
   },
   {
    "duration": 7626,
    "start_time": "2022-11-11T09:07:36.726Z"
   },
   {
    "duration": 3,
    "start_time": "2022-11-11T09:07:44.354Z"
   },
   {
    "duration": 117,
    "start_time": "2022-11-11T09:07:44.359Z"
   },
   {
    "duration": 10,
    "start_time": "2022-11-11T09:07:44.478Z"
   },
   {
    "duration": 26,
    "start_time": "2022-11-11T09:07:44.490Z"
   },
   {
    "duration": 11,
    "start_time": "2022-11-11T09:07:44.518Z"
   },
   {
    "duration": 13,
    "start_time": "2022-11-11T09:07:44.531Z"
   },
   {
    "duration": 12,
    "start_time": "2022-11-11T09:07:44.545Z"
   },
   {
    "duration": 157,
    "start_time": "2022-11-11T09:11:06.287Z"
   },
   {
    "duration": 25,
    "start_time": "2022-11-11T09:11:16.116Z"
   },
   {
    "duration": 26,
    "start_time": "2022-11-11T09:16:42.206Z"
   },
   {
    "duration": 24,
    "start_time": "2022-11-11T09:19:23.827Z"
   },
   {
    "duration": 26,
    "start_time": "2022-11-11T09:23:05.715Z"
   },
   {
    "duration": 23,
    "start_time": "2022-11-11T09:24:01.960Z"
   },
   {
    "duration": 113,
    "start_time": "2022-11-11T09:24:15.402Z"
   },
   {
    "duration": 23,
    "start_time": "2022-11-11T09:24:25.337Z"
   },
   {
    "duration": 103,
    "start_time": "2022-11-11T09:24:56.634Z"
   },
   {
    "duration": 95,
    "start_time": "2022-11-11T09:25:01.533Z"
   },
   {
    "duration": 18,
    "start_time": "2022-11-11T09:25:18.140Z"
   },
   {
    "duration": 24,
    "start_time": "2022-11-11T09:25:37.447Z"
   },
   {
    "duration": 27,
    "start_time": "2022-11-11T09:30:47.550Z"
   }
  ],
  "kernelspec": {
   "display_name": "Python 3 (ipykernel)",
   "language": "python",
   "name": "python3"
  },
  "language_info": {
   "codemirror_mode": {
    "name": "ipython",
    "version": 3
   },
   "file_extension": ".py",
   "mimetype": "text/x-python",
   "name": "python",
   "nbconvert_exporter": "python",
   "pygments_lexer": "ipython3",
   "version": "3.9.13"
  },
  "nbTranslate": {
   "displayLangs": [
    "en",
    "ru"
   ],
   "hotkey": "alt-t",
   "langInMainMenu": true,
   "sourceLang": "ru",
   "targetLang": "en",
   "useGoogleTranslate": true
  },
  "toc": {
   "base_numbering": 1,
   "nav_menu": {},
   "number_sections": true,
   "sideBar": true,
   "skip_h1_title": true,
   "title_cell": "Table of Contents",
   "title_sidebar": "Contents",
   "toc_cell": false,
   "toc_position": {},
   "toc_section_display": true,
   "toc_window_display": true
  },
  "varInspector": {
   "cols": {
    "lenName": 16,
    "lenType": 16,
    "lenVar": 40
   },
   "kernels_config": {
    "python": {
     "delete_cmd_postfix": "",
     "delete_cmd_prefix": "del ",
     "library": "var_list.py",
     "varRefreshCmd": "print(var_dic_list())"
    },
    "r": {
     "delete_cmd_postfix": ") ",
     "delete_cmd_prefix": "rm(",
     "library": "var_list.r",
     "varRefreshCmd": "cat(var_dic_list()) "
    }
   },
   "types_to_exclude": [
    "module",
    "function",
    "builtin_function_or_method",
    "instance",
    "_Feature"
   ],
   "window_display": false
  }
 },
 "nbformat": 4,
 "nbformat_minor": 2
}
