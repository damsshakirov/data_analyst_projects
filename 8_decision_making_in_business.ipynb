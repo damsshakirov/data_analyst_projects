{
 "cells": [
  {
   "cell_type": "markdown",
   "metadata": {},
   "source": [
    "Привет Дамир :) Меня зовут Семенюк Артём, я буду проверять твой проект. Предлагаю общаться на \"ты\",\n",
    "если так не очень комфортно, то перейдём на \"Вы\". \n",
    "Несколько слов о ревью. Оно может содержать 3 типа комментариев, различающихся цветом:\n",
    "\n",
    "<div class=\"alert alert-success\">\n",
    "✅Зелёный: хорошие решения и верные выводы, которые могут быть применены в будущем, интересные подходы\n",
    "</div>\n",
    "\n",
    "\n",
    "<div class=\"alert alert-warning\">\n",
    "⚠️Жёлтый: не критические замечания тех моментов, которые можно реализовать по-другому или оптимировать (исправлять их сейчас не обязательно, но стоит прокомментировать) \n",
    "</div>\n",
    "\n",
    "\n",
    "<div class=\"alert alert-danger\">\n",
    "❌Красный: аспекты заданий,фтребующие твоего непосредственного внимания (при их исправлении\n",
    "проект будет принят)\n",
    "</div>\n",
    "\n",
    "\n",
    "Предлагаю работать над проектом в диалоге. Если что-то меняешь в проекте следуя моим рекомендациям, то\n",
    "выделяй, пожалуйста, свои комментарии, отличным от моих цветом. И так же большая просьба\n",
    "не изменять и не удалять мои комментарии. Так будет проще отслеживать изменения в проекте\n",
    "и это ускорит повторную проверку :)"
   ]
  },
  {
   "cell_type": "markdown",
   "metadata": {},
   "source": [
    "# Приоритизация гипотез и Анализ А/В-теста"
   ]
  },
  {
   "cell_type": "markdown",
   "metadata": {},
   "source": [
    "Я — аналитик крупного интернет-магазина. Вместе с отделом маркетинга мы подготовили список гипотез для увеличения выручки.\n",
    "Приоритизируйте гипотезы, запустите A/B-тест и проанализируйте результаты.\n",
    "\n",
    "**Часть 1. Приоритизация гипотез**\n",
    "\n",
    "В файле `/datasets/hypothesis.csv` 9 гипотез по увеличению выручки интернет-магазина с указанными параметрами Reach, Impact, Confidence, Effort.\n",
    "\n",
    "**Задача**\n",
    "\n",
    "1. Применить фреймворк ICE для приоритизации гипотез. Отсортировать их по убыванию приоритета.\n",
    "2. Применить фреймворк RICE для приоритизации гипотез. Отсортировать их по убыванию приоритета.\n",
    "3. Указать, как изменилась приоритизация гипотез при применении RICE вместо ICE. Объяснить, почему так произошло.\n",
    "\n",
    "**Часть 2. Анализ A/B-теста**\n",
    "\n",
    "Я провёл A/B-тест и получил результаты, которые описаны в файлах `/datasets/orders.csv` и `/datasets/visitors.csv`.\n",
    "\n",
    "**Задача**\n",
    "\n",
    "Проанализировать A/B-тест:\n",
    "1. Построить график кумулятивной выручки по группам. Сделать выводы и предположения.\n",
    "2. Построить график кумулятивного среднего чека по группам. Сделать выводы и предположения.\n",
    "3. Построить график относительного изменения кумулятивного среднего чека группы B к группе A. Сделать выводы и предположения.\n",
    "4. Построить график кумулятивной конверсии по группам. Сделать выводы и предположения.\n",
    "5. Построить график относительного изменения кумулятивной конверсии группы B к группе A. Сделать выводы и предположения.\n",
    "6. Построить точечный график количества заказов по пользователям. Сделать выводы и предположения.\n",
    "7. Посчитать 95-й и 99-й перцентили количества заказов на пользователя. Выбрать границу для определения аномальных пользователей.\n",
    "8. Построить точечный график стоимостей заказов. Сделать выводы и предположения.\n",
    "9. Посчитать 95-й и 99-й перцентили стоимости заказов. Выбрать границу для определения аномальных заказов.\n",
    "10. Посчитать статистическую значимость различий в конверсии между группами по «сырым» данным. Сделать выводы и предположения.\n",
    "11. Посчитать статистическую значимость различий в среднем чеке заказа между группами по «сырым» данным. Сделать выводы и предположения.\n",
    "12. Посчитать статистическую значимость различий в конверсии между группами по «очищенным» данным. Сделать выводы и предположения.\n",
    "13. Посчитать статистическую значимость различий в среднем чеке заказа между группами по «очищенным» данным. Сделать выводы и предположения.\n",
    "\n",
    "**Цель:** Принять решение по результатам теста и объясните его. \n",
    "Варианты решений: \n",
    "1. Остановить тест, зафиксировать победу одной из групп. \n",
    "2. Остановить тест, зафиксировать отсутствие различий между группами. \n",
    "3. Продолжить тест."
   ]
  },
  {
   "cell_type": "markdown",
   "metadata": {},
   "source": [
    "## Импортирование библиотек и загрузка данных\n",
    "<a id='section_id'></a>"
   ]
  },
  {
   "cell_type": "code",
   "execution_count": 1,
   "metadata": {},
   "outputs": [],
   "source": [
    "import pandas as pd\n",
    "import numpy as np\n",
    "import matplotlib.pyplot as plt\n",
    "from datetime import datetime, timedelta\n",
    "import datetime as dt\n",
    "import seaborn as sns\n",
    "import scipy.stats as stats\n",
    "from scipy import stats as st\n",
    "import math\n",
    "import copy"
   ]
  },
  {
   "cell_type": "code",
   "execution_count": 2,
   "metadata": {},
   "outputs": [],
   "source": [
    "# форматирую вывод графиков\n",
    "sns.set(rc={'figure.figsize':(10, 4)})\n",
    "#xticks(rotation=15)\n",
    "pd.options.display.max_colwidth = 100"
   ]
  },
  {
   "cell_type": "code",
   "execution_count": 3,
   "metadata": {},
   "outputs": [],
   "source": [
    "# Чтение исходных данных\n",
    "hypothesis, orders_data, visitors = (\n",
    "    pd.read_csv('https://code.s3.yandex.net/datasets/hypothesis.csv'),\n",
    "    pd.read_csv('https://code.s3.yandex.net/datasets/orders.csv'),\n",
    "    pd.read_csv('https://code.s3.yandex.net/datasets/visitors.csv'),\n",
    ")"
   ]
  },
  {
   "cell_type": "markdown",
   "metadata": {},
   "source": [
    "### Обзор данных\n",
    "<a id='section_id1'></a>\n",
    "\n",
    "#### `hypothesis`"
   ]
  },
  {
   "cell_type": "code",
   "execution_count": 4,
   "metadata": {
    "scrolled": true
   },
   "outputs": [
    {
     "data": {
      "text/html": [
       "<div>\n",
       "<style scoped>\n",
       "    .dataframe tbody tr th:only-of-type {\n",
       "        vertical-align: middle;\n",
       "    }\n",
       "\n",
       "    .dataframe tbody tr th {\n",
       "        vertical-align: top;\n",
       "    }\n",
       "\n",
       "    .dataframe thead th {\n",
       "        text-align: right;\n",
       "    }\n",
       "</style>\n",
       "<table border=\"1\" class=\"dataframe\">\n",
       "  <thead>\n",
       "    <tr style=\"text-align: right;\">\n",
       "      <th></th>\n",
       "      <th>Hypothesis</th>\n",
       "      <th>Reach</th>\n",
       "      <th>Impact</th>\n",
       "      <th>Confidence</th>\n",
       "      <th>Efforts</th>\n",
       "    </tr>\n",
       "  </thead>\n",
       "  <tbody>\n",
       "    <tr>\n",
       "      <th>0</th>\n",
       "      <td>Добавить два новых канала привлечения трафика, что позволит привлекать на 30% больше пользователей</td>\n",
       "      <td>3</td>\n",
       "      <td>10</td>\n",
       "      <td>8</td>\n",
       "      <td>6</td>\n",
       "    </tr>\n",
       "    <tr>\n",
       "      <th>1</th>\n",
       "      <td>Запустить собственную службу доставки, что сократит срок доставки заказов</td>\n",
       "      <td>2</td>\n",
       "      <td>5</td>\n",
       "      <td>4</td>\n",
       "      <td>10</td>\n",
       "    </tr>\n",
       "    <tr>\n",
       "      <th>2</th>\n",
       "      <td>Добавить блоки рекомендаций товаров на сайт интернет магазина, чтобы повысить конверсию и средни...</td>\n",
       "      <td>8</td>\n",
       "      <td>3</td>\n",
       "      <td>7</td>\n",
       "      <td>3</td>\n",
       "    </tr>\n",
       "    <tr>\n",
       "      <th>3</th>\n",
       "      <td>Изменить структура категорий, что увеличит конверсию, т.к. пользователи быстрее найдут нужный товар</td>\n",
       "      <td>8</td>\n",
       "      <td>3</td>\n",
       "      <td>3</td>\n",
       "      <td>8</td>\n",
       "    </tr>\n",
       "    <tr>\n",
       "      <th>4</th>\n",
       "      <td>Изменить цвет фона главной страницы, чтобы увеличить вовлеченность пользователей</td>\n",
       "      <td>3</td>\n",
       "      <td>1</td>\n",
       "      <td>1</td>\n",
       "      <td>1</td>\n",
       "    </tr>\n",
       "    <tr>\n",
       "      <th>5</th>\n",
       "      <td>Добавить страницу отзывов клиентов о магазине, что позволит увеличить количество заказов</td>\n",
       "      <td>3</td>\n",
       "      <td>2</td>\n",
       "      <td>2</td>\n",
       "      <td>3</td>\n",
       "    </tr>\n",
       "    <tr>\n",
       "      <th>6</th>\n",
       "      <td>Показать на главной странице баннеры с актуальными акциями и распродажами, чтобы увеличить конве...</td>\n",
       "      <td>5</td>\n",
       "      <td>3</td>\n",
       "      <td>8</td>\n",
       "      <td>3</td>\n",
       "    </tr>\n",
       "    <tr>\n",
       "      <th>7</th>\n",
       "      <td>Добавить форму подписки на все основные страницы, чтобы собрать базу клиентов для email-рассылок</td>\n",
       "      <td>10</td>\n",
       "      <td>7</td>\n",
       "      <td>8</td>\n",
       "      <td>5</td>\n",
       "    </tr>\n",
       "    <tr>\n",
       "      <th>8</th>\n",
       "      <td>Запустить акцию, дающую скидку на товар в день рождения</td>\n",
       "      <td>1</td>\n",
       "      <td>9</td>\n",
       "      <td>9</td>\n",
       "      <td>5</td>\n",
       "    </tr>\n",
       "  </tbody>\n",
       "</table>\n",
       "</div>"
      ],
      "text/plain": [
       "                                                                                            Hypothesis  \\\n",
       "0   Добавить два новых канала привлечения трафика, что позволит привлекать на 30% больше пользователей   \n",
       "1                            Запустить собственную службу доставки, что сократит срок доставки заказов   \n",
       "2  Добавить блоки рекомендаций товаров на сайт интернет магазина, чтобы повысить конверсию и средни...   \n",
       "3  Изменить структура категорий, что увеличит конверсию, т.к. пользователи быстрее найдут нужный товар   \n",
       "4                     Изменить цвет фона главной страницы, чтобы увеличить вовлеченность пользователей   \n",
       "5             Добавить страницу отзывов клиентов о магазине, что позволит увеличить количество заказов   \n",
       "6  Показать на главной странице баннеры с актуальными акциями и распродажами, чтобы увеличить конве...   \n",
       "7     Добавить форму подписки на все основные страницы, чтобы собрать базу клиентов для email-рассылок   \n",
       "8                                              Запустить акцию, дающую скидку на товар в день рождения   \n",
       "\n",
       "   Reach  Impact  Confidence  Efforts  \n",
       "0      3      10           8        6  \n",
       "1      2       5           4       10  \n",
       "2      8       3           7        3  \n",
       "3      8       3           3        8  \n",
       "4      3       1           1        1  \n",
       "5      3       2           2        3  \n",
       "6      5       3           8        3  \n",
       "7     10       7           8        5  \n",
       "8      1       9           9        5  "
      ]
     },
     "execution_count": 4,
     "metadata": {},
     "output_type": "execute_result"
    }
   ],
   "source": [
    "hypothesis"
   ]
  },
  {
   "cell_type": "code",
   "execution_count": 5,
   "metadata": {},
   "outputs": [
    {
     "name": "stdout",
     "output_type": "stream",
     "text": [
      "<class 'pandas.core.frame.DataFrame'>\n",
      "RangeIndex: 9 entries, 0 to 8\n",
      "Data columns (total 5 columns):\n",
      " #   Column      Non-Null Count  Dtype \n",
      "---  ------      --------------  ----- \n",
      " 0   Hypothesis  9 non-null      object\n",
      " 1   Reach       9 non-null      int64 \n",
      " 2   Impact      9 non-null      int64 \n",
      " 3   Confidence  9 non-null      int64 \n",
      " 4   Efforts     9 non-null      int64 \n",
      "dtypes: int64(4), object(1)\n",
      "memory usage: 488.0+ bytes\n"
     ]
    }
   ],
   "source": [
    "hypothesis.info()"
   ]
  },
  {
   "cell_type": "markdown",
   "metadata": {},
   "source": [
    "В датафрейме находятся 9 гипотез с характеристиками для применения фреймворков `ICE` и `RICE`"
   ]
  },
  {
   "cell_type": "markdown",
   "metadata": {},
   "source": [
    "#### `orders`"
   ]
  },
  {
   "cell_type": "code",
   "execution_count": 6,
   "metadata": {},
   "outputs": [
    {
     "data": {
      "text/html": [
       "<div>\n",
       "<style scoped>\n",
       "    .dataframe tbody tr th:only-of-type {\n",
       "        vertical-align: middle;\n",
       "    }\n",
       "\n",
       "    .dataframe tbody tr th {\n",
       "        vertical-align: top;\n",
       "    }\n",
       "\n",
       "    .dataframe thead th {\n",
       "        text-align: right;\n",
       "    }\n",
       "</style>\n",
       "<table border=\"1\" class=\"dataframe\">\n",
       "  <thead>\n",
       "    <tr style=\"text-align: right;\">\n",
       "      <th></th>\n",
       "      <th>transactionId</th>\n",
       "      <th>visitorId</th>\n",
       "      <th>date</th>\n",
       "      <th>revenue</th>\n",
       "      <th>group</th>\n",
       "    </tr>\n",
       "  </thead>\n",
       "  <tbody>\n",
       "    <tr>\n",
       "      <th>0</th>\n",
       "      <td>3667963787</td>\n",
       "      <td>3312258926</td>\n",
       "      <td>2019-08-15</td>\n",
       "      <td>1650</td>\n",
       "      <td>B</td>\n",
       "    </tr>\n",
       "    <tr>\n",
       "      <th>1</th>\n",
       "      <td>2804400009</td>\n",
       "      <td>3642806036</td>\n",
       "      <td>2019-08-15</td>\n",
       "      <td>730</td>\n",
       "      <td>B</td>\n",
       "    </tr>\n",
       "    <tr>\n",
       "      <th>2</th>\n",
       "      <td>2961555356</td>\n",
       "      <td>4069496402</td>\n",
       "      <td>2019-08-15</td>\n",
       "      <td>400</td>\n",
       "      <td>A</td>\n",
       "    </tr>\n",
       "    <tr>\n",
       "      <th>3</th>\n",
       "      <td>3797467345</td>\n",
       "      <td>1196621759</td>\n",
       "      <td>2019-08-15</td>\n",
       "      <td>9759</td>\n",
       "      <td>B</td>\n",
       "    </tr>\n",
       "    <tr>\n",
       "      <th>4</th>\n",
       "      <td>2282983706</td>\n",
       "      <td>2322279887</td>\n",
       "      <td>2019-08-15</td>\n",
       "      <td>2308</td>\n",
       "      <td>B</td>\n",
       "    </tr>\n",
       "  </tbody>\n",
       "</table>\n",
       "</div>"
      ],
      "text/plain": [
       "   transactionId   visitorId        date  revenue group\n",
       "0     3667963787  3312258926  2019-08-15     1650     B\n",
       "1     2804400009  3642806036  2019-08-15      730     B\n",
       "2     2961555356  4069496402  2019-08-15      400     A\n",
       "3     3797467345  1196621759  2019-08-15     9759     B\n",
       "4     2282983706  2322279887  2019-08-15     2308     B"
      ]
     },
     "execution_count": 6,
     "metadata": {},
     "output_type": "execute_result"
    }
   ],
   "source": [
    "orders_data.head(5)"
   ]
  },
  {
   "cell_type": "code",
   "execution_count": 7,
   "metadata": {},
   "outputs": [
    {
     "data": {
      "text/html": [
       "<div>\n",
       "<style scoped>\n",
       "    .dataframe tbody tr th:only-of-type {\n",
       "        vertical-align: middle;\n",
       "    }\n",
       "\n",
       "    .dataframe tbody tr th {\n",
       "        vertical-align: top;\n",
       "    }\n",
       "\n",
       "    .dataframe thead th {\n",
       "        text-align: right;\n",
       "    }\n",
       "</style>\n",
       "<table border=\"1\" class=\"dataframe\">\n",
       "  <thead>\n",
       "    <tr style=\"text-align: right;\">\n",
       "      <th></th>\n",
       "      <th>transactionId</th>\n",
       "      <th>visitorId</th>\n",
       "      <th>date</th>\n",
       "      <th>revenue</th>\n",
       "      <th>group</th>\n",
       "    </tr>\n",
       "  </thead>\n",
       "  <tbody>\n",
       "    <tr>\n",
       "      <th>1192</th>\n",
       "      <td>2662137336</td>\n",
       "      <td>3733762160</td>\n",
       "      <td>2019-08-14</td>\n",
       "      <td>6490</td>\n",
       "      <td>B</td>\n",
       "    </tr>\n",
       "    <tr>\n",
       "      <th>1193</th>\n",
       "      <td>2203539145</td>\n",
       "      <td>370388673</td>\n",
       "      <td>2019-08-14</td>\n",
       "      <td>3190</td>\n",
       "      <td>A</td>\n",
       "    </tr>\n",
       "    <tr>\n",
       "      <th>1194</th>\n",
       "      <td>1807773912</td>\n",
       "      <td>573423106</td>\n",
       "      <td>2019-08-14</td>\n",
       "      <td>10550</td>\n",
       "      <td>A</td>\n",
       "    </tr>\n",
       "    <tr>\n",
       "      <th>1195</th>\n",
       "      <td>1947021204</td>\n",
       "      <td>1614305549</td>\n",
       "      <td>2019-08-14</td>\n",
       "      <td>100</td>\n",
       "      <td>A</td>\n",
       "    </tr>\n",
       "    <tr>\n",
       "      <th>1196</th>\n",
       "      <td>3936777065</td>\n",
       "      <td>2108080724</td>\n",
       "      <td>2019-08-15</td>\n",
       "      <td>202740</td>\n",
       "      <td>B</td>\n",
       "    </tr>\n",
       "  </tbody>\n",
       "</table>\n",
       "</div>"
      ],
      "text/plain": [
       "      transactionId   visitorId        date  revenue group\n",
       "1192     2662137336  3733762160  2019-08-14     6490     B\n",
       "1193     2203539145   370388673  2019-08-14     3190     A\n",
       "1194     1807773912   573423106  2019-08-14    10550     A\n",
       "1195     1947021204  1614305549  2019-08-14      100     A\n",
       "1196     3936777065  2108080724  2019-08-15   202740     B"
      ]
     },
     "execution_count": 7,
     "metadata": {},
     "output_type": "execute_result"
    }
   ],
   "source": [
    "orders_data.tail(5)"
   ]
  },
  {
   "cell_type": "code",
   "execution_count": 8,
   "metadata": {},
   "outputs": [
    {
     "name": "stdout",
     "output_type": "stream",
     "text": [
      "<class 'pandas.core.frame.DataFrame'>\n",
      "RangeIndex: 1197 entries, 0 to 1196\n",
      "Data columns (total 5 columns):\n",
      " #   Column         Non-Null Count  Dtype \n",
      "---  ------         --------------  ----- \n",
      " 0   transactionId  1197 non-null   int64 \n",
      " 1   visitorId      1197 non-null   int64 \n",
      " 2   date           1197 non-null   object\n",
      " 3   revenue        1197 non-null   int64 \n",
      " 4   group          1197 non-null   object\n",
      "dtypes: int64(3), object(2)\n",
      "memory usage: 46.9+ KB\n"
     ]
    }
   ],
   "source": [
    "orders_data.info()"
   ]
  },
  {
   "cell_type": "code",
   "execution_count": 9,
   "metadata": {},
   "outputs": [
    {
     "data": {
      "text/html": [
       "<div>\n",
       "<style scoped>\n",
       "    .dataframe tbody tr th:only-of-type {\n",
       "        vertical-align: middle;\n",
       "    }\n",
       "\n",
       "    .dataframe tbody tr th {\n",
       "        vertical-align: top;\n",
       "    }\n",
       "\n",
       "    .dataframe thead th {\n",
       "        text-align: right;\n",
       "    }\n",
       "</style>\n",
       "<table border=\"1\" class=\"dataframe\">\n",
       "  <thead>\n",
       "    <tr style=\"text-align: right;\">\n",
       "      <th></th>\n",
       "      <th>transactionId</th>\n",
       "      <th>visitorId</th>\n",
       "      <th>revenue</th>\n",
       "    </tr>\n",
       "  </thead>\n",
       "  <tbody>\n",
       "    <tr>\n",
       "      <th>count</th>\n",
       "      <td>1.197000e+03</td>\n",
       "      <td>1.197000e+03</td>\n",
       "      <td>1.197000e+03</td>\n",
       "    </tr>\n",
       "    <tr>\n",
       "      <th>mean</th>\n",
       "      <td>2.155621e+09</td>\n",
       "      <td>2.165960e+09</td>\n",
       "      <td>8.348006e+03</td>\n",
       "    </tr>\n",
       "    <tr>\n",
       "      <th>std</th>\n",
       "      <td>1.229085e+09</td>\n",
       "      <td>1.236014e+09</td>\n",
       "      <td>3.919113e+04</td>\n",
       "    </tr>\n",
       "    <tr>\n",
       "      <th>min</th>\n",
       "      <td>1.062393e+06</td>\n",
       "      <td>5.114589e+06</td>\n",
       "      <td>5.000000e+01</td>\n",
       "    </tr>\n",
       "    <tr>\n",
       "      <th>25%</th>\n",
       "      <td>1.166776e+09</td>\n",
       "      <td>1.111826e+09</td>\n",
       "      <td>1.220000e+03</td>\n",
       "    </tr>\n",
       "    <tr>\n",
       "      <th>50%</th>\n",
       "      <td>2.145194e+09</td>\n",
       "      <td>2.217985e+09</td>\n",
       "      <td>2.978000e+03</td>\n",
       "    </tr>\n",
       "    <tr>\n",
       "      <th>75%</th>\n",
       "      <td>3.237740e+09</td>\n",
       "      <td>3.177606e+09</td>\n",
       "      <td>8.290000e+03</td>\n",
       "    </tr>\n",
       "    <tr>\n",
       "      <th>max</th>\n",
       "      <td>4.293856e+09</td>\n",
       "      <td>4.283872e+09</td>\n",
       "      <td>1.294500e+06</td>\n",
       "    </tr>\n",
       "  </tbody>\n",
       "</table>\n",
       "</div>"
      ],
      "text/plain": [
       "       transactionId     visitorId       revenue\n",
       "count   1.197000e+03  1.197000e+03  1.197000e+03\n",
       "mean    2.155621e+09  2.165960e+09  8.348006e+03\n",
       "std     1.229085e+09  1.236014e+09  3.919113e+04\n",
       "min     1.062393e+06  5.114589e+06  5.000000e+01\n",
       "25%     1.166776e+09  1.111826e+09  1.220000e+03\n",
       "50%     2.145194e+09  2.217985e+09  2.978000e+03\n",
       "75%     3.237740e+09  3.177606e+09  8.290000e+03\n",
       "max     4.293856e+09  4.283872e+09  1.294500e+06"
      ]
     },
     "execution_count": 9,
     "metadata": {},
     "output_type": "execute_result"
    }
   ],
   "source": [
    "orders_data.describe()"
   ]
  },
  {
   "cell_type": "markdown",
   "metadata": {},
   "source": [
    "#### `visitors`"
   ]
  },
  {
   "cell_type": "code",
   "execution_count": 10,
   "metadata": {},
   "outputs": [
    {
     "data": {
      "text/html": [
       "<div>\n",
       "<style scoped>\n",
       "    .dataframe tbody tr th:only-of-type {\n",
       "        vertical-align: middle;\n",
       "    }\n",
       "\n",
       "    .dataframe tbody tr th {\n",
       "        vertical-align: top;\n",
       "    }\n",
       "\n",
       "    .dataframe thead th {\n",
       "        text-align: right;\n",
       "    }\n",
       "</style>\n",
       "<table border=\"1\" class=\"dataframe\">\n",
       "  <thead>\n",
       "    <tr style=\"text-align: right;\">\n",
       "      <th></th>\n",
       "      <th>date</th>\n",
       "      <th>group</th>\n",
       "      <th>visitors</th>\n",
       "    </tr>\n",
       "  </thead>\n",
       "  <tbody>\n",
       "    <tr>\n",
       "      <th>0</th>\n",
       "      <td>2019-08-01</td>\n",
       "      <td>A</td>\n",
       "      <td>719</td>\n",
       "    </tr>\n",
       "    <tr>\n",
       "      <th>1</th>\n",
       "      <td>2019-08-02</td>\n",
       "      <td>A</td>\n",
       "      <td>619</td>\n",
       "    </tr>\n",
       "    <tr>\n",
       "      <th>2</th>\n",
       "      <td>2019-08-03</td>\n",
       "      <td>A</td>\n",
       "      <td>507</td>\n",
       "    </tr>\n",
       "    <tr>\n",
       "      <th>3</th>\n",
       "      <td>2019-08-04</td>\n",
       "      <td>A</td>\n",
       "      <td>717</td>\n",
       "    </tr>\n",
       "    <tr>\n",
       "      <th>4</th>\n",
       "      <td>2019-08-05</td>\n",
       "      <td>A</td>\n",
       "      <td>756</td>\n",
       "    </tr>\n",
       "  </tbody>\n",
       "</table>\n",
       "</div>"
      ],
      "text/plain": [
       "         date group  visitors\n",
       "0  2019-08-01     A       719\n",
       "1  2019-08-02     A       619\n",
       "2  2019-08-03     A       507\n",
       "3  2019-08-04     A       717\n",
       "4  2019-08-05     A       756"
      ]
     },
     "execution_count": 10,
     "metadata": {},
     "output_type": "execute_result"
    }
   ],
   "source": [
    "visitors.head(5)"
   ]
  },
  {
   "cell_type": "code",
   "execution_count": 11,
   "metadata": {},
   "outputs": [
    {
     "data": {
      "text/html": [
       "<div>\n",
       "<style scoped>\n",
       "    .dataframe tbody tr th:only-of-type {\n",
       "        vertical-align: middle;\n",
       "    }\n",
       "\n",
       "    .dataframe tbody tr th {\n",
       "        vertical-align: top;\n",
       "    }\n",
       "\n",
       "    .dataframe thead th {\n",
       "        text-align: right;\n",
       "    }\n",
       "</style>\n",
       "<table border=\"1\" class=\"dataframe\">\n",
       "  <thead>\n",
       "    <tr style=\"text-align: right;\">\n",
       "      <th></th>\n",
       "      <th>date</th>\n",
       "      <th>group</th>\n",
       "      <th>visitors</th>\n",
       "    </tr>\n",
       "  </thead>\n",
       "  <tbody>\n",
       "    <tr>\n",
       "      <th>57</th>\n",
       "      <td>2019-08-27</td>\n",
       "      <td>B</td>\n",
       "      <td>720</td>\n",
       "    </tr>\n",
       "    <tr>\n",
       "      <th>58</th>\n",
       "      <td>2019-08-28</td>\n",
       "      <td>B</td>\n",
       "      <td>654</td>\n",
       "    </tr>\n",
       "    <tr>\n",
       "      <th>59</th>\n",
       "      <td>2019-08-29</td>\n",
       "      <td>B</td>\n",
       "      <td>531</td>\n",
       "    </tr>\n",
       "    <tr>\n",
       "      <th>60</th>\n",
       "      <td>2019-08-30</td>\n",
       "      <td>B</td>\n",
       "      <td>490</td>\n",
       "    </tr>\n",
       "    <tr>\n",
       "      <th>61</th>\n",
       "      <td>2019-08-31</td>\n",
       "      <td>B</td>\n",
       "      <td>718</td>\n",
       "    </tr>\n",
       "  </tbody>\n",
       "</table>\n",
       "</div>"
      ],
      "text/plain": [
       "          date group  visitors\n",
       "57  2019-08-27     B       720\n",
       "58  2019-08-28     B       654\n",
       "59  2019-08-29     B       531\n",
       "60  2019-08-30     B       490\n",
       "61  2019-08-31     B       718"
      ]
     },
     "execution_count": 11,
     "metadata": {},
     "output_type": "execute_result"
    }
   ],
   "source": [
    "visitors.tail(5)"
   ]
  },
  {
   "cell_type": "code",
   "execution_count": 12,
   "metadata": {},
   "outputs": [
    {
     "name": "stdout",
     "output_type": "stream",
     "text": [
      "<class 'pandas.core.frame.DataFrame'>\n",
      "RangeIndex: 62 entries, 0 to 61\n",
      "Data columns (total 3 columns):\n",
      " #   Column    Non-Null Count  Dtype \n",
      "---  ------    --------------  ----- \n",
      " 0   date      62 non-null     object\n",
      " 1   group     62 non-null     object\n",
      " 2   visitors  62 non-null     int64 \n",
      "dtypes: int64(1), object(2)\n",
      "memory usage: 1.6+ KB\n"
     ]
    }
   ],
   "source": [
    "visitors.info()"
   ]
  },
  {
   "cell_type": "markdown",
   "metadata": {},
   "source": [
    "В таблице `hypothesis` находятся 9 гипотез, значения целочисленные, подходят для вычислений\n",
    "\n",
    "В таблицах `orders` и `visitors` необходимо изменить формат данных в колонках `date` с object на datetime. В датафрейме `orders` приведу названия колонок к нижнему регистру.\n",
    "\n",
    "Для исследования отмечу, что в датафрейме заказов значения выручки сильно разнятся, есть откровенные выбросы, которые будут искажать результаты анализа.\n",
    "В остальном всё в порядке."
   ]
  },
  {
   "cell_type": "markdown",
   "metadata": {},
   "source": [
    "### Предобработка данных\n",
    "<a id='section_id2'></a>"
   ]
  },
  {
   "cell_type": "code",
   "execution_count": 13,
   "metadata": {},
   "outputs": [],
   "source": [
    "orders_data['date'] = pd.to_datetime(orders_data['date'])\n",
    "orders_data.columns = orders_data.columns.str.lower()\n",
    "\n",
    "visitors['date'] = pd.to_datetime(visitors['date'])"
   ]
  },
  {
   "cell_type": "code",
   "execution_count": 14,
   "metadata": {},
   "outputs": [
    {
     "name": "stdout",
     "output_type": "stream",
     "text": [
      "<class 'pandas.core.frame.DataFrame'>\n",
      "RangeIndex: 1197 entries, 0 to 1196\n",
      "Data columns (total 5 columns):\n",
      " #   Column         Non-Null Count  Dtype         \n",
      "---  ------         --------------  -----         \n",
      " 0   transactionid  1197 non-null   int64         \n",
      " 1   visitorid      1197 non-null   int64         \n",
      " 2   date           1197 non-null   datetime64[ns]\n",
      " 3   revenue        1197 non-null   int64         \n",
      " 4   group          1197 non-null   object        \n",
      "dtypes: datetime64[ns](1), int64(3), object(1)\n",
      "memory usage: 46.9+ KB\n"
     ]
    }
   ],
   "source": [
    "orders_data.info()"
   ]
  },
  {
   "cell_type": "code",
   "execution_count": 15,
   "metadata": {},
   "outputs": [
    {
     "name": "stdout",
     "output_type": "stream",
     "text": [
      "<class 'pandas.core.frame.DataFrame'>\n",
      "RangeIndex: 62 entries, 0 to 61\n",
      "Data columns (total 3 columns):\n",
      " #   Column    Non-Null Count  Dtype         \n",
      "---  ------    --------------  -----         \n",
      " 0   date      62 non-null     datetime64[ns]\n",
      " 1   group     62 non-null     object        \n",
      " 2   visitors  62 non-null     int64         \n",
      "dtypes: datetime64[ns](1), int64(1), object(1)\n",
      "memory usage: 1.6+ KB\n"
     ]
    }
   ],
   "source": [
    "visitors.info()"
   ]
  },
  {
   "cell_type": "code",
   "execution_count": 16,
   "metadata": {
    "scrolled": true
   },
   "outputs": [
    {
     "name": "stdout",
     "output_type": "stream",
     "text": [
      "Количество явных дубуликатов в orders: 0\n",
      "Количество явных дубуликатов в visitors: 0\n"
     ]
    }
   ],
   "source": [
    "print('Количество явных дубуликатов в orders:', orders_data.duplicated().sum())\n",
    "print('Количество явных дубуликатов в visitors:', orders_data.duplicated().sum())"
   ]
  },
  {
   "cell_type": "code",
   "execution_count": 17,
   "metadata": {
    "scrolled": true
   },
   "outputs": [
    {
     "name": "stdout",
     "output_type": "stream",
     "text": [
      "Количество уникальных пользователей:  1031\n",
      "Количество строк:  1197\n",
      "\n",
      "Количество пользователей по группам:\n"
     ]
    },
    {
     "data": {
      "text/plain": [
       "B    640\n",
       "A    557\n",
       "Name: group, dtype: int64"
      ]
     },
     "execution_count": 17,
     "metadata": {},
     "output_type": "execute_result"
    }
   ],
   "source": [
    "# Количество пользователей в датафрейме orders:\n",
    "print('Количество уникальных пользователей: ', orders_data['visitorid'].nunique())\n",
    "print('Количество строк: ', orders_data['visitorid'].count())\n",
    "print('')\n",
    "print('Количество пользователей по группам:')\n",
    "orders_data['group'].value_counts()"
   ]
  },
  {
   "cell_type": "markdown",
   "metadata": {},
   "source": [
    "Всего в дф 1197 строк, при том, что количество уникальных пользователей - 1031. Значит есть дублирование по пользователям. \n",
    "Возможно есть пользователи, оформившие больше 1 заказа, но также посмотрю, есть ли пользователи, попавшие в обе группы.\n",
    "Если такие есть, посмотрю на их количество относительно первоначального распределения и приму решение, нужно ли исключить их для проведения чистого эксперимента."
   ]
  },
  {
   "cell_type": "code",
   "execution_count": 18,
   "metadata": {},
   "outputs": [
    {
     "name": "stdout",
     "output_type": "stream",
     "text": [
      "Число пользователей группы А, попавших в группу B: 89\n",
      "Число пользователей группы B, попавших в группу A: 92\n",
      "Доля пересекающихся элементов от общего числа записей: 5.625606207565471\n"
     ]
    }
   ],
   "source": [
    "orders_group_a = copy.deepcopy(orders_data[orders_data['group'] == 'A'])\n",
    "orders_group_b = copy.deepcopy(orders_data[orders_data['group'] == 'B'])\n",
    "print('Число пользователей группы А, попавших в группу B:', \n",
    "      orders_group_a['visitorid'].loc[orders_group_a['visitorid'].isin(orders_group_b['visitorid'])].count())\n",
    "print('Число пользователей группы B, попавших в группу A:', \n",
    "      orders_group_b['visitorid'].loc[orders_group_b['visitorid'].isin(orders_group_a['visitorid'])].count())\n",
    "\n",
    "print('Доля пересекающихся элементов от общего числа записей:', \n",
    "      (orders_group_a['visitorid'].loc[orders_group_a['visitorid'].isin(orders_group_b['visitorid'])].nunique())\n",
    "      / orders_data['visitorid'].nunique() * 100\n",
    ")"
   ]
  },
  {
   "cell_type": "markdown",
   "metadata": {},
   "source": [
    "Количество пересекающихся пользователей по группам составляет ~ 5% от общего количества строк. Так как по своей сути, пересекающиеся элементы нарушают проведение теста, то будет лучше удалить их и пожертвовать частью данных."
   ]
  },
  {
   "cell_type": "markdown",
   "metadata": {},
   "source": [
    "<div class=\"alert alert-block alert-warning\"> ⚠️ <b>Комментарий ревьюера 2:</b> Более точнее считать именно уникальных пользоваталей, т.к. с помощью count мы смотрим общее число событий, а пользователеь, мог совершить несколько заказ. Также расчёт доли пользователей не совсем точный. Стоит посчитать кол-во пользователей, попавших в обе группы и разделить это значение на общее число пользователей. Процент будет не таким большим </div>"
   ]
  },
  {
   "cell_type": "markdown",
   "metadata": {},
   "source": [
    "<div class=\"alert alert-block alert-info\"><b>Комментарий студента</b>\n",
    "    \n",
    "<b>Изменения:</b> Согласен <br></div> "
   ]
  },
  {
   "cell_type": "markdown",
   "metadata": {},
   "source": [
    "<div class=\"alert alert-block alert-success\">✅ <b>Комментарий ревьюера 3:</b> Теперь всё отлично :)\n",
    "</div>"
   ]
  },
  {
   "cell_type": "code",
   "execution_count": 19,
   "metadata": {},
   "outputs": [
    {
     "name": "stdout",
     "output_type": "stream",
     "text": [
      "Количество пользователей по группам:\n"
     ]
    },
    {
     "data": {
      "text/plain": [
       "B    548\n",
       "A    468\n",
       "Name: group, dtype: int64"
      ]
     },
     "execution_count": 19,
     "metadata": {},
     "output_type": "execute_result"
    }
   ],
   "source": [
    "# Исключаю пересекающихся пользователей из двух датафреймов: \n",
    "orders_group_a_unique = orders_group_a.loc[~orders_group_a['visitorid'].isin(orders_group_b['visitorid'])]\n",
    "orders_group_b_unique = orders_group_b.loc[~orders_group_b['visitorid'].isin(orders_group_a['visitorid'])]\n",
    "\n",
    "#Собираю два датафрейма в один:\n",
    "orders = pd.concat((orders_group_a_unique, orders_group_b_unique), axis=0)\n",
    "print('Количество пользователей по группам:')\n",
    "orders['group'].value_counts()"
   ]
  },
  {
   "cell_type": "code",
   "execution_count": 20,
   "metadata": {},
   "outputs": [
    {
     "name": "stdout",
     "output_type": "stream",
     "text": [
      "Дата старта теста, группа А: 2019-08-01 00:00:00\n",
      "Дата завершения теста, группа А: 2019-08-31 00:00:00\n",
      "Дата старта теста, группа B: 2019-08-01 00:00:00\n",
      "Дата завершения теста, группа B: 2019-08-31 00:00:00\n"
     ]
    }
   ],
   "source": [
    "# Проверю совпадают ли периоды тестирования по группам\n",
    "print('Дата старта теста, группа А:', orders[orders['group'] == 'A']['date'].min())\n",
    "print('Дата завершения теста, группа А:', orders[orders['group'] == 'A']['date'].max())\n",
    "print('Дата старта теста, группа B:', orders[orders['group'] == 'B']['date'].min())\n",
    "print('Дата завершения теста, группа B:', orders[orders['group'] == 'B']['date'].max())"
   ]
  },
  {
   "cell_type": "markdown",
   "metadata": {},
   "source": [
    "**Вывод:**\n",
    "Данные готовы для последующего анализа."
   ]
  },
  {
   "cell_type": "markdown",
   "metadata": {},
   "source": [
    "## Приоритизация гипотез\n",
    "<a id='section_id3'></a>\n",
    "\n",
    "Задача:\n",
    "1. Примените фреймворк ICE для приоритизации гипотез. Отсортируйте их по убыванию приоритета.\n",
    "2. Примените фреймворк RICE для приоритизации гипотез. Отсортируйте их по убыванию приоритета.\n",
    "3. Укажите, как изменилась приоритизация гипотез при применении RICE вместо ICE. Объясните, почему так произошло."
   ]
  },
  {
   "cell_type": "code",
   "execution_count": 21,
   "metadata": {},
   "outputs": [
    {
     "data": {
      "text/html": [
       "<div>\n",
       "<style scoped>\n",
       "    .dataframe tbody tr th:only-of-type {\n",
       "        vertical-align: middle;\n",
       "    }\n",
       "\n",
       "    .dataframe tbody tr th {\n",
       "        vertical-align: top;\n",
       "    }\n",
       "\n",
       "    .dataframe thead th {\n",
       "        text-align: right;\n",
       "    }\n",
       "</style>\n",
       "<table border=\"1\" class=\"dataframe\">\n",
       "  <thead>\n",
       "    <tr style=\"text-align: right;\">\n",
       "      <th></th>\n",
       "      <th>Hypothesis</th>\n",
       "      <th>Reach</th>\n",
       "      <th>Impact</th>\n",
       "      <th>Confidence</th>\n",
       "      <th>Efforts</th>\n",
       "    </tr>\n",
       "  </thead>\n",
       "  <tbody>\n",
       "    <tr>\n",
       "      <th>0</th>\n",
       "      <td>Добавить два новых канала привлечения трафика, что позволит привлекать на 30% больше пользователей</td>\n",
       "      <td>3</td>\n",
       "      <td>10</td>\n",
       "      <td>8</td>\n",
       "      <td>6</td>\n",
       "    </tr>\n",
       "    <tr>\n",
       "      <th>1</th>\n",
       "      <td>Запустить собственную службу доставки, что сократит срок доставки заказов</td>\n",
       "      <td>2</td>\n",
       "      <td>5</td>\n",
       "      <td>4</td>\n",
       "      <td>10</td>\n",
       "    </tr>\n",
       "    <tr>\n",
       "      <th>2</th>\n",
       "      <td>Добавить блоки рекомендаций товаров на сайт интернет магазина, чтобы повысить конверсию и средни...</td>\n",
       "      <td>8</td>\n",
       "      <td>3</td>\n",
       "      <td>7</td>\n",
       "      <td>3</td>\n",
       "    </tr>\n",
       "    <tr>\n",
       "      <th>3</th>\n",
       "      <td>Изменить структура категорий, что увеличит конверсию, т.к. пользователи быстрее найдут нужный товар</td>\n",
       "      <td>8</td>\n",
       "      <td>3</td>\n",
       "      <td>3</td>\n",
       "      <td>8</td>\n",
       "    </tr>\n",
       "    <tr>\n",
       "      <th>4</th>\n",
       "      <td>Изменить цвет фона главной страницы, чтобы увеличить вовлеченность пользователей</td>\n",
       "      <td>3</td>\n",
       "      <td>1</td>\n",
       "      <td>1</td>\n",
       "      <td>1</td>\n",
       "    </tr>\n",
       "    <tr>\n",
       "      <th>5</th>\n",
       "      <td>Добавить страницу отзывов клиентов о магазине, что позволит увеличить количество заказов</td>\n",
       "      <td>3</td>\n",
       "      <td>2</td>\n",
       "      <td>2</td>\n",
       "      <td>3</td>\n",
       "    </tr>\n",
       "    <tr>\n",
       "      <th>6</th>\n",
       "      <td>Показать на главной странице баннеры с актуальными акциями и распродажами, чтобы увеличить конве...</td>\n",
       "      <td>5</td>\n",
       "      <td>3</td>\n",
       "      <td>8</td>\n",
       "      <td>3</td>\n",
       "    </tr>\n",
       "    <tr>\n",
       "      <th>7</th>\n",
       "      <td>Добавить форму подписки на все основные страницы, чтобы собрать базу клиентов для email-рассылок</td>\n",
       "      <td>10</td>\n",
       "      <td>7</td>\n",
       "      <td>8</td>\n",
       "      <td>5</td>\n",
       "    </tr>\n",
       "    <tr>\n",
       "      <th>8</th>\n",
       "      <td>Запустить акцию, дающую скидку на товар в день рождения</td>\n",
       "      <td>1</td>\n",
       "      <td>9</td>\n",
       "      <td>9</td>\n",
       "      <td>5</td>\n",
       "    </tr>\n",
       "  </tbody>\n",
       "</table>\n",
       "</div>"
      ],
      "text/plain": [
       "                                                                                            Hypothesis  \\\n",
       "0   Добавить два новых канала привлечения трафика, что позволит привлекать на 30% больше пользователей   \n",
       "1                            Запустить собственную службу доставки, что сократит срок доставки заказов   \n",
       "2  Добавить блоки рекомендаций товаров на сайт интернет магазина, чтобы повысить конверсию и средни...   \n",
       "3  Изменить структура категорий, что увеличит конверсию, т.к. пользователи быстрее найдут нужный товар   \n",
       "4                     Изменить цвет фона главной страницы, чтобы увеличить вовлеченность пользователей   \n",
       "5             Добавить страницу отзывов клиентов о магазине, что позволит увеличить количество заказов   \n",
       "6  Показать на главной странице баннеры с актуальными акциями и распродажами, чтобы увеличить конве...   \n",
       "7     Добавить форму подписки на все основные страницы, чтобы собрать базу клиентов для email-рассылок   \n",
       "8                                              Запустить акцию, дающую скидку на товар в день рождения   \n",
       "\n",
       "   Reach  Impact  Confidence  Efforts  \n",
       "0      3      10           8        6  \n",
       "1      2       5           4       10  \n",
       "2      8       3           7        3  \n",
       "3      8       3           3        8  \n",
       "4      3       1           1        1  \n",
       "5      3       2           2        3  \n",
       "6      5       3           8        3  \n",
       "7     10       7           8        5  \n",
       "8      1       9           9        5  "
      ]
     },
     "execution_count": 21,
     "metadata": {},
     "output_type": "execute_result"
    }
   ],
   "source": [
    "hypothesis"
   ]
  },
  {
   "cell_type": "markdown",
   "metadata": {},
   "source": [
    "<div class=\"alert alert-block alert-success\">✅ <b>Комментарий ревьюера:</b> Чтобы вывести назания гипотез целиком, рекомендую воспользоваться вот такой настройкой:\n",
    "    \n",
    "    pd.options.display.max_colwidth = 100\n",
    "  \n",
    ":)\n",
    "</div>"
   ]
  },
  {
   "cell_type": "markdown",
   "metadata": {},
   "source": [
    "<div class=\"alert alert-block alert-info\"><b>Комментарий студента</b>\n",
    "    \n",
    "<b>Изменения:</b> Удобно, спасибо, поправил <br></div> "
   ]
  },
  {
   "cell_type": "code",
   "execution_count": 22,
   "metadata": {},
   "outputs": [],
   "source": [
    "# Расчитаю приоритизацию фреймворков:\n",
    "hypothesis['ICE'] = (hypothesis['Impact'] * hypothesis['Confidence']) / hypothesis['Efforts']\n",
    "hypothesis['RICE'] = (hypothesis['Reach'] * hypothesis['Impact'] * hypothesis['Confidence']) / hypothesis['Efforts']"
   ]
  },
  {
   "cell_type": "markdown",
   "metadata": {},
   "source": [
    "### ICE фреймфорк"
   ]
  },
  {
   "cell_type": "code",
   "execution_count": 23,
   "metadata": {},
   "outputs": [
    {
     "data": {
      "text/html": [
       "<div>\n",
       "<style scoped>\n",
       "    .dataframe tbody tr th:only-of-type {\n",
       "        vertical-align: middle;\n",
       "    }\n",
       "\n",
       "    .dataframe tbody tr th {\n",
       "        vertical-align: top;\n",
       "    }\n",
       "\n",
       "    .dataframe thead th {\n",
       "        text-align: right;\n",
       "    }\n",
       "</style>\n",
       "<table border=\"1\" class=\"dataframe\">\n",
       "  <thead>\n",
       "    <tr style=\"text-align: right;\">\n",
       "      <th></th>\n",
       "      <th>Hypothesis</th>\n",
       "      <th>ICE</th>\n",
       "    </tr>\n",
       "  </thead>\n",
       "  <tbody>\n",
       "    <tr>\n",
       "      <th>8</th>\n",
       "      <td>Запустить акцию, дающую скидку на товар в день рождения</td>\n",
       "      <td>16.200000</td>\n",
       "    </tr>\n",
       "    <tr>\n",
       "      <th>0</th>\n",
       "      <td>Добавить два новых канала привлечения трафика, что позволит привлекать на 30% больше пользователей</td>\n",
       "      <td>13.333333</td>\n",
       "    </tr>\n",
       "    <tr>\n",
       "      <th>7</th>\n",
       "      <td>Добавить форму подписки на все основные страницы, чтобы собрать базу клиентов для email-рассылок</td>\n",
       "      <td>11.200000</td>\n",
       "    </tr>\n",
       "    <tr>\n",
       "      <th>6</th>\n",
       "      <td>Показать на главной странице баннеры с актуальными акциями и распродажами, чтобы увеличить конве...</td>\n",
       "      <td>8.000000</td>\n",
       "    </tr>\n",
       "    <tr>\n",
       "      <th>2</th>\n",
       "      <td>Добавить блоки рекомендаций товаров на сайт интернет магазина, чтобы повысить конверсию и средни...</td>\n",
       "      <td>7.000000</td>\n",
       "    </tr>\n",
       "    <tr>\n",
       "      <th>1</th>\n",
       "      <td>Запустить собственную службу доставки, что сократит срок доставки заказов</td>\n",
       "      <td>2.000000</td>\n",
       "    </tr>\n",
       "    <tr>\n",
       "      <th>5</th>\n",
       "      <td>Добавить страницу отзывов клиентов о магазине, что позволит увеличить количество заказов</td>\n",
       "      <td>1.333333</td>\n",
       "    </tr>\n",
       "    <tr>\n",
       "      <th>3</th>\n",
       "      <td>Изменить структура категорий, что увеличит конверсию, т.к. пользователи быстрее найдут нужный товар</td>\n",
       "      <td>1.125000</td>\n",
       "    </tr>\n",
       "    <tr>\n",
       "      <th>4</th>\n",
       "      <td>Изменить цвет фона главной страницы, чтобы увеличить вовлеченность пользователей</td>\n",
       "      <td>1.000000</td>\n",
       "    </tr>\n",
       "  </tbody>\n",
       "</table>\n",
       "</div>"
      ],
      "text/plain": [
       "                                                                                            Hypothesis  \\\n",
       "8                                              Запустить акцию, дающую скидку на товар в день рождения   \n",
       "0   Добавить два новых канала привлечения трафика, что позволит привлекать на 30% больше пользователей   \n",
       "7     Добавить форму подписки на все основные страницы, чтобы собрать базу клиентов для email-рассылок   \n",
       "6  Показать на главной странице баннеры с актуальными акциями и распродажами, чтобы увеличить конве...   \n",
       "2  Добавить блоки рекомендаций товаров на сайт интернет магазина, чтобы повысить конверсию и средни...   \n",
       "1                            Запустить собственную службу доставки, что сократит срок доставки заказов   \n",
       "5             Добавить страницу отзывов клиентов о магазине, что позволит увеличить количество заказов   \n",
       "3  Изменить структура категорий, что увеличит конверсию, т.к. пользователи быстрее найдут нужный товар   \n",
       "4                     Изменить цвет фона главной страницы, чтобы увеличить вовлеченность пользователей   \n",
       "\n",
       "         ICE  \n",
       "8  16.200000  \n",
       "0  13.333333  \n",
       "7  11.200000  \n",
       "6   8.000000  \n",
       "2   7.000000  \n",
       "1   2.000000  \n",
       "5   1.333333  \n",
       "3   1.125000  \n",
       "4   1.000000  "
      ]
     },
     "execution_count": 23,
     "metadata": {},
     "output_type": "execute_result"
    }
   ],
   "source": [
    "hypothesis_ice = copy.deepcopy(hypothesis)\n",
    "# Выведу гипотезы в порядке убывания по фреймворку ICE\n",
    "hypothesis_ice[['Hypothesis', 'ICE']].sort_values(by='ICE', ascending=False)"
   ]
  },
  {
   "cell_type": "markdown",
   "metadata": {},
   "source": [
    "### RICE фреймфорк"
   ]
  },
  {
   "cell_type": "code",
   "execution_count": 24,
   "metadata": {},
   "outputs": [
    {
     "data": {
      "text/html": [
       "<div>\n",
       "<style scoped>\n",
       "    .dataframe tbody tr th:only-of-type {\n",
       "        vertical-align: middle;\n",
       "    }\n",
       "\n",
       "    .dataframe tbody tr th {\n",
       "        vertical-align: top;\n",
       "    }\n",
       "\n",
       "    .dataframe thead th {\n",
       "        text-align: right;\n",
       "    }\n",
       "</style>\n",
       "<table border=\"1\" class=\"dataframe\">\n",
       "  <thead>\n",
       "    <tr style=\"text-align: right;\">\n",
       "      <th></th>\n",
       "      <th>Hypothesis</th>\n",
       "      <th>RICE</th>\n",
       "    </tr>\n",
       "  </thead>\n",
       "  <tbody>\n",
       "    <tr>\n",
       "      <th>7</th>\n",
       "      <td>Добавить форму подписки на все основные страницы, чтобы собрать базу клиентов для email-рассылок</td>\n",
       "      <td>112.0</td>\n",
       "    </tr>\n",
       "    <tr>\n",
       "      <th>2</th>\n",
       "      <td>Добавить блоки рекомендаций товаров на сайт интернет магазина, чтобы повысить конверсию и средни...</td>\n",
       "      <td>56.0</td>\n",
       "    </tr>\n",
       "    <tr>\n",
       "      <th>0</th>\n",
       "      <td>Добавить два новых канала привлечения трафика, что позволит привлекать на 30% больше пользователей</td>\n",
       "      <td>40.0</td>\n",
       "    </tr>\n",
       "    <tr>\n",
       "      <th>6</th>\n",
       "      <td>Показать на главной странице баннеры с актуальными акциями и распродажами, чтобы увеличить конве...</td>\n",
       "      <td>40.0</td>\n",
       "    </tr>\n",
       "    <tr>\n",
       "      <th>8</th>\n",
       "      <td>Запустить акцию, дающую скидку на товар в день рождения</td>\n",
       "      <td>16.2</td>\n",
       "    </tr>\n",
       "    <tr>\n",
       "      <th>3</th>\n",
       "      <td>Изменить структура категорий, что увеличит конверсию, т.к. пользователи быстрее найдут нужный товар</td>\n",
       "      <td>9.0</td>\n",
       "    </tr>\n",
       "    <tr>\n",
       "      <th>1</th>\n",
       "      <td>Запустить собственную службу доставки, что сократит срок доставки заказов</td>\n",
       "      <td>4.0</td>\n",
       "    </tr>\n",
       "    <tr>\n",
       "      <th>5</th>\n",
       "      <td>Добавить страницу отзывов клиентов о магазине, что позволит увеличить количество заказов</td>\n",
       "      <td>4.0</td>\n",
       "    </tr>\n",
       "    <tr>\n",
       "      <th>4</th>\n",
       "      <td>Изменить цвет фона главной страницы, чтобы увеличить вовлеченность пользователей</td>\n",
       "      <td>3.0</td>\n",
       "    </tr>\n",
       "  </tbody>\n",
       "</table>\n",
       "</div>"
      ],
      "text/plain": [
       "                                                                                            Hypothesis  \\\n",
       "7     Добавить форму подписки на все основные страницы, чтобы собрать базу клиентов для email-рассылок   \n",
       "2  Добавить блоки рекомендаций товаров на сайт интернет магазина, чтобы повысить конверсию и средни...   \n",
       "0   Добавить два новых канала привлечения трафика, что позволит привлекать на 30% больше пользователей   \n",
       "6  Показать на главной странице баннеры с актуальными акциями и распродажами, чтобы увеличить конве...   \n",
       "8                                              Запустить акцию, дающую скидку на товар в день рождения   \n",
       "3  Изменить структура категорий, что увеличит конверсию, т.к. пользователи быстрее найдут нужный товар   \n",
       "1                            Запустить собственную службу доставки, что сократит срок доставки заказов   \n",
       "5             Добавить страницу отзывов клиентов о магазине, что позволит увеличить количество заказов   \n",
       "4                     Изменить цвет фона главной страницы, чтобы увеличить вовлеченность пользователей   \n",
       "\n",
       "    RICE  \n",
       "7  112.0  \n",
       "2   56.0  \n",
       "0   40.0  \n",
       "6   40.0  \n",
       "8   16.2  \n",
       "3    9.0  \n",
       "1    4.0  \n",
       "5    4.0  \n",
       "4    3.0  "
      ]
     },
     "execution_count": 24,
     "metadata": {},
     "output_type": "execute_result"
    }
   ],
   "source": [
    "hypothesis_rice = copy.deepcopy(hypothesis)\n",
    "# Выведу гипотезы в порядке убывания по фреймворку RICE\n",
    "hypothesis_rice[['Hypothesis', 'RICE']].sort_values(by='RICE', ascending=False)"
   ]
  },
  {
   "cell_type": "code",
   "execution_count": 25,
   "metadata": {},
   "outputs": [
    {
     "data": {
      "text/html": [
       "<div>\n",
       "<style scoped>\n",
       "    .dataframe tbody tr th:only-of-type {\n",
       "        vertical-align: middle;\n",
       "    }\n",
       "\n",
       "    .dataframe tbody tr th {\n",
       "        vertical-align: top;\n",
       "    }\n",
       "\n",
       "    .dataframe thead th {\n",
       "        text-align: right;\n",
       "    }\n",
       "</style>\n",
       "<table border=\"1\" class=\"dataframe\">\n",
       "  <thead>\n",
       "    <tr style=\"text-align: right;\">\n",
       "      <th></th>\n",
       "      <th>Hypothesis</th>\n",
       "      <th>Reach</th>\n",
       "      <th>Impact</th>\n",
       "      <th>Confidence</th>\n",
       "      <th>Efforts</th>\n",
       "      <th>ICE</th>\n",
       "      <th>RICE</th>\n",
       "    </tr>\n",
       "  </thead>\n",
       "  <tbody>\n",
       "    <tr>\n",
       "      <th>0</th>\n",
       "      <td>Добавить два новых канала привлечения трафика, что позволит привлекать на 30% больше пользователей</td>\n",
       "      <td>3</td>\n",
       "      <td>10</td>\n",
       "      <td>8</td>\n",
       "      <td>6</td>\n",
       "      <td>13.333333</td>\n",
       "      <td>40.0</td>\n",
       "    </tr>\n",
       "    <tr>\n",
       "      <th>1</th>\n",
       "      <td>Запустить собственную службу доставки, что сократит срок доставки заказов</td>\n",
       "      <td>2</td>\n",
       "      <td>5</td>\n",
       "      <td>4</td>\n",
       "      <td>10</td>\n",
       "      <td>2.000000</td>\n",
       "      <td>4.0</td>\n",
       "    </tr>\n",
       "    <tr>\n",
       "      <th>2</th>\n",
       "      <td>Добавить блоки рекомендаций товаров на сайт интернет магазина, чтобы повысить конверсию и средни...</td>\n",
       "      <td>8</td>\n",
       "      <td>3</td>\n",
       "      <td>7</td>\n",
       "      <td>3</td>\n",
       "      <td>7.000000</td>\n",
       "      <td>56.0</td>\n",
       "    </tr>\n",
       "    <tr>\n",
       "      <th>3</th>\n",
       "      <td>Изменить структура категорий, что увеличит конверсию, т.к. пользователи быстрее найдут нужный товар</td>\n",
       "      <td>8</td>\n",
       "      <td>3</td>\n",
       "      <td>3</td>\n",
       "      <td>8</td>\n",
       "      <td>1.125000</td>\n",
       "      <td>9.0</td>\n",
       "    </tr>\n",
       "    <tr>\n",
       "      <th>4</th>\n",
       "      <td>Изменить цвет фона главной страницы, чтобы увеличить вовлеченность пользователей</td>\n",
       "      <td>3</td>\n",
       "      <td>1</td>\n",
       "      <td>1</td>\n",
       "      <td>1</td>\n",
       "      <td>1.000000</td>\n",
       "      <td>3.0</td>\n",
       "    </tr>\n",
       "    <tr>\n",
       "      <th>5</th>\n",
       "      <td>Добавить страницу отзывов клиентов о магазине, что позволит увеличить количество заказов</td>\n",
       "      <td>3</td>\n",
       "      <td>2</td>\n",
       "      <td>2</td>\n",
       "      <td>3</td>\n",
       "      <td>1.333333</td>\n",
       "      <td>4.0</td>\n",
       "    </tr>\n",
       "    <tr>\n",
       "      <th>6</th>\n",
       "      <td>Показать на главной странице баннеры с актуальными акциями и распродажами, чтобы увеличить конве...</td>\n",
       "      <td>5</td>\n",
       "      <td>3</td>\n",
       "      <td>8</td>\n",
       "      <td>3</td>\n",
       "      <td>8.000000</td>\n",
       "      <td>40.0</td>\n",
       "    </tr>\n",
       "    <tr>\n",
       "      <th>7</th>\n",
       "      <td>Добавить форму подписки на все основные страницы, чтобы собрать базу клиентов для email-рассылок</td>\n",
       "      <td>10</td>\n",
       "      <td>7</td>\n",
       "      <td>8</td>\n",
       "      <td>5</td>\n",
       "      <td>11.200000</td>\n",
       "      <td>112.0</td>\n",
       "    </tr>\n",
       "    <tr>\n",
       "      <th>8</th>\n",
       "      <td>Запустить акцию, дающую скидку на товар в день рождения</td>\n",
       "      <td>1</td>\n",
       "      <td>9</td>\n",
       "      <td>9</td>\n",
       "      <td>5</td>\n",
       "      <td>16.200000</td>\n",
       "      <td>16.2</td>\n",
       "    </tr>\n",
       "  </tbody>\n",
       "</table>\n",
       "</div>"
      ],
      "text/plain": [
       "                                                                                            Hypothesis  \\\n",
       "0   Добавить два новых канала привлечения трафика, что позволит привлекать на 30% больше пользователей   \n",
       "1                            Запустить собственную службу доставки, что сократит срок доставки заказов   \n",
       "2  Добавить блоки рекомендаций товаров на сайт интернет магазина, чтобы повысить конверсию и средни...   \n",
       "3  Изменить структура категорий, что увеличит конверсию, т.к. пользователи быстрее найдут нужный товар   \n",
       "4                     Изменить цвет фона главной страницы, чтобы увеличить вовлеченность пользователей   \n",
       "5             Добавить страницу отзывов клиентов о магазине, что позволит увеличить количество заказов   \n",
       "6  Показать на главной странице баннеры с актуальными акциями и распродажами, чтобы увеличить конве...   \n",
       "7     Добавить форму подписки на все основные страницы, чтобы собрать базу клиентов для email-рассылок   \n",
       "8                                              Запустить акцию, дающую скидку на товар в день рождения   \n",
       "\n",
       "   Reach  Impact  Confidence  Efforts        ICE   RICE  \n",
       "0      3      10           8        6  13.333333   40.0  \n",
       "1      2       5           4       10   2.000000    4.0  \n",
       "2      8       3           7        3   7.000000   56.0  \n",
       "3      8       3           3        8   1.125000    9.0  \n",
       "4      3       1           1        1   1.000000    3.0  \n",
       "5      3       2           2        3   1.333333    4.0  \n",
       "6      5       3           8        3   8.000000   40.0  \n",
       "7     10       7           8        5  11.200000  112.0  \n",
       "8      1       9           9        5  16.200000   16.2  "
      ]
     },
     "execution_count": 25,
     "metadata": {},
     "output_type": "execute_result"
    }
   ],
   "source": [
    "hypothesis"
   ]
  },
  {
   "cell_type": "markdown",
   "metadata": {},
   "source": [
    "**Вывод:**\n",
    "\n",
    "Разница в приоритизации гипотез по двум фреймворкам заключается в параметре Reach или охват пользователей. В фреймворке Reach гипотеза с добавлением формы подписки охватывает максимальное количество пользователей, так как данный параметр находится в числителе фреймворка, то он выводит в лидеры гипотезу.\n",
    "В фреймворке ICE данный показатель не участвует, поэтому побеждает гипотеза с запуском акции со скидкой в день рождения. Отмечу, что из-за низкого охвата, согласно расчёту RICE данная гипотеза лишь на 5 месте."
   ]
  },
  {
   "cell_type": "markdown",
   "metadata": {},
   "source": [
    "<div class=\"alert alert-block alert-success\">✅ <b>Комментарий ревьюера:</b> Всё здорово :)\n",
    "</div>"
   ]
  },
  {
   "cell_type": "markdown",
   "metadata": {},
   "source": [
    "## Анализ A/B-теста\n",
    "<a id='section_id4'></a>"
   ]
  },
  {
   "cell_type": "markdown",
   "metadata": {},
   "source": [
    "<div class=\"alert alert-block alert-warning\"> ⚠️ <b>Комментарий ревьюера:</b> Здесь хорошо бы добавить небольшое описание задач, которые будут решаться и чем они могут быть полезны бизнесу</div>"
   ]
  },
  {
   "cell_type": "markdown",
   "metadata": {},
   "source": [
    "**Анализ датафреймов**"
   ]
  },
  {
   "cell_type": "markdown",
   "metadata": {},
   "source": [
    "### График кумулятивной выручки по группам. \n",
    "<a id='section_id5'></a>\n",
    "Сделайте выводы и предположения."
   ]
  },
  {
   "cell_type": "markdown",
   "metadata": {},
   "source": [
    "<div class=\"alert alert-block alert-danger\">❌ <b>Комментарий ревьюера:</b> Перед сбором кумулятивных данных, стоит ещё раз оценить иходные таблицы. Посмотреть сколько всего групп, сколько пользователей в каждой из них, сколько всего пользователей. Есть ли пересекающаяся аудитория, если такие пользователи есть, то оценить их кол-во и будут ли ои влиять на результаты. Также можно постреть начало и конец периода, чтобы быть уверенным, что рассматривается один период для всех групп (это можно добавить в блок с предобработкой)\n",
    "</div>"
   ]
  },
  {
   "cell_type": "markdown",
   "metadata": {},
   "source": [
    "<div class=\"alert alert-block alert-info\"><b>Комментарий студента</b>\n",
    "    \n",
    "<b>Изменения:</b> Добавил в предобработку <br></div> "
   ]
  },
  {
   "cell_type": "markdown",
   "metadata": {},
   "source": [
    "<div class=\"alert alert-block alert-success\">✅ <b>Комментарий ревьюера 2:</b> Всё здорово :)\n",
    "</div>"
   ]
  },
  {
   "cell_type": "markdown",
   "metadata": {},
   "source": [
    "Для построения графиков кумулятивной выручки по группам соберу данные в нужном виде."
   ]
  },
  {
   "cell_type": "code",
   "execution_count": 26,
   "metadata": {},
   "outputs": [
    {
     "data": {
      "text/html": [
       "<div>\n",
       "<style scoped>\n",
       "    .dataframe tbody tr th:only-of-type {\n",
       "        vertical-align: middle;\n",
       "    }\n",
       "\n",
       "    .dataframe tbody tr th {\n",
       "        vertical-align: top;\n",
       "    }\n",
       "\n",
       "    .dataframe thead th {\n",
       "        text-align: right;\n",
       "    }\n",
       "</style>\n",
       "<table border=\"1\" class=\"dataframe\">\n",
       "  <thead>\n",
       "    <tr style=\"text-align: right;\">\n",
       "      <th></th>\n",
       "      <th>date</th>\n",
       "      <th>group</th>\n",
       "      <th>orders</th>\n",
       "      <th>buyers</th>\n",
       "      <th>revenue</th>\n",
       "      <th>visitors</th>\n",
       "    </tr>\n",
       "  </thead>\n",
       "  <tbody>\n",
       "    <tr>\n",
       "      <th>0</th>\n",
       "      <td>2019-08-01</td>\n",
       "      <td>A</td>\n",
       "      <td>23</td>\n",
       "      <td>19</td>\n",
       "      <td>142779</td>\n",
       "      <td>719</td>\n",
       "    </tr>\n",
       "    <tr>\n",
       "      <th>1</th>\n",
       "      <td>2019-08-01</td>\n",
       "      <td>B</td>\n",
       "      <td>17</td>\n",
       "      <td>17</td>\n",
       "      <td>59758</td>\n",
       "      <td>713</td>\n",
       "    </tr>\n",
       "    <tr>\n",
       "      <th>2</th>\n",
       "      <td>2019-08-02</td>\n",
       "      <td>A</td>\n",
       "      <td>42</td>\n",
       "      <td>36</td>\n",
       "      <td>234381</td>\n",
       "      <td>1338</td>\n",
       "    </tr>\n",
       "    <tr>\n",
       "      <th>3</th>\n",
       "      <td>2019-08-02</td>\n",
       "      <td>B</td>\n",
       "      <td>40</td>\n",
       "      <td>39</td>\n",
       "      <td>221801</td>\n",
       "      <td>1294</td>\n",
       "    </tr>\n",
       "    <tr>\n",
       "      <th>4</th>\n",
       "      <td>2019-08-03</td>\n",
       "      <td>A</td>\n",
       "      <td>66</td>\n",
       "      <td>60</td>\n",
       "      <td>346854</td>\n",
       "      <td>1845</td>\n",
       "    </tr>\n",
       "  </tbody>\n",
       "</table>\n",
       "</div>"
      ],
      "text/plain": [
       "        date group  orders  buyers  revenue  visitors\n",
       "0 2019-08-01     A      23      19   142779       719\n",
       "1 2019-08-01     B      17      17    59758       713\n",
       "2 2019-08-02     A      42      36   234381      1338\n",
       "3 2019-08-02     B      40      39   221801      1294\n",
       "4 2019-08-03     A      66      60   346854      1845"
      ]
     },
     "execution_count": 26,
     "metadata": {},
     "output_type": "execute_result"
    }
   ],
   "source": [
    "# создаю массив уникальных пар значений дат и групп теста\n",
    "datesGroups = orders[['date','group']].drop_duplicates()\n",
    "\n",
    "# получаю агрегированные кумулятивные по дням данные о заказах \n",
    "ordersAggregated = datesGroups.apply(lambda x: orders[\n",
    "    np.logical_and(orders['date'] <= x['date'], orders['group'] == x['group'])].\\\n",
    "    agg({'date':'max', 'group':'max', 'transactionid':'nunique', 'visitorid':'nunique', 'revenue':'sum'}), axis=1).\\\n",
    "    sort_values(by=['date','group'])\n",
    "\n",
    "# получаю агрегированные кумулятивные по дням данные о посетителях интернет-магазина \n",
    "visitorsAggregated = datesGroups.apply(lambda x: visitors[\n",
    "    np.logical_and(visitors['date'] <= x['date'], visitors['group'] == x['group'])].\\\n",
    "    agg({'date' : 'max', 'group' : 'max', 'visitors' : 'sum'}), axis=1).sort_values(by=['date','group'])\n",
    "\n",
    "# объединяю кумулятивные данные в одной таблице и присваиваю ее столбцам понятные названия\n",
    "cumulativeData = ordersAggregated.merge(visitorsAggregated, left_on=['date', 'group'], right_on=['date', 'group'])\n",
    "cumulativeData.columns = ['date', 'group', 'orders', 'buyers', 'revenue', 'visitors']\n",
    "# Выведу полученные данные:\n",
    "cumulativeData.head(5)"
   ]
  },
  {
   "cell_type": "code",
   "execution_count": 27,
   "metadata": {},
   "outputs": [
    {
     "data": {
      "image/png": "[encoded data removed]",
      "text/plain": [
       "<Figure size 1000x400 with 1 Axes>"
      ]
     },
     "metadata": {},
     "output_type": "display_data"
    }
   ],
   "source": [
    "# датафрейм с кумулятивным количеством заказов и кумулятивной выручкой по дням в группе А\n",
    "cumulativeRevenueA = cumulativeData[cumulativeData['group']=='A'][['date','revenue', 'orders']]\n",
    "\n",
    "# датафрейм с кумулятивным количеством заказов и кумулятивной выручкой по дням в группе B\n",
    "cumulativeRevenueB = cumulativeData[cumulativeData['group']=='B'][['date','revenue', 'orders']]\n",
    "\n",
    "# Строим график выручки группы А\n",
    "plt.plot(cumulativeRevenueA['date'], cumulativeRevenueA['revenue'], label='A')\n",
    "\n",
    "# Строим график выручки группы B\n",
    "plt.plot(cumulativeRevenueB['date'], cumulativeRevenueB['revenue'], label='B')\n",
    "\n",
    "plt.title('Кумулятивная выручка по группам')\n",
    "plt.legend()\n",
    "plt.xlabel('Дата')\n",
    "plt.ylabel('Выручка')\n",
    "plt.xticks(rotation=15)\n",
    "plt.show()"
   ]
  },
  {
   "cell_type": "markdown",
   "metadata": {},
   "source": [
    "**Вывод:**\n",
    "\n",
    "Выручка почти равномерно увеличивается в течение всего теста. Это не может не радовать.\n",
    "Однако график  выручки группы B в моменте резко растёт. Это может сигнализировать о всплеске числа заказов, либо о появлении очень дорогих заказов в выборке."
   ]
  },
  {
   "cell_type": "markdown",
   "metadata": {},
   "source": [
    "<div class=\"alert alert-block alert-success\">✅ <b>Комментарий ревьюера:</b> Всё верно, скачок характеризуется наличием крупных заказов :)\n",
    "</div>\n",
    "<div class=\"alert alert-block alert-danger\">❌ <b>Комментарий ревьюера:</b> Стоит немного преобразовать график, а именно: добавить заголовок, подписи осей, также даты немного сливаются, их можно немного повернуть (касается и графиков ниже)\n",
    "</div>"
   ]
  },
  {
   "cell_type": "markdown",
   "metadata": {},
   "source": [
    "<div class=\"alert alert-block alert-warning\"> ⚠️ <b>Комментарий ревьюера 2:</b> Всё отлично, но стоит добавить ещё заголовок к графику</div>"
   ]
  },
  {
   "cell_type": "markdown",
   "metadata": {},
   "source": [
    "<div class=\"alert alert-block alert-info\"><b>Комментарий студента</b>\n",
    "    \n",
    "Добавил\n",
    "    <br></div> "
   ]
  },
  {
   "cell_type": "markdown",
   "metadata": {},
   "source": [
    "<div class=\"alert alert-block alert-success\">✅ <b>Комментарий ревьюера 3:</b> Графики отличные :)\n",
    "</div>"
   ]
  },
  {
   "cell_type": "markdown",
   "metadata": {},
   "source": [
    "### График кумулятивного среднего чека по группам. \n",
    "\n",
    "Постройте график кумулятивного среднего чека по группам. Сделайте выводы и предположения."
   ]
  },
  {
   "cell_type": "code",
   "execution_count": 28,
   "metadata": {},
   "outputs": [
    {
     "data": {
      "image/png": "[encoded data removed]",
      "text/plain": [
       "<Figure size 1000x400 with 1 Axes>"
      ]
     },
     "metadata": {},
     "output_type": "display_data"
    }
   ],
   "source": [
    "# Построю графики среднего чека по группам:\n",
    "plt.plot(cumulativeRevenueA['date'], cumulativeRevenueA['revenue']/cumulativeRevenueA['orders'], label='A')\n",
    "plt.plot(cumulativeRevenueB['date'], cumulativeRevenueB['revenue']/cumulativeRevenueB['orders'], label='B')\n",
    "\n",
    "plt.title('Кумулятивный средний чек по группам')\n",
    "plt.legend()\n",
    "plt.xlabel('Дата')\n",
    "plt.ylabel('Средний чек')\n",
    "plt.xticks(rotation=15)\n",
    "plt.show()"
   ]
  },
  {
   "cell_type": "markdown",
   "metadata": {},
   "source": [
    "**Вывод:**\n",
    "\n",
    "Средние чеки выравниваются к середине теста, но затем чеки из группы B сильно вырастают. Вероятно дело в аномально дорогих покупках."
   ]
  },
  {
   "cell_type": "markdown",
   "metadata": {},
   "source": [
    "<div class=\"alert alert-block alert-success\">✅ <b>Комментарий ревьюера:</b> Верный вывод :)\n",
    "</div>"
   ]
  },
  {
   "cell_type": "markdown",
   "metadata": {},
   "source": [
    "### График относительного изменения кумулятивного среднего чека группы B к группе A\n",
    "\n",
    "Постройте график относительного изменения кумулятивного среднего чека группы B к группе A. Сделайте выводы и предположения."
   ]
  },
  {
   "cell_type": "code",
   "execution_count": 29,
   "metadata": {
    "scrolled": true
   },
   "outputs": [
    {
     "data": {
      "image/png": "[encoded data removed]",
      "text/plain": [
       "<Figure size 1000x400 with 1 Axes>"
      ]
     },
     "metadata": {},
     "output_type": "display_data"
    }
   ],
   "source": [
    "# собираем данные в одном датафрейме\n",
    "mergedCumulativeRevenue = cumulativeRevenueA.merge(cumulativeRevenueB, \n",
    "                                                   left_on='date', right_on='date', how='left', suffixes=['A', 'B'])\n",
    "\n",
    "# cтроим отношение средних чеков\n",
    "plt.plot(mergedCumulativeRevenue['date'], \n",
    "         (mergedCumulativeRevenue['revenueB']/mergedCumulativeRevenue['ordersB'])\n",
    "         /(mergedCumulativeRevenue['revenueA']/mergedCumulativeRevenue['ordersA'])-1)\n",
    "\n",
    "# добавляем ось X\n",
    "plt.title('Относительное изменение кумулятивного среднего чека группы B к группе А')\n",
    "plt.axhline(y=0, color='black', linestyle='--')\n",
    "plt.xlabel('Дата')\n",
    "plt.ylabel('Относительное изменение, %')\n",
    "plt.xticks(rotation=15)\n",
    "plt.show()"
   ]
  },
  {
   "cell_type": "markdown",
   "metadata": {},
   "source": [
    "**Вывод:**\n",
    "\n",
    "График подтверждает предыдущие наблюдения, в середние теста есть аномальный всплеск в группе B. "
   ]
  },
  {
   "cell_type": "markdown",
   "metadata": {},
   "source": [
    "### График кумулятивной конверсии по группам\n",
    "\n",
    "Постройте график кумулятивной конверсии по группам. Сделайте выводы и предположения."
   ]
  },
  {
   "cell_type": "code",
   "execution_count": 30,
   "metadata": {},
   "outputs": [
    {
     "data": {
      "image/png": "[encoded data removed]",
      "text/plain": [
       "<Figure size 1000x400 with 1 Axes>"
      ]
     },
     "metadata": {},
     "output_type": "display_data"
    }
   ],
   "source": [
    "# считаем кумулятивную конверсию\n",
    "cumulativeData['conversion'] = cumulativeData['orders']/cumulativeData['visitors']\n",
    "\n",
    "# отделяем данные по группе A\n",
    "cumulativeDataA = cumulativeData[cumulativeData['group']=='A']\n",
    "\n",
    "# отделяем данные по группе B\n",
    "cumulativeDataB = cumulativeData[cumulativeData['group']=='B']\n",
    "\n",
    "# строим графики\n",
    "plt.plot(cumulativeDataA['date'], cumulativeDataA['conversion'], label='A')\n",
    "plt.plot(cumulativeDataB['date'], cumulativeDataB['conversion'], label='B')\n",
    "\n",
    "plt.title('Кумулятивная конверсия по группам')\n",
    "plt.legend()\n",
    "plt.xlabel('Дата')\n",
    "plt.ylabel('Конверсия')\n",
    "plt.xticks(rotation=15)\n",
    "plt.show()"
   ]
  },
  {
   "cell_type": "markdown",
   "metadata": {},
   "source": [
    "**Вывод:**\n",
    "\n",
    "После пика у обоих групп А-конверсия колеблется в диапазоне от 0.029 до 0.031. В-конверсия - от 0.033 и до 0,036. B-конверсия на сырых данных выглядит лучше."
   ]
  },
  {
   "cell_type": "markdown",
   "metadata": {},
   "source": [
    "<div class=\"alert alert-block alert-success\">✅ <b>Комментарий ревьюера:</b> Конверсия В стабильно выше конверсии А :)\n",
    "</div>"
   ]
  },
  {
   "cell_type": "markdown",
   "metadata": {},
   "source": [
    "### График относительного изменения кумулятивной конверсии группы B к группе A\n",
    "\n",
    "Постройте график относительного изменения кумулятивной конверсии группы B к группе A. Сделайте выводы и предположения."
   ]
  },
  {
   "cell_type": "code",
   "execution_count": 31,
   "metadata": {},
   "outputs": [
    {
     "data": {
      "image/png": "[encoded data removed]",
      "text/plain": [
       "<Figure size 1000x400 with 1 Axes>"
      ]
     },
     "metadata": {},
     "output_type": "display_data"
    }
   ],
   "source": [
    "mergedCumulativeConversions = cumulativeDataA[['date','conversion']].\\\n",
    "    merge(cumulativeDataB[['date','conversion']], left_on='date', right_on='date', how='left', suffixes=['A', 'B'])\n",
    "\n",
    "plt.plot(mergedCumulativeConversions['date'], \n",
    "         mergedCumulativeConversions['conversionB']/mergedCumulativeConversions['conversionA']-1, \n",
    "         label=\"Относительный прирост конверсии группы B относительно группы A\")\n",
    "\n",
    "plt.title('Относительное изменение кумулятивноый конверсии группы В к группе А')\n",
    "plt.legend()\n",
    "plt.axhline(y=0, color='black', linestyle='--')\n",
    "plt.axhline(y=0.1, color='grey', linestyle='--')\n",
    "plt.xlabel('Дата')\n",
    "plt.ylabel('Относительое изменение')\n",
    "plt.xticks(rotation=15)\n",
    "plt.show()"
   ]
  },
  {
   "cell_type": "markdown",
   "metadata": {},
   "source": [
    "**Вывод:**\n",
    "\n",
    "После провала вначале тестирования, конверсия группы В лучше конверсии группы А на наблюдаемом отрезке, в середине также есть аномальный всплеск."
   ]
  },
  {
   "cell_type": "markdown",
   "metadata": {},
   "source": [
    "### Точечный график количества заказов по пользователям\n",
    "\n",
    "Постройте точечный график количества заказов по пользователям. Сделайте выводы и предположения."
   ]
  },
  {
   "cell_type": "code",
   "execution_count": 32,
   "metadata": {},
   "outputs": [
    {
     "data": {
      "image/png": "[encoded data removed]",
      "text/plain": [
       "<Figure size 1000x400 with 1 Axes>"
      ]
     },
     "metadata": {},
     "output_type": "display_data"
    }
   ],
   "source": [
    "# Посчитаю количество заказов по пользователям:\n",
    "ordersByUsers = orders.groupby('visitorid', as_index=False).agg({'transactionid': 'nunique'})\n",
    "ordersByUsers.columns = ['userid', 'orders']\n",
    "\n",
    "x_values = pd.Series(range(0,len(ordersByUsers)))\n",
    "\n",
    "plt.scatter(x_values, ordersByUsers['orders'], alpha = 0.7)\n",
    "plt.title('Количество заказов по пользователям')\n",
    "plt.xlabel('Дата')\n",
    "plt.ylabel('Число заказов')\n",
    "plt.show()"
   ]
  },
  {
   "cell_type": "markdown",
   "metadata": {},
   "source": [
    "**Вывод:**\n",
    "\n",
    "В основном покупают 1 раз, но есть относительно немного заядлых пользователей, сделавших больше 2 заказов"
   ]
  },
  {
   "cell_type": "markdown",
   "metadata": {},
   "source": [
    "<div class=\"alert alert-block alert-warning\"> ⚠️ <b>Комментарий ревьюера 2:</b> После удаления пересекающихся пользователей, график изменился. Стоит поправить вывод (касается и всех выводов ниже)</div>"
   ]
  },
  {
   "cell_type": "markdown",
   "metadata": {},
   "source": [
    "<div class=\"alert alert-block alert-success\">✅ <b>Комментарий ревьюера 3:</b> Отлично, теперь вывод соответствует графику :)\n",
    "</div>"
   ]
  },
  {
   "cell_type": "markdown",
   "metadata": {},
   "source": [
    "### Перцентили количества заказов на пользователя\n",
    "\n",
    "Посчитайте 95-й и 99-й перцентили количества заказов на пользователя. Выберите границу для определения аномальных пользователей."
   ]
  },
  {
   "cell_type": "code",
   "execution_count": 33,
   "metadata": {},
   "outputs": [
    {
     "name": "stdout",
     "output_type": "stream",
     "text": [
      "95 перцентиль числа заказов на пользователя: 1.00\n",
      "99 перцентиль числа заказов на пользователя: 2.00\n"
     ]
    }
   ],
   "source": [
    "print('95 перцентиль числа заказов на пользователя: %.2f' % (np.percentile(ordersByUsers['orders'], [95])))\n",
    "print('99 перцентиль числа заказов на пользователя: %.2f' % (np.percentile(ordersByUsers['orders'], [99])))"
   ]
  },
  {
   "cell_type": "markdown",
   "metadata": {},
   "source": [
    "**Вывод:**\n",
    "\n",
    "Не более 5% пользователей оформляли больше 1 заказа и не более 1% - более 2 заказов. Разумно выбрать 1 заказ на одного пользователя за верхнюю границу числа заказов, и отсеять аномальных пользователей по ней."
   ]
  },
  {
   "cell_type": "markdown",
   "metadata": {},
   "source": [
    "<div class=\"alert alert-block alert-success\">✅ <b>Комментарий ревьюера:</b> Хорошее решение в качестве границы взять 95 перцентиль :)\n",
    "</div>"
   ]
  },
  {
   "cell_type": "markdown",
   "metadata": {},
   "source": [
    "### Точечный график стоимостей заказов\n",
    "\n",
    "Постройте точечный график стоимостей заказов. Сделайте выводы и предположения."
   ]
  },
  {
   "cell_type": "code",
   "execution_count": 34,
   "metadata": {},
   "outputs": [
    {
     "data": {
      "image/png": "[encoded data removed]",
      "text/plain": [
       "<Figure size 1000x400 with 1 Axes>"
      ]
     },
     "metadata": {},
     "output_type": "display_data"
    }
   ],
   "source": [
    "x_values = pd.Series(range(0, len(orders['revenue'])))\n",
    "\n",
    "plt.scatter(x_values, orders['revenue'], color='green', alpha = 0.35)\n",
    "plt.title('Стоимости заказов')\n",
    "plt.xlabel('Дата')\n",
    "plt.ylabel('Стоимость заказа')\n",
    "plt.show()"
   ]
  },
  {
   "cell_type": "markdown",
   "metadata": {},
   "source": [
    "**Вывод:**\n",
    "\n",
    "На графике отчётливо видны два выброса, которые вызвали рост кумулятивной выручки."
   ]
  },
  {
   "cell_type": "markdown",
   "metadata": {},
   "source": [
    "<div class=\"alert alert-block alert-success\">✅ <b>Комментарий ревьюера:</b> Для большей наглядности распределения можно построить график без учёта 2х явных выбросов :)\n",
    "</div>"
   ]
  },
  {
   "cell_type": "markdown",
   "metadata": {},
   "source": [
    "### Перцентили стоимости заказов\n",
    "\n",
    "Посчитайте 95-й и 99-й перцентили стоимости заказов. Выберите границу для определения аномальных заказов."
   ]
  },
  {
   "cell_type": "code",
   "execution_count": 35,
   "metadata": {},
   "outputs": [
    {
     "name": "stdout",
     "output_type": "stream",
     "text": [
      "95 перцентиль стоимости заказов: 26785.00\n",
      "99 перцентиль стоимости заказов: 53904.00\n"
     ]
    }
   ],
   "source": [
    "print('95 перцентиль стоимости заказов: %.2f' % (np.percentile(orders['revenue'], [95])))\n",
    "print('99 перцентиль стоимости заказов: %.2f' % (np.percentile(orders['revenue'], [99])))"
   ]
  },
  {
   "cell_type": "code",
   "execution_count": 36,
   "metadata": {},
   "outputs": [
    {
     "data": {
      "text/html": [
       "<div>\n",
       "<style scoped>\n",
       "    .dataframe tbody tr th:only-of-type {\n",
       "        vertical-align: middle;\n",
       "    }\n",
       "\n",
       "    .dataframe tbody tr th {\n",
       "        vertical-align: top;\n",
       "    }\n",
       "\n",
       "    .dataframe thead th {\n",
       "        text-align: right;\n",
       "    }\n",
       "</style>\n",
       "<table border=\"1\" class=\"dataframe\">\n",
       "  <thead>\n",
       "    <tr style=\"text-align: right;\">\n",
       "      <th></th>\n",
       "      <th>revenue</th>\n",
       "    </tr>\n",
       "  </thead>\n",
       "  <tbody>\n",
       "    <tr>\n",
       "      <th>count</th>\n",
       "      <td>1.016000e+03</td>\n",
       "    </tr>\n",
       "    <tr>\n",
       "      <th>mean</th>\n",
       "      <td>8.300815e+03</td>\n",
       "    </tr>\n",
       "    <tr>\n",
       "      <th>std</th>\n",
       "      <td>4.212199e+04</td>\n",
       "    </tr>\n",
       "    <tr>\n",
       "      <th>min</th>\n",
       "      <td>5.000000e+01</td>\n",
       "    </tr>\n",
       "    <tr>\n",
       "      <th>25%</th>\n",
       "      <td>1.190000e+03</td>\n",
       "    </tr>\n",
       "    <tr>\n",
       "      <th>50%</th>\n",
       "      <td>2.955000e+03</td>\n",
       "    </tr>\n",
       "    <tr>\n",
       "      <th>75%</th>\n",
       "      <td>8.134250e+03</td>\n",
       "    </tr>\n",
       "    <tr>\n",
       "      <th>max</th>\n",
       "      <td>1.294500e+06</td>\n",
       "    </tr>\n",
       "  </tbody>\n",
       "</table>\n",
       "</div>"
      ],
      "text/plain": [
       "            revenue\n",
       "count  1.016000e+03\n",
       "mean   8.300815e+03\n",
       "std    4.212199e+04\n",
       "min    5.000000e+01\n",
       "25%    1.190000e+03\n",
       "50%    2.955000e+03\n",
       "75%    8.134250e+03\n",
       "max    1.294500e+06"
      ]
     },
     "execution_count": 36,
     "metadata": {},
     "output_type": "execute_result"
    }
   ],
   "source": [
    "# Посмотрю на распределение сумм выручки:\n",
    "orders[['revenue']].describe()"
   ]
  },
  {
   "cell_type": "markdown",
   "metadata": {},
   "source": [
    "**Вывод:**\n",
    "\n",
    "В последующих пунктах уберу пользователей по количеству заказов больше 2, отсеку 5% с наибольшим количеством заказов, дополнительно убрав пользователей с выручкой выше 99 перцентиля, отсеятся от 1% до 5% пользователей."
   ]
  },
  {
   "cell_type": "markdown",
   "metadata": {},
   "source": [
    "<div class=\"alert alert-block alert-success\">✅ <b>Комментарий ревьюера:</b> Всё здорово :)\n",
    "</div>"
   ]
  },
  {
   "cell_type": "markdown",
   "metadata": {},
   "source": [
    "### Статистическая значимость различий в конверсии между группами по «сырым» данным\n",
    "<a id='section_id6'></a>\n",
    "Посчитайте статистическую значимость различий в конверсии между группами по «сырым» данным. Сделайте выводы и предположения."
   ]
  },
  {
   "cell_type": "markdown",
   "metadata": {},
   "source": [
    "Воспользуюсь критерием Манна-Уитни\n",
    "* H0: Конверсия в группе A **равна** конверсии в группе B\n",
    "* H1: Конверсия в группе A **не равна** конверсии в группе B"
   ]
  },
  {
   "cell_type": "code",
   "execution_count": 37,
   "metadata": {},
   "outputs": [
    {
     "data": {
      "text/html": [
       "<div>\n",
       "<style scoped>\n",
       "    .dataframe tbody tr th:only-of-type {\n",
       "        vertical-align: middle;\n",
       "    }\n",
       "\n",
       "    .dataframe tbody tr th {\n",
       "        vertical-align: top;\n",
       "    }\n",
       "\n",
       "    .dataframe thead th {\n",
       "        text-align: right;\n",
       "    }\n",
       "</style>\n",
       "<table border=\"1\" class=\"dataframe\">\n",
       "  <thead>\n",
       "    <tr style=\"text-align: right;\">\n",
       "      <th></th>\n",
       "      <th>date</th>\n",
       "      <th>group</th>\n",
       "      <th>orders</th>\n",
       "      <th>buyers</th>\n",
       "      <th>revenue</th>\n",
       "      <th>visitors</th>\n",
       "      <th>conversion</th>\n",
       "      <th>visitorsPerDateA</th>\n",
       "      <th>visitorsPerDateB</th>\n",
       "    </tr>\n",
       "  </thead>\n",
       "  <tbody>\n",
       "    <tr>\n",
       "      <th>0</th>\n",
       "      <td>2019-08-01</td>\n",
       "      <td>A</td>\n",
       "      <td>23</td>\n",
       "      <td>19</td>\n",
       "      <td>142779</td>\n",
       "      <td>719</td>\n",
       "      <td>0.031989</td>\n",
       "      <td>719.0</td>\n",
       "      <td>0.0</td>\n",
       "    </tr>\n",
       "    <tr>\n",
       "      <th>1</th>\n",
       "      <td>2019-08-01</td>\n",
       "      <td>B</td>\n",
       "      <td>17</td>\n",
       "      <td>17</td>\n",
       "      <td>59758</td>\n",
       "      <td>713</td>\n",
       "      <td>0.023843</td>\n",
       "      <td>0.0</td>\n",
       "      <td>713.0</td>\n",
       "    </tr>\n",
       "  </tbody>\n",
       "</table>\n",
       "</div>"
      ],
      "text/plain": [
       "        date group  orders  buyers  revenue  visitors  conversion  \\\n",
       "0 2019-08-01     A      23      19   142779       719    0.031989   \n",
       "1 2019-08-01     B      17      17    59758       713    0.023843   \n",
       "\n",
       "   visitorsPerDateA  visitorsPerDateB  \n",
       "0             719.0               0.0  \n",
       "1               0.0             713.0  "
      ]
     },
     "execution_count": 37,
     "metadata": {},
     "output_type": "execute_result"
    }
   ],
   "source": [
    "# Подготовлю датафрейм для расчёта конверсии по дням:\n",
    "ordersAggregated = datesGroups.apply(\n",
    "    lambda x: orders[\n",
    "        np.logical_and(orders['date'] <= x['date'], orders['group'] == x['group'])]\n",
    "        .agg({\n",
    "            'date': 'max',\n",
    "            'group': 'max',\n",
    "            'transactionid': 'nunique',\n",
    "            'visitorid': 'nunique',\n",
    "            'revenue': 'sum',\n",
    "        }\n",
    "    ),\n",
    "    axis=1,\n",
    ").sort_values(by=['date', 'group'])\n",
    "\n",
    "visitorsAggregated = datesGroups.apply(\n",
    "    lambda x: visitors[np.logical_and(visitors['date'] <= x['date'], visitors['group'] == x['group'])]\n",
    "    .agg({'date': 'max', 'group': 'max', 'visitors': 'sum'}),\n",
    "    axis=1,\n",
    ").sort_values(by=['date', 'group'])\n",
    "\n",
    "# объединю датафреймы и посчитаю конверсию по дням:\n",
    "conversionDaily = ordersAggregated.\\\n",
    "    merge(visitorsAggregated, left_on=['date', 'group'], right_on=['date', 'group'])\n",
    "conversionDaily.columns = [\n",
    "    'date',\n",
    "    'group',\n",
    "    'orders',\n",
    "    'buyers',\n",
    "    'revenue',\n",
    "    'visitors',\n",
    "]\n",
    "conversionDaily['conversion'] = (conversionDaily['orders'] / conversionDaily['visitors'])\n",
    "conversionDaily['visitorsPerDateA'] = conversionDaily[conversionDaily['group'] == 'A']['visitors']\n",
    "conversionDaily['visitorsPerDateB'] = conversionDaily[conversionDaily['group'] == 'B']['visitors']\n",
    "\n",
    "conversionDaily['visitorsPerDateA'] = conversionDaily['visitorsPerDateA'].fillna(0)\n",
    "conversionDaily['visitorsPerDateB'] = conversionDaily['visitorsPerDateB'].fillna(0)\n",
    "conversionDaily.head(2)"
   ]
  },
  {
   "cell_type": "code",
   "execution_count": 38,
   "metadata": {},
   "outputs": [
    {
     "name": "stdout",
     "output_type": "stream",
     "text": [
      "0.010\n",
      "0.166\n"
     ]
    }
   ],
   "source": [
    "ordersByUsersA = (\n",
    "    orders[orders['group'] == 'A']\n",
    "    .groupby('visitorid', as_index=False)\n",
    "    .agg({'transactionid': pd.Series.nunique})\n",
    ")\n",
    "ordersByUsersA.columns = ['userid', 'orders']\n",
    "\n",
    "ordersByUsersB = (\n",
    "    orders[orders['group'] == 'B']\n",
    "    .groupby('visitorid', as_index=False)\n",
    "    .agg({'transactionid': pd.Series.nunique})\n",
    ")\n",
    "ordersByUsersB.columns = ['userid', 'orders']\n",
    "\n",
    "sampleA = pd.concat(\n",
    "    [\n",
    "        ordersByUsersA['orders'],\n",
    "        pd.Series(\n",
    "            0, index=np.arange(conversionDaily['visitorsPerDateA'].sum() - len(ordersByUsersA['orders'])),\n",
    "            name='orders',\n",
    "        ),\n",
    "    ],\n",
    "    axis=0,\n",
    ")\n",
    "\n",
    "sampleB = pd.concat(\n",
    "    [\n",
    "        ordersByUsersB['orders'],\n",
    "        pd.Series(\n",
    "            0,index=np.arange(conversionDaily['visitorsPerDateB'].sum() - len(ordersByUsersB['orders'])),\n",
    "            name='orders',\n",
    "        ),\n",
    "    ],\n",
    "    axis=0,\n",
    ")\n",
    "\n",
    "print(\"{0:.3f}\".format(stats.mannwhitneyu(sampleA, sampleB)[1]))\n",
    "\n",
    "print(\"{0:.3f}\".format(sampleB.mean() / sampleA.mean() - 1))"
   ]
  },
  {
   "cell_type": "markdown",
   "metadata": {},
   "source": [
    "**Вывод:**\n",
    "\n",
    "По «сырым» данным статистически значимые различия в конверсиях групп А и B есть. Первое число — p-value = 0.01 меньше 0.05. Значит отверагем нулевую гипотезу о том, что статистически значимых различий в среднем числе заказов между группами нет. Однако относительный проигрыш группы B равен 16.6% — второе число в выводе."
   ]
  },
  {
   "cell_type": "markdown",
   "metadata": {},
   "source": [
    "<div class=\"alert alert-block alert-danger\">❌ <b>Комментарий ревьюера:</b> Здесь тоже стоит воспользоваться Манном-Уитни. В условии задания конверсия подразумевает за собой немного другое. Здесь нужно сгруппировать по user_id и посчитать кол-во заказов на каждого пользователя в каждой из групп, добавив 0 тем, кто ничего не заказал (по аналогии с тренажером, если не ошибаюсь) \n",
    "</div>"
   ]
  },
  {
   "cell_type": "markdown",
   "metadata": {},
   "source": [
    "<div class=\"alert alert-block alert-info\"><b>Комментарий студента</b>\n",
    "    \n",
    "Я окончательно запуался в этом пункте. В слаке также по нему много вопросов было у ребят. Но как-то непонятно к чему в итоге нужно прийти. Плюс не понял, почему, если 12 задание, аналогичное этому, как я понял - ок, то тут надо через Манна-Уитни считать?\n",
    "    <br></div> "
   ]
  },
  {
   "cell_type": "markdown",
   "metadata": {},
   "source": [
    "<div class=\"alert alert-block alert-danger\">❌ <b>Комментарий ревьюера 2:</b> Критерий Манна-Уитни нужно использовать для того, чтобы можно было понять стали ли пользователи в среднем делать больше или меньше покупок. С помощью z-критерия можно оценить только равенство/различие конверсий  \n",
    "</div>"
   ]
  },
  {
   "cell_type": "markdown",
   "metadata": {},
   "source": [
    "<div class=\"alert alert-block alert-info\"><b>Комментарий студента</b>\n",
    "    \n",
    "Вроде поправил\n",
    "    <br></div> "
   ]
  },
  {
   "cell_type": "markdown",
   "metadata": {},
   "source": [
    "<div class=\"alert alert-block alert-success\">✅ <b>Комментарий ревьюера 3:</b> Расчёты корректны :)\n",
    "</div>"
   ]
  },
  {
   "cell_type": "markdown",
   "metadata": {},
   "source": [
    "### Статистическая значимость различий в среднем чеке заказа между группами по «сырым» данным\n",
    "\n",
    "Посчитайте статистическую значимость различий в среднем чеке заказа между группами по «сырым» данным. Сделайте выводы и предположения.\n",
    "\n",
    "Воспользуюсь критерием Манна-Уитни\n",
    "* H0: Средний чек A **не превосходит** средний чек группы B\n",
    "* H1: Средний чек A **превосходит** средний чек группы B"
   ]
  },
  {
   "cell_type": "code",
   "execution_count": 39,
   "metadata": {},
   "outputs": [
    {
     "name": "stdout",
     "output_type": "stream",
     "text": [
      "p-значение: 0.8294908998149533\n",
      "Не получилось отвергнуть нулевую гипотезу, вывод о различии сделать нельзя\n"
     ]
    }
   ],
   "source": [
    "# критический уровень статистической значимости\n",
    "alpha = 0.05\n",
    "\n",
    "results = st.mannwhitneyu(orders[orders['group']=='A']['revenue'], \n",
    "                          orders[orders['group']=='B']['revenue'])\n",
    "\n",
    "print('p-значение:', results.pvalue)\n",
    "if (results.pvalue < alpha):\n",
    "    print('Отвергаем нулевую гипотезу: разница статистически значима')\n",
    "else:\n",
    "    print('Не получилось отвергнуть нулевую гипотезу, вывод о различии сделать нельзя')"
   ]
  },
  {
   "cell_type": "markdown",
   "metadata": {},
   "source": [
    "<div class=\"alert alert-block alert-danger\">❌ <b>Комментарий ревьюера:</b> Здесь ошибка: name 'pvalue' is not defined\n",
    "</div>"
   ]
  },
  {
   "cell_type": "markdown",
   "metadata": {},
   "source": [
    "<div class=\"alert alert-block alert-info\"><b>Комментарий студента</b>\n",
    "    \n",
    "<b>Изменения:</b> Исправил <br></div> "
   ]
  },
  {
   "cell_type": "markdown",
   "metadata": {},
   "source": [
    "<div class=\"alert alert-block alert-success\">✅ <b>Комментарий ревьюера 2:</b> Всё верно :)\n",
    "</div>"
   ]
  },
  {
   "cell_type": "code",
   "execution_count": 40,
   "metadata": {
    "scrolled": false
   },
   "outputs": [
    {
     "name": "stdout",
     "output_type": "stream",
     "text": [
      "Средний чек по группе А: 7189.4358974358975\n",
      "Средний чек по группе B: 9249.94890510949\n"
     ]
    }
   ],
   "source": [
    "# Дополнительно посмотрю на величины средних чеков по группам по сырым данным: \n",
    "print('Средний чек по группе А:', orders[orders['group']=='A']['revenue'].mean())\n",
    "print('Средний чек по группе B:', orders[orders['group']=='B']['revenue'].mean())"
   ]
  },
  {
   "cell_type": "markdown",
   "metadata": {},
   "source": [
    "**Вывод:**\n",
    "\n",
    "По сырым данным не получилось отвергнуть нулевую гипотезу - средний чек группы А статистически значимо не отличается от среднего чека группы B."
   ]
  },
  {
   "cell_type": "markdown",
   "metadata": {},
   "source": [
    "### Статистическая значимость различий в конверсии между группами по «очищенным» данным\n",
    "\n",
    "Посчитайте статистическую значимость различий в конверсии между группами по «очищенным» данным. Сделайте выводы и предположения."
   ]
  },
  {
   "cell_type": "code",
   "execution_count": 41,
   "metadata": {},
   "outputs": [
    {
     "data": {
      "text/html": [
       "<div>\n",
       "<style scoped>\n",
       "    .dataframe tbody tr th:only-of-type {\n",
       "        vertical-align: middle;\n",
       "    }\n",
       "\n",
       "    .dataframe tbody tr th {\n",
       "        vertical-align: top;\n",
       "    }\n",
       "\n",
       "    .dataframe thead th {\n",
       "        text-align: right;\n",
       "    }\n",
       "</style>\n",
       "<table border=\"1\" class=\"dataframe\">\n",
       "  <thead>\n",
       "    <tr style=\"text-align: right;\">\n",
       "      <th></th>\n",
       "      <th>group</th>\n",
       "      <th>orders</th>\n",
       "      <th>visitors</th>\n",
       "      <th>conversion</th>\n",
       "    </tr>\n",
       "  </thead>\n",
       "  <tbody>\n",
       "    <tr>\n",
       "      <th>0</th>\n",
       "      <td>A</td>\n",
       "      <td>420</td>\n",
       "      <td>18736</td>\n",
       "      <td>0.022417</td>\n",
       "    </tr>\n",
       "    <tr>\n",
       "      <th>1</th>\n",
       "      <td>B</td>\n",
       "      <td>505</td>\n",
       "      <td>18916</td>\n",
       "      <td>0.026697</td>\n",
       "    </tr>\n",
       "  </tbody>\n",
       "</table>\n",
       "</div>"
      ],
      "text/plain": [
       "  group  orders  visitors  conversion\n",
       "0     A     420     18736    0.022417\n",
       "1     B     505     18916    0.026697"
      ]
     },
     "execution_count": 41,
     "metadata": {},
     "output_type": "execute_result"
    }
   ],
   "source": [
    "# Оставлю в сгруппированном датафрейме пользователей с количеством заказов меньше 2:\n",
    "ordersByUsers_normal = copy.deepcopy(ordersByUsers[ordersByUsers['orders'] < 2])\n",
    "# Оставшихся пользователей найду в датафрейме orders и уберу лишних\n",
    "orders_clean = copy.deepcopy(orders[orders['visitorid'].isin(ordersByUsers_normal['userid'])])\n",
    "# Также уберу заказы со стоимостью заказа больше или равно 53904:  \n",
    "orders_clean = orders_clean[orders_clean['revenue'] < 53904]\n",
    "orders_clean\n",
    "\n",
    "# Посчитаю конверсию очищенным данным по группам:\n",
    "conversion_clean = (orders_clean.groupby('group').agg({'transactionid':'count'}).rename(columns={'transactionid':'orders'}))\\\n",
    "                                     .join((visitors.groupby('group').agg({'visitors':'sum'}))).reset_index()\n",
    "conversion_clean['conversion'] = conversion_clean['orders'] / conversion_clean['visitors']\n",
    "conversion_clean"
   ]
  },
  {
   "cell_type": "markdown",
   "metadata": {},
   "source": [
    "Воспользуюсь Z-критерием для сравнения разности двух долей.\n",
    "* H0: Конверсия в группе A **равна** конверсии в группе B\n",
    "* H1: Конверсия в группе A **не равна** конверсии в группе B"
   ]
  },
  {
   "cell_type": "code",
   "execution_count": 42,
   "metadata": {},
   "outputs": [
    {
     "name": "stdout",
     "output_type": "stream",
     "text": [
      "p-значение: 0.007305831339946778\n",
      "Отвергаем нулевую гипотезу: между долями есть значимая разница\n"
     ]
    }
   ],
   "source": [
    "# критический уровень статистической значимости\n",
    "alpha=0.05\n",
    "purchases = np.array(conversion_clean['orders'])\n",
    "leads = np.array(conversion_clean['visitors'])\n",
    "p1 = purchases[0] / leads[0]\n",
    "p2 = purchases[1] / leads[1]\n",
    "\n",
    "# считаю статистику в ст.отклонениях стандартного нормального распределения\n",
    "p_combined = (purchases[0] + purchases[1]) / (leads[0] + leads[1])\n",
    "difference = p1-p2\n",
    "z_value = difference / math.sqrt(p_combined * (1 - p_combined) * (1 / leads[0] + 1 / leads[1]))\n",
    "\n",
    "# задаю стандартное нормальное распределение (среднее 0, ст.отклонение 1)\n",
    "distr = st.norm(0, 1)\n",
    "p_value = (1 - distr.cdf(abs(z_value))) * 2\n",
    "\n",
    "print('p-значение:', p_value)\n",
    "if (p_value < alpha):\n",
    "    print('Отвергаем нулевую гипотезу: между долями есть значимая разница')\n",
    "else:\n",
    "    print('Не получилось отвергнуть нулевую гипотезу: нет оснований считать доли разными')"
   ]
  },
  {
   "cell_type": "markdown",
   "metadata": {},
   "source": [
    "**Вывод:**\n",
    "\n",
    "Конверсия группы B по-прежнему превышает конверсию А со статистической значимостью."
   ]
  },
  {
   "cell_type": "markdown",
   "metadata": {},
   "source": [
    "### Статистическая значимость различий в среднем чеке заказа между группами по «очищенным» данным\n",
    "\n",
    "Посчитайте статистическую значимость различий в среднем чеке заказа между группами по «очищенным» данным. Сделайте выводы и предположения.\n",
    "\n",
    "Воспользуюсь критерием Манна-Уитни\n",
    "* H0: Средний чек A **не превосходит** средний чек группы B\n",
    "* H1: Средний чек A **превосходит** средний чек группы B"
   ]
  },
  {
   "cell_type": "code",
   "execution_count": 43,
   "metadata": {},
   "outputs": [
    {
     "name": "stdout",
     "output_type": "stream",
     "text": [
      "p-значение: 0.972689879549994\n",
      "Не получилось отвергнуть нулевую гипотезу, вывод о различии сделать нельзя\n"
     ]
    }
   ],
   "source": [
    "# критический уровень статистической значимости\n",
    "alpha = 0.05\n",
    "results = st.mannwhitneyu(orders_clean[orders_clean['group']=='A']['revenue'], \n",
    "                          orders_clean[orders_clean['group']=='B']['revenue'])\n",
    "\n",
    "print('p-значение:', results.pvalue)\n",
    "if (results.pvalue < alpha):\n",
    "    print('Отвергаем нулевую гипотезу: разница статистически значима')\n",
    "else:\n",
    "    print('Не получилось отвергнуть нулевую гипотезу, вывод о различии сделать нельзя')"
   ]
  },
  {
   "cell_type": "code",
   "execution_count": 44,
   "metadata": {},
   "outputs": [
    {
     "name": "stdout",
     "output_type": "stream",
     "text": [
      "Средний чек по группе А: 6145.652380952381\n",
      "Средний чек по группе B: 6293.124752475247\n"
     ]
    }
   ],
   "source": [
    "# Дополнительно посмотрю на величины средних чеков по группам по очищенным данным: \n",
    "print('Средний чек по группе А:', orders_clean[orders_clean['group']=='A']['revenue'].mean())\n",
    "print('Средний чек по группе B:', orders_clean[orders_clean['group']=='B']['revenue'].mean())"
   ]
  },
  {
   "cell_type": "markdown",
   "metadata": {},
   "source": [
    "**Вывод:**\n",
    "\n",
    "По очищенным данным средний чек группы А статистически значимо не отличается от среднего чека группы B."
   ]
  },
  {
   "cell_type": "markdown",
   "metadata": {},
   "source": [
    "### Результаты теста\n",
    "\n",
    "Примите решение по результатам теста и объясните его. Варианты решений: \n",
    "1. Остановить тест, зафиксировать победу одной из групп. \n",
    "2. Остановить тест, зафиксировать отсутствие различий между группами. \n",
    "3. Продолжить тест."
   ]
  },
  {
   "cell_type": "markdown",
   "metadata": {},
   "source": [
    "**Вывод:**\n",
    "\n",
    "Предлагается остановить тест и зафиксировать победу группы В"
   ]
  },
  {
   "cell_type": "markdown",
   "metadata": {},
   "source": [
    "<div class=\"alert alert-block alert-warning\"> ⚠️ <b>Комментарий ревьюера:</b> Можешь, пожалуйста, уточнить, о каких графиках идёт речь? Также в вывод стоит добвавить все результаты по данному блоку заданий</div>"
   ]
  },
  {
   "cell_type": "markdown",
   "metadata": {},
   "source": [
    "<div class=\"alert alert-block alert-warning\"> ⚠️ <b>Комментарий ревьюера 2:</b> А если графики так и не нормализуются, что тогда можно предположить? В целом за месячный период есть хорошие результаты групп по конверсии, и по среднему чеку</div>"
   ]
  },
  {
   "cell_type": "markdown",
   "metadata": {},
   "source": [
    "**Ссылки на разделы в тетрадке:**\n",
    "\n",
    "1. [Импортирование библиотек](#section_id)\n",
    "\n",
    "* [Обзор данных](#section_id1)\n",
    "\n",
    "* [Предобработка данных](#section_id2)\n",
    "\n",
    "2. [Приоритизация гипотез](#section_id3)\n",
    "\n",
    "3. [Анализ A/B-теста](#section_id4)\n",
    "\n",
    "* [Графики](#section_id5)\n",
    "\n",
    "* [Статистическая значимость](#section_id6)"
   ]
  },
  {
   "cell_type": "markdown",
   "metadata": {},
   "source": [
    "<div class=\"alert alert-block alert-danger\"> <b>Итоги ревью:</b> Хороший проект. Проделана качественная работа. Отдельно отмечу структуру и оформление. Но, к сожалению, есть несколько замечаний, требующие корректировок и уточнений. Желаю успехов и жду работу на повторное ревью :)\n",
    "</div>\n",
    "<div class=\"alert alert-block alert-danger\"> <b>Итоги ревью 2:</b> Проект преобразился. Но ещё осталось несколько вопросов, требующих уточнений. Желаю успехов :)\n",
    "</div>\n",
    "\n",
    "<div class=\"alert alert-block alert-success\"> <b>Итоги ревью 3:</b> Проект принят. Все критические замечания исправлены корректно. Желаю успехов в будущих исследованиях  :)\n",
    "</div>"
   ]
  }
 ],
 "metadata": {
  "ExecuteTimeLog": [
   {
    "duration": 377,
    "start_time": "2022-07-25T18:54:42.062Z"
   },
   {
    "duration": 387,
    "start_time": "2022-07-25T18:57:39.007Z"
   },
   {
    "duration": 2,
    "start_time": "2022-07-25T18:57:44.346Z"
   },
   {
    "duration": 146,
    "start_time": "2022-07-25T18:59:25.827Z"
   },
   {
    "duration": 115,
    "start_time": "2022-07-25T19:00:05.467Z"
   },
   {
    "duration": 11,
    "start_time": "2022-07-25T19:01:25.979Z"
   },
   {
    "duration": 9,
    "start_time": "2022-07-25T19:01:32.183Z"
   },
   {
    "duration": 70,
    "start_time": "2022-07-25T19:01:40.283Z"
   },
   {
    "duration": 10,
    "start_time": "2022-07-25T19:04:04.118Z"
   },
   {
    "duration": 7,
    "start_time": "2022-07-25T19:04:07.216Z"
   },
   {
    "duration": 7,
    "start_time": "2022-07-25T19:04:14.071Z"
   },
   {
    "duration": 9,
    "start_time": "2022-07-25T19:04:57.765Z"
   },
   {
    "duration": 7,
    "start_time": "2022-07-25T19:06:33.008Z"
   },
   {
    "duration": 8,
    "start_time": "2022-07-25T19:06:41.505Z"
   },
   {
    "duration": 13,
    "start_time": "2022-07-25T19:06:50.056Z"
   },
   {
    "duration": 16,
    "start_time": "2022-07-25T19:06:55.024Z"
   },
   {
    "duration": 17,
    "start_time": "2022-07-25T19:07:05.585Z"
   },
   {
    "duration": 71,
    "start_time": "2022-07-25T19:07:34.193Z"
   },
   {
    "duration": 12,
    "start_time": "2022-07-25T19:07:51.153Z"
   },
   {
    "duration": 10,
    "start_time": "2022-07-25T19:07:56.452Z"
   },
   {
    "duration": 9,
    "start_time": "2022-07-25T19:08:04.180Z"
   },
   {
    "duration": 18,
    "start_time": "2022-07-25T19:08:09.688Z"
   },
   {
    "duration": 8,
    "start_time": "2022-07-25T19:08:11.568Z"
   },
   {
    "duration": 8,
    "start_time": "2022-07-25T19:08:21.743Z"
   },
   {
    "duration": 10,
    "start_time": "2022-07-25T19:08:28.641Z"
   },
   {
    "duration": 9,
    "start_time": "2022-07-25T19:08:29.739Z"
   },
   {
    "duration": 10,
    "start_time": "2022-07-25T19:08:35.925Z"
   },
   {
    "duration": 9,
    "start_time": "2022-07-25T19:09:06.191Z"
   },
   {
    "duration": 11,
    "start_time": "2022-07-25T19:09:13.796Z"
   },
   {
    "duration": 75,
    "start_time": "2022-07-25T19:10:26.757Z"
   },
   {
    "duration": 6,
    "start_time": "2022-07-25T19:12:54.353Z"
   },
   {
    "duration": 13,
    "start_time": "2022-07-25T19:13:02.058Z"
   },
   {
    "duration": 12,
    "start_time": "2022-07-25T19:13:07.115Z"
   },
   {
    "duration": 11,
    "start_time": "2022-07-25T19:13:12.677Z"
   },
   {
    "duration": 10,
    "start_time": "2022-07-25T19:13:16.549Z"
   },
   {
    "duration": 8,
    "start_time": "2022-07-25T19:14:29.708Z"
   },
   {
    "duration": 12,
    "start_time": "2022-07-25T19:19:58.230Z"
   },
   {
    "duration": 12,
    "start_time": "2022-07-25T19:21:26.408Z"
   },
   {
    "duration": 4,
    "start_time": "2022-07-25T19:22:41.108Z"
   },
   {
    "duration": 9,
    "start_time": "2022-07-25T19:22:51.176Z"
   },
   {
    "duration": 9,
    "start_time": "2022-07-25T19:23:06.949Z"
   },
   {
    "duration": 9,
    "start_time": "2022-07-25T19:23:23.267Z"
   },
   {
    "duration": 10,
    "start_time": "2022-07-25T19:23:28.158Z"
   },
   {
    "duration": 2,
    "start_time": "2022-07-25T19:23:39.491Z"
   },
   {
    "duration": 3,
    "start_time": "2022-07-25T19:23:43.281Z"
   },
   {
    "duration": 10,
    "start_time": "2022-07-25T19:24:00.881Z"
   },
   {
    "duration": 9,
    "start_time": "2022-07-25T19:24:18.579Z"
   },
   {
    "duration": 9,
    "start_time": "2022-07-25T19:25:04.577Z"
   },
   {
    "duration": 11,
    "start_time": "2022-07-25T19:25:12.845Z"
   },
   {
    "duration": 12,
    "start_time": "2022-07-25T19:25:25.380Z"
   },
   {
    "duration": 11,
    "start_time": "2022-07-25T19:25:26.301Z"
   },
   {
    "duration": 8,
    "start_time": "2022-07-25T20:10:26.794Z"
   },
   {
    "duration": 10,
    "start_time": "2022-07-25T20:10:33.793Z"
   },
   {
    "duration": 7,
    "start_time": "2022-07-25T20:10:34.188Z"
   },
   {
    "duration": 7,
    "start_time": "2022-07-25T20:10:36.287Z"
   },
   {
    "duration": 7,
    "start_time": "2022-07-25T20:15:35.128Z"
   },
   {
    "duration": 11,
    "start_time": "2022-07-25T20:15:36.872Z"
   },
   {
    "duration": 10,
    "start_time": "2022-07-25T20:15:47.075Z"
   },
   {
    "duration": 9,
    "start_time": "2022-07-25T20:15:47.616Z"
   },
   {
    "duration": 268,
    "start_time": "2022-07-25T20:19:40.593Z"
   },
   {
    "duration": 277,
    "start_time": "2022-07-25T20:19:51.167Z"
   },
   {
    "duration": 255,
    "start_time": "2022-07-25T20:20:41.379Z"
   },
   {
    "duration": 254,
    "start_time": "2022-07-25T20:20:43.168Z"
   },
   {
    "duration": 10,
    "start_time": "2022-07-25T20:20:58.646Z"
   },
   {
    "duration": 285,
    "start_time": "2022-07-25T20:22:28.287Z"
   },
   {
    "duration": 171,
    "start_time": "2022-07-25T20:22:38.281Z"
   },
   {
    "duration": 248,
    "start_time": "2022-07-25T20:23:18.015Z"
   },
   {
    "duration": 81,
    "start_time": "2022-07-25T20:23:37.123Z"
   },
   {
    "duration": 161,
    "start_time": "2022-07-25T20:23:43.758Z"
   },
   {
    "duration": 177,
    "start_time": "2022-07-25T20:24:18.850Z"
   },
   {
    "duration": 160,
    "start_time": "2022-07-25T20:26:29.471Z"
   },
   {
    "duration": 145,
    "start_time": "2022-07-25T20:26:37.991Z"
   },
   {
    "duration": 74,
    "start_time": "2022-07-25T20:27:31.521Z"
   },
   {
    "duration": 137,
    "start_time": "2022-07-25T20:27:46.768Z"
   },
   {
    "duration": 149,
    "start_time": "2022-07-25T20:27:53.756Z"
   },
   {
    "duration": 315,
    "start_time": "2022-07-25T20:28:48.524Z"
   },
   {
    "duration": 158,
    "start_time": "2022-07-25T20:28:58.870Z"
   },
   {
    "duration": 163,
    "start_time": "2022-07-25T20:29:02.567Z"
   },
   {
    "duration": 172,
    "start_time": "2022-07-25T20:29:14.472Z"
   },
   {
    "duration": 257,
    "start_time": "2022-07-25T20:29:18.067Z"
   },
   {
    "duration": 179,
    "start_time": "2022-07-25T20:29:21.670Z"
   },
   {
    "duration": 161,
    "start_time": "2022-07-25T20:29:39.480Z"
   },
   {
    "duration": 156,
    "start_time": "2022-07-25T20:29:44.052Z"
   },
   {
    "duration": 175,
    "start_time": "2022-07-25T20:29:50.582Z"
   },
   {
    "duration": 182,
    "start_time": "2022-07-25T20:29:54.967Z"
   },
   {
    "duration": 158,
    "start_time": "2022-07-25T20:30:00.022Z"
   },
   {
    "duration": 187,
    "start_time": "2022-07-25T20:31:24.395Z"
   },
   {
    "duration": 172,
    "start_time": "2022-07-25T20:31:30.270Z"
   },
   {
    "duration": 199,
    "start_time": "2022-07-25T20:34:30.684Z"
   },
   {
    "duration": 157,
    "start_time": "2022-07-25T20:34:43.488Z"
   },
   {
    "duration": 314,
    "start_time": "2022-07-25T20:34:53.765Z"
   },
   {
    "duration": 163,
    "start_time": "2022-07-25T20:34:59.499Z"
   },
   {
    "duration": 149,
    "start_time": "2022-07-25T20:35:06.888Z"
   },
   {
    "duration": 167,
    "start_time": "2022-07-25T20:35:52.007Z"
   },
   {
    "duration": 158,
    "start_time": "2022-07-25T20:35:53.544Z"
   },
   {
    "duration": 314,
    "start_time": "2022-07-25T20:38:39.449Z"
   },
   {
    "duration": 274,
    "start_time": "2022-07-25T20:38:48.070Z"
   },
   {
    "duration": 273,
    "start_time": "2022-07-25T20:38:58.251Z"
   },
   {
    "duration": 264,
    "start_time": "2022-07-25T20:39:09.413Z"
   },
   {
    "duration": 238,
    "start_time": "2022-07-25T20:39:43.380Z"
   },
   {
    "duration": 181,
    "start_time": "2022-07-25T20:45:50.631Z"
   },
   {
    "duration": 419,
    "start_time": "2022-07-25T20:46:27.624Z"
   },
   {
    "duration": 238,
    "start_time": "2022-07-25T20:47:14.696Z"
   },
   {
    "duration": 259,
    "start_time": "2022-07-25T20:48:07.078Z"
   },
   {
    "duration": 275,
    "start_time": "2022-07-25T20:48:11.959Z"
   },
   {
    "duration": 1489,
    "start_time": "2022-07-26T11:51:14.404Z"
   },
   {
    "duration": 5,
    "start_time": "2022-07-26T11:51:15.896Z"
   },
   {
    "duration": 208,
    "start_time": "2022-07-26T11:51:15.903Z"
   },
   {
    "duration": 16,
    "start_time": "2022-07-26T11:51:16.122Z"
   },
   {
    "duration": 26,
    "start_time": "2022-07-26T11:51:16.140Z"
   },
   {
    "duration": 11,
    "start_time": "2022-07-26T11:51:16.168Z"
   },
   {
    "duration": 14,
    "start_time": "2022-07-26T11:51:16.180Z"
   },
   {
    "duration": 23,
    "start_time": "2022-07-26T11:51:16.196Z"
   },
   {
    "duration": 26,
    "start_time": "2022-07-26T11:51:16.222Z"
   },
   {
    "duration": 10,
    "start_time": "2022-07-26T11:51:16.252Z"
   },
   {
    "duration": 10,
    "start_time": "2022-07-26T11:51:16.264Z"
   },
   {
    "duration": 13,
    "start_time": "2022-07-26T11:51:16.277Z"
   },
   {
    "duration": 17,
    "start_time": "2022-07-26T11:51:16.321Z"
   },
   {
    "duration": 18,
    "start_time": "2022-07-26T11:51:16.341Z"
   },
   {
    "duration": 28,
    "start_time": "2022-07-26T11:51:16.362Z"
   },
   {
    "duration": 56,
    "start_time": "2022-07-26T11:51:16.392Z"
   },
   {
    "duration": 15,
    "start_time": "2022-07-26T11:51:16.450Z"
   },
   {
    "duration": 14,
    "start_time": "2022-07-26T11:51:16.467Z"
   },
   {
    "duration": 12,
    "start_time": "2022-07-26T11:51:16.483Z"
   },
   {
    "duration": 17,
    "start_time": "2022-07-26T11:51:16.497Z"
   },
   {
    "duration": 380,
    "start_time": "2022-07-26T11:51:16.517Z"
   },
   {
    "duration": 324,
    "start_time": "2022-07-26T11:51:16.899Z"
   },
   {
    "duration": 233,
    "start_time": "2022-07-26T11:51:17.227Z"
   },
   {
    "duration": 489,
    "start_time": "2022-07-26T11:51:17.464Z"
   },
   {
    "duration": 499,
    "start_time": "2022-07-26T11:51:17.955Z"
   },
   {
    "duration": 604,
    "start_time": "2022-07-26T11:51:18.456Z"
   },
   {
    "duration": 6,
    "start_time": "2022-07-26T11:53:01.735Z"
   },
   {
    "duration": 12,
    "start_time": "2022-07-26T11:53:06.627Z"
   },
   {
    "duration": 23,
    "start_time": "2022-07-26T11:53:06.641Z"
   },
   {
    "duration": 4,
    "start_time": "2022-07-26T11:53:09.453Z"
   },
   {
    "duration": 108,
    "start_time": "2022-07-26T11:53:09.462Z"
   },
   {
    "duration": 9,
    "start_time": "2022-07-26T11:53:09.572Z"
   },
   {
    "duration": 14,
    "start_time": "2022-07-26T11:53:09.583Z"
   },
   {
    "duration": 16,
    "start_time": "2022-07-26T11:53:09.599Z"
   },
   {
    "duration": 25,
    "start_time": "2022-07-26T11:53:09.621Z"
   },
   {
    "duration": 14,
    "start_time": "2022-07-26T11:53:09.649Z"
   },
   {
    "duration": 22,
    "start_time": "2022-07-26T11:53:09.665Z"
   },
   {
    "duration": 8,
    "start_time": "2022-07-26T11:53:09.689Z"
   },
   {
    "duration": 15,
    "start_time": "2022-07-26T11:53:09.699Z"
   },
   {
    "duration": 43,
    "start_time": "2022-07-26T11:53:09.716Z"
   },
   {
    "duration": 12,
    "start_time": "2022-07-26T11:53:09.761Z"
   },
   {
    "duration": 15,
    "start_time": "2022-07-26T11:53:09.775Z"
   },
   {
    "duration": 22,
    "start_time": "2022-07-26T11:53:09.792Z"
   },
   {
    "duration": 33,
    "start_time": "2022-07-26T11:53:09.819Z"
   },
   {
    "duration": 8,
    "start_time": "2022-07-26T11:53:09.853Z"
   },
   {
    "duration": 16,
    "start_time": "2022-07-26T11:53:09.863Z"
   },
   {
    "duration": 10,
    "start_time": "2022-07-26T11:53:09.881Z"
   },
   {
    "duration": 21,
    "start_time": "2022-07-26T11:53:09.893Z"
   },
   {
    "duration": 369,
    "start_time": "2022-07-26T11:53:09.917Z"
   },
   {
    "duration": 341,
    "start_time": "2022-07-26T11:53:10.288Z"
   },
   {
    "duration": 396,
    "start_time": "2022-07-26T11:53:10.632Z"
   },
   {
    "duration": 396,
    "start_time": "2022-07-26T11:53:11.035Z"
   },
   {
    "duration": 411,
    "start_time": "2022-07-26T11:53:11.433Z"
   },
   {
    "duration": 866,
    "start_time": "2022-07-26T11:53:11.846Z"
   },
   {
    "duration": 405,
    "start_time": "2022-07-26T11:53:22.033Z"
   },
   {
    "duration": 6,
    "start_time": "2022-07-26T11:53:32.145Z"
   },
   {
    "duration": 329,
    "start_time": "2022-07-26T11:53:37.269Z"
   },
   {
    "duration": 325,
    "start_time": "2022-07-26T11:53:38.381Z"
   },
   {
    "duration": 10,
    "start_time": "2022-07-26T11:53:49.026Z"
   },
   {
    "duration": 5,
    "start_time": "2022-07-26T11:55:59.607Z"
   },
   {
    "duration": 89,
    "start_time": "2022-07-26T11:56:02.005Z"
   },
   {
    "duration": 31,
    "start_time": "2022-07-26T11:56:02.705Z"
   },
   {
    "duration": 12,
    "start_time": "2022-07-26T11:56:03.138Z"
   },
   {
    "duration": 17,
    "start_time": "2022-07-26T11:56:03.905Z"
   },
   {
    "duration": 9,
    "start_time": "2022-07-26T11:56:04.158Z"
   },
   {
    "duration": 14,
    "start_time": "2022-07-26T11:56:04.430Z"
   },
   {
    "duration": 21,
    "start_time": "2022-07-26T11:56:04.690Z"
   },
   {
    "duration": 9,
    "start_time": "2022-07-26T11:56:05.186Z"
   },
   {
    "duration": 10,
    "start_time": "2022-07-26T11:56:05.431Z"
   },
   {
    "duration": 11,
    "start_time": "2022-07-26T11:56:05.638Z"
   },
   {
    "duration": 7,
    "start_time": "2022-07-26T11:56:06.138Z"
   },
   {
    "duration": 12,
    "start_time": "2022-07-26T11:56:06.286Z"
   },
   {
    "duration": 13,
    "start_time": "2022-07-26T11:56:06.450Z"
   },
   {
    "duration": 18,
    "start_time": "2022-07-26T11:58:28.024Z"
   },
   {
    "duration": 192,
    "start_time": "2022-07-26T11:59:38.349Z"
   },
   {
    "duration": 6,
    "start_time": "2022-07-26T12:00:17.969Z"
   },
   {
    "duration": 181,
    "start_time": "2022-07-26T12:03:53.055Z"
   },
   {
    "duration": 201,
    "start_time": "2022-07-26T12:04:35.397Z"
   },
   {
    "duration": 205,
    "start_time": "2022-07-26T12:04:46.042Z"
   },
   {
    "duration": 200,
    "start_time": "2022-07-26T12:05:28.751Z"
   },
   {
    "duration": 325,
    "start_time": "2022-07-26T12:05:32.133Z"
   },
   {
    "duration": 211,
    "start_time": "2022-07-26T12:05:35.364Z"
   },
   {
    "duration": 207,
    "start_time": "2022-07-26T12:05:37.654Z"
   },
   {
    "duration": 224,
    "start_time": "2022-07-26T12:05:44.978Z"
   },
   {
    "duration": 190,
    "start_time": "2022-07-26T12:05:50.274Z"
   },
   {
    "duration": 215,
    "start_time": "2022-07-26T12:06:00.239Z"
   },
   {
    "duration": 102,
    "start_time": "2022-07-26T12:08:28.240Z"
   },
   {
    "duration": 94,
    "start_time": "2022-07-26T12:08:47.673Z"
   },
   {
    "duration": 119,
    "start_time": "2022-07-26T12:08:56.575Z"
   },
   {
    "duration": 5,
    "start_time": "2022-07-26T12:09:00.991Z"
   },
   {
    "duration": 5,
    "start_time": "2022-07-26T12:09:13.169Z"
   },
   {
    "duration": 6,
    "start_time": "2022-07-26T12:09:22.557Z"
   },
   {
    "duration": 15,
    "start_time": "2022-07-26T12:09:35.424Z"
   },
   {
    "duration": 1944,
    "start_time": "2022-07-26T12:09:48.753Z"
   },
   {
    "duration": 11,
    "start_time": "2022-07-26T12:10:02.341Z"
   },
   {
    "duration": 6,
    "start_time": "2022-07-26T12:10:16.469Z"
   },
   {
    "duration": 13,
    "start_time": "2022-07-26T12:10:36.031Z"
   },
   {
    "duration": 5,
    "start_time": "2022-07-26T12:10:47.050Z"
   },
   {
    "duration": 6,
    "start_time": "2022-07-26T12:11:08.332Z"
   },
   {
    "duration": 9,
    "start_time": "2022-07-26T12:11:19.913Z"
   },
   {
    "duration": 16,
    "start_time": "2022-07-26T12:11:37.826Z"
   },
   {
    "duration": 14,
    "start_time": "2022-07-26T12:11:44.044Z"
   },
   {
    "duration": 17,
    "start_time": "2022-07-26T12:12:33.030Z"
   },
   {
    "duration": 17,
    "start_time": "2022-07-26T12:22:13.487Z"
   },
   {
    "duration": 18,
    "start_time": "2022-07-26T12:22:24.583Z"
   },
   {
    "duration": 13,
    "start_time": "2022-07-26T12:22:28.251Z"
   },
   {
    "duration": 26,
    "start_time": "2022-07-26T12:22:37.169Z"
   },
   {
    "duration": 24,
    "start_time": "2022-07-26T12:22:40.987Z"
   },
   {
    "duration": 25,
    "start_time": "2022-07-26T12:32:32.240Z"
   },
   {
    "duration": 16,
    "start_time": "2022-07-26T12:33:46.139Z"
   },
   {
    "duration": 8,
    "start_time": "2022-07-26T12:35:19.698Z"
   },
   {
    "duration": 5,
    "start_time": "2022-07-26T12:35:46.575Z"
   },
   {
    "duration": 11,
    "start_time": "2022-07-26T12:38:43.774Z"
   },
   {
    "duration": 8,
    "start_time": "2022-07-26T12:43:05.097Z"
   },
   {
    "duration": 10,
    "start_time": "2022-07-26T12:45:12.996Z"
   },
   {
    "duration": 10,
    "start_time": "2022-07-26T12:46:18.830Z"
   },
   {
    "duration": 8,
    "start_time": "2022-07-26T12:46:36.971Z"
   },
   {
    "duration": 20,
    "start_time": "2022-07-26T13:11:31.950Z"
   },
   {
    "duration": 11,
    "start_time": "2022-07-26T13:12:40.245Z"
   },
   {
    "duration": 22,
    "start_time": "2022-07-26T13:14:45.279Z"
   },
   {
    "duration": 15,
    "start_time": "2022-07-26T13:14:53.655Z"
   },
   {
    "duration": 15,
    "start_time": "2022-07-26T13:14:59.965Z"
   },
   {
    "duration": 11,
    "start_time": "2022-07-26T13:15:04.360Z"
   },
   {
    "duration": 17,
    "start_time": "2022-07-26T13:15:16.784Z"
   },
   {
    "duration": 19,
    "start_time": "2022-07-26T13:15:23.081Z"
   },
   {
    "duration": 10,
    "start_time": "2022-07-26T13:16:38.089Z"
   },
   {
    "duration": 8,
    "start_time": "2022-07-26T13:16:50.349Z"
   },
   {
    "duration": 1625,
    "start_time": "2022-07-26T13:18:26.664Z"
   },
   {
    "duration": 7,
    "start_time": "2022-07-26T13:19:08.660Z"
   },
   {
    "duration": 10,
    "start_time": "2022-07-26T13:19:59.694Z"
   },
   {
    "duration": 8,
    "start_time": "2022-07-26T13:20:13.380Z"
   },
   {
    "duration": 11,
    "start_time": "2022-07-26T13:20:21.142Z"
   },
   {
    "duration": 10,
    "start_time": "2022-07-26T13:20:24.535Z"
   },
   {
    "duration": 11,
    "start_time": "2022-07-26T13:20:25.054Z"
   },
   {
    "duration": 17,
    "start_time": "2022-07-26T13:20:35.154Z"
   },
   {
    "duration": 16,
    "start_time": "2022-07-26T13:20:50.154Z"
   },
   {
    "duration": 15,
    "start_time": "2022-07-26T13:20:55.358Z"
   },
   {
    "duration": 19,
    "start_time": "2022-07-26T13:22:14.233Z"
   },
   {
    "duration": 17,
    "start_time": "2022-07-26T13:22:41.033Z"
   },
   {
    "duration": 17,
    "start_time": "2022-07-26T13:27:49.847Z"
   },
   {
    "duration": 20,
    "start_time": "2022-07-26T13:28:50.144Z"
   },
   {
    "duration": 21,
    "start_time": "2022-07-26T13:29:01.664Z"
   },
   {
    "duration": 21,
    "start_time": "2022-07-26T13:29:07.973Z"
   },
   {
    "duration": 23,
    "start_time": "2022-07-26T13:31:32.164Z"
   },
   {
    "duration": 8,
    "start_time": "2022-07-26T13:32:59.347Z"
   },
   {
    "duration": 8,
    "start_time": "2022-07-26T13:35:00.539Z"
   },
   {
    "duration": 6,
    "start_time": "2022-07-26T13:35:39.365Z"
   },
   {
    "duration": 8,
    "start_time": "2022-07-26T13:36:14.539Z"
   },
   {
    "duration": 8,
    "start_time": "2022-07-26T13:36:19.840Z"
   },
   {
    "duration": 42,
    "start_time": "2022-07-26T13:37:05.900Z"
   },
   {
    "duration": 19,
    "start_time": "2022-07-26T13:37:07.440Z"
   },
   {
    "duration": 7,
    "start_time": "2022-07-26T13:37:18.443Z"
   },
   {
    "duration": 13,
    "start_time": "2022-07-26T13:37:33.601Z"
   },
   {
    "duration": 6,
    "start_time": "2022-07-26T13:37:40.599Z"
   },
   {
    "duration": 7,
    "start_time": "2022-07-26T13:37:54.941Z"
   },
   {
    "duration": 7,
    "start_time": "2022-07-26T13:37:59.799Z"
   },
   {
    "duration": 17,
    "start_time": "2022-07-26T13:41:21.915Z"
   },
   {
    "duration": 10,
    "start_time": "2022-07-26T13:41:37.751Z"
   },
   {
    "duration": 88,
    "start_time": "2022-07-26T14:05:16.088Z"
   },
   {
    "duration": 1259,
    "start_time": "2022-07-27T10:43:20.543Z"
   },
   {
    "duration": 4,
    "start_time": "2022-07-27T10:43:21.804Z"
   },
   {
    "duration": 198,
    "start_time": "2022-07-27T10:43:21.809Z"
   },
   {
    "duration": 12,
    "start_time": "2022-07-27T10:43:22.009Z"
   },
   {
    "duration": 16,
    "start_time": "2022-07-27T10:43:22.023Z"
   },
   {
    "duration": 20,
    "start_time": "2022-07-27T10:43:22.041Z"
   },
   {
    "duration": 17,
    "start_time": "2022-07-27T10:43:22.063Z"
   },
   {
    "duration": 23,
    "start_time": "2022-07-27T10:43:22.082Z"
   },
   {
    "duration": 23,
    "start_time": "2022-07-27T10:43:22.107Z"
   },
   {
    "duration": 10,
    "start_time": "2022-07-27T10:43:22.135Z"
   },
   {
    "duration": 14,
    "start_time": "2022-07-27T10:43:22.147Z"
   },
   {
    "duration": 22,
    "start_time": "2022-07-27T10:43:22.163Z"
   },
   {
    "duration": 20,
    "start_time": "2022-07-27T10:43:22.188Z"
   },
   {
    "duration": 20,
    "start_time": "2022-07-27T10:43:22.210Z"
   },
   {
    "duration": 27,
    "start_time": "2022-07-27T10:43:22.232Z"
   },
   {
    "duration": 11,
    "start_time": "2022-07-27T10:43:22.260Z"
   },
   {
    "duration": 11,
    "start_time": "2022-07-27T10:43:22.272Z"
   },
   {
    "duration": 17,
    "start_time": "2022-07-27T10:43:22.284Z"
   },
   {
    "duration": 13,
    "start_time": "2022-07-27T10:43:22.303Z"
   },
   {
    "duration": 15,
    "start_time": "2022-07-27T10:43:22.318Z"
   },
   {
    "duration": 287,
    "start_time": "2022-07-27T10:43:22.334Z"
   },
   {
    "duration": 328,
    "start_time": "2022-07-27T10:43:22.622Z"
   },
   {
    "duration": 271,
    "start_time": "2022-07-27T10:43:22.952Z"
   },
   {
    "duration": 403,
    "start_time": "2022-07-27T10:43:23.225Z"
   },
   {
    "duration": 239,
    "start_time": "2022-07-27T10:43:23.630Z"
   },
   {
    "duration": 378,
    "start_time": "2022-07-27T10:43:23.870Z"
   },
   {
    "duration": 132,
    "start_time": "2022-07-27T10:43:24.249Z"
   },
   {
    "duration": 4,
    "start_time": "2022-07-27T10:43:24.384Z"
   },
   {
    "duration": 168,
    "start_time": "2022-07-27T10:43:24.389Z"
   },
   {
    "duration": 5,
    "start_time": "2022-07-27T10:43:24.559Z"
   },
   {
    "duration": 20,
    "start_time": "2022-07-27T10:43:24.566Z"
   },
   {
    "duration": 26,
    "start_time": "2022-07-27T10:43:24.587Z"
   },
   {
    "duration": 73,
    "start_time": "2022-07-27T10:43:24.615Z"
   },
   {
    "duration": 103,
    "start_time": "2022-07-27T10:43:24.689Z"
   },
   {
    "duration": 0,
    "start_time": "2022-07-27T10:43:24.802Z"
   },
   {
    "duration": 0,
    "start_time": "2022-07-27T10:43:24.803Z"
   },
   {
    "duration": 0,
    "start_time": "2022-07-27T10:43:24.804Z"
   },
   {
    "duration": 0,
    "start_time": "2022-07-27T10:43:24.805Z"
   },
   {
    "duration": 0,
    "start_time": "2022-07-27T10:43:24.806Z"
   },
   {
    "duration": 1491,
    "start_time": "2022-07-28T12:52:04.756Z"
   },
   {
    "duration": 3,
    "start_time": "2022-07-28T12:52:06.249Z"
   },
   {
    "duration": 198,
    "start_time": "2022-07-28T12:52:06.253Z"
   },
   {
    "duration": 13,
    "start_time": "2022-07-28T12:52:06.453Z"
   },
   {
    "duration": 12,
    "start_time": "2022-07-28T12:52:06.467Z"
   },
   {
    "duration": 11,
    "start_time": "2022-07-28T12:52:06.480Z"
   },
   {
    "duration": 15,
    "start_time": "2022-07-28T12:52:06.492Z"
   },
   {
    "duration": 26,
    "start_time": "2022-07-28T12:52:06.508Z"
   },
   {
    "duration": 20,
    "start_time": "2022-07-28T12:52:06.535Z"
   },
   {
    "duration": 9,
    "start_time": "2022-07-28T12:52:06.557Z"
   },
   {
    "duration": 15,
    "start_time": "2022-07-28T12:52:06.568Z"
   },
   {
    "duration": 11,
    "start_time": "2022-07-28T12:52:06.585Z"
   },
   {
    "duration": 9,
    "start_time": "2022-07-28T12:52:06.597Z"
   },
   {
    "duration": 14,
    "start_time": "2022-07-28T12:52:06.633Z"
   },
   {
    "duration": 11,
    "start_time": "2022-07-28T12:52:06.649Z"
   },
   {
    "duration": 10,
    "start_time": "2022-07-28T12:52:06.662Z"
   },
   {
    "duration": 18,
    "start_time": "2022-07-28T12:52:06.674Z"
   },
   {
    "duration": 10,
    "start_time": "2022-07-28T12:52:06.694Z"
   },
   {
    "duration": 34,
    "start_time": "2022-07-28T12:52:06.706Z"
   },
   {
    "duration": 11,
    "start_time": "2022-07-28T12:52:06.741Z"
   },
   {
    "duration": 309,
    "start_time": "2022-07-28T12:52:06.754Z"
   },
   {
    "duration": 328,
    "start_time": "2022-07-28T12:52:07.065Z"
   },
   {
    "duration": 245,
    "start_time": "2022-07-28T12:52:07.395Z"
   },
   {
    "duration": 383,
    "start_time": "2022-07-28T12:52:07.642Z"
   },
   {
    "duration": 264,
    "start_time": "2022-07-28T12:52:08.027Z"
   },
   {
    "duration": 386,
    "start_time": "2022-07-28T12:52:08.293Z"
   },
   {
    "duration": 146,
    "start_time": "2022-07-28T12:52:08.681Z"
   },
   {
    "duration": 5,
    "start_time": "2022-07-28T12:52:08.833Z"
   },
   {
    "duration": 188,
    "start_time": "2022-07-28T12:52:08.839Z"
   },
   {
    "duration": 6,
    "start_time": "2022-07-28T12:52:09.029Z"
   },
   {
    "duration": 18,
    "start_time": "2022-07-28T12:52:09.037Z"
   },
   {
    "duration": 16,
    "start_time": "2022-07-28T12:52:09.057Z"
   },
   {
    "duration": 80,
    "start_time": "2022-07-28T12:52:09.074Z"
   },
   {
    "duration": 123,
    "start_time": "2022-07-28T12:52:09.155Z"
   },
   {
    "duration": 0,
    "start_time": "2022-07-28T12:52:09.280Z"
   },
   {
    "duration": 0,
    "start_time": "2022-07-28T12:52:09.280Z"
   },
   {
    "duration": 0,
    "start_time": "2022-07-28T12:52:09.282Z"
   },
   {
    "duration": 0,
    "start_time": "2022-07-28T12:52:09.282Z"
   },
   {
    "duration": 0,
    "start_time": "2022-07-28T12:52:09.284Z"
   },
   {
    "duration": 12,
    "start_time": "2022-07-28T13:03:23.138Z"
   },
   {
    "duration": 8,
    "start_time": "2022-07-28T13:03:30.841Z"
   },
   {
    "duration": 5,
    "start_time": "2022-07-28T13:03:36.646Z"
   },
   {
    "duration": 4,
    "start_time": "2022-07-28T13:04:05.019Z"
   },
   {
    "duration": 7,
    "start_time": "2022-07-28T13:04:12.925Z"
   },
   {
    "duration": 10,
    "start_time": "2022-07-28T13:04:17.737Z"
   },
   {
    "duration": 4,
    "start_time": "2022-07-28T13:04:28.991Z"
   },
   {
    "duration": 11,
    "start_time": "2022-07-28T13:08:32.519Z"
   },
   {
    "duration": 8,
    "start_time": "2022-07-28T13:08:36.394Z"
   },
   {
    "duration": 7,
    "start_time": "2022-07-28T13:08:37.046Z"
   },
   {
    "duration": 4,
    "start_time": "2022-07-28T13:09:41.131Z"
   },
   {
    "duration": 10,
    "start_time": "2022-07-28T13:09:41.142Z"
   },
   {
    "duration": 83,
    "start_time": "2022-07-28T13:09:41.154Z"
   },
   {
    "duration": 9,
    "start_time": "2022-07-28T13:09:41.239Z"
   },
   {
    "duration": 13,
    "start_time": "2022-07-28T13:09:41.249Z"
   },
   {
    "duration": 12,
    "start_time": "2022-07-28T13:09:41.264Z"
   },
   {
    "duration": 12,
    "start_time": "2022-07-28T13:09:41.278Z"
   },
   {
    "duration": 15,
    "start_time": "2022-07-28T13:09:41.291Z"
   },
   {
    "duration": 39,
    "start_time": "2022-07-28T13:09:41.308Z"
   },
   {
    "duration": 8,
    "start_time": "2022-07-28T13:09:41.348Z"
   },
   {
    "duration": 12,
    "start_time": "2022-07-28T13:09:41.357Z"
   },
   {
    "duration": 19,
    "start_time": "2022-07-28T13:09:41.371Z"
   },
   {
    "duration": 17,
    "start_time": "2022-07-28T13:09:41.392Z"
   },
   {
    "duration": 29,
    "start_time": "2022-07-28T13:09:41.412Z"
   },
   {
    "duration": 13,
    "start_time": "2022-07-28T13:09:41.443Z"
   },
   {
    "duration": 13,
    "start_time": "2022-07-28T13:09:41.457Z"
   },
   {
    "duration": 8,
    "start_time": "2022-07-28T13:09:41.471Z"
   },
   {
    "duration": 15,
    "start_time": "2022-07-28T13:09:41.481Z"
   },
   {
    "duration": 19,
    "start_time": "2022-07-28T13:09:41.498Z"
   },
   {
    "duration": 28,
    "start_time": "2022-07-28T13:09:41.519Z"
   },
   {
    "duration": 10,
    "start_time": "2022-07-28T13:09:41.549Z"
   },
   {
    "duration": 9,
    "start_time": "2022-07-28T13:09:41.561Z"
   },
   {
    "duration": 334,
    "start_time": "2022-07-28T13:09:41.572Z"
   },
   {
    "duration": 272,
    "start_time": "2022-07-28T13:09:41.908Z"
   },
   {
    "duration": 258,
    "start_time": "2022-07-28T13:09:42.181Z"
   },
   {
    "duration": 442,
    "start_time": "2022-07-28T13:09:42.441Z"
   },
   {
    "duration": 281,
    "start_time": "2022-07-28T13:09:42.884Z"
   },
   {
    "duration": 380,
    "start_time": "2022-07-28T13:09:43.167Z"
   },
   {
    "duration": 186,
    "start_time": "2022-07-28T13:09:43.549Z"
   },
   {
    "duration": 5,
    "start_time": "2022-07-28T13:09:43.737Z"
   },
   {
    "duration": 169,
    "start_time": "2022-07-28T13:09:43.744Z"
   },
   {
    "duration": 5,
    "start_time": "2022-07-28T13:09:43.915Z"
   },
   {
    "duration": 22,
    "start_time": "2022-07-28T13:09:43.922Z"
   },
   {
    "duration": 15,
    "start_time": "2022-07-28T13:09:43.946Z"
   },
   {
    "duration": 14,
    "start_time": "2022-07-28T13:09:43.963Z"
   },
   {
    "duration": 10,
    "start_time": "2022-07-28T13:09:43.979Z"
   },
   {
    "duration": 15,
    "start_time": "2022-07-28T13:09:43.990Z"
   },
   {
    "duration": 27,
    "start_time": "2022-07-28T13:09:44.034Z"
   },
   {
    "duration": 14,
    "start_time": "2022-07-28T13:09:44.062Z"
   },
   {
    "duration": 23,
    "start_time": "2022-07-28T13:09:44.078Z"
   },
   {
    "duration": 0,
    "start_time": "2022-07-28T13:09:44.102Z"
   },
   {
    "duration": 86,
    "start_time": "2022-07-28T13:10:32.336Z"
   },
   {
    "duration": 62,
    "start_time": "2022-07-28T13:10:38.124Z"
   },
   {
    "duration": 4,
    "start_time": "2022-07-28T13:12:00.059Z"
   },
   {
    "duration": 6,
    "start_time": "2022-07-28T13:12:12.796Z"
   },
   {
    "duration": 14,
    "start_time": "2022-07-28T13:15:00.925Z"
   },
   {
    "duration": 7,
    "start_time": "2022-07-28T13:17:11.461Z"
   },
   {
    "duration": 5,
    "start_time": "2022-07-28T13:17:19.595Z"
   },
   {
    "duration": 6,
    "start_time": "2022-07-28T13:17:56.852Z"
   },
   {
    "duration": 13,
    "start_time": "2022-07-28T13:18:10.490Z"
   },
   {
    "duration": 12,
    "start_time": "2022-07-28T13:20:15.463Z"
   },
   {
    "duration": 5,
    "start_time": "2022-07-28T13:20:19.042Z"
   },
   {
    "duration": 9,
    "start_time": "2022-07-28T13:21:12.183Z"
   },
   {
    "duration": 5,
    "start_time": "2022-07-28T13:21:49.475Z"
   },
   {
    "duration": 10,
    "start_time": "2022-07-28T13:21:57.053Z"
   },
   {
    "duration": 8,
    "start_time": "2022-07-28T13:21:59.870Z"
   },
   {
    "duration": 8,
    "start_time": "2022-07-28T13:22:04.631Z"
   },
   {
    "duration": 5,
    "start_time": "2022-07-28T13:22:10.389Z"
   },
   {
    "duration": 6,
    "start_time": "2022-07-28T13:22:12.150Z"
   },
   {
    "duration": 4,
    "start_time": "2022-07-28T13:22:14.431Z"
   },
   {
    "duration": 7,
    "start_time": "2022-07-28T13:22:39.367Z"
   },
   {
    "duration": 8,
    "start_time": "2022-07-28T13:26:04.504Z"
   },
   {
    "duration": 9,
    "start_time": "2022-07-28T13:26:09.149Z"
   },
   {
    "duration": 14,
    "start_time": "2022-07-28T13:26:40.889Z"
   },
   {
    "duration": 9,
    "start_time": "2022-07-28T13:26:50.134Z"
   },
   {
    "duration": 9,
    "start_time": "2022-07-28T13:28:15.108Z"
   },
   {
    "duration": 9,
    "start_time": "2022-07-28T13:30:01.691Z"
   },
   {
    "duration": 6,
    "start_time": "2022-07-28T13:30:02.351Z"
   },
   {
    "duration": 161,
    "start_time": "2022-07-28T13:34:01.433Z"
   },
   {
    "duration": 10,
    "start_time": "2022-07-28T13:34:02.747Z"
   },
   {
    "duration": 10,
    "start_time": "2022-07-28T13:35:41.481Z"
   },
   {
    "duration": 8,
    "start_time": "2022-07-28T13:35:57.969Z"
   },
   {
    "duration": 8,
    "start_time": "2022-07-28T13:36:01.791Z"
   },
   {
    "duration": 19,
    "start_time": "2022-07-28T13:36:04.133Z"
   },
   {
    "duration": 7,
    "start_time": "2022-07-28T13:38:37.249Z"
   },
   {
    "duration": 8,
    "start_time": "2022-07-28T13:39:06.457Z"
   },
   {
    "duration": 7,
    "start_time": "2022-07-28T13:39:08.051Z"
   },
   {
    "duration": 3,
    "start_time": "2022-07-28T13:39:20.602Z"
   },
   {
    "duration": 5,
    "start_time": "2022-07-28T13:39:23.173Z"
   },
   {
    "duration": 65,
    "start_time": "2022-07-28T13:39:58.938Z"
   },
   {
    "duration": 6,
    "start_time": "2022-07-28T13:40:04.607Z"
   },
   {
    "duration": 6,
    "start_time": "2022-07-28T13:40:17.577Z"
   },
   {
    "duration": 10,
    "start_time": "2022-07-28T13:42:16.961Z"
   },
   {
    "duration": 13,
    "start_time": "2022-07-28T13:42:26.492Z"
   },
   {
    "duration": 6,
    "start_time": "2022-07-28T13:42:37.173Z"
   },
   {
    "duration": 21,
    "start_time": "2022-07-28T13:42:44.888Z"
   },
   {
    "duration": 13,
    "start_time": "2022-07-28T13:42:55.792Z"
   },
   {
    "duration": 9,
    "start_time": "2022-07-28T13:43:07.357Z"
   },
   {
    "duration": 7,
    "start_time": "2022-07-28T13:43:10.749Z"
   },
   {
    "duration": 8,
    "start_time": "2022-07-28T13:44:32.652Z"
   },
   {
    "duration": 6,
    "start_time": "2022-07-28T13:44:39.171Z"
   },
   {
    "duration": 11,
    "start_time": "2022-07-28T13:44:53.729Z"
   },
   {
    "duration": 7,
    "start_time": "2022-07-28T13:44:56.302Z"
   },
   {
    "duration": 13,
    "start_time": "2022-07-28T13:44:59.314Z"
   },
   {
    "duration": 52,
    "start_time": "2022-07-28T13:45:18.052Z"
   },
   {
    "duration": 7,
    "start_time": "2022-07-28T13:45:21.246Z"
   },
   {
    "duration": 9,
    "start_time": "2022-07-28T13:45:25.950Z"
   },
   {
    "duration": 9,
    "start_time": "2022-07-28T13:45:46.899Z"
   },
   {
    "duration": 12,
    "start_time": "2022-07-28T13:45:50.867Z"
   },
   {
    "duration": 8,
    "start_time": "2022-07-28T13:45:55.781Z"
   },
   {
    "duration": 7,
    "start_time": "2022-07-28T13:48:10.975Z"
   },
   {
    "duration": 52,
    "start_time": "2022-07-28T13:48:40.546Z"
   },
   {
    "duration": 9,
    "start_time": "2022-07-28T13:48:42.858Z"
   },
   {
    "duration": 7,
    "start_time": "2022-07-28T13:48:49.311Z"
   },
   {
    "duration": 8,
    "start_time": "2022-07-28T13:48:51.160Z"
   },
   {
    "duration": 8,
    "start_time": "2022-07-28T13:50:32.770Z"
   },
   {
    "duration": 8,
    "start_time": "2022-07-28T13:50:36.824Z"
   },
   {
    "duration": 13,
    "start_time": "2022-07-28T13:50:45.587Z"
   },
   {
    "duration": 9,
    "start_time": "2022-07-28T13:50:58.050Z"
   },
   {
    "duration": 11,
    "start_time": "2022-07-28T13:51:04.402Z"
   },
   {
    "duration": 8,
    "start_time": "2022-07-28T13:51:09.059Z"
   },
   {
    "duration": 15,
    "start_time": "2022-07-28T13:51:16.691Z"
   },
   {
    "duration": 8,
    "start_time": "2022-07-28T13:51:27.815Z"
   },
   {
    "duration": 15,
    "start_time": "2022-07-28T13:53:13.908Z"
   },
   {
    "duration": 15,
    "start_time": "2022-07-28T13:53:32.795Z"
   },
   {
    "duration": 14,
    "start_time": "2022-07-28T13:53:43.909Z"
   },
   {
    "duration": 8,
    "start_time": "2022-07-28T13:53:53.977Z"
   },
   {
    "duration": 16,
    "start_time": "2022-07-28T13:54:09.146Z"
   },
   {
    "duration": 7,
    "start_time": "2022-07-28T13:54:14.792Z"
   },
   {
    "duration": 12,
    "start_time": "2022-07-28T13:56:36.796Z"
   },
   {
    "duration": 9,
    "start_time": "2022-07-28T13:56:49.364Z"
   },
   {
    "duration": 7,
    "start_time": "2022-07-28T13:56:52.850Z"
   },
   {
    "duration": 10,
    "start_time": "2022-07-28T13:57:34.833Z"
   },
   {
    "duration": 6,
    "start_time": "2022-07-28T13:58:00.973Z"
   },
   {
    "duration": 14,
    "start_time": "2022-07-28T14:02:14.752Z"
   },
   {
    "duration": 18,
    "start_time": "2022-07-28T14:02:30.444Z"
   },
   {
    "duration": 13,
    "start_time": "2022-07-28T14:02:51.178Z"
   },
   {
    "duration": 15,
    "start_time": "2022-07-28T14:02:53.262Z"
   },
   {
    "duration": 12,
    "start_time": "2022-07-28T14:02:54.877Z"
   },
   {
    "duration": 12,
    "start_time": "2022-07-28T14:03:25.513Z"
   },
   {
    "duration": 14,
    "start_time": "2022-07-28T14:03:30.602Z"
   },
   {
    "duration": 7,
    "start_time": "2022-07-28T14:03:33.566Z"
   },
   {
    "duration": 3,
    "start_time": "2022-07-28T14:08:55.887Z"
   },
   {
    "duration": 5,
    "start_time": "2022-07-28T14:09:00.620Z"
   },
   {
    "duration": 17,
    "start_time": "2022-07-28T14:09:04.948Z"
   },
   {
    "duration": 14,
    "start_time": "2022-07-28T14:09:24.241Z"
   },
   {
    "duration": 13,
    "start_time": "2022-07-28T14:10:50.512Z"
   },
   {
    "duration": 54,
    "start_time": "2022-07-28T14:10:58.452Z"
   },
   {
    "duration": 56,
    "start_time": "2022-07-28T14:12:40.752Z"
   },
   {
    "duration": 14,
    "start_time": "2022-07-28T14:12:58.574Z"
   },
   {
    "duration": 16,
    "start_time": "2022-07-28T14:13:12.059Z"
   },
   {
    "duration": 14,
    "start_time": "2022-07-28T14:13:19.001Z"
   },
   {
    "duration": 8,
    "start_time": "2022-07-28T14:13:36.272Z"
   },
   {
    "duration": 20,
    "start_time": "2022-07-28T14:14:20.072Z"
   },
   {
    "duration": 26,
    "start_time": "2022-07-28T14:14:31.324Z"
   },
   {
    "duration": 16,
    "start_time": "2022-07-28T14:14:43.247Z"
   },
   {
    "duration": 6,
    "start_time": "2022-07-28T14:14:48.746Z"
   },
   {
    "duration": 15,
    "start_time": "2022-07-28T14:14:58.715Z"
   },
   {
    "duration": 20,
    "start_time": "2022-07-28T14:15:02.584Z"
   },
   {
    "duration": 15,
    "start_time": "2022-07-28T14:15:06.944Z"
   },
   {
    "duration": 15,
    "start_time": "2022-07-28T14:16:10.345Z"
   },
   {
    "duration": 15,
    "start_time": "2022-07-28T14:16:18.585Z"
   },
   {
    "duration": 23,
    "start_time": "2022-07-28T14:16:36.002Z"
   },
   {
    "duration": 17,
    "start_time": "2022-07-28T14:16:45.166Z"
   },
   {
    "duration": 16,
    "start_time": "2022-07-28T14:17:27.065Z"
   },
   {
    "duration": 20,
    "start_time": "2022-07-28T14:17:34.996Z"
   },
   {
    "duration": 8,
    "start_time": "2022-07-28T14:18:08.577Z"
   },
   {
    "duration": 11,
    "start_time": "2022-07-28T14:18:14.741Z"
   },
   {
    "duration": 13,
    "start_time": "2022-07-28T14:18:26.085Z"
   },
   {
    "duration": 11,
    "start_time": "2022-07-28T14:18:49.148Z"
   },
   {
    "duration": 9,
    "start_time": "2022-07-28T14:18:58.647Z"
   },
   {
    "duration": 6,
    "start_time": "2022-07-28T14:21:30.563Z"
   },
   {
    "duration": 15,
    "start_time": "2022-07-28T14:21:36.276Z"
   },
   {
    "duration": 15,
    "start_time": "2022-07-28T14:22:00.801Z"
   },
   {
    "duration": 17,
    "start_time": "2022-07-28T14:24:36.355Z"
   },
   {
    "duration": 18,
    "start_time": "2022-07-28T14:25:02.475Z"
   },
   {
    "duration": 23,
    "start_time": "2022-07-28T14:27:05.120Z"
   },
   {
    "duration": 8,
    "start_time": "2022-07-28T14:28:16.883Z"
   },
   {
    "duration": 8,
    "start_time": "2022-07-28T14:28:27.299Z"
   },
   {
    "duration": 8,
    "start_time": "2022-07-28T14:29:54.259Z"
   },
   {
    "duration": 23,
    "start_time": "2022-07-28T14:31:48.212Z"
   },
   {
    "duration": 9,
    "start_time": "2022-07-28T14:31:53.181Z"
   },
   {
    "duration": 21,
    "start_time": "2022-07-28T14:31:54.074Z"
   },
   {
    "duration": 8,
    "start_time": "2022-07-28T14:32:27.792Z"
   },
   {
    "duration": 11,
    "start_time": "2022-07-28T14:32:40.050Z"
   },
   {
    "duration": 11,
    "start_time": "2022-07-28T14:32:44.389Z"
   },
   {
    "duration": 7,
    "start_time": "2022-07-28T14:33:00.649Z"
   },
   {
    "duration": 6,
    "start_time": "2022-07-28T14:33:05.548Z"
   },
   {
    "duration": 8,
    "start_time": "2022-07-28T14:33:10.370Z"
   },
   {
    "duration": 9,
    "start_time": "2022-07-28T14:34:19.594Z"
   },
   {
    "duration": 75,
    "start_time": "2022-07-28T14:36:40.254Z"
   },
   {
    "duration": 8,
    "start_time": "2022-07-28T14:36:44.582Z"
   },
   {
    "duration": 14,
    "start_time": "2022-07-28T14:36:47.248Z"
   },
   {
    "duration": 17,
    "start_time": "2022-07-28T14:36:52.367Z"
   },
   {
    "duration": 15,
    "start_time": "2022-07-28T14:37:02.266Z"
   },
   {
    "duration": 24,
    "start_time": "2022-07-28T14:37:07.349Z"
   },
   {
    "duration": 9,
    "start_time": "2022-07-28T14:37:20.211Z"
   },
   {
    "duration": 13,
    "start_time": "2022-07-28T14:37:22.737Z"
   },
   {
    "duration": 9,
    "start_time": "2022-07-28T14:37:28.132Z"
   },
   {
    "duration": 7,
    "start_time": "2022-07-28T14:37:35.986Z"
   },
   {
    "duration": 20,
    "start_time": "2022-07-28T14:38:21.332Z"
   },
   {
    "duration": 24,
    "start_time": "2022-07-28T14:38:30.032Z"
   },
   {
    "duration": 1084,
    "start_time": "2022-07-28T14:38:51.970Z"
   },
   {
    "duration": 4,
    "start_time": "2022-07-28T14:38:53.056Z"
   },
   {
    "duration": 86,
    "start_time": "2022-07-28T14:38:53.062Z"
   },
   {
    "duration": 11,
    "start_time": "2022-07-28T14:38:53.150Z"
   },
   {
    "duration": 10,
    "start_time": "2022-07-28T14:38:53.164Z"
   },
   {
    "duration": 10,
    "start_time": "2022-07-28T14:38:53.176Z"
   },
   {
    "duration": 10,
    "start_time": "2022-07-28T14:38:53.188Z"
   },
   {
    "duration": 11,
    "start_time": "2022-07-28T14:38:53.199Z"
   },
   {
    "duration": 33,
    "start_time": "2022-07-28T14:38:53.213Z"
   },
   {
    "duration": 7,
    "start_time": "2022-07-28T14:38:53.249Z"
   },
   {
    "duration": 17,
    "start_time": "2022-07-28T14:38:53.257Z"
   },
   {
    "duration": 20,
    "start_time": "2022-07-28T14:38:53.275Z"
   },
   {
    "duration": 9,
    "start_time": "2022-07-28T14:38:53.297Z"
   },
   {
    "duration": 12,
    "start_time": "2022-07-28T14:38:53.308Z"
   },
   {
    "duration": 23,
    "start_time": "2022-07-28T14:38:53.322Z"
   },
   {
    "duration": 10,
    "start_time": "2022-07-28T14:38:53.348Z"
   },
   {
    "duration": 10,
    "start_time": "2022-07-28T14:38:53.360Z"
   },
   {
    "duration": 8,
    "start_time": "2022-07-28T14:38:53.371Z"
   },
   {
    "duration": 20,
    "start_time": "2022-07-28T14:38:53.381Z"
   },
   {
    "duration": 13,
    "start_time": "2022-07-28T14:38:53.403Z"
   },
   {
    "duration": 36,
    "start_time": "2022-07-28T14:38:53.417Z"
   },
   {
    "duration": 8,
    "start_time": "2022-07-28T14:38:53.455Z"
   },
   {
    "duration": 11,
    "start_time": "2022-07-28T14:38:53.465Z"
   },
   {
    "duration": 10,
    "start_time": "2022-07-28T14:38:53.478Z"
   },
   {
    "duration": 283,
    "start_time": "2022-07-28T14:38:53.490Z"
   },
   {
    "duration": 340,
    "start_time": "2022-07-28T14:38:53.775Z"
   },
   {
    "duration": 246,
    "start_time": "2022-07-28T14:38:54.117Z"
   },
   {
    "duration": 320,
    "start_time": "2022-07-28T14:38:54.365Z"
   },
   {
    "duration": 257,
    "start_time": "2022-07-28T14:38:54.687Z"
   },
   {
    "duration": 362,
    "start_time": "2022-07-28T14:38:54.946Z"
   },
   {
    "duration": 165,
    "start_time": "2022-07-28T14:38:55.310Z"
   },
   {
    "duration": 5,
    "start_time": "2022-07-28T14:38:55.476Z"
   },
   {
    "duration": 164,
    "start_time": "2022-07-28T14:38:55.483Z"
   },
   {
    "duration": 5,
    "start_time": "2022-07-28T14:38:55.649Z"
   },
   {
    "duration": 20,
    "start_time": "2022-07-28T14:38:55.656Z"
   },
   {
    "duration": 17,
    "start_time": "2022-07-28T14:38:55.678Z"
   },
   {
    "duration": 74,
    "start_time": "2022-07-28T14:38:55.697Z"
   },
   {
    "duration": 8,
    "start_time": "2022-07-28T14:38:55.773Z"
   },
   {
    "duration": 9,
    "start_time": "2022-07-28T14:38:55.783Z"
   },
   {
    "duration": 24,
    "start_time": "2022-07-28T14:38:55.793Z"
   },
   {
    "duration": 8,
    "start_time": "2022-07-28T14:38:55.844Z"
   },
   {
    "duration": 10,
    "start_time": "2022-07-28T14:38:55.854Z"
   },
   {
    "duration": 7,
    "start_time": "2022-07-28T14:38:55.866Z"
   },
   {
    "duration": 8,
    "start_time": "2022-07-28T14:43:34.849Z"
   },
   {
    "duration": 7,
    "start_time": "2022-07-28T14:44:23.301Z"
   },
   {
    "duration": 8,
    "start_time": "2022-07-28T14:44:30.513Z"
   },
   {
    "duration": 6,
    "start_time": "2022-07-28T14:44:42.162Z"
   },
   {
    "duration": 6,
    "start_time": "2022-07-28T14:44:46.588Z"
   },
   {
    "duration": 11,
    "start_time": "2022-07-28T14:44:50.839Z"
   },
   {
    "duration": 8,
    "start_time": "2022-07-28T14:45:00.148Z"
   },
   {
    "duration": 8,
    "start_time": "2022-07-28T14:49:19.969Z"
   },
   {
    "duration": 9,
    "start_time": "2022-07-28T14:50:18.821Z"
   },
   {
    "duration": 10,
    "start_time": "2022-07-28T14:50:25.076Z"
   },
   {
    "duration": 11,
    "start_time": "2022-07-28T14:51:55.912Z"
   },
   {
    "duration": 10,
    "start_time": "2022-07-28T14:52:19.695Z"
   },
   {
    "duration": 14,
    "start_time": "2022-07-28T14:52:25.797Z"
   },
   {
    "duration": 12,
    "start_time": "2022-07-28T14:52:26.650Z"
   },
   {
    "duration": 13,
    "start_time": "2022-07-28T14:52:51.367Z"
   },
   {
    "duration": 6,
    "start_time": "2022-07-28T14:53:03.190Z"
   },
   {
    "duration": 9,
    "start_time": "2022-07-28T14:53:12.848Z"
   },
   {
    "duration": 9,
    "start_time": "2022-07-28T14:53:36.191Z"
   },
   {
    "duration": 9,
    "start_time": "2022-07-28T14:53:45.947Z"
   },
   {
    "duration": 9,
    "start_time": "2022-07-28T14:54:40.301Z"
   },
   {
    "duration": 1145,
    "start_time": "2022-07-28T14:56:14.278Z"
   },
   {
    "duration": 4,
    "start_time": "2022-07-28T14:56:15.424Z"
   },
   {
    "duration": 80,
    "start_time": "2022-07-28T14:56:15.433Z"
   },
   {
    "duration": 11,
    "start_time": "2022-07-28T14:56:15.515Z"
   },
   {
    "duration": 13,
    "start_time": "2022-07-28T14:56:15.528Z"
   },
   {
    "duration": 9,
    "start_time": "2022-07-28T14:56:15.542Z"
   },
   {
    "duration": 10,
    "start_time": "2022-07-28T14:56:15.553Z"
   },
   {
    "duration": 13,
    "start_time": "2022-07-28T14:56:15.564Z"
   },
   {
    "duration": 22,
    "start_time": "2022-07-28T14:56:15.578Z"
   },
   {
    "duration": 7,
    "start_time": "2022-07-28T14:56:15.602Z"
   },
   {
    "duration": 27,
    "start_time": "2022-07-28T14:56:15.611Z"
   },
   {
    "duration": 19,
    "start_time": "2022-07-28T14:56:15.640Z"
   },
   {
    "duration": 15,
    "start_time": "2022-07-28T14:56:15.660Z"
   },
   {
    "duration": 14,
    "start_time": "2022-07-28T14:56:15.677Z"
   },
   {
    "duration": 25,
    "start_time": "2022-07-28T14:56:15.693Z"
   },
   {
    "duration": 20,
    "start_time": "2022-07-28T14:56:15.720Z"
   },
   {
    "duration": 17,
    "start_time": "2022-07-28T14:56:15.741Z"
   },
   {
    "duration": 22,
    "start_time": "2022-07-28T14:56:15.759Z"
   },
   {
    "duration": 24,
    "start_time": "2022-07-28T14:56:15.782Z"
   },
   {
    "duration": 15,
    "start_time": "2022-07-28T14:56:15.807Z"
   },
   {
    "duration": 13,
    "start_time": "2022-07-28T14:56:15.823Z"
   },
   {
    "duration": 17,
    "start_time": "2022-07-28T14:56:15.837Z"
   },
   {
    "duration": 8,
    "start_time": "2022-07-28T14:56:15.856Z"
   },
   {
    "duration": 23,
    "start_time": "2022-07-28T14:56:15.865Z"
   },
   {
    "duration": 19,
    "start_time": "2022-07-28T14:56:15.889Z"
   },
   {
    "duration": 11,
    "start_time": "2022-07-28T14:56:15.910Z"
   },
   {
    "duration": 271,
    "start_time": "2022-07-28T14:56:15.923Z"
   },
   {
    "duration": 313,
    "start_time": "2022-07-28T14:56:16.198Z"
   },
   {
    "duration": 237,
    "start_time": "2022-07-28T14:56:16.513Z"
   },
   {
    "duration": 338,
    "start_time": "2022-07-28T14:56:16.751Z"
   },
   {
    "duration": 246,
    "start_time": "2022-07-28T14:56:17.090Z"
   },
   {
    "duration": 352,
    "start_time": "2022-07-28T14:56:17.337Z"
   },
   {
    "duration": 153,
    "start_time": "2022-07-28T14:56:17.690Z"
   },
   {
    "duration": 4,
    "start_time": "2022-07-28T14:56:17.845Z"
   },
   {
    "duration": 154,
    "start_time": "2022-07-28T14:56:17.850Z"
   },
   {
    "duration": 4,
    "start_time": "2022-07-28T14:56:18.006Z"
   },
   {
    "duration": 23,
    "start_time": "2022-07-28T14:56:18.012Z"
   },
   {
    "duration": 14,
    "start_time": "2022-07-28T14:56:18.037Z"
   },
   {
    "duration": 84,
    "start_time": "2022-07-28T14:56:18.054Z"
   },
   {
    "duration": 11,
    "start_time": "2022-07-28T14:56:18.140Z"
   },
   {
    "duration": 7,
    "start_time": "2022-07-28T14:56:18.152Z"
   },
   {
    "duration": 16,
    "start_time": "2022-07-28T14:56:18.161Z"
   },
   {
    "duration": 6,
    "start_time": "2022-07-28T14:56:18.179Z"
   },
   {
    "duration": 18,
    "start_time": "2022-07-28T14:56:18.187Z"
   },
   {
    "duration": 27,
    "start_time": "2022-07-28T14:56:18.207Z"
   },
   {
    "duration": 246,
    "start_time": "2022-07-28T15:02:56.694Z"
   },
   {
    "duration": 245,
    "start_time": "2022-07-28T15:04:13.776Z"
   },
   {
    "duration": 243,
    "start_time": "2022-07-28T15:04:16.826Z"
   },
   {
    "duration": 242,
    "start_time": "2022-07-28T15:04:22.182Z"
   },
   {
    "duration": 245,
    "start_time": "2022-07-28T15:04:25.249Z"
   },
   {
    "duration": 126,
    "start_time": "2022-07-28T15:04:37.138Z"
   },
   {
    "duration": 103,
    "start_time": "2022-07-28T15:04:42.752Z"
   },
   {
    "duration": 3,
    "start_time": "2022-07-28T15:06:58.475Z"
   },
   {
    "duration": 149,
    "start_time": "2022-07-28T15:08:08.114Z"
   },
   {
    "duration": 244,
    "start_time": "2022-07-28T15:08:33.002Z"
   },
   {
    "duration": 322,
    "start_time": "2022-07-28T15:08:45.954Z"
   },
   {
    "duration": 341,
    "start_time": "2022-07-28T15:09:01.078Z"
   },
   {
    "duration": 350,
    "start_time": "2022-07-28T15:09:06.444Z"
   },
   {
    "duration": 410,
    "start_time": "2022-07-28T15:09:14.969Z"
   },
   {
    "duration": 245,
    "start_time": "2022-07-28T15:09:30.139Z"
   },
   {
    "duration": 369,
    "start_time": "2022-07-28T15:09:48.524Z"
   },
   {
    "duration": 356,
    "start_time": "2022-07-28T15:09:59.049Z"
   },
   {
    "duration": 354,
    "start_time": "2022-07-28T15:10:08.891Z"
   },
   {
    "duration": 335,
    "start_time": "2022-07-28T15:10:17.947Z"
   },
   {
    "duration": 154,
    "start_time": "2022-07-28T15:11:04.112Z"
   },
   {
    "duration": 162,
    "start_time": "2022-07-28T15:11:14.799Z"
   },
   {
    "duration": 6,
    "start_time": "2022-07-28T15:19:45.100Z"
   },
   {
    "duration": 9,
    "start_time": "2022-07-28T16:01:00.464Z"
   },
   {
    "duration": 10,
    "start_time": "2022-07-28T16:02:09.250Z"
   },
   {
    "duration": 10,
    "start_time": "2022-07-28T16:02:10.249Z"
   },
   {
    "duration": 13,
    "start_time": "2022-07-28T16:02:43.808Z"
   },
   {
    "duration": 8,
    "start_time": "2022-07-28T16:02:48.735Z"
   },
   {
    "duration": 8,
    "start_time": "2022-07-28T16:03:18.285Z"
   },
   {
    "duration": 60,
    "start_time": "2022-07-28T16:03:18.998Z"
   },
   {
    "duration": 78,
    "start_time": "2022-07-28T16:03:22.298Z"
   },
   {
    "duration": 67,
    "start_time": "2022-07-28T16:03:26.177Z"
   },
   {
    "duration": 67,
    "start_time": "2022-07-28T16:03:34.176Z"
   },
   {
    "duration": 146,
    "start_time": "2022-07-28T16:06:02.830Z"
   },
   {
    "duration": 7,
    "start_time": "2022-07-28T16:19:14.022Z"
   },
   {
    "duration": 9,
    "start_time": "2022-07-28T16:19:14.804Z"
   },
   {
    "duration": 10,
    "start_time": "2022-07-28T16:19:28.575Z"
   },
   {
    "duration": 7,
    "start_time": "2022-07-28T16:20:19.327Z"
   },
   {
    "duration": 13,
    "start_time": "2022-07-28T16:20:32.182Z"
   },
   {
    "duration": 13,
    "start_time": "2022-07-28T16:20:40.166Z"
   },
   {
    "duration": 8,
    "start_time": "2022-07-28T16:20:41.094Z"
   },
   {
    "duration": 1158,
    "start_time": "2022-07-28T16:21:50.871Z"
   },
   {
    "duration": 4,
    "start_time": "2022-07-28T16:21:52.031Z"
   },
   {
    "duration": 218,
    "start_time": "2022-07-28T16:21:52.036Z"
   },
   {
    "duration": 11,
    "start_time": "2022-07-28T16:21:52.256Z"
   },
   {
    "duration": 10,
    "start_time": "2022-07-28T16:21:52.269Z"
   },
   {
    "duration": 10,
    "start_time": "2022-07-28T16:21:52.280Z"
   },
   {
    "duration": 11,
    "start_time": "2022-07-28T16:21:52.291Z"
   },
   {
    "duration": 12,
    "start_time": "2022-07-28T16:21:52.304Z"
   },
   {
    "duration": 25,
    "start_time": "2022-07-28T16:21:52.318Z"
   },
   {
    "duration": 7,
    "start_time": "2022-07-28T16:21:52.345Z"
   },
   {
    "duration": 7,
    "start_time": "2022-07-28T16:21:52.354Z"
   },
   {
    "duration": 11,
    "start_time": "2022-07-28T16:21:52.363Z"
   },
   {
    "duration": 10,
    "start_time": "2022-07-28T16:21:52.376Z"
   },
   {
    "duration": 10,
    "start_time": "2022-07-28T16:21:52.388Z"
   },
   {
    "duration": 35,
    "start_time": "2022-07-28T16:21:52.400Z"
   },
   {
    "duration": 7,
    "start_time": "2022-07-28T16:21:52.437Z"
   },
   {
    "duration": 8,
    "start_time": "2022-07-28T16:21:52.446Z"
   },
   {
    "duration": 9,
    "start_time": "2022-07-28T16:21:52.456Z"
   },
   {
    "duration": 9,
    "start_time": "2022-07-28T16:21:52.467Z"
   },
   {
    "duration": 9,
    "start_time": "2022-07-28T16:21:52.477Z"
   },
   {
    "duration": 49,
    "start_time": "2022-07-28T16:21:52.487Z"
   },
   {
    "duration": 11,
    "start_time": "2022-07-28T16:21:52.538Z"
   },
   {
    "duration": 19,
    "start_time": "2022-07-28T16:21:52.551Z"
   },
   {
    "duration": 16,
    "start_time": "2022-07-28T16:21:52.572Z"
   },
   {
    "duration": 15,
    "start_time": "2022-07-28T16:21:52.590Z"
   },
   {
    "duration": 299,
    "start_time": "2022-07-28T16:21:52.607Z"
   },
   {
    "duration": 337,
    "start_time": "2022-07-28T16:21:52.908Z"
   },
   {
    "duration": 243,
    "start_time": "2022-07-28T16:21:53.248Z"
   },
   {
    "duration": 341,
    "start_time": "2022-07-28T16:21:53.492Z"
   },
   {
    "duration": 249,
    "start_time": "2022-07-28T16:21:53.835Z"
   },
   {
    "duration": 560,
    "start_time": "2022-07-28T16:21:54.086Z"
   },
   {
    "duration": 319,
    "start_time": "2022-07-28T16:21:54.648Z"
   },
   {
    "duration": 5,
    "start_time": "2022-07-28T16:21:54.969Z"
   },
   {
    "duration": 359,
    "start_time": "2022-07-28T16:21:54.975Z"
   },
   {
    "duration": 5,
    "start_time": "2022-07-28T16:21:55.335Z"
   },
   {
    "duration": 15,
    "start_time": "2022-07-28T16:21:55.342Z"
   },
   {
    "duration": 19,
    "start_time": "2022-07-28T16:21:55.358Z"
   },
   {
    "duration": 176,
    "start_time": "2022-07-28T16:21:55.379Z"
   },
   {
    "duration": 10,
    "start_time": "2022-07-28T16:21:55.556Z"
   },
   {
    "duration": 68,
    "start_time": "2022-07-28T16:21:55.567Z"
   },
   {
    "duration": 52,
    "start_time": "2022-07-28T16:24:08.160Z"
   },
   {
    "duration": 1154,
    "start_time": "2022-07-28T16:24:19.017Z"
   },
   {
    "duration": 4,
    "start_time": "2022-07-28T16:24:20.173Z"
   },
   {
    "duration": 191,
    "start_time": "2022-07-28T16:24:20.179Z"
   },
   {
    "duration": 12,
    "start_time": "2022-07-28T16:24:20.372Z"
   },
   {
    "duration": 10,
    "start_time": "2022-07-28T16:24:20.386Z"
   },
   {
    "duration": 11,
    "start_time": "2022-07-28T16:24:20.398Z"
   },
   {
    "duration": 16,
    "start_time": "2022-07-28T16:24:20.410Z"
   },
   {
    "duration": 15,
    "start_time": "2022-07-28T16:24:20.428Z"
   },
   {
    "duration": 20,
    "start_time": "2022-07-28T16:24:20.445Z"
   },
   {
    "duration": 7,
    "start_time": "2022-07-28T16:24:20.467Z"
   },
   {
    "duration": 11,
    "start_time": "2022-07-28T16:24:20.475Z"
   },
   {
    "duration": 10,
    "start_time": "2022-07-28T16:24:20.487Z"
   },
   {
    "duration": 7,
    "start_time": "2022-07-28T16:24:20.498Z"
   },
   {
    "duration": 28,
    "start_time": "2022-07-28T16:24:20.508Z"
   },
   {
    "duration": 15,
    "start_time": "2022-07-28T16:24:20.537Z"
   },
   {
    "duration": 10,
    "start_time": "2022-07-28T16:24:20.553Z"
   },
   {
    "duration": 7,
    "start_time": "2022-07-28T16:24:20.565Z"
   },
   {
    "duration": 21,
    "start_time": "2022-07-28T16:24:20.574Z"
   },
   {
    "duration": 13,
    "start_time": "2022-07-28T16:24:20.596Z"
   },
   {
    "duration": 28,
    "start_time": "2022-07-28T16:24:20.610Z"
   },
   {
    "duration": 7,
    "start_time": "2022-07-28T16:24:20.639Z"
   },
   {
    "duration": 14,
    "start_time": "2022-07-28T16:24:20.647Z"
   },
   {
    "duration": 9,
    "start_time": "2022-07-28T16:24:20.662Z"
   },
   {
    "duration": 11,
    "start_time": "2022-07-28T16:24:20.673Z"
   },
   {
    "duration": 10,
    "start_time": "2022-07-28T16:24:20.685Z"
   },
   {
    "duration": 290,
    "start_time": "2022-07-28T16:24:20.696Z"
   },
   {
    "duration": 365,
    "start_time": "2022-07-28T16:24:20.988Z"
   },
   {
    "duration": 260,
    "start_time": "2022-07-28T16:24:21.355Z"
   },
   {
    "duration": 370,
    "start_time": "2022-07-28T16:24:21.618Z"
   },
   {
    "duration": 267,
    "start_time": "2022-07-28T16:24:21.990Z"
   },
   {
    "duration": 395,
    "start_time": "2022-07-28T16:24:22.259Z"
   },
   {
    "duration": 169,
    "start_time": "2022-07-28T16:24:22.656Z"
   },
   {
    "duration": 9,
    "start_time": "2022-07-28T16:24:22.826Z"
   },
   {
    "duration": 158,
    "start_time": "2022-07-28T16:24:22.837Z"
   },
   {
    "duration": 6,
    "start_time": "2022-07-28T16:24:22.996Z"
   },
   {
    "duration": 14,
    "start_time": "2022-07-28T16:24:23.003Z"
   },
   {
    "duration": 14,
    "start_time": "2022-07-28T16:24:23.034Z"
   },
   {
    "duration": 87,
    "start_time": "2022-07-28T16:24:23.049Z"
   },
   {
    "duration": 14,
    "start_time": "2022-07-28T16:24:23.138Z"
   },
   {
    "duration": 17,
    "start_time": "2022-07-28T16:24:23.154Z"
   },
   {
    "duration": 1156,
    "start_time": "2022-07-28T16:25:12.673Z"
   },
   {
    "duration": 3,
    "start_time": "2022-07-28T16:25:13.830Z"
   },
   {
    "duration": 202,
    "start_time": "2022-07-28T16:25:13.838Z"
   },
   {
    "duration": 13,
    "start_time": "2022-07-28T16:25:14.042Z"
   },
   {
    "duration": 21,
    "start_time": "2022-07-28T16:25:14.057Z"
   },
   {
    "duration": 12,
    "start_time": "2022-07-28T16:25:14.080Z"
   },
   {
    "duration": 9,
    "start_time": "2022-07-28T16:25:14.094Z"
   },
   {
    "duration": 15,
    "start_time": "2022-07-28T16:25:14.105Z"
   },
   {
    "duration": 22,
    "start_time": "2022-07-28T16:25:14.123Z"
   },
   {
    "duration": 6,
    "start_time": "2022-07-28T16:25:14.147Z"
   },
   {
    "duration": 10,
    "start_time": "2022-07-28T16:25:14.155Z"
   },
   {
    "duration": 12,
    "start_time": "2022-07-28T16:25:14.167Z"
   },
   {
    "duration": 14,
    "start_time": "2022-07-28T16:25:14.180Z"
   },
   {
    "duration": 11,
    "start_time": "2022-07-28T16:25:14.196Z"
   },
   {
    "duration": 27,
    "start_time": "2022-07-28T16:25:14.209Z"
   },
   {
    "duration": 6,
    "start_time": "2022-07-28T16:25:14.238Z"
   },
   {
    "duration": 8,
    "start_time": "2022-07-28T16:25:14.246Z"
   },
   {
    "duration": 9,
    "start_time": "2022-07-28T16:25:14.256Z"
   },
   {
    "duration": 9,
    "start_time": "2022-07-28T16:25:14.267Z"
   },
   {
    "duration": 9,
    "start_time": "2022-07-28T16:25:14.277Z"
   },
   {
    "duration": 47,
    "start_time": "2022-07-28T16:25:14.288Z"
   },
   {
    "duration": 10,
    "start_time": "2022-07-28T16:25:14.336Z"
   },
   {
    "duration": 15,
    "start_time": "2022-07-28T16:25:14.347Z"
   },
   {
    "duration": 9,
    "start_time": "2022-07-28T16:25:14.364Z"
   },
   {
    "duration": 11,
    "start_time": "2022-07-28T16:25:14.375Z"
   },
   {
    "duration": 277,
    "start_time": "2022-07-28T16:25:14.388Z"
   },
   {
    "duration": 330,
    "start_time": "2022-07-28T16:25:14.668Z"
   },
   {
    "duration": 252,
    "start_time": "2022-07-28T16:25:14.999Z"
   },
   {
    "duration": 339,
    "start_time": "2022-07-28T16:25:15.253Z"
   },
   {
    "duration": 251,
    "start_time": "2022-07-28T16:25:15.593Z"
   },
   {
    "duration": 361,
    "start_time": "2022-07-28T16:25:15.846Z"
   },
   {
    "duration": 155,
    "start_time": "2022-07-28T16:25:16.209Z"
   },
   {
    "duration": 5,
    "start_time": "2022-07-28T16:25:16.365Z"
   },
   {
    "duration": 161,
    "start_time": "2022-07-28T16:25:16.372Z"
   },
   {
    "duration": 4,
    "start_time": "2022-07-28T16:25:16.535Z"
   },
   {
    "duration": 18,
    "start_time": "2022-07-28T16:25:16.540Z"
   },
   {
    "duration": 34,
    "start_time": "2022-07-28T16:25:16.560Z"
   },
   {
    "duration": 72,
    "start_time": "2022-07-28T16:25:16.595Z"
   },
   {
    "duration": 20,
    "start_time": "2022-07-28T16:25:16.669Z"
   },
   {
    "duration": 41,
    "start_time": "2022-07-28T16:25:16.690Z"
   },
   {
    "duration": 129,
    "start_time": "2022-07-28T16:25:16.732Z"
   },
   {
    "duration": 8,
    "start_time": "2022-07-28T16:25:16.862Z"
   },
   {
    "duration": 18,
    "start_time": "2022-07-28T16:25:16.871Z"
   },
   {
    "duration": 34,
    "start_time": "2022-07-28T16:25:16.890Z"
   },
   {
    "duration": 6,
    "start_time": "2022-07-28T16:25:16.926Z"
   },
   {
    "duration": 35,
    "start_time": "2022-07-28T16:25:16.934Z"
   },
   {
    "duration": 13,
    "start_time": "2022-07-28T16:25:16.971Z"
   },
   {
    "duration": 122,
    "start_time": "2022-07-28T16:26:59.962Z"
   },
   {
    "duration": 10,
    "start_time": "2022-07-28T16:27:33.542Z"
   },
   {
    "duration": 12,
    "start_time": "2022-07-28T16:27:34.288Z"
   },
   {
    "duration": 5,
    "start_time": "2022-07-28T16:27:45.118Z"
   },
   {
    "duration": 4,
    "start_time": "2022-07-28T16:27:48.472Z"
   },
   {
    "duration": 117,
    "start_time": "2022-07-28T16:27:52.586Z"
   },
   {
    "duration": 4,
    "start_time": "2022-07-28T16:27:59.243Z"
   },
   {
    "duration": 1268,
    "start_time": "2022-07-28T16:30:36.015Z"
   },
   {
    "duration": 3,
    "start_time": "2022-07-28T16:30:37.285Z"
   },
   {
    "duration": 200,
    "start_time": "2022-07-28T16:30:37.290Z"
   },
   {
    "duration": 12,
    "start_time": "2022-07-28T16:30:37.492Z"
   },
   {
    "duration": 12,
    "start_time": "2022-07-28T16:30:37.506Z"
   },
   {
    "duration": 9,
    "start_time": "2022-07-28T16:30:37.520Z"
   },
   {
    "duration": 11,
    "start_time": "2022-07-28T16:30:37.531Z"
   },
   {
    "duration": 15,
    "start_time": "2022-07-28T16:30:37.543Z"
   },
   {
    "duration": 18,
    "start_time": "2022-07-28T16:30:37.559Z"
   },
   {
    "duration": 7,
    "start_time": "2022-07-28T16:30:37.580Z"
   },
   {
    "duration": 11,
    "start_time": "2022-07-28T16:30:37.588Z"
   },
   {
    "duration": 11,
    "start_time": "2022-07-28T16:30:37.601Z"
   },
   {
    "duration": 25,
    "start_time": "2022-07-28T16:30:37.613Z"
   },
   {
    "duration": 13,
    "start_time": "2022-07-28T16:30:37.639Z"
   },
   {
    "duration": 12,
    "start_time": "2022-07-28T16:30:37.654Z"
   },
   {
    "duration": 9,
    "start_time": "2022-07-28T16:30:37.667Z"
   },
   {
    "duration": 8,
    "start_time": "2022-07-28T16:30:37.678Z"
   },
   {
    "duration": 10,
    "start_time": "2022-07-28T16:30:37.687Z"
   },
   {
    "duration": 44,
    "start_time": "2022-07-28T16:30:37.698Z"
   },
   {
    "duration": 11,
    "start_time": "2022-07-28T16:30:37.743Z"
   },
   {
    "duration": 10,
    "start_time": "2022-07-28T16:30:37.755Z"
   },
   {
    "duration": 8,
    "start_time": "2022-07-28T16:30:37.767Z"
   },
   {
    "duration": 14,
    "start_time": "2022-07-28T16:30:37.777Z"
   },
   {
    "duration": 12,
    "start_time": "2022-07-28T16:30:37.793Z"
   },
   {
    "duration": 14,
    "start_time": "2022-07-28T16:30:37.835Z"
   },
   {
    "duration": 319,
    "start_time": "2022-07-28T16:30:37.851Z"
   },
   {
    "duration": 341,
    "start_time": "2022-07-28T16:30:38.171Z"
   },
   {
    "duration": 259,
    "start_time": "2022-07-28T16:30:38.516Z"
   },
   {
    "duration": 332,
    "start_time": "2022-07-28T16:30:38.777Z"
   },
   {
    "duration": 257,
    "start_time": "2022-07-28T16:30:39.111Z"
   },
   {
    "duration": 374,
    "start_time": "2022-07-28T16:30:39.370Z"
   },
   {
    "duration": 163,
    "start_time": "2022-07-28T16:30:39.745Z"
   },
   {
    "duration": 5,
    "start_time": "2022-07-28T16:30:39.910Z"
   },
   {
    "duration": 166,
    "start_time": "2022-07-28T16:30:39.916Z"
   },
   {
    "duration": 5,
    "start_time": "2022-07-28T16:30:40.083Z"
   },
   {
    "duration": 16,
    "start_time": "2022-07-28T16:30:40.089Z"
   },
   {
    "duration": 36,
    "start_time": "2022-07-28T16:30:40.106Z"
   },
   {
    "duration": 74,
    "start_time": "2022-07-28T16:30:40.144Z"
   },
   {
    "duration": 19,
    "start_time": "2022-07-28T16:30:40.220Z"
   },
   {
    "duration": 16,
    "start_time": "2022-07-28T16:30:40.241Z"
   },
   {
    "duration": 76,
    "start_time": "2022-07-28T16:37:42.040Z"
   },
   {
    "duration": 1231,
    "start_time": "2022-07-28T16:37:53.311Z"
   },
   {
    "duration": 5,
    "start_time": "2022-07-28T16:37:54.543Z"
   },
   {
    "duration": 199,
    "start_time": "2022-07-28T16:37:54.551Z"
   },
   {
    "duration": 12,
    "start_time": "2022-07-28T16:37:54.752Z"
   },
   {
    "duration": 27,
    "start_time": "2022-07-28T16:37:54.765Z"
   },
   {
    "duration": 21,
    "start_time": "2022-07-28T16:37:54.794Z"
   },
   {
    "duration": 22,
    "start_time": "2022-07-28T16:37:54.817Z"
   },
   {
    "duration": 24,
    "start_time": "2022-07-28T16:37:54.840Z"
   },
   {
    "duration": 18,
    "start_time": "2022-07-28T16:37:54.865Z"
   },
   {
    "duration": 9,
    "start_time": "2022-07-28T16:37:54.884Z"
   },
   {
    "duration": 11,
    "start_time": "2022-07-28T16:37:54.895Z"
   },
   {
    "duration": 30,
    "start_time": "2022-07-28T16:37:54.908Z"
   },
   {
    "duration": 16,
    "start_time": "2022-07-28T16:37:54.940Z"
   },
   {
    "duration": 20,
    "start_time": "2022-07-28T16:37:54.957Z"
   },
   {
    "duration": 18,
    "start_time": "2022-07-28T16:37:54.979Z"
   },
   {
    "duration": 15,
    "start_time": "2022-07-28T16:37:54.998Z"
   },
   {
    "duration": 17,
    "start_time": "2022-07-28T16:37:55.015Z"
   },
   {
    "duration": 36,
    "start_time": "2022-07-28T16:37:55.034Z"
   },
   {
    "duration": 15,
    "start_time": "2022-07-28T16:37:55.072Z"
   },
   {
    "duration": 22,
    "start_time": "2022-07-28T16:37:55.089Z"
   },
   {
    "duration": 16,
    "start_time": "2022-07-28T16:37:55.112Z"
   },
   {
    "duration": 13,
    "start_time": "2022-07-28T16:37:55.131Z"
   },
   {
    "duration": 16,
    "start_time": "2022-07-28T16:37:55.146Z"
   },
   {
    "duration": 12,
    "start_time": "2022-07-28T16:37:55.164Z"
   },
   {
    "duration": 17,
    "start_time": "2022-07-28T16:37:55.178Z"
   },
   {
    "duration": 294,
    "start_time": "2022-07-28T16:37:55.197Z"
   },
   {
    "duration": 337,
    "start_time": "2022-07-28T16:37:55.492Z"
   },
   {
    "duration": 264,
    "start_time": "2022-07-28T16:37:55.833Z"
   },
   {
    "duration": 360,
    "start_time": "2022-07-28T16:37:56.099Z"
   },
   {
    "duration": 274,
    "start_time": "2022-07-28T16:37:56.460Z"
   },
   {
    "duration": 388,
    "start_time": "2022-07-28T16:37:56.736Z"
   },
   {
    "duration": 169,
    "start_time": "2022-07-28T16:37:57.126Z"
   },
   {
    "duration": 4,
    "start_time": "2022-07-28T16:37:57.297Z"
   },
   {
    "duration": 173,
    "start_time": "2022-07-28T16:37:57.302Z"
   },
   {
    "duration": 5,
    "start_time": "2022-07-28T16:37:57.476Z"
   },
   {
    "duration": 14,
    "start_time": "2022-07-28T16:37:57.482Z"
   },
   {
    "duration": 16,
    "start_time": "2022-07-28T16:37:57.497Z"
   },
   {
    "duration": 93,
    "start_time": "2022-07-28T16:37:57.514Z"
   },
   {
    "duration": 9,
    "start_time": "2022-07-28T16:37:57.609Z"
   },
   {
    "duration": 14,
    "start_time": "2022-07-28T16:37:57.634Z"
   },
   {
    "duration": 135,
    "start_time": "2022-07-28T16:37:57.650Z"
   },
   {
    "duration": 9,
    "start_time": "2022-07-28T16:37:57.786Z"
   },
   {
    "duration": 7,
    "start_time": "2022-07-28T16:37:57.797Z"
   },
   {
    "duration": 38,
    "start_time": "2022-07-28T16:37:57.805Z"
   },
   {
    "duration": 8,
    "start_time": "2022-07-28T16:37:57.844Z"
   },
   {
    "duration": 15,
    "start_time": "2022-07-28T16:37:57.853Z"
   },
   {
    "duration": 6,
    "start_time": "2022-07-28T16:37:57.870Z"
   },
   {
    "duration": 222,
    "start_time": "2022-07-28T16:39:28.771Z"
   },
   {
    "duration": 123,
    "start_time": "2022-07-28T16:49:58.351Z"
   },
   {
    "duration": 138,
    "start_time": "2022-07-28T16:51:06.715Z"
   },
   {
    "duration": 149,
    "start_time": "2022-07-28T16:53:45.287Z"
   },
   {
    "duration": 153,
    "start_time": "2022-07-28T16:55:53.119Z"
   },
   {
    "duration": 11,
    "start_time": "2022-07-28T16:56:10.617Z"
   },
   {
    "duration": 9,
    "start_time": "2022-07-28T16:56:13.381Z"
   },
   {
    "duration": 8,
    "start_time": "2022-07-28T16:56:21.374Z"
   },
   {
    "duration": 839,
    "start_time": "2022-07-28T16:56:31.901Z"
   },
   {
    "duration": 746,
    "start_time": "2022-07-28T16:56:35.892Z"
   },
   {
    "duration": 9,
    "start_time": "2022-07-28T16:56:43.363Z"
   },
   {
    "duration": 6,
    "start_time": "2022-07-28T16:56:47.493Z"
   },
   {
    "duration": 5,
    "start_time": "2022-07-28T16:56:50.509Z"
   },
   {
    "duration": 9,
    "start_time": "2022-07-28T16:57:40.982Z"
   },
   {
    "duration": 12,
    "start_time": "2022-07-28T16:57:53.761Z"
   },
   {
    "duration": 8,
    "start_time": "2022-07-28T16:58:07.685Z"
   },
   {
    "duration": 14,
    "start_time": "2022-07-28T16:58:12.504Z"
   },
   {
    "duration": 129,
    "start_time": "2022-07-28T17:03:31.224Z"
   },
   {
    "duration": 4,
    "start_time": "2022-07-28T17:03:34.259Z"
   },
   {
    "duration": 131,
    "start_time": "2022-07-28T17:03:59.252Z"
   },
   {
    "duration": 10,
    "start_time": "2022-07-28T17:04:00.788Z"
   },
   {
    "duration": 136,
    "start_time": "2022-07-28T17:04:25.914Z"
   },
   {
    "duration": 4,
    "start_time": "2022-07-28T17:04:28.127Z"
   },
   {
    "duration": 1073,
    "start_time": "2022-07-28T17:06:36.383Z"
   },
   {
    "duration": 3,
    "start_time": "2022-07-28T17:06:37.458Z"
   },
   {
    "duration": 73,
    "start_time": "2022-07-28T17:06:37.463Z"
   },
   {
    "duration": 11,
    "start_time": "2022-07-28T17:06:37.539Z"
   },
   {
    "duration": 11,
    "start_time": "2022-07-28T17:06:37.551Z"
   },
   {
    "duration": 10,
    "start_time": "2022-07-28T17:06:37.563Z"
   },
   {
    "duration": 9,
    "start_time": "2022-07-28T17:06:37.574Z"
   },
   {
    "duration": 12,
    "start_time": "2022-07-28T17:06:37.584Z"
   },
   {
    "duration": 43,
    "start_time": "2022-07-28T17:06:37.597Z"
   },
   {
    "duration": 6,
    "start_time": "2022-07-28T17:06:37.643Z"
   },
   {
    "duration": 9,
    "start_time": "2022-07-28T17:06:37.650Z"
   },
   {
    "duration": 11,
    "start_time": "2022-07-28T17:06:37.660Z"
   },
   {
    "duration": 8,
    "start_time": "2022-07-28T17:06:37.673Z"
   },
   {
    "duration": 11,
    "start_time": "2022-07-28T17:06:37.683Z"
   },
   {
    "duration": 44,
    "start_time": "2022-07-28T17:06:37.695Z"
   },
   {
    "duration": 8,
    "start_time": "2022-07-28T17:06:37.740Z"
   },
   {
    "duration": 7,
    "start_time": "2022-07-28T17:06:37.750Z"
   },
   {
    "duration": 9,
    "start_time": "2022-07-28T17:06:37.759Z"
   },
   {
    "duration": 11,
    "start_time": "2022-07-28T17:06:37.769Z"
   },
   {
    "duration": 9,
    "start_time": "2022-07-28T17:06:37.781Z"
   },
   {
    "duration": 8,
    "start_time": "2022-07-28T17:06:37.833Z"
   },
   {
    "duration": 9,
    "start_time": "2022-07-28T17:06:37.842Z"
   },
   {
    "duration": 9,
    "start_time": "2022-07-28T17:06:37.853Z"
   },
   {
    "duration": 12,
    "start_time": "2022-07-28T17:06:37.863Z"
   },
   {
    "duration": 9,
    "start_time": "2022-07-28T17:06:37.877Z"
   },
   {
    "duration": 322,
    "start_time": "2022-07-28T17:06:37.888Z"
   },
   {
    "duration": 334,
    "start_time": "2022-07-28T17:06:38.212Z"
   },
   {
    "duration": 259,
    "start_time": "2022-07-28T17:06:38.549Z"
   },
   {
    "duration": 385,
    "start_time": "2022-07-28T17:06:38.810Z"
   },
   {
    "duration": 281,
    "start_time": "2022-07-28T17:06:39.196Z"
   },
   {
    "duration": 366,
    "start_time": "2022-07-28T17:06:39.479Z"
   },
   {
    "duration": 159,
    "start_time": "2022-07-28T17:06:39.846Z"
   },
   {
    "duration": 5,
    "start_time": "2022-07-28T17:06:40.006Z"
   },
   {
    "duration": 174,
    "start_time": "2022-07-28T17:06:40.012Z"
   },
   {
    "duration": 4,
    "start_time": "2022-07-28T17:06:40.188Z"
   },
   {
    "duration": 15,
    "start_time": "2022-07-28T17:06:40.193Z"
   },
   {
    "duration": 31,
    "start_time": "2022-07-28T17:06:40.210Z"
   },
   {
    "duration": 73,
    "start_time": "2022-07-28T17:06:40.243Z"
   },
   {
    "duration": 146,
    "start_time": "2022-07-28T17:06:40.318Z"
   },
   {
    "duration": 4,
    "start_time": "2022-07-28T17:06:40.465Z"
   },
   {
    "duration": 8,
    "start_time": "2022-07-28T17:06:40.471Z"
   },
   {
    "duration": 7,
    "start_time": "2022-07-28T17:06:40.481Z"
   },
   {
    "duration": 45,
    "start_time": "2022-07-28T17:06:40.490Z"
   },
   {
    "duration": 7,
    "start_time": "2022-07-28T17:06:40.536Z"
   },
   {
    "duration": 18,
    "start_time": "2022-07-28T17:06:40.545Z"
   },
   {
    "duration": 7,
    "start_time": "2022-07-28T17:06:40.564Z"
   },
   {
    "duration": 155,
    "start_time": "2022-07-28T17:10:49.823Z"
   },
   {
    "duration": 12,
    "start_time": "2022-07-28T17:10:51.038Z"
   },
   {
    "duration": 87,
    "start_time": "2022-07-28T17:11:21.858Z"
   },
   {
    "duration": 4,
    "start_time": "2022-07-28T17:11:23.985Z"
   },
   {
    "duration": 75,
    "start_time": "2022-07-28T17:11:27.934Z"
   },
   {
    "duration": 10,
    "start_time": "2022-07-28T17:11:33.021Z"
   },
   {
    "duration": 128,
    "start_time": "2022-07-28T17:11:47.061Z"
   },
   {
    "duration": 123,
    "start_time": "2022-07-28T17:11:49.662Z"
   },
   {
    "duration": 9,
    "start_time": "2022-07-28T17:11:51.840Z"
   },
   {
    "duration": 9,
    "start_time": "2022-07-28T17:11:55.866Z"
   },
   {
    "duration": 13,
    "start_time": "2022-07-28T17:11:58.303Z"
   },
   {
    "duration": 114,
    "start_time": "2022-07-28T17:12:11.302Z"
   },
   {
    "duration": 8,
    "start_time": "2022-07-28T17:12:11.878Z"
   },
   {
    "duration": 73,
    "start_time": "2022-07-28T17:12:25.881Z"
   },
   {
    "duration": 8,
    "start_time": "2022-07-28T17:12:26.404Z"
   },
   {
    "duration": 1739,
    "start_time": "2022-07-28T17:14:05.881Z"
   },
   {
    "duration": 3,
    "start_time": "2022-07-28T17:14:07.622Z"
   },
   {
    "duration": 79,
    "start_time": "2022-07-28T17:14:07.626Z"
   },
   {
    "duration": 14,
    "start_time": "2022-07-28T17:14:07.710Z"
   },
   {
    "duration": 14,
    "start_time": "2022-07-28T17:14:07.726Z"
   },
   {
    "duration": 14,
    "start_time": "2022-07-28T17:14:07.742Z"
   },
   {
    "duration": 15,
    "start_time": "2022-07-28T17:14:07.758Z"
   },
   {
    "duration": 18,
    "start_time": "2022-07-28T17:14:07.775Z"
   },
   {
    "duration": 23,
    "start_time": "2022-07-28T17:14:07.796Z"
   },
   {
    "duration": 13,
    "start_time": "2022-07-28T17:14:07.823Z"
   },
   {
    "duration": 13,
    "start_time": "2022-07-28T17:14:07.837Z"
   },
   {
    "duration": 15,
    "start_time": "2022-07-28T17:14:07.852Z"
   },
   {
    "duration": 12,
    "start_time": "2022-07-28T17:14:07.869Z"
   },
   {
    "duration": 20,
    "start_time": "2022-07-28T17:14:07.883Z"
   },
   {
    "duration": 37,
    "start_time": "2022-07-28T17:14:07.905Z"
   },
   {
    "duration": 9,
    "start_time": "2022-07-28T17:14:07.945Z"
   },
   {
    "duration": 10,
    "start_time": "2022-07-28T17:14:07.956Z"
   },
   {
    "duration": 14,
    "start_time": "2022-07-28T17:14:07.968Z"
   },
   {
    "duration": 51,
    "start_time": "2022-07-28T17:14:07.984Z"
   },
   {
    "duration": 15,
    "start_time": "2022-07-28T17:14:08.037Z"
   },
   {
    "duration": 10,
    "start_time": "2022-07-28T17:14:08.054Z"
   },
   {
    "duration": 12,
    "start_time": "2022-07-28T17:14:08.066Z"
   },
   {
    "duration": 11,
    "start_time": "2022-07-28T17:14:08.080Z"
   },
   {
    "duration": 42,
    "start_time": "2022-07-28T17:14:08.093Z"
   },
   {
    "duration": 13,
    "start_time": "2022-07-28T17:14:08.137Z"
   },
   {
    "duration": 282,
    "start_time": "2022-07-28T17:14:08.152Z"
   },
   {
    "duration": 358,
    "start_time": "2022-07-28T17:14:08.436Z"
   },
   {
    "duration": 268,
    "start_time": "2022-07-28T17:14:08.799Z"
   },
   {
    "duration": 374,
    "start_time": "2022-07-28T17:14:09.069Z"
   },
   {
    "duration": 266,
    "start_time": "2022-07-28T17:14:09.445Z"
   },
   {
    "duration": 410,
    "start_time": "2022-07-28T17:14:09.713Z"
   },
   {
    "duration": 171,
    "start_time": "2022-07-28T17:14:10.125Z"
   },
   {
    "duration": 5,
    "start_time": "2022-07-28T17:14:10.298Z"
   },
   {
    "duration": 179,
    "start_time": "2022-07-28T17:14:10.305Z"
   },
   {
    "duration": 4,
    "start_time": "2022-07-28T17:14:10.486Z"
   },
   {
    "duration": 15,
    "start_time": "2022-07-28T17:14:10.491Z"
   },
   {
    "duration": 36,
    "start_time": "2022-07-28T17:14:10.507Z"
   },
   {
    "duration": 75,
    "start_time": "2022-07-28T17:14:10.545Z"
   },
   {
    "duration": 90,
    "start_time": "2022-07-28T17:14:10.621Z"
   },
   {
    "duration": 8,
    "start_time": "2022-07-28T17:14:10.713Z"
   },
   {
    "duration": 7,
    "start_time": "2022-07-28T17:14:10.734Z"
   },
   {
    "duration": 20,
    "start_time": "2022-07-28T17:14:10.743Z"
   },
   {
    "duration": 7,
    "start_time": "2022-07-28T17:14:10.765Z"
   },
   {
    "duration": 13,
    "start_time": "2022-07-28T17:14:10.774Z"
   },
   {
    "duration": 11,
    "start_time": "2022-07-28T17:14:10.789Z"
   },
   {
    "duration": 7,
    "start_time": "2022-07-28T17:14:26.968Z"
   },
   {
    "duration": 73,
    "start_time": "2022-07-28T17:18:19.374Z"
   },
   {
    "duration": 2,
    "start_time": "2022-07-28T17:18:31.442Z"
   },
   {
    "duration": 1135,
    "start_time": "2022-07-28T17:21:16.988Z"
   },
   {
    "duration": 5,
    "start_time": "2022-07-28T17:21:18.124Z"
   },
   {
    "duration": 95,
    "start_time": "2022-07-28T17:21:18.133Z"
   },
   {
    "duration": 20,
    "start_time": "2022-07-28T17:21:18.230Z"
   },
   {
    "duration": 14,
    "start_time": "2022-07-28T17:21:18.251Z"
   },
   {
    "duration": 11,
    "start_time": "2022-07-28T17:21:18.267Z"
   },
   {
    "duration": 8,
    "start_time": "2022-07-28T17:21:18.279Z"
   },
   {
    "duration": 11,
    "start_time": "2022-07-28T17:21:18.289Z"
   },
   {
    "duration": 17,
    "start_time": "2022-07-28T17:21:18.302Z"
   },
   {
    "duration": 10,
    "start_time": "2022-07-28T17:21:18.336Z"
   },
   {
    "duration": 9,
    "start_time": "2022-07-28T17:21:18.348Z"
   },
   {
    "duration": 21,
    "start_time": "2022-07-28T17:21:18.359Z"
   },
   {
    "duration": 6,
    "start_time": "2022-07-28T17:21:18.382Z"
   },
   {
    "duration": 12,
    "start_time": "2022-07-28T17:21:18.390Z"
   },
   {
    "duration": 11,
    "start_time": "2022-07-28T17:21:18.403Z"
   },
   {
    "duration": 33,
    "start_time": "2022-07-28T17:21:18.415Z"
   },
   {
    "duration": 11,
    "start_time": "2022-07-28T17:21:18.450Z"
   },
   {
    "duration": 13,
    "start_time": "2022-07-28T17:21:18.463Z"
   },
   {
    "duration": 10,
    "start_time": "2022-07-28T17:21:18.477Z"
   },
   {
    "duration": 12,
    "start_time": "2022-07-28T17:21:18.489Z"
   },
   {
    "duration": 5,
    "start_time": "2022-07-28T17:21:18.503Z"
   },
   {
    "duration": 16,
    "start_time": "2022-07-28T17:21:18.541Z"
   },
   {
    "duration": 13,
    "start_time": "2022-07-28T17:21:18.559Z"
   },
   {
    "duration": 7,
    "start_time": "2022-07-28T17:21:18.574Z"
   },
   {
    "duration": 10,
    "start_time": "2022-07-28T17:21:18.583Z"
   },
   {
    "duration": 11,
    "start_time": "2022-07-28T17:21:18.595Z"
   },
   {
    "duration": 39,
    "start_time": "2022-07-28T17:21:18.608Z"
   },
   {
    "duration": 305,
    "start_time": "2022-07-28T17:21:18.651Z"
   },
   {
    "duration": 613,
    "start_time": "2022-07-28T17:21:18.958Z"
   },
   {
    "duration": 664,
    "start_time": "2022-07-28T17:21:19.573Z"
   },
   {
    "duration": 609,
    "start_time": "2022-07-28T17:21:20.240Z"
   },
   {
    "duration": 525,
    "start_time": "2022-07-28T17:21:20.851Z"
   },
   {
    "duration": 779,
    "start_time": "2022-07-28T17:21:21.379Z"
   },
   {
    "duration": 406,
    "start_time": "2022-07-28T17:21:22.160Z"
   },
   {
    "duration": 11,
    "start_time": "2022-07-28T17:21:22.568Z"
   },
   {
    "duration": 82,
    "start_time": "2022-07-28T17:21:22.581Z"
   },
   {
    "duration": 406,
    "start_time": "2022-07-28T17:21:22.665Z"
   },
   {
    "duration": 5,
    "start_time": "2022-07-28T17:21:23.072Z"
   },
   {
    "duration": 65,
    "start_time": "2022-07-28T17:21:23.078Z"
   },
   {
    "duration": 42,
    "start_time": "2022-07-28T17:21:23.149Z"
   },
   {
    "duration": 74,
    "start_time": "2022-07-28T17:21:23.233Z"
   },
   {
    "duration": 28,
    "start_time": "2022-07-28T17:21:23.308Z"
   },
   {
    "duration": 25,
    "start_time": "2022-07-28T17:21:23.337Z"
   },
   {
    "duration": 13,
    "start_time": "2022-07-28T17:21:23.363Z"
   },
   {
    "duration": 8,
    "start_time": "2022-07-28T17:21:23.377Z"
   },
   {
    "duration": 117,
    "start_time": "2022-07-28T17:21:23.386Z"
   },
   {
    "duration": 0,
    "start_time": "2022-07-28T17:21:23.505Z"
   },
   {
    "duration": 0,
    "start_time": "2022-07-28T17:21:23.507Z"
   },
   {
    "duration": 0,
    "start_time": "2022-07-28T17:21:23.508Z"
   },
   {
    "duration": 0,
    "start_time": "2022-07-28T17:21:23.510Z"
   },
   {
    "duration": 0,
    "start_time": "2022-07-28T17:21:23.511Z"
   },
   {
    "duration": 0,
    "start_time": "2022-07-28T17:21:23.512Z"
   },
   {
    "duration": 0,
    "start_time": "2022-07-28T17:21:23.513Z"
   },
   {
    "duration": 0,
    "start_time": "2022-07-28T17:21:23.541Z"
   },
   {
    "duration": 1160,
    "start_time": "2022-07-28T17:21:51.586Z"
   },
   {
    "duration": 4,
    "start_time": "2022-07-28T17:21:52.747Z"
   },
   {
    "duration": 78,
    "start_time": "2022-07-28T17:21:52.753Z"
   },
   {
    "duration": 12,
    "start_time": "2022-07-28T17:21:52.834Z"
   },
   {
    "duration": 11,
    "start_time": "2022-07-28T17:21:52.847Z"
   },
   {
    "duration": 15,
    "start_time": "2022-07-28T17:21:52.860Z"
   },
   {
    "duration": 10,
    "start_time": "2022-07-28T17:21:52.876Z"
   },
   {
    "duration": 11,
    "start_time": "2022-07-28T17:21:52.887Z"
   },
   {
    "duration": 43,
    "start_time": "2022-07-28T17:21:52.899Z"
   },
   {
    "duration": 8,
    "start_time": "2022-07-28T17:21:52.945Z"
   },
   {
    "duration": 10,
    "start_time": "2022-07-28T17:21:52.954Z"
   },
   {
    "duration": 14,
    "start_time": "2022-07-28T17:21:52.965Z"
   },
   {
    "duration": 7,
    "start_time": "2022-07-28T17:21:52.981Z"
   },
   {
    "duration": 17,
    "start_time": "2022-07-28T17:21:52.989Z"
   },
   {
    "duration": 26,
    "start_time": "2022-07-28T17:21:53.008Z"
   },
   {
    "duration": 9,
    "start_time": "2022-07-28T17:21:53.036Z"
   },
   {
    "duration": 9,
    "start_time": "2022-07-28T17:21:53.047Z"
   },
   {
    "duration": 11,
    "start_time": "2022-07-28T17:21:53.057Z"
   },
   {
    "duration": 14,
    "start_time": "2022-07-28T17:21:53.070Z"
   },
   {
    "duration": 16,
    "start_time": "2022-07-28T17:21:53.085Z"
   },
   {
    "duration": 33,
    "start_time": "2022-07-28T17:21:53.103Z"
   },
   {
    "duration": 11,
    "start_time": "2022-07-28T17:21:53.137Z"
   },
   {
    "duration": 11,
    "start_time": "2022-07-28T17:21:53.150Z"
   },
   {
    "duration": 12,
    "start_time": "2022-07-28T17:21:53.163Z"
   },
   {
    "duration": 10,
    "start_time": "2022-07-28T17:21:53.176Z"
   },
   {
    "duration": 16,
    "start_time": "2022-07-28T17:21:53.187Z"
   },
   {
    "duration": 42,
    "start_time": "2022-07-28T17:21:53.204Z"
   },
   {
    "duration": 276,
    "start_time": "2022-07-28T17:21:53.249Z"
   },
   {
    "duration": 336,
    "start_time": "2022-07-28T17:21:53.526Z"
   },
   {
    "duration": 259,
    "start_time": "2022-07-28T17:21:53.864Z"
   },
   {
    "duration": 378,
    "start_time": "2022-07-28T17:21:54.125Z"
   },
   {
    "duration": 374,
    "start_time": "2022-07-28T17:21:54.505Z"
   },
   {
    "duration": 356,
    "start_time": "2022-07-28T17:21:54.881Z"
   },
   {
    "duration": 161,
    "start_time": "2022-07-28T17:21:55.238Z"
   },
   {
    "duration": 8,
    "start_time": "2022-07-28T17:21:55.401Z"
   },
   {
    "duration": 6,
    "start_time": "2022-07-28T17:21:55.411Z"
   },
   {
    "duration": 167,
    "start_time": "2022-07-28T17:21:55.433Z"
   },
   {
    "duration": 5,
    "start_time": "2022-07-28T17:21:55.601Z"
   },
   {
    "duration": 29,
    "start_time": "2022-07-28T17:21:55.607Z"
   },
   {
    "duration": 16,
    "start_time": "2022-07-28T17:21:55.637Z"
   },
   {
    "duration": 87,
    "start_time": "2022-07-28T17:21:55.654Z"
   },
   {
    "duration": 4,
    "start_time": "2022-07-28T17:21:55.743Z"
   },
   {
    "duration": 9,
    "start_time": "2022-07-28T17:21:55.749Z"
   },
   {
    "duration": 10,
    "start_time": "2022-07-28T17:21:55.759Z"
   },
   {
    "duration": 7,
    "start_time": "2022-07-28T17:21:55.770Z"
   },
   {
    "duration": 21,
    "start_time": "2022-07-28T17:21:55.778Z"
   },
   {
    "duration": 66,
    "start_time": "2022-07-28T17:21:55.834Z"
   },
   {
    "duration": 9,
    "start_time": "2022-07-28T17:21:55.902Z"
   },
   {
    "duration": 23,
    "start_time": "2022-07-28T17:21:55.912Z"
   },
   {
    "duration": 11,
    "start_time": "2022-07-28T17:21:55.937Z"
   },
   {
    "duration": 8,
    "start_time": "2022-07-28T17:21:55.950Z"
   },
   {
    "duration": 1222,
    "start_time": "2022-07-28T20:12:17.927Z"
   },
   {
    "duration": 3,
    "start_time": "2022-07-28T20:12:19.152Z"
   },
   {
    "duration": 198,
    "start_time": "2022-07-28T20:12:19.157Z"
   },
   {
    "duration": 12,
    "start_time": "2022-07-28T20:12:19.357Z"
   },
   {
    "duration": 12,
    "start_time": "2022-07-28T20:12:19.371Z"
   },
   {
    "duration": 9,
    "start_time": "2022-07-28T20:12:19.386Z"
   },
   {
    "duration": 10,
    "start_time": "2022-07-28T20:12:19.397Z"
   },
   {
    "duration": 16,
    "start_time": "2022-07-28T20:12:19.409Z"
   },
   {
    "duration": 20,
    "start_time": "2022-07-28T20:12:19.427Z"
   },
   {
    "duration": 7,
    "start_time": "2022-07-28T20:12:19.449Z"
   },
   {
    "duration": 11,
    "start_time": "2022-07-28T20:12:19.457Z"
   },
   {
    "duration": 35,
    "start_time": "2022-07-28T20:12:19.470Z"
   },
   {
    "duration": 8,
    "start_time": "2022-07-28T20:12:19.507Z"
   },
   {
    "duration": 11,
    "start_time": "2022-07-28T20:12:19.518Z"
   },
   {
    "duration": 13,
    "start_time": "2022-07-28T20:12:19.531Z"
   },
   {
    "duration": 9,
    "start_time": "2022-07-28T20:12:19.545Z"
   },
   {
    "duration": 8,
    "start_time": "2022-07-28T20:12:19.556Z"
   },
   {
    "duration": 43,
    "start_time": "2022-07-28T20:12:19.565Z"
   },
   {
    "duration": 12,
    "start_time": "2022-07-28T20:12:19.610Z"
   },
   {
    "duration": 14,
    "start_time": "2022-07-28T20:12:19.624Z"
   },
   {
    "duration": 7,
    "start_time": "2022-07-28T20:12:19.639Z"
   },
   {
    "duration": 11,
    "start_time": "2022-07-28T20:12:19.647Z"
   },
   {
    "duration": 46,
    "start_time": "2022-07-28T20:12:19.659Z"
   },
   {
    "duration": 7,
    "start_time": "2022-07-28T20:12:19.707Z"
   },
   {
    "duration": 12,
    "start_time": "2022-07-28T20:12:19.716Z"
   },
   {
    "duration": 12,
    "start_time": "2022-07-28T20:12:19.729Z"
   },
   {
    "duration": 13,
    "start_time": "2022-07-28T20:12:19.742Z"
   },
   {
    "duration": 328,
    "start_time": "2022-07-28T20:12:19.757Z"
   },
   {
    "duration": 411,
    "start_time": "2022-07-28T20:12:20.087Z"
   },
   {
    "duration": 299,
    "start_time": "2022-07-28T20:12:20.499Z"
   },
   {
    "duration": 396,
    "start_time": "2022-07-28T20:12:20.804Z"
   },
   {
    "duration": 303,
    "start_time": "2022-07-28T20:12:21.203Z"
   },
   {
    "duration": 413,
    "start_time": "2022-07-28T20:12:21.508Z"
   },
   {
    "duration": 198,
    "start_time": "2022-07-28T20:12:21.923Z"
   },
   {
    "duration": 10,
    "start_time": "2022-07-28T20:12:22.123Z"
   },
   {
    "duration": 7,
    "start_time": "2022-07-28T20:12:22.135Z"
   },
   {
    "duration": 197,
    "start_time": "2022-07-28T20:12:22.144Z"
   },
   {
    "duration": 5,
    "start_time": "2022-07-28T20:12:22.343Z"
   },
   {
    "duration": 19,
    "start_time": "2022-07-28T20:12:22.350Z"
   },
   {
    "duration": 34,
    "start_time": "2022-07-28T20:12:22.371Z"
   },
   {
    "duration": 8,
    "start_time": "2022-07-28T20:12:22.409Z"
   },
   {
    "duration": 6,
    "start_time": "2022-07-28T20:12:22.419Z"
   },
   {
    "duration": 13,
    "start_time": "2022-07-28T20:12:22.427Z"
   },
   {
    "duration": 10,
    "start_time": "2022-07-28T20:12:22.442Z"
   },
   {
    "duration": 111,
    "start_time": "2022-07-28T20:12:22.454Z"
   },
   {
    "duration": 8,
    "start_time": "2022-07-28T20:12:22.567Z"
   },
   {
    "duration": 28,
    "start_time": "2022-07-28T20:12:22.576Z"
   },
   {
    "duration": 6,
    "start_time": "2022-07-28T20:12:22.606Z"
   },
   {
    "duration": 11,
    "start_time": "2022-07-28T20:13:46.504Z"
   },
   {
    "duration": 12,
    "start_time": "2022-07-28T20:13:52.644Z"
   },
   {
    "duration": 10,
    "start_time": "2022-07-28T20:14:46.949Z"
   },
   {
    "duration": 1461,
    "start_time": "2022-07-29T06:45:26.058Z"
   },
   {
    "duration": 5,
    "start_time": "2022-07-29T06:45:27.522Z"
   },
   {
    "duration": 216,
    "start_time": "2022-07-29T06:45:27.529Z"
   },
   {
    "duration": 13,
    "start_time": "2022-07-29T06:45:27.748Z"
   },
   {
    "duration": 14,
    "start_time": "2022-07-29T06:45:27.763Z"
   },
   {
    "duration": 12,
    "start_time": "2022-07-29T06:45:27.778Z"
   },
   {
    "duration": 11,
    "start_time": "2022-07-29T06:45:27.791Z"
   },
   {
    "duration": 15,
    "start_time": "2022-07-29T06:45:27.804Z"
   },
   {
    "duration": 24,
    "start_time": "2022-07-29T06:45:27.821Z"
   },
   {
    "duration": 8,
    "start_time": "2022-07-29T06:45:27.848Z"
   },
   {
    "duration": 10,
    "start_time": "2022-07-29T06:45:27.858Z"
   },
   {
    "duration": 33,
    "start_time": "2022-07-29T06:45:27.870Z"
   },
   {
    "duration": 7,
    "start_time": "2022-07-29T06:45:27.906Z"
   },
   {
    "duration": 15,
    "start_time": "2022-07-29T06:45:27.914Z"
   },
   {
    "duration": 14,
    "start_time": "2022-07-29T06:45:27.931Z"
   },
   {
    "duration": 10,
    "start_time": "2022-07-29T06:45:27.946Z"
   },
   {
    "duration": 10,
    "start_time": "2022-07-29T06:45:27.958Z"
   },
   {
    "duration": 44,
    "start_time": "2022-07-29T06:45:27.970Z"
   },
   {
    "duration": 13,
    "start_time": "2022-07-29T06:45:28.015Z"
   },
   {
    "duration": 15,
    "start_time": "2022-07-29T06:45:28.029Z"
   },
   {
    "duration": 4,
    "start_time": "2022-07-29T06:45:28.046Z"
   },
   {
    "duration": 12,
    "start_time": "2022-07-29T06:45:28.052Z"
   },
   {
    "duration": 45,
    "start_time": "2022-07-29T06:45:28.066Z"
   },
   {
    "duration": 11,
    "start_time": "2022-07-29T06:45:28.113Z"
   },
   {
    "duration": 13,
    "start_time": "2022-07-29T06:45:28.126Z"
   },
   {
    "duration": 14,
    "start_time": "2022-07-29T06:45:28.141Z"
   },
   {
    "duration": 13,
    "start_time": "2022-07-29T06:45:28.157Z"
   },
   {
    "duration": 297,
    "start_time": "2022-07-29T06:45:28.204Z"
   },
   {
    "duration": 376,
    "start_time": "2022-07-29T06:45:28.504Z"
   },
   {
    "duration": 283,
    "start_time": "2022-07-29T06:45:28.882Z"
   },
   {
    "duration": 467,
    "start_time": "2022-07-29T06:45:29.167Z"
   },
   {
    "duration": 315,
    "start_time": "2022-07-29T06:45:29.636Z"
   },
   {
    "duration": 426,
    "start_time": "2022-07-29T06:45:29.953Z"
   },
   {
    "duration": 211,
    "start_time": "2022-07-29T06:45:30.382Z"
   },
   {
    "duration": 13,
    "start_time": "2022-07-29T06:45:30.595Z"
   },
   {
    "duration": 8,
    "start_time": "2022-07-29T06:45:30.610Z"
   },
   {
    "duration": 194,
    "start_time": "2022-07-29T06:45:30.620Z"
   },
   {
    "duration": 6,
    "start_time": "2022-07-29T06:45:30.816Z"
   },
   {
    "duration": 21,
    "start_time": "2022-07-29T06:45:30.824Z"
   },
   {
    "duration": 22,
    "start_time": "2022-07-29T06:45:30.847Z"
   },
   {
    "duration": 99,
    "start_time": "2022-07-29T06:45:30.871Z"
   },
   {
    "duration": 22,
    "start_time": "2022-07-29T06:45:30.972Z"
   },
   {
    "duration": 23,
    "start_time": "2022-07-29T06:45:30.996Z"
   },
   {
    "duration": 16,
    "start_time": "2022-07-29T06:45:31.020Z"
   },
   {
    "duration": 27,
    "start_time": "2022-07-29T06:45:31.038Z"
   },
   {
    "duration": 13,
    "start_time": "2022-07-29T06:45:31.066Z"
   },
   {
    "duration": 30,
    "start_time": "2022-07-29T06:45:31.081Z"
   },
   {
    "duration": 12,
    "start_time": "2022-07-29T06:45:31.113Z"
   },
   {
    "duration": 12,
    "start_time": "2022-07-29T06:46:24.580Z"
   },
   {
    "duration": 1258,
    "start_time": "2022-07-29T06:47:40.681Z"
   },
   {
    "duration": 4,
    "start_time": "2022-07-29T06:47:41.941Z"
   },
   {
    "duration": 103,
    "start_time": "2022-07-29T06:47:41.947Z"
   },
   {
    "duration": 14,
    "start_time": "2022-07-29T06:47:42.052Z"
   },
   {
    "duration": 12,
    "start_time": "2022-07-29T06:47:42.068Z"
   },
   {
    "duration": 13,
    "start_time": "2022-07-29T06:47:42.082Z"
   },
   {
    "duration": 17,
    "start_time": "2022-07-29T06:47:42.097Z"
   },
   {
    "duration": 16,
    "start_time": "2022-07-29T06:47:42.116Z"
   },
   {
    "duration": 29,
    "start_time": "2022-07-29T06:47:42.134Z"
   },
   {
    "duration": 8,
    "start_time": "2022-07-29T06:47:42.167Z"
   },
   {
    "duration": 12,
    "start_time": "2022-07-29T06:47:42.176Z"
   },
   {
    "duration": 30,
    "start_time": "2022-07-29T06:47:42.189Z"
   },
   {
    "duration": 10,
    "start_time": "2022-07-29T06:47:42.221Z"
   },
   {
    "duration": 13,
    "start_time": "2022-07-29T06:47:42.233Z"
   },
   {
    "duration": 11,
    "start_time": "2022-07-29T06:47:42.248Z"
   },
   {
    "duration": 8,
    "start_time": "2022-07-29T06:47:42.261Z"
   },
   {
    "duration": 45,
    "start_time": "2022-07-29T06:47:42.271Z"
   },
   {
    "duration": 12,
    "start_time": "2022-07-29T06:47:42.318Z"
   },
   {
    "duration": 13,
    "start_time": "2022-07-29T06:47:42.332Z"
   },
   {
    "duration": 12,
    "start_time": "2022-07-29T06:47:42.347Z"
   },
   {
    "duration": 9,
    "start_time": "2022-07-29T06:47:42.361Z"
   },
   {
    "duration": 44,
    "start_time": "2022-07-29T06:47:42.372Z"
   },
   {
    "duration": 17,
    "start_time": "2022-07-29T06:47:42.417Z"
   },
   {
    "duration": 16,
    "start_time": "2022-07-29T06:47:42.436Z"
   },
   {
    "duration": 21,
    "start_time": "2022-07-29T06:47:42.454Z"
   },
   {
    "duration": 331,
    "start_time": "2022-07-29T06:47:42.477Z"
   },
   {
    "duration": 386,
    "start_time": "2022-07-29T06:47:42.809Z"
   },
   {
    "duration": 318,
    "start_time": "2022-07-29T06:47:43.198Z"
   },
   {
    "duration": 380,
    "start_time": "2022-07-29T06:47:43.518Z"
   },
   {
    "duration": 314,
    "start_time": "2022-07-29T06:47:43.905Z"
   },
   {
    "duration": 417,
    "start_time": "2022-07-29T06:47:44.221Z"
   },
   {
    "duration": 217,
    "start_time": "2022-07-29T06:47:44.640Z"
   },
   {
    "duration": 10,
    "start_time": "2022-07-29T06:47:44.859Z"
   },
   {
    "duration": 9,
    "start_time": "2022-07-29T06:47:44.870Z"
   },
   {
    "duration": 345,
    "start_time": "2022-07-29T06:47:44.904Z"
   },
   {
    "duration": 8,
    "start_time": "2022-07-29T06:47:45.309Z"
   },
   {
    "duration": 22,
    "start_time": "2022-07-29T06:47:45.319Z"
   },
   {
    "duration": 79,
    "start_time": "2022-07-29T06:47:45.343Z"
   },
   {
    "duration": 203,
    "start_time": "2022-07-29T06:47:45.425Z"
   },
   {
    "duration": 18,
    "start_time": "2022-07-29T06:47:45.629Z"
   },
   {
    "duration": 63,
    "start_time": "2022-07-29T06:47:45.649Z"
   },
   {
    "duration": 38,
    "start_time": "2022-07-29T06:47:45.717Z"
   },
   {
    "duration": 65,
    "start_time": "2022-07-29T06:47:45.757Z"
   },
   {
    "duration": 20,
    "start_time": "2022-07-29T06:47:45.824Z"
   },
   {
    "duration": 92,
    "start_time": "2022-07-29T06:47:45.845Z"
   },
   {
    "duration": 22,
    "start_time": "2022-07-29T06:47:45.939Z"
   },
   {
    "duration": 349,
    "start_time": "2022-07-29T06:50:08.714Z"
   },
   {
    "duration": 288,
    "start_time": "2022-07-29T06:50:19.450Z"
   },
   {
    "duration": 294,
    "start_time": "2022-07-29T06:50:36.761Z"
   },
   {
    "duration": 286,
    "start_time": "2022-07-29T06:50:45.528Z"
   },
   {
    "duration": 288,
    "start_time": "2022-07-29T06:51:02.238Z"
   },
   {
    "duration": 307,
    "start_time": "2022-07-29T06:52:01.624Z"
   },
   {
    "duration": 297,
    "start_time": "2022-07-29T06:52:01.949Z"
   },
   {
    "duration": 293,
    "start_time": "2022-07-29T06:52:14.917Z"
   },
   {
    "duration": 383,
    "start_time": "2022-07-29T06:52:56.765Z"
   },
   {
    "duration": 319,
    "start_time": "2022-07-29T06:53:34.870Z"
   },
   {
    "duration": 419,
    "start_time": "2022-07-29T06:54:10.969Z"
   },
   {
    "duration": 489,
    "start_time": "2022-07-29T06:54:20.780Z"
   },
   {
    "duration": 282,
    "start_time": "2022-07-29T06:54:48.184Z"
   },
   {
    "duration": 200,
    "start_time": "2022-07-29T06:55:17.732Z"
   },
   {
    "duration": 187,
    "start_time": "2022-07-29T06:55:43.572Z"
   },
   {
    "duration": 184,
    "start_time": "2022-07-29T07:08:58.236Z"
   },
   {
    "duration": 246,
    "start_time": "2022-07-29T07:09:02.368Z"
   },
   {
    "duration": 215,
    "start_time": "2022-07-29T07:09:06.308Z"
   },
   {
    "duration": 6,
    "start_time": "2022-07-29T07:37:28.904Z"
   },
   {
    "duration": 28,
    "start_time": "2022-07-29T07:37:48.693Z"
   },
   {
    "duration": 1271,
    "start_time": "2022-07-29T07:38:04.127Z"
   },
   {
    "duration": 9,
    "start_time": "2022-07-29T07:38:05.402Z"
   },
   {
    "duration": 118,
    "start_time": "2022-07-29T07:38:05.414Z"
   },
   {
    "duration": 13,
    "start_time": "2022-07-29T07:38:05.534Z"
   },
   {
    "duration": 13,
    "start_time": "2022-07-29T07:38:05.549Z"
   },
   {
    "duration": 8,
    "start_time": "2022-07-29T07:38:05.564Z"
   },
   {
    "duration": 12,
    "start_time": "2022-07-29T07:38:05.574Z"
   },
   {
    "duration": 31,
    "start_time": "2022-07-29T07:38:05.588Z"
   },
   {
    "duration": 24,
    "start_time": "2022-07-29T07:38:05.623Z"
   },
   {
    "duration": 8,
    "start_time": "2022-07-29T07:38:05.649Z"
   },
   {
    "duration": 9,
    "start_time": "2022-07-29T07:38:05.658Z"
   },
   {
    "duration": 14,
    "start_time": "2022-07-29T07:38:05.669Z"
   },
   {
    "duration": 29,
    "start_time": "2022-07-29T07:38:05.685Z"
   },
   {
    "duration": 14,
    "start_time": "2022-07-29T07:38:05.718Z"
   },
   {
    "duration": 12,
    "start_time": "2022-07-29T07:38:05.733Z"
   },
   {
    "duration": 13,
    "start_time": "2022-07-29T07:38:05.747Z"
   },
   {
    "duration": 9,
    "start_time": "2022-07-29T07:38:05.762Z"
   },
   {
    "duration": 49,
    "start_time": "2022-07-29T07:38:05.773Z"
   },
   {
    "duration": 26,
    "start_time": "2022-07-29T07:38:05.824Z"
   },
   {
    "duration": 12,
    "start_time": "2022-07-29T07:38:05.853Z"
   },
   {
    "duration": 13,
    "start_time": "2022-07-29T07:38:05.867Z"
   },
   {
    "duration": 10,
    "start_time": "2022-07-29T07:38:05.883Z"
   },
   {
    "duration": 17,
    "start_time": "2022-07-29T07:38:05.904Z"
   },
   {
    "duration": 12,
    "start_time": "2022-07-29T07:38:05.923Z"
   },
   {
    "duration": 12,
    "start_time": "2022-07-29T07:38:05.937Z"
   },
   {
    "duration": 363,
    "start_time": "2022-07-29T07:38:05.951Z"
   },
   {
    "duration": 477,
    "start_time": "2022-07-29T07:38:06.318Z"
   },
   {
    "duration": 337,
    "start_time": "2022-07-29T07:38:06.805Z"
   },
   {
    "duration": 439,
    "start_time": "2022-07-29T07:38:07.145Z"
   },
   {
    "duration": 369,
    "start_time": "2022-07-29T07:38:07.585Z"
   },
   {
    "duration": 499,
    "start_time": "2022-07-29T07:38:07.956Z"
   },
   {
    "duration": 217,
    "start_time": "2022-07-29T07:38:08.457Z"
   },
   {
    "duration": 7,
    "start_time": "2022-07-29T07:38:08.676Z"
   },
   {
    "duration": 245,
    "start_time": "2022-07-29T07:38:08.685Z"
   },
   {
    "duration": 8,
    "start_time": "2022-07-29T07:38:08.932Z"
   },
   {
    "duration": 24,
    "start_time": "2022-07-29T07:38:08.943Z"
   },
   {
    "duration": 51,
    "start_time": "2022-07-29T07:38:08.969Z"
   },
   {
    "duration": 111,
    "start_time": "2022-07-29T07:38:09.023Z"
   },
   {
    "duration": 8,
    "start_time": "2022-07-29T07:38:09.136Z"
   },
   {
    "duration": 13,
    "start_time": "2022-07-29T07:38:09.146Z"
   },
   {
    "duration": 7,
    "start_time": "2022-07-29T07:38:09.161Z"
   },
   {
    "duration": 49,
    "start_time": "2022-07-29T07:38:09.171Z"
   },
   {
    "duration": 10,
    "start_time": "2022-07-29T07:38:09.221Z"
   },
   {
    "duration": 15,
    "start_time": "2022-07-29T07:38:09.233Z"
   },
   {
    "duration": 8,
    "start_time": "2022-07-29T07:38:09.250Z"
   },
   {
    "duration": 10,
    "start_time": "2022-07-29T07:40:47.486Z"
   },
   {
    "duration": 9,
    "start_time": "2022-07-29T07:41:20.459Z"
   },
   {
    "duration": 10,
    "start_time": "2022-07-29T07:41:21.148Z"
   },
   {
    "duration": 7,
    "start_time": "2022-07-29T07:41:28.058Z"
   },
   {
    "duration": 6,
    "start_time": "2022-07-29T07:47:15.172Z"
   },
   {
    "duration": 6,
    "start_time": "2022-07-29T07:47:19.568Z"
   },
   {
    "duration": 8,
    "start_time": "2022-07-29T07:47:31.419Z"
   },
   {
    "duration": 11,
    "start_time": "2022-07-29T07:48:22.197Z"
   },
   {
    "duration": 9,
    "start_time": "2022-07-29T07:48:23.037Z"
   },
   {
    "duration": 17,
    "start_time": "2022-07-29T07:49:56.334Z"
   },
   {
    "duration": 16,
    "start_time": "2022-07-29T07:54:43.980Z"
   },
   {
    "duration": 11,
    "start_time": "2022-07-29T07:55:07.615Z"
   },
   {
    "duration": 20,
    "start_time": "2022-07-29T07:56:24.188Z"
   },
   {
    "duration": 22,
    "start_time": "2022-07-29T07:57:06.472Z"
   },
   {
    "duration": 11,
    "start_time": "2022-07-29T07:57:08.153Z"
   },
   {
    "duration": 9,
    "start_time": "2022-07-29T07:57:08.578Z"
   },
   {
    "duration": 7,
    "start_time": "2022-07-29T07:57:09.322Z"
   },
   {
    "duration": 11,
    "start_time": "2022-07-29T07:57:09.896Z"
   },
   {
    "duration": 22,
    "start_time": "2022-07-29T07:57:16.097Z"
   },
   {
    "duration": 26,
    "start_time": "2022-07-29T07:57:18.931Z"
   },
   {
    "duration": 9,
    "start_time": "2022-07-29T07:57:19.560Z"
   },
   {
    "duration": 10,
    "start_time": "2022-07-29T07:57:20.182Z"
   },
   {
    "duration": 8,
    "start_time": "2022-07-29T07:57:20.769Z"
   },
   {
    "duration": 9,
    "start_time": "2022-07-29T07:57:21.022Z"
   },
   {
    "duration": 12,
    "start_time": "2022-07-29T10:22:22.478Z"
   },
   {
    "duration": 19,
    "start_time": "2022-07-29T10:22:52.827Z"
   },
   {
    "duration": 11,
    "start_time": "2022-07-29T10:23:38.038Z"
   },
   {
    "duration": 1471,
    "start_time": "2022-07-29T10:24:57.688Z"
   },
   {
    "duration": 1390,
    "start_time": "2022-07-29T10:25:03.614Z"
   },
   {
    "duration": 1212,
    "start_time": "2022-07-29T10:25:27.445Z"
   },
   {
    "duration": 1247,
    "start_time": "2022-07-29T10:25:34.940Z"
   },
   {
    "duration": 23,
    "start_time": "2022-07-29T10:26:10.090Z"
   },
   {
    "duration": 13,
    "start_time": "2022-07-29T10:26:10.755Z"
   },
   {
    "duration": 19,
    "start_time": "2022-07-29T10:26:22.771Z"
   },
   {
    "duration": 12,
    "start_time": "2022-07-29T10:26:24.109Z"
   },
   {
    "duration": 13,
    "start_time": "2022-07-29T10:26:40.358Z"
   },
   {
    "duration": 17,
    "start_time": "2022-07-29T10:26:44.136Z"
   },
   {
    "duration": 18,
    "start_time": "2022-07-29T10:26:46.591Z"
   },
   {
    "duration": 6,
    "start_time": "2022-07-29T10:26:52.670Z"
   },
   {
    "duration": 13,
    "start_time": "2022-07-29T10:26:56.082Z"
   },
   {
    "duration": 11,
    "start_time": "2022-07-29T10:27:03.961Z"
   },
   {
    "duration": 13,
    "start_time": "2022-07-29T10:27:28.169Z"
   },
   {
    "duration": 28,
    "start_time": "2022-07-29T10:28:15.090Z"
   },
   {
    "duration": 16,
    "start_time": "2022-07-29T10:29:30.633Z"
   },
   {
    "duration": 15,
    "start_time": "2022-07-29T10:29:36.635Z"
   },
   {
    "duration": 13,
    "start_time": "2022-07-29T10:29:39.375Z"
   },
   {
    "duration": 1261,
    "start_time": "2022-07-29T10:30:12.307Z"
   },
   {
    "duration": 15,
    "start_time": "2022-07-29T10:30:17.672Z"
   },
   {
    "duration": 15,
    "start_time": "2022-07-29T10:31:07.738Z"
   },
   {
    "duration": 14,
    "start_time": "2022-07-29T10:31:19.751Z"
   },
   {
    "duration": 11,
    "start_time": "2022-07-29T10:31:27.675Z"
   },
   {
    "duration": 12,
    "start_time": "2022-07-29T10:31:31.432Z"
   },
   {
    "duration": 10,
    "start_time": "2022-07-29T10:31:35.434Z"
   },
   {
    "duration": 5,
    "start_time": "2022-07-29T10:32:41.321Z"
   },
   {
    "duration": 12,
    "start_time": "2022-07-29T10:32:44.911Z"
   },
   {
    "duration": 15,
    "start_time": "2022-07-29T10:32:59.574Z"
   },
   {
    "duration": 16,
    "start_time": "2022-07-29T10:33:06.381Z"
   },
   {
    "duration": 13,
    "start_time": "2022-07-29T10:33:16.089Z"
   },
   {
    "duration": 18,
    "start_time": "2022-07-29T10:33:19.285Z"
   },
   {
    "duration": 16,
    "start_time": "2022-07-29T10:34:07.704Z"
   },
   {
    "duration": 22,
    "start_time": "2022-07-29T10:34:28.058Z"
   },
   {
    "duration": 180,
    "start_time": "2022-07-29T10:35:23.895Z"
   },
   {
    "duration": 21,
    "start_time": "2022-07-29T10:35:31.017Z"
   },
   {
    "duration": 26,
    "start_time": "2022-07-29T10:38:45.822Z"
   },
   {
    "duration": 13,
    "start_time": "2022-07-29T10:39:12.088Z"
   },
   {
    "duration": 18,
    "start_time": "2022-07-29T10:40:35.053Z"
   },
   {
    "duration": 15,
    "start_time": "2022-07-29T10:40:54.947Z"
   },
   {
    "duration": 84,
    "start_time": "2022-07-29T10:41:01.522Z"
   },
   {
    "duration": 97,
    "start_time": "2022-07-29T10:41:17.075Z"
   },
   {
    "duration": 12,
    "start_time": "2022-07-29T10:41:21.044Z"
   },
   {
    "duration": 11,
    "start_time": "2022-07-29T10:41:33.862Z"
   },
   {
    "duration": 17,
    "start_time": "2022-07-29T10:41:41.258Z"
   },
   {
    "duration": 27,
    "start_time": "2022-07-29T10:41:45.226Z"
   },
   {
    "duration": 17,
    "start_time": "2022-07-29T10:41:48.598Z"
   },
   {
    "duration": 19,
    "start_time": "2022-07-29T10:42:20.009Z"
   },
   {
    "duration": 20,
    "start_time": "2022-07-29T10:42:56.991Z"
   },
   {
    "duration": 14,
    "start_time": "2022-07-29T10:43:12.482Z"
   },
   {
    "duration": 21,
    "start_time": "2022-07-29T10:45:33.849Z"
   },
   {
    "duration": 21,
    "start_time": "2022-07-29T11:00:00.123Z"
   },
   {
    "duration": 9,
    "start_time": "2022-07-29T11:00:00.777Z"
   },
   {
    "duration": 8,
    "start_time": "2022-07-29T11:00:23.192Z"
   },
   {
    "duration": 17,
    "start_time": "2022-07-29T11:02:34.558Z"
   },
   {
    "duration": 9,
    "start_time": "2022-07-29T11:02:37.953Z"
   },
   {
    "duration": 11,
    "start_time": "2022-07-29T11:03:31.648Z"
   },
   {
    "duration": 12,
    "start_time": "2022-07-29T11:03:36.846Z"
   },
   {
    "duration": 10,
    "start_time": "2022-07-29T11:03:41.341Z"
   },
   {
    "duration": 10,
    "start_time": "2022-07-29T11:03:50.182Z"
   },
   {
    "duration": 1837,
    "start_time": "2022-07-29T11:05:30.065Z"
   },
   {
    "duration": 14,
    "start_time": "2022-07-29T11:06:13.273Z"
   },
   {
    "duration": 28,
    "start_time": "2022-07-29T11:06:27.094Z"
   },
   {
    "duration": 19,
    "start_time": "2022-07-29T11:06:59.846Z"
   },
   {
    "duration": 17,
    "start_time": "2022-07-29T11:07:13.642Z"
   },
   {
    "duration": 25,
    "start_time": "2022-07-29T11:07:41.409Z"
   },
   {
    "duration": 16,
    "start_time": "2022-07-29T11:07:47.949Z"
   },
   {
    "duration": 100,
    "start_time": "2022-07-29T11:08:03.878Z"
   },
   {
    "duration": 18,
    "start_time": "2022-07-29T11:08:07.161Z"
   },
   {
    "duration": 1529,
    "start_time": "2022-07-29T19:47:24.101Z"
   },
   {
    "duration": 5,
    "start_time": "2022-07-29T19:47:25.634Z"
   },
   {
    "duration": 203,
    "start_time": "2022-07-29T19:47:25.641Z"
   },
   {
    "duration": 13,
    "start_time": "2022-07-29T19:47:25.846Z"
   },
   {
    "duration": 17,
    "start_time": "2022-07-29T19:47:25.861Z"
   },
   {
    "duration": 12,
    "start_time": "2022-07-29T19:47:25.880Z"
   },
   {
    "duration": 15,
    "start_time": "2022-07-29T19:47:25.893Z"
   },
   {
    "duration": 22,
    "start_time": "2022-07-29T19:47:25.910Z"
   },
   {
    "duration": 25,
    "start_time": "2022-07-29T19:47:25.934Z"
   },
   {
    "duration": 8,
    "start_time": "2022-07-29T19:47:25.962Z"
   },
   {
    "duration": 11,
    "start_time": "2022-07-29T19:47:25.971Z"
   },
   {
    "duration": 39,
    "start_time": "2022-07-29T19:47:25.984Z"
   },
   {
    "duration": 10,
    "start_time": "2022-07-29T19:47:26.025Z"
   },
   {
    "duration": 20,
    "start_time": "2022-07-29T19:47:26.037Z"
   },
   {
    "duration": 15,
    "start_time": "2022-07-29T19:47:26.058Z"
   },
   {
    "duration": 7,
    "start_time": "2022-07-29T19:47:26.076Z"
   },
   {
    "duration": 34,
    "start_time": "2022-07-29T19:47:26.085Z"
   },
   {
    "duration": 24,
    "start_time": "2022-07-29T19:47:26.125Z"
   },
   {
    "duration": 18,
    "start_time": "2022-07-29T19:47:26.151Z"
   },
   {
    "duration": 11,
    "start_time": "2022-07-29T19:47:26.171Z"
   },
   {
    "duration": 32,
    "start_time": "2022-07-29T19:47:26.184Z"
   },
   {
    "duration": 32,
    "start_time": "2022-07-29T19:47:26.220Z"
   },
   {
    "duration": 17,
    "start_time": "2022-07-29T19:47:26.254Z"
   },
   {
    "duration": 20,
    "start_time": "2022-07-29T19:47:26.273Z"
   },
   {
    "duration": 18,
    "start_time": "2022-07-29T19:47:26.294Z"
   },
   {
    "duration": 366,
    "start_time": "2022-07-29T19:47:26.314Z"
   },
   {
    "duration": 456,
    "start_time": "2022-07-29T19:47:26.683Z"
   },
   {
    "duration": 349,
    "start_time": "2022-07-29T19:47:27.144Z"
   },
   {
    "duration": 495,
    "start_time": "2022-07-29T19:47:27.495Z"
   },
   {
    "duration": 348,
    "start_time": "2022-07-29T19:47:27.992Z"
   },
   {
    "duration": 444,
    "start_time": "2022-07-29T19:47:28.342Z"
   },
   {
    "duration": 201,
    "start_time": "2022-07-29T19:47:28.789Z"
   },
   {
    "duration": 5,
    "start_time": "2022-07-29T19:47:28.993Z"
   },
   {
    "duration": 224,
    "start_time": "2022-07-29T19:47:29.010Z"
   },
   {
    "duration": 5,
    "start_time": "2022-07-29T19:47:29.237Z"
   },
   {
    "duration": 26,
    "start_time": "2022-07-29T19:47:29.245Z"
   },
   {
    "duration": 40,
    "start_time": "2022-07-29T19:47:29.273Z"
   },
   {
    "duration": 1605,
    "start_time": "2022-07-29T19:47:29.316Z"
   },
   {
    "duration": 0,
    "start_time": "2022-07-29T19:47:30.924Z"
   },
   {
    "duration": 0,
    "start_time": "2022-07-29T19:47:30.926Z"
   },
   {
    "duration": 0,
    "start_time": "2022-07-29T19:47:30.928Z"
   },
   {
    "duration": 0,
    "start_time": "2022-07-29T19:47:30.929Z"
   },
   {
    "duration": 0,
    "start_time": "2022-07-29T19:47:30.931Z"
   },
   {
    "duration": 0,
    "start_time": "2022-07-29T19:47:30.932Z"
   },
   {
    "duration": 0,
    "start_time": "2022-07-29T19:47:30.934Z"
   },
   {
    "duration": 0,
    "start_time": "2022-07-29T19:47:30.936Z"
   },
   {
    "duration": 0,
    "start_time": "2022-07-29T19:47:30.937Z"
   },
   {
    "duration": 17,
    "start_time": "2022-07-29T20:07:28.936Z"
   },
   {
    "duration": 164,
    "start_time": "2022-07-29T20:07:58.335Z"
   },
   {
    "duration": 13,
    "start_time": "2022-07-29T20:15:48.765Z"
   },
   {
    "duration": 443,
    "start_time": "2022-07-29T20:16:12.182Z"
   },
   {
    "duration": 4,
    "start_time": "2022-07-29T20:16:41.123Z"
   },
   {
    "duration": 408,
    "start_time": "2022-07-29T20:16:45.769Z"
   },
   {
    "duration": 13,
    "start_time": "2022-07-29T20:21:08.661Z"
   },
   {
    "duration": 11,
    "start_time": "2022-07-29T20:23:18.086Z"
   },
   {
    "duration": 11,
    "start_time": "2022-07-29T20:23:44.656Z"
   },
   {
    "duration": 14,
    "start_time": "2022-07-29T20:28:15.404Z"
   },
   {
    "duration": 26,
    "start_time": "2022-07-29T20:28:20.823Z"
   },
   {
    "duration": 25,
    "start_time": "2022-07-29T20:28:42.453Z"
   },
   {
    "duration": 11,
    "start_time": "2022-07-29T20:29:20.897Z"
   },
   {
    "duration": 10,
    "start_time": "2022-07-29T20:29:28.203Z"
   },
   {
    "duration": 305,
    "start_time": "2022-07-29T20:29:45.362Z"
   },
   {
    "duration": 308,
    "start_time": "2022-07-29T20:30:03.050Z"
   },
   {
    "duration": 312,
    "start_time": "2022-07-29T20:30:42.989Z"
   },
   {
    "duration": 308,
    "start_time": "2022-07-29T20:31:06.747Z"
   },
   {
    "duration": 309,
    "start_time": "2022-07-29T20:31:17.953Z"
   },
   {
    "duration": 327,
    "start_time": "2022-07-29T20:31:38.755Z"
   },
   {
    "duration": 97,
    "start_time": "2022-07-29T20:33:29.728Z"
   },
   {
    "duration": 325,
    "start_time": "2022-07-29T20:33:39.170Z"
   },
   {
    "duration": 5,
    "start_time": "2022-07-29T20:34:08.366Z"
   },
   {
    "duration": 5,
    "start_time": "2022-07-29T20:34:10.243Z"
   },
   {
    "duration": 318,
    "start_time": "2022-07-29T20:34:37.783Z"
   },
   {
    "duration": 9,
    "start_time": "2022-07-29T20:36:35.550Z"
   },
   {
    "duration": 415,
    "start_time": "2022-07-29T20:37:51.732Z"
   },
   {
    "duration": 12,
    "start_time": "2022-07-29T20:41:01.895Z"
   },
   {
    "duration": 1802,
    "start_time": "2022-07-29T20:41:09.694Z"
   },
   {
    "duration": 350,
    "start_time": "2022-07-29T20:41:17.867Z"
   },
   {
    "duration": 12,
    "start_time": "2022-07-29T20:41:20.459Z"
   },
   {
    "duration": 353,
    "start_time": "2022-07-29T20:41:42.488Z"
   },
   {
    "duration": 19,
    "start_time": "2022-07-29T20:41:43.227Z"
   },
   {
    "duration": 340,
    "start_time": "2022-07-29T20:41:56.861Z"
   },
   {
    "duration": 11,
    "start_time": "2022-07-29T20:41:57.274Z"
   },
   {
    "duration": 1569,
    "start_time": "2022-07-29T20:42:31.233Z"
   },
   {
    "duration": 344,
    "start_time": "2022-07-29T20:42:37.131Z"
   },
   {
    "duration": 1651,
    "start_time": "2022-07-29T20:42:37.845Z"
   },
   {
    "duration": 433,
    "start_time": "2022-07-29T20:42:52.062Z"
   },
   {
    "duration": 1862,
    "start_time": "2022-07-29T20:42:52.497Z"
   },
   {
    "duration": 18,
    "start_time": "2022-07-29T20:43:14.582Z"
   },
   {
    "duration": 20,
    "start_time": "2022-07-29T20:43:30.578Z"
   },
   {
    "duration": 758,
    "start_time": "2022-07-29T20:43:41.383Z"
   },
   {
    "duration": 366,
    "start_time": "2022-07-29T20:43:54.509Z"
   },
   {
    "duration": 362,
    "start_time": "2022-07-29T20:44:00.686Z"
   },
   {
    "duration": 349,
    "start_time": "2022-07-29T20:44:20.346Z"
   },
   {
    "duration": 616,
    "start_time": "2022-07-29T20:44:23.165Z"
   },
   {
    "duration": 356,
    "start_time": "2022-07-29T20:46:23.779Z"
   },
   {
    "duration": 604,
    "start_time": "2022-07-29T20:46:24.455Z"
   },
   {
    "duration": 1341,
    "start_time": "2022-07-29T20:46:36.481Z"
   },
   {
    "duration": 5,
    "start_time": "2022-07-29T20:46:37.831Z"
   },
   {
    "duration": 103,
    "start_time": "2022-07-29T20:46:37.840Z"
   },
   {
    "duration": 14,
    "start_time": "2022-07-29T20:46:37.946Z"
   },
   {
    "duration": 11,
    "start_time": "2022-07-29T20:46:37.962Z"
   },
   {
    "duration": 11,
    "start_time": "2022-07-29T20:46:37.975Z"
   },
   {
    "duration": 10,
    "start_time": "2022-07-29T20:46:37.988Z"
   },
   {
    "duration": 20,
    "start_time": "2022-07-29T20:46:38.000Z"
   },
   {
    "duration": 42,
    "start_time": "2022-07-29T20:46:38.023Z"
   },
   {
    "duration": 9,
    "start_time": "2022-07-29T20:46:38.068Z"
   },
   {
    "duration": 11,
    "start_time": "2022-07-29T20:46:38.078Z"
   },
   {
    "duration": 13,
    "start_time": "2022-07-29T20:46:38.091Z"
   },
   {
    "duration": 11,
    "start_time": "2022-07-29T20:46:38.106Z"
   },
   {
    "duration": 31,
    "start_time": "2022-07-29T20:46:38.119Z"
   },
   {
    "duration": 14,
    "start_time": "2022-07-29T20:46:38.152Z"
   },
   {
    "duration": 11,
    "start_time": "2022-07-29T20:46:38.168Z"
   },
   {
    "duration": 10,
    "start_time": "2022-07-29T20:46:38.180Z"
   },
   {
    "duration": 27,
    "start_time": "2022-07-29T20:46:38.191Z"
   },
   {
    "duration": 28,
    "start_time": "2022-07-29T20:46:38.220Z"
   },
   {
    "duration": 18,
    "start_time": "2022-07-29T20:46:38.250Z"
   },
   {
    "duration": 10,
    "start_time": "2022-07-29T20:46:38.270Z"
   },
   {
    "duration": 35,
    "start_time": "2022-07-29T20:46:38.282Z"
   },
   {
    "duration": 17,
    "start_time": "2022-07-29T20:46:38.321Z"
   },
   {
    "duration": 15,
    "start_time": "2022-07-29T20:46:38.340Z"
   },
   {
    "duration": 12,
    "start_time": "2022-07-29T20:46:38.357Z"
   },
   {
    "duration": 389,
    "start_time": "2022-07-29T20:46:38.371Z"
   },
   {
    "duration": 459,
    "start_time": "2022-07-29T20:46:38.762Z"
   },
   {
    "duration": 368,
    "start_time": "2022-07-29T20:46:39.226Z"
   },
   {
    "duration": 463,
    "start_time": "2022-07-29T20:46:39.596Z"
   },
   {
    "duration": 379,
    "start_time": "2022-07-29T20:46:40.061Z"
   },
   {
    "duration": 441,
    "start_time": "2022-07-29T20:46:40.443Z"
   },
   {
    "duration": 231,
    "start_time": "2022-07-29T20:46:40.887Z"
   },
   {
    "duration": 7,
    "start_time": "2022-07-29T20:46:41.121Z"
   },
   {
    "duration": 233,
    "start_time": "2022-07-29T20:46:41.130Z"
   },
   {
    "duration": 6,
    "start_time": "2022-07-29T20:46:41.365Z"
   },
   {
    "duration": 19,
    "start_time": "2022-07-29T20:46:41.373Z"
   },
   {
    "duration": 479,
    "start_time": "2022-07-29T20:46:41.394Z"
   },
   {
    "duration": 729,
    "start_time": "2022-07-29T20:46:41.875Z"
   },
   {
    "duration": 13,
    "start_time": "2022-07-29T20:46:42.605Z"
   },
   {
    "duration": 26,
    "start_time": "2022-07-29T20:46:42.620Z"
   },
   {
    "duration": 35,
    "start_time": "2022-07-29T20:46:42.648Z"
   },
   {
    "duration": 14,
    "start_time": "2022-07-29T20:46:42.685Z"
   },
   {
    "duration": 50,
    "start_time": "2022-07-29T20:46:42.701Z"
   },
   {
    "duration": 8,
    "start_time": "2022-07-29T20:46:42.753Z"
   },
   {
    "duration": 335,
    "start_time": "2022-07-29T20:47:55.555Z"
   },
   {
    "duration": 386,
    "start_time": "2022-07-29T20:47:57.581Z"
   },
   {
    "duration": 623,
    "start_time": "2022-07-29T20:47:58.404Z"
   },
   {
    "duration": 113,
    "start_time": "2022-07-29T20:52:21.443Z"
   },
   {
    "duration": 453,
    "start_time": "2022-07-29T21:00:21.647Z"
   },
   {
    "duration": 1865,
    "start_time": "2022-07-29T21:00:30.790Z"
   },
   {
    "duration": 4,
    "start_time": "2022-07-29T21:00:32.657Z"
   },
   {
    "duration": 101,
    "start_time": "2022-07-29T21:00:32.662Z"
   },
   {
    "duration": 14,
    "start_time": "2022-07-29T21:00:32.765Z"
   },
   {
    "duration": 15,
    "start_time": "2022-07-29T21:00:32.781Z"
   },
   {
    "duration": 20,
    "start_time": "2022-07-29T21:00:32.799Z"
   },
   {
    "duration": 43,
    "start_time": "2022-07-29T21:00:32.821Z"
   },
   {
    "duration": 15,
    "start_time": "2022-07-29T21:00:32.866Z"
   },
   {
    "duration": 22,
    "start_time": "2022-07-29T21:00:32.886Z"
   },
   {
    "duration": 28,
    "start_time": "2022-07-29T21:00:32.914Z"
   },
   {
    "duration": 22,
    "start_time": "2022-07-29T21:00:32.944Z"
   },
   {
    "duration": 20,
    "start_time": "2022-07-29T21:00:32.968Z"
   },
   {
    "duration": 11,
    "start_time": "2022-07-29T21:00:32.990Z"
   },
   {
    "duration": 21,
    "start_time": "2022-07-29T21:00:33.003Z"
   },
   {
    "duration": 35,
    "start_time": "2022-07-29T21:00:33.027Z"
   },
   {
    "duration": 14,
    "start_time": "2022-07-29T21:00:33.063Z"
   },
   {
    "duration": 14,
    "start_time": "2022-07-29T21:00:33.079Z"
   },
   {
    "duration": 13,
    "start_time": "2022-07-29T21:00:33.095Z"
   },
   {
    "duration": 63,
    "start_time": "2022-07-29T21:00:33.119Z"
   },
   {
    "duration": 12,
    "start_time": "2022-07-29T21:00:33.184Z"
   },
   {
    "duration": 29,
    "start_time": "2022-07-29T21:00:33.198Z"
   },
   {
    "duration": 28,
    "start_time": "2022-07-29T21:00:33.236Z"
   },
   {
    "duration": 12,
    "start_time": "2022-07-29T21:00:33.266Z"
   },
   {
    "duration": 18,
    "start_time": "2022-07-29T21:00:33.280Z"
   },
   {
    "duration": 20,
    "start_time": "2022-07-29T21:00:33.299Z"
   },
   {
    "duration": 421,
    "start_time": "2022-07-29T21:00:33.321Z"
   },
   {
    "duration": 472,
    "start_time": "2022-07-29T21:00:33.746Z"
   },
   {
    "duration": 433,
    "start_time": "2022-07-29T21:00:34.224Z"
   },
   {
    "duration": 442,
    "start_time": "2022-07-29T21:00:34.659Z"
   },
   {
    "duration": 442,
    "start_time": "2022-07-29T21:00:35.102Z"
   },
   {
    "duration": 470,
    "start_time": "2022-07-29T21:00:35.546Z"
   },
   {
    "duration": 251,
    "start_time": "2022-07-29T21:00:36.018Z"
   },
   {
    "duration": 5,
    "start_time": "2022-07-29T21:00:36.270Z"
   },
   {
    "duration": 227,
    "start_time": "2022-07-29T21:00:36.277Z"
   },
   {
    "duration": 6,
    "start_time": "2022-07-29T21:00:36.505Z"
   },
   {
    "duration": 55,
    "start_time": "2022-07-29T21:00:36.514Z"
   },
   {
    "duration": 444,
    "start_time": "2022-07-29T21:00:36.571Z"
   },
   {
    "duration": 670,
    "start_time": "2022-07-29T21:00:37.017Z"
   },
   {
    "duration": 32,
    "start_time": "2022-07-29T21:00:37.689Z"
   },
   {
    "duration": 27,
    "start_time": "2022-07-29T21:00:37.726Z"
   },
   {
    "duration": 28,
    "start_time": "2022-07-29T21:00:37.755Z"
   },
   {
    "duration": 8,
    "start_time": "2022-07-29T21:00:37.785Z"
   },
   {
    "duration": 22,
    "start_time": "2022-07-29T21:00:37.795Z"
   },
   {
    "duration": 45,
    "start_time": "2022-07-29T21:00:37.820Z"
   },
   {
    "duration": 1177,
    "start_time": "2022-07-30T13:19:18.951Z"
   },
   {
    "duration": 4,
    "start_time": "2022-07-30T13:19:20.130Z"
   },
   {
    "duration": 77,
    "start_time": "2022-07-30T13:19:20.135Z"
   },
   {
    "duration": 12,
    "start_time": "2022-07-30T13:19:20.213Z"
   },
   {
    "duration": 12,
    "start_time": "2022-07-30T13:19:20.228Z"
   },
   {
    "duration": 10,
    "start_time": "2022-07-30T13:19:20.242Z"
   },
   {
    "duration": 11,
    "start_time": "2022-07-30T13:19:20.254Z"
   },
   {
    "duration": 12,
    "start_time": "2022-07-30T13:19:20.267Z"
   },
   {
    "duration": 19,
    "start_time": "2022-07-30T13:19:20.311Z"
   },
   {
    "duration": 7,
    "start_time": "2022-07-30T13:19:20.332Z"
   },
   {
    "duration": 10,
    "start_time": "2022-07-30T13:19:20.340Z"
   },
   {
    "duration": 17,
    "start_time": "2022-07-30T13:19:20.352Z"
   },
   {
    "duration": 8,
    "start_time": "2022-07-30T13:19:20.371Z"
   },
   {
    "duration": 36,
    "start_time": "2022-07-30T13:19:20.382Z"
   },
   {
    "duration": 22,
    "start_time": "2022-07-30T13:19:20.420Z"
   },
   {
    "duration": 9,
    "start_time": "2022-07-30T13:19:20.444Z"
   },
   {
    "duration": 10,
    "start_time": "2022-07-30T13:19:20.454Z"
   },
   {
    "duration": 11,
    "start_time": "2022-07-30T13:19:20.466Z"
   },
   {
    "duration": 41,
    "start_time": "2022-07-30T13:19:20.479Z"
   },
   {
    "duration": 14,
    "start_time": "2022-07-30T13:19:20.522Z"
   },
   {
    "duration": 10,
    "start_time": "2022-07-30T13:19:20.538Z"
   },
   {
    "duration": 19,
    "start_time": "2022-07-30T13:19:20.550Z"
   },
   {
    "duration": 53,
    "start_time": "2022-07-30T13:19:20.570Z"
   },
   {
    "duration": 27,
    "start_time": "2022-07-30T13:19:20.625Z"
   },
   {
    "duration": 21,
    "start_time": "2022-07-30T13:19:20.654Z"
   },
   {
    "duration": 311,
    "start_time": "2022-07-30T13:19:20.677Z"
   },
   {
    "duration": 385,
    "start_time": "2022-07-30T13:19:20.990Z"
   },
   {
    "duration": 307,
    "start_time": "2022-07-30T13:19:21.377Z"
   },
   {
    "duration": 488,
    "start_time": "2022-07-30T13:19:21.686Z"
   },
   {
    "duration": 312,
    "start_time": "2022-07-30T13:19:22.176Z"
   },
   {
    "duration": 447,
    "start_time": "2022-07-30T13:19:22.490Z"
   },
   {
    "duration": 197,
    "start_time": "2022-07-30T13:19:22.939Z"
   },
   {
    "duration": 5,
    "start_time": "2022-07-30T13:19:23.137Z"
   },
   {
    "duration": 189,
    "start_time": "2022-07-30T13:19:23.144Z"
   },
   {
    "duration": 5,
    "start_time": "2022-07-30T13:19:23.335Z"
   },
   {
    "duration": 17,
    "start_time": "2022-07-30T13:19:23.342Z"
   },
   {
    "duration": 400,
    "start_time": "2022-07-30T13:19:23.361Z"
   },
   {
    "duration": 549,
    "start_time": "2022-07-30T13:19:23.763Z"
   },
   {
    "duration": 9,
    "start_time": "2022-07-30T13:19:24.313Z"
   },
   {
    "duration": 8,
    "start_time": "2022-07-30T13:19:24.324Z"
   },
   {
    "duration": 21,
    "start_time": "2022-07-30T13:19:24.335Z"
   },
   {
    "duration": 7,
    "start_time": "2022-07-30T13:19:24.358Z"
   },
   {
    "duration": 43,
    "start_time": "2022-07-30T13:19:24.367Z"
   },
   {
    "duration": 8,
    "start_time": "2022-07-30T13:19:24.412Z"
   },
   {
    "duration": 10,
    "start_time": "2022-07-30T13:21:54.915Z"
   }
  ],
  "kernelspec": {
   "display_name": "Python 3 (ipykernel)",
   "language": "python",
   "name": "python3"
  },
  "language_info": {
   "codemirror_mode": {
    "name": "ipython",
    "version": 3
   },
   "file_extension": ".py",
   "mimetype": "text/x-python",
   "name": "python",
   "nbconvert_exporter": "python",
   "pygments_lexer": "ipython3",
   "version": "3.9.13"
  },
  "nbTranslate": {
   "displayLangs": [
    "en",
    "ru"
   ],
   "hotkey": "alt-t",
   "langInMainMenu": true,
   "sourceLang": "ru",
   "targetLang": "en",
   "useGoogleTranslate": true
  },
  "toc": {
   "base_numbering": 1,
   "nav_menu": {},
   "number_sections": true,
   "sideBar": true,
   "skip_h1_title": true,
   "title_cell": "Table of Contents",
   "title_sidebar": "Contents",
   "toc_cell": false,
   "toc_position": {
    "height": "calc(100% - 180px)",
    "left": "10px",
    "top": "150px",
    "width": "219px"
   },
   "toc_section_display": true,
   "toc_window_display": true
  }
 },
 "nbformat": 4,
 "nbformat_minor": 2
}
