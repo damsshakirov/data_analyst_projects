{
 "cells": [
  {
   "cell_type": "markdown",
   "metadata": {},
   "source": [
    "# Определение перспективного тарифа для телеком-компании"
   ]
  },
  {
   "cell_type": "markdown",
   "metadata": {},
   "source": [
    "# Описание проекта\n",
    "\n",
    "Необходимо проанализировать тарифы федерального оператора сотовой связи. Клиентам предлагают два тарифных плана: «Смарт» и «Ультра». Чтобы скорректировать рекламный бюджет, коммерческий департамент хочет понять, какой тариф приносит больше денег.\n",
    "\n",
    "**Цели проекта**\n",
    "\n",
    "Предстоит сделать предварительный анализ тарифов на небольшой выборке клиентов. В моём распоряжении данные 500 пользователей «Мегалайна»: кто они, откуда, каким тарифом пользуются, сколько звонков и сообщений каждый отправил за 2018 год. Нужно проанализировать поведение клиентов и сделать вывод — какой тариф лучше, а также проверить гипотезы о разнице в выручке между клиентами двух тарифов и отличии клиентов из Москвы и других регионов.\n",
    "\n",
    "**Структура проекта**\n",
    "\n",
    "**1. Изучение и предобработка данных**\n",
    "* посмотресть на набор данных\n",
    "* сделать предварительные выводы\n",
    "\n",
    "**2. Подготовка данных**\n",
    "\n",
    "* привести данные к нужным типам\n",
    "* найти и исправить ошибки в данных, если они есть\n",
    "\n",
    "Посчитайте для каждого пользователя:\n",
    "* количество сделанных звонков и израсходованных минут разговора по месяцам\n",
    "* количество отправленных сообщений по месяцам\n",
    "* объем израсходованного интернет-трафика по месяцам\n",
    "* помесячную выручку с каждого пользователя\n",
    "\n",
    "**3. Исследовательский анализ данных (EDA)**\n",
    "\n",
    "Опишите поведение клиентов оператора, исходя из выборки:\n",
    "* сколько минут разговора, сколько сообщений и какой объём интернет-трафика требуется пользователям каждого тарифа\n",
    "в месяц? \n",
    "* посчитайте среднее количество, дисперсию и стандартное отклонение\n",
    "* постройте гистограммы. Опишите распределения\n",
    "\n",
    "**4. Проверка гипотез**\n",
    "\n",
    "* средняя выручка пользователей тарифов «Ультра» и «Смарт» различаются\n",
    "* средняя выручка пользователей из Москвы отличается от выручки пользователей из других регионов\n",
    "\n",
    "Пороговое значение alpha задайте самостоятельно.\n",
    "\n",
    "Пояснить:\n",
    "* как вы формулировали нулевую и альтернативную гипотезы;\n",
    "* какой критерий использовали для проверки гипотез и почему.\n",
    "\n",
    "**5. Результаты исследования**"
   ]
  },
  {
   "cell_type": "markdown",
   "metadata": {},
   "source": [
    "**Оглавление:**\n",
    "<a id='section_id'></a>\n",
    "\n",
    "1. [Импорт библиотек и загрузка данных](#section_id1)\n",
    "2. [Предобработка данных](#section_id2)\n",
    "3. [Исследовательский анализ данных (EDA)](#section_id3)\n",
    "4. [Проверка гипотез](#section_id4)\n",
    "5. [Результаты исследования](#section_id5)"
   ]
  },
  {
   "cell_type": "markdown",
   "metadata": {},
   "source": [
    "## Импорт библиотек и загрузка данных\n",
    "<a id='section_id1'></a>"
   ]
  },
  {
   "cell_type": "code",
   "execution_count": 105,
   "metadata": {
    "ExecuteTime": {
     "end_time": "2022-11-23T13:15:40.700945Z",
     "start_time": "2022-11-23T13:15:40.680003Z"
    }
   },
   "outputs": [],
   "source": [
    "import pandas as pd\n",
    "import numpy as np\n",
    "from scipy import stats as st\n",
    "from datetime import datetime\n",
    "#import math\n",
    "import copy\n",
    "import matplotlib.pyplot as plt"
   ]
  },
  {
   "cell_type": "code",
   "execution_count": 3,
   "metadata": {
    "ExecuteTime": {
     "end_time": "2022-11-23T12:52:47.206450Z",
     "start_time": "2022-11-23T12:52:47.182514Z"
    }
   },
   "outputs": [],
   "source": [
    "#Добавлю форматтинг для улучшения визуального отображения\n",
    "pd.options.display.float_format = '{:,.2f}'.format\n",
    "pd.set_option('display.max_columns', None)"
   ]
  },
  {
   "cell_type": "code",
   "execution_count": 4,
   "metadata": {
    "ExecuteTime": {
     "end_time": "2022-11-23T12:52:57.121105Z",
     "start_time": "2022-11-23T12:52:47.214498Z"
    }
   },
   "outputs": [],
   "source": [
    "# Чтение исходных данных\n",
    "data_users, data_calls, data_messages, data_internet, data_tariffs = (\n",
    "    pd.read_csv('/datasets/users.csv'),\n",
    "    pd.read_csv('/datasets/calls.csv'),\n",
    "    pd.read_csv('/datasets/messages.csv'),\n",
    "    pd.read_csv('/datasets/internet.csv'),\n",
    "    pd.read_csv('/datasets/tariffs.csv'),\n",
    ")"
   ]
  },
  {
   "cell_type": "markdown",
   "metadata": {},
   "source": [
    "### Обзор данных"
   ]
  },
  {
   "cell_type": "markdown",
   "metadata": {},
   "source": [
    "#### Изучение таблицы `users`"
   ]
  },
  {
   "cell_type": "code",
   "execution_count": 5,
   "metadata": {
    "ExecuteTime": {
     "end_time": "2022-11-23T12:52:57.198189Z",
     "start_time": "2022-11-23T12:52:57.126065Z"
    }
   },
   "outputs": [
    {
     "data": {
      "text/html": [
       "<div>\n",
       "<style scoped>\n",
       "    .dataframe tbody tr th:only-of-type {\n",
       "        vertical-align: middle;\n",
       "    }\n",
       "\n",
       "    .dataframe tbody tr th {\n",
       "        vertical-align: top;\n",
       "    }\n",
       "\n",
       "    .dataframe thead th {\n",
       "        text-align: right;\n",
       "    }\n",
       "</style>\n",
       "<table border=\"1\" class=\"dataframe\">\n",
       "  <thead>\n",
       "    <tr style=\"text-align: right;\">\n",
       "      <th></th>\n",
       "      <th>user_id</th>\n",
       "      <th>age</th>\n",
       "      <th>churn_date</th>\n",
       "      <th>city</th>\n",
       "      <th>first_name</th>\n",
       "      <th>last_name</th>\n",
       "      <th>reg_date</th>\n",
       "      <th>tariff</th>\n",
       "    </tr>\n",
       "  </thead>\n",
       "  <tbody>\n",
       "    <tr>\n",
       "      <th>0</th>\n",
       "      <td>1000</td>\n",
       "      <td>52</td>\n",
       "      <td>NaN</td>\n",
       "      <td>Краснодар</td>\n",
       "      <td>Рафаил</td>\n",
       "      <td>Верещагин</td>\n",
       "      <td>2018-05-25</td>\n",
       "      <td>ultra</td>\n",
       "    </tr>\n",
       "    <tr>\n",
       "      <th>1</th>\n",
       "      <td>1001</td>\n",
       "      <td>41</td>\n",
       "      <td>NaN</td>\n",
       "      <td>Москва</td>\n",
       "      <td>Иван</td>\n",
       "      <td>Ежов</td>\n",
       "      <td>2018-11-01</td>\n",
       "      <td>smart</td>\n",
       "    </tr>\n",
       "    <tr>\n",
       "      <th>2</th>\n",
       "      <td>1002</td>\n",
       "      <td>59</td>\n",
       "      <td>NaN</td>\n",
       "      <td>Стерлитамак</td>\n",
       "      <td>Евгений</td>\n",
       "      <td>Абрамович</td>\n",
       "      <td>2018-06-17</td>\n",
       "      <td>smart</td>\n",
       "    </tr>\n",
       "    <tr>\n",
       "      <th>3</th>\n",
       "      <td>1003</td>\n",
       "      <td>23</td>\n",
       "      <td>NaN</td>\n",
       "      <td>Москва</td>\n",
       "      <td>Белла</td>\n",
       "      <td>Белякова</td>\n",
       "      <td>2018-08-17</td>\n",
       "      <td>ultra</td>\n",
       "    </tr>\n",
       "    <tr>\n",
       "      <th>4</th>\n",
       "      <td>1004</td>\n",
       "      <td>68</td>\n",
       "      <td>NaN</td>\n",
       "      <td>Новокузнецк</td>\n",
       "      <td>Татьяна</td>\n",
       "      <td>Авдеенко</td>\n",
       "      <td>2018-05-14</td>\n",
       "      <td>ultra</td>\n",
       "    </tr>\n",
       "  </tbody>\n",
       "</table>\n",
       "</div>"
      ],
      "text/plain": [
       "   user_id  age churn_date         city first_name  last_name    reg_date  \\\n",
       "0     1000   52        NaN    Краснодар     Рафаил  Верещагин  2018-05-25   \n",
       "1     1001   41        NaN       Москва       Иван       Ежов  2018-11-01   \n",
       "2     1002   59        NaN  Стерлитамак    Евгений  Абрамович  2018-06-17   \n",
       "3     1003   23        NaN       Москва      Белла   Белякова  2018-08-17   \n",
       "4     1004   68        NaN  Новокузнецк    Татьяна   Авдеенко  2018-05-14   \n",
       "\n",
       "  tariff  \n",
       "0  ultra  \n",
       "1  smart  \n",
       "2  smart  \n",
       "3  ultra  \n",
       "4  ultra  "
      ]
     },
     "execution_count": 5,
     "metadata": {},
     "output_type": "execute_result"
    }
   ],
   "source": [
    "data_users.head(5)"
   ]
  },
  {
   "cell_type": "code",
   "execution_count": 6,
   "metadata": {
    "ExecuteTime": {
     "end_time": "2022-11-23T12:52:57.230152Z",
     "start_time": "2022-11-23T12:52:57.202178Z"
    }
   },
   "outputs": [
    {
     "data": {
      "text/html": [
       "<div>\n",
       "<style scoped>\n",
       "    .dataframe tbody tr th:only-of-type {\n",
       "        vertical-align: middle;\n",
       "    }\n",
       "\n",
       "    .dataframe tbody tr th {\n",
       "        vertical-align: top;\n",
       "    }\n",
       "\n",
       "    .dataframe thead th {\n",
       "        text-align: right;\n",
       "    }\n",
       "</style>\n",
       "<table border=\"1\" class=\"dataframe\">\n",
       "  <thead>\n",
       "    <tr style=\"text-align: right;\">\n",
       "      <th></th>\n",
       "      <th>user_id</th>\n",
       "      <th>age</th>\n",
       "      <th>churn_date</th>\n",
       "      <th>city</th>\n",
       "      <th>first_name</th>\n",
       "      <th>last_name</th>\n",
       "      <th>reg_date</th>\n",
       "      <th>tariff</th>\n",
       "    </tr>\n",
       "  </thead>\n",
       "  <tbody>\n",
       "    <tr>\n",
       "      <th>495</th>\n",
       "      <td>1495</td>\n",
       "      <td>65</td>\n",
       "      <td>NaN</td>\n",
       "      <td>Иркутск</td>\n",
       "      <td>Авксентий</td>\n",
       "      <td>Фокин</td>\n",
       "      <td>2018-08-28</td>\n",
       "      <td>ultra</td>\n",
       "    </tr>\n",
       "    <tr>\n",
       "      <th>496</th>\n",
       "      <td>1496</td>\n",
       "      <td>36</td>\n",
       "      <td>NaN</td>\n",
       "      <td>Вологда</td>\n",
       "      <td>Трифон</td>\n",
       "      <td>Блохин</td>\n",
       "      <td>2018-01-27</td>\n",
       "      <td>smart</td>\n",
       "    </tr>\n",
       "    <tr>\n",
       "      <th>497</th>\n",
       "      <td>1497</td>\n",
       "      <td>32</td>\n",
       "      <td>NaN</td>\n",
       "      <td>Челябинск</td>\n",
       "      <td>Каролина</td>\n",
       "      <td>Агеева</td>\n",
       "      <td>2018-10-09</td>\n",
       "      <td>smart</td>\n",
       "    </tr>\n",
       "    <tr>\n",
       "      <th>498</th>\n",
       "      <td>1498</td>\n",
       "      <td>68</td>\n",
       "      <td>2018-10-25</td>\n",
       "      <td>Владикавказ</td>\n",
       "      <td>Всеволод</td>\n",
       "      <td>Акимчин</td>\n",
       "      <td>2018-07-19</td>\n",
       "      <td>smart</td>\n",
       "    </tr>\n",
       "    <tr>\n",
       "      <th>499</th>\n",
       "      <td>1499</td>\n",
       "      <td>35</td>\n",
       "      <td>NaN</td>\n",
       "      <td>Пермь</td>\n",
       "      <td>Гектор</td>\n",
       "      <td>Корнилов</td>\n",
       "      <td>2018-09-27</td>\n",
       "      <td>smart</td>\n",
       "    </tr>\n",
       "  </tbody>\n",
       "</table>\n",
       "</div>"
      ],
      "text/plain": [
       "     user_id  age  churn_date         city first_name last_name    reg_date  \\\n",
       "495     1495   65         NaN      Иркутск  Авксентий     Фокин  2018-08-28   \n",
       "496     1496   36         NaN      Вологда     Трифон    Блохин  2018-01-27   \n",
       "497     1497   32         NaN    Челябинск   Каролина    Агеева  2018-10-09   \n",
       "498     1498   68  2018-10-25  Владикавказ   Всеволод   Акимчин  2018-07-19   \n",
       "499     1499   35         NaN        Пермь     Гектор  Корнилов  2018-09-27   \n",
       "\n",
       "    tariff  \n",
       "495  ultra  \n",
       "496  smart  \n",
       "497  smart  \n",
       "498  smart  \n",
       "499  smart  "
      ]
     },
     "execution_count": 6,
     "metadata": {},
     "output_type": "execute_result"
    }
   ],
   "source": [
    "data_users.tail(5)"
   ]
  },
  {
   "cell_type": "code",
   "execution_count": 7,
   "metadata": {
    "ExecuteTime": {
     "end_time": "2022-11-23T12:52:57.293239Z",
     "start_time": "2022-11-23T12:52:57.234093Z"
    }
   },
   "outputs": [
    {
     "data": {
      "text/html": [
       "<div>\n",
       "<style scoped>\n",
       "    .dataframe tbody tr th:only-of-type {\n",
       "        vertical-align: middle;\n",
       "    }\n",
       "\n",
       "    .dataframe tbody tr th {\n",
       "        vertical-align: top;\n",
       "    }\n",
       "\n",
       "    .dataframe thead th {\n",
       "        text-align: right;\n",
       "    }\n",
       "</style>\n",
       "<table border=\"1\" class=\"dataframe\">\n",
       "  <thead>\n",
       "    <tr style=\"text-align: right;\">\n",
       "      <th></th>\n",
       "      <th>user_id</th>\n",
       "      <th>age</th>\n",
       "    </tr>\n",
       "  </thead>\n",
       "  <tbody>\n",
       "    <tr>\n",
       "      <th>count</th>\n",
       "      <td>500.00</td>\n",
       "      <td>500.00</td>\n",
       "    </tr>\n",
       "    <tr>\n",
       "      <th>mean</th>\n",
       "      <td>1,249.50</td>\n",
       "      <td>46.59</td>\n",
       "    </tr>\n",
       "    <tr>\n",
       "      <th>std</th>\n",
       "      <td>144.48</td>\n",
       "      <td>16.67</td>\n",
       "    </tr>\n",
       "    <tr>\n",
       "      <th>min</th>\n",
       "      <td>1,000.00</td>\n",
       "      <td>18.00</td>\n",
       "    </tr>\n",
       "    <tr>\n",
       "      <th>25%</th>\n",
       "      <td>1,124.75</td>\n",
       "      <td>32.00</td>\n",
       "    </tr>\n",
       "    <tr>\n",
       "      <th>50%</th>\n",
       "      <td>1,249.50</td>\n",
       "      <td>46.00</td>\n",
       "    </tr>\n",
       "    <tr>\n",
       "      <th>75%</th>\n",
       "      <td>1,374.25</td>\n",
       "      <td>62.00</td>\n",
       "    </tr>\n",
       "    <tr>\n",
       "      <th>max</th>\n",
       "      <td>1,499.00</td>\n",
       "      <td>75.00</td>\n",
       "    </tr>\n",
       "  </tbody>\n",
       "</table>\n",
       "</div>"
      ],
      "text/plain": [
       "       user_id    age\n",
       "count   500.00 500.00\n",
       "mean  1,249.50  46.59\n",
       "std     144.48  16.67\n",
       "min   1,000.00  18.00\n",
       "25%   1,124.75  32.00\n",
       "50%   1,249.50  46.00\n",
       "75%   1,374.25  62.00\n",
       "max   1,499.00  75.00"
      ]
     },
     "execution_count": 7,
     "metadata": {},
     "output_type": "execute_result"
    }
   ],
   "source": [
    "data_users.describe()"
   ]
  },
  {
   "cell_type": "code",
   "execution_count": 8,
   "metadata": {
    "ExecuteTime": {
     "end_time": "2022-11-23T12:52:57.324196Z",
     "start_time": "2022-11-23T12:52:57.298575Z"
    }
   },
   "outputs": [
    {
     "name": "stdout",
     "output_type": "stream",
     "text": [
      "<class 'pandas.core.frame.DataFrame'>\n",
      "RangeIndex: 500 entries, 0 to 499\n",
      "Data columns (total 8 columns):\n",
      " #   Column      Non-Null Count  Dtype \n",
      "---  ------      --------------  ----- \n",
      " 0   user_id     500 non-null    int64 \n",
      " 1   age         500 non-null    int64 \n",
      " 2   churn_date  38 non-null     object\n",
      " 3   city        500 non-null    object\n",
      " 4   first_name  500 non-null    object\n",
      " 5   last_name   500 non-null    object\n",
      " 6   reg_date    500 non-null    object\n",
      " 7   tariff      500 non-null    object\n",
      "dtypes: int64(2), object(6)\n",
      "memory usage: 31.4+ KB\n"
     ]
    }
   ],
   "source": [
    "data_users.info()"
   ]
  },
  {
   "cell_type": "markdown",
   "metadata": {},
   "source": [
    "В датафрейме по пользователям есть пропуски в колонке `churn_date` - дата прекращения пользования тарифом, пропуски означают, что тариф действует на момент выгрузки. Соответственно, пропуски можно заменить на нули. При изменении типов данных нужно будет изменить тип в колонке `reg_date`."
   ]
  },
  {
   "cell_type": "markdown",
   "metadata": {},
   "source": [
    "#### Изучение таблицы `calls`"
   ]
  },
  {
   "cell_type": "code",
   "execution_count": 9,
   "metadata": {
    "ExecuteTime": {
     "end_time": "2022-11-23T12:52:57.356112Z",
     "start_time": "2022-11-23T12:52:57.329142Z"
    }
   },
   "outputs": [
    {
     "data": {
      "text/html": [
       "<div>\n",
       "<style scoped>\n",
       "    .dataframe tbody tr th:only-of-type {\n",
       "        vertical-align: middle;\n",
       "    }\n",
       "\n",
       "    .dataframe tbody tr th {\n",
       "        vertical-align: top;\n",
       "    }\n",
       "\n",
       "    .dataframe thead th {\n",
       "        text-align: right;\n",
       "    }\n",
       "</style>\n",
       "<table border=\"1\" class=\"dataframe\">\n",
       "  <thead>\n",
       "    <tr style=\"text-align: right;\">\n",
       "      <th></th>\n",
       "      <th>id</th>\n",
       "      <th>call_date</th>\n",
       "      <th>duration</th>\n",
       "      <th>user_id</th>\n",
       "    </tr>\n",
       "  </thead>\n",
       "  <tbody>\n",
       "    <tr>\n",
       "      <th>0</th>\n",
       "      <td>1000_0</td>\n",
       "      <td>2018-07-25</td>\n",
       "      <td>0.00</td>\n",
       "      <td>1000</td>\n",
       "    </tr>\n",
       "    <tr>\n",
       "      <th>1</th>\n",
       "      <td>1000_1</td>\n",
       "      <td>2018-08-17</td>\n",
       "      <td>0.00</td>\n",
       "      <td>1000</td>\n",
       "    </tr>\n",
       "    <tr>\n",
       "      <th>2</th>\n",
       "      <td>1000_2</td>\n",
       "      <td>2018-06-11</td>\n",
       "      <td>2.85</td>\n",
       "      <td>1000</td>\n",
       "    </tr>\n",
       "    <tr>\n",
       "      <th>3</th>\n",
       "      <td>1000_3</td>\n",
       "      <td>2018-09-21</td>\n",
       "      <td>13.80</td>\n",
       "      <td>1000</td>\n",
       "    </tr>\n",
       "    <tr>\n",
       "      <th>4</th>\n",
       "      <td>1000_4</td>\n",
       "      <td>2018-12-15</td>\n",
       "      <td>5.18</td>\n",
       "      <td>1000</td>\n",
       "    </tr>\n",
       "  </tbody>\n",
       "</table>\n",
       "</div>"
      ],
      "text/plain": [
       "       id   call_date  duration  user_id\n",
       "0  1000_0  2018-07-25      0.00     1000\n",
       "1  1000_1  2018-08-17      0.00     1000\n",
       "2  1000_2  2018-06-11      2.85     1000\n",
       "3  1000_3  2018-09-21     13.80     1000\n",
       "4  1000_4  2018-12-15      5.18     1000"
      ]
     },
     "execution_count": 9,
     "metadata": {},
     "output_type": "execute_result"
    }
   ],
   "source": [
    "data_calls.head(5)"
   ]
  },
  {
   "cell_type": "code",
   "execution_count": 10,
   "metadata": {
    "ExecuteTime": {
     "end_time": "2022-11-23T12:52:57.386664Z",
     "start_time": "2022-11-23T12:52:57.361052Z"
    }
   },
   "outputs": [
    {
     "data": {
      "text/html": [
       "<div>\n",
       "<style scoped>\n",
       "    .dataframe tbody tr th:only-of-type {\n",
       "        vertical-align: middle;\n",
       "    }\n",
       "\n",
       "    .dataframe tbody tr th {\n",
       "        vertical-align: top;\n",
       "    }\n",
       "\n",
       "    .dataframe thead th {\n",
       "        text-align: right;\n",
       "    }\n",
       "</style>\n",
       "<table border=\"1\" class=\"dataframe\">\n",
       "  <thead>\n",
       "    <tr style=\"text-align: right;\">\n",
       "      <th></th>\n",
       "      <th>id</th>\n",
       "      <th>call_date</th>\n",
       "      <th>duration</th>\n",
       "      <th>user_id</th>\n",
       "    </tr>\n",
       "  </thead>\n",
       "  <tbody>\n",
       "    <tr>\n",
       "      <th>202602</th>\n",
       "      <td>1499_215</td>\n",
       "      <td>2018-12-26</td>\n",
       "      <td>0.76</td>\n",
       "      <td>1499</td>\n",
       "    </tr>\n",
       "    <tr>\n",
       "      <th>202603</th>\n",
       "      <td>1499_216</td>\n",
       "      <td>2018-10-18</td>\n",
       "      <td>18.83</td>\n",
       "      <td>1499</td>\n",
       "    </tr>\n",
       "    <tr>\n",
       "      <th>202604</th>\n",
       "      <td>1499_217</td>\n",
       "      <td>2018-11-10</td>\n",
       "      <td>10.81</td>\n",
       "      <td>1499</td>\n",
       "    </tr>\n",
       "    <tr>\n",
       "      <th>202605</th>\n",
       "      <td>1499_218</td>\n",
       "      <td>2018-10-06</td>\n",
       "      <td>4.27</td>\n",
       "      <td>1499</td>\n",
       "    </tr>\n",
       "    <tr>\n",
       "      <th>202606</th>\n",
       "      <td>1499_219</td>\n",
       "      <td>2018-12-14</td>\n",
       "      <td>19.62</td>\n",
       "      <td>1499</td>\n",
       "    </tr>\n",
       "  </tbody>\n",
       "</table>\n",
       "</div>"
      ],
      "text/plain": [
       "              id   call_date  duration  user_id\n",
       "202602  1499_215  2018-12-26      0.76     1499\n",
       "202603  1499_216  2018-10-18     18.83     1499\n",
       "202604  1499_217  2018-11-10     10.81     1499\n",
       "202605  1499_218  2018-10-06      4.27     1499\n",
       "202606  1499_219  2018-12-14     19.62     1499"
      ]
     },
     "execution_count": 10,
     "metadata": {},
     "output_type": "execute_result"
    }
   ],
   "source": [
    "data_calls.tail(5)"
   ]
  },
  {
   "cell_type": "code",
   "execution_count": 11,
   "metadata": {
    "ExecuteTime": {
     "end_time": "2022-11-23T12:52:57.464968Z",
     "start_time": "2022-11-23T12:52:57.397150Z"
    }
   },
   "outputs": [
    {
     "data": {
      "text/html": [
       "<div>\n",
       "<style scoped>\n",
       "    .dataframe tbody tr th:only-of-type {\n",
       "        vertical-align: middle;\n",
       "    }\n",
       "\n",
       "    .dataframe tbody tr th {\n",
       "        vertical-align: top;\n",
       "    }\n",
       "\n",
       "    .dataframe thead th {\n",
       "        text-align: right;\n",
       "    }\n",
       "</style>\n",
       "<table border=\"1\" class=\"dataframe\">\n",
       "  <thead>\n",
       "    <tr style=\"text-align: right;\">\n",
       "      <th></th>\n",
       "      <th>duration</th>\n",
       "      <th>user_id</th>\n",
       "    </tr>\n",
       "  </thead>\n",
       "  <tbody>\n",
       "    <tr>\n",
       "      <th>count</th>\n",
       "      <td>202,607.00</td>\n",
       "      <td>202,607.00</td>\n",
       "    </tr>\n",
       "    <tr>\n",
       "      <th>mean</th>\n",
       "      <td>6.76</td>\n",
       "      <td>1,253.94</td>\n",
       "    </tr>\n",
       "    <tr>\n",
       "      <th>std</th>\n",
       "      <td>5.84</td>\n",
       "      <td>144.72</td>\n",
       "    </tr>\n",
       "    <tr>\n",
       "      <th>min</th>\n",
       "      <td>0.00</td>\n",
       "      <td>1,000.00</td>\n",
       "    </tr>\n",
       "    <tr>\n",
       "      <th>25%</th>\n",
       "      <td>1.30</td>\n",
       "      <td>1,126.00</td>\n",
       "    </tr>\n",
       "    <tr>\n",
       "      <th>50%</th>\n",
       "      <td>6.00</td>\n",
       "      <td>1,260.00</td>\n",
       "    </tr>\n",
       "    <tr>\n",
       "      <th>75%</th>\n",
       "      <td>10.70</td>\n",
       "      <td>1,379.00</td>\n",
       "    </tr>\n",
       "    <tr>\n",
       "      <th>max</th>\n",
       "      <td>38.00</td>\n",
       "      <td>1,499.00</td>\n",
       "    </tr>\n",
       "  </tbody>\n",
       "</table>\n",
       "</div>"
      ],
      "text/plain": [
       "        duration    user_id\n",
       "count 202,607.00 202,607.00\n",
       "mean        6.76   1,253.94\n",
       "std         5.84     144.72\n",
       "min         0.00   1,000.00\n",
       "25%         1.30   1,126.00\n",
       "50%         6.00   1,260.00\n",
       "75%        10.70   1,379.00\n",
       "max        38.00   1,499.00"
      ]
     },
     "execution_count": 11,
     "metadata": {},
     "output_type": "execute_result"
    }
   ],
   "source": [
    "data_calls.describe()"
   ]
  },
  {
   "cell_type": "code",
   "execution_count": 12,
   "metadata": {
    "ExecuteTime": {
     "end_time": "2022-11-23T12:52:57.623195Z",
     "start_time": "2022-11-23T12:52:57.470953Z"
    }
   },
   "outputs": [
    {
     "name": "stdout",
     "output_type": "stream",
     "text": [
      "<class 'pandas.core.frame.DataFrame'>\n",
      "RangeIndex: 202607 entries, 0 to 202606\n",
      "Data columns (total 4 columns):\n",
      " #   Column     Non-Null Count   Dtype  \n",
      "---  ------     --------------   -----  \n",
      " 0   id         202607 non-null  object \n",
      " 1   call_date  202607 non-null  object \n",
      " 2   duration   202607 non-null  float64\n",
      " 3   user_id    202607 non-null  int64  \n",
      "dtypes: float64(1), int64(1), object(2)\n",
      "memory usage: 6.2+ MB\n"
     ]
    }
   ],
   "source": [
    "data_calls.info()"
   ]
  },
  {
   "cell_type": "markdown",
   "metadata": {},
   "source": [
    "В описании к заданию указано, что все звонки округляются до минут - сделаю при предобработке. В данных есть строки с нулевыми значениями - это входящие звонки, изменю тип в колонке дата звонка для дальнейшего анализа."
   ]
  },
  {
   "cell_type": "markdown",
   "metadata": {},
   "source": [
    "#### Изучение таблицы `messages`"
   ]
  },
  {
   "cell_type": "code",
   "execution_count": 13,
   "metadata": {
    "ExecuteTime": {
     "end_time": "2022-11-23T12:52:57.654995Z",
     "start_time": "2022-11-23T12:52:57.628066Z"
    }
   },
   "outputs": [
    {
     "data": {
      "text/html": [
       "<div>\n",
       "<style scoped>\n",
       "    .dataframe tbody tr th:only-of-type {\n",
       "        vertical-align: middle;\n",
       "    }\n",
       "\n",
       "    .dataframe tbody tr th {\n",
       "        vertical-align: top;\n",
       "    }\n",
       "\n",
       "    .dataframe thead th {\n",
       "        text-align: right;\n",
       "    }\n",
       "</style>\n",
       "<table border=\"1\" class=\"dataframe\">\n",
       "  <thead>\n",
       "    <tr style=\"text-align: right;\">\n",
       "      <th></th>\n",
       "      <th>id</th>\n",
       "      <th>message_date</th>\n",
       "      <th>user_id</th>\n",
       "    </tr>\n",
       "  </thead>\n",
       "  <tbody>\n",
       "    <tr>\n",
       "      <th>0</th>\n",
       "      <td>1000_0</td>\n",
       "      <td>2018-06-27</td>\n",
       "      <td>1000</td>\n",
       "    </tr>\n",
       "    <tr>\n",
       "      <th>1</th>\n",
       "      <td>1000_1</td>\n",
       "      <td>2018-10-08</td>\n",
       "      <td>1000</td>\n",
       "    </tr>\n",
       "    <tr>\n",
       "      <th>2</th>\n",
       "      <td>1000_2</td>\n",
       "      <td>2018-08-04</td>\n",
       "      <td>1000</td>\n",
       "    </tr>\n",
       "    <tr>\n",
       "      <th>3</th>\n",
       "      <td>1000_3</td>\n",
       "      <td>2018-06-16</td>\n",
       "      <td>1000</td>\n",
       "    </tr>\n",
       "    <tr>\n",
       "      <th>4</th>\n",
       "      <td>1000_4</td>\n",
       "      <td>2018-12-05</td>\n",
       "      <td>1000</td>\n",
       "    </tr>\n",
       "  </tbody>\n",
       "</table>\n",
       "</div>"
      ],
      "text/plain": [
       "       id message_date  user_id\n",
       "0  1000_0   2018-06-27     1000\n",
       "1  1000_1   2018-10-08     1000\n",
       "2  1000_2   2018-08-04     1000\n",
       "3  1000_3   2018-06-16     1000\n",
       "4  1000_4   2018-12-05     1000"
      ]
     },
     "execution_count": 13,
     "metadata": {},
     "output_type": "execute_result"
    }
   ],
   "source": [
    "data_messages.head(5)"
   ]
  },
  {
   "cell_type": "code",
   "execution_count": 14,
   "metadata": {
    "ExecuteTime": {
     "end_time": "2022-11-23T12:52:57.686645Z",
     "start_time": "2022-11-23T12:52:57.659981Z"
    }
   },
   "outputs": [
    {
     "data": {
      "text/html": [
       "<div>\n",
       "<style scoped>\n",
       "    .dataframe tbody tr th:only-of-type {\n",
       "        vertical-align: middle;\n",
       "    }\n",
       "\n",
       "    .dataframe tbody tr th {\n",
       "        vertical-align: top;\n",
       "    }\n",
       "\n",
       "    .dataframe thead th {\n",
       "        text-align: right;\n",
       "    }\n",
       "</style>\n",
       "<table border=\"1\" class=\"dataframe\">\n",
       "  <thead>\n",
       "    <tr style=\"text-align: right;\">\n",
       "      <th></th>\n",
       "      <th>id</th>\n",
       "      <th>message_date</th>\n",
       "      <th>user_id</th>\n",
       "    </tr>\n",
       "  </thead>\n",
       "  <tbody>\n",
       "    <tr>\n",
       "      <th>123031</th>\n",
       "      <td>1499_179</td>\n",
       "      <td>2018-12-12</td>\n",
       "      <td>1499</td>\n",
       "    </tr>\n",
       "    <tr>\n",
       "      <th>123032</th>\n",
       "      <td>1499_180</td>\n",
       "      <td>2018-09-28</td>\n",
       "      <td>1499</td>\n",
       "    </tr>\n",
       "    <tr>\n",
       "      <th>123033</th>\n",
       "      <td>1499_181</td>\n",
       "      <td>2018-09-27</td>\n",
       "      <td>1499</td>\n",
       "    </tr>\n",
       "    <tr>\n",
       "      <th>123034</th>\n",
       "      <td>1499_182</td>\n",
       "      <td>2018-11-15</td>\n",
       "      <td>1499</td>\n",
       "    </tr>\n",
       "    <tr>\n",
       "      <th>123035</th>\n",
       "      <td>1499_183</td>\n",
       "      <td>2018-11-16</td>\n",
       "      <td>1499</td>\n",
       "    </tr>\n",
       "  </tbody>\n",
       "</table>\n",
       "</div>"
      ],
      "text/plain": [
       "              id message_date  user_id\n",
       "123031  1499_179   2018-12-12     1499\n",
       "123032  1499_180   2018-09-28     1499\n",
       "123033  1499_181   2018-09-27     1499\n",
       "123034  1499_182   2018-11-15     1499\n",
       "123035  1499_183   2018-11-16     1499"
      ]
     },
     "execution_count": 14,
     "metadata": {},
     "output_type": "execute_result"
    }
   ],
   "source": [
    "data_messages.tail(5)"
   ]
  },
  {
   "cell_type": "code",
   "execution_count": 15,
   "metadata": {
    "ExecuteTime": {
     "end_time": "2022-11-23T12:52:57.718079Z",
     "start_time": "2022-11-23T12:52:57.690149Z"
    }
   },
   "outputs": [
    {
     "data": {
      "text/html": [
       "<div>\n",
       "<style scoped>\n",
       "    .dataframe tbody tr th:only-of-type {\n",
       "        vertical-align: middle;\n",
       "    }\n",
       "\n",
       "    .dataframe tbody tr th {\n",
       "        vertical-align: top;\n",
       "    }\n",
       "\n",
       "    .dataframe thead th {\n",
       "        text-align: right;\n",
       "    }\n",
       "</style>\n",
       "<table border=\"1\" class=\"dataframe\">\n",
       "  <thead>\n",
       "    <tr style=\"text-align: right;\">\n",
       "      <th></th>\n",
       "      <th>user_id</th>\n",
       "    </tr>\n",
       "  </thead>\n",
       "  <tbody>\n",
       "    <tr>\n",
       "      <th>count</th>\n",
       "      <td>123,036.00</td>\n",
       "    </tr>\n",
       "    <tr>\n",
       "      <th>mean</th>\n",
       "      <td>1,256.99</td>\n",
       "    </tr>\n",
       "    <tr>\n",
       "      <th>std</th>\n",
       "      <td>143.52</td>\n",
       "    </tr>\n",
       "    <tr>\n",
       "      <th>min</th>\n",
       "      <td>1,000.00</td>\n",
       "    </tr>\n",
       "    <tr>\n",
       "      <th>25%</th>\n",
       "      <td>1,134.00</td>\n",
       "    </tr>\n",
       "    <tr>\n",
       "      <th>50%</th>\n",
       "      <td>1,271.00</td>\n",
       "    </tr>\n",
       "    <tr>\n",
       "      <th>75%</th>\n",
       "      <td>1,381.00</td>\n",
       "    </tr>\n",
       "    <tr>\n",
       "      <th>max</th>\n",
       "      <td>1,499.00</td>\n",
       "    </tr>\n",
       "  </tbody>\n",
       "</table>\n",
       "</div>"
      ],
      "text/plain": [
       "         user_id\n",
       "count 123,036.00\n",
       "mean    1,256.99\n",
       "std       143.52\n",
       "min     1,000.00\n",
       "25%     1,134.00\n",
       "50%     1,271.00\n",
       "75%     1,381.00\n",
       "max     1,499.00"
      ]
     },
     "execution_count": 15,
     "metadata": {},
     "output_type": "execute_result"
    }
   ],
   "source": [
    "data_messages.describe()"
   ]
  },
  {
   "cell_type": "code",
   "execution_count": 16,
   "metadata": {
    "ExecuteTime": {
     "end_time": "2022-11-23T12:52:57.813099Z",
     "start_time": "2022-11-23T12:52:57.723062Z"
    }
   },
   "outputs": [
    {
     "name": "stdout",
     "output_type": "stream",
     "text": [
      "<class 'pandas.core.frame.DataFrame'>\n",
      "RangeIndex: 123036 entries, 0 to 123035\n",
      "Data columns (total 3 columns):\n",
      " #   Column        Non-Null Count   Dtype \n",
      "---  ------        --------------   ----- \n",
      " 0   id            123036 non-null  object\n",
      " 1   message_date  123036 non-null  object\n",
      " 2   user_id       123036 non-null  int64 \n",
      "dtypes: int64(1), object(2)\n",
      "memory usage: 2.8+ MB\n"
     ]
    }
   ],
   "source": [
    "data_messages.info()"
   ]
  },
  {
   "cell_type": "markdown",
   "metadata": {},
   "source": [
    "#### Изучение таблицы `internet`"
   ]
  },
  {
   "cell_type": "code",
   "execution_count": 17,
   "metadata": {
    "ExecuteTime": {
     "end_time": "2022-11-23T12:52:57.844909Z",
     "start_time": "2022-11-23T12:52:57.817982Z"
    }
   },
   "outputs": [
    {
     "data": {
      "text/html": [
       "<div>\n",
       "<style scoped>\n",
       "    .dataframe tbody tr th:only-of-type {\n",
       "        vertical-align: middle;\n",
       "    }\n",
       "\n",
       "    .dataframe tbody tr th {\n",
       "        vertical-align: top;\n",
       "    }\n",
       "\n",
       "    .dataframe thead th {\n",
       "        text-align: right;\n",
       "    }\n",
       "</style>\n",
       "<table border=\"1\" class=\"dataframe\">\n",
       "  <thead>\n",
       "    <tr style=\"text-align: right;\">\n",
       "      <th></th>\n",
       "      <th>Unnamed: 0</th>\n",
       "      <th>id</th>\n",
       "      <th>mb_used</th>\n",
       "      <th>session_date</th>\n",
       "      <th>user_id</th>\n",
       "    </tr>\n",
       "  </thead>\n",
       "  <tbody>\n",
       "    <tr>\n",
       "      <th>0</th>\n",
       "      <td>0</td>\n",
       "      <td>1000_0</td>\n",
       "      <td>112.95</td>\n",
       "      <td>2018-11-25</td>\n",
       "      <td>1000</td>\n",
       "    </tr>\n",
       "    <tr>\n",
       "      <th>1</th>\n",
       "      <td>1</td>\n",
       "      <td>1000_1</td>\n",
       "      <td>1,052.81</td>\n",
       "      <td>2018-09-07</td>\n",
       "      <td>1000</td>\n",
       "    </tr>\n",
       "    <tr>\n",
       "      <th>2</th>\n",
       "      <td>2</td>\n",
       "      <td>1000_2</td>\n",
       "      <td>1,197.26</td>\n",
       "      <td>2018-06-25</td>\n",
       "      <td>1000</td>\n",
       "    </tr>\n",
       "    <tr>\n",
       "      <th>3</th>\n",
       "      <td>3</td>\n",
       "      <td>1000_3</td>\n",
       "      <td>550.27</td>\n",
       "      <td>2018-08-22</td>\n",
       "      <td>1000</td>\n",
       "    </tr>\n",
       "    <tr>\n",
       "      <th>4</th>\n",
       "      <td>4</td>\n",
       "      <td>1000_4</td>\n",
       "      <td>302.56</td>\n",
       "      <td>2018-09-24</td>\n",
       "      <td>1000</td>\n",
       "    </tr>\n",
       "  </tbody>\n",
       "</table>\n",
       "</div>"
      ],
      "text/plain": [
       "   Unnamed: 0      id  mb_used session_date  user_id\n",
       "0           0  1000_0   112.95   2018-11-25     1000\n",
       "1           1  1000_1 1,052.81   2018-09-07     1000\n",
       "2           2  1000_2 1,197.26   2018-06-25     1000\n",
       "3           3  1000_3   550.27   2018-08-22     1000\n",
       "4           4  1000_4   302.56   2018-09-24     1000"
      ]
     },
     "execution_count": 17,
     "metadata": {},
     "output_type": "execute_result"
    }
   ],
   "source": [
    "data_internet.head(5)"
   ]
  },
  {
   "cell_type": "code",
   "execution_count": 18,
   "metadata": {
    "ExecuteTime": {
     "end_time": "2022-11-23T12:52:57.874875Z",
     "start_time": "2022-11-23T12:52:57.849898Z"
    }
   },
   "outputs": [
    {
     "data": {
      "text/html": [
       "<div>\n",
       "<style scoped>\n",
       "    .dataframe tbody tr th:only-of-type {\n",
       "        vertical-align: middle;\n",
       "    }\n",
       "\n",
       "    .dataframe tbody tr th {\n",
       "        vertical-align: top;\n",
       "    }\n",
       "\n",
       "    .dataframe thead th {\n",
       "        text-align: right;\n",
       "    }\n",
       "</style>\n",
       "<table border=\"1\" class=\"dataframe\">\n",
       "  <thead>\n",
       "    <tr style=\"text-align: right;\">\n",
       "      <th></th>\n",
       "      <th>Unnamed: 0</th>\n",
       "      <th>id</th>\n",
       "      <th>mb_used</th>\n",
       "      <th>session_date</th>\n",
       "      <th>user_id</th>\n",
       "    </tr>\n",
       "  </thead>\n",
       "  <tbody>\n",
       "    <tr>\n",
       "      <th>149391</th>\n",
       "      <td>149391</td>\n",
       "      <td>1499_152</td>\n",
       "      <td>318.90</td>\n",
       "      <td>2018-10-03</td>\n",
       "      <td>1499</td>\n",
       "    </tr>\n",
       "    <tr>\n",
       "      <th>149392</th>\n",
       "      <td>149392</td>\n",
       "      <td>1499_153</td>\n",
       "      <td>490.13</td>\n",
       "      <td>2018-12-14</td>\n",
       "      <td>1499</td>\n",
       "    </tr>\n",
       "    <tr>\n",
       "      <th>149393</th>\n",
       "      <td>149393</td>\n",
       "      <td>1499_154</td>\n",
       "      <td>0.00</td>\n",
       "      <td>2018-10-27</td>\n",
       "      <td>1499</td>\n",
       "    </tr>\n",
       "    <tr>\n",
       "      <th>149394</th>\n",
       "      <td>149394</td>\n",
       "      <td>1499_155</td>\n",
       "      <td>1,246.32</td>\n",
       "      <td>2018-11-26</td>\n",
       "      <td>1499</td>\n",
       "    </tr>\n",
       "    <tr>\n",
       "      <th>149395</th>\n",
       "      <td>149395</td>\n",
       "      <td>1499_156</td>\n",
       "      <td>544.37</td>\n",
       "      <td>2018-10-26</td>\n",
       "      <td>1499</td>\n",
       "    </tr>\n",
       "  </tbody>\n",
       "</table>\n",
       "</div>"
      ],
      "text/plain": [
       "        Unnamed: 0        id  mb_used session_date  user_id\n",
       "149391      149391  1499_152   318.90   2018-10-03     1499\n",
       "149392      149392  1499_153   490.13   2018-12-14     1499\n",
       "149393      149393  1499_154     0.00   2018-10-27     1499\n",
       "149394      149394  1499_155 1,246.32   2018-11-26     1499\n",
       "149395      149395  1499_156   544.37   2018-10-26     1499"
      ]
     },
     "execution_count": 18,
     "metadata": {},
     "output_type": "execute_result"
    }
   ],
   "source": [
    "data_internet.tail(5)"
   ]
  },
  {
   "cell_type": "code",
   "execution_count": 19,
   "metadata": {
    "ExecuteTime": {
     "end_time": "2022-11-23T12:52:57.954217Z",
     "start_time": "2022-11-23T12:52:57.880822Z"
    }
   },
   "outputs": [
    {
     "data": {
      "text/html": [
       "<div>\n",
       "<style scoped>\n",
       "    .dataframe tbody tr th:only-of-type {\n",
       "        vertical-align: middle;\n",
       "    }\n",
       "\n",
       "    .dataframe tbody tr th {\n",
       "        vertical-align: top;\n",
       "    }\n",
       "\n",
       "    .dataframe thead th {\n",
       "        text-align: right;\n",
       "    }\n",
       "</style>\n",
       "<table border=\"1\" class=\"dataframe\">\n",
       "  <thead>\n",
       "    <tr style=\"text-align: right;\">\n",
       "      <th></th>\n",
       "      <th>Unnamed: 0</th>\n",
       "      <th>mb_used</th>\n",
       "      <th>user_id</th>\n",
       "    </tr>\n",
       "  </thead>\n",
       "  <tbody>\n",
       "    <tr>\n",
       "      <th>count</th>\n",
       "      <td>149,396.00</td>\n",
       "      <td>149,396.00</td>\n",
       "      <td>149,396.00</td>\n",
       "    </tr>\n",
       "    <tr>\n",
       "      <th>mean</th>\n",
       "      <td>74,697.50</td>\n",
       "      <td>370.19</td>\n",
       "      <td>1,252.10</td>\n",
       "    </tr>\n",
       "    <tr>\n",
       "      <th>std</th>\n",
       "      <td>43,127.05</td>\n",
       "      <td>278.30</td>\n",
       "      <td>144.05</td>\n",
       "    </tr>\n",
       "    <tr>\n",
       "      <th>min</th>\n",
       "      <td>0.00</td>\n",
       "      <td>0.00</td>\n",
       "      <td>1,000.00</td>\n",
       "    </tr>\n",
       "    <tr>\n",
       "      <th>25%</th>\n",
       "      <td>37,348.75</td>\n",
       "      <td>138.19</td>\n",
       "      <td>1,130.00</td>\n",
       "    </tr>\n",
       "    <tr>\n",
       "      <th>50%</th>\n",
       "      <td>74,697.50</td>\n",
       "      <td>348.01</td>\n",
       "      <td>1,251.00</td>\n",
       "    </tr>\n",
       "    <tr>\n",
       "      <th>75%</th>\n",
       "      <td>112,046.25</td>\n",
       "      <td>559.55</td>\n",
       "      <td>1,380.00</td>\n",
       "    </tr>\n",
       "    <tr>\n",
       "      <th>max</th>\n",
       "      <td>149,395.00</td>\n",
       "      <td>1,724.83</td>\n",
       "      <td>1,499.00</td>\n",
       "    </tr>\n",
       "  </tbody>\n",
       "</table>\n",
       "</div>"
      ],
      "text/plain": [
       "       Unnamed: 0    mb_used    user_id\n",
       "count  149,396.00 149,396.00 149,396.00\n",
       "mean    74,697.50     370.19   1,252.10\n",
       "std     43,127.05     278.30     144.05\n",
       "min          0.00       0.00   1,000.00\n",
       "25%     37,348.75     138.19   1,130.00\n",
       "50%     74,697.50     348.01   1,251.00\n",
       "75%    112,046.25     559.55   1,380.00\n",
       "max    149,395.00   1,724.83   1,499.00"
      ]
     },
     "execution_count": 19,
     "metadata": {},
     "output_type": "execute_result"
    }
   ],
   "source": [
    "data_internet.describe()"
   ]
  },
  {
   "cell_type": "code",
   "execution_count": 20,
   "metadata": {
    "ExecuteTime": {
     "end_time": "2022-11-23T12:52:58.050161Z",
     "start_time": "2022-11-23T12:52:57.959205Z"
    }
   },
   "outputs": [
    {
     "name": "stdout",
     "output_type": "stream",
     "text": [
      "<class 'pandas.core.frame.DataFrame'>\n",
      "RangeIndex: 149396 entries, 0 to 149395\n",
      "Data columns (total 5 columns):\n",
      " #   Column        Non-Null Count   Dtype  \n",
      "---  ------        --------------   -----  \n",
      " 0   Unnamed: 0    149396 non-null  int64  \n",
      " 1   id            149396 non-null  object \n",
      " 2   mb_used       149396 non-null  float64\n",
      " 3   session_date  149396 non-null  object \n",
      " 4   user_id       149396 non-null  int64  \n",
      "dtypes: float64(1), int64(2), object(2)\n",
      "memory usage: 5.7+ MB\n"
     ]
    }
   ],
   "source": [
    "data_internet.info()"
   ]
  },
  {
   "cell_type": "markdown",
   "metadata": {},
   "source": [
    "В описании к заданию указано, что все мегабайты округляются до гигабайт, в данных есть строки с нулевыми значениями - интересно кто сейчас не пользуется интернетом."
   ]
  },
  {
   "cell_type": "markdown",
   "metadata": {},
   "source": [
    "#### Изучение таблицы `tariffs`"
   ]
  },
  {
   "cell_type": "code",
   "execution_count": 21,
   "metadata": {
    "ExecuteTime": {
     "end_time": "2022-11-23T12:52:58.080949Z",
     "start_time": "2022-11-23T12:52:58.054052Z"
    }
   },
   "outputs": [
    {
     "data": {
      "text/html": [
       "<div>\n",
       "<style scoped>\n",
       "    .dataframe tbody tr th:only-of-type {\n",
       "        vertical-align: middle;\n",
       "    }\n",
       "\n",
       "    .dataframe tbody tr th {\n",
       "        vertical-align: top;\n",
       "    }\n",
       "\n",
       "    .dataframe thead th {\n",
       "        text-align: right;\n",
       "    }\n",
       "</style>\n",
       "<table border=\"1\" class=\"dataframe\">\n",
       "  <thead>\n",
       "    <tr style=\"text-align: right;\">\n",
       "      <th></th>\n",
       "      <th>messages_included</th>\n",
       "      <th>mb_per_month_included</th>\n",
       "      <th>minutes_included</th>\n",
       "      <th>rub_monthly_fee</th>\n",
       "      <th>rub_per_gb</th>\n",
       "      <th>rub_per_message</th>\n",
       "      <th>rub_per_minute</th>\n",
       "      <th>tariff_name</th>\n",
       "    </tr>\n",
       "  </thead>\n",
       "  <tbody>\n",
       "    <tr>\n",
       "      <th>0</th>\n",
       "      <td>50</td>\n",
       "      <td>15360</td>\n",
       "      <td>500</td>\n",
       "      <td>550</td>\n",
       "      <td>200</td>\n",
       "      <td>3</td>\n",
       "      <td>3</td>\n",
       "      <td>smart</td>\n",
       "    </tr>\n",
       "    <tr>\n",
       "      <th>1</th>\n",
       "      <td>1000</td>\n",
       "      <td>30720</td>\n",
       "      <td>3000</td>\n",
       "      <td>1950</td>\n",
       "      <td>150</td>\n",
       "      <td>1</td>\n",
       "      <td>1</td>\n",
       "      <td>ultra</td>\n",
       "    </tr>\n",
       "  </tbody>\n",
       "</table>\n",
       "</div>"
      ],
      "text/plain": [
       "   messages_included  mb_per_month_included  minutes_included  \\\n",
       "0                 50                  15360               500   \n",
       "1               1000                  30720              3000   \n",
       "\n",
       "   rub_monthly_fee  rub_per_gb  rub_per_message  rub_per_minute tariff_name  \n",
       "0              550         200                3               3       smart  \n",
       "1             1950         150                1               1       ultra  "
      ]
     },
     "execution_count": 21,
     "metadata": {},
     "output_type": "execute_result"
    }
   ],
   "source": [
    "data_tariffs.head(5)"
   ]
  },
  {
   "cell_type": "code",
   "execution_count": 22,
   "metadata": {
    "ExecuteTime": {
     "end_time": "2022-11-23T12:52:58.112071Z",
     "start_time": "2022-11-23T12:52:58.086665Z"
    }
   },
   "outputs": [
    {
     "name": "stdout",
     "output_type": "stream",
     "text": [
      "<class 'pandas.core.frame.DataFrame'>\n",
      "RangeIndex: 2 entries, 0 to 1\n",
      "Data columns (total 8 columns):\n",
      " #   Column                 Non-Null Count  Dtype \n",
      "---  ------                 --------------  ----- \n",
      " 0   messages_included      2 non-null      int64 \n",
      " 1   mb_per_month_included  2 non-null      int64 \n",
      " 2   minutes_included       2 non-null      int64 \n",
      " 3   rub_monthly_fee        2 non-null      int64 \n",
      " 4   rub_per_gb             2 non-null      int64 \n",
      " 5   rub_per_message        2 non-null      int64 \n",
      " 6   rub_per_minute         2 non-null      int64 \n",
      " 7   tariff_name            2 non-null      object\n",
      "dtypes: int64(7), object(1)\n",
      "memory usage: 256.0+ bytes\n"
     ]
    }
   ],
   "source": [
    "data_tariffs.info()"
   ]
  },
  {
   "cell_type": "markdown",
   "metadata": {},
   "source": [
    "**Вывод**\n",
    "\n",
    "Данные выглядят корректными на вход, есть отдельные столбцы, в которых нужно поменять тип данных, округлить значения к большему числу (минут и гигабайты)"
   ]
  },
  {
   "cell_type": "markdown",
   "metadata": {},
   "source": [
    "[Оглавление](#section_id)\n",
    "\n",
    "## Предобработка данных\n",
    "<a id='section_id2'></a>\n",
    "\n",
    "### Изменение типов данных и исправление ошибок "
   ]
  },
  {
   "cell_type": "code",
   "execution_count": 23,
   "metadata": {
    "ExecuteTime": {
     "end_time": "2022-11-23T12:52:58.283840Z",
     "start_time": "2022-11-23T12:52:58.115942Z"
    }
   },
   "outputs": [
    {
     "data": {
      "text/html": [
       "<div>\n",
       "<style scoped>\n",
       "    .dataframe tbody tr th:only-of-type {\n",
       "        vertical-align: middle;\n",
       "    }\n",
       "\n",
       "    .dataframe tbody tr th {\n",
       "        vertical-align: top;\n",
       "    }\n",
       "\n",
       "    .dataframe thead th {\n",
       "        text-align: right;\n",
       "    }\n",
       "</style>\n",
       "<table border=\"1\" class=\"dataframe\">\n",
       "  <thead>\n",
       "    <tr style=\"text-align: right;\">\n",
       "      <th></th>\n",
       "      <th>user_id</th>\n",
       "      <th>age</th>\n",
       "      <th>churn_date</th>\n",
       "      <th>city</th>\n",
       "      <th>first_name</th>\n",
       "      <th>last_name</th>\n",
       "      <th>reg_date</th>\n",
       "      <th>tariff</th>\n",
       "    </tr>\n",
       "  </thead>\n",
       "  <tbody>\n",
       "    <tr>\n",
       "      <th>0</th>\n",
       "      <td>1000</td>\n",
       "      <td>52</td>\n",
       "      <td>NaT</td>\n",
       "      <td>Краснодар</td>\n",
       "      <td>Рафаил</td>\n",
       "      <td>Верещагин</td>\n",
       "      <td>2018-05-25</td>\n",
       "      <td>ultra</td>\n",
       "    </tr>\n",
       "    <tr>\n",
       "      <th>1</th>\n",
       "      <td>1001</td>\n",
       "      <td>41</td>\n",
       "      <td>NaT</td>\n",
       "      <td>Москва</td>\n",
       "      <td>Иван</td>\n",
       "      <td>Ежов</td>\n",
       "      <td>2018-11-01</td>\n",
       "      <td>smart</td>\n",
       "    </tr>\n",
       "    <tr>\n",
       "      <th>2</th>\n",
       "      <td>1002</td>\n",
       "      <td>59</td>\n",
       "      <td>NaT</td>\n",
       "      <td>Стерлитамак</td>\n",
       "      <td>Евгений</td>\n",
       "      <td>Абрамович</td>\n",
       "      <td>2018-06-17</td>\n",
       "      <td>smart</td>\n",
       "    </tr>\n",
       "    <tr>\n",
       "      <th>3</th>\n",
       "      <td>1003</td>\n",
       "      <td>23</td>\n",
       "      <td>NaT</td>\n",
       "      <td>Москва</td>\n",
       "      <td>Белла</td>\n",
       "      <td>Белякова</td>\n",
       "      <td>2018-08-17</td>\n",
       "      <td>ultra</td>\n",
       "    </tr>\n",
       "    <tr>\n",
       "      <th>4</th>\n",
       "      <td>1004</td>\n",
       "      <td>68</td>\n",
       "      <td>NaT</td>\n",
       "      <td>Новокузнецк</td>\n",
       "      <td>Татьяна</td>\n",
       "      <td>Авдеенко</td>\n",
       "      <td>2018-05-14</td>\n",
       "      <td>ultra</td>\n",
       "    </tr>\n",
       "  </tbody>\n",
       "</table>\n",
       "</div>"
      ],
      "text/plain": [
       "   user_id  age churn_date         city first_name  last_name   reg_date  \\\n",
       "0     1000   52        NaT    Краснодар     Рафаил  Верещагин 2018-05-25   \n",
       "1     1001   41        NaT       Москва       Иван       Ежов 2018-11-01   \n",
       "2     1002   59        NaT  Стерлитамак    Евгений  Абрамович 2018-06-17   \n",
       "3     1003   23        NaT       Москва      Белла   Белякова 2018-08-17   \n",
       "4     1004   68        NaT  Новокузнецк    Татьяна   Авдеенко 2018-05-14   \n",
       "\n",
       "  tariff  \n",
       "0  ultra  \n",
       "1  smart  \n",
       "2  smart  \n",
       "3  ultra  \n",
       "4  ultra  "
      ]
     },
     "execution_count": 23,
     "metadata": {},
     "output_type": "execute_result"
    }
   ],
   "source": [
    "# Изменение типа данных в колонке дата reg_date и churn_date\n",
    "data_users['reg_date'] = pd.to_datetime(data_users['reg_date'], format='%Y-%m-%d')\n",
    "data_users['churn_date'] = pd.to_datetime(data_users['churn_date'], format='%Y-%m-%d')\n",
    "\n",
    "data_users.head(5)"
   ]
  },
  {
   "cell_type": "code",
   "execution_count": 24,
   "metadata": {
    "ExecuteTime": {
     "end_time": "2022-11-23T12:52:58.315276Z",
     "start_time": "2022-11-23T12:52:58.289213Z"
    }
   },
   "outputs": [
    {
     "name": "stdout",
     "output_type": "stream",
     "text": [
      "<class 'pandas.core.frame.DataFrame'>\n",
      "RangeIndex: 500 entries, 0 to 499\n",
      "Data columns (total 8 columns):\n",
      " #   Column      Non-Null Count  Dtype         \n",
      "---  ------      --------------  -----         \n",
      " 0   user_id     500 non-null    int64         \n",
      " 1   age         500 non-null    int64         \n",
      " 2   churn_date  38 non-null     datetime64[ns]\n",
      " 3   city        500 non-null    object        \n",
      " 4   first_name  500 non-null    object        \n",
      " 5   last_name   500 non-null    object        \n",
      " 6   reg_date    500 non-null    datetime64[ns]\n",
      " 7   tariff      500 non-null    object        \n",
      "dtypes: datetime64[ns](2), int64(2), object(4)\n",
      "memory usage: 31.4+ KB\n"
     ]
    }
   ],
   "source": [
    "# Проверю применение изменений в датафрейме\n",
    "data_users.info()"
   ]
  },
  {
   "cell_type": "code",
   "execution_count": 25,
   "metadata": {
    "ExecuteTime": {
     "end_time": "2022-11-23T12:52:58.441811Z",
     "start_time": "2022-11-23T12:52:58.320137Z"
    }
   },
   "outputs": [
    {
     "data": {
      "text/html": [
       "<div>\n",
       "<style scoped>\n",
       "    .dataframe tbody tr th:only-of-type {\n",
       "        vertical-align: middle;\n",
       "    }\n",
       "\n",
       "    .dataframe tbody tr th {\n",
       "        vertical-align: top;\n",
       "    }\n",
       "\n",
       "    .dataframe thead th {\n",
       "        text-align: right;\n",
       "    }\n",
       "</style>\n",
       "<table border=\"1\" class=\"dataframe\">\n",
       "  <thead>\n",
       "    <tr style=\"text-align: right;\">\n",
       "      <th></th>\n",
       "      <th>id</th>\n",
       "      <th>call_date</th>\n",
       "      <th>duration</th>\n",
       "      <th>user_id</th>\n",
       "    </tr>\n",
       "  </thead>\n",
       "  <tbody>\n",
       "    <tr>\n",
       "      <th>0</th>\n",
       "      <td>1000_0</td>\n",
       "      <td>2018-07-25</td>\n",
       "      <td>0</td>\n",
       "      <td>1000</td>\n",
       "    </tr>\n",
       "    <tr>\n",
       "      <th>1</th>\n",
       "      <td>1000_1</td>\n",
       "      <td>2018-08-17</td>\n",
       "      <td>0</td>\n",
       "      <td>1000</td>\n",
       "    </tr>\n",
       "    <tr>\n",
       "      <th>2</th>\n",
       "      <td>1000_2</td>\n",
       "      <td>2018-06-11</td>\n",
       "      <td>3</td>\n",
       "      <td>1000</td>\n",
       "    </tr>\n",
       "    <tr>\n",
       "      <th>3</th>\n",
       "      <td>1000_3</td>\n",
       "      <td>2018-09-21</td>\n",
       "      <td>14</td>\n",
       "      <td>1000</td>\n",
       "    </tr>\n",
       "    <tr>\n",
       "      <th>4</th>\n",
       "      <td>1000_4</td>\n",
       "      <td>2018-12-15</td>\n",
       "      <td>6</td>\n",
       "      <td>1000</td>\n",
       "    </tr>\n",
       "  </tbody>\n",
       "</table>\n",
       "</div>"
      ],
      "text/plain": [
       "       id  call_date  duration  user_id\n",
       "0  1000_0 2018-07-25         0     1000\n",
       "1  1000_1 2018-08-17         0     1000\n",
       "2  1000_2 2018-06-11         3     1000\n",
       "3  1000_3 2018-09-21        14     1000\n",
       "4  1000_4 2018-12-15         6     1000"
      ]
     },
     "execution_count": 25,
     "metadata": {},
     "output_type": "execute_result"
    }
   ],
   "source": [
    "# Изменение типа данных в колонке дата звонка\n",
    "data_calls['call_date'] = pd.to_datetime(data_calls['call_date'], format='%Y-%m-%d')\n",
    "# Округлю звонки до минуты методом ceil, так как по условию оператир округляет секунды до минут \n",
    "data_calls['duration'] = np.ceil(data_calls['duration']).astype('int')\n",
    "\n",
    "#Выведу первые 5 строк для проверки изменений:\n",
    "data_calls.head(5)"
   ]
  },
  {
   "cell_type": "code",
   "execution_count": 26,
   "metadata": {
    "ExecuteTime": {
     "end_time": "2022-11-23T12:52:58.551520Z",
     "start_time": "2022-11-23T12:52:58.448792Z"
    }
   },
   "outputs": [
    {
     "name": "stdout",
     "output_type": "stream",
     "text": [
      "<class 'pandas.core.frame.DataFrame'>\n",
      "RangeIndex: 202607 entries, 0 to 202606\n",
      "Data columns (total 4 columns):\n",
      " #   Column     Non-Null Count   Dtype         \n",
      "---  ------     --------------   -----         \n",
      " 0   id         202607 non-null  object        \n",
      " 1   call_date  202607 non-null  datetime64[ns]\n",
      " 2   duration   202607 non-null  int32         \n",
      " 3   user_id    202607 non-null  int64         \n",
      "dtypes: datetime64[ns](1), int32(1), int64(1), object(1)\n",
      "memory usage: 5.4+ MB\n"
     ]
    }
   ],
   "source": [
    "# Проверю применение изменений в датафрейме\n",
    "data_calls.info()"
   ]
  },
  {
   "cell_type": "code",
   "execution_count": 27,
   "metadata": {
    "ExecuteTime": {
     "end_time": "2022-11-23T12:52:58.615350Z",
     "start_time": "2022-11-23T12:52:58.556505Z"
    }
   },
   "outputs": [
    {
     "data": {
      "text/html": [
       "<div>\n",
       "<style scoped>\n",
       "    .dataframe tbody tr th:only-of-type {\n",
       "        vertical-align: middle;\n",
       "    }\n",
       "\n",
       "    .dataframe tbody tr th {\n",
       "        vertical-align: top;\n",
       "    }\n",
       "\n",
       "    .dataframe thead th {\n",
       "        text-align: right;\n",
       "    }\n",
       "</style>\n",
       "<table border=\"1\" class=\"dataframe\">\n",
       "  <thead>\n",
       "    <tr style=\"text-align: right;\">\n",
       "      <th></th>\n",
       "      <th>id</th>\n",
       "      <th>message_date</th>\n",
       "      <th>user_id</th>\n",
       "    </tr>\n",
       "  </thead>\n",
       "  <tbody>\n",
       "    <tr>\n",
       "      <th>0</th>\n",
       "      <td>1000_0</td>\n",
       "      <td>2018-06-27</td>\n",
       "      <td>1000</td>\n",
       "    </tr>\n",
       "    <tr>\n",
       "      <th>1</th>\n",
       "      <td>1000_1</td>\n",
       "      <td>2018-10-08</td>\n",
       "      <td>1000</td>\n",
       "    </tr>\n",
       "    <tr>\n",
       "      <th>2</th>\n",
       "      <td>1000_2</td>\n",
       "      <td>2018-08-04</td>\n",
       "      <td>1000</td>\n",
       "    </tr>\n",
       "    <tr>\n",
       "      <th>3</th>\n",
       "      <td>1000_3</td>\n",
       "      <td>2018-06-16</td>\n",
       "      <td>1000</td>\n",
       "    </tr>\n",
       "    <tr>\n",
       "      <th>4</th>\n",
       "      <td>1000_4</td>\n",
       "      <td>2018-12-05</td>\n",
       "      <td>1000</td>\n",
       "    </tr>\n",
       "  </tbody>\n",
       "</table>\n",
       "</div>"
      ],
      "text/plain": [
       "       id message_date  user_id\n",
       "0  1000_0   2018-06-27     1000\n",
       "1  1000_1   2018-10-08     1000\n",
       "2  1000_2   2018-08-04     1000\n",
       "3  1000_3   2018-06-16     1000\n",
       "4  1000_4   2018-12-05     1000"
      ]
     },
     "execution_count": 27,
     "metadata": {},
     "output_type": "execute_result"
    }
   ],
   "source": [
    "# Изменение типа данных в колонке дата сообщения\n",
    "data_messages['message_date'] = pd.to_datetime(data_messages['message_date'], format='%Y-%m-%d')\n",
    "\n",
    "#Выведу первые 5 строк для проверки изменений:\n",
    "data_messages.head(5)"
   ]
  },
  {
   "cell_type": "code",
   "execution_count": 28,
   "metadata": {
    "ExecuteTime": {
     "end_time": "2022-11-23T12:52:58.679177Z",
     "start_time": "2022-11-23T12:52:58.620466Z"
    }
   },
   "outputs": [
    {
     "name": "stdout",
     "output_type": "stream",
     "text": [
      "<class 'pandas.core.frame.DataFrame'>\n",
      "RangeIndex: 123036 entries, 0 to 123035\n",
      "Data columns (total 3 columns):\n",
      " #   Column        Non-Null Count   Dtype         \n",
      "---  ------        --------------   -----         \n",
      " 0   id            123036 non-null  object        \n",
      " 1   message_date  123036 non-null  datetime64[ns]\n",
      " 2   user_id       123036 non-null  int64         \n",
      "dtypes: datetime64[ns](1), int64(1), object(1)\n",
      "memory usage: 2.8+ MB\n"
     ]
    }
   ],
   "source": [
    "# Проверю применение изменений в датафрейме\n",
    "data_messages.info()"
   ]
  },
  {
   "cell_type": "code",
   "execution_count": 29,
   "metadata": {
    "ExecuteTime": {
     "end_time": "2022-11-23T12:52:58.758153Z",
     "start_time": "2022-11-23T12:52:58.690146Z"
    }
   },
   "outputs": [
    {
     "data": {
      "text/html": [
       "<div>\n",
       "<style scoped>\n",
       "    .dataframe tbody tr th:only-of-type {\n",
       "        vertical-align: middle;\n",
       "    }\n",
       "\n",
       "    .dataframe tbody tr th {\n",
       "        vertical-align: top;\n",
       "    }\n",
       "\n",
       "    .dataframe thead th {\n",
       "        text-align: right;\n",
       "    }\n",
       "</style>\n",
       "<table border=\"1\" class=\"dataframe\">\n",
       "  <thead>\n",
       "    <tr style=\"text-align: right;\">\n",
       "      <th></th>\n",
       "      <th>Unnamed: 0</th>\n",
       "      <th>id</th>\n",
       "      <th>mb_used</th>\n",
       "      <th>session_date</th>\n",
       "      <th>user_id</th>\n",
       "    </tr>\n",
       "  </thead>\n",
       "  <tbody>\n",
       "    <tr>\n",
       "      <th>0</th>\n",
       "      <td>0</td>\n",
       "      <td>1000_0</td>\n",
       "      <td>112.95</td>\n",
       "      <td>2018-11-25</td>\n",
       "      <td>1000</td>\n",
       "    </tr>\n",
       "    <tr>\n",
       "      <th>1</th>\n",
       "      <td>1</td>\n",
       "      <td>1000_1</td>\n",
       "      <td>1,052.81</td>\n",
       "      <td>2018-09-07</td>\n",
       "      <td>1000</td>\n",
       "    </tr>\n",
       "    <tr>\n",
       "      <th>2</th>\n",
       "      <td>2</td>\n",
       "      <td>1000_2</td>\n",
       "      <td>1,197.26</td>\n",
       "      <td>2018-06-25</td>\n",
       "      <td>1000</td>\n",
       "    </tr>\n",
       "    <tr>\n",
       "      <th>3</th>\n",
       "      <td>3</td>\n",
       "      <td>1000_3</td>\n",
       "      <td>550.27</td>\n",
       "      <td>2018-08-22</td>\n",
       "      <td>1000</td>\n",
       "    </tr>\n",
       "    <tr>\n",
       "      <th>4</th>\n",
       "      <td>4</td>\n",
       "      <td>1000_4</td>\n",
       "      <td>302.56</td>\n",
       "      <td>2018-09-24</td>\n",
       "      <td>1000</td>\n",
       "    </tr>\n",
       "  </tbody>\n",
       "</table>\n",
       "</div>"
      ],
      "text/plain": [
       "   Unnamed: 0      id  mb_used session_date  user_id\n",
       "0           0  1000_0   112.95   2018-11-25     1000\n",
       "1           1  1000_1 1,052.81   2018-09-07     1000\n",
       "2           2  1000_2 1,197.26   2018-06-25     1000\n",
       "3           3  1000_3   550.27   2018-08-22     1000\n",
       "4           4  1000_4   302.56   2018-09-24     1000"
      ]
     },
     "execution_count": 29,
     "metadata": {},
     "output_type": "execute_result"
    }
   ],
   "source": [
    "# Изменение типа данных в колонке дата сессии\n",
    "data_internet['session_date'] = pd.to_datetime(data_internet['session_date'], format='%Y-%m-%d')\n",
    "\n",
    "#Выведу первые 5 строк для проверки изменений:\n",
    "data_internet.head(5)"
   ]
  },
  {
   "cell_type": "code",
   "execution_count": 30,
   "metadata": {
    "ExecuteTime": {
     "end_time": "2022-11-23T12:52:58.836863Z",
     "start_time": "2022-11-23T12:52:58.763353Z"
    }
   },
   "outputs": [
    {
     "name": "stdout",
     "output_type": "stream",
     "text": [
      "<class 'pandas.core.frame.DataFrame'>\n",
      "RangeIndex: 149396 entries, 0 to 149395\n",
      "Data columns (total 5 columns):\n",
      " #   Column        Non-Null Count   Dtype         \n",
      "---  ------        --------------   -----         \n",
      " 0   Unnamed: 0    149396 non-null  int64         \n",
      " 1   id            149396 non-null  object        \n",
      " 2   mb_used       149396 non-null  float64       \n",
      " 3   session_date  149396 non-null  datetime64[ns]\n",
      " 4   user_id       149396 non-null  int64         \n",
      "dtypes: datetime64[ns](1), float64(1), int64(2), object(1)\n",
      "memory usage: 5.7+ MB\n"
     ]
    }
   ],
   "source": [
    "# Проверю применение изменений в датафрейме\n",
    "data_internet.info()"
   ]
  },
  {
   "cell_type": "code",
   "execution_count": 31,
   "metadata": {
    "ExecuteTime": {
     "end_time": "2022-11-23T12:52:58.899152Z",
     "start_time": "2022-11-23T12:52:58.840778Z"
    }
   },
   "outputs": [
    {
     "data": {
      "text/html": [
       "<div>\n",
       "<style scoped>\n",
       "    .dataframe tbody tr th:only-of-type {\n",
       "        vertical-align: middle;\n",
       "    }\n",
       "\n",
       "    .dataframe tbody tr th {\n",
       "        vertical-align: top;\n",
       "    }\n",
       "\n",
       "    .dataframe thead th {\n",
       "        text-align: right;\n",
       "    }\n",
       "</style>\n",
       "<table border=\"1\" class=\"dataframe\">\n",
       "  <thead>\n",
       "    <tr style=\"text-align: right;\">\n",
       "      <th></th>\n",
       "      <th>Unnamed: 0</th>\n",
       "      <th>mb_used</th>\n",
       "      <th>user_id</th>\n",
       "    </tr>\n",
       "  </thead>\n",
       "  <tbody>\n",
       "    <tr>\n",
       "      <th>count</th>\n",
       "      <td>149,396.00</td>\n",
       "      <td>149,396.00</td>\n",
       "      <td>149,396.00</td>\n",
       "    </tr>\n",
       "    <tr>\n",
       "      <th>mean</th>\n",
       "      <td>74,697.50</td>\n",
       "      <td>370.19</td>\n",
       "      <td>1,252.10</td>\n",
       "    </tr>\n",
       "    <tr>\n",
       "      <th>std</th>\n",
       "      <td>43,127.05</td>\n",
       "      <td>278.30</td>\n",
       "      <td>144.05</td>\n",
       "    </tr>\n",
       "    <tr>\n",
       "      <th>min</th>\n",
       "      <td>0.00</td>\n",
       "      <td>0.00</td>\n",
       "      <td>1,000.00</td>\n",
       "    </tr>\n",
       "    <tr>\n",
       "      <th>25%</th>\n",
       "      <td>37,348.75</td>\n",
       "      <td>138.19</td>\n",
       "      <td>1,130.00</td>\n",
       "    </tr>\n",
       "    <tr>\n",
       "      <th>50%</th>\n",
       "      <td>74,697.50</td>\n",
       "      <td>348.01</td>\n",
       "      <td>1,251.00</td>\n",
       "    </tr>\n",
       "    <tr>\n",
       "      <th>75%</th>\n",
       "      <td>112,046.25</td>\n",
       "      <td>559.55</td>\n",
       "      <td>1,380.00</td>\n",
       "    </tr>\n",
       "    <tr>\n",
       "      <th>max</th>\n",
       "      <td>149,395.00</td>\n",
       "      <td>1,724.83</td>\n",
       "      <td>1,499.00</td>\n",
       "    </tr>\n",
       "  </tbody>\n",
       "</table>\n",
       "</div>"
      ],
      "text/plain": [
       "       Unnamed: 0    mb_used    user_id\n",
       "count  149,396.00 149,396.00 149,396.00\n",
       "mean    74,697.50     370.19   1,252.10\n",
       "std     43,127.05     278.30     144.05\n",
       "min          0.00       0.00   1,000.00\n",
       "25%     37,348.75     138.19   1,130.00\n",
       "50%     74,697.50     348.01   1,251.00\n",
       "75%    112,046.25     559.55   1,380.00\n",
       "max    149,395.00   1,724.83   1,499.00"
      ]
     },
     "execution_count": 31,
     "metadata": {},
     "output_type": "execute_result"
    }
   ],
   "source": [
    "data_internet.describe()"
   ]
  },
  {
   "cell_type": "code",
   "execution_count": 32,
   "metadata": {
    "ExecuteTime": {
     "end_time": "2022-11-23T12:52:58.979969Z",
     "start_time": "2022-11-23T12:52:58.910794Z"
    }
   },
   "outputs": [
    {
     "data": {
      "text/html": [
       "<div>\n",
       "<style scoped>\n",
       "    .dataframe tbody tr th:only-of-type {\n",
       "        vertical-align: middle;\n",
       "    }\n",
       "\n",
       "    .dataframe tbody tr th {\n",
       "        vertical-align: top;\n",
       "    }\n",
       "\n",
       "    .dataframe thead th {\n",
       "        text-align: right;\n",
       "    }\n",
       "</style>\n",
       "<table border=\"1\" class=\"dataframe\">\n",
       "  <thead>\n",
       "    <tr style=\"text-align: right;\">\n",
       "      <th></th>\n",
       "      <th>messages_included</th>\n",
       "      <th>mb_per_month_included</th>\n",
       "      <th>minutes_included</th>\n",
       "      <th>rub_monthly_fee</th>\n",
       "      <th>rub_per_gb</th>\n",
       "      <th>rub_per_message</th>\n",
       "      <th>rub_per_minute</th>\n",
       "      <th>tariff_name</th>\n",
       "      <th>gb_per_month_included</th>\n",
       "    </tr>\n",
       "  </thead>\n",
       "  <tbody>\n",
       "    <tr>\n",
       "      <th>0</th>\n",
       "      <td>50</td>\n",
       "      <td>15360</td>\n",
       "      <td>500</td>\n",
       "      <td>550</td>\n",
       "      <td>200</td>\n",
       "      <td>3</td>\n",
       "      <td>3</td>\n",
       "      <td>smart</td>\n",
       "      <td>15</td>\n",
       "    </tr>\n",
       "    <tr>\n",
       "      <th>1</th>\n",
       "      <td>1000</td>\n",
       "      <td>30720</td>\n",
       "      <td>3000</td>\n",
       "      <td>1950</td>\n",
       "      <td>150</td>\n",
       "      <td>1</td>\n",
       "      <td>1</td>\n",
       "      <td>ultra</td>\n",
       "      <td>30</td>\n",
       "    </tr>\n",
       "  </tbody>\n",
       "</table>\n",
       "</div>"
      ],
      "text/plain": [
       "   messages_included  mb_per_month_included  minutes_included  \\\n",
       "0                 50                  15360               500   \n",
       "1               1000                  30720              3000   \n",
       "\n",
       "   rub_monthly_fee  rub_per_gb  rub_per_message  rub_per_minute tariff_name  \\\n",
       "0              550         200                3               3       smart   \n",
       "1             1950         150                1               1       ultra   \n",
       "\n",
       "   gb_per_month_included  \n",
       "0                     15  \n",
       "1                     30  "
      ]
     },
     "execution_count": 32,
     "metadata": {},
     "output_type": "execute_result"
    }
   ],
   "source": [
    "# Добавлю в датафрейм с описанием тарифов колонку с переводом лимит мегабайт в гигабайты:\n",
    "data_tariffs['gb_per_month_included'] = data_tariffs['mb_per_month_included'] / 1024\n",
    "data_tariffs['gb_per_month_included'] = data_tariffs['gb_per_month_included'].astype('int')\n",
    "\n",
    "# Проверю полученный резульат:\n",
    "data_tariffs"
   ]
  },
  {
   "cell_type": "markdown",
   "metadata": {},
   "source": [
    "### Дополнительные расчёты:\n",
    "1. количество сделанных звонков и израсходованных минут разговора по месяцам;\n",
    "2. количество отправленных сообщений по месяцам;\n",
    "3. объем израсходованного интернет-трафика по месяцам;\n",
    "4. помесячную выручку с каждого пользователя (вычтите бесплатный лимит из суммарного количества звонков, сообщений и интернет-трафика; остаток умножьте на значение из тарифного плана; прибавьте абонентскую плату, соответствующую тарифному плану)."
   ]
  },
  {
   "cell_type": "markdown",
   "metadata": {},
   "source": [
    "#### Количество звонков и израсходованные минуты по месяцам"
   ]
  },
  {
   "cell_type": "code",
   "execution_count": 33,
   "metadata": {
    "ExecuteTime": {
     "end_time": "2022-11-23T12:52:59.151186Z",
     "start_time": "2022-11-23T12:52:58.983583Z"
    }
   },
   "outputs": [
    {
     "data": {
      "text/html": [
       "<div>\n",
       "<style scoped>\n",
       "    .dataframe tbody tr th:only-of-type {\n",
       "        vertical-align: middle;\n",
       "    }\n",
       "\n",
       "    .dataframe tbody tr th {\n",
       "        vertical-align: top;\n",
       "    }\n",
       "\n",
       "    .dataframe thead th {\n",
       "        text-align: right;\n",
       "    }\n",
       "</style>\n",
       "<table border=\"1\" class=\"dataframe\">\n",
       "  <thead>\n",
       "    <tr style=\"text-align: right;\">\n",
       "      <th></th>\n",
       "      <th>user_id</th>\n",
       "      <th>month</th>\n",
       "      <th>duration</th>\n",
       "      <th>calls_count</th>\n",
       "    </tr>\n",
       "  </thead>\n",
       "  <tbody>\n",
       "    <tr>\n",
       "      <th>0</th>\n",
       "      <td>1000</td>\n",
       "      <td>5</td>\n",
       "      <td>159</td>\n",
       "      <td>17</td>\n",
       "    </tr>\n",
       "    <tr>\n",
       "      <th>1</th>\n",
       "      <td>1000</td>\n",
       "      <td>6</td>\n",
       "      <td>172</td>\n",
       "      <td>28</td>\n",
       "    </tr>\n",
       "    <tr>\n",
       "      <th>2</th>\n",
       "      <td>1000</td>\n",
       "      <td>7</td>\n",
       "      <td>340</td>\n",
       "      <td>41</td>\n",
       "    </tr>\n",
       "    <tr>\n",
       "      <th>3</th>\n",
       "      <td>1000</td>\n",
       "      <td>8</td>\n",
       "      <td>408</td>\n",
       "      <td>42</td>\n",
       "    </tr>\n",
       "    <tr>\n",
       "      <th>4</th>\n",
       "      <td>1000</td>\n",
       "      <td>9</td>\n",
       "      <td>466</td>\n",
       "      <td>46</td>\n",
       "    </tr>\n",
       "  </tbody>\n",
       "</table>\n",
       "</div>"
      ],
      "text/plain": [
       "   user_id  month  duration  calls_count\n",
       "0     1000      5       159           17\n",
       "1     1000      6       172           28\n",
       "2     1000      7       340           41\n",
       "3     1000      8       408           42\n",
       "4     1000      9       466           46"
      ]
     },
     "execution_count": 33,
     "metadata": {},
     "output_type": "execute_result"
    }
   ],
   "source": [
    "# Добавлю колонку с месяцем:\n",
    "data_calls['month'] = pd.DatetimeIndex(data_calls['call_date']).month\n",
    "\n",
    "#Добавлю в таблицу счётчик звонков для позиций с ненулевой продолжительностью\n",
    "data_calls['calls_count'] = 1\n",
    "data_calls.loc[(data_calls['duration'] ==0), 'calls_count'] = 0\n",
    "\n",
    "# Агрегирую датафрейм по клиентам, месяцу и посчитаю длительность звоков и их количество:\n",
    "data_calls_grouped = data_calls.groupby(['user_id', 'month']).agg({'duration':'sum', 'calls_count':'sum'}).reset_index()\n",
    "\n",
    "# Выведу полученные данные:\n",
    "data_calls_grouped.head(5)"
   ]
  },
  {
   "cell_type": "markdown",
   "metadata": {},
   "source": [
    "#### Количество отправленных сообщений по месяцам"
   ]
  },
  {
   "cell_type": "code",
   "execution_count": 34,
   "metadata": {
    "ExecuteTime": {
     "end_time": "2022-11-23T12:52:59.245976Z",
     "start_time": "2022-11-23T12:52:59.155175Z"
    }
   },
   "outputs": [
    {
     "data": {
      "text/html": [
       "<div>\n",
       "<style scoped>\n",
       "    .dataframe tbody tr th:only-of-type {\n",
       "        vertical-align: middle;\n",
       "    }\n",
       "\n",
       "    .dataframe tbody tr th {\n",
       "        vertical-align: top;\n",
       "    }\n",
       "\n",
       "    .dataframe thead th {\n",
       "        text-align: right;\n",
       "    }\n",
       "</style>\n",
       "<table border=\"1\" class=\"dataframe\">\n",
       "  <thead>\n",
       "    <tr style=\"text-align: right;\">\n",
       "      <th></th>\n",
       "      <th>user_id</th>\n",
       "      <th>month</th>\n",
       "      <th>message_count</th>\n",
       "    </tr>\n",
       "  </thead>\n",
       "  <tbody>\n",
       "    <tr>\n",
       "      <th>0</th>\n",
       "      <td>1000</td>\n",
       "      <td>5</td>\n",
       "      <td>22</td>\n",
       "    </tr>\n",
       "    <tr>\n",
       "      <th>1</th>\n",
       "      <td>1000</td>\n",
       "      <td>6</td>\n",
       "      <td>60</td>\n",
       "    </tr>\n",
       "    <tr>\n",
       "      <th>2</th>\n",
       "      <td>1000</td>\n",
       "      <td>7</td>\n",
       "      <td>75</td>\n",
       "    </tr>\n",
       "    <tr>\n",
       "      <th>3</th>\n",
       "      <td>1000</td>\n",
       "      <td>8</td>\n",
       "      <td>81</td>\n",
       "    </tr>\n",
       "    <tr>\n",
       "      <th>4</th>\n",
       "      <td>1000</td>\n",
       "      <td>9</td>\n",
       "      <td>57</td>\n",
       "    </tr>\n",
       "  </tbody>\n",
       "</table>\n",
       "</div>"
      ],
      "text/plain": [
       "   user_id  month  message_count\n",
       "0     1000      5             22\n",
       "1     1000      6             60\n",
       "2     1000      7             75\n",
       "3     1000      8             81\n",
       "4     1000      9             57"
      ]
     },
     "execution_count": 34,
     "metadata": {},
     "output_type": "execute_result"
    }
   ],
   "source": [
    "# Добавлю колонку с месяцем:\n",
    "data_messages['month'] = pd.DatetimeIndex(data_messages['message_date']).month\n",
    "\n",
    "# Агрегирую датафрейм по клиентам, месяцу и посчитаю количество сообщений:\n",
    "data_messages_grouped = data_messages.groupby(['user_id', 'month'])\\\n",
    "                                    .agg({'id':'count'}).reset_index()\\\n",
    "                                    .rename(columns={'id':'message_count'})\n",
    "data_messages_grouped.head(5)"
   ]
  },
  {
   "cell_type": "markdown",
   "metadata": {},
   "source": [
    "#### Объем израсходованного интернет-трафика по месяцам"
   ]
  },
  {
   "cell_type": "code",
   "execution_count": 35,
   "metadata": {
    "ExecuteTime": {
     "end_time": "2022-11-23T12:52:59.340724Z",
     "start_time": "2022-11-23T12:52:59.251976Z"
    }
   },
   "outputs": [
    {
     "data": {
      "text/html": [
       "<div>\n",
       "<style scoped>\n",
       "    .dataframe tbody tr th:only-of-type {\n",
       "        vertical-align: middle;\n",
       "    }\n",
       "\n",
       "    .dataframe tbody tr th {\n",
       "        vertical-align: top;\n",
       "    }\n",
       "\n",
       "    .dataframe thead th {\n",
       "        text-align: right;\n",
       "    }\n",
       "</style>\n",
       "<table border=\"1\" class=\"dataframe\">\n",
       "  <thead>\n",
       "    <tr style=\"text-align: right;\">\n",
       "      <th></th>\n",
       "      <th>user_id</th>\n",
       "      <th>month</th>\n",
       "      <th>mb_used</th>\n",
       "      <th>gb_used</th>\n",
       "    </tr>\n",
       "  </thead>\n",
       "  <tbody>\n",
       "    <tr>\n",
       "      <th>0</th>\n",
       "      <td>1000</td>\n",
       "      <td>5</td>\n",
       "      <td>2,253.49</td>\n",
       "      <td>3</td>\n",
       "    </tr>\n",
       "    <tr>\n",
       "      <th>1</th>\n",
       "      <td>1000</td>\n",
       "      <td>6</td>\n",
       "      <td>23,233.77</td>\n",
       "      <td>23</td>\n",
       "    </tr>\n",
       "    <tr>\n",
       "      <th>2</th>\n",
       "      <td>1000</td>\n",
       "      <td>7</td>\n",
       "      <td>14,003.64</td>\n",
       "      <td>14</td>\n",
       "    </tr>\n",
       "    <tr>\n",
       "      <th>3</th>\n",
       "      <td>1000</td>\n",
       "      <td>8</td>\n",
       "      <td>14,055.93</td>\n",
       "      <td>14</td>\n",
       "    </tr>\n",
       "  </tbody>\n",
       "</table>\n",
       "</div>"
      ],
      "text/plain": [
       "   user_id  month   mb_used  gb_used\n",
       "0     1000      5  2,253.49        3\n",
       "1     1000      6 23,233.77       23\n",
       "2     1000      7 14,003.64       14\n",
       "3     1000      8 14,055.93       14"
      ]
     },
     "execution_count": 35,
     "metadata": {},
     "output_type": "execute_result"
    }
   ],
   "source": [
    "# Добавлю колонку с месяцем:\n",
    "data_internet['month'] = pd.DatetimeIndex(data_internet['session_date']).month\n",
    "\n",
    "# Агрегирую датафрейм по клиентам, месяцу и посчитаю количество сообщений:\n",
    "data_internet_grouped = data_internet.groupby(['user_id', 'month'])\\\n",
    "                                    .agg({'mb_used':'sum'}).reset_index()\n",
    "\n",
    "data_internet_grouped['gb_used'] = data_internet_grouped['mb_used'] / 1024 \n",
    "data_internet_grouped['gb_used'] = data_internet_grouped['gb_used'].apply(np.ceil).astype('int')\n",
    "data_internet_grouped.head(4)"
   ]
  },
  {
   "cell_type": "markdown",
   "metadata": {},
   "source": [
    "#### Помесячная выручка с каждого пользователя \n",
    "\n",
    "Для расчёта необходимо: \n",
    "1. вычесть бесплатный лимит из суммарного количества звонков, сообщений и интернет-трафика\n",
    "2. остаток умножить на значение из тарифного плана\n",
    "3. прибавить абонентскую плату, соответствующую тарифному плану."
   ]
  },
  {
   "cell_type": "code",
   "execution_count": 36,
   "metadata": {
    "ExecuteTime": {
     "end_time": "2022-11-23T12:52:59.530217Z",
     "start_time": "2022-11-23T12:52:59.345709Z"
    }
   },
   "outputs": [
    {
     "name": "stdout",
     "output_type": "stream",
     "text": [
      "<class 'pandas.core.frame.DataFrame'>\n",
      "Int64Index: 3214 entries, 0 to 3213\n",
      "Data columns (total 23 columns):\n",
      " #   Column                 Non-Null Count  Dtype         \n",
      "---  ------                 --------------  -----         \n",
      " 0   user_id                3214 non-null   int64         \n",
      " 1   month                  3214 non-null   int64         \n",
      " 2   duration               3174 non-null   float64       \n",
      " 3   calls_count            3174 non-null   float64       \n",
      " 4   message_count          2717 non-null   float64       \n",
      " 5   mb_used                3203 non-null   float64       \n",
      " 6   gb_used                3203 non-null   float64       \n",
      " 7   age                    3214 non-null   int64         \n",
      " 8   churn_date             187 non-null    datetime64[ns]\n",
      " 9   city                   3214 non-null   object        \n",
      " 10  first_name             3214 non-null   object        \n",
      " 11  last_name              3214 non-null   object        \n",
      " 12  reg_date               3214 non-null   datetime64[ns]\n",
      " 13  tariff                 3214 non-null   object        \n",
      " 14  messages_included      3214 non-null   int64         \n",
      " 15  mb_per_month_included  3214 non-null   int64         \n",
      " 16  minutes_included       3214 non-null   int64         \n",
      " 17  rub_monthly_fee        3214 non-null   int64         \n",
      " 18  rub_per_gb             3214 non-null   int64         \n",
      " 19  rub_per_message        3214 non-null   int64         \n",
      " 20  rub_per_minute         3214 non-null   int64         \n",
      " 21  tariff_name            3214 non-null   object        \n",
      " 22  gb_per_month_included  3214 non-null   int32         \n",
      "dtypes: datetime64[ns](2), float64(5), int32(1), int64(10), object(5)\n",
      "memory usage: 590.1+ KB\n"
     ]
    }
   ],
   "source": [
    "# соберу все 5 датафреймов в один для удобства дальнейшей работы с одной переменной и выполнения расчётов:\n",
    "data_grouped = data_calls_grouped.merge(data_messages_grouped, on=['user_id', 'month'], how='outer')\\\n",
    "                                .merge(data_internet_grouped, on=['user_id', 'month'],  how='outer')\\\n",
    "                                .merge(data_users, on='user_id', how='left')\\\n",
    "                                .merge(data_tariffs, left_on='tariff', right_on='tariff_name', how='left')\n",
    "\n",
    "# Проверю полученный датафрейм методом info()\n",
    "data_grouped.info()"
   ]
  },
  {
   "cell_type": "markdown",
   "metadata": {},
   "source": [
    "В датафрейме появились пустые значения в колонках со звонками, сообщениями и интернет трафиком. Пустые значения возникли из-за того, что пользователь мог не пользоваться каким-то из 3 типов коммуникаций в определённый месяц или в целом. Заменю пропуски на нули."
   ]
  },
  {
   "cell_type": "code",
   "execution_count": 37,
   "metadata": {
    "ExecuteTime": {
     "end_time": "2022-11-23T12:52:59.592854Z",
     "start_time": "2022-11-23T12:52:59.535202Z"
    }
   },
   "outputs": [
    {
     "name": "stdout",
     "output_type": "stream",
     "text": [
      "<class 'pandas.core.frame.DataFrame'>\n",
      "Int64Index: 3214 entries, 0 to 3213\n",
      "Data columns (total 20 columns):\n",
      " #   Column                 Non-Null Count  Dtype         \n",
      "---  ------                 --------------  -----         \n",
      " 0   user_id                3214 non-null   int64         \n",
      " 1   month                  3214 non-null   int64         \n",
      " 2   duration               3214 non-null   int32         \n",
      " 3   calls_count            3214 non-null   int32         \n",
      " 4   message_count          3214 non-null   int32         \n",
      " 5   gb_used                3214 non-null   int32         \n",
      " 6   age                    3214 non-null   int64         \n",
      " 7   churn_date             187 non-null    datetime64[ns]\n",
      " 8   city                   3214 non-null   object        \n",
      " 9   first_name             3214 non-null   object        \n",
      " 10  last_name              3214 non-null   object        \n",
      " 11  reg_date               3214 non-null   datetime64[ns]\n",
      " 12  tariff                 3214 non-null   object        \n",
      " 13  minutes_included       3214 non-null   int64         \n",
      " 14  messages_included      3214 non-null   int64         \n",
      " 15  gb_per_month_included  3214 non-null   int32         \n",
      " 16  rub_monthly_fee        3214 non-null   int64         \n",
      " 17  rub_per_minute         3214 non-null   int64         \n",
      " 18  rub_per_message        3214 non-null   int64         \n",
      " 19  rub_per_gb             3214 non-null   int64         \n",
      "dtypes: datetime64[ns](2), int32(5), int64(9), object(4)\n",
      "memory usage: 464.5+ KB\n"
     ]
    }
   ],
   "source": [
    "# Замена пропусков на нули:\n",
    "data_grouped['duration'] = data_grouped['duration'].fillna(0).astype('int')\n",
    "data_grouped['calls_count'] = data_grouped['calls_count'].fillna(0).astype('int')\n",
    "data_grouped['message_count'] = data_grouped['message_count'].fillna(0).astype('int')\n",
    "data_grouped['gb_used'] = data_grouped['gb_used'].fillna(0).astype('int')\n",
    "\n",
    "# Переведу мегабайты из датафрейма с описанием тарифа в  \n",
    "data_grouped = data_grouped[['user_id', 'month', 'duration', 'calls_count', 'message_count', 'gb_used', \n",
    "        'age', 'churn_date', 'city', 'first_name', 'last_name', 'reg_date', 'tariff', \n",
    "        'minutes_included', 'messages_included', 'gb_per_month_included',\n",
    "        'rub_monthly_fee', 'rub_per_minute', 'rub_per_message', 'rub_per_gb']]\n",
    "\n",
    "# Проверка замен:\n",
    "data_grouped.info()"
   ]
  },
  {
   "cell_type": "code",
   "execution_count": 38,
   "metadata": {
    "ExecuteTime": {
     "end_time": "2022-11-23T12:52:59.623993Z",
     "start_time": "2022-11-23T12:52:59.597059Z"
    }
   },
   "outputs": [],
   "source": [
    "# напишу функцию для расчёте помесячной выручки:\n",
    "def revenue_above(row):\n",
    "    mins = (row['duration'] - row['minutes_included']) * row['rub_per_minute']\n",
    "    sms = (row['message_count'] - row['messages_included']) * row['rub_per_message']\n",
    "    internet = (row['gb_used'] - row['gb_per_month_included']) * row['rub_per_gb']\n",
    "    revenue = 0\n",
    "    for value in [mins, sms, internet]:\n",
    "        if value > 0:\n",
    "            revenue += value\n",
    "    return revenue"
   ]
  },
  {
   "cell_type": "code",
   "execution_count": 39,
   "metadata": {
    "ExecuteTime": {
     "end_time": "2022-11-23T12:53:00.063686Z",
     "start_time": "2022-11-23T12:52:59.627448Z"
    }
   },
   "outputs": [
    {
     "data": {
      "text/html": [
       "<div>\n",
       "<style scoped>\n",
       "    .dataframe tbody tr th:only-of-type {\n",
       "        vertical-align: middle;\n",
       "    }\n",
       "\n",
       "    .dataframe tbody tr th {\n",
       "        vertical-align: top;\n",
       "    }\n",
       "\n",
       "    .dataframe thead th {\n",
       "        text-align: right;\n",
       "    }\n",
       "</style>\n",
       "<table border=\"1\" class=\"dataframe\">\n",
       "  <thead>\n",
       "    <tr style=\"text-align: right;\">\n",
       "      <th></th>\n",
       "      <th>user_id</th>\n",
       "      <th>month</th>\n",
       "      <th>duration</th>\n",
       "      <th>calls_count</th>\n",
       "      <th>message_count</th>\n",
       "      <th>gb_used</th>\n",
       "      <th>age</th>\n",
       "      <th>churn_date</th>\n",
       "      <th>city</th>\n",
       "      <th>first_name</th>\n",
       "      <th>last_name</th>\n",
       "      <th>reg_date</th>\n",
       "      <th>tariff</th>\n",
       "      <th>minutes_included</th>\n",
       "      <th>messages_included</th>\n",
       "      <th>gb_per_month_included</th>\n",
       "      <th>rub_monthly_fee</th>\n",
       "      <th>rub_per_minute</th>\n",
       "      <th>rub_per_message</th>\n",
       "      <th>rub_per_gb</th>\n",
       "      <th>revenue_above</th>\n",
       "      <th>revenue_per_user</th>\n",
       "    </tr>\n",
       "  </thead>\n",
       "  <tbody>\n",
       "    <tr>\n",
       "      <th>0</th>\n",
       "      <td>1000</td>\n",
       "      <td>5</td>\n",
       "      <td>159</td>\n",
       "      <td>17</td>\n",
       "      <td>22</td>\n",
       "      <td>3</td>\n",
       "      <td>52</td>\n",
       "      <td>NaT</td>\n",
       "      <td>Краснодар</td>\n",
       "      <td>Рафаил</td>\n",
       "      <td>Верещагин</td>\n",
       "      <td>2018-05-25</td>\n",
       "      <td>ultra</td>\n",
       "      <td>3000</td>\n",
       "      <td>1000</td>\n",
       "      <td>30</td>\n",
       "      <td>1950</td>\n",
       "      <td>1</td>\n",
       "      <td>1</td>\n",
       "      <td>150</td>\n",
       "      <td>0</td>\n",
       "      <td>1950</td>\n",
       "    </tr>\n",
       "    <tr>\n",
       "      <th>1</th>\n",
       "      <td>1000</td>\n",
       "      <td>6</td>\n",
       "      <td>172</td>\n",
       "      <td>28</td>\n",
       "      <td>60</td>\n",
       "      <td>23</td>\n",
       "      <td>52</td>\n",
       "      <td>NaT</td>\n",
       "      <td>Краснодар</td>\n",
       "      <td>Рафаил</td>\n",
       "      <td>Верещагин</td>\n",
       "      <td>2018-05-25</td>\n",
       "      <td>ultra</td>\n",
       "      <td>3000</td>\n",
       "      <td>1000</td>\n",
       "      <td>30</td>\n",
       "      <td>1950</td>\n",
       "      <td>1</td>\n",
       "      <td>1</td>\n",
       "      <td>150</td>\n",
       "      <td>0</td>\n",
       "      <td>1950</td>\n",
       "    </tr>\n",
       "    <tr>\n",
       "      <th>2</th>\n",
       "      <td>1000</td>\n",
       "      <td>7</td>\n",
       "      <td>340</td>\n",
       "      <td>41</td>\n",
       "      <td>75</td>\n",
       "      <td>14</td>\n",
       "      <td>52</td>\n",
       "      <td>NaT</td>\n",
       "      <td>Краснодар</td>\n",
       "      <td>Рафаил</td>\n",
       "      <td>Верещагин</td>\n",
       "      <td>2018-05-25</td>\n",
       "      <td>ultra</td>\n",
       "      <td>3000</td>\n",
       "      <td>1000</td>\n",
       "      <td>30</td>\n",
       "      <td>1950</td>\n",
       "      <td>1</td>\n",
       "      <td>1</td>\n",
       "      <td>150</td>\n",
       "      <td>0</td>\n",
       "      <td>1950</td>\n",
       "    </tr>\n",
       "  </tbody>\n",
       "</table>\n",
       "</div>"
      ],
      "text/plain": [
       "   user_id  month  duration  calls_count  message_count  gb_used  age  \\\n",
       "0     1000      5       159           17             22        3   52   \n",
       "1     1000      6       172           28             60       23   52   \n",
       "2     1000      7       340           41             75       14   52   \n",
       "\n",
       "  churn_date       city first_name  last_name   reg_date tariff  \\\n",
       "0        NaT  Краснодар     Рафаил  Верещагин 2018-05-25  ultra   \n",
       "1        NaT  Краснодар     Рафаил  Верещагин 2018-05-25  ultra   \n",
       "2        NaT  Краснодар     Рафаил  Верещагин 2018-05-25  ultra   \n",
       "\n",
       "   minutes_included  messages_included  gb_per_month_included  \\\n",
       "0              3000               1000                     30   \n",
       "1              3000               1000                     30   \n",
       "2              3000               1000                     30   \n",
       "\n",
       "   rub_monthly_fee  rub_per_minute  rub_per_message  rub_per_gb  \\\n",
       "0             1950               1                1         150   \n",
       "1             1950               1                1         150   \n",
       "2             1950               1                1         150   \n",
       "\n",
       "   revenue_above  revenue_per_user  \n",
       "0              0              1950  \n",
       "1              0              1950  \n",
       "2              0              1950  "
      ]
     },
     "execution_count": 39,
     "metadata": {},
     "output_type": "execute_result"
    }
   ],
   "source": [
    "# Применю функцию к датафрейму:\n",
    "data_grouped['revenue_above'] = data_grouped.apply(lambda x: revenue_above(x), axis=1)\n",
    "# Добавлю расчёт выручки по каждому пользователю в месяц:\n",
    "data_grouped['revenue_per_user'] = data_grouped['rub_monthly_fee'] + data_grouped['revenue_above'] \n",
    "data_grouped.head(3)"
   ]
  },
  {
   "cell_type": "code",
   "execution_count": 40,
   "metadata": {
    "ExecuteTime": {
     "end_time": "2022-11-23T12:53:00.078728Z",
     "start_time": "2022-11-23T12:53:00.067674Z"
    }
   },
   "outputs": [],
   "source": [
    "# После завершения предобработки перезапишу датафрейм в новую переменную, старую сохраню в качестве бэкапа. \n",
    "data = copy.deepcopy(data_grouped)"
   ]
  },
  {
   "cell_type": "markdown",
   "metadata": {},
   "source": [
    "[Оглавление](#section_id)\n",
    "\n",
    "## Исследовательский анализ данных (EDA)\n",
    "<a id='section_id3'></a>\n",
    "\n",
    "Опишите поведение клиентов оператора, исходя из выборки:\n",
    "* сколько минут разговора, сколько сообщений и какой объём интернет-трафика требуется пользователям каждого тарифа\n",
    "в месяц? \n",
    "* посчитайте среднее количество, дисперсию и стандартное отклонение\n",
    "* постройте гистограммы. Опишите распределения"
   ]
  },
  {
   "cell_type": "code",
   "execution_count": 41,
   "metadata": {
    "ExecuteTime": {
     "end_time": "2022-11-23T12:53:00.109981Z",
     "start_time": "2022-11-23T12:53:00.081833Z"
    }
   },
   "outputs": [
    {
     "data": {
      "text/html": [
       "<div>\n",
       "<style scoped>\n",
       "    .dataframe tbody tr th:only-of-type {\n",
       "        vertical-align: middle;\n",
       "    }\n",
       "\n",
       "    .dataframe tbody tr th {\n",
       "        vertical-align: top;\n",
       "    }\n",
       "\n",
       "    .dataframe thead th {\n",
       "        text-align: right;\n",
       "    }\n",
       "</style>\n",
       "<table border=\"1\" class=\"dataframe\">\n",
       "  <thead>\n",
       "    <tr style=\"text-align: right;\">\n",
       "      <th></th>\n",
       "      <th>revenue_per_user</th>\n",
       "    </tr>\n",
       "  </thead>\n",
       "  <tbody>\n",
       "    <tr>\n",
       "      <th>count</th>\n",
       "      <td>3,214.00</td>\n",
       "    </tr>\n",
       "    <tr>\n",
       "      <th>mean</th>\n",
       "      <td>1,529.08</td>\n",
       "    </tr>\n",
       "    <tr>\n",
       "      <th>std</th>\n",
       "      <td>798.25</td>\n",
       "    </tr>\n",
       "    <tr>\n",
       "      <th>min</th>\n",
       "      <td>550.00</td>\n",
       "    </tr>\n",
       "    <tr>\n",
       "      <th>25%</th>\n",
       "      <td>750.00</td>\n",
       "    </tr>\n",
       "    <tr>\n",
       "      <th>50%</th>\n",
       "      <td>1,653.50</td>\n",
       "    </tr>\n",
       "    <tr>\n",
       "      <th>75%</th>\n",
       "      <td>1,950.00</td>\n",
       "    </tr>\n",
       "    <tr>\n",
       "      <th>max</th>\n",
       "      <td>6,770.00</td>\n",
       "    </tr>\n",
       "  </tbody>\n",
       "</table>\n",
       "</div>"
      ],
      "text/plain": [
       "       revenue_per_user\n",
       "count          3,214.00\n",
       "mean           1,529.08\n",
       "std              798.25\n",
       "min              550.00\n",
       "25%              750.00\n",
       "50%            1,653.50\n",
       "75%            1,950.00\n",
       "max            6,770.00"
      ]
     },
     "execution_count": 41,
     "metadata": {},
     "output_type": "execute_result"
    }
   ],
   "source": [
    "# Посмотрю на полученные результаты в части выручки на 1 пользователя:\n",
    "data[['revenue_per_user']].describe()"
   ]
  },
  {
   "cell_type": "markdown",
   "metadata": {},
   "source": [
    "Среднее и медианы не сильно отличаются друг от друга - 1529 и 1653 соответственно. Есть пользователи, которые хотя бы один месяц не превышали пакетный лимит пакет, а также есть пользователи в разы превышающие лимиты."
   ]
  },
  {
   "cell_type": "code",
   "execution_count": 42,
   "metadata": {
    "ExecuteTime": {
     "end_time": "2022-11-23T12:53:00.125934Z",
     "start_time": "2022-11-23T12:53:00.113965Z"
    }
   },
   "outputs": [
    {
     "data": {
      "text/plain": [
       "smart    2229\n",
       "ultra     985\n",
       "Name: tariff, dtype: int64"
      ]
     },
     "execution_count": 42,
     "metadata": {},
     "output_type": "execute_result"
    }
   ],
   "source": [
    "# Разбивка массива по тарифам:\n",
    "data['tariff'].value_counts()"
   ]
  },
  {
   "cell_type": "code",
   "execution_count": 43,
   "metadata": {
    "ExecuteTime": {
     "end_time": "2022-11-23T12:53:00.685534Z",
     "start_time": "2022-11-23T12:53:00.129009Z"
    }
   },
   "outputs": [
    {
     "data": {
      "image/png": "[encoded data removed]",
      "text/plain": [
       "<Figure size 700x700 with 1 Axes>"
      ]
     },
     "metadata": {},
     "output_type": "display_data"
    }
   ],
   "source": [
    "# Построю диаграммы размаха по выручке в разрезе тарифов:\n",
    "data.boxplot('revenue_per_user', by='tariff', figsize=(7, 7))\n",
    "plt.show()"
   ]
  },
  {
   "cell_type": "code",
   "execution_count": 44,
   "metadata": {
    "ExecuteTime": {
     "end_time": "2022-11-23T12:53:01.473931Z",
     "start_time": "2022-11-23T12:53:00.690482Z"
    }
   },
   "outputs": [
    {
     "data": {
      "image/png": "[encoded data removed]",
      "text/plain": [
       "<Figure size 640x480 with 1 Axes>"
      ]
     },
     "metadata": {},
     "output_type": "display_data"
    }
   ],
   "source": [
    "# Построю гистограммы и сравню графики:\n",
    "data[data['tariff'] == 'smart']['revenue_per_user'].plot(kind='hist', \n",
    "                                                         bins=50, \n",
    "                                                         label='smart', \n",
    "                                                         grid=True,\n",
    "                                                         legend=True)\n",
    "plt.xlabel('Revenue per month')\n",
    "plt.ylabel('Users')\n",
    "\n",
    "data[data['tariff'] == 'ultra']['revenue_per_user'].plot(kind='hist', \n",
    "                                                         bins=25, \n",
    "                                                         label='ultra', \n",
    "                                                         grid=True,\n",
    "                                                         title='Revenue per user',\n",
    "                                                         legend=True)\n",
    "plt.xlabel('Revenue per month')\n",
    "plt.ylabel('Users')\n",
    "plt.show()"
   ]
  },
  {
   "cell_type": "code",
   "execution_count": 45,
   "metadata": {
    "ExecuteTime": {
     "end_time": "2022-11-23T12:53:01.601465Z",
     "start_time": "2022-11-23T12:53:01.478922Z"
    }
   },
   "outputs": [
    {
     "data": {
      "text/html": [
       "<div>\n",
       "<style scoped>\n",
       "    .dataframe tbody tr th:only-of-type {\n",
       "        vertical-align: middle;\n",
       "    }\n",
       "\n",
       "    .dataframe tbody tr th {\n",
       "        vertical-align: top;\n",
       "    }\n",
       "\n",
       "    .dataframe thead tr th {\n",
       "        text-align: left;\n",
       "    }\n",
       "\n",
       "    .dataframe thead tr:last-of-type th {\n",
       "        text-align: right;\n",
       "    }\n",
       "</style>\n",
       "<table border=\"1\" class=\"dataframe\">\n",
       "  <thead>\n",
       "    <tr>\n",
       "      <th></th>\n",
       "      <th colspan=\"8\" halign=\"left\">revenue_per_user</th>\n",
       "    </tr>\n",
       "    <tr>\n",
       "      <th></th>\n",
       "      <th>sum</th>\n",
       "      <th>count</th>\n",
       "      <th>median</th>\n",
       "      <th>mean</th>\n",
       "      <th>min</th>\n",
       "      <th>max</th>\n",
       "      <th>var</th>\n",
       "      <th>std</th>\n",
       "    </tr>\n",
       "    <tr>\n",
       "      <th>tariff</th>\n",
       "      <th></th>\n",
       "      <th></th>\n",
       "      <th></th>\n",
       "      <th></th>\n",
       "      <th></th>\n",
       "      <th></th>\n",
       "      <th></th>\n",
       "      <th></th>\n",
       "    </tr>\n",
       "  </thead>\n",
       "  <tbody>\n",
       "    <tr>\n",
       "      <th>smart</th>\n",
       "      <td>2875351</td>\n",
       "      <td>2229</td>\n",
       "      <td>1,023.00</td>\n",
       "      <td>1,289.97</td>\n",
       "      <td>550</td>\n",
       "      <td>6770</td>\n",
       "      <td>669,785.71</td>\n",
       "      <td>818.40</td>\n",
       "    </tr>\n",
       "    <tr>\n",
       "      <th>ultra</th>\n",
       "      <td>2039100</td>\n",
       "      <td>985</td>\n",
       "      <td>1,950.00</td>\n",
       "      <td>2,070.15</td>\n",
       "      <td>1950</td>\n",
       "      <td>4800</td>\n",
       "      <td>141,516.75</td>\n",
       "      <td>376.19</td>\n",
       "    </tr>\n",
       "  </tbody>\n",
       "</table>\n",
       "</div>"
      ],
      "text/plain": [
       "       revenue_per_user                                                      \n",
       "                    sum count   median     mean   min   max        var    std\n",
       "tariff                                                                       \n",
       "smart           2875351  2229 1,023.00 1,289.97   550  6770 669,785.71 818.40\n",
       "ultra           2039100   985 1,950.00 2,070.15  1950  4800 141,516.75 376.19"
      ]
     },
     "execution_count": 45,
     "metadata": {},
     "output_type": "execute_result"
    }
   ],
   "source": [
    "# Сгруппирую датафрейм по тарифам:\n",
    "data.groupby('tariff').agg({'revenue_per_user':['sum', 'count', 'median', 'mean', 'min', 'max', 'var', 'std']})"
   ]
  },
  {
   "cell_type": "markdown",
   "metadata": {},
   "source": [
    "**Вывод:**\n",
    "\n",
    "Пользователи тарифов ведут себя схожим образом в части использования пакетного лимита, с одной особенностью - пользователи тарифа smart, среднем чуть больше выходят за рамки лимитов, чем пользователи тарифа ultra."
   ]
  },
  {
   "cell_type": "markdown",
   "metadata": {},
   "source": [
    "### Минуты разговора в разбивке по тарифам"
   ]
  },
  {
   "cell_type": "code",
   "execution_count": 46,
   "metadata": {
    "ExecuteTime": {
     "end_time": "2022-11-23T12:53:01.647347Z",
     "start_time": "2022-11-23T12:53:01.607705Z"
    }
   },
   "outputs": [
    {
     "data": {
      "text/html": [
       "<div>\n",
       "<style scoped>\n",
       "    .dataframe tbody tr th:only-of-type {\n",
       "        vertical-align: middle;\n",
       "    }\n",
       "\n",
       "    .dataframe tbody tr th {\n",
       "        vertical-align: top;\n",
       "    }\n",
       "\n",
       "    .dataframe thead tr th {\n",
       "        text-align: left;\n",
       "    }\n",
       "\n",
       "    .dataframe thead tr:last-of-type th {\n",
       "        text-align: right;\n",
       "    }\n",
       "</style>\n",
       "<table border=\"1\" class=\"dataframe\">\n",
       "  <thead>\n",
       "    <tr>\n",
       "      <th></th>\n",
       "      <th colspan=\"4\" halign=\"left\">duration</th>\n",
       "    </tr>\n",
       "    <tr>\n",
       "      <th></th>\n",
       "      <th>median</th>\n",
       "      <th>mean</th>\n",
       "      <th>var</th>\n",
       "      <th>std</th>\n",
       "    </tr>\n",
       "    <tr>\n",
       "      <th>tariff</th>\n",
       "      <th></th>\n",
       "      <th></th>\n",
       "      <th></th>\n",
       "      <th></th>\n",
       "    </tr>\n",
       "  </thead>\n",
       "  <tbody>\n",
       "    <tr>\n",
       "      <th>smart</th>\n",
       "      <td>422.00</td>\n",
       "      <td>417.93</td>\n",
       "      <td>36,219.32</td>\n",
       "      <td>190.31</td>\n",
       "    </tr>\n",
       "    <tr>\n",
       "      <th>ultra</th>\n",
       "      <td>518.00</td>\n",
       "      <td>526.62</td>\n",
       "      <td>100,873.63</td>\n",
       "      <td>317.61</td>\n",
       "    </tr>\n",
       "  </tbody>\n",
       "</table>\n",
       "</div>"
      ],
      "text/plain": [
       "       duration                         \n",
       "         median   mean        var    std\n",
       "tariff                                  \n",
       "smart    422.00 417.93  36,219.32 190.31\n",
       "ultra    518.00 526.62 100,873.63 317.61"
      ]
     },
     "execution_count": 46,
     "metadata": {},
     "output_type": "execute_result"
    }
   ],
   "source": [
    "data.groupby('tariff').agg({'duration':['median', 'mean', 'var', 'std']})"
   ]
  },
  {
   "cell_type": "code",
   "execution_count": 62,
   "metadata": {
    "ExecuteTime": {
     "end_time": "2022-11-23T12:53:54.271615Z",
     "start_time": "2022-11-23T12:53:53.713109Z"
    }
   },
   "outputs": [
    {
     "data": {
      "image/png": "[encoded data removed]",
      "text/plain": [
       "<Figure size 1000x300 with 1 Axes>"
      ]
     },
     "metadata": {},
     "output_type": "display_data"
    },
    {
     "name": "stdout",
     "output_type": "stream",
     "text": [
      "median =  422.0\n"
     ]
    }
   ],
   "source": [
    "data[data['tariff'] == 'smart']['duration'].plot(kind='hist', bins=50, title='Smart - minutes duration', \n",
    "                                                 grid=True, figsize=(10, 3))\n",
    "plt.xlabel('Minutes per month')\n",
    "plt.ylabel('Users')\n",
    "plt.show()\n",
    "\n",
    "print('median = ', data[data['tariff'] == 'smart']['duration'].median())"
   ]
  },
  {
   "cell_type": "code",
   "execution_count": 63,
   "metadata": {
    "ExecuteTime": {
     "end_time": "2022-11-23T12:54:11.566211Z",
     "start_time": "2022-11-23T12:54:11.115754Z"
    }
   },
   "outputs": [
    {
     "data": {
      "image/png": "[encoded data removed]",
      "text/plain": [
       "<Figure size 1000x300 with 1 Axes>"
      ]
     },
     "metadata": {},
     "output_type": "display_data"
    },
    {
     "name": "stdout",
     "output_type": "stream",
     "text": [
      "median =  518.0\n"
     ]
    }
   ],
   "source": [
    "data[data['tariff'] == 'ultra']['duration'].plot(kind='hist', bins=50, title='Ultra - minutes duration', grid=True, \n",
    "                                                 figsize=(10, 3))\n",
    "plt.xlabel('Minutes per month')\n",
    "plt.ylabel('Users')\n",
    "plt.show()\n",
    "\n",
    "print('median = ', data[data['tariff'] == 'ultra']['duration'].median())"
   ]
  },
  {
   "cell_type": "markdown",
   "metadata": {},
   "source": [
    "**Вывод:**\n",
    "\n",
    "Гистограмма распределения минут в тарифе smart соответствует нормальному случайному распределению. В обоих тарифах есть всплеск в районе 0 минут - это пропущенные звонки, их не нужно удалять.\n",
    "Медианное значение минут на тарифе smart равно 422 минутам в месяц, выбирая почти весь лимит (500 минут). Медианное значение на тарифе ultra равно 518 минутам при лимите в 3000 минут, таким образом, остаётся существенный запас.\n",
    "Из-за значительного запаса по минутам в пакете гистограмма тарифа ultra не выглядит как случайное нормальное распределение.\n",
    "\n",
    "**Дисперсии** и **Стандартные отклонения** по обоим тарифам большие - это говорит о том, что значения в выборках сильно отличаются от математических ожиданий и средних арифметических по каждой из выборок соответственно."
   ]
  },
  {
   "cell_type": "markdown",
   "metadata": {},
   "source": [
    "### Количество сообщений в разбивке по тарифам"
   ]
  },
  {
   "cell_type": "code",
   "execution_count": 92,
   "metadata": {
    "ExecuteTime": {
     "end_time": "2022-11-23T13:04:32.299998Z",
     "start_time": "2022-11-23T13:04:32.273999Z"
    }
   },
   "outputs": [
    {
     "data": {
      "text/html": [
       "<div>\n",
       "<style scoped>\n",
       "    .dataframe tbody tr th:only-of-type {\n",
       "        vertical-align: middle;\n",
       "    }\n",
       "\n",
       "    .dataframe tbody tr th {\n",
       "        vertical-align: top;\n",
       "    }\n",
       "\n",
       "    .dataframe thead tr th {\n",
       "        text-align: left;\n",
       "    }\n",
       "</style>\n",
       "<table border=\"1\" class=\"dataframe\">\n",
       "  <thead>\n",
       "    <tr>\n",
       "      <th></th>\n",
       "      <th>tariff</th>\n",
       "      <th colspan=\"4\" halign=\"left\">message_count</th>\n",
       "    </tr>\n",
       "    <tr>\n",
       "      <th></th>\n",
       "      <th></th>\n",
       "      <th>median</th>\n",
       "      <th>mean</th>\n",
       "      <th>var</th>\n",
       "      <th>std</th>\n",
       "    </tr>\n",
       "  </thead>\n",
       "  <tbody>\n",
       "    <tr>\n",
       "      <th>0</th>\n",
       "      <td>smart</td>\n",
       "      <td>28.00</td>\n",
       "      <td>33.38</td>\n",
       "      <td>796.81</td>\n",
       "      <td>28.23</td>\n",
       "    </tr>\n",
       "    <tr>\n",
       "      <th>1</th>\n",
       "      <td>ultra</td>\n",
       "      <td>38.00</td>\n",
       "      <td>49.36</td>\n",
       "      <td>2,285.27</td>\n",
       "      <td>47.80</td>\n",
       "    </tr>\n",
       "  </tbody>\n",
       "</table>\n",
       "</div>"
      ],
      "text/plain": [
       "  tariff message_count                     \n",
       "                median  mean      var   std\n",
       "0  smart         28.00 33.38   796.81 28.23\n",
       "1  ultra         38.00 49.36 2,285.27 47.80"
      ]
     },
     "execution_count": 92,
     "metadata": {},
     "output_type": "execute_result"
    }
   ],
   "source": [
    "data.groupby('tariff').agg({'message_count':['median', 'mean', 'var', 'std']}).reset_index()"
   ]
  },
  {
   "cell_type": "markdown",
   "metadata": {},
   "source": [
    "Построю гистограммы распределения числа сообщений по тарифам"
   ]
  },
  {
   "cell_type": "code",
   "execution_count": 103,
   "metadata": {
    "ExecuteTime": {
     "end_time": "2022-11-23T13:08:33.538724Z",
     "start_time": "2022-11-23T13:08:32.535817Z"
    }
   },
   "outputs": [
    {
     "data": {
      "image/png": "[encoded data removed]",
      "text/plain": [
       "<Figure size 1000x600 with 2 Axes>"
      ]
     },
     "metadata": {},
     "output_type": "display_data"
    },
    {
     "name": "stdout",
     "output_type": "stream",
     "text": [
      "Ultra sms count median =  38.0\n",
      "Smart sms count median =  28.0\n"
     ]
    }
   ],
   "source": [
    "fig = plt.figure(figsize=(10, 6))\n",
    "fig.suptitle('Гистограммы количества сообщений в разбивке по тарифам')\n",
    "\n",
    "ax_1 = fig.add_subplot(2, 1, 1)\n",
    "ax_2 = fig.add_subplot(2, 1, 2)\n",
    "\n",
    "data[data['tariff'] == 'smart']['message_count'].plot(kind='hist', bins=40, title='Smart - sms count', grid=True, ax=ax_1)\\\n",
    "                                                .set_ylabel('Users')\n",
    "data[data['tariff'] == 'ultra']['message_count'].plot(kind='hist', bins=40, title='Ultra - sms count', grid=True, ax=ax_2)\n",
    "plt.xlabel('Messages per month')\n",
    "plt.ylabel('Users')\n",
    "\n",
    "plt.show()\n",
    "\n",
    "print('Ultra sms count median = ', data[data['tariff'] == 'ultra']['message_count'].median())\n",
    "print('Smart sms count median = ', data[data['tariff'] == 'smart']['message_count'].median())"
   ]
  },
  {
   "cell_type": "markdown",
   "metadata": {},
   "source": [
    "**Вывод:**\n",
    "Гистограммы распределения сообщений в тарифах выглядят схожими. Основной тренд на отказ клиентами от общения через смс, что выглядит логичным в эпоху развития мессенджеров. "
   ]
  },
  {
   "cell_type": "markdown",
   "metadata": {},
   "source": [
    "### Пакет интернет трафика в разбивке по тарифам"
   ]
  },
  {
   "cell_type": "code",
   "execution_count": 94,
   "metadata": {
    "ExecuteTime": {
     "end_time": "2022-11-23T13:05:31.979697Z",
     "start_time": "2022-11-23T13:05:31.948749Z"
    }
   },
   "outputs": [
    {
     "data": {
      "text/html": [
       "<div>\n",
       "<style scoped>\n",
       "    .dataframe tbody tr th:only-of-type {\n",
       "        vertical-align: middle;\n",
       "    }\n",
       "\n",
       "    .dataframe tbody tr th {\n",
       "        vertical-align: top;\n",
       "    }\n",
       "\n",
       "    .dataframe thead tr th {\n",
       "        text-align: left;\n",
       "    }\n",
       "\n",
       "    .dataframe thead tr:last-of-type th {\n",
       "        text-align: right;\n",
       "    }\n",
       "</style>\n",
       "<table border=\"1\" class=\"dataframe\">\n",
       "  <thead>\n",
       "    <tr>\n",
       "      <th></th>\n",
       "      <th colspan=\"4\" halign=\"left\">gb_used</th>\n",
       "    </tr>\n",
       "    <tr>\n",
       "      <th></th>\n",
       "      <th>median</th>\n",
       "      <th>mean</th>\n",
       "      <th>var</th>\n",
       "      <th>std</th>\n",
       "    </tr>\n",
       "    <tr>\n",
       "      <th>tariff</th>\n",
       "      <th></th>\n",
       "      <th></th>\n",
       "      <th></th>\n",
       "      <th></th>\n",
       "    </tr>\n",
       "  </thead>\n",
       "  <tbody>\n",
       "    <tr>\n",
       "      <th>smart</th>\n",
       "      <td>17.00</td>\n",
       "      <td>16.33</td>\n",
       "      <td>33.03</td>\n",
       "      <td>5.75</td>\n",
       "    </tr>\n",
       "    <tr>\n",
       "      <th>ultra</th>\n",
       "      <td>19.00</td>\n",
       "      <td>19.49</td>\n",
       "      <td>97.09</td>\n",
       "      <td>9.85</td>\n",
       "    </tr>\n",
       "  </tbody>\n",
       "</table>\n",
       "</div>"
      ],
      "text/plain": [
       "       gb_used                 \n",
       "        median  mean   var  std\n",
       "tariff                         \n",
       "smart    17.00 16.33 33.03 5.75\n",
       "ultra    19.00 19.49 97.09 9.85"
      ]
     },
     "execution_count": 94,
     "metadata": {},
     "output_type": "execute_result"
    }
   ],
   "source": [
    "data.groupby('tariff').agg({'gb_used':['median', 'mean', 'var', 'std']})"
   ]
  },
  {
   "cell_type": "code",
   "execution_count": 104,
   "metadata": {
    "ExecuteTime": {
     "end_time": "2022-11-23T13:08:42.937341Z",
     "start_time": "2022-11-23T13:08:41.932706Z"
    }
   },
   "outputs": [
    {
     "data": {
      "image/png": "[encoded data removed]",
      "text/plain": [
       "<Figure size 1000x600 with 2 Axes>"
      ]
     },
     "metadata": {},
     "output_type": "display_data"
    },
    {
     "name": "stdout",
     "output_type": "stream",
     "text": [
      "Smart Gb used median =  17.0\n",
      "Ultra Gb used median =  19.0\n"
     ]
    }
   ],
   "source": [
    "fig = plt.figure(figsize=(10, 6))\n",
    "fig.suptitle('Гистограммы использования интернет-трафика в разбивке по тарифам')\n",
    "\n",
    "ax_1 = fig.add_subplot(2, 1, 1)\n",
    "ax_2 = fig.add_subplot(2, 1, 2)\n",
    "\n",
    "data[data['tariff'] == 'smart']['gb_used'].plot(kind='hist', bins=35, title='Smart - Gb used', grid=True, ax=ax_1).set_ylabel('Users')\n",
    "data[data['tariff'] == 'ultra']['gb_used'].plot(kind='hist', bins=50, title='Ultra - Gb used', grid=True, ax=ax_2)\n",
    "plt.xlabel('Gb per month')\n",
    "plt.ylabel('Users')\n",
    "plt.show()\n",
    "\n",
    "print('Smart Gb used median = ', data[data['tariff'] == 'smart']['gb_used'].median())\n",
    "print('Ultra Gb used median = ', data[data['tariff'] == 'ultra']['gb_used'].median())"
   ]
  },
  {
   "cell_type": "markdown",
   "metadata": {},
   "source": [
    "**Вывод:**\n",
    "Гистограммы распределения по интернет трафику соответствуют нормальным случайным распределениям, в тарифе ultra - отдельно отмечу пользователей, не использовавшие интернет за месяц - редкость в наши дни.\n",
    "Также отмечу, что клиенты на тарифе smart ненамного меньше используют интернет (17 Gb), чем в тарифе ultra (19 Gb). При том, что пакетные лимиты отличаются в 2 раза (15 Gb против 30 Gb соответственно). Оператору стоит обратить на это внимание."
   ]
  },
  {
   "cell_type": "markdown",
   "metadata": {},
   "source": [
    "[Оглавление](#section_id)\n",
    "\n",
    "## Проверка гипотез\n",
    "<a id='section_id4'></a>\n",
    "\n",
    "* средняя выручка пользователей тарифов «Ультра» и «Смарт» различаются\n",
    "* средняя выручка пользователей из Москвы отличается от выручки пользователей из других регионов\n",
    "\n",
    "### Средняя выручка пользователей тарифов\n",
    "\n",
    "Буду использовать t-критерий Стьюдента, так как сравниваемые выборки независимы между собой.\n",
    "\n",
    "Гипотеза о равенстве средних двух генеральных совокупностей №1\n",
    "\n",
    "Сформулирую гипотезы:\n",
    "\n",
    "* H0: выручка пользователей тарифов «Смарт» и «Ультра» не различается\n",
    "* H1: выручка пользователей тарифов «Смарт» и «Ультра» различается"
   ]
  },
  {
   "cell_type": "code",
   "execution_count": 55,
   "metadata": {
    "ExecuteTime": {
     "end_time": "2022-11-23T12:53:04.852089Z",
     "start_time": "2022-11-23T12:53:04.780516Z"
    },
    "scrolled": true
   },
   "outputs": [
    {
     "name": "stdout",
     "output_type": "stream",
     "text": [
      "p-значение: [1.42298144e-160]\n",
      "Отвергаем нулевую гипотезу\n"
     ]
    }
   ],
   "source": [
    "# Введу переменные для проведения теста\n",
    "smart = data[data['tariff'] == 'smart'][['revenue_per_user']]\n",
    "ultra = data[data['tariff'] == 'ultra'][['revenue_per_user']]\n",
    "\n",
    "# Проведение теста, задам критический уровень статистиеской значимости в 5%\n",
    "alpha = 0.05\n",
    "results = st.ttest_ind(smart, ultra)\n",
    "\n",
    "print('p-значение:', results.pvalue)\n",
    "\n",
    "if results.pvalue < alpha:\n",
    "    print(\"Отвергаем нулевую гипотезу\")\n",
    "else:\n",
    "    print(\"Не получилось отвергнуть нулевую гипотезу\")"
   ]
  },
  {
   "cell_type": "markdown",
   "metadata": {},
   "source": [
    "**Вывод:**\n",
    "\n",
    "Между выборками есть статистически значимые различия."
   ]
  },
  {
   "cell_type": "markdown",
   "metadata": {},
   "source": [
    "###  Средняя выручка пользователей из Москвы и из других регионов\n",
    "\n",
    "Гипотеза о равенстве средних двух генеральных совокупностей №2\n",
    "\n",
    "Сформулируем гипотезы:\n",
    "\n",
    "* H0: средняя выручка пользователей из Москвы не отличается от выручки пользователей из других регионов\n",
    "* H1: средняя выручка пользователей из Москвы отличается от выручки пользователей из других регионов"
   ]
  },
  {
   "cell_type": "code",
   "execution_count": 56,
   "metadata": {
    "ExecuteTime": {
     "end_time": "2022-11-23T12:53:04.884114Z",
     "start_time": "2022-11-23T12:53:04.856961Z"
    },
    "scrolled": true
   },
   "outputs": [
    {
     "data": {
      "text/plain": [
       "array(['Краснодар', 'Москва', 'Стерлитамак', 'Новокузнецк',\n",
       "       'Набережные Челны', 'Ульяновск', 'Челябинск', 'Пермь', 'Тюмень',\n",
       "       'Самара', 'Санкт-Петербург', 'Иваново', 'Чебоксары', 'Омск', 'Уфа',\n",
       "       'Томск', 'Чита', 'Мурманск', 'Петрозаводск', 'Тверь',\n",
       "       'Екатеринбург', 'Махачкала', 'Вологда', 'Череповец', 'Ярославль',\n",
       "       'Сочи', 'Хабаровск', 'Ставрополь', 'Рязань', 'Улан-Удэ', 'Тула',\n",
       "       'Саратов', 'Ростов-на-Дону', 'Казань', 'Иркутск', 'Курск',\n",
       "       'Калуга', 'Якутск', 'Астрахань', 'Химки', 'Владикавказ',\n",
       "       'Волгоград', 'Саранск', 'Ижевск', 'Новосибирск', 'Брянск',\n",
       "       'Тольятти', 'Нижний Тагил', 'Орёл', 'Белгород', 'Воронеж',\n",
       "       'Курган', 'Барнаул', 'Красноярск', 'Архангельск', 'Липецк',\n",
       "       'Кемерово', 'Киров', 'Сургут', 'Пенза', 'Волжский', 'Магнитогорск',\n",
       "       'Нижний Новгород', 'Кострома', 'Владивосток', 'Тамбов', 'Балашиха',\n",
       "       'Севастополь', 'Калининград', 'Оренбург', 'Смоленск',\n",
       "       'Нижневартовск', 'Владимир', 'Новороссийск', 'Грозный', 'Подольск'],\n",
       "      dtype=object)"
      ]
     },
     "execution_count": 56,
     "metadata": {},
     "output_type": "execute_result"
    }
   ],
   "source": [
    "# Посмотрю уникальные населённые пункты в датафрейме\n",
    "data['city'].unique()"
   ]
  },
  {
   "cell_type": "code",
   "execution_count": 57,
   "metadata": {
    "ExecuteTime": {
     "end_time": "2022-11-23T12:53:04.930920Z",
     "start_time": "2022-11-23T12:53:04.888876Z"
    }
   },
   "outputs": [
    {
     "name": "stdout",
     "output_type": "stream",
     "text": [
      "p-значение: [0.54401529]\n",
      "Не получилось отвергнуть нулевую гипотезу\n"
     ]
    }
   ],
   "source": [
    "# Добавлю колонку, в которой разделю Москву и остальные населённые пункты\n",
    "data['region'] = np.where(data['city'] == 'Москва', 'Москва', 'Другой Регион')\n",
    "moscow = data[data['region'] == 'Москва'][['revenue_per_user']]\n",
    "region_other = data[data['region'] == 'Другой Регион'][['revenue_per_user']]\n",
    "\n",
    "# Проведение теста, задам критический уровень статистиеской значимости в 5%\n",
    "alpha = 0.05\n",
    "\n",
    "results = st.ttest_ind(moscow, region_other)\n",
    "\n",
    "print('p-значение:', results.pvalue)\n",
    "\n",
    "if results.pvalue < alpha:\n",
    "    print(\"Отвергаем нулевую гипотезу\")\n",
    "else:\n",
    "    print(\"Не получилось отвергнуть нулевую гипотезу\")"
   ]
  },
  {
   "cell_type": "code",
   "execution_count": 58,
   "metadata": {
    "ExecuteTime": {
     "end_time": "2022-11-23T12:53:06.054246Z",
     "start_time": "2022-11-23T12:53:04.938864Z"
    }
   },
   "outputs": [
    {
     "data": {
      "image/png": "[encoded data removed]",
      "text/plain": [
       "<Figure size 2000x700 with 2 Axes>"
      ]
     },
     "metadata": {},
     "output_type": "display_data"
    }
   ],
   "source": [
    "# Построю гистограммы для визуализации данных\n",
    "fig = plt.figure(figsize=(20, 7))\n",
    "fig.suptitle('Moscow and Other Regions')\n",
    "\n",
    "ax_1 = plt.subplot(1, 2, 1)\n",
    "moscow.plot(kind='hist', bins=50, grid=True, legend=False, title='Moscow', ax=ax_1)\n",
    "plt.xlabel('Revenue per month')\n",
    "plt.ylabel('Users')\n",
    "\n",
    "ax_2 = fig.add_subplot(1, 2, 2)\n",
    "region_other.plot(kind='hist', bins=50, grid=True, legend=False, title='Other Regions', ax=ax_2)\n",
    "plt.xlabel('Revenue per month')\n",
    "plt.ylabel('Users')\n",
    "\n",
    "plt.show()"
   ]
  },
  {
   "cell_type": "markdown",
   "metadata": {},
   "source": [
    "**Вывод:**\n",
    "\n",
    "С вероятностью в 30% результат может быть получен случайно. Между выборками статистически значимых различий нет."
   ]
  },
  {
   "cell_type": "markdown",
   "metadata": {},
   "source": [
    "## Результаты исследования\n",
    "<a id='section_id5'></a>"
   ]
  },
  {
   "cell_type": "markdown",
   "metadata": {},
   "source": [
    "**Описание данных**\n",
    "\n",
    "Для проведения исследования использовались 5 баз данных:\n",
    "* 2 \"описательные\" таблицы с описанием пользователей и тарифов,\n",
    "* 3 \"количественные\" таблицы с количеством и продолжительностью звонков, количеством смс и интернет трафиком в разрезе пользователей и даты.\n",
    "\n",
    "**Предобработка данных**\n",
    "\n",
    "В ходе предобработки данных были выполнены следущие шаги:\n",
    "1. изменил типы данных в колонках с датами во всех датафреймах для дальнейшей работы с ними, \n",
    "2. перевёл секунды разговора в минуты с округлением вверх и аналогично Mb в Gb. \n",
    "3. по всем \"количественным\" таблицам сгруппировал данные (кол-во и продолжительность звонков, кол-во смс и израсходованный интернет трафик) по пользователям и месяцам. \n",
    "4. объединил все датафреймы в один и заменил появившиес пропуски на нули\n",
    "5. расчитал выручку на каждого пользователя с учётом стоимости пакетного тарифа и фактических превышений пакетных лимитов тарифа.\n",
    "\n",
    "**Анализ данных**\n",
    "\n",
    "При анализе данных было выявлено, что пользователи тарифа smart почти полностью выбирают пакет минут и в среднем чуть превышают интернет лимит в пакете.  \n",
    "\n",
    "При стоимости тарифа в 550 руб. медианное значение выручки составляет 1023 р., по сравнению с тарифом ultra, где при стоимости тарифа в 1950 руб., медианное значение выручки составляет 1950 руб. \n",
    "\n",
    "На диаграммах размаха присутствует сравнительно большие выбросы (значения выше 3 квартиля * 1.5) связано с использованием интернета и указывают на несбалансированность тарифа.\n",
    "\n",
    "С точки зрения выручки для оператора, тариф smart является более выгодным, так как валово приносит больше денег. Но, возможно, если смотреть на экономику дальше, то прибыль будет распределяться по-другому. \n",
    "Также возникает вопрос, насколько тариф является привлекательным с точки зрения переманивания на него пользователей других операторов (постоянно находиться в режиме жёстких ограничений не всем подойдёт). А также насколько довольны текущиие пользователи. Но эти вопросы за рамками текущего исслеования."
   ]
  },
  {
   "cell_type": "code",
   "execution_count": 59,
   "metadata": {
    "ExecuteTime": {
     "end_time": "2022-11-23T12:53:06.133033Z",
     "start_time": "2022-11-23T12:53:06.066213Z"
    }
   },
   "outputs": [
    {
     "data": {
      "text/html": [
       "<div>\n",
       "<style scoped>\n",
       "    .dataframe tbody tr th:only-of-type {\n",
       "        vertical-align: middle;\n",
       "    }\n",
       "\n",
       "    .dataframe tbody tr th {\n",
       "        vertical-align: top;\n",
       "    }\n",
       "\n",
       "    .dataframe thead tr th {\n",
       "        text-align: left;\n",
       "    }\n",
       "\n",
       "    .dataframe thead tr:last-of-type th {\n",
       "        text-align: right;\n",
       "    }\n",
       "</style>\n",
       "<table border=\"1\" class=\"dataframe\">\n",
       "  <thead>\n",
       "    <tr>\n",
       "      <th></th>\n",
       "      <th colspan=\"4\" halign=\"left\">revenue_per_user</th>\n",
       "    </tr>\n",
       "    <tr>\n",
       "      <th></th>\n",
       "      <th>sum</th>\n",
       "      <th>count</th>\n",
       "      <th>median</th>\n",
       "      <th>mean</th>\n",
       "    </tr>\n",
       "    <tr>\n",
       "      <th>tariff</th>\n",
       "      <th></th>\n",
       "      <th></th>\n",
       "      <th></th>\n",
       "      <th></th>\n",
       "    </tr>\n",
       "  </thead>\n",
       "  <tbody>\n",
       "    <tr>\n",
       "      <th>smart</th>\n",
       "      <td>2875351</td>\n",
       "      <td>2229</td>\n",
       "      <td>1,023.00</td>\n",
       "      <td>1,289.97</td>\n",
       "    </tr>\n",
       "    <tr>\n",
       "      <th>ultra</th>\n",
       "      <td>2039100</td>\n",
       "      <td>985</td>\n",
       "      <td>1,950.00</td>\n",
       "      <td>2,070.15</td>\n",
       "    </tr>\n",
       "  </tbody>\n",
       "</table>\n",
       "</div>"
      ],
      "text/plain": [
       "       revenue_per_user                        \n",
       "                    sum count   median     mean\n",
       "tariff                                         \n",
       "smart           2875351  2229 1,023.00 1,289.97\n",
       "ultra           2039100   985 1,950.00 2,070.15"
      ]
     },
     "execution_count": 59,
     "metadata": {},
     "output_type": "execute_result"
    }
   ],
   "source": [
    "# Сгруппирую датафрейм по тарифам:\n",
    "data.groupby('tariff').agg({'revenue_per_user':['sum','count', 'median', 'mean']})"
   ]
  },
  {
   "cell_type": "markdown",
   "metadata": {},
   "source": [
    "### Проверка гипотез - вывод\n",
    "\n",
    "При проведении исследования выполнено два t-теста Стьюдента, так как сравниваемые выборки независимы между собой.\n",
    "\n",
    "**1. Средняя выручка пользователей тарифов**\n",
    "\n",
    "Гипотеза о равенстве средних двух генеральных совокупностей №1\n",
    "\n",
    "Сформированы гипотезы:\n",
    "\n",
    "* H0: выручка пользователей тарифов «Смарт» и «Ультра» не различается\n",
    "* H1: выручка пользователей тарифов «Смарт» и «Ультра» различается\n",
    "\n"
   ]
  },
  {
   "cell_type": "code",
   "execution_count": 60,
   "metadata": {
    "ExecuteTime": {
     "end_time": "2022-11-23T12:53:06.164948Z",
     "start_time": "2022-11-23T12:53:06.139017Z"
    }
   },
   "outputs": [
    {
     "name": "stdout",
     "output_type": "stream",
     "text": [
      "p-значение: [1.42298144e-160]\n",
      "Отвергаем нулевую гипотезу\n"
     ]
    }
   ],
   "source": [
    "alpha = 0.05\n",
    "results = st.ttest_ind(smart, ultra)\n",
    "\n",
    "print('p-значение:', results.pvalue)\n",
    "\n",
    "if results.pvalue < alpha:\n",
    "    print(\"Отвергаем нулевую гипотезу\")\n",
    "else:\n",
    "    print(\"Не получилось отвергнуть нулевую гипотезу\")"
   ]
  },
  {
   "cell_type": "markdown",
   "metadata": {},
   "source": [
    "**2. Средняя выручка пользователей из Москвы и из других регионов**\n",
    "\n",
    "Гипотеза о равенстве средних двух генеральных совокупностей №2\n",
    "\n",
    "Сформированы гипотезы:\n",
    "\n",
    "* H0: средняя выручка пользователей из Москвы не отличается от выручки пользователей из других регионов\n",
    "* H1: средняя выручка пользователей из Москвы отличается от выручки пользователей из других регионов"
   ]
  },
  {
   "cell_type": "code",
   "execution_count": 61,
   "metadata": {
    "ExecuteTime": {
     "end_time": "2022-11-23T12:53:06.196861Z",
     "start_time": "2022-11-23T12:53:06.168981Z"
    }
   },
   "outputs": [
    {
     "name": "stdout",
     "output_type": "stream",
     "text": [
      "p-значение: [0.54401529]\n",
      "Не получилось отвергнуть нулевую гипотезу\n"
     ]
    }
   ],
   "source": [
    "alpha = 0.05\n",
    "\n",
    "results = st.ttest_ind(moscow, region_other)\n",
    "\n",
    "print('p-значение:', results.pvalue)\n",
    "\n",
    "if results.pvalue < alpha:\n",
    "    print(\"Отвергаем нулевую гипотезу\")\n",
    "else:\n",
    "    print(\"Не получилось отвергнуть нулевую гипотезу\")"
   ]
  },
  {
   "cell_type": "markdown",
   "metadata": {},
   "source": [
    "**Вывод:**\n",
    "\n",
    "Поведение пользователей на двух тарифах отличается, сегментирование работает. Но на тарифе smart уровень переплаты существенный, что может приводить к разочарованию и оттоку пользователей.\n",
    "\n",
    "* СМС-ки почти не пользуются спросом на обоих тарифах - логично в эпоху мессенджеров.\n",
    "* Звонки и смс ползователи тарифа smart в среднем выбирают в рамках пакетного лимита, то на тарифе ultra остаются большие неизрасходованные \"запасы\" — оператору имеет смысл подумать, как использовать упущенную выгоду, самый явный шаг - переформировать пакет услуг. \n",
    "* Пользователи по максимуму используют интернет в обоих пакетах, для стимулирования перехода других пользователей к нему  оператору стоит придумать доп. опции (например за фиксированную сумму в мес. предлагать безлимит на соц сети) и программу лояльности.\n",
    "\n",
    "**Гипотеза 1**: Выручка оператора между тарифами существенно отличается - статистически значимые различия есть.\n",
    "\n",
    "**Гипотеза 2**: Выручка не сильно отличается между Москвой и регионами - статистически значимых различий нет."
   ]
  }
 ],
 "metadata": {
  "ExecuteTimeLog": [
   {
    "duration": 379,
    "start_time": "2022-05-24T09:17:17.206Z"
   },
   {
    "duration": 732,
    "start_time": "2022-05-24T09:21:24.889Z"
   },
   {
    "duration": 1234,
    "start_time": "2022-05-24T10:09:16.337Z"
   },
   {
    "duration": 26,
    "start_time": "2022-05-24T10:09:23.970Z"
   },
   {
    "duration": 440,
    "start_time": "2022-05-24T10:09:34.589Z"
   },
   {
    "duration": 8,
    "start_time": "2022-05-24T10:10:28.941Z"
   },
   {
    "duration": 396,
    "start_time": "2022-05-24T10:10:40.019Z"
   },
   {
    "duration": 9,
    "start_time": "2022-05-24T10:11:03.511Z"
   },
   {
    "duration": 8,
    "start_time": "2022-05-24T10:11:04.068Z"
   },
   {
    "duration": 36,
    "start_time": "2022-05-24T10:11:14.852Z"
   },
   {
    "duration": 41,
    "start_time": "2022-05-24T10:11:19.697Z"
   },
   {
    "duration": 3,
    "start_time": "2022-05-24T10:11:52.252Z"
   },
   {
    "duration": 3,
    "start_time": "2022-05-24T10:11:59.737Z"
   },
   {
    "duration": 30,
    "start_time": "2022-05-24T10:15:31.445Z"
   },
   {
    "duration": 28,
    "start_time": "2022-05-24T10:15:34.123Z"
   },
   {
    "duration": 9,
    "start_time": "2022-05-24T10:15:36.287Z"
   },
   {
    "duration": 8,
    "start_time": "2022-05-24T10:15:41.752Z"
   },
   {
    "duration": 8,
    "start_time": "2022-05-24T10:16:08.540Z"
   },
   {
    "duration": 7,
    "start_time": "2022-05-24T10:16:11.189Z"
   },
   {
    "duration": 14,
    "start_time": "2022-05-24T10:16:13.335Z"
   },
   {
    "duration": 19,
    "start_time": "2022-05-24T10:16:16.178Z"
   },
   {
    "duration": 7,
    "start_time": "2022-05-24T10:16:42.693Z"
   },
   {
    "duration": 8,
    "start_time": "2022-05-24T10:16:48.648Z"
   },
   {
    "duration": 31,
    "start_time": "2022-05-24T10:16:55.901Z"
   },
   {
    "duration": 10,
    "start_time": "2022-05-24T10:17:00.404Z"
   },
   {
    "duration": 10,
    "start_time": "2022-05-24T10:17:20.617Z"
   },
   {
    "duration": 10,
    "start_time": "2022-05-24T10:17:23.974Z"
   },
   {
    "duration": 13,
    "start_time": "2022-05-24T10:17:29.486Z"
   },
   {
    "duration": 10,
    "start_time": "2022-05-24T10:17:32.416Z"
   },
   {
    "duration": 9,
    "start_time": "2022-05-24T10:17:34.336Z"
   },
   {
    "duration": 26,
    "start_time": "2022-05-24T10:21:58.779Z"
   },
   {
    "duration": 23,
    "start_time": "2022-05-24T10:22:00.508Z"
   },
   {
    "duration": 20,
    "start_time": "2022-05-24T10:23:26.269Z"
   },
   {
    "duration": 586,
    "start_time": "2022-05-24T11:01:42.357Z"
   },
   {
    "duration": 12,
    "start_time": "2022-05-24T11:02:40.175Z"
   },
   {
    "duration": 3,
    "start_time": "2022-05-24T11:16:10.785Z"
   },
   {
    "duration": 4,
    "start_time": "2022-05-24T11:16:11.816Z"
   },
   {
    "duration": 3,
    "start_time": "2022-05-24T11:16:12.741Z"
   },
   {
    "duration": 475,
    "start_time": "2022-05-24T11:16:13.431Z"
   },
   {
    "duration": 12,
    "start_time": "2022-05-24T11:16:14.815Z"
   },
   {
    "duration": 13,
    "start_time": "2022-05-24T11:16:16.044Z"
   },
   {
    "duration": 43,
    "start_time": "2022-05-24T11:16:17.195Z"
   },
   {
    "duration": 2,
    "start_time": "2022-05-24T11:16:21.806Z"
   },
   {
    "duration": 518,
    "start_time": "2022-05-24T11:16:23.559Z"
   },
   {
    "duration": 8,
    "start_time": "2022-05-24T11:16:24.079Z"
   },
   {
    "duration": 8,
    "start_time": "2022-05-24T11:16:24.134Z"
   },
   {
    "duration": 27,
    "start_time": "2022-05-24T11:16:24.331Z"
   },
   {
    "duration": 27,
    "start_time": "2022-05-24T11:16:24.786Z"
   },
   {
    "duration": 8,
    "start_time": "2022-05-24T11:16:26.379Z"
   },
   {
    "duration": 15,
    "start_time": "2022-05-24T11:16:26.984Z"
   },
   {
    "duration": 30,
    "start_time": "2022-05-24T11:16:27.183Z"
   },
   {
    "duration": 30,
    "start_time": "2022-05-24T11:16:27.378Z"
   },
   {
    "duration": 8,
    "start_time": "2022-05-24T11:16:27.852Z"
   },
   {
    "duration": 8,
    "start_time": "2022-05-24T11:16:28.010Z"
   },
   {
    "duration": 13,
    "start_time": "2022-05-24T11:16:28.186Z"
   },
   {
    "duration": 22,
    "start_time": "2022-05-24T11:16:28.377Z"
   },
   {
    "duration": 9,
    "start_time": "2022-05-24T11:16:28.747Z"
   },
   {
    "duration": 11,
    "start_time": "2022-05-24T11:16:28.943Z"
   },
   {
    "duration": 12,
    "start_time": "2022-05-24T11:16:29.328Z"
   },
   {
    "duration": 11,
    "start_time": "2022-05-24T11:16:29.509Z"
   },
   {
    "duration": 18,
    "start_time": "2022-05-24T11:16:29.681Z"
   },
   {
    "duration": 13,
    "start_time": "2022-05-24T11:16:29.836Z"
   },
   {
    "duration": 3,
    "start_time": "2022-05-24T12:41:34.683Z"
   },
   {
    "duration": 497,
    "start_time": "2022-05-24T12:41:35.683Z"
   },
   {
    "duration": 3,
    "start_time": "2022-05-24T12:41:39.277Z"
   },
   {
    "duration": 13,
    "start_time": "2022-05-24T12:45:41.002Z"
   },
   {
    "duration": 38,
    "start_time": "2022-05-24T12:46:05.846Z"
   },
   {
    "duration": 30,
    "start_time": "2022-05-24T12:47:30.001Z"
   },
   {
    "duration": 23,
    "start_time": "2022-05-24T12:47:38.054Z"
   },
   {
    "duration": 106,
    "start_time": "2022-05-24T12:47:56.172Z"
   },
   {
    "duration": 33,
    "start_time": "2022-05-24T12:48:03.187Z"
   },
   {
    "duration": 32,
    "start_time": "2022-05-24T12:48:07.933Z"
   },
   {
    "duration": 108,
    "start_time": "2022-05-24T12:48:12.473Z"
   },
   {
    "duration": 9,
    "start_time": "2022-05-24T12:50:42.196Z"
   },
   {
    "duration": 25,
    "start_time": "2022-05-24T12:51:20.201Z"
   },
   {
    "duration": 74,
    "start_time": "2022-05-24T12:51:35.869Z"
   },
   {
    "duration": 22,
    "start_time": "2022-05-24T12:51:40.531Z"
   },
   {
    "duration": 41,
    "start_time": "2022-05-24T12:52:40.445Z"
   },
   {
    "duration": 39,
    "start_time": "2022-05-24T12:52:43.559Z"
   },
   {
    "duration": 13,
    "start_time": "2022-05-24T12:52:47.547Z"
   },
   {
    "duration": 22,
    "start_time": "2022-05-24T12:55:06.921Z"
   },
   {
    "duration": 9,
    "start_time": "2022-05-24T12:55:09.408Z"
   },
   {
    "duration": 63,
    "start_time": "2022-05-24T13:02:49.640Z"
   },
   {
    "duration": 32,
    "start_time": "2022-05-24T13:02:54.092Z"
   },
   {
    "duration": 14,
    "start_time": "2022-05-24T13:02:54.580Z"
   },
   {
    "duration": 66,
    "start_time": "2022-05-24T13:02:56.255Z"
   },
   {
    "duration": 432,
    "start_time": "2022-05-24T13:04:12.312Z"
   },
   {
    "duration": 472,
    "start_time": "2022-05-24T13:05:02.068Z"
   },
   {
    "duration": 83,
    "start_time": "2022-05-24T13:05:08.949Z"
   },
   {
    "duration": 34,
    "start_time": "2022-05-24T13:05:10.880Z"
   },
   {
    "duration": 8,
    "start_time": "2022-05-24T13:05:15.788Z"
   },
   {
    "duration": 9,
    "start_time": "2022-05-24T13:05:17.692Z"
   },
   {
    "duration": 20,
    "start_time": "2022-05-24T13:05:18.419Z"
   },
   {
    "duration": 8,
    "start_time": "2022-05-24T13:05:18.912Z"
   },
   {
    "duration": 48,
    "start_time": "2022-05-24T13:05:21.831Z"
   },
   {
    "duration": 30,
    "start_time": "2022-05-24T13:05:45.988Z"
   },
   {
    "duration": 36,
    "start_time": "2022-05-24T13:05:54.656Z"
   },
   {
    "duration": 13,
    "start_time": "2022-05-24T13:05:58.008Z"
   },
   {
    "duration": 24,
    "start_time": "2022-05-24T13:12:19.176Z"
   },
   {
    "duration": 24,
    "start_time": "2022-05-24T13:12:26.187Z"
   },
   {
    "duration": 40,
    "start_time": "2022-05-24T13:12:35.457Z"
   },
   {
    "duration": 104,
    "start_time": "2022-05-24T13:12:37.511Z"
   },
   {
    "duration": 37,
    "start_time": "2022-05-24T13:13:39.153Z"
   },
   {
    "duration": 16,
    "start_time": "2022-05-24T13:13:58.441Z"
   },
   {
    "duration": 22,
    "start_time": "2022-05-24T13:16:28.051Z"
   },
   {
    "duration": 20,
    "start_time": "2022-05-24T13:16:33.030Z"
   },
   {
    "duration": 34,
    "start_time": "2022-05-24T13:16:35.558Z"
   },
   {
    "duration": 18,
    "start_time": "2022-05-24T13:16:36.455Z"
   },
   {
    "duration": 26,
    "start_time": "2022-05-24T13:17:35.855Z"
   },
   {
    "duration": 17,
    "start_time": "2022-05-24T13:17:44.002Z"
   },
   {
    "duration": 17,
    "start_time": "2022-05-24T13:17:45.393Z"
   },
   {
    "duration": 14,
    "start_time": "2022-05-24T13:17:45.879Z"
   },
   {
    "duration": 14,
    "start_time": "2022-05-24T13:17:47.024Z"
   },
   {
    "duration": 13,
    "start_time": "2022-05-24T13:17:55.986Z"
   },
   {
    "duration": 10,
    "start_time": "2022-05-24T13:25:47.099Z"
   },
   {
    "duration": 18,
    "start_time": "2022-05-24T13:27:00.551Z"
   },
   {
    "duration": 17,
    "start_time": "2022-05-24T13:27:07.363Z"
   },
   {
    "duration": 13,
    "start_time": "2022-05-24T13:27:10.882Z"
   },
   {
    "duration": 11,
    "start_time": "2022-05-24T13:27:42.598Z"
   },
   {
    "duration": 11,
    "start_time": "2022-05-24T13:27:43.920Z"
   },
   {
    "duration": 18,
    "start_time": "2022-05-24T13:28:07.682Z"
   },
   {
    "duration": 14,
    "start_time": "2022-05-24T13:28:08.992Z"
   },
   {
    "duration": 20,
    "start_time": "2022-05-24T13:28:47.746Z"
   },
   {
    "duration": 25,
    "start_time": "2022-05-24T13:34:43.404Z"
   },
   {
    "duration": 14,
    "start_time": "2022-05-24T13:35:26.593Z"
   },
   {
    "duration": 7,
    "start_time": "2022-05-24T13:49:33.294Z"
   },
   {
    "duration": 10,
    "start_time": "2022-05-24T13:52:17.292Z"
   },
   {
    "duration": 32,
    "start_time": "2022-05-24T13:55:07.077Z"
   },
   {
    "duration": 52,
    "start_time": "2022-05-24T13:58:12.701Z"
   },
   {
    "duration": 47,
    "start_time": "2022-05-24T13:58:28.789Z"
   },
   {
    "duration": 51,
    "start_time": "2022-05-24T14:00:38.833Z"
   },
   {
    "duration": 51,
    "start_time": "2022-05-24T14:02:06.189Z"
   },
   {
    "duration": 40,
    "start_time": "2022-05-24T14:04:51.785Z"
   },
   {
    "duration": 51,
    "start_time": "2022-05-24T14:04:56.552Z"
   },
   {
    "duration": 38,
    "start_time": "2022-05-24T14:05:14.784Z"
   },
   {
    "duration": 24,
    "start_time": "2022-05-24T14:06:22.491Z"
   },
   {
    "duration": 71,
    "start_time": "2022-05-24T14:08:39.778Z"
   },
   {
    "duration": 45,
    "start_time": "2022-05-24T14:08:58.676Z"
   },
   {
    "duration": 55,
    "start_time": "2022-05-24T14:09:32.331Z"
   },
   {
    "duration": 51,
    "start_time": "2022-05-24T14:10:02.188Z"
   },
   {
    "duration": 82,
    "start_time": "2022-05-24T14:11:22.741Z"
   },
   {
    "duration": 17,
    "start_time": "2022-05-24T14:12:26.283Z"
   },
   {
    "duration": 53,
    "start_time": "2022-05-24T14:12:38.680Z"
   },
   {
    "duration": 15,
    "start_time": "2022-05-24T14:12:41.291Z"
   },
   {
    "duration": 334,
    "start_time": "2022-05-24T14:13:59.178Z"
   },
   {
    "duration": 20,
    "start_time": "2022-05-24T14:14:03.475Z"
   },
   {
    "duration": 17,
    "start_time": "2022-05-24T14:14:08.030Z"
   },
   {
    "duration": 41,
    "start_time": "2022-05-24T14:14:56.133Z"
   },
   {
    "duration": 32,
    "start_time": "2022-05-24T14:15:22.309Z"
   },
   {
    "duration": 53,
    "start_time": "2022-05-24T14:15:27.043Z"
   },
   {
    "duration": 36,
    "start_time": "2022-05-24T14:15:30.583Z"
   },
   {
    "duration": 44,
    "start_time": "2022-05-24T14:16:02.102Z"
   },
   {
    "duration": 33,
    "start_time": "2022-05-24T14:16:40.485Z"
   },
   {
    "duration": 14,
    "start_time": "2022-05-24T14:30:57.101Z"
   },
   {
    "duration": 9,
    "start_time": "2022-05-24T14:31:07.016Z"
   },
   {
    "duration": 39,
    "start_time": "2022-05-24T14:32:58.457Z"
   },
   {
    "duration": 40,
    "start_time": "2022-05-24T14:33:26.058Z"
   },
   {
    "duration": 8,
    "start_time": "2022-05-24T14:34:56.989Z"
   },
   {
    "duration": 9,
    "start_time": "2022-05-24T14:43:30.383Z"
   },
   {
    "duration": 8,
    "start_time": "2022-05-24T14:43:36.865Z"
   },
   {
    "duration": 9,
    "start_time": "2022-05-24T14:43:43.759Z"
   },
   {
    "duration": 23,
    "start_time": "2022-05-24T14:43:51.352Z"
   },
   {
    "duration": 8,
    "start_time": "2022-05-24T14:44:46.909Z"
   },
   {
    "duration": 15,
    "start_time": "2022-05-24T14:44:54.025Z"
   },
   {
    "duration": 20,
    "start_time": "2022-05-24T14:45:00.325Z"
   },
   {
    "duration": 9,
    "start_time": "2022-05-24T14:45:33.961Z"
   },
   {
    "duration": 7,
    "start_time": "2022-05-24T14:45:37.124Z"
   },
   {
    "duration": 140,
    "start_time": "2022-05-24T14:46:16.100Z"
   },
   {
    "duration": 35,
    "start_time": "2022-05-24T14:46:31.705Z"
   },
   {
    "duration": 21,
    "start_time": "2022-05-24T14:46:56.954Z"
   },
   {
    "duration": 11,
    "start_time": "2022-05-24T14:47:14.557Z"
   },
   {
    "duration": 20,
    "start_time": "2022-05-24T14:47:37.613Z"
   },
   {
    "duration": 9,
    "start_time": "2022-05-24T14:48:21.594Z"
   },
   {
    "duration": 143,
    "start_time": "2022-05-24T14:48:40.254Z"
   },
   {
    "duration": 6,
    "start_time": "2022-05-24T14:49:40.403Z"
   },
   {
    "duration": 9,
    "start_time": "2022-05-24T14:50:29.020Z"
   },
   {
    "duration": 7,
    "start_time": "2022-05-24T14:50:33.623Z"
   },
   {
    "duration": 12,
    "start_time": "2022-05-24T14:50:39.793Z"
   },
   {
    "duration": 7,
    "start_time": "2022-05-24T14:50:47.016Z"
   },
   {
    "duration": 12,
    "start_time": "2022-05-24T14:51:00.146Z"
   },
   {
    "duration": 7,
    "start_time": "2022-05-24T14:51:09.073Z"
   },
   {
    "duration": 17,
    "start_time": "2022-05-24T14:51:28.008Z"
   },
   {
    "duration": 15,
    "start_time": "2022-05-24T14:51:39.483Z"
   },
   {
    "duration": 16,
    "start_time": "2022-05-24T14:51:42.932Z"
   },
   {
    "duration": 19,
    "start_time": "2022-05-24T14:51:49.784Z"
   },
   {
    "duration": 12,
    "start_time": "2022-05-24T14:51:56.272Z"
   },
   {
    "duration": 8,
    "start_time": "2022-05-24T14:52:01.586Z"
   },
   {
    "duration": 34,
    "start_time": "2022-05-24T14:52:49.993Z"
   },
   {
    "duration": 25,
    "start_time": "2022-05-24T14:53:45.242Z"
   },
   {
    "duration": 40,
    "start_time": "2022-05-24T14:54:14.547Z"
   },
   {
    "duration": 22,
    "start_time": "2022-05-24T14:54:31.872Z"
   },
   {
    "duration": 41,
    "start_time": "2022-05-24T14:54:54.667Z"
   },
   {
    "duration": 37,
    "start_time": "2022-05-24T14:55:52.991Z"
   },
   {
    "duration": 19,
    "start_time": "2022-05-24T14:56:04.057Z"
   },
   {
    "duration": 33,
    "start_time": "2022-05-24T14:56:27.283Z"
   },
   {
    "duration": 34,
    "start_time": "2022-05-24T14:59:17.238Z"
   },
   {
    "duration": 14,
    "start_time": "2022-05-24T15:01:32.618Z"
   },
   {
    "duration": 16,
    "start_time": "2022-05-24T15:02:30.970Z"
   },
   {
    "duration": 17,
    "start_time": "2022-05-24T15:03:01.248Z"
   },
   {
    "duration": 9,
    "start_time": "2022-05-24T15:05:02.870Z"
   },
   {
    "duration": 11,
    "start_time": "2022-05-24T15:05:12.451Z"
   },
   {
    "duration": 9,
    "start_time": "2022-05-24T15:05:21.103Z"
   },
   {
    "duration": 8,
    "start_time": "2022-05-24T15:05:41.521Z"
   },
   {
    "duration": 11,
    "start_time": "2022-05-24T15:05:47.510Z"
   },
   {
    "duration": 9,
    "start_time": "2022-05-24T15:06:27.768Z"
   },
   {
    "duration": 6,
    "start_time": "2022-05-24T15:13:33.769Z"
   },
   {
    "duration": 13,
    "start_time": "2022-05-24T15:14:07.313Z"
   },
   {
    "duration": 520,
    "start_time": "2022-05-24T15:15:09.985Z"
   },
   {
    "duration": 428,
    "start_time": "2022-05-24T15:15:59.853Z"
   },
   {
    "duration": 10,
    "start_time": "2022-05-24T15:16:00.457Z"
   },
   {
    "duration": 9,
    "start_time": "2022-05-24T15:16:00.604Z"
   },
   {
    "duration": 15,
    "start_time": "2022-05-24T15:16:00.770Z"
   },
   {
    "duration": 10,
    "start_time": "2022-05-24T15:16:00.952Z"
   },
   {
    "duration": 8,
    "start_time": "2022-05-24T15:16:01.477Z"
   },
   {
    "duration": 9,
    "start_time": "2022-05-24T15:16:01.659Z"
   },
   {
    "duration": 28,
    "start_time": "2022-05-24T15:16:01.858Z"
   },
   {
    "duration": 23,
    "start_time": "2022-05-24T15:16:02.064Z"
   },
   {
    "duration": 7,
    "start_time": "2022-05-24T15:16:02.670Z"
   },
   {
    "duration": 6,
    "start_time": "2022-05-24T15:16:02.886Z"
   },
   {
    "duration": 13,
    "start_time": "2022-05-24T15:16:03.264Z"
   },
   {
    "duration": 17,
    "start_time": "2022-05-24T15:16:03.648Z"
   },
   {
    "duration": 8,
    "start_time": "2022-05-24T15:16:04.570Z"
   },
   {
    "duration": 7,
    "start_time": "2022-05-24T15:16:04.756Z"
   },
   {
    "duration": 26,
    "start_time": "2022-05-24T15:16:04.923Z"
   },
   {
    "duration": 19,
    "start_time": "2022-05-24T15:16:05.115Z"
   },
   {
    "duration": 8,
    "start_time": "2022-05-24T15:16:12.887Z"
   },
   {
    "duration": 10,
    "start_time": "2022-05-24T15:16:13.265Z"
   },
   {
    "duration": 13,
    "start_time": "2022-05-24T15:16:14.152Z"
   },
   {
    "duration": 10,
    "start_time": "2022-05-24T15:16:16.889Z"
   },
   {
    "duration": 42,
    "start_time": "2022-05-24T15:16:17.371Z"
   },
   {
    "duration": 16,
    "start_time": "2022-05-24T15:16:19.942Z"
   },
   {
    "duration": 23,
    "start_time": "2022-05-24T15:16:20.223Z"
   },
   {
    "duration": 13,
    "start_time": "2022-05-24T15:16:20.558Z"
   },
   {
    "duration": 29,
    "start_time": "2022-05-24T15:16:20.993Z"
   },
   {
    "duration": 15,
    "start_time": "2022-05-24T15:16:22.552Z"
   },
   {
    "duration": 13,
    "start_time": "2022-05-24T15:16:37.228Z"
   },
   {
    "duration": 9,
    "start_time": "2022-05-24T15:16:55.421Z"
   },
   {
    "duration": 48,
    "start_time": "2022-05-24T15:16:56.168Z"
   },
   {
    "duration": 31,
    "start_time": "2022-05-24T15:16:56.923Z"
   },
   {
    "duration": 31,
    "start_time": "2022-05-24T15:16:57.843Z"
   },
   {
    "duration": 29,
    "start_time": "2022-05-24T15:16:59.053Z"
   },
   {
    "duration": 15,
    "start_time": "2022-05-24T15:17:24.108Z"
   },
   {
    "duration": 8,
    "start_time": "2022-05-24T15:17:57.624Z"
   },
   {
    "duration": 21,
    "start_time": "2022-05-24T15:20:38.815Z"
   },
   {
    "duration": 21,
    "start_time": "2022-05-24T15:21:22.764Z"
   },
   {
    "duration": 17,
    "start_time": "2022-05-24T15:22:52.375Z"
   },
   {
    "duration": 16,
    "start_time": "2022-05-24T15:23:13.223Z"
   },
   {
    "duration": 23,
    "start_time": "2022-05-24T15:23:24.148Z"
   },
   {
    "duration": 34,
    "start_time": "2022-05-24T15:23:37.395Z"
   },
   {
    "duration": 20,
    "start_time": "2022-05-24T15:23:40.155Z"
   },
   {
    "duration": 20,
    "start_time": "2022-05-24T15:23:47.119Z"
   },
   {
    "duration": 13,
    "start_time": "2022-05-24T15:23:47.616Z"
   },
   {
    "duration": 1343,
    "start_time": "2022-05-25T05:04:20.244Z"
   },
   {
    "duration": 8,
    "start_time": "2022-05-25T05:04:21.590Z"
   },
   {
    "duration": 4,
    "start_time": "2022-05-25T05:05:51.464Z"
   },
   {
    "duration": 44,
    "start_time": "2022-05-25T05:07:17.041Z"
   },
   {
    "duration": 1307,
    "start_time": "2022-05-25T05:07:23.749Z"
   },
   {
    "duration": 9,
    "start_time": "2022-05-25T05:07:41.146Z"
   },
   {
    "duration": 1191,
    "start_time": "2022-05-25T07:10:11.292Z"
   },
   {
    "duration": 9,
    "start_time": "2022-05-25T07:10:12.486Z"
   },
   {
    "duration": 3,
    "start_time": "2022-05-25T07:10:14.308Z"
   },
   {
    "duration": 905,
    "start_time": "2022-05-25T07:10:36.015Z"
   },
   {
    "duration": 402,
    "start_time": "2022-05-25T07:10:43.443Z"
   },
   {
    "duration": 417,
    "start_time": "2022-05-25T07:10:45.675Z"
   },
   {
    "duration": 398,
    "start_time": "2022-05-25T07:10:52.557Z"
   },
   {
    "duration": 2,
    "start_time": "2022-05-25T07:10:52.957Z"
   },
   {
    "duration": 418,
    "start_time": "2022-05-25T07:10:55.012Z"
   },
   {
    "duration": 5,
    "start_time": "2022-05-25T07:10:56.673Z"
   },
   {
    "duration": 47,
    "start_time": "2022-05-25T07:11:19.301Z"
   },
   {
    "duration": 37,
    "start_time": "2022-05-25T07:11:24.676Z"
   },
   {
    "duration": 34,
    "start_time": "2022-05-25T07:11:46.056Z"
   },
   {
    "duration": 3,
    "start_time": "2022-05-25T07:11:47.886Z"
   },
   {
    "duration": 3,
    "start_time": "2022-05-25T07:12:13.954Z"
   },
   {
    "duration": 5,
    "start_time": "2022-05-25T07:12:13.963Z"
   },
   {
    "duration": 410,
    "start_time": "2022-05-25T07:12:13.970Z"
   },
   {
    "duration": 12,
    "start_time": "2022-05-25T07:12:14.381Z"
   },
   {
    "duration": 15,
    "start_time": "2022-05-25T07:12:14.395Z"
   },
   {
    "duration": 25,
    "start_time": "2022-05-25T07:12:14.412Z"
   },
   {
    "duration": 15,
    "start_time": "2022-05-25T07:12:14.439Z"
   },
   {
    "duration": 8,
    "start_time": "2022-05-25T07:12:14.456Z"
   },
   {
    "duration": 34,
    "start_time": "2022-05-25T07:12:14.466Z"
   },
   {
    "duration": 28,
    "start_time": "2022-05-25T07:12:14.502Z"
   },
   {
    "duration": 25,
    "start_time": "2022-05-25T07:12:14.532Z"
   },
   {
    "duration": 10,
    "start_time": "2022-05-25T07:12:14.558Z"
   },
   {
    "duration": 28,
    "start_time": "2022-05-25T07:12:14.569Z"
   },
   {
    "duration": 15,
    "start_time": "2022-05-25T07:12:14.600Z"
   },
   {
    "duration": 16,
    "start_time": "2022-05-25T07:12:14.617Z"
   },
   {
    "duration": 7,
    "start_time": "2022-05-25T07:12:14.635Z"
   },
   {
    "duration": 11,
    "start_time": "2022-05-25T07:12:14.644Z"
   },
   {
    "duration": 48,
    "start_time": "2022-05-25T07:12:14.656Z"
   },
   {
    "duration": 19,
    "start_time": "2022-05-25T07:12:14.706Z"
   },
   {
    "duration": 8,
    "start_time": "2022-05-25T07:12:14.726Z"
   },
   {
    "duration": 11,
    "start_time": "2022-05-25T07:12:14.735Z"
   },
   {
    "duration": 15,
    "start_time": "2022-05-25T07:12:14.747Z"
   },
   {
    "duration": 36,
    "start_time": "2022-05-25T07:12:14.764Z"
   },
   {
    "duration": 36,
    "start_time": "2022-05-25T07:12:14.802Z"
   },
   {
    "duration": 18,
    "start_time": "2022-05-25T07:12:14.839Z"
   },
   {
    "duration": 41,
    "start_time": "2022-05-25T07:12:14.859Z"
   },
   {
    "duration": 15,
    "start_time": "2022-05-25T07:12:14.902Z"
   },
   {
    "duration": 158,
    "start_time": "2022-05-25T07:12:14.919Z"
   },
   {
    "duration": 15,
    "start_time": "2022-05-25T07:12:15.079Z"
   },
   {
    "duration": 11,
    "start_time": "2022-05-25T07:12:15.096Z"
   },
   {
    "duration": 47,
    "start_time": "2022-05-25T07:12:15.109Z"
   },
   {
    "duration": 45,
    "start_time": "2022-05-25T07:12:15.157Z"
   },
   {
    "duration": 33,
    "start_time": "2022-05-25T07:12:15.204Z"
   },
   {
    "duration": 26,
    "start_time": "2022-05-25T07:12:15.239Z"
   },
   {
    "duration": 38,
    "start_time": "2022-05-25T07:12:15.267Z"
   },
   {
    "duration": 15,
    "start_time": "2022-05-25T07:12:15.306Z"
   },
   {
    "duration": 13,
    "start_time": "2022-05-25T09:39:12.477Z"
   },
   {
    "duration": 25,
    "start_time": "2022-05-25T09:43:55.800Z"
   },
   {
    "duration": 13,
    "start_time": "2022-05-25T09:46:21.286Z"
   },
   {
    "duration": 14,
    "start_time": "2022-05-25T09:46:25.178Z"
   },
   {
    "duration": 14,
    "start_time": "2022-05-25T09:46:34.495Z"
   },
   {
    "duration": 18,
    "start_time": "2022-05-25T09:46:42.049Z"
   },
   {
    "duration": 4,
    "start_time": "2022-05-25T09:54:41.116Z"
   },
   {
    "duration": 660,
    "start_time": "2022-05-25T09:58:09.711Z"
   },
   {
    "duration": 8,
    "start_time": "2022-05-25T09:58:40.789Z"
   },
   {
    "duration": 31,
    "start_time": "2022-05-25T09:59:48.277Z"
   },
   {
    "duration": 4,
    "start_time": "2022-05-25T09:59:53.065Z"
   },
   {
    "duration": 103,
    "start_time": "2022-05-25T09:59:53.627Z"
   },
   {
    "duration": 107,
    "start_time": "2022-05-25T09:59:59.222Z"
   },
   {
    "duration": 121,
    "start_time": "2022-05-25T10:00:40.026Z"
   },
   {
    "duration": 3,
    "start_time": "2022-05-25T11:19:19.242Z"
   },
   {
    "duration": 116,
    "start_time": "2022-05-25T11:19:25.238Z"
   },
   {
    "duration": 1004,
    "start_time": "2022-05-25T11:20:36.333Z"
   },
   {
    "duration": 3,
    "start_time": "2022-05-25T11:20:37.339Z"
   },
   {
    "duration": 405,
    "start_time": "2022-05-25T11:20:37.343Z"
   },
   {
    "duration": 14,
    "start_time": "2022-05-25T11:20:37.750Z"
   },
   {
    "duration": 16,
    "start_time": "2022-05-25T11:20:37.765Z"
   },
   {
    "duration": 19,
    "start_time": "2022-05-25T11:20:37.783Z"
   },
   {
    "duration": 11,
    "start_time": "2022-05-25T11:20:37.804Z"
   },
   {
    "duration": 7,
    "start_time": "2022-05-25T11:20:37.817Z"
   },
   {
    "duration": 11,
    "start_time": "2022-05-25T11:20:37.825Z"
   },
   {
    "duration": 28,
    "start_time": "2022-05-25T11:20:37.839Z"
   },
   {
    "duration": 44,
    "start_time": "2022-05-25T11:20:37.869Z"
   },
   {
    "duration": 7,
    "start_time": "2022-05-25T11:20:37.915Z"
   },
   {
    "duration": 11,
    "start_time": "2022-05-25T11:20:37.924Z"
   },
   {
    "duration": 16,
    "start_time": "2022-05-25T11:20:37.936Z"
   },
   {
    "duration": 44,
    "start_time": "2022-05-25T11:20:37.954Z"
   },
   {
    "duration": 8,
    "start_time": "2022-05-25T11:20:37.999Z"
   },
   {
    "duration": 11,
    "start_time": "2022-05-25T11:20:38.008Z"
   },
   {
    "duration": 31,
    "start_time": "2022-05-25T11:20:38.020Z"
   },
   {
    "duration": 44,
    "start_time": "2022-05-25T11:20:38.053Z"
   },
   {
    "duration": 13,
    "start_time": "2022-05-25T11:20:38.099Z"
   },
   {
    "duration": 15,
    "start_time": "2022-05-25T11:20:38.113Z"
   },
   {
    "duration": 15,
    "start_time": "2022-05-25T11:20:38.129Z"
   },
   {
    "duration": 15,
    "start_time": "2022-05-25T11:20:38.145Z"
   },
   {
    "duration": 53,
    "start_time": "2022-05-25T11:20:38.162Z"
   },
   {
    "duration": 18,
    "start_time": "2022-05-25T11:20:38.217Z"
   },
   {
    "duration": 26,
    "start_time": "2022-05-25T11:20:38.236Z"
   },
   {
    "duration": 33,
    "start_time": "2022-05-25T11:20:38.263Z"
   },
   {
    "duration": 35,
    "start_time": "2022-05-25T11:20:38.300Z"
   },
   {
    "duration": 15,
    "start_time": "2022-05-25T11:20:38.337Z"
   },
   {
    "duration": 9,
    "start_time": "2022-05-25T11:20:38.354Z"
   },
   {
    "duration": 78,
    "start_time": "2022-05-25T11:20:38.364Z"
   },
   {
    "duration": 33,
    "start_time": "2022-05-25T11:20:38.444Z"
   },
   {
    "duration": 47,
    "start_time": "2022-05-25T11:20:38.478Z"
   },
   {
    "duration": 27,
    "start_time": "2022-05-25T11:20:38.526Z"
   },
   {
    "duration": 15,
    "start_time": "2022-05-25T11:20:38.555Z"
   },
   {
    "duration": 23,
    "start_time": "2022-05-25T11:20:38.571Z"
   },
   {
    "duration": 120,
    "start_time": "2022-05-25T11:20:38.596Z"
   },
   {
    "duration": 121,
    "start_time": "2022-05-25T11:22:06.094Z"
   },
   {
    "duration": 121,
    "start_time": "2022-05-25T11:22:19.013Z"
   },
   {
    "duration": 50,
    "start_time": "2022-05-25T11:30:56.201Z"
   },
   {
    "duration": 44,
    "start_time": "2022-05-25T11:30:57.747Z"
   },
   {
    "duration": 17,
    "start_time": "2022-05-25T11:33:12.953Z"
   },
   {
    "duration": 11,
    "start_time": "2022-05-25T11:33:15.124Z"
   },
   {
    "duration": 475,
    "start_time": "2022-05-25T11:33:35.097Z"
   },
   {
    "duration": 436,
    "start_time": "2022-05-25T11:33:40.780Z"
   },
   {
    "duration": 6,
    "start_time": "2022-05-25T11:33:50.666Z"
   },
   {
    "duration": 13,
    "start_time": "2022-05-25T11:34:40.680Z"
   },
   {
    "duration": 12,
    "start_time": "2022-05-25T11:36:48.299Z"
   },
   {
    "duration": 20,
    "start_time": "2022-05-25T11:37:09.493Z"
   },
   {
    "duration": 20,
    "start_time": "2022-05-25T11:37:20.402Z"
   },
   {
    "duration": 16,
    "start_time": "2022-05-25T11:37:44.519Z"
   },
   {
    "duration": 122,
    "start_time": "2022-05-25T13:02:47.958Z"
   },
   {
    "duration": 3,
    "start_time": "2022-05-25T13:04:22.720Z"
   },
   {
    "duration": 12,
    "start_time": "2022-05-25T13:04:28.680Z"
   },
   {
    "duration": 24,
    "start_time": "2022-05-25T13:04:35.003Z"
   },
   {
    "duration": 6,
    "start_time": "2022-05-25T13:04:38.050Z"
   },
   {
    "duration": 364,
    "start_time": "2022-05-25T13:05:29.145Z"
   },
   {
    "duration": 168,
    "start_time": "2022-05-25T13:06:01.913Z"
   },
   {
    "duration": 7,
    "start_time": "2022-05-25T13:07:53.810Z"
   },
   {
    "duration": 32,
    "start_time": "2022-05-25T13:08:51.500Z"
   },
   {
    "duration": 10,
    "start_time": "2022-05-25T13:08:55.061Z"
   },
   {
    "duration": 8,
    "start_time": "2022-05-25T13:08:58.339Z"
   },
   {
    "duration": 14,
    "start_time": "2022-05-25T13:09:06.414Z"
   },
   {
    "duration": 3,
    "start_time": "2022-05-25T13:09:28.880Z"
   },
   {
    "duration": 12,
    "start_time": "2022-05-25T13:09:36.132Z"
   },
   {
    "duration": 32,
    "start_time": "2022-05-25T13:09:58.893Z"
   },
   {
    "duration": 13,
    "start_time": "2022-05-25T13:27:02.462Z"
   },
   {
    "duration": 18,
    "start_time": "2022-05-25T13:32:55.893Z"
   },
   {
    "duration": 13,
    "start_time": "2022-05-25T13:33:02.966Z"
   },
   {
    "duration": 10,
    "start_time": "2022-05-25T13:33:19.611Z"
   },
   {
    "duration": 21,
    "start_time": "2022-05-25T13:48:48.645Z"
   },
   {
    "duration": 13,
    "start_time": "2022-05-25T13:49:04.619Z"
   },
   {
    "duration": 16,
    "start_time": "2022-05-25T13:49:08.535Z"
   },
   {
    "duration": 12,
    "start_time": "2022-05-25T13:49:24.294Z"
   },
   {
    "duration": 21,
    "start_time": "2022-05-25T13:57:21.154Z"
   },
   {
    "duration": 132,
    "start_time": "2022-05-25T13:57:39.232Z"
   },
   {
    "duration": 160,
    "start_time": "2022-05-25T13:57:47.320Z"
   },
   {
    "duration": 140,
    "start_time": "2022-05-25T13:57:52.516Z"
   },
   {
    "duration": 194,
    "start_time": "2022-05-25T13:57:55.786Z"
   },
   {
    "duration": 157,
    "start_time": "2022-05-25T13:58:00.611Z"
   },
   {
    "duration": 174,
    "start_time": "2022-05-25T13:58:46.031Z"
   },
   {
    "duration": 168,
    "start_time": "2022-05-25T13:59:17.204Z"
   },
   {
    "duration": 174,
    "start_time": "2022-05-25T13:59:32.709Z"
   },
   {
    "duration": 164,
    "start_time": "2022-05-25T13:59:45.550Z"
   },
   {
    "duration": 231,
    "start_time": "2022-05-25T13:59:56.105Z"
   },
   {
    "duration": 15,
    "start_time": "2022-05-25T14:03:14.448Z"
   },
   {
    "duration": 185,
    "start_time": "2022-05-25T14:04:13.110Z"
   },
   {
    "duration": 172,
    "start_time": "2022-05-25T14:04:16.652Z"
   },
   {
    "duration": 190,
    "start_time": "2022-05-25T14:07:28.148Z"
   },
   {
    "duration": 194,
    "start_time": "2022-05-25T14:07:32.010Z"
   },
   {
    "duration": 195,
    "start_time": "2022-05-25T14:07:43.056Z"
   },
   {
    "duration": 15,
    "start_time": "2022-05-25T14:08:22.521Z"
   },
   {
    "duration": 13,
    "start_time": "2022-05-25T14:08:29.201Z"
   },
   {
    "duration": 22,
    "start_time": "2022-05-25T14:08:33.468Z"
   },
   {
    "duration": 14,
    "start_time": "2022-05-25T14:10:27.915Z"
   },
   {
    "duration": 14,
    "start_time": "2022-05-25T14:11:08.131Z"
   },
   {
    "duration": 16,
    "start_time": "2022-05-25T14:11:18.842Z"
   },
   {
    "duration": 13,
    "start_time": "2022-05-25T14:11:23.989Z"
   },
   {
    "duration": 12,
    "start_time": "2022-05-25T14:11:38.522Z"
   },
   {
    "duration": 13,
    "start_time": "2022-05-25T14:11:41.487Z"
   },
   {
    "duration": 16,
    "start_time": "2022-05-25T14:11:50.805Z"
   },
   {
    "duration": 13,
    "start_time": "2022-05-25T14:13:28.431Z"
   },
   {
    "duration": 174,
    "start_time": "2022-05-25T14:13:29.246Z"
   },
   {
    "duration": 173,
    "start_time": "2022-05-25T14:13:49.887Z"
   },
   {
    "duration": 177,
    "start_time": "2022-05-25T14:13:57.880Z"
   },
   {
    "duration": 12,
    "start_time": "2022-05-25T14:14:43.085Z"
   },
   {
    "duration": 179,
    "start_time": "2022-05-25T14:14:43.587Z"
   },
   {
    "duration": 162,
    "start_time": "2022-05-25T14:14:43.899Z"
   },
   {
    "duration": 14,
    "start_time": "2022-05-25T15:01:40.760Z"
   },
   {
    "duration": 1260,
    "start_time": "2022-05-25T18:53:27.984Z"
   },
   {
    "duration": 4,
    "start_time": "2022-05-25T18:53:29.246Z"
   },
   {
    "duration": 955,
    "start_time": "2022-05-25T18:53:29.252Z"
   },
   {
    "duration": 15,
    "start_time": "2022-05-25T18:53:30.208Z"
   },
   {
    "duration": 34,
    "start_time": "2022-05-25T18:53:30.225Z"
   },
   {
    "duration": 27,
    "start_time": "2022-05-25T18:53:30.261Z"
   },
   {
    "duration": 24,
    "start_time": "2022-05-25T18:53:30.290Z"
   },
   {
    "duration": 14,
    "start_time": "2022-05-25T18:53:30.316Z"
   },
   {
    "duration": 36,
    "start_time": "2022-05-25T18:53:30.332Z"
   },
   {
    "duration": 34,
    "start_time": "2022-05-25T18:53:30.370Z"
   },
   {
    "duration": 25,
    "start_time": "2022-05-25T18:53:30.407Z"
   },
   {
    "duration": 34,
    "start_time": "2022-05-25T18:53:30.434Z"
   },
   {
    "duration": 24,
    "start_time": "2022-05-25T18:53:30.470Z"
   },
   {
    "duration": 22,
    "start_time": "2022-05-25T18:53:30.497Z"
   },
   {
    "duration": 18,
    "start_time": "2022-05-25T18:53:30.521Z"
   },
   {
    "duration": 18,
    "start_time": "2022-05-25T18:53:30.540Z"
   },
   {
    "duration": 14,
    "start_time": "2022-05-25T18:53:30.560Z"
   },
   {
    "duration": 32,
    "start_time": "2022-05-25T18:53:30.575Z"
   },
   {
    "duration": 25,
    "start_time": "2022-05-25T18:53:30.609Z"
   },
   {
    "duration": 8,
    "start_time": "2022-05-25T18:53:30.636Z"
   },
   {
    "duration": 15,
    "start_time": "2022-05-25T18:53:30.645Z"
   },
   {
    "duration": 23,
    "start_time": "2022-05-25T18:53:30.662Z"
   },
   {
    "duration": 19,
    "start_time": "2022-05-25T18:53:30.687Z"
   },
   {
    "duration": 45,
    "start_time": "2022-05-25T18:53:30.708Z"
   },
   {
    "duration": 19,
    "start_time": "2022-05-25T18:53:30.755Z"
   },
   {
    "duration": 33,
    "start_time": "2022-05-25T18:53:30.775Z"
   },
   {
    "duration": 28,
    "start_time": "2022-05-25T18:53:30.810Z"
   },
   {
    "duration": 37,
    "start_time": "2022-05-25T18:53:30.839Z"
   },
   {
    "duration": 16,
    "start_time": "2022-05-25T18:53:30.878Z"
   },
   {
    "duration": 35,
    "start_time": "2022-05-25T18:53:30.895Z"
   },
   {
    "duration": 86,
    "start_time": "2022-05-25T18:53:30.932Z"
   },
   {
    "duration": 39,
    "start_time": "2022-05-25T18:53:31.020Z"
   },
   {
    "duration": 41,
    "start_time": "2022-05-25T18:53:31.061Z"
   },
   {
    "duration": 48,
    "start_time": "2022-05-25T18:53:31.104Z"
   },
   {
    "duration": 18,
    "start_time": "2022-05-25T18:53:31.153Z"
   },
   {
    "duration": 12,
    "start_time": "2022-05-25T18:53:31.173Z"
   },
   {
    "duration": 143,
    "start_time": "2022-05-25T18:53:31.186Z"
   },
   {
    "duration": 2,
    "start_time": "2022-05-25T18:53:31.331Z"
   },
   {
    "duration": 23,
    "start_time": "2022-05-25T18:53:31.335Z"
   },
   {
    "duration": 15,
    "start_time": "2022-05-25T18:53:31.360Z"
   },
   {
    "duration": 169,
    "start_time": "2022-05-25T18:53:31.379Z"
   },
   {
    "duration": 16,
    "start_time": "2022-05-25T18:53:31.550Z"
   },
   {
    "duration": 13,
    "start_time": "2022-05-25T18:53:31.568Z"
   },
   {
    "duration": 297,
    "start_time": "2022-05-25T18:53:31.583Z"
   },
   {
    "duration": 191,
    "start_time": "2022-05-25T18:53:31.882Z"
   },
   {
    "duration": 15,
    "start_time": "2022-05-25T18:53:32.074Z"
   },
   {
    "duration": 204,
    "start_time": "2022-05-25T18:53:32.092Z"
   },
   {
    "duration": 169,
    "start_time": "2022-05-25T18:53:32.298Z"
   },
   {
    "duration": 13,
    "start_time": "2022-05-25T18:53:32.469Z"
   },
   {
    "duration": 189,
    "start_time": "2022-05-25T18:53:32.484Z"
   },
   {
    "duration": 183,
    "start_time": "2022-05-25T18:53:32.675Z"
   },
   {
    "duration": 14,
    "start_time": "2022-05-25T18:53:32.860Z"
   },
   {
    "duration": 13,
    "start_time": "2022-05-25T18:58:32.466Z"
   },
   {
    "duration": 5,
    "start_time": "2022-05-25T18:59:21.079Z"
   },
   {
    "duration": 21,
    "start_time": "2022-05-25T19:00:04.314Z"
   },
   {
    "duration": 14,
    "start_time": "2022-05-25T19:00:40.877Z"
   },
   {
    "duration": 8,
    "start_time": "2022-05-25T19:01:37.747Z"
   },
   {
    "duration": 8,
    "start_time": "2022-05-25T19:01:42.635Z"
   },
   {
    "duration": 9,
    "start_time": "2022-05-25T19:03:23.250Z"
   },
   {
    "duration": 10,
    "start_time": "2022-05-25T19:03:53.993Z"
   },
   {
    "duration": 12,
    "start_time": "2022-05-25T19:05:18.411Z"
   },
   {
    "duration": 9,
    "start_time": "2022-05-25T19:05:20.252Z"
   },
   {
    "duration": 14,
    "start_time": "2022-05-25T19:08:01.792Z"
   },
   {
    "duration": 4,
    "start_time": "2022-05-25T19:08:23.298Z"
   },
   {
    "duration": 6,
    "start_time": "2022-05-25T19:08:32.105Z"
   },
   {
    "duration": 13,
    "start_time": "2022-05-25T19:17:50.554Z"
   },
   {
    "duration": 11,
    "start_time": "2022-05-25T19:18:16.353Z"
   },
   {
    "duration": 10,
    "start_time": "2022-05-25T19:18:33.018Z"
   },
   {
    "duration": 3,
    "start_time": "2022-05-25T19:23:15.605Z"
   },
   {
    "duration": 3,
    "start_time": "2022-05-25T19:23:16.037Z"
   },
   {
    "duration": 416,
    "start_time": "2022-05-25T19:23:17.381Z"
   },
   {
    "duration": 10,
    "start_time": "2022-05-25T19:23:17.900Z"
   },
   {
    "duration": 9,
    "start_time": "2022-05-25T19:23:18.088Z"
   },
   {
    "duration": 1151,
    "start_time": "2022-05-26T06:46:44.578Z"
   },
   {
    "duration": 3,
    "start_time": "2022-05-26T06:46:45.731Z"
   },
   {
    "duration": 1021,
    "start_time": "2022-05-26T06:46:45.735Z"
   },
   {
    "duration": 13,
    "start_time": "2022-05-26T06:46:46.758Z"
   },
   {
    "duration": 10,
    "start_time": "2022-05-26T06:46:46.773Z"
   },
   {
    "duration": 17,
    "start_time": "2022-05-26T06:46:46.785Z"
   },
   {
    "duration": 12,
    "start_time": "2022-05-26T06:46:46.804Z"
   },
   {
    "duration": 11,
    "start_time": "2022-05-26T06:46:46.817Z"
   },
   {
    "duration": 30,
    "start_time": "2022-05-26T06:46:46.830Z"
   },
   {
    "duration": 31,
    "start_time": "2022-05-26T06:46:46.863Z"
   },
   {
    "duration": 24,
    "start_time": "2022-05-26T06:46:46.895Z"
   },
   {
    "duration": 6,
    "start_time": "2022-05-26T06:46:46.921Z"
   },
   {
    "duration": 32,
    "start_time": "2022-05-26T06:46:46.928Z"
   },
   {
    "duration": 14,
    "start_time": "2022-05-26T06:46:46.962Z"
   },
   {
    "duration": 16,
    "start_time": "2022-05-26T06:46:46.977Z"
   },
   {
    "duration": 7,
    "start_time": "2022-05-26T06:46:46.995Z"
   },
   {
    "duration": 11,
    "start_time": "2022-05-26T06:46:47.004Z"
   },
   {
    "duration": 49,
    "start_time": "2022-05-26T06:46:47.016Z"
   },
   {
    "duration": 17,
    "start_time": "2022-05-26T06:46:47.067Z"
   },
   {
    "duration": 7,
    "start_time": "2022-05-26T06:46:47.086Z"
   },
   {
    "duration": 10,
    "start_time": "2022-05-26T06:46:47.094Z"
   },
   {
    "duration": 11,
    "start_time": "2022-05-26T06:46:47.106Z"
   },
   {
    "duration": 14,
    "start_time": "2022-05-26T06:46:47.119Z"
   },
   {
    "duration": 55,
    "start_time": "2022-05-26T06:46:47.134Z"
   },
   {
    "duration": 18,
    "start_time": "2022-05-26T06:46:47.190Z"
   },
   {
    "duration": 26,
    "start_time": "2022-05-26T06:46:47.210Z"
   },
   {
    "duration": 28,
    "start_time": "2022-05-26T06:46:47.237Z"
   },
   {
    "duration": 34,
    "start_time": "2022-05-26T06:46:47.268Z"
   },
   {
    "duration": 15,
    "start_time": "2022-05-26T06:46:47.304Z"
   },
   {
    "duration": 9,
    "start_time": "2022-05-26T06:46:47.320Z"
   },
   {
    "duration": 75,
    "start_time": "2022-05-26T06:46:47.331Z"
   },
   {
    "duration": 32,
    "start_time": "2022-05-26T06:46:47.407Z"
   },
   {
    "duration": 35,
    "start_time": "2022-05-26T06:46:47.459Z"
   },
   {
    "duration": 27,
    "start_time": "2022-05-26T06:46:47.495Z"
   },
   {
    "duration": 38,
    "start_time": "2022-05-26T06:46:47.524Z"
   },
   {
    "duration": 4,
    "start_time": "2022-05-26T06:46:47.564Z"
   },
   {
    "duration": 109,
    "start_time": "2022-05-26T06:46:47.569Z"
   },
   {
    "duration": 2,
    "start_time": "2022-05-26T06:46:47.680Z"
   },
   {
    "duration": 13,
    "start_time": "2022-05-26T06:46:47.684Z"
   },
   {
    "duration": 15,
    "start_time": "2022-05-26T06:46:47.698Z"
   },
   {
    "duration": 194,
    "start_time": "2022-05-26T06:46:47.715Z"
   },
   {
    "duration": 13,
    "start_time": "2022-05-26T06:46:47.910Z"
   },
   {
    "duration": 12,
    "start_time": "2022-05-26T06:46:47.925Z"
   },
   {
    "duration": 237,
    "start_time": "2022-05-26T06:46:47.938Z"
   },
   {
    "duration": 158,
    "start_time": "2022-05-26T06:46:48.176Z"
   },
   {
    "duration": 13,
    "start_time": "2022-05-26T06:46:48.335Z"
   },
   {
    "duration": 160,
    "start_time": "2022-05-26T06:46:48.359Z"
   },
   {
    "duration": 149,
    "start_time": "2022-05-26T06:46:48.520Z"
   },
   {
    "duration": 11,
    "start_time": "2022-05-26T06:46:48.671Z"
   },
   {
    "duration": 166,
    "start_time": "2022-05-26T06:46:48.683Z"
   },
   {
    "duration": 153,
    "start_time": "2022-05-26T06:46:48.850Z"
   },
   {
    "duration": 13,
    "start_time": "2022-05-26T06:46:49.005Z"
   },
   {
    "duration": 12,
    "start_time": "2022-05-26T06:46:49.019Z"
   },
   {
    "duration": 6,
    "start_time": "2022-05-26T06:46:49.032Z"
   },
   {
    "duration": 27,
    "start_time": "2022-05-26T06:46:49.039Z"
   },
   {
    "duration": 13,
    "start_time": "2022-05-26T07:10:37.065Z"
   },
   {
    "duration": 11,
    "start_time": "2022-05-26T07:24:40.204Z"
   },
   {
    "duration": 4,
    "start_time": "2022-05-26T07:27:22.534Z"
   },
   {
    "duration": 4,
    "start_time": "2022-05-26T07:27:25.231Z"
   },
   {
    "duration": 4,
    "start_time": "2022-05-26T07:28:13.434Z"
   },
   {
    "duration": 5,
    "start_time": "2022-05-26T07:28:47.033Z"
   },
   {
    "duration": 9,
    "start_time": "2022-05-26T07:29:35.648Z"
   },
   {
    "duration": 14,
    "start_time": "2022-05-26T07:29:44.905Z"
   },
   {
    "duration": 16,
    "start_time": "2022-05-26T07:29:51.115Z"
   },
   {
    "duration": 16,
    "start_time": "2022-05-26T07:29:59.291Z"
   },
   {
    "duration": 13,
    "start_time": "2022-05-26T07:30:03.773Z"
   },
   {
    "duration": 6,
    "start_time": "2022-05-26T07:31:11.996Z"
   },
   {
    "duration": 5,
    "start_time": "2022-05-26T07:31:50.188Z"
   },
   {
    "duration": 4,
    "start_time": "2022-05-26T07:31:56.103Z"
   },
   {
    "duration": 12,
    "start_time": "2022-05-26T07:32:44.771Z"
   },
   {
    "duration": 40,
    "start_time": "2022-05-26T07:32:56.383Z"
   },
   {
    "duration": 11,
    "start_time": "2022-05-26T07:33:07.535Z"
   },
   {
    "duration": 12,
    "start_time": "2022-05-26T07:33:16.200Z"
   },
   {
    "duration": 12,
    "start_time": "2022-05-26T07:33:24.594Z"
   },
   {
    "duration": 11,
    "start_time": "2022-05-26T07:34:05.603Z"
   },
   {
    "duration": 11,
    "start_time": "2022-05-26T07:34:05.820Z"
   },
   {
    "duration": 12,
    "start_time": "2022-05-26T07:34:08.104Z"
   },
   {
    "duration": 16,
    "start_time": "2022-05-26T07:34:33.044Z"
   },
   {
    "duration": 10,
    "start_time": "2022-05-26T07:34:39.953Z"
   },
   {
    "duration": 15,
    "start_time": "2022-05-26T07:34:40.765Z"
   },
   {
    "duration": 11,
    "start_time": "2022-05-26T07:35:10.819Z"
   },
   {
    "duration": 9,
    "start_time": "2022-05-26T07:39:55.851Z"
   },
   {
    "duration": 4,
    "start_time": "2022-05-26T07:39:56.116Z"
   },
   {
    "duration": 9,
    "start_time": "2022-05-26T07:39:56.565Z"
   },
   {
    "duration": 11,
    "start_time": "2022-05-26T07:39:57.473Z"
   },
   {
    "duration": 11,
    "start_time": "2022-05-26T07:39:59.534Z"
   },
   {
    "duration": 6,
    "start_time": "2022-05-26T07:40:06.731Z"
   },
   {
    "duration": 5,
    "start_time": "2022-05-26T07:40:06.946Z"
   },
   {
    "duration": 8,
    "start_time": "2022-05-26T07:40:10.757Z"
   },
   {
    "duration": 12,
    "start_time": "2022-05-26T07:40:15.102Z"
   },
   {
    "duration": 11,
    "start_time": "2022-05-26T07:40:19.776Z"
   },
   {
    "duration": 10,
    "start_time": "2022-05-26T07:40:23.544Z"
   },
   {
    "duration": 10,
    "start_time": "2022-05-26T07:40:27.048Z"
   },
   {
    "duration": 7,
    "start_time": "2022-05-26T07:41:02.402Z"
   },
   {
    "duration": 6,
    "start_time": "2022-05-26T07:41:08.953Z"
   },
   {
    "duration": 4,
    "start_time": "2022-05-26T07:41:16.714Z"
   },
   {
    "duration": 4,
    "start_time": "2022-05-26T07:42:47.356Z"
   },
   {
    "duration": 13,
    "start_time": "2022-05-26T07:44:23.888Z"
   },
   {
    "duration": 9,
    "start_time": "2022-05-26T07:44:23.909Z"
   },
   {
    "duration": 11,
    "start_time": "2022-05-26T07:44:25.925Z"
   },
   {
    "duration": 10,
    "start_time": "2022-05-26T07:44:26.112Z"
   },
   {
    "duration": 10,
    "start_time": "2022-05-26T07:44:26.485Z"
   },
   {
    "duration": 9,
    "start_time": "2022-05-26T07:44:26.984Z"
   },
   {
    "duration": 10,
    "start_time": "2022-05-26T07:44:28.401Z"
   },
   {
    "duration": 6,
    "start_time": "2022-05-26T07:44:32.959Z"
   },
   {
    "duration": 13,
    "start_time": "2022-05-26T07:44:42.606Z"
   },
   {
    "duration": 13,
    "start_time": "2022-05-26T07:44:45.031Z"
   },
   {
    "duration": 13,
    "start_time": "2022-05-26T07:45:14.932Z"
   },
   {
    "duration": 12,
    "start_time": "2022-05-26T07:45:24.401Z"
   },
   {
    "duration": 10,
    "start_time": "2022-05-26T07:45:27.105Z"
   },
   {
    "duration": 10,
    "start_time": "2022-05-26T07:45:35.454Z"
   },
   {
    "duration": 11,
    "start_time": "2022-05-26T07:45:50.675Z"
   },
   {
    "duration": 10,
    "start_time": "2022-05-26T07:45:51.174Z"
   },
   {
    "duration": 10,
    "start_time": "2022-05-26T07:45:58.613Z"
   },
   {
    "duration": 5,
    "start_time": "2022-05-26T07:47:07.046Z"
   },
   {
    "duration": 4,
    "start_time": "2022-05-26T08:20:04.653Z"
   },
   {
    "duration": 5,
    "start_time": "2022-05-26T08:26:10.616Z"
   },
   {
    "duration": 155,
    "start_time": "2022-05-26T08:27:00.465Z"
   },
   {
    "duration": 15,
    "start_time": "2022-05-26T08:27:01.233Z"
   },
   {
    "duration": 126,
    "start_time": "2022-05-26T08:33:36.235Z"
   },
   {
    "duration": 124,
    "start_time": "2022-05-26T08:33:40.365Z"
   },
   {
    "duration": 22,
    "start_time": "2022-05-26T08:34:33.052Z"
   },
   {
    "duration": 12,
    "start_time": "2022-05-26T09:45:18.779Z"
   },
   {
    "duration": 127,
    "start_time": "2022-05-26T09:45:32.478Z"
   },
   {
    "duration": 135,
    "start_time": "2022-05-26T09:45:40.428Z"
   },
   {
    "duration": 14,
    "start_time": "2022-05-26T09:46:10.195Z"
   },
   {
    "duration": 209,
    "start_time": "2022-05-26T09:46:15.930Z"
   },
   {
    "duration": 117,
    "start_time": "2022-05-26T09:46:59.908Z"
   },
   {
    "duration": 5,
    "start_time": "2022-05-26T09:48:07.066Z"
   },
   {
    "duration": 5,
    "start_time": "2022-05-26T09:48:21.109Z"
   },
   {
    "duration": 6,
    "start_time": "2022-05-26T09:48:21.510Z"
   },
   {
    "duration": 127,
    "start_time": "2022-05-26T09:48:22.034Z"
   },
   {
    "duration": 157,
    "start_time": "2022-05-26T09:48:22.588Z"
   },
   {
    "duration": 143,
    "start_time": "2022-05-26T09:48:53.618Z"
   },
   {
    "duration": 128,
    "start_time": "2022-05-26T09:48:54.192Z"
   },
   {
    "duration": 127,
    "start_time": "2022-05-26T09:49:17.318Z"
   },
   {
    "duration": 258,
    "start_time": "2022-05-26T09:57:07.327Z"
   },
   {
    "duration": 193,
    "start_time": "2022-05-26T09:59:18.473Z"
   },
   {
    "duration": 259,
    "start_time": "2022-05-26T09:59:31.914Z"
   },
   {
    "duration": 311,
    "start_time": "2022-05-26T10:00:19.720Z"
   },
   {
    "duration": 15,
    "start_time": "2022-05-26T10:10:16.834Z"
   },
   {
    "duration": 15,
    "start_time": "2022-05-26T10:10:19.433Z"
   },
   {
    "duration": 6,
    "start_time": "2022-05-26T10:12:45.309Z"
   },
   {
    "duration": 16,
    "start_time": "2022-05-26T10:12:56.787Z"
   },
   {
    "duration": 5,
    "start_time": "2022-05-26T10:13:06.846Z"
   },
   {
    "duration": 255,
    "start_time": "2022-05-26T10:21:48.625Z"
   },
   {
    "duration": 257,
    "start_time": "2022-05-26T10:21:55.068Z"
   },
   {
    "duration": 256,
    "start_time": "2022-05-26T10:21:58.134Z"
   },
   {
    "duration": 16,
    "start_time": "2022-05-26T10:29:30.449Z"
   },
   {
    "duration": 7,
    "start_time": "2022-05-26T10:29:34.135Z"
   },
   {
    "duration": 125,
    "start_time": "2022-05-26T10:29:43.539Z"
   },
   {
    "duration": 125,
    "start_time": "2022-05-26T10:29:45.793Z"
   },
   {
    "duration": 137,
    "start_time": "2022-05-26T10:29:52.044Z"
   },
   {
    "duration": 137,
    "start_time": "2022-05-26T10:30:58.224Z"
   },
   {
    "duration": 165,
    "start_time": "2022-05-26T10:31:03.679Z"
   },
   {
    "duration": 170,
    "start_time": "2022-05-26T10:31:09.509Z"
   },
   {
    "duration": 275,
    "start_time": "2022-05-26T10:31:11.966Z"
   },
   {
    "duration": 149,
    "start_time": "2022-05-26T10:31:20.589Z"
   },
   {
    "duration": 166,
    "start_time": "2022-05-26T10:31:24.384Z"
   },
   {
    "duration": 297,
    "start_time": "2022-05-26T10:31:44.340Z"
   },
   {
    "duration": 5,
    "start_time": "2022-05-26T10:31:54.706Z"
   },
   {
    "duration": 272,
    "start_time": "2022-05-26T10:32:13.073Z"
   },
   {
    "duration": 6,
    "start_time": "2022-05-26T10:32:21.118Z"
   },
   {
    "duration": 8,
    "start_time": "2022-05-26T10:32:22.013Z"
   },
   {
    "duration": 292,
    "start_time": "2022-05-26T10:33:17.416Z"
   },
   {
    "duration": 286,
    "start_time": "2022-05-26T10:41:22.428Z"
   },
   {
    "duration": 324,
    "start_time": "2022-05-26T10:41:25.825Z"
   },
   {
    "duration": 402,
    "start_time": "2022-05-26T10:41:45.136Z"
   },
   {
    "duration": 312,
    "start_time": "2022-05-26T10:42:00.525Z"
   },
   {
    "duration": 362,
    "start_time": "2022-05-26T10:42:53.188Z"
   },
   {
    "duration": 474,
    "start_time": "2022-05-26T10:43:07.445Z"
   },
   {
    "duration": 324,
    "start_time": "2022-05-26T10:43:13.011Z"
   },
   {
    "duration": 1024,
    "start_time": "2022-05-26T10:43:32.898Z"
   },
   {
    "duration": 2,
    "start_time": "2022-05-26T10:43:33.924Z"
   },
   {
    "duration": 1106,
    "start_time": "2022-05-26T10:43:33.928Z"
   },
   {
    "duration": 13,
    "start_time": "2022-05-26T10:43:35.035Z"
   },
   {
    "duration": 14,
    "start_time": "2022-05-26T10:43:35.049Z"
   },
   {
    "duration": 36,
    "start_time": "2022-05-26T10:43:35.066Z"
   },
   {
    "duration": 18,
    "start_time": "2022-05-26T10:43:35.103Z"
   },
   {
    "duration": 14,
    "start_time": "2022-05-26T10:43:35.123Z"
   },
   {
    "duration": 19,
    "start_time": "2022-05-26T10:43:35.138Z"
   },
   {
    "duration": 44,
    "start_time": "2022-05-26T10:43:35.160Z"
   },
   {
    "duration": 20,
    "start_time": "2022-05-26T10:43:35.206Z"
   },
   {
    "duration": 10,
    "start_time": "2022-05-26T10:43:35.228Z"
   },
   {
    "duration": 43,
    "start_time": "2022-05-26T10:43:35.240Z"
   },
   {
    "duration": 32,
    "start_time": "2022-05-26T10:43:35.284Z"
   },
   {
    "duration": 28,
    "start_time": "2022-05-26T10:43:35.318Z"
   },
   {
    "duration": 50,
    "start_time": "2022-05-26T10:43:35.348Z"
   },
   {
    "duration": 27,
    "start_time": "2022-05-26T10:43:35.399Z"
   },
   {
    "duration": 50,
    "start_time": "2022-05-26T10:43:35.427Z"
   },
   {
    "duration": 20,
    "start_time": "2022-05-26T10:43:35.479Z"
   },
   {
    "duration": 10,
    "start_time": "2022-05-26T10:43:35.501Z"
   },
   {
    "duration": 15,
    "start_time": "2022-05-26T10:43:35.512Z"
   },
   {
    "duration": 39,
    "start_time": "2022-05-26T10:43:35.528Z"
   },
   {
    "duration": 45,
    "start_time": "2022-05-26T10:43:35.569Z"
   },
   {
    "duration": 82,
    "start_time": "2022-05-26T10:43:35.615Z"
   },
   {
    "duration": 17,
    "start_time": "2022-05-26T10:43:35.699Z"
   },
   {
    "duration": 47,
    "start_time": "2022-05-26T10:43:35.718Z"
   },
   {
    "duration": 36,
    "start_time": "2022-05-26T10:43:35.767Z"
   },
   {
    "duration": 57,
    "start_time": "2022-05-26T10:43:35.807Z"
   },
   {
    "duration": 23,
    "start_time": "2022-05-26T10:43:35.868Z"
   },
   {
    "duration": 19,
    "start_time": "2022-05-26T10:43:35.893Z"
   },
   {
    "duration": 75,
    "start_time": "2022-05-26T10:43:35.914Z"
   },
   {
    "duration": 35,
    "start_time": "2022-05-26T10:43:35.991Z"
   },
   {
    "duration": 61,
    "start_time": "2022-05-26T10:43:36.028Z"
   },
   {
    "duration": 30,
    "start_time": "2022-05-26T10:43:36.090Z"
   },
   {
    "duration": 16,
    "start_time": "2022-05-26T10:43:36.121Z"
   },
   {
    "duration": 36,
    "start_time": "2022-05-26T10:43:36.139Z"
   },
   {
    "duration": 155,
    "start_time": "2022-05-26T10:43:36.177Z"
   },
   {
    "duration": 3,
    "start_time": "2022-05-26T10:43:36.334Z"
   },
   {
    "duration": 22,
    "start_time": "2022-05-26T10:43:36.339Z"
   },
   {
    "duration": 13,
    "start_time": "2022-05-26T10:43:36.363Z"
   },
   {
    "duration": 174,
    "start_time": "2022-05-26T10:43:36.377Z"
   },
   {
    "duration": 27,
    "start_time": "2022-05-26T10:43:36.552Z"
   },
   {
    "duration": 26,
    "start_time": "2022-05-26T10:43:36.580Z"
   },
   {
    "duration": 240,
    "start_time": "2022-05-26T10:43:36.608Z"
   },
   {
    "duration": 189,
    "start_time": "2022-05-26T10:43:36.849Z"
   },
   {
    "duration": 22,
    "start_time": "2022-05-26T10:43:37.039Z"
   },
   {
    "duration": 192,
    "start_time": "2022-05-26T10:43:37.063Z"
   },
   {
    "duration": 171,
    "start_time": "2022-05-26T10:43:37.260Z"
   },
   {
    "duration": 12,
    "start_time": "2022-05-26T10:43:37.432Z"
   },
   {
    "duration": 194,
    "start_time": "2022-05-26T10:43:37.446Z"
   },
   {
    "duration": 181,
    "start_time": "2022-05-26T10:43:37.642Z"
   },
   {
    "duration": 44,
    "start_time": "2022-05-26T10:43:37.825Z"
   },
   {
    "duration": 26,
    "start_time": "2022-05-26T10:43:37.871Z"
   },
   {
    "duration": 61,
    "start_time": "2022-05-26T10:43:37.899Z"
   },
   {
    "duration": 399,
    "start_time": "2022-05-26T10:43:37.963Z"
   },
   {
    "duration": 295,
    "start_time": "2022-05-26T10:43:38.364Z"
   },
   {
    "duration": 18,
    "start_time": "2022-05-26T10:43:38.662Z"
   },
   {
    "duration": 701,
    "start_time": "2022-05-26T10:43:38.681Z"
   },
   {
    "duration": 4,
    "start_time": "2022-05-26T10:43:39.384Z"
   },
   {
    "duration": 19,
    "start_time": "2022-05-26T10:43:39.389Z"
   },
   {
    "duration": 562,
    "start_time": "2022-05-26T10:43:39.461Z"
   },
   {
    "duration": 283,
    "start_time": "2022-05-26T10:43:40.025Z"
   },
   {
    "duration": 5,
    "start_time": "2022-05-26T10:43:40.309Z"
   },
   {
    "duration": 298,
    "start_time": "2022-05-26T10:43:40.315Z"
   },
   {
    "duration": 5,
    "start_time": "2022-05-26T10:43:40.615Z"
   },
   {
    "duration": 350,
    "start_time": "2022-05-26T10:43:40.621Z"
   },
   {
    "duration": 3,
    "start_time": "2022-05-26T10:44:52.483Z"
   },
   {
    "duration": 19,
    "start_time": "2022-05-26T10:45:50.168Z"
   },
   {
    "duration": 48,
    "start_time": "2022-05-26T10:45:58.460Z"
   },
   {
    "duration": 61,
    "start_time": "2022-05-26T11:26:01.102Z"
   },
   {
    "duration": 29,
    "start_time": "2022-05-26T11:26:13.841Z"
   },
   {
    "duration": 39,
    "start_time": "2022-05-26T11:27:16.503Z"
   },
   {
    "duration": 29,
    "start_time": "2022-05-26T11:27:39.020Z"
   },
   {
    "duration": 5,
    "start_time": "2022-05-26T11:28:18.789Z"
   },
   {
    "duration": 21,
    "start_time": "2022-05-26T11:28:31.802Z"
   },
   {
    "duration": 1313,
    "start_time": "2022-05-26T13:40:56.393Z"
   },
   {
    "duration": 5,
    "start_time": "2022-05-26T13:40:57.710Z"
   },
   {
    "duration": 1902,
    "start_time": "2022-05-26T13:40:57.717Z"
   },
   {
    "duration": 20,
    "start_time": "2022-05-26T13:40:59.621Z"
   },
   {
    "duration": 51,
    "start_time": "2022-05-26T13:40:59.643Z"
   },
   {
    "duration": 19,
    "start_time": "2022-05-26T13:40:59.695Z"
   },
   {
    "duration": 16,
    "start_time": "2022-05-26T13:40:59.716Z"
   },
   {
    "duration": 50,
    "start_time": "2022-05-26T13:40:59.733Z"
   },
   {
    "duration": 11,
    "start_time": "2022-05-26T13:40:59.785Z"
   },
   {
    "duration": 34,
    "start_time": "2022-05-26T13:40:59.799Z"
   },
   {
    "duration": 52,
    "start_time": "2022-05-26T13:40:59.834Z"
   },
   {
    "duration": 8,
    "start_time": "2022-05-26T13:40:59.888Z"
   },
   {
    "duration": 13,
    "start_time": "2022-05-26T13:40:59.898Z"
   },
   {
    "duration": 33,
    "start_time": "2022-05-26T13:40:59.913Z"
   },
   {
    "duration": 66,
    "start_time": "2022-05-26T13:40:59.948Z"
   },
   {
    "duration": 20,
    "start_time": "2022-05-26T13:41:00.017Z"
   },
   {
    "duration": 40,
    "start_time": "2022-05-26T13:41:00.046Z"
   },
   {
    "duration": 42,
    "start_time": "2022-05-26T13:41:00.088Z"
   },
   {
    "duration": 36,
    "start_time": "2022-05-26T13:41:00.132Z"
   },
   {
    "duration": 20,
    "start_time": "2022-05-26T13:41:00.169Z"
   },
   {
    "duration": 23,
    "start_time": "2022-05-26T13:41:00.191Z"
   },
   {
    "duration": 43,
    "start_time": "2022-05-26T13:41:00.217Z"
   },
   {
    "duration": 20,
    "start_time": "2022-05-26T13:41:00.262Z"
   },
   {
    "duration": 55,
    "start_time": "2022-05-26T13:41:00.284Z"
   },
   {
    "duration": 29,
    "start_time": "2022-05-26T13:41:00.341Z"
   },
   {
    "duration": 40,
    "start_time": "2022-05-26T13:41:00.371Z"
   },
   {
    "duration": 34,
    "start_time": "2022-05-26T13:41:00.413Z"
   },
   {
    "duration": 82,
    "start_time": "2022-05-26T13:41:00.453Z"
   },
   {
    "duration": 29,
    "start_time": "2022-05-26T13:41:00.537Z"
   },
   {
    "duration": 45,
    "start_time": "2022-05-26T13:41:00.570Z"
   },
   {
    "duration": 28,
    "start_time": "2022-05-26T13:41:00.617Z"
   },
   {
    "duration": 91,
    "start_time": "2022-05-26T13:41:00.651Z"
   },
   {
    "duration": 46,
    "start_time": "2022-05-26T13:41:00.743Z"
   },
   {
    "duration": 49,
    "start_time": "2022-05-26T13:41:00.791Z"
   },
   {
    "duration": 39,
    "start_time": "2022-05-26T13:41:00.843Z"
   },
   {
    "duration": 18,
    "start_time": "2022-05-26T13:41:00.884Z"
   },
   {
    "duration": 4,
    "start_time": "2022-05-26T13:41:00.904Z"
   },
   {
    "duration": 163,
    "start_time": "2022-05-26T13:41:00.923Z"
   },
   {
    "duration": 3,
    "start_time": "2022-05-26T13:41:01.088Z"
   },
   {
    "duration": 18,
    "start_time": "2022-05-26T13:41:01.093Z"
   },
   {
    "duration": 39,
    "start_time": "2022-05-26T13:41:01.113Z"
   },
   {
    "duration": 237,
    "start_time": "2022-05-26T13:41:01.154Z"
   },
   {
    "duration": 17,
    "start_time": "2022-05-26T13:41:01.393Z"
   },
   {
    "duration": 51,
    "start_time": "2022-05-26T13:41:01.412Z"
   },
   {
    "duration": 433,
    "start_time": "2022-05-26T13:41:01.465Z"
   },
   {
    "duration": 277,
    "start_time": "2022-05-26T13:41:01.905Z"
   },
   {
    "duration": 20,
    "start_time": "2022-05-26T13:41:02.183Z"
   },
   {
    "duration": 366,
    "start_time": "2022-05-26T13:41:02.205Z"
   },
   {
    "duration": 277,
    "start_time": "2022-05-26T13:41:02.573Z"
   },
   {
    "duration": 23,
    "start_time": "2022-05-26T13:41:02.856Z"
   },
   {
    "duration": 292,
    "start_time": "2022-05-26T13:41:02.887Z"
   },
   {
    "duration": 263,
    "start_time": "2022-05-26T13:41:03.184Z"
   },
   {
    "duration": 25,
    "start_time": "2022-05-26T13:41:03.450Z"
   },
   {
    "duration": 29,
    "start_time": "2022-05-26T13:41:03.477Z"
   },
   {
    "duration": 12,
    "start_time": "2022-05-26T13:41:03.508Z"
   },
   {
    "duration": 235,
    "start_time": "2022-05-26T13:41:03.524Z"
   },
   {
    "duration": 196,
    "start_time": "2022-05-26T13:41:03.761Z"
   },
   {
    "duration": 24,
    "start_time": "2022-05-26T13:41:03.959Z"
   },
   {
    "duration": 443,
    "start_time": "2022-05-26T13:41:03.985Z"
   },
   {
    "duration": 7,
    "start_time": "2022-05-26T13:41:04.430Z"
   },
   {
    "duration": 52,
    "start_time": "2022-05-26T13:41:04.439Z"
   },
   {
    "duration": 534,
    "start_time": "2022-05-26T13:41:04.492Z"
   },
   {
    "duration": 423,
    "start_time": "2022-05-26T13:41:05.029Z"
   },
   {
    "duration": 7,
    "start_time": "2022-05-26T13:41:05.453Z"
   },
   {
    "duration": 388,
    "start_time": "2022-05-26T13:41:05.464Z"
   },
   {
    "duration": 8,
    "start_time": "2022-05-26T13:41:05.854Z"
   },
   {
    "duration": 483,
    "start_time": "2022-05-26T13:41:05.865Z"
   },
   {
    "duration": 451,
    "start_time": "2022-05-26T14:10:52.713Z"
   },
   {
    "duration": 588,
    "start_time": "2022-05-26T14:11:27.054Z"
   },
   {
    "duration": 1370,
    "start_time": "2022-05-26T15:04:09.205Z"
   },
   {
    "duration": 3,
    "start_time": "2022-05-26T15:04:10.577Z"
   },
   {
    "duration": 1063,
    "start_time": "2022-05-26T15:04:10.581Z"
   },
   {
    "duration": 20,
    "start_time": "2022-05-26T15:04:11.647Z"
   },
   {
    "duration": 24,
    "start_time": "2022-05-26T15:04:11.668Z"
   },
   {
    "duration": 27,
    "start_time": "2022-05-26T15:04:11.694Z"
   },
   {
    "duration": 23,
    "start_time": "2022-05-26T15:04:11.722Z"
   },
   {
    "duration": 11,
    "start_time": "2022-05-26T15:04:11.746Z"
   },
   {
    "duration": 9,
    "start_time": "2022-05-26T15:04:11.758Z"
   },
   {
    "duration": 26,
    "start_time": "2022-05-26T15:04:11.769Z"
   },
   {
    "duration": 23,
    "start_time": "2022-05-26T15:04:11.796Z"
   },
   {
    "duration": 6,
    "start_time": "2022-05-26T15:04:11.821Z"
   },
   {
    "duration": 12,
    "start_time": "2022-05-26T15:04:11.828Z"
   },
   {
    "duration": 13,
    "start_time": "2022-05-26T15:04:11.841Z"
   },
   {
    "duration": 15,
    "start_time": "2022-05-26T15:04:11.856Z"
   },
   {
    "duration": 8,
    "start_time": "2022-05-26T15:04:11.872Z"
   },
   {
    "duration": 10,
    "start_time": "2022-05-26T15:04:11.882Z"
   },
   {
    "duration": 31,
    "start_time": "2022-05-26T15:04:11.913Z"
   },
   {
    "duration": 71,
    "start_time": "2022-05-26T15:04:11.945Z"
   },
   {
    "duration": 7,
    "start_time": "2022-05-26T15:04:12.018Z"
   },
   {
    "duration": 11,
    "start_time": "2022-05-26T15:04:12.026Z"
   },
   {
    "duration": 13,
    "start_time": "2022-05-26T15:04:12.038Z"
   },
   {
    "duration": 65,
    "start_time": "2022-05-26T15:04:12.053Z"
   },
   {
    "duration": 35,
    "start_time": "2022-05-26T15:04:12.120Z"
   },
   {
    "duration": 69,
    "start_time": "2022-05-26T15:04:12.157Z"
   },
   {
    "duration": 24,
    "start_time": "2022-05-26T15:04:12.227Z"
   },
   {
    "duration": 70,
    "start_time": "2022-05-26T15:04:12.252Z"
   },
   {
    "duration": 88,
    "start_time": "2022-05-26T15:04:12.325Z"
   },
   {
    "duration": 17,
    "start_time": "2022-05-26T15:04:12.414Z"
   },
   {
    "duration": 88,
    "start_time": "2022-05-26T15:04:12.432Z"
   },
   {
    "duration": 10,
    "start_time": "2022-05-26T15:04:12.522Z"
   },
   {
    "duration": 108,
    "start_time": "2022-05-26T15:04:12.533Z"
   },
   {
    "duration": 86,
    "start_time": "2022-05-26T15:04:12.642Z"
   },
   {
    "duration": 84,
    "start_time": "2022-05-26T15:04:12.729Z"
   },
   {
    "duration": 37,
    "start_time": "2022-05-26T15:04:12.815Z"
   },
   {
    "duration": 70,
    "start_time": "2022-05-26T15:04:12.853Z"
   },
   {
    "duration": 3,
    "start_time": "2022-05-26T15:04:12.925Z"
   },
   {
    "duration": 291,
    "start_time": "2022-05-26T15:04:12.929Z"
   },
   {
    "duration": 3,
    "start_time": "2022-05-26T15:04:13.221Z"
   },
   {
    "duration": 17,
    "start_time": "2022-05-26T15:04:13.225Z"
   },
   {
    "duration": 4,
    "start_time": "2022-05-26T15:04:13.243Z"
   },
   {
    "duration": 305,
    "start_time": "2022-05-26T15:04:13.249Z"
   },
   {
    "duration": 63,
    "start_time": "2022-05-26T15:04:13.556Z"
   },
   {
    "duration": 12,
    "start_time": "2022-05-26T15:04:13.621Z"
   },
   {
    "duration": 504,
    "start_time": "2022-05-26T15:04:13.634Z"
   },
   {
    "duration": 375,
    "start_time": "2022-05-26T15:04:14.140Z"
   },
   {
    "duration": 15,
    "start_time": "2022-05-26T15:04:14.516Z"
   },
   {
    "duration": 394,
    "start_time": "2022-05-26T15:04:14.533Z"
   },
   {
    "duration": 327,
    "start_time": "2022-05-26T15:04:14.928Z"
   },
   {
    "duration": 72,
    "start_time": "2022-05-26T15:04:15.257Z"
   },
   {
    "duration": 413,
    "start_time": "2022-05-26T15:04:15.331Z"
   },
   {
    "duration": 187,
    "start_time": "2022-05-26T15:04:15.746Z"
   },
   {
    "duration": 15,
    "start_time": "2022-05-26T15:04:15.934Z"
   },
   {
    "duration": 5,
    "start_time": "2022-05-26T15:04:15.950Z"
   },
   {
    "duration": 9,
    "start_time": "2022-05-26T15:04:15.957Z"
   },
   {
    "duration": 167,
    "start_time": "2022-05-26T15:04:15.968Z"
   },
   {
    "duration": 153,
    "start_time": "2022-05-26T15:04:16.137Z"
   },
   {
    "duration": 33,
    "start_time": "2022-05-26T15:04:16.292Z"
   },
   {
    "duration": 321,
    "start_time": "2022-05-26T15:04:16.326Z"
   },
   {
    "duration": 4,
    "start_time": "2022-05-26T15:04:16.649Z"
   },
   {
    "duration": 16,
    "start_time": "2022-05-26T15:04:16.655Z"
   },
   {
    "duration": 423,
    "start_time": "2022-05-26T15:04:16.673Z"
   },
   {
    "duration": 294,
    "start_time": "2022-05-26T15:04:17.097Z"
   },
   {
    "duration": 5,
    "start_time": "2022-05-26T15:04:17.392Z"
   },
   {
    "duration": 344,
    "start_time": "2022-05-26T15:04:17.398Z"
   },
   {
    "duration": 5,
    "start_time": "2022-05-26T15:04:17.743Z"
   },
   {
    "duration": 694,
    "start_time": "2022-05-26T15:04:17.749Z"
   },
   {
    "duration": 34,
    "start_time": "2022-05-26T15:04:29.961Z"
   },
   {
    "duration": 118,
    "start_time": "2022-05-26T15:04:38.701Z"
   },
   {
    "duration": 34,
    "start_time": "2022-05-26T15:04:44.629Z"
   },
   {
    "duration": 36,
    "start_time": "2022-05-26T15:04:48.755Z"
   },
   {
    "duration": 34,
    "start_time": "2022-05-26T15:04:55.834Z"
   },
   {
    "duration": 25,
    "start_time": "2022-05-26T15:07:08.443Z"
   },
   {
    "duration": 23,
    "start_time": "2022-05-26T15:07:39.282Z"
   },
   {
    "duration": 22,
    "start_time": "2022-05-26T15:07:47.467Z"
   },
   {
    "duration": 98,
    "start_time": "2022-05-26T15:08:14.018Z"
   },
   {
    "duration": 3,
    "start_time": "2022-05-26T15:09:14.002Z"
   },
   {
    "duration": 21,
    "start_time": "2022-05-26T15:09:20.734Z"
   },
   {
    "duration": 20,
    "start_time": "2022-05-26T15:09:24.433Z"
   },
   {
    "duration": 21,
    "start_time": "2022-05-26T15:10:26.500Z"
   },
   {
    "duration": 28,
    "start_time": "2022-05-26T15:10:41.581Z"
   },
   {
    "duration": 22,
    "start_time": "2022-05-26T15:11:56.048Z"
   },
   {
    "duration": 21,
    "start_time": "2022-05-26T15:12:02.613Z"
   },
   {
    "duration": 24,
    "start_time": "2022-05-26T15:12:07.301Z"
   },
   {
    "duration": 21,
    "start_time": "2022-05-26T15:13:24.214Z"
   },
   {
    "duration": 93,
    "start_time": "2022-05-26T15:13:30.813Z"
   },
   {
    "duration": 3,
    "start_time": "2022-05-26T15:13:39.737Z"
   },
   {
    "duration": 2,
    "start_time": "2022-05-26T15:13:39.746Z"
   },
   {
    "duration": 381,
    "start_time": "2022-05-26T15:13:39.751Z"
   },
   {
    "duration": 10,
    "start_time": "2022-05-26T15:13:40.134Z"
   },
   {
    "duration": 11,
    "start_time": "2022-05-26T15:13:40.146Z"
   },
   {
    "duration": 16,
    "start_time": "2022-05-26T15:13:40.158Z"
   },
   {
    "duration": 11,
    "start_time": "2022-05-26T15:13:40.176Z"
   },
   {
    "duration": 23,
    "start_time": "2022-05-26T15:13:40.189Z"
   },
   {
    "duration": 10,
    "start_time": "2022-05-26T15:13:40.213Z"
   },
   {
    "duration": 28,
    "start_time": "2022-05-26T15:13:40.225Z"
   },
   {
    "duration": 23,
    "start_time": "2022-05-26T15:13:40.254Z"
   },
   {
    "duration": 7,
    "start_time": "2022-05-26T15:13:40.278Z"
   },
   {
    "duration": 27,
    "start_time": "2022-05-26T15:13:40.287Z"
   },
   {
    "duration": 17,
    "start_time": "2022-05-26T15:13:40.316Z"
   },
   {
    "duration": 16,
    "start_time": "2022-05-26T15:13:40.334Z"
   },
   {
    "duration": 6,
    "start_time": "2022-05-26T15:13:40.352Z"
   },
   {
    "duration": 8,
    "start_time": "2022-05-26T15:13:40.360Z"
   },
   {
    "duration": 59,
    "start_time": "2022-05-26T15:13:40.369Z"
   },
   {
    "duration": 19,
    "start_time": "2022-05-26T15:13:40.429Z"
   },
   {
    "duration": 6,
    "start_time": "2022-05-26T15:13:40.450Z"
   },
   {
    "duration": 14,
    "start_time": "2022-05-26T15:13:40.458Z"
   },
   {
    "duration": 40,
    "start_time": "2022-05-26T15:13:40.473Z"
   },
   {
    "duration": 14,
    "start_time": "2022-05-26T15:13:40.515Z"
   },
   {
    "duration": 36,
    "start_time": "2022-05-26T15:13:40.531Z"
   },
   {
    "duration": 17,
    "start_time": "2022-05-26T15:13:40.570Z"
   },
   {
    "duration": 42,
    "start_time": "2022-05-26T15:13:40.589Z"
   },
   {
    "duration": 13,
    "start_time": "2022-05-26T15:13:40.632Z"
   },
   {
    "duration": 14,
    "start_time": "2022-05-26T15:13:43.206Z"
   },
   {
    "duration": 28,
    "start_time": "2022-05-26T15:13:43.902Z"
   },
   {
    "duration": 17,
    "start_time": "2022-05-26T15:14:25.567Z"
   },
   {
    "duration": 28,
    "start_time": "2022-05-26T15:14:25.806Z"
   },
   {
    "duration": 10,
    "start_time": "2022-05-26T15:14:26.188Z"
   },
   {
    "duration": 51,
    "start_time": "2022-05-26T15:14:27.292Z"
   },
   {
    "duration": 37,
    "start_time": "2022-05-26T15:14:30.959Z"
   },
   {
    "duration": 36,
    "start_time": "2022-05-26T15:14:32.219Z"
   },
   {
    "duration": 30,
    "start_time": "2022-05-26T15:14:34.973Z"
   },
   {
    "duration": 18,
    "start_time": "2022-05-26T15:14:36.489Z"
   },
   {
    "duration": 3,
    "start_time": "2022-05-26T15:14:36.918Z"
   },
   {
    "duration": 104,
    "start_time": "2022-05-26T15:14:52.329Z"
   },
   {
    "duration": 3,
    "start_time": "2022-05-26T15:14:53.072Z"
   },
   {
    "duration": 12,
    "start_time": "2022-05-26T15:14:53.839Z"
   },
   {
    "duration": 5,
    "start_time": "2022-05-26T15:14:55.835Z"
   },
   {
    "duration": 125,
    "start_time": "2022-05-26T15:14:56.453Z"
   },
   {
    "duration": 146,
    "start_time": "2022-05-26T15:15:16.695Z"
   },
   {
    "duration": 138,
    "start_time": "2022-05-26T15:15:26.975Z"
   },
   {
    "duration": 15,
    "start_time": "2022-05-26T15:15:27.891Z"
   },
   {
    "duration": 172,
    "start_time": "2022-05-26T15:20:16.792Z"
   },
   {
    "duration": 193,
    "start_time": "2022-05-26T15:22:36.235Z"
   },
   {
    "duration": 198,
    "start_time": "2022-05-26T15:22:53.860Z"
   },
   {
    "duration": 173,
    "start_time": "2022-05-26T15:23:03.826Z"
   },
   {
    "duration": 193,
    "start_time": "2022-05-26T15:23:24.112Z"
   },
   {
    "duration": 180,
    "start_time": "2022-05-26T15:23:34.767Z"
   },
   {
    "duration": 188,
    "start_time": "2022-05-26T15:23:46.349Z"
   },
   {
    "duration": 391,
    "start_time": "2022-05-26T15:25:09.730Z"
   },
   {
    "duration": 35,
    "start_time": "2022-05-26T15:25:20.766Z"
   },
   {
    "duration": 24,
    "start_time": "2022-05-26T15:25:24.466Z"
   },
   {
    "duration": 24,
    "start_time": "2022-05-26T15:25:29.378Z"
   },
   {
    "duration": 337,
    "start_time": "2022-05-26T15:25:34.396Z"
   },
   {
    "duration": 340,
    "start_time": "2022-05-26T15:25:41.547Z"
   },
   {
    "duration": 313,
    "start_time": "2022-05-26T15:25:44.706Z"
   },
   {
    "duration": 334,
    "start_time": "2022-05-26T15:25:47.683Z"
   },
   {
    "duration": 329,
    "start_time": "2022-05-26T15:25:58.079Z"
   },
   {
    "duration": 415,
    "start_time": "2022-05-26T15:26:02.889Z"
   },
   {
    "duration": 138,
    "start_time": "2022-05-26T15:26:10.114Z"
   },
   {
    "duration": 129,
    "start_time": "2022-05-26T15:26:15.181Z"
   },
   {
    "duration": 198,
    "start_time": "2022-05-26T15:26:33.416Z"
   },
   {
    "duration": 134,
    "start_time": "2022-05-26T15:27:32.783Z"
   },
   {
    "duration": 141,
    "start_time": "2022-05-26T15:27:37.495Z"
   },
   {
    "duration": 187,
    "start_time": "2022-05-26T15:29:16.020Z"
   },
   {
    "duration": 180,
    "start_time": "2022-05-26T15:29:33.478Z"
   },
   {
    "duration": 180,
    "start_time": "2022-05-26T15:30:19.788Z"
   },
   {
    "duration": 180,
    "start_time": "2022-05-26T15:30:52.716Z"
   },
   {
    "duration": 192,
    "start_time": "2022-05-26T15:30:56.920Z"
   },
   {
    "duration": 330,
    "start_time": "2022-05-26T15:31:13.365Z"
   },
   {
    "duration": 255,
    "start_time": "2022-05-26T15:31:42.154Z"
   },
   {
    "duration": 271,
    "start_time": "2022-05-26T15:32:09.836Z"
   },
   {
    "duration": 253,
    "start_time": "2022-05-26T15:32:56.805Z"
   },
   {
    "duration": 244,
    "start_time": "2022-05-26T15:33:11.094Z"
   },
   {
    "duration": 272,
    "start_time": "2022-05-26T15:33:34.145Z"
   },
   {
    "duration": 372,
    "start_time": "2022-05-26T15:33:47.751Z"
   },
   {
    "duration": 285,
    "start_time": "2022-05-26T15:34:18.452Z"
   },
   {
    "duration": 325,
    "start_time": "2022-05-26T15:34:36.951Z"
   },
   {
    "duration": 170,
    "start_time": "2022-05-26T15:36:49.601Z"
   },
   {
    "duration": 180,
    "start_time": "2022-05-26T15:36:58.807Z"
   },
   {
    "duration": 179,
    "start_time": "2022-05-26T15:37:28.017Z"
   },
   {
    "duration": 178,
    "start_time": "2022-05-26T15:37:32.877Z"
   },
   {
    "duration": 165,
    "start_time": "2022-05-26T15:37:43.985Z"
   },
   {
    "duration": 318,
    "start_time": "2022-05-26T15:37:52.196Z"
   },
   {
    "duration": 173,
    "start_time": "2022-05-26T15:37:56.646Z"
   },
   {
    "duration": 176,
    "start_time": "2022-05-26T15:38:02.987Z"
   },
   {
    "duration": 175,
    "start_time": "2022-05-26T15:38:15.821Z"
   },
   {
    "duration": 152,
    "start_time": "2022-05-26T15:38:29.566Z"
   },
   {
    "duration": 16,
    "start_time": "2022-05-26T15:38:41.535Z"
   },
   {
    "duration": 174,
    "start_time": "2022-05-26T15:38:42.097Z"
   },
   {
    "duration": 182,
    "start_time": "2022-05-26T15:38:45.988Z"
   },
   {
    "duration": 192,
    "start_time": "2022-05-26T15:39:23.462Z"
   },
   {
    "duration": 166,
    "start_time": "2022-05-26T15:39:28.246Z"
   },
   {
    "duration": 170,
    "start_time": "2022-05-26T15:39:55.632Z"
   },
   {
    "duration": 171,
    "start_time": "2022-05-26T15:40:09.562Z"
   },
   {
    "duration": 295,
    "start_time": "2022-05-26T15:40:21.878Z"
   },
   {
    "duration": 209,
    "start_time": "2022-05-26T15:40:27.156Z"
   },
   {
    "duration": 171,
    "start_time": "2022-05-26T15:40:32.853Z"
   },
   {
    "duration": 180,
    "start_time": "2022-05-26T15:40:37.580Z"
   },
   {
    "duration": 971,
    "start_time": "2022-05-26T15:41:49.351Z"
   },
   {
    "duration": 3,
    "start_time": "2022-05-26T15:41:50.324Z"
   },
   {
    "duration": 435,
    "start_time": "2022-05-26T15:41:50.329Z"
   },
   {
    "duration": 14,
    "start_time": "2022-05-26T15:41:50.766Z"
   },
   {
    "duration": 11,
    "start_time": "2022-05-26T15:41:50.781Z"
   },
   {
    "duration": 15,
    "start_time": "2022-05-26T15:41:50.793Z"
   },
   {
    "duration": 13,
    "start_time": "2022-05-26T15:41:50.812Z"
   },
   {
    "duration": 13,
    "start_time": "2022-05-26T15:41:50.826Z"
   },
   {
    "duration": 8,
    "start_time": "2022-05-26T15:41:50.841Z"
   },
   {
    "duration": 98,
    "start_time": "2022-05-26T15:41:50.851Z"
   },
   {
    "duration": 22,
    "start_time": "2022-05-26T15:41:50.951Z"
   },
   {
    "duration": 7,
    "start_time": "2022-05-26T15:41:50.975Z"
   },
   {
    "duration": 9,
    "start_time": "2022-05-26T15:41:50.983Z"
   },
   {
    "duration": 15,
    "start_time": "2022-05-26T15:41:50.993Z"
   },
   {
    "duration": 18,
    "start_time": "2022-05-26T15:41:51.010Z"
   },
   {
    "duration": 8,
    "start_time": "2022-05-26T15:41:51.029Z"
   },
   {
    "duration": 9,
    "start_time": "2022-05-26T15:41:51.038Z"
   },
   {
    "duration": 28,
    "start_time": "2022-05-26T15:41:51.048Z"
   },
   {
    "duration": 44,
    "start_time": "2022-05-26T15:41:51.078Z"
   },
   {
    "duration": 9,
    "start_time": "2022-05-26T15:41:51.123Z"
   },
   {
    "duration": 10,
    "start_time": "2022-05-26T15:41:51.134Z"
   },
   {
    "duration": 14,
    "start_time": "2022-05-26T15:41:51.146Z"
   },
   {
    "duration": 16,
    "start_time": "2022-05-26T15:41:51.162Z"
   },
   {
    "duration": 66,
    "start_time": "2022-05-26T15:41:51.179Z"
   },
   {
    "duration": 20,
    "start_time": "2022-05-26T15:41:51.246Z"
   },
   {
    "duration": 45,
    "start_time": "2022-05-26T15:41:51.267Z"
   },
   {
    "duration": 15,
    "start_time": "2022-05-26T15:41:51.314Z"
   },
   {
    "duration": 30,
    "start_time": "2022-05-26T15:41:51.333Z"
   },
   {
    "duration": 16,
    "start_time": "2022-05-26T15:41:51.365Z"
   },
   {
    "duration": 59,
    "start_time": "2022-05-26T15:41:51.382Z"
   },
   {
    "duration": 13,
    "start_time": "2022-05-26T15:41:51.443Z"
   },
   {
    "duration": 81,
    "start_time": "2022-05-26T15:41:51.458Z"
   },
   {
    "duration": 43,
    "start_time": "2022-05-26T15:41:51.542Z"
   },
   {
    "duration": 66,
    "start_time": "2022-05-26T15:41:51.587Z"
   },
   {
    "duration": 37,
    "start_time": "2022-05-26T15:41:51.655Z"
   },
   {
    "duration": 35,
    "start_time": "2022-05-26T15:41:51.694Z"
   },
   {
    "duration": 14,
    "start_time": "2022-05-26T15:41:51.731Z"
   },
   {
    "duration": 115,
    "start_time": "2022-05-26T15:41:51.748Z"
   },
   {
    "duration": 3,
    "start_time": "2022-05-26T15:41:51.865Z"
   },
   {
    "duration": 14,
    "start_time": "2022-05-26T15:41:51.870Z"
   },
   {
    "duration": 6,
    "start_time": "2022-05-26T15:41:51.885Z"
   },
   {
    "duration": 142,
    "start_time": "2022-05-26T15:41:51.912Z"
   },
   {
    "duration": 378,
    "start_time": "2022-05-26T15:41:52.056Z"
   },
   {
    "duration": 15,
    "start_time": "2022-05-26T15:41:52.436Z"
   },
   {
    "duration": 13,
    "start_time": "2022-05-26T15:41:52.452Z"
   },
   {
    "duration": 215,
    "start_time": "2022-05-26T15:41:52.467Z"
   },
   {
    "duration": 206,
    "start_time": "2022-05-26T15:41:52.684Z"
   },
   {
    "duration": 26,
    "start_time": "2022-05-26T15:41:52.892Z"
   },
   {
    "duration": 253,
    "start_time": "2022-05-26T15:41:52.920Z"
   },
   {
    "duration": 170,
    "start_time": "2022-05-26T15:41:53.174Z"
   },
   {
    "duration": 13,
    "start_time": "2022-05-26T15:41:53.346Z"
   },
   {
    "duration": 211,
    "start_time": "2022-05-26T15:41:53.360Z"
   },
   {
    "duration": 173,
    "start_time": "2022-05-26T15:41:53.572Z"
   },
   {
    "duration": 13,
    "start_time": "2022-05-26T15:41:53.747Z"
   },
   {
    "duration": 6,
    "start_time": "2022-05-26T15:41:53.762Z"
   },
   {
    "duration": 10,
    "start_time": "2022-05-26T15:41:53.769Z"
   },
   {
    "duration": 146,
    "start_time": "2022-05-26T15:41:53.780Z"
   },
   {
    "duration": 222,
    "start_time": "2022-05-26T15:41:53.928Z"
   },
   {
    "duration": 72,
    "start_time": "2022-05-26T15:41:54.152Z"
   },
   {
    "duration": 820,
    "start_time": "2022-05-26T15:41:54.226Z"
   },
   {
    "duration": 5,
    "start_time": "2022-05-26T15:41:55.048Z"
   },
   {
    "duration": 66,
    "start_time": "2022-05-26T15:41:55.055Z"
   },
   {
    "duration": 591,
    "start_time": "2022-05-26T15:41:55.123Z"
   },
   {
    "duration": 261,
    "start_time": "2022-05-26T15:41:55.715Z"
   },
   {
    "duration": 6,
    "start_time": "2022-05-26T15:41:55.977Z"
   },
   {
    "duration": 306,
    "start_time": "2022-05-26T15:41:55.985Z"
   },
   {
    "duration": 6,
    "start_time": "2022-05-26T15:41:56.294Z"
   },
   {
    "duration": 306,
    "start_time": "2022-05-26T15:41:56.301Z"
   },
   {
    "duration": 488,
    "start_time": "2022-05-26T15:49:54.427Z"
   },
   {
    "duration": 261,
    "start_time": "2022-05-26T15:49:57.171Z"
   },
   {
    "duration": 268,
    "start_time": "2022-05-26T15:50:00.735Z"
   },
   {
    "duration": 274,
    "start_time": "2022-05-26T15:50:03.492Z"
   },
   {
    "duration": 286,
    "start_time": "2022-05-26T15:50:07.142Z"
   },
   {
    "duration": 354,
    "start_time": "2022-05-26T15:50:12.594Z"
   },
   {
    "duration": 191,
    "start_time": "2022-05-26T15:53:58.371Z"
   },
   {
    "duration": 1340,
    "start_time": "2022-05-26T17:25:46.989Z"
   },
   {
    "duration": 3,
    "start_time": "2022-05-26T17:25:48.331Z"
   },
   {
    "duration": 1205,
    "start_time": "2022-05-26T17:25:48.335Z"
   },
   {
    "duration": 14,
    "start_time": "2022-05-26T17:25:49.543Z"
   },
   {
    "duration": 13,
    "start_time": "2022-05-26T17:25:49.559Z"
   },
   {
    "duration": 16,
    "start_time": "2022-05-26T17:25:49.574Z"
   },
   {
    "duration": 18,
    "start_time": "2022-05-26T17:25:49.591Z"
   },
   {
    "duration": 14,
    "start_time": "2022-05-26T17:25:49.610Z"
   },
   {
    "duration": 8,
    "start_time": "2022-05-26T17:25:49.625Z"
   },
   {
    "duration": 27,
    "start_time": "2022-05-26T17:25:49.635Z"
   },
   {
    "duration": 43,
    "start_time": "2022-05-26T17:25:49.664Z"
   },
   {
    "duration": 8,
    "start_time": "2022-05-26T17:25:49.710Z"
   },
   {
    "duration": 8,
    "start_time": "2022-05-26T17:25:49.719Z"
   },
   {
    "duration": 14,
    "start_time": "2022-05-26T17:25:49.729Z"
   },
   {
    "duration": 18,
    "start_time": "2022-05-26T17:25:49.745Z"
   },
   {
    "duration": 44,
    "start_time": "2022-05-26T17:25:49.765Z"
   },
   {
    "duration": 21,
    "start_time": "2022-05-26T17:25:49.812Z"
   },
   {
    "duration": 31,
    "start_time": "2022-05-26T17:25:49.835Z"
   },
   {
    "duration": 39,
    "start_time": "2022-05-26T17:25:49.867Z"
   },
   {
    "duration": 10,
    "start_time": "2022-05-26T17:25:49.911Z"
   },
   {
    "duration": 11,
    "start_time": "2022-05-26T17:25:49.923Z"
   },
   {
    "duration": 20,
    "start_time": "2022-05-26T17:25:49.936Z"
   },
   {
    "duration": 13,
    "start_time": "2022-05-26T17:25:49.958Z"
   },
   {
    "duration": 61,
    "start_time": "2022-05-26T17:25:49.972Z"
   },
   {
    "duration": 23,
    "start_time": "2022-05-26T17:25:50.034Z"
   },
   {
    "duration": 44,
    "start_time": "2022-05-26T17:25:50.059Z"
   },
   {
    "duration": 17,
    "start_time": "2022-05-26T17:25:50.105Z"
   },
   {
    "duration": 30,
    "start_time": "2022-05-26T17:25:50.124Z"
   },
   {
    "duration": 16,
    "start_time": "2022-05-26T17:25:50.155Z"
   },
   {
    "duration": 56,
    "start_time": "2022-05-26T17:25:50.172Z"
   },
   {
    "duration": 14,
    "start_time": "2022-05-26T17:25:50.230Z"
   },
   {
    "duration": 69,
    "start_time": "2022-05-26T17:25:50.246Z"
   },
   {
    "duration": 34,
    "start_time": "2022-05-26T17:25:50.317Z"
   },
   {
    "duration": 54,
    "start_time": "2022-05-26T17:25:50.352Z"
   },
   {
    "duration": 32,
    "start_time": "2022-05-26T17:25:50.407Z"
   },
   {
    "duration": 17,
    "start_time": "2022-05-26T17:25:50.440Z"
   },
   {
    "duration": 4,
    "start_time": "2022-05-26T17:25:50.459Z"
   },
   {
    "duration": 145,
    "start_time": "2022-05-26T17:25:50.464Z"
   },
   {
    "duration": 4,
    "start_time": "2022-05-26T17:25:50.611Z"
   },
   {
    "duration": 19,
    "start_time": "2022-05-26T17:25:50.617Z"
   },
   {
    "duration": 6,
    "start_time": "2022-05-26T17:25:50.642Z"
   },
   {
    "duration": 189,
    "start_time": "2022-05-26T17:25:50.650Z"
   },
   {
    "duration": 409,
    "start_time": "2022-05-26T17:25:50.841Z"
   },
   {
    "duration": 16,
    "start_time": "2022-05-26T17:25:51.252Z"
   },
   {
    "duration": 32,
    "start_time": "2022-05-26T17:25:51.270Z"
   },
   {
    "duration": 219,
    "start_time": "2022-05-26T17:25:51.303Z"
   },
   {
    "duration": 206,
    "start_time": "2022-05-26T17:25:51.523Z"
   },
   {
    "duration": 14,
    "start_time": "2022-05-26T17:25:51.730Z"
   },
   {
    "duration": 214,
    "start_time": "2022-05-26T17:25:51.745Z"
   },
   {
    "duration": 176,
    "start_time": "2022-05-26T17:25:51.961Z"
   },
   {
    "duration": 14,
    "start_time": "2022-05-26T17:25:52.139Z"
   },
   {
    "duration": 220,
    "start_time": "2022-05-26T17:25:52.154Z"
   },
   {
    "duration": 187,
    "start_time": "2022-05-26T17:25:52.375Z"
   },
   {
    "duration": 5,
    "start_time": "2022-05-26T17:25:52.564Z"
   },
   {
    "duration": 13,
    "start_time": "2022-05-26T17:25:52.570Z"
   },
   {
    "duration": 143,
    "start_time": "2022-05-26T17:25:52.584Z"
   },
   {
    "duration": 136,
    "start_time": "2022-05-26T17:25:52.729Z"
   },
   {
    "duration": 13,
    "start_time": "2022-05-26T17:25:52.867Z"
   },
   {
    "duration": 439,
    "start_time": "2022-05-26T17:25:52.882Z"
   },
   {
    "duration": 4,
    "start_time": "2022-05-26T17:25:53.323Z"
   },
   {
    "duration": 20,
    "start_time": "2022-05-26T17:25:53.328Z"
   },
   {
    "duration": 336,
    "start_time": "2022-05-26T17:25:53.349Z"
   },
   {
    "duration": 22,
    "start_time": "2022-05-26T17:25:53.686Z"
   },
   {
    "duration": 325,
    "start_time": "2022-05-26T17:25:53.709Z"
   },
   {
    "duration": 5,
    "start_time": "2022-05-26T17:25:54.036Z"
   },
   {
    "duration": 324,
    "start_time": "2022-05-26T17:25:54.042Z"
   },
   {
    "duration": 283,
    "start_time": "2022-05-26T17:30:03.163Z"
   },
   {
    "duration": 218,
    "start_time": "2022-05-26T17:31:06.314Z"
   },
   {
    "duration": 283,
    "start_time": "2022-05-26T17:31:23.558Z"
   },
   {
    "duration": 212,
    "start_time": "2022-05-26T17:32:39.385Z"
   },
   {
    "duration": 164,
    "start_time": "2022-05-26T17:32:48.014Z"
   },
   {
    "duration": 164,
    "start_time": "2022-05-26T17:32:50.113Z"
   },
   {
    "duration": 185,
    "start_time": "2022-05-26T17:33:26.870Z"
   },
   {
    "duration": 238,
    "start_time": "2022-05-26T17:33:33.621Z"
   },
   {
    "duration": 283,
    "start_time": "2022-05-26T17:33:41.622Z"
   },
   {
    "duration": 171,
    "start_time": "2022-05-26T17:33:54.832Z"
   },
   {
    "duration": 204,
    "start_time": "2022-05-26T17:34:00.633Z"
   },
   {
    "duration": 1420,
    "start_time": "2022-05-27T06:20:13.381Z"
   },
   {
    "duration": 3,
    "start_time": "2022-05-27T06:20:14.803Z"
   },
   {
    "duration": 1104,
    "start_time": "2022-05-27T06:20:14.808Z"
   },
   {
    "duration": 15,
    "start_time": "2022-05-27T06:20:15.914Z"
   },
   {
    "duration": 11,
    "start_time": "2022-05-27T06:20:15.930Z"
   },
   {
    "duration": 17,
    "start_time": "2022-05-27T06:20:15.943Z"
   },
   {
    "duration": 14,
    "start_time": "2022-05-27T06:20:15.961Z"
   },
   {
    "duration": 9,
    "start_time": "2022-05-27T06:20:15.977Z"
   },
   {
    "duration": 11,
    "start_time": "2022-05-27T06:20:15.988Z"
   },
   {
    "duration": 36,
    "start_time": "2022-05-27T06:20:16.003Z"
   },
   {
    "duration": 59,
    "start_time": "2022-05-27T06:20:16.040Z"
   },
   {
    "duration": 8,
    "start_time": "2022-05-27T06:20:16.100Z"
   },
   {
    "duration": 13,
    "start_time": "2022-05-27T06:20:16.110Z"
   },
   {
    "duration": 15,
    "start_time": "2022-05-27T06:20:16.125Z"
   },
   {
    "duration": 42,
    "start_time": "2022-05-27T06:20:16.142Z"
   },
   {
    "duration": 9,
    "start_time": "2022-05-27T06:20:16.186Z"
   },
   {
    "duration": 20,
    "start_time": "2022-05-27T06:20:16.197Z"
   },
   {
    "duration": 46,
    "start_time": "2022-05-27T06:20:16.219Z"
   },
   {
    "duration": 27,
    "start_time": "2022-05-27T06:20:16.268Z"
   },
   {
    "duration": 8,
    "start_time": "2022-05-27T06:20:16.297Z"
   },
   {
    "duration": 12,
    "start_time": "2022-05-27T06:20:16.306Z"
   },
   {
    "duration": 18,
    "start_time": "2022-05-27T06:20:16.320Z"
   },
   {
    "duration": 32,
    "start_time": "2022-05-27T06:20:16.340Z"
   },
   {
    "duration": 48,
    "start_time": "2022-05-27T06:20:16.374Z"
   },
   {
    "duration": 19,
    "start_time": "2022-05-27T06:20:16.423Z"
   },
   {
    "duration": 35,
    "start_time": "2022-05-27T06:20:16.465Z"
   },
   {
    "duration": 16,
    "start_time": "2022-05-27T06:20:16.501Z"
   },
   {
    "duration": 56,
    "start_time": "2022-05-27T06:20:16.521Z"
   },
   {
    "duration": 21,
    "start_time": "2022-05-27T06:20:16.579Z"
   },
   {
    "duration": 31,
    "start_time": "2022-05-27T06:20:16.603Z"
   },
   {
    "duration": 39,
    "start_time": "2022-05-27T06:20:16.636Z"
   },
   {
    "duration": 57,
    "start_time": "2022-05-27T06:20:16.678Z"
   },
   {
    "duration": 60,
    "start_time": "2022-05-27T06:20:16.737Z"
   },
   {
    "duration": 46,
    "start_time": "2022-05-27T06:20:16.799Z"
   },
   {
    "duration": 56,
    "start_time": "2022-05-27T06:20:16.846Z"
   },
   {
    "duration": 18,
    "start_time": "2022-05-27T06:20:16.903Z"
   },
   {
    "duration": 5,
    "start_time": "2022-05-27T06:20:16.923Z"
   },
   {
    "duration": 152,
    "start_time": "2022-05-27T06:20:16.930Z"
   },
   {
    "duration": 3,
    "start_time": "2022-05-27T06:20:17.084Z"
   },
   {
    "duration": 15,
    "start_time": "2022-05-27T06:20:17.089Z"
   },
   {
    "duration": 5,
    "start_time": "2022-05-27T06:20:17.106Z"
   },
   {
    "duration": 197,
    "start_time": "2022-05-27T06:20:17.113Z"
   },
   {
    "duration": 425,
    "start_time": "2022-05-27T06:20:17.312Z"
   },
   {
    "duration": 26,
    "start_time": "2022-05-27T06:20:17.739Z"
   },
   {
    "duration": 15,
    "start_time": "2022-05-27T06:20:17.767Z"
   },
   {
    "duration": 245,
    "start_time": "2022-05-27T06:20:17.785Z"
   },
   {
    "duration": 259,
    "start_time": "2022-05-27T06:20:18.031Z"
   },
   {
    "duration": 15,
    "start_time": "2022-05-27T06:20:18.292Z"
   },
   {
    "duration": 242,
    "start_time": "2022-05-27T06:20:18.309Z"
   },
   {
    "duration": 221,
    "start_time": "2022-05-27T06:20:18.553Z"
   },
   {
    "duration": 17,
    "start_time": "2022-05-27T06:20:18.776Z"
   },
   {
    "duration": 296,
    "start_time": "2022-05-27T06:20:18.795Z"
   },
   {
    "duration": 265,
    "start_time": "2022-05-27T06:20:19.093Z"
   },
   {
    "duration": 5,
    "start_time": "2022-05-27T06:20:19.364Z"
   },
   {
    "duration": 10,
    "start_time": "2022-05-27T06:20:19.371Z"
   },
   {
    "duration": 170,
    "start_time": "2022-05-27T06:20:19.383Z"
   },
   {
    "duration": 291,
    "start_time": "2022-05-27T06:20:19.555Z"
   },
   {
    "duration": 30,
    "start_time": "2022-05-27T06:20:19.848Z"
   },
   {
    "duration": 388,
    "start_time": "2022-05-27T06:20:19.881Z"
   },
   {
    "duration": 5,
    "start_time": "2022-05-27T06:20:20.280Z"
   },
   {
    "duration": 20,
    "start_time": "2022-05-27T06:20:20.287Z"
   },
   {
    "duration": 374,
    "start_time": "2022-05-27T06:20:20.308Z"
   },
   {
    "duration": 6,
    "start_time": "2022-05-27T06:20:20.684Z"
   },
   {
    "duration": 361,
    "start_time": "2022-05-27T06:20:20.692Z"
   },
   {
    "duration": 12,
    "start_time": "2022-05-27T06:20:21.055Z"
   },
   {
    "duration": 350,
    "start_time": "2022-05-27T06:20:21.069Z"
   },
   {
    "duration": 323,
    "start_time": "2022-05-27T06:23:22.193Z"
   },
   {
    "duration": 406,
    "start_time": "2022-05-27T06:23:24.375Z"
   },
   {
    "duration": 294,
    "start_time": "2022-05-27T06:23:27.080Z"
   },
   {
    "duration": 302,
    "start_time": "2022-05-27T06:44:15.718Z"
   },
   {
    "duration": 11,
    "start_time": "2022-05-27T06:45:46.420Z"
   },
   {
    "duration": 310,
    "start_time": "2022-05-27T06:45:51.692Z"
   },
   {
    "duration": 361,
    "start_time": "2022-05-27T06:46:14.581Z"
   },
   {
    "duration": 502,
    "start_time": "2022-05-27T06:46:44.894Z"
   },
   {
    "duration": 429,
    "start_time": "2022-05-27T06:48:04.807Z"
   },
   {
    "duration": 474,
    "start_time": "2022-05-27T06:48:18.498Z"
   },
   {
    "duration": 447,
    "start_time": "2022-05-27T06:48:56.779Z"
   },
   {
    "duration": 472,
    "start_time": "2022-05-27T06:49:12.173Z"
   },
   {
    "duration": 453,
    "start_time": "2022-05-27T06:49:17.918Z"
   },
   {
    "duration": 575,
    "start_time": "2022-05-27T06:49:36.192Z"
   },
   {
    "duration": 436,
    "start_time": "2022-05-27T06:49:53.068Z"
   },
   {
    "duration": 472,
    "start_time": "2022-05-27T06:50:02.968Z"
   },
   {
    "duration": 489,
    "start_time": "2022-05-27T06:50:32.552Z"
   },
   {
    "duration": 453,
    "start_time": "2022-05-27T06:50:36.475Z"
   },
   {
    "duration": 589,
    "start_time": "2022-05-27T06:50:47.952Z"
   },
   {
    "duration": 488,
    "start_time": "2022-05-27T06:51:00.318Z"
   },
   {
    "duration": 478,
    "start_time": "2022-05-27T06:52:35.955Z"
   },
   {
    "duration": 492,
    "start_time": "2022-05-27T06:52:47.309Z"
   },
   {
    "duration": 600,
    "start_time": "2022-05-27T06:52:49.682Z"
   },
   {
    "duration": 488,
    "start_time": "2022-05-27T06:52:57.420Z"
   },
   {
    "duration": 19,
    "start_time": "2022-05-27T06:55:18.508Z"
   },
   {
    "duration": 18,
    "start_time": "2022-05-27T06:56:02.821Z"
   },
   {
    "duration": 12,
    "start_time": "2022-05-27T07:01:23.007Z"
   },
   {
    "duration": 13,
    "start_time": "2022-05-27T07:02:12.693Z"
   },
   {
    "duration": 8,
    "start_time": "2022-05-27T07:04:20.439Z"
   },
   {
    "duration": 123,
    "start_time": "2022-05-27T07:04:32.053Z"
   },
   {
    "duration": 20,
    "start_time": "2022-05-27T07:04:35.411Z"
   },
   {
    "duration": 18,
    "start_time": "2022-05-27T07:04:57.439Z"
   },
   {
    "duration": 5,
    "start_time": "2022-05-27T07:05:47.579Z"
   },
   {
    "duration": 6,
    "start_time": "2022-05-27T07:05:52.800Z"
   },
   {
    "duration": 75,
    "start_time": "2022-05-27T07:19:31.596Z"
   },
   {
    "duration": 38,
    "start_time": "2022-05-27T07:19:40.736Z"
   },
   {
    "duration": 36,
    "start_time": "2022-05-27T07:20:15.947Z"
   },
   {
    "duration": 10,
    "start_time": "2022-05-27T07:20:20.257Z"
   },
   {
    "duration": 11,
    "start_time": "2022-05-27T07:20:29.501Z"
   },
   {
    "duration": 10,
    "start_time": "2022-05-27T07:20:36.637Z"
   },
   {
    "duration": 25,
    "start_time": "2022-05-27T07:21:28.552Z"
   },
   {
    "duration": 18,
    "start_time": "2022-05-27T07:21:33.872Z"
   },
   {
    "duration": 392,
    "start_time": "2022-05-27T07:24:04.338Z"
   },
   {
    "duration": 317,
    "start_time": "2022-05-27T07:24:06.851Z"
   },
   {
    "duration": 1162,
    "start_time": "2022-05-27T07:26:18.775Z"
   },
   {
    "duration": 2,
    "start_time": "2022-05-27T07:26:19.939Z"
   },
   {
    "duration": 461,
    "start_time": "2022-05-27T07:26:19.943Z"
   },
   {
    "duration": 14,
    "start_time": "2022-05-27T07:26:20.406Z"
   },
   {
    "duration": 24,
    "start_time": "2022-05-27T07:26:20.422Z"
   },
   {
    "duration": 49,
    "start_time": "2022-05-27T07:26:20.447Z"
   },
   {
    "duration": 38,
    "start_time": "2022-05-27T07:26:20.498Z"
   },
   {
    "duration": 22,
    "start_time": "2022-05-27T07:26:20.539Z"
   },
   {
    "duration": 21,
    "start_time": "2022-05-27T07:26:20.564Z"
   },
   {
    "duration": 51,
    "start_time": "2022-05-27T07:26:20.588Z"
   },
   {
    "duration": 26,
    "start_time": "2022-05-27T07:26:20.641Z"
   },
   {
    "duration": 7,
    "start_time": "2022-05-27T07:26:20.669Z"
   },
   {
    "duration": 27,
    "start_time": "2022-05-27T07:26:20.678Z"
   },
   {
    "duration": 38,
    "start_time": "2022-05-27T07:26:20.707Z"
   },
   {
    "duration": 22,
    "start_time": "2022-05-27T07:26:20.747Z"
   },
   {
    "duration": 14,
    "start_time": "2022-05-27T07:26:20.771Z"
   },
   {
    "duration": 15,
    "start_time": "2022-05-27T07:26:20.788Z"
   },
   {
    "duration": 33,
    "start_time": "2022-05-27T07:26:20.805Z"
   },
   {
    "duration": 31,
    "start_time": "2022-05-27T07:26:20.840Z"
   },
   {
    "duration": 8,
    "start_time": "2022-05-27T07:26:20.873Z"
   },
   {
    "duration": 24,
    "start_time": "2022-05-27T07:26:20.883Z"
   },
   {
    "duration": 19,
    "start_time": "2022-05-27T07:26:20.909Z"
   },
   {
    "duration": 18,
    "start_time": "2022-05-27T07:26:20.930Z"
   },
   {
    "duration": 52,
    "start_time": "2022-05-27T07:26:20.949Z"
   },
   {
    "duration": 18,
    "start_time": "2022-05-27T07:26:21.002Z"
   },
   {
    "duration": 43,
    "start_time": "2022-05-27T07:26:21.022Z"
   },
   {
    "duration": 16,
    "start_time": "2022-05-27T07:26:21.066Z"
   },
   {
    "duration": 33,
    "start_time": "2022-05-27T07:26:21.085Z"
   },
   {
    "duration": 17,
    "start_time": "2022-05-27T07:26:21.120Z"
   },
   {
    "duration": 57,
    "start_time": "2022-05-27T07:26:21.139Z"
   },
   {
    "duration": 11,
    "start_time": "2022-05-27T07:26:21.198Z"
   },
   {
    "duration": 78,
    "start_time": "2022-05-27T07:26:21.211Z"
   },
   {
    "duration": 37,
    "start_time": "2022-05-27T07:26:21.291Z"
   },
   {
    "duration": 61,
    "start_time": "2022-05-27T07:26:21.330Z"
   },
   {
    "duration": 30,
    "start_time": "2022-05-27T07:26:21.393Z"
   },
   {
    "duration": 18,
    "start_time": "2022-05-27T07:26:21.425Z"
   },
   {
    "duration": 4,
    "start_time": "2022-05-27T07:26:21.465Z"
   },
   {
    "duration": 134,
    "start_time": "2022-05-27T07:26:21.471Z"
   },
   {
    "duration": 3,
    "start_time": "2022-05-27T07:26:21.606Z"
   },
   {
    "duration": 18,
    "start_time": "2022-05-27T07:26:21.611Z"
   },
   {
    "duration": 9,
    "start_time": "2022-05-27T07:26:21.631Z"
   },
   {
    "duration": 170,
    "start_time": "2022-05-27T07:26:21.642Z"
   },
   {
    "duration": 364,
    "start_time": "2022-05-27T07:26:21.813Z"
   },
   {
    "duration": 17,
    "start_time": "2022-05-27T07:26:22.179Z"
   },
   {
    "duration": 15,
    "start_time": "2022-05-27T07:26:22.198Z"
   },
   {
    "duration": 238,
    "start_time": "2022-05-27T07:26:22.215Z"
   },
   {
    "duration": 231,
    "start_time": "2022-05-27T07:26:22.455Z"
   },
   {
    "duration": 16,
    "start_time": "2022-05-27T07:26:22.687Z"
   },
   {
    "duration": 221,
    "start_time": "2022-05-27T07:26:22.705Z"
   },
   {
    "duration": 195,
    "start_time": "2022-05-27T07:26:22.927Z"
   },
   {
    "duration": 13,
    "start_time": "2022-05-27T07:26:23.124Z"
   },
   {
    "duration": 240,
    "start_time": "2022-05-27T07:26:23.139Z"
   },
   {
    "duration": 210,
    "start_time": "2022-05-27T07:26:23.381Z"
   },
   {
    "duration": 12,
    "start_time": "2022-05-27T07:26:23.593Z"
   },
   {
    "duration": 10,
    "start_time": "2022-05-27T07:26:23.607Z"
   },
   {
    "duration": 17,
    "start_time": "2022-05-27T07:26:23.619Z"
   },
   {
    "duration": 602,
    "start_time": "2022-05-27T07:26:23.638Z"
   },
   {
    "duration": 121,
    "start_time": "2022-05-27T07:26:24.241Z"
   },
   {
    "duration": 0,
    "start_time": "2022-05-27T07:26:24.364Z"
   },
   {
    "duration": 7,
    "start_time": "2022-05-27T08:25:32.760Z"
   },
   {
    "duration": 6,
    "start_time": "2022-05-27T08:25:34.206Z"
   },
   {
    "duration": 1159,
    "start_time": "2022-05-27T08:25:42.401Z"
   },
   {
    "duration": 4,
    "start_time": "2022-05-27T08:25:43.564Z"
   },
   {
    "duration": 459,
    "start_time": "2022-05-27T08:25:43.570Z"
   },
   {
    "duration": 14,
    "start_time": "2022-05-27T08:25:44.031Z"
   },
   {
    "duration": 9,
    "start_time": "2022-05-27T08:25:44.047Z"
   },
   {
    "duration": 23,
    "start_time": "2022-05-27T08:25:44.058Z"
   },
   {
    "duration": 12,
    "start_time": "2022-05-27T08:25:44.083Z"
   },
   {
    "duration": 11,
    "start_time": "2022-05-27T08:25:44.097Z"
   },
   {
    "duration": 10,
    "start_time": "2022-05-27T08:25:44.110Z"
   },
   {
    "duration": 43,
    "start_time": "2022-05-27T08:25:44.123Z"
   },
   {
    "duration": 27,
    "start_time": "2022-05-27T08:25:44.168Z"
   },
   {
    "duration": 8,
    "start_time": "2022-05-27T08:25:44.196Z"
   },
   {
    "duration": 9,
    "start_time": "2022-05-27T08:25:44.205Z"
   },
   {
    "duration": 26,
    "start_time": "2022-05-27T08:25:44.216Z"
   },
   {
    "duration": 20,
    "start_time": "2022-05-27T08:25:44.264Z"
   },
   {
    "duration": 8,
    "start_time": "2022-05-27T08:25:44.286Z"
   },
   {
    "duration": 10,
    "start_time": "2022-05-27T08:25:44.296Z"
   },
   {
    "duration": 58,
    "start_time": "2022-05-27T08:25:44.308Z"
   },
   {
    "duration": 33,
    "start_time": "2022-05-27T08:25:44.368Z"
   },
   {
    "duration": 8,
    "start_time": "2022-05-27T08:25:44.403Z"
   },
   {
    "duration": 15,
    "start_time": "2022-05-27T08:25:44.413Z"
   },
   {
    "duration": 36,
    "start_time": "2022-05-27T08:25:44.430Z"
   },
   {
    "duration": 12,
    "start_time": "2022-05-27T08:25:44.468Z"
   },
   {
    "duration": 40,
    "start_time": "2022-05-27T08:25:44.482Z"
   },
   {
    "duration": 47,
    "start_time": "2022-05-27T08:25:44.524Z"
   },
   {
    "duration": 29,
    "start_time": "2022-05-27T08:25:44.572Z"
   },
   {
    "duration": 17,
    "start_time": "2022-05-27T08:25:44.603Z"
   },
   {
    "duration": 54,
    "start_time": "2022-05-27T08:25:44.623Z"
   },
   {
    "duration": 17,
    "start_time": "2022-05-27T08:25:44.679Z"
   },
   {
    "duration": 30,
    "start_time": "2022-05-27T08:25:44.698Z"
   },
   {
    "duration": 35,
    "start_time": "2022-05-27T08:25:44.730Z"
   },
   {
    "duration": 54,
    "start_time": "2022-05-27T08:25:44.767Z"
   },
   {
    "duration": 56,
    "start_time": "2022-05-27T08:25:44.823Z"
   },
   {
    "duration": 42,
    "start_time": "2022-05-27T08:25:44.881Z"
   },
   {
    "duration": 48,
    "start_time": "2022-05-27T08:25:44.925Z"
   },
   {
    "duration": 20,
    "start_time": "2022-05-27T08:25:44.975Z"
   },
   {
    "duration": 5,
    "start_time": "2022-05-27T08:25:44.997Z"
   },
   {
    "duration": 141,
    "start_time": "2022-05-27T08:25:45.004Z"
   },
   {
    "duration": 4,
    "start_time": "2022-05-27T08:25:45.148Z"
   },
   {
    "duration": 32,
    "start_time": "2022-05-27T08:25:45.153Z"
   },
   {
    "duration": 8,
    "start_time": "2022-05-27T08:25:45.186Z"
   },
   {
    "duration": 171,
    "start_time": "2022-05-27T08:25:45.195Z"
   },
   {
    "duration": 369,
    "start_time": "2022-05-27T08:25:45.368Z"
   },
   {
    "duration": 25,
    "start_time": "2022-05-27T08:25:45.739Z"
   },
   {
    "duration": 14,
    "start_time": "2022-05-27T08:25:45.766Z"
   },
   {
    "duration": 239,
    "start_time": "2022-05-27T08:25:45.782Z"
   },
   {
    "duration": 226,
    "start_time": "2022-05-27T08:25:46.023Z"
   },
   {
    "duration": 21,
    "start_time": "2022-05-27T08:25:46.252Z"
   },
   {
    "duration": 228,
    "start_time": "2022-05-27T08:25:46.275Z"
   },
   {
    "duration": 197,
    "start_time": "2022-05-27T08:25:46.505Z"
   },
   {
    "duration": 16,
    "start_time": "2022-05-27T08:25:46.704Z"
   },
   {
    "duration": 235,
    "start_time": "2022-05-27T08:25:46.722Z"
   },
   {
    "duration": 191,
    "start_time": "2022-05-27T08:25:46.964Z"
   },
   {
    "duration": 14,
    "start_time": "2022-05-27T08:25:47.157Z"
   },
   {
    "duration": 7,
    "start_time": "2022-05-27T08:25:47.173Z"
   },
   {
    "duration": 13,
    "start_time": "2022-05-27T08:25:47.182Z"
   },
   {
    "duration": 609,
    "start_time": "2022-05-27T08:25:47.197Z"
   },
   {
    "duration": 6,
    "start_time": "2022-05-27T08:25:47.808Z"
   },
   {
    "duration": 9,
    "start_time": "2022-05-27T08:25:47.816Z"
   },
   {
    "duration": 1197,
    "start_time": "2022-05-27T08:43:09.766Z"
   },
   {
    "duration": 3,
    "start_time": "2022-05-27T08:43:10.965Z"
   },
   {
    "duration": 498,
    "start_time": "2022-05-27T08:43:10.970Z"
   },
   {
    "duration": 20,
    "start_time": "2022-05-27T08:43:11.472Z"
   },
   {
    "duration": 15,
    "start_time": "2022-05-27T08:43:11.495Z"
   },
   {
    "duration": 18,
    "start_time": "2022-05-27T08:43:11.514Z"
   },
   {
    "duration": 25,
    "start_time": "2022-05-27T08:43:11.534Z"
   },
   {
    "duration": 13,
    "start_time": "2022-05-27T08:43:11.562Z"
   },
   {
    "duration": 19,
    "start_time": "2022-05-27T08:43:11.577Z"
   },
   {
    "duration": 35,
    "start_time": "2022-05-27T08:43:11.600Z"
   },
   {
    "duration": 28,
    "start_time": "2022-05-27T08:43:11.637Z"
   },
   {
    "duration": 29,
    "start_time": "2022-05-27T08:43:11.667Z"
   },
   {
    "duration": 11,
    "start_time": "2022-05-27T08:43:11.698Z"
   },
   {
    "duration": 23,
    "start_time": "2022-05-27T08:43:11.711Z"
   },
   {
    "duration": 37,
    "start_time": "2022-05-27T08:43:11.736Z"
   },
   {
    "duration": 13,
    "start_time": "2022-05-27T08:43:11.774Z"
   },
   {
    "duration": 24,
    "start_time": "2022-05-27T08:43:11.789Z"
   },
   {
    "duration": 38,
    "start_time": "2022-05-27T08:43:11.815Z"
   },
   {
    "duration": 28,
    "start_time": "2022-05-27T08:43:11.855Z"
   },
   {
    "duration": 11,
    "start_time": "2022-05-27T08:43:11.894Z"
   },
   {
    "duration": 21,
    "start_time": "2022-05-27T08:43:11.907Z"
   },
   {
    "duration": 26,
    "start_time": "2022-05-27T08:43:11.930Z"
   },
   {
    "duration": 20,
    "start_time": "2022-05-27T08:43:11.958Z"
   },
   {
    "duration": 62,
    "start_time": "2022-05-27T08:43:11.983Z"
   },
   {
    "duration": 20,
    "start_time": "2022-05-27T08:43:12.047Z"
   },
   {
    "duration": 43,
    "start_time": "2022-05-27T08:43:12.069Z"
   },
   {
    "duration": 19,
    "start_time": "2022-05-27T08:43:12.114Z"
   },
   {
    "duration": 73,
    "start_time": "2022-05-27T08:43:12.141Z"
   },
   {
    "duration": 20,
    "start_time": "2022-05-27T08:43:12.216Z"
   },
   {
    "duration": 40,
    "start_time": "2022-05-27T08:43:12.241Z"
   },
   {
    "duration": 25,
    "start_time": "2022-05-27T08:43:12.282Z"
   },
   {
    "duration": 65,
    "start_time": "2022-05-27T08:43:12.309Z"
   },
   {
    "duration": 50,
    "start_time": "2022-05-27T08:43:12.395Z"
   },
   {
    "duration": 65,
    "start_time": "2022-05-27T08:43:12.447Z"
   },
   {
    "duration": 39,
    "start_time": "2022-05-27T08:43:12.515Z"
   },
   {
    "duration": 20,
    "start_time": "2022-05-27T08:43:12.556Z"
   },
   {
    "duration": 6,
    "start_time": "2022-05-27T08:43:12.595Z"
   },
   {
    "duration": 136,
    "start_time": "2022-05-27T08:43:12.602Z"
   },
   {
    "duration": 4,
    "start_time": "2022-05-27T08:43:12.740Z"
   },
   {
    "duration": 22,
    "start_time": "2022-05-27T08:43:12.746Z"
   },
   {
    "duration": 7,
    "start_time": "2022-05-27T08:43:12.770Z"
   },
   {
    "duration": 180,
    "start_time": "2022-05-27T08:43:12.799Z"
   },
   {
    "duration": 371,
    "start_time": "2022-05-27T08:43:12.981Z"
   },
   {
    "duration": 22,
    "start_time": "2022-05-27T08:43:13.354Z"
   },
   {
    "duration": 32,
    "start_time": "2022-05-27T08:43:13.378Z"
   },
   {
    "duration": 219,
    "start_time": "2022-05-27T08:43:13.412Z"
   },
   {
    "duration": 214,
    "start_time": "2022-05-27T08:43:13.632Z"
   },
   {
    "duration": 15,
    "start_time": "2022-05-27T08:43:13.848Z"
   },
   {
    "duration": 250,
    "start_time": "2022-05-27T08:43:13.865Z"
   },
   {
    "duration": 222,
    "start_time": "2022-05-27T08:43:14.117Z"
   },
   {
    "duration": 32,
    "start_time": "2022-05-27T08:43:14.343Z"
   },
   {
    "duration": 246,
    "start_time": "2022-05-27T08:43:14.377Z"
   },
   {
    "duration": 225,
    "start_time": "2022-05-27T08:43:14.625Z"
   },
   {
    "duration": 13,
    "start_time": "2022-05-27T08:43:14.852Z"
   },
   {
    "duration": 11,
    "start_time": "2022-05-27T08:43:14.867Z"
   },
   {
    "duration": 13,
    "start_time": "2022-05-27T08:43:14.895Z"
   },
   {
    "duration": 621,
    "start_time": "2022-05-27T08:43:14.910Z"
   },
   {
    "duration": 6,
    "start_time": "2022-05-27T08:43:15.533Z"
   },
   {
    "duration": 36,
    "start_time": "2022-05-27T08:43:15.541Z"
   },
   {
    "duration": 58,
    "start_time": "2022-05-27T13:43:54.117Z"
   },
   {
    "duration": 1246,
    "start_time": "2022-05-27T13:43:58.650Z"
   },
   {
    "duration": 12,
    "start_time": "2022-05-27T13:43:59.900Z"
   },
   {
    "duration": 1237,
    "start_time": "2022-05-27T13:43:59.914Z"
   },
   {
    "duration": 18,
    "start_time": "2022-05-27T13:44:01.153Z"
   },
   {
    "duration": 23,
    "start_time": "2022-05-27T13:44:01.173Z"
   },
   {
    "duration": 54,
    "start_time": "2022-05-27T13:44:01.198Z"
   },
   {
    "duration": 19,
    "start_time": "2022-05-27T13:44:01.254Z"
   },
   {
    "duration": 18,
    "start_time": "2022-05-27T13:44:01.275Z"
   },
   {
    "duration": 34,
    "start_time": "2022-05-27T13:44:01.295Z"
   },
   {
    "duration": 42,
    "start_time": "2022-05-27T13:44:01.331Z"
   },
   {
    "duration": 31,
    "start_time": "2022-05-27T13:44:01.375Z"
   },
   {
    "duration": 21,
    "start_time": "2022-05-27T13:44:01.408Z"
   },
   {
    "duration": 13,
    "start_time": "2022-05-27T13:44:01.431Z"
   },
   {
    "duration": 16,
    "start_time": "2022-05-27T13:44:01.447Z"
   },
   {
    "duration": 17,
    "start_time": "2022-05-27T13:44:01.465Z"
   },
   {
    "duration": 18,
    "start_time": "2022-05-27T13:44:01.484Z"
   },
   {
    "duration": 14,
    "start_time": "2022-05-27T13:44:01.506Z"
   },
   {
    "duration": 34,
    "start_time": "2022-05-27T13:44:01.521Z"
   },
   {
    "duration": 21,
    "start_time": "2022-05-27T13:44:01.557Z"
   },
   {
    "duration": 45,
    "start_time": "2022-05-27T13:44:01.579Z"
   },
   {
    "duration": 17,
    "start_time": "2022-05-27T13:44:01.627Z"
   },
   {
    "duration": 16,
    "start_time": "2022-05-27T13:44:01.646Z"
   },
   {
    "duration": 15,
    "start_time": "2022-05-27T13:44:01.664Z"
   },
   {
    "duration": 50,
    "start_time": "2022-05-27T13:44:01.680Z"
   },
   {
    "duration": 17,
    "start_time": "2022-05-27T13:44:01.732Z"
   },
   {
    "duration": 23,
    "start_time": "2022-05-27T13:44:01.751Z"
   },
   {
    "duration": 41,
    "start_time": "2022-05-27T13:44:01.775Z"
   },
   {
    "duration": 31,
    "start_time": "2022-05-27T13:44:01.820Z"
   },
   {
    "duration": 15,
    "start_time": "2022-05-27T13:44:01.853Z"
   },
   {
    "duration": 61,
    "start_time": "2022-05-27T13:44:01.870Z"
   },
   {
    "duration": 13,
    "start_time": "2022-05-27T13:44:01.932Z"
   },
   {
    "duration": 82,
    "start_time": "2022-05-27T13:44:01.946Z"
   },
   {
    "duration": 33,
    "start_time": "2022-05-27T13:44:02.030Z"
   },
   {
    "duration": 54,
    "start_time": "2022-05-27T13:44:02.064Z"
   },
   {
    "duration": 30,
    "start_time": "2022-05-27T13:44:02.120Z"
   },
   {
    "duration": 16,
    "start_time": "2022-05-27T13:44:02.152Z"
   },
   {
    "duration": 3,
    "start_time": "2022-05-27T13:44:02.170Z"
   },
   {
    "duration": 161,
    "start_time": "2022-05-27T13:44:02.175Z"
   },
   {
    "duration": 3,
    "start_time": "2022-05-27T13:44:02.338Z"
   },
   {
    "duration": 14,
    "start_time": "2022-05-27T13:44:02.342Z"
   },
   {
    "duration": 10,
    "start_time": "2022-05-27T13:44:02.359Z"
   },
   {
    "duration": 340,
    "start_time": "2022-05-27T13:44:02.371Z"
   },
   {
    "duration": 834,
    "start_time": "2022-05-27T13:44:02.713Z"
   },
   {
    "duration": 72,
    "start_time": "2022-05-27T13:44:03.549Z"
   },
   {
    "duration": 13,
    "start_time": "2022-05-27T13:44:03.623Z"
   },
   {
    "duration": 501,
    "start_time": "2022-05-27T13:44:03.637Z"
   },
   {
    "duration": 409,
    "start_time": "2022-05-27T13:44:04.140Z"
   },
   {
    "duration": 14,
    "start_time": "2022-05-27T13:44:04.550Z"
   },
   {
    "duration": 215,
    "start_time": "2022-05-27T13:44:04.566Z"
   },
   {
    "duration": 195,
    "start_time": "2022-05-27T13:44:04.783Z"
   },
   {
    "duration": 25,
    "start_time": "2022-05-27T13:44:04.980Z"
   },
   {
    "duration": 194,
    "start_time": "2022-05-27T13:44:05.008Z"
   },
   {
    "duration": 211,
    "start_time": "2022-05-27T13:44:05.205Z"
   },
   {
    "duration": 11,
    "start_time": "2022-05-27T13:44:05.418Z"
   },
   {
    "duration": 9,
    "start_time": "2022-05-27T13:44:05.431Z"
   },
   {
    "duration": 13,
    "start_time": "2022-05-27T13:44:05.441Z"
   },
   {
    "duration": 504,
    "start_time": "2022-05-27T13:44:05.456Z"
   },
   {
    "duration": 5,
    "start_time": "2022-05-27T13:44:05.961Z"
   },
   {
    "duration": 8,
    "start_time": "2022-05-27T13:44:05.967Z"
   },
   {
    "duration": 295,
    "start_time": "2022-05-27T13:44:28.254Z"
   },
   {
    "duration": 208,
    "start_time": "2022-05-27T13:44:31.844Z"
   },
   {
    "duration": 188,
    "start_time": "2022-05-27T13:44:37.047Z"
   },
   {
    "duration": 167,
    "start_time": "2022-05-27T13:44:39.242Z"
   },
   {
    "duration": 24,
    "start_time": "2022-05-27T13:45:50.701Z"
   },
   {
    "duration": 13,
    "start_time": "2022-05-27T13:48:59.593Z"
   },
   {
    "duration": 17,
    "start_time": "2022-05-27T13:49:19.080Z"
   },
   {
    "duration": 1080,
    "start_time": "2022-05-27T13:51:55.976Z"
   },
   {
    "duration": 3,
    "start_time": "2022-05-27T13:51:57.058Z"
   },
   {
    "duration": 383,
    "start_time": "2022-05-27T13:51:57.062Z"
   },
   {
    "duration": 14,
    "start_time": "2022-05-27T13:51:57.446Z"
   },
   {
    "duration": 10,
    "start_time": "2022-05-27T13:51:57.467Z"
   },
   {
    "duration": 14,
    "start_time": "2022-05-27T13:51:57.479Z"
   },
   {
    "duration": 14,
    "start_time": "2022-05-27T13:51:57.495Z"
   },
   {
    "duration": 10,
    "start_time": "2022-05-27T13:51:57.510Z"
   },
   {
    "duration": 10,
    "start_time": "2022-05-27T13:51:57.521Z"
   },
   {
    "duration": 26,
    "start_time": "2022-05-27T13:51:57.534Z"
   },
   {
    "duration": 41,
    "start_time": "2022-05-27T13:51:57.562Z"
   },
   {
    "duration": 6,
    "start_time": "2022-05-27T13:51:57.604Z"
   },
   {
    "duration": 8,
    "start_time": "2022-05-27T13:51:57.612Z"
   },
   {
    "duration": 16,
    "start_time": "2022-05-27T13:51:57.621Z"
   },
   {
    "duration": 17,
    "start_time": "2022-05-27T13:51:57.638Z"
   },
   {
    "duration": 8,
    "start_time": "2022-05-27T13:51:57.656Z"
   },
   {
    "duration": 8,
    "start_time": "2022-05-27T13:51:57.665Z"
   },
   {
    "duration": 25,
    "start_time": "2022-05-27T13:51:57.702Z"
   },
   {
    "duration": 20,
    "start_time": "2022-05-27T13:51:57.729Z"
   },
   {
    "duration": 8,
    "start_time": "2022-05-27T13:51:57.750Z"
   },
   {
    "duration": 10,
    "start_time": "2022-05-27T13:51:57.759Z"
   },
   {
    "duration": 43,
    "start_time": "2022-05-27T13:51:57.771Z"
   },
   {
    "duration": 13,
    "start_time": "2022-05-27T13:51:57.816Z"
   },
   {
    "duration": 45,
    "start_time": "2022-05-27T13:51:57.831Z"
   },
   {
    "duration": 28,
    "start_time": "2022-05-27T13:51:57.877Z"
   },
   {
    "duration": 23,
    "start_time": "2022-05-27T13:51:57.906Z"
   },
   {
    "duration": 13,
    "start_time": "2022-05-27T13:51:57.931Z"
   },
   {
    "duration": 30,
    "start_time": "2022-05-27T13:51:57.948Z"
   },
   {
    "duration": 16,
    "start_time": "2022-05-27T13:51:58.002Z"
   },
   {
    "duration": 27,
    "start_time": "2022-05-27T13:51:58.020Z"
   },
   {
    "duration": 10,
    "start_time": "2022-05-27T13:51:58.049Z"
   },
   {
    "duration": 76,
    "start_time": "2022-05-27T13:51:58.060Z"
   },
   {
    "duration": 32,
    "start_time": "2022-05-27T13:51:58.138Z"
   },
   {
    "duration": 62,
    "start_time": "2022-05-27T13:51:58.172Z"
   },
   {
    "duration": 27,
    "start_time": "2022-05-27T13:51:58.236Z"
   },
   {
    "duration": 16,
    "start_time": "2022-05-27T13:51:58.264Z"
   },
   {
    "duration": 22,
    "start_time": "2022-05-27T13:51:58.281Z"
   },
   {
    "duration": 134,
    "start_time": "2022-05-27T13:51:58.305Z"
   },
   {
    "duration": 3,
    "start_time": "2022-05-27T13:51:58.440Z"
   },
   {
    "duration": 22,
    "start_time": "2022-05-27T13:51:58.447Z"
   },
   {
    "duration": 7,
    "start_time": "2022-05-27T13:51:58.472Z"
   },
   {
    "duration": 182,
    "start_time": "2022-05-27T13:51:58.481Z"
   },
   {
    "duration": 333,
    "start_time": "2022-05-27T13:51:58.664Z"
   },
   {
    "duration": 19,
    "start_time": "2022-05-27T13:51:59.001Z"
   },
   {
    "duration": 13,
    "start_time": "2022-05-27T13:51:59.021Z"
   },
   {
    "duration": 212,
    "start_time": "2022-05-27T13:51:59.036Z"
   },
   {
    "duration": 194,
    "start_time": "2022-05-27T13:51:59.249Z"
   },
   {
    "duration": 13,
    "start_time": "2022-05-27T13:51:59.445Z"
   },
   {
    "duration": 198,
    "start_time": "2022-05-27T13:51:59.460Z"
   },
   {
    "duration": 166,
    "start_time": "2022-05-27T13:51:59.660Z"
   },
   {
    "duration": 12,
    "start_time": "2022-05-27T13:51:59.828Z"
   },
   {
    "duration": 172,
    "start_time": "2022-05-27T13:51:59.841Z"
   },
   {
    "duration": 191,
    "start_time": "2022-05-27T13:52:00.015Z"
   },
   {
    "duration": 11,
    "start_time": "2022-05-27T13:52:00.208Z"
   },
   {
    "duration": 18,
    "start_time": "2022-05-27T13:52:00.221Z"
   },
   {
    "duration": 14,
    "start_time": "2022-05-27T13:52:00.241Z"
   },
   {
    "duration": 440,
    "start_time": "2022-05-27T13:52:00.256Z"
   },
   {
    "duration": 13,
    "start_time": "2022-05-27T13:52:00.701Z"
   },
   {
    "duration": 17,
    "start_time": "2022-05-27T13:52:00.715Z"
   },
   {
    "duration": 15,
    "start_time": "2022-05-27T13:52:00.733Z"
   }
  ],
  "kernelspec": {
   "display_name": "Python 3 (ipykernel)",
   "language": "python",
   "name": "python3"
  },
  "language_info": {
   "codemirror_mode": {
    "name": "ipython",
    "version": 3
   },
   "file_extension": ".py",
   "mimetype": "text/x-python",
   "name": "python",
   "nbconvert_exporter": "python",
   "pygments_lexer": "ipython3",
   "version": "3.9.13"
  },
  "nbTranslate": {
   "displayLangs": [
    "en",
    "ru"
   ],
   "hotkey": "alt-t",
   "langInMainMenu": true,
   "sourceLang": "ru",
   "targetLang": "en",
   "useGoogleTranslate": true
  },
  "toc": {
   "base_numbering": 1,
   "nav_menu": {
    "height": "278px",
    "width": "212px"
   },
   "number_sections": true,
   "sideBar": true,
   "skip_h1_title": true,
   "title_cell": "Table of Contents",
   "title_sidebar": "Contents",
   "toc_cell": false,
   "toc_position": {},
   "toc_section_display": true,
   "toc_window_display": true
  },
  "varInspector": {
   "cols": {
    "lenName": 16,
    "lenType": 16,
    "lenVar": 40
   },
   "kernels_config": {
    "python": {
     "delete_cmd_postfix": "",
     "delete_cmd_prefix": "del ",
     "library": "var_list.py",
     "varRefreshCmd": "print(var_dic_list())"
    },
    "r": {
     "delete_cmd_postfix": ") ",
     "delete_cmd_prefix": "rm(",
     "library": "var_list.r",
     "varRefreshCmd": "cat(var_dic_list()) "
    }
   },
   "types_to_exclude": [
    "module",
    "function",
    "builtin_function_or_method",
    "instance",
    "_Feature"
   ],
   "window_display": false
  }
 },
 "nbformat": 4,
 "nbformat_minor": 2
}
