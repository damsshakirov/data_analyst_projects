{
 "cells": [
  {
   "cell_type": "markdown",
   "metadata": {
    "lang": "ru"
   },
   "source": [
    "# Мобильное приложение продажи продуктов питания"
   ]
  },
  {
   "cell_type": "markdown",
   "metadata": {
    "lang": "ru"
   },
   "source": [
    "**Описание проекта**\n",
    "\n",
    "Необходимо исследовать пользовательское поведение мобильного приложения.\n",
    "\n",
    "Изучить воронку продаж - как пользователи доходят до покупки. Сколько пользователей доходит до покупки, а сколько — «застревает» на предыдущих шагах? На каких именно?\n",
    "\n",
    "Необходимо исследовать результаты A/A/B-эксперимента. Дизайнеры захотели поменять шрифты во всём приложении, а менеджеры испугались, что пользователям будет непривычно. Договорились принять решение по результатам A/A/B-теста. Пользователей разбили на 3 группы: 2 контрольные со старыми шрифтами и одну экспериментальную — с новыми. Нужно выяснить, какой шрифт лучше. Создание двух групп A вместо одной имеет определённые преимущества. Если две контрольные группы окажутся равны, можно быть увереным в точности проведенного тестирования. Если же между значениями A и A будут существенные различия, это поможет обнаружить факторы, которые привели к искажению результатов. Сравнение контрольных групп также помогает понять, сколько времени и данных потребуется для дальнейших тестов.\n",
    "\n",
    "**Цель проекта**\n",
    "1. Изучить воронку продаж\n",
    "2. Исследовать результаты A/A/B-эксперимента\n",
    "\n",
    "# Структура проекта\n",
    "\n",
    "**Шаг 1.** Откройте файл с данными и изучите общую информацию\n",
    "\n",
    "**Шаг 2.** Подготовьте данные\n",
    "\n",
    "* Замените названия столбцов на удобные для вас;\n",
    "* Проверьте пропуски и типы данных. Откорректируйте, если нужно;\n",
    "* Добавьте столбец даты и времени, а также отдельный столбец дат;\n",
    "\n",
    "**Шаг 3.** Изучите и проверьте данные\n",
    "\n",
    "* Сколько всего событий в логе?\n",
    "* Сколько всего пользователей в логе?\n",
    "* Сколько в среднем событий приходится на пользователя?\n",
    "* Данными за какой период вы располагаете? Найдите максимальную и минимальную дату. Постройте гистограмму по дате и времени. Можно ли быть уверенным, что у вас одинаково полные данные за весь период? Технически в логи новых дней по некоторым пользователям могут «доезжать» события из прошлого — это может «перекашивать данные». Определите, с какого момента данные полные и отбросьте более старые. Данными за какой период времени вы располагаете на самом деле?\n",
    "*  Много ли событий и пользователей вы потеряли, отбросив старые данные? \n",
    "* Проверьте, что у вас есть пользователи из всех трёх экспериментальных групп.\n",
    "\n",
    "**Шаг 4.** Изучите воронку событий\n",
    "* Посмотрите, какие события есть в логах, как часто они встречаются. Отсортируйте события по частоте.\n",
    "* Посчитайте, сколько пользователей совершали каждое из этих событий. Отсортируйте события по числу пользователей. Посчитайте долю пользователей, которые хоть раз совершали событие.\n",
    "* Предположите, в каком порядке происходят события. Все ли они выстраиваются в последовательную цепочку? Их не нужно учитывать при расчёте воронки.\n",
    "* По воронке событий посчитайте, какая доля пользователей проходит на следующий шаг воронки (от числа пользователей на предыдущем). То есть для последовательности событий A → B → C посчитайте отношение числа пользователей с событием B к количеству пользователей с событием A, а также отношение числа пользователей с событием C к количеству пользователей с событием B.\n",
    "* На каком шаге теряете больше всего пользователей?\n",
    "* Какая доля пользователей доходит от первого события до оплаты?\n",
    "\n",
    "**Шаг 5.** Изучите результаты эксперимента\n",
    "* Сколько пользователей в каждой экспериментальной группе?\n",
    "* Есть 2 контрольные группы для А/А-эксперимента, чтобы проверить корректность всех механизмов и расчётов. Проверьте, находят ли статистические критерии разницу между выборками 246 и 247.\n",
    "* Выберите самое популярное событие. Посчитайте число пользователей, совершивших это событие в каждой из контрольных групп. Посчитайте долю пользователей, совершивших это событие. Проверьте, будет ли отличие между группами статистически достоверным. Проделайте то же самое для всех других событий (удобно обернуть проверку в отдельную функцию). Можно ли сказать, что разбиение на группы работает корректно?\n",
    "* Аналогично поступите с группой с изменённым шрифтом. Сравните результаты с каждой из контрольных групп в отдельности по каждому событию. Сравните результаты с объединённой контрольной группой. Какие выводы из эксперимента можно сделать?\n",
    "* Какой уровень значимости вы выбрали при проверке статистических гипотез выше? Посчитайте, сколько проверок статистических гипотез вы сделали. При уровне значимости 0.1 каждый десятый раз можно получать ложный результат. Какой уровень значимости стоит применить? Если вы хотите изменить его, проделайте предыдущие пункты и проверьте свои выводы."
   ]
  },
  {
   "cell_type": "markdown",
   "metadata": {
    "lang": "ru"
   },
   "source": [
    "**Оглавление:**\n",
    "<a id='section_id'></a>\n",
    "\n",
    "1. [Импорт библиотек и загрузка данных](#section_id1)\n",
    "2. [Предобработка данных](#section_id2)\n",
    "3. [Исследовательский анализ данных (EDA)](#section_id3)\n",
    "4. [Воронка событий](#section_id4)\n",
    "5. [Результаты исследования](#section_id5)"
   ]
  },
  {
   "cell_type": "markdown",
   "metadata": {
    "lang": "ru"
   },
   "source": [
    "## Импорт библиотек и загрузка данных\n",
    "<a id='section_id1'></a>"
   ]
  },
  {
   "cell_type": "code",
   "execution_count": 1,
   "metadata": {
    "ExecuteTime": {
     "end_time": "2022-11-18T15:22:15.913492Z",
     "start_time": "2022-11-18T15:22:14.066434Z"
    }
   },
   "outputs": [],
   "source": [
    "import pandas as pd\n",
    "import numpy as np\n",
    "from scipy import stats as st\n",
    "import math as mth\n",
    "import datetime \n",
    "\n",
    "import matplotlib.pyplot as plt \n",
    "import seaborn as sns\n",
    "from plotly import graph_objects as go\n",
    "\n",
    "from IPython.display import display, HTML"
   ]
  },
  {
   "cell_type": "code",
   "execution_count": 2,
   "metadata": {
    "ExecuteTime": {
     "end_time": "2022-11-18T15:22:15.945408Z",
     "start_time": "2022-11-18T15:22:15.916485Z"
    }
   },
   "outputs": [
    {
     "data": {
      "text/html": [
       "<style>.container{width:70% !important;}</style"
      ],
      "text/plain": [
       "<IPython.core.display.HTML object>"
      ]
     },
     "metadata": {},
     "output_type": "display_data"
    }
   ],
   "source": [
    "# Причёсываю формат отображения данных - отображение всех колонок и ограничиваю количество знаков после запятой\n",
    "pd.set_option('display.max_columns', None)\n",
    "pd.options.display.float_format = '{:,.2f}'.format\n",
    "pd.options.display.max_colwidth = 50\n",
    "# формат отображения ячеек с кодом:\n",
    "display(HTML(\"<style>.container{width:70% !important;}</style\"))\n",
    "\n",
    "# форматирую вывод графиков\n",
    "sns.set(rc={'figure.figsize':(10, 6)})\n",
    "sns.set_style('whitegrid')"
   ]
  },
  {
   "cell_type": "code",
   "execution_count": 3,
   "metadata": {
    "ExecuteTime": {
     "end_time": "2022-11-18T15:22:21.936950Z",
     "start_time": "2022-11-18T15:22:15.949397Z"
    }
   },
   "outputs": [],
   "source": [
    "data_logs = pd.read_csv('/datasets/logs_exp.csv', sep='\\t')"
   ]
  },
  {
   "cell_type": "markdown",
   "metadata": {},
   "source": [
    "### Обзор данных"
   ]
  },
  {
   "cell_type": "code",
   "execution_count": 4,
   "metadata": {
    "ExecuteTime": {
     "end_time": "2022-11-18T15:22:21.967779Z",
     "start_time": "2022-11-18T15:22:21.941846Z"
    }
   },
   "outputs": [
    {
     "data": {
      "text/html": [
       "<div>\n",
       "<style scoped>\n",
       "    .dataframe tbody tr th:only-of-type {\n",
       "        vertical-align: middle;\n",
       "    }\n",
       "\n",
       "    .dataframe tbody tr th {\n",
       "        vertical-align: top;\n",
       "    }\n",
       "\n",
       "    .dataframe thead th {\n",
       "        text-align: right;\n",
       "    }\n",
       "</style>\n",
       "<table border=\"1\" class=\"dataframe\">\n",
       "  <thead>\n",
       "    <tr style=\"text-align: right;\">\n",
       "      <th></th>\n",
       "      <th>EventName</th>\n",
       "      <th>DeviceIDHash</th>\n",
       "      <th>EventTimestamp</th>\n",
       "      <th>ExpId</th>\n",
       "    </tr>\n",
       "  </thead>\n",
       "  <tbody>\n",
       "    <tr>\n",
       "      <th>0</th>\n",
       "      <td>MainScreenAppear</td>\n",
       "      <td>4575588528974610257</td>\n",
       "      <td>1564029816</td>\n",
       "      <td>246</td>\n",
       "    </tr>\n",
       "    <tr>\n",
       "      <th>1</th>\n",
       "      <td>MainScreenAppear</td>\n",
       "      <td>7416695313311560658</td>\n",
       "      <td>1564053102</td>\n",
       "      <td>246</td>\n",
       "    </tr>\n",
       "    <tr>\n",
       "      <th>2</th>\n",
       "      <td>PaymentScreenSuccessful</td>\n",
       "      <td>3518123091307005509</td>\n",
       "      <td>1564054127</td>\n",
       "      <td>248</td>\n",
       "    </tr>\n",
       "  </tbody>\n",
       "</table>\n",
       "</div>"
      ],
      "text/plain": [
       "                 EventName         DeviceIDHash  EventTimestamp  ExpId\n",
       "0         MainScreenAppear  4575588528974610257      1564029816    246\n",
       "1         MainScreenAppear  7416695313311560658      1564053102    246\n",
       "2  PaymentScreenSuccessful  3518123091307005509      1564054127    248"
      ]
     },
     "execution_count": 4,
     "metadata": {},
     "output_type": "execute_result"
    }
   ],
   "source": [
    "data_logs.head(3)"
   ]
  },
  {
   "cell_type": "code",
   "execution_count": 5,
   "metadata": {
    "ExecuteTime": {
     "end_time": "2022-11-18T15:22:22.045570Z",
     "start_time": "2022-11-18T15:22:21.970771Z"
    }
   },
   "outputs": [
    {
     "name": "stdout",
     "output_type": "stream",
     "text": [
      "<class 'pandas.core.frame.DataFrame'>\n",
      "RangeIndex: 244126 entries, 0 to 244125\n",
      "Data columns (total 4 columns):\n",
      " #   Column          Non-Null Count   Dtype \n",
      "---  ------          --------------   ----- \n",
      " 0   EventName       244126 non-null  object\n",
      " 1   DeviceIDHash    244126 non-null  int64 \n",
      " 2   EventTimestamp  244126 non-null  int64 \n",
      " 3   ExpId           244126 non-null  int64 \n",
      "dtypes: int64(3), object(1)\n",
      "memory usage: 7.5+ MB\n"
     ]
    }
   ],
   "source": [
    "data_logs.info()"
   ]
  },
  {
   "cell_type": "markdown",
   "metadata": {},
   "source": [
    "**Вывод:**\n",
    "\n",
    "Пропусков в датасете нет, в рамках предобработки:\n",
    "* переименую названия столбцов, \n",
    "* приведу данные в колонке `EventName` к нижнему регистру, \n",
    "* на основании колонки `EventTimestamp` сформирую дополнительные столбцы с датой и временем, \n",
    "* проверю явные дубликаты."
   ]
  },
  {
   "cell_type": "markdown",
   "metadata": {},
   "source": [
    "## Предобработка данных\n",
    "<a id='section_id2'></a>"
   ]
  },
  {
   "cell_type": "code",
   "execution_count": 6,
   "metadata": {
    "ExecuteTime": {
     "end_time": "2022-11-18T15:22:22.188192Z",
     "start_time": "2022-11-18T15:22:22.049559Z"
    }
   },
   "outputs": [
    {
     "name": "stdout",
     "output_type": "stream",
     "text": [
      "<class 'pandas.core.frame.DataFrame'>\n",
      "RangeIndex: 244126 entries, 0 to 244125\n",
      "Data columns (total 6 columns):\n",
      " #   Column           Non-Null Count   Dtype         \n",
      "---  ------           --------------   -----         \n",
      " 0   event_name       244126 non-null  object        \n",
      " 1   user_id          244126 non-null  int64         \n",
      " 2   event_timestamp  244126 non-null  int64         \n",
      " 3   exp_id           244126 non-null  int32         \n",
      " 4   date_time        244126 non-null  datetime64[ns]\n",
      " 5   date             244126 non-null  datetime64[ns]\n",
      "dtypes: datetime64[ns](2), int32(1), int64(2), object(1)\n",
      "memory usage: 10.2+ MB\n"
     ]
    }
   ],
   "source": [
    "# Переименую колонки на понятные по смыслу и приведу к нижнему регистру:\n",
    "data_logs = data_logs.rename(columns={\n",
    "    'EventName': 'event_name'\n",
    "    ,'DeviceIDHash': 'user_id'\n",
    "    ,'EventTimestamp': 'event_timestamp'\n",
    "    ,'ExpId': 'exp_id'\n",
    "})\n",
    "\n",
    "# Приведу данные в колонке к нижнему регистру:\n",
    "data_logs['event_name'] = data_logs['event_name'].str.lower()\n",
    "\n",
    "# Сформирую дополнительные столбцы с датой и временем, а также отдельно с датой:\n",
    "data_logs['date_time'] = pd.to_datetime(data_logs['event_timestamp'], unit='s')\n",
    "data_logs['date'] = data_logs['date_time'].astype('datetime64[D]')\n",
    "\n",
    "# Переведу тип данных в колонке exp_id из int64 в int32 для экономии памяти:\n",
    "data_logs['exp_id'] = data_logs['exp_id'].astype(np.int32)\n",
    "\n",
    "# Проверю типы данных в новых колонках после преобразований:\n",
    "data_logs.info()"
   ]
  },
  {
   "cell_type": "code",
   "execution_count": 7,
   "metadata": {
    "ExecuteTime": {
     "end_time": "2022-11-18T15:22:22.220102Z",
     "start_time": "2022-11-18T15:22:22.191180Z"
    }
   },
   "outputs": [
    {
     "data": {
      "text/html": [
       "<div>\n",
       "<style scoped>\n",
       "    .dataframe tbody tr th:only-of-type {\n",
       "        vertical-align: middle;\n",
       "    }\n",
       "\n",
       "    .dataframe tbody tr th {\n",
       "        vertical-align: top;\n",
       "    }\n",
       "\n",
       "    .dataframe thead th {\n",
       "        text-align: right;\n",
       "    }\n",
       "</style>\n",
       "<table border=\"1\" class=\"dataframe\">\n",
       "  <thead>\n",
       "    <tr style=\"text-align: right;\">\n",
       "      <th></th>\n",
       "      <th>event_name</th>\n",
       "      <th>user_id</th>\n",
       "      <th>event_timestamp</th>\n",
       "      <th>exp_id</th>\n",
       "      <th>date_time</th>\n",
       "      <th>date</th>\n",
       "    </tr>\n",
       "  </thead>\n",
       "  <tbody>\n",
       "    <tr>\n",
       "      <th>0</th>\n",
       "      <td>mainscreenappear</td>\n",
       "      <td>4575588528974610257</td>\n",
       "      <td>1564029816</td>\n",
       "      <td>246</td>\n",
       "      <td>2019-07-25 04:43:36</td>\n",
       "      <td>2019-07-25 04:43:36</td>\n",
       "    </tr>\n",
       "    <tr>\n",
       "      <th>1</th>\n",
       "      <td>mainscreenappear</td>\n",
       "      <td>7416695313311560658</td>\n",
       "      <td>1564053102</td>\n",
       "      <td>246</td>\n",
       "      <td>2019-07-25 11:11:42</td>\n",
       "      <td>2019-07-25 11:11:42</td>\n",
       "    </tr>\n",
       "    <tr>\n",
       "      <th>2</th>\n",
       "      <td>paymentscreensuccessful</td>\n",
       "      <td>3518123091307005509</td>\n",
       "      <td>1564054127</td>\n",
       "      <td>248</td>\n",
       "      <td>2019-07-25 11:28:47</td>\n",
       "      <td>2019-07-25 11:28:47</td>\n",
       "    </tr>\n",
       "  </tbody>\n",
       "</table>\n",
       "</div>"
      ],
      "text/plain": [
       "                event_name              user_id  event_timestamp  exp_id  \\\n",
       "0         mainscreenappear  4575588528974610257       1564029816     246   \n",
       "1         mainscreenappear  7416695313311560658       1564053102     246   \n",
       "2  paymentscreensuccessful  3518123091307005509       1564054127     248   \n",
       "\n",
       "            date_time                date  \n",
       "0 2019-07-25 04:43:36 2019-07-25 04:43:36  \n",
       "1 2019-07-25 11:11:42 2019-07-25 11:11:42  \n",
       "2 2019-07-25 11:28:47 2019-07-25 11:28:47  "
      ]
     },
     "execution_count": 7,
     "metadata": {},
     "output_type": "execute_result"
    }
   ],
   "source": [
    "# Посмотрю как выглядит датафрейм после преобразований:\n",
    "data_logs.head(3)"
   ]
  },
  {
   "cell_type": "code",
   "execution_count": 8,
   "metadata": {
    "ExecuteTime": {
     "end_time": "2022-11-18T15:22:22.392640Z",
     "start_time": "2022-11-18T15:22:22.223094Z"
    }
   },
   "outputs": [
    {
     "data": {
      "text/plain": [
       "413"
      ]
     },
     "execution_count": 8,
     "metadata": {},
     "output_type": "execute_result"
    }
   ],
   "source": [
    "# Проверка дубликатов:\n",
    "data_logs.duplicated().sum()"
   ]
  },
  {
   "cell_type": "code",
   "execution_count": 9,
   "metadata": {
    "ExecuteTime": {
     "end_time": "2022-11-18T15:22:22.662918Z",
     "start_time": "2022-11-18T15:22:22.395633Z"
    }
   },
   "outputs": [
    {
     "data": {
      "text/plain": [
       "0"
      ]
     },
     "execution_count": 9,
     "metadata": {},
     "output_type": "execute_result"
    }
   ],
   "source": [
    "# Удаление дубликатов:\n",
    "data_logs = data_logs.drop_duplicates().reset_index(drop=True)\n",
    "\n",
    "# Проверка дубликатов:\n",
    "data_logs.duplicated().sum()"
   ]
  },
  {
   "cell_type": "code",
   "execution_count": 10,
   "metadata": {
    "ExecuteTime": {
     "end_time": "2022-11-18T15:22:22.693837Z",
     "start_time": "2022-11-18T15:22:22.668903Z"
    }
   },
   "outputs": [],
   "source": [
    "# Создам бэкап датафрейма\n",
    "logs_full = data_logs.copy()"
   ]
  },
  {
   "cell_type": "markdown",
   "metadata": {},
   "source": [
    "**Вывод:**\n",
    "\n",
    "Подготовка данных проведена:\n",
    "* переименованы названия колонок\n",
    "* названия собыитй преведены к нижнему регистру\n",
    "* добавлены колонки с датой и датой и временем\n",
    "* удалены явные дубликаты\n",
    "\n",
    "Можно приступать к дальнейшему анализу."
   ]
  },
  {
   "cell_type": "markdown",
   "metadata": {},
   "source": [
    "[Оглавление](#section_id)"
   ]
  },
  {
   "cell_type": "markdown",
   "metadata": {},
   "source": [
    "## Исследовательский анализ данных (EDA)\n",
    "<a id='section_id3'></a>\n",
    "\n",
    "### Число событий\n",
    "Сколько всего событий в логе?"
   ]
  },
  {
   "cell_type": "code",
   "execution_count": 11,
   "metadata": {
    "ExecuteTime": {
     "end_time": "2022-11-18T15:22:22.738716Z",
     "start_time": "2022-11-18T15:22:22.699821Z"
    }
   },
   "outputs": [
    {
     "name": "stdout",
     "output_type": "stream",
     "text": [
      "В логе всего 243713 событий, все события распределяются на 5 категорий\n"
     ]
    }
   ],
   "source": [
    "print('В логе всего %d событий, все события распределяются на %d категорий' \n",
    "      % (logs_full.shape[0], logs_full['event_name'].nunique()))"
   ]
  },
  {
   "cell_type": "markdown",
   "metadata": {},
   "source": [
    "### Количество пользователей\n",
    "Сколько всего пользователей в логе?"
   ]
  },
  {
   "cell_type": "code",
   "execution_count": 12,
   "metadata": {
    "ExecuteTime": {
     "end_time": "2022-11-18T15:22:22.770633Z",
     "start_time": "2022-11-18T15:22:22.741708Z"
    }
   },
   "outputs": [
    {
     "name": "stdout",
     "output_type": "stream",
     "text": [
      "В логе 7551 пользователей\n"
     ]
    }
   ],
   "source": [
    "print('В логе %d пользователей' %(logs_full['user_id'].nunique()))"
   ]
  },
  {
   "cell_type": "markdown",
   "metadata": {},
   "source": [
    "### Число событий на 1 пользователя\n",
    "Сколько в среднем событий приходится на пользователя?"
   ]
  },
  {
   "cell_type": "code",
   "execution_count": 13,
   "metadata": {
    "ExecuteTime": {
     "end_time": "2022-11-18T15:22:22.816509Z",
     "start_time": "2022-11-18T15:22:22.773625Z"
    }
   },
   "outputs": [
    {
     "name": "stdout",
     "output_type": "stream",
     "text": [
      "В среднем на пользователя приходится 32 события\n"
     ]
    }
   ],
   "source": [
    "print('В среднем на пользователя приходится %d события' %(logs_full['event_name'].count() / logs_full['user_id'].nunique()))"
   ]
  },
  {
   "cell_type": "markdown",
   "metadata": {},
   "source": [
    "### Временной период\n",
    "\n",
    "* Данными за какой период вы располагаете? Найдите максимальную и минимальную дату. \n",
    "* Постройте гистограмму по дате и времени. Можно ли быть уверенным, что у вас одинаково полные данные за весь период? Технически в логи новых дней по некоторым пользователям могут «доезжать» события из прошлого — это может «перекашивать данные». \n",
    "* Определите, с какого момента данные полные и отбросьте более старые. \n",
    "* Данными за какой период времени вы располагаете на самом деле?"
   ]
  },
  {
   "cell_type": "code",
   "execution_count": 14,
   "metadata": {
    "ExecuteTime": {
     "end_time": "2022-11-18T15:22:22.832465Z",
     "start_time": "2022-11-18T15:22:22.819500Z"
    }
   },
   "outputs": [
    {
     "name": "stdout",
     "output_type": "stream",
     "text": [
      "Минимальная дата в логе: 2019-07-25 04:43:36\n",
      "Максимальная дата в логе: 2019-08-07 21:15:17\n"
     ]
    }
   ],
   "source": [
    "print('Минимальная дата в логе:', logs_full['date_time'].min())\n",
    "print('Максимальная дата в логе:', logs_full['date_time'].max())"
   ]
  },
  {
   "cell_type": "code",
   "execution_count": 15,
   "metadata": {
    "ExecuteTime": {
     "end_time": "2022-11-18T15:22:24.262640Z",
     "start_time": "2022-11-18T15:22:22.835456Z"
    }
   },
   "outputs": [
    {
     "data": {
      "image/png": "[encoded data removed]",
      "text/plain": [
       "<Figure size 1400x500 with 1 Axes>"
      ]
     },
     "metadata": {},
     "output_type": "display_data"
    }
   ],
   "source": [
    "# Задаю размер графика:\n",
    "plt.subplots(figsize=(14, 5))\n",
    "# Строю гистограму\n",
    "sns.histplot(logs_full['date_time'])\n",
    "\n",
    "plt.title('Гистограмма по дате и времени')\n",
    "plt.xlabel('Дата')\n",
    "plt.ylabel('Частота')\n",
    "plt.xticks(rotation=25)\n",
    "plt.show()"
   ]
  },
  {
   "cell_type": "markdown",
   "metadata": {},
   "source": [
    "На гистограме почти нет данных в период с 25.07 по 31.07 включительно, поэтому отброшу данные до 1 августа 2019 года."
   ]
  },
  {
   "cell_type": "code",
   "execution_count": 16,
   "metadata": {
    "ExecuteTime": {
     "end_time": "2022-11-18T15:22:25.612031Z",
     "start_time": "2022-11-18T15:22:24.266629Z"
    }
   },
   "outputs": [
    {
     "name": "stdout",
     "output_type": "stream",
     "text": [
      "В логе осталось 240887 событий\n"
     ]
    },
    {
     "data": {
      "image/png": "[encoded data removed]",
      "text/plain": [
       "<Figure size 1400x500 with 1 Axes>"
      ]
     },
     "metadata": {},
     "output_type": "display_data"
    }
   ],
   "source": [
    "logs = logs_full.loc[logs_full['date'] >= '2019-08-01'].reset_index(drop=True)\n",
    "\n",
    "# Проверю сколько строк осталось:\n",
    "print('В логе осталось %d событий' % (logs.shape[0]))\n",
    "\n",
    "plt.subplots(figsize=(14, 5))\n",
    "# Строю гистограму\n",
    "sns.histplot(logs['date_time'])\n",
    "\n",
    "plt.title('Гистограмма по дате и времени')\n",
    "plt.xlabel('Дата')\n",
    "plt.ylabel('Частота')\n",
    "#plt.xticks(rotation=25)\n",
    "plt.show()"
   ]
  },
  {
   "cell_type": "markdown",
   "metadata": {},
   "source": [
    "**Вывод:**\n",
    "\n",
    "Изначально датасет охватывал период с 25.07.2019 по 08.08.2019, но фактически данных за период 25.07-31.07 почти не было, это связано с техническими особенностяли логов.\n",
    "По факту, в логах содержатся данные за период с 01.08 по 08.08.  "
   ]
  },
  {
   "cell_type": "markdown",
   "metadata": {},
   "source": [
    "### Доля отброшенных данных\n",
    "\n",
    "Много ли событий и пользователей вы потеряли, отбросив старые данные?"
   ]
  },
  {
   "cell_type": "code",
   "execution_count": 17,
   "metadata": {
    "ExecuteTime": {
     "end_time": "2022-11-18T15:22:25.674953Z",
     "start_time": "2022-11-18T15:22:25.617020Z"
    }
   },
   "outputs": [
    {
     "name": "stdout",
     "output_type": "stream",
     "text": [
      "В изначальном логе всего 243713 событий, все события распределяются на 5 категорий\n",
      "В очищенном логе 240887 событий, все события распределяются на 5 категорий\n",
      "Число \"потерянных\" событий: 2826\n",
      "Доля \"потерянных\" событий от изначального датафрейма: 1.16%\n"
     ]
    }
   ],
   "source": [
    "# Посчитаю число и долю отброшенных событий и данных:\n",
    "print('В изначальном логе всего %d событий, все события распределяются на %d категорий' \n",
    "      % (logs_full.shape[0], logs_full['event_name'].nunique()))\n",
    "print('В очищенном логе %d событий, все события распределяются на %d категорий'\n",
    "      % (logs.shape[0], logs['event_name'].nunique()))\n",
    "print('Число \"потерянных\" событий:', (logs_full.shape[0]) - (logs.shape[0]))\n",
    "print('Доля \"потерянных\" событий от изначального датафрейма: {:.2%}'.\\\n",
    "      format((logs_full.shape[0] - logs.shape[0]) / logs_full.shape[0]))"
   ]
  },
  {
   "cell_type": "code",
   "execution_count": 18,
   "metadata": {
    "ExecuteTime": {
     "end_time": "2022-11-18T15:22:25.738693Z",
     "start_time": "2022-11-18T15:22:25.678853Z"
    },
    "scrolled": true
   },
   "outputs": [
    {
     "name": "stdout",
     "output_type": "stream",
     "text": [
      "В изначальном логе всего 7551 уникальных пользователей\n",
      "В очищенном логе 7534 уникальных пользователей\n",
      "Число \"потерянных\" пользователей: 17\n",
      "Доля \"потерянных\" пользователей от изначального датафрейма: 0.23%\n"
     ]
    }
   ],
   "source": [
    "# Посчитаю число и долю отброшенных пользователей:\n",
    "\n",
    "print('В изначальном логе всего %d уникальных пользователей' % (logs_full['user_id'].nunique()))\n",
    "print('В очищенном логе %d уникальных пользователей' % (logs['user_id'].nunique()))\n",
    "print('Число \"потерянных\" пользователей:', (logs_full['user_id'].nunique() - logs['user_id'].nunique()))\n",
    "print('Доля \"потерянных\" пользователей от изначального датафрейма: {:.2%}'.\\\n",
    "      format((logs_full['user_id'].nunique() - logs['user_id'].nunique()) / logs_full['user_id'].nunique()))"
   ]
  },
  {
   "cell_type": "markdown",
   "metadata": {},
   "source": [
    "### Пользователи в разрезе экспериментальных групп\n",
    "\n",
    "Проверьте, что у вас есть пользователи из всех трёх экспериментальных групп."
   ]
  },
  {
   "cell_type": "code",
   "execution_count": 19,
   "metadata": {
    "ExecuteTime": {
     "end_time": "2022-11-18T15:22:25.831446Z",
     "start_time": "2022-11-18T15:22:25.743679Z"
    }
   },
   "outputs": [
    {
     "data": {
      "text/html": [
       "<div>\n",
       "<style scoped>\n",
       "    .dataframe tbody tr th:only-of-type {\n",
       "        vertical-align: middle;\n",
       "    }\n",
       "\n",
       "    .dataframe tbody tr th {\n",
       "        vertical-align: top;\n",
       "    }\n",
       "\n",
       "    .dataframe thead tr th {\n",
       "        text-align: left;\n",
       "    }\n",
       "\n",
       "    .dataframe thead tr:last-of-type th {\n",
       "        text-align: right;\n",
       "    }\n",
       "</style>\n",
       "<table border=\"1\" class=\"dataframe\">\n",
       "  <thead>\n",
       "    <tr>\n",
       "      <th></th>\n",
       "      <th>nunique</th>\n",
       "      <th>count</th>\n",
       "    </tr>\n",
       "    <tr>\n",
       "      <th></th>\n",
       "      <th>user_id</th>\n",
       "      <th>user_id</th>\n",
       "    </tr>\n",
       "    <tr>\n",
       "      <th>exp_id</th>\n",
       "      <th></th>\n",
       "      <th></th>\n",
       "    </tr>\n",
       "  </thead>\n",
       "  <tbody>\n",
       "    <tr>\n",
       "      <th>246</th>\n",
       "      <td>2484</td>\n",
       "      <td>79302</td>\n",
       "    </tr>\n",
       "    <tr>\n",
       "      <th>247</th>\n",
       "      <td>2513</td>\n",
       "      <td>77022</td>\n",
       "    </tr>\n",
       "    <tr>\n",
       "      <th>248</th>\n",
       "      <td>2537</td>\n",
       "      <td>84563</td>\n",
       "    </tr>\n",
       "  </tbody>\n",
       "</table>\n",
       "</div>"
      ],
      "text/plain": [
       "       nunique   count\n",
       "       user_id user_id\n",
       "exp_id                \n",
       "246       2484   79302\n",
       "247       2513   77022\n",
       "248       2537   84563"
      ]
     },
     "execution_count": 19,
     "metadata": {},
     "output_type": "execute_result"
    }
   ],
   "source": [
    "logs.pivot_table(index='exp_id', values='user_id', aggfunc=['nunique', 'count'])"
   ]
  },
  {
   "cell_type": "markdown",
   "metadata": {},
   "source": [
    "**Вывод:**\n",
    "\n",
    "В ходе изучения и проверки данных обнаружил, что изначально датасет охватывал период с 25.07.2019 по 08.08.2019, но фактически данных за период 25.07-31.07 почти не было, это связано с техническими особенностяли логов.\n",
    "По факту, в логах содержатся данные за период с 01.08 по 08.08. После исключения периода 25.07-31.07 потерял 1.16% данных и 0.23% пользователей. \n",
    "\n",
    "После исключения данных остались пользователи в разрезе всех групп и событий. "
   ]
  },
  {
   "cell_type": "markdown",
   "metadata": {},
   "source": [
    "[Оглавление](#section_id)"
   ]
  },
  {
   "cell_type": "markdown",
   "metadata": {},
   "source": [
    "## Воронка событий\n",
    "<a id='section_id4'></a>\n",
    "\n",
    "### Категории событий \n",
    "Посмотрите, какие события есть в логах, как часто они встречаются. Отсортируйте события по частоте."
   ]
  },
  {
   "cell_type": "code",
   "execution_count": 20,
   "metadata": {
    "ExecuteTime": {
     "end_time": "2022-11-18T15:22:25.894350Z",
     "start_time": "2022-11-18T15:22:25.835434Z"
    }
   },
   "outputs": [
    {
     "data": {
      "text/plain": [
       "mainscreenappear           117328\n",
       "offersscreenappear          46333\n",
       "cartscreenappear            42303\n",
       "paymentscreensuccessful     33918\n",
       "tutorial                     1005\n",
       "Name: event_name, dtype: int64"
      ]
     },
     "execution_count": 20,
     "metadata": {},
     "output_type": "execute_result"
    }
   ],
   "source": [
    "logs['event_name'].value_counts()"
   ]
  },
  {
   "cell_type": "markdown",
   "metadata": {},
   "source": [
    "### Пользователи в разрезе категорий событий\n",
    "Посчитайте, сколько пользователей совершали каждое из этих событий. Отсортируйте события по числу пользователей. Посчитайте долю пользователей, которые хоть раз совершали событие."
   ]
  },
  {
   "cell_type": "code",
   "execution_count": 21,
   "metadata": {
    "ExecuteTime": {
     "end_time": "2022-11-18T15:22:26.020938Z",
     "start_time": "2022-11-18T15:22:25.899263Z"
    }
   },
   "outputs": [
    {
     "data": {
      "text/html": [
       "<div>\n",
       "<style scoped>\n",
       "    .dataframe tbody tr th:only-of-type {\n",
       "        vertical-align: middle;\n",
       "    }\n",
       "\n",
       "    .dataframe tbody tr th {\n",
       "        vertical-align: top;\n",
       "    }\n",
       "\n",
       "    .dataframe thead th {\n",
       "        text-align: right;\n",
       "    }\n",
       "</style>\n",
       "<table border=\"1\" class=\"dataframe\">\n",
       "  <thead>\n",
       "    <tr style=\"text-align: right;\">\n",
       "      <th></th>\n",
       "      <th>event_name</th>\n",
       "      <th>user_id</th>\n",
       "      <th>user_share</th>\n",
       "    </tr>\n",
       "  </thead>\n",
       "  <tbody>\n",
       "    <tr>\n",
       "      <th>0</th>\n",
       "      <td>mainscreenappear</td>\n",
       "      <td>7419</td>\n",
       "      <td>0.98</td>\n",
       "    </tr>\n",
       "    <tr>\n",
       "      <th>1</th>\n",
       "      <td>offersscreenappear</td>\n",
       "      <td>4593</td>\n",
       "      <td>0.61</td>\n",
       "    </tr>\n",
       "    <tr>\n",
       "      <th>2</th>\n",
       "      <td>cartscreenappear</td>\n",
       "      <td>3734</td>\n",
       "      <td>0.50</td>\n",
       "    </tr>\n",
       "    <tr>\n",
       "      <th>3</th>\n",
       "      <td>paymentscreensuccessful</td>\n",
       "      <td>3539</td>\n",
       "      <td>0.47</td>\n",
       "    </tr>\n",
       "    <tr>\n",
       "      <th>4</th>\n",
       "      <td>tutorial</td>\n",
       "      <td>840</td>\n",
       "      <td>0.11</td>\n",
       "    </tr>\n",
       "  </tbody>\n",
       "</table>\n",
       "</div>"
      ],
      "text/plain": [
       "                event_name  user_id  user_share\n",
       "0         mainscreenappear     7419        0.98\n",
       "1       offersscreenappear     4593        0.61\n",
       "2         cartscreenappear     3734        0.50\n",
       "3  paymentscreensuccessful     3539        0.47\n",
       "4                 tutorial      840        0.11"
      ]
     },
     "execution_count": 21,
     "metadata": {},
     "output_type": "execute_result"
    }
   ],
   "source": [
    "# Посмотрю распределение уникальных пользователей в разрезе 5 событий:\n",
    "users = logs.pivot_table(index='event_name', values='user_id', aggfunc='nunique')\\\n",
    "    .sort_values(by='user_id', ascending=False).reset_index()\n",
    "# Доля пользователей в разрезе категорий событий:\n",
    "users['user_share'] = users['user_id'] / logs['user_id'].nunique()\n",
    "users"
   ]
  },
  {
   "cell_type": "markdown",
   "metadata": {},
   "source": [
    "Как обычно, учебное пособие мало кто читает - в нашем случае около 11% уникальных пользователей. 98% или 7 419 пользователей хоть раз совершали какое-либо событие. "
   ]
  },
  {
   "cell_type": "markdown",
   "metadata": {},
   "source": [
    "### Порядок событий\n",
    "\n",
    "Предположите, в каком порядке происходят события. Все ли они выстраиваются в последовательную цепочку? Их не нужно учитывать при расчёте воронки."
   ]
  },
  {
   "cell_type": "markdown",
   "metadata": {},
   "source": [
    "Из 5 событий, 4 выстраиваются в последовательную цепочку: \n",
    "1. появление главного экрана, \n",
    "2. предложение, \n",
    "3. корзина, \n",
    "4. покупка. \n",
    "\n",
    "Обучение должно появляться после главного экрана, но его можно пропустить."
   ]
  },
  {
   "cell_type": "markdown",
   "metadata": {},
   "source": [
    "### Воронка событий\n",
    "\n",
    "По воронке событий посчитайте, какая доля пользователей проходит на следующий шаг воронки (от числа пользователей на предыдущем). То есть для последовательности событий A → B → C посчитайте отношение числа пользователей с событием B к количеству пользователей с событием A, а также отношение числа пользователей с событием C к количеству пользователей с событием B."
   ]
  },
  {
   "cell_type": "code",
   "execution_count": 22,
   "metadata": {
    "ExecuteTime": {
     "end_time": "2022-11-18T15:22:27.065146Z",
     "start_time": "2022-11-18T15:22:26.023930Z"
    }
   },
   "outputs": [
    {
     "data": {
      "image/png": "[encoded data removed]"
     },
     "metadata": {},
     "output_type": "display_data"
    }
   ],
   "source": [
    "funnel = users.copy()\n",
    "funnel = funnel.loc[:3]\n",
    "funnel = funnel[['event_name', 'user_id']]\n",
    "\n",
    "fig = go.Figure(\n",
    "    go.Funnel(\n",
    "        y = funnel['event_name'].to_list(),\n",
    "        x = funnel['user_id'].to_list(),\n",
    "        textinfo = \"value+percent initial\"\n",
    "    )\n",
    ")\n",
    "\n",
    "fig.update_layout(title='Events Conversion', title_x = 0.5)\n",
    "fig.show('png')"
   ]
  },
  {
   "cell_type": "markdown",
   "metadata": {},
   "source": [
    "### Потеря пользователей в разрезе шагов\n",
    "\n",
    "На каком шаге теряете больше всего пользователей?"
   ]
  },
  {
   "cell_type": "markdown",
   "metadata": {},
   "source": [
    "На графике воронки видно, что на шаге после появления главного экрана теряются больше всего пользователей ~38%. "
   ]
  },
  {
   "cell_type": "markdown",
   "metadata": {},
   "source": [
    "### Доля оплативших пользователей от первого события\n",
    "Какая доля пользователей доходит от первого события до оплаты?"
   ]
  },
  {
   "cell_type": "code",
   "execution_count": 23,
   "metadata": {
    "ExecuteTime": {
     "end_time": "2022-11-18T15:22:27.097060Z",
     "start_time": "2022-11-18T15:22:27.070177Z"
    }
   },
   "outputs": [
    {
     "data": {
      "text/html": [
       "<div>\n",
       "<style scoped>\n",
       "    .dataframe tbody tr th:only-of-type {\n",
       "        vertical-align: middle;\n",
       "    }\n",
       "\n",
       "    .dataframe tbody tr th {\n",
       "        vertical-align: top;\n",
       "    }\n",
       "\n",
       "    .dataframe thead th {\n",
       "        text-align: right;\n",
       "    }\n",
       "</style>\n",
       "<table border=\"1\" class=\"dataframe\">\n",
       "  <thead>\n",
       "    <tr style=\"text-align: right;\">\n",
       "      <th></th>\n",
       "      <th>event_name</th>\n",
       "      <th>user_id</th>\n",
       "      <th>share_from_first</th>\n",
       "    </tr>\n",
       "  </thead>\n",
       "  <tbody>\n",
       "    <tr>\n",
       "      <th>0</th>\n",
       "      <td>mainscreenappear</td>\n",
       "      <td>7419</td>\n",
       "      <td>1.00</td>\n",
       "    </tr>\n",
       "    <tr>\n",
       "      <th>1</th>\n",
       "      <td>offersscreenappear</td>\n",
       "      <td>4593</td>\n",
       "      <td>0.62</td>\n",
       "    </tr>\n",
       "    <tr>\n",
       "      <th>2</th>\n",
       "      <td>cartscreenappear</td>\n",
       "      <td>3734</td>\n",
       "      <td>0.50</td>\n",
       "    </tr>\n",
       "    <tr>\n",
       "      <th>3</th>\n",
       "      <td>paymentscreensuccessful</td>\n",
       "      <td>3539</td>\n",
       "      <td>0.48</td>\n",
       "    </tr>\n",
       "  </tbody>\n",
       "</table>\n",
       "</div>"
      ],
      "text/plain": [
       "                event_name  user_id  share_from_first\n",
       "0         mainscreenappear     7419              1.00\n",
       "1       offersscreenappear     4593              0.62\n",
       "2         cartscreenappear     3734              0.50\n",
       "3  paymentscreensuccessful     3539              0.48"
      ]
     },
     "execution_count": 23,
     "metadata": {},
     "output_type": "execute_result"
    }
   ],
   "source": [
    "funnel['share_from_first'] = (funnel['user_id'] / \n",
    "    (funnel[funnel['event_name'] == 'mainscreenappear']['user_id'].to_list()))\n",
    "funnel"
   ]
  },
  {
   "cell_type": "markdown",
   "metadata": {},
   "source": [
    "От первого события до оплаты доходит 48% пользователей."
   ]
  },
  {
   "cell_type": "markdown",
   "metadata": {},
   "source": [
    "**Вывод:**\n",
    "    \n",
    "В логах содержатся данные 5 событий, 4 из которых выстраиваются в последовательную цепочку: \n",
    "1. появление главного экрана, \n",
    "2. предложение, \n",
    "3. корзина, \n",
    "4. покупка. \n",
    "\n",
    "Пятое событие - \"обучение\" вероятно появлятется после главного экрана, но его можно пропустить.\n",
    "\n",
    "На графике воронки хорошо видно, что бОльшая часть пользователей теряется после появления главного экрана ~38%.\n",
    "Доля оплативших пользователей от первого события составляет 48%."
   ]
  },
  {
   "cell_type": "markdown",
   "metadata": {},
   "source": [
    "[Оглавление](#section_id)"
   ]
  },
  {
   "cell_type": "markdown",
   "metadata": {},
   "source": [
    "## Результаты эксперимента\n",
    "<a id='section_id5'></a>\n",
    "\n",
    "### Пользователи в разрезе экспериментальных групп\n",
    "\n",
    "Сколько пользователей в каждой экспериментальной группе?"
   ]
  },
  {
   "cell_type": "code",
   "execution_count": 24,
   "metadata": {
    "ExecuteTime": {
     "end_time": "2022-11-18T15:22:27.176848Z",
     "start_time": "2022-11-18T15:22:27.100052Z"
    }
   },
   "outputs": [
    {
     "data": {
      "text/html": [
       "<div>\n",
       "<style scoped>\n",
       "    .dataframe tbody tr th:only-of-type {\n",
       "        vertical-align: middle;\n",
       "    }\n",
       "\n",
       "    .dataframe tbody tr th {\n",
       "        vertical-align: top;\n",
       "    }\n",
       "\n",
       "    .dataframe thead th {\n",
       "        text-align: right;\n",
       "    }\n",
       "</style>\n",
       "<table border=\"1\" class=\"dataframe\">\n",
       "  <thead>\n",
       "    <tr style=\"text-align: right;\">\n",
       "      <th></th>\n",
       "      <th>exp_id</th>\n",
       "      <th>user_count</th>\n",
       "    </tr>\n",
       "  </thead>\n",
       "  <tbody>\n",
       "    <tr>\n",
       "      <th>0</th>\n",
       "      <td>246</td>\n",
       "      <td>2484</td>\n",
       "    </tr>\n",
       "    <tr>\n",
       "      <th>1</th>\n",
       "      <td>247</td>\n",
       "      <td>2513</td>\n",
       "    </tr>\n",
       "    <tr>\n",
       "      <th>2</th>\n",
       "      <td>248</td>\n",
       "      <td>2537</td>\n",
       "    </tr>\n",
       "    <tr>\n",
       "      <th>3</th>\n",
       "      <td>249</td>\n",
       "      <td>4997</td>\n",
       "    </tr>\n",
       "  </tbody>\n",
       "</table>\n",
       "</div>"
      ],
      "text/plain": [
       "   exp_id  user_count\n",
       "0     246        2484\n",
       "1     247        2513\n",
       "2     248        2537\n",
       "3     249        4997"
      ]
     },
     "execution_count": 24,
     "metadata": {},
     "output_type": "execute_result"
    }
   ],
   "source": [
    "user_per_exp = logs.pivot_table(index='exp_id', values='user_id', aggfunc='nunique').reset_index()\\\n",
    "    .rename(columns={'user_id': 'user_count'})\n",
    "\n",
    "#Добавлю объединённую контрольную группу (249) для дальнейшего анализа:\n",
    "user_per_exp.loc[3] = [249, user_per_exp.loc[0, 'user_count'] + user_per_exp.loc[1, 'user_count']]\n",
    "user_per_exp"
   ]
  },
  {
   "cell_type": "markdown",
   "metadata": {},
   "source": [
    "**Вывод:**\n",
    "\n",
    "В 3 экспериментальных группах примерно поровну уникальных пользователей."
   ]
  },
  {
   "cell_type": "markdown",
   "metadata": {},
   "source": [
    "### А/А-тест, группы 246 и 247\n",
    "\n",
    "Есть 2 контрольные группы для А/А-эксперимента, чтобы проверить корректность всех механизмов и расчётов. Проверьте, находят ли статистические критерии разницу между выборками 246 и 247.\n",
    "\n",
    "Критерии теста:\n",
    "* Число пользователей в группах различается не более, чем на 1%\n",
    "* Для всех групп фиксируют и отправляют в аналитические системы данные об одних сущностях\n",
    "* Различие ключевых метрик по группам не превышает 1% и не имеет статистической значимости\n",
    "* Попавший в одну из групп посетитель остаётся в этой группе до конца теста. Если пользователь видит разные версии страницы приложения в ходе одного исследования, невозможно идентифицировать, какая именно повлияла на его решения. Значит, и результаты такого теста нельзя интерпретировать однозначно."
   ]
  },
  {
   "cell_type": "code",
   "execution_count": 25,
   "metadata": {
    "ExecuteTime": {
     "end_time": "2022-11-18T15:22:27.191807Z",
     "start_time": "2022-11-18T15:22:27.180838Z"
    }
   },
   "outputs": [
    {
     "data": {
      "text/plain": [
       "1.1674718196457379"
      ]
     },
     "execution_count": 25,
     "metadata": {},
     "output_type": "execute_result"
    }
   ],
   "source": [
    "# Посмотрю как отличается число пользователей групп 246 и 247:\n",
    "((user_per_exp[user_per_exp['exp_id'] == 247]['user_count'].sum() / \n",
    "user_per_exp[user_per_exp['exp_id'] == 246]['user_count'].sum() - 1) * 100)"
   ]
  },
  {
   "cell_type": "code",
   "execution_count": 26,
   "metadata": {
    "ExecuteTime": {
     "end_time": "2022-11-18T15:22:27.365343Z",
     "start_time": "2022-11-18T15:22:27.195796Z"
    },
    "scrolled": true
   },
   "outputs": [
    {
     "data": {
      "text/html": [
       "<div>\n",
       "<style scoped>\n",
       "    .dataframe tbody tr th:only-of-type {\n",
       "        vertical-align: middle;\n",
       "    }\n",
       "\n",
       "    .dataframe tbody tr th {\n",
       "        vertical-align: top;\n",
       "    }\n",
       "\n",
       "    .dataframe thead th {\n",
       "        text-align: right;\n",
       "    }\n",
       "</style>\n",
       "<table border=\"1\" class=\"dataframe\">\n",
       "  <thead>\n",
       "    <tr style=\"text-align: right;\">\n",
       "      <th>exp_id</th>\n",
       "      <th>event_name</th>\n",
       "      <th>246</th>\n",
       "      <th>247</th>\n",
       "      <th>248</th>\n",
       "    </tr>\n",
       "  </thead>\n",
       "  <tbody>\n",
       "    <tr>\n",
       "      <th>0</th>\n",
       "      <td>mainscreenappear</td>\n",
       "      <td>2450</td>\n",
       "      <td>2476</td>\n",
       "      <td>2493</td>\n",
       "    </tr>\n",
       "    <tr>\n",
       "      <th>1</th>\n",
       "      <td>offersscreenappear</td>\n",
       "      <td>1542</td>\n",
       "      <td>1520</td>\n",
       "      <td>1531</td>\n",
       "    </tr>\n",
       "    <tr>\n",
       "      <th>2</th>\n",
       "      <td>cartscreenappear</td>\n",
       "      <td>1266</td>\n",
       "      <td>1238</td>\n",
       "      <td>1230</td>\n",
       "    </tr>\n",
       "    <tr>\n",
       "      <th>3</th>\n",
       "      <td>paymentscreensuccessful</td>\n",
       "      <td>1200</td>\n",
       "      <td>1158</td>\n",
       "      <td>1181</td>\n",
       "    </tr>\n",
       "  </tbody>\n",
       "</table>\n",
       "</div>"
      ],
      "text/plain": [
       "exp_id               event_name   246   247   248\n",
       "0              mainscreenappear  2450  2476  2493\n",
       "1            offersscreenappear  1542  1520  1531\n",
       "2              cartscreenappear  1266  1238  1230\n",
       "3       paymentscreensuccessful  1200  1158  1181"
      ]
     },
     "execution_count": 26,
     "metadata": {},
     "output_type": "execute_result"
    }
   ],
   "source": [
    "# Посмотрю на число людей по группам и по видам событий:\n",
    "logs.query('event_name != \"tutorial\"').pivot_table(index='event_name', columns='exp_id',values='user_id',\n",
    "                    aggfunc='nunique').sort_values(by=246, ascending=False).reset_index()"
   ]
  },
  {
   "cell_type": "markdown",
   "metadata": {},
   "source": [
    "Визуализирую распределение людей по группам и событиям и построю график воронки"
   ]
  },
  {
   "cell_type": "code",
   "execution_count": 27,
   "metadata": {
    "ExecuteTime": {
     "end_time": "2022-11-18T15:22:27.618731Z",
     "start_time": "2022-11-18T15:22:27.371326Z"
    }
   },
   "outputs": [
    {
     "data": {
      "image/png": "[encoded data removed]"
     },
     "metadata": {},
     "output_type": "display_data"
    }
   ],
   "source": [
    "# Переменные для построения графика:\n",
    "funnel_246 = logs.query('exp_id == 246 and event_name != \"tutorial\"')\\\n",
    "                 .groupby('event_name')['user_id'].nunique().sort_values(ascending=False).reset_index()\\\n",
    "                 .rename(columns={'user_id': 'total_users'})\n",
    "funnel_247 = logs.query('exp_id == 247 and event_name != \"tutorial\"')\\\n",
    "                 .groupby('event_name')['user_id'].nunique().sort_values(ascending=False).reset_index()\\\n",
    "                 .rename(columns={'user_id': 'total_users'})\n",
    "funnel_248 = logs.query('exp_id == 248 and event_name != \"tutorial\"')\\\n",
    "                 .groupby('event_name')['user_id'].nunique().sort_values(ascending=False).reset_index()\\\n",
    "                 .rename(columns={'user_id': 'total_users'})\n",
    "\n",
    "# Построю график воронки:\n",
    "fig = go.Figure()\n",
    "\n",
    "fig.add_trace(go.Funnel(\n",
    "    name = 'exp 246',\n",
    "    y = funnel_246['event_name'],\n",
    "    x = funnel_246['total_users'],\n",
    "    textinfo = \"value+percent initial\"\n",
    "    ))\n",
    "\n",
    "fig.add_trace(go.Funnel(\n",
    "    name = 'exp 247',\n",
    "    y = funnel_247['event_name'],\n",
    "    x = funnel_247['total_users'],\n",
    "    textinfo = \"value+percent initial\"\n",
    "    ))\n",
    "\n",
    "fig.add_trace(go.Funnel(\n",
    "    name = 'exp 248',\n",
    "    y = funnel_248['event_name'],\n",
    "    x = funnel_248['total_users'],\n",
    "    textinfo = \"value+percent initial\"\n",
    "    ))\n",
    "\n",
    "fig.update_layout(title='Events Conversion', title_x = 0.5)\n",
    "fig.show('png')"
   ]
  },
  {
   "cell_type": "markdown",
   "metadata": {},
   "source": [
    "Визуально график выглядит почти идеально симметричным.\n",
    "\n",
    "Для проверки того, что пользователи не кочуют из одной группы в другую, сгруппирую логи по пользователям и посчитаю число уникальных групп по каждому, далее оставлю срез данных с числом групп, превышающих единицу. Если такие данные будут, значит есть пересечение пользователей между группами и их нужно исключать."
   ]
  },
  {
   "cell_type": "code",
   "execution_count": 28,
   "metadata": {
    "ExecuteTime": {
     "end_time": "2022-11-18T15:22:27.697486Z",
     "start_time": "2022-11-18T15:22:27.631634Z"
    }
   },
   "outputs": [
    {
     "data": {
      "text/html": [
       "<div>\n",
       "<style scoped>\n",
       "    .dataframe tbody tr th:only-of-type {\n",
       "        vertical-align: middle;\n",
       "    }\n",
       "\n",
       "    .dataframe tbody tr th {\n",
       "        vertical-align: top;\n",
       "    }\n",
       "\n",
       "    .dataframe thead th {\n",
       "        text-align: right;\n",
       "    }\n",
       "</style>\n",
       "<table border=\"1\" class=\"dataframe\">\n",
       "  <thead>\n",
       "    <tr style=\"text-align: right;\">\n",
       "      <th></th>\n",
       "      <th>user_id</th>\n",
       "      <th>exp_id</th>\n",
       "    </tr>\n",
       "  </thead>\n",
       "  <tbody>\n",
       "  </tbody>\n",
       "</table>\n",
       "</div>"
      ],
      "text/plain": [
       "Empty DataFrame\n",
       "Columns: [user_id, exp_id]\n",
       "Index: []"
      ]
     },
     "execution_count": 28,
     "metadata": {},
     "output_type": "execute_result"
    }
   ],
   "source": [
    "logs.groupby('user_id')['exp_id'].nunique().reset_index().query('exp_id > 1')"
   ]
  },
  {
   "cell_type": "markdown",
   "metadata": {},
   "source": [
    "**Вывод:**\n",
    "\n",
    "Критерии проведения А/А теста не идеально, но всё же соблюдены. Пересечений пользователей между экспериментальными группами нет."
   ]
  },
  {
   "cell_type": "markdown",
   "metadata": {},
   "source": [
    "### Самое популярное событие\n",
    "\n",
    "1. Выберите самое популярное событие. Посчитайте число пользователей, совершивших это событие в каждой из контрольных групп. Посчитайте долю пользователей, совершивших это событие. \n",
    "2. Проверьте, будет ли отличие между группами статистически достоверным. Проделайте то же самое для всех других событий (удобно обернуть проверку в отдельную функцию).\n",
    "3. Можно ли сказать, что разбиение на группы работает корректно?"
   ]
  },
  {
   "cell_type": "markdown",
   "metadata": {},
   "source": [
    "#### Выберите самое популярное событие"
   ]
  },
  {
   "cell_type": "code",
   "execution_count": 29,
   "metadata": {
    "ExecuteTime": {
     "end_time": "2022-11-18T15:22:27.917865Z",
     "start_time": "2022-11-18T15:22:27.700446Z"
    }
   },
   "outputs": [
    {
     "data": {
      "text/html": [
       "<div>\n",
       "<style scoped>\n",
       "    .dataframe tbody tr th:only-of-type {\n",
       "        vertical-align: middle;\n",
       "    }\n",
       "\n",
       "    .dataframe tbody tr th {\n",
       "        vertical-align: top;\n",
       "    }\n",
       "\n",
       "    .dataframe thead th {\n",
       "        text-align: right;\n",
       "    }\n",
       "</style>\n",
       "<table border=\"1\" class=\"dataframe\">\n",
       "  <thead>\n",
       "    <tr style=\"text-align: right;\">\n",
       "      <th>exp_id</th>\n",
       "      <th>event_name</th>\n",
       "      <th>246</th>\n",
       "      <th>247</th>\n",
       "      <th>248</th>\n",
       "      <th>share_246</th>\n",
       "      <th>share_247</th>\n",
       "      <th>share_248</th>\n",
       "      <th>total_unique_users</th>\n",
       "      <th>share_total_unique_users</th>\n",
       "      <th>249</th>\n",
       "    </tr>\n",
       "  </thead>\n",
       "  <tbody>\n",
       "    <tr>\n",
       "      <th>0</th>\n",
       "      <td>mainscreenappear</td>\n",
       "      <td>2450</td>\n",
       "      <td>2476</td>\n",
       "      <td>2493</td>\n",
       "      <td>98.67</td>\n",
       "      <td>98.57</td>\n",
       "      <td>98.34</td>\n",
       "      <td>7419</td>\n",
       "      <td>98.47</td>\n",
       "      <td>4926</td>\n",
       "    </tr>\n",
       "    <tr>\n",
       "      <th>1</th>\n",
       "      <td>offersscreenappear</td>\n",
       "      <td>1542</td>\n",
       "      <td>1520</td>\n",
       "      <td>1531</td>\n",
       "      <td>62.10</td>\n",
       "      <td>60.51</td>\n",
       "      <td>60.39</td>\n",
       "      <td>4593</td>\n",
       "      <td>60.96</td>\n",
       "      <td>3062</td>\n",
       "    </tr>\n",
       "    <tr>\n",
       "      <th>2</th>\n",
       "      <td>cartscreenappear</td>\n",
       "      <td>1266</td>\n",
       "      <td>1238</td>\n",
       "      <td>1230</td>\n",
       "      <td>50.99</td>\n",
       "      <td>49.28</td>\n",
       "      <td>48.52</td>\n",
       "      <td>3734</td>\n",
       "      <td>49.56</td>\n",
       "      <td>2504</td>\n",
       "    </tr>\n",
       "    <tr>\n",
       "      <th>3</th>\n",
       "      <td>paymentscreensuccessful</td>\n",
       "      <td>1200</td>\n",
       "      <td>1158</td>\n",
       "      <td>1181</td>\n",
       "      <td>48.33</td>\n",
       "      <td>46.10</td>\n",
       "      <td>46.59</td>\n",
       "      <td>3539</td>\n",
       "      <td>46.97</td>\n",
       "      <td>2358</td>\n",
       "    </tr>\n",
       "  </tbody>\n",
       "</table>\n",
       "</div>"
      ],
      "text/plain": [
       "exp_id               event_name   246   247   248  share_246  share_247  \\\n",
       "0              mainscreenappear  2450  2476  2493      98.67      98.57   \n",
       "1            offersscreenappear  1542  1520  1531      62.10      60.51   \n",
       "2              cartscreenappear  1266  1238  1230      50.99      49.28   \n",
       "3       paymentscreensuccessful  1200  1158  1181      48.33      46.10   \n",
       "\n",
       "exp_id  share_248  total_unique_users  share_total_unique_users   249  \n",
       "0           98.34                7419                     98.47  4926  \n",
       "1           60.39                4593                     60.96  3062  \n",
       "2           48.52                3734                     49.56  2504  \n",
       "3           46.59                3539                     46.97  2358  "
      ]
     },
     "execution_count": 29,
     "metadata": {},
     "output_type": "execute_result"
    }
   ],
   "source": [
    "popular_event = logs.query('event_name != \"tutorial\"').pivot_table(index='event_name', columns='exp_id',values='user_id',\n",
    "                    aggfunc='nunique').sort_values(by=246, ascending=False).reset_index()\n",
    "\n",
    "popular_event['share_246'] = (popular_event[246] / \n",
    "    logs.query('event_name != \"tutorial\" and exp_id == 246')['user_id'].nunique() * 100)\n",
    "popular_event['share_247'] = (popular_event[247] / \n",
    "    logs.query('event_name != \"tutorial\" and exp_id == 247')['user_id'].nunique() * 100)\n",
    "popular_event['share_248'] = (popular_event[248] / \n",
    "    logs.query('event_name != \"tutorial\" and exp_id == 248')['user_id'].nunique() * 100)\n",
    "\n",
    "popular_event['total_unique_users'] = popular_event[[246, 247, 248]].sum(axis=1)\n",
    "popular_event['share_total_unique_users'] = popular_event['total_unique_users'] / logs['user_id'].nunique() * 100\n",
    "\n",
    "# Добавление объединённой контрольной группы для дальнейшего анализа:\n",
    "popular_event[249] = popular_event[246] + popular_event[247] \n",
    "\n",
    "popular_event"
   ]
  },
  {
   "cell_type": "markdown",
   "metadata": {},
   "source": [
    "Самое популярное событие - главный экран."
   ]
  },
  {
   "cell_type": "markdown",
   "metadata": {},
   "source": [
    "#### Статистическое отличие между группами\n",
    "\n",
    "Проверьте, будет ли отличие между группами статистически достоверным. Проделайте то же самое для всех других событий (удобно обернуть проверку в отдельную функцию)."
   ]
  },
  {
   "cell_type": "code",
   "execution_count": 30,
   "metadata": {
    "ExecuteTime": {
     "end_time": "2022-11-18T15:22:27.949812Z",
     "start_time": "2022-11-18T15:22:27.921855Z"
    }
   },
   "outputs": [
    {
     "data": {
      "text/html": [
       "<div>\n",
       "<style scoped>\n",
       "    .dataframe tbody tr th:only-of-type {\n",
       "        vertical-align: middle;\n",
       "    }\n",
       "\n",
       "    .dataframe tbody tr th {\n",
       "        vertical-align: top;\n",
       "    }\n",
       "\n",
       "    .dataframe thead th {\n",
       "        text-align: right;\n",
       "    }\n",
       "</style>\n",
       "<table border=\"1\" class=\"dataframe\">\n",
       "  <thead>\n",
       "    <tr style=\"text-align: right;\">\n",
       "      <th>exp_id</th>\n",
       "      <th>246</th>\n",
       "      <th>247</th>\n",
       "      <th>248</th>\n",
       "      <th>share_246</th>\n",
       "      <th>share_247</th>\n",
       "      <th>share_248</th>\n",
       "      <th>total_unique_users</th>\n",
       "      <th>share_total_unique_users</th>\n",
       "      <th>249</th>\n",
       "    </tr>\n",
       "    <tr>\n",
       "      <th>event_name</th>\n",
       "      <th></th>\n",
       "      <th></th>\n",
       "      <th></th>\n",
       "      <th></th>\n",
       "      <th></th>\n",
       "      <th></th>\n",
       "      <th></th>\n",
       "      <th></th>\n",
       "      <th></th>\n",
       "    </tr>\n",
       "  </thead>\n",
       "  <tbody>\n",
       "    <tr>\n",
       "      <th>mainscreenappear</th>\n",
       "      <td>2450</td>\n",
       "      <td>2476</td>\n",
       "      <td>2493</td>\n",
       "      <td>98.67</td>\n",
       "      <td>98.57</td>\n",
       "      <td>98.34</td>\n",
       "      <td>7419</td>\n",
       "      <td>98.47</td>\n",
       "      <td>4926</td>\n",
       "    </tr>\n",
       "    <tr>\n",
       "      <th>offersscreenappear</th>\n",
       "      <td>1542</td>\n",
       "      <td>1520</td>\n",
       "      <td>1531</td>\n",
       "      <td>62.10</td>\n",
       "      <td>60.51</td>\n",
       "      <td>60.39</td>\n",
       "      <td>4593</td>\n",
       "      <td>60.96</td>\n",
       "      <td>3062</td>\n",
       "    </tr>\n",
       "    <tr>\n",
       "      <th>cartscreenappear</th>\n",
       "      <td>1266</td>\n",
       "      <td>1238</td>\n",
       "      <td>1230</td>\n",
       "      <td>50.99</td>\n",
       "      <td>49.28</td>\n",
       "      <td>48.52</td>\n",
       "      <td>3734</td>\n",
       "      <td>49.56</td>\n",
       "      <td>2504</td>\n",
       "    </tr>\n",
       "    <tr>\n",
       "      <th>paymentscreensuccessful</th>\n",
       "      <td>1200</td>\n",
       "      <td>1158</td>\n",
       "      <td>1181</td>\n",
       "      <td>48.33</td>\n",
       "      <td>46.10</td>\n",
       "      <td>46.59</td>\n",
       "      <td>3539</td>\n",
       "      <td>46.97</td>\n",
       "      <td>2358</td>\n",
       "    </tr>\n",
       "  </tbody>\n",
       "</table>\n",
       "</div>"
      ],
      "text/plain": [
       "exp_id                    246   247   248  share_246  share_247  share_248  \\\n",
       "event_name                                                                   \n",
       "mainscreenappear         2450  2476  2493      98.67      98.57      98.34   \n",
       "offersscreenappear       1542  1520  1531      62.10      60.51      60.39   \n",
       "cartscreenappear         1266  1238  1230      50.99      49.28      48.52   \n",
       "paymentscreensuccessful  1200  1158  1181      48.33      46.10      46.59   \n",
       "\n",
       "exp_id                   total_unique_users  share_total_unique_users   249  \n",
       "event_name                                                                   \n",
       "mainscreenappear                       7419                     98.47  4926  \n",
       "offersscreenappear                     4593                     60.96  3062  \n",
       "cartscreenappear                       3734                     49.56  2504  \n",
       "paymentscreensuccessful                3539                     46.97  2358  "
      ]
     },
     "metadata": {},
     "output_type": "display_data"
    },
    {
     "data": {
      "text/html": [
       "<div>\n",
       "<style scoped>\n",
       "    .dataframe tbody tr th:only-of-type {\n",
       "        vertical-align: middle;\n",
       "    }\n",
       "\n",
       "    .dataframe tbody tr th {\n",
       "        vertical-align: top;\n",
       "    }\n",
       "\n",
       "    .dataframe thead th {\n",
       "        text-align: right;\n",
       "    }\n",
       "</style>\n",
       "<table border=\"1\" class=\"dataframe\">\n",
       "  <thead>\n",
       "    <tr style=\"text-align: right;\">\n",
       "      <th></th>\n",
       "      <th>user_count</th>\n",
       "    </tr>\n",
       "    <tr>\n",
       "      <th>exp_id</th>\n",
       "      <th></th>\n",
       "    </tr>\n",
       "  </thead>\n",
       "  <tbody>\n",
       "    <tr>\n",
       "      <th>246</th>\n",
       "      <td>2484</td>\n",
       "    </tr>\n",
       "    <tr>\n",
       "      <th>247</th>\n",
       "      <td>2513</td>\n",
       "    </tr>\n",
       "    <tr>\n",
       "      <th>248</th>\n",
       "      <td>2537</td>\n",
       "    </tr>\n",
       "    <tr>\n",
       "      <th>249</th>\n",
       "      <td>4997</td>\n",
       "    </tr>\n",
       "  </tbody>\n",
       "</table>\n",
       "</div>"
      ],
      "text/plain": [
       "        user_count\n",
       "exp_id            \n",
       "246           2484\n",
       "247           2513\n",
       "248           2537\n",
       "249           4997"
      ]
     },
     "metadata": {},
     "output_type": "display_data"
    }
   ],
   "source": [
    "# Переведу колонки в индекс для работы функции:\n",
    "user_per_exp.set_index('exp_id', inplace=True)\n",
    "popular_event.set_index('event_name', inplace=True)\n",
    "\n",
    "# Выведу датафреймы \n",
    "display(popular_event)\n",
    "display(user_per_exp)"
   ]
  },
  {
   "cell_type": "code",
   "execution_count": 31,
   "metadata": {
    "ExecuteTime": {
     "end_time": "2022-11-18T15:22:27.981695Z",
     "start_time": "2022-11-18T15:22:27.952772Z"
    }
   },
   "outputs": [],
   "source": [
    "# Использую Z-критерий и напишу функцию для всех событий\n",
    "def z_test(exp1, exp2, event, alpha):\n",
    "    \n",
    "    # Переменные для упрощения дальнейшего кода:\n",
    "    events_1 = popular_event.loc[event, exp1]\n",
    "    events_2 = popular_event.loc[event, exp2]\n",
    "    users_1 = user_per_exp.loc[exp1, 'user_count']\n",
    "    users_2 = user_per_exp.loc[exp2, 'user_count']\n",
    "    \n",
    "    # пропорции успехов по 2 группам:\n",
    "    p1 = events_1 / users_1\n",
    "    p2 = events_2 / users_2\n",
    "     \n",
    "    # пропорция успехов в комбинированном датасете:\n",
    "    p_combined = (events_1 + events_2) / (users_1 + users_2)\n",
    "    # разница пропорций в датасетах:\n",
    "    difference = p1 - p2\n",
    "    # считаюю статистику в ст.отклонениях стандартного нормального распределения\n",
    "    z_value = difference / mth.sqrt(p_combined * (1 - p_combined) * (1 / users_1 + 1 / users_2))\n",
    "    # задаю стандартное нормальное распределение (среднее 0, ст.отклонение 1)\n",
    "    distr = st.norm(0, 1)\n",
    "    p_value = (1 - distr.cdf(abs(z_value))) * 2\n",
    "    print('Проверка для групп {} и {}, событие: {}, p-значение: {p_value:}'.format(exp1, exp2, event, p_value=p_value))\n",
    "    if (p_value < alpha):\n",
    "        print(\"Отвергаем нулевую гипотезу: между группами есть статистическая разница\")\n",
    "    else:\n",
    "        print(\"Не получилось отвергнуть нулевую гипотезу: между группами нет статистической разницы\")"
   ]
  },
  {
   "cell_type": "markdown",
   "metadata": {},
   "source": [
    "Сформулирую гипотезы:\n",
    "* H0 - доли уникальных посетителей, побывавших на этапе воронки, **одинаковы**.\n",
    "* H1 - между долями уникальных посетителей, побывавших на этапе воронки, есть значимая **разница**."
   ]
  },
  {
   "cell_type": "code",
   "execution_count": 32,
   "metadata": {
    "ExecuteTime": {
     "end_time": "2022-11-18T15:22:28.013638Z",
     "start_time": "2022-11-18T15:22:27.986699Z"
    }
   },
   "outputs": [
    {
     "name": "stdout",
     "output_type": "stream",
     "text": [
      "Проверка для групп 246 и 247, событие: mainscreenappear, p-значение: 0.7570597232046099\n",
      "Не получилось отвергнуть нулевую гипотезу: между группами нет статистической разницы\n",
      "\n",
      "Проверка для групп 246 и 247, событие: offersscreenappear, p-значение: 0.2480954578522181\n",
      "Не получилось отвергнуть нулевую гипотезу: между группами нет статистической разницы\n",
      "\n",
      "Проверка для групп 246 и 247, событие: cartscreenappear, p-значение: 0.22883372237997213\n",
      "Не получилось отвергнуть нулевую гипотезу: между группами нет статистической разницы\n",
      "\n",
      "Проверка для групп 246 и 247, событие: paymentscreensuccessful, p-значение: 0.11456679313141849\n",
      "Не получилось отвергнуть нулевую гипотезу: между группами нет статистической разницы\n",
      "\n"
     ]
    }
   ],
   "source": [
    "for event in popular_event.index:\n",
    "    z_test(246, 247, event, 0.05)\n",
    "    print()"
   ]
  },
  {
   "cell_type": "markdown",
   "metadata": {},
   "source": [
    "**Вывод:**\n",
    "\n",
    "Вывод о различии долей (конверсии) по группам 246 и 247 сделать нельзя."
   ]
  },
  {
   "cell_type": "markdown",
   "metadata": {},
   "source": [
    "### Группа с изменённым шрифтом\n",
    "1. Аналогично поступите с группой с изменённым шрифтом. Сравните результаты с каждой из контрольных групп в отдельности по каждому событию. \n",
    "2. Сравните результаты с объединённой контрольной группой. Какие выводы из эксперимента можно сделать?\n",
    "\n",
    "#### Сравнение экспериментальной и контрольных групп\n",
    "\n",
    "Сформулирую гипотезы:\n",
    "* Н0: Конверсия в разрезе событий в группе 246 **равна** конверсии в группе 248\n",
    "* Н1: Конверсия в разрезе событий в группе 246 **не равна** конверсии в группе 248"
   ]
  },
  {
   "cell_type": "code",
   "execution_count": 33,
   "metadata": {
    "ExecuteTime": {
     "end_time": "2022-11-18T15:22:28.045526Z",
     "start_time": "2022-11-18T15:22:28.017597Z"
    },
    "scrolled": true
   },
   "outputs": [
    {
     "name": "stdout",
     "output_type": "stream",
     "text": [
      "Проверка для групп 246 и 248, событие: mainscreenappear, p-значение: 0.2949721933554552\n",
      "Не получилось отвергнуть нулевую гипотезу: между группами нет статистической разницы\n",
      "\n",
      "Проверка для групп 246 и 248, событие: offersscreenappear, p-значение: 0.20836205402738917\n",
      "Не получилось отвергнуть нулевую гипотезу: между группами нет статистической разницы\n",
      "\n",
      "Проверка для групп 246 и 248, событие: cartscreenappear, p-значение: 0.07842923237520116\n",
      "Не получилось отвергнуть нулевую гипотезу: между группами нет статистической разницы\n",
      "\n",
      "Проверка для групп 246 и 248, событие: paymentscreensuccessful, p-значение: 0.2122553275697796\n",
      "Не получилось отвергнуть нулевую гипотезу: между группами нет статистической разницы\n",
      "\n"
     ]
    }
   ],
   "source": [
    "for event in popular_event.index:\n",
    "    z_test(246, 248, event, 0.05)\n",
    "    print()"
   ]
  },
  {
   "cell_type": "markdown",
   "metadata": {},
   "source": [
    "---\n",
    "Сформулирую гипотезы:\n",
    "* Н0: Конверсия в разрезе событий в группе 247 **равна** конверсии в группе 248\n",
    "* Н0: Конверсия в разрезе событий в группе 247 **не равна** конверсии в группе 248"
   ]
  },
  {
   "cell_type": "code",
   "execution_count": 34,
   "metadata": {
    "ExecuteTime": {
     "end_time": "2022-11-18T15:22:28.077440Z",
     "start_time": "2022-11-18T15:22:28.049513Z"
    },
    "scrolled": true
   },
   "outputs": [
    {
     "name": "stdout",
     "output_type": "stream",
     "text": [
      "Проверка для групп 247 и 248, событие: mainscreenappear, p-значение: 0.4587053616621515\n",
      "Не получилось отвергнуть нулевую гипотезу: между группами нет статистической разницы\n",
      "\n",
      "Проверка для групп 247 и 248, событие: offersscreenappear, p-значение: 0.9197817830592261\n",
      "Не получилось отвергнуть нулевую гипотезу: между группами нет статистической разницы\n",
      "\n",
      "Проверка для групп 247 и 248, событие: cartscreenappear, p-значение: 0.5786197879539783\n",
      "Не получилось отвергнуть нулевую гипотезу: между группами нет статистической разницы\n",
      "\n",
      "Проверка для групп 247 и 248, событие: paymentscreensuccessful, p-значение: 0.7373415053803964\n",
      "Не получилось отвергнуть нулевую гипотезу: между группами нет статистической разницы\n",
      "\n"
     ]
    }
   ],
   "source": [
    "for event in popular_event.index:\n",
    "    z_test(247, 248, event, 0.05)\n",
    "    print()"
   ]
  },
  {
   "cell_type": "markdown",
   "metadata": {},
   "source": [
    "**Вывод:**\n",
    "\n",
    "Вывод о различии долей (конверсии) по парам групп 246 и 248, 247 и 248 сделать нельзя."
   ]
  },
  {
   "cell_type": "markdown",
   "metadata": {},
   "source": [
    "#### Сравнение экспериментальной и объединённой контрольной группой\n",
    "\n",
    "Сформулирую гипотезы:\n",
    "* Н0: Конверсия в разрезе событий в объединённой группе 249 **равна** конверсии в группе 248\n",
    "* Н0: Конверсия в разрезе событий в объединённой группе 249 **не равна** конверсии в группе 248"
   ]
  },
  {
   "cell_type": "code",
   "execution_count": 35,
   "metadata": {
    "ExecuteTime": {
     "end_time": "2022-11-18T15:22:28.108356Z",
     "start_time": "2022-11-18T15:22:28.085417Z"
    },
    "scrolled": true
   },
   "outputs": [
    {
     "name": "stdout",
     "output_type": "stream",
     "text": [
      "Проверка для групп 249 и 248, событие: mainscreenappear, p-значение: 0.29424526837179577\n",
      "Не получилось отвергнуть нулевую гипотезу: между группами нет статистической разницы\n",
      "\n",
      "Проверка для групп 249 и 248, событие: offersscreenappear, p-значение: 0.43425549655188256\n",
      "Не получилось отвергнуть нулевую гипотезу: между группами нет статистической разницы\n",
      "\n",
      "Проверка для групп 249 и 248, событие: cartscreenappear, p-значение: 0.18175875284404386\n",
      "Не получилось отвергнуть нулевую гипотезу: между группами нет статистической разницы\n",
      "\n",
      "Проверка для групп 249 и 248, событие: paymentscreensuccessful, p-значение: 0.6004294282308704\n",
      "Не получилось отвергнуть нулевую гипотезу: между группами нет статистической разницы\n",
      "\n"
     ]
    }
   ],
   "source": [
    "for event in popular_event.index:\n",
    "    z_test(249, 248, event, 0.05)\n",
    "    print()"
   ]
  },
  {
   "cell_type": "markdown",
   "metadata": {},
   "source": [
    "**Вывод:**\n",
    "\n",
    "Вывод о различии долей (конверсии) по объединённой группе 249 и 248 сделать нельзя."
   ]
  },
  {
   "cell_type": "markdown",
   "metadata": {},
   "source": [
    "### Уровень значимости при проверке статистических гипотез\n",
    "\n",
    "* Какой уровень значимости вы выбрали при проверке статистических гипотез выше? \n",
    "    * При проверке статистических гипотез выше выбрал уровень значимости равный 0.05.\n",
    "* Посчитайте, сколько проверок статистических гипотез вы сделали. При уровне значимости 0.1 каждый десятый раз можно получать ложный результат. \n",
    "    * Было проведено 4 А/А теста и 12 А/В теста.\n",
    "* Какой уровень значимости стоит применить? Если вы хотите изменить его, проделайте предыдущие пункты и проверьте свои выводы.\n",
    "    * Применю поправку Бонферрони и поделю уровень значимости на количество тестов (16)\n",
    "---\n",
    "Сформулирую гипотезы:\n",
    "* Н0: Конверсия в разрезе событий в группе 246 **равна** конверсии в группе 247\n",
    "* Н0: Конверсия в разрезе событий в группе 246 **не равна** конверсии в группе 247"
   ]
  },
  {
   "cell_type": "code",
   "execution_count": 36,
   "metadata": {
    "ExecuteTime": {
     "end_time": "2022-11-18T15:22:28.140275Z",
     "start_time": "2022-11-18T15:22:28.116333Z"
    },
    "scrolled": false
   },
   "outputs": [
    {
     "name": "stdout",
     "output_type": "stream",
     "text": [
      "Проверка для групп 246 и 247, событие: mainscreenappear, p-значение: 0.7570597232046099\n",
      "Не получилось отвергнуть нулевую гипотезу: между группами нет статистической разницы\n",
      "\n",
      "Проверка для групп 246 и 247, событие: offersscreenappear, p-значение: 0.2480954578522181\n",
      "Не получилось отвергнуть нулевую гипотезу: между группами нет статистической разницы\n",
      "\n",
      "Проверка для групп 246 и 247, событие: cartscreenappear, p-значение: 0.22883372237997213\n",
      "Не получилось отвергнуть нулевую гипотезу: между группами нет статистической разницы\n",
      "\n",
      "Проверка для групп 246 и 247, событие: paymentscreensuccessful, p-значение: 0.11456679313141849\n",
      "Не получилось отвергнуть нулевую гипотезу: между группами нет статистической разницы\n",
      "\n"
     ]
    }
   ],
   "source": [
    "for event in popular_event.index:\n",
    "    z_test(246, 247, event, 0.05/16)\n",
    "    print()"
   ]
  },
  {
   "cell_type": "markdown",
   "metadata": {},
   "source": [
    "---\n",
    "Сформулирую гипотезы:\n",
    "* Н0: Конверсия в разрезе событий в группе 246 **равна** конверсии в группе 248\n",
    "* Н0: Конверсия в разрезе событий в группе 246 **не равна** конверсии в группе 248"
   ]
  },
  {
   "cell_type": "code",
   "execution_count": 37,
   "metadata": {
    "ExecuteTime": {
     "end_time": "2022-11-18T15:22:28.172191Z",
     "start_time": "2022-11-18T15:22:28.143262Z"
    },
    "scrolled": true
   },
   "outputs": [
    {
     "name": "stdout",
     "output_type": "stream",
     "text": [
      "Проверка для групп 246 и 248, событие: mainscreenappear, p-значение: 0.2949721933554552\n",
      "Не получилось отвергнуть нулевую гипотезу: между группами нет статистической разницы\n",
      "\n",
      "Проверка для групп 246 и 248, событие: offersscreenappear, p-значение: 0.20836205402738917\n",
      "Не получилось отвергнуть нулевую гипотезу: между группами нет статистической разницы\n",
      "\n",
      "Проверка для групп 246 и 248, событие: cartscreenappear, p-значение: 0.07842923237520116\n",
      "Не получилось отвергнуть нулевую гипотезу: между группами нет статистической разницы\n",
      "\n",
      "Проверка для групп 246 и 248, событие: paymentscreensuccessful, p-значение: 0.2122553275697796\n",
      "Не получилось отвергнуть нулевую гипотезу: между группами нет статистической разницы\n",
      "\n"
     ]
    }
   ],
   "source": [
    "for event in popular_event.index:\n",
    "    z_test(246, 248, event, 0.05/16)\n",
    "    print()"
   ]
  },
  {
   "cell_type": "markdown",
   "metadata": {},
   "source": [
    "---\n",
    "Сформулирую гипотезы:\n",
    "* Н0: Конверсия в разрезе событий в группе 247 **равна** конверсии в группе 248\n",
    "* Н0: Конверсия в разрезе событий в группе 247 **не равна** конверсии в группе 248"
   ]
  },
  {
   "cell_type": "code",
   "execution_count": 38,
   "metadata": {
    "ExecuteTime": {
     "end_time": "2022-11-18T15:22:28.204100Z",
     "start_time": "2022-11-18T15:22:28.175177Z"
    },
    "scrolled": false
   },
   "outputs": [
    {
     "name": "stdout",
     "output_type": "stream",
     "text": [
      "Проверка для групп 247 и 248, событие: mainscreenappear, p-значение: 0.4587053616621515\n",
      "Не получилось отвергнуть нулевую гипотезу: между группами нет статистической разницы\n",
      "\n",
      "Проверка для групп 247 и 248, событие: offersscreenappear, p-значение: 0.9197817830592261\n",
      "Не получилось отвергнуть нулевую гипотезу: между группами нет статистической разницы\n",
      "\n",
      "Проверка для групп 247 и 248, событие: cartscreenappear, p-значение: 0.5786197879539783\n",
      "Не получилось отвергнуть нулевую гипотезу: между группами нет статистической разницы\n",
      "\n",
      "Проверка для групп 247 и 248, событие: paymentscreensuccessful, p-значение: 0.7373415053803964\n",
      "Не получилось отвергнуть нулевую гипотезу: между группами нет статистической разницы\n",
      "\n"
     ]
    }
   ],
   "source": [
    "for event in popular_event.index:\n",
    "    z_test(247, 248, event, 0.05/16)\n",
    "    print()"
   ]
  },
  {
   "cell_type": "markdown",
   "metadata": {},
   "source": [
    "---\n",
    "Сформулирую гипотезы:\n",
    "* Н0: Конверсия в разрезе событий в объединённой группе 249 **равна** конверсии в группе 248\n",
    "* Н0: Конверсия в разрезе событий в объединённой группе 249 **не равна** конверсии в группе 248"
   ]
  },
  {
   "cell_type": "code",
   "execution_count": 39,
   "metadata": {
    "ExecuteTime": {
     "end_time": "2022-11-18T15:22:28.236013Z",
     "start_time": "2022-11-18T15:22:28.208089Z"
    },
    "scrolled": true
   },
   "outputs": [
    {
     "name": "stdout",
     "output_type": "stream",
     "text": [
      "Проверка для групп 249 и 248, событие: mainscreenappear, p-значение: 0.29424526837179577\n",
      "Не получилось отвергнуть нулевую гипотезу: между группами нет статистической разницы\n",
      "\n",
      "Проверка для групп 249 и 248, событие: offersscreenappear, p-значение: 0.43425549655188256\n",
      "Не получилось отвергнуть нулевую гипотезу: между группами нет статистической разницы\n",
      "\n",
      "Проверка для групп 249 и 248, событие: cartscreenappear, p-значение: 0.18175875284404386\n",
      "Не получилось отвергнуть нулевую гипотезу: между группами нет статистической разницы\n",
      "\n",
      "Проверка для групп 249 и 248, событие: paymentscreensuccessful, p-значение: 0.6004294282308704\n",
      "Не получилось отвергнуть нулевую гипотезу: между группами нет статистической разницы\n",
      "\n"
     ]
    }
   ],
   "source": [
    "for event in popular_event.index:\n",
    "    z_test(249, 248, event, 0.05/16)\n",
    "    print()"
   ]
  },
  {
   "cell_type": "markdown",
   "metadata": {},
   "source": [
    "**Вывод:**\n",
    "\n",
    "При применении поправки Бонферрони результаты теста не меняются, так как и до поправки р-значение всегда было больше уровня статистической значимости."
   ]
  },
  {
   "cell_type": "markdown",
   "metadata": {},
   "source": [
    "[Оглавление](#section_id)\n",
    "\n",
    "## Результаты исследования\n",
    "<a id='section_id6'></a>\n",
    "\n",
    "Для проведения A/A/B тестирования групп пользователей мобильного приложения использовал логи за период 25.07.2019-08.08.2019.\n",
    "\n",
    "**Предобработка**\n",
    "\n",
    "В ходе предобработки переименованы названия колонок, названия собыитй преведены к нижнему регистру, добавлены колонки с датой и датой и временем, удалены явные дубликаты.\n",
    "\n",
    "**Изучение и проверка**\n",
    "\n",
    "В ходе изучения и проверки данных обнаружил, что изначально датасет охватывал период с 25.07.2019 по 08.08.2019, но фактически данных за период 25.07-31.07 почти не было, это связано с техническими особенностяли логов.\n",
    "По факту, в логах содержатся данные за период с 01.08 по 08.08. После исключения периода 25.07-31.07 потерял 1.16% данных и 0.23% пользователей. \n",
    "\n",
    "После исключения данных остались пользователи в разрезе всех групп и событий. \n",
    "\n",
    "**Изучение воронки событий**\n",
    "\n",
    "В логах содержатся данные 5 событий, 4 из которых выстраиваются в последовательную цепочку: \n",
    "1. появление главного экрана, \n",
    "2. предложение, \n",
    "3. корзина, \n",
    "4. покупка. \n",
    "\n",
    "Пятое событие - \"обучение\" вероятно появлятется после главного экрана, но его можно пропустить.\n",
    "\n",
    "БОльшая часть пользователей теряется после появления главного экрана ~38%. Доля оплативших пользователей от первого события составляет 48%.\n",
    "\n",
    "**Результаты эксперимента**\n",
    "\n",
    "В 3 экспериментальных группах примерно поровну уникальных пользователей. Пересечений пользователей между группами нет. Самое популярное событие - главный экран.\n",
    "\n",
    "Необходимо было проверить, будет ли отличие между группами статистически достоверным в разрезе всех событий.\n",
    "Для проверки статистически значимого отличия использовал z-критерий, а для автоматизации проведения теста написал функцию.\n",
    "\n",
    "В результате было проведено 16 тестов (4 А/А и 12 А/В, уровень значимости выбран 0.05) , в рамках тестирования ни разу не удалось отвергнуть нулевую гипотезу и подтвердить статистическую разницу между группами и событиями.\n",
    "\n",
    "Также была применена поправа Бонферрони - поделил уровень значимости на число сравнений (16). С применением поправки результаты также не поменялись.\n",
    "\n",
    "Если конверсии (доли) во всех группах примерно равны и статистически значимых разниц нет, то **можно завершить тест и признать, что изменения не принесли результата.**"
   ]
  }
 ],
 "metadata": {
  "ExecuteTimeLog": [
   {
    "duration": 796,
    "start_time": "2022-08-10T19:32:58.336Z"
   },
   {
    "duration": 607,
    "start_time": "2022-08-10T19:38:46.128Z"
   },
   {
    "duration": 284,
    "start_time": "2022-08-10T19:38:47.625Z"
   },
   {
    "duration": 13,
    "start_time": "2022-08-10T19:38:50.732Z"
   },
   {
    "duration": 152,
    "start_time": "2022-08-10T19:39:17.888Z"
   },
   {
    "duration": 10,
    "start_time": "2022-08-10T19:39:18.325Z"
   },
   {
    "duration": 3,
    "start_time": "2022-08-10T19:40:02.867Z"
   },
   {
    "duration": 85,
    "start_time": "2022-08-10T19:41:12.744Z"
   },
   {
    "duration": 442,
    "start_time": "2022-08-10T19:41:23.730Z"
   },
   {
    "duration": 21,
    "start_time": "2022-08-10T19:41:24.433Z"
   },
   {
    "duration": 83,
    "start_time": "2022-08-10T19:42:15.725Z"
   },
   {
    "duration": 4,
    "start_time": "2022-08-10T19:42:16.146Z"
   },
   {
    "duration": 177,
    "start_time": "2022-08-10T19:42:17.850Z"
   },
   {
    "duration": 10,
    "start_time": "2022-08-10T19:42:18.446Z"
   },
   {
    "duration": 175,
    "start_time": "2022-08-10T19:42:46.044Z"
   },
   {
    "duration": 7,
    "start_time": "2022-08-10T19:43:25.852Z"
   },
   {
    "duration": 9,
    "start_time": "2022-08-10T19:43:27.359Z"
   },
   {
    "duration": 21,
    "start_time": "2022-08-10T19:44:10.030Z"
   },
   {
    "duration": 3,
    "start_time": "2022-08-10T19:44:27.891Z"
   },
   {
    "duration": 4,
    "start_time": "2022-08-10T19:47:21.968Z"
   },
   {
    "duration": 2,
    "start_time": "2022-08-10T19:48:13.552Z"
   },
   {
    "duration": 35,
    "start_time": "2022-08-10T19:54:13.829Z"
   },
   {
    "duration": 1269,
    "start_time": "2022-08-11T17:32:56.458Z"
   },
   {
    "duration": 4,
    "start_time": "2022-08-11T17:32:57.729Z"
   },
   {
    "duration": 728,
    "start_time": "2022-08-11T17:32:57.735Z"
   },
   {
    "duration": 11,
    "start_time": "2022-08-11T17:32:58.465Z"
   },
   {
    "duration": 20,
    "start_time": "2022-08-11T17:32:58.477Z"
   },
   {
    "duration": 2,
    "start_time": "2022-08-11T17:32:58.499Z"
   },
   {
    "duration": 50,
    "start_time": "2022-08-11T17:32:58.503Z"
   },
   {
    "duration": 43,
    "start_time": "2022-08-11T17:34:06.159Z"
   },
   {
    "duration": 20,
    "start_time": "2022-08-11T17:34:24.285Z"
   },
   {
    "duration": 37,
    "start_time": "2022-08-11T17:35:52.860Z"
   },
   {
    "duration": 12,
    "start_time": "2022-08-11T17:35:56.789Z"
   },
   {
    "duration": 436,
    "start_time": "2022-08-11T17:38:45.451Z"
   },
   {
    "duration": 326,
    "start_time": "2022-08-11T17:38:48.461Z"
   },
   {
    "duration": 341,
    "start_time": "2022-08-11T17:38:50.657Z"
   },
   {
    "duration": 323,
    "start_time": "2022-08-11T17:38:53.562Z"
   },
   {
    "duration": 4,
    "start_time": "2022-08-11T17:39:38.393Z"
   },
   {
    "duration": 145,
    "start_time": "2022-08-11T17:39:38.615Z"
   },
   {
    "duration": 7,
    "start_time": "2022-08-11T17:39:39.219Z"
   },
   {
    "duration": 28,
    "start_time": "2022-08-11T17:39:39.691Z"
   },
   {
    "duration": 76,
    "start_time": "2022-08-11T17:39:41.490Z"
   },
   {
    "duration": 119,
    "start_time": "2022-08-11T17:42:39.264Z"
   },
   {
    "duration": 16,
    "start_time": "2022-08-11T18:02:12.601Z"
   },
   {
    "duration": 116,
    "start_time": "2022-08-11T18:04:07.391Z"
   },
   {
    "duration": 9,
    "start_time": "2022-08-11T18:04:10.231Z"
   },
   {
    "duration": 149,
    "start_time": "2022-08-11T18:04:29.436Z"
   },
   {
    "duration": 18,
    "start_time": "2022-08-11T18:04:29.801Z"
   },
   {
    "duration": 23,
    "start_time": "2022-08-11T18:04:30.153Z"
   },
   {
    "duration": 113,
    "start_time": "2022-08-11T18:04:31.976Z"
   },
   {
    "duration": 11,
    "start_time": "2022-08-11T18:04:34.291Z"
   },
   {
    "duration": 8,
    "start_time": "2022-08-11T18:05:36.729Z"
   },
   {
    "duration": 5,
    "start_time": "2022-08-11T18:05:50.828Z"
   },
   {
    "duration": 17,
    "start_time": "2022-08-11T18:05:56.082Z"
   },
   {
    "duration": 8,
    "start_time": "2022-08-11T18:06:05.384Z"
   },
   {
    "duration": 9,
    "start_time": "2022-08-11T18:07:00.378Z"
   },
   {
    "duration": 9,
    "start_time": "2022-08-11T18:07:13.017Z"
   },
   {
    "duration": 9,
    "start_time": "2022-08-11T18:07:24.694Z"
   },
   {
    "duration": 10,
    "start_time": "2022-08-11T18:07:33.853Z"
   },
   {
    "duration": 8,
    "start_time": "2022-08-11T18:07:39.339Z"
   },
   {
    "duration": 70,
    "start_time": "2022-08-11T18:07:48.829Z"
   },
   {
    "duration": 65,
    "start_time": "2022-08-11T18:08:10.121Z"
   },
   {
    "duration": 83,
    "start_time": "2022-08-11T18:08:32.693Z"
   },
   {
    "duration": 90,
    "start_time": "2022-08-11T18:09:05.393Z"
   },
   {
    "duration": 86,
    "start_time": "2022-08-11T18:09:23.506Z"
   },
   {
    "duration": 9,
    "start_time": "2022-08-11T18:11:00.577Z"
   },
   {
    "duration": 103,
    "start_time": "2022-08-11T18:11:05.949Z"
   },
   {
    "duration": 107,
    "start_time": "2022-08-11T18:11:07.042Z"
   },
   {
    "duration": 13,
    "start_time": "2022-08-11T18:11:10.580Z"
   },
   {
    "duration": 130,
    "start_time": "2022-08-11T18:11:17.506Z"
   },
   {
    "duration": 124,
    "start_time": "2022-08-11T18:11:18.830Z"
   },
   {
    "duration": 13,
    "start_time": "2022-08-11T18:11:19.151Z"
   },
   {
    "duration": 110,
    "start_time": "2022-08-11T18:11:34.655Z"
   },
   {
    "duration": 15,
    "start_time": "2022-08-11T18:11:35.062Z"
   },
   {
    "duration": 111,
    "start_time": "2022-08-11T18:11:49.063Z"
   },
   {
    "duration": 8,
    "start_time": "2022-08-11T18:11:49.277Z"
   },
   {
    "duration": 8,
    "start_time": "2022-08-11T18:11:53.953Z"
   },
   {
    "duration": 5,
    "start_time": "2022-08-11T18:12:10.245Z"
   },
   {
    "duration": 153,
    "start_time": "2022-08-11T18:12:10.421Z"
   },
   {
    "duration": 7,
    "start_time": "2022-08-11T18:12:10.783Z"
   },
   {
    "duration": 17,
    "start_time": "2022-08-11T18:12:10.964Z"
   },
   {
    "duration": 109,
    "start_time": "2022-08-11T18:12:11.483Z"
   },
   {
    "duration": 8,
    "start_time": "2022-08-11T18:12:11.684Z"
   },
   {
    "duration": 71,
    "start_time": "2022-08-11T18:12:12.550Z"
   },
   {
    "duration": 72,
    "start_time": "2022-08-11T18:12:13.922Z"
   },
   {
    "duration": 14,
    "start_time": "2022-08-11T18:12:15.406Z"
   },
   {
    "duration": 99,
    "start_time": "2022-08-11T18:12:25.641Z"
   },
   {
    "duration": 103,
    "start_time": "2022-08-11T18:12:26.213Z"
   },
   {
    "duration": 10,
    "start_time": "2022-08-11T18:12:26.567Z"
   },
   {
    "duration": 143,
    "start_time": "2022-08-11T18:22:20.335Z"
   },
   {
    "duration": 13,
    "start_time": "2022-08-11T18:22:26.075Z"
   },
   {
    "duration": 107,
    "start_time": "2022-08-11T18:26:43.561Z"
   },
   {
    "duration": 8,
    "start_time": "2022-08-11T18:26:48.685Z"
   },
   {
    "duration": 127,
    "start_time": "2022-08-11T18:26:56.905Z"
   },
   {
    "duration": 9,
    "start_time": "2022-08-11T18:26:58.461Z"
   },
   {
    "duration": 17,
    "start_time": "2022-08-11T18:28:50.226Z"
   },
   {
    "duration": 167,
    "start_time": "2022-08-11T18:31:10.970Z"
   },
   {
    "duration": 6,
    "start_time": "2022-08-11T18:33:05.498Z"
   },
   {
    "duration": 13,
    "start_time": "2022-08-11T18:33:08.917Z"
   },
   {
    "duration": 3,
    "start_time": "2022-08-11T18:34:32.463Z"
   },
   {
    "duration": 9,
    "start_time": "2022-08-11T18:34:35.533Z"
   },
   {
    "duration": 8,
    "start_time": "2022-08-11T18:35:53.061Z"
   },
   {
    "duration": 14,
    "start_time": "2022-08-11T18:35:59.773Z"
   },
   {
    "duration": 2,
    "start_time": "2022-08-11T18:36:37.124Z"
   },
   {
    "duration": 3,
    "start_time": "2022-08-11T18:42:23.599Z"
   },
   {
    "duration": 3,
    "start_time": "2022-08-11T18:43:14.459Z"
   },
   {
    "duration": 13,
    "start_time": "2022-08-11T18:43:17.146Z"
   },
   {
    "duration": 9,
    "start_time": "2022-08-11T18:43:21.644Z"
   },
   {
    "duration": 8,
    "start_time": "2022-08-11T18:43:23.632Z"
   },
   {
    "duration": 10,
    "start_time": "2022-08-11T18:43:26.541Z"
   },
   {
    "duration": 3,
    "start_time": "2022-08-11T18:43:28.075Z"
   },
   {
    "duration": 3,
    "start_time": "2022-08-11T18:43:30.092Z"
   },
   {
    "duration": 127,
    "start_time": "2022-08-11T18:43:47.657Z"
   },
   {
    "duration": 11,
    "start_time": "2022-08-11T18:43:50.244Z"
   },
   {
    "duration": 8,
    "start_time": "2022-08-11T18:43:53.661Z"
   },
   {
    "duration": 8,
    "start_time": "2022-08-11T18:44:11.894Z"
   },
   {
    "duration": 7,
    "start_time": "2022-08-11T18:44:18.051Z"
   },
   {
    "duration": 13,
    "start_time": "2022-08-11T18:44:22.256Z"
   },
   {
    "duration": 7,
    "start_time": "2022-08-11T18:44:25.990Z"
   },
   {
    "duration": 7,
    "start_time": "2022-08-11T18:44:36.434Z"
   },
   {
    "duration": 18,
    "start_time": "2022-08-11T18:45:59.225Z"
   },
   {
    "duration": 18,
    "start_time": "2022-08-11T18:46:06.111Z"
   },
   {
    "duration": 14,
    "start_time": "2022-08-11T18:46:27.678Z"
   },
   {
    "duration": 14,
    "start_time": "2022-08-11T18:46:50.198Z"
   },
   {
    "duration": 5,
    "start_time": "2022-08-11T18:50:03.917Z"
   },
   {
    "duration": 5,
    "start_time": "2022-08-11T18:50:30.232Z"
   },
   {
    "duration": 5,
    "start_time": "2022-08-11T18:50:52.675Z"
   },
   {
    "duration": 6,
    "start_time": "2022-08-11T18:51:03.316Z"
   },
   {
    "duration": 5,
    "start_time": "2022-08-11T18:51:07.886Z"
   },
   {
    "duration": 6,
    "start_time": "2022-08-11T18:51:20.057Z"
   },
   {
    "duration": 5,
    "start_time": "2022-08-11T18:52:07.227Z"
   },
   {
    "duration": 891,
    "start_time": "2022-08-11T18:52:15.479Z"
   },
   {
    "duration": 1797,
    "start_time": "2022-08-11T18:54:27.163Z"
   },
   {
    "duration": 1393,
    "start_time": "2022-08-11T18:54:32.640Z"
   },
   {
    "duration": 1134,
    "start_time": "2022-08-11T18:55:05.395Z"
   },
   {
    "duration": 1157,
    "start_time": "2022-08-11T18:55:14.526Z"
   },
   {
    "duration": 1213,
    "start_time": "2022-08-11T18:55:19.449Z"
   },
   {
    "duration": 1147,
    "start_time": "2022-08-11T18:56:17.389Z"
   },
   {
    "duration": 1150,
    "start_time": "2022-08-11T18:56:23.293Z"
   },
   {
    "duration": 1147,
    "start_time": "2022-08-11T18:56:29.093Z"
   },
   {
    "duration": 1104,
    "start_time": "2022-08-11T18:56:40.435Z"
   },
   {
    "duration": 1091,
    "start_time": "2022-08-11T18:56:56.961Z"
   },
   {
    "duration": 1095,
    "start_time": "2022-08-11T18:57:26.828Z"
   },
   {
    "duration": 1074,
    "start_time": "2022-08-11T18:57:45.767Z"
   },
   {
    "duration": 1087,
    "start_time": "2022-08-11T18:58:08.062Z"
   },
   {
    "duration": 1090,
    "start_time": "2022-08-11T18:58:13.078Z"
   },
   {
    "duration": 1258,
    "start_time": "2022-08-11T18:58:21.432Z"
   },
   {
    "duration": 1220,
    "start_time": "2022-08-11T18:58:24.078Z"
   },
   {
    "duration": 1197,
    "start_time": "2022-08-11T18:58:32.927Z"
   },
   {
    "duration": 1141,
    "start_time": "2022-08-11T18:58:43.113Z"
   },
   {
    "duration": 1075,
    "start_time": "2022-08-11T18:59:31.273Z"
   },
   {
    "duration": 4,
    "start_time": "2022-08-11T18:59:36.930Z"
   },
   {
    "duration": 5,
    "start_time": "2022-08-11T19:00:01.430Z"
   },
   {
    "duration": 6,
    "start_time": "2022-08-11T19:00:05.904Z"
   },
   {
    "duration": 1091,
    "start_time": "2022-08-11T19:00:06.976Z"
   },
   {
    "duration": 1118,
    "start_time": "2022-08-11T19:00:38.703Z"
   },
   {
    "duration": 1180,
    "start_time": "2022-08-11T19:00:51.962Z"
   },
   {
    "duration": 1101,
    "start_time": "2022-08-11T19:01:51.160Z"
   },
   {
    "duration": 1233,
    "start_time": "2022-08-11T19:01:59.057Z"
   },
   {
    "duration": 29,
    "start_time": "2022-08-11T19:03:46.127Z"
   },
   {
    "duration": 37,
    "start_time": "2022-08-11T19:04:22.250Z"
   },
   {
    "duration": 32,
    "start_time": "2022-08-11T19:04:27.135Z"
   },
   {
    "duration": 38,
    "start_time": "2022-08-11T19:04:44.546Z"
   },
   {
    "duration": 52,
    "start_time": "2022-08-11T19:05:36.137Z"
   },
   {
    "duration": 74,
    "start_time": "2022-08-11T19:05:43.671Z"
   },
   {
    "duration": 1053,
    "start_time": "2022-08-11T19:05:58.775Z"
   },
   {
    "duration": 1109,
    "start_time": "2022-08-11T19:06:06.410Z"
   },
   {
    "duration": 1188,
    "start_time": "2022-08-11T19:07:00.140Z"
   },
   {
    "duration": 4,
    "start_time": "2022-08-11T19:07:01.330Z"
   },
   {
    "duration": 156,
    "start_time": "2022-08-11T19:07:01.336Z"
   },
   {
    "duration": 13,
    "start_time": "2022-08-11T19:07:01.494Z"
   },
   {
    "duration": 25,
    "start_time": "2022-08-11T19:07:01.509Z"
   },
   {
    "duration": 130,
    "start_time": "2022-08-11T19:07:01.536Z"
   },
   {
    "duration": 8,
    "start_time": "2022-08-11T19:07:01.668Z"
   },
   {
    "duration": 87,
    "start_time": "2022-08-11T19:07:01.678Z"
   },
   {
    "duration": 192,
    "start_time": "2022-08-11T19:07:01.766Z"
   },
   {
    "duration": 7,
    "start_time": "2022-08-11T19:07:01.959Z"
   },
   {
    "duration": 8,
    "start_time": "2022-08-11T19:07:01.968Z"
   },
   {
    "duration": 20,
    "start_time": "2022-08-11T19:07:01.978Z"
   },
   {
    "duration": 19,
    "start_time": "2022-08-11T19:07:02.000Z"
   },
   {
    "duration": 7,
    "start_time": "2022-08-11T19:07:02.021Z"
   },
   {
    "duration": 1221,
    "start_time": "2022-08-11T19:07:02.029Z"
   },
   {
    "duration": 58,
    "start_time": "2022-08-11T19:07:03.252Z"
   },
   {
    "duration": 8,
    "start_time": "2022-08-11T19:07:03.312Z"
   },
   {
    "duration": 22,
    "start_time": "2022-08-11T19:07:27.335Z"
   },
   {
    "duration": 978,
    "start_time": "2022-08-11T19:07:48.682Z"
   },
   {
    "duration": 1027,
    "start_time": "2022-08-11T19:08:38.454Z"
   },
   {
    "duration": 1122,
    "start_time": "2022-08-11T19:08:53.669Z"
   },
   {
    "duration": 897,
    "start_time": "2022-08-11T19:09:08.233Z"
   },
   {
    "duration": 967,
    "start_time": "2022-08-11T19:09:14.435Z"
   },
   {
    "duration": 9,
    "start_time": "2022-08-11T19:09:28.545Z"
   },
   {
    "duration": 3,
    "start_time": "2022-08-11T19:09:28.555Z"
   },
   {
    "duration": 11,
    "start_time": "2022-08-11T19:09:28.559Z"
   },
   {
    "duration": 12,
    "start_time": "2022-08-11T19:09:28.572Z"
   },
   {
    "duration": 7,
    "start_time": "2022-08-11T19:09:28.585Z"
   },
   {
    "duration": 1033,
    "start_time": "2022-08-11T19:09:28.593Z"
   },
   {
    "duration": 1033,
    "start_time": "2022-08-11T19:09:29.628Z"
   },
   {
    "duration": 9,
    "start_time": "2022-08-11T19:09:30.663Z"
   },
   {
    "duration": 1385,
    "start_time": "2022-08-14T17:58:18.991Z"
   },
   {
    "duration": 4,
    "start_time": "2022-08-14T17:58:20.379Z"
   },
   {
    "duration": 644,
    "start_time": "2022-08-14T17:58:20.384Z"
   },
   {
    "duration": 16,
    "start_time": "2022-08-14T17:58:21.031Z"
   },
   {
    "duration": 41,
    "start_time": "2022-08-14T17:58:21.050Z"
   },
   {
    "duration": 133,
    "start_time": "2022-08-14T17:58:21.093Z"
   },
   {
    "duration": 8,
    "start_time": "2022-08-14T17:58:21.228Z"
   },
   {
    "duration": 89,
    "start_time": "2022-08-14T17:58:21.238Z"
   },
   {
    "duration": 173,
    "start_time": "2022-08-14T17:58:21.329Z"
   },
   {
    "duration": 6,
    "start_time": "2022-08-14T17:58:21.504Z"
   },
   {
    "duration": 3,
    "start_time": "2022-08-14T17:58:21.512Z"
   },
   {
    "duration": 13,
    "start_time": "2022-08-14T17:58:21.517Z"
   },
   {
    "duration": 15,
    "start_time": "2022-08-14T17:58:21.532Z"
   },
   {
    "duration": 5,
    "start_time": "2022-08-14T17:58:21.550Z"
   },
   {
    "duration": 1141,
    "start_time": "2022-08-14T17:58:21.557Z"
   },
   {
    "duration": 996,
    "start_time": "2022-08-14T17:58:22.700Z"
   },
   {
    "duration": 9,
    "start_time": "2022-08-14T17:58:23.697Z"
   },
   {
    "duration": 3,
    "start_time": "2022-08-14T18:03:18.897Z"
   },
   {
    "duration": 122,
    "start_time": "2022-08-14T18:04:14.284Z"
   },
   {
    "duration": 11,
    "start_time": "2022-08-14T18:04:33.761Z"
   },
   {
    "duration": 14,
    "start_time": "2022-08-14T18:04:49.541Z"
   },
   {
    "duration": 5,
    "start_time": "2022-08-14T18:04:52.890Z"
   },
   {
    "duration": 5,
    "start_time": "2022-08-14T18:05:50.461Z"
   },
   {
    "duration": 7,
    "start_time": "2022-08-14T18:05:55.257Z"
   },
   {
    "duration": 87,
    "start_time": "2022-08-14T18:06:58.662Z"
   },
   {
    "duration": 20,
    "start_time": "2022-08-14T18:07:04.110Z"
   },
   {
    "duration": 71,
    "start_time": "2022-08-14T18:07:24.888Z"
   },
   {
    "duration": 49,
    "start_time": "2022-08-14T18:07:31.847Z"
   },
   {
    "duration": 5,
    "start_time": "2022-08-14T18:07:43.760Z"
   },
   {
    "duration": 4,
    "start_time": "2022-08-14T18:07:57.787Z"
   },
   {
    "duration": 7,
    "start_time": "2022-08-14T18:08:21.105Z"
   },
   {
    "duration": 6,
    "start_time": "2022-08-14T18:08:32.020Z"
   },
   {
    "duration": 5,
    "start_time": "2022-08-14T18:08:58.974Z"
   },
   {
    "duration": 4,
    "start_time": "2022-08-14T18:10:26.385Z"
   },
   {
    "duration": 22,
    "start_time": "2022-08-14T18:10:29.305Z"
   },
   {
    "duration": 34,
    "start_time": "2022-08-14T18:10:44.732Z"
   },
   {
    "duration": 52,
    "start_time": "2022-08-14T18:12:06.059Z"
   },
   {
    "duration": 13,
    "start_time": "2022-08-14T18:12:09.404Z"
   },
   {
    "duration": 31,
    "start_time": "2022-08-14T18:12:23.684Z"
   },
   {
    "duration": 65,
    "start_time": "2022-08-14T18:13:46.231Z"
   },
   {
    "duration": 12,
    "start_time": "2022-08-14T18:14:03.026Z"
   },
   {
    "duration": 61,
    "start_time": "2022-08-14T18:14:28.979Z"
   },
   {
    "duration": 48,
    "start_time": "2022-08-14T18:15:00.589Z"
   },
   {
    "duration": 5,
    "start_time": "2022-08-14T18:15:08.375Z"
   },
   {
    "duration": 53,
    "start_time": "2022-08-14T18:15:11.369Z"
   },
   {
    "duration": 41,
    "start_time": "2022-08-14T18:15:23.356Z"
   },
   {
    "duration": 40,
    "start_time": "2022-08-14T18:15:28.063Z"
   },
   {
    "duration": 48,
    "start_time": "2022-08-14T18:15:38.717Z"
   },
   {
    "duration": 9,
    "start_time": "2022-08-14T18:16:27.225Z"
   },
   {
    "duration": 11,
    "start_time": "2022-08-14T18:17:16.991Z"
   },
   {
    "duration": 48,
    "start_time": "2022-08-14T18:17:22.319Z"
   },
   {
    "duration": 48,
    "start_time": "2022-08-14T18:17:38.531Z"
   },
   {
    "duration": 48,
    "start_time": "2022-08-14T18:17:48.443Z"
   },
   {
    "duration": 59,
    "start_time": "2022-08-14T18:17:55.264Z"
   },
   {
    "duration": 73,
    "start_time": "2022-08-14T18:18:29.086Z"
   },
   {
    "duration": 64,
    "start_time": "2022-08-14T18:41:41.627Z"
   },
   {
    "duration": 5,
    "start_time": "2022-08-14T18:45:26.629Z"
   },
   {
    "duration": 11,
    "start_time": "2022-08-14T18:46:07.094Z"
   },
   {
    "duration": 13,
    "start_time": "2022-08-14T18:46:32.695Z"
   },
   {
    "duration": 49,
    "start_time": "2022-08-14T18:48:04.235Z"
   },
   {
    "duration": 52,
    "start_time": "2022-08-14T18:48:13.144Z"
   },
   {
    "duration": 18,
    "start_time": "2022-08-14T18:48:20.486Z"
   },
   {
    "duration": 38,
    "start_time": "2022-08-14T18:48:49.136Z"
   },
   {
    "duration": 6,
    "start_time": "2022-08-14T18:49:54.405Z"
   },
   {
    "duration": 25,
    "start_time": "2022-08-14T18:50:14.901Z"
   },
   {
    "duration": 25,
    "start_time": "2022-08-14T18:50:28.436Z"
   },
   {
    "duration": 24,
    "start_time": "2022-08-14T18:50:29.750Z"
   },
   {
    "duration": 58,
    "start_time": "2022-08-14T18:52:23.086Z"
   },
   {
    "duration": 54,
    "start_time": "2022-08-14T18:52:24.790Z"
   },
   {
    "duration": 30,
    "start_time": "2022-08-14T18:52:41.075Z"
   },
   {
    "duration": 50,
    "start_time": "2022-08-14T18:54:41.795Z"
   },
   {
    "duration": 46,
    "start_time": "2022-08-14T18:54:59.492Z"
   },
   {
    "duration": 51,
    "start_time": "2022-08-14T18:55:08.042Z"
   },
   {
    "duration": 59,
    "start_time": "2022-08-14T18:55:53.351Z"
   },
   {
    "duration": 24,
    "start_time": "2022-08-14T19:08:31.023Z"
   },
   {
    "duration": 43,
    "start_time": "2022-08-14T19:08:44.709Z"
   },
   {
    "duration": 41,
    "start_time": "2022-08-14T19:08:52.735Z"
   },
   {
    "duration": 41,
    "start_time": "2022-08-14T19:09:43.214Z"
   },
   {
    "duration": 39,
    "start_time": "2022-08-14T19:10:50.682Z"
   },
   {
    "duration": 47,
    "start_time": "2022-08-14T19:12:23.786Z"
   },
   {
    "duration": 47,
    "start_time": "2022-08-14T19:12:49.297Z"
   },
   {
    "duration": 101,
    "start_time": "2022-08-14T19:16:02.212Z"
   },
   {
    "duration": 112,
    "start_time": "2022-08-14T19:18:48.074Z"
   },
   {
    "duration": 79,
    "start_time": "2022-08-14T19:18:54.424Z"
   },
   {
    "duration": 51,
    "start_time": "2022-08-14T19:18:58.892Z"
   },
   {
    "duration": 69,
    "start_time": "2022-08-14T19:19:03.429Z"
   },
   {
    "duration": 83,
    "start_time": "2022-08-14T19:19:09.429Z"
   },
   {
    "duration": 91,
    "start_time": "2022-08-14T19:19:54.388Z"
   },
   {
    "duration": 81,
    "start_time": "2022-08-14T19:21:13.103Z"
   },
   {
    "duration": 5,
    "start_time": "2022-08-14T19:27:26.028Z"
   },
   {
    "duration": 18,
    "start_time": "2022-08-14T19:28:24.370Z"
   },
   {
    "duration": 74,
    "start_time": "2022-08-14T19:28:42.850Z"
   },
   {
    "duration": 5,
    "start_time": "2022-08-14T19:28:58.839Z"
   },
   {
    "duration": 14,
    "start_time": "2022-08-14T19:29:06.487Z"
   },
   {
    "duration": 37,
    "start_time": "2022-08-14T19:29:26.787Z"
   },
   {
    "duration": 211,
    "start_time": "2022-08-14T19:31:39.047Z"
   },
   {
    "duration": 11,
    "start_time": "2022-08-14T19:32:18.007Z"
   },
   {
    "duration": 74,
    "start_time": "2022-08-14T19:32:34.158Z"
   },
   {
    "duration": 3,
    "start_time": "2022-08-14T19:37:39.364Z"
   },
   {
    "duration": 9,
    "start_time": "2022-08-14T19:37:47.591Z"
   },
   {
    "duration": 30,
    "start_time": "2022-08-14T19:37:53.578Z"
   },
   {
    "duration": 8,
    "start_time": "2022-08-14T19:37:57.319Z"
   },
   {
    "duration": 8,
    "start_time": "2022-08-14T19:45:51.017Z"
   },
   {
    "duration": 948,
    "start_time": "2022-08-14T19:46:55.430Z"
   },
   {
    "duration": 969,
    "start_time": "2022-08-14T19:46:59.421Z"
   },
   {
    "duration": 11,
    "start_time": "2022-08-14T19:47:10.682Z"
   },
   {
    "duration": 8,
    "start_time": "2022-08-14T19:47:49.038Z"
   },
   {
    "duration": 7,
    "start_time": "2022-08-14T19:48:06.884Z"
   },
   {
    "duration": 9,
    "start_time": "2022-08-14T19:48:10.125Z"
   },
   {
    "duration": 17,
    "start_time": "2022-08-14T19:48:36.166Z"
   },
   {
    "duration": 13,
    "start_time": "2022-08-14T19:48:44.527Z"
   },
   {
    "duration": 15,
    "start_time": "2022-08-14T19:49:52.379Z"
   },
   {
    "duration": 18,
    "start_time": "2022-08-14T19:50:09.545Z"
   },
   {
    "duration": 19,
    "start_time": "2022-08-14T19:50:14.228Z"
   },
   {
    "duration": 15,
    "start_time": "2022-08-14T19:50:19.701Z"
   },
   {
    "duration": 8,
    "start_time": "2022-08-14T19:51:57.320Z"
   },
   {
    "duration": 15,
    "start_time": "2022-08-14T19:53:24.772Z"
   },
   {
    "duration": 14,
    "start_time": "2022-08-14T19:55:47.440Z"
   },
   {
    "duration": 7,
    "start_time": "2022-08-14T20:03:12.507Z"
   },
   {
    "duration": 5,
    "start_time": "2022-08-14T20:05:07.453Z"
   },
   {
    "duration": 8,
    "start_time": "2022-08-14T20:05:14.275Z"
   },
   {
    "duration": 962,
    "start_time": "2022-08-14T20:05:49.460Z"
   },
   {
    "duration": 10,
    "start_time": "2022-08-14T20:06:18.268Z"
   },
   {
    "duration": 6,
    "start_time": "2022-08-14T20:06:27.039Z"
   },
   {
    "duration": 12,
    "start_time": "2022-08-14T20:06:32.016Z"
   },
   {
    "duration": 7,
    "start_time": "2022-08-14T20:06:43.474Z"
   },
   {
    "duration": 13,
    "start_time": "2022-08-14T20:06:53.672Z"
   },
   {
    "duration": 12,
    "start_time": "2022-08-14T20:06:59.814Z"
   },
   {
    "duration": 75,
    "start_time": "2022-08-14T20:07:18.369Z"
   },
   {
    "duration": 13,
    "start_time": "2022-08-14T20:07:24.309Z"
   },
   {
    "duration": 12,
    "start_time": "2022-08-14T20:07:32.721Z"
   },
   {
    "duration": 12,
    "start_time": "2022-08-14T20:08:01.115Z"
   },
   {
    "duration": 12,
    "start_time": "2022-08-14T20:08:05.938Z"
   },
   {
    "duration": 16,
    "start_time": "2022-08-14T20:11:27.662Z"
   },
   {
    "duration": 1451,
    "start_time": "2022-08-15T09:17:31.538Z"
   },
   {
    "duration": 5,
    "start_time": "2022-08-15T09:17:32.991Z"
   },
   {
    "duration": 642,
    "start_time": "2022-08-15T09:17:32.998Z"
   },
   {
    "duration": 10,
    "start_time": "2022-08-15T09:17:33.642Z"
   },
   {
    "duration": 21,
    "start_time": "2022-08-15T09:17:33.654Z"
   },
   {
    "duration": 145,
    "start_time": "2022-08-15T09:17:33.676Z"
   },
   {
    "duration": 8,
    "start_time": "2022-08-15T09:17:33.826Z"
   },
   {
    "duration": 94,
    "start_time": "2022-08-15T09:17:33.836Z"
   },
   {
    "duration": 185,
    "start_time": "2022-08-15T09:17:33.932Z"
   },
   {
    "duration": 8,
    "start_time": "2022-08-15T09:17:34.129Z"
   },
   {
    "duration": 51,
    "start_time": "2022-08-15T09:17:34.139Z"
   },
   {
    "duration": 7,
    "start_time": "2022-08-15T09:17:34.192Z"
   },
   {
    "duration": 35,
    "start_time": "2022-08-15T09:17:34.202Z"
   },
   {
    "duration": 19,
    "start_time": "2022-08-15T09:17:34.238Z"
   },
   {
    "duration": 1227,
    "start_time": "2022-08-15T09:17:34.259Z"
   },
   {
    "duration": 1179,
    "start_time": "2022-08-15T09:17:35.488Z"
   },
   {
    "duration": 76,
    "start_time": "2022-08-15T09:17:36.669Z"
   },
   {
    "duration": 26,
    "start_time": "2022-08-15T09:17:36.746Z"
   },
   {
    "duration": 73,
    "start_time": "2022-08-15T09:17:36.774Z"
   },
   {
    "duration": 30,
    "start_time": "2022-08-15T09:17:36.849Z"
   },
   {
    "duration": 93,
    "start_time": "2022-08-15T09:17:36.880Z"
   },
   {
    "duration": 153,
    "start_time": "2022-08-15T09:17:36.974Z"
   },
   {
    "duration": 12,
    "start_time": "2022-08-15T09:17:37.129Z"
   },
   {
    "duration": 13,
    "start_time": "2022-08-15T09:17:37.143Z"
   },
   {
    "duration": 53,
    "start_time": "2022-08-15T09:18:45.278Z"
   },
   {
    "duration": 56,
    "start_time": "2022-08-15T09:19:02.499Z"
   },
   {
    "duration": 37,
    "start_time": "2022-08-15T09:19:08.028Z"
   },
   {
    "duration": 49,
    "start_time": "2022-08-15T09:19:19.634Z"
   },
   {
    "duration": 59,
    "start_time": "2022-08-15T09:19:22.889Z"
   },
   {
    "duration": 54,
    "start_time": "2022-08-15T09:19:32.273Z"
   },
   {
    "duration": 8,
    "start_time": "2022-08-15T09:24:19.626Z"
   },
   {
    "duration": 50,
    "start_time": "2022-08-15T09:24:24.258Z"
   },
   {
    "duration": 10,
    "start_time": "2022-08-15T09:24:26.384Z"
   },
   {
    "duration": 29,
    "start_time": "2022-08-15T09:24:28.740Z"
   },
   {
    "duration": 26,
    "start_time": "2022-08-15T09:24:30.681Z"
   },
   {
    "duration": 7,
    "start_time": "2022-08-15T09:24:34.886Z"
   },
   {
    "duration": 1229,
    "start_time": "2022-08-15T09:24:39.201Z"
   },
   {
    "duration": 1486,
    "start_time": "2022-08-15T09:24:58.205Z"
   },
   {
    "duration": 1751,
    "start_time": "2022-08-15T09:25:00.706Z"
   },
   {
    "duration": 102,
    "start_time": "2022-08-15T09:25:17.954Z"
   },
   {
    "duration": 46,
    "start_time": "2022-08-15T09:25:28.744Z"
   },
   {
    "duration": 78,
    "start_time": "2022-08-15T09:25:31.932Z"
   },
   {
    "duration": 1520,
    "start_time": "2022-08-15T18:19:09.266Z"
   },
   {
    "duration": 5,
    "start_time": "2022-08-15T18:19:10.788Z"
   },
   {
    "duration": 781,
    "start_time": "2022-08-15T18:19:10.795Z"
   },
   {
    "duration": 18,
    "start_time": "2022-08-15T18:19:11.579Z"
   },
   {
    "duration": 36,
    "start_time": "2022-08-15T18:19:11.600Z"
   },
   {
    "duration": 165,
    "start_time": "2022-08-15T18:19:11.639Z"
   },
   {
    "duration": 10,
    "start_time": "2022-08-15T18:19:11.806Z"
   },
   {
    "duration": 99,
    "start_time": "2022-08-15T18:19:11.818Z"
   },
   {
    "duration": 211,
    "start_time": "2022-08-15T18:19:11.918Z"
   },
   {
    "duration": 9,
    "start_time": "2022-08-15T18:19:12.131Z"
   },
   {
    "duration": 55,
    "start_time": "2022-08-15T18:19:12.142Z"
   },
   {
    "duration": 9,
    "start_time": "2022-08-15T18:19:12.200Z"
   },
   {
    "duration": 28,
    "start_time": "2022-08-15T18:19:12.211Z"
   },
   {
    "duration": 29,
    "start_time": "2022-08-15T18:19:12.242Z"
   },
   {
    "duration": 1341,
    "start_time": "2022-08-15T18:19:12.273Z"
   },
   {
    "duration": 1170,
    "start_time": "2022-08-15T18:19:13.616Z"
   },
   {
    "duration": 85,
    "start_time": "2022-08-15T18:19:14.788Z"
   },
   {
    "duration": 32,
    "start_time": "2022-08-15T18:19:14.875Z"
   },
   {
    "duration": 73,
    "start_time": "2022-08-15T18:19:14.908Z"
   },
   {
    "duration": 33,
    "start_time": "2022-08-15T18:19:14.982Z"
   },
   {
    "duration": 104,
    "start_time": "2022-08-15T18:19:15.017Z"
   },
   {
    "duration": 219,
    "start_time": "2022-08-15T18:19:15.123Z"
   },
   {
    "duration": 15,
    "start_time": "2022-08-15T18:19:15.344Z"
   },
   {
    "duration": 48,
    "start_time": "2022-08-15T18:19:15.361Z"
   },
   {
    "duration": 63,
    "start_time": "2022-08-15T18:19:15.411Z"
   },
   {
    "duration": 11,
    "start_time": "2022-08-15T18:21:55.018Z"
   },
   {
    "duration": 20,
    "start_time": "2022-08-15T18:21:59.968Z"
   },
   {
    "duration": 35,
    "start_time": "2022-08-15T18:22:33.394Z"
   },
   {
    "duration": 38,
    "start_time": "2022-08-15T18:22:43.465Z"
   },
   {
    "duration": 36,
    "start_time": "2022-08-15T18:22:50.141Z"
   },
   {
    "duration": 79,
    "start_time": "2022-08-15T18:23:08.567Z"
   },
   {
    "duration": 78,
    "start_time": "2022-08-15T18:23:12.382Z"
   },
   {
    "duration": 30,
    "start_time": "2022-08-15T18:23:44.974Z"
   },
   {
    "duration": 30,
    "start_time": "2022-08-15T18:23:51.826Z"
   },
   {
    "duration": 32,
    "start_time": "2022-08-15T18:23:55.948Z"
   },
   {
    "duration": 30,
    "start_time": "2022-08-15T18:23:59.082Z"
   },
   {
    "duration": 134,
    "start_time": "2022-08-15T18:24:27.855Z"
   },
   {
    "duration": 77,
    "start_time": "2022-08-15T18:24:41.940Z"
   },
   {
    "duration": 35,
    "start_time": "2022-08-15T18:24:50.649Z"
   },
   {
    "duration": 101,
    "start_time": "2022-08-15T18:24:53.541Z"
   },
   {
    "duration": 41,
    "start_time": "2022-08-15T18:25:05.704Z"
   },
   {
    "duration": 85,
    "start_time": "2022-08-15T18:25:46.518Z"
   },
   {
    "duration": 72,
    "start_time": "2022-08-15T18:25:47.610Z"
   },
   {
    "duration": 183,
    "start_time": "2022-08-15T18:28:11.716Z"
   },
   {
    "duration": 186,
    "start_time": "2022-08-15T18:28:17.126Z"
   },
   {
    "duration": 193,
    "start_time": "2022-08-15T18:28:50.619Z"
   },
   {
    "duration": 207,
    "start_time": "2022-08-15T18:31:33.386Z"
   },
   {
    "duration": 134,
    "start_time": "2022-08-15T18:32:17.348Z"
   },
   {
    "duration": 117,
    "start_time": "2022-08-15T18:32:25.121Z"
   },
   {
    "duration": 74,
    "start_time": "2022-08-15T18:32:25.633Z"
   },
   {
    "duration": 17,
    "start_time": "2022-08-15T18:33:22.878Z"
   },
   {
    "duration": 13,
    "start_time": "2022-08-15T18:34:08.969Z"
   },
   {
    "duration": 57,
    "start_time": "2022-08-15T18:34:16.678Z"
   },
   {
    "duration": 56,
    "start_time": "2022-08-15T18:34:26.654Z"
   },
   {
    "duration": 15,
    "start_time": "2022-08-15T18:36:11.323Z"
   },
   {
    "duration": 41,
    "start_time": "2022-08-15T18:37:40.811Z"
   },
   {
    "duration": 44,
    "start_time": "2022-08-15T18:37:43.224Z"
   },
   {
    "duration": 117,
    "start_time": "2022-08-15T18:40:01.625Z"
   },
   {
    "duration": 7,
    "start_time": "2022-08-15T18:40:05.822Z"
   },
   {
    "duration": 39,
    "start_time": "2022-08-15T18:40:17.181Z"
   },
   {
    "duration": 7,
    "start_time": "2022-08-15T18:40:17.623Z"
   },
   {
    "duration": 155,
    "start_time": "2022-08-15T18:40:44.962Z"
   },
   {
    "duration": 7,
    "start_time": "2022-08-15T18:40:45.465Z"
   },
   {
    "duration": 7,
    "start_time": "2022-08-15T18:40:48.112Z"
   },
   {
    "duration": 9,
    "start_time": "2022-08-15T18:40:49.963Z"
   },
   {
    "duration": 43,
    "start_time": "2022-08-15T18:42:15.583Z"
   },
   {
    "duration": 43,
    "start_time": "2022-08-15T18:42:19.930Z"
   },
   {
    "duration": 59,
    "start_time": "2022-08-15T18:42:30.166Z"
   },
   {
    "duration": 118,
    "start_time": "2022-08-15T18:43:39.457Z"
   },
   {
    "duration": 103,
    "start_time": "2022-08-15T18:43:48.116Z"
   },
   {
    "duration": 105,
    "start_time": "2022-08-15T18:44:37.689Z"
   },
   {
    "duration": 6,
    "start_time": "2022-08-15T18:49:02.907Z"
   },
   {
    "duration": 9,
    "start_time": "2022-08-15T18:49:20.853Z"
   },
   {
    "duration": 6,
    "start_time": "2022-08-15T18:49:25.891Z"
   },
   {
    "duration": 7,
    "start_time": "2022-08-15T18:49:45.965Z"
   },
   {
    "duration": 6,
    "start_time": "2022-08-15T18:49:55.586Z"
   },
   {
    "duration": 9,
    "start_time": "2022-08-15T18:50:03.965Z"
   },
   {
    "duration": 91,
    "start_time": "2022-08-15T18:50:07.322Z"
   },
   {
    "duration": 7,
    "start_time": "2022-08-15T18:50:15.855Z"
   },
   {
    "duration": 7,
    "start_time": "2022-08-15T18:50:25.693Z"
   },
   {
    "duration": 7,
    "start_time": "2022-08-15T18:50:38.637Z"
   },
   {
    "duration": 7,
    "start_time": "2022-08-15T18:50:41.188Z"
   },
   {
    "duration": 8,
    "start_time": "2022-08-15T18:50:44.520Z"
   },
   {
    "duration": 121,
    "start_time": "2022-08-15T18:51:52.061Z"
   },
   {
    "duration": 1317,
    "start_time": "2022-08-16T19:13:45.738Z"
   },
   {
    "duration": 5,
    "start_time": "2022-08-16T19:13:47.057Z"
   },
   {
    "duration": 470,
    "start_time": "2022-08-16T19:13:47.064Z"
   },
   {
    "duration": 11,
    "start_time": "2022-08-16T19:13:47.536Z"
   },
   {
    "duration": 24,
    "start_time": "2022-08-16T19:13:47.550Z"
   },
   {
    "duration": 123,
    "start_time": "2022-08-16T19:13:47.576Z"
   },
   {
    "duration": 8,
    "start_time": "2022-08-16T19:13:47.701Z"
   },
   {
    "duration": 85,
    "start_time": "2022-08-16T19:13:47.711Z"
   },
   {
    "duration": 168,
    "start_time": "2022-08-16T19:13:47.797Z"
   },
   {
    "duration": 7,
    "start_time": "2022-08-16T19:13:47.966Z"
   },
   {
    "duration": 45,
    "start_time": "2022-08-16T19:13:47.974Z"
   },
   {
    "duration": 7,
    "start_time": "2022-08-16T19:13:48.021Z"
   },
   {
    "duration": 16,
    "start_time": "2022-08-16T19:13:48.030Z"
   },
   {
    "duration": 5,
    "start_time": "2022-08-16T19:13:48.048Z"
   },
   {
    "duration": 1113,
    "start_time": "2022-08-16T19:13:48.054Z"
   },
   {
    "duration": 992,
    "start_time": "2022-08-16T19:13:49.169Z"
   },
   {
    "duration": 73,
    "start_time": "2022-08-16T19:13:50.162Z"
   },
   {
    "duration": 26,
    "start_time": "2022-08-16T19:13:50.236Z"
   },
   {
    "duration": 59,
    "start_time": "2022-08-16T19:13:50.264Z"
   },
   {
    "duration": 30,
    "start_time": "2022-08-16T19:13:50.324Z"
   },
   {
    "duration": 80,
    "start_time": "2022-08-16T19:13:50.355Z"
   },
   {
    "duration": 146,
    "start_time": "2022-08-16T19:13:50.436Z"
   },
   {
    "duration": 10,
    "start_time": "2022-08-16T19:13:50.583Z"
   },
   {
    "duration": 47,
    "start_time": "2022-08-16T19:13:50.594Z"
   },
   {
    "duration": 8,
    "start_time": "2022-08-16T19:13:50.688Z"
   },
   {
    "duration": 132,
    "start_time": "2022-08-16T19:13:50.698Z"
   },
   {
    "duration": 117,
    "start_time": "2022-08-16T19:13:50.832Z"
   },
   {
    "duration": 41,
    "start_time": "2022-08-16T19:13:50.950Z"
   },
   {
    "duration": 7,
    "start_time": "2022-08-16T19:13:50.993Z"
   },
   {
    "duration": 100,
    "start_time": "2022-08-16T19:23:08.566Z"
   },
   {
    "duration": 97,
    "start_time": "2022-08-16T19:23:29.737Z"
   },
   {
    "duration": 204,
    "start_time": "2022-08-16T19:24:11.593Z"
   },
   {
    "duration": 101,
    "start_time": "2022-08-16T19:24:19.201Z"
   },
   {
    "duration": 100,
    "start_time": "2022-08-16T19:24:48.627Z"
   },
   {
    "duration": 97,
    "start_time": "2022-08-16T19:26:33.338Z"
   },
   {
    "duration": 1012,
    "start_time": "2022-08-16T19:30:53.418Z"
   },
   {
    "duration": 106,
    "start_time": "2022-08-16T19:31:00.040Z"
   },
   {
    "duration": 108,
    "start_time": "2022-08-16T19:31:24.324Z"
   },
   {
    "duration": 108,
    "start_time": "2022-08-16T19:32:40.200Z"
   },
   {
    "duration": 105,
    "start_time": "2022-08-16T19:32:50.207Z"
   },
   {
    "duration": 114,
    "start_time": "2022-08-16T19:34:50.360Z"
   },
   {
    "duration": 103,
    "start_time": "2022-08-16T19:35:00.479Z"
   },
   {
    "duration": 124,
    "start_time": "2022-08-16T19:35:07.157Z"
   },
   {
    "duration": 112,
    "start_time": "2022-08-16T19:35:12.417Z"
   },
   {
    "duration": 103,
    "start_time": "2022-08-16T19:35:31.195Z"
   },
   {
    "duration": 102,
    "start_time": "2022-08-16T19:35:34.527Z"
   },
   {
    "duration": 114,
    "start_time": "2022-08-16T19:44:35.632Z"
   },
   {
    "duration": 124,
    "start_time": "2022-08-16T19:44:57.959Z"
   },
   {
    "duration": 108,
    "start_time": "2022-08-16T19:45:07.080Z"
   },
   {
    "duration": 111,
    "start_time": "2022-08-16T19:46:12.433Z"
   },
   {
    "duration": 109,
    "start_time": "2022-08-16T19:46:24.519Z"
   },
   {
    "duration": 117,
    "start_time": "2022-08-16T19:47:06.598Z"
   },
   {
    "duration": 7,
    "start_time": "2022-08-16T19:47:15.427Z"
   },
   {
    "duration": 24,
    "start_time": "2022-08-16T19:47:43.687Z"
   },
   {
    "duration": 23,
    "start_time": "2022-08-16T19:48:46.241Z"
   },
   {
    "duration": 129,
    "start_time": "2022-08-16T19:48:58.401Z"
   },
   {
    "duration": 133,
    "start_time": "2022-08-16T19:49:11.867Z"
   },
   {
    "duration": 162,
    "start_time": "2022-08-16T19:50:37.733Z"
   },
   {
    "duration": 4,
    "start_time": "2022-08-16T20:01:42.422Z"
   },
   {
    "duration": 19,
    "start_time": "2022-08-16T20:02:03.921Z"
   },
   {
    "duration": 3,
    "start_time": "2022-08-16T20:03:12.107Z"
   },
   {
    "duration": 4,
    "start_time": "2022-08-16T20:03:15.508Z"
   },
   {
    "duration": 19,
    "start_time": "2022-08-16T20:03:15.953Z"
   },
   {
    "duration": 5,
    "start_time": "2022-08-16T20:03:55.858Z"
   },
   {
    "duration": 57,
    "start_time": "2022-08-16T20:03:56.592Z"
   },
   {
    "duration": 11,
    "start_time": "2022-08-16T20:04:07.054Z"
   },
   {
    "duration": 7,
    "start_time": "2022-08-16T20:04:23.729Z"
   },
   {
    "duration": 11,
    "start_time": "2022-08-16T20:04:24.534Z"
   },
   {
    "duration": 9,
    "start_time": "2022-08-16T20:04:54.807Z"
   },
   {
    "duration": 6,
    "start_time": "2022-08-16T20:04:58.384Z"
   },
   {
    "duration": 17,
    "start_time": "2022-08-16T20:05:17.019Z"
   },
   {
    "duration": 10,
    "start_time": "2022-08-16T20:05:46.420Z"
   },
   {
    "duration": 13,
    "start_time": "2022-08-16T20:05:53.667Z"
   },
   {
    "duration": 11,
    "start_time": "2022-08-16T20:06:02.549Z"
   },
   {
    "duration": 10,
    "start_time": "2022-08-16T20:06:09.711Z"
   },
   {
    "duration": 15,
    "start_time": "2022-08-16T20:06:30.155Z"
   },
   {
    "duration": 13,
    "start_time": "2022-08-16T20:06:39.323Z"
   },
   {
    "duration": 8,
    "start_time": "2022-08-16T20:06:46.258Z"
   },
   {
    "duration": 7,
    "start_time": "2022-08-16T20:07:08.109Z"
   },
   {
    "duration": 18,
    "start_time": "2022-08-16T20:07:22.536Z"
   },
   {
    "duration": 14,
    "start_time": "2022-08-16T20:07:54.438Z"
   },
   {
    "duration": 8,
    "start_time": "2022-08-16T20:08:05.247Z"
   },
   {
    "duration": 16,
    "start_time": "2022-08-16T20:14:48.831Z"
   },
   {
    "duration": 9,
    "start_time": "2022-08-16T20:15:02.786Z"
   },
   {
    "duration": 17,
    "start_time": "2022-08-16T20:15:59.600Z"
   },
   {
    "duration": 6,
    "start_time": "2022-08-16T20:16:24.357Z"
   },
   {
    "duration": 12,
    "start_time": "2022-08-16T20:16:25.133Z"
   },
   {
    "duration": 8,
    "start_time": "2022-08-16T20:16:32.296Z"
   },
   {
    "duration": 4,
    "start_time": "2022-08-16T20:17:03.700Z"
   },
   {
    "duration": 14,
    "start_time": "2022-08-16T20:17:21.745Z"
   },
   {
    "duration": 155,
    "start_time": "2022-08-16T20:18:19.194Z"
   },
   {
    "duration": 9,
    "start_time": "2022-08-16T20:18:25.489Z"
   },
   {
    "duration": 162,
    "start_time": "2022-08-16T20:18:29.202Z"
   },
   {
    "duration": 150,
    "start_time": "2022-08-16T20:18:35.785Z"
   },
   {
    "duration": 7,
    "start_time": "2022-08-16T20:18:39.578Z"
   },
   {
    "duration": 16,
    "start_time": "2022-08-16T20:18:42.588Z"
   },
   {
    "duration": 10,
    "start_time": "2022-08-16T20:18:51.494Z"
   },
   {
    "duration": 8,
    "start_time": "2022-08-16T20:19:00.023Z"
   },
   {
    "duration": 14,
    "start_time": "2022-08-16T20:19:06.675Z"
   },
   {
    "duration": 1700,
    "start_time": "2022-08-17T11:25:08.409Z"
   },
   {
    "duration": 5,
    "start_time": "2022-08-17T11:25:10.112Z"
   },
   {
    "duration": 777,
    "start_time": "2022-08-17T11:25:10.118Z"
   },
   {
    "duration": 13,
    "start_time": "2022-08-17T11:25:10.898Z"
   },
   {
    "duration": 25,
    "start_time": "2022-08-17T11:25:10.913Z"
   },
   {
    "duration": 162,
    "start_time": "2022-08-17T11:25:10.940Z"
   },
   {
    "duration": 15,
    "start_time": "2022-08-17T11:25:11.105Z"
   },
   {
    "duration": 115,
    "start_time": "2022-08-17T11:25:11.123Z"
   },
   {
    "duration": 223,
    "start_time": "2022-08-17T11:25:11.240Z"
   },
   {
    "duration": 16,
    "start_time": "2022-08-17T11:25:11.467Z"
   },
   {
    "duration": 45,
    "start_time": "2022-08-17T11:25:11.487Z"
   },
   {
    "duration": 8,
    "start_time": "2022-08-17T11:25:11.535Z"
   },
   {
    "duration": 35,
    "start_time": "2022-08-17T11:25:11.545Z"
   },
   {
    "duration": 24,
    "start_time": "2022-08-17T11:25:11.582Z"
   },
   {
    "duration": 1375,
    "start_time": "2022-08-17T11:25:11.608Z"
   },
   {
    "duration": 1241,
    "start_time": "2022-08-17T11:25:12.986Z"
   },
   {
    "duration": 83,
    "start_time": "2022-08-17T11:25:14.229Z"
   },
   {
    "duration": 33,
    "start_time": "2022-08-17T11:25:14.314Z"
   },
   {
    "duration": 60,
    "start_time": "2022-08-17T11:25:14.367Z"
   },
   {
    "duration": 43,
    "start_time": "2022-08-17T11:25:14.429Z"
   },
   {
    "duration": 97,
    "start_time": "2022-08-17T11:25:14.474Z"
   },
   {
    "duration": 167,
    "start_time": "2022-08-17T11:25:14.573Z"
   },
   {
    "duration": 12,
    "start_time": "2022-08-17T11:25:14.742Z"
   },
   {
    "duration": 57,
    "start_time": "2022-08-17T11:25:14.756Z"
   },
   {
    "duration": 12,
    "start_time": "2022-08-17T11:25:14.869Z"
   },
   {
    "duration": 167,
    "start_time": "2022-08-17T11:25:14.883Z"
   },
   {
    "duration": 147,
    "start_time": "2022-08-17T11:25:15.053Z"
   },
   {
    "duration": 44,
    "start_time": "2022-08-17T11:25:15.204Z"
   },
   {
    "duration": 193,
    "start_time": "2022-08-17T11:25:15.250Z"
   },
   {
    "duration": 6,
    "start_time": "2022-08-17T11:25:15.445Z"
   },
   {
    "duration": 21,
    "start_time": "2022-08-17T11:25:15.453Z"
   },
   {
    "duration": 15,
    "start_time": "2022-08-17T11:25:15.476Z"
   },
   {
    "duration": 151,
    "start_time": "2022-08-17T11:25:15.494Z"
   },
   {
    "duration": 0,
    "start_time": "2022-08-17T11:25:15.647Z"
   },
   {
    "duration": 0,
    "start_time": "2022-08-17T11:25:15.648Z"
   },
   {
    "duration": 0,
    "start_time": "2022-08-17T11:25:15.649Z"
   },
   {
    "duration": 5,
    "start_time": "2022-08-17T11:28:38.785Z"
   },
   {
    "duration": 8,
    "start_time": "2022-08-17T11:28:42.856Z"
   },
   {
    "duration": 3,
    "start_time": "2022-08-17T11:28:48.462Z"
   },
   {
    "duration": 5,
    "start_time": "2022-08-17T11:28:56.464Z"
   },
   {
    "duration": 6,
    "start_time": "2022-08-17T11:29:00.595Z"
   },
   {
    "duration": 46,
    "start_time": "2022-08-17T11:29:18.707Z"
   },
   {
    "duration": 5,
    "start_time": "2022-08-17T11:29:23.769Z"
   },
   {
    "duration": 8,
    "start_time": "2022-08-17T11:29:39.907Z"
   },
   {
    "duration": 8,
    "start_time": "2022-08-17T11:29:43.144Z"
   },
   {
    "duration": 20,
    "start_time": "2022-08-17T11:29:56.356Z"
   },
   {
    "duration": 19,
    "start_time": "2022-08-17T11:30:11.310Z"
   },
   {
    "duration": 16,
    "start_time": "2022-08-17T11:30:15.125Z"
   },
   {
    "duration": 15,
    "start_time": "2022-08-17T11:30:49.015Z"
   },
   {
    "duration": 16,
    "start_time": "2022-08-17T11:32:36.757Z"
   },
   {
    "duration": 34,
    "start_time": "2022-08-17T11:32:44.930Z"
   },
   {
    "duration": 36,
    "start_time": "2022-08-17T11:32:47.085Z"
   },
   {
    "duration": 9,
    "start_time": "2022-08-17T11:33:02.920Z"
   },
   {
    "duration": 8,
    "start_time": "2022-08-17T11:33:15.682Z"
   },
   {
    "duration": 17,
    "start_time": "2022-08-17T11:33:56.659Z"
   },
   {
    "duration": 8,
    "start_time": "2022-08-17T11:34:04.235Z"
   },
   {
    "duration": 7,
    "start_time": "2022-08-17T11:34:08.794Z"
   },
   {
    "duration": 44,
    "start_time": "2022-08-17T11:35:09.616Z"
   },
   {
    "duration": 43,
    "start_time": "2022-08-17T11:35:16.024Z"
   },
   {
    "duration": 57,
    "start_time": "2022-08-17T11:35:23.230Z"
   },
   {
    "duration": 53,
    "start_time": "2022-08-17T11:35:26.581Z"
   },
   {
    "duration": 50,
    "start_time": "2022-08-17T11:39:07.589Z"
   },
   {
    "duration": 66,
    "start_time": "2022-08-17T11:39:13.466Z"
   },
   {
    "duration": 49,
    "start_time": "2022-08-17T11:39:17.956Z"
   },
   {
    "duration": 47,
    "start_time": "2022-08-17T11:39:21.980Z"
   },
   {
    "duration": 48,
    "start_time": "2022-08-17T11:39:54.787Z"
   },
   {
    "duration": 2063,
    "start_time": "2022-08-17T11:39:58.964Z"
   },
   {
    "duration": 45,
    "start_time": "2022-08-17T11:40:28.892Z"
   },
   {
    "duration": 16,
    "start_time": "2022-08-17T11:40:30.925Z"
   },
   {
    "duration": 1868,
    "start_time": "2022-08-17T11:40:47.241Z"
   },
   {
    "duration": 16,
    "start_time": "2022-08-17T11:40:51.662Z"
   },
   {
    "duration": 5,
    "start_time": "2022-08-17T11:41:09.124Z"
   },
   {
    "duration": 9,
    "start_time": "2022-08-17T11:41:15.978Z"
   },
   {
    "duration": 5,
    "start_time": "2022-08-17T11:41:23.463Z"
   },
   {
    "duration": 47,
    "start_time": "2022-08-17T11:41:39.693Z"
   },
   {
    "duration": 46,
    "start_time": "2022-08-17T11:41:40.718Z"
   },
   {
    "duration": 8,
    "start_time": "2022-08-17T11:41:42.153Z"
   },
   {
    "duration": 7,
    "start_time": "2022-08-17T11:41:47.442Z"
   },
   {
    "duration": 19,
    "start_time": "2022-08-17T11:41:49.224Z"
   },
   {
    "duration": 6,
    "start_time": "2022-08-17T11:41:54.021Z"
   },
   {
    "duration": 12,
    "start_time": "2022-08-17T11:42:51.159Z"
   },
   {
    "duration": 4,
    "start_time": "2022-08-17T11:43:20.431Z"
   },
   {
    "duration": 9,
    "start_time": "2022-08-17T11:43:25.225Z"
   },
   {
    "duration": 11,
    "start_time": "2022-08-17T11:43:45.379Z"
   },
   {
    "duration": 4,
    "start_time": "2022-08-17T11:43:50.141Z"
   },
   {
    "duration": 8,
    "start_time": "2022-08-17T11:45:33.229Z"
   },
   {
    "duration": 9,
    "start_time": "2022-08-17T11:45:40.390Z"
   },
   {
    "duration": 29,
    "start_time": "2022-08-17T11:45:41.181Z"
   },
   {
    "duration": 1542,
    "start_time": "2022-08-17T11:45:56.435Z"
   },
   {
    "duration": 7,
    "start_time": "2022-08-17T11:45:57.982Z"
   },
   {
    "duration": 273,
    "start_time": "2022-08-17T11:45:57.992Z"
   },
   {
    "duration": 17,
    "start_time": "2022-08-17T11:45:58.267Z"
   },
   {
    "duration": 67,
    "start_time": "2022-08-17T11:45:58.287Z"
   },
   {
    "duration": 181,
    "start_time": "2022-08-17T11:45:58.356Z"
   },
   {
    "duration": 12,
    "start_time": "2022-08-17T11:45:58.538Z"
   },
   {
    "duration": 104,
    "start_time": "2022-08-17T11:45:58.575Z"
   },
   {
    "duration": 240,
    "start_time": "2022-08-17T11:45:58.681Z"
   },
   {
    "duration": 7,
    "start_time": "2022-08-17T11:45:58.923Z"
   },
   {
    "duration": 53,
    "start_time": "2022-08-17T11:45:58.932Z"
   },
   {
    "duration": 9,
    "start_time": "2022-08-17T11:45:58.988Z"
   },
   {
    "duration": 41,
    "start_time": "2022-08-17T11:45:58.999Z"
   },
   {
    "duration": 7,
    "start_time": "2022-08-17T11:45:59.044Z"
   },
   {
    "duration": 1626,
    "start_time": "2022-08-17T11:45:59.054Z"
   },
   {
    "duration": 1514,
    "start_time": "2022-08-17T11:46:00.682Z"
   },
   {
    "duration": 93,
    "start_time": "2022-08-17T11:46:02.202Z"
   },
   {
    "duration": 47,
    "start_time": "2022-08-17T11:46:02.299Z"
   },
   {
    "duration": 101,
    "start_time": "2022-08-17T11:46:02.349Z"
   },
   {
    "duration": 67,
    "start_time": "2022-08-17T11:46:02.453Z"
   },
   {
    "duration": 110,
    "start_time": "2022-08-17T11:46:02.523Z"
   },
   {
    "duration": 274,
    "start_time": "2022-08-17T11:46:02.635Z"
   },
   {
    "duration": 19,
    "start_time": "2022-08-17T11:46:02.911Z"
   },
   {
    "duration": 174,
    "start_time": "2022-08-17T11:46:02.933Z"
   },
   {
    "duration": 13,
    "start_time": "2022-08-17T11:46:03.110Z"
   },
   {
    "duration": 160,
    "start_time": "2022-08-17T11:46:03.126Z"
   },
   {
    "duration": 159,
    "start_time": "2022-08-17T11:46:03.288Z"
   },
   {
    "duration": 96,
    "start_time": "2022-08-17T11:46:03.451Z"
   },
   {
    "duration": 278,
    "start_time": "2022-08-17T11:46:03.549Z"
   },
   {
    "duration": 11,
    "start_time": "2022-08-17T11:46:03.830Z"
   },
   {
    "duration": 2651,
    "start_time": "2022-08-17T11:46:03.845Z"
   },
   {
    "duration": 0,
    "start_time": "2022-08-17T11:46:06.508Z"
   },
   {
    "duration": 12,
    "start_time": "2022-08-17T11:46:35.858Z"
   },
   {
    "duration": 9,
    "start_time": "2022-08-17T11:46:39.450Z"
   },
   {
    "duration": 9,
    "start_time": "2022-08-17T11:46:40.364Z"
   },
   {
    "duration": 7,
    "start_time": "2022-08-17T11:46:47.857Z"
   },
   {
    "duration": 45,
    "start_time": "2022-08-17T11:48:01.768Z"
   },
   {
    "duration": 44,
    "start_time": "2022-08-17T11:48:10.922Z"
   },
   {
    "duration": 7,
    "start_time": "2022-08-17T11:48:10.968Z"
   },
   {
    "duration": 116,
    "start_time": "2022-08-17T11:48:10.977Z"
   },
   {
    "duration": 121,
    "start_time": "2022-08-17T11:48:11.095Z"
   },
   {
    "duration": 38,
    "start_time": "2022-08-17T11:48:11.217Z"
   },
   {
    "duration": 171,
    "start_time": "2022-08-17T11:48:11.268Z"
   },
   {
    "duration": 6,
    "start_time": "2022-08-17T11:48:11.441Z"
   },
   {
    "duration": 30,
    "start_time": "2022-08-17T11:48:11.449Z"
   },
   {
    "duration": 35,
    "start_time": "2022-08-17T11:48:11.481Z"
   },
   {
    "duration": 17,
    "start_time": "2022-08-17T11:48:11.520Z"
   },
   {
    "duration": 11,
    "start_time": "2022-08-17T11:48:22.233Z"
   },
   {
    "duration": 5,
    "start_time": "2022-08-17T11:48:24.406Z"
   },
   {
    "duration": 12,
    "start_time": "2022-08-17T11:48:24.791Z"
   },
   {
    "duration": 10,
    "start_time": "2022-08-17T11:48:40.986Z"
   },
   {
    "duration": 7,
    "start_time": "2022-08-17T11:48:44.322Z"
   },
   {
    "duration": 8,
    "start_time": "2022-08-17T11:48:45.050Z"
   },
   {
    "duration": 63,
    "start_time": "2022-08-17T11:53:23.639Z"
   },
   {
    "duration": 96,
    "start_time": "2022-08-17T11:53:34.176Z"
   },
   {
    "duration": 46,
    "start_time": "2022-08-17T11:53:36.165Z"
   },
   {
    "duration": 44,
    "start_time": "2022-08-17T11:53:44.236Z"
   },
   {
    "duration": 1546,
    "start_time": "2022-08-17T11:53:56.230Z"
   },
   {
    "duration": 12,
    "start_time": "2022-08-17T11:54:07.733Z"
   },
   {
    "duration": 165,
    "start_time": "2022-08-17T11:54:39.227Z"
   },
   {
    "duration": 161,
    "start_time": "2022-08-17T11:54:42.722Z"
   },
   {
    "duration": 187,
    "start_time": "2022-08-17T11:55:43.019Z"
   },
   {
    "duration": 156,
    "start_time": "2022-08-17T11:56:04.788Z"
   },
   {
    "duration": 9,
    "start_time": "2022-08-17T11:56:05.634Z"
   },
   {
    "duration": 9,
    "start_time": "2022-08-17T11:56:31.626Z"
   },
   {
    "duration": 10,
    "start_time": "2022-08-17T11:56:41.076Z"
   },
   {
    "duration": 4,
    "start_time": "2022-08-17T11:57:05.022Z"
   },
   {
    "duration": 11,
    "start_time": "2022-08-17T11:57:10.962Z"
   },
   {
    "duration": 163,
    "start_time": "2022-08-17T11:57:14.253Z"
   },
   {
    "duration": 10,
    "start_time": "2022-08-17T11:57:17.375Z"
   },
   {
    "duration": 187,
    "start_time": "2022-08-17T11:57:41.434Z"
   },
   {
    "duration": 173,
    "start_time": "2022-08-17T11:57:52.131Z"
   },
   {
    "duration": 181,
    "start_time": "2022-08-17T11:58:08.142Z"
   },
   {
    "duration": 107,
    "start_time": "2022-08-17T11:59:50.524Z"
   },
   {
    "duration": 107,
    "start_time": "2022-08-17T11:59:55.209Z"
   },
   {
    "duration": 113,
    "start_time": "2022-08-17T12:00:15.080Z"
   },
   {
    "duration": 193,
    "start_time": "2022-08-17T12:00:29.986Z"
   },
   {
    "duration": 176,
    "start_time": "2022-08-17T12:00:47.745Z"
   },
   {
    "duration": 179,
    "start_time": "2022-08-17T12:01:01.709Z"
   },
   {
    "duration": 8,
    "start_time": "2022-08-17T12:02:17.215Z"
   },
   {
    "duration": 9,
    "start_time": "2022-08-17T12:02:17.790Z"
   },
   {
    "duration": 17,
    "start_time": "2022-08-17T12:02:19.164Z"
   },
   {
    "duration": 17,
    "start_time": "2022-08-17T12:02:20.865Z"
   },
   {
    "duration": 13,
    "start_time": "2022-08-17T12:02:21.602Z"
   },
   {
    "duration": 15,
    "start_time": "2022-08-17T12:02:24.427Z"
   },
   {
    "duration": 21,
    "start_time": "2022-08-17T12:02:24.765Z"
   },
   {
    "duration": 14,
    "start_time": "2022-08-17T12:02:24.946Z"
   },
   {
    "duration": 13,
    "start_time": "2022-08-17T12:02:25.114Z"
   },
   {
    "duration": 3,
    "start_time": "2022-08-17T12:02:34.613Z"
   },
   {
    "duration": 10,
    "start_time": "2022-08-17T12:02:34.622Z"
   },
   {
    "duration": 211,
    "start_time": "2022-08-17T12:02:34.635Z"
   },
   {
    "duration": 25,
    "start_time": "2022-08-17T12:02:34.848Z"
   },
   {
    "duration": 25,
    "start_time": "2022-08-17T12:02:34.876Z"
   },
   {
    "duration": 190,
    "start_time": "2022-08-17T12:02:34.903Z"
   },
   {
    "duration": 13,
    "start_time": "2022-08-17T12:02:35.096Z"
   },
   {
    "duration": 114,
    "start_time": "2022-08-17T12:02:35.111Z"
   },
   {
    "duration": 214,
    "start_time": "2022-08-17T12:02:35.228Z"
   },
   {
    "duration": 10,
    "start_time": "2022-08-17T12:02:35.444Z"
   },
   {
    "duration": 49,
    "start_time": "2022-08-17T12:02:35.469Z"
   },
   {
    "duration": 8,
    "start_time": "2022-08-17T12:02:35.520Z"
   },
   {
    "duration": 50,
    "start_time": "2022-08-17T12:02:35.530Z"
   },
   {
    "duration": 21,
    "start_time": "2022-08-17T12:02:35.584Z"
   },
   {
    "duration": 1571,
    "start_time": "2022-08-17T12:02:35.608Z"
   },
   {
    "duration": 1316,
    "start_time": "2022-08-17T12:02:37.183Z"
   },
   {
    "duration": 87,
    "start_time": "2022-08-17T12:02:38.501Z"
   },
   {
    "duration": 38,
    "start_time": "2022-08-17T12:02:38.593Z"
   },
   {
    "duration": 96,
    "start_time": "2022-08-17T12:02:38.634Z"
   },
   {
    "duration": 53,
    "start_time": "2022-08-17T12:02:38.733Z"
   },
   {
    "duration": 89,
    "start_time": "2022-08-17T12:02:38.790Z"
   },
   {
    "duration": 21,
    "start_time": "2022-08-17T12:02:38.880Z"
   },
   {
    "duration": 15,
    "start_time": "2022-08-17T12:02:38.903Z"
   },
   {
    "duration": 73,
    "start_time": "2022-08-17T12:02:38.921Z"
   },
   {
    "duration": 9,
    "start_time": "2022-08-17T12:02:38.995Z"
   },
   {
    "duration": 128,
    "start_time": "2022-08-17T12:02:39.006Z"
   },
   {
    "duration": 160,
    "start_time": "2022-08-17T12:02:39.136Z"
   },
   {
    "duration": 43,
    "start_time": "2022-08-17T12:02:39.298Z"
   },
   {
    "duration": 222,
    "start_time": "2022-08-17T12:02:39.346Z"
   },
   {
    "duration": 20,
    "start_time": "2022-08-17T12:02:39.576Z"
   },
   {
    "duration": 24,
    "start_time": "2022-08-17T12:02:39.599Z"
   },
   {
    "duration": 11,
    "start_time": "2022-08-17T12:02:39.626Z"
   },
   {
    "duration": 22,
    "start_time": "2022-08-17T12:05:20.866Z"
   },
   {
    "duration": 12,
    "start_time": "2022-08-17T12:05:24.459Z"
   },
   {
    "duration": 7,
    "start_time": "2022-08-17T12:05:25.218Z"
   },
   {
    "duration": 9,
    "start_time": "2022-08-17T12:10:12.738Z"
   },
   {
    "duration": 65,
    "start_time": "2022-08-17T12:10:20.000Z"
   },
   {
    "duration": 28,
    "start_time": "2022-08-17T12:10:20.070Z"
   },
   {
    "duration": 143,
    "start_time": "2022-08-17T12:10:20.105Z"
   },
   {
    "duration": 208,
    "start_time": "2022-08-17T12:10:20.251Z"
   },
   {
    "duration": 66,
    "start_time": "2022-08-17T12:10:20.461Z"
   },
   {
    "duration": 247,
    "start_time": "2022-08-17T12:10:20.530Z"
   },
   {
    "duration": 16,
    "start_time": "2022-08-17T12:10:20.779Z"
   },
   {
    "duration": 22,
    "start_time": "2022-08-17T12:10:20.797Z"
   },
   {
    "duration": 21,
    "start_time": "2022-08-17T12:10:20.822Z"
   },
   {
    "duration": 57,
    "start_time": "2022-08-17T12:10:20.848Z"
   },
   {
    "duration": 0,
    "start_time": "2022-08-17T12:10:20.908Z"
   },
   {
    "duration": 15,
    "start_time": "2022-08-17T12:11:23.641Z"
   },
   {
    "duration": 18,
    "start_time": "2022-08-17T12:11:24.127Z"
   },
   {
    "duration": 58,
    "start_time": "2022-08-17T12:11:35.665Z"
   },
   {
    "duration": 203,
    "start_time": "2022-08-17T12:11:39.980Z"
   },
   {
    "duration": 11,
    "start_time": "2022-08-17T12:11:44.380Z"
   },
   {
    "duration": 19,
    "start_time": "2022-08-17T12:11:49.415Z"
   },
   {
    "duration": 61,
    "start_time": "2022-08-17T12:12:31.350Z"
   },
   {
    "duration": 7,
    "start_time": "2022-08-17T12:12:31.413Z"
   },
   {
    "duration": 140,
    "start_time": "2022-08-17T12:12:31.422Z"
   },
   {
    "duration": 149,
    "start_time": "2022-08-17T12:12:31.564Z"
   },
   {
    "duration": 41,
    "start_time": "2022-08-17T12:12:31.715Z"
   },
   {
    "duration": 198,
    "start_time": "2022-08-17T12:12:31.758Z"
   },
   {
    "duration": 24,
    "start_time": "2022-08-17T12:12:31.958Z"
   },
   {
    "duration": 28,
    "start_time": "2022-08-17T12:12:31.985Z"
   },
   {
    "duration": 10,
    "start_time": "2022-08-17T12:12:32.015Z"
   },
   {
    "duration": 24,
    "start_time": "2022-08-17T12:12:32.028Z"
   },
   {
    "duration": 12,
    "start_time": "2022-08-17T12:12:32.054Z"
   },
   {
    "duration": 8,
    "start_time": "2022-08-17T12:14:06.895Z"
   },
   {
    "duration": 6,
    "start_time": "2022-08-17T12:14:21.442Z"
   },
   {
    "duration": 9,
    "start_time": "2022-08-17T12:14:27.525Z"
   },
   {
    "duration": 9,
    "start_time": "2022-08-17T12:15:21.426Z"
   },
   {
    "duration": 20,
    "start_time": "2022-08-17T12:15:22.098Z"
   },
   {
    "duration": 8,
    "start_time": "2022-08-17T12:15:50.636Z"
   },
   {
    "duration": 15,
    "start_time": "2022-08-17T12:15:51.233Z"
   },
   {
    "duration": 9,
    "start_time": "2022-08-17T12:18:07.692Z"
   },
   {
    "duration": 15,
    "start_time": "2022-08-17T12:18:08.077Z"
   },
   {
    "duration": 7,
    "start_time": "2022-08-17T12:19:02.107Z"
   },
   {
    "duration": 11,
    "start_time": "2022-08-17T12:19:02.855Z"
   },
   {
    "duration": 10,
    "start_time": "2022-08-17T12:19:18.415Z"
   },
   {
    "duration": 9,
    "start_time": "2022-08-17T14:36:50.774Z"
   },
   {
    "duration": 10,
    "start_time": "2022-08-17T14:37:38.039Z"
   },
   {
    "duration": 9,
    "start_time": "2022-08-17T14:37:47.698Z"
   },
   {
    "duration": 88,
    "start_time": "2022-08-17T15:22:52.326Z"
   },
   {
    "duration": 63,
    "start_time": "2022-08-17T15:22:57.197Z"
   },
   {
    "duration": 1356,
    "start_time": "2022-08-17T15:23:41.945Z"
   },
   {
    "duration": 43,
    "start_time": "2022-08-17T15:23:43.303Z"
   },
   {
    "duration": 193,
    "start_time": "2022-08-17T15:23:43.348Z"
   },
   {
    "duration": 11,
    "start_time": "2022-08-17T15:23:43.543Z"
   },
   {
    "duration": 46,
    "start_time": "2022-08-17T15:23:43.556Z"
   },
   {
    "duration": 136,
    "start_time": "2022-08-17T15:23:43.604Z"
   },
   {
    "duration": 10,
    "start_time": "2022-08-17T15:23:43.742Z"
   },
   {
    "duration": 137,
    "start_time": "2022-08-17T15:23:43.768Z"
   },
   {
    "duration": 226,
    "start_time": "2022-08-17T15:23:43.907Z"
   },
   {
    "duration": 7,
    "start_time": "2022-08-17T15:23:44.138Z"
   },
   {
    "duration": 63,
    "start_time": "2022-08-17T15:23:44.147Z"
   },
   {
    "duration": 8,
    "start_time": "2022-08-17T15:23:44.212Z"
   },
   {
    "duration": 22,
    "start_time": "2022-08-17T15:23:44.222Z"
   },
   {
    "duration": 12,
    "start_time": "2022-08-17T15:23:44.268Z"
   },
   {
    "duration": 1516,
    "start_time": "2022-08-17T15:23:44.283Z"
   },
   {
    "duration": 1410,
    "start_time": "2022-08-17T15:23:45.801Z"
   },
   {
    "duration": 78,
    "start_time": "2022-08-17T15:23:47.212Z"
   },
   {
    "duration": 30,
    "start_time": "2022-08-17T15:23:47.292Z"
   },
   {
    "duration": 80,
    "start_time": "2022-08-17T15:23:47.324Z"
   },
   {
    "duration": 31,
    "start_time": "2022-08-17T15:23:47.406Z"
   },
   {
    "duration": 106,
    "start_time": "2022-08-17T15:23:47.439Z"
   },
   {
    "duration": 173,
    "start_time": "2022-08-17T15:23:47.547Z"
   },
   {
    "duration": 11,
    "start_time": "2022-08-17T15:23:47.722Z"
   },
   {
    "duration": 138,
    "start_time": "2022-08-17T15:23:47.735Z"
   },
   {
    "duration": 26,
    "start_time": "2022-08-17T15:23:47.879Z"
   },
   {
    "duration": 128,
    "start_time": "2022-08-17T15:23:47.907Z"
   },
   {
    "duration": 167,
    "start_time": "2022-08-17T15:23:48.037Z"
   },
   {
    "duration": 43,
    "start_time": "2022-08-17T15:23:48.209Z"
   },
   {
    "duration": 216,
    "start_time": "2022-08-17T15:23:48.267Z"
   },
   {
    "duration": 12,
    "start_time": "2022-08-17T15:23:48.485Z"
   },
   {
    "duration": 10,
    "start_time": "2022-08-17T15:23:48.499Z"
   },
   {
    "duration": 17,
    "start_time": "2022-08-17T15:23:48.511Z"
   },
   {
    "duration": 13,
    "start_time": "2022-08-17T15:23:48.530Z"
   },
   {
    "duration": 12,
    "start_time": "2022-08-17T15:23:48.545Z"
   },
   {
    "duration": 31,
    "start_time": "2022-08-17T15:23:48.559Z"
   },
   {
    "duration": 18,
    "start_time": "2022-08-17T15:26:26.865Z"
   },
   {
    "duration": 9,
    "start_time": "2022-08-17T15:27:42.824Z"
   },
   {
    "duration": 7,
    "start_time": "2022-08-17T15:29:07.819Z"
   },
   {
    "duration": 9,
    "start_time": "2022-08-17T15:29:11.759Z"
   },
   {
    "duration": 170,
    "start_time": "2022-08-17T15:29:44.111Z"
   },
   {
    "duration": 57,
    "start_time": "2022-08-17T15:29:50.335Z"
   },
   {
    "duration": 49,
    "start_time": "2022-08-17T15:30:15.865Z"
   },
   {
    "duration": 52,
    "start_time": "2022-08-17T15:30:19.500Z"
   },
   {
    "duration": 57,
    "start_time": "2022-08-17T15:32:04.588Z"
   },
   {
    "duration": 77,
    "start_time": "2022-08-17T15:32:52.963Z"
   },
   {
    "duration": 74,
    "start_time": "2022-08-17T15:33:10.525Z"
   },
   {
    "duration": 55,
    "start_time": "2022-08-17T15:33:14.612Z"
   },
   {
    "duration": 54,
    "start_time": "2022-08-17T15:33:24.696Z"
   },
   {
    "duration": 65,
    "start_time": "2022-08-17T15:33:31.146Z"
   },
   {
    "duration": 20,
    "start_time": "2022-08-17T15:33:43.867Z"
   },
   {
    "duration": 1583,
    "start_time": "2022-08-17T15:33:55.353Z"
   },
   {
    "duration": 65,
    "start_time": "2022-08-17T15:33:56.940Z"
   },
   {
    "duration": 245,
    "start_time": "2022-08-17T15:33:57.009Z"
   },
   {
    "duration": 29,
    "start_time": "2022-08-17T15:33:57.258Z"
   },
   {
    "duration": 92,
    "start_time": "2022-08-17T15:33:57.289Z"
   },
   {
    "duration": 175,
    "start_time": "2022-08-17T15:33:57.386Z"
   },
   {
    "duration": 40,
    "start_time": "2022-08-17T15:33:57.563Z"
   },
   {
    "duration": 126,
    "start_time": "2022-08-17T15:33:57.605Z"
   },
   {
    "duration": 233,
    "start_time": "2022-08-17T15:33:57.733Z"
   },
   {
    "duration": 16,
    "start_time": "2022-08-17T15:33:57.971Z"
   },
   {
    "duration": 57,
    "start_time": "2022-08-17T15:33:57.989Z"
   },
   {
    "duration": 8,
    "start_time": "2022-08-17T15:33:58.048Z"
   },
   {
    "duration": 40,
    "start_time": "2022-08-17T15:33:58.059Z"
   },
   {
    "duration": 21,
    "start_time": "2022-08-17T15:33:58.103Z"
   },
   {
    "duration": 1535,
    "start_time": "2022-08-17T15:33:58.126Z"
   },
   {
    "duration": 1506,
    "start_time": "2022-08-17T15:33:59.663Z"
   },
   {
    "duration": 105,
    "start_time": "2022-08-17T15:34:01.173Z"
   },
   {
    "duration": 39,
    "start_time": "2022-08-17T15:34:01.280Z"
   },
   {
    "duration": 111,
    "start_time": "2022-08-17T15:34:01.322Z"
   },
   {
    "duration": 65,
    "start_time": "2022-08-17T15:34:01.435Z"
   },
   {
    "duration": 116,
    "start_time": "2022-08-17T15:34:01.503Z"
   },
   {
    "duration": 181,
    "start_time": "2022-08-17T15:34:01.622Z"
   },
   {
    "duration": 14,
    "start_time": "2022-08-17T15:34:01.805Z"
   },
   {
    "duration": 89,
    "start_time": "2022-08-17T15:34:01.821Z"
   },
   {
    "duration": 62,
    "start_time": "2022-08-17T15:34:01.912Z"
   },
   {
    "duration": 155,
    "start_time": "2022-08-17T15:34:01.977Z"
   },
   {
    "duration": 175,
    "start_time": "2022-08-17T15:34:02.134Z"
   },
   {
    "duration": 59,
    "start_time": "2022-08-17T15:34:02.313Z"
   },
   {
    "duration": 215,
    "start_time": "2022-08-17T15:34:02.373Z"
   },
   {
    "duration": 9,
    "start_time": "2022-08-17T15:34:02.590Z"
   },
   {
    "duration": 45,
    "start_time": "2022-08-17T15:34:02.601Z"
   },
   {
    "duration": 32,
    "start_time": "2022-08-17T15:34:02.647Z"
   },
   {
    "duration": 133,
    "start_time": "2022-08-17T15:34:02.685Z"
   },
   {
    "duration": 44,
    "start_time": "2022-08-17T15:34:02.820Z"
   },
   {
    "duration": 223,
    "start_time": "2022-08-17T15:34:02.866Z"
   },
   {
    "duration": 0,
    "start_time": "2022-08-17T15:34:03.092Z"
   },
   {
    "duration": 0,
    "start_time": "2022-08-17T15:34:03.093Z"
   },
   {
    "duration": 7,
    "start_time": "2022-08-17T15:34:09.837Z"
   },
   {
    "duration": 1556,
    "start_time": "2022-08-17T15:34:39.478Z"
   },
   {
    "duration": 1511,
    "start_time": "2022-08-17T15:35:08.238Z"
   },
   {
    "duration": 321,
    "start_time": "2022-08-17T15:35:09.751Z"
   },
   {
    "duration": 192,
    "start_time": "2022-08-17T15:35:10.075Z"
   },
   {
    "duration": 27,
    "start_time": "2022-08-17T15:35:10.273Z"
   },
   {
    "duration": 38,
    "start_time": "2022-08-17T15:35:10.302Z"
   },
   {
    "duration": 171,
    "start_time": "2022-08-17T15:35:10.342Z"
   },
   {
    "duration": 9,
    "start_time": "2022-08-17T15:35:10.515Z"
   },
   {
    "duration": 113,
    "start_time": "2022-08-17T15:35:10.526Z"
   },
   {
    "duration": 234,
    "start_time": "2022-08-17T15:35:10.641Z"
   },
   {
    "duration": 11,
    "start_time": "2022-08-17T15:35:10.882Z"
   },
   {
    "duration": 45,
    "start_time": "2022-08-17T15:35:10.896Z"
   },
   {
    "duration": 7,
    "start_time": "2022-08-17T15:35:10.943Z"
   },
   {
    "duration": 33,
    "start_time": "2022-08-17T15:35:10.952Z"
   },
   {
    "duration": 18,
    "start_time": "2022-08-17T15:35:10.988Z"
   },
   {
    "duration": 1494,
    "start_time": "2022-08-17T15:35:11.008Z"
   },
   {
    "duration": 1331,
    "start_time": "2022-08-17T15:35:12.505Z"
   },
   {
    "duration": 102,
    "start_time": "2022-08-17T15:35:13.839Z"
   },
   {
    "duration": 44,
    "start_time": "2022-08-17T15:35:13.942Z"
   },
   {
    "duration": 63,
    "start_time": "2022-08-17T15:35:13.989Z"
   },
   {
    "duration": 46,
    "start_time": "2022-08-17T15:35:14.053Z"
   },
   {
    "duration": 100,
    "start_time": "2022-08-17T15:35:14.102Z"
   },
   {
    "duration": 181,
    "start_time": "2022-08-17T15:35:14.204Z"
   },
   {
    "duration": 16,
    "start_time": "2022-08-17T15:35:14.387Z"
   },
   {
    "duration": 101,
    "start_time": "2022-08-17T15:35:14.410Z"
   },
   {
    "duration": 7,
    "start_time": "2022-08-17T15:35:14.513Z"
   },
   {
    "duration": 143,
    "start_time": "2022-08-17T15:35:14.568Z"
   },
   {
    "duration": 152,
    "start_time": "2022-08-17T15:35:14.712Z"
   },
   {
    "duration": 56,
    "start_time": "2022-08-17T15:35:14.867Z"
   },
   {
    "duration": 201,
    "start_time": "2022-08-17T15:35:14.924Z"
   },
   {
    "duration": 4,
    "start_time": "2022-08-17T15:35:15.127Z"
   },
   {
    "duration": 8,
    "start_time": "2022-08-17T15:35:15.132Z"
   },
   {
    "duration": 29,
    "start_time": "2022-08-17T15:35:15.142Z"
   },
   {
    "duration": 25,
    "start_time": "2022-08-17T15:35:15.173Z"
   },
   {
    "duration": 15,
    "start_time": "2022-08-17T15:35:15.200Z"
   },
   {
    "duration": 10,
    "start_time": "2022-08-17T15:35:15.217Z"
   },
   {
    "duration": 6846,
    "start_time": "2022-08-17T15:35:15.229Z"
   },
   {
    "duration": 0,
    "start_time": "2022-08-17T15:35:22.079Z"
   },
   {
    "duration": 2494,
    "start_time": "2022-08-17T15:36:21.849Z"
   },
   {
    "duration": 7,
    "start_time": "2022-08-17T15:37:24.691Z"
   },
   {
    "duration": 10,
    "start_time": "2022-08-17T15:37:27.756Z"
   },
   {
    "duration": 7,
    "start_time": "2022-08-17T15:37:41.322Z"
   },
   {
    "duration": 62,
    "start_time": "2022-08-17T15:38:32.185Z"
   },
   {
    "duration": 47,
    "start_time": "2022-08-17T15:39:03.802Z"
   },
   {
    "duration": 193,
    "start_time": "2022-08-17T15:40:20.452Z"
   },
   {
    "duration": 226,
    "start_time": "2022-08-17T15:40:31.537Z"
   },
   {
    "duration": 207,
    "start_time": "2022-08-17T15:41:43.564Z"
   },
   {
    "duration": 9,
    "start_time": "2022-08-17T15:41:52.332Z"
   },
   {
    "duration": 5,
    "start_time": "2022-08-17T15:41:58.688Z"
   },
   {
    "duration": 6,
    "start_time": "2022-08-17T15:42:00.027Z"
   },
   {
    "duration": 9,
    "start_time": "2022-08-17T15:42:00.405Z"
   },
   {
    "duration": 14,
    "start_time": "2022-08-17T15:42:01.677Z"
   },
   {
    "duration": 11,
    "start_time": "2022-08-17T15:42:02.291Z"
   },
   {
    "duration": 2218,
    "start_time": "2022-08-17T15:42:11.461Z"
   },
   {
    "duration": 7,
    "start_time": "2022-08-17T15:42:29.553Z"
   },
   {
    "duration": 6,
    "start_time": "2022-08-17T15:42:34.351Z"
   },
   {
    "duration": 14,
    "start_time": "2022-08-17T15:42:35.364Z"
   },
   {
    "duration": 13,
    "start_time": "2022-08-17T15:42:53.876Z"
   },
   {
    "duration": 9,
    "start_time": "2022-08-17T15:43:00.290Z"
   },
   {
    "duration": 10,
    "start_time": "2022-08-17T15:43:00.835Z"
   },
   {
    "duration": 1378,
    "start_time": "2022-08-17T15:43:03.799Z"
   },
   {
    "duration": 7,
    "start_time": "2022-08-17T15:43:55.835Z"
   },
   {
    "duration": 11,
    "start_time": "2022-08-17T15:43:56.311Z"
   },
   {
    "duration": 189,
    "start_time": "2022-08-17T15:45:32.082Z"
   },
   {
    "duration": 196,
    "start_time": "2022-08-17T15:45:38.550Z"
   },
   {
    "duration": 11,
    "start_time": "2022-08-17T15:45:53.542Z"
   },
   {
    "duration": 27,
    "start_time": "2022-08-17T15:46:55.470Z"
   },
   {
    "duration": 15,
    "start_time": "2022-08-17T15:47:14.987Z"
   },
   {
    "duration": 50,
    "start_time": "2022-08-17T15:47:32.432Z"
   },
   {
    "duration": 6,
    "start_time": "2022-08-17T15:47:32.949Z"
   },
   {
    "duration": 118,
    "start_time": "2022-08-17T15:47:33.110Z"
   },
   {
    "duration": 145,
    "start_time": "2022-08-17T15:47:33.423Z"
   },
   {
    "duration": 59,
    "start_time": "2022-08-17T15:47:33.758Z"
   },
   {
    "duration": 198,
    "start_time": "2022-08-17T15:47:35.020Z"
   },
   {
    "duration": 5,
    "start_time": "2022-08-17T15:47:36.133Z"
   },
   {
    "duration": 7,
    "start_time": "2022-08-17T15:47:36.890Z"
   },
   {
    "duration": 11,
    "start_time": "2022-08-17T15:47:37.321Z"
   },
   {
    "duration": 9,
    "start_time": "2022-08-17T15:47:39.019Z"
   },
   {
    "duration": 10,
    "start_time": "2022-08-17T15:47:39.344Z"
   },
   {
    "duration": 7,
    "start_time": "2022-08-17T15:47:40.394Z"
   },
   {
    "duration": 10,
    "start_time": "2022-08-17T15:47:41.124Z"
   },
   {
    "duration": 1255,
    "start_time": "2022-08-17T15:47:42.521Z"
   },
   {
    "duration": 12,
    "start_time": "2022-08-17T15:47:55.282Z"
   },
   {
    "duration": 7,
    "start_time": "2022-08-17T15:47:55.939Z"
   },
   {
    "duration": 14,
    "start_time": "2022-08-17T15:48:15.713Z"
   },
   {
    "duration": 25,
    "start_time": "2022-08-17T15:48:44.774Z"
   },
   {
    "duration": 1547,
    "start_time": "2022-08-17T15:49:10.564Z"
   },
   {
    "duration": 1235,
    "start_time": "2022-08-17T15:49:34.197Z"
   },
   {
    "duration": 8,
    "start_time": "2022-08-17T15:49:38.570Z"
   },
   {
    "duration": 11,
    "start_time": "2022-08-17T15:49:49.970Z"
   },
   {
    "duration": 7,
    "start_time": "2022-08-17T15:49:55.431Z"
   },
   {
    "duration": 1320,
    "start_time": "2022-08-17T15:50:12.773Z"
   },
   {
    "duration": 5,
    "start_time": "2022-08-17T15:50:31.616Z"
   },
   {
    "duration": 5,
    "start_time": "2022-08-17T15:50:33.508Z"
   },
   {
    "duration": 6,
    "start_time": "2022-08-17T15:50:35.580Z"
   },
   {
    "duration": 1574,
    "start_time": "2022-08-17T15:50:37.351Z"
   },
   {
    "duration": 5,
    "start_time": "2022-08-17T15:50:50.207Z"
   },
   {
    "duration": 1230,
    "start_time": "2022-08-17T15:51:34.078Z"
   },
   {
    "duration": 1298,
    "start_time": "2022-08-17T15:51:43.275Z"
   },
   {
    "duration": 7,
    "start_time": "2022-08-17T15:53:32.419Z"
   },
   {
    "duration": 10,
    "start_time": "2022-08-17T15:53:33.151Z"
   },
   {
    "duration": 4,
    "start_time": "2022-08-17T15:53:50.497Z"
   },
   {
    "duration": 10,
    "start_time": "2022-08-17T15:54:04.955Z"
   },
   {
    "duration": 1621,
    "start_time": "2022-08-17T15:54:21.517Z"
   },
   {
    "duration": 1466,
    "start_time": "2022-08-17T15:54:42.321Z"
   },
   {
    "duration": 48,
    "start_time": "2022-08-17T15:54:43.790Z"
   },
   {
    "duration": 188,
    "start_time": "2022-08-17T15:54:43.840Z"
   },
   {
    "duration": 10,
    "start_time": "2022-08-17T15:54:44.030Z"
   },
   {
    "duration": 49,
    "start_time": "2022-08-17T15:54:44.042Z"
   },
   {
    "duration": 146,
    "start_time": "2022-08-17T15:54:44.097Z"
   },
   {
    "duration": 11,
    "start_time": "2022-08-17T15:54:44.245Z"
   },
   {
    "duration": 120,
    "start_time": "2022-08-17T15:54:44.271Z"
   },
   {
    "duration": 231,
    "start_time": "2022-08-17T15:54:44.398Z"
   },
   {
    "duration": 7,
    "start_time": "2022-08-17T15:54:44.632Z"
   },
   {
    "duration": 63,
    "start_time": "2022-08-17T15:54:44.642Z"
   },
   {
    "duration": 9,
    "start_time": "2022-08-17T15:54:44.710Z"
   },
   {
    "duration": 24,
    "start_time": "2022-08-17T15:54:44.721Z"
   },
   {
    "duration": 30,
    "start_time": "2022-08-17T15:54:44.747Z"
   },
   {
    "duration": 1529,
    "start_time": "2022-08-17T15:54:44.784Z"
   },
   {
    "duration": 1446,
    "start_time": "2022-08-17T15:54:46.315Z"
   },
   {
    "duration": 80,
    "start_time": "2022-08-17T15:54:47.763Z"
   },
   {
    "duration": 60,
    "start_time": "2022-08-17T15:54:47.844Z"
   },
   {
    "duration": 70,
    "start_time": "2022-08-17T15:54:47.905Z"
   },
   {
    "duration": 47,
    "start_time": "2022-08-17T15:54:47.979Z"
   },
   {
    "duration": 90,
    "start_time": "2022-08-17T15:54:48.028Z"
   },
   {
    "duration": 179,
    "start_time": "2022-08-17T15:54:48.120Z"
   },
   {
    "duration": 11,
    "start_time": "2022-08-17T15:54:48.301Z"
   },
   {
    "duration": 94,
    "start_time": "2022-08-17T15:54:48.313Z"
   },
   {
    "duration": 58,
    "start_time": "2022-08-17T15:54:48.409Z"
   },
   {
    "duration": 157,
    "start_time": "2022-08-17T15:54:48.473Z"
   },
   {
    "duration": 175,
    "start_time": "2022-08-17T15:54:48.632Z"
   },
   {
    "duration": 59,
    "start_time": "2022-08-17T15:54:48.810Z"
   },
   {
    "duration": 209,
    "start_time": "2022-08-17T15:54:48.878Z"
   },
   {
    "duration": 6,
    "start_time": "2022-08-17T15:54:49.089Z"
   },
   {
    "duration": 14,
    "start_time": "2022-08-17T15:54:49.098Z"
   },
   {
    "duration": 28,
    "start_time": "2022-08-17T15:54:49.114Z"
   },
   {
    "duration": 17,
    "start_time": "2022-08-17T15:54:49.144Z"
   },
   {
    "duration": 47,
    "start_time": "2022-08-17T15:54:49.163Z"
   },
   {
    "duration": 2073,
    "start_time": "2022-08-17T15:54:49.213Z"
   },
   {
    "duration": 0,
    "start_time": "2022-08-17T15:54:51.288Z"
   },
   {
    "duration": 0,
    "start_time": "2022-08-17T15:54:51.289Z"
   },
   {
    "duration": 0,
    "start_time": "2022-08-17T15:54:51.291Z"
   },
   {
    "duration": 0,
    "start_time": "2022-08-17T15:54:51.292Z"
   },
   {
    "duration": 0,
    "start_time": "2022-08-17T15:54:51.294Z"
   },
   {
    "duration": 5,
    "start_time": "2022-08-17T15:55:02.796Z"
   },
   {
    "duration": 8,
    "start_time": "2022-08-17T15:55:04.994Z"
   },
   {
    "duration": 55,
    "start_time": "2022-08-17T15:55:33.747Z"
   },
   {
    "duration": 54,
    "start_time": "2022-08-17T15:55:35.605Z"
   },
   {
    "duration": 7,
    "start_time": "2022-08-17T15:55:36.219Z"
   },
   {
    "duration": 134,
    "start_time": "2022-08-17T15:55:36.420Z"
   },
   {
    "duration": 188,
    "start_time": "2022-08-17T15:55:36.846Z"
   },
   {
    "duration": 52,
    "start_time": "2022-08-17T15:55:38.253Z"
   },
   {
    "duration": 226,
    "start_time": "2022-08-17T15:55:39.453Z"
   },
   {
    "duration": 12,
    "start_time": "2022-08-17T15:55:40.881Z"
   },
   {
    "duration": 12,
    "start_time": "2022-08-17T15:55:41.366Z"
   },
   {
    "duration": 10,
    "start_time": "2022-08-17T15:55:41.936Z"
   },
   {
    "duration": 11,
    "start_time": "2022-08-17T15:55:43.194Z"
   },
   {
    "duration": 13,
    "start_time": "2022-08-17T15:55:43.861Z"
   },
   {
    "duration": 5,
    "start_time": "2022-08-17T15:55:51.916Z"
   },
   {
    "duration": 13,
    "start_time": "2022-08-17T15:56:00.380Z"
   },
   {
    "duration": 1259,
    "start_time": "2022-08-18T07:18:34.477Z"
   },
   {
    "duration": 33,
    "start_time": "2022-08-18T07:18:35.738Z"
   },
   {
    "duration": 452,
    "start_time": "2022-08-18T07:18:35.773Z"
   },
   {
    "duration": 8,
    "start_time": "2022-08-18T07:18:36.227Z"
   },
   {
    "duration": 21,
    "start_time": "2022-08-18T07:18:36.237Z"
   },
   {
    "duration": 123,
    "start_time": "2022-08-18T07:18:36.259Z"
   },
   {
    "duration": 8,
    "start_time": "2022-08-18T07:18:36.383Z"
   },
   {
    "duration": 78,
    "start_time": "2022-08-18T07:18:36.393Z"
   },
   {
    "duration": 164,
    "start_time": "2022-08-18T07:18:36.473Z"
   },
   {
    "duration": 6,
    "start_time": "2022-08-18T07:18:36.640Z"
   },
   {
    "duration": 32,
    "start_time": "2022-08-18T07:18:36.647Z"
   },
   {
    "duration": 6,
    "start_time": "2022-08-18T07:18:36.680Z"
   },
   {
    "duration": 24,
    "start_time": "2022-08-18T07:18:36.687Z"
   },
   {
    "duration": 28,
    "start_time": "2022-08-18T07:18:36.713Z"
   },
   {
    "duration": 1056,
    "start_time": "2022-08-18T07:18:36.743Z"
   },
   {
    "duration": 919,
    "start_time": "2022-08-18T07:18:37.800Z"
   },
   {
    "duration": 58,
    "start_time": "2022-08-18T07:18:38.721Z"
   },
   {
    "duration": 23,
    "start_time": "2022-08-18T07:18:38.781Z"
   },
   {
    "duration": 66,
    "start_time": "2022-08-18T07:18:38.805Z"
   },
   {
    "duration": 40,
    "start_time": "2022-08-18T07:18:38.873Z"
   },
   {
    "duration": 94,
    "start_time": "2022-08-18T07:18:38.915Z"
   },
   {
    "duration": 190,
    "start_time": "2022-08-18T07:18:39.010Z"
   },
   {
    "duration": 9,
    "start_time": "2022-08-18T07:18:39.201Z"
   },
   {
    "duration": 43,
    "start_time": "2022-08-18T07:18:39.211Z"
   },
   {
    "duration": 5,
    "start_time": "2022-08-18T07:18:39.256Z"
   },
   {
    "duration": 148,
    "start_time": "2022-08-18T07:18:39.262Z"
   },
   {
    "duration": 105,
    "start_time": "2022-08-18T07:18:39.411Z"
   },
   {
    "duration": 39,
    "start_time": "2022-08-18T07:18:39.519Z"
   },
   {
    "duration": 162,
    "start_time": "2022-08-18T07:18:39.560Z"
   },
   {
    "duration": 4,
    "start_time": "2022-08-18T07:18:39.724Z"
   },
   {
    "duration": 11,
    "start_time": "2022-08-18T07:18:39.730Z"
   },
   {
    "duration": 24,
    "start_time": "2022-08-18T07:18:39.742Z"
   },
   {
    "duration": 8,
    "start_time": "2022-08-18T07:18:39.767Z"
   },
   {
    "duration": 11,
    "start_time": "2022-08-18T07:18:39.777Z"
   },
   {
    "duration": 8,
    "start_time": "2022-08-18T07:18:39.790Z"
   },
   {
    "duration": 10,
    "start_time": "2022-08-18T07:18:39.800Z"
   },
   {
    "duration": 5,
    "start_time": "2022-08-18T08:06:51.548Z"
   },
   {
    "duration": 5,
    "start_time": "2022-08-18T08:06:52.833Z"
   },
   {
    "duration": 8,
    "start_time": "2022-08-18T08:06:55.588Z"
   },
   {
    "duration": 1357,
    "start_time": "2022-08-18T09:14:12.379Z"
   },
   {
    "duration": 79,
    "start_time": "2022-08-18T09:14:13.739Z"
   },
   {
    "duration": 753,
    "start_time": "2022-08-18T09:14:13.820Z"
   },
   {
    "duration": 8,
    "start_time": "2022-08-18T09:14:14.575Z"
   },
   {
    "duration": 21,
    "start_time": "2022-08-18T09:14:14.585Z"
   },
   {
    "duration": 128,
    "start_time": "2022-08-18T09:14:14.607Z"
   },
   {
    "duration": 8,
    "start_time": "2022-08-18T09:14:14.737Z"
   },
   {
    "duration": 88,
    "start_time": "2022-08-18T09:14:14.746Z"
   },
   {
    "duration": 178,
    "start_time": "2022-08-18T09:14:14.836Z"
   },
   {
    "duration": 7,
    "start_time": "2022-08-18T09:14:15.016Z"
   },
   {
    "duration": 40,
    "start_time": "2022-08-18T09:14:15.024Z"
   },
   {
    "duration": 8,
    "start_time": "2022-08-18T09:14:15.065Z"
   },
   {
    "duration": 14,
    "start_time": "2022-08-18T09:14:15.087Z"
   },
   {
    "duration": 9,
    "start_time": "2022-08-18T09:14:15.103Z"
   },
   {
    "duration": 1277,
    "start_time": "2022-08-18T09:14:15.113Z"
   },
   {
    "duration": 1084,
    "start_time": "2022-08-18T09:14:16.392Z"
   },
   {
    "duration": 69,
    "start_time": "2022-08-18T09:14:17.478Z"
   },
   {
    "duration": 40,
    "start_time": "2022-08-18T09:14:17.549Z"
   },
   {
    "duration": 60,
    "start_time": "2022-08-18T09:14:17.591Z"
   },
   {
    "duration": 40,
    "start_time": "2022-08-18T09:14:17.653Z"
   },
   {
    "duration": 86,
    "start_time": "2022-08-18T09:14:17.695Z"
   },
   {
    "duration": 146,
    "start_time": "2022-08-18T09:14:17.783Z"
   },
   {
    "duration": 9,
    "start_time": "2022-08-18T09:14:17.931Z"
   },
   {
    "duration": 71,
    "start_time": "2022-08-18T09:14:17.942Z"
   },
   {
    "duration": 12,
    "start_time": "2022-08-18T09:14:18.015Z"
   },
   {
    "duration": 144,
    "start_time": "2022-08-18T09:14:18.029Z"
   },
   {
    "duration": 115,
    "start_time": "2022-08-18T09:14:18.174Z"
   },
   {
    "duration": 35,
    "start_time": "2022-08-18T09:14:18.292Z"
   },
   {
    "duration": 171,
    "start_time": "2022-08-18T09:14:18.329Z"
   },
   {
    "duration": 4,
    "start_time": "2022-08-18T09:14:18.502Z"
   },
   {
    "duration": 29,
    "start_time": "2022-08-18T09:14:18.508Z"
   },
   {
    "duration": 40,
    "start_time": "2022-08-18T09:14:18.539Z"
   },
   {
    "duration": 33,
    "start_time": "2022-08-18T09:14:18.581Z"
   },
   {
    "duration": 13,
    "start_time": "2022-08-18T09:14:18.616Z"
   },
   {
    "duration": 22,
    "start_time": "2022-08-18T09:14:18.631Z"
   },
   {
    "duration": 42,
    "start_time": "2022-08-18T09:14:18.654Z"
   },
   {
    "duration": 17,
    "start_time": "2022-08-18T16:12:25.622Z"
   },
   {
    "duration": 14,
    "start_time": "2022-08-18T16:13:04.621Z"
   },
   {
    "duration": 18,
    "start_time": "2022-08-18T16:13:09.579Z"
   },
   {
    "duration": 24,
    "start_time": "2022-08-18T16:13:45.116Z"
   },
   {
    "duration": 9,
    "start_time": "2022-08-18T16:13:50.239Z"
   },
   {
    "duration": 12,
    "start_time": "2022-08-18T16:13:53.925Z"
   },
   {
    "duration": 1349,
    "start_time": "2022-08-18T16:16:22.576Z"
   },
   {
    "duration": 41,
    "start_time": "2022-08-18T16:16:23.927Z"
   },
   {
    "duration": 237,
    "start_time": "2022-08-18T16:16:23.969Z"
   },
   {
    "duration": 21,
    "start_time": "2022-08-18T16:16:24.210Z"
   },
   {
    "duration": 37,
    "start_time": "2022-08-18T16:16:24.232Z"
   },
   {
    "duration": 160,
    "start_time": "2022-08-18T16:16:24.270Z"
   },
   {
    "duration": 9,
    "start_time": "2022-08-18T16:16:24.438Z"
   },
   {
    "duration": 96,
    "start_time": "2022-08-18T16:16:24.448Z"
   },
   {
    "duration": 190,
    "start_time": "2022-08-18T16:16:24.546Z"
   },
   {
    "duration": 8,
    "start_time": "2022-08-18T16:16:24.739Z"
   },
   {
    "duration": 32,
    "start_time": "2022-08-18T16:16:24.749Z"
   },
   {
    "duration": 7,
    "start_time": "2022-08-18T16:16:24.782Z"
   },
   {
    "duration": 62,
    "start_time": "2022-08-18T16:16:24.794Z"
   },
   {
    "duration": 5,
    "start_time": "2022-08-18T16:16:24.857Z"
   },
   {
    "duration": 1382,
    "start_time": "2022-08-18T16:16:24.863Z"
   },
   {
    "duration": 1359,
    "start_time": "2022-08-18T16:16:26.246Z"
   },
   {
    "duration": 98,
    "start_time": "2022-08-18T16:16:27.608Z"
   },
   {
    "duration": 32,
    "start_time": "2022-08-18T16:16:27.708Z"
   },
   {
    "duration": 60,
    "start_time": "2022-08-18T16:16:27.746Z"
   },
   {
    "duration": 45,
    "start_time": "2022-08-18T16:16:27.812Z"
   },
   {
    "duration": 87,
    "start_time": "2022-08-18T16:16:27.859Z"
   },
   {
    "duration": 193,
    "start_time": "2022-08-18T16:16:27.948Z"
   },
   {
    "duration": 12,
    "start_time": "2022-08-18T16:16:28.142Z"
   },
   {
    "duration": 88,
    "start_time": "2022-08-18T16:16:28.155Z"
   },
   {
    "duration": 7,
    "start_time": "2022-08-18T16:16:28.246Z"
   },
   {
    "duration": 142,
    "start_time": "2022-08-18T16:16:28.254Z"
   },
   {
    "duration": 120,
    "start_time": "2022-08-18T16:16:28.397Z"
   },
   {
    "duration": 42,
    "start_time": "2022-08-18T16:16:28.520Z"
   },
   {
    "duration": 193,
    "start_time": "2022-08-18T16:16:28.564Z"
   },
   {
    "duration": 3,
    "start_time": "2022-08-18T16:16:28.759Z"
   },
   {
    "duration": 18,
    "start_time": "2022-08-18T16:16:28.764Z"
   },
   {
    "duration": 78,
    "start_time": "2022-08-18T16:16:28.784Z"
   },
   {
    "duration": 21,
    "start_time": "2022-08-18T16:16:28.863Z"
   },
   {
    "duration": 31,
    "start_time": "2022-08-18T16:16:28.893Z"
   },
   {
    "duration": 28,
    "start_time": "2022-08-18T16:16:28.925Z"
   },
   {
    "duration": 10,
    "start_time": "2022-08-18T16:16:28.955Z"
   },
   {
    "duration": 10,
    "start_time": "2022-08-18T16:16:28.967Z"
   },
   {
    "duration": 19,
    "start_time": "2022-08-18T16:16:28.978Z"
   },
   {
    "duration": 53,
    "start_time": "2022-08-18T16:16:28.998Z"
   },
   {
    "duration": 1506,
    "start_time": "2022-08-18T18:29:41.544Z"
   },
   {
    "duration": 54,
    "start_time": "2022-08-18T18:29:43.052Z"
   },
   {
    "duration": 744,
    "start_time": "2022-08-18T18:29:43.108Z"
   },
   {
    "duration": 11,
    "start_time": "2022-08-18T18:29:43.854Z"
   },
   {
    "duration": 24,
    "start_time": "2022-08-18T18:29:43.868Z"
   },
   {
    "duration": 141,
    "start_time": "2022-08-18T18:29:43.894Z"
   },
   {
    "duration": 9,
    "start_time": "2022-08-18T18:29:44.037Z"
   },
   {
    "duration": 100,
    "start_time": "2022-08-18T18:29:44.048Z"
   },
   {
    "duration": 203,
    "start_time": "2022-08-18T18:29:44.150Z"
   },
   {
    "duration": 8,
    "start_time": "2022-08-18T18:29:44.354Z"
   },
   {
    "duration": 52,
    "start_time": "2022-08-18T18:29:44.363Z"
   },
   {
    "duration": 7,
    "start_time": "2022-08-18T18:29:44.417Z"
   },
   {
    "duration": 19,
    "start_time": "2022-08-18T18:29:44.426Z"
   },
   {
    "duration": 6,
    "start_time": "2022-08-18T18:29:44.448Z"
   },
   {
    "duration": 1286,
    "start_time": "2022-08-18T18:29:44.456Z"
   },
   {
    "duration": 1173,
    "start_time": "2022-08-18T18:29:45.744Z"
   },
   {
    "duration": 87,
    "start_time": "2022-08-18T18:29:46.919Z"
   },
   {
    "duration": 31,
    "start_time": "2022-08-18T18:29:47.008Z"
   },
   {
    "duration": 78,
    "start_time": "2022-08-18T18:29:47.042Z"
   },
   {
    "duration": 38,
    "start_time": "2022-08-18T18:29:47.122Z"
   },
   {
    "duration": 94,
    "start_time": "2022-08-18T18:29:47.162Z"
   },
   {
    "duration": 175,
    "start_time": "2022-08-18T18:29:47.257Z"
   },
   {
    "duration": 13,
    "start_time": "2022-08-18T18:29:47.434Z"
   },
   {
    "duration": 88,
    "start_time": "2022-08-18T18:29:47.449Z"
   },
   {
    "duration": 7,
    "start_time": "2022-08-18T18:29:47.592Z"
   },
   {
    "duration": 128,
    "start_time": "2022-08-18T18:29:47.601Z"
   },
   {
    "duration": 164,
    "start_time": "2022-08-18T18:29:47.731Z"
   },
   {
    "duration": 42,
    "start_time": "2022-08-18T18:29:47.897Z"
   },
   {
    "duration": 203,
    "start_time": "2022-08-18T18:29:47.941Z"
   },
   {
    "duration": 5,
    "start_time": "2022-08-18T18:29:48.145Z"
   },
   {
    "duration": 7,
    "start_time": "2022-08-18T18:29:48.151Z"
   },
   {
    "duration": 18,
    "start_time": "2022-08-18T18:29:48.159Z"
   },
   {
    "duration": 21,
    "start_time": "2022-08-18T18:29:48.178Z"
   },
   {
    "duration": 9,
    "start_time": "2022-08-18T18:29:48.201Z"
   },
   {
    "duration": 12,
    "start_time": "2022-08-18T18:29:48.212Z"
   },
   {
    "duration": 14,
    "start_time": "2022-08-18T18:29:48.226Z"
   },
   {
    "duration": 9,
    "start_time": "2022-08-18T18:29:48.241Z"
   },
   {
    "duration": 42,
    "start_time": "2022-08-18T18:29:48.252Z"
   },
   {
    "duration": 13,
    "start_time": "2022-08-18T18:29:48.295Z"
   },
   {
    "duration": 8,
    "start_time": "2022-08-18T18:48:03.582Z"
   },
   {
    "duration": 1395,
    "start_time": "2022-08-18T18:54:17.283Z"
   },
   {
    "duration": 45,
    "start_time": "2022-08-18T18:54:18.680Z"
   },
   {
    "duration": 189,
    "start_time": "2022-08-18T18:54:18.727Z"
   },
   {
    "duration": 11,
    "start_time": "2022-08-18T18:54:18.919Z"
   },
   {
    "duration": 24,
    "start_time": "2022-08-18T18:54:18.932Z"
   },
   {
    "duration": 157,
    "start_time": "2022-08-18T18:54:18.958Z"
   },
   {
    "duration": 10,
    "start_time": "2022-08-18T18:54:19.117Z"
   },
   {
    "duration": 112,
    "start_time": "2022-08-18T18:54:19.129Z"
   },
   {
    "duration": 229,
    "start_time": "2022-08-18T18:54:19.243Z"
   },
   {
    "duration": 16,
    "start_time": "2022-08-18T18:54:19.476Z"
   },
   {
    "duration": 41,
    "start_time": "2022-08-18T18:54:19.494Z"
   },
   {
    "duration": 8,
    "start_time": "2022-08-18T18:54:19.537Z"
   },
   {
    "duration": 46,
    "start_time": "2022-08-18T18:54:19.546Z"
   },
   {
    "duration": 5,
    "start_time": "2022-08-18T18:54:19.594Z"
   },
   {
    "duration": 1443,
    "start_time": "2022-08-18T18:54:19.602Z"
   },
   {
    "duration": 1445,
    "start_time": "2022-08-18T18:54:21.048Z"
   },
   {
    "duration": 98,
    "start_time": "2022-08-18T18:54:22.496Z"
   },
   {
    "duration": 32,
    "start_time": "2022-08-18T18:54:22.596Z"
   },
   {
    "duration": 79,
    "start_time": "2022-08-18T18:54:22.630Z"
   },
   {
    "duration": 34,
    "start_time": "2022-08-18T18:54:22.711Z"
   },
   {
    "duration": 99,
    "start_time": "2022-08-18T18:54:22.748Z"
   },
   {
    "duration": 186,
    "start_time": "2022-08-18T18:54:22.849Z"
   },
   {
    "duration": 11,
    "start_time": "2022-08-18T18:54:23.037Z"
   },
   {
    "duration": 70,
    "start_time": "2022-08-18T18:54:23.050Z"
   },
   {
    "duration": 7,
    "start_time": "2022-08-18T18:54:23.122Z"
   },
   {
    "duration": 198,
    "start_time": "2022-08-18T18:54:23.131Z"
   },
   {
    "duration": 152,
    "start_time": "2022-08-18T18:54:23.332Z"
   },
   {
    "duration": 63,
    "start_time": "2022-08-18T18:54:23.491Z"
   },
   {
    "duration": 213,
    "start_time": "2022-08-18T18:54:23.557Z"
   },
   {
    "duration": 5,
    "start_time": "2022-08-18T18:54:23.772Z"
   },
   {
    "duration": 17,
    "start_time": "2022-08-18T18:54:23.779Z"
   },
   {
    "duration": 17,
    "start_time": "2022-08-18T18:54:23.798Z"
   },
   {
    "duration": 14,
    "start_time": "2022-08-18T18:54:23.816Z"
   },
   {
    "duration": 11,
    "start_time": "2022-08-18T18:54:23.832Z"
   },
   {
    "duration": 48,
    "start_time": "2022-08-18T18:54:23.846Z"
   },
   {
    "duration": 18,
    "start_time": "2022-08-18T18:54:23.896Z"
   },
   {
    "duration": 11,
    "start_time": "2022-08-18T18:54:23.916Z"
   },
   {
    "duration": 12,
    "start_time": "2022-08-18T18:54:23.929Z"
   },
   {
    "duration": 51,
    "start_time": "2022-08-18T18:54:23.943Z"
   },
   {
    "duration": 1303,
    "start_time": "2022-08-19T09:09:58.254Z"
   },
   {
    "duration": 44,
    "start_time": "2022-08-19T09:09:59.559Z"
   },
   {
    "duration": 468,
    "start_time": "2022-08-19T09:09:59.605Z"
   },
   {
    "duration": 12,
    "start_time": "2022-08-19T09:10:00.076Z"
   },
   {
    "duration": 31,
    "start_time": "2022-08-19T09:10:00.090Z"
   },
   {
    "duration": 114,
    "start_time": "2022-08-19T09:10:00.123Z"
   },
   {
    "duration": 8,
    "start_time": "2022-08-19T09:10:00.238Z"
   },
   {
    "duration": 104,
    "start_time": "2022-08-19T09:10:00.248Z"
   },
   {
    "duration": 191,
    "start_time": "2022-08-19T09:10:00.354Z"
   },
   {
    "duration": 8,
    "start_time": "2022-08-19T09:10:00.548Z"
   },
   {
    "duration": 48,
    "start_time": "2022-08-19T09:10:00.558Z"
   },
   {
    "duration": 7,
    "start_time": "2022-08-19T09:10:00.608Z"
   },
   {
    "duration": 20,
    "start_time": "2022-08-19T09:10:00.617Z"
   },
   {
    "duration": 8,
    "start_time": "2022-08-19T09:10:00.639Z"
   },
   {
    "duration": 1284,
    "start_time": "2022-08-19T09:10:00.648Z"
   },
   {
    "duration": 1032,
    "start_time": "2022-08-19T09:10:01.934Z"
   },
   {
    "duration": 79,
    "start_time": "2022-08-19T09:10:02.968Z"
   },
   {
    "duration": 27,
    "start_time": "2022-08-19T09:10:03.048Z"
   },
   {
    "duration": 66,
    "start_time": "2022-08-19T09:10:03.077Z"
   },
   {
    "duration": 27,
    "start_time": "2022-08-19T09:10:03.144Z"
   },
   {
    "duration": 95,
    "start_time": "2022-08-19T09:10:03.173Z"
   },
   {
    "duration": 264,
    "start_time": "2022-08-19T09:10:03.270Z"
   },
   {
    "duration": 11,
    "start_time": "2022-08-19T09:10:03.535Z"
   },
   {
    "duration": 63,
    "start_time": "2022-08-19T09:10:03.548Z"
   },
   {
    "duration": 6,
    "start_time": "2022-08-19T09:10:03.613Z"
   },
   {
    "duration": 140,
    "start_time": "2022-08-19T09:10:03.620Z"
   },
   {
    "duration": 127,
    "start_time": "2022-08-19T09:10:03.761Z"
   },
   {
    "duration": 46,
    "start_time": "2022-08-19T09:10:03.890Z"
   },
   {
    "duration": 172,
    "start_time": "2022-08-19T09:10:03.938Z"
   },
   {
    "duration": 4,
    "start_time": "2022-08-19T09:10:04.111Z"
   },
   {
    "duration": 9,
    "start_time": "2022-08-19T09:10:04.117Z"
   },
   {
    "duration": 18,
    "start_time": "2022-08-19T09:10:04.128Z"
   },
   {
    "duration": 9,
    "start_time": "2022-08-19T09:10:04.147Z"
   },
   {
    "duration": 15,
    "start_time": "2022-08-19T09:10:04.157Z"
   },
   {
    "duration": 7,
    "start_time": "2022-08-19T09:10:04.174Z"
   },
   {
    "duration": 10,
    "start_time": "2022-08-19T09:10:04.200Z"
   },
   {
    "duration": 11,
    "start_time": "2022-08-19T09:10:04.211Z"
   },
   {
    "duration": 16,
    "start_time": "2022-08-19T09:10:04.223Z"
   },
   {
    "duration": 18,
    "start_time": "2022-08-19T09:10:04.240Z"
   }
  ],
  "kernelspec": {
   "display_name": "Python 3 (ipykernel)",
   "language": "python",
   "name": "python3"
  },
  "language_info": {
   "codemirror_mode": {
    "name": "ipython",
    "version": 3
   },
   "file_extension": ".py",
   "mimetype": "text/x-python",
   "name": "python",
   "nbconvert_exporter": "python",
   "pygments_lexer": "ipython3",
   "version": "3.9.13"
  },
  "nbTranslate": {
   "displayLangs": [
    "ru",
    "en"
   ],
   "hotkey": "alt-t",
   "langInMainMenu": true,
   "sourceLang": "ru",
   "targetLang": "en",
   "useGoogleTranslate": true
  },
  "toc": {
   "base_numbering": 1,
   "nav_menu": {},
   "number_sections": true,
   "sideBar": true,
   "skip_h1_title": true,
   "title_cell": "Table of Contents",
   "title_sidebar": "Contents",
   "toc_cell": false,
   "toc_position": {
    "height": "calc(100% - 180px)",
    "left": "10px",
    "top": "150px",
    "width": "227.173px"
   },
   "toc_section_display": true,
   "toc_window_display": true
  },
  "varInspector": {
   "cols": {
    "lenName": 16,
    "lenType": 16,
    "lenVar": 40
   },
   "kernels_config": {
    "python": {
     "delete_cmd_postfix": "",
     "delete_cmd_prefix": "del ",
     "library": "var_list.py",
     "varRefreshCmd": "print(var_dic_list())"
    },
    "r": {
     "delete_cmd_postfix": ") ",
     "delete_cmd_prefix": "rm(",
     "library": "var_list.r",
     "varRefreshCmd": "cat(var_dic_list()) "
    }
   },
   "types_to_exclude": [
    "module",
    "function",
    "builtin_function_or_method",
    "instance",
    "_Feature"
   ],
   "window_display": false
  }
 },
 "nbformat": 4,
 "nbformat_minor": 2
}
