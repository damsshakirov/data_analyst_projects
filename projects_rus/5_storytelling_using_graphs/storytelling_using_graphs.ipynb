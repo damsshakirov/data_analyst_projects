{
 "cells": [
  {
   "cell_type": "markdown",
   "metadata": {},
   "source": [
    "# Рынок заведений общественного питания Москвы"
   ]
  },
  {
   "cell_type": "markdown",
   "metadata": {},
   "source": [
    "**Цель проекта**\n",
    "\n",
    "1. Изучить характеристики заведений общественного питания (особенности сетевых и несетевых заведений, число посадочных мест)\n",
    "2. Исследовать наиболее и наименее популярные улицы и районы через которые они проходят по числу заведений\n",
    "\n",
    "\n",
    "# Структура проекта\n",
    "\n",
    "**Шаг №1. Загрузить данные и подготовить их к анализу**\n",
    "* Загрузить данные о заведениях общественного питания Москвы. \n",
    "* Убедиться, что тип данных в каждой колонке — правильный, а также отсутствуют пропущенные значения и дубликаты. При необходимости обработать их.\n",
    "\n",
    "**Шаг №2. Анализ данных**\n",
    "\n",
    "**Задача**\n",
    "\n",
    "1. Исследуйте соотношение видов объектов общественного питания по количеству. Постройте график.\n",
    "2. Исследуйте соотношение сетевых и несетевых заведений по количеству. Постройте график.\n",
    "3. Для какого вида объекта общественного питания характерно сетевое распространение?\n",
    "4. Что характерно для сетевых заведений: много заведений с небольшим числом посадочных мест в каждом или мало заведений с большим количеством посадочных мест?\n",
    "5. Для каждого вида объекта общественного питания опишите среднее количество посадочных мест. Какой вид предоставляет в среднем самое большое количество посадочных мест? Постройте графики.\n",
    "6. Выделите в отдельный столбец информацию об улице из столбца address .\n",
    "7. Постройте график топ-10 улиц по количеству объектов общественного питания. Воспользуйтесь внешней информацией и ответьте на вопрос — в каких районах Москвы находятся эти улицы?\n",
    "8. Найдите число улиц с одним объектом общественного питания. Воспользуйтесь внешней информацией и ответьте на вопрос — в каких районах Москвы находятся эти улицы?\n",
    "\n",
    "**Цель:**\n",
    "Сделать общий вывод и дать рекомендации о виде заведения, количестве посадочных мест, а также районе расположения. Прокомментировать возможность развития сети.\n",
    "\n",
    "**Шаг №3. Подготовка презентации**\n",
    "\n",
    "Необходимо подготовить презентацию исследования для инвесторов. Отправить презентацию нужно обязательно в формате pdf."
   ]
  },
  {
   "cell_type": "markdown",
   "metadata": {},
   "source": [
    "**Оглавление:**\n",
    "<a id='section_id'></a>\n",
    "\n",
    "1. [Импортирование библиотек](#section_id1)\n",
    "\n",
    "* [Обзор данных](#section_id1_1)\n",
    "\n",
    "* [Предобработка данных](#section_id1_2)\n",
    "\n",
    "2. [Анализ данных](#section_id2)\n",
    "\n",
    "3. [Общий вывод](#section_id3)\n"
   ]
  },
  {
   "cell_type": "markdown",
   "metadata": {},
   "source": [
    "## Импортирование библиотек и загрузка данных\n",
    "<a id='section_id1'></a>"
   ]
  },
  {
   "cell_type": "code",
   "execution_count": 1,
   "metadata": {
    "ExecuteTime": {
     "end_time": "2022-11-22T08:46:24.249111Z",
     "start_time": "2022-11-22T08:46:21.535989Z"
    }
   },
   "outputs": [],
   "source": [
    "import pandas as pd\n",
    "import numpy as np\n",
    "import copy\n",
    "\n",
    "import matplotlib.pyplot as plt\n",
    "import seaborn as sns\n",
    "import plotly.express as px\n",
    "\n",
    "import requests\n",
    "import json\n",
    "from io import BytesIO"
   ]
  },
  {
   "cell_type": "code",
   "execution_count": 2,
   "metadata": {
    "ExecuteTime": {
     "end_time": "2022-11-22T08:46:24.264836Z",
     "start_time": "2022-11-22T08:46:24.254035Z"
    }
   },
   "outputs": [],
   "source": [
    "# форматирую вывод графиков\n",
    "sns.set(rc={'figure.figsize':(10, 4)})\n",
    "sns.set_style('whitegrid')\n",
    "#xticks(rotation=45)\n",
    "pd.options.display.max_colwidth = 50\n",
    "# Причёсываю формат отображения данных - отображение всех колонок и ограничиваю количество знаков после запятой\n",
    "pd.set_option('display.max_columns', None)\n",
    "pd.options.display.float_format = '{:,.2f}'.format"
   ]
  },
  {
   "cell_type": "code",
   "execution_count": 3,
   "metadata": {
    "ExecuteTime": {
     "end_time": "2022-11-22T08:46:28.743627Z",
     "start_time": "2022-11-22T08:46:24.268841Z"
    }
   },
   "outputs": [],
   "source": [
    "rest_data = pd.read_csv('/datasets/rest_data.csv')\n",
    "\n",
    "# Дополнительный внешний источник для задания 2.7\n",
    "spreadsheet_id = '1cERosnQYeTJgl395jRCwZmSQ6KaWMVkMrPJt1pjposE'\n",
    "file_name = 'https://docs.google.com/spreadsheets/d/{}/export?format=csv'.format(spreadsheet_id)\n",
    "r = requests.get(file_name)\n",
    "df = pd.read_csv(BytesIO(r.content))"
   ]
  },
  {
   "cell_type": "markdown",
   "metadata": {},
   "source": [
    "### Обзор данных\n",
    "<a id='section_id1_1'></a>"
   ]
  },
  {
   "cell_type": "code",
   "execution_count": 4,
   "metadata": {
    "ExecuteTime": {
     "end_time": "2022-11-22T08:46:28.914855Z",
     "start_time": "2022-11-22T08:46:28.768000Z"
    }
   },
   "outputs": [
    {
     "data": {
      "text/html": [
       "<div>\n",
       "<style scoped>\n",
       "    .dataframe tbody tr th:only-of-type {\n",
       "        vertical-align: middle;\n",
       "    }\n",
       "\n",
       "    .dataframe tbody tr th {\n",
       "        vertical-align: top;\n",
       "    }\n",
       "\n",
       "    .dataframe thead th {\n",
       "        text-align: right;\n",
       "    }\n",
       "</style>\n",
       "<table border=\"1\" class=\"dataframe\">\n",
       "  <thead>\n",
       "    <tr style=\"text-align: right;\">\n",
       "      <th></th>\n",
       "      <th>id</th>\n",
       "      <th>object_name</th>\n",
       "      <th>chain</th>\n",
       "      <th>object_type</th>\n",
       "      <th>address</th>\n",
       "      <th>number</th>\n",
       "    </tr>\n",
       "  </thead>\n",
       "  <tbody>\n",
       "    <tr>\n",
       "      <th>0</th>\n",
       "      <td>151635</td>\n",
       "      <td>СМЕТАНА</td>\n",
       "      <td>нет</td>\n",
       "      <td>кафе</td>\n",
       "      <td>город Москва, улица Егора Абакумова, дом 9</td>\n",
       "      <td>48</td>\n",
       "    </tr>\n",
       "    <tr>\n",
       "      <th>1</th>\n",
       "      <td>77874</td>\n",
       "      <td>Родник</td>\n",
       "      <td>нет</td>\n",
       "      <td>кафе</td>\n",
       "      <td>город Москва, улица Талалихина, дом 2/1, корпус 1</td>\n",
       "      <td>35</td>\n",
       "    </tr>\n",
       "    <tr>\n",
       "      <th>2</th>\n",
       "      <td>24309</td>\n",
       "      <td>Кафе «Академия»</td>\n",
       "      <td>нет</td>\n",
       "      <td>кафе</td>\n",
       "      <td>город Москва, Абельмановская улица, дом 6</td>\n",
       "      <td>95</td>\n",
       "    </tr>\n",
       "  </tbody>\n",
       "</table>\n",
       "</div>"
      ],
      "text/plain": [
       "       id      object_name chain object_type  \\\n",
       "0  151635          СМЕТАНА   нет        кафе   \n",
       "1   77874           Родник   нет        кафе   \n",
       "2   24309  Кафе «Академия»   нет        кафе   \n",
       "\n",
       "                                             address  number  \n",
       "0         город Москва, улица Егора Абакумова, дом 9      48  \n",
       "1  город Москва, улица Талалихина, дом 2/1, корпус 1      35  \n",
       "2          город Москва, Абельмановская улица, дом 6      95  "
      ]
     },
     "execution_count": 4,
     "metadata": {},
     "output_type": "execute_result"
    }
   ],
   "source": [
    "rest_data.head(3)"
   ]
  },
  {
   "cell_type": "code",
   "execution_count": 5,
   "metadata": {
    "ExecuteTime": {
     "end_time": "2022-11-22T08:46:28.962318Z",
     "start_time": "2022-11-22T08:46:28.919573Z"
    }
   },
   "outputs": [
    {
     "data": {
      "text/html": [
       "<div>\n",
       "<style scoped>\n",
       "    .dataframe tbody tr th:only-of-type {\n",
       "        vertical-align: middle;\n",
       "    }\n",
       "\n",
       "    .dataframe tbody tr th {\n",
       "        vertical-align: top;\n",
       "    }\n",
       "\n",
       "    .dataframe thead th {\n",
       "        text-align: right;\n",
       "    }\n",
       "</style>\n",
       "<table border=\"1\" class=\"dataframe\">\n",
       "  <thead>\n",
       "    <tr style=\"text-align: right;\">\n",
       "      <th></th>\n",
       "      <th>id</th>\n",
       "      <th>object_name</th>\n",
       "      <th>chain</th>\n",
       "      <th>object_type</th>\n",
       "      <th>address</th>\n",
       "      <th>number</th>\n",
       "    </tr>\n",
       "  </thead>\n",
       "  <tbody>\n",
       "    <tr>\n",
       "      <th>15363</th>\n",
       "      <td>209186</td>\n",
       "      <td>Шоколадница</td>\n",
       "      <td>да</td>\n",
       "      <td>кафе</td>\n",
       "      <td>город Москва, улица Земляной Вал, дом 33</td>\n",
       "      <td>20</td>\n",
       "    </tr>\n",
       "    <tr>\n",
       "      <th>15364</th>\n",
       "      <td>221900</td>\n",
       "      <td>Шоколадница</td>\n",
       "      <td>да</td>\n",
       "      <td>кафе</td>\n",
       "      <td>город Москва, поселение Московский, Киевское ш...</td>\n",
       "      <td>36</td>\n",
       "    </tr>\n",
       "    <tr>\n",
       "      <th>15365</th>\n",
       "      <td>222535</td>\n",
       "      <td>Шоколадница</td>\n",
       "      <td>да</td>\n",
       "      <td>кафе</td>\n",
       "      <td>город Москва, Ходынский бульвар, дом 4</td>\n",
       "      <td>10</td>\n",
       "    </tr>\n",
       "  </tbody>\n",
       "</table>\n",
       "</div>"
      ],
      "text/plain": [
       "           id  object_name chain object_type  \\\n",
       "15363  209186  Шоколадница    да        кафе   \n",
       "15364  221900  Шоколадница    да        кафе   \n",
       "15365  222535  Шоколадница    да        кафе   \n",
       "\n",
       "                                                 address  number  \n",
       "15363           город Москва, улица Земляной Вал, дом 33      20  \n",
       "15364  город Москва, поселение Московский, Киевское ш...      36  \n",
       "15365             город Москва, Ходынский бульвар, дом 4      10  "
      ]
     },
     "execution_count": 5,
     "metadata": {},
     "output_type": "execute_result"
    }
   ],
   "source": [
    "rest_data.tail(3)"
   ]
  },
  {
   "cell_type": "code",
   "execution_count": 6,
   "metadata": {
    "ExecuteTime": {
     "end_time": "2022-11-22T08:46:29.025436Z",
     "start_time": "2022-11-22T08:46:28.967027Z"
    }
   },
   "outputs": [
    {
     "name": "stdout",
     "output_type": "stream",
     "text": [
      "<class 'pandas.core.frame.DataFrame'>\n",
      "RangeIndex: 15366 entries, 0 to 15365\n",
      "Data columns (total 6 columns):\n",
      " #   Column       Non-Null Count  Dtype \n",
      "---  ------       --------------  ----- \n",
      " 0   id           15366 non-null  int64 \n",
      " 1   object_name  15366 non-null  object\n",
      " 2   chain        15366 non-null  object\n",
      " 3   object_type  15366 non-null  object\n",
      " 4   address      15366 non-null  object\n",
      " 5   number       15366 non-null  int64 \n",
      "dtypes: int64(2), object(4)\n",
      "memory usage: 720.4+ KB\n"
     ]
    }
   ],
   "source": [
    "rest_data.info()"
   ]
  },
  {
   "cell_type": "code",
   "execution_count": 7,
   "metadata": {
    "ExecuteTime": {
     "end_time": "2022-11-22T08:46:29.098260Z",
     "start_time": "2022-11-22T08:46:29.037650Z"
    }
   },
   "outputs": [
    {
     "data": {
      "text/html": [
       "<div>\n",
       "<style scoped>\n",
       "    .dataframe tbody tr th:only-of-type {\n",
       "        vertical-align: middle;\n",
       "    }\n",
       "\n",
       "    .dataframe tbody tr th {\n",
       "        vertical-align: top;\n",
       "    }\n",
       "\n",
       "    .dataframe thead th {\n",
       "        text-align: right;\n",
       "    }\n",
       "</style>\n",
       "<table border=\"1\" class=\"dataframe\">\n",
       "  <thead>\n",
       "    <tr style=\"text-align: right;\">\n",
       "      <th></th>\n",
       "      <th>number</th>\n",
       "    </tr>\n",
       "  </thead>\n",
       "  <tbody>\n",
       "    <tr>\n",
       "      <th>count</th>\n",
       "      <td>15,366.00</td>\n",
       "    </tr>\n",
       "    <tr>\n",
       "      <th>mean</th>\n",
       "      <td>59.55</td>\n",
       "    </tr>\n",
       "    <tr>\n",
       "      <th>std</th>\n",
       "      <td>74.74</td>\n",
       "    </tr>\n",
       "    <tr>\n",
       "      <th>min</th>\n",
       "      <td>0.00</td>\n",
       "    </tr>\n",
       "    <tr>\n",
       "      <th>25%</th>\n",
       "      <td>12.00</td>\n",
       "    </tr>\n",
       "    <tr>\n",
       "      <th>50%</th>\n",
       "      <td>40.00</td>\n",
       "    </tr>\n",
       "    <tr>\n",
       "      <th>75%</th>\n",
       "      <td>80.00</td>\n",
       "    </tr>\n",
       "    <tr>\n",
       "      <th>max</th>\n",
       "      <td>1,700.00</td>\n",
       "    </tr>\n",
       "  </tbody>\n",
       "</table>\n",
       "</div>"
      ],
      "text/plain": [
       "         number\n",
       "count 15,366.00\n",
       "mean      59.55\n",
       "std       74.74\n",
       "min        0.00\n",
       "25%       12.00\n",
       "50%       40.00\n",
       "75%       80.00\n",
       "max    1,700.00"
      ]
     },
     "execution_count": 7,
     "metadata": {},
     "output_type": "execute_result"
    }
   ],
   "source": [
    "rest_data[['number']].describe()"
   ]
  },
  {
   "cell_type": "code",
   "execution_count": 8,
   "metadata": {
    "ExecuteTime": {
     "end_time": "2022-11-22T08:46:29.138879Z",
     "start_time": "2022-11-22T08:46:29.107485Z"
    }
   },
   "outputs": [
    {
     "data": {
      "text/plain": [
       "array(['нет', 'да'], dtype=object)"
      ]
     },
     "execution_count": 8,
     "metadata": {},
     "output_type": "execute_result"
    }
   ],
   "source": [
    "rest_data['chain'].unique()"
   ]
  },
  {
   "cell_type": "code",
   "execution_count": 9,
   "metadata": {
    "ExecuteTime": {
     "end_time": "2022-11-22T08:46:29.171021Z",
     "start_time": "2022-11-22T08:46:29.144671Z"
    }
   },
   "outputs": [
    {
     "data": {
      "text/plain": [
       "array(['кафе', 'столовая', 'закусочная',\n",
       "       'предприятие быстрого обслуживания', 'ресторан', 'кафетерий',\n",
       "       'буфет', 'бар', 'магазин (отдел кулинарии)'], dtype=object)"
      ]
     },
     "execution_count": 9,
     "metadata": {},
     "output_type": "execute_result"
    }
   ],
   "source": [
    "rest_data['object_type'].unique()"
   ]
  },
  {
   "cell_type": "markdown",
   "metadata": {},
   "source": [
    "**Вывод:**\n",
    "\n",
    "В датафрейме находится информация об объектах общественного питания.\n",
    "* Тип данных корректный\n",
    "* Пропусков нет\n",
    "* Дубликатов в колонках `chain` и `object_type` нет\n",
    "* В ходе предобработки данных приведу названия объектов и адреса к нижнему регистру, на случай если в них есть дубликаты.\n",
    "* Заменю длинные наименования типов заведений на короткие для удобства\n",
    "* Объекты сильно различаются по количеству посадочных мест, стандартное отклонение 74.7, есть объект с 1 700 посадочных мест, при том, что медиана находится на уровне 40. При анализе отдельно обращу на это внимание.\n",
    "* Посмотрю на заведения с 0 посадочных мест\n",
    "* Проверю дубликаты\n",
    "\n",
    "В остальном, на первый взгляд с данными всё в порядке."
   ]
  },
  {
   "cell_type": "markdown",
   "metadata": {},
   "source": [
    "### Предобработка данных\n",
    "<a id='section_id1_2'></a>\n",
    "\n",
    "[Оглавление](#section_id)"
   ]
  },
  {
   "cell_type": "code",
   "execution_count": 10,
   "metadata": {
    "ExecuteTime": {
     "end_time": "2022-11-22T08:46:29.253229Z",
     "start_time": "2022-11-22T08:46:29.177954Z"
    }
   },
   "outputs": [
    {
     "data": {
      "text/html": [
       "<div>\n",
       "<style scoped>\n",
       "    .dataframe tbody tr th:only-of-type {\n",
       "        vertical-align: middle;\n",
       "    }\n",
       "\n",
       "    .dataframe tbody tr th {\n",
       "        vertical-align: top;\n",
       "    }\n",
       "\n",
       "    .dataframe thead th {\n",
       "        text-align: right;\n",
       "    }\n",
       "</style>\n",
       "<table border=\"1\" class=\"dataframe\">\n",
       "  <thead>\n",
       "    <tr style=\"text-align: right;\">\n",
       "      <th></th>\n",
       "      <th>id</th>\n",
       "      <th>object_name</th>\n",
       "      <th>chain</th>\n",
       "      <th>object_type</th>\n",
       "      <th>address</th>\n",
       "      <th>number</th>\n",
       "    </tr>\n",
       "  </thead>\n",
       "  <tbody>\n",
       "    <tr>\n",
       "      <th>0</th>\n",
       "      <td>151635</td>\n",
       "      <td>сметана</td>\n",
       "      <td>нет</td>\n",
       "      <td>кафе</td>\n",
       "      <td>город москва, улица егора абакумова, дом 9</td>\n",
       "      <td>48</td>\n",
       "    </tr>\n",
       "    <tr>\n",
       "      <th>1</th>\n",
       "      <td>77874</td>\n",
       "      <td>родник</td>\n",
       "      <td>нет</td>\n",
       "      <td>кафе</td>\n",
       "      <td>город москва, улица талалихина, дом 2/1, корпус 1</td>\n",
       "      <td>35</td>\n",
       "    </tr>\n",
       "    <tr>\n",
       "      <th>2</th>\n",
       "      <td>24309</td>\n",
       "      <td>кафе «академия»</td>\n",
       "      <td>нет</td>\n",
       "      <td>кафе</td>\n",
       "      <td>город москва, абельмановская улица, дом 6</td>\n",
       "      <td>95</td>\n",
       "    </tr>\n",
       "  </tbody>\n",
       "</table>\n",
       "</div>"
      ],
      "text/plain": [
       "       id      object_name chain object_type  \\\n",
       "0  151635          сметана   нет        кафе   \n",
       "1   77874           родник   нет        кафе   \n",
       "2   24309  кафе «академия»   нет        кафе   \n",
       "\n",
       "                                             address  number  \n",
       "0         город москва, улица егора абакумова, дом 9      48  \n",
       "1  город москва, улица талалихина, дом 2/1, корпус 1      35  \n",
       "2          город москва, абельмановская улица, дом 6      95  "
      ]
     },
     "execution_count": 10,
     "metadata": {},
     "output_type": "execute_result"
    }
   ],
   "source": [
    "# Приведу данные к нижнему регистру:\n",
    "rest_data['object_name'] = rest_data['object_name'].str.lower()\n",
    "rest_data['address'] = rest_data['address'].str.lower()\n",
    "\n",
    "# Замена длинный наименований типов объектов на короткие:\n",
    "rest_data.loc[rest_data['object_type'] == 'предприятие быстрого обслуживания', 'object_type'] = 'фаст фуд'\n",
    "rest_data.loc[rest_data['object_type'] == 'магазин (отдел кулинарии)', 'object_type'] = 'кулинария'\n",
    "\n",
    "# Проверка:\n",
    "rest_data.head(3)"
   ]
  },
  {
   "cell_type": "markdown",
   "metadata": {},
   "source": [
    "#### Унификация названий"
   ]
  },
  {
   "cell_type": "code",
   "execution_count": 11,
   "metadata": {
    "ExecuteTime": {
     "end_time": "2022-11-22T08:46:29.587724Z",
     "start_time": "2022-11-22T08:46:29.257447Z"
    }
   },
   "outputs": [],
   "source": [
    "rest_data.loc[pd.Series(rest_data['object_name']).str.contains('кфс|kfc', regex=True), 'object_name'] = 'kfc'\n",
    "rest_data.loc[pd.Series(rest_data['object_name']).str.contains('starbucks|старбакс', regex=True), 'object_name'] = 'starbucks'\n",
    "rest_data.loc[pd.Series(rest_data['object_name']).str.contains(\"доминос|домино'с\", regex=True), 'object_name'] = 'доминос'\n",
    "rest_data.loc[pd.Series(rest_data['object_name']).str.contains(\"il патио|иль патио|планета суши\", \n",
    "                                                               regex=True), 'object_name'] = 'il патио/планета суши'\n",
    "\n",
    "rest_data.loc[rest_data['object_name'].str.contains('мята lounge'), 'object_name'] = 'мята lounge'\n",
    "rest_data.loc[rest_data['object_name'].str.contains('милти'), 'object_name'] = 'милти'\n",
    "rest_data.loc[rest_data['object_name'].str.contains('тануки'), 'object_name'] = 'тануки'\n",
    "rest_data.loc[rest_data['object_name'].str.contains('fridays'), 'object_name'] = 'фрайдис'\n",
    "rest_data.loc[rest_data['object_name'].str.contains('ваби'), 'object_name'] = 'ваби-саби'\n",
    "rest_data.loc[rest_data['object_name'].str.contains('бургер кинг'), 'object_name'] = 'бургер кинг'\n",
    "rest_data.loc[rest_data['object_name'].str.contains('якитория'), 'object_name'] = 'якитория'\n",
    "rest_data.loc[rest_data['object_name'].str.contains('прайм стар'), 'object_name'] = 'прайм стар'\n",
    "rest_data.loc[rest_data['object_name'].str.contains('джон джоли'), 'object_name'] = 'джон джоли'\n",
    "rest_data.loc[rest_data['object_name'].str.contains('папа джонс'), 'object_name'] = 'папа джонс'\n",
    "rest_data.loc[rest_data['object_name'].str.contains('макдоналдс'), 'object_name'] = 'mcdonalds'\n",
    "rest_data.loc[rest_data['object_name'].str.contains('штолле'), 'object_name'] = 'штолле'\n",
    "rest_data.loc[rest_data['object_name'].str.contains('крошка картошка'), 'object_name'] = 'крошка картошка'\n",
    "rest_data.loc[rest_data['object_name'].str.contains('пицца хат'), 'object_name'] = 'пицца хат'\n",
    "rest_data.loc[rest_data['object_name'].str.contains('сабвей'), 'object_name'] = 'subway'"
   ]
  },
  {
   "cell_type": "markdown",
   "metadata": {},
   "source": [
    "#### Категории заведений по названиям сетей\n",
    "Посмотрю категории заведений по названию сети."
   ]
  },
  {
   "cell_type": "code",
   "execution_count": 12,
   "metadata": {
    "ExecuteTime": {
     "end_time": "2022-11-22T08:46:29.659837Z",
     "start_time": "2022-11-22T08:46:29.592527Z"
    },
    "scrolled": false
   },
   "outputs": [
    {
     "data": {
      "text/html": [
       "<div>\n",
       "<style scoped>\n",
       "    .dataframe tbody tr th:only-of-type {\n",
       "        vertical-align: middle;\n",
       "    }\n",
       "\n",
       "    .dataframe tbody tr th {\n",
       "        vertical-align: top;\n",
       "    }\n",
       "\n",
       "    .dataframe thead th {\n",
       "        text-align: right;\n",
       "    }\n",
       "</style>\n",
       "<table border=\"1\" class=\"dataframe\">\n",
       "  <thead>\n",
       "    <tr style=\"text-align: right;\">\n",
       "      <th>object_type</th>\n",
       "      <th>бар</th>\n",
       "      <th>буфет</th>\n",
       "      <th>закусочная</th>\n",
       "      <th>кафе</th>\n",
       "      <th>кафетерий</th>\n",
       "      <th>кулинария</th>\n",
       "      <th>ресторан</th>\n",
       "      <th>столовая</th>\n",
       "      <th>фаст фуд</th>\n",
       "      <th>total</th>\n",
       "    </tr>\n",
       "    <tr>\n",
       "      <th>object_name</th>\n",
       "      <th></th>\n",
       "      <th></th>\n",
       "      <th></th>\n",
       "      <th></th>\n",
       "      <th></th>\n",
       "      <th></th>\n",
       "      <th></th>\n",
       "      <th></th>\n",
       "      <th></th>\n",
       "      <th></th>\n",
       "    </tr>\n",
       "  </thead>\n",
       "  <tbody>\n",
       "    <tr>\n",
       "      <th>kfc</th>\n",
       "      <td>0.00</td>\n",
       "      <td>0.00</td>\n",
       "      <td>1.00</td>\n",
       "      <td>31.00</td>\n",
       "      <td>0.00</td>\n",
       "      <td>0.00</td>\n",
       "      <td>34.00</td>\n",
       "      <td>0.00</td>\n",
       "      <td>122.00</td>\n",
       "      <td>188.00</td>\n",
       "    </tr>\n",
       "    <tr>\n",
       "      <th>mcdonalds</th>\n",
       "      <td>0.00</td>\n",
       "      <td>0.00</td>\n",
       "      <td>0.00</td>\n",
       "      <td>25.00</td>\n",
       "      <td>0.00</td>\n",
       "      <td>0.00</td>\n",
       "      <td>31.00</td>\n",
       "      <td>0.00</td>\n",
       "      <td>117.00</td>\n",
       "      <td>173.00</td>\n",
       "    </tr>\n",
       "    <tr>\n",
       "      <th>бургер кинг</th>\n",
       "      <td>1.00</td>\n",
       "      <td>0.00</td>\n",
       "      <td>5.00</td>\n",
       "      <td>26.00</td>\n",
       "      <td>0.00</td>\n",
       "      <td>0.00</td>\n",
       "      <td>16.00</td>\n",
       "      <td>0.00</td>\n",
       "      <td>111.00</td>\n",
       "      <td>159.00</td>\n",
       "    </tr>\n",
       "    <tr>\n",
       "      <th>шоколадница</th>\n",
       "      <td>1.00</td>\n",
       "      <td>0.00</td>\n",
       "      <td>0.00</td>\n",
       "      <td>150.00</td>\n",
       "      <td>0.00</td>\n",
       "      <td>0.00</td>\n",
       "      <td>5.00</td>\n",
       "      <td>0.00</td>\n",
       "      <td>1.00</td>\n",
       "      <td>157.00</td>\n",
       "    </tr>\n",
       "    <tr>\n",
       "      <th>доминос</th>\n",
       "      <td>0.00</td>\n",
       "      <td>0.00</td>\n",
       "      <td>2.00</td>\n",
       "      <td>56.00</td>\n",
       "      <td>0.00</td>\n",
       "      <td>0.00</td>\n",
       "      <td>9.00</td>\n",
       "      <td>0.00</td>\n",
       "      <td>32.00</td>\n",
       "      <td>99.00</td>\n",
       "    </tr>\n",
       "    <tr>\n",
       "      <th>крошка картошка</th>\n",
       "      <td>0.00</td>\n",
       "      <td>1.00</td>\n",
       "      <td>4.00</td>\n",
       "      <td>24.00</td>\n",
       "      <td>0.00</td>\n",
       "      <td>0.00</td>\n",
       "      <td>3.00</td>\n",
       "      <td>0.00</td>\n",
       "      <td>64.00</td>\n",
       "      <td>96.00</td>\n",
       "    </tr>\n",
       "    <tr>\n",
       "      <th>теремок</th>\n",
       "      <td>0.00</td>\n",
       "      <td>2.00</td>\n",
       "      <td>6.00</td>\n",
       "      <td>25.00</td>\n",
       "      <td>0.00</td>\n",
       "      <td>0.00</td>\n",
       "      <td>6.00</td>\n",
       "      <td>0.00</td>\n",
       "      <td>55.00</td>\n",
       "      <td>94.00</td>\n",
       "    </tr>\n",
       "    <tr>\n",
       "      <th>милти</th>\n",
       "      <td>0.00</td>\n",
       "      <td>2.00</td>\n",
       "      <td>5.00</td>\n",
       "      <td>9.00</td>\n",
       "      <td>1.00</td>\n",
       "      <td>31.00</td>\n",
       "      <td>1.00</td>\n",
       "      <td>0.00</td>\n",
       "      <td>32.00</td>\n",
       "      <td>81.00</td>\n",
       "    </tr>\n",
       "    <tr>\n",
       "      <th>суши wok</th>\n",
       "      <td>2.00</td>\n",
       "      <td>0.00</td>\n",
       "      <td>3.00</td>\n",
       "      <td>35.00</td>\n",
       "      <td>0.00</td>\n",
       "      <td>10.00</td>\n",
       "      <td>0.00</td>\n",
       "      <td>0.00</td>\n",
       "      <td>22.00</td>\n",
       "      <td>72.00</td>\n",
       "    </tr>\n",
       "    <tr>\n",
       "      <th>starbucks</th>\n",
       "      <td>0.00</td>\n",
       "      <td>0.00</td>\n",
       "      <td>0.00</td>\n",
       "      <td>58.00</td>\n",
       "      <td>2.00</td>\n",
       "      <td>0.00</td>\n",
       "      <td>1.00</td>\n",
       "      <td>0.00</td>\n",
       "      <td>10.00</td>\n",
       "      <td>71.00</td>\n",
       "    </tr>\n",
       "    <tr>\n",
       "      <th>папа джонс</th>\n",
       "      <td>0.00</td>\n",
       "      <td>0.00</td>\n",
       "      <td>1.00</td>\n",
       "      <td>36.00</td>\n",
       "      <td>1.00</td>\n",
       "      <td>0.00</td>\n",
       "      <td>8.00</td>\n",
       "      <td>0.00</td>\n",
       "      <td>21.00</td>\n",
       "      <td>67.00</td>\n",
       "    </tr>\n",
       "    <tr>\n",
       "      <th>subway</th>\n",
       "      <td>0.00</td>\n",
       "      <td>0.00</td>\n",
       "      <td>2.00</td>\n",
       "      <td>19.00</td>\n",
       "      <td>0.00</td>\n",
       "      <td>0.00</td>\n",
       "      <td>1.00</td>\n",
       "      <td>0.00</td>\n",
       "      <td>33.00</td>\n",
       "      <td>55.00</td>\n",
       "    </tr>\n",
       "    <tr>\n",
       "      <th>якитория</th>\n",
       "      <td>0.00</td>\n",
       "      <td>0.00</td>\n",
       "      <td>0.00</td>\n",
       "      <td>21.00</td>\n",
       "      <td>0.00</td>\n",
       "      <td>0.00</td>\n",
       "      <td>29.00</td>\n",
       "      <td>0.00</td>\n",
       "      <td>0.00</td>\n",
       "      <td>50.00</td>\n",
       "    </tr>\n",
       "    <tr>\n",
       "      <th>додо пицца</th>\n",
       "      <td>0.00</td>\n",
       "      <td>0.00</td>\n",
       "      <td>1.00</td>\n",
       "      <td>37.00</td>\n",
       "      <td>0.00</td>\n",
       "      <td>0.00</td>\n",
       "      <td>3.00</td>\n",
       "      <td>0.00</td>\n",
       "      <td>8.00</td>\n",
       "      <td>49.00</td>\n",
       "    </tr>\n",
       "    <tr>\n",
       "      <th>il патио/планета суши</th>\n",
       "      <td>1.00</td>\n",
       "      <td>0.00</td>\n",
       "      <td>0.00</td>\n",
       "      <td>10.00</td>\n",
       "      <td>0.00</td>\n",
       "      <td>0.00</td>\n",
       "      <td>37.00</td>\n",
       "      <td>0.00</td>\n",
       "      <td>0.00</td>\n",
       "      <td>48.00</td>\n",
       "    </tr>\n",
       "  </tbody>\n",
       "</table>\n",
       "</div>"
      ],
      "text/plain": [
       "object_type            бар  буфет  закусочная   кафе  кафетерий  кулинария  \\\n",
       "object_name                                                                  \n",
       "kfc                   0.00   0.00        1.00  31.00       0.00       0.00   \n",
       "mcdonalds             0.00   0.00        0.00  25.00       0.00       0.00   \n",
       "бургер кинг           1.00   0.00        5.00  26.00       0.00       0.00   \n",
       "шоколадница           1.00   0.00        0.00 150.00       0.00       0.00   \n",
       "доминос               0.00   0.00        2.00  56.00       0.00       0.00   \n",
       "крошка картошка       0.00   1.00        4.00  24.00       0.00       0.00   \n",
       "теремок               0.00   2.00        6.00  25.00       0.00       0.00   \n",
       "милти                 0.00   2.00        5.00   9.00       1.00      31.00   \n",
       "суши wok              2.00   0.00        3.00  35.00       0.00      10.00   \n",
       "starbucks             0.00   0.00        0.00  58.00       2.00       0.00   \n",
       "папа джонс            0.00   0.00        1.00  36.00       1.00       0.00   \n",
       "subway                0.00   0.00        2.00  19.00       0.00       0.00   \n",
       "якитория              0.00   0.00        0.00  21.00       0.00       0.00   \n",
       "додо пицца            0.00   0.00        1.00  37.00       0.00       0.00   \n",
       "il патио/планета суши 1.00   0.00        0.00  10.00       0.00       0.00   \n",
       "\n",
       "object_type            ресторан  столовая  фаст фуд  total  \n",
       "object_name                                                 \n",
       "kfc                       34.00      0.00    122.00 188.00  \n",
       "mcdonalds                 31.00      0.00    117.00 173.00  \n",
       "бургер кинг               16.00      0.00    111.00 159.00  \n",
       "шоколадница                5.00      0.00      1.00 157.00  \n",
       "доминос                    9.00      0.00     32.00  99.00  \n",
       "крошка картошка            3.00      0.00     64.00  96.00  \n",
       "теремок                    6.00      0.00     55.00  94.00  \n",
       "милти                      1.00      0.00     32.00  81.00  \n",
       "суши wok                   0.00      0.00     22.00  72.00  \n",
       "starbucks                  1.00      0.00     10.00  71.00  \n",
       "папа джонс                 8.00      0.00     21.00  67.00  \n",
       "subway                     1.00      0.00     33.00  55.00  \n",
       "якитория                  29.00      0.00      0.00  50.00  \n",
       "додо пицца                 3.00      0.00      8.00  49.00  \n",
       "il патио/планета суши     37.00      0.00      0.00  48.00  "
      ]
     },
     "execution_count": 12,
     "metadata": {},
     "output_type": "execute_result"
    }
   ],
   "source": [
    "rest_data_pvt = rest_data.query('chain == \"да\"')\n",
    "rest_data_pvt = rest_data_pvt.pivot_table(index = 'object_name', columns='object_type', \n",
    "                                          values='number', aggfunc='count').fillna(0)\n",
    "rest_data_pvt['total'] = rest_data_pvt[['бар', 'буфет', 'закусочная', 'кафе', 'кафетерий', 'кулинария', \n",
    "                                        'ресторан', 'столовая', 'фаст фуд']].sum(axis=1)\n",
    "rest_data_pvt.sort_values(by='total', ascending=False).head(15)"
   ]
  },
  {
   "cell_type": "markdown",
   "metadata": {},
   "source": [
    "У топ-10 заведений наблюдается большой разброс по категориям. При чём если по шоколаднице основная часть заведений приходится на кафе, что логично, то у 3 лидеров (КФС, макдональдс и бургер кинг) примерно 30% заведений не относятся к фастфуду. \n",
    "\n",
    "Приведу тип заведений по ТОП-10 сетям к одному виду. Там где непонятно какой тип должен соответствовать заведению, приму \"большинство\" за верную категорию.   "
   ]
  },
  {
   "cell_type": "code",
   "execution_count": 13,
   "metadata": {
    "ExecuteTime": {
     "end_time": "2022-11-22T08:46:30.106939Z",
     "start_time": "2022-11-22T08:46:29.672310Z"
    },
    "scrolled": false
   },
   "outputs": [
    {
     "data": {
      "text/html": [
       "<div>\n",
       "<style scoped>\n",
       "    .dataframe tbody tr th:only-of-type {\n",
       "        vertical-align: middle;\n",
       "    }\n",
       "\n",
       "    .dataframe tbody tr th {\n",
       "        vertical-align: top;\n",
       "    }\n",
       "\n",
       "    .dataframe thead th {\n",
       "        text-align: right;\n",
       "    }\n",
       "</style>\n",
       "<table border=\"1\" class=\"dataframe\">\n",
       "  <thead>\n",
       "    <tr style=\"text-align: right;\">\n",
       "      <th>object_type</th>\n",
       "      <th>бар</th>\n",
       "      <th>буфет</th>\n",
       "      <th>закусочная</th>\n",
       "      <th>кафе</th>\n",
       "      <th>кафетерий</th>\n",
       "      <th>кулинария</th>\n",
       "      <th>ресторан</th>\n",
       "      <th>фаст фуд</th>\n",
       "      <th>total</th>\n",
       "    </tr>\n",
       "    <tr>\n",
       "      <th>object_name</th>\n",
       "      <th></th>\n",
       "      <th></th>\n",
       "      <th></th>\n",
       "      <th></th>\n",
       "      <th></th>\n",
       "      <th></th>\n",
       "      <th></th>\n",
       "      <th></th>\n",
       "      <th></th>\n",
       "    </tr>\n",
       "  </thead>\n",
       "  <tbody>\n",
       "    <tr>\n",
       "      <th>kfc</th>\n",
       "      <td>0.00</td>\n",
       "      <td>0.00</td>\n",
       "      <td>0.00</td>\n",
       "      <td>0.00</td>\n",
       "      <td>0.00</td>\n",
       "      <td>0.00</td>\n",
       "      <td>0.00</td>\n",
       "      <td>188.00</td>\n",
       "      <td>188.00</td>\n",
       "    </tr>\n",
       "    <tr>\n",
       "      <th>mcdonalds</th>\n",
       "      <td>0.00</td>\n",
       "      <td>0.00</td>\n",
       "      <td>0.00</td>\n",
       "      <td>0.00</td>\n",
       "      <td>0.00</td>\n",
       "      <td>0.00</td>\n",
       "      <td>0.00</td>\n",
       "      <td>173.00</td>\n",
       "      <td>173.00</td>\n",
       "    </tr>\n",
       "    <tr>\n",
       "      <th>бургер кинг</th>\n",
       "      <td>0.00</td>\n",
       "      <td>0.00</td>\n",
       "      <td>0.00</td>\n",
       "      <td>0.00</td>\n",
       "      <td>0.00</td>\n",
       "      <td>0.00</td>\n",
       "      <td>0.00</td>\n",
       "      <td>159.00</td>\n",
       "      <td>159.00</td>\n",
       "    </tr>\n",
       "    <tr>\n",
       "      <th>шоколадница</th>\n",
       "      <td>0.00</td>\n",
       "      <td>0.00</td>\n",
       "      <td>0.00</td>\n",
       "      <td>157.00</td>\n",
       "      <td>0.00</td>\n",
       "      <td>0.00</td>\n",
       "      <td>0.00</td>\n",
       "      <td>0.00</td>\n",
       "      <td>157.00</td>\n",
       "    </tr>\n",
       "    <tr>\n",
       "      <th>доминос</th>\n",
       "      <td>0.00</td>\n",
       "      <td>0.00</td>\n",
       "      <td>0.00</td>\n",
       "      <td>99.00</td>\n",
       "      <td>0.00</td>\n",
       "      <td>0.00</td>\n",
       "      <td>0.00</td>\n",
       "      <td>0.00</td>\n",
       "      <td>99.00</td>\n",
       "    </tr>\n",
       "    <tr>\n",
       "      <th>крошка картошка</th>\n",
       "      <td>0.00</td>\n",
       "      <td>0.00</td>\n",
       "      <td>0.00</td>\n",
       "      <td>0.00</td>\n",
       "      <td>0.00</td>\n",
       "      <td>0.00</td>\n",
       "      <td>0.00</td>\n",
       "      <td>96.00</td>\n",
       "      <td>96.00</td>\n",
       "    </tr>\n",
       "    <tr>\n",
       "      <th>теремок</th>\n",
       "      <td>0.00</td>\n",
       "      <td>0.00</td>\n",
       "      <td>0.00</td>\n",
       "      <td>0.00</td>\n",
       "      <td>0.00</td>\n",
       "      <td>0.00</td>\n",
       "      <td>0.00</td>\n",
       "      <td>94.00</td>\n",
       "      <td>94.00</td>\n",
       "    </tr>\n",
       "    <tr>\n",
       "      <th>милти</th>\n",
       "      <td>0.00</td>\n",
       "      <td>0.00</td>\n",
       "      <td>0.00</td>\n",
       "      <td>0.00</td>\n",
       "      <td>0.00</td>\n",
       "      <td>0.00</td>\n",
       "      <td>0.00</td>\n",
       "      <td>81.00</td>\n",
       "      <td>81.00</td>\n",
       "    </tr>\n",
       "    <tr>\n",
       "      <th>суши wok</th>\n",
       "      <td>0.00</td>\n",
       "      <td>0.00</td>\n",
       "      <td>0.00</td>\n",
       "      <td>72.00</td>\n",
       "      <td>0.00</td>\n",
       "      <td>0.00</td>\n",
       "      <td>0.00</td>\n",
       "      <td>0.00</td>\n",
       "      <td>72.00</td>\n",
       "    </tr>\n",
       "    <tr>\n",
       "      <th>starbucks</th>\n",
       "      <td>0.00</td>\n",
       "      <td>0.00</td>\n",
       "      <td>0.00</td>\n",
       "      <td>71.00</td>\n",
       "      <td>0.00</td>\n",
       "      <td>0.00</td>\n",
       "      <td>0.00</td>\n",
       "      <td>0.00</td>\n",
       "      <td>71.00</td>\n",
       "    </tr>\n",
       "    <tr>\n",
       "      <th>папа джонс</th>\n",
       "      <td>0.00</td>\n",
       "      <td>0.00</td>\n",
       "      <td>0.00</td>\n",
       "      <td>67.00</td>\n",
       "      <td>0.00</td>\n",
       "      <td>0.00</td>\n",
       "      <td>0.00</td>\n",
       "      <td>0.00</td>\n",
       "      <td>67.00</td>\n",
       "    </tr>\n",
       "    <tr>\n",
       "      <th>subway</th>\n",
       "      <td>0.00</td>\n",
       "      <td>0.00</td>\n",
       "      <td>0.00</td>\n",
       "      <td>0.00</td>\n",
       "      <td>0.00</td>\n",
       "      <td>0.00</td>\n",
       "      <td>0.00</td>\n",
       "      <td>55.00</td>\n",
       "      <td>55.00</td>\n",
       "    </tr>\n",
       "    <tr>\n",
       "      <th>якитория</th>\n",
       "      <td>0.00</td>\n",
       "      <td>0.00</td>\n",
       "      <td>0.00</td>\n",
       "      <td>0.00</td>\n",
       "      <td>0.00</td>\n",
       "      <td>0.00</td>\n",
       "      <td>50.00</td>\n",
       "      <td>0.00</td>\n",
       "      <td>50.00</td>\n",
       "    </tr>\n",
       "    <tr>\n",
       "      <th>додо пицца</th>\n",
       "      <td>0.00</td>\n",
       "      <td>0.00</td>\n",
       "      <td>0.00</td>\n",
       "      <td>49.00</td>\n",
       "      <td>0.00</td>\n",
       "      <td>0.00</td>\n",
       "      <td>0.00</td>\n",
       "      <td>0.00</td>\n",
       "      <td>49.00</td>\n",
       "    </tr>\n",
       "    <tr>\n",
       "      <th>il патио/планета суши</th>\n",
       "      <td>0.00</td>\n",
       "      <td>0.00</td>\n",
       "      <td>0.00</td>\n",
       "      <td>0.00</td>\n",
       "      <td>0.00</td>\n",
       "      <td>0.00</td>\n",
       "      <td>48.00</td>\n",
       "      <td>0.00</td>\n",
       "      <td>48.00</td>\n",
       "    </tr>\n",
       "  </tbody>\n",
       "</table>\n",
       "</div>"
      ],
      "text/plain": [
       "object_type            бар  буфет  закусочная   кафе  кафетерий  кулинария  \\\n",
       "object_name                                                                  \n",
       "kfc                   0.00   0.00        0.00   0.00       0.00       0.00   \n",
       "mcdonalds             0.00   0.00        0.00   0.00       0.00       0.00   \n",
       "бургер кинг           0.00   0.00        0.00   0.00       0.00       0.00   \n",
       "шоколадница           0.00   0.00        0.00 157.00       0.00       0.00   \n",
       "доминос               0.00   0.00        0.00  99.00       0.00       0.00   \n",
       "крошка картошка       0.00   0.00        0.00   0.00       0.00       0.00   \n",
       "теремок               0.00   0.00        0.00   0.00       0.00       0.00   \n",
       "милти                 0.00   0.00        0.00   0.00       0.00       0.00   \n",
       "суши wok              0.00   0.00        0.00  72.00       0.00       0.00   \n",
       "starbucks             0.00   0.00        0.00  71.00       0.00       0.00   \n",
       "папа джонс            0.00   0.00        0.00  67.00       0.00       0.00   \n",
       "subway                0.00   0.00        0.00   0.00       0.00       0.00   \n",
       "якитория              0.00   0.00        0.00   0.00       0.00       0.00   \n",
       "додо пицца            0.00   0.00        0.00  49.00       0.00       0.00   \n",
       "il патио/планета суши 0.00   0.00        0.00   0.00       0.00       0.00   \n",
       "\n",
       "object_type            ресторан  фаст фуд  total  \n",
       "object_name                                       \n",
       "kfc                        0.00    188.00 188.00  \n",
       "mcdonalds                  0.00    173.00 173.00  \n",
       "бургер кинг                0.00    159.00 159.00  \n",
       "шоколадница                0.00      0.00 157.00  \n",
       "доминос                    0.00      0.00  99.00  \n",
       "крошка картошка            0.00     96.00  96.00  \n",
       "теремок                    0.00     94.00  94.00  \n",
       "милти                      0.00     81.00  81.00  \n",
       "суши wok                   0.00      0.00  72.00  \n",
       "starbucks                  0.00      0.00  71.00  \n",
       "папа джонс                 0.00      0.00  67.00  \n",
       "subway                     0.00     55.00  55.00  \n",
       "якитория                  50.00      0.00  50.00  \n",
       "додо пицца                 0.00      0.00  49.00  \n",
       "il патио/планета суши     48.00      0.00  48.00  "
      ]
     },
     "execution_count": 13,
     "metadata": {},
     "output_type": "execute_result"
    }
   ],
   "source": [
    "# Для унификации типов заведений использую лямбду функцию\n",
    "rest_data.loc[rest_data['chain'] == 'да', 'object_type'] = rest_data\\\n",
    "    .loc[rest_data['chain'] == 'да'].groupby('object_name')['object_type']\\\n",
    "    .transform(lambda x : x.mode()[0] if len(x.mode()) else x)\n",
    "\n",
    "# Проверю результат после применения функции\n",
    "rest_data_pvt = rest_data.query('chain == \"да\"')\n",
    "rest_data_pvt = rest_data_pvt.pivot_table(index = 'object_name', columns='object_type', \n",
    "                                          values='number', aggfunc='count').fillna(0)\n",
    "rest_data_pvt['total'] = rest_data_pvt[['бар', 'буфет', 'закусочная', 'кафе', 'кафетерий', 'кулинария', \n",
    "                                        'ресторан', 'фаст фуд']].sum(axis=1)\n",
    "rest_data_pvt.sort_values(by='total', ascending=False).head(15)"
   ]
  },
  {
   "cell_type": "markdown",
   "metadata": {},
   "source": [
    "Посмотрю на долю заведений с 0 посадочных мест в разрезе типов заведений "
   ]
  },
  {
   "cell_type": "code",
   "execution_count": 14,
   "metadata": {
    "ExecuteTime": {
     "end_time": "2022-11-22T08:46:30.162454Z",
     "start_time": "2022-11-22T08:46:30.110741Z"
    }
   },
   "outputs": [
    {
     "data": {
      "text/html": [
       "<div>\n",
       "<style scoped>\n",
       "    .dataframe tbody tr th:only-of-type {\n",
       "        vertical-align: middle;\n",
       "    }\n",
       "\n",
       "    .dataframe tbody tr th {\n",
       "        vertical-align: top;\n",
       "    }\n",
       "\n",
       "    .dataframe thead th {\n",
       "        text-align: right;\n",
       "    }\n",
       "</style>\n",
       "<table border=\"1\" class=\"dataframe\">\n",
       "  <thead>\n",
       "    <tr style=\"text-align: right;\">\n",
       "      <th></th>\n",
       "      <th>object_type</th>\n",
       "      <th>zero_numbers</th>\n",
       "      <th>full_numbers</th>\n",
       "      <th>zero_numbers_share</th>\n",
       "    </tr>\n",
       "  </thead>\n",
       "  <tbody>\n",
       "    <tr>\n",
       "      <th>0</th>\n",
       "      <td>бар</td>\n",
       "      <td>28</td>\n",
       "      <td>846</td>\n",
       "      <td>3.31</td>\n",
       "    </tr>\n",
       "    <tr>\n",
       "      <th>1</th>\n",
       "      <td>буфет</td>\n",
       "      <td>60</td>\n",
       "      <td>576</td>\n",
       "      <td>10.42</td>\n",
       "    </tr>\n",
       "    <tr>\n",
       "      <th>2</th>\n",
       "      <td>закусочная</td>\n",
       "      <td>175</td>\n",
       "      <td>317</td>\n",
       "      <td>55.21</td>\n",
       "    </tr>\n",
       "    <tr>\n",
       "      <th>3</th>\n",
       "      <td>кафе</td>\n",
       "      <td>308</td>\n",
       "      <td>6188</td>\n",
       "      <td>4.98</td>\n",
       "    </tr>\n",
       "    <tr>\n",
       "      <th>4</th>\n",
       "      <td>кафетерий</td>\n",
       "      <td>98</td>\n",
       "      <td>356</td>\n",
       "      <td>27.53</td>\n",
       "    </tr>\n",
       "    <tr>\n",
       "      <th>5</th>\n",
       "      <td>кулинария</td>\n",
       "      <td>112</td>\n",
       "      <td>203</td>\n",
       "      <td>55.17</td>\n",
       "    </tr>\n",
       "    <tr>\n",
       "      <th>6</th>\n",
       "      <td>ресторан</td>\n",
       "      <td>31</td>\n",
       "      <td>2158</td>\n",
       "      <td>1.44</td>\n",
       "    </tr>\n",
       "    <tr>\n",
       "      <th>7</th>\n",
       "      <td>столовая</td>\n",
       "      <td>19</td>\n",
       "      <td>2584</td>\n",
       "      <td>0.74</td>\n",
       "    </tr>\n",
       "    <tr>\n",
       "      <th>8</th>\n",
       "      <td>фаст фуд</td>\n",
       "      <td>790</td>\n",
       "      <td>2138</td>\n",
       "      <td>36.95</td>\n",
       "    </tr>\n",
       "  </tbody>\n",
       "</table>\n",
       "</div>"
      ],
      "text/plain": [
       "  object_type  zero_numbers  full_numbers  zero_numbers_share\n",
       "0         бар            28           846                3.31\n",
       "1       буфет            60           576               10.42\n",
       "2  закусочная           175           317               55.21\n",
       "3        кафе           308          6188                4.98\n",
       "4   кафетерий            98           356               27.53\n",
       "5   кулинария           112           203               55.17\n",
       "6    ресторан            31          2158                1.44\n",
       "7    столовая            19          2584                0.74\n",
       "8    фаст фуд           790          2138               36.95"
      ]
     },
     "execution_count": 14,
     "metadata": {},
     "output_type": "execute_result"
    }
   ],
   "source": [
    "rest_data_pvt = rest_data.pivot_table(index='object_type', values='id', aggfunc='count').rename(columns={\n",
    "    'id':'full_numbers'\n",
    "}).reset_index()\n",
    "rest_data_zero_number = rest_data.query('number==0')\\\n",
    "    .pivot_table(index='object_type', values='id', aggfunc='count').rename(columns={\n",
    "    'id': 'zero_numbers'\n",
    "}).reset_index()\n",
    "rest_data_zero_number = rest_data_zero_number.merge(rest_data_pvt, on='object_type', how='left')\n",
    "rest_data_zero_number['zero_numbers_share'] = (rest_data_zero_number['zero_numbers'] \n",
    "                                               / rest_data_zero_number['full_numbers'] * 100)\n",
    "rest_data_zero_number"
   ]
  },
  {
   "cell_type": "code",
   "execution_count": 15,
   "metadata": {
    "ExecuteTime": {
     "end_time": "2022-11-22T08:46:30.205810Z",
     "start_time": "2022-11-22T08:46:30.167052Z"
    }
   },
   "outputs": [
    {
     "data": {
      "text/html": [
       "<div>\n",
       "<style scoped>\n",
       "    .dataframe tbody tr th:only-of-type {\n",
       "        vertical-align: middle;\n",
       "    }\n",
       "\n",
       "    .dataframe tbody tr th {\n",
       "        vertical-align: top;\n",
       "    }\n",
       "\n",
       "    .dataframe thead th {\n",
       "        text-align: right;\n",
       "    }\n",
       "</style>\n",
       "<table border=\"1\" class=\"dataframe\">\n",
       "  <thead>\n",
       "    <tr style=\"text-align: right;\">\n",
       "      <th></th>\n",
       "      <th>id</th>\n",
       "      <th>object_name</th>\n",
       "      <th>chain</th>\n",
       "      <th>object_type</th>\n",
       "      <th>address</th>\n",
       "      <th>number</th>\n",
       "    </tr>\n",
       "  </thead>\n",
       "  <tbody>\n",
       "    <tr>\n",
       "      <th>137</th>\n",
       "      <td>115498</td>\n",
       "      <td>пекарня &amp; донер</td>\n",
       "      <td>нет</td>\n",
       "      <td>закусочная</td>\n",
       "      <td>город москва, бутырская улица, дом 9, корпус 2</td>\n",
       "      <td>0</td>\n",
       "    </tr>\n",
       "    <tr>\n",
       "      <th>154</th>\n",
       "      <td>152556</td>\n",
       "      <td>шаурма в пите</td>\n",
       "      <td>нет</td>\n",
       "      <td>фаст фуд</td>\n",
       "      <td>город москва, варшавское шоссе, дом 72, корпус 2</td>\n",
       "      <td>0</td>\n",
       "    </tr>\n",
       "    <tr>\n",
       "      <th>157</th>\n",
       "      <td>149568</td>\n",
       "      <td>суши</td>\n",
       "      <td>нет</td>\n",
       "      <td>фаст фуд</td>\n",
       "      <td>город москва, улица маршала василевского, дом ...</td>\n",
       "      <td>0</td>\n",
       "    </tr>\n",
       "    <tr>\n",
       "      <th>190</th>\n",
       "      <td>126956</td>\n",
       "      <td>шаурма, куры-гриль</td>\n",
       "      <td>нет</td>\n",
       "      <td>фаст фуд</td>\n",
       "      <td>город москва, 1-я владимирская улица, дом 21</td>\n",
       "      <td>0</td>\n",
       "    </tr>\n",
       "    <tr>\n",
       "      <th>195</th>\n",
       "      <td>149531</td>\n",
       "      <td>шаурма, куры-гриль</td>\n",
       "      <td>нет</td>\n",
       "      <td>фаст фуд</td>\n",
       "      <td>город москва, 2-я владимирская улица, дом 44/10</td>\n",
       "      <td>0</td>\n",
       "    </tr>\n",
       "    <tr>\n",
       "      <th>...</th>\n",
       "      <td>...</td>\n",
       "      <td>...</td>\n",
       "      <td>...</td>\n",
       "      <td>...</td>\n",
       "      <td>...</td>\n",
       "      <td>...</td>\n",
       "    </tr>\n",
       "    <tr>\n",
       "      <th>15334</th>\n",
       "      <td>211228</td>\n",
       "      <td>милти</td>\n",
       "      <td>да</td>\n",
       "      <td>фаст фуд</td>\n",
       "      <td>город москва, дубравная улица, дом 34/29</td>\n",
       "      <td>0</td>\n",
       "    </tr>\n",
       "    <tr>\n",
       "      <th>15335</th>\n",
       "      <td>211221</td>\n",
       "      <td>милти</td>\n",
       "      <td>да</td>\n",
       "      <td>фаст фуд</td>\n",
       "      <td>город москва, пятницкое шоссе, дом 3</td>\n",
       "      <td>0</td>\n",
       "    </tr>\n",
       "    <tr>\n",
       "      <th>15336</th>\n",
       "      <td>211209</td>\n",
       "      <td>милти</td>\n",
       "      <td>да</td>\n",
       "      <td>фаст фуд</td>\n",
       "      <td>город москва, ореховый бульвар, дом 22а</td>\n",
       "      <td>0</td>\n",
       "    </tr>\n",
       "    <tr>\n",
       "      <th>15337</th>\n",
       "      <td>208477</td>\n",
       "      <td>милти</td>\n",
       "      <td>да</td>\n",
       "      <td>фаст фуд</td>\n",
       "      <td>город москва, 3-й крутицкий переулок, дом 18</td>\n",
       "      <td>0</td>\n",
       "    </tr>\n",
       "    <tr>\n",
       "      <th>15338</th>\n",
       "      <td>211201</td>\n",
       "      <td>милти</td>\n",
       "      <td>да</td>\n",
       "      <td>фаст фуд</td>\n",
       "      <td>город москва, новослободская улица, дом 4</td>\n",
       "      <td>0</td>\n",
       "    </tr>\n",
       "  </tbody>\n",
       "</table>\n",
       "<p>1621 rows × 6 columns</p>\n",
       "</div>"
      ],
      "text/plain": [
       "           id         object_name chain object_type  \\\n",
       "137    115498     пекарня & донер   нет  закусочная   \n",
       "154    152556       шаурма в пите   нет    фаст фуд   \n",
       "157    149568                суши   нет    фаст фуд   \n",
       "190    126956  шаурма, куры-гриль   нет    фаст фуд   \n",
       "195    149531  шаурма, куры-гриль   нет    фаст фуд   \n",
       "...       ...                 ...   ...         ...   \n",
       "15334  211228               милти    да    фаст фуд   \n",
       "15335  211221               милти    да    фаст фуд   \n",
       "15336  211209               милти    да    фаст фуд   \n",
       "15337  208477               милти    да    фаст фуд   \n",
       "15338  211201               милти    да    фаст фуд   \n",
       "\n",
       "                                                 address  number  \n",
       "137       город москва, бутырская улица, дом 9, корпус 2       0  \n",
       "154     город москва, варшавское шоссе, дом 72, корпус 2       0  \n",
       "157    город москва, улица маршала василевского, дом ...       0  \n",
       "190         город москва, 1-я владимирская улица, дом 21       0  \n",
       "195      город москва, 2-я владимирская улица, дом 44/10       0  \n",
       "...                                                  ...     ...  \n",
       "15334           город москва, дубравная улица, дом 34/29       0  \n",
       "15335               город москва, пятницкое шоссе, дом 3       0  \n",
       "15336            город москва, ореховый бульвар, дом 22а       0  \n",
       "15337       город москва, 3-й крутицкий переулок, дом 18       0  \n",
       "15338          город москва, новослободская улица, дом 4       0  \n",
       "\n",
       "[1621 rows x 6 columns]"
      ]
     },
     "execution_count": 15,
     "metadata": {},
     "output_type": "execute_result"
    }
   ],
   "source": [
    "# Посмотрю на часть таких заведений:\n",
    "rest_data[rest_data['number'] ==0]"
   ]
  },
  {
   "cell_type": "markdown",
   "metadata": {},
   "source": [
    "Есть категории заведений с большой долей отсутствия посадочных мест. Насколько понимаю, эти заведения и не предполагают их наличие. Например заведение милти - готовит и само доставляет еду, тоже самое касается шаурмичных и пекарен. "
   ]
  },
  {
   "cell_type": "code",
   "execution_count": 16,
   "metadata": {
    "ExecuteTime": {
     "end_time": "2022-11-22T08:46:30.292398Z",
     "start_time": "2022-11-22T08:46:30.210669Z"
    }
   },
   "outputs": [
    {
     "name": "stdout",
     "output_type": "stream",
     "text": [
      "0\n",
      "Явные дубликаты без столбца \"id\": 87\n"
     ]
    }
   ],
   "source": [
    "# Проверю наличие явных дубликатов\n",
    "print(rest_data.duplicated().sum())\n",
    "\n",
    "# Проверю явные дубликаты без столбца 'id'\n",
    "print('Явные дубликаты без столбца \"id\":', \n",
    "      rest_data[['object_name','chain', 'object_type', 'address','number']].duplicated().sum())"
   ]
  },
  {
   "cell_type": "code",
   "execution_count": 17,
   "metadata": {
    "ExecuteTime": {
     "end_time": "2022-11-22T08:46:30.363564Z",
     "start_time": "2022-11-22T08:46:30.298475Z"
    }
   },
   "outputs": [
    {
     "data": {
      "text/plain": [
       "0"
      ]
     },
     "execution_count": 17,
     "metadata": {},
     "output_type": "execute_result"
    }
   ],
   "source": [
    "# Удалю дубликаты, исключив столбец id:\n",
    "rest_data = rest_data.drop_duplicates(subset=rest_data.columns.difference(['id']))\n",
    "\n",
    "# Повторно проверю наличие явных дубликатов\n",
    "rest_data[['object_name','chain', 'object_type', 'address','number']].duplicated().sum()"
   ]
  },
  {
   "cell_type": "markdown",
   "metadata": {},
   "source": [
    "#### Внешний источник данных (районы)"
   ]
  },
  {
   "cell_type": "code",
   "execution_count": 18,
   "metadata": {
    "ExecuteTime": {
     "end_time": "2022-11-22T08:46:30.492224Z",
     "start_time": "2022-11-22T08:46:30.367618Z"
    },
    "scrolled": false
   },
   "outputs": [
    {
     "data": {
      "text/html": [
       "<div>\n",
       "<style scoped>\n",
       "    .dataframe tbody tr th:only-of-type {\n",
       "        vertical-align: middle;\n",
       "    }\n",
       "\n",
       "    .dataframe tbody tr th {\n",
       "        vertical-align: top;\n",
       "    }\n",
       "\n",
       "    .dataframe thead th {\n",
       "        text-align: right;\n",
       "    }\n",
       "</style>\n",
       "<table border=\"1\" class=\"dataframe\">\n",
       "  <thead>\n",
       "    <tr style=\"text-align: right;\">\n",
       "      <th></th>\n",
       "      <th>id</th>\n",
       "      <th>name</th>\n",
       "      <th>global_id</th>\n",
       "      <th>isnetobject</th>\n",
       "      <th>operatingcompany</th>\n",
       "      <th>typeobject</th>\n",
       "      <th>admarea</th>\n",
       "      <th>district</th>\n",
       "      <th>address</th>\n",
       "      <th>publicphone</th>\n",
       "      <th>seatscount</th>\n",
       "      <th>socialprivileges</th>\n",
       "      <th>longitude_wgs84</th>\n",
       "      <th>latitude_wgs84</th>\n",
       "      <th>id_en</th>\n",
       "      <th>name_en</th>\n",
       "      <th>isnetobject_en</th>\n",
       "      <th>operatingcompany_en</th>\n",
       "      <th>typeobject_en</th>\n",
       "      <th>admarea_en</th>\n",
       "      <th>district_en</th>\n",
       "      <th>address_en</th>\n",
       "      <th>publicphone_en</th>\n",
       "      <th>seatscount_en</th>\n",
       "      <th>socialprivileges_en</th>\n",
       "      <th>longitude_wgs84_en</th>\n",
       "      <th>latitude_wgs84_en</th>\n",
       "      <th>geodata_center</th>\n",
       "      <th>geoarea</th>\n",
       "    </tr>\n",
       "  </thead>\n",
       "  <tbody>\n",
       "    <tr>\n",
       "      <th>0</th>\n",
       "      <td>151635</td>\n",
       "      <td>сметана</td>\n",
       "      <td>637376221</td>\n",
       "      <td>нет</td>\n",
       "      <td>NaN</td>\n",
       "      <td>кафе</td>\n",
       "      <td>Северо-Восточный административный округ</td>\n",
       "      <td>Ярославский район</td>\n",
       "      <td>город москва, улица егора абакумова, дом 9</td>\n",
       "      <td>PublicPhone:(499) 183-14-10\\n\\n</td>\n",
       "      <td>48</td>\n",
       "      <td>нет</td>\n",
       "      <td>37.71</td>\n",
       "      <td>55.88</td>\n",
       "      <td>NaN</td>\n",
       "      <td>NaN</td>\n",
       "      <td>NaN</td>\n",
       "      <td>NaN</td>\n",
       "      <td>NaN</td>\n",
       "      <td>NaN</td>\n",
       "      <td>NaN</td>\n",
       "      <td>NaN</td>\n",
       "      <td>NaN</td>\n",
       "      <td>NaN</td>\n",
       "      <td>NaN</td>\n",
       "      <td>NaN</td>\n",
       "      <td>NaN</td>\n",
       "      <td>NaN</td>\n",
       "      <td>NaN</td>\n",
       "    </tr>\n",
       "    <tr>\n",
       "      <th>1</th>\n",
       "      <td>77874</td>\n",
       "      <td>родник</td>\n",
       "      <td>637376331</td>\n",
       "      <td>нет</td>\n",
       "      <td>NaN</td>\n",
       "      <td>кафе</td>\n",
       "      <td>Центральный административный округ</td>\n",
       "      <td>Таганский район</td>\n",
       "      <td>город москва, улица талалихина, дом 2/1, корпус 1</td>\n",
       "      <td>PublicPhone:(495) 676-55-35\\n\\n</td>\n",
       "      <td>35</td>\n",
       "      <td>нет</td>\n",
       "      <td>37.67</td>\n",
       "      <td>55.74</td>\n",
       "      <td>NaN</td>\n",
       "      <td>NaN</td>\n",
       "      <td>NaN</td>\n",
       "      <td>NaN</td>\n",
       "      <td>NaN</td>\n",
       "      <td>NaN</td>\n",
       "      <td>NaN</td>\n",
       "      <td>NaN</td>\n",
       "      <td>NaN</td>\n",
       "      <td>NaN</td>\n",
       "      <td>NaN</td>\n",
       "      <td>NaN</td>\n",
       "      <td>NaN</td>\n",
       "      <td>NaN</td>\n",
       "      <td>NaN</td>\n",
       "    </tr>\n",
       "  </tbody>\n",
       "</table>\n",
       "</div>"
      ],
      "text/plain": [
       "       id     name  global_id isnetobject operatingcompany typeobject  \\\n",
       "0  151635  сметана  637376221         нет              NaN       кафе   \n",
       "1   77874   родник  637376331         нет              NaN       кафе   \n",
       "\n",
       "                                   admarea           district  \\\n",
       "0  Северо-Восточный административный округ  Ярославский район   \n",
       "1       Центральный административный округ    Таганский район   \n",
       "\n",
       "                                             address  \\\n",
       "0         город москва, улица егора абакумова, дом 9   \n",
       "1  город москва, улица талалихина, дом 2/1, корпус 1   \n",
       "\n",
       "                       publicphone  seatscount socialprivileges  \\\n",
       "0  PublicPhone:(499) 183-14-10\\n\\n          48              нет   \n",
       "1  PublicPhone:(495) 676-55-35\\n\\n          35              нет   \n",
       "\n",
       "   longitude_wgs84  latitude_wgs84  id_en  name_en  isnetobject_en  \\\n",
       "0            37.71           55.88    NaN      NaN             NaN   \n",
       "1            37.67           55.74    NaN      NaN             NaN   \n",
       "\n",
       "   operatingcompany_en  typeobject_en  admarea_en  district_en  address_en  \\\n",
       "0                  NaN            NaN         NaN          NaN         NaN   \n",
       "1                  NaN            NaN         NaN          NaN         NaN   \n",
       "\n",
       "   publicphone_en  seatscount_en  socialprivileges_en  longitude_wgs84_en  \\\n",
       "0             NaN            NaN                  NaN                 NaN   \n",
       "1             NaN            NaN                  NaN                 NaN   \n",
       "\n",
       "   latitude_wgs84_en  geodata_center  geoarea  \n",
       "0                NaN             NaN      NaN  \n",
       "1                NaN             NaN      NaN  "
      ]
     },
     "execution_count": 18,
     "metadata": {},
     "output_type": "execute_result"
    }
   ],
   "source": [
    "# В датафрейме из дополнительного источника приведу названия к нижнему регистру\n",
    "df.columns = df.columns.str.lower()\n",
    "df['address'] = df['address'].str.lower()\n",
    "df['name'] = df['name'].str.lower()\n",
    "df.head(2)"
   ]
  },
  {
   "cell_type": "code",
   "execution_count": 19,
   "metadata": {
    "ExecuteTime": {
     "end_time": "2022-11-22T08:46:30.541790Z",
     "start_time": "2022-11-22T08:46:30.497953Z"
    }
   },
   "outputs": [
    {
     "name": "stdout",
     "output_type": "stream",
     "text": [
      "<class 'pandas.core.frame.DataFrame'>\n",
      "Int64Index: 15279 entries, 0 to 15365\n",
      "Data columns (total 6 columns):\n",
      " #   Column       Non-Null Count  Dtype \n",
      "---  ------       --------------  ----- \n",
      " 0   id           15279 non-null  int64 \n",
      " 1   object_name  15279 non-null  object\n",
      " 2   chain        15279 non-null  object\n",
      " 3   object_type  15279 non-null  object\n",
      " 4   address      15279 non-null  object\n",
      " 5   number       15279 non-null  int64 \n",
      "dtypes: int64(2), object(4)\n",
      "memory usage: 835.6+ KB\n"
     ]
    }
   ],
   "source": [
    "rest_data.info()"
   ]
  },
  {
   "cell_type": "markdown",
   "metadata": {},
   "source": [
    "Создам бэкап для дальнейшего анализа, а также сразу добавлю название района по названию и адресу и числу посадочных мест (потребуется для анализа)"
   ]
  },
  {
   "cell_type": "code",
   "execution_count": 20,
   "metadata": {
    "ExecuteTime": {
     "end_time": "2022-11-22T08:46:30.725362Z",
     "start_time": "2022-11-22T08:46:30.546458Z"
    }
   },
   "outputs": [
    {
     "name": "stdout",
     "output_type": "stream",
     "text": [
      "<class 'pandas.core.frame.DataFrame'>\n",
      "Int64Index: 15279 entries, 0 to 15278\n",
      "Data columns (total 6 columns):\n",
      " #   Column       Non-Null Count  Dtype \n",
      "---  ------       --------------  ----- \n",
      " 0   object_name  15279 non-null  object\n",
      " 1   chain        15279 non-null  object\n",
      " 2   object_type  15279 non-null  object\n",
      " 3   address      15279 non-null  object\n",
      " 4   number       15279 non-null  int64 \n",
      " 5   district     4955 non-null   object\n",
      "dtypes: int64(1), object(5)\n",
      "memory usage: 835.6+ KB\n"
     ]
    }
   ],
   "source": [
    "rest = copy.deepcopy(rest_data.merge(df[['name', 'address', 'district', 'seatscount']].drop_duplicates(), \n",
    "                                     left_on=['object_name','address', 'number'], \n",
    "                                     right_on=['name', 'address', 'seatscount'], how='left'))\n",
    "\n",
    "rest = rest[['object_name', 'chain', 'object_type', 'address', 'number', 'district']]\n",
    "rest.info()"
   ]
  },
  {
   "cell_type": "markdown",
   "metadata": {},
   "source": [
    "Не по всем объектам подтянулся район, думаю, это не будет проблемой при анализе."
   ]
  },
  {
   "cell_type": "code",
   "execution_count": 21,
   "metadata": {
    "ExecuteTime": {
     "end_time": "2022-11-22T08:46:30.769832Z",
     "start_time": "2022-11-22T08:46:30.731778Z"
    }
   },
   "outputs": [
    {
     "data": {
      "text/html": [
       "<div>\n",
       "<style scoped>\n",
       "    .dataframe tbody tr th:only-of-type {\n",
       "        vertical-align: middle;\n",
       "    }\n",
       "\n",
       "    .dataframe tbody tr th {\n",
       "        vertical-align: top;\n",
       "    }\n",
       "\n",
       "    .dataframe thead th {\n",
       "        text-align: right;\n",
       "    }\n",
       "</style>\n",
       "<table border=\"1\" class=\"dataframe\">\n",
       "  <thead>\n",
       "    <tr style=\"text-align: right;\">\n",
       "      <th></th>\n",
       "      <th>object_name</th>\n",
       "      <th>chain</th>\n",
       "      <th>object_type</th>\n",
       "      <th>address</th>\n",
       "      <th>number</th>\n",
       "      <th>district</th>\n",
       "    </tr>\n",
       "  </thead>\n",
       "  <tbody>\n",
       "    <tr>\n",
       "      <th>2</th>\n",
       "      <td>кафе «академия»</td>\n",
       "      <td>нет</td>\n",
       "      <td>кафе</td>\n",
       "      <td>город москва, абельмановская улица, дом 6</td>\n",
       "      <td>95</td>\n",
       "      <td>NaN</td>\n",
       "    </tr>\n",
       "    <tr>\n",
       "      <th>3</th>\n",
       "      <td>пиццетория</td>\n",
       "      <td>да</td>\n",
       "      <td>кафе</td>\n",
       "      <td>город москва, абрамцевская улица, дом 1</td>\n",
       "      <td>40</td>\n",
       "      <td>NaN</td>\n",
       "    </tr>\n",
       "    <tr>\n",
       "      <th>4</th>\n",
       "      <td>кафе «вишневая метель»</td>\n",
       "      <td>нет</td>\n",
       "      <td>кафе</td>\n",
       "      <td>город москва, абрамцевская улица, дом 9, корпус 1</td>\n",
       "      <td>50</td>\n",
       "      <td>NaN</td>\n",
       "    </tr>\n",
       "    <tr>\n",
       "      <th>5</th>\n",
       "      <td>стол. при гоу сош № 1051</td>\n",
       "      <td>нет</td>\n",
       "      <td>столовая</td>\n",
       "      <td>город москва, абрамцевская улица, дом 15, корп...</td>\n",
       "      <td>240</td>\n",
       "      <td>NaN</td>\n",
       "    </tr>\n",
       "    <tr>\n",
       "      <th>8</th>\n",
       "      <td>кпф семья-1</td>\n",
       "      <td>нет</td>\n",
       "      <td>столовая</td>\n",
       "      <td>город москва, авиамоторная улица, дом 8, строе...</td>\n",
       "      <td>150</td>\n",
       "      <td>NaN</td>\n",
       "    </tr>\n",
       "    <tr>\n",
       "      <th>...</th>\n",
       "      <td>...</td>\n",
       "      <td>...</td>\n",
       "      <td>...</td>\n",
       "      <td>...</td>\n",
       "      <td>...</td>\n",
       "      <td>...</td>\n",
       "    </tr>\n",
       "    <tr>\n",
       "      <th>15269</th>\n",
       "      <td>шоколадница</td>\n",
       "      <td>да</td>\n",
       "      <td>кафе</td>\n",
       "      <td>город москва, митинская улица, дом 36, корпус 1</td>\n",
       "      <td>100</td>\n",
       "      <td>NaN</td>\n",
       "    </tr>\n",
       "    <tr>\n",
       "      <th>15270</th>\n",
       "      <td>шоколадница</td>\n",
       "      <td>да</td>\n",
       "      <td>кафе</td>\n",
       "      <td>город москва, площадь джавахарлала неру, дом 1</td>\n",
       "      <td>30</td>\n",
       "      <td>NaN</td>\n",
       "    </tr>\n",
       "    <tr>\n",
       "      <th>15272</th>\n",
       "      <td>кофейня «шоколадница»</td>\n",
       "      <td>да</td>\n",
       "      <td>кафе</td>\n",
       "      <td>город москва, кантемировская улица, дом 47</td>\n",
       "      <td>72</td>\n",
       "      <td>NaN</td>\n",
       "    </tr>\n",
       "    <tr>\n",
       "      <th>15276</th>\n",
       "      <td>шоколадница</td>\n",
       "      <td>да</td>\n",
       "      <td>кафе</td>\n",
       "      <td>город москва, улица земляной вал, дом 33</td>\n",
       "      <td>20</td>\n",
       "      <td>NaN</td>\n",
       "    </tr>\n",
       "    <tr>\n",
       "      <th>15278</th>\n",
       "      <td>шоколадница</td>\n",
       "      <td>да</td>\n",
       "      <td>кафе</td>\n",
       "      <td>город москва, ходынский бульвар, дом 4</td>\n",
       "      <td>10</td>\n",
       "      <td>NaN</td>\n",
       "    </tr>\n",
       "  </tbody>\n",
       "</table>\n",
       "<p>10324 rows × 6 columns</p>\n",
       "</div>"
      ],
      "text/plain": [
       "                    object_name chain object_type  \\\n",
       "2               кафе «академия»   нет        кафе   \n",
       "3                    пиццетория    да        кафе   \n",
       "4        кафе «вишневая метель»   нет        кафе   \n",
       "5      стол. при гоу сош № 1051   нет    столовая   \n",
       "8                   кпф семья-1   нет    столовая   \n",
       "...                         ...   ...         ...   \n",
       "15269               шоколадница    да        кафе   \n",
       "15270               шоколадница    да        кафе   \n",
       "15272     кофейня «шоколадница»    да        кафе   \n",
       "15276               шоколадница    да        кафе   \n",
       "15278               шоколадница    да        кафе   \n",
       "\n",
       "                                                 address  number district  \n",
       "2              город москва, абельмановская улица, дом 6      95      NaN  \n",
       "3                город москва, абрамцевская улица, дом 1      40      NaN  \n",
       "4      город москва, абрамцевская улица, дом 9, корпус 1      50      NaN  \n",
       "5      город москва, абрамцевская улица, дом 15, корп...     240      NaN  \n",
       "8      город москва, авиамоторная улица, дом 8, строе...     150      NaN  \n",
       "...                                                  ...     ...      ...  \n",
       "15269    город москва, митинская улица, дом 36, корпус 1     100      NaN  \n",
       "15270     город москва, площадь джавахарлала неру, дом 1      30      NaN  \n",
       "15272         город москва, кантемировская улица, дом 47      72      NaN  \n",
       "15276           город москва, улица земляной вал, дом 33      20      NaN  \n",
       "15278             город москва, ходынский бульвар, дом 4      10      NaN  \n",
       "\n",
       "[10324 rows x 6 columns]"
      ]
     },
     "execution_count": 21,
     "metadata": {},
     "output_type": "execute_result"
    }
   ],
   "source": [
    "rest[rest['district'].isnull()]"
   ]
  },
  {
   "cell_type": "markdown",
   "metadata": {},
   "source": [
    "**Вывод:**\n",
    "\n",
    "Значения приведены к нижнему регистру, унифицировал часть названий и типы объектов. Смущает, что Starbucks попал не в кафетерий, а в кафе, но править данные не хочется, чтобы не искажать анализ.\n",
    "\n",
    "Подтянул в датафрейм район из внешнего источника.\n",
    "\n",
    "Явных дубликатов нет.\n",
    "Можно приступать к анализу."
   ]
  },
  {
   "cell_type": "markdown",
   "metadata": {},
   "source": [
    "## Анализ данных\n",
    "<a id='section_id2'></a>\n",
    "\n",
    "### Виды объектов по количеству\n",
    "\n",
    "Исследуйте соотношение видов объектов общественного питания по количеству. Постройте график."
   ]
  },
  {
   "cell_type": "markdown",
   "metadata": {},
   "source": [
    "[Оглавление](#section_id)"
   ]
  },
  {
   "cell_type": "code",
   "execution_count": 22,
   "metadata": {
    "ExecuteTime": {
     "end_time": "2022-11-22T08:46:30.817683Z",
     "start_time": "2022-11-22T08:46:30.774333Z"
    }
   },
   "outputs": [
    {
     "data": {
      "text/html": [
       "<div>\n",
       "<style scoped>\n",
       "    .dataframe tbody tr th:only-of-type {\n",
       "        vertical-align: middle;\n",
       "    }\n",
       "\n",
       "    .dataframe tbody tr th {\n",
       "        vertical-align: top;\n",
       "    }\n",
       "\n",
       "    .dataframe thead th {\n",
       "        text-align: right;\n",
       "    }\n",
       "</style>\n",
       "<table border=\"1\" class=\"dataframe\">\n",
       "  <thead>\n",
       "    <tr style=\"text-align: right;\">\n",
       "      <th></th>\n",
       "      <th>object_type</th>\n",
       "      <th>object_name</th>\n",
       "    </tr>\n",
       "  </thead>\n",
       "  <tbody>\n",
       "    <tr>\n",
       "      <th>0</th>\n",
       "      <td>кафе</td>\n",
       "      <td>6159</td>\n",
       "    </tr>\n",
       "    <tr>\n",
       "      <th>1</th>\n",
       "      <td>столовая</td>\n",
       "      <td>2581</td>\n",
       "    </tr>\n",
       "    <tr>\n",
       "      <th>2</th>\n",
       "      <td>ресторан</td>\n",
       "      <td>2155</td>\n",
       "    </tr>\n",
       "    <tr>\n",
       "      <th>3</th>\n",
       "      <td>фаст фуд</td>\n",
       "      <td>2111</td>\n",
       "    </tr>\n",
       "    <tr>\n",
       "      <th>4</th>\n",
       "      <td>бар</td>\n",
       "      <td>845</td>\n",
       "    </tr>\n",
       "    <tr>\n",
       "      <th>5</th>\n",
       "      <td>буфет</td>\n",
       "      <td>567</td>\n",
       "    </tr>\n",
       "    <tr>\n",
       "      <th>6</th>\n",
       "      <td>кафетерий</td>\n",
       "      <td>353</td>\n",
       "    </tr>\n",
       "    <tr>\n",
       "      <th>7</th>\n",
       "      <td>закусочная</td>\n",
       "      <td>305</td>\n",
       "    </tr>\n",
       "    <tr>\n",
       "      <th>8</th>\n",
       "      <td>кулинария</td>\n",
       "      <td>203</td>\n",
       "    </tr>\n",
       "  </tbody>\n",
       "</table>\n",
       "</div>"
      ],
      "text/plain": [
       "  object_type  object_name\n",
       "0        кафе         6159\n",
       "1    столовая         2581\n",
       "2    ресторан         2155\n",
       "3    фаст фуд         2111\n",
       "4         бар          845\n",
       "5       буфет          567\n",
       "6   кафетерий          353\n",
       "7  закусочная          305\n",
       "8   кулинария          203"
      ]
     },
     "execution_count": 22,
     "metadata": {},
     "output_type": "execute_result"
    }
   ],
   "source": [
    "quantity = rest[['object_type', 'object_name']].groupby('object_type').count()\\\n",
    "   .sort_values(by='object_name', ascending=False).reset_index()\n",
    "quantity"
   ]
  },
  {
   "cell_type": "code",
   "execution_count": 23,
   "metadata": {
    "ExecuteTime": {
     "end_time": "2022-11-22T08:46:31.432259Z",
     "start_time": "2022-11-22T08:46:30.822357Z"
    }
   },
   "outputs": [
    {
     "data": {
      "image/png": "[encoded data removed]",
      "text/plain": [
       "<Figure size 1000x400 with 1 Axes>"
      ]
     },
     "metadata": {},
     "output_type": "display_data"
    }
   ],
   "source": [
    "quantity.plot(kind='bar', x='object_type', legend=False, title='Соотношение типов объектов по количеству')\n",
    "\n",
    "plt.xlabel('Тип объекта')\n",
    "plt.ylabel('Число объектов')\n",
    "plt.xticks(rotation=45)\n",
    "plt.show()"
   ]
  },
  {
   "cell_type": "markdown",
   "metadata": {},
   "source": [
    "Посчитаю долю каждого типа заведений"
   ]
  },
  {
   "cell_type": "code",
   "execution_count": 24,
   "metadata": {
    "ExecuteTime": {
     "end_time": "2022-11-22T08:46:31.469709Z",
     "start_time": "2022-11-22T08:46:31.437895Z"
    }
   },
   "outputs": [
    {
     "data": {
      "text/html": [
       "<div>\n",
       "<style scoped>\n",
       "    .dataframe tbody tr th:only-of-type {\n",
       "        vertical-align: middle;\n",
       "    }\n",
       "\n",
       "    .dataframe tbody tr th {\n",
       "        vertical-align: top;\n",
       "    }\n",
       "\n",
       "    .dataframe thead th {\n",
       "        text-align: right;\n",
       "    }\n",
       "</style>\n",
       "<table border=\"1\" class=\"dataframe\">\n",
       "  <thead>\n",
       "    <tr style=\"text-align: right;\">\n",
       "      <th></th>\n",
       "      <th>object_type</th>\n",
       "      <th>object_name</th>\n",
       "      <th>type_share</th>\n",
       "    </tr>\n",
       "  </thead>\n",
       "  <tbody>\n",
       "    <tr>\n",
       "      <th>0</th>\n",
       "      <td>кафе</td>\n",
       "      <td>6159</td>\n",
       "      <td>40.31</td>\n",
       "    </tr>\n",
       "    <tr>\n",
       "      <th>1</th>\n",
       "      <td>столовая</td>\n",
       "      <td>2581</td>\n",
       "      <td>16.89</td>\n",
       "    </tr>\n",
       "    <tr>\n",
       "      <th>2</th>\n",
       "      <td>ресторан</td>\n",
       "      <td>2155</td>\n",
       "      <td>14.10</td>\n",
       "    </tr>\n",
       "    <tr>\n",
       "      <th>3</th>\n",
       "      <td>фаст фуд</td>\n",
       "      <td>2111</td>\n",
       "      <td>13.82</td>\n",
       "    </tr>\n",
       "    <tr>\n",
       "      <th>4</th>\n",
       "      <td>бар</td>\n",
       "      <td>845</td>\n",
       "      <td>5.53</td>\n",
       "    </tr>\n",
       "    <tr>\n",
       "      <th>5</th>\n",
       "      <td>буфет</td>\n",
       "      <td>567</td>\n",
       "      <td>3.71</td>\n",
       "    </tr>\n",
       "    <tr>\n",
       "      <th>6</th>\n",
       "      <td>кафетерий</td>\n",
       "      <td>353</td>\n",
       "      <td>2.31</td>\n",
       "    </tr>\n",
       "    <tr>\n",
       "      <th>7</th>\n",
       "      <td>закусочная</td>\n",
       "      <td>305</td>\n",
       "      <td>2.00</td>\n",
       "    </tr>\n",
       "    <tr>\n",
       "      <th>8</th>\n",
       "      <td>кулинария</td>\n",
       "      <td>203</td>\n",
       "      <td>1.33</td>\n",
       "    </tr>\n",
       "  </tbody>\n",
       "</table>\n",
       "</div>"
      ],
      "text/plain": [
       "  object_type  object_name  type_share\n",
       "0        кафе         6159       40.31\n",
       "1    столовая         2581       16.89\n",
       "2    ресторан         2155       14.10\n",
       "3    фаст фуд         2111       13.82\n",
       "4         бар          845        5.53\n",
       "5       буфет          567        3.71\n",
       "6   кафетерий          353        2.31\n",
       "7  закусочная          305        2.00\n",
       "8   кулинария          203        1.33"
      ]
     },
     "execution_count": 24,
     "metadata": {},
     "output_type": "execute_result"
    }
   ],
   "source": [
    "quantity['type_share'] = quantity['object_name'] / quantity['object_name'].sum()  * 100 \n",
    "quantity"
   ]
  },
  {
   "cell_type": "markdown",
   "metadata": {},
   "source": [
    "**Вывод:**\n",
    "\n",
    "Есть явный лидер по количеству объектов - кафе, их около 6 тыс. штук. Далее с большим отрывом идут объекты второго эшелона - столовые, фаст фуд и рестораны.  "
   ]
  },
  {
   "cell_type": "markdown",
   "metadata": {},
   "source": [
    "### Сетевые и несетевые заведения по количеству\n",
    "\n",
    "Исследуйте соотношение сетевых и несетевых заведений по количеству. Постройте график."
   ]
  },
  {
   "cell_type": "code",
   "execution_count": 25,
   "metadata": {
    "ExecuteTime": {
     "end_time": "2022-11-22T08:46:31.906633Z",
     "start_time": "2022-11-22T08:46:31.475496Z"
    }
   },
   "outputs": [
    {
     "data": {
      "image/png": "[encoded data removed]",
      "text/plain": [
       "<Figure size 1000x400 with 1 Axes>"
      ]
     },
     "metadata": {},
     "output_type": "display_data"
    }
   ],
   "source": [
    "net = copy.deepcopy(rest)\n",
    "\n",
    "net = net[['object_name', 'chain']].groupby(['chain']).agg({'object_name':'count'})\\\n",
    "   .sort_values(by='object_name', ascending=False).reset_index()\n",
    "\n",
    "ax = sns.barplot(x='chain', y='object_name', data=net)\n",
    "\n",
    "ax.set_xlabel('Сетевое заведение (да/нет)')    \n",
    "ax.set_ylabel('Число объектов')\n",
    "ax.set_title('Соотношение сетевых и несетевых объектов')\n",
    "plt.show()"
   ]
  },
  {
   "cell_type": "markdown",
   "metadata": {},
   "source": [
    "**Вывод:**\n",
    "\n",
    "Несетевых заведений гораздо больше. В следующем задании посмотрю как распределяются сетевые и несетвые заведения по типам."
   ]
  },
  {
   "cell_type": "markdown",
   "metadata": {},
   "source": [
    "### Ключевой вид объекта для сети\n",
    "\n",
    "Для какого вида объекта общественного питания характерно сетевое распространение?"
   ]
  },
  {
   "cell_type": "code",
   "execution_count": 26,
   "metadata": {
    "ExecuteTime": {
     "end_time": "2022-11-22T08:46:32.640761Z",
     "start_time": "2022-11-22T08:46:31.910193Z"
    }
   },
   "outputs": [
    {
     "data": {
      "image/png": "[encoded data removed]",
      "text/plain": [
       "<Figure size 1000x400 with 1 Axes>"
      ]
     },
     "metadata": {},
     "output_type": "display_data"
    }
   ],
   "source": [
    "net = copy.deepcopy(rest)\n",
    "\n",
    "net = net[['object_type', 'object_name', 'chain']].groupby(['object_type', 'chain']).agg({'object_name':'count'})\\\n",
    "   .sort_values(by='object_name', ascending=False).reset_index()\n",
    "\n",
    "ax = sns.barplot(x='object_type', y='object_name', data=net, hue='chain')\\\n",
    "\n",
    "ax.set_xlabel('Тип заведения')    \n",
    "ax.set_ylabel('Число объектов')\n",
    "ax.set_title('Соотношение сетевых и несетевых объектов')\n",
    "plt.show()"
   ]
  },
  {
   "cell_type": "code",
   "execution_count": 27,
   "metadata": {
    "ExecuteTime": {
     "end_time": "2022-11-22T08:46:35.891770Z",
     "start_time": "2022-11-22T08:46:32.644405Z"
    },
    "scrolled": false
   },
   "outputs": [
    {
     "data": {
      "image/png": "[encoded data removed]"
     },
     "metadata": {},
     "output_type": "display_data"
    }
   ],
   "source": [
    "# Построю альтернативные интерактивные графики через plotly\n",
    "net = rest[['object_type', 'object_name', 'chain']].groupby(['object_type', 'chain']).agg({'object_name':'count'})\\\n",
    "   .rename(columns={'object_name':'object_amount'}).sort_values(by='object_amount', ascending=False).reset_index()\n",
    "\n",
    "ax = px.bar(net, x='object_type', y='object_amount', color='chain', \n",
    "            title='Соотношение сетевых и несетевых объектов', text_auto=True, \n",
    "           labels={'object_type':'Тип объектов', 'object_amount':'Число объектов'})\n",
    "ax.show('png')"
   ]
  },
  {
   "cell_type": "markdown",
   "metadata": {},
   "source": [
    "**Вывод:**\n",
    "\n",
    "Наиболее характерно сетевое распространение для фаст фуда (почти поровну сетевых и несетевых заведений), кафе и ресторанов. Тем не менее, количество несетевых заведений существенно превышает сетевые."
   ]
  },
  {
   "cell_type": "markdown",
   "metadata": {},
   "source": [
    "### Сети - количество и посадочные места\n",
    "\n",
    "Что характерно для сетевых заведений: много заведений с небольшим числом посадочных мест в каждом или мало заведений с большим количеством посадочных мест?\n",
    "\n",
    "Для ответа на вопрос добавлю категоризированную колонку с критериями в зависимости от числа посадочных мест и количества заведений в сети:\n",
    "\n",
    "* мало заведений и мало мест \n",
    "* много заведений и мало мест\n",
    "* мало заведений и много мест \n",
    "* много заведений и много мест\n",
    "\n",
    "Для критерия с посадочными местами использую колонку `number`, для количества заведений - посчитаю в отдельном датафрейме количество объектов, агрегированных по названию и замёрджу в основной датафрейм. Далее напишу функцию с добавлением категорий в зависимости от информации."
   ]
  },
  {
   "cell_type": "code",
   "execution_count": 28,
   "metadata": {
    "ExecuteTime": {
     "end_time": "2022-11-22T08:46:35.991493Z",
     "start_time": "2022-11-22T08:46:35.915119Z"
    }
   },
   "outputs": [
    {
     "data": {
      "text/html": [
       "<div>\n",
       "<style scoped>\n",
       "    .dataframe tbody tr th:only-of-type {\n",
       "        vertical-align: middle;\n",
       "    }\n",
       "\n",
       "    .dataframe tbody tr th {\n",
       "        vertical-align: top;\n",
       "    }\n",
       "\n",
       "    .dataframe thead th {\n",
       "        text-align: right;\n",
       "    }\n",
       "</style>\n",
       "<table border=\"1\" class=\"dataframe\">\n",
       "  <thead>\n",
       "    <tr style=\"text-align: right;\">\n",
       "      <th></th>\n",
       "      <th>object_name</th>\n",
       "      <th>chain</th>\n",
       "      <th>object_type</th>\n",
       "      <th>address</th>\n",
       "      <th>number</th>\n",
       "      <th>district</th>\n",
       "      <th>object_count</th>\n",
       "    </tr>\n",
       "  </thead>\n",
       "  <tbody>\n",
       "    <tr>\n",
       "      <th>0</th>\n",
       "      <td>пиццетория</td>\n",
       "      <td>да</td>\n",
       "      <td>кафе</td>\n",
       "      <td>город москва, абрамцевская улица, дом 1</td>\n",
       "      <td>40</td>\n",
       "      <td>NaN</td>\n",
       "      <td>2</td>\n",
       "    </tr>\n",
       "    <tr>\n",
       "      <th>1</th>\n",
       "      <td>брусника</td>\n",
       "      <td>да</td>\n",
       "      <td>кафе</td>\n",
       "      <td>город москва, переулок сивцев вражек, дом 6/2</td>\n",
       "      <td>10</td>\n",
       "      <td>район Арбат</td>\n",
       "      <td>8</td>\n",
       "    </tr>\n",
       "    <tr>\n",
       "      <th>2</th>\n",
       "      <td>алло пицца</td>\n",
       "      <td>да</td>\n",
       "      <td>кафе</td>\n",
       "      <td>город москва, улица авиаторов, дом 14</td>\n",
       "      <td>32</td>\n",
       "      <td>NaN</td>\n",
       "      <td>15</td>\n",
       "    </tr>\n",
       "  </tbody>\n",
       "</table>\n",
       "</div>"
      ],
      "text/plain": [
       "  object_name chain object_type  \\\n",
       "0  пиццетория    да        кафе   \n",
       "1    брусника    да        кафе   \n",
       "2  алло пицца    да        кафе   \n",
       "\n",
       "                                         address  number     district  \\\n",
       "0        город москва, абрамцевская улица, дом 1      40          NaN   \n",
       "1  город москва, переулок сивцев вражек, дом 6/2      10  район Арбат   \n",
       "2          город москва, улица авиаторов, дом 14      32          NaN   \n",
       "\n",
       "   object_count  \n",
       "0             2  \n",
       "1             8  \n",
       "2            15  "
      ]
     },
     "execution_count": 28,
     "metadata": {},
     "output_type": "execute_result"
    }
   ],
   "source": [
    "# Введу переменную где оставлю только сетевые объекты:\n",
    "chain = copy.deepcopy(rest[rest['chain'] == 'да'])\n",
    "\n",
    "# Посчитаю количество заведений, агрегированных по названию\n",
    "object_count = rest.groupby('object_name').agg({'object_type':'count'}).sort_values(by='object_type', ascending=False)\\\n",
    "    .rename(columns={'object_type':'object_count'}).reset_index()\n",
    "\n",
    "# Добавлю количество заведений к датафрейму, далее по количеству заведений будет присваиваться критерий для графика\n",
    "chain = chain.merge(object_count, on = 'object_name', how='left')\n",
    "chain.head(3)"
   ]
  },
  {
   "cell_type": "code",
   "execution_count": 29,
   "metadata": {
    "ExecuteTime": {
     "end_time": "2022-11-22T08:46:36.029192Z",
     "start_time": "2022-11-22T08:46:35.996162Z"
    }
   },
   "outputs": [
    {
     "data": {
      "text/html": [
       "<div>\n",
       "<style scoped>\n",
       "    .dataframe tbody tr th:only-of-type {\n",
       "        vertical-align: middle;\n",
       "    }\n",
       "\n",
       "    .dataframe tbody tr th {\n",
       "        vertical-align: top;\n",
       "    }\n",
       "\n",
       "    .dataframe thead th {\n",
       "        text-align: right;\n",
       "    }\n",
       "</style>\n",
       "<table border=\"1\" class=\"dataframe\">\n",
       "  <thead>\n",
       "    <tr style=\"text-align: right;\">\n",
       "      <th></th>\n",
       "      <th>number</th>\n",
       "      <th>object_count</th>\n",
       "    </tr>\n",
       "  </thead>\n",
       "  <tbody>\n",
       "    <tr>\n",
       "      <th>count</th>\n",
       "      <td>2,962.00</td>\n",
       "      <td>2,962.00</td>\n",
       "    </tr>\n",
       "    <tr>\n",
       "      <th>mean</th>\n",
       "      <td>53.00</td>\n",
       "      <td>66.74</td>\n",
       "    </tr>\n",
       "    <tr>\n",
       "      <th>std</th>\n",
       "      <td>57.16</td>\n",
       "      <td>64.78</td>\n",
       "    </tr>\n",
       "    <tr>\n",
       "      <th>min</th>\n",
       "      <td>0.00</td>\n",
       "      <td>1.00</td>\n",
       "    </tr>\n",
       "    <tr>\n",
       "      <th>25%</th>\n",
       "      <td>15.00</td>\n",
       "      <td>7.00</td>\n",
       "    </tr>\n",
       "    <tr>\n",
       "      <th>50%</th>\n",
       "      <td>40.00</td>\n",
       "      <td>47.00</td>\n",
       "    </tr>\n",
       "    <tr>\n",
       "      <th>75%</th>\n",
       "      <td>72.00</td>\n",
       "      <td>101.00</td>\n",
       "    </tr>\n",
       "    <tr>\n",
       "      <th>max</th>\n",
       "      <td>580.00</td>\n",
       "      <td>192.00</td>\n",
       "    </tr>\n",
       "  </tbody>\n",
       "</table>\n",
       "</div>"
      ],
      "text/plain": [
       "        number  object_count\n",
       "count 2,962.00      2,962.00\n",
       "mean     53.00         66.74\n",
       "std      57.16         64.78\n",
       "min       0.00          1.00\n",
       "25%      15.00          7.00\n",
       "50%      40.00         47.00\n",
       "75%      72.00        101.00\n",
       "max     580.00        192.00"
      ]
     },
     "execution_count": 29,
     "metadata": {},
     "output_type": "execute_result"
    }
   ],
   "source": [
    "# Посмотрю на полученный датафрейм:\n",
    "chain.describe()"
   ]
  },
  {
   "cell_type": "markdown",
   "metadata": {},
   "source": [
    "Для критериев много / мало использую данные 1ого квартиля: всё что меньше или равно - мало, больше - много. "
   ]
  },
  {
   "cell_type": "code",
   "execution_count": 30,
   "metadata": {
    "ExecuteTime": {
     "end_time": "2022-11-22T08:46:36.048546Z",
     "start_time": "2022-11-22T08:46:36.035909Z"
    }
   },
   "outputs": [],
   "source": [
    "def category_chain(row):\n",
    "    seats = row['number']\n",
    "    count = row['object_count']\n",
    "    if (count <= chain['object_count'].quantile(0.25)) & (seats <= chain['number'].quantile(0.25)):\n",
    "        return 'мало заведений и мало мест'\n",
    "    elif (count > chain['object_count'].quantile(0.25)) & (seats <= chain['number'].quantile(0.25)):\n",
    "        return 'много заведений и мало мест'\n",
    "    elif (count <= chain['object_count'].quantile(0.25)) & (seats > chain['number'].quantile(0.25)):\n",
    "        return 'мало заведений и много мест'\n",
    "    elif (count > chain['object_count'].quantile(0.25)) & (seats > chain['number'].quantile(0.25)):\n",
    "        return 'много заведений и много мест'"
   ]
  },
  {
   "cell_type": "code",
   "execution_count": 31,
   "metadata": {
    "ExecuteTime": {
     "end_time": "2022-11-22T08:47:03.942749Z",
     "start_time": "2022-11-22T08:46:36.055292Z"
    },
    "scrolled": false
   },
   "outputs": [
    {
     "data": {
      "text/html": [
       "<div>\n",
       "<style scoped>\n",
       "    .dataframe tbody tr th:only-of-type {\n",
       "        vertical-align: middle;\n",
       "    }\n",
       "\n",
       "    .dataframe tbody tr th {\n",
       "        vertical-align: top;\n",
       "    }\n",
       "\n",
       "    .dataframe thead th {\n",
       "        text-align: right;\n",
       "    }\n",
       "</style>\n",
       "<table border=\"1\" class=\"dataframe\">\n",
       "  <thead>\n",
       "    <tr style=\"text-align: right;\">\n",
       "      <th></th>\n",
       "      <th>object_name</th>\n",
       "      <th>chain</th>\n",
       "      <th>object_type</th>\n",
       "      <th>address</th>\n",
       "      <th>number</th>\n",
       "      <th>district</th>\n",
       "      <th>object_count</th>\n",
       "      <th>category</th>\n",
       "    </tr>\n",
       "  </thead>\n",
       "  <tbody>\n",
       "    <tr>\n",
       "      <th>0</th>\n",
       "      <td>пиццетория</td>\n",
       "      <td>да</td>\n",
       "      <td>кафе</td>\n",
       "      <td>город москва, абрамцевская улица, дом 1</td>\n",
       "      <td>40</td>\n",
       "      <td>NaN</td>\n",
       "      <td>2</td>\n",
       "      <td>мало заведений и много мест</td>\n",
       "    </tr>\n",
       "    <tr>\n",
       "      <th>1</th>\n",
       "      <td>брусника</td>\n",
       "      <td>да</td>\n",
       "      <td>кафе</td>\n",
       "      <td>город москва, переулок сивцев вражек, дом 6/2</td>\n",
       "      <td>10</td>\n",
       "      <td>район Арбат</td>\n",
       "      <td>8</td>\n",
       "      <td>много заведений и мало мест</td>\n",
       "    </tr>\n",
       "    <tr>\n",
       "      <th>2</th>\n",
       "      <td>алло пицца</td>\n",
       "      <td>да</td>\n",
       "      <td>кафе</td>\n",
       "      <td>город москва, улица авиаторов, дом 14</td>\n",
       "      <td>32</td>\n",
       "      <td>NaN</td>\n",
       "      <td>15</td>\n",
       "      <td>много заведений и много мест</td>\n",
       "    </tr>\n",
       "    <tr>\n",
       "      <th>3</th>\n",
       "      <td>суши wok</td>\n",
       "      <td>да</td>\n",
       "      <td>кафе</td>\n",
       "      <td>город москва, азовская улица, дом 3</td>\n",
       "      <td>7</td>\n",
       "      <td>NaN</td>\n",
       "      <td>72</td>\n",
       "      <td>много заведений и мало мест</td>\n",
       "    </tr>\n",
       "  </tbody>\n",
       "</table>\n",
       "</div>"
      ],
      "text/plain": [
       "  object_name chain object_type  \\\n",
       "0  пиццетория    да        кафе   \n",
       "1    брусника    да        кафе   \n",
       "2  алло пицца    да        кафе   \n",
       "3    суши wok    да        кафе   \n",
       "\n",
       "                                         address  number     district  \\\n",
       "0        город москва, абрамцевская улица, дом 1      40          NaN   \n",
       "1  город москва, переулок сивцев вражек, дом 6/2      10  район Арбат   \n",
       "2          город москва, улица авиаторов, дом 14      32          NaN   \n",
       "3            город москва, азовская улица, дом 3       7          NaN   \n",
       "\n",
       "   object_count                      category  \n",
       "0             2   мало заведений и много мест  \n",
       "1             8   много заведений и мало мест  \n",
       "2            15  много заведений и много мест  \n",
       "3            72   много заведений и мало мест  "
      ]
     },
     "execution_count": 31,
     "metadata": {},
     "output_type": "execute_result"
    }
   ],
   "source": [
    "chain['category'] = chain.apply(category_chain, axis=1)\n",
    "chain.head(4)"
   ]
  },
  {
   "cell_type": "code",
   "execution_count": 32,
   "metadata": {
    "ExecuteTime": {
     "end_time": "2022-11-22T08:47:03.973425Z",
     "start_time": "2022-11-22T08:47:03.947574Z"
    }
   },
   "outputs": [
    {
     "data": {
      "text/plain": [
       "array(['мало заведений и много мест', 'много заведений и мало мест',\n",
       "       'много заведений и много мест', 'мало заведений и мало мест'],\n",
       "      dtype=object)"
      ]
     },
     "execution_count": 32,
     "metadata": {},
     "output_type": "execute_result"
    }
   ],
   "source": [
    "# Проверю, что не осталось пустых строк:\n",
    "chain['category'].unique()"
   ]
  },
  {
   "cell_type": "code",
   "execution_count": 33,
   "metadata": {
    "ExecuteTime": {
     "end_time": "2022-11-22T08:47:04.010821Z",
     "start_time": "2022-11-22T08:47:03.980276Z"
    }
   },
   "outputs": [
    {
     "data": {
      "text/html": [
       "<div>\n",
       "<style scoped>\n",
       "    .dataframe tbody tr th:only-of-type {\n",
       "        vertical-align: middle;\n",
       "    }\n",
       "\n",
       "    .dataframe tbody tr th {\n",
       "        vertical-align: top;\n",
       "    }\n",
       "\n",
       "    .dataframe thead th {\n",
       "        text-align: right;\n",
       "    }\n",
       "</style>\n",
       "<table border=\"1\" class=\"dataframe\">\n",
       "  <thead>\n",
       "    <tr style=\"text-align: right;\">\n",
       "      <th></th>\n",
       "      <th>category</th>\n",
       "      <th>object_count</th>\n",
       "      <th>number</th>\n",
       "    </tr>\n",
       "  </thead>\n",
       "  <tbody>\n",
       "    <tr>\n",
       "      <th>0</th>\n",
       "      <td>мало заведений и мало мест</td>\n",
       "      <td>163</td>\n",
       "      <td>1022</td>\n",
       "    </tr>\n",
       "    <tr>\n",
       "      <th>1</th>\n",
       "      <td>мало заведений и много мест</td>\n",
       "      <td>604</td>\n",
       "      <td>47046</td>\n",
       "    </tr>\n",
       "    <tr>\n",
       "      <th>2</th>\n",
       "      <td>много заведений и мало мест</td>\n",
       "      <td>621</td>\n",
       "      <td>3589</td>\n",
       "    </tr>\n",
       "    <tr>\n",
       "      <th>3</th>\n",
       "      <td>много заведений и много мест</td>\n",
       "      <td>1574</td>\n",
       "      <td>105329</td>\n",
       "    </tr>\n",
       "  </tbody>\n",
       "</table>\n",
       "</div>"
      ],
      "text/plain": [
       "                       category  object_count  number\n",
       "0    мало заведений и мало мест           163    1022\n",
       "1   мало заведений и много мест           604   47046\n",
       "2   много заведений и мало мест           621    3589\n",
       "3  много заведений и много мест          1574  105329"
      ]
     },
     "execution_count": 33,
     "metadata": {},
     "output_type": "execute_result"
    }
   ],
   "source": [
    "# Посмотрю на агрегированную информацию по категориям:\n",
    "chain.groupby('category').agg({'object_count':'count', 'number':'sum'}).reset_index()"
   ]
  },
  {
   "cell_type": "code",
   "execution_count": 34,
   "metadata": {
    "ExecuteTime": {
     "end_time": "2022-11-22T08:47:04.695072Z",
     "start_time": "2022-11-22T08:47:04.017441Z"
    }
   },
   "outputs": [
    {
     "data": {
      "image/png": "[encoded data removed]",
      "text/plain": [
       "<Figure size 1400x500 with 1 Axes>"
      ]
     },
     "metadata": {},
     "output_type": "display_data"
    }
   ],
   "source": [
    "plt.subplots(figsize=(14, 5))\n",
    "sns.boxplot(x='category', y='number', data=chain).set_ylim(0, 300)\n",
    "plt.xlabel('Категория')\n",
    "plt.ylabel('Число посадочных мест')\n",
    "plt.title('Категоризация сетевых заведений по количеству объектов и числу посадочных мест')\n",
    "plt.show()"
   ]
  },
  {
   "cell_type": "code",
   "execution_count": 35,
   "metadata": {
    "ExecuteTime": {
     "end_time": "2022-11-22T08:47:05.411054Z",
     "start_time": "2022-11-22T08:47:04.704959Z"
    }
   },
   "outputs": [
    {
     "data": {
      "image/png": "[encoded data removed]",
      "text/plain": [
       "<Figure size 700x500 with 1 Axes>"
      ]
     },
     "metadata": {},
     "output_type": "display_data"
    }
   ],
   "source": [
    "plt.subplots(figsize=(7, 5))\n",
    "chain['number'].hist(bins=50, range=(0, 200))\n",
    "\n",
    "plt.xlabel('Число посадочных мест')\n",
    "plt.ylabel('Количество объектов')\n",
    "plt.title('Гистограмма распределения числа посадочных мест и количества объектов')\n",
    "\n",
    "plt.show()"
   ]
  },
  {
   "cell_type": "code",
   "execution_count": 36,
   "metadata": {
    "ExecuteTime": {
     "end_time": "2022-11-22T08:47:05.769824Z",
     "start_time": "2022-11-22T08:47:05.418906Z"
    },
    "scrolled": false
   },
   "outputs": [
    {
     "data": {
      "image/png": "[encoded data removed]",
      "text/plain": [
       "<Figure size 1000x400 with 1 Axes>"
      ]
     },
     "metadata": {},
     "output_type": "display_data"
    }
   ],
   "source": [
    "sns.boxplot(x=chain['number'])\n",
    "plt.show()"
   ]
  },
  {
   "cell_type": "markdown",
   "metadata": {},
   "source": [
    "**Вывод:**\n",
    "\n",
    "Более распространены сетевые заведения в категории много заведений с большим количеством посадочных мест.\n",
    "\n",
    "Категоризирую заведения по количеству объектов и числу мест, присвоив значения `мало`, `средне` и `много`. Использую функцию `qcut`"
   ]
  },
  {
   "cell_type": "code",
   "execution_count": 37,
   "metadata": {
    "ExecuteTime": {
     "end_time": "2022-11-22T08:47:05.863635Z",
     "start_time": "2022-11-22T08:47:05.780244Z"
    }
   },
   "outputs": [
    {
     "data": {
      "text/html": [
       "<div>\n",
       "<style scoped>\n",
       "    .dataframe tbody tr th:only-of-type {\n",
       "        vertical-align: middle;\n",
       "    }\n",
       "\n",
       "    .dataframe tbody tr th {\n",
       "        vertical-align: top;\n",
       "    }\n",
       "\n",
       "    .dataframe thead th {\n",
       "        text-align: right;\n",
       "    }\n",
       "</style>\n",
       "<table border=\"1\" class=\"dataframe\">\n",
       "  <thead>\n",
       "    <tr style=\"text-align: right;\">\n",
       "      <th></th>\n",
       "      <th>object_name</th>\n",
       "      <th>obj_count</th>\n",
       "      <th>seats</th>\n",
       "      <th>category_obj</th>\n",
       "      <th>category_seats</th>\n",
       "      <th>category</th>\n",
       "    </tr>\n",
       "  </thead>\n",
       "  <tbody>\n",
       "    <tr>\n",
       "      <th>0</th>\n",
       "      <td>bocconcino</td>\n",
       "      <td>3</td>\n",
       "      <td>66.67</td>\n",
       "      <td>мало заведений</td>\n",
       "      <td>средне мест</td>\n",
       "      <td>мало заведений, средне мест</td>\n",
       "    </tr>\n",
       "    <tr>\n",
       "      <th>1</th>\n",
       "      <td>burger club</td>\n",
       "      <td>3</td>\n",
       "      <td>20.33</td>\n",
       "      <td>мало заведений</td>\n",
       "      <td>мало мест</td>\n",
       "      <td>мало заведений, мало мест</td>\n",
       "    </tr>\n",
       "    <tr>\n",
       "      <th>2</th>\n",
       "      <td>coffeeshop company</td>\n",
       "      <td>4</td>\n",
       "      <td>47.25</td>\n",
       "      <td>средне заведений</td>\n",
       "      <td>средне мест</td>\n",
       "      <td>средне заведений, средне мест</td>\n",
       "    </tr>\n",
       "    <tr>\n",
       "      <th>3</th>\n",
       "      <td>cofix</td>\n",
       "      <td>25</td>\n",
       "      <td>9.60</td>\n",
       "      <td>много заведений</td>\n",
       "      <td>мало мест</td>\n",
       "      <td>много заведений, мало мест</td>\n",
       "    </tr>\n",
       "  </tbody>\n",
       "</table>\n",
       "</div>"
      ],
      "text/plain": [
       "          object_name  obj_count  seats      category_obj category_seats  \\\n",
       "0          bocconcino          3  66.67    мало заведений    средне мест   \n",
       "1         burger club          3  20.33    мало заведений      мало мест   \n",
       "2  coffeeshop company          4  47.25  средне заведений    средне мест   \n",
       "3               cofix         25   9.60   много заведений      мало мест   \n",
       "\n",
       "                        category  \n",
       "0    мало заведений, средне мест  \n",
       "1      мало заведений, мало мест  \n",
       "2  средне заведений, средне мест  \n",
       "3     много заведений, мало мест  "
      ]
     },
     "execution_count": 37,
     "metadata": {},
     "output_type": "execute_result"
    }
   ],
   "source": [
    "# Посчитаю среднее число мест по объектам, сгруппированным по названиям\n",
    "chain_rest = rest[rest['chain'] == 'да'].groupby('object_name').agg(obj_count=('object_type','count'), \n",
    "         seats=('number','mean'))[lambda x : x['obj_count'] > 1].reset_index()\n",
    "\n",
    "# Категории для заведений:\n",
    "category_obj = ['мало заведений', 'средне заведений', 'много заведений']\n",
    "chain_rest['category_obj'] = pd.qcut(chain_rest['obj_count'], q = [0, 1/3, 2/3, 1],\n",
    "                           labels=category_obj)\n",
    "# Категории для числа мест:\n",
    "category_seats = ['мало мест', 'средне мест', 'много мест']\n",
    "chain_rest['category_seats'] = pd.qcut(chain_rest['seats'], q = [0, 1/3, 2/3, 1],\n",
    "                           labels=category_seats)\n",
    "# Столбец, объединяющий в единую категорию:\n",
    "chain_rest['category'] = chain_rest['category_obj'].astype(str) + ', ' + chain_rest['category_seats'].astype(str)\n",
    "chain_rest.head(4)"
   ]
  },
  {
   "cell_type": "code",
   "execution_count": 38,
   "metadata": {
    "ExecuteTime": {
     "end_time": "2022-11-22T08:47:05.896028Z",
     "start_time": "2022-11-22T08:47:05.867908Z"
    }
   },
   "outputs": [
    {
     "data": {
      "text/html": [
       "<div>\n",
       "<style scoped>\n",
       "    .dataframe tbody tr th:only-of-type {\n",
       "        vertical-align: middle;\n",
       "    }\n",
       "\n",
       "    .dataframe tbody tr th {\n",
       "        vertical-align: top;\n",
       "    }\n",
       "\n",
       "    .dataframe thead th {\n",
       "        text-align: right;\n",
       "    }\n",
       "</style>\n",
       "<table border=\"1\" class=\"dataframe\">\n",
       "  <thead>\n",
       "    <tr style=\"text-align: right;\">\n",
       "      <th></th>\n",
       "      <th>category</th>\n",
       "      <th>obj_count</th>\n",
       "      <th>seats</th>\n",
       "    </tr>\n",
       "  </thead>\n",
       "  <tbody>\n",
       "    <tr>\n",
       "      <th>0</th>\n",
       "      <td>мало заведений, мало мест</td>\n",
       "      <td>32</td>\n",
       "      <td>514.67</td>\n",
       "    </tr>\n",
       "    <tr>\n",
       "      <th>1</th>\n",
       "      <td>мало заведений, много мест</td>\n",
       "      <td>36</td>\n",
       "      <td>4,401.67</td>\n",
       "    </tr>\n",
       "    <tr>\n",
       "      <th>2</th>\n",
       "      <td>мало заведений, средне мест</td>\n",
       "      <td>31</td>\n",
       "      <td>1,453.67</td>\n",
       "    </tr>\n",
       "    <tr>\n",
       "      <th>3</th>\n",
       "      <td>много заведений, мало мест</td>\n",
       "      <td>22</td>\n",
       "      <td>298.16</td>\n",
       "    </tr>\n",
       "    <tr>\n",
       "      <th>4</th>\n",
       "      <td>много заведений, много мест</td>\n",
       "      <td>16</td>\n",
       "      <td>1,887.42</td>\n",
       "    </tr>\n",
       "    <tr>\n",
       "      <th>5</th>\n",
       "      <td>много заведений, средне мест</td>\n",
       "      <td>22</td>\n",
       "      <td>930.21</td>\n",
       "    </tr>\n",
       "    <tr>\n",
       "      <th>6</th>\n",
       "      <td>средне заведений, мало мест</td>\n",
       "      <td>15</td>\n",
       "      <td>240.03</td>\n",
       "    </tr>\n",
       "    <tr>\n",
       "      <th>7</th>\n",
       "      <td>средне заведений, много мест</td>\n",
       "      <td>17</td>\n",
       "      <td>1,975.80</td>\n",
       "    </tr>\n",
       "    <tr>\n",
       "      <th>8</th>\n",
       "      <td>средне заведений, средне мест</td>\n",
       "      <td>15</td>\n",
       "      <td>738.83</td>\n",
       "    </tr>\n",
       "  </tbody>\n",
       "</table>\n",
       "</div>"
      ],
      "text/plain": [
       "                        category  obj_count    seats\n",
       "0      мало заведений, мало мест         32   514.67\n",
       "1     мало заведений, много мест         36 4,401.67\n",
       "2    мало заведений, средне мест         31 1,453.67\n",
       "3     много заведений, мало мест         22   298.16\n",
       "4    много заведений, много мест         16 1,887.42\n",
       "5   много заведений, средне мест         22   930.21\n",
       "6    средне заведений, мало мест         15   240.03\n",
       "7   средне заведений, много мест         17 1,975.80\n",
       "8  средне заведений, средне мест         15   738.83"
      ]
     },
     "execution_count": 38,
     "metadata": {},
     "output_type": "execute_result"
    }
   ],
   "source": [
    "chain_rest.groupby('category')\\\n",
    "    .agg({'obj_count':'count', 'seats':'sum'}).reset_index()"
   ]
  },
  {
   "cell_type": "code",
   "execution_count": 39,
   "metadata": {
    "ExecuteTime": {
     "end_time": "2022-11-22T08:47:06.601581Z",
     "start_time": "2022-11-22T08:47:05.900528Z"
    },
    "scrolled": false
   },
   "outputs": [
    {
     "data": {
      "image/png": "[encoded data removed]",
      "text/plain": [
       "<Figure size 1500x800 with 1 Axes>"
      ]
     },
     "metadata": {},
     "output_type": "display_data"
    }
   ],
   "source": [
    "plt.subplots(figsize=(15, 8))\n",
    "sns.boxplot(x='seats', y='category', data=chain_rest)\n",
    "plt.ylabel('Категория')\n",
    "plt.xlabel('Число посадочных мест')\n",
    "plt.title('Категоризация сетевых заведений по количеству объектов и числу посадочных мест')\n",
    "plt.show()"
   ]
  },
  {
   "cell_type": "markdown",
   "metadata": {},
   "source": [
    "**Вывод v2:**\n",
    "\n",
    "Из таблицы можно сделать вывод, что побеждают заведения в категории `мало заведений, много мест`, однако на графике диаграммы размаха категория `средне заведений, много мест` незначительно обгоняет её."
   ]
  },
  {
   "cell_type": "markdown",
   "metadata": {},
   "source": [
    "### Среднее количество посадочных мест\n",
    "\n",
    "Для каждого вида объекта общественного питания опишите среднее количество посадочных мест. Какой вид предоставляет в среднем самое большое количество посадочных мест? Постройте графики."
   ]
  },
  {
   "cell_type": "code",
   "execution_count": 40,
   "metadata": {
    "ExecuteTime": {
     "end_time": "2022-11-22T08:47:07.413879Z",
     "start_time": "2022-11-22T08:47:06.606330Z"
    }
   },
   "outputs": [
    {
     "data": {
      "image/png": "[encoded data removed]",
      "text/plain": [
       "<Figure size 1000x700 with 1 Axes>"
      ]
     },
     "metadata": {},
     "output_type": "display_data"
    }
   ],
   "source": [
    "# Построю график ящик с усами с количеством посадочных мест в разрезе типов заведений:\n",
    "plt.subplots(figsize=(10, 7))\n",
    "ax = sns.boxplot(x='number', y='object_type', data=rest, palette=\"Set2\")\n",
    "ax.set_xlim(-10, 400)\n",
    "ax.set_xlabel('Количество посадочных мест')\n",
    "ax.set_ylabel('Тип заведения')\n",
    "ax.set_title('Количество посадочных мест в разрезе заведений')\n",
    "\n",
    "plt.show()"
   ]
  },
  {
   "cell_type": "code",
   "execution_count": 41,
   "metadata": {
    "ExecuteTime": {
     "end_time": "2022-11-22T08:47:07.491288Z",
     "start_time": "2022-11-22T08:47:07.420111Z"
    }
   },
   "outputs": [
    {
     "data": {
      "text/html": [
       "<div>\n",
       "<style scoped>\n",
       "    .dataframe tbody tr th:only-of-type {\n",
       "        vertical-align: middle;\n",
       "    }\n",
       "\n",
       "    .dataframe tbody tr th {\n",
       "        vertical-align: top;\n",
       "    }\n",
       "\n",
       "    .dataframe thead th {\n",
       "        text-align: right;\n",
       "    }\n",
       "</style>\n",
       "<table border=\"1\" class=\"dataframe\">\n",
       "  <thead>\n",
       "    <tr style=\"text-align: right;\">\n",
       "      <th></th>\n",
       "      <th>count</th>\n",
       "      <th>mean</th>\n",
       "      <th>std</th>\n",
       "      <th>min</th>\n",
       "      <th>25%</th>\n",
       "      <th>50%</th>\n",
       "      <th>75%</th>\n",
       "      <th>max</th>\n",
       "    </tr>\n",
       "    <tr>\n",
       "      <th>object_type</th>\n",
       "      <th></th>\n",
       "      <th></th>\n",
       "      <th></th>\n",
       "      <th></th>\n",
       "      <th></th>\n",
       "      <th></th>\n",
       "      <th></th>\n",
       "      <th></th>\n",
       "    </tr>\n",
       "  </thead>\n",
       "  <tbody>\n",
       "    <tr>\n",
       "      <th>столовая</th>\n",
       "      <td>2,581.00</td>\n",
       "      <td>130.36</td>\n",
       "      <td>95.23</td>\n",
       "      <td>0.00</td>\n",
       "      <td>50.00</td>\n",
       "      <td>103.00</td>\n",
       "      <td>200.00</td>\n",
       "      <td>1,400.00</td>\n",
       "    </tr>\n",
       "    <tr>\n",
       "      <th>ресторан</th>\n",
       "      <td>2,155.00</td>\n",
       "      <td>100.19</td>\n",
       "      <td>96.47</td>\n",
       "      <td>0.00</td>\n",
       "      <td>48.00</td>\n",
       "      <td>80.00</td>\n",
       "      <td>120.00</td>\n",
       "      <td>1,500.00</td>\n",
       "    </tr>\n",
       "    <tr>\n",
       "      <th>бар</th>\n",
       "      <td>845.00</td>\n",
       "      <td>44.04</td>\n",
       "      <td>67.91</td>\n",
       "      <td>0.00</td>\n",
       "      <td>20.00</td>\n",
       "      <td>35.00</td>\n",
       "      <td>50.00</td>\n",
       "      <td>1,700.00</td>\n",
       "    </tr>\n",
       "    <tr>\n",
       "      <th>буфет</th>\n",
       "      <td>567.00</td>\n",
       "      <td>52.17</td>\n",
       "      <td>56.62</td>\n",
       "      <td>0.00</td>\n",
       "      <td>15.00</td>\n",
       "      <td>32.00</td>\n",
       "      <td>80.00</td>\n",
       "      <td>320.00</td>\n",
       "    </tr>\n",
       "    <tr>\n",
       "      <th>кафе</th>\n",
       "      <td>6,159.00</td>\n",
       "      <td>38.91</td>\n",
       "      <td>36.72</td>\n",
       "      <td>0.00</td>\n",
       "      <td>15.00</td>\n",
       "      <td>30.00</td>\n",
       "      <td>50.00</td>\n",
       "      <td>533.00</td>\n",
       "    </tr>\n",
       "    <tr>\n",
       "      <th>кафетерий</th>\n",
       "      <td>353.00</td>\n",
       "      <td>8.88</td>\n",
       "      <td>14.20</td>\n",
       "      <td>0.00</td>\n",
       "      <td>0.00</td>\n",
       "      <td>6.00</td>\n",
       "      <td>12.00</td>\n",
       "      <td>200.00</td>\n",
       "    </tr>\n",
       "    <tr>\n",
       "      <th>фаст фуд</th>\n",
       "      <td>2,111.00</td>\n",
       "      <td>23.05</td>\n",
       "      <td>40.29</td>\n",
       "      <td>0.00</td>\n",
       "      <td>0.00</td>\n",
       "      <td>6.00</td>\n",
       "      <td>30.00</td>\n",
       "      <td>580.00</td>\n",
       "    </tr>\n",
       "    <tr>\n",
       "      <th>закусочная</th>\n",
       "      <td>305.00</td>\n",
       "      <td>6.72</td>\n",
       "      <td>16.14</td>\n",
       "      <td>0.00</td>\n",
       "      <td>0.00</td>\n",
       "      <td>0.00</td>\n",
       "      <td>8.00</td>\n",
       "      <td>216.00</td>\n",
       "    </tr>\n",
       "    <tr>\n",
       "      <th>кулинария</th>\n",
       "      <td>203.00</td>\n",
       "      <td>4.63</td>\n",
       "      <td>8.60</td>\n",
       "      <td>0.00</td>\n",
       "      <td>0.00</td>\n",
       "      <td>0.00</td>\n",
       "      <td>6.00</td>\n",
       "      <td>50.00</td>\n",
       "    </tr>\n",
       "  </tbody>\n",
       "</table>\n",
       "</div>"
      ],
      "text/plain": [
       "               count   mean   std  min   25%    50%    75%      max\n",
       "object_type                                                        \n",
       "столовая    2,581.00 130.36 95.23 0.00 50.00 103.00 200.00 1,400.00\n",
       "ресторан    2,155.00 100.19 96.47 0.00 48.00  80.00 120.00 1,500.00\n",
       "бар           845.00  44.04 67.91 0.00 20.00  35.00  50.00 1,700.00\n",
       "буфет         567.00  52.17 56.62 0.00 15.00  32.00  80.00   320.00\n",
       "кафе        6,159.00  38.91 36.72 0.00 15.00  30.00  50.00   533.00\n",
       "кафетерий     353.00   8.88 14.20 0.00  0.00   6.00  12.00   200.00\n",
       "фаст фуд    2,111.00  23.05 40.29 0.00  0.00   6.00  30.00   580.00\n",
       "закусочная    305.00   6.72 16.14 0.00  0.00   0.00   8.00   216.00\n",
       "кулинария     203.00   4.63  8.60 0.00  0.00   0.00   6.00    50.00"
      ]
     },
     "execution_count": 41,
     "metadata": {},
     "output_type": "execute_result"
    }
   ],
   "source": [
    "rest.groupby('object_type')['number'].describe().sort_values(by='50%', ascending=False)"
   ]
  },
  {
   "cell_type": "code",
   "execution_count": 42,
   "metadata": {
    "ExecuteTime": {
     "end_time": "2022-11-22T08:47:07.919727Z",
     "start_time": "2022-11-22T08:47:07.496914Z"
    }
   },
   "outputs": [
    {
     "data": {
      "image/png": "[encoded data removed]"
     },
     "metadata": {},
     "output_type": "display_data"
    }
   ],
   "source": [
    "# Построю график столбчатой диаграмы\n",
    "rest_avg_number = copy.deepcopy(rest)\n",
    "rest_avg_number = rest_avg_number.groupby('object_type').agg({'number':'mean', 'object_name':'count'})\\\n",
    "    .sort_values(by='number', ascending=False).rename(columns={'object_name':'object_amount'}).reset_index()\n",
    "\n",
    "ax = px.bar(rest_avg_number, x='object_type', y='number', color='number', \n",
    "            title='Типы заведений по среднему числу посадочных мест',\n",
    "           labels={'object_type':'Тип объекта', 'number':'Среднее число посадочных мест'},\n",
    "           hover_data=['object_amount'])\n",
    "\n",
    "ax.show('png')"
   ]
  },
  {
   "cell_type": "markdown",
   "metadata": {},
   "source": [
    "**Вывод:**\n",
    "\n",
    "В среднем самое большое количество посадочных мест в столовых - 130 мест, что логично. На втором месте располагаются рестораны со средним значением 96 мест. Далее идёт группа заведений (буфеты, бары и кафе), в которых в районе 40-50 посадочных мест. Оставшиеся типы заведений существенно проигрывают (со значением 5-20 мест)."
   ]
  },
  {
   "cell_type": "markdown",
   "metadata": {},
   "source": [
    "### Адрес\n",
    "\n",
    "Выделите в отдельный столбец информацию об улице из столбца address ."
   ]
  },
  {
   "cell_type": "code",
   "execution_count": 43,
   "metadata": {
    "ExecuteTime": {
     "end_time": "2022-11-22T08:47:08.003458Z",
     "start_time": "2022-11-22T08:47:07.923881Z"
    }
   },
   "outputs": [
    {
     "data": {
      "text/html": [
       "<div>\n",
       "<style scoped>\n",
       "    .dataframe tbody tr th:only-of-type {\n",
       "        vertical-align: middle;\n",
       "    }\n",
       "\n",
       "    .dataframe tbody tr th {\n",
       "        vertical-align: top;\n",
       "    }\n",
       "\n",
       "    .dataframe thead th {\n",
       "        text-align: right;\n",
       "    }\n",
       "</style>\n",
       "<table border=\"1\" class=\"dataframe\">\n",
       "  <thead>\n",
       "    <tr style=\"text-align: right;\">\n",
       "      <th></th>\n",
       "      <th>object_name</th>\n",
       "      <th>chain</th>\n",
       "      <th>object_type</th>\n",
       "      <th>address</th>\n",
       "      <th>number</th>\n",
       "      <th>district</th>\n",
       "      <th>street_name</th>\n",
       "    </tr>\n",
       "  </thead>\n",
       "  <tbody>\n",
       "    <tr>\n",
       "      <th>0</th>\n",
       "      <td>сметана</td>\n",
       "      <td>нет</td>\n",
       "      <td>кафе</td>\n",
       "      <td>город москва, улица егора абакумова, дом 9</td>\n",
       "      <td>48</td>\n",
       "      <td>Ярославский район</td>\n",
       "      <td>улица егора абакумова</td>\n",
       "    </tr>\n",
       "    <tr>\n",
       "      <th>1</th>\n",
       "      <td>родник</td>\n",
       "      <td>нет</td>\n",
       "      <td>кафе</td>\n",
       "      <td>город москва, улица талалихина, дом 2/1, корпус 1</td>\n",
       "      <td>35</td>\n",
       "      <td>Таганский район</td>\n",
       "      <td>улица талалихина</td>\n",
       "    </tr>\n",
       "    <tr>\n",
       "      <th>2</th>\n",
       "      <td>кафе «академия»</td>\n",
       "      <td>нет</td>\n",
       "      <td>кафе</td>\n",
       "      <td>город москва, абельмановская улица, дом 6</td>\n",
       "      <td>95</td>\n",
       "      <td>NaN</td>\n",
       "      <td>абельмановская улица</td>\n",
       "    </tr>\n",
       "  </tbody>\n",
       "</table>\n",
       "</div>"
      ],
      "text/plain": [
       "       object_name chain object_type  \\\n",
       "0          сметана   нет        кафе   \n",
       "1           родник   нет        кафе   \n",
       "2  кафе «академия»   нет        кафе   \n",
       "\n",
       "                                             address  number  \\\n",
       "0         город москва, улица егора абакумова, дом 9      48   \n",
       "1  город москва, улица талалихина, дом 2/1, корпус 1      35   \n",
       "2          город москва, абельмановская улица, дом 6      95   \n",
       "\n",
       "            district            street_name  \n",
       "0  Ярославский район  улица егора абакумова  \n",
       "1    Таганский район       улица талалихина  \n",
       "2                NaN   абельмановская улица  "
      ]
     },
     "execution_count": 43,
     "metadata": {},
     "output_type": "execute_result"
    }
   ],
   "source": [
    "street_only = []\n",
    "streets = rest['address']\n",
    "for street in streets:\n",
    "    begin = street.find('город москва,')\n",
    "    end = street.find(', дом')# | street.find(', владение') #or street.find(', владение'))\n",
    "    street_only.append(street[begin+14:end])\n",
    "\n",
    "rest['street_name'] = street_only\n",
    "rest.head(3)"
   ]
  },
  {
   "cell_type": "code",
   "execution_count": 44,
   "metadata": {
    "ExecuteTime": {
     "end_time": "2022-11-22T08:47:08.044412Z",
     "start_time": "2022-11-22T08:47:08.008337Z"
    }
   },
   "outputs": [
    {
     "data": {
      "text/plain": [
       "array(['улица егора абакумова', 'улица талалихина',\n",
       "       'абельмановская улица', ...,\n",
       "       'поселение щаповское, улица евгения родионова, владение ',\n",
       "       'поселение первомайское, деревня фоминское, лесная улица, владение 1',\n",
       "       'каширское шоссе, владение 57'], dtype=object)"
      ]
     },
     "execution_count": 44,
     "metadata": {},
     "output_type": "execute_result"
    }
   ],
   "source": [
    "rest['street_name'].unique()"
   ]
  },
  {
   "cell_type": "code",
   "execution_count": 45,
   "metadata": {
    "ExecuteTime": {
     "end_time": "2022-11-22T08:47:08.100189Z",
     "start_time": "2022-11-22T08:47:08.048912Z"
    }
   },
   "outputs": [
    {
     "data": {
      "text/plain": [
       "object_name    303\n",
       "chain          303\n",
       "object_type    303\n",
       "address        303\n",
       "number         303\n",
       "district        76\n",
       "street_name    303\n",
       "dtype: int64"
      ]
     },
     "execution_count": 45,
     "metadata": {},
     "output_type": "execute_result"
    }
   ],
   "source": [
    "# В тех строках, где в адоресе вместо \"дом\" указано \"владение\", незвание улицы не сформировалось должным образом\n",
    "rest.loc[rest['street_name'].str.contains(\"владение\")].count()"
   ]
  },
  {
   "cell_type": "code",
   "execution_count": 46,
   "metadata": {
    "ExecuteTime": {
     "end_time": "2022-11-22T08:47:08.205097Z",
     "start_time": "2022-11-22T08:47:08.105841Z"
    }
   },
   "outputs": [
    {
     "name": "stdout",
     "output_type": "stream",
     "text": [
      "<class 'pandas.core.frame.DataFrame'>\n",
      "Int64Index: 14976 entries, 0 to 15278\n",
      "Data columns (total 7 columns):\n",
      " #   Column       Non-Null Count  Dtype \n",
      "---  ------       --------------  ----- \n",
      " 0   object_name  14976 non-null  object\n",
      " 1   chain        14976 non-null  object\n",
      " 2   object_type  14976 non-null  object\n",
      " 3   address      14976 non-null  object\n",
      " 4   number       14976 non-null  int64 \n",
      " 5   district     4879 non-null   object\n",
      " 6   street_name  14976 non-null  object\n",
      "dtypes: int64(1), object(6)\n",
      "memory usage: 936.0+ KB\n"
     ]
    }
   ],
   "source": [
    "# Таких строк 309 или 2% от датафрейма, чтобы не заморачиваться и не создавать костыли, удалю эти строки.\n",
    "rest = rest.loc[~rest['street_name'].str.contains(\"владение\")]\n",
    "rest.info()"
   ]
  },
  {
   "cell_type": "markdown",
   "metadata": {},
   "source": [
    "### Топ-10 улиц по количеству объектов питания\n",
    "\n",
    "Постройте график топ-10 улиц по количеству объектов общественного питания. Воспользуйтесь внешней информацией и ответьте на вопрос — в каких районах Москвы находятся эти улицы?"
   ]
  },
  {
   "cell_type": "code",
   "execution_count": 47,
   "metadata": {
    "ExecuteTime": {
     "end_time": "2022-11-22T08:47:08.824205Z",
     "start_time": "2022-11-22T08:47:08.209695Z"
    },
    "scrolled": false
   },
   "outputs": [
    {
     "data": {
      "image/png": "[encoded data removed]",
      "text/plain": [
       "<Figure size 1000x400 with 1 Axes>"
      ]
     },
     "metadata": {},
     "output_type": "display_data"
    }
   ],
   "source": [
    "# Создам переменную, в которой сгруппирую датафрейм по наименованию улиц:\n",
    "rest_streets = rest.groupby('street_name').agg({'object_name':'count'}).sort_values(by='object_name', ascending=False)\\\n",
    "    .reset_index()\n",
    "\n",
    "# Строю график столбчатой диаграммы:\n",
    "ax = sns.barplot(x='street_name', y='object_name', data=rest_streets.head(10))\n",
    "\n",
    "ax.set_xlabel('Улицы')\n",
    "ax.set_ylabel('Число объектов')\n",
    "ax.set_title('Топ-10 улиц по числу объектов питания')\n",
    "plt.xticks(rotation=25)\n",
    "plt.show()"
   ]
  },
  {
   "cell_type": "code",
   "execution_count": 48,
   "metadata": {
    "ExecuteTime": {
     "end_time": "2022-11-22T08:47:08.923942Z",
     "start_time": "2022-11-22T08:47:08.828786Z"
    },
    "scrolled": false
   },
   "outputs": [
    {
     "data": {
      "text/html": [
       "<div>\n",
       "<style scoped>\n",
       "    .dataframe tbody tr th:only-of-type {\n",
       "        vertical-align: middle;\n",
       "    }\n",
       "\n",
       "    .dataframe tbody tr th {\n",
       "        vertical-align: top;\n",
       "    }\n",
       "\n",
       "    .dataframe thead th {\n",
       "        text-align: right;\n",
       "    }\n",
       "</style>\n",
       "<table border=\"1\" class=\"dataframe\">\n",
       "  <thead>\n",
       "    <tr style=\"text-align: right;\">\n",
       "      <th></th>\n",
       "      <th>street_name</th>\n",
       "      <th>district</th>\n",
       "      <th>object_name</th>\n",
       "    </tr>\n",
       "  </thead>\n",
       "  <tbody>\n",
       "    <tr>\n",
       "      <th>0</th>\n",
       "      <td>варшавское шоссе</td>\n",
       "      <td>Донской район</td>\n",
       "      <td>13</td>\n",
       "    </tr>\n",
       "    <tr>\n",
       "      <th>1</th>\n",
       "      <td>варшавское шоссе</td>\n",
       "      <td>Нагорный район</td>\n",
       "      <td>11</td>\n",
       "    </tr>\n",
       "    <tr>\n",
       "      <th>2</th>\n",
       "      <td>варшавское шоссе</td>\n",
       "      <td>район Нагатино-Садовники</td>\n",
       "      <td>1</td>\n",
       "    </tr>\n",
       "    <tr>\n",
       "      <th>3</th>\n",
       "      <td>варшавское шоссе</td>\n",
       "      <td>район Чертаново Северное</td>\n",
       "      <td>3</td>\n",
       "    </tr>\n",
       "    <tr>\n",
       "      <th>4</th>\n",
       "      <td>варшавское шоссе</td>\n",
       "      <td>район Чертаново Центральное</td>\n",
       "      <td>3</td>\n",
       "    </tr>\n",
       "    <tr>\n",
       "      <th>5</th>\n",
       "      <td>варшавское шоссе</td>\n",
       "      <td>район Чертаново Южное</td>\n",
       "      <td>11</td>\n",
       "    </tr>\n",
       "    <tr>\n",
       "      <th>6</th>\n",
       "      <td>каширское шоссе</td>\n",
       "      <td>район Москворечье-Сабурово</td>\n",
       "      <td>10</td>\n",
       "    </tr>\n",
       "    <tr>\n",
       "      <th>7</th>\n",
       "      <td>каширское шоссе</td>\n",
       "      <td>район Нагатино-Садовники</td>\n",
       "      <td>2</td>\n",
       "    </tr>\n",
       "    <tr>\n",
       "      <th>8</th>\n",
       "      <td>каширское шоссе</td>\n",
       "      <td>район Орехово-Борисово Северное</td>\n",
       "      <td>1</td>\n",
       "    </tr>\n",
       "    <tr>\n",
       "      <th>9</th>\n",
       "      <td>каширское шоссе</td>\n",
       "      <td>район Орехово-Борисово Южное</td>\n",
       "      <td>2</td>\n",
       "    </tr>\n",
       "    <tr>\n",
       "      <th>10</th>\n",
       "      <td>кутузовский проспект</td>\n",
       "      <td>поселение Краснопахорское</td>\n",
       "      <td>7</td>\n",
       "    </tr>\n",
       "    <tr>\n",
       "      <th>11</th>\n",
       "      <td>кутузовский проспект</td>\n",
       "      <td>район Дорогомилово</td>\n",
       "      <td>24</td>\n",
       "    </tr>\n",
       "    <tr>\n",
       "      <th>12</th>\n",
       "      <td>кутузовский проспект</td>\n",
       "      <td>район Фили-Давыдково</td>\n",
       "      <td>8</td>\n",
       "    </tr>\n",
       "    <tr>\n",
       "      <th>13</th>\n",
       "      <td>ленинградский проспект</td>\n",
       "      <td>Хорошёвский район</td>\n",
       "      <td>3</td>\n",
       "    </tr>\n",
       "    <tr>\n",
       "      <th>14</th>\n",
       "      <td>ленинградский проспект</td>\n",
       "      <td>район Аэропорт</td>\n",
       "      <td>30</td>\n",
       "    </tr>\n",
       "    <tr>\n",
       "      <th>15</th>\n",
       "      <td>ленинградский проспект</td>\n",
       "      <td>район Беговой</td>\n",
       "      <td>24</td>\n",
       "    </tr>\n",
       "    <tr>\n",
       "      <th>16</th>\n",
       "      <td>ленинградский проспект</td>\n",
       "      <td>район Сокол</td>\n",
       "      <td>11</td>\n",
       "    </tr>\n",
       "    <tr>\n",
       "      <th>17</th>\n",
       "      <td>ленинский проспект</td>\n",
       "      <td>Гагаринский район</td>\n",
       "      <td>15</td>\n",
       "    </tr>\n",
       "    <tr>\n",
       "      <th>18</th>\n",
       "      <td>ленинский проспект</td>\n",
       "      <td>Донской район</td>\n",
       "      <td>3</td>\n",
       "    </tr>\n",
       "    <tr>\n",
       "      <th>19</th>\n",
       "      <td>ленинский проспект</td>\n",
       "      <td>Ломоносовский район</td>\n",
       "      <td>6</td>\n",
       "    </tr>\n",
       "    <tr>\n",
       "      <th>20</th>\n",
       "      <td>ленинский проспект</td>\n",
       "      <td>Обручевский район</td>\n",
       "      <td>13</td>\n",
       "    </tr>\n",
       "    <tr>\n",
       "      <th>21</th>\n",
       "      <td>ленинский проспект</td>\n",
       "      <td>район Проспект Вернадского</td>\n",
       "      <td>1</td>\n",
       "    </tr>\n",
       "    <tr>\n",
       "      <th>22</th>\n",
       "      <td>ленинский проспект</td>\n",
       "      <td>район Тропарёво-Никулино</td>\n",
       "      <td>11</td>\n",
       "    </tr>\n",
       "    <tr>\n",
       "      <th>23</th>\n",
       "      <td>ленинский проспект</td>\n",
       "      <td>район Тёплый Стан</td>\n",
       "      <td>2</td>\n",
       "    </tr>\n",
       "    <tr>\n",
       "      <th>24</th>\n",
       "      <td>ленинский проспект</td>\n",
       "      <td>район Якиманка</td>\n",
       "      <td>6</td>\n",
       "    </tr>\n",
       "    <tr>\n",
       "      <th>25</th>\n",
       "      <td>пресненская набережная</td>\n",
       "      <td>Пресненский район</td>\n",
       "      <td>3</td>\n",
       "    </tr>\n",
       "    <tr>\n",
       "      <th>26</th>\n",
       "      <td>проспект вернадского</td>\n",
       "      <td>Ломоносовский район</td>\n",
       "      <td>3</td>\n",
       "    </tr>\n",
       "    <tr>\n",
       "      <th>27</th>\n",
       "      <td>проспект вернадского</td>\n",
       "      <td>поселение Вороновское</td>\n",
       "      <td>1</td>\n",
       "    </tr>\n",
       "    <tr>\n",
       "      <th>28</th>\n",
       "      <td>проспект вернадского</td>\n",
       "      <td>район Проспект Вернадского</td>\n",
       "      <td>4</td>\n",
       "    </tr>\n",
       "    <tr>\n",
       "      <th>29</th>\n",
       "      <td>проспект вернадского</td>\n",
       "      <td>район Раменки</td>\n",
       "      <td>6</td>\n",
       "    </tr>\n",
       "    <tr>\n",
       "      <th>30</th>\n",
       "      <td>проспект вернадского</td>\n",
       "      <td>район Тропарёво-Никулино</td>\n",
       "      <td>20</td>\n",
       "    </tr>\n",
       "    <tr>\n",
       "      <th>31</th>\n",
       "      <td>проспект мира</td>\n",
       "      <td>Алексеевский район</td>\n",
       "      <td>3</td>\n",
       "    </tr>\n",
       "    <tr>\n",
       "      <th>32</th>\n",
       "      <td>проспект мира</td>\n",
       "      <td>Мещанский район</td>\n",
       "      <td>32</td>\n",
       "    </tr>\n",
       "    <tr>\n",
       "      <th>33</th>\n",
       "      <td>проспект мира</td>\n",
       "      <td>Останкинский район</td>\n",
       "      <td>2</td>\n",
       "    </tr>\n",
       "    <tr>\n",
       "      <th>34</th>\n",
       "      <td>проспект мира</td>\n",
       "      <td>район Ростокино</td>\n",
       "      <td>3</td>\n",
       "    </tr>\n",
       "    <tr>\n",
       "      <th>35</th>\n",
       "      <td>проспект мира</td>\n",
       "      <td>район Свиблово</td>\n",
       "      <td>5</td>\n",
       "    </tr>\n",
       "    <tr>\n",
       "      <th>36</th>\n",
       "      <td>профсоюзная улица</td>\n",
       "      <td>Обручевский район</td>\n",
       "      <td>4</td>\n",
       "    </tr>\n",
       "    <tr>\n",
       "      <th>37</th>\n",
       "      <td>профсоюзная улица</td>\n",
       "      <td>район Коньково</td>\n",
       "      <td>9</td>\n",
       "    </tr>\n",
       "    <tr>\n",
       "      <th>38</th>\n",
       "      <td>профсоюзная улица</td>\n",
       "      <td>район Тёплый Стан</td>\n",
       "      <td>11</td>\n",
       "    </tr>\n",
       "    <tr>\n",
       "      <th>39</th>\n",
       "      <td>профсоюзная улица</td>\n",
       "      <td>район Черёмушки</td>\n",
       "      <td>4</td>\n",
       "    </tr>\n",
       "    <tr>\n",
       "      <th>40</th>\n",
       "      <td>профсоюзная улица</td>\n",
       "      <td>район Ясенево</td>\n",
       "      <td>4</td>\n",
       "    </tr>\n",
       "    <tr>\n",
       "      <th>41</th>\n",
       "      <td>ходынский бульвар</td>\n",
       "      <td>Хорошёвский район</td>\n",
       "      <td>12</td>\n",
       "    </tr>\n",
       "  </tbody>\n",
       "</table>\n",
       "</div>"
      ],
      "text/plain": [
       "               street_name                         district  object_name\n",
       "0         варшавское шоссе                    Донской район           13\n",
       "1         варшавское шоссе                   Нагорный район           11\n",
       "2         варшавское шоссе         район Нагатино-Садовники            1\n",
       "3         варшавское шоссе         район Чертаново Северное            3\n",
       "4         варшавское шоссе      район Чертаново Центральное            3\n",
       "5         варшавское шоссе            район Чертаново Южное           11\n",
       "6          каширское шоссе       район Москворечье-Сабурово           10\n",
       "7          каширское шоссе         район Нагатино-Садовники            2\n",
       "8          каширское шоссе  район Орехово-Борисово Северное            1\n",
       "9          каширское шоссе     район Орехово-Борисово Южное            2\n",
       "10    кутузовский проспект        поселение Краснопахорское            7\n",
       "11    кутузовский проспект               район Дорогомилово           24\n",
       "12    кутузовский проспект             район Фили-Давыдково            8\n",
       "13  ленинградский проспект                Хорошёвский район            3\n",
       "14  ленинградский проспект                   район Аэропорт           30\n",
       "15  ленинградский проспект                    район Беговой           24\n",
       "16  ленинградский проспект                      район Сокол           11\n",
       "17      ленинский проспект                Гагаринский район           15\n",
       "18      ленинский проспект                    Донской район            3\n",
       "19      ленинский проспект              Ломоносовский район            6\n",
       "20      ленинский проспект                Обручевский район           13\n",
       "21      ленинский проспект       район Проспект Вернадского            1\n",
       "22      ленинский проспект         район Тропарёво-Никулино           11\n",
       "23      ленинский проспект                район Тёплый Стан            2\n",
       "24      ленинский проспект                   район Якиманка            6\n",
       "25  пресненская набережная                Пресненский район            3\n",
       "26    проспект вернадского              Ломоносовский район            3\n",
       "27    проспект вернадского            поселение Вороновское            1\n",
       "28    проспект вернадского       район Проспект Вернадского            4\n",
       "29    проспект вернадского                    район Раменки            6\n",
       "30    проспект вернадского         район Тропарёво-Никулино           20\n",
       "31           проспект мира               Алексеевский район            3\n",
       "32           проспект мира                  Мещанский район           32\n",
       "33           проспект мира               Останкинский район            2\n",
       "34           проспект мира                  район Ростокино            3\n",
       "35           проспект мира                   район Свиблово            5\n",
       "36       профсоюзная улица                Обручевский район            4\n",
       "37       профсоюзная улица                   район Коньково            9\n",
       "38       профсоюзная улица                район Тёплый Стан           11\n",
       "39       профсоюзная улица                  район Черёмушки            4\n",
       "40       профсоюзная улица                    район Ясенево            4\n",
       "41       ходынский бульвар                Хорошёвский район           12"
      ]
     },
     "execution_count": 48,
     "metadata": {},
     "output_type": "execute_result"
    }
   ],
   "source": [
    "# запишу топ-10 улиц в переменную:\n",
    "top_ten_streets = copy.deepcopy(rest.groupby(['street_name'])\\\n",
    "    .agg({'object_name':'count'}).sort_values(by='object_name', ascending=False).reset_index()).head(10)\n",
    "\n",
    "# переименую колонку с количеством объектов:\n",
    "top_ten_streets = top_ten_streets.rename(columns={\n",
    "    'object_name':'objects_count'\n",
    "})\n",
    "\n",
    "# Сгруппирую датафрейм по улице и району, чтобы добавить к топ-улицам все районы:\n",
    "rest_grp = copy.deepcopy(rest.groupby(['street_name', 'district'])\\\n",
    "    .agg({'object_name':'count'}).sort_values(by='street_name').reset_index())\n",
    "\n",
    "# Добавляю районы в датафрейм с самыми популярными улицами:\n",
    "top_ten_streets = top_ten_streets.merge(rest_grp[['street_name', 'district']], on='street_name', how='left')\n",
    "\n",
    "rest[rest['street_name'].isin(top_ten_streets['street_name'])]\\\n",
    "    .groupby(['street_name','district']).agg({'object_name' : 'count'}).reset_index()"
   ]
  },
  {
   "cell_type": "markdown",
   "metadata": {},
   "source": [
    "**Добавление координат улиц**"
   ]
  },
  {
   "cell_type": "code",
   "execution_count": 49,
   "metadata": {
    "ExecuteTime": {
     "end_time": "2022-11-22T08:47:14.302028Z",
     "start_time": "2022-11-22T08:47:08.928709Z"
    }
   },
   "outputs": [],
   "source": [
    "key = '86dda0d1-58ed-4f66-819f-1c7851c74461'\n",
    "url = 'https://geocode-maps.yandex.ru/1.x/?apikey='\n",
    "\n",
    "#ТОП-10 улиц по числу объектов общественного питания в формате списка:\n",
    "address_list = rest_streets['street_name'].head(10).to_list()\n",
    "coordinates = []\n",
    "\n",
    "for address in address_list:\n",
    "    req = requests.get(url + key + '&format=json&geocode=' + address + '&kind=metro&results=1').json()\n",
    "    try:\n",
    "        req = str(req)\n",
    "        start = req.find(\"pos\")+7\n",
    "        req = req[start:]\n",
    "        finish = req.find(\"'\")\n",
    "        req = req[:finish]\n",
    "        coordinates.append(req)\n",
    "    except:\n",
    "        coordinates.append('Ошибка')  "
   ]
  },
  {
   "cell_type": "code",
   "execution_count": 50,
   "metadata": {
    "ExecuteTime": {
     "end_time": "2022-11-22T08:47:14.325999Z",
     "start_time": "2022-11-22T08:47:14.302028Z"
    },
    "scrolled": false
   },
   "outputs": [
    {
     "data": {
      "text/plain": [
       "['37.637937 55.812368',\n",
       " '37.532511 55.649525',\n",
       " '37.545635 55.794285',\n",
       " '37.539401 55.746335',\n",
       " '37.334783 55.350581',\n",
       " '30.238496 59.852081',\n",
       " '37.515353 55.681671',\n",
       " '37.509236 55.735038',\n",
       " '37.683203 55.641249',\n",
       " '37.531505 55.78486']"
      ]
     },
     "execution_count": 50,
     "metadata": {},
     "output_type": "execute_result"
    }
   ],
   "source": [
    "# Получившийся список координат:\n",
    "coordinates"
   ]
  },
  {
   "cell_type": "code",
   "execution_count": 51,
   "metadata": {
    "ExecuteTime": {
     "end_time": "2022-11-22T08:47:14.401815Z",
     "start_time": "2022-11-22T08:47:14.332271Z"
    },
    "scrolled": true
   },
   "outputs": [
    {
     "data": {
      "text/html": [
       "<div>\n",
       "<style scoped>\n",
       "    .dataframe tbody tr th:only-of-type {\n",
       "        vertical-align: middle;\n",
       "    }\n",
       "\n",
       "    .dataframe tbody tr th {\n",
       "        vertical-align: top;\n",
       "    }\n",
       "\n",
       "    .dataframe thead th {\n",
       "        text-align: right;\n",
       "    }\n",
       "</style>\n",
       "<table border=\"1\" class=\"dataframe\">\n",
       "  <thead>\n",
       "    <tr style=\"text-align: right;\">\n",
       "      <th></th>\n",
       "      <th>street_name</th>\n",
       "      <th>coordinates</th>\n",
       "      <th>lat</th>\n",
       "      <th>long</th>\n",
       "      <th>objects_count</th>\n",
       "    </tr>\n",
       "  </thead>\n",
       "  <tbody>\n",
       "    <tr>\n",
       "      <th>0</th>\n",
       "      <td>проспект мира</td>\n",
       "      <td>37.637937 55.812368</td>\n",
       "      <td>55.812368</td>\n",
       "      <td>37.637937</td>\n",
       "      <td>203</td>\n",
       "    </tr>\n",
       "    <tr>\n",
       "      <th>1</th>\n",
       "      <td>профсоюзная улица</td>\n",
       "      <td>37.532511 55.649525</td>\n",
       "      <td>55.649525</td>\n",
       "      <td>37.532511</td>\n",
       "      <td>181</td>\n",
       "    </tr>\n",
       "    <tr>\n",
       "      <th>2</th>\n",
       "      <td>ленинградский проспект</td>\n",
       "      <td>37.545635 55.794285</td>\n",
       "      <td>55.794285</td>\n",
       "      <td>37.545635</td>\n",
       "      <td>169</td>\n",
       "    </tr>\n",
       "    <tr>\n",
       "      <th>3</th>\n",
       "      <td>пресненская набережная</td>\n",
       "      <td>37.539401 55.746335</td>\n",
       "      <td>55.746335</td>\n",
       "      <td>37.539401</td>\n",
       "      <td>167</td>\n",
       "    </tr>\n",
       "    <tr>\n",
       "      <th>4</th>\n",
       "      <td>варшавское шоссе</td>\n",
       "      <td>37.334783 55.350581</td>\n",
       "      <td>55.350581</td>\n",
       "      <td>37.334783</td>\n",
       "      <td>155</td>\n",
       "    </tr>\n",
       "    <tr>\n",
       "      <th>5</th>\n",
       "      <td>ленинский проспект</td>\n",
       "      <td>30.238496 59.852081</td>\n",
       "      <td>59.852081</td>\n",
       "      <td>30.238496</td>\n",
       "      <td>147</td>\n",
       "    </tr>\n",
       "    <tr>\n",
       "      <th>6</th>\n",
       "      <td>проспект вернадского</td>\n",
       "      <td>37.515353 55.681671</td>\n",
       "      <td>55.681671</td>\n",
       "      <td>37.515353</td>\n",
       "      <td>127</td>\n",
       "    </tr>\n",
       "    <tr>\n",
       "      <th>7</th>\n",
       "      <td>кутузовский проспект</td>\n",
       "      <td>37.509236 55.735038</td>\n",
       "      <td>55.735038</td>\n",
       "      <td>37.509236</td>\n",
       "      <td>114</td>\n",
       "    </tr>\n",
       "    <tr>\n",
       "      <th>8</th>\n",
       "      <td>каширское шоссе</td>\n",
       "      <td>37.683203 55.641249</td>\n",
       "      <td>55.641249</td>\n",
       "      <td>37.683203</td>\n",
       "      <td>103</td>\n",
       "    </tr>\n",
       "    <tr>\n",
       "      <th>9</th>\n",
       "      <td>ходынский бульвар</td>\n",
       "      <td>37.531505 55.78486</td>\n",
       "      <td>55.78486</td>\n",
       "      <td>37.531505</td>\n",
       "      <td>102</td>\n",
       "    </tr>\n",
       "  </tbody>\n",
       "</table>\n",
       "</div>"
      ],
      "text/plain": [
       "              street_name          coordinates        lat       long  \\\n",
       "0           проспект мира  37.637937 55.812368  55.812368  37.637937   \n",
       "1       профсоюзная улица  37.532511 55.649525  55.649525  37.532511   \n",
       "2  ленинградский проспект  37.545635 55.794285  55.794285  37.545635   \n",
       "3  пресненская набережная  37.539401 55.746335  55.746335  37.539401   \n",
       "4        варшавское шоссе  37.334783 55.350581  55.350581  37.334783   \n",
       "5      ленинский проспект  30.238496 59.852081  59.852081  30.238496   \n",
       "6    проспект вернадского  37.515353 55.681671  55.681671  37.515353   \n",
       "7    кутузовский проспект  37.509236 55.735038  55.735038  37.509236   \n",
       "8         каширское шоссе  37.683203 55.641249  55.641249  37.683203   \n",
       "9       ходынский бульвар   37.531505 55.78486   55.78486  37.531505   \n",
       "\n",
       "   objects_count  \n",
       "0            203  \n",
       "1            181  \n",
       "2            169  \n",
       "3            167  \n",
       "4            155  \n",
       "5            147  \n",
       "6            127  \n",
       "7            114  \n",
       "8            103  \n",
       "9            102  "
      ]
     },
     "execution_count": 51,
     "metadata": {},
     "output_type": "execute_result"
    }
   ],
   "source": [
    "# Сформирую датафрейм с улицами и полученными координатами\n",
    "top_ten_coord = pd.DataFrame({'street_name':address_list, 'coordinates': coordinates})\n",
    "top_ten_coord['lat'] = top_ten_coord['coordinates'].str[10:]\n",
    "top_ten_coord['long'] = top_ten_coord['coordinates'].str[:9]\n",
    "\n",
    "# Добавлю количество объектов питания из изначального датафрейма\n",
    "top_ten_coord = top_ten_coord.merge(rest_streets, on='street_name', how='left')\n",
    "top_ten_coord = top_ten_coord.rename(columns={\n",
    "    'object_name':'objects_count'\n",
    "})\n",
    "\n",
    "top_ten_coord"
   ]
  },
  {
   "cell_type": "markdown",
   "metadata": {},
   "source": [
    "**Вывод**\n",
    "\n",
    "Топ-10 улиц находятся в следующих районах:\n",
    "\n",
    "1.  Проспект мира - Алексеевский, Марьина роща, Мещанский, Останкинский, Ростокино, Свиблово и Ярославский\n",
    "2.  Профсоюзная улица - Академический, Коньково, Обручевский, Тёплый Стан, Черёмушки, Ясенево\n",
    "3.  Ленинградский проспект - Аэропорт, Беговой, Сокол и Хорошёвский\n",
    "4.  Пресненская набережная - Пресненский район\n",
    "5.  Варшавское шоссе - Северное Бутово, Южное Бутово, Донской, Нагатино-Садовники, Нагорный, Северное Чертаново, Центральное Чертаново и Южное Чертаново\n",
    "6.  Ленинский проспект - Гагаринский и Донской\n",
    "7.  Проспект Вернадского - Проспект Вернадского\n",
    "8.  Кутузовский проспект - Дорогомилово и Фили-Давыдково\n",
    "9.  Каширское шоссе - Москворечье-Сабурово, Нагатино-Садовники, Северное Орехово-Борисово и Южное Орехово-Борисово\n",
    "10. Ходынский бульвар - Хорошёвский район"
   ]
  },
  {
   "cell_type": "markdown",
   "metadata": {},
   "source": [
    "### Улицы с одним объектом питания\n",
    "\n",
    "Найдите число улиц с одним объектом общественного питания. Воспользуйтесь внешней информацией и ответьте на вопрос — в каких районах Москвы находятся эти улицы?"
   ]
  },
  {
   "cell_type": "code",
   "execution_count": 52,
   "metadata": {
    "ExecuteTime": {
     "end_time": "2022-11-22T08:47:14.474759Z",
     "start_time": "2022-11-22T08:47:14.410691Z"
    }
   },
   "outputs": [
    {
     "name": "stdout",
     "output_type": "stream",
     "text": [
      "<class 'pandas.core.frame.DataFrame'>\n",
      "Int64Index: 683 entries, 0 to 682\n",
      "Data columns (total 3 columns):\n",
      " #   Column       Non-Null Count  Dtype \n",
      "---  ------       --------------  ----- \n",
      " 0   street_name  683 non-null    object\n",
      " 1   object_name  683 non-null    int64 \n",
      " 2   district     275 non-null    object\n",
      "dtypes: int64(1), object(2)\n",
      "memory usage: 21.3+ KB\n"
     ]
    }
   ],
   "source": [
    "one_object = copy.deepcopy(rest.groupby(['street_name'])\\\n",
    "    .agg({'object_name':'count'}).query('object_name == 1').reset_index())\n",
    "\n",
    "# Добавляю районы в датафрейм:\n",
    "one_object = one_object.merge(rest_grp[['street_name', 'district']], on='street_name', how='left')\n",
    "\n",
    "one_object.info()"
   ]
  },
  {
   "cell_type": "markdown",
   "metadata": {
    "ExecuteTime": {
     "end_time": "2022-11-21T14:35:43.610265Z",
     "start_time": "2022-11-21T14:35:41.336951Z"
    }
   },
   "source": [
    "Не ко всем улицам подтянулись районы, оставлю улицы с 1 заведением, где есть информация о районе и выведу ТОП-10 районов"
   ]
  },
  {
   "cell_type": "code",
   "execution_count": 53,
   "metadata": {
    "ExecuteTime": {
     "end_time": "2022-11-22T08:47:14.509729Z",
     "start_time": "2022-11-22T08:47:14.478545Z"
    }
   },
   "outputs": [
    {
     "data": {
      "text/html": [
       "<div>\n",
       "<style scoped>\n",
       "    .dataframe tbody tr th:only-of-type {\n",
       "        vertical-align: middle;\n",
       "    }\n",
       "\n",
       "    .dataframe tbody tr th {\n",
       "        vertical-align: top;\n",
       "    }\n",
       "\n",
       "    .dataframe thead th {\n",
       "        text-align: right;\n",
       "    }\n",
       "</style>\n",
       "<table border=\"1\" class=\"dataframe\">\n",
       "  <thead>\n",
       "    <tr style=\"text-align: right;\">\n",
       "      <th></th>\n",
       "      <th>district</th>\n",
       "      <th>street_name</th>\n",
       "    </tr>\n",
       "  </thead>\n",
       "  <tbody>\n",
       "    <tr>\n",
       "      <th>0</th>\n",
       "      <td>Таганский район</td>\n",
       "      <td>16</td>\n",
       "    </tr>\n",
       "    <tr>\n",
       "      <th>1</th>\n",
       "      <td>Басманный район</td>\n",
       "      <td>12</td>\n",
       "    </tr>\n",
       "    <tr>\n",
       "      <th>2</th>\n",
       "      <td>район Хамовники</td>\n",
       "      <td>12</td>\n",
       "    </tr>\n",
       "    <tr>\n",
       "      <th>3</th>\n",
       "      <td>Тверской район</td>\n",
       "      <td>10</td>\n",
       "    </tr>\n",
       "    <tr>\n",
       "      <th>4</th>\n",
       "      <td>район Замоскворечье</td>\n",
       "      <td>8</td>\n",
       "    </tr>\n",
       "    <tr>\n",
       "      <th>5</th>\n",
       "      <td>Можайский район</td>\n",
       "      <td>8</td>\n",
       "    </tr>\n",
       "    <tr>\n",
       "      <th>6</th>\n",
       "      <td>Тимирязевский район</td>\n",
       "      <td>7</td>\n",
       "    </tr>\n",
       "    <tr>\n",
       "      <th>7</th>\n",
       "      <td>район Крюково</td>\n",
       "      <td>7</td>\n",
       "    </tr>\n",
       "    <tr>\n",
       "      <th>8</th>\n",
       "      <td>Мещанский район</td>\n",
       "      <td>7</td>\n",
       "    </tr>\n",
       "    <tr>\n",
       "      <th>9</th>\n",
       "      <td>район Южное Бутово</td>\n",
       "      <td>6</td>\n",
       "    </tr>\n",
       "  </tbody>\n",
       "</table>\n",
       "</div>"
      ],
      "text/plain": [
       "              district  street_name\n",
       "0      Таганский район           16\n",
       "1      Басманный район           12\n",
       "2      район Хамовники           12\n",
       "3       Тверской район           10\n",
       "4  район Замоскворечье            8\n",
       "5      Можайский район            8\n",
       "6  Тимирязевский район            7\n",
       "7        район Крюково            7\n",
       "8      Мещанский район            7\n",
       "9   район Южное Бутово            6"
      ]
     },
     "execution_count": 53,
     "metadata": {},
     "output_type": "execute_result"
    }
   ],
   "source": [
    "one_object[~one_object['district'].isnull()].groupby('district')\\\n",
    "    .agg({'street_name':'count'}).sort_values(by='street_name', ascending=False).reset_index().head(10)"
   ]
  },
  {
   "cell_type": "markdown",
   "metadata": {},
   "source": [
    "**Вывод:**\n",
    "\n",
    "Улицы с единственным заведением общественного питания есть по всему городу: и в центре, и на окраине. Вероятно это связано с проходимостью людей и особенностями инфраструктуры вокруг.\n",
    "Что удивительно, в центральные районы города (напр. Таганский, Хамовники и Тверской) оказались в данном топе. "
   ]
  },
  {
   "cell_type": "markdown",
   "metadata": {},
   "source": [
    "## Общий вывод:\n",
    "<a id='section_id3'></a>\n",
    "[Оглавление](#section_id)\n",
    "\n",
    "Для анализа рынка заведений общественного питания Москвы использовал датафрейм с перечнем заведений города, их адресом и числом мест.\n",
    "\n",
    "В ходе предобработки привёл названия колонок, названия заведений, адреса к нижнему регистру, дубликатов и пропусков не обнаружил. Однако в данных были несостыковки, заведения одной сети могли относиться к разным типам заведений. Вероятно дело в отсутствии чётких критериев и контролей при формировании данных.\n",
    "\n",
    "Также на вход использовал внешний источник данных - аналогичный датасет с перечнем заведений, с указанием их координат, районов и округов. Районы подтянул к основному датафрейму по id.\n",
    "\n",
    "---\n",
    "\n",
    "Основной анализ и выводы:\n",
    "\n",
    "1. Самые популярные заведения - кафе, их больше всего в городе. С одной стороны между ними наибольшая конкуренция, с другой стороны спрос рождает предложение, значит они пользуются наибольшим спросом среди жителей и гостей города.\n",
    "\n",
    "2. Несетевых заведений больше сетевых - распределение 12 000 к 3 000 соответственно.\n",
    "\n",
    "3. Сетевые заведения в основном - это кафе, фастфуд и рестораны. При чём в доле фастфуда половина заведений сетевые.\n",
    "\n",
    "4. Более распространены сетевые заведения в категории малое количество объектов с большим количеством посадочных мест. \n",
    "\n",
    "5. В среднем самое большое количество посадочных мест в столовых - 130 мест, что логично. На втором месте располагаются рестораны со средним значением 96 мест. Далее идёт группа заведений (буфеты, бары и кафе), в которых в районе 40-50 посадочных мест. Оставшиеся типы заведений существенно проигрывают (со значением 5-20 мест).\n",
    "\n",
    "6. При выделении адреса удалил 2% данных у которых вместо `дома` фигурирует `владение`. Несущественно для дальнейшего анализа.\n",
    "\n",
    "7. Топ-10 улиц Москвы по числу объекто питания:\n",
    "* проспект мира,\n",
    "* профсоюзная улица,\n",
    "* ленинградский проспект,\n",
    "* пресненская набережная,\n",
    "* варшавское шоссе,\n",
    "* ленинский проспект,\n",
    "* проспект вернадского,\n",
    "* кутузовский проспект,\n",
    "* каширское шоссе,\n",
    "* ходынский бульвар\n",
    "\n",
    "8. В Москве 683 улиц с одним объектом, улицы рассредоточены по всему городу: и в центре, и на окраине. Вероятно это связано с проходимостью людей и особенностями инфраструктуры вокруг."
   ]
  },
  {
   "cell_type": "markdown",
   "metadata": {},
   "source": [
    "[Ссылка на презентацию](https://drive.google.com/file/d/1XbBQCePdyg949KV_8-ZwwbvZba9NY22m/view?usp=sharing)"
   ]
  }
 ],
 "metadata": {
  "ExecuteTimeLog": [
   {
    "duration": 525,
    "start_time": "2022-08-01T14:30:34.165Z"
   },
   {
    "duration": 1269,
    "start_time": "2022-08-01T14:35:45.731Z"
   },
   {
    "duration": 6,
    "start_time": "2022-08-01T14:37:11.401Z"
   },
   {
    "duration": 6,
    "start_time": "2022-08-01T14:37:20.127Z"
   },
   {
    "duration": 168,
    "start_time": "2022-08-01T14:37:54.894Z"
   },
   {
    "duration": 20,
    "start_time": "2022-08-01T14:38:04.698Z"
   },
   {
    "duration": 8,
    "start_time": "2022-08-01T14:38:11.013Z"
   },
   {
    "duration": 7,
    "start_time": "2022-08-01T14:38:12.422Z"
   },
   {
    "duration": 95,
    "start_time": "2022-08-01T14:38:12.595Z"
   },
   {
    "duration": 13,
    "start_time": "2022-08-01T14:38:13.548Z"
   },
   {
    "duration": 4,
    "start_time": "2022-08-01T14:38:16.602Z"
   },
   {
    "duration": 103,
    "start_time": "2022-08-01T14:38:16.774Z"
   },
   {
    "duration": 9,
    "start_time": "2022-08-01T14:38:17.541Z"
   },
   {
    "duration": 5,
    "start_time": "2022-08-01T14:38:23.497Z"
   },
   {
    "duration": 7,
    "start_time": "2022-08-01T14:38:25.041Z"
   },
   {
    "duration": 96,
    "start_time": "2022-08-01T14:38:25.233Z"
   },
   {
    "duration": 14,
    "start_time": "2022-08-01T14:38:25.943Z"
   },
   {
    "duration": 10,
    "start_time": "2022-08-01T14:38:30.237Z"
   },
   {
    "duration": 105,
    "start_time": "2022-08-01T14:38:30.395Z"
   },
   {
    "duration": 10,
    "start_time": "2022-08-01T14:38:31.163Z"
   },
   {
    "duration": 5,
    "start_time": "2022-08-01T14:38:36.056Z"
   },
   {
    "duration": 5,
    "start_time": "2022-08-01T14:38:36.585Z"
   },
   {
    "duration": 94,
    "start_time": "2022-08-01T14:38:36.792Z"
   },
   {
    "duration": 10,
    "start_time": "2022-08-01T14:38:37.946Z"
   },
   {
    "duration": 18,
    "start_time": "2022-08-01T14:38:43.810Z"
   },
   {
    "duration": 137,
    "start_time": "2022-08-01T14:38:58.690Z"
   },
   {
    "duration": 4,
    "start_time": "2022-08-01T14:39:07.288Z"
   },
   {
    "duration": 25,
    "start_time": "2022-08-01T14:39:11.099Z"
   },
   {
    "duration": 21,
    "start_time": "2022-08-01T14:39:19.459Z"
   },
   {
    "duration": 19,
    "start_time": "2022-08-01T14:39:22.842Z"
   },
   {
    "duration": 16,
    "start_time": "2022-08-01T14:39:32.247Z"
   },
   {
    "duration": 12,
    "start_time": "2022-08-01T14:39:40.842Z"
   },
   {
    "duration": 13,
    "start_time": "2022-08-01T14:39:45.371Z"
   },
   {
    "duration": 18,
    "start_time": "2022-08-01T14:39:56.867Z"
   },
   {
    "duration": 18,
    "start_time": "2022-08-01T14:40:02.952Z"
   },
   {
    "duration": 10,
    "start_time": "2022-08-01T14:40:38.997Z"
   },
   {
    "duration": 33,
    "start_time": "2022-08-01T14:40:46.207Z"
   },
   {
    "duration": 17,
    "start_time": "2022-08-01T14:40:54.249Z"
   },
   {
    "duration": 22,
    "start_time": "2022-08-01T14:40:59.002Z"
   },
   {
    "duration": 16,
    "start_time": "2022-08-01T14:41:05.114Z"
   },
   {
    "duration": 32,
    "start_time": "2022-08-01T14:49:29.887Z"
   },
   {
    "duration": 16,
    "start_time": "2022-08-01T14:49:42.605Z"
   },
   {
    "duration": 8,
    "start_time": "2022-08-01T14:49:53.451Z"
   },
   {
    "duration": 9,
    "start_time": "2022-08-01T14:49:58.607Z"
   },
   {
    "duration": 7,
    "start_time": "2022-08-01T14:50:04.213Z"
   },
   {
    "duration": 41,
    "start_time": "2022-08-01T14:51:43.186Z"
   },
   {
    "duration": 29,
    "start_time": "2022-08-01T14:52:20.729Z"
   },
   {
    "duration": 17,
    "start_time": "2022-08-01T14:52:28.354Z"
   },
   {
    "duration": 10,
    "start_time": "2022-08-01T15:00:05.514Z"
   },
   {
    "duration": 20,
    "start_time": "2022-08-01T15:00:38.190Z"
   },
   {
    "duration": 1413,
    "start_time": "2022-08-01T17:52:26.857Z"
   },
   {
    "duration": 4,
    "start_time": "2022-08-01T17:52:28.272Z"
   },
   {
    "duration": 273,
    "start_time": "2022-08-01T17:52:28.278Z"
   },
   {
    "duration": 14,
    "start_time": "2022-08-01T17:52:28.553Z"
   },
   {
    "duration": 10,
    "start_time": "2022-08-01T17:52:28.570Z"
   },
   {
    "duration": 19,
    "start_time": "2022-08-01T17:52:28.581Z"
   },
   {
    "duration": 21,
    "start_time": "2022-08-01T17:52:28.602Z"
   },
   {
    "duration": 6,
    "start_time": "2022-08-01T17:52:28.625Z"
   },
   {
    "duration": 6,
    "start_time": "2022-08-01T17:52:28.633Z"
   },
   {
    "duration": 31,
    "start_time": "2022-08-01T17:52:28.641Z"
   },
   {
    "duration": 51,
    "start_time": "2022-08-01T17:52:28.673Z"
   },
   {
    "duration": 10,
    "start_time": "2022-08-01T17:52:28.726Z"
   },
   {
    "duration": 131,
    "start_time": "2022-08-01T17:52:28.738Z"
   },
   {
    "duration": 13,
    "start_time": "2022-08-01T18:00:37.261Z"
   },
   {
    "duration": 17,
    "start_time": "2022-08-01T18:00:49.119Z"
   },
   {
    "duration": 16,
    "start_time": "2022-08-01T18:01:05.357Z"
   },
   {
    "duration": 20,
    "start_time": "2022-08-01T18:01:13.764Z"
   },
   {
    "duration": 17,
    "start_time": "2022-08-01T18:01:25.441Z"
   },
   {
    "duration": 14,
    "start_time": "2022-08-01T18:01:31.521Z"
   },
   {
    "duration": 34,
    "start_time": "2022-08-01T18:02:04.754Z"
   },
   {
    "duration": 5,
    "start_time": "2022-08-01T18:02:15.160Z"
   },
   {
    "duration": 4,
    "start_time": "2022-08-01T18:02:20.457Z"
   },
   {
    "duration": 22,
    "start_time": "2022-08-01T18:02:24.306Z"
   },
   {
    "duration": 171,
    "start_time": "2022-08-01T18:02:35.757Z"
   },
   {
    "duration": 17,
    "start_time": "2022-08-01T18:02:40.255Z"
   },
   {
    "duration": 8,
    "start_time": "2022-08-01T18:06:19.264Z"
   },
   {
    "duration": 250,
    "start_time": "2022-08-01T18:07:04.356Z"
   },
   {
    "duration": 266,
    "start_time": "2022-08-01T18:07:59.276Z"
   },
   {
    "duration": 233,
    "start_time": "2022-08-01T18:08:04.348Z"
   },
   {
    "duration": 18,
    "start_time": "2022-08-01T18:08:58.032Z"
   },
   {
    "duration": 17,
    "start_time": "2022-08-01T18:20:30.114Z"
   },
   {
    "duration": 16,
    "start_time": "2022-08-01T18:20:55.018Z"
   },
   {
    "duration": 13,
    "start_time": "2022-08-01T18:21:23.494Z"
   },
   {
    "duration": 229,
    "start_time": "2022-08-01T18:21:38.213Z"
   },
   {
    "duration": 247,
    "start_time": "2022-08-01T18:22:15.210Z"
   },
   {
    "duration": 240,
    "start_time": "2022-08-01T18:22:27.685Z"
   },
   {
    "duration": 238,
    "start_time": "2022-08-01T18:22:32.641Z"
   },
   {
    "duration": 220,
    "start_time": "2022-08-01T18:22:36.270Z"
   },
   {
    "duration": 4,
    "start_time": "2022-08-01T18:23:08.762Z"
   },
   {
    "duration": 4,
    "start_time": "2022-08-01T18:23:09.576Z"
   },
   {
    "duration": 5,
    "start_time": "2022-08-01T18:23:09.807Z"
   },
   {
    "duration": 67,
    "start_time": "2022-08-01T18:23:10.154Z"
   },
   {
    "duration": 9,
    "start_time": "2022-08-01T18:23:11.619Z"
   },
   {
    "duration": 9,
    "start_time": "2022-08-01T18:23:12.059Z"
   },
   {
    "duration": 14,
    "start_time": "2022-08-01T18:23:12.846Z"
   },
   {
    "duration": 8,
    "start_time": "2022-08-01T18:23:13.199Z"
   },
   {
    "duration": 5,
    "start_time": "2022-08-01T18:23:13.467Z"
   },
   {
    "duration": 5,
    "start_time": "2022-08-01T18:23:13.787Z"
   },
   {
    "duration": 32,
    "start_time": "2022-08-01T18:23:15.534Z"
   },
   {
    "duration": 22,
    "start_time": "2022-08-01T18:23:15.904Z"
   },
   {
    "duration": 10,
    "start_time": "2022-08-01T18:23:17.100Z"
   },
   {
    "duration": 298,
    "start_time": "2022-08-01T18:23:17.636Z"
   },
   {
    "duration": 217,
    "start_time": "2022-08-01T18:23:21.856Z"
   },
   {
    "duration": 244,
    "start_time": "2022-08-01T18:23:26.694Z"
   },
   {
    "duration": 221,
    "start_time": "2022-08-01T18:24:00.009Z"
   },
   {
    "duration": 235,
    "start_time": "2022-08-01T18:24:20.909Z"
   },
   {
    "duration": 222,
    "start_time": "2022-08-01T18:24:27.228Z"
   },
   {
    "duration": 234,
    "start_time": "2022-08-01T18:24:28.452Z"
   },
   {
    "duration": 4,
    "start_time": "2022-08-01T18:24:35.370Z"
   },
   {
    "duration": 10,
    "start_time": "2022-08-01T18:24:47.753Z"
   },
   {
    "duration": 216,
    "start_time": "2022-08-01T18:24:54.443Z"
   },
   {
    "duration": 210,
    "start_time": "2022-08-01T18:25:16.404Z"
   },
   {
    "duration": 12,
    "start_time": "2022-08-01T18:25:37.996Z"
   },
   {
    "duration": 15,
    "start_time": "2022-08-01T18:25:45.594Z"
   },
   {
    "duration": 234,
    "start_time": "2022-08-01T18:26:03.427Z"
   },
   {
    "duration": 235,
    "start_time": "2022-08-01T18:26:09.521Z"
   },
   {
    "duration": 324,
    "start_time": "2022-08-01T18:26:16.518Z"
   },
   {
    "duration": 227,
    "start_time": "2022-08-01T18:26:25.626Z"
   },
   {
    "duration": 231,
    "start_time": "2022-08-01T18:26:33.708Z"
   },
   {
    "duration": 221,
    "start_time": "2022-08-01T18:26:41.844Z"
   },
   {
    "duration": 219,
    "start_time": "2022-08-01T18:26:46.676Z"
   },
   {
    "duration": 230,
    "start_time": "2022-08-01T18:26:51.947Z"
   },
   {
    "duration": 240,
    "start_time": "2022-08-01T18:26:56.289Z"
   },
   {
    "duration": 236,
    "start_time": "2022-08-01T18:27:02.423Z"
   },
   {
    "duration": 235,
    "start_time": "2022-08-01T18:28:05.491Z"
   },
   {
    "duration": 241,
    "start_time": "2022-08-01T18:29:22.416Z"
   },
   {
    "duration": 237,
    "start_time": "2022-08-01T18:29:55.587Z"
   },
   {
    "duration": 13,
    "start_time": "2022-08-01T18:30:01.515Z"
   },
   {
    "duration": 5,
    "start_time": "2022-08-01T18:30:19.232Z"
   },
   {
    "duration": 59,
    "start_time": "2022-08-01T18:30:35.679Z"
   },
   {
    "duration": 336,
    "start_time": "2022-08-01T18:30:43.407Z"
   },
   {
    "duration": 1252,
    "start_time": "2022-08-01T18:30:53.663Z"
   },
   {
    "duration": 4,
    "start_time": "2022-08-01T18:30:54.917Z"
   },
   {
    "duration": 80,
    "start_time": "2022-08-01T18:30:54.925Z"
   },
   {
    "duration": 15,
    "start_time": "2022-08-01T18:30:55.007Z"
   },
   {
    "duration": 10,
    "start_time": "2022-08-01T18:30:55.024Z"
   },
   {
    "duration": 17,
    "start_time": "2022-08-01T18:30:55.035Z"
   },
   {
    "duration": 9,
    "start_time": "2022-08-01T18:30:55.054Z"
   },
   {
    "duration": 6,
    "start_time": "2022-08-01T18:30:55.064Z"
   },
   {
    "duration": 15,
    "start_time": "2022-08-01T18:30:55.071Z"
   },
   {
    "duration": 59,
    "start_time": "2022-08-01T18:30:55.088Z"
   },
   {
    "duration": 22,
    "start_time": "2022-08-01T18:30:55.149Z"
   },
   {
    "duration": 10,
    "start_time": "2022-08-01T18:30:55.173Z"
   },
   {
    "duration": 41,
    "start_time": "2022-08-01T18:30:55.185Z"
   },
   {
    "duration": 268,
    "start_time": "2022-08-01T18:30:55.229Z"
   },
   {
    "duration": 6,
    "start_time": "2022-08-01T18:30:55.498Z"
   },
   {
    "duration": 118,
    "start_time": "2022-08-01T18:31:11.972Z"
   },
   {
    "duration": 11,
    "start_time": "2022-08-01T18:31:32.696Z"
   },
   {
    "duration": 1278,
    "start_time": "2022-08-01T18:31:42.936Z"
   },
   {
    "duration": 7,
    "start_time": "2022-08-01T18:31:44.216Z"
   },
   {
    "duration": 71,
    "start_time": "2022-08-01T18:31:44.225Z"
   },
   {
    "duration": 12,
    "start_time": "2022-08-01T18:31:44.298Z"
   },
   {
    "duration": 15,
    "start_time": "2022-08-01T18:31:44.312Z"
   },
   {
    "duration": 29,
    "start_time": "2022-08-01T18:31:44.329Z"
   },
   {
    "duration": 27,
    "start_time": "2022-08-01T18:31:44.360Z"
   },
   {
    "duration": 10,
    "start_time": "2022-08-01T18:31:44.388Z"
   },
   {
    "duration": 20,
    "start_time": "2022-08-01T18:31:44.400Z"
   },
   {
    "duration": 63,
    "start_time": "2022-08-01T18:31:44.423Z"
   },
   {
    "duration": 31,
    "start_time": "2022-08-01T18:31:44.488Z"
   },
   {
    "duration": 10,
    "start_time": "2022-08-01T18:31:44.521Z"
   },
   {
    "duration": 33,
    "start_time": "2022-08-01T18:31:44.533Z"
   },
   {
    "duration": 113,
    "start_time": "2022-08-01T18:31:44.568Z"
   },
   {
    "duration": 0,
    "start_time": "2022-08-01T18:31:44.683Z"
   },
   {
    "duration": 13,
    "start_time": "2022-08-01T18:31:59.320Z"
   },
   {
    "duration": 15,
    "start_time": "2022-08-01T18:32:08.670Z"
   },
   {
    "duration": 7,
    "start_time": "2022-08-01T18:32:18.790Z"
   },
   {
    "duration": 13,
    "start_time": "2022-08-01T18:32:34.122Z"
   },
   {
    "duration": 14,
    "start_time": "2022-08-01T18:32:38.752Z"
   },
   {
    "duration": 11,
    "start_time": "2022-08-01T18:33:10.889Z"
   },
   {
    "duration": 12,
    "start_time": "2022-08-01T18:33:39.974Z"
   },
   {
    "duration": 1339,
    "start_time": "2022-08-01T18:33:45.723Z"
   },
   {
    "duration": 4,
    "start_time": "2022-08-01T18:33:47.064Z"
   },
   {
    "duration": 73,
    "start_time": "2022-08-01T18:33:47.070Z"
   },
   {
    "duration": 14,
    "start_time": "2022-08-01T18:33:47.145Z"
   },
   {
    "duration": 9,
    "start_time": "2022-08-01T18:33:47.162Z"
   },
   {
    "duration": 17,
    "start_time": "2022-08-01T18:33:47.172Z"
   },
   {
    "duration": 33,
    "start_time": "2022-08-01T18:33:47.191Z"
   },
   {
    "duration": 4,
    "start_time": "2022-08-01T18:33:47.226Z"
   },
   {
    "duration": 7,
    "start_time": "2022-08-01T18:33:47.232Z"
   },
   {
    "duration": 32,
    "start_time": "2022-08-01T18:33:47.241Z"
   },
   {
    "duration": 23,
    "start_time": "2022-08-01T18:33:47.274Z"
   },
   {
    "duration": 9,
    "start_time": "2022-08-01T18:33:47.324Z"
   },
   {
    "duration": 23,
    "start_time": "2022-08-01T18:33:47.335Z"
   },
   {
    "duration": 13,
    "start_time": "2022-08-01T18:33:47.361Z"
   },
   {
    "duration": 121,
    "start_time": "2022-08-01T18:33:47.376Z"
   },
   {
    "duration": 0,
    "start_time": "2022-08-01T18:33:47.499Z"
   },
   {
    "duration": 15,
    "start_time": "2022-08-01T18:33:58.166Z"
   },
   {
    "duration": 14,
    "start_time": "2022-08-01T18:34:00.419Z"
   },
   {
    "duration": 16,
    "start_time": "2022-08-01T18:34:23.431Z"
   },
   {
    "duration": 13,
    "start_time": "2022-08-01T18:35:59.204Z"
   },
   {
    "duration": 236,
    "start_time": "2022-08-01T18:36:04.987Z"
   },
   {
    "duration": 14,
    "start_time": "2022-08-01T18:36:21.055Z"
   },
   {
    "duration": 12,
    "start_time": "2022-08-01T18:36:27.730Z"
   },
   {
    "duration": 238,
    "start_time": "2022-08-01T18:36:36.981Z"
   },
   {
    "duration": 1250,
    "start_time": "2022-08-01T18:37:02.784Z"
   },
   {
    "duration": 4,
    "start_time": "2022-08-01T18:37:04.036Z"
   },
   {
    "duration": 84,
    "start_time": "2022-08-01T18:37:04.041Z"
   },
   {
    "duration": 16,
    "start_time": "2022-08-01T18:37:04.127Z"
   },
   {
    "duration": 19,
    "start_time": "2022-08-01T18:37:04.145Z"
   },
   {
    "duration": 37,
    "start_time": "2022-08-01T18:37:04.166Z"
   },
   {
    "duration": 11,
    "start_time": "2022-08-01T18:37:04.204Z"
   },
   {
    "duration": 18,
    "start_time": "2022-08-01T18:37:04.216Z"
   },
   {
    "duration": 25,
    "start_time": "2022-08-01T18:37:04.236Z"
   },
   {
    "duration": 43,
    "start_time": "2022-08-01T18:37:04.263Z"
   },
   {
    "duration": 31,
    "start_time": "2022-08-01T18:37:04.308Z"
   },
   {
    "duration": 10,
    "start_time": "2022-08-01T18:37:04.341Z"
   },
   {
    "duration": 31,
    "start_time": "2022-08-01T18:37:04.353Z"
   },
   {
    "duration": 35,
    "start_time": "2022-08-01T18:37:04.385Z"
   },
   {
    "duration": 24,
    "start_time": "2022-08-01T18:37:04.422Z"
   },
   {
    "duration": 135,
    "start_time": "2022-08-01T18:37:04.447Z"
   },
   {
    "duration": 0,
    "start_time": "2022-08-01T18:37:04.584Z"
   },
   {
    "duration": 13,
    "start_time": "2022-08-01T18:37:20.045Z"
   },
   {
    "duration": 16,
    "start_time": "2022-08-01T18:37:28.074Z"
   },
   {
    "duration": 14,
    "start_time": "2022-08-01T18:37:31.380Z"
   },
   {
    "duration": 13,
    "start_time": "2022-08-01T18:37:39.893Z"
   },
   {
    "duration": 5,
    "start_time": "2022-08-01T18:37:56.230Z"
   },
   {
    "duration": 11,
    "start_time": "2022-08-01T18:38:08.025Z"
   },
   {
    "duration": 258,
    "start_time": "2022-08-01T18:40:54.061Z"
   },
   {
    "duration": 246,
    "start_time": "2022-08-01T18:41:06.337Z"
   },
   {
    "duration": 53,
    "start_time": "2022-08-01T18:42:35.765Z"
   },
   {
    "duration": 15,
    "start_time": "2022-08-01T18:43:29.028Z"
   },
   {
    "duration": 901,
    "start_time": "2022-08-01T18:43:43.437Z"
   },
   {
    "duration": 1248,
    "start_time": "2022-08-01T18:44:06.272Z"
   },
   {
    "duration": 4,
    "start_time": "2022-08-01T18:44:07.522Z"
   },
   {
    "duration": 104,
    "start_time": "2022-08-01T18:44:07.528Z"
   },
   {
    "duration": 18,
    "start_time": "2022-08-01T18:44:07.635Z"
   },
   {
    "duration": 10,
    "start_time": "2022-08-01T18:44:07.656Z"
   },
   {
    "duration": 26,
    "start_time": "2022-08-01T18:44:07.669Z"
   },
   {
    "duration": 10,
    "start_time": "2022-08-01T18:44:07.724Z"
   },
   {
    "duration": 14,
    "start_time": "2022-08-01T18:44:07.737Z"
   },
   {
    "duration": 9,
    "start_time": "2022-08-01T18:44:07.752Z"
   },
   {
    "duration": 71,
    "start_time": "2022-08-01T18:44:07.763Z"
   },
   {
    "duration": 30,
    "start_time": "2022-08-01T18:44:07.837Z"
   },
   {
    "duration": 9,
    "start_time": "2022-08-01T18:44:07.869Z"
   },
   {
    "duration": 20,
    "start_time": "2022-08-01T18:44:07.881Z"
   },
   {
    "duration": 307,
    "start_time": "2022-08-01T18:44:07.903Z"
   },
   {
    "duration": 12,
    "start_time": "2022-08-01T18:44:08.212Z"
   },
   {
    "duration": 1327,
    "start_time": "2022-08-01T18:44:59.402Z"
   },
   {
    "duration": 5,
    "start_time": "2022-08-01T18:45:00.731Z"
   },
   {
    "duration": 89,
    "start_time": "2022-08-01T18:45:00.737Z"
   },
   {
    "duration": 13,
    "start_time": "2022-08-01T18:45:00.828Z"
   },
   {
    "duration": 14,
    "start_time": "2022-08-01T18:45:00.843Z"
   },
   {
    "duration": 34,
    "start_time": "2022-08-01T18:45:00.858Z"
   },
   {
    "duration": 22,
    "start_time": "2022-08-01T18:45:00.894Z"
   },
   {
    "duration": 41,
    "start_time": "2022-08-01T18:45:00.918Z"
   },
   {
    "duration": 24,
    "start_time": "2022-08-01T18:45:00.961Z"
   },
   {
    "duration": 46,
    "start_time": "2022-08-01T18:45:00.986Z"
   },
   {
    "duration": 28,
    "start_time": "2022-08-01T18:45:01.034Z"
   },
   {
    "duration": 11,
    "start_time": "2022-08-01T18:45:01.063Z"
   },
   {
    "duration": 27,
    "start_time": "2022-08-01T18:45:01.076Z"
   },
   {
    "duration": 187,
    "start_time": "2022-08-01T18:45:01.106Z"
   },
   {
    "duration": 6,
    "start_time": "2022-08-01T18:45:01.295Z"
   },
   {
    "duration": 36,
    "start_time": "2022-08-01T18:45:10.197Z"
   },
   {
    "duration": 6,
    "start_time": "2022-08-01T18:45:19.628Z"
   },
   {
    "duration": 38,
    "start_time": "2022-08-01T18:46:35.668Z"
   },
   {
    "duration": 5,
    "start_time": "2022-08-01T18:46:38.598Z"
   },
   {
    "duration": 1326,
    "start_time": "2022-08-01T18:46:45.957Z"
   },
   {
    "duration": 4,
    "start_time": "2022-08-01T18:46:47.286Z"
   },
   {
    "duration": 82,
    "start_time": "2022-08-01T18:46:47.291Z"
   },
   {
    "duration": 13,
    "start_time": "2022-08-01T18:46:47.375Z"
   },
   {
    "duration": 9,
    "start_time": "2022-08-01T18:46:47.390Z"
   },
   {
    "duration": 39,
    "start_time": "2022-08-01T18:46:47.402Z"
   },
   {
    "duration": 12,
    "start_time": "2022-08-01T18:46:47.443Z"
   },
   {
    "duration": 9,
    "start_time": "2022-08-01T18:46:47.457Z"
   },
   {
    "duration": 7,
    "start_time": "2022-08-01T18:46:47.469Z"
   },
   {
    "duration": 74,
    "start_time": "2022-08-01T18:46:47.479Z"
   },
   {
    "duration": 5,
    "start_time": "2022-08-01T18:46:47.555Z"
   },
   {
    "duration": 27,
    "start_time": "2022-08-01T18:46:47.563Z"
   },
   {
    "duration": 10,
    "start_time": "2022-08-01T18:46:47.592Z"
   },
   {
    "duration": 31,
    "start_time": "2022-08-01T18:46:47.625Z"
   },
   {
    "duration": 267,
    "start_time": "2022-08-01T18:46:47.658Z"
   },
   {
    "duration": 13,
    "start_time": "2022-08-01T18:46:47.927Z"
   },
   {
    "duration": 38,
    "start_time": "2022-08-01T18:47:31.208Z"
   },
   {
    "duration": 39,
    "start_time": "2022-08-01T18:47:32.194Z"
   },
   {
    "duration": 6,
    "start_time": "2022-08-01T18:47:32.671Z"
   },
   {
    "duration": 33,
    "start_time": "2022-08-01T18:47:49.382Z"
   },
   {
    "duration": 23,
    "start_time": "2022-08-01T18:47:50.629Z"
   },
   {
    "duration": 28,
    "start_time": "2022-08-01T18:47:54.717Z"
   },
   {
    "duration": 28,
    "start_time": "2022-08-01T18:47:55.117Z"
   },
   {
    "duration": 18,
    "start_time": "2022-08-01T18:47:55.509Z"
   },
   {
    "duration": 18,
    "start_time": "2022-08-01T18:47:55.750Z"
   },
   {
    "duration": 25,
    "start_time": "2022-08-01T18:47:55.967Z"
   },
   {
    "duration": 1256,
    "start_time": "2022-08-01T18:48:04.973Z"
   },
   {
    "duration": 5,
    "start_time": "2022-08-01T18:48:06.231Z"
   },
   {
    "duration": 80,
    "start_time": "2022-08-01T18:48:06.238Z"
   },
   {
    "duration": 14,
    "start_time": "2022-08-01T18:48:06.320Z"
   },
   {
    "duration": 10,
    "start_time": "2022-08-01T18:48:06.338Z"
   },
   {
    "duration": 23,
    "start_time": "2022-08-01T18:48:06.350Z"
   },
   {
    "duration": 9,
    "start_time": "2022-08-01T18:48:06.375Z"
   },
   {
    "duration": 37,
    "start_time": "2022-08-01T18:48:06.386Z"
   },
   {
    "duration": 6,
    "start_time": "2022-08-01T18:48:06.425Z"
   },
   {
    "duration": 46,
    "start_time": "2022-08-01T18:48:06.432Z"
   },
   {
    "duration": 23,
    "start_time": "2022-08-01T18:48:06.479Z"
   },
   {
    "duration": 10,
    "start_time": "2022-08-01T18:48:06.524Z"
   },
   {
    "duration": 16,
    "start_time": "2022-08-01T18:48:06.536Z"
   },
   {
    "duration": 256,
    "start_time": "2022-08-01T18:48:06.554Z"
   },
   {
    "duration": 12,
    "start_time": "2022-08-01T18:48:06.812Z"
   },
   {
    "duration": 17,
    "start_time": "2022-08-01T18:48:18.994Z"
   },
   {
    "duration": 29,
    "start_time": "2022-08-01T18:48:21.122Z"
   },
   {
    "duration": 9,
    "start_time": "2022-08-01T18:48:24.028Z"
   },
   {
    "duration": 211,
    "start_time": "2022-08-01T18:48:41.699Z"
   },
   {
    "duration": 38,
    "start_time": "2022-08-01T18:48:45.125Z"
   },
   {
    "duration": 18,
    "start_time": "2022-08-01T18:48:59.058Z"
   },
   {
    "duration": 21,
    "start_time": "2022-08-01T18:49:13.799Z"
   },
   {
    "duration": 6,
    "start_time": "2022-08-01T18:50:20.988Z"
   },
   {
    "duration": 6,
    "start_time": "2022-08-01T18:50:26.653Z"
   },
   {
    "duration": 7,
    "start_time": "2022-08-01T18:50:38.038Z"
   },
   {
    "duration": 1258,
    "start_time": "2022-08-01T18:50:46.386Z"
   },
   {
    "duration": 5,
    "start_time": "2022-08-01T18:50:47.646Z"
   },
   {
    "duration": 76,
    "start_time": "2022-08-01T18:50:47.652Z"
   },
   {
    "duration": 13,
    "start_time": "2022-08-01T18:50:47.730Z"
   },
   {
    "duration": 11,
    "start_time": "2022-08-01T18:50:47.745Z"
   },
   {
    "duration": 15,
    "start_time": "2022-08-01T18:50:47.758Z"
   },
   {
    "duration": 9,
    "start_time": "2022-08-01T18:50:47.774Z"
   },
   {
    "duration": 4,
    "start_time": "2022-08-01T18:50:47.785Z"
   },
   {
    "duration": 37,
    "start_time": "2022-08-01T18:50:47.791Z"
   },
   {
    "duration": 7,
    "start_time": "2022-08-01T18:50:47.831Z"
   },
   {
    "duration": 45,
    "start_time": "2022-08-01T18:50:47.840Z"
   },
   {
    "duration": 38,
    "start_time": "2022-08-01T18:50:47.887Z"
   },
   {
    "duration": 31,
    "start_time": "2022-08-01T18:50:47.928Z"
   },
   {
    "duration": 10,
    "start_time": "2022-08-01T18:50:47.961Z"
   },
   {
    "duration": 19,
    "start_time": "2022-08-01T18:50:47.972Z"
   },
   {
    "duration": 267,
    "start_time": "2022-08-01T18:50:47.993Z"
   },
   {
    "duration": 5,
    "start_time": "2022-08-01T18:50:48.262Z"
   },
   {
    "duration": 8,
    "start_time": "2022-08-01T18:51:06.444Z"
   },
   {
    "duration": 19,
    "start_time": "2022-08-01T18:51:26.860Z"
   },
   {
    "duration": 17,
    "start_time": "2022-08-01T18:51:27.905Z"
   },
   {
    "duration": 19,
    "start_time": "2022-08-01T18:51:28.191Z"
   },
   {
    "duration": 20,
    "start_time": "2022-08-01T18:51:28.369Z"
   },
   {
    "duration": 17,
    "start_time": "2022-08-01T18:51:28.517Z"
   },
   {
    "duration": 19,
    "start_time": "2022-08-01T18:51:28.671Z"
   },
   {
    "duration": 19,
    "start_time": "2022-08-01T18:51:28.845Z"
   },
   {
    "duration": 23,
    "start_time": "2022-08-01T18:51:29.019Z"
   },
   {
    "duration": 1258,
    "start_time": "2022-08-01T18:51:39.976Z"
   },
   {
    "duration": 4,
    "start_time": "2022-08-01T18:51:41.237Z"
   },
   {
    "duration": 74,
    "start_time": "2022-08-01T18:51:41.243Z"
   },
   {
    "duration": 14,
    "start_time": "2022-08-01T18:51:41.319Z"
   },
   {
    "duration": 10,
    "start_time": "2022-08-01T18:51:41.335Z"
   },
   {
    "duration": 18,
    "start_time": "2022-08-01T18:51:41.346Z"
   },
   {
    "duration": 9,
    "start_time": "2022-08-01T18:51:41.366Z"
   },
   {
    "duration": 5,
    "start_time": "2022-08-01T18:51:41.377Z"
   },
   {
    "duration": 10,
    "start_time": "2022-08-01T18:51:41.384Z"
   },
   {
    "duration": 8,
    "start_time": "2022-08-01T18:51:41.424Z"
   },
   {
    "duration": 42,
    "start_time": "2022-08-01T18:51:41.434Z"
   },
   {
    "duration": 23,
    "start_time": "2022-08-01T18:51:41.478Z"
   },
   {
    "duration": 26,
    "start_time": "2022-08-01T18:51:41.503Z"
   },
   {
    "duration": 19,
    "start_time": "2022-08-01T18:51:41.532Z"
   },
   {
    "duration": 270,
    "start_time": "2022-08-01T18:51:41.553Z"
   },
   {
    "duration": 5,
    "start_time": "2022-08-01T18:51:41.825Z"
   },
   {
    "duration": 38,
    "start_time": "2022-08-01T18:55:12.674Z"
   },
   {
    "duration": 21,
    "start_time": "2022-08-01T18:55:13.825Z"
   },
   {
    "duration": 17,
    "start_time": "2022-08-01T18:55:16.189Z"
   },
   {
    "duration": 1289,
    "start_time": "2022-08-01T18:55:23.058Z"
   },
   {
    "duration": 4,
    "start_time": "2022-08-01T18:55:24.348Z"
   },
   {
    "duration": 74,
    "start_time": "2022-08-01T18:55:24.354Z"
   },
   {
    "duration": 13,
    "start_time": "2022-08-01T18:55:24.431Z"
   },
   {
    "duration": 14,
    "start_time": "2022-08-01T18:55:24.447Z"
   },
   {
    "duration": 24,
    "start_time": "2022-08-01T18:55:24.463Z"
   },
   {
    "duration": 35,
    "start_time": "2022-08-01T18:55:24.490Z"
   },
   {
    "duration": 7,
    "start_time": "2022-08-01T18:55:24.527Z"
   },
   {
    "duration": 16,
    "start_time": "2022-08-01T18:55:24.536Z"
   },
   {
    "duration": 10,
    "start_time": "2022-08-01T18:55:24.555Z"
   },
   {
    "duration": 79,
    "start_time": "2022-08-01T18:55:24.568Z"
   },
   {
    "duration": 25,
    "start_time": "2022-08-01T18:55:24.649Z"
   },
   {
    "duration": 12,
    "start_time": "2022-08-01T18:55:24.676Z"
   },
   {
    "duration": 41,
    "start_time": "2022-08-01T18:55:24.690Z"
   },
   {
    "duration": 251,
    "start_time": "2022-08-01T18:55:24.734Z"
   },
   {
    "duration": 7,
    "start_time": "2022-08-01T18:55:24.988Z"
   },
   {
    "duration": 12,
    "start_time": "2022-08-01T18:55:57.639Z"
   },
   {
    "duration": 229,
    "start_time": "2022-08-01T18:56:04.435Z"
   },
   {
    "duration": 212,
    "start_time": "2022-08-01T18:56:38.207Z"
   },
   {
    "duration": 213,
    "start_time": "2022-08-01T18:57:17.052Z"
   },
   {
    "duration": 209,
    "start_time": "2022-08-01T18:57:42.639Z"
   },
   {
    "duration": 198,
    "start_time": "2022-08-01T18:58:00.077Z"
   },
   {
    "duration": 5,
    "start_time": "2022-08-01T18:58:09.932Z"
   },
   {
    "duration": 104,
    "start_time": "2022-08-01T18:58:23.739Z"
   },
   {
    "duration": 11,
    "start_time": "2022-08-01T18:58:32.614Z"
   },
   {
    "duration": 5,
    "start_time": "2022-08-01T18:58:36.037Z"
   },
   {
    "duration": 220,
    "start_time": "2022-08-01T18:58:52.801Z"
   },
   {
    "duration": 5,
    "start_time": "2022-08-01T18:59:10.095Z"
   },
   {
    "duration": 271,
    "start_time": "2022-08-01T19:03:27.062Z"
   },
   {
    "duration": 1289,
    "start_time": "2022-08-01T19:03:43.430Z"
   },
   {
    "duration": 4,
    "start_time": "2022-08-01T19:03:44.721Z"
   },
   {
    "duration": 71,
    "start_time": "2022-08-01T19:03:44.728Z"
   },
   {
    "duration": 14,
    "start_time": "2022-08-01T19:03:44.801Z"
   },
   {
    "duration": 10,
    "start_time": "2022-08-01T19:03:44.817Z"
   },
   {
    "duration": 20,
    "start_time": "2022-08-01T19:03:44.828Z"
   },
   {
    "duration": 9,
    "start_time": "2022-08-01T19:03:44.850Z"
   },
   {
    "duration": 5,
    "start_time": "2022-08-01T19:03:44.861Z"
   },
   {
    "duration": 9,
    "start_time": "2022-08-01T19:03:44.868Z"
   },
   {
    "duration": 75,
    "start_time": "2022-08-01T19:03:44.879Z"
   },
   {
    "duration": 24,
    "start_time": "2022-08-01T19:03:44.956Z"
   },
   {
    "duration": 10,
    "start_time": "2022-08-01T19:03:44.982Z"
   },
   {
    "duration": 344,
    "start_time": "2022-08-01T19:03:44.994Z"
   },
   {
    "duration": 226,
    "start_time": "2022-08-01T19:04:11.233Z"
   },
   {
    "duration": 200,
    "start_time": "2022-08-01T19:04:24.348Z"
   },
   {
    "duration": 13,
    "start_time": "2022-08-01T19:11:21.599Z"
   },
   {
    "duration": 15,
    "start_time": "2022-08-01T19:12:25.447Z"
   },
   {
    "duration": 15,
    "start_time": "2022-08-01T19:12:34.451Z"
   },
   {
    "duration": 17,
    "start_time": "2022-08-01T19:12:41.450Z"
   },
   {
    "duration": 18,
    "start_time": "2022-08-01T19:12:54.345Z"
   },
   {
    "duration": 19,
    "start_time": "2022-08-01T19:13:08.427Z"
   },
   {
    "duration": 248,
    "start_time": "2022-08-01T19:13:22.808Z"
   },
   {
    "duration": 22,
    "start_time": "2022-08-01T19:15:18.350Z"
   },
   {
    "duration": 9,
    "start_time": "2022-08-01T19:15:28.543Z"
   },
   {
    "duration": 23,
    "start_time": "2022-08-01T19:15:50.452Z"
   },
   {
    "duration": 275,
    "start_time": "2022-08-01T19:16:00.425Z"
   },
   {
    "duration": 395,
    "start_time": "2022-08-01T19:16:18.222Z"
   },
   {
    "duration": 272,
    "start_time": "2022-08-01T19:18:09.818Z"
   },
   {
    "duration": 759,
    "start_time": "2022-08-01T19:19:30.983Z"
   },
   {
    "duration": 20,
    "start_time": "2022-08-01T19:19:50.798Z"
   },
   {
    "duration": 28,
    "start_time": "2022-08-01T19:20:27.883Z"
   },
   {
    "duration": 37,
    "start_time": "2022-08-01T19:20:40.695Z"
   },
   {
    "duration": 792,
    "start_time": "2022-08-01T19:20:49.092Z"
   },
   {
    "duration": 9,
    "start_time": "2022-08-01T19:21:06.096Z"
   },
   {
    "duration": 10,
    "start_time": "2022-08-01T19:21:09.929Z"
   },
   {
    "duration": 252,
    "start_time": "2022-08-01T19:21:52.231Z"
   },
   {
    "duration": 267,
    "start_time": "2022-08-01T19:22:25.398Z"
   },
   {
    "duration": 334,
    "start_time": "2022-08-01T19:22:30.732Z"
   },
   {
    "duration": 429,
    "start_time": "2022-08-01T19:22:34.617Z"
   },
   {
    "duration": 284,
    "start_time": "2022-08-01T19:23:10.665Z"
   },
   {
    "duration": 315,
    "start_time": "2022-08-01T19:23:22.217Z"
   },
   {
    "duration": 300,
    "start_time": "2022-08-01T19:25:20.809Z"
   },
   {
    "duration": 292,
    "start_time": "2022-08-01T19:25:24.917Z"
   },
   {
    "duration": 272,
    "start_time": "2022-08-01T19:26:32.919Z"
   },
   {
    "duration": 285,
    "start_time": "2022-08-01T19:26:57.966Z"
   },
   {
    "duration": 281,
    "start_time": "2022-08-01T19:27:53.411Z"
   },
   {
    "duration": 278,
    "start_time": "2022-08-01T19:28:21.754Z"
   },
   {
    "duration": 281,
    "start_time": "2022-08-01T19:29:22.894Z"
   },
   {
    "duration": 259,
    "start_time": "2022-08-01T19:29:29.287Z"
   },
   {
    "duration": 1317,
    "start_time": "2022-08-02T09:44:24.966Z"
   },
   {
    "duration": 4,
    "start_time": "2022-08-02T09:44:26.286Z"
   },
   {
    "duration": 267,
    "start_time": "2022-08-02T09:44:26.292Z"
   },
   {
    "duration": 12,
    "start_time": "2022-08-02T09:44:26.562Z"
   },
   {
    "duration": 7,
    "start_time": "2022-08-02T09:44:26.576Z"
   },
   {
    "duration": 15,
    "start_time": "2022-08-02T09:44:26.585Z"
   },
   {
    "duration": 8,
    "start_time": "2022-08-02T09:44:26.601Z"
   },
   {
    "duration": 4,
    "start_time": "2022-08-02T09:44:26.610Z"
   },
   {
    "duration": 12,
    "start_time": "2022-08-02T09:44:26.615Z"
   },
   {
    "duration": 31,
    "start_time": "2022-08-02T09:44:26.628Z"
   },
   {
    "duration": 39,
    "start_time": "2022-08-02T09:44:26.661Z"
   },
   {
    "duration": 193,
    "start_time": "2022-08-02T09:44:26.701Z"
   },
   {
    "duration": 9,
    "start_time": "2022-08-02T09:44:26.896Z"
   },
   {
    "duration": 237,
    "start_time": "2022-08-02T09:44:26.906Z"
   },
   {
    "duration": 101,
    "start_time": "2022-08-02T09:51:42.438Z"
   },
   {
    "duration": 226,
    "start_time": "2022-08-02T09:51:46.821Z"
   },
   {
    "duration": 233,
    "start_time": "2022-08-02T09:53:06.938Z"
   },
   {
    "duration": 233,
    "start_time": "2022-08-02T09:54:22.347Z"
   },
   {
    "duration": 229,
    "start_time": "2022-08-02T09:55:03.068Z"
   },
   {
    "duration": 243,
    "start_time": "2022-08-02T09:55:39.739Z"
   },
   {
    "duration": 55,
    "start_time": "2022-08-02T09:55:54.684Z"
   },
   {
    "duration": 329,
    "start_time": "2022-08-02T09:56:01.701Z"
   },
   {
    "duration": 258,
    "start_time": "2022-08-02T09:56:14.184Z"
   },
   {
    "duration": 225,
    "start_time": "2022-08-02T09:56:24.138Z"
   },
   {
    "duration": 253,
    "start_time": "2022-08-02T09:57:21.536Z"
   },
   {
    "duration": 232,
    "start_time": "2022-08-02T09:58:45.335Z"
   },
   {
    "duration": 244,
    "start_time": "2022-08-02T09:58:48.595Z"
   },
   {
    "duration": 255,
    "start_time": "2022-08-02T09:59:08.544Z"
   },
   {
    "duration": 226,
    "start_time": "2022-08-02T10:02:24.140Z"
   },
   {
    "duration": 244,
    "start_time": "2022-08-02T10:02:28.036Z"
   },
   {
    "duration": 247,
    "start_time": "2022-08-02T10:02:49.664Z"
   },
   {
    "duration": 236,
    "start_time": "2022-08-02T10:03:07.647Z"
   },
   {
    "duration": 334,
    "start_time": "2022-08-02T10:03:16.158Z"
   },
   {
    "duration": 232,
    "start_time": "2022-08-02T10:03:25.825Z"
   },
   {
    "duration": 249,
    "start_time": "2022-08-02T10:03:29.872Z"
   },
   {
    "duration": 242,
    "start_time": "2022-08-02T10:04:50.061Z"
   },
   {
    "duration": 256,
    "start_time": "2022-08-02T10:04:57.538Z"
   },
   {
    "duration": 238,
    "start_time": "2022-08-02T10:05:07.399Z"
   },
   {
    "duration": 236,
    "start_time": "2022-08-02T10:05:12.534Z"
   },
   {
    "duration": 224,
    "start_time": "2022-08-02T10:05:25.752Z"
   },
   {
    "duration": 222,
    "start_time": "2022-08-02T10:05:47.445Z"
   },
   {
    "duration": 214,
    "start_time": "2022-08-02T10:05:51.310Z"
   },
   {
    "duration": 220,
    "start_time": "2022-08-02T10:05:56.860Z"
   },
   {
    "duration": 19,
    "start_time": "2022-08-02T10:07:29.046Z"
   },
   {
    "duration": 17,
    "start_time": "2022-08-02T10:07:32.571Z"
   },
   {
    "duration": 333,
    "start_time": "2022-08-02T10:07:38.441Z"
   },
   {
    "duration": 241,
    "start_time": "2022-08-02T10:12:25.775Z"
   },
   {
    "duration": 231,
    "start_time": "2022-08-02T10:17:38.192Z"
   },
   {
    "duration": 112,
    "start_time": "2022-08-02T10:18:02.752Z"
   },
   {
    "duration": 87,
    "start_time": "2022-08-02T10:18:26.992Z"
   },
   {
    "duration": 65,
    "start_time": "2022-08-02T10:18:31.479Z"
   },
   {
    "duration": 100,
    "start_time": "2022-08-02T10:19:26.152Z"
   },
   {
    "duration": 227,
    "start_time": "2022-08-02T10:19:32.256Z"
   },
   {
    "duration": 18,
    "start_time": "2022-08-02T10:19:41.797Z"
   },
   {
    "duration": 100,
    "start_time": "2022-08-02T10:19:45.443Z"
   },
   {
    "duration": 1132,
    "start_time": "2022-08-02T10:19:52.690Z"
   },
   {
    "duration": 4,
    "start_time": "2022-08-02T10:19:53.823Z"
   },
   {
    "duration": 74,
    "start_time": "2022-08-02T10:19:53.828Z"
   },
   {
    "duration": 14,
    "start_time": "2022-08-02T10:19:53.904Z"
   },
   {
    "duration": 17,
    "start_time": "2022-08-02T10:19:53.920Z"
   },
   {
    "duration": 16,
    "start_time": "2022-08-02T10:19:53.939Z"
   },
   {
    "duration": 7,
    "start_time": "2022-08-02T10:19:53.957Z"
   },
   {
    "duration": 5,
    "start_time": "2022-08-02T10:19:53.965Z"
   },
   {
    "duration": 6,
    "start_time": "2022-08-02T10:19:53.972Z"
   },
   {
    "duration": 30,
    "start_time": "2022-08-02T10:19:53.999Z"
   },
   {
    "duration": 18,
    "start_time": "2022-08-02T10:19:54.031Z"
   },
   {
    "duration": 201,
    "start_time": "2022-08-02T10:19:54.050Z"
   },
   {
    "duration": 119,
    "start_time": "2022-08-02T10:19:54.252Z"
   },
   {
    "duration": 8,
    "start_time": "2022-08-02T10:19:54.372Z"
   },
   {
    "duration": 225,
    "start_time": "2022-08-02T10:19:54.381Z"
   },
   {
    "duration": 16,
    "start_time": "2022-08-02T10:24:51.647Z"
   },
   {
    "duration": 14,
    "start_time": "2022-08-02T10:24:54.207Z"
   },
   {
    "duration": 10,
    "start_time": "2022-08-02T10:25:09.680Z"
   },
   {
    "duration": 5,
    "start_time": "2022-08-02T10:25:20.281Z"
   },
   {
    "duration": 5,
    "start_time": "2022-08-02T10:25:27.585Z"
   },
   {
    "duration": 3,
    "start_time": "2022-08-02T10:25:35.365Z"
   },
   {
    "duration": 5,
    "start_time": "2022-08-02T10:25:37.346Z"
   },
   {
    "duration": 98,
    "start_time": "2022-08-02T10:27:46.545Z"
   },
   {
    "duration": 17,
    "start_time": "2022-08-02T10:28:05.963Z"
   },
   {
    "duration": 4,
    "start_time": "2022-08-02T10:28:14.249Z"
   },
   {
    "duration": 3,
    "start_time": "2022-08-02T10:28:17.049Z"
   },
   {
    "duration": 12,
    "start_time": "2022-08-02T10:28:21.644Z"
   },
   {
    "duration": 11,
    "start_time": "2022-08-02T10:28:31.849Z"
   },
   {
    "duration": 15,
    "start_time": "2022-08-02T10:28:42.455Z"
   },
   {
    "duration": 4,
    "start_time": "2022-08-02T10:28:46.396Z"
   },
   {
    "duration": 9,
    "start_time": "2022-08-02T10:28:48.200Z"
   },
   {
    "duration": 12,
    "start_time": "2022-08-02T10:29:13.361Z"
   },
   {
    "duration": 16,
    "start_time": "2022-08-02T10:29:19.699Z"
   },
   {
    "duration": 12,
    "start_time": "2022-08-02T10:29:24.388Z"
   },
   {
    "duration": 14,
    "start_time": "2022-08-02T10:29:30.989Z"
   },
   {
    "duration": 12,
    "start_time": "2022-08-02T10:29:53.286Z"
   },
   {
    "duration": 11,
    "start_time": "2022-08-02T10:30:07.746Z"
   },
   {
    "duration": 68,
    "start_time": "2022-08-02T10:30:12.382Z"
   },
   {
    "duration": 6,
    "start_time": "2022-08-02T10:30:15.151Z"
   },
   {
    "duration": 8,
    "start_time": "2022-08-02T10:33:12.656Z"
   },
   {
    "duration": 14,
    "start_time": "2022-08-02T10:33:27.036Z"
   },
   {
    "duration": 7,
    "start_time": "2022-08-02T10:33:45.044Z"
   },
   {
    "duration": 13,
    "start_time": "2022-08-02T10:33:46.740Z"
   },
   {
    "duration": 12,
    "start_time": "2022-08-02T10:34:19.670Z"
   },
   {
    "duration": 14,
    "start_time": "2022-08-02T10:34:58.151Z"
   },
   {
    "duration": 9,
    "start_time": "2022-08-02T10:35:00.985Z"
   },
   {
    "duration": 22,
    "start_time": "2022-08-02T10:35:39.062Z"
   },
   {
    "duration": 10,
    "start_time": "2022-08-02T10:35:39.770Z"
   },
   {
    "duration": 15,
    "start_time": "2022-08-02T10:35:48.991Z"
   },
   {
    "duration": 25,
    "start_time": "2022-08-02T10:36:09.467Z"
   },
   {
    "duration": 12,
    "start_time": "2022-08-02T10:36:09.832Z"
   },
   {
    "duration": 28,
    "start_time": "2022-08-02T10:36:24.652Z"
   },
   {
    "duration": 11,
    "start_time": "2022-08-02T10:36:25.080Z"
   },
   {
    "duration": 12,
    "start_time": "2022-08-02T10:36:34.449Z"
   },
   {
    "duration": 10,
    "start_time": "2022-08-02T10:56:51.258Z"
   },
   {
    "duration": 14,
    "start_time": "2022-08-02T10:57:28.546Z"
   },
   {
    "duration": 42,
    "start_time": "2022-08-02T10:57:41.559Z"
   },
   {
    "duration": 15,
    "start_time": "2022-08-02T10:57:41.954Z"
   },
   {
    "duration": 11,
    "start_time": "2022-08-02T10:57:53.471Z"
   },
   {
    "duration": 13,
    "start_time": "2022-08-02T10:58:01.087Z"
   },
   {
    "duration": 14,
    "start_time": "2022-08-02T10:58:17.148Z"
   },
   {
    "duration": 74,
    "start_time": "2022-08-02T10:58:25.990Z"
   },
   {
    "duration": 110,
    "start_time": "2022-08-02T10:58:29.808Z"
   },
   {
    "duration": 15,
    "start_time": "2022-08-02T10:58:33.362Z"
   },
   {
    "duration": 37,
    "start_time": "2022-08-02T10:58:50.346Z"
   },
   {
    "duration": 14,
    "start_time": "2022-08-02T10:58:50.700Z"
   },
   {
    "duration": 14,
    "start_time": "2022-08-02T10:58:54.342Z"
   },
   {
    "duration": 14,
    "start_time": "2022-08-02T10:59:16.496Z"
   },
   {
    "duration": 40,
    "start_time": "2022-08-02T10:59:37.744Z"
   },
   {
    "duration": 14,
    "start_time": "2022-08-02T10:59:38.170Z"
   },
   {
    "duration": 12,
    "start_time": "2022-08-02T10:59:45.038Z"
   },
   {
    "duration": 13,
    "start_time": "2022-08-02T11:00:01.552Z"
   },
   {
    "duration": 19,
    "start_time": "2022-08-02T11:00:25.001Z"
   },
   {
    "duration": 15,
    "start_time": "2022-08-02T11:00:43.326Z"
   },
   {
    "duration": 14,
    "start_time": "2022-08-02T11:01:10.102Z"
   },
   {
    "duration": 15,
    "start_time": "2022-08-02T11:01:20.093Z"
   },
   {
    "duration": 14,
    "start_time": "2022-08-02T11:01:27.971Z"
   },
   {
    "duration": 14,
    "start_time": "2022-08-02T11:01:45.707Z"
   },
   {
    "duration": 16,
    "start_time": "2022-08-02T11:01:47.590Z"
   },
   {
    "duration": 13,
    "start_time": "2022-08-02T11:01:50.410Z"
   },
   {
    "duration": 43,
    "start_time": "2022-08-02T11:02:12.348Z"
   },
   {
    "duration": 13,
    "start_time": "2022-08-02T11:02:12.865Z"
   },
   {
    "duration": 157,
    "start_time": "2022-08-02T11:02:20.901Z"
   },
   {
    "duration": 114,
    "start_time": "2022-08-02T11:02:24.706Z"
   },
   {
    "duration": 13,
    "start_time": "2022-08-02T11:02:32.134Z"
   },
   {
    "duration": 37,
    "start_time": "2022-08-02T11:02:39.455Z"
   },
   {
    "duration": 15,
    "start_time": "2022-08-02T11:02:39.936Z"
   },
   {
    "duration": 14,
    "start_time": "2022-08-02T11:02:51.676Z"
   },
   {
    "duration": 43,
    "start_time": "2022-08-02T11:03:13.744Z"
   },
   {
    "duration": 14,
    "start_time": "2022-08-02T11:03:23.257Z"
   },
   {
    "duration": 48,
    "start_time": "2022-08-02T11:03:45.457Z"
   },
   {
    "duration": 13,
    "start_time": "2022-08-02T11:03:46.141Z"
   },
   {
    "duration": 49,
    "start_time": "2022-08-02T11:04:55.435Z"
   },
   {
    "duration": 15,
    "start_time": "2022-08-02T11:04:56.666Z"
   },
   {
    "duration": 12,
    "start_time": "2022-08-02T11:05:06.842Z"
   },
   {
    "duration": 15,
    "start_time": "2022-08-02T11:05:26.077Z"
   },
   {
    "duration": 49,
    "start_time": "2022-08-02T11:05:44.868Z"
   },
   {
    "duration": 14,
    "start_time": "2022-08-02T11:05:45.235Z"
   },
   {
    "duration": 15,
    "start_time": "2022-08-02T11:05:54.840Z"
   },
   {
    "duration": 13,
    "start_time": "2022-08-02T11:05:57.088Z"
   },
   {
    "duration": 15,
    "start_time": "2022-08-02T11:06:09.388Z"
   },
   {
    "duration": 15,
    "start_time": "2022-08-02T11:06:14.937Z"
   },
   {
    "duration": 15,
    "start_time": "2022-08-02T11:06:17.788Z"
   },
   {
    "duration": 13,
    "start_time": "2022-08-02T11:06:23.348Z"
   },
   {
    "duration": 18,
    "start_time": "2022-08-02T11:06:31.285Z"
   },
   {
    "duration": 15,
    "start_time": "2022-08-02T11:06:40.783Z"
   },
   {
    "duration": 17,
    "start_time": "2022-08-02T11:06:47.387Z"
   },
   {
    "duration": 51,
    "start_time": "2022-08-02T11:07:08.371Z"
   },
   {
    "duration": 15,
    "start_time": "2022-08-02T11:07:08.787Z"
   },
   {
    "duration": 12,
    "start_time": "2022-08-02T11:07:13.179Z"
   },
   {
    "duration": 15,
    "start_time": "2022-08-02T11:07:31.237Z"
   },
   {
    "duration": 54,
    "start_time": "2022-08-02T11:07:42.550Z"
   },
   {
    "duration": 13,
    "start_time": "2022-08-02T11:07:42.927Z"
   },
   {
    "duration": 11,
    "start_time": "2022-08-02T11:07:48.205Z"
   },
   {
    "duration": 3,
    "start_time": "2022-08-02T11:07:59.837Z"
   },
   {
    "duration": 16,
    "start_time": "2022-08-02T11:08:03.939Z"
   },
   {
    "duration": 16,
    "start_time": "2022-08-02T11:08:18.461Z"
   },
   {
    "duration": 61,
    "start_time": "2022-08-02T11:08:33.500Z"
   },
   {
    "duration": 14,
    "start_time": "2022-08-02T11:08:33.892Z"
   },
   {
    "duration": 11,
    "start_time": "2022-08-02T11:08:38.862Z"
   },
   {
    "duration": 16,
    "start_time": "2022-08-02T11:09:01.242Z"
   },
   {
    "duration": 15,
    "start_time": "2022-08-02T11:09:16.669Z"
   },
   {
    "duration": 8,
    "start_time": "2022-08-02T11:09:19.931Z"
   },
   {
    "duration": 12,
    "start_time": "2022-08-02T11:16:49.176Z"
   },
   {
    "duration": 102,
    "start_time": "2022-08-02T11:17:09.848Z"
   },
   {
    "duration": 102,
    "start_time": "2022-08-02T11:17:26.338Z"
   },
   {
    "duration": 103,
    "start_time": "2022-08-02T11:17:35.100Z"
   },
   {
    "duration": 104,
    "start_time": "2022-08-02T11:17:38.810Z"
   },
   {
    "duration": 90,
    "start_time": "2022-08-02T11:17:42.948Z"
   },
   {
    "duration": 174,
    "start_time": "2022-08-02T11:18:05.807Z"
   },
   {
    "duration": 63,
    "start_time": "2022-08-02T11:18:06.745Z"
   },
   {
    "duration": 116,
    "start_time": "2022-08-02T11:18:16.550Z"
   },
   {
    "duration": 220,
    "start_time": "2022-08-02T11:18:34.437Z"
   },
   {
    "duration": 16,
    "start_time": "2022-08-02T11:20:26.290Z"
   },
   {
    "duration": 14,
    "start_time": "2022-08-02T11:23:37.838Z"
   },
   {
    "duration": 3,
    "start_time": "2022-08-02T11:23:48.641Z"
   },
   {
    "duration": 264,
    "start_time": "2022-08-02T11:23:54.966Z"
   },
   {
    "duration": 110,
    "start_time": "2022-08-02T11:23:57.853Z"
   },
   {
    "duration": 220,
    "start_time": "2022-08-02T11:24:02.433Z"
   },
   {
    "duration": 8,
    "start_time": "2022-08-02T11:24:26.613Z"
   },
   {
    "duration": 14,
    "start_time": "2022-08-02T11:24:48.134Z"
   },
   {
    "duration": 14,
    "start_time": "2022-08-02T11:26:30.791Z"
   },
   {
    "duration": 13,
    "start_time": "2022-08-02T11:26:40.578Z"
   },
   {
    "duration": 17,
    "start_time": "2022-08-02T11:27:02.300Z"
   },
   {
    "duration": 19,
    "start_time": "2022-08-02T11:27:12.810Z"
   },
   {
    "duration": 22,
    "start_time": "2022-08-02T11:27:17.969Z"
   },
   {
    "duration": 6,
    "start_time": "2022-08-02T11:28:14.173Z"
   },
   {
    "duration": 6,
    "start_time": "2022-08-02T12:59:03.674Z"
   },
   {
    "duration": 12,
    "start_time": "2022-08-02T12:59:10.474Z"
   },
   {
    "duration": 12,
    "start_time": "2022-08-02T12:59:27.537Z"
   },
   {
    "duration": 26,
    "start_time": "2022-08-02T12:59:44.630Z"
   },
   {
    "duration": 4549,
    "start_time": "2022-08-02T13:00:05.494Z"
   },
   {
    "duration": 171,
    "start_time": "2022-08-02T13:01:47.953Z"
   },
   {
    "duration": 274,
    "start_time": "2022-08-02T13:02:01.752Z"
   },
   {
    "duration": 166,
    "start_time": "2022-08-02T13:02:04.328Z"
   },
   {
    "duration": 16,
    "start_time": "2022-08-02T13:02:30.236Z"
   },
   {
    "duration": 236,
    "start_time": "2022-08-02T13:02:53.631Z"
   },
   {
    "duration": 16,
    "start_time": "2022-08-02T13:03:09.580Z"
   },
   {
    "duration": 199,
    "start_time": "2022-08-02T13:03:11.824Z"
   },
   {
    "duration": 233,
    "start_time": "2022-08-02T13:08:30.470Z"
   },
   {
    "duration": 968,
    "start_time": "2022-08-02T13:10:39.462Z"
   },
   {
    "duration": 67,
    "start_time": "2022-08-02T13:12:21.190Z"
   },
   {
    "duration": 70,
    "start_time": "2022-08-02T13:12:37.391Z"
   },
   {
    "duration": 20,
    "start_time": "2022-08-02T13:12:55.312Z"
   },
   {
    "duration": 21,
    "start_time": "2022-08-02T13:13:12.690Z"
   },
   {
    "duration": 20,
    "start_time": "2022-08-02T13:13:23.131Z"
   },
   {
    "duration": 10,
    "start_time": "2022-08-02T13:13:26.765Z"
   },
   {
    "duration": 16,
    "start_time": "2022-08-02T13:13:30.761Z"
   },
   {
    "duration": 19,
    "start_time": "2022-08-02T13:13:38.845Z"
   },
   {
    "duration": 177,
    "start_time": "2022-08-02T13:13:49.537Z"
   },
   {
    "duration": 54,
    "start_time": "2022-08-02T13:14:07.830Z"
   },
   {
    "duration": 56,
    "start_time": "2022-08-02T13:16:15.742Z"
   },
   {
    "duration": 59,
    "start_time": "2022-08-02T13:21:55.948Z"
   },
   {
    "duration": 86,
    "start_time": "2022-08-02T13:23:27.859Z"
   },
   {
    "duration": 58,
    "start_time": "2022-08-02T13:23:34.552Z"
   },
   {
    "duration": 55,
    "start_time": "2022-08-02T13:23:43.588Z"
   },
   {
    "duration": 64,
    "start_time": "2022-08-02T13:24:31.331Z"
   },
   {
    "duration": 54,
    "start_time": "2022-08-02T13:25:15.136Z"
   },
   {
    "duration": 58,
    "start_time": "2022-08-02T13:25:21.277Z"
   },
   {
    "duration": 57,
    "start_time": "2022-08-02T13:25:40.639Z"
   },
   {
    "duration": 55,
    "start_time": "2022-08-02T14:05:44.754Z"
   },
   {
    "duration": 55,
    "start_time": "2022-08-02T14:05:50.440Z"
   },
   {
    "duration": 15,
    "start_time": "2022-08-02T14:12:18.455Z"
   },
   {
    "duration": 15,
    "start_time": "2022-08-02T14:12:30.381Z"
   },
   {
    "duration": 9,
    "start_time": "2022-08-02T14:12:38.735Z"
   },
   {
    "duration": 8,
    "start_time": "2022-08-02T14:12:48.062Z"
   },
   {
    "duration": 10,
    "start_time": "2022-08-02T14:13:46.239Z"
   },
   {
    "duration": 3,
    "start_time": "2022-08-02T14:17:17.241Z"
   },
   {
    "duration": 3072,
    "start_time": "2022-08-02T14:18:14.293Z"
   },
   {
    "duration": 13,
    "start_time": "2022-08-02T14:18:58.043Z"
   },
   {
    "duration": 4,
    "start_time": "2022-08-02T14:19:01.007Z"
   },
   {
    "duration": 2712,
    "start_time": "2022-08-02T14:19:02.849Z"
   },
   {
    "duration": 1187,
    "start_time": "2022-08-02T14:20:21.074Z"
   },
   {
    "duration": 3,
    "start_time": "2022-08-02T14:20:22.265Z"
   },
   {
    "duration": 75,
    "start_time": "2022-08-02T14:20:22.270Z"
   },
   {
    "duration": 13,
    "start_time": "2022-08-02T14:20:22.346Z"
   },
   {
    "duration": 12,
    "start_time": "2022-08-02T14:20:22.360Z"
   },
   {
    "duration": 26,
    "start_time": "2022-08-02T14:20:22.373Z"
   },
   {
    "duration": 9,
    "start_time": "2022-08-02T14:20:22.401Z"
   },
   {
    "duration": 6,
    "start_time": "2022-08-02T14:20:22.411Z"
   },
   {
    "duration": 7,
    "start_time": "2022-08-02T14:20:22.419Z"
   },
   {
    "duration": 33,
    "start_time": "2022-08-02T14:20:22.427Z"
   },
   {
    "duration": 123,
    "start_time": "2022-08-02T14:20:22.462Z"
   },
   {
    "duration": 27,
    "start_time": "2022-08-02T14:20:22.587Z"
   },
   {
    "duration": 4,
    "start_time": "2022-08-02T14:20:22.615Z"
   },
   {
    "duration": 2682,
    "start_time": "2022-08-02T14:20:22.620Z"
   },
   {
    "duration": 187,
    "start_time": "2022-08-02T14:20:25.304Z"
   },
   {
    "duration": 123,
    "start_time": "2022-08-02T14:20:25.493Z"
   },
   {
    "duration": 224,
    "start_time": "2022-08-02T14:20:25.618Z"
   },
   {
    "duration": 372,
    "start_time": "2022-08-02T14:20:25.843Z"
   },
   {
    "duration": 9,
    "start_time": "2022-08-02T14:20:26.217Z"
   },
   {
    "duration": 12,
    "start_time": "2022-08-02T14:20:26.228Z"
   },
   {
    "duration": 94,
    "start_time": "2022-08-02T14:25:39.574Z"
   },
   {
    "duration": 107,
    "start_time": "2022-08-02T14:51:52.399Z"
   },
   {
    "duration": 102,
    "start_time": "2022-08-02T14:52:34.662Z"
   },
   {
    "duration": 17,
    "start_time": "2022-08-02T14:52:34.857Z"
   },
   {
    "duration": 4,
    "start_time": "2022-08-02T14:52:35.068Z"
   },
   {
    "duration": 2623,
    "start_time": "2022-08-02T14:52:35.866Z"
   },
   {
    "duration": 106,
    "start_time": "2022-08-02T14:55:14.749Z"
   },
   {
    "duration": 127,
    "start_time": "2022-08-02T14:56:00.888Z"
   },
   {
    "duration": 123,
    "start_time": "2022-08-02T14:57:35.735Z"
   },
   {
    "duration": 116,
    "start_time": "2022-08-02T14:57:36.542Z"
   },
   {
    "duration": 15,
    "start_time": "2022-08-02T14:57:36.769Z"
   },
   {
    "duration": 4,
    "start_time": "2022-08-02T14:57:37.362Z"
   },
   {
    "duration": 2,
    "start_time": "2022-08-02T14:57:43.734Z"
   },
   {
    "duration": 1318,
    "start_time": "2022-08-02T17:58:09.694Z"
   },
   {
    "duration": 3,
    "start_time": "2022-08-02T17:58:11.014Z"
   },
   {
    "duration": 275,
    "start_time": "2022-08-02T17:58:11.019Z"
   },
   {
    "duration": 14,
    "start_time": "2022-08-02T17:58:11.296Z"
   },
   {
    "duration": 10,
    "start_time": "2022-08-02T17:58:11.312Z"
   },
   {
    "duration": 15,
    "start_time": "2022-08-02T17:58:11.324Z"
   },
   {
    "duration": 17,
    "start_time": "2022-08-02T17:58:11.341Z"
   },
   {
    "duration": 10,
    "start_time": "2022-08-02T17:58:11.364Z"
   },
   {
    "duration": 8,
    "start_time": "2022-08-02T17:58:11.375Z"
   },
   {
    "duration": 52,
    "start_time": "2022-08-02T17:58:11.385Z"
   },
   {
    "duration": 162,
    "start_time": "2022-08-02T17:58:11.439Z"
   },
   {
    "duration": 20,
    "start_time": "2022-08-02T17:58:11.603Z"
   },
   {
    "duration": 3,
    "start_time": "2022-08-02T17:58:11.625Z"
   },
   {
    "duration": 8,
    "start_time": "2022-08-02T17:58:11.631Z"
   },
   {
    "duration": 225,
    "start_time": "2022-08-02T17:58:11.641Z"
   },
   {
    "duration": 138,
    "start_time": "2022-08-02T17:58:11.867Z"
   },
   {
    "duration": 269,
    "start_time": "2022-08-02T17:58:12.007Z"
   },
   {
    "duration": 424,
    "start_time": "2022-08-02T17:58:12.277Z"
   },
   {
    "duration": 10,
    "start_time": "2022-08-02T17:58:12.703Z"
   },
   {
    "duration": 14,
    "start_time": "2022-08-02T17:58:12.715Z"
   },
   {
    "duration": 15,
    "start_time": "2022-08-02T17:58:59.131Z"
   },
   {
    "duration": 19,
    "start_time": "2022-08-02T17:59:54.327Z"
   },
   {
    "duration": 13,
    "start_time": "2022-08-02T18:58:13.282Z"
   },
   {
    "duration": 14,
    "start_time": "2022-08-02T19:05:09.411Z"
   },
   {
    "duration": 12,
    "start_time": "2022-08-02T19:05:35.967Z"
   },
   {
    "duration": 12,
    "start_time": "2022-08-02T19:07:33.527Z"
   },
   {
    "duration": 10,
    "start_time": "2022-08-02T19:08:05.610Z"
   },
   {
    "duration": 8,
    "start_time": "2022-08-02T19:08:06.837Z"
   },
   {
    "duration": 9,
    "start_time": "2022-08-02T19:29:58.675Z"
   },
   {
    "duration": 14,
    "start_time": "2022-08-02T19:30:06.673Z"
   },
   {
    "duration": 14,
    "start_time": "2022-08-02T19:36:28.560Z"
   },
   {
    "duration": 6,
    "start_time": "2022-08-02T19:36:37.366Z"
   },
   {
    "duration": 15,
    "start_time": "2022-08-02T19:39:47.720Z"
   },
   {
    "duration": 7,
    "start_time": "2022-08-02T19:40:13.972Z"
   },
   {
    "duration": 10,
    "start_time": "2022-08-02T19:42:05.364Z"
   },
   {
    "duration": 6,
    "start_time": "2022-08-02T19:42:07.466Z"
   },
   {
    "duration": 7,
    "start_time": "2022-08-02T19:42:09.956Z"
   },
   {
    "duration": 6,
    "start_time": "2022-08-02T19:42:11.884Z"
   },
   {
    "duration": 7,
    "start_time": "2022-08-02T19:42:13.741Z"
   },
   {
    "duration": 8,
    "start_time": "2022-08-02T19:42:15.358Z"
   },
   {
    "duration": 7,
    "start_time": "2022-08-02T19:42:17.916Z"
   },
   {
    "duration": 6,
    "start_time": "2022-08-02T19:42:23.858Z"
   },
   {
    "duration": 7,
    "start_time": "2022-08-02T19:42:27.524Z"
   },
   {
    "duration": 6,
    "start_time": "2022-08-02T19:42:39.069Z"
   },
   {
    "duration": 130,
    "start_time": "2022-08-02T19:43:22.915Z"
   },
   {
    "duration": 10,
    "start_time": "2022-08-02T19:43:57.366Z"
   },
   {
    "duration": 9,
    "start_time": "2022-08-02T19:44:16.437Z"
   },
   {
    "duration": 128,
    "start_time": "2022-08-02T19:44:40.122Z"
   },
   {
    "duration": 19,
    "start_time": "2022-08-02T19:44:47.822Z"
   },
   {
    "duration": 149,
    "start_time": "2022-08-02T19:45:05.692Z"
   },
   {
    "duration": 17,
    "start_time": "2022-08-02T19:45:14.871Z"
   },
   {
    "duration": 17,
    "start_time": "2022-08-02T19:45:27.249Z"
   },
   {
    "duration": 48,
    "start_time": "2022-08-02T19:45:29.853Z"
   },
   {
    "duration": 17,
    "start_time": "2022-08-02T19:45:34.873Z"
   },
   {
    "duration": 20,
    "start_time": "2022-08-02T19:45:55.291Z"
   },
   {
    "duration": 6,
    "start_time": "2022-08-02T19:46:38.280Z"
   },
   {
    "duration": 8,
    "start_time": "2022-08-02T19:46:46.041Z"
   },
   {
    "duration": 13,
    "start_time": "2022-08-02T19:46:56.450Z"
   },
   {
    "duration": 8,
    "start_time": "2022-08-02T19:47:00.861Z"
   },
   {
    "duration": 10,
    "start_time": "2022-08-02T19:47:13.011Z"
   },
   {
    "duration": 7,
    "start_time": "2022-08-02T19:47:22.258Z"
   },
   {
    "duration": 14,
    "start_time": "2022-08-02T19:47:28.958Z"
   },
   {
    "duration": 15,
    "start_time": "2022-08-02T19:47:39.022Z"
   },
   {
    "duration": 8,
    "start_time": "2022-08-02T19:47:49.744Z"
   },
   {
    "duration": 9,
    "start_time": "2022-08-02T19:47:54.456Z"
   },
   {
    "duration": 14,
    "start_time": "2022-08-02T19:48:28.757Z"
   },
   {
    "duration": 13,
    "start_time": "2022-08-02T19:48:43.587Z"
   },
   {
    "duration": 15,
    "start_time": "2022-08-02T19:49:11.328Z"
   },
   {
    "duration": 16,
    "start_time": "2022-08-02T19:49:34.872Z"
   },
   {
    "duration": 20,
    "start_time": "2022-08-02T19:49:45.411Z"
   },
   {
    "duration": 21,
    "start_time": "2022-08-02T19:49:51.952Z"
   },
   {
    "duration": 17,
    "start_time": "2022-08-02T19:49:55.525Z"
   },
   {
    "duration": 13,
    "start_time": "2022-08-02T19:50:15.186Z"
   },
   {
    "duration": 14,
    "start_time": "2022-08-02T19:50:19.738Z"
   },
   {
    "duration": 9,
    "start_time": "2022-08-02T19:50:28.312Z"
   },
   {
    "duration": 16,
    "start_time": "2022-08-02T19:50:38.011Z"
   },
   {
    "duration": 21,
    "start_time": "2022-08-02T19:50:41.839Z"
   },
   {
    "duration": 25,
    "start_time": "2022-08-02T19:50:55.838Z"
   },
   {
    "duration": 130,
    "start_time": "2022-08-02T19:51:19.729Z"
   },
   {
    "duration": 15,
    "start_time": "2022-08-02T19:51:20.611Z"
   },
   {
    "duration": 141,
    "start_time": "2022-08-02T19:51:59.991Z"
   },
   {
    "duration": 15,
    "start_time": "2022-08-02T19:52:00.466Z"
   },
   {
    "duration": 8,
    "start_time": "2022-08-02T19:52:05.889Z"
   },
   {
    "duration": 10,
    "start_time": "2022-08-02T19:52:16.529Z"
   },
   {
    "duration": 10,
    "start_time": "2022-08-02T19:52:51.826Z"
   },
   {
    "duration": 12,
    "start_time": "2022-08-02T19:52:54.898Z"
   },
   {
    "duration": 10,
    "start_time": "2022-08-02T19:53:53.365Z"
   },
   {
    "duration": 17,
    "start_time": "2022-08-02T19:53:57.462Z"
   },
   {
    "duration": 11,
    "start_time": "2022-08-02T19:54:11.643Z"
   },
   {
    "duration": 15,
    "start_time": "2022-08-02T19:55:10.938Z"
   },
   {
    "duration": 16,
    "start_time": "2022-08-02T19:55:30.272Z"
   },
   {
    "duration": 16,
    "start_time": "2022-08-02T19:55:45.151Z"
   },
   {
    "duration": 8,
    "start_time": "2022-08-02T19:56:06.845Z"
   },
   {
    "duration": 1119,
    "start_time": "2022-08-02T19:57:09.981Z"
   },
   {
    "duration": 3,
    "start_time": "2022-08-02T19:57:11.102Z"
   },
   {
    "duration": 64,
    "start_time": "2022-08-02T19:57:11.106Z"
   },
   {
    "duration": 12,
    "start_time": "2022-08-02T19:57:11.172Z"
   },
   {
    "duration": 9,
    "start_time": "2022-08-02T19:57:11.185Z"
   },
   {
    "duration": 15,
    "start_time": "2022-08-02T19:57:11.196Z"
   },
   {
    "duration": 8,
    "start_time": "2022-08-02T19:57:11.213Z"
   },
   {
    "duration": 7,
    "start_time": "2022-08-02T19:57:11.224Z"
   },
   {
    "duration": 25,
    "start_time": "2022-08-02T19:57:11.233Z"
   },
   {
    "duration": 56,
    "start_time": "2022-08-02T19:57:11.262Z"
   },
   {
    "duration": 186,
    "start_time": "2022-08-02T19:57:11.321Z"
   },
   {
    "duration": 19,
    "start_time": "2022-08-02T19:57:11.509Z"
   },
   {
    "duration": 4,
    "start_time": "2022-08-02T19:57:11.529Z"
   },
   {
    "duration": 219,
    "start_time": "2022-08-02T19:57:11.534Z"
   },
   {
    "duration": 121,
    "start_time": "2022-08-02T19:57:11.757Z"
   },
   {
    "duration": 239,
    "start_time": "2022-08-02T19:57:11.879Z"
   },
   {
    "duration": 423,
    "start_time": "2022-08-02T19:57:12.119Z"
   },
   {
    "duration": 9,
    "start_time": "2022-08-02T19:57:12.543Z"
   },
   {
    "duration": 21,
    "start_time": "2022-08-02T19:57:12.554Z"
   },
   {
    "duration": 10,
    "start_time": "2022-08-02T19:57:12.577Z"
   },
   {
    "duration": 19,
    "start_time": "2022-08-02T19:57:12.589Z"
   },
   {
    "duration": 52,
    "start_time": "2022-08-02T19:57:12.610Z"
   },
   {
    "duration": 51,
    "start_time": "2022-08-02T19:57:12.664Z"
   },
   {
    "duration": 10,
    "start_time": "2022-08-02T20:04:21.760Z"
   },
   {
    "duration": 9,
    "start_time": "2022-08-02T20:05:39.822Z"
   },
   {
    "duration": 4,
    "start_time": "2022-08-02T20:14:05.522Z"
   },
   {
    "duration": 3,
    "start_time": "2022-08-02T20:14:06.522Z"
   },
   {
    "duration": 138,
    "start_time": "2022-08-02T20:14:56.488Z"
   },
   {
    "duration": 639,
    "start_time": "2022-08-02T20:15:11.822Z"
   },
   {
    "duration": 564,
    "start_time": "2022-08-02T20:15:27.220Z"
   },
   {
    "duration": 13,
    "start_time": "2022-08-02T20:15:28.072Z"
   },
   {
    "duration": 49,
    "start_time": "2022-08-02T20:15:44.026Z"
   },
   {
    "duration": 3,
    "start_time": "2022-08-02T20:15:51.159Z"
   },
   {
    "duration": 606,
    "start_time": "2022-08-02T20:15:52.642Z"
   },
   {
    "duration": 1713,
    "start_time": "2022-08-02T20:16:20.856Z"
   },
   {
    "duration": 14,
    "start_time": "2022-08-02T20:16:24.365Z"
   },
   {
    "duration": 4,
    "start_time": "2022-08-02T20:17:01.223Z"
   },
   {
    "duration": 2784,
    "start_time": "2022-08-02T20:17:04.472Z"
   },
   {
    "duration": 11,
    "start_time": "2022-08-02T20:17:07.258Z"
   },
   {
    "duration": 2908,
    "start_time": "2022-08-02T20:17:21.075Z"
   },
   {
    "duration": 2821,
    "start_time": "2022-08-02T20:17:43.430Z"
   },
   {
    "duration": 2977,
    "start_time": "2022-08-02T20:19:23.722Z"
   },
   {
    "duration": 1398,
    "start_time": "2022-08-02T20:23:28.239Z"
   },
   {
    "duration": 4367,
    "start_time": "2022-08-02T20:24:09.898Z"
   },
   {
    "duration": 4317,
    "start_time": "2022-08-02T20:24:26.544Z"
   },
   {
    "duration": 13,
    "start_time": "2022-08-02T20:24:30.863Z"
   },
   {
    "duration": 15,
    "start_time": "2022-08-02T20:25:25.374Z"
   },
   {
    "duration": 50,
    "start_time": "2022-08-02T20:25:50.233Z"
   },
   {
    "duration": 11,
    "start_time": "2022-08-02T20:25:58.888Z"
   },
   {
    "duration": 826,
    "start_time": "2022-08-02T20:26:23.245Z"
   },
   {
    "duration": 13,
    "start_time": "2022-08-02T20:26:40.338Z"
   },
   {
    "duration": 4661,
    "start_time": "2022-08-02T20:33:52.621Z"
   },
   {
    "duration": 0,
    "start_time": "2022-08-02T20:34:00.197Z"
   },
   {
    "duration": 5,
    "start_time": "2022-08-02T20:34:00.589Z"
   },
   {
    "duration": 6,
    "start_time": "2022-08-02T20:34:06.066Z"
   },
   {
    "duration": 12,
    "start_time": "2022-08-02T20:34:37.161Z"
   },
   {
    "duration": 13,
    "start_time": "2022-08-02T20:34:38.301Z"
   },
   {
    "duration": 15,
    "start_time": "2022-08-02T20:34:38.570Z"
   },
   {
    "duration": 7,
    "start_time": "2022-08-02T20:34:38.962Z"
   },
   {
    "duration": 5,
    "start_time": "2022-08-02T20:34:40.253Z"
   },
   {
    "duration": 4513,
    "start_time": "2022-08-02T20:34:47.374Z"
   },
   {
    "duration": 12,
    "start_time": "2022-08-02T20:34:51.889Z"
   },
   {
    "duration": 12,
    "start_time": "2022-08-02T20:39:26.154Z"
   },
   {
    "duration": 13,
    "start_time": "2022-08-02T20:39:47.417Z"
   },
   {
    "duration": 12,
    "start_time": "2022-08-02T20:40:16.129Z"
   },
   {
    "duration": 16,
    "start_time": "2022-08-02T20:40:26.844Z"
   },
   {
    "duration": 18,
    "start_time": "2022-08-02T20:40:41.292Z"
   },
   {
    "duration": 13,
    "start_time": "2022-08-02T20:40:46.960Z"
   },
   {
    "duration": 14,
    "start_time": "2022-08-02T20:41:08.780Z"
   },
   {
    "duration": 17,
    "start_time": "2022-08-02T20:41:15.429Z"
   },
   {
    "duration": 12,
    "start_time": "2022-08-02T20:42:03.843Z"
   },
   {
    "duration": 20,
    "start_time": "2022-08-02T20:42:45.381Z"
   },
   {
    "duration": 13,
    "start_time": "2022-08-02T20:42:54.881Z"
   },
   {
    "duration": 18,
    "start_time": "2022-08-02T20:43:03.728Z"
   },
   {
    "duration": 13,
    "start_time": "2022-08-02T20:43:24.983Z"
   },
   {
    "duration": 10,
    "start_time": "2022-08-02T20:43:46.831Z"
   },
   {
    "duration": 19,
    "start_time": "2022-08-02T20:43:54.522Z"
   },
   {
    "duration": 8,
    "start_time": "2022-08-02T20:44:24.685Z"
   },
   {
    "duration": 11,
    "start_time": "2022-08-02T20:45:05.016Z"
   },
   {
    "duration": 24,
    "start_time": "2022-08-02T20:45:10.167Z"
   },
   {
    "duration": 49,
    "start_time": "2022-08-02T20:46:45.783Z"
   },
   {
    "duration": 2777,
    "start_time": "2022-08-02T20:46:48.224Z"
   },
   {
    "duration": 61,
    "start_time": "2022-08-02T20:47:04.559Z"
   },
   {
    "duration": 4,
    "start_time": "2022-08-02T20:47:13.152Z"
   },
   {
    "duration": 22,
    "start_time": "2022-08-02T20:47:14.451Z"
   },
   {
    "duration": 4,
    "start_time": "2022-08-02T20:47:40.774Z"
   },
   {
    "duration": 1820,
    "start_time": "2022-08-02T20:47:41.229Z"
   },
   {
    "duration": 5,
    "start_time": "2022-08-02T20:48:58.172Z"
   },
   {
    "duration": 5076,
    "start_time": "2022-08-02T20:48:58.744Z"
   },
   {
    "duration": 7,
    "start_time": "2022-08-02T20:49:21.316Z"
   },
   {
    "duration": 1379,
    "start_time": "2022-08-03T07:34:22.589Z"
   },
   {
    "duration": 5,
    "start_time": "2022-08-03T07:34:23.970Z"
   },
   {
    "duration": 559,
    "start_time": "2022-08-03T07:34:23.977Z"
   },
   {
    "duration": 13,
    "start_time": "2022-08-03T07:34:24.538Z"
   },
   {
    "duration": 22,
    "start_time": "2022-08-03T07:34:24.552Z"
   },
   {
    "duration": 50,
    "start_time": "2022-08-03T07:34:24.575Z"
   },
   {
    "duration": 17,
    "start_time": "2022-08-03T07:34:24.626Z"
   },
   {
    "duration": 27,
    "start_time": "2022-08-03T07:34:24.645Z"
   },
   {
    "duration": 22,
    "start_time": "2022-08-03T07:34:24.673Z"
   },
   {
    "duration": 59,
    "start_time": "2022-08-03T07:34:24.698Z"
   },
   {
    "duration": 212,
    "start_time": "2022-08-03T07:34:24.759Z"
   },
   {
    "duration": 24,
    "start_time": "2022-08-03T07:34:24.973Z"
   },
   {
    "duration": 31,
    "start_time": "2022-08-03T07:34:24.998Z"
   },
   {
    "duration": 228,
    "start_time": "2022-08-03T07:34:25.030Z"
   },
   {
    "duration": 144,
    "start_time": "2022-08-03T07:34:25.260Z"
   },
   {
    "duration": 326,
    "start_time": "2022-08-03T07:34:25.406Z"
   },
   {
    "duration": 1005,
    "start_time": "2022-08-03T07:34:25.788Z"
   },
   {
    "duration": 15,
    "start_time": "2022-08-03T07:34:26.795Z"
   },
   {
    "duration": 82,
    "start_time": "2022-08-03T07:34:26.812Z"
   },
   {
    "duration": 32,
    "start_time": "2022-08-03T07:34:26.896Z"
   },
   {
    "duration": 61,
    "start_time": "2022-08-03T07:34:26.930Z"
   },
   {
    "duration": 29,
    "start_time": "2022-08-03T07:34:26.993Z"
   },
   {
    "duration": 85,
    "start_time": "2022-08-03T07:34:27.023Z"
   },
   {
    "duration": 16,
    "start_time": "2022-08-03T07:34:27.110Z"
   },
   {
    "duration": 5224,
    "start_time": "2022-08-03T07:34:27.128Z"
   },
   {
    "duration": 4,
    "start_time": "2022-08-03T07:34:32.354Z"
   },
   {
    "duration": 8,
    "start_time": "2022-08-03T07:35:08.809Z"
   },
   {
    "duration": 9,
    "start_time": "2022-08-03T07:35:15.760Z"
   },
   {
    "duration": 14,
    "start_time": "2022-08-03T07:35:54.123Z"
   },
   {
    "duration": 23,
    "start_time": "2022-08-03T07:37:44.325Z"
   },
   {
    "duration": 1230,
    "start_time": "2022-08-03T07:38:04.713Z"
   },
   {
    "duration": 4,
    "start_time": "2022-08-03T07:38:05.945Z"
   },
   {
    "duration": 101,
    "start_time": "2022-08-03T07:38:05.951Z"
   },
   {
    "duration": 20,
    "start_time": "2022-08-03T07:38:06.055Z"
   },
   {
    "duration": 13,
    "start_time": "2022-08-03T07:38:06.086Z"
   },
   {
    "duration": 24,
    "start_time": "2022-08-03T07:38:06.101Z"
   },
   {
    "duration": 9,
    "start_time": "2022-08-03T07:38:06.126Z"
   },
   {
    "duration": 19,
    "start_time": "2022-08-03T07:38:06.137Z"
   },
   {
    "duration": 18,
    "start_time": "2022-08-03T07:38:06.158Z"
   },
   {
    "duration": 51,
    "start_time": "2022-08-03T07:38:06.190Z"
   },
   {
    "duration": 206,
    "start_time": "2022-08-03T07:38:06.243Z"
   },
   {
    "duration": 27,
    "start_time": "2022-08-03T07:38:06.451Z"
   },
   {
    "duration": 5,
    "start_time": "2022-08-03T07:38:06.486Z"
   },
   {
    "duration": 244,
    "start_time": "2022-08-03T07:38:06.493Z"
   },
   {
    "duration": 137,
    "start_time": "2022-08-03T07:38:06.739Z"
   },
   {
    "duration": 262,
    "start_time": "2022-08-03T07:38:06.878Z"
   },
   {
    "duration": 484,
    "start_time": "2022-08-03T07:38:07.142Z"
   },
   {
    "duration": 11,
    "start_time": "2022-08-03T07:38:07.628Z"
   },
   {
    "duration": 50,
    "start_time": "2022-08-03T07:38:07.641Z"
   },
   {
    "duration": 13,
    "start_time": "2022-08-03T07:38:07.692Z"
   },
   {
    "duration": 36,
    "start_time": "2022-08-03T07:38:07.706Z"
   },
   {
    "duration": 5,
    "start_time": "2022-08-03T07:38:07.744Z"
   },
   {
    "duration": 5781,
    "start_time": "2022-08-03T07:38:07.751Z"
   },
   {
    "duration": 5,
    "start_time": "2022-08-03T07:38:13.533Z"
   },
   {
    "duration": 18,
    "start_time": "2022-08-03T07:38:30.509Z"
   },
   {
    "duration": 25,
    "start_time": "2022-08-03T07:38:46.339Z"
   },
   {
    "duration": 30,
    "start_time": "2022-08-03T07:38:47.431Z"
   },
   {
    "duration": 21,
    "start_time": "2022-08-03T07:38:47.780Z"
   },
   {
    "duration": 20,
    "start_time": "2022-08-03T07:38:47.963Z"
   },
   {
    "duration": 21,
    "start_time": "2022-08-03T07:38:48.148Z"
   },
   {
    "duration": 20,
    "start_time": "2022-08-03T07:39:12.923Z"
   },
   {
    "duration": 21,
    "start_time": "2022-08-03T07:39:36.547Z"
   },
   {
    "duration": 21,
    "start_time": "2022-08-03T07:40:16.214Z"
   },
   {
    "duration": 19,
    "start_time": "2022-08-03T07:41:05.258Z"
   },
   {
    "duration": 20,
    "start_time": "2022-08-03T07:42:03.713Z"
   },
   {
    "duration": 7,
    "start_time": "2022-08-03T07:42:59.845Z"
   },
   {
    "duration": 11230,
    "start_time": "2022-08-03T07:43:01.499Z"
   },
   {
    "duration": 5,
    "start_time": "2022-08-03T07:43:12.732Z"
   },
   {
    "duration": 22,
    "start_time": "2022-08-03T07:44:08.933Z"
   },
   {
    "duration": 23,
    "start_time": "2022-08-03T07:45:03.413Z"
   },
   {
    "duration": 6,
    "start_time": "2022-08-03T07:51:24.655Z"
   },
   {
    "duration": 10837,
    "start_time": "2022-08-03T07:51:27.777Z"
   },
   {
    "duration": 5,
    "start_time": "2022-08-03T07:52:13.863Z"
   },
   {
    "duration": 28,
    "start_time": "2022-08-03T07:52:35.794Z"
   },
   {
    "duration": 25,
    "start_time": "2022-08-03T07:52:36.942Z"
   },
   {
    "duration": 7,
    "start_time": "2022-08-03T07:52:37.936Z"
   },
   {
    "duration": 12493,
    "start_time": "2022-08-03T07:52:38.477Z"
   },
   {
    "duration": 7,
    "start_time": "2022-08-03T07:52:56.145Z"
   },
   {
    "duration": 12,
    "start_time": "2022-08-03T07:55:00.062Z"
   },
   {
    "duration": 14,
    "start_time": "2022-08-03T07:55:28.127Z"
   },
   {
    "duration": 11,
    "start_time": "2022-08-03T07:56:43.148Z"
   },
   {
    "duration": 6,
    "start_time": "2022-08-03T07:57:27.523Z"
   },
   {
    "duration": 7,
    "start_time": "2022-08-03T07:57:37.604Z"
   },
   {
    "duration": 15,
    "start_time": "2022-08-03T08:00:09.140Z"
   },
   {
    "duration": 28,
    "start_time": "2022-08-03T08:00:12.590Z"
   },
   {
    "duration": 56,
    "start_time": "2022-08-03T08:00:13.435Z"
   },
   {
    "duration": 14248,
    "start_time": "2022-08-03T08:00:13.797Z"
   },
   {
    "duration": 5,
    "start_time": "2022-08-03T08:00:28.048Z"
   },
   {
    "duration": 7,
    "start_time": "2022-08-03T08:00:29.317Z"
   },
   {
    "duration": 12416,
    "start_time": "2022-08-03T08:00:29.888Z"
   },
   {
    "duration": 5,
    "start_time": "2022-08-03T08:00:42.306Z"
   },
   {
    "duration": 29,
    "start_time": "2022-08-03T08:00:42.312Z"
   },
   {
    "duration": 16,
    "start_time": "2022-08-03T08:10:31.924Z"
   },
   {
    "duration": 82,
    "start_time": "2022-08-03T08:11:25.441Z"
   },
   {
    "duration": 18,
    "start_time": "2022-08-03T08:11:31.265Z"
   },
   {
    "duration": 16,
    "start_time": "2022-08-03T08:11:36.159Z"
   },
   {
    "duration": 15,
    "start_time": "2022-08-03T08:11:43.076Z"
   },
   {
    "duration": 226,
    "start_time": "2022-08-03T08:11:56.269Z"
   },
   {
    "duration": 18,
    "start_time": "2022-08-03T08:12:00.602Z"
   },
   {
    "duration": 13,
    "start_time": "2022-08-03T08:12:06.113Z"
   },
   {
    "duration": 15,
    "start_time": "2022-08-03T08:12:09.824Z"
   },
   {
    "duration": 13,
    "start_time": "2022-08-03T08:12:13.999Z"
   },
   {
    "duration": 16,
    "start_time": "2022-08-03T08:12:23.516Z"
   },
   {
    "duration": 308,
    "start_time": "2022-08-03T08:13:44.001Z"
   },
   {
    "duration": 218,
    "start_time": "2022-08-03T08:14:29.412Z"
   },
   {
    "duration": 202,
    "start_time": "2022-08-03T08:16:34.040Z"
   },
   {
    "duration": 277,
    "start_time": "2022-08-03T08:16:45.033Z"
   },
   {
    "duration": 208,
    "start_time": "2022-08-03T08:17:33.824Z"
   },
   {
    "duration": 303,
    "start_time": "2022-08-03T08:18:23.153Z"
   },
   {
    "duration": 285,
    "start_time": "2022-08-03T08:20:47.217Z"
   },
   {
    "duration": 466,
    "start_time": "2022-08-03T08:20:50.223Z"
   },
   {
    "duration": 469,
    "start_time": "2022-08-03T08:21:13.978Z"
   },
   {
    "duration": 333,
    "start_time": "2022-08-03T08:21:52.769Z"
   },
   {
    "duration": 65,
    "start_time": "2022-08-03T08:22:16.743Z"
   },
   {
    "duration": 610,
    "start_time": "2022-08-03T08:22:24.110Z"
   },
   {
    "duration": 365,
    "start_time": "2022-08-03T08:22:29.045Z"
   },
   {
    "duration": 316,
    "start_time": "2022-08-03T08:22:40.995Z"
   },
   {
    "duration": 13,
    "start_time": "2022-08-03T09:11:39.979Z"
   },
   {
    "duration": 10,
    "start_time": "2022-08-03T09:12:30.130Z"
   },
   {
    "duration": 65,
    "start_time": "2022-08-03T09:12:40.317Z"
   },
   {
    "duration": 10,
    "start_time": "2022-08-03T09:12:47.314Z"
   },
   {
    "duration": 15,
    "start_time": "2022-08-03T09:12:53.919Z"
   },
   {
    "duration": 19,
    "start_time": "2022-08-03T09:13:01.829Z"
   },
   {
    "duration": 22,
    "start_time": "2022-08-03T09:13:05.686Z"
   },
   {
    "duration": 17,
    "start_time": "2022-08-03T09:13:32.334Z"
   },
   {
    "duration": 14,
    "start_time": "2022-08-03T09:14:06.616Z"
   },
   {
    "duration": 288,
    "start_time": "2022-08-03T09:14:13.112Z"
   },
   {
    "duration": 347,
    "start_time": "2022-08-03T09:14:26.387Z"
   },
   {
    "duration": 298,
    "start_time": "2022-08-03T09:17:24.269Z"
   },
   {
    "duration": 275,
    "start_time": "2022-08-03T09:17:30.406Z"
   },
   {
    "duration": 251,
    "start_time": "2022-08-03T09:17:35.210Z"
   },
   {
    "duration": 275,
    "start_time": "2022-08-03T09:17:39.338Z"
   },
   {
    "duration": 298,
    "start_time": "2022-08-03T09:17:42.937Z"
   },
   {
    "duration": 418,
    "start_time": "2022-08-03T09:17:43.733Z"
   },
   {
    "duration": 319,
    "start_time": "2022-08-03T09:18:09.912Z"
   },
   {
    "duration": 320,
    "start_time": "2022-08-03T09:18:11.143Z"
   },
   {
    "duration": 415,
    "start_time": "2022-08-03T09:18:18.028Z"
   },
   {
    "duration": 301,
    "start_time": "2022-08-03T09:18:26.045Z"
   },
   {
    "duration": 333,
    "start_time": "2022-08-03T09:18:30.629Z"
   },
   {
    "duration": 268,
    "start_time": "2022-08-03T09:18:38.265Z"
   },
   {
    "duration": 407,
    "start_time": "2022-08-03T09:18:53.720Z"
   },
   {
    "duration": 271,
    "start_time": "2022-08-03T09:18:59.648Z"
   },
   {
    "duration": 270,
    "start_time": "2022-08-03T09:19:04.368Z"
   },
   {
    "duration": 294,
    "start_time": "2022-08-03T09:19:07.542Z"
   },
   {
    "duration": 289,
    "start_time": "2022-08-03T09:19:14.575Z"
   },
   {
    "duration": 273,
    "start_time": "2022-08-03T09:19:18.044Z"
   },
   {
    "duration": 309,
    "start_time": "2022-08-03T09:19:28.211Z"
   },
   {
    "duration": 66,
    "start_time": "2022-08-03T09:19:35.847Z"
   },
   {
    "duration": 270,
    "start_time": "2022-08-03T09:19:40.075Z"
   },
   {
    "duration": 388,
    "start_time": "2022-08-03T09:19:43.022Z"
   },
   {
    "duration": 283,
    "start_time": "2022-08-03T09:21:21.566Z"
   },
   {
    "duration": 273,
    "start_time": "2022-08-03T09:21:29.860Z"
   },
   {
    "duration": 177,
    "start_time": "2022-08-03T09:21:55.108Z"
   },
   {
    "duration": 269,
    "start_time": "2022-08-03T09:21:59.728Z"
   },
   {
    "duration": 297,
    "start_time": "2022-08-03T09:22:09.582Z"
   },
   {
    "duration": 258,
    "start_time": "2022-08-03T09:22:55.710Z"
   },
   {
    "duration": 38,
    "start_time": "2022-08-03T09:28:44.668Z"
   },
   {
    "duration": 77,
    "start_time": "2022-08-03T09:29:09.776Z"
   },
   {
    "duration": 35,
    "start_time": "2022-08-03T09:29:15.411Z"
   },
   {
    "duration": 45,
    "start_time": "2022-08-03T09:29:19.210Z"
   },
   {
    "duration": 41,
    "start_time": "2022-08-03T09:44:34.451Z"
   },
   {
    "duration": 41,
    "start_time": "2022-08-03T09:44:44.265Z"
   },
   {
    "duration": 476,
    "start_time": "2022-08-03T09:54:36.788Z"
   },
   {
    "duration": 540,
    "start_time": "2022-08-03T09:55:07.398Z"
   },
   {
    "duration": 672,
    "start_time": "2022-08-03T09:55:20.663Z"
   },
   {
    "duration": 206,
    "start_time": "2022-08-03T09:55:49.838Z"
   },
   {
    "duration": 148,
    "start_time": "2022-08-03T09:56:08.772Z"
   },
   {
    "duration": 156,
    "start_time": "2022-08-03T09:56:15.964Z"
   },
   {
    "duration": 253,
    "start_time": "2022-08-03T09:56:28.958Z"
   },
   {
    "duration": 300,
    "start_time": "2022-08-03T09:56:38.425Z"
   },
   {
    "duration": 261,
    "start_time": "2022-08-03T09:56:54.895Z"
   },
   {
    "duration": 316,
    "start_time": "2022-08-03T09:57:09.781Z"
   },
   {
    "duration": 134,
    "start_time": "2022-08-03T09:57:54.821Z"
   },
   {
    "duration": 147,
    "start_time": "2022-08-03T09:58:02.525Z"
   },
   {
    "duration": 147,
    "start_time": "2022-08-03T09:58:13.568Z"
   },
   {
    "duration": 144,
    "start_time": "2022-08-03T09:58:19.050Z"
   },
   {
    "duration": 168,
    "start_time": "2022-08-03T09:58:27.403Z"
   },
   {
    "duration": 151,
    "start_time": "2022-08-03T09:58:51.516Z"
   },
   {
    "duration": 158,
    "start_time": "2022-08-03T09:58:56.323Z"
   },
   {
    "duration": 1244,
    "start_time": "2022-08-03T09:59:04.080Z"
   },
   {
    "duration": 4,
    "start_time": "2022-08-03T09:59:05.326Z"
   },
   {
    "duration": 98,
    "start_time": "2022-08-03T09:59:05.332Z"
   },
   {
    "duration": 14,
    "start_time": "2022-08-03T09:59:05.432Z"
   },
   {
    "duration": 10,
    "start_time": "2022-08-03T09:59:05.448Z"
   },
   {
    "duration": 36,
    "start_time": "2022-08-03T09:59:05.461Z"
   },
   {
    "duration": 18,
    "start_time": "2022-08-03T09:59:05.502Z"
   },
   {
    "duration": 6,
    "start_time": "2022-08-03T09:59:05.522Z"
   },
   {
    "duration": 10,
    "start_time": "2022-08-03T09:59:05.530Z"
   },
   {
    "duration": 48,
    "start_time": "2022-08-03T09:59:05.542Z"
   },
   {
    "duration": 172,
    "start_time": "2022-08-03T09:59:05.591Z"
   },
   {
    "duration": 29,
    "start_time": "2022-08-03T09:59:05.764Z"
   },
   {
    "duration": 5,
    "start_time": "2022-08-03T09:59:05.798Z"
   },
   {
    "duration": 231,
    "start_time": "2022-08-03T09:59:05.804Z"
   },
   {
    "duration": 156,
    "start_time": "2022-08-03T09:59:06.038Z"
   },
   {
    "duration": 338,
    "start_time": "2022-08-03T09:59:06.195Z"
   },
   {
    "duration": 516,
    "start_time": "2022-08-03T09:59:06.537Z"
   },
   {
    "duration": 42,
    "start_time": "2022-08-03T09:59:07.054Z"
   },
   {
    "duration": 22,
    "start_time": "2022-08-03T09:59:07.098Z"
   },
   {
    "duration": 5,
    "start_time": "2022-08-03T09:59:07.122Z"
   },
   {
    "duration": 12787,
    "start_time": "2022-08-03T09:59:07.129Z"
   },
   {
    "duration": 5,
    "start_time": "2022-08-03T09:59:19.918Z"
   },
   {
    "duration": 12,
    "start_time": "2022-08-03T09:59:19.925Z"
   },
   {
    "duration": 222,
    "start_time": "2022-08-03T09:59:19.939Z"
   },
   {
    "duration": 289,
    "start_time": "2022-08-03T09:59:20.163Z"
   },
   {
    "duration": 160,
    "start_time": "2022-08-03T09:59:20.455Z"
   },
   {
    "duration": 305,
    "start_time": "2022-08-03T09:59:20.616Z"
   },
   {
    "duration": 34,
    "start_time": "2022-08-03T09:59:20.924Z"
   },
   {
    "duration": 493,
    "start_time": "2022-08-03T09:59:20.960Z"
   },
   {
    "duration": 341,
    "start_time": "2022-08-03T10:00:46.559Z"
   },
   {
    "duration": 553,
    "start_time": "2022-08-03T10:01:20.706Z"
   },
   {
    "duration": 279,
    "start_time": "2022-08-03T10:01:35.124Z"
   },
   {
    "duration": 311,
    "start_time": "2022-08-03T10:01:44.974Z"
   },
   {
    "duration": 303,
    "start_time": "2022-08-03T10:01:52.979Z"
   },
   {
    "duration": 301,
    "start_time": "2022-08-03T10:02:00.581Z"
   },
   {
    "duration": 491,
    "start_time": "2022-08-03T10:02:59.873Z"
   },
   {
    "duration": 474,
    "start_time": "2022-08-03T10:22:26.833Z"
   },
   {
    "duration": 466,
    "start_time": "2022-08-03T10:22:31.687Z"
   },
   {
    "duration": 55,
    "start_time": "2022-08-03T10:24:03.727Z"
   },
   {
    "duration": 167,
    "start_time": "2022-08-03T10:24:18.348Z"
   },
   {
    "duration": 57,
    "start_time": "2022-08-03T10:24:49.173Z"
   },
   {
    "duration": 20,
    "start_time": "2022-08-03T10:24:58.226Z"
   },
   {
    "duration": 162,
    "start_time": "2022-08-03T10:25:19.159Z"
   },
   {
    "duration": 1207,
    "start_time": "2022-08-03T10:25:27.114Z"
   },
   {
    "duration": 4,
    "start_time": "2022-08-03T10:25:28.322Z"
   },
   {
    "duration": 94,
    "start_time": "2022-08-03T10:25:28.328Z"
   },
   {
    "duration": 16,
    "start_time": "2022-08-03T10:25:28.424Z"
   },
   {
    "duration": 10,
    "start_time": "2022-08-03T10:25:28.442Z"
   },
   {
    "duration": 20,
    "start_time": "2022-08-03T10:25:28.454Z"
   },
   {
    "duration": 20,
    "start_time": "2022-08-03T10:25:28.475Z"
   },
   {
    "duration": 14,
    "start_time": "2022-08-03T10:25:28.498Z"
   },
   {
    "duration": 7,
    "start_time": "2022-08-03T10:25:28.514Z"
   },
   {
    "duration": 31,
    "start_time": "2022-08-03T10:25:28.522Z"
   },
   {
    "duration": 173,
    "start_time": "2022-08-03T10:25:28.555Z"
   },
   {
    "duration": 18,
    "start_time": "2022-08-03T10:25:28.729Z"
   },
   {
    "duration": 3,
    "start_time": "2022-08-03T10:25:28.748Z"
   },
   {
    "duration": 224,
    "start_time": "2022-08-03T10:25:28.754Z"
   },
   {
    "duration": 150,
    "start_time": "2022-08-03T10:25:28.980Z"
   },
   {
    "duration": 264,
    "start_time": "2022-08-03T10:25:29.132Z"
   },
   {
    "duration": 477,
    "start_time": "2022-08-03T10:25:29.397Z"
   },
   {
    "duration": 18,
    "start_time": "2022-08-03T10:25:29.876Z"
   },
   {
    "duration": 236,
    "start_time": "2022-08-03T10:25:29.896Z"
   },
   {
    "duration": 19,
    "start_time": "2022-08-03T10:25:30.134Z"
   },
   {
    "duration": 50,
    "start_time": "2022-08-03T10:25:30.155Z"
   },
   {
    "duration": 5,
    "start_time": "2022-08-03T10:25:30.207Z"
   },
   {
    "duration": 10715,
    "start_time": "2022-08-03T10:25:30.213Z"
   },
   {
    "duration": 4,
    "start_time": "2022-08-03T10:25:40.930Z"
   },
   {
    "duration": 17,
    "start_time": "2022-08-03T10:25:40.935Z"
   },
   {
    "duration": 203,
    "start_time": "2022-08-03T10:25:40.954Z"
   },
   {
    "duration": 530,
    "start_time": "2022-08-03T10:25:41.158Z"
   },
   {
    "duration": 311,
    "start_time": "2022-08-03T10:25:41.689Z"
   },
   {
    "duration": 831,
    "start_time": "2022-08-03T10:25:42.001Z"
   },
   {
    "duration": 91,
    "start_time": "2022-08-03T10:25:42.834Z"
   },
   {
    "duration": 697,
    "start_time": "2022-08-03T10:25:42.926Z"
   },
   {
    "duration": 207,
    "start_time": "2022-08-03T10:26:09.837Z"
   },
   {
    "duration": 164,
    "start_time": "2022-08-03T10:26:15.229Z"
   },
   {
    "duration": 64,
    "start_time": "2022-08-03T10:26:23.559Z"
   },
   {
    "duration": 492,
    "start_time": "2022-08-03T10:27:10.097Z"
   },
   {
    "duration": 20,
    "start_time": "2022-08-03T10:27:46.233Z"
   },
   {
    "duration": 157,
    "start_time": "2022-08-03T10:28:00.317Z"
   },
   {
    "duration": 12,
    "start_time": "2022-08-03T10:28:45.185Z"
   },
   {
    "duration": 20,
    "start_time": "2022-08-03T10:29:59.514Z"
   },
   {
    "duration": 12,
    "start_time": "2022-08-03T10:30:11.808Z"
   },
   {
    "duration": 14,
    "start_time": "2022-08-03T10:30:19.413Z"
   },
   {
    "duration": 53,
    "start_time": "2022-08-03T10:30:30.441Z"
   },
   {
    "duration": 16,
    "start_time": "2022-08-03T10:30:51.136Z"
   },
   {
    "duration": 47,
    "start_time": "2022-08-03T10:31:02.312Z"
   },
   {
    "duration": 47,
    "start_time": "2022-08-03T10:31:06.834Z"
   },
   {
    "duration": 502,
    "start_time": "2022-08-03T10:31:26.434Z"
   },
   {
    "duration": 531,
    "start_time": "2022-08-03T10:31:33.132Z"
   },
   {
    "duration": 57,
    "start_time": "2022-08-03T10:32:19.259Z"
   },
   {
    "duration": 45,
    "start_time": "2022-08-03T10:32:38.340Z"
   },
   {
    "duration": 54,
    "start_time": "2022-08-03T10:32:42.661Z"
   },
   {
    "duration": 46,
    "start_time": "2022-08-03T10:32:54.213Z"
   },
   {
    "duration": 46,
    "start_time": "2022-08-03T10:32:57.136Z"
   },
   {
    "duration": 61,
    "start_time": "2022-08-03T10:33:21.237Z"
   },
   {
    "duration": 12,
    "start_time": "2022-08-03T10:34:01.361Z"
   },
   {
    "duration": 61,
    "start_time": "2022-08-03T11:00:18.443Z"
   },
   {
    "duration": 74,
    "start_time": "2022-08-03T11:02:15.331Z"
   },
   {
    "duration": 52,
    "start_time": "2022-08-03T11:02:54.930Z"
   },
   {
    "duration": 41,
    "start_time": "2022-08-03T11:03:46.337Z"
   },
   {
    "duration": 25,
    "start_time": "2022-08-03T11:03:46.805Z"
   },
   {
    "duration": 5,
    "start_time": "2022-08-03T11:03:50.133Z"
   },
   {
    "duration": 12231,
    "start_time": "2022-08-03T11:03:50.724Z"
   },
   {
    "duration": 5,
    "start_time": "2022-08-03T11:04:02.957Z"
   },
   {
    "duration": 25,
    "start_time": "2022-08-03T11:04:02.964Z"
   },
   {
    "duration": 224,
    "start_time": "2022-08-03T11:04:02.995Z"
   },
   {
    "duration": 328,
    "start_time": "2022-08-03T11:04:03.221Z"
   },
   {
    "duration": 167,
    "start_time": "2022-08-03T11:04:03.550Z"
   },
   {
    "duration": 14,
    "start_time": "2022-08-03T11:04:34.040Z"
   },
   {
    "duration": 15,
    "start_time": "2022-08-03T11:04:50.871Z"
   },
   {
    "duration": 17,
    "start_time": "2022-08-03T11:05:13.171Z"
   },
   {
    "duration": 18,
    "start_time": "2022-08-03T11:05:32.256Z"
   },
   {
    "duration": 67,
    "start_time": "2022-08-03T11:05:52.483Z"
   },
   {
    "duration": 93,
    "start_time": "2022-08-03T11:06:15.418Z"
   },
   {
    "duration": 63,
    "start_time": "2022-08-03T11:07:24.326Z"
   },
   {
    "duration": 73,
    "start_time": "2022-08-03T11:07:28.781Z"
   },
   {
    "duration": 161,
    "start_time": "2022-08-03T11:07:48.770Z"
   },
   {
    "duration": 60,
    "start_time": "2022-08-03T11:07:55.129Z"
   },
   {
    "duration": 68,
    "start_time": "2022-08-03T11:09:22.911Z"
   },
   {
    "duration": 54,
    "start_time": "2022-08-03T11:09:43.512Z"
   },
   {
    "duration": 60,
    "start_time": "2022-08-03T11:10:03.432Z"
   },
   {
    "duration": 1356,
    "start_time": "2022-08-03T11:10:11.222Z"
   },
   {
    "duration": 4,
    "start_time": "2022-08-03T11:10:12.581Z"
   },
   {
    "duration": 124,
    "start_time": "2022-08-03T11:10:12.589Z"
   },
   {
    "duration": 15,
    "start_time": "2022-08-03T11:10:12.716Z"
   },
   {
    "duration": 26,
    "start_time": "2022-08-03T11:10:12.733Z"
   },
   {
    "duration": 21,
    "start_time": "2022-08-03T11:10:12.761Z"
   },
   {
    "duration": 44,
    "start_time": "2022-08-03T11:10:12.783Z"
   },
   {
    "duration": 17,
    "start_time": "2022-08-03T11:10:12.829Z"
   },
   {
    "duration": 10,
    "start_time": "2022-08-03T11:10:12.847Z"
   },
   {
    "duration": 85,
    "start_time": "2022-08-03T11:10:12.860Z"
   },
   {
    "duration": 208,
    "start_time": "2022-08-03T11:10:12.946Z"
   },
   {
    "duration": 19,
    "start_time": "2022-08-03T11:10:13.156Z"
   },
   {
    "duration": 17,
    "start_time": "2022-08-03T11:10:13.177Z"
   },
   {
    "duration": 279,
    "start_time": "2022-08-03T11:10:13.196Z"
   },
   {
    "duration": 172,
    "start_time": "2022-08-03T11:10:13.476Z"
   },
   {
    "duration": 318,
    "start_time": "2022-08-03T11:10:13.649Z"
   },
   {
    "duration": 666,
    "start_time": "2022-08-03T11:10:13.969Z"
   },
   {
    "duration": 33,
    "start_time": "2022-08-03T11:10:14.637Z"
   },
   {
    "duration": 32,
    "start_time": "2022-08-03T11:10:14.671Z"
   },
   {
    "duration": 21,
    "start_time": "2022-08-03T11:10:14.705Z"
   },
   {
    "duration": 12453,
    "start_time": "2022-08-03T11:10:14.728Z"
   },
   {
    "duration": 6,
    "start_time": "2022-08-03T11:10:27.182Z"
   },
   {
    "duration": 41,
    "start_time": "2022-08-03T11:10:27.190Z"
   },
   {
    "duration": 208,
    "start_time": "2022-08-03T11:10:27.233Z"
   },
   {
    "duration": 338,
    "start_time": "2022-08-03T11:10:27.442Z"
   },
   {
    "duration": 165,
    "start_time": "2022-08-03T11:10:27.781Z"
   },
   {
    "duration": 333,
    "start_time": "2022-08-03T11:10:27.948Z"
   },
   {
    "duration": 50,
    "start_time": "2022-08-03T11:10:28.284Z"
   },
   {
    "duration": 76,
    "start_time": "2022-08-03T11:10:28.336Z"
   },
   {
    "duration": 72,
    "start_time": "2022-08-03T11:17:22.335Z"
   },
   {
    "duration": 186,
    "start_time": "2022-08-03T11:18:13.049Z"
   },
   {
    "duration": 55,
    "start_time": "2022-08-03T11:18:19.227Z"
   },
   {
    "duration": 4,
    "start_time": "2022-08-03T12:21:47.329Z"
   },
   {
    "duration": 13,
    "start_time": "2022-08-03T13:40:43.852Z"
   },
   {
    "duration": 8,
    "start_time": "2022-08-03T13:47:02.965Z"
   },
   {
    "duration": 17,
    "start_time": "2022-08-03T13:48:48.038Z"
   },
   {
    "duration": 12,
    "start_time": "2022-08-03T13:49:11.217Z"
   },
   {
    "duration": 11,
    "start_time": "2022-08-03T13:49:26.886Z"
   },
   {
    "duration": 29,
    "start_time": "2022-08-03T13:49:38.366Z"
   },
   {
    "duration": 26,
    "start_time": "2022-08-03T13:49:44.955Z"
   },
   {
    "duration": 28,
    "start_time": "2022-08-03T13:50:59.222Z"
   },
   {
    "duration": 27,
    "start_time": "2022-08-03T13:51:46.819Z"
   },
   {
    "duration": 27,
    "start_time": "2022-08-03T13:52:00.690Z"
   },
   {
    "duration": 40,
    "start_time": "2022-08-03T13:52:26.175Z"
   },
   {
    "duration": 21,
    "start_time": "2022-08-03T13:52:28.418Z"
   },
   {
    "duration": 8,
    "start_time": "2022-08-03T13:52:44.881Z"
   },
   {
    "duration": 6,
    "start_time": "2022-08-03T13:53:21.686Z"
   },
   {
    "duration": 25,
    "start_time": "2022-08-03T13:53:32.216Z"
   },
   {
    "duration": 25,
    "start_time": "2022-08-03T13:54:11.752Z"
   },
   {
    "duration": 26,
    "start_time": "2022-08-03T13:54:13.715Z"
   },
   {
    "duration": 9,
    "start_time": "2022-08-03T13:54:14.116Z"
   },
   {
    "duration": 35,
    "start_time": "2022-08-03T13:54:15.807Z"
   },
   {
    "duration": 24,
    "start_time": "2022-08-03T13:54:26.649Z"
   },
   {
    "duration": 9,
    "start_time": "2022-08-03T13:54:27.016Z"
   },
   {
    "duration": 21,
    "start_time": "2022-08-03T13:54:27.982Z"
   },
   {
    "duration": 24,
    "start_time": "2022-08-03T13:54:32.014Z"
   },
   {
    "duration": 32,
    "start_time": "2022-08-03T13:55:06.215Z"
   },
   {
    "duration": 15,
    "start_time": "2022-08-03T13:55:06.426Z"
   },
   {
    "duration": 24,
    "start_time": "2022-08-03T13:55:07.071Z"
   },
   {
    "duration": 28,
    "start_time": "2022-08-03T13:55:27.514Z"
   },
   {
    "duration": 21,
    "start_time": "2022-08-03T13:55:28.174Z"
   },
   {
    "duration": 8,
    "start_time": "2022-08-03T13:55:28.514Z"
   },
   {
    "duration": 22,
    "start_time": "2022-08-03T13:55:29.288Z"
   },
   {
    "duration": 20,
    "start_time": "2022-08-03T13:55:40.122Z"
   },
   {
    "duration": 1144,
    "start_time": "2022-08-03T13:56:40.440Z"
   },
   {
    "duration": 25,
    "start_time": "2022-08-03T13:56:49.642Z"
   },
   {
    "duration": 184,
    "start_time": "2022-08-03T13:58:46.617Z"
   },
   {
    "duration": 4,
    "start_time": "2022-08-03T14:01:32.226Z"
   },
   {
    "duration": 65,
    "start_time": "2022-08-03T14:02:17.463Z"
   },
   {
    "duration": 8,
    "start_time": "2022-08-03T14:02:21.112Z"
   },
   {
    "duration": 8,
    "start_time": "2022-08-03T14:02:21.872Z"
   },
   {
    "duration": 23,
    "start_time": "2022-08-03T14:02:22.283Z"
   },
   {
    "duration": 139,
    "start_time": "2022-08-03T14:02:42.212Z"
   },
   {
    "duration": 14,
    "start_time": "2022-08-03T14:02:52.344Z"
   },
   {
    "duration": 13,
    "start_time": "2022-08-03T14:03:07.185Z"
   },
   {
    "duration": 12,
    "start_time": "2022-08-03T14:03:15.879Z"
   },
   {
    "duration": 23,
    "start_time": "2022-08-03T14:03:19.512Z"
   },
   {
    "duration": 26,
    "start_time": "2022-08-03T14:03:25.957Z"
   },
   {
    "duration": 9,
    "start_time": "2022-08-03T14:03:26.382Z"
   },
   {
    "duration": 33,
    "start_time": "2022-08-03T14:03:27.180Z"
   },
   {
    "duration": 23,
    "start_time": "2022-08-03T14:24:35.355Z"
   },
   {
    "duration": 8,
    "start_time": "2022-08-03T14:24:35.842Z"
   },
   {
    "duration": 14,
    "start_time": "2022-08-03T14:32:10.980Z"
   },
   {
    "duration": 23,
    "start_time": "2022-08-03T14:32:20.084Z"
   },
   {
    "duration": 8,
    "start_time": "2022-08-03T14:32:21.251Z"
   },
   {
    "duration": 22,
    "start_time": "2022-08-03T14:32:21.863Z"
   },
   {
    "duration": 55,
    "start_time": "2022-08-03T14:33:59.152Z"
   },
   {
    "duration": 146,
    "start_time": "2022-08-03T14:34:09.017Z"
   },
   {
    "duration": 99,
    "start_time": "2022-08-03T14:34:21.024Z"
   },
   {
    "duration": 19,
    "start_time": "2022-08-03T14:34:34.930Z"
   },
   {
    "duration": 16,
    "start_time": "2022-08-03T14:34:46.288Z"
   },
   {
    "duration": 14,
    "start_time": "2022-08-03T14:34:54.683Z"
   },
   {
    "duration": 13,
    "start_time": "2022-08-03T14:34:59.161Z"
   },
   {
    "duration": 14,
    "start_time": "2022-08-03T14:35:13.145Z"
   },
   {
    "duration": 30,
    "start_time": "2022-08-03T14:35:20.221Z"
   },
   {
    "duration": 29,
    "start_time": "2022-08-03T14:35:23.765Z"
   },
   {
    "duration": 15,
    "start_time": "2022-08-03T14:35:24.327Z"
   },
   {
    "duration": 35,
    "start_time": "2022-08-03T14:35:24.892Z"
   },
   {
    "duration": 24,
    "start_time": "2022-08-03T14:35:34.939Z"
   },
   {
    "duration": 8,
    "start_time": "2022-08-03T14:35:35.806Z"
   },
   {
    "duration": 24,
    "start_time": "2022-08-03T14:35:36.672Z"
   },
   {
    "duration": 25,
    "start_time": "2022-08-03T14:36:10.592Z"
   },
   {
    "duration": 11,
    "start_time": "2022-08-03T14:36:11.035Z"
   },
   {
    "duration": 23,
    "start_time": "2022-08-03T14:36:11.723Z"
   },
   {
    "duration": 54,
    "start_time": "2022-08-03T14:36:59.327Z"
   },
   {
    "duration": 39,
    "start_time": "2022-08-03T14:37:26.644Z"
   },
   {
    "duration": 26,
    "start_time": "2022-08-03T14:37:37.477Z"
   },
   {
    "duration": 28,
    "start_time": "2022-08-03T14:37:39.542Z"
   },
   {
    "duration": 8,
    "start_time": "2022-08-03T14:37:39.842Z"
   },
   {
    "duration": 27,
    "start_time": "2022-08-03T14:37:40.390Z"
   },
   {
    "duration": 5,
    "start_time": "2022-08-03T14:56:58.035Z"
   },
   {
    "duration": 35,
    "start_time": "2022-08-03T14:57:02.339Z"
   },
   {
    "duration": 10,
    "start_time": "2022-08-03T14:57:03.342Z"
   },
   {
    "duration": 38,
    "start_time": "2022-08-03T14:57:04.236Z"
   },
   {
    "duration": 23,
    "start_time": "2022-08-03T14:58:02.667Z"
   },
   {
    "duration": 26,
    "start_time": "2022-08-03T14:58:03.443Z"
   },
   {
    "duration": 12,
    "start_time": "2022-08-03T14:58:03.659Z"
   },
   {
    "duration": 35,
    "start_time": "2022-08-03T14:58:04.044Z"
   },
   {
    "duration": 26,
    "start_time": "2022-08-03T14:59:36.962Z"
   },
   {
    "duration": 11,
    "start_time": "2022-08-03T14:59:38.288Z"
   },
   {
    "duration": 24,
    "start_time": "2022-08-03T14:59:38.731Z"
   },
   {
    "duration": 31,
    "start_time": "2022-08-03T14:59:56.843Z"
   },
   {
    "duration": 10,
    "start_time": "2022-08-03T14:59:57.337Z"
   },
   {
    "duration": 21,
    "start_time": "2022-08-03T14:59:57.850Z"
   },
   {
    "duration": 14,
    "start_time": "2022-08-03T15:04:21.927Z"
   },
   {
    "duration": 7,
    "start_time": "2022-08-03T15:04:24.797Z"
   },
   {
    "duration": 22,
    "start_time": "2022-08-03T15:04:25.187Z"
   },
   {
    "duration": 13,
    "start_time": "2022-08-03T15:04:33.527Z"
   },
   {
    "duration": 6,
    "start_time": "2022-08-03T15:04:34.087Z"
   },
   {
    "duration": 22,
    "start_time": "2022-08-03T15:04:34.635Z"
   },
   {
    "duration": 30,
    "start_time": "2022-08-03T15:05:04.235Z"
   },
   {
    "duration": 28,
    "start_time": "2022-08-03T15:05:05.254Z"
   },
   {
    "duration": 10,
    "start_time": "2022-08-03T15:05:05.635Z"
   },
   {
    "duration": 31,
    "start_time": "2022-08-03T15:05:06.263Z"
   },
   {
    "duration": 13,
    "start_time": "2022-08-03T15:06:10.070Z"
   },
   {
    "duration": 23,
    "start_time": "2022-08-03T15:08:16.672Z"
   },
   {
    "duration": 24,
    "start_time": "2022-08-03T15:08:18.644Z"
   },
   {
    "duration": 29,
    "start_time": "2022-08-03T15:08:24.591Z"
   },
   {
    "duration": 25,
    "start_time": "2022-08-03T15:08:31.649Z"
   },
   {
    "duration": 10,
    "start_time": "2022-08-03T15:08:40.091Z"
   },
   {
    "duration": 41,
    "start_time": "2022-08-03T15:09:15.688Z"
   },
   {
    "duration": 25,
    "start_time": "2022-08-03T15:09:25.846Z"
   },
   {
    "duration": 1227,
    "start_time": "2022-08-03T15:11:27.135Z"
   },
   {
    "duration": 4,
    "start_time": "2022-08-03T15:11:28.364Z"
   },
   {
    "duration": 73,
    "start_time": "2022-08-03T15:11:28.369Z"
   },
   {
    "duration": 13,
    "start_time": "2022-08-03T15:11:28.444Z"
   },
   {
    "duration": 8,
    "start_time": "2022-08-03T15:11:28.459Z"
   },
   {
    "duration": 16,
    "start_time": "2022-08-03T15:11:28.468Z"
   },
   {
    "duration": 7,
    "start_time": "2022-08-03T15:11:28.487Z"
   },
   {
    "duration": 4,
    "start_time": "2022-08-03T15:11:28.495Z"
   },
   {
    "duration": 8,
    "start_time": "2022-08-03T15:11:28.501Z"
   },
   {
    "duration": 32,
    "start_time": "2022-08-03T15:11:28.510Z"
   },
   {
    "duration": 178,
    "start_time": "2022-08-03T15:11:28.544Z"
   },
   {
    "duration": 20,
    "start_time": "2022-08-03T15:11:28.724Z"
   },
   {
    "duration": 3,
    "start_time": "2022-08-03T15:11:28.746Z"
   },
   {
    "duration": 219,
    "start_time": "2022-08-03T15:11:28.752Z"
   },
   {
    "duration": 138,
    "start_time": "2022-08-03T15:11:28.973Z"
   },
   {
    "duration": 244,
    "start_time": "2022-08-03T15:11:29.113Z"
   },
   {
    "duration": 463,
    "start_time": "2022-08-03T15:11:29.359Z"
   },
   {
    "duration": 67,
    "start_time": "2022-08-03T15:11:29.824Z"
   },
   {
    "duration": 22,
    "start_time": "2022-08-03T15:11:29.893Z"
   },
   {
    "duration": 6,
    "start_time": "2022-08-03T15:11:29.917Z"
   },
   {
    "duration": 10310,
    "start_time": "2022-08-03T15:11:29.925Z"
   },
   {
    "duration": 5,
    "start_time": "2022-08-03T15:11:40.238Z"
   },
   {
    "duration": 18,
    "start_time": "2022-08-03T15:11:40.245Z"
   },
   {
    "duration": 223,
    "start_time": "2022-08-03T15:11:40.265Z"
   },
   {
    "duration": 285,
    "start_time": "2022-08-03T15:11:40.490Z"
   },
   {
    "duration": 143,
    "start_time": "2022-08-03T15:11:40.777Z"
   },
   {
    "duration": 53,
    "start_time": "2022-08-03T15:11:40.922Z"
   },
   {
    "duration": 0,
    "start_time": "2022-08-03T15:11:40.977Z"
   },
   {
    "duration": 0,
    "start_time": "2022-08-03T15:11:40.978Z"
   },
   {
    "duration": 0,
    "start_time": "2022-08-03T15:11:40.979Z"
   },
   {
    "duration": 0,
    "start_time": "2022-08-03T15:11:40.980Z"
   },
   {
    "duration": 0,
    "start_time": "2022-08-03T15:11:40.981Z"
   },
   {
    "duration": 0,
    "start_time": "2022-08-03T15:11:40.983Z"
   },
   {
    "duration": 305,
    "start_time": "2022-08-03T15:12:40.039Z"
   },
   {
    "duration": 30,
    "start_time": "2022-08-03T15:12:40.996Z"
   },
   {
    "duration": 191,
    "start_time": "2022-08-03T15:12:41.387Z"
   },
   {
    "duration": 30,
    "start_time": "2022-08-03T15:13:02.971Z"
   },
   {
    "duration": 60,
    "start_time": "2022-08-03T15:13:03.434Z"
   },
   {
    "duration": 55,
    "start_time": "2022-08-03T15:13:13.308Z"
   },
   {
    "duration": 9,
    "start_time": "2022-08-03T15:13:17.034Z"
   },
   {
    "duration": 23,
    "start_time": "2022-08-03T15:13:17.434Z"
   },
   {
    "duration": 8,
    "start_time": "2022-08-03T15:13:20.793Z"
   },
   {
    "duration": 25,
    "start_time": "2022-08-03T15:13:21.382Z"
   },
   {
    "duration": 25,
    "start_time": "2022-08-03T15:13:41.974Z"
   },
   {
    "duration": 19,
    "start_time": "2022-08-03T15:13:53.587Z"
   },
   {
    "duration": 15,
    "start_time": "2022-08-03T15:13:58.477Z"
   },
   {
    "duration": 13,
    "start_time": "2022-08-03T15:14:24.649Z"
   },
   {
    "duration": 32,
    "start_time": "2022-08-03T15:17:21.747Z"
   },
   {
    "duration": 12,
    "start_time": "2022-08-03T15:17:33.594Z"
   },
   {
    "duration": 11,
    "start_time": "2022-08-03T15:17:38.382Z"
   },
   {
    "duration": 1291,
    "start_time": "2022-08-03T15:17:47.421Z"
   },
   {
    "duration": 4,
    "start_time": "2022-08-03T15:17:48.714Z"
   },
   {
    "duration": 74,
    "start_time": "2022-08-03T15:17:48.719Z"
   },
   {
    "duration": 13,
    "start_time": "2022-08-03T15:17:48.795Z"
   },
   {
    "duration": 12,
    "start_time": "2022-08-03T15:17:48.810Z"
   },
   {
    "duration": 21,
    "start_time": "2022-08-03T15:17:48.824Z"
   },
   {
    "duration": 12,
    "start_time": "2022-08-03T15:17:48.846Z"
   },
   {
    "duration": 28,
    "start_time": "2022-08-03T15:17:48.860Z"
   },
   {
    "duration": 15,
    "start_time": "2022-08-03T15:17:48.890Z"
   },
   {
    "duration": 55,
    "start_time": "2022-08-03T15:17:48.910Z"
   },
   {
    "duration": 192,
    "start_time": "2022-08-03T15:17:48.967Z"
   },
   {
    "duration": 29,
    "start_time": "2022-08-03T15:17:49.161Z"
   },
   {
    "duration": 4,
    "start_time": "2022-08-03T15:17:49.191Z"
   },
   {
    "duration": 223,
    "start_time": "2022-08-03T15:17:49.196Z"
   },
   {
    "duration": 144,
    "start_time": "2022-08-03T15:17:49.422Z"
   },
   {
    "duration": 275,
    "start_time": "2022-08-03T15:17:49.567Z"
   },
   {
    "duration": 562,
    "start_time": "2022-08-03T15:17:49.844Z"
   },
   {
    "duration": 78,
    "start_time": "2022-08-03T15:17:50.408Z"
   },
   {
    "duration": 25,
    "start_time": "2022-08-03T15:17:50.489Z"
   },
   {
    "duration": 7,
    "start_time": "2022-08-03T15:17:50.516Z"
   },
   {
    "duration": 11533,
    "start_time": "2022-08-03T15:17:50.525Z"
   },
   {
    "duration": 4,
    "start_time": "2022-08-03T15:18:02.060Z"
   },
   {
    "duration": 26,
    "start_time": "2022-08-03T15:18:02.066Z"
   },
   {
    "duration": 183,
    "start_time": "2022-08-03T15:18:02.094Z"
   },
   {
    "duration": 312,
    "start_time": "2022-08-03T15:18:02.278Z"
   },
   {
    "duration": 144,
    "start_time": "2022-08-03T15:18:02.591Z"
   },
   {
    "duration": 297,
    "start_time": "2022-08-03T15:18:02.737Z"
   },
   {
    "duration": 31,
    "start_time": "2022-08-03T15:18:03.037Z"
   },
   {
    "duration": 74,
    "start_time": "2022-08-03T15:18:03.070Z"
   },
   {
    "duration": 9,
    "start_time": "2022-08-03T15:18:03.146Z"
   },
   {
    "duration": 39,
    "start_time": "2022-08-03T15:18:03.156Z"
   },
   {
    "duration": 8,
    "start_time": "2022-08-03T15:18:03.197Z"
   },
   {
    "duration": 25,
    "start_time": "2022-08-03T15:18:03.206Z"
   },
   {
    "duration": 29,
    "start_time": "2022-08-03T15:18:03.232Z"
   },
   {
    "duration": 33,
    "start_time": "2022-08-03T15:18:14.476Z"
   },
   {
    "duration": 32,
    "start_time": "2022-08-03T15:18:22.460Z"
   },
   {
    "duration": 11,
    "start_time": "2022-08-03T15:18:56.099Z"
   },
   {
    "duration": 11,
    "start_time": "2022-08-03T15:19:06.057Z"
   },
   {
    "duration": 200,
    "start_time": "2022-08-03T15:19:47.234Z"
   },
   {
    "duration": 14,
    "start_time": "2022-08-03T15:19:52.839Z"
   },
   {
    "duration": 15,
    "start_time": "2022-08-03T15:20:16.962Z"
   },
   {
    "duration": 17,
    "start_time": "2022-08-03T15:20:35.930Z"
   },
   {
    "duration": 21,
    "start_time": "2022-08-03T15:20:55.453Z"
   },
   {
    "duration": 19,
    "start_time": "2022-08-03T15:20:59.423Z"
   },
   {
    "duration": 15,
    "start_time": "2022-08-03T15:21:04.627Z"
   },
   {
    "duration": 15,
    "start_time": "2022-08-03T15:24:47.080Z"
   },
   {
    "duration": 25,
    "start_time": "2022-08-03T15:26:10.239Z"
   },
   {
    "duration": 24,
    "start_time": "2022-08-03T15:26:36.875Z"
   },
   {
    "duration": 33,
    "start_time": "2022-08-03T15:26:48.079Z"
   },
   {
    "duration": 30,
    "start_time": "2022-08-03T15:27:36.572Z"
   },
   {
    "duration": 51,
    "start_time": "2022-08-03T15:27:44.079Z"
   },
   {
    "duration": 82,
    "start_time": "2022-08-03T15:27:53.542Z"
   },
   {
    "duration": 50,
    "start_time": "2022-08-03T15:27:57.430Z"
   },
   {
    "duration": 254,
    "start_time": "2022-08-03T15:28:11.328Z"
   },
   {
    "duration": 260,
    "start_time": "2022-08-03T15:28:31.431Z"
   },
   {
    "duration": 395,
    "start_time": "2022-08-03T15:28:35.181Z"
   },
   {
    "duration": 235,
    "start_time": "2022-08-03T15:29:01.392Z"
   },
   {
    "duration": 1385,
    "start_time": "2022-08-03T17:43:18.740Z"
   },
   {
    "duration": 4,
    "start_time": "2022-08-03T17:43:20.127Z"
   },
   {
    "duration": 297,
    "start_time": "2022-08-03T17:43:20.132Z"
   },
   {
    "duration": 12,
    "start_time": "2022-08-03T17:43:20.431Z"
   },
   {
    "duration": 9,
    "start_time": "2022-08-03T17:43:20.446Z"
   },
   {
    "duration": 16,
    "start_time": "2022-08-03T17:43:20.457Z"
   },
   {
    "duration": 13,
    "start_time": "2022-08-03T17:43:20.475Z"
   },
   {
    "duration": 5,
    "start_time": "2022-08-03T17:43:20.490Z"
   },
   {
    "duration": 8,
    "start_time": "2022-08-03T17:43:20.497Z"
   },
   {
    "duration": 38,
    "start_time": "2022-08-03T17:43:20.506Z"
   },
   {
    "duration": 180,
    "start_time": "2022-08-03T17:43:20.545Z"
   },
   {
    "duration": 21,
    "start_time": "2022-08-03T17:43:20.726Z"
   },
   {
    "duration": 3,
    "start_time": "2022-08-03T17:43:20.749Z"
   },
   {
    "duration": 253,
    "start_time": "2022-08-03T17:43:20.755Z"
   },
   {
    "duration": 155,
    "start_time": "2022-08-03T17:43:21.010Z"
   },
   {
    "duration": 251,
    "start_time": "2022-08-03T17:43:21.167Z"
   },
   {
    "duration": 488,
    "start_time": "2022-08-03T17:43:21.419Z"
   },
   {
    "duration": 32,
    "start_time": "2022-08-03T17:43:21.909Z"
   },
   {
    "duration": 55,
    "start_time": "2022-08-03T17:43:21.943Z"
   },
   {
    "duration": 4,
    "start_time": "2022-08-03T17:43:22.000Z"
   },
   {
    "duration": 10792,
    "start_time": "2022-08-03T17:43:22.006Z"
   },
   {
    "duration": 4,
    "start_time": "2022-08-03T17:43:32.799Z"
   },
   {
    "duration": 31,
    "start_time": "2022-08-03T17:43:32.805Z"
   },
   {
    "duration": 184,
    "start_time": "2022-08-03T17:43:32.838Z"
   },
   {
    "duration": 307,
    "start_time": "2022-08-03T17:43:33.024Z"
   },
   {
    "duration": 144,
    "start_time": "2022-08-03T17:43:33.333Z"
   },
   {
    "duration": 310,
    "start_time": "2022-08-03T17:43:33.479Z"
   },
   {
    "duration": 44,
    "start_time": "2022-08-03T17:43:33.792Z"
   },
   {
    "duration": 94,
    "start_time": "2022-08-03T17:43:33.838Z"
   },
   {
    "duration": 24,
    "start_time": "2022-08-03T17:43:33.934Z"
   },
   {
    "duration": 39,
    "start_time": "2022-08-03T17:43:33.960Z"
   },
   {
    "duration": 43,
    "start_time": "2022-08-03T17:43:34.001Z"
   },
   {
    "duration": 31,
    "start_time": "2022-08-03T17:43:34.046Z"
   },
   {
    "duration": 54,
    "start_time": "2022-08-03T17:43:34.079Z"
   },
   {
    "duration": 0,
    "start_time": "2022-08-03T17:43:34.135Z"
   },
   {
    "duration": 15,
    "start_time": "2022-08-03T17:43:59.499Z"
   },
   {
    "duration": 244,
    "start_time": "2022-08-03T17:44:00.173Z"
   },
   {
    "duration": 236,
    "start_time": "2022-08-03T17:44:19.999Z"
   },
   {
    "duration": 62,
    "start_time": "2022-08-03T17:45:03.696Z"
   },
   {
    "duration": 545,
    "start_time": "2022-08-03T17:45:09.936Z"
   },
   {
    "duration": 59,
    "start_time": "2022-08-03T17:45:38.343Z"
   },
   {
    "duration": 50,
    "start_time": "2022-08-03T17:45:52.031Z"
   },
   {
    "duration": 47,
    "start_time": "2022-08-03T17:45:57.434Z"
   },
   {
    "duration": 12,
    "start_time": "2022-08-03T17:46:08.110Z"
   },
   {
    "duration": 154,
    "start_time": "2022-08-03T17:46:16.730Z"
   },
   {
    "duration": 11,
    "start_time": "2022-08-03T17:46:29.833Z"
   },
   {
    "duration": 21,
    "start_time": "2022-08-03T17:46:47.306Z"
   },
   {
    "duration": 1211,
    "start_time": "2022-08-03T17:46:56.743Z"
   },
   {
    "duration": 5,
    "start_time": "2022-08-03T17:46:57.956Z"
   },
   {
    "duration": 81,
    "start_time": "2022-08-03T17:46:57.962Z"
   },
   {
    "duration": 13,
    "start_time": "2022-08-03T17:46:58.045Z"
   },
   {
    "duration": 9,
    "start_time": "2022-08-03T17:46:58.060Z"
   },
   {
    "duration": 21,
    "start_time": "2022-08-03T17:46:58.070Z"
   },
   {
    "duration": 9,
    "start_time": "2022-08-03T17:46:58.092Z"
   },
   {
    "duration": 9,
    "start_time": "2022-08-03T17:46:58.103Z"
   },
   {
    "duration": 9,
    "start_time": "2022-08-03T17:46:58.114Z"
   },
   {
    "duration": 33,
    "start_time": "2022-08-03T17:46:58.125Z"
   },
   {
    "duration": 189,
    "start_time": "2022-08-03T17:46:58.160Z"
   },
   {
    "duration": 37,
    "start_time": "2022-08-03T17:46:58.351Z"
   },
   {
    "duration": 4,
    "start_time": "2022-08-03T17:46:58.389Z"
   },
   {
    "duration": 204,
    "start_time": "2022-08-03T17:46:58.396Z"
   },
   {
    "duration": 137,
    "start_time": "2022-08-03T17:46:58.601Z"
   },
   {
    "duration": 283,
    "start_time": "2022-08-03T17:46:58.739Z"
   },
   {
    "duration": 440,
    "start_time": "2022-08-03T17:46:59.024Z"
   },
   {
    "duration": 41,
    "start_time": "2022-08-03T17:46:59.466Z"
   },
   {
    "duration": 81,
    "start_time": "2022-08-03T17:46:59.509Z"
   },
   {
    "duration": 7,
    "start_time": "2022-08-03T17:46:59.592Z"
   },
   {
    "duration": 10782,
    "start_time": "2022-08-03T17:46:59.601Z"
   },
   {
    "duration": 5,
    "start_time": "2022-08-03T17:47:10.388Z"
   },
   {
    "duration": 17,
    "start_time": "2022-08-03T17:47:10.396Z"
   },
   {
    "duration": 201,
    "start_time": "2022-08-03T17:47:10.415Z"
   },
   {
    "duration": 292,
    "start_time": "2022-08-03T17:47:10.618Z"
   },
   {
    "duration": 147,
    "start_time": "2022-08-03T17:47:10.911Z"
   },
   {
    "duration": 302,
    "start_time": "2022-08-03T17:47:11.059Z"
   },
   {
    "duration": 41,
    "start_time": "2022-08-03T17:47:11.363Z"
   },
   {
    "duration": 60,
    "start_time": "2022-08-03T17:47:11.406Z"
   },
   {
    "duration": 52,
    "start_time": "2022-08-03T17:47:11.468Z"
   },
   {
    "duration": 12,
    "start_time": "2022-08-03T17:47:11.522Z"
   },
   {
    "duration": 16,
    "start_time": "2022-08-03T17:47:11.536Z"
   },
   {
    "duration": 54,
    "start_time": "2022-08-03T17:47:11.553Z"
   },
   {
    "duration": 248,
    "start_time": "2022-08-03T17:47:11.608Z"
   },
   {
    "duration": 236,
    "start_time": "2022-08-03T17:48:50.793Z"
   },
   {
    "duration": 8,
    "start_time": "2022-08-03T17:48:51.730Z"
   },
   {
    "duration": 5,
    "start_time": "2022-08-03T17:49:09.175Z"
   },
   {
    "duration": 450,
    "start_time": "2022-08-03T17:57:16.658Z"
   },
   {
    "duration": 389,
    "start_time": "2022-08-03T17:57:40.039Z"
   },
   {
    "duration": 33952,
    "start_time": "2022-08-03T17:57:49.656Z"
   },
   {
    "duration": 225,
    "start_time": "2022-08-03T17:58:25.564Z"
   },
   {
    "duration": 15,
    "start_time": "2022-08-03T17:58:37.560Z"
   },
   {
    "duration": 31,
    "start_time": "2022-08-03T17:58:56.324Z"
   },
   {
    "duration": 8,
    "start_time": "2022-08-03T17:59:02.962Z"
   },
   {
    "duration": 9,
    "start_time": "2022-08-03T17:59:17.123Z"
   },
   {
    "duration": 11,
    "start_time": "2022-08-03T18:00:46.864Z"
   },
   {
    "duration": 224,
    "start_time": "2022-08-03T18:04:34.839Z"
   },
   {
    "duration": 221,
    "start_time": "2022-08-03T18:06:23.375Z"
   },
   {
    "duration": 45,
    "start_time": "2022-08-03T18:07:40.618Z"
   },
   {
    "duration": 269,
    "start_time": "2022-08-03T18:09:27.447Z"
   },
   {
    "duration": 31,
    "start_time": "2022-08-03T18:09:49.761Z"
   },
   {
    "duration": 14,
    "start_time": "2022-08-03T18:13:41.235Z"
   },
   {
    "duration": 77,
    "start_time": "2022-08-03T18:14:44.980Z"
   },
   {
    "duration": 6,
    "start_time": "2022-08-03T18:15:02.128Z"
   },
   {
    "duration": 26,
    "start_time": "2022-08-03T18:15:18.437Z"
   },
   {
    "duration": 15,
    "start_time": "2022-08-03T18:15:24.591Z"
   },
   {
    "duration": 29,
    "start_time": "2022-08-03T18:15:27.600Z"
   },
   {
    "duration": 17,
    "start_time": "2022-08-03T18:15:33.559Z"
   },
   {
    "duration": 8,
    "start_time": "2022-08-03T18:16:23.023Z"
   },
   {
    "duration": 26,
    "start_time": "2022-08-03T18:16:30.644Z"
   },
   {
    "duration": 32,
    "start_time": "2022-08-03T18:16:40.584Z"
   },
   {
    "duration": 21,
    "start_time": "2022-08-03T18:16:46.656Z"
   },
   {
    "duration": 22,
    "start_time": "2022-08-03T18:16:53.380Z"
   },
   {
    "duration": 11,
    "start_time": "2022-08-03T18:16:56.222Z"
   },
   {
    "duration": 16,
    "start_time": "2022-08-03T18:16:58.725Z"
   },
   {
    "duration": 254,
    "start_time": "2022-08-03T18:17:40.363Z"
   },
   {
    "duration": 7,
    "start_time": "2022-08-03T18:17:45.837Z"
   },
   {
    "duration": 16,
    "start_time": "2022-08-03T18:18:22.333Z"
   },
   {
    "duration": 13,
    "start_time": "2022-08-03T18:18:28.499Z"
   },
   {
    "duration": 8,
    "start_time": "2022-08-03T18:18:36.065Z"
   },
   {
    "duration": 7,
    "start_time": "2022-08-03T18:18:54.036Z"
   },
   {
    "duration": 10,
    "start_time": "2022-08-03T18:19:01.980Z"
   },
   {
    "duration": 16,
    "start_time": "2022-08-03T18:19:10.028Z"
   },
   {
    "duration": 6,
    "start_time": "2022-08-03T18:19:16.583Z"
   },
   {
    "duration": 391,
    "start_time": "2022-08-03T18:19:35.754Z"
   },
   {
    "duration": 1515,
    "start_time": "2022-08-03T18:19:37.826Z"
   },
   {
    "duration": 4,
    "start_time": "2022-08-03T18:19:43.826Z"
   },
   {
    "duration": 418,
    "start_time": "2022-08-03T18:20:23.730Z"
   },
   {
    "duration": 392,
    "start_time": "2022-08-03T18:20:24.355Z"
   },
   {
    "duration": 5,
    "start_time": "2022-08-03T18:20:24.825Z"
   },
   {
    "duration": 386,
    "start_time": "2022-08-03T18:27:14.085Z"
   },
   {
    "duration": 363,
    "start_time": "2022-08-03T18:27:15.365Z"
   },
   {
    "duration": 5,
    "start_time": "2022-08-03T18:27:15.730Z"
   },
   {
    "duration": 4,
    "start_time": "2022-08-03T18:30:30.922Z"
   },
   {
    "duration": 4,
    "start_time": "2022-08-03T18:31:19.223Z"
   },
   {
    "duration": 9,
    "start_time": "2022-08-03T18:31:20.166Z"
   },
   {
    "duration": 53,
    "start_time": "2022-08-03T18:31:46.903Z"
   },
   {
    "duration": 20,
    "start_time": "2022-08-03T18:31:53.004Z"
   },
   {
    "duration": 16,
    "start_time": "2022-08-03T18:31:59.183Z"
   },
   {
    "duration": 14,
    "start_time": "2022-08-03T18:32:03.701Z"
   },
   {
    "duration": 17,
    "start_time": "2022-08-03T18:32:22.883Z"
   },
   {
    "duration": 2,
    "start_time": "2022-08-03T18:33:18.755Z"
   },
   {
    "duration": 10,
    "start_time": "2022-08-03T18:35:05.029Z"
   },
   {
    "duration": 166,
    "start_time": "2022-08-03T18:35:21.143Z"
   },
   {
    "duration": 1586,
    "start_time": "2022-08-05T07:32:10.978Z"
   },
   {
    "duration": 4,
    "start_time": "2022-08-05T07:32:12.567Z"
   },
   {
    "duration": 571,
    "start_time": "2022-08-05T07:32:12.573Z"
   },
   {
    "duration": 14,
    "start_time": "2022-08-05T07:32:13.146Z"
   },
   {
    "duration": 10,
    "start_time": "2022-08-05T07:32:13.162Z"
   },
   {
    "duration": 18,
    "start_time": "2022-08-05T07:32:13.173Z"
   },
   {
    "duration": 20,
    "start_time": "2022-08-05T07:32:13.193Z"
   },
   {
    "duration": 7,
    "start_time": "2022-08-05T07:32:13.220Z"
   },
   {
    "duration": 9,
    "start_time": "2022-08-05T07:32:13.229Z"
   },
   {
    "duration": 33,
    "start_time": "2022-08-05T07:32:13.240Z"
   },
   {
    "duration": 222,
    "start_time": "2022-08-05T07:32:13.275Z"
   },
   {
    "duration": 37,
    "start_time": "2022-08-05T07:32:13.499Z"
   },
   {
    "duration": 3,
    "start_time": "2022-08-05T07:32:13.538Z"
   },
   {
    "duration": 261,
    "start_time": "2022-08-05T07:32:13.543Z"
   },
   {
    "duration": 167,
    "start_time": "2022-08-05T07:32:13.806Z"
   },
   {
    "duration": 470,
    "start_time": "2022-08-05T07:32:13.975Z"
   },
   {
    "duration": 1385,
    "start_time": "2022-08-05T07:32:14.447Z"
   },
   {
    "duration": 109,
    "start_time": "2022-08-05T07:32:15.838Z"
   },
   {
    "duration": 70,
    "start_time": "2022-08-05T07:32:15.949Z"
   },
   {
    "duration": 7,
    "start_time": "2022-08-05T07:32:16.022Z"
   },
   {
    "duration": 12536,
    "start_time": "2022-08-05T07:32:16.031Z"
   },
   {
    "duration": 5,
    "start_time": "2022-08-05T07:32:28.569Z"
   },
   {
    "duration": 17,
    "start_time": "2022-08-05T07:32:28.576Z"
   },
   {
    "duration": 217,
    "start_time": "2022-08-05T07:32:28.608Z"
   },
   {
    "duration": 326,
    "start_time": "2022-08-05T07:32:28.827Z"
   },
   {
    "duration": 179,
    "start_time": "2022-08-05T07:32:29.155Z"
   },
   {
    "duration": 369,
    "start_time": "2022-08-05T07:32:29.337Z"
   },
   {
    "duration": 42,
    "start_time": "2022-08-05T07:32:29.717Z"
   },
   {
    "duration": 103,
    "start_time": "2022-08-05T07:32:29.761Z"
   },
   {
    "duration": 21,
    "start_time": "2022-08-05T07:32:29.866Z"
   },
   {
    "duration": 13,
    "start_time": "2022-08-05T07:32:29.889Z"
   },
   {
    "duration": 35,
    "start_time": "2022-08-05T07:32:29.904Z"
   },
   {
    "duration": 23,
    "start_time": "2022-08-05T07:32:29.941Z"
   },
   {
    "duration": 288,
    "start_time": "2022-08-05T07:32:29.966Z"
   },
   {
    "duration": 6,
    "start_time": "2022-08-05T07:32:30.256Z"
   },
   {
    "duration": 21,
    "start_time": "2022-08-05T07:32:30.263Z"
   },
   {
    "duration": 981,
    "start_time": "2022-08-05T07:32:30.286Z"
   },
   {
    "duration": 4,
    "start_time": "2022-08-05T07:32:31.269Z"
   },
   {
    "duration": 42,
    "start_time": "2022-08-05T07:32:31.275Z"
   },
   {
    "duration": 30,
    "start_time": "2022-08-05T07:32:31.319Z"
   },
   {
    "duration": 1530,
    "start_time": "2022-08-05T20:05:06.682Z"
   },
   {
    "duration": 4,
    "start_time": "2022-08-05T20:05:08.214Z"
   },
   {
    "duration": 121,
    "start_time": "2022-08-05T20:05:08.220Z"
   },
   {
    "duration": 12,
    "start_time": "2022-08-05T20:05:08.343Z"
   },
   {
    "duration": 11,
    "start_time": "2022-08-05T20:05:08.356Z"
   },
   {
    "duration": 16,
    "start_time": "2022-08-05T20:05:08.368Z"
   },
   {
    "duration": 7,
    "start_time": "2022-08-05T20:05:08.386Z"
   },
   {
    "duration": 5,
    "start_time": "2022-08-05T20:05:08.394Z"
   },
   {
    "duration": 7,
    "start_time": "2022-08-05T20:05:08.401Z"
   },
   {
    "duration": 41,
    "start_time": "2022-08-05T20:05:08.411Z"
   },
   {
    "duration": 168,
    "start_time": "2022-08-05T20:05:08.454Z"
   },
   {
    "duration": 18,
    "start_time": "2022-08-05T20:05:08.624Z"
   },
   {
    "duration": 3,
    "start_time": "2022-08-05T20:05:08.644Z"
   },
   {
    "duration": 224,
    "start_time": "2022-08-05T20:05:08.648Z"
   },
   {
    "duration": 148,
    "start_time": "2022-08-05T20:05:08.873Z"
   },
   {
    "duration": 240,
    "start_time": "2022-08-05T20:05:09.023Z"
   },
   {
    "duration": 523,
    "start_time": "2022-08-05T20:05:09.264Z"
   },
   {
    "duration": 40,
    "start_time": "2022-08-05T20:05:09.789Z"
   },
   {
    "duration": 62,
    "start_time": "2022-08-05T20:05:09.831Z"
   },
   {
    "duration": 4,
    "start_time": "2022-08-05T20:05:09.895Z"
   },
   {
    "duration": 10569,
    "start_time": "2022-08-05T20:05:09.901Z"
   },
   {
    "duration": 5,
    "start_time": "2022-08-05T20:05:20.471Z"
   },
   {
    "duration": 20,
    "start_time": "2022-08-05T20:05:20.477Z"
   },
   {
    "duration": 177,
    "start_time": "2022-08-05T20:05:20.499Z"
   },
   {
    "duration": 286,
    "start_time": "2022-08-05T20:05:20.678Z"
   },
   {
    "duration": 164,
    "start_time": "2022-08-05T20:05:20.966Z"
   },
   {
    "duration": 301,
    "start_time": "2022-08-05T20:05:21.132Z"
   },
   {
    "duration": 30,
    "start_time": "2022-08-05T20:05:21.436Z"
   },
   {
    "duration": 76,
    "start_time": "2022-08-05T20:05:21.468Z"
   },
   {
    "duration": 23,
    "start_time": "2022-08-05T20:05:21.546Z"
   },
   {
    "duration": 22,
    "start_time": "2022-08-05T20:05:21.571Z"
   },
   {
    "duration": 17,
    "start_time": "2022-08-05T20:05:21.594Z"
   },
   {
    "duration": 23,
    "start_time": "2022-08-05T20:05:21.612Z"
   },
   {
    "duration": 329,
    "start_time": "2022-08-05T20:05:21.636Z"
   },
   {
    "duration": 5,
    "start_time": "2022-08-05T20:05:21.967Z"
   },
   {
    "duration": 26,
    "start_time": "2022-08-05T20:05:21.973Z"
   },
   {
    "duration": 1144,
    "start_time": "2022-08-05T20:05:22.003Z"
   },
   {
    "duration": 5,
    "start_time": "2022-08-05T20:05:23.149Z"
   },
   {
    "duration": 30,
    "start_time": "2022-08-05T20:05:23.156Z"
   },
   {
    "duration": 13,
    "start_time": "2022-08-05T20:05:23.188Z"
   },
   {
    "duration": 1079,
    "start_time": "2022-08-05T20:11:11.368Z"
   },
   {
    "duration": 74,
    "start_time": "2022-08-05T20:11:48.659Z"
   },
   {
    "duration": 78,
    "start_time": "2022-08-05T20:11:51.985Z"
   },
   {
    "duration": 98,
    "start_time": "2022-08-05T20:11:59.216Z"
   },
   {
    "duration": 111,
    "start_time": "2022-08-05T20:13:12.158Z"
   },
   {
    "duration": 1009,
    "start_time": "2022-08-05T20:15:41.722Z"
   },
   {
    "duration": 4,
    "start_time": "2022-08-05T20:15:43.470Z"
   },
   {
    "duration": 1190,
    "start_time": "2022-08-05T20:16:12.029Z"
   },
   {
    "duration": 3,
    "start_time": "2022-08-05T20:16:13.221Z"
   },
   {
    "duration": 1092,
    "start_time": "2022-08-05T20:16:21.927Z"
   },
   {
    "duration": 4,
    "start_time": "2022-08-05T20:16:23.021Z"
   },
   {
    "duration": 1010,
    "start_time": "2022-08-05T20:16:28.623Z"
   },
   {
    "duration": 4,
    "start_time": "2022-08-05T20:16:29.635Z"
   },
   {
    "duration": 1073,
    "start_time": "2022-08-05T20:17:41.876Z"
   },
   {
    "duration": 133,
    "start_time": "2022-08-05T20:17:45.784Z"
   },
   {
    "duration": 93,
    "start_time": "2022-08-05T20:18:41.009Z"
   },
   {
    "duration": 991,
    "start_time": "2022-08-05T20:18:45.927Z"
   },
   {
    "duration": 12,
    "start_time": "2022-08-05T20:18:54.592Z"
   },
   {
    "duration": 1014,
    "start_time": "2022-08-05T20:19:17.510Z"
   },
   {
    "duration": 1051,
    "start_time": "2022-08-05T20:19:20.153Z"
   },
   {
    "duration": 3,
    "start_time": "2022-08-05T20:19:21.207Z"
   },
   {
    "duration": 1052,
    "start_time": "2022-08-05T20:19:29.379Z"
   },
   {
    "duration": 4,
    "start_time": "2022-08-05T20:19:30.433Z"
   },
   {
    "duration": 1042,
    "start_time": "2022-08-05T20:19:35.869Z"
   },
   {
    "duration": 1029,
    "start_time": "2022-08-05T20:19:37.108Z"
   },
   {
    "duration": 4,
    "start_time": "2022-08-05T20:19:38.139Z"
   },
   {
    "duration": 1898,
    "start_time": "2022-08-05T20:19:46.908Z"
   },
   {
    "duration": 6,
    "start_time": "2022-08-05T20:19:48.807Z"
   },
   {
    "duration": 2824,
    "start_time": "2022-08-05T20:19:52.182Z"
   },
   {
    "duration": 1031,
    "start_time": "2022-08-05T20:19:59.377Z"
   },
   {
    "duration": 5,
    "start_time": "2022-08-05T20:20:00.410Z"
   },
   {
    "duration": 1075,
    "start_time": "2022-08-05T20:20:25.231Z"
   },
   {
    "duration": 1056,
    "start_time": "2022-08-05T20:20:26.355Z"
   },
   {
    "duration": 4,
    "start_time": "2022-08-05T20:20:27.413Z"
   },
   {
    "duration": 1545,
    "start_time": "2022-08-05T20:22:19.747Z"
   },
   {
    "duration": 8,
    "start_time": "2022-08-05T20:22:21.295Z"
   },
   {
    "duration": 1004,
    "start_time": "2022-08-05T20:22:23.925Z"
   },
   {
    "duration": 4,
    "start_time": "2022-08-05T20:22:24.931Z"
   },
   {
    "duration": 1000,
    "start_time": "2022-08-05T20:22:27.510Z"
   },
   {
    "duration": 4,
    "start_time": "2022-08-05T20:22:28.512Z"
   },
   {
    "duration": 1080,
    "start_time": "2022-08-05T20:26:14.135Z"
   },
   {
    "duration": 1109,
    "start_time": "2022-08-05T20:26:30.311Z"
   },
   {
    "duration": 4,
    "start_time": "2022-08-05T20:26:31.422Z"
   },
   {
    "duration": 5,
    "start_time": "2022-08-05T20:26:48.647Z"
   },
   {
    "duration": 1204,
    "start_time": "2022-08-05T20:26:51.925Z"
   },
   {
    "duration": 1197,
    "start_time": "2022-08-05T20:26:56.869Z"
   },
   {
    "duration": 1164,
    "start_time": "2022-08-05T20:26:58.247Z"
   },
   {
    "duration": 6,
    "start_time": "2022-08-05T20:26:59.413Z"
   },
   {
    "duration": 1193,
    "start_time": "2022-08-05T20:27:09.344Z"
   },
   {
    "duration": 6,
    "start_time": "2022-08-05T20:27:10.539Z"
   },
   {
    "duration": 1084,
    "start_time": "2022-08-05T20:27:17.044Z"
   },
   {
    "duration": 5,
    "start_time": "2022-08-05T20:27:18.130Z"
   },
   {
    "duration": 999,
    "start_time": "2022-08-05T20:27:25.725Z"
   },
   {
    "duration": 4,
    "start_time": "2022-08-05T20:27:26.726Z"
   },
   {
    "duration": 1103,
    "start_time": "2022-08-05T20:27:29.419Z"
   },
   {
    "duration": 3,
    "start_time": "2022-08-05T20:27:30.524Z"
   },
   {
    "duration": 1008,
    "start_time": "2022-08-05T20:27:38.016Z"
   },
   {
    "duration": 5,
    "start_time": "2022-08-05T20:27:39.026Z"
   },
   {
    "duration": 1002,
    "start_time": "2022-08-05T20:27:42.321Z"
   },
   {
    "duration": 5,
    "start_time": "2022-08-05T20:27:44.266Z"
   },
   {
    "duration": 1157,
    "start_time": "2022-08-05T20:28:53.480Z"
   },
   {
    "duration": 4,
    "start_time": "2022-08-05T20:28:54.639Z"
   },
   {
    "duration": 1288,
    "start_time": "2022-08-05T20:29:27.758Z"
   },
   {
    "duration": 5,
    "start_time": "2022-08-05T20:29:29.049Z"
   },
   {
    "duration": 1003,
    "start_time": "2022-08-05T20:29:34.027Z"
   },
   {
    "duration": 5,
    "start_time": "2022-08-05T20:29:35.032Z"
   },
   {
    "duration": 4,
    "start_time": "2022-08-05T20:29:39.670Z"
   },
   {
    "duration": 105,
    "start_time": "2022-08-05T20:30:11.130Z"
   },
   {
    "duration": 306,
    "start_time": "2022-08-05T20:35:44.221Z"
   },
   {
    "duration": 118,
    "start_time": "2022-08-05T20:35:49.036Z"
   },
   {
    "duration": 111,
    "start_time": "2022-08-05T20:37:52.924Z"
   },
   {
    "duration": 132,
    "start_time": "2022-08-05T20:38:29.633Z"
   },
   {
    "duration": 107,
    "start_time": "2022-08-05T20:38:36.125Z"
   },
   {
    "duration": 124,
    "start_time": "2022-08-05T20:38:41.326Z"
   },
   {
    "duration": 120,
    "start_time": "2022-08-05T20:39:03.335Z"
   },
   {
    "duration": 115,
    "start_time": "2022-08-05T20:39:13.335Z"
   },
   {
    "duration": 606,
    "start_time": "2022-08-05T20:39:26.737Z"
   },
   {
    "duration": 108,
    "start_time": "2022-08-05T20:39:35.842Z"
   },
   {
    "duration": 113,
    "start_time": "2022-08-05T20:40:46.636Z"
   },
   {
    "duration": 112,
    "start_time": "2022-08-05T20:41:09.535Z"
   },
   {
    "duration": 190,
    "start_time": "2022-08-05T20:41:17.152Z"
   },
   {
    "duration": 152,
    "start_time": "2022-08-05T20:41:24.779Z"
   },
   {
    "duration": 176,
    "start_time": "2022-08-05T20:42:59.573Z"
   },
   {
    "duration": 145,
    "start_time": "2022-08-05T20:43:04.694Z"
   },
   {
    "duration": 137,
    "start_time": "2022-08-05T20:43:07.935Z"
   },
   {
    "duration": 129,
    "start_time": "2022-08-05T20:43:36.633Z"
   },
   {
    "duration": 104,
    "start_time": "2022-08-05T20:43:41.638Z"
   },
   {
    "duration": 150,
    "start_time": "2022-08-05T20:44:12.092Z"
   },
   {
    "duration": 168,
    "start_time": "2022-08-05T20:44:19.372Z"
   },
   {
    "duration": 132,
    "start_time": "2022-08-05T20:45:27.164Z"
   },
   {
    "duration": 136,
    "start_time": "2022-08-05T20:45:34.487Z"
   },
   {
    "duration": 103,
    "start_time": "2022-08-05T20:45:37.824Z"
   },
   {
    "duration": 151,
    "start_time": "2022-08-05T20:45:41.752Z"
   },
   {
    "duration": 107,
    "start_time": "2022-08-05T20:45:45.029Z"
   },
   {
    "duration": 158,
    "start_time": "2022-08-05T20:47:09.677Z"
   },
   {
    "duration": 131,
    "start_time": "2022-08-05T20:47:29.337Z"
   },
   {
    "duration": 119,
    "start_time": "2022-08-05T20:47:44.836Z"
   },
   {
    "duration": 156,
    "start_time": "2022-08-05T20:47:53.753Z"
   },
   {
    "duration": 136,
    "start_time": "2022-08-05T20:48:06.009Z"
   },
   {
    "duration": 1552,
    "start_time": "2022-08-05T20:49:03.876Z"
   },
   {
    "duration": 4,
    "start_time": "2022-08-05T20:49:05.430Z"
   },
   {
    "duration": 1125,
    "start_time": "2022-08-05T20:49:13.287Z"
   },
   {
    "duration": 10,
    "start_time": "2022-08-05T20:49:14.416Z"
   },
   {
    "duration": 1216,
    "start_time": "2022-08-05T20:49:22.444Z"
   },
   {
    "duration": 4,
    "start_time": "2022-08-05T20:49:23.662Z"
   },
   {
    "duration": 1445,
    "start_time": "2022-08-05T20:49:27.494Z"
   },
   {
    "duration": 5,
    "start_time": "2022-08-05T20:49:28.942Z"
   },
   {
    "duration": 1062,
    "start_time": "2022-08-05T20:49:45.977Z"
   },
   {
    "duration": 5,
    "start_time": "2022-08-05T20:49:47.041Z"
   },
   {
    "duration": 106,
    "start_time": "2022-08-05T20:51:15.043Z"
   },
   {
    "duration": 1036,
    "start_time": "2022-08-05T20:51:24.677Z"
   },
   {
    "duration": 111,
    "start_time": "2022-08-05T20:51:35.154Z"
   },
   {
    "duration": 98,
    "start_time": "2022-08-05T20:51:44.743Z"
   },
   {
    "duration": 103,
    "start_time": "2022-08-05T20:51:51.737Z"
   },
   {
    "duration": 760,
    "start_time": "2022-08-05T20:52:24.591Z"
   },
   {
    "duration": 98,
    "start_time": "2022-08-05T20:52:26.118Z"
   },
   {
    "duration": 109,
    "start_time": "2022-08-05T20:52:31.434Z"
   },
   {
    "duration": 104,
    "start_time": "2022-08-05T20:52:34.763Z"
   },
   {
    "duration": 103,
    "start_time": "2022-08-05T20:52:37.451Z"
   },
   {
    "duration": 106,
    "start_time": "2022-08-05T20:52:41.385Z"
   },
   {
    "duration": 115,
    "start_time": "2022-08-05T20:52:43.851Z"
   },
   {
    "duration": 121,
    "start_time": "2022-08-05T20:52:46.440Z"
   },
   {
    "duration": 128,
    "start_time": "2022-08-05T20:52:48.776Z"
   },
   {
    "duration": 106,
    "start_time": "2022-08-05T20:53:18.323Z"
   },
   {
    "duration": 130,
    "start_time": "2022-08-05T20:53:22.044Z"
   },
   {
    "duration": 106,
    "start_time": "2022-08-05T20:53:24.659Z"
   },
   {
    "duration": 134,
    "start_time": "2022-08-05T20:54:16.354Z"
   },
   {
    "duration": 149,
    "start_time": "2022-08-05T20:54:20.255Z"
   },
   {
    "duration": 128,
    "start_time": "2022-08-05T20:54:24.351Z"
   },
   {
    "duration": 124,
    "start_time": "2022-08-05T20:54:28.251Z"
   },
   {
    "duration": 133,
    "start_time": "2022-08-05T20:54:45.069Z"
   },
   {
    "duration": 147,
    "start_time": "2022-08-05T20:54:54.752Z"
   },
   {
    "duration": 158,
    "start_time": "2022-08-05T20:54:59.872Z"
   },
   {
    "duration": 125,
    "start_time": "2022-08-05T20:55:04.009Z"
   },
   {
    "duration": 110,
    "start_time": "2022-08-05T20:55:20.871Z"
   },
   {
    "duration": 132,
    "start_time": "2022-08-05T20:55:26.491Z"
   },
   {
    "duration": 104,
    "start_time": "2022-08-05T20:55:30.122Z"
   },
   {
    "duration": 122,
    "start_time": "2022-08-05T20:55:34.521Z"
   },
   {
    "duration": 144,
    "start_time": "2022-08-05T20:55:39.376Z"
   },
   {
    "duration": 118,
    "start_time": "2022-08-05T20:55:49.891Z"
   },
   {
    "duration": 121,
    "start_time": "2022-08-05T20:55:58.589Z"
   },
   {
    "duration": 104,
    "start_time": "2022-08-05T20:56:39.487Z"
   },
   {
    "duration": 1035,
    "start_time": "2022-08-05T20:57:50.685Z"
   },
   {
    "duration": 109,
    "start_time": "2022-08-05T20:57:51.722Z"
   },
   {
    "duration": 1060,
    "start_time": "2022-08-05T20:57:53.146Z"
   },
   {
    "duration": 4,
    "start_time": "2022-08-05T20:57:54.625Z"
   },
   {
    "duration": 119,
    "start_time": "2022-08-05T20:58:20.746Z"
   },
   {
    "duration": 4,
    "start_time": "2022-08-05T21:00:09.115Z"
   },
   {
    "duration": 10,
    "start_time": "2022-08-05T21:00:30.964Z"
   },
   {
    "duration": 120,
    "start_time": "2022-08-05T21:02:12.655Z"
   },
   {
    "duration": 11,
    "start_time": "2022-08-05T21:02:22.331Z"
   },
   {
    "duration": 1059,
    "start_time": "2022-08-05T21:03:06.755Z"
   },
   {
    "duration": 5,
    "start_time": "2022-08-05T21:03:07.816Z"
   },
   {
    "duration": 1493,
    "start_time": "2022-08-05T21:03:15.387Z"
   },
   {
    "duration": 18,
    "start_time": "2022-08-05T21:03:27.087Z"
   },
   {
    "duration": 12,
    "start_time": "2022-08-05T21:03:37.309Z"
   },
   {
    "duration": 16,
    "start_time": "2022-08-05T21:03:52.433Z"
   },
   {
    "duration": 17,
    "start_time": "2022-08-05T21:04:35.852Z"
   },
   {
    "duration": 12,
    "start_time": "2022-08-05T21:06:36.925Z"
   },
   {
    "duration": 15,
    "start_time": "2022-08-05T21:06:45.970Z"
   },
   {
    "duration": 12,
    "start_time": "2022-08-05T21:06:51.543Z"
   },
   {
    "duration": 11,
    "start_time": "2022-08-05T21:06:56.410Z"
   },
   {
    "duration": 88,
    "start_time": "2022-08-05T21:07:11.154Z"
   },
   {
    "duration": 11,
    "start_time": "2022-08-05T21:07:15.749Z"
   },
   {
    "duration": 16,
    "start_time": "2022-08-05T21:08:44.412Z"
   },
   {
    "duration": 10,
    "start_time": "2022-08-05T21:08:53.210Z"
   },
   {
    "duration": 11,
    "start_time": "2022-08-05T21:10:13.513Z"
   },
   {
    "duration": 12,
    "start_time": "2022-08-05T21:10:35.252Z"
   },
   {
    "duration": 14,
    "start_time": "2022-08-05T21:10:42.460Z"
   },
   {
    "duration": 18,
    "start_time": "2022-08-05T21:10:45.955Z"
   },
   {
    "duration": 13,
    "start_time": "2022-08-05T21:10:48.713Z"
   },
   {
    "duration": 14,
    "start_time": "2022-08-05T21:14:07.440Z"
   },
   {
    "duration": 1097,
    "start_time": "2022-08-05T21:15:57.428Z"
   },
   {
    "duration": 4,
    "start_time": "2022-08-05T21:15:58.527Z"
   },
   {
    "duration": 1495,
    "start_time": "2022-08-06T12:41:44.026Z"
   },
   {
    "duration": 4,
    "start_time": "2022-08-06T12:41:45.523Z"
   },
   {
    "duration": 290,
    "start_time": "2022-08-06T12:41:45.528Z"
   },
   {
    "duration": 12,
    "start_time": "2022-08-06T12:41:45.819Z"
   },
   {
    "duration": 14,
    "start_time": "2022-08-06T12:41:45.833Z"
   },
   {
    "duration": 14,
    "start_time": "2022-08-06T12:41:45.849Z"
   },
   {
    "duration": 17,
    "start_time": "2022-08-06T12:41:45.865Z"
   },
   {
    "duration": 14,
    "start_time": "2022-08-06T12:41:45.883Z"
   },
   {
    "duration": 13,
    "start_time": "2022-08-06T12:41:45.899Z"
   },
   {
    "duration": 45,
    "start_time": "2022-08-06T12:41:45.914Z"
   },
   {
    "duration": 158,
    "start_time": "2022-08-06T12:41:45.961Z"
   },
   {
    "duration": 20,
    "start_time": "2022-08-06T12:41:46.121Z"
   },
   {
    "duration": 4,
    "start_time": "2022-08-06T12:41:46.143Z"
   },
   {
    "duration": 221,
    "start_time": "2022-08-06T12:41:46.150Z"
   },
   {
    "duration": 142,
    "start_time": "2022-08-06T12:41:46.373Z"
   },
   {
    "duration": 248,
    "start_time": "2022-08-06T12:41:46.516Z"
   },
   {
    "duration": 432,
    "start_time": "2022-08-06T12:41:46.766Z"
   },
   {
    "duration": 36,
    "start_time": "2022-08-06T12:41:47.200Z"
   },
   {
    "duration": 73,
    "start_time": "2022-08-06T12:41:47.238Z"
   },
   {
    "duration": 5,
    "start_time": "2022-08-06T12:41:47.313Z"
   },
   {
    "duration": 9129,
    "start_time": "2022-08-06T12:41:47.320Z"
   },
   {
    "duration": 4,
    "start_time": "2022-08-06T12:41:56.451Z"
   },
   {
    "duration": 14,
    "start_time": "2022-08-06T12:41:56.457Z"
   },
   {
    "duration": 194,
    "start_time": "2022-08-06T12:41:56.472Z"
   },
   {
    "duration": 283,
    "start_time": "2022-08-06T12:41:56.667Z"
   },
   {
    "duration": 132,
    "start_time": "2022-08-06T12:41:56.951Z"
   },
   {
    "duration": 298,
    "start_time": "2022-08-06T12:41:57.085Z"
   },
   {
    "duration": 33,
    "start_time": "2022-08-06T12:41:57.384Z"
   },
   {
    "duration": 58,
    "start_time": "2022-08-06T12:41:57.419Z"
   },
   {
    "duration": 38,
    "start_time": "2022-08-06T12:41:57.479Z"
   },
   {
    "duration": 10,
    "start_time": "2022-08-06T12:41:57.519Z"
   },
   {
    "duration": 16,
    "start_time": "2022-08-06T12:41:57.530Z"
   },
   {
    "duration": 51,
    "start_time": "2022-08-06T12:41:57.548Z"
   },
   {
    "duration": 238,
    "start_time": "2022-08-06T12:41:57.601Z"
   },
   {
    "duration": 5,
    "start_time": "2022-08-06T12:41:57.841Z"
   },
   {
    "duration": 884,
    "start_time": "2022-08-06T12:41:57.848Z"
   },
   {
    "duration": 4,
    "start_time": "2022-08-06T12:41:58.734Z"
   },
   {
    "duration": 13,
    "start_time": "2022-08-06T12:41:58.739Z"
   },
   {
    "duration": 11,
    "start_time": "2022-08-06T12:41:58.754Z"
   },
   {
    "duration": 13,
    "start_time": "2022-08-06T12:41:58.767Z"
   },
   {
    "duration": 12,
    "start_time": "2022-08-06T12:43:55.548Z"
   },
   {
    "duration": 3831,
    "start_time": "2022-08-06T12:48:29.077Z"
   },
   {
    "duration": 2645,
    "start_time": "2022-08-06T12:59:31.719Z"
   },
   {
    "duration": 3,
    "start_time": "2022-08-06T12:59:48.800Z"
   },
   {
    "duration": 1312,
    "start_time": "2022-08-06T12:59:48.805Z"
   },
   {
    "duration": 3,
    "start_time": "2022-08-06T12:59:50.119Z"
   },
   {
    "duration": 74,
    "start_time": "2022-08-06T12:59:50.124Z"
   },
   {
    "duration": 12,
    "start_time": "2022-08-06T12:59:50.200Z"
   },
   {
    "duration": 9,
    "start_time": "2022-08-06T12:59:50.213Z"
   },
   {
    "duration": 16,
    "start_time": "2022-08-06T12:59:50.223Z"
   },
   {
    "duration": 8,
    "start_time": "2022-08-06T12:59:50.240Z"
   },
   {
    "duration": 4,
    "start_time": "2022-08-06T12:59:50.250Z"
   },
   {
    "duration": 16,
    "start_time": "2022-08-06T12:59:50.255Z"
   },
   {
    "duration": 41,
    "start_time": "2022-08-06T12:59:50.300Z"
   },
   {
    "duration": 160,
    "start_time": "2022-08-06T12:59:50.344Z"
   },
   {
    "duration": 20,
    "start_time": "2022-08-06T12:59:50.506Z"
   },
   {
    "duration": 4,
    "start_time": "2022-08-06T12:59:50.527Z"
   },
   {
    "duration": 212,
    "start_time": "2022-08-06T12:59:50.532Z"
   },
   {
    "duration": 147,
    "start_time": "2022-08-06T12:59:50.746Z"
   },
   {
    "duration": 251,
    "start_time": "2022-08-06T12:59:50.897Z"
   },
   {
    "duration": 437,
    "start_time": "2022-08-06T12:59:51.150Z"
   },
   {
    "duration": 47,
    "start_time": "2022-08-06T12:59:51.589Z"
   },
   {
    "duration": 66,
    "start_time": "2022-08-06T12:59:51.638Z"
   },
   {
    "duration": 4,
    "start_time": "2022-08-06T12:59:51.706Z"
   },
   {
    "duration": 8487,
    "start_time": "2022-08-06T12:59:51.711Z"
   },
   {
    "duration": 5,
    "start_time": "2022-08-06T13:00:00.200Z"
   },
   {
    "duration": 25,
    "start_time": "2022-08-06T13:00:00.208Z"
   },
   {
    "duration": 179,
    "start_time": "2022-08-06T13:00:00.235Z"
   },
   {
    "duration": 269,
    "start_time": "2022-08-06T13:00:00.415Z"
   },
   {
    "duration": 134,
    "start_time": "2022-08-06T13:00:00.685Z"
   },
   {
    "duration": 299,
    "start_time": "2022-08-06T13:00:00.821Z"
   },
   {
    "duration": 26,
    "start_time": "2022-08-06T13:00:01.124Z"
   },
   {
    "duration": 72,
    "start_time": "2022-08-06T13:00:01.152Z"
   },
   {
    "duration": 21,
    "start_time": "2022-08-06T13:00:01.225Z"
   },
   {
    "duration": 67,
    "start_time": "2022-08-06T13:00:01.248Z"
   },
   {
    "duration": 92,
    "start_time": "2022-08-06T13:00:01.316Z"
   },
   {
    "duration": 44,
    "start_time": "2022-08-06T13:00:01.410Z"
   },
   {
    "duration": 310,
    "start_time": "2022-08-06T13:00:01.456Z"
   },
   {
    "duration": 5,
    "start_time": "2022-08-06T13:00:01.768Z"
   },
   {
    "duration": 959,
    "start_time": "2022-08-06T13:00:01.775Z"
   },
   {
    "duration": 5,
    "start_time": "2022-08-06T13:00:02.736Z"
   },
   {
    "duration": 29,
    "start_time": "2022-08-06T13:00:02.743Z"
   },
   {
    "duration": 3753,
    "start_time": "2022-08-06T13:00:02.774Z"
   },
   {
    "duration": 8,
    "start_time": "2022-08-06T13:00:06.529Z"
   },
   {
    "duration": 61,
    "start_time": "2022-08-06T13:00:06.539Z"
   },
   {
    "duration": 17,
    "start_time": "2022-08-06T13:00:55.344Z"
   },
   {
    "duration": 212,
    "start_time": "2022-08-06T13:00:56.300Z"
   },
   {
    "duration": 3922,
    "start_time": "2022-08-06T13:02:58.915Z"
   },
   {
    "duration": 12,
    "start_time": "2022-08-06T13:04:16.565Z"
   },
   {
    "duration": 11,
    "start_time": "2022-08-06T13:04:16.580Z"
   },
   {
    "duration": 22,
    "start_time": "2022-08-06T13:05:33.225Z"
   },
   {
    "duration": 15,
    "start_time": "2022-08-06T13:05:49.215Z"
   },
   {
    "duration": 18,
    "start_time": "2022-08-06T13:06:11.202Z"
   },
   {
    "duration": 16,
    "start_time": "2022-08-06T13:06:54.085Z"
   },
   {
    "duration": 16,
    "start_time": "2022-08-06T13:07:02.442Z"
   },
   {
    "duration": 17,
    "start_time": "2022-08-06T13:07:22.370Z"
   },
   {
    "duration": 9,
    "start_time": "2022-08-06T13:07:25.908Z"
   },
   {
    "duration": 10,
    "start_time": "2022-08-06T13:07:30.967Z"
   },
   {
    "duration": 8,
    "start_time": "2022-08-06T13:07:31.349Z"
   },
   {
    "duration": 17,
    "start_time": "2022-08-06T13:08:36.210Z"
   },
   {
    "duration": 4,
    "start_time": "2022-08-06T13:09:41.439Z"
   },
   {
    "duration": 1272,
    "start_time": "2022-08-06T13:09:41.444Z"
   },
   {
    "duration": 4,
    "start_time": "2022-08-06T13:09:42.718Z"
   },
   {
    "duration": 279,
    "start_time": "2022-08-06T13:09:42.724Z"
   },
   {
    "duration": 13,
    "start_time": "2022-08-06T13:09:43.005Z"
   },
   {
    "duration": 8,
    "start_time": "2022-08-06T13:09:43.020Z"
   },
   {
    "duration": 15,
    "start_time": "2022-08-06T13:09:43.030Z"
   },
   {
    "duration": 7,
    "start_time": "2022-08-06T13:09:43.047Z"
   },
   {
    "duration": 5,
    "start_time": "2022-08-06T13:09:43.056Z"
   },
   {
    "duration": 38,
    "start_time": "2022-08-06T13:09:43.062Z"
   },
   {
    "duration": 33,
    "start_time": "2022-08-06T13:09:43.102Z"
   },
   {
    "duration": 168,
    "start_time": "2022-08-06T13:09:43.137Z"
   },
   {
    "duration": 19,
    "start_time": "2022-08-06T13:09:43.308Z"
   },
   {
    "duration": 3,
    "start_time": "2022-08-06T13:09:43.329Z"
   },
   {
    "duration": 214,
    "start_time": "2022-08-06T13:09:43.333Z"
   },
   {
    "duration": 138,
    "start_time": "2022-08-06T13:09:43.549Z"
   },
   {
    "duration": 255,
    "start_time": "2022-08-06T13:09:43.688Z"
   },
   {
    "duration": 471,
    "start_time": "2022-08-06T13:09:43.945Z"
   },
   {
    "duration": 96,
    "start_time": "2022-08-06T13:09:44.418Z"
   },
   {
    "duration": 25,
    "start_time": "2022-08-06T13:09:44.516Z"
   },
   {
    "duration": 57,
    "start_time": "2022-08-06T13:09:44.542Z"
   },
   {
    "duration": 9305,
    "start_time": "2022-08-06T13:09:44.601Z"
   },
   {
    "duration": 5,
    "start_time": "2022-08-06T13:09:53.908Z"
   },
   {
    "duration": 23,
    "start_time": "2022-08-06T13:09:53.914Z"
   },
   {
    "duration": 183,
    "start_time": "2022-08-06T13:09:53.939Z"
   },
   {
    "duration": 262,
    "start_time": "2022-08-06T13:09:54.124Z"
   },
   {
    "duration": 179,
    "start_time": "2022-08-06T13:09:54.388Z"
   },
   {
    "duration": 299,
    "start_time": "2022-08-06T13:09:54.570Z"
   },
   {
    "duration": 34,
    "start_time": "2022-08-06T13:09:54.871Z"
   },
   {
    "duration": 63,
    "start_time": "2022-08-06T13:09:54.907Z"
   },
   {
    "duration": 38,
    "start_time": "2022-08-06T13:09:54.972Z"
   },
   {
    "duration": 26,
    "start_time": "2022-08-06T13:09:55.012Z"
   },
   {
    "duration": 20,
    "start_time": "2022-08-06T13:09:55.040Z"
   },
   {
    "duration": 29,
    "start_time": "2022-08-06T13:09:55.061Z"
   },
   {
    "duration": 238,
    "start_time": "2022-08-06T13:09:55.092Z"
   },
   {
    "duration": 6,
    "start_time": "2022-08-06T13:09:55.332Z"
   },
   {
    "duration": 1455,
    "start_time": "2022-08-06T13:09:55.341Z"
   },
   {
    "duration": 4,
    "start_time": "2022-08-06T13:09:56.797Z"
   },
   {
    "duration": 39,
    "start_time": "2022-08-06T13:09:56.802Z"
   },
   {
    "duration": 10,
    "start_time": "2022-08-06T13:09:56.843Z"
   },
   {
    "duration": 863,
    "start_time": "2022-08-06T13:09:56.854Z"
   },
   {
    "duration": 0,
    "start_time": "2022-08-06T13:09:57.719Z"
   },
   {
    "duration": 0,
    "start_time": "2022-08-06T13:09:57.720Z"
   },
   {
    "duration": 11,
    "start_time": "2022-08-06T13:10:06.216Z"
   },
   {
    "duration": 12,
    "start_time": "2022-08-06T13:10:06.412Z"
   },
   {
    "duration": 3720,
    "start_time": "2022-08-06T13:10:17.295Z"
   },
   {
    "duration": 3520,
    "start_time": "2022-08-06T13:10:39.897Z"
   },
   {
    "duration": 3830,
    "start_time": "2022-08-06T13:10:48.969Z"
   },
   {
    "duration": 3816,
    "start_time": "2022-08-06T13:10:58.787Z"
   },
   {
    "duration": 763,
    "start_time": "2022-08-06T13:11:26.727Z"
   },
   {
    "duration": 2,
    "start_time": "2022-08-06T13:11:47.857Z"
   },
   {
    "duration": 10,
    "start_time": "2022-08-06T13:11:48.582Z"
   },
   {
    "duration": 3921,
    "start_time": "2022-08-06T13:11:53.287Z"
   },
   {
    "duration": 3,
    "start_time": "2022-08-06T13:12:15.240Z"
   },
   {
    "duration": 158,
    "start_time": "2022-08-06T13:12:30.740Z"
   },
   {
    "duration": 3588,
    "start_time": "2022-08-06T13:15:14.235Z"
   },
   {
    "duration": 1142,
    "start_time": "2022-08-06T13:19:23.890Z"
   },
   {
    "duration": 4315,
    "start_time": "2022-08-06T13:19:32.120Z"
   },
   {
    "duration": 120,
    "start_time": "2022-08-06T13:20:03.899Z"
   },
   {
    "duration": 8,
    "start_time": "2022-08-06T13:20:07.856Z"
   },
   {
    "duration": 107,
    "start_time": "2022-08-06T13:20:11.968Z"
   },
   {
    "duration": 841,
    "start_time": "2022-08-06T13:20:44.739Z"
   },
   {
    "duration": 4273,
    "start_time": "2022-08-06T13:20:49.525Z"
   },
   {
    "duration": 3842,
    "start_time": "2022-08-06T13:21:23.323Z"
   },
   {
    "duration": 3887,
    "start_time": "2022-08-06T13:21:41.120Z"
   },
   {
    "duration": 3898,
    "start_time": "2022-08-06T13:21:52.474Z"
   },
   {
    "duration": 4468,
    "start_time": "2022-08-06T13:25:55.332Z"
   },
   {
    "duration": 31916,
    "start_time": "2022-08-06T13:28:19.218Z"
   },
   {
    "duration": 3880,
    "start_time": "2022-08-06T13:30:25.264Z"
   },
   {
    "duration": 10,
    "start_time": "2022-08-06T13:32:24.581Z"
   },
   {
    "duration": 1132,
    "start_time": "2022-08-06T13:32:25.299Z"
   },
   {
    "duration": 9,
    "start_time": "2022-08-06T13:55:10.678Z"
   },
   {
    "duration": 3,
    "start_time": "2022-08-06T13:58:56.900Z"
   },
   {
    "duration": 4052,
    "start_time": "2022-08-06T14:01:38.697Z"
   },
   {
    "duration": 1163,
    "start_time": "2022-08-06T14:04:15.812Z"
   },
   {
    "duration": 849,
    "start_time": "2022-08-06T14:07:06.119Z"
   },
   {
    "duration": 847,
    "start_time": "2022-08-06T14:07:09.573Z"
   },
   {
    "duration": 4018,
    "start_time": "2022-08-06T14:07:30.476Z"
   },
   {
    "duration": 3827,
    "start_time": "2022-08-06T14:07:49.215Z"
   },
   {
    "duration": 4199,
    "start_time": "2022-08-06T14:08:07.904Z"
   },
   {
    "duration": 462,
    "start_time": "2022-08-06T14:10:57.230Z"
   },
   {
    "duration": 802,
    "start_time": "2022-08-06T14:11:02.139Z"
   },
   {
    "duration": 3771,
    "start_time": "2022-08-06T14:11:29.129Z"
   },
   {
    "duration": 3787,
    "start_time": "2022-08-06T14:12:25.926Z"
   },
   {
    "duration": 74,
    "start_time": "2022-08-06T14:13:37.066Z"
   },
   {
    "duration": 988,
    "start_time": "2022-08-06T14:19:34.732Z"
   },
   {
    "duration": 18,
    "start_time": "2022-08-06T14:21:33.130Z"
   },
   {
    "duration": 841,
    "start_time": "2022-08-06T14:21:47.872Z"
   },
   {
    "duration": 3808,
    "start_time": "2022-08-06T14:21:59.912Z"
   },
   {
    "duration": 4208,
    "start_time": "2022-08-06T14:22:35.597Z"
   },
   {
    "duration": 18,
    "start_time": "2022-08-06T14:28:31.667Z"
   },
   {
    "duration": 17,
    "start_time": "2022-08-06T14:29:37.604Z"
   },
   {
    "duration": 8,
    "start_time": "2022-08-06T14:29:43.212Z"
   },
   {
    "duration": 58,
    "start_time": "2022-08-06T14:30:44.321Z"
   },
   {
    "duration": 21,
    "start_time": "2022-08-06T14:30:46.666Z"
   },
   {
    "duration": 24,
    "start_time": "2022-08-06T14:31:16.580Z"
   },
   {
    "duration": 56,
    "start_time": "2022-08-06T14:33:37.650Z"
   },
   {
    "duration": 24,
    "start_time": "2022-08-06T14:33:40.053Z"
   },
   {
    "duration": 15,
    "start_time": "2022-08-06T14:34:45.096Z"
   },
   {
    "duration": 25,
    "start_time": "2022-08-06T14:34:49.502Z"
   },
   {
    "duration": 27,
    "start_time": "2022-08-06T14:37:56.091Z"
   },
   {
    "duration": 26,
    "start_time": "2022-08-06T14:38:13.335Z"
   },
   {
    "duration": 27,
    "start_time": "2022-08-06T14:38:23.554Z"
   },
   {
    "duration": 25,
    "start_time": "2022-08-06T14:38:46.646Z"
   },
   {
    "duration": 28,
    "start_time": "2022-08-06T14:39:50.377Z"
   },
   {
    "duration": 5,
    "start_time": "2022-08-06T14:40:15.966Z"
   },
   {
    "duration": 27,
    "start_time": "2022-08-06T14:40:20.383Z"
   },
   {
    "duration": 3,
    "start_time": "2022-08-07T15:28:56.713Z"
   },
   {
    "duration": 1389,
    "start_time": "2022-08-07T15:28:56.718Z"
   },
   {
    "duration": 5,
    "start_time": "2022-08-07T15:28:58.109Z"
   },
   {
    "duration": 266,
    "start_time": "2022-08-07T15:28:58.115Z"
   },
   {
    "duration": 12,
    "start_time": "2022-08-07T15:28:58.382Z"
   },
   {
    "duration": 15,
    "start_time": "2022-08-07T15:28:58.395Z"
   },
   {
    "duration": 16,
    "start_time": "2022-08-07T15:28:58.412Z"
   },
   {
    "duration": 7,
    "start_time": "2022-08-07T15:28:58.429Z"
   },
   {
    "duration": 4,
    "start_time": "2022-08-07T15:28:58.437Z"
   },
   {
    "duration": 8,
    "start_time": "2022-08-07T15:28:58.443Z"
   },
   {
    "duration": 29,
    "start_time": "2022-08-07T15:28:58.454Z"
   },
   {
    "duration": 172,
    "start_time": "2022-08-07T15:28:58.485Z"
   },
   {
    "duration": 25,
    "start_time": "2022-08-07T15:28:58.659Z"
   },
   {
    "duration": 7,
    "start_time": "2022-08-07T15:28:58.686Z"
   },
   {
    "duration": 33,
    "start_time": "2022-08-07T15:28:58.694Z"
   },
   {
    "duration": 2,
    "start_time": "2022-08-07T15:28:58.729Z"
   },
   {
    "duration": 199,
    "start_time": "2022-08-07T15:28:58.733Z"
   },
   {
    "duration": 123,
    "start_time": "2022-08-07T15:28:58.934Z"
   },
   {
    "duration": 229,
    "start_time": "2022-08-07T15:28:59.059Z"
   },
   {
    "duration": 433,
    "start_time": "2022-08-07T15:28:59.289Z"
   },
   {
    "duration": 32,
    "start_time": "2022-08-07T15:28:59.724Z"
   },
   {
    "duration": 62,
    "start_time": "2022-08-07T15:28:59.757Z"
   },
   {
    "duration": 4,
    "start_time": "2022-08-07T15:28:59.820Z"
   },
   {
    "duration": 9232,
    "start_time": "2022-08-07T15:28:59.826Z"
   },
   {
    "duration": 4,
    "start_time": "2022-08-07T15:29:09.060Z"
   },
   {
    "duration": 17,
    "start_time": "2022-08-07T15:29:09.066Z"
   },
   {
    "duration": 172,
    "start_time": "2022-08-07T15:29:09.085Z"
   },
   {
    "duration": 246,
    "start_time": "2022-08-07T15:29:09.259Z"
   },
   {
    "duration": 135,
    "start_time": "2022-08-07T15:29:09.510Z"
   },
   {
    "duration": 276,
    "start_time": "2022-08-07T15:29:09.646Z"
   },
   {
    "duration": 26,
    "start_time": "2022-08-07T15:29:09.923Z"
   },
   {
    "duration": 70,
    "start_time": "2022-08-07T15:29:09.950Z"
   },
   {
    "duration": 20,
    "start_time": "2022-08-07T15:29:10.021Z"
   },
   {
    "duration": 8,
    "start_time": "2022-08-07T15:29:10.043Z"
   },
   {
    "duration": 17,
    "start_time": "2022-08-07T15:29:10.053Z"
   },
   {
    "duration": 40,
    "start_time": "2022-08-07T15:29:10.072Z"
   },
   {
    "duration": 225,
    "start_time": "2022-08-07T15:29:10.114Z"
   },
   {
    "duration": 4,
    "start_time": "2022-08-07T15:29:10.341Z"
   },
   {
    "duration": 853,
    "start_time": "2022-08-07T15:29:10.346Z"
   },
   {
    "duration": 4,
    "start_time": "2022-08-07T15:29:11.200Z"
   },
   {
    "duration": 16,
    "start_time": "2022-08-07T15:29:11.205Z"
   },
   {
    "duration": 3666,
    "start_time": "2022-08-07T15:29:11.223Z"
   },
   {
    "duration": 24,
    "start_time": "2022-08-07T15:29:14.892Z"
   },
   {
    "duration": 9,
    "start_time": "2022-08-07T15:29:14.917Z"
   },
   {
    "duration": 24,
    "start_time": "2022-08-07T15:30:06.903Z"
   },
   {
    "duration": 15,
    "start_time": "2022-08-07T15:37:22.951Z"
   },
   {
    "duration": 28,
    "start_time": "2022-08-07T15:37:25.405Z"
   },
   {
    "duration": 17,
    "start_time": "2022-08-07T15:37:58.910Z"
   },
   {
    "duration": 23,
    "start_time": "2022-08-07T15:38:01.653Z"
   },
   {
    "duration": 26,
    "start_time": "2022-08-07T15:38:17.467Z"
   },
   {
    "duration": 24,
    "start_time": "2022-08-07T15:42:30.267Z"
   },
   {
    "duration": 30,
    "start_time": "2022-08-07T15:42:32.636Z"
   },
   {
    "duration": 23,
    "start_time": "2022-08-07T15:42:43.858Z"
   },
   {
    "duration": 12,
    "start_time": "2022-08-07T15:42:49.155Z"
   },
   {
    "duration": 23,
    "start_time": "2022-08-07T15:44:09.205Z"
   },
   {
    "duration": 10,
    "start_time": "2022-08-07T15:44:09.609Z"
   },
   {
    "duration": 13,
    "start_time": "2022-08-07T15:44:16.513Z"
   },
   {
    "duration": 3,
    "start_time": "2022-08-07T15:44:48.642Z"
   },
   {
    "duration": 1165,
    "start_time": "2022-08-07T15:44:48.647Z"
   },
   {
    "duration": 3,
    "start_time": "2022-08-07T15:44:49.814Z"
   },
   {
    "duration": 72,
    "start_time": "2022-08-07T15:44:49.819Z"
   },
   {
    "duration": 11,
    "start_time": "2022-08-07T15:44:49.893Z"
   },
   {
    "duration": 10,
    "start_time": "2022-08-07T15:44:49.905Z"
   },
   {
    "duration": 13,
    "start_time": "2022-08-07T15:44:49.916Z"
   },
   {
    "duration": 6,
    "start_time": "2022-08-07T15:44:49.930Z"
   },
   {
    "duration": 4,
    "start_time": "2022-08-07T15:44:49.938Z"
   },
   {
    "duration": 5,
    "start_time": "2022-08-07T15:44:49.944Z"
   },
   {
    "duration": 29,
    "start_time": "2022-08-07T15:44:49.950Z"
   },
   {
    "duration": 171,
    "start_time": "2022-08-07T15:44:49.980Z"
   },
   {
    "duration": 26,
    "start_time": "2022-08-07T15:44:50.153Z"
   },
   {
    "duration": 42,
    "start_time": "2022-08-07T15:44:50.181Z"
   },
   {
    "duration": 14,
    "start_time": "2022-08-07T15:44:50.225Z"
   },
   {
    "duration": 24,
    "start_time": "2022-08-07T15:44:50.241Z"
   },
   {
    "duration": 4,
    "start_time": "2022-08-07T15:44:50.267Z"
   },
   {
    "duration": 219,
    "start_time": "2022-08-07T15:44:50.272Z"
   },
   {
    "duration": 135,
    "start_time": "2022-08-07T15:44:50.492Z"
   },
   {
    "duration": 234,
    "start_time": "2022-08-07T15:44:50.629Z"
   },
   {
    "duration": 415,
    "start_time": "2022-08-07T15:44:50.864Z"
   },
   {
    "duration": 45,
    "start_time": "2022-08-07T15:44:51.281Z"
   },
   {
    "duration": 21,
    "start_time": "2022-08-07T15:44:51.327Z"
   },
   {
    "duration": 61,
    "start_time": "2022-08-07T15:44:51.350Z"
   },
   {
    "duration": 9925,
    "start_time": "2022-08-07T15:44:51.413Z"
   },
   {
    "duration": 5,
    "start_time": "2022-08-07T15:45:01.340Z"
   },
   {
    "duration": 32,
    "start_time": "2022-08-07T15:45:01.347Z"
   },
   {
    "duration": 175,
    "start_time": "2022-08-07T15:45:01.381Z"
   },
   {
    "duration": 249,
    "start_time": "2022-08-07T15:45:01.558Z"
   },
   {
    "duration": 139,
    "start_time": "2022-08-07T15:45:01.810Z"
   },
   {
    "duration": 279,
    "start_time": "2022-08-07T15:45:01.951Z"
   },
   {
    "duration": 27,
    "start_time": "2022-08-07T15:45:02.232Z"
   },
   {
    "duration": 73,
    "start_time": "2022-08-07T15:45:02.260Z"
   },
   {
    "duration": 21,
    "start_time": "2022-08-07T15:45:02.335Z"
   },
   {
    "duration": 22,
    "start_time": "2022-08-07T15:45:02.357Z"
   },
   {
    "duration": 18,
    "start_time": "2022-08-07T15:45:02.380Z"
   },
   {
    "duration": 25,
    "start_time": "2022-08-07T15:45:02.399Z"
   },
   {
    "duration": 299,
    "start_time": "2022-08-07T15:45:02.426Z"
   },
   {
    "duration": 5,
    "start_time": "2022-08-07T15:45:02.726Z"
   },
   {
    "duration": 1149,
    "start_time": "2022-08-07T15:45:02.732Z"
   },
   {
    "duration": 3,
    "start_time": "2022-08-07T15:45:03.885Z"
   },
   {
    "duration": 17,
    "start_time": "2022-08-07T15:45:03.890Z"
   },
   {
    "duration": 3343,
    "start_time": "2022-08-07T15:45:03.908Z"
   },
   {
    "duration": 8,
    "start_time": "2022-08-07T15:45:07.254Z"
   },
   {
    "duration": 14,
    "start_time": "2022-08-07T15:45:07.263Z"
   },
   {
    "duration": 11,
    "start_time": "2022-08-07T15:45:17.751Z"
   },
   {
    "duration": 11,
    "start_time": "2022-08-07T15:47:12.168Z"
   },
   {
    "duration": 25,
    "start_time": "2022-08-07T15:47:41.823Z"
   },
   {
    "duration": 54,
    "start_time": "2022-08-07T15:52:48.399Z"
   },
   {
    "duration": 185,
    "start_time": "2022-08-07T15:54:43.790Z"
   },
   {
    "duration": 162,
    "start_time": "2022-08-07T15:54:51.484Z"
   },
   {
    "duration": 10,
    "start_time": "2022-08-07T15:56:12.737Z"
   },
   {
    "duration": 14,
    "start_time": "2022-08-07T15:56:15.913Z"
   },
   {
    "duration": 11,
    "start_time": "2022-08-07T15:56:50.750Z"
   },
   {
    "duration": 165,
    "start_time": "2022-08-07T15:59:04.743Z"
   },
   {
    "duration": 276,
    "start_time": "2022-08-07T15:59:41.952Z"
   },
   {
    "duration": 163,
    "start_time": "2022-08-07T15:59:54.363Z"
   },
   {
    "duration": 153,
    "start_time": "2022-08-07T16:00:13.001Z"
   },
   {
    "duration": 152,
    "start_time": "2022-08-07T16:00:38.242Z"
   },
   {
    "duration": 3597,
    "start_time": "2022-08-07T16:12:52.327Z"
   },
   {
    "duration": 19,
    "start_time": "2022-08-07T16:13:19.103Z"
   },
   {
    "duration": 3632,
    "start_time": "2022-08-07T16:13:29.681Z"
   },
   {
    "duration": 16,
    "start_time": "2022-08-07T16:14:42.188Z"
   },
   {
    "duration": 4,
    "start_time": "2022-08-07T16:37:52.055Z"
   },
   {
    "duration": 1238,
    "start_time": "2022-08-07T16:37:52.067Z"
   },
   {
    "duration": 4,
    "start_time": "2022-08-07T16:37:53.307Z"
   },
   {
    "duration": 87,
    "start_time": "2022-08-07T16:37:53.312Z"
   },
   {
    "duration": 11,
    "start_time": "2022-08-07T16:37:53.400Z"
   },
   {
    "duration": 9,
    "start_time": "2022-08-07T16:37:53.413Z"
   },
   {
    "duration": 17,
    "start_time": "2022-08-07T16:37:53.423Z"
   },
   {
    "duration": 8,
    "start_time": "2022-08-07T16:37:53.441Z"
   },
   {
    "duration": 8,
    "start_time": "2022-08-07T16:37:53.451Z"
   },
   {
    "duration": 6,
    "start_time": "2022-08-07T16:37:53.461Z"
   },
   {
    "duration": 54,
    "start_time": "2022-08-07T16:37:53.468Z"
   },
   {
    "duration": 154,
    "start_time": "2022-08-07T16:37:53.523Z"
   },
   {
    "duration": 33,
    "start_time": "2022-08-07T16:37:53.678Z"
   },
   {
    "duration": 23,
    "start_time": "2022-08-07T16:37:53.713Z"
   },
   {
    "duration": 24,
    "start_time": "2022-08-07T16:37:53.739Z"
   },
   {
    "duration": 18,
    "start_time": "2022-08-07T16:37:53.764Z"
   },
   {
    "duration": 3,
    "start_time": "2022-08-07T16:37:53.783Z"
   },
   {
    "duration": 207,
    "start_time": "2022-08-07T16:37:53.788Z"
   },
   {
    "duration": 135,
    "start_time": "2022-08-07T16:37:53.997Z"
   },
   {
    "duration": 226,
    "start_time": "2022-08-07T16:37:54.133Z"
   },
   {
    "duration": 450,
    "start_time": "2022-08-07T16:37:54.360Z"
   },
   {
    "duration": 31,
    "start_time": "2022-08-07T16:37:54.812Z"
   },
   {
    "duration": 17,
    "start_time": "2022-08-07T16:37:54.844Z"
   },
   {
    "duration": 5,
    "start_time": "2022-08-07T16:37:54.911Z"
   },
   {
    "duration": 9019,
    "start_time": "2022-08-07T16:37:54.918Z"
   },
   {
    "duration": 4,
    "start_time": "2022-08-07T16:38:03.938Z"
   },
   {
    "duration": 12,
    "start_time": "2022-08-07T16:38:03.943Z"
   },
   {
    "duration": 178,
    "start_time": "2022-08-07T16:38:03.956Z"
   },
   {
    "duration": 161,
    "start_time": "2022-08-07T16:38:04.136Z"
   },
   {
    "duration": 237,
    "start_time": "2022-08-07T16:38:04.299Z"
   },
   {
    "duration": 126,
    "start_time": "2022-08-07T16:38:04.538Z"
   },
   {
    "duration": 275,
    "start_time": "2022-08-07T16:38:04.666Z"
   },
   {
    "duration": 24,
    "start_time": "2022-08-07T16:38:04.942Z"
   },
   {
    "duration": 69,
    "start_time": "2022-08-07T16:38:04.968Z"
   },
   {
    "duration": 21,
    "start_time": "2022-08-07T16:38:05.038Z"
   },
   {
    "duration": 9,
    "start_time": "2022-08-07T16:38:05.060Z"
   },
   {
    "duration": 15,
    "start_time": "2022-08-07T16:38:05.071Z"
   },
   {
    "duration": 36,
    "start_time": "2022-08-07T16:38:05.087Z"
   },
   {
    "duration": 318,
    "start_time": "2022-08-07T16:38:05.125Z"
   },
   {
    "duration": 5,
    "start_time": "2022-08-07T16:38:05.445Z"
   },
   {
    "duration": 1083,
    "start_time": "2022-08-07T16:38:05.452Z"
   },
   {
    "duration": 4,
    "start_time": "2022-08-07T16:38:06.539Z"
   },
   {
    "duration": 172,
    "start_time": "2022-08-07T16:38:06.544Z"
   },
   {
    "duration": 0,
    "start_time": "2022-08-07T16:38:06.718Z"
   },
   {
    "duration": 0,
    "start_time": "2022-08-07T16:38:06.719Z"
   },
   {
    "duration": 0,
    "start_time": "2022-08-07T16:38:06.719Z"
   },
   {
    "duration": 0,
    "start_time": "2022-08-07T16:38:06.720Z"
   },
   {
    "duration": 15,
    "start_time": "2022-08-07T16:38:40.633Z"
   },
   {
    "duration": 3442,
    "start_time": "2022-08-07T16:38:41.880Z"
   },
   {
    "duration": 45,
    "start_time": "2022-08-07T16:38:45.324Z"
   },
   {
    "duration": 13,
    "start_time": "2022-08-07T16:39:55.846Z"
   },
   {
    "duration": 2,
    "start_time": "2022-08-07T16:40:14.918Z"
   },
   {
    "duration": 2,
    "start_time": "2022-08-07T16:40:15.718Z"
   },
   {
    "duration": 8,
    "start_time": "2022-08-07T16:40:16.210Z"
   },
   {
    "duration": 10,
    "start_time": "2022-08-07T16:40:16.389Z"
   },
   {
    "duration": 3,
    "start_time": "2022-08-07T16:40:22.406Z"
   },
   {
    "duration": 11,
    "start_time": "2022-08-07T16:40:51.589Z"
   },
   {
    "duration": 1133,
    "start_time": "2022-08-07T16:41:00.422Z"
   },
   {
    "duration": 316,
    "start_time": "2022-08-07T17:42:01.235Z"
   },
   {
    "duration": 235,
    "start_time": "2022-08-07T17:42:39.887Z"
   },
   {
    "duration": 2072,
    "start_time": "2022-08-07T17:43:35.367Z"
   },
   {
    "duration": 2069,
    "start_time": "2022-08-07T17:44:08.007Z"
   },
   {
    "duration": 2134,
    "start_time": "2022-08-07T17:44:19.964Z"
   },
   {
    "duration": 1969,
    "start_time": "2022-08-07T17:44:28.689Z"
   },
   {
    "duration": 2012,
    "start_time": "2022-08-07T17:44:38.575Z"
   },
   {
    "duration": 2214,
    "start_time": "2022-08-07T17:44:50.538Z"
   },
   {
    "duration": 1919,
    "start_time": "2022-08-07T17:45:29.993Z"
   },
   {
    "duration": 3,
    "start_time": "2022-08-07T17:46:23.507Z"
   },
   {
    "duration": 1887,
    "start_time": "2022-08-07T17:48:59.117Z"
   },
   {
    "duration": 5,
    "start_time": "2022-08-07T17:49:59.108Z"
   },
   {
    "duration": 2009,
    "start_time": "2022-08-07T17:50:08.336Z"
   },
   {
    "duration": 1907,
    "start_time": "2022-08-07T17:50:51.855Z"
   },
   {
    "duration": 1777,
    "start_time": "2022-08-07T17:55:45.599Z"
   },
   {
    "duration": 13,
    "start_time": "2022-08-07T17:55:48.294Z"
   },
   {
    "duration": 12,
    "start_time": "2022-08-07T17:55:52.682Z"
   },
   {
    "duration": 18,
    "start_time": "2022-08-07T17:56:28.285Z"
   },
   {
    "duration": 15,
    "start_time": "2022-08-07T17:57:03.047Z"
   },
   {
    "duration": 15,
    "start_time": "2022-08-07T17:57:20.932Z"
   },
   {
    "duration": 2163,
    "start_time": "2022-08-07T18:00:44.700Z"
   },
   {
    "duration": 5,
    "start_time": "2022-08-07T18:00:54.990Z"
   },
   {
    "duration": 21,
    "start_time": "2022-08-07T18:01:01.420Z"
   },
   {
    "duration": 5,
    "start_time": "2022-08-07T18:01:15.744Z"
   },
   {
    "duration": 9,
    "start_time": "2022-08-07T18:01:55.261Z"
   },
   {
    "duration": 10,
    "start_time": "2022-08-07T18:02:36.302Z"
   },
   {
    "duration": 4,
    "start_time": "2022-08-07T18:02:38.723Z"
   },
   {
    "duration": 4,
    "start_time": "2022-08-07T18:02:50.039Z"
   },
   {
    "duration": 9,
    "start_time": "2022-08-07T18:03:14.578Z"
   },
   {
    "duration": 10,
    "start_time": "2022-08-07T18:03:32.046Z"
   },
   {
    "duration": 2212,
    "start_time": "2022-08-07T18:04:38.125Z"
   },
   {
    "duration": 8,
    "start_time": "2022-08-07T18:04:47.616Z"
   },
   {
    "duration": 9,
    "start_time": "2022-08-07T18:04:48.718Z"
   },
   {
    "duration": 16,
    "start_time": "2022-08-07T18:04:49.639Z"
   },
   {
    "duration": 16,
    "start_time": "2022-08-07T18:05:03.405Z"
   },
   {
    "duration": 76,
    "start_time": "2022-08-07T18:05:07.818Z"
   },
   {
    "duration": 16,
    "start_time": "2022-08-07T18:05:29.044Z"
   },
   {
    "duration": 3,
    "start_time": "2022-08-07T18:05:41.317Z"
   },
   {
    "duration": 1201,
    "start_time": "2022-08-07T18:05:41.323Z"
   },
   {
    "duration": 6,
    "start_time": "2022-08-07T18:05:42.526Z"
   },
   {
    "duration": 95,
    "start_time": "2022-08-07T18:05:42.534Z"
   },
   {
    "duration": 16,
    "start_time": "2022-08-07T18:05:42.631Z"
   },
   {
    "duration": 17,
    "start_time": "2022-08-07T18:05:42.650Z"
   },
   {
    "duration": 21,
    "start_time": "2022-08-07T18:05:42.668Z"
   },
   {
    "duration": 19,
    "start_time": "2022-08-07T18:05:42.691Z"
   },
   {
    "duration": 17,
    "start_time": "2022-08-07T18:05:42.712Z"
   },
   {
    "duration": 7,
    "start_time": "2022-08-07T18:05:42.731Z"
   },
   {
    "duration": 34,
    "start_time": "2022-08-07T18:05:42.740Z"
   },
   {
    "duration": 161,
    "start_time": "2022-08-07T18:05:42.777Z"
   },
   {
    "duration": 27,
    "start_time": "2022-08-07T18:05:42.939Z"
   },
   {
    "duration": 23,
    "start_time": "2022-08-07T18:05:42.967Z"
   },
   {
    "duration": 34,
    "start_time": "2022-08-07T18:05:42.993Z"
   },
   {
    "duration": 19,
    "start_time": "2022-08-07T18:05:43.029Z"
   },
   {
    "duration": 3,
    "start_time": "2022-08-07T18:05:43.049Z"
   },
   {
    "duration": 205,
    "start_time": "2022-08-07T18:05:43.053Z"
   },
   {
    "duration": 125,
    "start_time": "2022-08-07T18:05:43.260Z"
   },
   {
    "duration": 238,
    "start_time": "2022-08-07T18:05:43.387Z"
   },
   {
    "duration": 421,
    "start_time": "2022-08-07T18:05:43.626Z"
   },
   {
    "duration": 32,
    "start_time": "2022-08-07T18:05:44.048Z"
   },
   {
    "duration": 40,
    "start_time": "2022-08-07T18:05:44.081Z"
   },
   {
    "duration": 4,
    "start_time": "2022-08-07T18:05:44.123Z"
   },
   {
    "duration": 7964,
    "start_time": "2022-08-07T18:05:44.129Z"
   },
   {
    "duration": 5,
    "start_time": "2022-08-07T18:05:52.094Z"
   },
   {
    "duration": 19,
    "start_time": "2022-08-07T18:05:52.101Z"
   },
   {
    "duration": 182,
    "start_time": "2022-08-07T18:05:52.122Z"
   },
   {
    "duration": 165,
    "start_time": "2022-08-07T18:05:52.306Z"
   },
   {
    "duration": 326,
    "start_time": "2022-08-07T18:05:52.472Z"
   },
   {
    "duration": 122,
    "start_time": "2022-08-07T18:05:52.800Z"
   },
   {
    "duration": 273,
    "start_time": "2022-08-07T18:05:52.923Z"
   },
   {
    "duration": 31,
    "start_time": "2022-08-07T18:05:53.197Z"
   },
   {
    "duration": 56,
    "start_time": "2022-08-07T18:05:53.230Z"
   },
   {
    "duration": 37,
    "start_time": "2022-08-07T18:05:53.287Z"
   },
   {
    "duration": 9,
    "start_time": "2022-08-07T18:05:53.325Z"
   },
   {
    "duration": 13,
    "start_time": "2022-08-07T18:05:53.335Z"
   },
   {
    "duration": 20,
    "start_time": "2022-08-07T18:05:53.349Z"
   },
   {
    "duration": 315,
    "start_time": "2022-08-07T18:05:53.371Z"
   },
   {
    "duration": 4,
    "start_time": "2022-08-07T18:05:53.688Z"
   },
   {
    "duration": 1065,
    "start_time": "2022-08-07T18:05:53.694Z"
   },
   {
    "duration": 3,
    "start_time": "2022-08-07T18:05:54.762Z"
   },
   {
    "duration": 19,
    "start_time": "2022-08-07T18:05:54.767Z"
   },
   {
    "duration": 3341,
    "start_time": "2022-08-07T18:05:54.788Z"
   },
   {
    "duration": 2125,
    "start_time": "2022-08-07T18:05:58.131Z"
   },
   {
    "duration": 8,
    "start_time": "2022-08-07T18:06:00.258Z"
   },
   {
    "duration": 18,
    "start_time": "2022-08-07T18:06:00.267Z"
   },
   {
    "duration": 196,
    "start_time": "2022-08-07T18:06:00.286Z"
   },
   {
    "duration": 0,
    "start_time": "2022-08-07T18:06:00.483Z"
   },
   {
    "duration": 0,
    "start_time": "2022-08-07T18:06:00.485Z"
   },
   {
    "duration": 46,
    "start_time": "2022-08-07T18:06:58.844Z"
   },
   {
    "duration": 243,
    "start_time": "2022-08-07T18:07:46.455Z"
   },
   {
    "duration": 3,
    "start_time": "2022-08-07T18:08:09.339Z"
   },
   {
    "duration": 1173,
    "start_time": "2022-08-07T18:08:09.344Z"
   },
   {
    "duration": 3,
    "start_time": "2022-08-07T18:08:10.519Z"
   },
   {
    "duration": 72,
    "start_time": "2022-08-07T18:08:10.524Z"
   },
   {
    "duration": 10,
    "start_time": "2022-08-07T18:08:10.598Z"
   },
   {
    "duration": 7,
    "start_time": "2022-08-07T18:08:10.610Z"
   },
   {
    "duration": 14,
    "start_time": "2022-08-07T18:08:10.618Z"
   },
   {
    "duration": 7,
    "start_time": "2022-08-07T18:08:10.633Z"
   },
   {
    "duration": 3,
    "start_time": "2022-08-07T18:08:10.642Z"
   },
   {
    "duration": 6,
    "start_time": "2022-08-07T18:08:10.647Z"
   },
   {
    "duration": 28,
    "start_time": "2022-08-07T18:08:10.655Z"
   },
   {
    "duration": 170,
    "start_time": "2022-08-07T18:08:10.684Z"
   },
   {
    "duration": 26,
    "start_time": "2022-08-07T18:08:10.855Z"
   },
   {
    "duration": 36,
    "start_time": "2022-08-07T18:08:10.884Z"
   },
   {
    "duration": 24,
    "start_time": "2022-08-07T18:08:10.921Z"
   },
   {
    "duration": 18,
    "start_time": "2022-08-07T18:08:10.946Z"
   },
   {
    "duration": 3,
    "start_time": "2022-08-07T18:08:10.966Z"
   },
   {
    "duration": 205,
    "start_time": "2022-08-07T18:08:10.970Z"
   },
   {
    "duration": 128,
    "start_time": "2022-08-07T18:08:11.177Z"
   },
   {
    "duration": 223,
    "start_time": "2022-08-07T18:08:11.310Z"
   },
   {
    "duration": 479,
    "start_time": "2022-08-07T18:08:11.535Z"
   },
   {
    "duration": 31,
    "start_time": "2022-08-07T18:08:12.015Z"
   },
   {
    "duration": 69,
    "start_time": "2022-08-07T18:08:12.048Z"
   },
   {
    "duration": 6,
    "start_time": "2022-08-07T18:08:12.119Z"
   },
   {
    "duration": 8718,
    "start_time": "2022-08-07T18:08:12.127Z"
   },
   {
    "duration": 4,
    "start_time": "2022-08-07T18:08:20.846Z"
   },
   {
    "duration": 13,
    "start_time": "2022-08-07T18:08:20.851Z"
   },
   {
    "duration": 167,
    "start_time": "2022-08-07T18:08:20.865Z"
   },
   {
    "duration": 161,
    "start_time": "2022-08-07T18:08:21.033Z"
   },
   {
    "duration": 242,
    "start_time": "2022-08-07T18:08:21.195Z"
   },
   {
    "duration": 133,
    "start_time": "2022-08-07T18:08:21.439Z"
   },
   {
    "duration": 269,
    "start_time": "2022-08-07T18:08:21.574Z"
   },
   {
    "duration": 26,
    "start_time": "2022-08-07T18:08:21.845Z"
   },
   {
    "duration": 75,
    "start_time": "2022-08-07T18:08:21.873Z"
   },
   {
    "duration": 21,
    "start_time": "2022-08-07T18:08:21.949Z"
   },
   {
    "duration": 7,
    "start_time": "2022-08-07T18:08:21.971Z"
   },
   {
    "duration": 33,
    "start_time": "2022-08-07T18:08:21.979Z"
   },
   {
    "duration": 21,
    "start_time": "2022-08-07T18:08:22.013Z"
   },
   {
    "duration": 313,
    "start_time": "2022-08-07T18:08:22.036Z"
   },
   {
    "duration": 4,
    "start_time": "2022-08-07T18:08:22.351Z"
   },
   {
    "duration": 934,
    "start_time": "2022-08-07T18:08:22.359Z"
   },
   {
    "duration": 4,
    "start_time": "2022-08-07T18:08:23.295Z"
   },
   {
    "duration": 24,
    "start_time": "2022-08-07T18:08:23.300Z"
   },
   {
    "duration": 3144,
    "start_time": "2022-08-07T18:08:23.326Z"
   },
   {
    "duration": 1994,
    "start_time": "2022-08-07T18:08:26.472Z"
   },
   {
    "duration": 8,
    "start_time": "2022-08-07T18:08:28.468Z"
   },
   {
    "duration": 15,
    "start_time": "2022-08-07T18:08:28.478Z"
   },
   {
    "duration": 0,
    "start_time": "2022-08-07T18:08:28.677Z"
   },
   {
    "duration": 0,
    "start_time": "2022-08-07T18:08:28.678Z"
   },
   {
    "duration": 0,
    "start_time": "2022-08-07T18:08:28.679Z"
   },
   {
    "duration": 47,
    "start_time": "2022-08-07T18:08:34.584Z"
   },
   {
    "duration": 35,
    "start_time": "2022-08-07T18:08:45.523Z"
   },
   {
    "duration": 2015,
    "start_time": "2022-08-07T18:09:35.171Z"
   },
   {
    "duration": 8,
    "start_time": "2022-08-07T18:09:38.884Z"
   },
   {
    "duration": 20,
    "start_time": "2022-08-07T18:09:46.836Z"
   },
   {
    "duration": 22,
    "start_time": "2022-08-07T18:10:04.352Z"
   },
   {
    "duration": 9,
    "start_time": "2022-08-07T18:10:42.931Z"
   },
   {
    "duration": 891,
    "start_time": "2022-08-07T18:12:04.977Z"
   },
   {
    "duration": 21,
    "start_time": "2022-08-07T18:12:24.570Z"
   },
   {
    "duration": 20,
    "start_time": "2022-08-07T18:12:40.871Z"
   },
   {
    "duration": 14,
    "start_time": "2022-08-07T18:13:34.832Z"
   },
   {
    "duration": 12,
    "start_time": "2022-08-07T18:13:38.898Z"
   },
   {
    "duration": 12,
    "start_time": "2022-08-07T18:14:27.133Z"
   },
   {
    "duration": 18,
    "start_time": "2022-08-07T18:14:43.684Z"
   },
   {
    "duration": 17,
    "start_time": "2022-08-07T18:14:55.501Z"
   },
   {
    "duration": 19,
    "start_time": "2022-08-07T18:15:21.122Z"
   },
   {
    "duration": 19,
    "start_time": "2022-08-07T18:15:29.823Z"
   },
   {
    "duration": 19,
    "start_time": "2022-08-07T18:16:05.701Z"
   },
   {
    "duration": 20,
    "start_time": "2022-08-07T18:16:15.571Z"
   },
   {
    "duration": 31,
    "start_time": "2022-08-07T18:17:00.087Z"
   },
   {
    "duration": 29,
    "start_time": "2022-08-07T18:17:13.184Z"
   },
   {
    "duration": 43,
    "start_time": "2022-08-07T18:17:42.327Z"
   },
   {
    "duration": 30,
    "start_time": "2022-08-07T18:17:47.296Z"
   },
   {
    "duration": 21,
    "start_time": "2022-08-07T18:18:23.727Z"
   },
   {
    "duration": 13,
    "start_time": "2022-08-07T18:18:39.039Z"
   },
   {
    "duration": 17,
    "start_time": "2022-08-07T18:18:46.295Z"
   },
   {
    "duration": 14,
    "start_time": "2022-08-07T18:18:51.101Z"
   },
   {
    "duration": 18,
    "start_time": "2022-08-07T18:19:00.872Z"
   },
   {
    "duration": 3,
    "start_time": "2022-08-07T18:19:15.963Z"
   },
   {
    "duration": 1141,
    "start_time": "2022-08-07T18:19:15.969Z"
   },
   {
    "duration": 5,
    "start_time": "2022-08-07T18:19:17.112Z"
   },
   {
    "duration": 87,
    "start_time": "2022-08-07T18:19:17.118Z"
   },
   {
    "duration": 13,
    "start_time": "2022-08-07T18:19:17.207Z"
   },
   {
    "duration": 7,
    "start_time": "2022-08-07T18:19:17.222Z"
   },
   {
    "duration": 13,
    "start_time": "2022-08-07T18:19:17.231Z"
   },
   {
    "duration": 6,
    "start_time": "2022-08-07T18:19:17.246Z"
   },
   {
    "duration": 5,
    "start_time": "2022-08-07T18:19:17.254Z"
   },
   {
    "duration": 9,
    "start_time": "2022-08-07T18:19:17.260Z"
   },
   {
    "duration": 51,
    "start_time": "2022-08-07T18:19:17.270Z"
   },
   {
    "duration": 156,
    "start_time": "2022-08-07T18:19:17.322Z"
   },
   {
    "duration": 32,
    "start_time": "2022-08-07T18:19:17.479Z"
   },
   {
    "duration": 24,
    "start_time": "2022-08-07T18:19:17.513Z"
   },
   {
    "duration": 24,
    "start_time": "2022-08-07T18:19:17.541Z"
   },
   {
    "duration": 19,
    "start_time": "2022-08-07T18:19:17.567Z"
   },
   {
    "duration": 25,
    "start_time": "2022-08-07T18:19:17.588Z"
   },
   {
    "duration": 198,
    "start_time": "2022-08-07T18:19:17.615Z"
   },
   {
    "duration": 138,
    "start_time": "2022-08-07T18:19:17.815Z"
   },
   {
    "duration": 236,
    "start_time": "2022-08-07T18:19:17.954Z"
   },
   {
    "duration": 416,
    "start_time": "2022-08-07T18:19:18.192Z"
   },
   {
    "duration": 38,
    "start_time": "2022-08-07T18:19:18.609Z"
   },
   {
    "duration": 70,
    "start_time": "2022-08-07T18:19:18.649Z"
   },
   {
    "duration": 5,
    "start_time": "2022-08-07T18:19:18.720Z"
   },
   {
    "duration": 9261,
    "start_time": "2022-08-07T18:19:18.727Z"
   },
   {
    "duration": 3,
    "start_time": "2022-08-07T18:19:27.990Z"
   },
   {
    "duration": 17,
    "start_time": "2022-08-07T18:19:27.995Z"
   },
   {
    "duration": 173,
    "start_time": "2022-08-07T18:19:28.014Z"
   },
   {
    "duration": 172,
    "start_time": "2022-08-07T18:19:28.188Z"
   },
   {
    "duration": 283,
    "start_time": "2022-08-07T18:19:28.363Z"
   },
   {
    "duration": 142,
    "start_time": "2022-08-07T18:19:28.648Z"
   },
   {
    "duration": 308,
    "start_time": "2022-08-07T18:19:28.792Z"
   },
   {
    "duration": 33,
    "start_time": "2022-08-07T18:19:29.102Z"
   },
   {
    "duration": 59,
    "start_time": "2022-08-07T18:19:29.136Z"
   },
   {
    "duration": 22,
    "start_time": "2022-08-07T18:19:29.210Z"
   },
   {
    "duration": 8,
    "start_time": "2022-08-07T18:19:29.234Z"
   },
   {
    "duration": 15,
    "start_time": "2022-08-07T18:19:29.244Z"
   },
   {
    "duration": 51,
    "start_time": "2022-08-07T18:19:29.261Z"
   },
   {
    "duration": 314,
    "start_time": "2022-08-07T18:19:29.314Z"
   },
   {
    "duration": 5,
    "start_time": "2022-08-07T18:19:29.630Z"
   },
   {
    "duration": 1031,
    "start_time": "2022-08-07T18:19:29.636Z"
   },
   {
    "duration": 4,
    "start_time": "2022-08-07T18:19:30.671Z"
   },
   {
    "duration": 48,
    "start_time": "2022-08-07T18:19:30.677Z"
   },
   {
    "duration": 3987,
    "start_time": "2022-08-07T18:19:30.727Z"
   },
   {
    "duration": 2045,
    "start_time": "2022-08-07T18:19:34.716Z"
   },
   {
    "duration": 30,
    "start_time": "2022-08-07T18:19:36.763Z"
   },
   {
    "duration": 33,
    "start_time": "2022-08-07T18:19:36.795Z"
   },
   {
    "duration": 29,
    "start_time": "2022-08-07T18:19:36.829Z"
   },
   {
    "duration": 10,
    "start_time": "2022-08-07T18:19:36.860Z"
   },
   {
    "duration": 20,
    "start_time": "2022-08-07T18:19:36.872Z"
   },
   {
    "duration": 1979,
    "start_time": "2022-08-07T18:20:25.869Z"
   },
   {
    "duration": 1966,
    "start_time": "2022-08-07T18:23:05.459Z"
   },
   {
    "duration": 16,
    "start_time": "2022-08-07T18:25:12.853Z"
   },
   {
    "duration": 16,
    "start_time": "2022-08-07T18:25:21.334Z"
   },
   {
    "duration": 45,
    "start_time": "2022-08-07T18:28:00.507Z"
   },
   {
    "duration": 59,
    "start_time": "2022-08-07T18:29:53.425Z"
   },
   {
    "duration": 64,
    "start_time": "2022-08-07T18:30:34.304Z"
   },
   {
    "duration": 62,
    "start_time": "2022-08-07T18:30:43.603Z"
   },
   {
    "duration": 56,
    "start_time": "2022-08-07T18:31:42.526Z"
   },
   {
    "duration": 64,
    "start_time": "2022-08-07T18:32:22.810Z"
   },
   {
    "duration": 4,
    "start_time": "2022-08-07T18:35:21.829Z"
   },
   {
    "duration": 24,
    "start_time": "2022-08-07T18:35:24.636Z"
   },
   {
    "duration": 210,
    "start_time": "2022-08-07T18:36:47.006Z"
   },
   {
    "duration": 10,
    "start_time": "2022-08-07T18:36:47.912Z"
   },
   {
    "duration": 1113,
    "start_time": "2022-08-07T18:38:02.160Z"
   },
   {
    "duration": 1086,
    "start_time": "2022-08-07T18:38:25.994Z"
   },
   {
    "duration": 4,
    "start_time": "2022-08-07T18:38:46.209Z"
   },
   {
    "duration": 46,
    "start_time": "2022-08-07T18:39:23.228Z"
   },
   {
    "duration": 7,
    "start_time": "2022-08-07T18:39:49.903Z"
   },
   {
    "duration": 8,
    "start_time": "2022-08-07T18:39:50.774Z"
   },
   {
    "duration": 8,
    "start_time": "2022-08-07T18:42:28.567Z"
   },
   {
    "duration": 7,
    "start_time": "2022-08-07T18:42:56.575Z"
   },
   {
    "duration": 9,
    "start_time": "2022-08-07T18:42:59.944Z"
   },
   {
    "duration": 939,
    "start_time": "2022-08-07T18:43:22.582Z"
   },
   {
    "duration": 5,
    "start_time": "2022-08-07T18:43:32.270Z"
   },
   {
    "duration": 12,
    "start_time": "2022-08-07T18:43:40.292Z"
   },
   {
    "duration": 19,
    "start_time": "2022-08-07T18:45:04.943Z"
   },
   {
    "duration": 9,
    "start_time": "2022-08-07T18:45:23.730Z"
   },
   {
    "duration": 11,
    "start_time": "2022-08-07T18:45:24.833Z"
   },
   {
    "duration": 18,
    "start_time": "2022-08-07T18:46:07.796Z"
   },
   {
    "duration": 4,
    "start_time": "2022-08-07T18:46:15.839Z"
   },
   {
    "duration": 1195,
    "start_time": "2022-08-07T18:46:15.848Z"
   },
   {
    "duration": 4,
    "start_time": "2022-08-07T18:46:17.044Z"
   },
   {
    "duration": 101,
    "start_time": "2022-08-07T18:46:17.050Z"
   },
   {
    "duration": 2744,
    "start_time": "2022-08-07T18:46:17.153Z"
   },
   {
    "duration": 15,
    "start_time": "2022-08-07T18:46:19.899Z"
   },
   {
    "duration": 11,
    "start_time": "2022-08-07T18:46:19.915Z"
   },
   {
    "duration": 17,
    "start_time": "2022-08-07T18:46:19.927Z"
   },
   {
    "duration": 9,
    "start_time": "2022-08-07T18:46:19.946Z"
   },
   {
    "duration": 7,
    "start_time": "2022-08-07T18:46:19.956Z"
   },
   {
    "duration": 7,
    "start_time": "2022-08-07T18:46:19.964Z"
   },
   {
    "duration": 63,
    "start_time": "2022-08-07T18:46:19.973Z"
   },
   {
    "duration": 157,
    "start_time": "2022-08-07T18:46:20.038Z"
   },
   {
    "duration": 34,
    "start_time": "2022-08-07T18:46:20.197Z"
   },
   {
    "duration": 25,
    "start_time": "2022-08-07T18:46:20.234Z"
   },
   {
    "duration": 24,
    "start_time": "2022-08-07T18:46:20.261Z"
   },
   {
    "duration": 36,
    "start_time": "2022-08-07T18:46:20.286Z"
   },
   {
    "duration": 3,
    "start_time": "2022-08-07T18:46:20.324Z"
   },
   {
    "duration": 25,
    "start_time": "2022-08-07T18:46:20.328Z"
   },
   {
    "duration": 203,
    "start_time": "2022-08-07T18:46:20.354Z"
   },
   {
    "duration": 138,
    "start_time": "2022-08-07T18:46:20.559Z"
   },
   {
    "duration": 230,
    "start_time": "2022-08-07T18:46:20.699Z"
   },
   {
    "duration": 419,
    "start_time": "2022-08-07T18:46:20.931Z"
   },
   {
    "duration": 30,
    "start_time": "2022-08-07T18:46:21.352Z"
   },
   {
    "duration": 42,
    "start_time": "2022-08-07T18:46:21.383Z"
   },
   {
    "duration": 16,
    "start_time": "2022-08-07T18:46:21.426Z"
   },
   {
    "duration": 8098,
    "start_time": "2022-08-07T18:46:21.444Z"
   },
   {
    "duration": 4,
    "start_time": "2022-08-07T18:46:29.543Z"
   },
   {
    "duration": 12,
    "start_time": "2022-08-07T18:46:29.549Z"
   },
   {
    "duration": 181,
    "start_time": "2022-08-07T18:46:29.563Z"
   },
   {
    "duration": 165,
    "start_time": "2022-08-07T18:46:29.746Z"
   },
   {
    "duration": 265,
    "start_time": "2022-08-07T18:46:29.912Z"
   },
   {
    "duration": 123,
    "start_time": "2022-08-07T18:46:30.178Z"
   },
   {
    "duration": 283,
    "start_time": "2022-08-07T18:46:30.303Z"
   },
   {
    "duration": 36,
    "start_time": "2022-08-07T18:46:30.587Z"
   },
   {
    "duration": 58,
    "start_time": "2022-08-07T18:46:30.624Z"
   },
   {
    "duration": 34,
    "start_time": "2022-08-07T18:46:30.684Z"
   },
   {
    "duration": 22,
    "start_time": "2022-08-07T18:46:30.720Z"
   },
   {
    "duration": 19,
    "start_time": "2022-08-07T18:46:30.743Z"
   },
   {
    "duration": 33,
    "start_time": "2022-08-07T18:46:30.763Z"
   },
   {
    "duration": 302,
    "start_time": "2022-08-07T18:46:30.798Z"
   },
   {
    "duration": 1124,
    "start_time": "2022-08-07T18:46:31.104Z"
   },
   {
    "duration": 4,
    "start_time": "2022-08-07T18:46:32.229Z"
   },
   {
    "duration": 53,
    "start_time": "2022-08-07T18:46:32.235Z"
   },
   {
    "duration": 3621,
    "start_time": "2022-08-07T18:46:32.290Z"
   },
   {
    "duration": 8,
    "start_time": "2022-08-07T18:46:35.913Z"
   },
   {
    "duration": 14,
    "start_time": "2022-08-07T18:46:35.922Z"
   },
   {
    "duration": 17,
    "start_time": "2022-08-07T18:46:35.938Z"
   },
   {
    "duration": 59,
    "start_time": "2022-08-07T18:46:35.956Z"
   },
   {
    "duration": 4,
    "start_time": "2022-08-07T18:46:43.677Z"
   },
   {
    "duration": 12,
    "start_time": "2022-08-07T18:46:46.968Z"
   },
   {
    "duration": 4,
    "start_time": "2022-08-07T18:47:16.414Z"
   },
   {
    "duration": 1215,
    "start_time": "2022-08-07T18:47:16.420Z"
   },
   {
    "duration": 4,
    "start_time": "2022-08-07T18:47:17.636Z"
   },
   {
    "duration": 84,
    "start_time": "2022-08-07T18:47:17.642Z"
   },
   {
    "duration": 1835,
    "start_time": "2022-08-07T18:47:17.728Z"
   },
   {
    "duration": 11,
    "start_time": "2022-08-07T18:47:19.565Z"
   },
   {
    "duration": 9,
    "start_time": "2022-08-07T18:47:19.578Z"
   },
   {
    "duration": 24,
    "start_time": "2022-08-07T18:47:19.589Z"
   },
   {
    "duration": 7,
    "start_time": "2022-08-07T18:47:19.615Z"
   },
   {
    "duration": 6,
    "start_time": "2022-08-07T18:47:19.623Z"
   },
   {
    "duration": 6,
    "start_time": "2022-08-07T18:47:19.631Z"
   },
   {
    "duration": 32,
    "start_time": "2022-08-07T18:47:19.638Z"
   },
   {
    "duration": 176,
    "start_time": "2022-08-07T18:47:19.672Z"
   },
   {
    "duration": 27,
    "start_time": "2022-08-07T18:47:19.849Z"
   },
   {
    "duration": 40,
    "start_time": "2022-08-07T18:47:19.877Z"
   },
   {
    "duration": 22,
    "start_time": "2022-08-07T18:47:19.919Z"
   },
   {
    "duration": 18,
    "start_time": "2022-08-07T18:47:19.943Z"
   },
   {
    "duration": 3,
    "start_time": "2022-08-07T18:47:19.962Z"
   },
   {
    "duration": 23,
    "start_time": "2022-08-07T18:47:19.966Z"
   },
   {
    "duration": 206,
    "start_time": "2022-08-07T18:47:20.012Z"
   },
   {
    "duration": 135,
    "start_time": "2022-08-07T18:47:20.219Z"
   },
   {
    "duration": 238,
    "start_time": "2022-08-07T18:47:20.355Z"
   },
   {
    "duration": 421,
    "start_time": "2022-08-07T18:47:20.595Z"
   },
   {
    "duration": 39,
    "start_time": "2022-08-07T18:47:21.019Z"
   },
   {
    "duration": 28,
    "start_time": "2022-08-07T18:47:21.111Z"
   },
   {
    "duration": 6,
    "start_time": "2022-08-07T18:47:21.140Z"
   },
   {
    "duration": 8589,
    "start_time": "2022-08-07T18:47:21.148Z"
   },
   {
    "duration": 5,
    "start_time": "2022-08-07T18:47:29.739Z"
   },
   {
    "duration": 11,
    "start_time": "2022-08-07T18:47:29.746Z"
   },
   {
    "duration": 190,
    "start_time": "2022-08-07T18:47:29.759Z"
   },
   {
    "duration": 167,
    "start_time": "2022-08-07T18:47:29.951Z"
   },
   {
    "duration": 254,
    "start_time": "2022-08-07T18:47:30.120Z"
   },
   {
    "duration": 126,
    "start_time": "2022-08-07T18:47:30.375Z"
   },
   {
    "duration": 276,
    "start_time": "2022-08-07T18:47:30.503Z"
   },
   {
    "duration": 31,
    "start_time": "2022-08-07T18:47:30.781Z"
   },
   {
    "duration": 155,
    "start_time": "2022-08-07T18:47:30.814Z"
   },
   {
    "duration": 20,
    "start_time": "2022-08-07T18:47:30.971Z"
   },
   {
    "duration": 22,
    "start_time": "2022-08-07T18:47:30.992Z"
   },
   {
    "duration": 17,
    "start_time": "2022-08-07T18:47:31.016Z"
   },
   {
    "duration": 25,
    "start_time": "2022-08-07T18:47:31.034Z"
   },
   {
    "duration": 226,
    "start_time": "2022-08-07T18:47:31.060Z"
   },
   {
    "duration": 1037,
    "start_time": "2022-08-07T18:47:31.288Z"
   },
   {
    "duration": 5,
    "start_time": "2022-08-07T18:47:32.327Z"
   },
   {
    "duration": 64,
    "start_time": "2022-08-07T18:47:32.333Z"
   },
   {
    "duration": 3536,
    "start_time": "2022-08-07T18:47:32.398Z"
   },
   {
    "duration": 8,
    "start_time": "2022-08-07T18:47:35.935Z"
   },
   {
    "duration": 17,
    "start_time": "2022-08-07T18:47:35.944Z"
   },
   {
    "duration": 58,
    "start_time": "2022-08-07T18:47:35.963Z"
   },
   {
    "duration": 22,
    "start_time": "2022-08-07T18:47:36.022Z"
   },
   {
    "duration": 9,
    "start_time": "2022-08-07T18:48:05.677Z"
   },
   {
    "duration": 33,
    "start_time": "2022-08-07T18:49:35.884Z"
   },
   {
    "duration": 33,
    "start_time": "2022-08-07T18:50:32.189Z"
   },
   {
    "duration": 248,
    "start_time": "2022-08-07T18:53:09.346Z"
   },
   {
    "duration": 223,
    "start_time": "2022-08-07T18:55:05.226Z"
   },
   {
    "duration": 38,
    "start_time": "2022-08-07T18:55:22.490Z"
   },
   {
    "duration": 30,
    "start_time": "2022-08-07T18:55:30.213Z"
   },
   {
    "duration": 39,
    "start_time": "2022-08-07T18:55:56.594Z"
   },
   {
    "duration": 305,
    "start_time": "2022-08-07T18:56:47.935Z"
   },
   {
    "duration": 10,
    "start_time": "2022-08-07T18:56:49.456Z"
   },
   {
    "duration": 28,
    "start_time": "2022-08-07T18:57:13.961Z"
   },
   {
    "duration": 41,
    "start_time": "2022-08-07T18:57:18.593Z"
   },
   {
    "duration": 33,
    "start_time": "2022-08-07T18:58:30.793Z"
   },
   {
    "duration": 31,
    "start_time": "2022-08-07T18:58:39.938Z"
   },
   {
    "duration": 42,
    "start_time": "2022-08-07T18:59:23.097Z"
   },
   {
    "duration": 38,
    "start_time": "2022-08-07T19:00:23.025Z"
   },
   {
    "duration": 11,
    "start_time": "2022-08-07T19:01:30.841Z"
   },
   {
    "duration": 17,
    "start_time": "2022-08-07T19:02:11.239Z"
   },
   {
    "duration": 13,
    "start_time": "2022-08-07T19:02:33.833Z"
   },
   {
    "duration": 5,
    "start_time": "2022-08-07T19:02:40.379Z"
   },
   {
    "duration": 8,
    "start_time": "2022-08-07T19:02:41.344Z"
   },
   {
    "duration": 15,
    "start_time": "2022-08-07T19:02:55.390Z"
   },
   {
    "duration": 16,
    "start_time": "2022-08-07T19:03:16.823Z"
   },
   {
    "duration": 38,
    "start_time": "2022-08-07T19:05:53.912Z"
   },
   {
    "duration": 9,
    "start_time": "2022-08-07T19:05:55.169Z"
   },
   {
    "duration": 10,
    "start_time": "2022-08-07T19:06:09.827Z"
   },
   {
    "duration": 13,
    "start_time": "2022-08-07T19:06:16.107Z"
   },
   {
    "duration": 18,
    "start_time": "2022-08-07T19:06:19.656Z"
   },
   {
    "duration": 20,
    "start_time": "2022-08-07T19:06:22.730Z"
   },
   {
    "duration": 12,
    "start_time": "2022-08-07T19:06:26.277Z"
   },
   {
    "duration": 25,
    "start_time": "2022-08-07T19:07:14.060Z"
   },
   {
    "duration": 54,
    "start_time": "2022-08-07T19:08:48.000Z"
   },
   {
    "duration": 212,
    "start_time": "2022-08-07T19:09:32.440Z"
   },
   {
    "duration": 234,
    "start_time": "2022-08-07T19:10:26.129Z"
   },
   {
    "duration": 31,
    "start_time": "2022-08-07T19:10:32.260Z"
   },
   {
    "duration": 32,
    "start_time": "2022-08-07T19:10:56.177Z"
   },
   {
    "duration": 4,
    "start_time": "2022-08-07T19:11:55.525Z"
   },
   {
    "duration": 1277,
    "start_time": "2022-08-07T19:11:55.532Z"
   },
   {
    "duration": 4,
    "start_time": "2022-08-07T19:11:56.810Z"
   },
   {
    "duration": 72,
    "start_time": "2022-08-07T19:11:56.816Z"
   },
   {
    "duration": 2587,
    "start_time": "2022-08-07T19:11:56.891Z"
   },
   {
    "duration": 17,
    "start_time": "2022-08-07T19:11:59.480Z"
   },
   {
    "duration": 9,
    "start_time": "2022-08-07T19:11:59.499Z"
   },
   {
    "duration": 16,
    "start_time": "2022-08-07T19:11:59.511Z"
   },
   {
    "duration": 7,
    "start_time": "2022-08-07T19:11:59.528Z"
   },
   {
    "duration": 5,
    "start_time": "2022-08-07T19:11:59.537Z"
   },
   {
    "duration": 7,
    "start_time": "2022-08-07T19:11:59.543Z"
   },
   {
    "duration": 65,
    "start_time": "2022-08-07T19:11:59.551Z"
   },
   {
    "duration": 174,
    "start_time": "2022-08-07T19:11:59.618Z"
   },
   {
    "duration": 35,
    "start_time": "2022-08-07T19:11:59.795Z"
   },
   {
    "duration": 26,
    "start_time": "2022-08-07T19:11:59.832Z"
   },
   {
    "duration": 25,
    "start_time": "2022-08-07T19:11:59.859Z"
   },
   {
    "duration": 41,
    "start_time": "2022-08-07T19:11:59.886Z"
   },
   {
    "duration": 4,
    "start_time": "2022-08-07T19:11:59.928Z"
   },
   {
    "duration": 29,
    "start_time": "2022-08-07T19:11:59.934Z"
   },
   {
    "duration": 215,
    "start_time": "2022-08-07T19:11:59.965Z"
   },
   {
    "duration": 135,
    "start_time": "2022-08-07T19:12:00.182Z"
   },
   {
    "duration": 243,
    "start_time": "2022-08-07T19:12:00.319Z"
   },
   {
    "duration": 432,
    "start_time": "2022-08-07T19:12:00.564Z"
   },
   {
    "duration": 46,
    "start_time": "2022-08-07T19:12:00.998Z"
   },
   {
    "duration": 68,
    "start_time": "2022-08-07T19:12:01.045Z"
   },
   {
    "duration": 6,
    "start_time": "2022-08-07T19:12:01.115Z"
   },
   {
    "duration": 8265,
    "start_time": "2022-08-07T19:12:01.123Z"
   },
   {
    "duration": 4,
    "start_time": "2022-08-07T19:12:09.389Z"
   },
   {
    "duration": 22,
    "start_time": "2022-08-07T19:12:09.395Z"
   },
   {
    "duration": 205,
    "start_time": "2022-08-07T19:12:09.419Z"
   },
   {
    "duration": 172,
    "start_time": "2022-08-07T19:12:09.626Z"
   },
   {
    "duration": 251,
    "start_time": "2022-08-07T19:12:09.799Z"
   },
   {
    "duration": 134,
    "start_time": "2022-08-07T19:12:10.052Z"
   },
   {
    "duration": 309,
    "start_time": "2022-08-07T19:12:10.187Z"
   },
   {
    "duration": 36,
    "start_time": "2022-08-07T19:12:10.497Z"
   },
   {
    "duration": 57,
    "start_time": "2022-08-07T19:12:10.535Z"
   },
   {
    "duration": 35,
    "start_time": "2022-08-07T19:12:10.593Z"
   },
   {
    "duration": 11,
    "start_time": "2022-08-07T19:12:10.630Z"
   },
   {
    "duration": 16,
    "start_time": "2022-08-07T19:12:10.643Z"
   },
   {
    "duration": 20,
    "start_time": "2022-08-07T19:12:10.661Z"
   },
   {
    "duration": 309,
    "start_time": "2022-08-07T19:12:10.711Z"
   },
   {
    "duration": 29,
    "start_time": "2022-08-07T19:12:11.022Z"
   },
   {
    "duration": 195,
    "start_time": "2022-08-07T19:12:11.052Z"
   },
   {
    "duration": 0,
    "start_time": "2022-08-07T19:12:11.249Z"
   },
   {
    "duration": 0,
    "start_time": "2022-08-07T19:12:11.250Z"
   },
   {
    "duration": 0,
    "start_time": "2022-08-07T19:12:11.252Z"
   },
   {
    "duration": 0,
    "start_time": "2022-08-07T19:12:11.253Z"
   },
   {
    "duration": 0,
    "start_time": "2022-08-07T19:12:11.254Z"
   },
   {
    "duration": 0,
    "start_time": "2022-08-07T19:12:11.256Z"
   },
   {
    "duration": 0,
    "start_time": "2022-08-07T19:12:11.257Z"
   },
   {
    "duration": 0,
    "start_time": "2022-08-07T19:12:11.259Z"
   },
   {
    "duration": 0,
    "start_time": "2022-08-07T19:12:11.260Z"
   },
   {
    "duration": 0,
    "start_time": "2022-08-07T19:12:11.262Z"
   },
   {
    "duration": 0,
    "start_time": "2022-08-07T19:12:11.264Z"
   },
   {
    "duration": 0,
    "start_time": "2022-08-07T19:12:11.265Z"
   },
   {
    "duration": 43,
    "start_time": "2022-08-07T19:12:19.566Z"
   },
   {
    "duration": 29,
    "start_time": "2022-08-07T19:12:23.596Z"
   },
   {
    "duration": 54,
    "start_time": "2022-08-07T19:13:42.553Z"
   },
   {
    "duration": 6,
    "start_time": "2022-08-07T19:13:52.699Z"
   },
   {
    "duration": 1193,
    "start_time": "2022-08-07T19:13:52.708Z"
   },
   {
    "duration": 4,
    "start_time": "2022-08-07T19:13:53.903Z"
   },
   {
    "duration": 78,
    "start_time": "2022-08-07T19:13:53.911Z"
   },
   {
    "duration": 1894,
    "start_time": "2022-08-07T19:13:53.991Z"
   },
   {
    "duration": 13,
    "start_time": "2022-08-07T19:13:55.887Z"
   },
   {
    "duration": 15,
    "start_time": "2022-08-07T19:13:55.901Z"
   },
   {
    "duration": 13,
    "start_time": "2022-08-07T19:13:55.918Z"
   },
   {
    "duration": 7,
    "start_time": "2022-08-07T19:13:55.933Z"
   },
   {
    "duration": 6,
    "start_time": "2022-08-07T19:13:55.942Z"
   },
   {
    "duration": 7,
    "start_time": "2022-08-07T19:13:55.950Z"
   },
   {
    "duration": 61,
    "start_time": "2022-08-07T19:13:55.959Z"
   },
   {
    "duration": 173,
    "start_time": "2022-08-07T19:13:56.022Z"
   },
   {
    "duration": 34,
    "start_time": "2022-08-07T19:13:56.198Z"
   },
   {
    "duration": 26,
    "start_time": "2022-08-07T19:13:56.234Z"
   },
   {
    "duration": 31,
    "start_time": "2022-08-07T19:13:56.261Z"
   },
   {
    "duration": 27,
    "start_time": "2022-08-07T19:13:56.310Z"
   },
   {
    "duration": 3,
    "start_time": "2022-08-07T19:13:56.339Z"
   },
   {
    "duration": 27,
    "start_time": "2022-08-07T19:13:56.343Z"
   },
   {
    "duration": 204,
    "start_time": "2022-08-07T19:13:56.372Z"
   },
   {
    "duration": 134,
    "start_time": "2022-08-07T19:13:56.578Z"
   },
   {
    "duration": 244,
    "start_time": "2022-08-07T19:13:56.714Z"
   },
   {
    "duration": 419,
    "start_time": "2022-08-07T19:13:56.959Z"
   },
   {
    "duration": 35,
    "start_time": "2022-08-07T19:13:57.380Z"
   },
   {
    "duration": 16,
    "start_time": "2022-08-07T19:13:57.417Z"
   },
   {
    "duration": 4,
    "start_time": "2022-08-07T19:13:57.434Z"
   },
   {
    "duration": 8400,
    "start_time": "2022-08-07T19:13:57.440Z"
   },
   {
    "duration": 5,
    "start_time": "2022-08-07T19:14:05.841Z"
   },
   {
    "duration": 16,
    "start_time": "2022-08-07T19:14:05.847Z"
   },
   {
    "duration": 205,
    "start_time": "2022-08-07T19:14:05.865Z"
   },
   {
    "duration": 179,
    "start_time": "2022-08-07T19:14:06.072Z"
   },
   {
    "duration": 280,
    "start_time": "2022-08-07T19:14:06.254Z"
   },
   {
    "duration": 150,
    "start_time": "2022-08-07T19:14:06.535Z"
   },
   {
    "duration": 292,
    "start_time": "2022-08-07T19:14:06.687Z"
   },
   {
    "duration": 41,
    "start_time": "2022-08-07T19:14:06.981Z"
   },
   {
    "duration": 100,
    "start_time": "2022-08-07T19:14:07.023Z"
   },
   {
    "duration": 20,
    "start_time": "2022-08-07T19:14:07.125Z"
   },
   {
    "duration": 111,
    "start_time": "2022-08-07T19:14:07.146Z"
   },
   {
    "duration": 52,
    "start_time": "2022-08-07T19:14:07.259Z"
   },
   {
    "duration": 20,
    "start_time": "2022-08-07T19:14:07.313Z"
   },
   {
    "duration": 812,
    "start_time": "2022-08-07T19:14:07.337Z"
   },
   {
    "duration": 107,
    "start_time": "2022-08-07T19:14:08.151Z"
   },
   {
    "duration": 44,
    "start_time": "2022-08-07T19:14:08.311Z"
   },
   {
    "duration": 465,
    "start_time": "2022-08-07T19:14:08.357Z"
   },
   {
    "duration": 0,
    "start_time": "2022-08-07T19:14:08.823Z"
   },
   {
    "duration": 0,
    "start_time": "2022-08-07T19:14:08.824Z"
   },
   {
    "duration": 0,
    "start_time": "2022-08-07T19:14:08.825Z"
   },
   {
    "duration": 0,
    "start_time": "2022-08-07T19:14:08.826Z"
   },
   {
    "duration": 0,
    "start_time": "2022-08-07T19:14:08.827Z"
   },
   {
    "duration": 0,
    "start_time": "2022-08-07T19:14:08.828Z"
   },
   {
    "duration": 0,
    "start_time": "2022-08-07T19:14:08.829Z"
   },
   {
    "duration": 0,
    "start_time": "2022-08-07T19:14:08.831Z"
   },
   {
    "duration": 0,
    "start_time": "2022-08-07T19:14:08.831Z"
   },
   {
    "duration": 0,
    "start_time": "2022-08-07T19:14:08.832Z"
   },
   {
    "duration": 0,
    "start_time": "2022-08-07T19:14:08.833Z"
   },
   {
    "duration": 30,
    "start_time": "2022-08-07T19:14:40.343Z"
   },
   {
    "duration": 34,
    "start_time": "2022-08-07T19:17:35.434Z"
   },
   {
    "duration": 21,
    "start_time": "2022-08-07T19:17:41.579Z"
   },
   {
    "duration": 33,
    "start_time": "2022-08-07T19:17:52.660Z"
   },
   {
    "duration": 32,
    "start_time": "2022-08-07T19:17:53.947Z"
   },
   {
    "duration": 32,
    "start_time": "2022-08-07T19:17:54.363Z"
   },
   {
    "duration": 32,
    "start_time": "2022-08-07T19:17:54.555Z"
   },
   {
    "duration": 14,
    "start_time": "2022-08-07T19:18:27.801Z"
   },
   {
    "duration": 43,
    "start_time": "2022-08-07T19:19:21.392Z"
   },
   {
    "duration": 41,
    "start_time": "2022-08-07T19:19:56.960Z"
   },
   {
    "duration": 4,
    "start_time": "2022-08-07T19:20:42.053Z"
   },
   {
    "duration": 1251,
    "start_time": "2022-08-07T19:20:42.062Z"
   },
   {
    "duration": 4,
    "start_time": "2022-08-07T19:20:43.315Z"
   },
   {
    "duration": 86,
    "start_time": "2022-08-07T19:20:43.321Z"
   },
   {
    "duration": 2834,
    "start_time": "2022-08-07T19:20:43.408Z"
   },
   {
    "duration": 12,
    "start_time": "2022-08-07T19:20:46.244Z"
   },
   {
    "duration": 13,
    "start_time": "2022-08-07T19:20:46.257Z"
   },
   {
    "duration": 15,
    "start_time": "2022-08-07T19:20:46.272Z"
   },
   {
    "duration": 23,
    "start_time": "2022-08-07T19:20:46.289Z"
   },
   {
    "duration": 5,
    "start_time": "2022-08-07T19:20:46.313Z"
   },
   {
    "duration": 7,
    "start_time": "2022-08-07T19:20:46.319Z"
   },
   {
    "duration": 30,
    "start_time": "2022-08-07T19:20:46.328Z"
   },
   {
    "duration": 176,
    "start_time": "2022-08-07T19:20:46.360Z"
   },
   {
    "duration": 38,
    "start_time": "2022-08-07T19:20:46.537Z"
   },
   {
    "duration": 46,
    "start_time": "2022-08-07T19:20:46.579Z"
   },
   {
    "duration": 30,
    "start_time": "2022-08-07T19:20:46.627Z"
   },
   {
    "duration": 20,
    "start_time": "2022-08-07T19:20:46.659Z"
   },
   {
    "duration": 40,
    "start_time": "2022-08-07T19:20:46.681Z"
   },
   {
    "duration": 20,
    "start_time": "2022-08-07T19:20:46.723Z"
   },
   {
    "duration": 208,
    "start_time": "2022-08-07T19:20:46.744Z"
   },
   {
    "duration": 141,
    "start_time": "2022-08-07T19:20:46.953Z"
   },
   {
    "duration": 235,
    "start_time": "2022-08-07T19:20:47.096Z"
   },
   {
    "duration": 433,
    "start_time": "2022-08-07T19:20:47.333Z"
   },
   {
    "duration": 57,
    "start_time": "2022-08-07T19:20:47.767Z"
   },
   {
    "duration": 17,
    "start_time": "2022-08-07T19:20:47.825Z"
   },
   {
    "duration": 5,
    "start_time": "2022-08-07T19:20:47.844Z"
   },
   {
    "duration": 9101,
    "start_time": "2022-08-07T19:20:47.851Z"
   },
   {
    "duration": 5,
    "start_time": "2022-08-07T19:20:56.953Z"
   },
   {
    "duration": 15,
    "start_time": "2022-08-07T19:20:56.960Z"
   },
   {
    "duration": 195,
    "start_time": "2022-08-07T19:20:56.976Z"
   },
   {
    "duration": 162,
    "start_time": "2022-08-07T19:20:57.173Z"
   },
   {
    "duration": 266,
    "start_time": "2022-08-07T19:20:57.337Z"
   },
   {
    "duration": 133,
    "start_time": "2022-08-07T19:20:57.604Z"
   },
   {
    "duration": 288,
    "start_time": "2022-08-07T19:20:57.739Z"
   },
   {
    "duration": 33,
    "start_time": "2022-08-07T19:20:58.029Z"
   },
   {
    "duration": 76,
    "start_time": "2022-08-07T19:20:58.063Z"
   },
   {
    "duration": 22,
    "start_time": "2022-08-07T19:20:58.140Z"
   },
   {
    "duration": 20,
    "start_time": "2022-08-07T19:20:58.163Z"
   },
   {
    "duration": 30,
    "start_time": "2022-08-07T19:20:58.185Z"
   },
   {
    "duration": 22,
    "start_time": "2022-08-07T19:20:58.217Z"
   },
   {
    "duration": 330,
    "start_time": "2022-08-07T19:20:58.240Z"
   },
   {
    "duration": 194,
    "start_time": "2022-08-07T19:20:58.575Z"
   },
   {
    "duration": 0,
    "start_time": "2022-08-07T19:20:58.771Z"
   },
   {
    "duration": 0,
    "start_time": "2022-08-07T19:20:58.772Z"
   },
   {
    "duration": 0,
    "start_time": "2022-08-07T19:20:58.774Z"
   },
   {
    "duration": 0,
    "start_time": "2022-08-07T19:20:58.775Z"
   },
   {
    "duration": 0,
    "start_time": "2022-08-07T19:20:58.776Z"
   },
   {
    "duration": 0,
    "start_time": "2022-08-07T19:20:58.777Z"
   },
   {
    "duration": 0,
    "start_time": "2022-08-07T19:20:58.778Z"
   },
   {
    "duration": 0,
    "start_time": "2022-08-07T19:20:58.779Z"
   },
   {
    "duration": 0,
    "start_time": "2022-08-07T19:20:58.780Z"
   },
   {
    "duration": 0,
    "start_time": "2022-08-07T19:20:58.781Z"
   },
   {
    "duration": 0,
    "start_time": "2022-08-07T19:20:58.811Z"
   },
   {
    "duration": 0,
    "start_time": "2022-08-07T19:20:58.812Z"
   },
   {
    "duration": 0,
    "start_time": "2022-08-07T19:20:58.813Z"
   },
   {
    "duration": 26,
    "start_time": "2022-08-07T19:22:01.458Z"
   },
   {
    "duration": 12,
    "start_time": "2022-08-07T19:22:26.931Z"
   },
   {
    "duration": 12,
    "start_time": "2022-08-07T19:22:38.987Z"
   },
   {
    "duration": 21,
    "start_time": "2022-08-07T19:23:34.654Z"
   },
   {
    "duration": 12,
    "start_time": "2022-08-07T19:24:03.267Z"
   },
   {
    "duration": 14,
    "start_time": "2022-08-07T19:24:19.366Z"
   },
   {
    "duration": 8,
    "start_time": "2022-08-07T19:24:26.731Z"
   },
   {
    "duration": 18,
    "start_time": "2022-08-07T19:24:33.674Z"
   },
   {
    "duration": 61,
    "start_time": "2022-08-07T19:24:43.850Z"
   },
   {
    "duration": 9,
    "start_time": "2022-08-07T19:24:47.543Z"
   },
   {
    "duration": 15,
    "start_time": "2022-08-07T19:24:59.351Z"
   },
   {
    "duration": 14,
    "start_time": "2022-08-07T19:27:25.729Z"
   },
   {
    "duration": 15,
    "start_time": "2022-08-07T19:29:25.147Z"
   },
   {
    "duration": 14,
    "start_time": "2022-08-07T19:29:25.351Z"
   },
   {
    "duration": 31,
    "start_time": "2022-08-07T19:29:30.549Z"
   },
   {
    "duration": 20,
    "start_time": "2022-08-07T19:29:50.876Z"
   },
   {
    "duration": 14,
    "start_time": "2022-08-07T19:30:12.375Z"
   },
   {
    "duration": 13,
    "start_time": "2022-08-07T19:30:35.504Z"
   },
   {
    "duration": 14,
    "start_time": "2022-08-07T19:30:39.521Z"
   },
   {
    "duration": 853,
    "start_time": "2022-08-07T19:30:48.963Z"
   },
   {
    "duration": 3,
    "start_time": "2022-08-07T19:30:59.596Z"
   },
   {
    "duration": 1223,
    "start_time": "2022-08-07T19:30:59.604Z"
   },
   {
    "duration": 5,
    "start_time": "2022-08-07T19:31:00.830Z"
   },
   {
    "duration": 90,
    "start_time": "2022-08-07T19:31:00.837Z"
   },
   {
    "duration": 1990,
    "start_time": "2022-08-07T19:31:00.928Z"
   },
   {
    "duration": 11,
    "start_time": "2022-08-07T19:31:02.920Z"
   },
   {
    "duration": 21,
    "start_time": "2022-08-07T19:31:02.933Z"
   },
   {
    "duration": 30,
    "start_time": "2022-08-07T19:31:02.955Z"
   },
   {
    "duration": 29,
    "start_time": "2022-08-07T19:31:02.987Z"
   },
   {
    "duration": 18,
    "start_time": "2022-08-07T19:31:03.018Z"
   },
   {
    "duration": 26,
    "start_time": "2022-08-07T19:31:03.038Z"
   },
   {
    "duration": 38,
    "start_time": "2022-08-07T19:31:03.066Z"
   },
   {
    "duration": 142,
    "start_time": "2022-08-07T19:31:03.106Z"
   },
   {
    "duration": 26,
    "start_time": "2022-08-07T19:31:03.250Z"
   },
   {
    "duration": 26,
    "start_time": "2022-08-07T19:31:03.312Z"
   },
   {
    "duration": 82,
    "start_time": "2022-08-07T19:31:03.340Z"
   },
   {
    "duration": 27,
    "start_time": "2022-08-07T19:31:03.424Z"
   },
   {
    "duration": 69,
    "start_time": "2022-08-07T19:31:03.453Z"
   },
   {
    "duration": 49,
    "start_time": "2022-08-07T19:31:03.523Z"
   },
   {
    "duration": 62,
    "start_time": "2022-08-07T19:31:03.573Z"
   },
   {
    "duration": 21,
    "start_time": "2022-08-07T19:31:03.636Z"
   },
   {
    "duration": 399,
    "start_time": "2022-08-07T19:31:03.659Z"
   },
   {
    "duration": 234,
    "start_time": "2022-08-07T19:31:04.111Z"
   },
   {
    "duration": 499,
    "start_time": "2022-08-07T19:31:04.347Z"
   },
   {
    "duration": 502,
    "start_time": "2022-08-07T19:31:04.848Z"
   },
   {
    "duration": 32,
    "start_time": "2022-08-07T19:31:05.352Z"
   },
   {
    "duration": 39,
    "start_time": "2022-08-07T19:31:05.385Z"
   },
   {
    "duration": 4,
    "start_time": "2022-08-07T19:31:05.425Z"
   },
   {
    "duration": 8370,
    "start_time": "2022-08-07T19:31:05.431Z"
   },
   {
    "duration": 9,
    "start_time": "2022-08-07T19:31:13.802Z"
   },
   {
    "duration": 13,
    "start_time": "2022-08-07T19:31:13.812Z"
   },
   {
    "duration": 175,
    "start_time": "2022-08-07T19:31:13.826Z"
   },
   {
    "duration": 169,
    "start_time": "2022-08-07T19:31:14.003Z"
   },
   {
    "duration": 260,
    "start_time": "2022-08-07T19:31:14.174Z"
   },
   {
    "duration": 139,
    "start_time": "2022-08-07T19:31:14.436Z"
   },
   {
    "duration": 331,
    "start_time": "2022-08-07T19:31:14.576Z"
   },
   {
    "duration": 27,
    "start_time": "2022-08-07T19:31:14.909Z"
   },
   {
    "duration": 55,
    "start_time": "2022-08-07T19:31:14.937Z"
   },
   {
    "duration": 34,
    "start_time": "2022-08-07T19:31:14.993Z"
   },
   {
    "duration": 15,
    "start_time": "2022-08-07T19:31:15.029Z"
   },
   {
    "duration": 16,
    "start_time": "2022-08-07T19:31:15.045Z"
   },
   {
    "duration": 20,
    "start_time": "2022-08-07T19:31:15.065Z"
   },
   {
    "duration": 333,
    "start_time": "2022-08-07T19:31:15.087Z"
   },
   {
    "duration": 33,
    "start_time": "2022-08-07T19:31:15.422Z"
   },
   {
    "duration": 23,
    "start_time": "2022-08-07T19:31:15.457Z"
   },
   {
    "duration": 59,
    "start_time": "2022-08-07T19:31:15.482Z"
   },
   {
    "duration": 174,
    "start_time": "2022-08-07T19:31:15.543Z"
   },
   {
    "duration": 0,
    "start_time": "2022-08-07T19:31:15.719Z"
   },
   {
    "duration": 0,
    "start_time": "2022-08-07T19:31:15.720Z"
   },
   {
    "duration": 1,
    "start_time": "2022-08-07T19:31:15.720Z"
   },
   {
    "duration": 0,
    "start_time": "2022-08-07T19:31:15.722Z"
   },
   {
    "duration": 0,
    "start_time": "2022-08-07T19:31:15.723Z"
   },
   {
    "duration": 0,
    "start_time": "2022-08-07T19:31:15.724Z"
   },
   {
    "duration": 0,
    "start_time": "2022-08-07T19:31:15.725Z"
   },
   {
    "duration": 0,
    "start_time": "2022-08-07T19:31:15.726Z"
   },
   {
    "duration": 0,
    "start_time": "2022-08-07T19:31:15.727Z"
   },
   {
    "duration": 0,
    "start_time": "2022-08-07T19:31:15.728Z"
   },
   {
    "duration": 0,
    "start_time": "2022-08-07T19:31:15.729Z"
   },
   {
    "duration": 21,
    "start_time": "2022-08-07T19:31:53.870Z"
   },
   {
    "duration": 15,
    "start_time": "2022-08-07T19:32:45.312Z"
   },
   {
    "duration": 23,
    "start_time": "2022-08-07T19:32:49.016Z"
   },
   {
    "duration": 24,
    "start_time": "2022-08-07T19:33:03.593Z"
   },
   {
    "duration": 17,
    "start_time": "2022-08-07T19:33:14.314Z"
   },
   {
    "duration": 15,
    "start_time": "2022-08-07T19:33:53.361Z"
   },
   {
    "duration": 45,
    "start_time": "2022-08-07T19:34:21.754Z"
   },
   {
    "duration": 31,
    "start_time": "2022-08-07T19:35:15.205Z"
   },
   {
    "duration": 35,
    "start_time": "2022-08-07T19:35:46.812Z"
   },
   {
    "duration": 868,
    "start_time": "2022-08-07T19:36:24.480Z"
   },
   {
    "duration": 4,
    "start_time": "2022-08-07T19:36:25.350Z"
   },
   {
    "duration": 21,
    "start_time": "2022-08-07T19:36:25.492Z"
   },
   {
    "duration": 764,
    "start_time": "2022-08-07T19:36:26.629Z"
   },
   {
    "duration": 826,
    "start_time": "2022-08-07T19:36:58.806Z"
   },
   {
    "duration": 19,
    "start_time": "2022-08-07T19:37:57.017Z"
   },
   {
    "duration": 27,
    "start_time": "2022-08-07T19:38:16.975Z"
   },
   {
    "duration": 16,
    "start_time": "2022-08-07T19:38:40.325Z"
   },
   {
    "duration": 14,
    "start_time": "2022-08-07T19:39:06.030Z"
   },
   {
    "duration": 3410,
    "start_time": "2022-08-07T19:39:18.256Z"
   },
   {
    "duration": 13,
    "start_time": "2022-08-07T19:39:47.563Z"
   },
   {
    "duration": 6,
    "start_time": "2022-08-07T19:39:50.770Z"
   },
   {
    "duration": 14,
    "start_time": "2022-08-07T19:39:56.997Z"
   },
   {
    "duration": 7,
    "start_time": "2022-08-07T19:40:21.042Z"
   },
   {
    "duration": 9,
    "start_time": "2022-08-07T19:40:25.516Z"
   },
   {
    "duration": 20,
    "start_time": "2022-08-07T19:41:52.689Z"
   },
   {
    "duration": 19,
    "start_time": "2022-08-07T19:42:17.102Z"
   },
   {
    "duration": 17,
    "start_time": "2022-08-07T19:42:25.482Z"
   },
   {
    "duration": 35,
    "start_time": "2022-08-07T19:43:42.759Z"
   },
   {
    "duration": 23,
    "start_time": "2022-08-07T19:43:43.914Z"
   },
   {
    "duration": 29,
    "start_time": "2022-08-07T19:43:55.411Z"
   },
   {
    "duration": 24,
    "start_time": "2022-08-07T19:44:00.510Z"
   },
   {
    "duration": 22,
    "start_time": "2022-08-07T19:44:46.304Z"
   },
   {
    "duration": 28,
    "start_time": "2022-08-07T19:44:52.488Z"
   },
   {
    "duration": 29,
    "start_time": "2022-08-07T19:44:58.053Z"
   },
   {
    "duration": 34,
    "start_time": "2022-08-07T19:45:02.637Z"
   },
   {
    "duration": 27,
    "start_time": "2022-08-07T19:45:11.071Z"
   },
   {
    "duration": 23,
    "start_time": "2022-08-07T19:45:14.586Z"
   },
   {
    "duration": 22,
    "start_time": "2022-08-07T19:45:24.146Z"
   },
   {
    "duration": 28,
    "start_time": "2022-08-07T19:45:37.468Z"
   },
   {
    "duration": 30,
    "start_time": "2022-08-07T19:45:42.612Z"
   },
   {
    "duration": 22,
    "start_time": "2022-08-07T19:46:03.078Z"
   },
   {
    "duration": 63,
    "start_time": "2022-08-07T19:46:09.085Z"
   },
   {
    "duration": 32,
    "start_time": "2022-08-07T19:46:12.110Z"
   },
   {
    "duration": 24,
    "start_time": "2022-08-07T19:46:20.802Z"
   },
   {
    "duration": 17,
    "start_time": "2022-08-07T19:46:41.318Z"
   },
   {
    "duration": 14,
    "start_time": "2022-08-07T19:46:42.335Z"
   },
   {
    "duration": 28,
    "start_time": "2022-08-07T19:46:48.073Z"
   },
   {
    "duration": 22,
    "start_time": "2022-08-07T19:46:49.752Z"
   },
   {
    "duration": 12,
    "start_time": "2022-08-07T19:47:29.509Z"
   },
   {
    "duration": 3,
    "start_time": "2022-08-08T17:37:31.146Z"
   },
   {
    "duration": 1445,
    "start_time": "2022-08-08T17:37:31.151Z"
   },
   {
    "duration": 5,
    "start_time": "2022-08-08T17:37:32.598Z"
   },
   {
    "duration": 236,
    "start_time": "2022-08-08T17:37:32.605Z"
   },
   {
    "duration": 2932,
    "start_time": "2022-08-08T17:37:32.843Z"
   },
   {
    "duration": 12,
    "start_time": "2022-08-08T17:37:35.777Z"
   },
   {
    "duration": 10,
    "start_time": "2022-08-08T17:37:35.790Z"
   },
   {
    "duration": 18,
    "start_time": "2022-08-08T17:37:35.801Z"
   },
   {
    "duration": 7,
    "start_time": "2022-08-08T17:37:35.820Z"
   },
   {
    "duration": 4,
    "start_time": "2022-08-08T17:37:35.829Z"
   },
   {
    "duration": 5,
    "start_time": "2022-08-08T17:37:35.856Z"
   },
   {
    "duration": 33,
    "start_time": "2022-08-08T17:37:35.862Z"
   },
   {
    "duration": 166,
    "start_time": "2022-08-08T17:37:35.896Z"
   },
   {
    "duration": 27,
    "start_time": "2022-08-08T17:37:36.065Z"
   },
   {
    "duration": 23,
    "start_time": "2022-08-08T17:37:36.093Z"
   },
   {
    "duration": 44,
    "start_time": "2022-08-08T17:37:36.118Z"
   },
   {
    "duration": 19,
    "start_time": "2022-08-08T17:37:36.164Z"
   },
   {
    "duration": 16,
    "start_time": "2022-08-08T17:37:36.186Z"
   },
   {
    "duration": 23,
    "start_time": "2022-08-08T17:37:36.204Z"
   },
   {
    "duration": 32,
    "start_time": "2022-08-08T17:37:36.228Z"
   },
   {
    "duration": 16,
    "start_time": "2022-08-08T17:37:36.261Z"
   },
   {
    "duration": 222,
    "start_time": "2022-08-08T17:37:36.279Z"
   },
   {
    "duration": 139,
    "start_time": "2022-08-08T17:37:36.503Z"
   },
   {
    "duration": 251,
    "start_time": "2022-08-08T17:37:36.644Z"
   },
   {
    "duration": 497,
    "start_time": "2022-08-08T17:37:36.897Z"
   },
   {
    "duration": 33,
    "start_time": "2022-08-08T17:37:37.396Z"
   },
   {
    "duration": 39,
    "start_time": "2022-08-08T17:37:37.430Z"
   },
   {
    "duration": 4,
    "start_time": "2022-08-08T17:37:37.471Z"
   },
   {
    "duration": 10606,
    "start_time": "2022-08-08T17:37:37.477Z"
   },
   {
    "duration": 4,
    "start_time": "2022-08-08T17:37:48.085Z"
   },
   {
    "duration": 14,
    "start_time": "2022-08-08T17:37:48.091Z"
   },
   {
    "duration": 197,
    "start_time": "2022-08-08T17:37:48.107Z"
   },
   {
    "duration": 187,
    "start_time": "2022-08-08T17:37:48.305Z"
   },
   {
    "duration": 313,
    "start_time": "2022-08-08T17:37:48.494Z"
   },
   {
    "duration": 145,
    "start_time": "2022-08-08T17:37:48.808Z"
   },
   {
    "duration": 306,
    "start_time": "2022-08-08T17:37:48.957Z"
   },
   {
    "duration": 32,
    "start_time": "2022-08-08T17:37:49.265Z"
   },
   {
    "duration": 77,
    "start_time": "2022-08-08T17:37:49.298Z"
   },
   {
    "duration": 21,
    "start_time": "2022-08-08T17:37:49.377Z"
   },
   {
    "duration": 17,
    "start_time": "2022-08-08T17:37:49.400Z"
   },
   {
    "duration": 15,
    "start_time": "2022-08-08T17:37:49.421Z"
   },
   {
    "duration": 37,
    "start_time": "2022-08-08T17:37:49.438Z"
   },
   {
    "duration": 345,
    "start_time": "2022-08-08T17:37:49.476Z"
   },
   {
    "duration": 43,
    "start_time": "2022-08-08T17:37:49.823Z"
   },
   {
    "duration": 756,
    "start_time": "2022-08-08T17:37:49.868Z"
   },
   {
    "duration": 4,
    "start_time": "2022-08-08T17:37:50.625Z"
   },
   {
    "duration": 22,
    "start_time": "2022-08-08T17:37:50.630Z"
   },
   {
    "duration": 5183,
    "start_time": "2022-08-08T17:37:50.654Z"
   },
   {
    "duration": 33,
    "start_time": "2022-08-08T17:37:55.840Z"
   },
   {
    "duration": 11,
    "start_time": "2022-08-08T17:37:55.874Z"
   },
   {
    "duration": 32,
    "start_time": "2022-08-08T18:21:43.681Z"
   },
   {
    "duration": 4,
    "start_time": "2022-08-08T18:21:44.562Z"
   },
   {
    "duration": 3,
    "start_time": "2022-08-08T18:21:51.215Z"
   },
   {
    "duration": 4,
    "start_time": "2022-08-08T18:27:59.484Z"
   },
   {
    "duration": 3,
    "start_time": "2022-08-08T18:28:03.988Z"
   },
   {
    "duration": 30,
    "start_time": "2022-08-08T18:28:03.993Z"
   },
   {
    "duration": 45,
    "start_time": "2022-08-08T18:28:04.025Z"
   },
   {
    "duration": 70,
    "start_time": "2022-08-08T18:28:04.073Z"
   },
   {
    "duration": 3082,
    "start_time": "2022-08-08T18:28:04.145Z"
   },
   {
    "duration": 9,
    "start_time": "2022-08-08T18:28:07.229Z"
   },
   {
    "duration": 12,
    "start_time": "2022-08-08T18:28:07.239Z"
   },
   {
    "duration": 31,
    "start_time": "2022-08-08T18:28:07.268Z"
   },
   {
    "duration": 8,
    "start_time": "2022-08-08T18:28:07.302Z"
   },
   {
    "duration": 4,
    "start_time": "2022-08-08T18:28:07.312Z"
   },
   {
    "duration": 6,
    "start_time": "2022-08-08T18:28:07.317Z"
   },
   {
    "duration": 31,
    "start_time": "2022-08-08T18:28:07.325Z"
   },
   {
    "duration": 157,
    "start_time": "2022-08-08T18:28:07.358Z"
   },
   {
    "duration": 25,
    "start_time": "2022-08-08T18:28:07.517Z"
   },
   {
    "duration": 37,
    "start_time": "2022-08-08T18:28:07.544Z"
   },
   {
    "duration": 27,
    "start_time": "2022-08-08T18:28:07.583Z"
   },
   {
    "duration": 18,
    "start_time": "2022-08-08T18:28:07.611Z"
   },
   {
    "duration": 38,
    "start_time": "2022-08-08T18:28:07.630Z"
   },
   {
    "duration": 22,
    "start_time": "2022-08-08T18:28:07.670Z"
   },
   {
    "duration": 12,
    "start_time": "2022-08-08T18:28:07.693Z"
   },
   {
    "duration": 19,
    "start_time": "2022-08-08T18:28:07.707Z"
   },
   {
    "duration": 254,
    "start_time": "2022-08-08T18:28:07.727Z"
   },
   {
    "duration": 294,
    "start_time": "2022-08-08T18:28:07.983Z"
   },
   {
    "duration": 526,
    "start_time": "2022-08-08T18:28:08.280Z"
   },
   {
    "duration": 165,
    "start_time": "2022-08-08T18:28:08.807Z"
   },
   {
    "duration": 32,
    "start_time": "2022-08-08T18:28:08.974Z"
   },
   {
    "duration": 21,
    "start_time": "2022-08-08T18:28:09.058Z"
   },
   {
    "duration": 4,
    "start_time": "2022-08-08T18:28:09.081Z"
   },
   {
    "duration": 11973,
    "start_time": "2022-08-08T18:28:09.086Z"
   },
   {
    "duration": 5,
    "start_time": "2022-08-08T18:28:21.060Z"
   },
   {
    "duration": 29,
    "start_time": "2022-08-08T18:28:21.066Z"
   },
   {
    "duration": 320,
    "start_time": "2022-08-08T18:28:21.096Z"
   },
   {
    "duration": 301,
    "start_time": "2022-08-08T18:28:21.417Z"
   },
   {
    "duration": 127,
    "start_time": "2022-08-08T18:28:21.719Z"
   },
   {
    "duration": 283,
    "start_time": "2022-08-08T18:28:21.848Z"
   },
   {
    "duration": 33,
    "start_time": "2022-08-08T18:28:22.133Z"
   },
   {
    "duration": 51,
    "start_time": "2022-08-08T18:28:22.168Z"
   },
   {
    "duration": 41,
    "start_time": "2022-08-08T18:28:22.221Z"
   },
   {
    "duration": 10,
    "start_time": "2022-08-08T18:28:22.264Z"
   },
   {
    "duration": 15,
    "start_time": "2022-08-08T18:28:22.276Z"
   },
   {
    "duration": 23,
    "start_time": "2022-08-08T18:28:22.292Z"
   },
   {
    "duration": 238,
    "start_time": "2022-08-08T18:28:22.317Z"
   },
   {
    "duration": 33,
    "start_time": "2022-08-08T18:28:22.557Z"
   },
   {
    "duration": 772,
    "start_time": "2022-08-08T18:28:22.592Z"
   },
   {
    "duration": 3,
    "start_time": "2022-08-08T18:28:23.366Z"
   },
   {
    "duration": 17,
    "start_time": "2022-08-08T18:28:23.371Z"
   },
   {
    "duration": 3709,
    "start_time": "2022-08-08T18:28:23.389Z"
   },
   {
    "duration": 2,
    "start_time": "2022-08-08T18:28:30.079Z"
   },
   {
    "duration": 8,
    "start_time": "2022-08-08T18:28:30.087Z"
   },
   {
    "duration": 22,
    "start_time": "2022-08-08T18:28:30.097Z"
   },
   {
    "duration": 64,
    "start_time": "2022-08-08T18:28:30.121Z"
   },
   {
    "duration": 2079,
    "start_time": "2022-08-08T18:28:30.187Z"
   },
   {
    "duration": 9,
    "start_time": "2022-08-08T18:28:32.267Z"
   },
   {
    "duration": 18,
    "start_time": "2022-08-08T18:28:32.277Z"
   },
   {
    "duration": 66,
    "start_time": "2022-08-08T18:28:32.296Z"
   },
   {
    "duration": 10,
    "start_time": "2022-08-08T18:28:32.365Z"
   },
   {
    "duration": 7,
    "start_time": "2022-08-08T18:28:32.376Z"
   },
   {
    "duration": 11,
    "start_time": "2022-08-08T18:28:32.385Z"
   },
   {
    "duration": 83,
    "start_time": "2022-08-08T18:28:32.398Z"
   },
   {
    "duration": 306,
    "start_time": "2022-08-08T18:28:32.482Z"
   },
   {
    "duration": 81,
    "start_time": "2022-08-08T18:28:32.790Z"
   },
   {
    "duration": 26,
    "start_time": "2022-08-08T18:28:32.873Z"
   },
   {
    "duration": 80,
    "start_time": "2022-08-08T18:28:32.901Z"
   },
   {
    "duration": 75,
    "start_time": "2022-08-08T18:28:32.983Z"
   },
   {
    "duration": 17,
    "start_time": "2022-08-08T18:28:33.060Z"
   },
   {
    "duration": 23,
    "start_time": "2022-08-08T18:28:33.078Z"
   },
   {
    "duration": 62,
    "start_time": "2022-08-08T18:28:33.103Z"
   },
   {
    "duration": 19,
    "start_time": "2022-08-08T18:28:33.167Z"
   },
   {
    "duration": 370,
    "start_time": "2022-08-08T18:28:33.190Z"
   },
   {
    "duration": 353,
    "start_time": "2022-08-08T18:28:33.562Z"
   },
   {
    "duration": 231,
    "start_time": "2022-08-08T18:28:33.916Z"
   },
   {
    "duration": 54,
    "start_time": "2022-08-08T18:28:34.149Z"
   },
   {
    "duration": 32,
    "start_time": "2022-08-08T18:28:34.206Z"
   },
   {
    "duration": 31,
    "start_time": "2022-08-08T18:28:34.240Z"
   },
   {
    "duration": 5,
    "start_time": "2022-08-08T18:28:34.272Z"
   },
   {
    "duration": 11190,
    "start_time": "2022-08-08T18:28:34.278Z"
   },
   {
    "duration": 5,
    "start_time": "2022-08-08T18:28:45.470Z"
   },
   {
    "duration": 22,
    "start_time": "2022-08-08T18:28:45.477Z"
   },
   {
    "duration": 225,
    "start_time": "2022-08-08T18:28:45.501Z"
   },
   {
    "duration": 277,
    "start_time": "2022-08-08T18:28:45.728Z"
   },
   {
    "duration": 130,
    "start_time": "2022-08-08T18:28:46.006Z"
   },
   {
    "duration": 308,
    "start_time": "2022-08-08T18:28:46.137Z"
   },
   {
    "duration": 35,
    "start_time": "2022-08-08T18:28:46.446Z"
   },
   {
    "duration": 59,
    "start_time": "2022-08-08T18:28:46.482Z"
   },
   {
    "duration": 27,
    "start_time": "2022-08-08T18:28:46.558Z"
   },
   {
    "duration": 6,
    "start_time": "2022-08-08T18:28:46.588Z"
   },
   {
    "duration": 16,
    "start_time": "2022-08-08T18:28:46.596Z"
   },
   {
    "duration": 51,
    "start_time": "2022-08-08T18:28:46.613Z"
   },
   {
    "duration": 257,
    "start_time": "2022-08-08T18:28:46.666Z"
   },
   {
    "duration": 57,
    "start_time": "2022-08-08T18:28:46.925Z"
   },
   {
    "duration": 826,
    "start_time": "2022-08-08T18:28:46.984Z"
   },
   {
    "duration": 5,
    "start_time": "2022-08-08T18:28:47.812Z"
   },
   {
    "duration": 20,
    "start_time": "2022-08-08T18:28:47.819Z"
   },
   {
    "duration": 4023,
    "start_time": "2022-08-08T18:28:47.841Z"
   },
   {
    "duration": 24,
    "start_time": "2022-08-08T18:28:51.866Z"
   },
   {
    "duration": 11,
    "start_time": "2022-08-08T18:28:51.891Z"
   },
   {
    "duration": 200,
    "start_time": "2022-08-08T18:31:10.348Z"
   },
   {
    "duration": 4,
    "start_time": "2022-08-08T18:31:15.785Z"
   },
   {
    "duration": 146,
    "start_time": "2022-08-08T18:31:33.476Z"
   },
   {
    "duration": 9,
    "start_time": "2022-08-08T18:31:48.438Z"
   },
   {
    "duration": 11,
    "start_time": "2022-08-08T18:31:54.442Z"
   },
   {
    "duration": 14,
    "start_time": "2022-08-08T18:32:11.486Z"
   },
   {
    "duration": 13,
    "start_time": "2022-08-08T18:33:54.625Z"
   },
   {
    "duration": 16,
    "start_time": "2022-08-08T18:33:58.677Z"
   },
   {
    "duration": 16,
    "start_time": "2022-08-08T18:34:25.458Z"
   },
   {
    "duration": 18,
    "start_time": "2022-08-08T18:34:31.420Z"
   },
   {
    "duration": 17,
    "start_time": "2022-08-08T18:34:39.589Z"
   },
   {
    "duration": 18,
    "start_time": "2022-08-08T18:34:56.391Z"
   },
   {
    "duration": 271,
    "start_time": "2022-08-08T18:39:52.971Z"
   },
   {
    "duration": 124,
    "start_time": "2022-08-08T18:39:59.770Z"
   },
   {
    "duration": 169,
    "start_time": "2022-08-08T18:40:05.224Z"
   },
   {
    "duration": 127,
    "start_time": "2022-08-08T18:40:08.743Z"
   },
   {
    "duration": 122,
    "start_time": "2022-08-08T18:43:56.378Z"
   },
   {
    "duration": 118,
    "start_time": "2022-08-08T18:44:02.680Z"
   },
   {
    "duration": 135,
    "start_time": "2022-08-08T18:44:07.081Z"
   },
   {
    "duration": 131,
    "start_time": "2022-08-08T18:44:12.234Z"
   },
   {
    "duration": 132,
    "start_time": "2022-08-08T18:44:14.500Z"
   },
   {
    "duration": 130,
    "start_time": "2022-08-08T18:44:17.218Z"
   },
   {
    "duration": 147,
    "start_time": "2022-08-08T18:44:29.018Z"
   },
   {
    "duration": 139,
    "start_time": "2022-08-08T18:44:37.508Z"
   },
   {
    "duration": 123,
    "start_time": "2022-08-08T18:44:42.562Z"
   },
   {
    "duration": 131,
    "start_time": "2022-08-08T18:44:49.903Z"
   },
   {
    "duration": 185,
    "start_time": "2022-08-08T18:45:49.186Z"
   },
   {
    "duration": 171,
    "start_time": "2022-08-08T18:45:54.733Z"
   },
   {
    "duration": 167,
    "start_time": "2022-08-08T18:46:02.125Z"
   },
   {
    "duration": 264,
    "start_time": "2022-08-08T18:48:01.370Z"
   },
   {
    "duration": 203,
    "start_time": "2022-08-08T18:48:19.402Z"
   },
   {
    "duration": 224,
    "start_time": "2022-08-08T18:48:32.451Z"
   },
   {
    "duration": 212,
    "start_time": "2022-08-08T18:48:49.852Z"
   },
   {
    "duration": 208,
    "start_time": "2022-08-08T18:48:52.869Z"
   },
   {
    "duration": 251,
    "start_time": "2022-08-08T18:49:35.259Z"
   },
   {
    "duration": 165,
    "start_time": "2022-08-08T18:50:41.015Z"
   },
   {
    "duration": 186,
    "start_time": "2022-08-08T18:51:45.419Z"
   },
   {
    "duration": 183,
    "start_time": "2022-08-08T18:52:06.424Z"
   },
   {
    "duration": 196,
    "start_time": "2022-08-08T18:52:48.756Z"
   },
   {
    "duration": 226,
    "start_time": "2022-08-08T18:54:04.791Z"
   },
   {
    "duration": 227,
    "start_time": "2022-08-08T18:54:26.861Z"
   },
   {
    "duration": 17,
    "start_time": "2022-08-08T18:54:28.181Z"
   },
   {
    "duration": 17,
    "start_time": "2022-08-08T18:54:36.322Z"
   },
   {
    "duration": 599,
    "start_time": "2022-08-08T18:58:33.659Z"
   },
   {
    "duration": 288,
    "start_time": "2022-08-08T18:58:44.539Z"
   },
   {
    "duration": 253,
    "start_time": "2022-08-08T18:58:53.785Z"
   },
   {
    "duration": 276,
    "start_time": "2022-08-08T18:59:00.756Z"
   },
   {
    "duration": 289,
    "start_time": "2022-08-08T18:59:53.721Z"
   },
   {
    "duration": 291,
    "start_time": "2022-08-08T18:59:59.371Z"
   },
   {
    "duration": 16,
    "start_time": "2022-08-08T19:07:22.724Z"
   },
   {
    "duration": 17,
    "start_time": "2022-08-08T19:07:45.513Z"
   },
   {
    "duration": 13,
    "start_time": "2022-08-08T19:08:32.713Z"
   },
   {
    "duration": 17,
    "start_time": "2022-08-08T19:08:55.008Z"
   },
   {
    "duration": 4,
    "start_time": "2022-08-08T19:26:38.479Z"
   },
   {
    "duration": 1215,
    "start_time": "2022-08-08T19:26:38.484Z"
   },
   {
    "duration": 4,
    "start_time": "2022-08-08T19:26:39.701Z"
   },
   {
    "duration": 69,
    "start_time": "2022-08-08T19:26:39.707Z"
   },
   {
    "duration": 1836,
    "start_time": "2022-08-08T19:26:39.778Z"
   },
   {
    "duration": 11,
    "start_time": "2022-08-08T19:26:41.616Z"
   },
   {
    "duration": 12,
    "start_time": "2022-08-08T19:26:41.628Z"
   },
   {
    "duration": 24,
    "start_time": "2022-08-08T19:26:41.641Z"
   },
   {
    "duration": 7,
    "start_time": "2022-08-08T19:26:41.667Z"
   },
   {
    "duration": 8,
    "start_time": "2022-08-08T19:26:41.675Z"
   },
   {
    "duration": 7,
    "start_time": "2022-08-08T19:26:41.685Z"
   },
   {
    "duration": 35,
    "start_time": "2022-08-08T19:26:41.694Z"
   },
   {
    "duration": 170,
    "start_time": "2022-08-08T19:26:41.731Z"
   },
   {
    "duration": 28,
    "start_time": "2022-08-08T19:26:41.902Z"
   },
   {
    "duration": 37,
    "start_time": "2022-08-08T19:26:41.932Z"
   },
   {
    "duration": 27,
    "start_time": "2022-08-08T19:26:41.970Z"
   },
   {
    "duration": 18,
    "start_time": "2022-08-08T19:26:41.998Z"
   },
   {
    "duration": 41,
    "start_time": "2022-08-08T19:26:42.018Z"
   },
   {
    "duration": 31,
    "start_time": "2022-08-08T19:26:42.061Z"
   },
   {
    "duration": 13,
    "start_time": "2022-08-08T19:26:42.093Z"
   },
   {
    "duration": 17,
    "start_time": "2022-08-08T19:26:42.108Z"
   },
   {
    "duration": 213,
    "start_time": "2022-08-08T19:26:42.127Z"
   },
   {
    "duration": 26,
    "start_time": "2022-08-08T19:26:42.342Z"
   },
   {
    "duration": 143,
    "start_time": "2022-08-08T19:26:42.369Z"
   },
   {
    "duration": 234,
    "start_time": "2022-08-08T19:26:42.514Z"
   },
   {
    "duration": 427,
    "start_time": "2022-08-08T19:26:42.750Z"
   },
   {
    "duration": 33,
    "start_time": "2022-08-08T19:26:43.178Z"
   },
   {
    "duration": 58,
    "start_time": "2022-08-08T19:26:43.213Z"
   },
   {
    "duration": 5,
    "start_time": "2022-08-08T19:26:43.274Z"
   },
   {
    "duration": 11665,
    "start_time": "2022-08-08T19:26:43.281Z"
   },
   {
    "duration": 10,
    "start_time": "2022-08-08T19:26:54.948Z"
   },
   {
    "duration": 14,
    "start_time": "2022-08-08T19:26:54.959Z"
   },
   {
    "duration": 212,
    "start_time": "2022-08-08T19:26:54.975Z"
   },
   {
    "duration": 330,
    "start_time": "2022-08-08T19:26:55.189Z"
   },
   {
    "duration": 150,
    "start_time": "2022-08-08T19:26:55.521Z"
   },
   {
    "duration": 324,
    "start_time": "2022-08-08T19:26:55.673Z"
   },
   {
    "duration": 29,
    "start_time": "2022-08-08T19:26:55.999Z"
   },
   {
    "duration": 70,
    "start_time": "2022-08-08T19:26:56.030Z"
   },
   {
    "duration": 21,
    "start_time": "2022-08-08T19:26:56.101Z"
   },
   {
    "duration": 14,
    "start_time": "2022-08-08T19:26:56.124Z"
   },
   {
    "duration": 30,
    "start_time": "2022-08-08T19:26:56.139Z"
   },
   {
    "duration": 25,
    "start_time": "2022-08-08T19:26:56.170Z"
   },
   {
    "duration": 275,
    "start_time": "2022-08-08T19:26:56.197Z"
   },
   {
    "duration": 33,
    "start_time": "2022-08-08T19:26:56.474Z"
   },
   {
    "duration": 738,
    "start_time": "2022-08-08T19:26:56.509Z"
   },
   {
    "duration": 5,
    "start_time": "2022-08-08T19:26:57.249Z"
   },
   {
    "duration": 24,
    "start_time": "2022-08-08T19:26:57.255Z"
   },
   {
    "duration": 3805,
    "start_time": "2022-08-08T19:26:57.282Z"
   },
   {
    "duration": 24,
    "start_time": "2022-08-08T19:27:01.090Z"
   },
   {
    "duration": 53,
    "start_time": "2022-08-08T19:27:01.115Z"
   },
   {
    "duration": 536,
    "start_time": "2022-08-09T12:57:10.076Z"
   },
   {
    "duration": 109,
    "start_time": "2022-08-09T13:04:59.154Z"
   },
   {
    "duration": 68,
    "start_time": "2022-08-09T13:06:33.126Z"
   },
   {
    "duration": 157,
    "start_time": "2022-08-09T13:06:41.610Z"
   },
   {
    "duration": 4,
    "start_time": "2022-08-09T13:06:51.861Z"
   },
   {
    "duration": 1025,
    "start_time": "2022-08-09T13:06:51.868Z"
   },
   {
    "duration": 5,
    "start_time": "2022-08-09T13:06:52.895Z"
   },
   {
    "duration": 141,
    "start_time": "2022-08-09T13:06:52.903Z"
   },
   {
    "duration": 2608,
    "start_time": "2022-08-09T13:06:53.045Z"
   },
   {
    "duration": 13,
    "start_time": "2022-08-09T13:06:55.654Z"
   },
   {
    "duration": 15,
    "start_time": "2022-08-09T13:06:55.669Z"
   },
   {
    "duration": 14,
    "start_time": "2022-08-09T13:06:55.692Z"
   },
   {
    "duration": 8,
    "start_time": "2022-08-09T13:06:55.708Z"
   },
   {
    "duration": 6,
    "start_time": "2022-08-09T13:06:55.718Z"
   },
   {
    "duration": 7,
    "start_time": "2022-08-09T13:06:55.725Z"
   },
   {
    "duration": 67,
    "start_time": "2022-08-09T13:06:55.733Z"
   },
   {
    "duration": 5,
    "start_time": "2022-08-09T13:06:55.802Z"
   },
   {
    "duration": 176,
    "start_time": "2022-08-09T13:06:55.809Z"
   },
   {
    "duration": 40,
    "start_time": "2022-08-09T13:06:55.987Z"
   },
   {
    "duration": 31,
    "start_time": "2022-08-09T13:06:56.029Z"
   },
   {
    "duration": 42,
    "start_time": "2022-08-09T13:06:56.062Z"
   },
   {
    "duration": 21,
    "start_time": "2022-08-09T13:06:56.106Z"
   },
   {
    "duration": 34,
    "start_time": "2022-08-09T13:06:56.129Z"
   },
   {
    "duration": 31,
    "start_time": "2022-08-09T13:06:56.165Z"
   },
   {
    "duration": 15,
    "start_time": "2022-08-09T13:06:56.198Z"
   },
   {
    "duration": 18,
    "start_time": "2022-08-09T13:06:56.215Z"
   },
   {
    "duration": 233,
    "start_time": "2022-08-09T13:06:56.234Z"
   },
   {
    "duration": 32,
    "start_time": "2022-08-09T13:06:56.469Z"
   },
   {
    "duration": 147,
    "start_time": "2022-08-09T13:06:56.503Z"
   },
   {
    "duration": 288,
    "start_time": "2022-08-09T13:06:56.652Z"
   },
   {
    "duration": 2178,
    "start_time": "2022-08-09T13:06:56.942Z"
   },
   {
    "duration": 237,
    "start_time": "2022-08-09T13:06:59.124Z"
   },
   {
    "duration": 61,
    "start_time": "2022-08-09T13:06:59.363Z"
   },
   {
    "duration": 19,
    "start_time": "2022-08-09T13:06:59.426Z"
   },
   {
    "duration": 4,
    "start_time": "2022-08-09T13:06:59.448Z"
   },
   {
    "duration": 11484,
    "start_time": "2022-08-09T13:06:59.492Z"
   },
   {
    "duration": 4,
    "start_time": "2022-08-09T13:07:10.978Z"
   },
   {
    "duration": 26,
    "start_time": "2022-08-09T13:07:10.984Z"
   },
   {
    "duration": 298,
    "start_time": "2022-08-09T13:07:11.012Z"
   },
   {
    "duration": 399,
    "start_time": "2022-08-09T13:07:11.311Z"
   },
   {
    "duration": 285,
    "start_time": "2022-08-09T13:07:11.712Z"
   },
   {
    "duration": 347,
    "start_time": "2022-08-09T13:07:12.000Z"
   },
   {
    "duration": 31,
    "start_time": "2022-08-09T13:07:12.349Z"
   },
   {
    "duration": 178,
    "start_time": "2022-08-09T13:07:12.391Z"
   },
   {
    "duration": 24,
    "start_time": "2022-08-09T13:07:12.571Z"
   },
   {
    "duration": 8,
    "start_time": "2022-08-09T13:07:12.597Z"
   },
   {
    "duration": 18,
    "start_time": "2022-08-09T13:07:12.607Z"
   },
   {
    "duration": 29,
    "start_time": "2022-08-09T13:07:12.626Z"
   },
   {
    "duration": 261,
    "start_time": "2022-08-09T13:07:12.657Z"
   },
   {
    "duration": 38,
    "start_time": "2022-08-09T13:07:12.920Z"
   },
   {
    "duration": 1101,
    "start_time": "2022-08-09T13:07:12.960Z"
   },
   {
    "duration": 3,
    "start_time": "2022-08-09T13:07:14.064Z"
   },
   {
    "duration": 27,
    "start_time": "2022-08-09T13:07:14.069Z"
   },
   {
    "duration": 4096,
    "start_time": "2022-08-09T13:07:14.099Z"
   },
   {
    "duration": 28,
    "start_time": "2022-08-09T13:07:18.197Z"
   },
   {
    "duration": 66,
    "start_time": "2022-08-09T13:07:18.227Z"
   },
   {
    "duration": 23,
    "start_time": "2022-08-09T13:12:16.283Z"
   },
   {
    "duration": 16,
    "start_time": "2022-08-09T13:16:17.075Z"
   },
   {
    "duration": 18,
    "start_time": "2022-08-09T13:17:33.508Z"
   },
   {
    "duration": 3863,
    "start_time": "2022-08-09T13:21:23.667Z"
   },
   {
    "duration": 3,
    "start_time": "2022-08-09T13:37:17.597Z"
   },
   {
    "duration": 1493,
    "start_time": "2022-08-09T13:37:17.604Z"
   },
   {
    "duration": 6,
    "start_time": "2022-08-09T13:37:19.100Z"
   },
   {
    "duration": 244,
    "start_time": "2022-08-09T13:37:19.111Z"
   },
   {
    "duration": 3474,
    "start_time": "2022-08-09T13:37:19.357Z"
   },
   {
    "duration": 17,
    "start_time": "2022-08-09T13:37:22.833Z"
   },
   {
    "duration": 17,
    "start_time": "2022-08-09T13:37:22.851Z"
   },
   {
    "duration": 21,
    "start_time": "2022-08-09T13:37:22.870Z"
   },
   {
    "duration": 19,
    "start_time": "2022-08-09T13:37:22.892Z"
   },
   {
    "duration": 6,
    "start_time": "2022-08-09T13:37:22.913Z"
   },
   {
    "duration": 6,
    "start_time": "2022-08-09T13:37:22.921Z"
   },
   {
    "duration": 35,
    "start_time": "2022-08-09T13:37:22.928Z"
   },
   {
    "duration": 5,
    "start_time": "2022-08-09T13:37:22.964Z"
   },
   {
    "duration": 171,
    "start_time": "2022-08-09T13:37:22.971Z"
   },
   {
    "duration": 29,
    "start_time": "2022-08-09T13:37:23.143Z"
   },
   {
    "duration": 38,
    "start_time": "2022-08-09T13:37:23.173Z"
   },
   {
    "duration": 23,
    "start_time": "2022-08-09T13:37:23.213Z"
   },
   {
    "duration": 18,
    "start_time": "2022-08-09T13:37:23.238Z"
   },
   {
    "duration": 16,
    "start_time": "2022-08-09T13:37:23.257Z"
   },
   {
    "duration": 40,
    "start_time": "2022-08-09T13:37:23.274Z"
   },
   {
    "duration": 13,
    "start_time": "2022-08-09T13:37:23.315Z"
   },
   {
    "duration": 18,
    "start_time": "2022-08-09T13:37:23.330Z"
   },
   {
    "duration": 206,
    "start_time": "2022-08-09T13:37:23.350Z"
   },
   {
    "duration": 16,
    "start_time": "2022-08-09T13:37:23.558Z"
   },
   {
    "duration": 132,
    "start_time": "2022-08-09T13:37:23.575Z"
   },
   {
    "duration": 232,
    "start_time": "2022-08-09T13:37:23.711Z"
   },
   {
    "duration": 562,
    "start_time": "2022-08-09T13:37:23.945Z"
   },
   {
    "duration": 191,
    "start_time": "2022-08-09T13:37:24.509Z"
   },
   {
    "duration": 32,
    "start_time": "2022-08-09T13:37:24.713Z"
   },
   {
    "duration": 16,
    "start_time": "2022-08-09T13:37:24.747Z"
   },
   {
    "duration": 59,
    "start_time": "2022-08-09T13:37:24.764Z"
   },
   {
    "duration": 8301,
    "start_time": "2022-08-09T13:37:24.825Z"
   },
   {
    "duration": 3,
    "start_time": "2022-08-09T13:37:33.128Z"
   },
   {
    "duration": 13,
    "start_time": "2022-08-09T13:37:33.132Z"
   },
   {
    "duration": 187,
    "start_time": "2022-08-09T13:37:33.147Z"
   },
   {
    "duration": 218,
    "start_time": "2022-08-09T13:37:33.336Z"
   },
   {
    "duration": 121,
    "start_time": "2022-08-09T13:37:33.556Z"
   },
   {
    "duration": 20,
    "start_time": "2022-08-09T13:37:33.679Z"
   },
   {
    "duration": 258,
    "start_time": "2022-08-09T13:37:33.711Z"
   },
   {
    "duration": 25,
    "start_time": "2022-08-09T13:37:33.971Z"
   },
   {
    "duration": 168,
    "start_time": "2022-08-09T13:37:33.998Z"
   },
   {
    "duration": 19,
    "start_time": "2022-08-09T13:37:34.168Z"
   },
   {
    "duration": 10,
    "start_time": "2022-08-09T13:37:34.188Z"
   },
   {
    "duration": 15,
    "start_time": "2022-08-09T13:37:34.199Z"
   },
   {
    "duration": 18,
    "start_time": "2022-08-09T13:37:34.215Z"
   },
   {
    "duration": 208,
    "start_time": "2022-08-09T13:37:34.235Z"
   },
   {
    "duration": 32,
    "start_time": "2022-08-09T13:37:34.444Z"
   },
   {
    "duration": 13,
    "start_time": "2022-08-09T13:37:34.477Z"
   },
   {
    "duration": 865,
    "start_time": "2022-08-09T13:37:34.510Z"
   },
   {
    "duration": 3,
    "start_time": "2022-08-09T13:37:35.377Z"
   },
   {
    "duration": 16,
    "start_time": "2022-08-09T13:37:35.382Z"
   },
   {
    "duration": 3373,
    "start_time": "2022-08-09T13:37:35.399Z"
   },
   {
    "duration": 50,
    "start_time": "2022-08-09T13:37:38.773Z"
   },
   {
    "duration": 10,
    "start_time": "2022-08-09T13:37:38.824Z"
   },
   {
    "duration": 147,
    "start_time": "2022-08-09T13:50:45.040Z"
   },
   {
    "duration": 3,
    "start_time": "2022-08-09T17:52:52.633Z"
   },
   {
    "duration": 1468,
    "start_time": "2022-08-09T17:52:52.638Z"
   },
   {
    "duration": 5,
    "start_time": "2022-08-09T17:52:54.108Z"
   },
   {
    "duration": 247,
    "start_time": "2022-08-09T17:52:54.115Z"
   },
   {
    "duration": 2959,
    "start_time": "2022-08-09T17:52:54.364Z"
   },
   {
    "duration": 14,
    "start_time": "2022-08-09T17:52:57.325Z"
   },
   {
    "duration": 23,
    "start_time": "2022-08-09T17:52:57.341Z"
   },
   {
    "duration": 44,
    "start_time": "2022-08-09T17:52:57.366Z"
   },
   {
    "duration": 11,
    "start_time": "2022-08-09T17:52:57.412Z"
   },
   {
    "duration": 6,
    "start_time": "2022-08-09T17:52:57.425Z"
   },
   {
    "duration": 10,
    "start_time": "2022-08-09T17:52:57.434Z"
   },
   {
    "duration": 46,
    "start_time": "2022-08-09T17:52:57.446Z"
   },
   {
    "duration": 5,
    "start_time": "2022-08-09T17:52:57.494Z"
   },
   {
    "duration": 170,
    "start_time": "2022-08-09T17:52:57.502Z"
   },
   {
    "duration": 30,
    "start_time": "2022-08-09T17:52:57.673Z"
   },
   {
    "duration": 25,
    "start_time": "2022-08-09T17:52:57.705Z"
   },
   {
    "duration": 48,
    "start_time": "2022-08-09T17:52:57.731Z"
   },
   {
    "duration": 20,
    "start_time": "2022-08-09T17:52:57.781Z"
   },
   {
    "duration": 18,
    "start_time": "2022-08-09T17:52:57.802Z"
   },
   {
    "duration": 36,
    "start_time": "2022-08-09T17:52:57.822Z"
   },
   {
    "duration": 13,
    "start_time": "2022-08-09T17:52:57.860Z"
   },
   {
    "duration": 17,
    "start_time": "2022-08-09T17:52:57.875Z"
   },
   {
    "duration": 226,
    "start_time": "2022-08-09T17:52:57.893Z"
   },
   {
    "duration": 17,
    "start_time": "2022-08-09T17:52:58.120Z"
   },
   {
    "duration": 137,
    "start_time": "2022-08-09T17:52:58.139Z"
   },
   {
    "duration": 260,
    "start_time": "2022-08-09T17:52:58.278Z"
   },
   {
    "duration": 438,
    "start_time": "2022-08-09T17:52:58.540Z"
   },
   {
    "duration": 212,
    "start_time": "2022-08-09T17:52:58.980Z"
   },
   {
    "duration": 74,
    "start_time": "2022-08-09T17:52:59.196Z"
   },
   {
    "duration": 18,
    "start_time": "2022-08-09T17:52:59.272Z"
   },
   {
    "duration": 5,
    "start_time": "2022-08-09T17:52:59.292Z"
   },
   {
    "duration": 11620,
    "start_time": "2022-08-09T17:52:59.299Z"
   },
   {
    "duration": 5,
    "start_time": "2022-08-09T17:53:10.920Z"
   },
   {
    "duration": 14,
    "start_time": "2022-08-09T17:53:10.928Z"
   },
   {
    "duration": 217,
    "start_time": "2022-08-09T17:53:10.944Z"
   },
   {
    "duration": 260,
    "start_time": "2022-08-09T17:53:11.163Z"
   },
   {
    "duration": 137,
    "start_time": "2022-08-09T17:53:11.425Z"
   },
   {
    "duration": 23,
    "start_time": "2022-08-09T17:53:11.564Z"
   },
   {
    "duration": 311,
    "start_time": "2022-08-09T17:53:11.590Z"
   },
   {
    "duration": 31,
    "start_time": "2022-08-09T17:53:11.903Z"
   },
   {
    "duration": 155,
    "start_time": "2022-08-09T17:53:11.936Z"
   },
   {
    "duration": 24,
    "start_time": "2022-08-09T17:53:12.093Z"
   },
   {
    "duration": 12,
    "start_time": "2022-08-09T17:53:12.119Z"
   },
   {
    "duration": 43,
    "start_time": "2022-08-09T17:53:12.132Z"
   },
   {
    "duration": 26,
    "start_time": "2022-08-09T17:53:12.177Z"
   },
   {
    "duration": 255,
    "start_time": "2022-08-09T17:53:12.205Z"
   },
   {
    "duration": 33,
    "start_time": "2022-08-09T17:53:12.462Z"
   },
   {
    "duration": 16,
    "start_time": "2022-08-09T17:53:12.497Z"
   },
   {
    "duration": 804,
    "start_time": "2022-08-09T17:53:12.515Z"
   },
   {
    "duration": 4,
    "start_time": "2022-08-09T17:53:13.321Z"
   },
   {
    "duration": 19,
    "start_time": "2022-08-09T17:53:13.326Z"
   },
   {
    "duration": 3784,
    "start_time": "2022-08-09T17:53:13.346Z"
   },
   {
    "duration": 48,
    "start_time": "2022-08-09T17:53:17.132Z"
   },
   {
    "duration": 13,
    "start_time": "2022-08-09T17:53:17.183Z"
   },
   {
    "duration": 4,
    "start_time": "2022-08-09T17:54:27.947Z"
   },
   {
    "duration": 1265,
    "start_time": "2022-08-09T17:54:27.954Z"
   },
   {
    "duration": 5,
    "start_time": "2022-08-09T17:54:29.224Z"
   },
   {
    "duration": 90,
    "start_time": "2022-08-09T17:54:29.233Z"
   },
   {
    "duration": 1964,
    "start_time": "2022-08-09T17:54:29.325Z"
   },
   {
    "duration": 14,
    "start_time": "2022-08-09T17:54:31.291Z"
   },
   {
    "duration": 18,
    "start_time": "2022-08-09T17:54:31.306Z"
   },
   {
    "duration": 27,
    "start_time": "2022-08-09T17:54:31.326Z"
   },
   {
    "duration": 10,
    "start_time": "2022-08-09T17:54:31.357Z"
   },
   {
    "duration": 5,
    "start_time": "2022-08-09T17:54:31.370Z"
   },
   {
    "duration": 13,
    "start_time": "2022-08-09T17:54:31.377Z"
   },
   {
    "duration": 74,
    "start_time": "2022-08-09T17:54:31.392Z"
   },
   {
    "duration": 7,
    "start_time": "2022-08-09T17:54:31.468Z"
   },
   {
    "duration": 185,
    "start_time": "2022-08-09T17:54:31.477Z"
   },
   {
    "duration": 29,
    "start_time": "2022-08-09T17:54:31.665Z"
   },
   {
    "duration": 29,
    "start_time": "2022-08-09T17:54:31.697Z"
   },
   {
    "duration": 52,
    "start_time": "2022-08-09T17:54:31.728Z"
   },
   {
    "duration": 26,
    "start_time": "2022-08-09T17:54:31.782Z"
   },
   {
    "duration": 24,
    "start_time": "2022-08-09T17:54:31.810Z"
   },
   {
    "duration": 25,
    "start_time": "2022-08-09T17:54:31.858Z"
   },
   {
    "duration": 21,
    "start_time": "2022-08-09T17:54:31.885Z"
   },
   {
    "duration": 24,
    "start_time": "2022-08-09T17:54:31.908Z"
   },
   {
    "duration": 236,
    "start_time": "2022-08-09T17:54:31.934Z"
   },
   {
    "duration": 20,
    "start_time": "2022-08-09T17:54:32.172Z"
   },
   {
    "duration": 156,
    "start_time": "2022-08-09T17:54:32.194Z"
   },
   {
    "duration": 349,
    "start_time": "2022-08-09T17:54:32.353Z"
   },
   {
    "duration": 483,
    "start_time": "2022-08-09T17:54:32.704Z"
   },
   {
    "duration": 282,
    "start_time": "2022-08-09T17:54:33.190Z"
   },
   {
    "duration": 100,
    "start_time": "2022-08-09T17:54:33.475Z"
   },
   {
    "duration": 24,
    "start_time": "2022-08-09T17:54:33.577Z"
   },
   {
    "duration": 7,
    "start_time": "2022-08-09T17:54:33.603Z"
   },
   {
    "duration": 11213,
    "start_time": "2022-08-09T17:54:33.612Z"
   },
   {
    "duration": 5,
    "start_time": "2022-08-09T17:54:44.827Z"
   },
   {
    "duration": 27,
    "start_time": "2022-08-09T17:54:44.833Z"
   },
   {
    "duration": 207,
    "start_time": "2022-08-09T17:54:44.863Z"
   },
   {
    "duration": 388,
    "start_time": "2022-08-09T17:54:45.072Z"
   },
   {
    "duration": 136,
    "start_time": "2022-08-09T17:54:45.461Z"
   },
   {
    "duration": 29,
    "start_time": "2022-08-09T17:54:45.599Z"
   },
   {
    "duration": 376,
    "start_time": "2022-08-09T17:54:45.630Z"
   },
   {
    "duration": 30,
    "start_time": "2022-08-09T17:54:46.008Z"
   },
   {
    "duration": 165,
    "start_time": "2022-08-09T17:54:46.040Z"
   },
   {
    "duration": 21,
    "start_time": "2022-08-09T17:54:46.208Z"
   },
   {
    "duration": 27,
    "start_time": "2022-08-09T17:54:46.231Z"
   },
   {
    "duration": 23,
    "start_time": "2022-08-09T17:54:46.260Z"
   },
   {
    "duration": 38,
    "start_time": "2022-08-09T17:54:46.285Z"
   },
   {
    "duration": 253,
    "start_time": "2022-08-09T17:54:46.325Z"
   },
   {
    "duration": 35,
    "start_time": "2022-08-09T17:54:46.582Z"
   },
   {
    "duration": 15,
    "start_time": "2022-08-09T17:54:46.619Z"
   },
   {
    "duration": 1337,
    "start_time": "2022-08-09T17:54:46.636Z"
   },
   {
    "duration": 5,
    "start_time": "2022-08-09T17:54:47.975Z"
   },
   {
    "duration": 21,
    "start_time": "2022-08-09T17:54:47.981Z"
   },
   {
    "duration": 4301,
    "start_time": "2022-08-09T17:54:48.003Z"
   },
   {
    "duration": 59,
    "start_time": "2022-08-09T17:54:52.306Z"
   },
   {
    "duration": 16,
    "start_time": "2022-08-09T17:54:52.367Z"
   },
   {
    "duration": 209,
    "start_time": "2022-08-09T17:58:28.466Z"
   },
   {
    "duration": 217,
    "start_time": "2022-08-09T17:58:32.976Z"
   },
   {
    "duration": 220,
    "start_time": "2022-08-09T17:58:55.802Z"
   },
   {
    "duration": 186,
    "start_time": "2022-08-09T17:59:21.080Z"
   },
   {
    "duration": 59,
    "start_time": "2022-08-09T17:59:37.082Z"
   },
   {
    "duration": 16,
    "start_time": "2022-08-09T17:59:42.232Z"
   },
   {
    "duration": 24,
    "start_time": "2022-08-09T17:59:47.373Z"
   },
   {
    "duration": 2,
    "start_time": "2022-08-09T18:00:17.672Z"
   },
   {
    "duration": 3,
    "start_time": "2022-08-09T18:00:21.515Z"
   },
   {
    "duration": 6,
    "start_time": "2022-08-09T18:00:33.895Z"
   },
   {
    "duration": 1220,
    "start_time": "2022-08-09T18:00:33.903Z"
   },
   {
    "duration": 4,
    "start_time": "2022-08-09T18:00:35.125Z"
   },
   {
    "duration": 87,
    "start_time": "2022-08-09T18:00:35.130Z"
   },
   {
    "duration": 3844,
    "start_time": "2022-08-09T18:00:35.220Z"
   },
   {
    "duration": 14,
    "start_time": "2022-08-09T18:00:39.066Z"
   },
   {
    "duration": 8,
    "start_time": "2022-08-09T18:00:39.082Z"
   },
   {
    "duration": 16,
    "start_time": "2022-08-09T18:00:39.092Z"
   },
   {
    "duration": 13,
    "start_time": "2022-08-09T18:00:39.111Z"
   },
   {
    "duration": 33,
    "start_time": "2022-08-09T18:00:39.126Z"
   },
   {
    "duration": 28,
    "start_time": "2022-08-09T18:00:39.160Z"
   },
   {
    "duration": 48,
    "start_time": "2022-08-09T18:00:39.190Z"
   },
   {
    "duration": 7,
    "start_time": "2022-08-09T18:00:39.241Z"
   },
   {
    "duration": 187,
    "start_time": "2022-08-09T18:00:39.250Z"
   },
   {
    "duration": 31,
    "start_time": "2022-08-09T18:00:39.439Z"
   },
   {
    "duration": 2,
    "start_time": "2022-08-09T18:00:39.472Z"
   },
   {
    "duration": 34,
    "start_time": "2022-08-09T18:00:39.475Z"
   },
   {
    "duration": 39,
    "start_time": "2022-08-09T18:00:39.512Z"
   },
   {
    "duration": 21,
    "start_time": "2022-08-09T18:00:39.553Z"
   },
   {
    "duration": 19,
    "start_time": "2022-08-09T18:00:39.575Z"
   },
   {
    "duration": 25,
    "start_time": "2022-08-09T18:00:39.596Z"
   },
   {
    "duration": 14,
    "start_time": "2022-08-09T18:00:39.623Z"
   },
   {
    "duration": 36,
    "start_time": "2022-08-09T18:00:39.639Z"
   },
   {
    "duration": 216,
    "start_time": "2022-08-09T18:00:39.678Z"
   },
   {
    "duration": 19,
    "start_time": "2022-08-09T18:00:39.895Z"
   },
   {
    "duration": 149,
    "start_time": "2022-08-09T18:00:39.916Z"
   },
   {
    "duration": 265,
    "start_time": "2022-08-09T18:00:40.067Z"
   },
   {
    "duration": 491,
    "start_time": "2022-08-09T18:00:40.334Z"
   },
   {
    "duration": 231,
    "start_time": "2022-08-09T18:00:40.828Z"
   },
   {
    "duration": 52,
    "start_time": "2022-08-09T18:00:41.061Z"
   },
   {
    "duration": 62,
    "start_time": "2022-08-09T18:00:41.115Z"
   },
   {
    "duration": 4,
    "start_time": "2022-08-09T18:00:41.179Z"
   },
   {
    "duration": 13282,
    "start_time": "2022-08-09T18:00:41.185Z"
   },
   {
    "duration": 5,
    "start_time": "2022-08-09T18:00:54.469Z"
   },
   {
    "duration": 20,
    "start_time": "2022-08-09T18:00:54.476Z"
   },
   {
    "duration": 213,
    "start_time": "2022-08-09T18:00:54.498Z"
   },
   {
    "duration": 258,
    "start_time": "2022-08-09T18:00:54.713Z"
   },
   {
    "duration": 150,
    "start_time": "2022-08-09T18:00:54.973Z"
   },
   {
    "duration": 39,
    "start_time": "2022-08-09T18:00:55.125Z"
   },
   {
    "duration": 415,
    "start_time": "2022-08-09T18:00:55.166Z"
   },
   {
    "duration": 44,
    "start_time": "2022-08-09T18:00:55.583Z"
   },
   {
    "duration": 180,
    "start_time": "2022-08-09T18:00:55.629Z"
   },
   {
    "duration": 21,
    "start_time": "2022-08-09T18:00:55.810Z"
   },
   {
    "duration": 25,
    "start_time": "2022-08-09T18:00:55.833Z"
   },
   {
    "duration": 20,
    "start_time": "2022-08-09T18:00:55.860Z"
   },
   {
    "duration": 22,
    "start_time": "2022-08-09T18:00:55.882Z"
   },
   {
    "duration": 253,
    "start_time": "2022-08-09T18:00:55.906Z"
   },
   {
    "duration": 34,
    "start_time": "2022-08-09T18:00:56.161Z"
   },
   {
    "duration": 13,
    "start_time": "2022-08-09T18:00:56.197Z"
   },
   {
    "duration": 795,
    "start_time": "2022-08-09T18:00:56.212Z"
   },
   {
    "duration": 4,
    "start_time": "2022-08-09T18:00:57.009Z"
   },
   {
    "duration": 19,
    "start_time": "2022-08-09T18:00:57.014Z"
   },
   {
    "duration": 3473,
    "start_time": "2022-08-09T18:00:57.035Z"
   },
   {
    "duration": 50,
    "start_time": "2022-08-09T18:01:00.511Z"
   },
   {
    "duration": 12,
    "start_time": "2022-08-09T18:01:00.563Z"
   },
   {
    "duration": 161,
    "start_time": "2022-08-09T18:01:27.807Z"
   },
   {
    "duration": 17,
    "start_time": "2022-08-09T18:01:30.773Z"
   },
   {
    "duration": 13,
    "start_time": "2022-08-09T18:01:33.388Z"
   },
   {
    "duration": 11,
    "start_time": "2022-08-09T18:01:39.971Z"
   },
   {
    "duration": 11,
    "start_time": "2022-08-09T18:01:42.115Z"
   },
   {
    "duration": 11,
    "start_time": "2022-08-09T18:01:52.322Z"
   },
   {
    "duration": 12,
    "start_time": "2022-08-09T18:02:00.551Z"
   },
   {
    "duration": 12,
    "start_time": "2022-08-09T18:02:03.316Z"
   },
   {
    "duration": 8,
    "start_time": "2022-08-09T18:03:12.882Z"
   },
   {
    "duration": 8,
    "start_time": "2022-08-09T18:03:22.858Z"
   },
   {
    "duration": 184,
    "start_time": "2022-08-09T18:03:24.411Z"
   },
   {
    "duration": 8,
    "start_time": "2022-08-09T18:03:28.098Z"
   },
   {
    "duration": 38,
    "start_time": "2022-08-09T18:04:15.025Z"
   },
   {
    "duration": 33,
    "start_time": "2022-08-09T18:04:41.844Z"
   },
   {
    "duration": 28,
    "start_time": "2022-08-09T18:04:56.522Z"
   },
   {
    "duration": 0,
    "start_time": "2022-08-09T18:04:56.553Z"
   },
   {
    "duration": 25,
    "start_time": "2022-08-09T18:05:00.133Z"
   },
   {
    "duration": 180,
    "start_time": "2022-08-09T18:07:05.886Z"
   },
   {
    "duration": 28,
    "start_time": "2022-08-09T18:07:48.944Z"
   },
   {
    "duration": 190,
    "start_time": "2022-08-09T18:09:27.600Z"
   },
   {
    "duration": 15,
    "start_time": "2022-08-09T18:09:37.886Z"
   },
   {
    "duration": 12,
    "start_time": "2022-08-09T18:09:42.231Z"
   },
   {
    "duration": 196,
    "start_time": "2022-08-09T18:12:42.374Z"
   },
   {
    "duration": 12,
    "start_time": "2022-08-09T18:13:36.489Z"
   },
   {
    "duration": 35,
    "start_time": "2022-08-09T18:14:45.358Z"
   },
   {
    "duration": 18,
    "start_time": "2022-08-09T18:14:54.881Z"
   },
   {
    "duration": 25,
    "start_time": "2022-08-09T18:17:56.698Z"
   },
   {
    "duration": 63,
    "start_time": "2022-08-09T18:18:45.293Z"
   },
   {
    "duration": 26,
    "start_time": "2022-08-09T18:18:54.273Z"
   },
   {
    "duration": 25,
    "start_time": "2022-08-09T18:19:24.949Z"
   },
   {
    "duration": 26,
    "start_time": "2022-08-09T18:19:33.496Z"
   },
   {
    "duration": 8,
    "start_time": "2022-08-09T18:19:59.370Z"
   },
   {
    "duration": 14,
    "start_time": "2022-08-09T18:20:02.166Z"
   },
   {
    "duration": 198,
    "start_time": "2022-08-09T18:20:19.571Z"
   },
   {
    "duration": 28,
    "start_time": "2022-08-09T18:23:18.835Z"
   },
   {
    "duration": 35,
    "start_time": "2022-08-09T18:24:30.962Z"
   },
   {
    "duration": 14,
    "start_time": "2022-08-09T18:24:54.484Z"
   },
   {
    "duration": 13,
    "start_time": "2022-08-09T18:27:30.946Z"
   },
   {
    "duration": 18,
    "start_time": "2022-08-09T18:27:48.283Z"
   },
   {
    "duration": 17,
    "start_time": "2022-08-09T18:27:53.438Z"
   },
   {
    "duration": 21,
    "start_time": "2022-08-09T18:28:00.715Z"
   },
   {
    "duration": 24,
    "start_time": "2022-08-09T18:28:10.649Z"
   },
   {
    "duration": 22,
    "start_time": "2022-08-09T18:29:41.695Z"
   },
   {
    "duration": 23,
    "start_time": "2022-08-09T18:29:42.827Z"
   },
   {
    "duration": 26,
    "start_time": "2022-08-09T18:31:03.338Z"
   },
   {
    "duration": 30,
    "start_time": "2022-08-09T18:31:22.743Z"
   },
   {
    "duration": 16,
    "start_time": "2022-08-09T18:31:45.060Z"
   },
   {
    "duration": 20,
    "start_time": "2022-08-09T18:31:56.011Z"
   },
   {
    "duration": 19,
    "start_time": "2022-08-09T18:31:58.759Z"
   },
   {
    "duration": 15,
    "start_time": "2022-08-09T18:32:01.989Z"
   },
   {
    "duration": 33,
    "start_time": "2022-08-09T18:32:36.457Z"
   },
   {
    "duration": 61,
    "start_time": "2022-08-09T18:32:39.208Z"
   },
   {
    "duration": 26,
    "start_time": "2022-08-09T18:32:39.920Z"
   },
   {
    "duration": 17,
    "start_time": "2022-08-09T18:32:40.567Z"
   },
   {
    "duration": 50,
    "start_time": "2022-08-09T18:33:43.900Z"
   },
   {
    "duration": 38,
    "start_time": "2022-08-09T18:34:12.093Z"
   },
   {
    "duration": 43,
    "start_time": "2022-08-09T18:35:15.927Z"
   },
   {
    "duration": 17,
    "start_time": "2022-08-09T18:35:34.456Z"
   },
   {
    "duration": 24,
    "start_time": "2022-08-09T18:36:06.745Z"
   },
   {
    "duration": 36,
    "start_time": "2022-08-09T18:36:22.129Z"
   },
   {
    "duration": 38,
    "start_time": "2022-08-09T18:36:28.999Z"
   },
   {
    "duration": 45,
    "start_time": "2022-08-09T18:37:03.933Z"
   },
   {
    "duration": 43,
    "start_time": "2022-08-09T18:37:09.566Z"
   },
   {
    "duration": 399,
    "start_time": "2022-08-09T18:40:48.085Z"
   },
   {
    "duration": 20,
    "start_time": "2022-08-09T18:44:43.492Z"
   },
   {
    "duration": 31,
    "start_time": "2022-08-09T18:45:19.603Z"
   },
   {
    "duration": 39,
    "start_time": "2022-08-09T18:45:26.605Z"
   },
   {
    "duration": 45,
    "start_time": "2022-08-09T18:45:58.333Z"
   },
   {
    "duration": 14,
    "start_time": "2022-08-09T18:46:02.549Z"
   },
   {
    "duration": 45,
    "start_time": "2022-08-09T18:47:24.969Z"
   },
   {
    "duration": 917,
    "start_time": "2022-08-09T18:48:03.234Z"
   },
   {
    "duration": 50,
    "start_time": "2022-08-09T18:48:17.668Z"
   },
   {
    "duration": 42,
    "start_time": "2022-08-09T18:49:25.051Z"
   },
   {
    "duration": 862,
    "start_time": "2022-08-09T18:50:46.572Z"
   },
   {
    "duration": 29,
    "start_time": "2022-08-09T18:50:54.779Z"
   },
   {
    "duration": 847,
    "start_time": "2022-08-09T18:51:27.551Z"
   },
   {
    "duration": 38,
    "start_time": "2022-08-09T18:51:39.386Z"
   },
   {
    "duration": 52,
    "start_time": "2022-08-09T18:51:55.646Z"
   },
   {
    "duration": 43,
    "start_time": "2022-08-09T18:52:06.309Z"
   },
   {
    "duration": 40,
    "start_time": "2022-08-09T18:53:02.829Z"
   },
   {
    "duration": 26,
    "start_time": "2022-08-09T19:02:37.038Z"
   },
   {
    "duration": 13,
    "start_time": "2022-08-09T19:05:51.706Z"
   },
   {
    "duration": 24,
    "start_time": "2022-08-09T19:06:11.967Z"
   },
   {
    "duration": 23,
    "start_time": "2022-08-09T19:06:33.292Z"
   },
   {
    "duration": 22,
    "start_time": "2022-08-09T19:07:42.977Z"
   },
   {
    "duration": 30,
    "start_time": "2022-08-09T19:10:57.799Z"
   },
   {
    "duration": 34,
    "start_time": "2022-08-09T19:11:06.851Z"
   },
   {
    "duration": 23,
    "start_time": "2022-08-09T19:11:26.385Z"
   },
   {
    "duration": 26,
    "start_time": "2022-08-09T19:11:34.401Z"
   },
   {
    "duration": 24,
    "start_time": "2022-08-09T19:12:27.658Z"
   },
   {
    "duration": 12,
    "start_time": "2022-08-09T19:21:07.819Z"
   },
   {
    "duration": 6,
    "start_time": "2022-08-09T19:21:21.911Z"
   },
   {
    "duration": 15,
    "start_time": "2022-08-09T19:21:27.886Z"
   },
   {
    "duration": 23,
    "start_time": "2022-08-09T19:21:34.451Z"
   },
   {
    "duration": 13,
    "start_time": "2022-08-09T19:21:35.828Z"
   },
   {
    "duration": 11,
    "start_time": "2022-08-09T19:21:42.075Z"
   },
   {
    "duration": 24,
    "start_time": "2022-08-09T19:21:44.015Z"
   },
   {
    "duration": 12,
    "start_time": "2022-08-09T19:21:44.715Z"
   },
   {
    "duration": 14,
    "start_time": "2022-08-09T19:21:55.189Z"
   },
   {
    "duration": 23,
    "start_time": "2022-08-09T19:21:59.338Z"
   },
   {
    "duration": 16,
    "start_time": "2022-08-09T19:21:59.800Z"
   },
   {
    "duration": 15,
    "start_time": "2022-08-09T19:22:10.842Z"
   },
   {
    "duration": 34,
    "start_time": "2022-08-09T19:22:13.047Z"
   },
   {
    "duration": 13,
    "start_time": "2022-08-09T19:22:13.721Z"
   },
   {
    "duration": 20,
    "start_time": "2022-08-09T19:23:03.552Z"
   },
   {
    "duration": 22,
    "start_time": "2022-08-09T19:26:54.986Z"
   },
   {
    "duration": 15,
    "start_time": "2022-08-09T19:27:11.673Z"
   },
   {
    "duration": 19,
    "start_time": "2022-08-09T19:27:44.716Z"
   },
   {
    "duration": 18,
    "start_time": "2022-08-09T19:27:50.627Z"
   },
   {
    "duration": 23,
    "start_time": "2022-08-09T19:28:17.762Z"
   },
   {
    "duration": 733,
    "start_time": "2022-08-09T19:28:42.446Z"
   },
   {
    "duration": 23,
    "start_time": "2022-08-09T19:28:48.448Z"
   },
   {
    "duration": 0,
    "start_time": "2022-08-09T19:28:55.524Z"
   },
   {
    "duration": 182,
    "start_time": "2022-08-09T19:28:57.755Z"
   },
   {
    "duration": 172,
    "start_time": "2022-08-09T19:29:05.991Z"
   },
   {
    "duration": 210,
    "start_time": "2022-08-09T19:29:09.092Z"
   },
   {
    "duration": 217,
    "start_time": "2022-08-09T19:29:13.601Z"
   },
   {
    "duration": 23,
    "start_time": "2022-08-09T19:29:42.588Z"
   },
   {
    "duration": 15,
    "start_time": "2022-08-09T19:29:50.570Z"
   },
   {
    "duration": 15,
    "start_time": "2022-08-09T19:30:53.829Z"
   },
   {
    "duration": 14,
    "start_time": "2022-08-09T19:30:56.464Z"
   },
   {
    "duration": 224,
    "start_time": "2022-08-09T19:31:47.955Z"
   },
   {
    "duration": 10,
    "start_time": "2022-08-09T19:31:53.443Z"
   },
   {
    "duration": 20,
    "start_time": "2022-08-09T19:32:23.937Z"
   },
   {
    "duration": 15,
    "start_time": "2022-08-09T19:33:07.868Z"
   },
   {
    "duration": 21,
    "start_time": "2022-08-09T19:33:15.534Z"
   },
   {
    "duration": 15,
    "start_time": "2022-08-09T19:33:23.492Z"
   },
   {
    "duration": 17,
    "start_time": "2022-08-09T19:33:36.318Z"
   },
   {
    "duration": 15,
    "start_time": "2022-08-09T19:34:07.744Z"
   },
   {
    "duration": 14,
    "start_time": "2022-08-09T19:34:19.761Z"
   },
   {
    "duration": 16,
    "start_time": "2022-08-09T19:34:27.474Z"
   },
   {
    "duration": 17,
    "start_time": "2022-08-09T19:35:17.084Z"
   },
   {
    "duration": 25,
    "start_time": "2022-08-09T19:35:58.975Z"
   },
   {
    "duration": 27,
    "start_time": "2022-08-09T19:36:05.046Z"
   },
   {
    "duration": 16,
    "start_time": "2022-08-09T19:36:05.531Z"
   },
   {
    "duration": 22,
    "start_time": "2022-08-09T19:36:13.583Z"
   },
   {
    "duration": 25,
    "start_time": "2022-08-09T19:37:47.018Z"
   },
   {
    "duration": 24,
    "start_time": "2022-08-09T19:40:23.052Z"
   },
   {
    "duration": 25,
    "start_time": "2022-08-09T19:40:41.481Z"
   },
   {
    "duration": 22,
    "start_time": "2022-08-09T19:40:44.324Z"
   },
   {
    "duration": 17,
    "start_time": "2022-08-09T19:41:38.460Z"
   },
   {
    "duration": 19,
    "start_time": "2022-08-09T19:41:43.427Z"
   },
   {
    "duration": 31,
    "start_time": "2022-08-09T19:42:24.499Z"
   },
   {
    "duration": 748,
    "start_time": "2022-08-09T19:42:27.555Z"
   },
   {
    "duration": 26,
    "start_time": "2022-08-09T19:42:37.635Z"
   },
   {
    "duration": 23,
    "start_time": "2022-08-09T19:42:46.376Z"
   },
   {
    "duration": 24,
    "start_time": "2022-08-09T19:44:56.402Z"
   },
   {
    "duration": 27,
    "start_time": "2022-08-09T19:46:05.560Z"
   },
   {
    "duration": 873,
    "start_time": "2022-08-09T19:47:14.949Z"
   },
   {
    "duration": 24,
    "start_time": "2022-08-09T19:47:20.479Z"
   },
   {
    "duration": 1415,
    "start_time": "2022-08-09T19:47:22.431Z"
   },
   {
    "duration": 24,
    "start_time": "2022-08-09T19:48:21.290Z"
   },
   {
    "duration": 18,
    "start_time": "2022-08-09T19:48:43.208Z"
   },
   {
    "duration": 19,
    "start_time": "2022-08-09T19:48:54.606Z"
   },
   {
    "duration": 24,
    "start_time": "2022-08-09T19:49:00.375Z"
   },
   {
    "duration": 26,
    "start_time": "2022-08-09T19:49:09.658Z"
   },
   {
    "duration": 27,
    "start_time": "2022-08-09T19:49:13.620Z"
   },
   {
    "duration": 26,
    "start_time": "2022-08-09T19:49:21.267Z"
   },
   {
    "duration": 16,
    "start_time": "2022-08-09T19:50:57.141Z"
   },
   {
    "duration": 15,
    "start_time": "2022-08-09T19:50:57.612Z"
   },
   {
    "duration": 262,
    "start_time": "2022-08-09T19:51:21.007Z"
   },
   {
    "duration": 279,
    "start_time": "2022-08-09T19:51:27.539Z"
   },
   {
    "duration": 280,
    "start_time": "2022-08-09T19:51:53.439Z"
   },
   {
    "duration": 294,
    "start_time": "2022-08-09T19:52:08.132Z"
   },
   {
    "duration": 294,
    "start_time": "2022-08-09T19:52:17.687Z"
   },
   {
    "duration": 327,
    "start_time": "2022-08-09T19:54:15.545Z"
   },
   {
    "duration": 17,
    "start_time": "2022-08-09T19:54:44.525Z"
   },
   {
    "duration": 50,
    "start_time": "2022-08-09T19:56:19.009Z"
   },
   {
    "duration": 10,
    "start_time": "2022-08-09T19:56:54.446Z"
   },
   {
    "duration": 10,
    "start_time": "2022-08-09T19:57:14.797Z"
   },
   {
    "duration": 9,
    "start_time": "2022-08-09T19:57:18.879Z"
   },
   {
    "duration": 10,
    "start_time": "2022-08-09T19:57:29.610Z"
   },
   {
    "duration": 10,
    "start_time": "2022-08-09T19:57:34.585Z"
   },
   {
    "duration": 10,
    "start_time": "2022-08-09T19:58:03.785Z"
   },
   {
    "duration": 10,
    "start_time": "2022-08-09T19:58:16.933Z"
   },
   {
    "duration": 15,
    "start_time": "2022-08-09T19:58:33.263Z"
   },
   {
    "duration": 10,
    "start_time": "2022-08-09T19:59:20.908Z"
   },
   {
    "duration": 10,
    "start_time": "2022-08-09T20:00:57.260Z"
   },
   {
    "duration": 279,
    "start_time": "2022-08-09T20:03:24.040Z"
   },
   {
    "duration": 302,
    "start_time": "2022-08-09T20:04:14.829Z"
   },
   {
    "duration": 278,
    "start_time": "2022-08-09T20:04:24.387Z"
   },
   {
    "duration": 3,
    "start_time": "2022-08-09T20:10:12.468Z"
   },
   {
    "duration": 1213,
    "start_time": "2022-08-09T20:10:12.473Z"
   },
   {
    "duration": 4,
    "start_time": "2022-08-09T20:10:13.688Z"
   },
   {
    "duration": 73,
    "start_time": "2022-08-09T20:10:13.693Z"
   },
   {
    "duration": 2921,
    "start_time": "2022-08-09T20:10:13.768Z"
   },
   {
    "duration": 11,
    "start_time": "2022-08-09T20:10:16.692Z"
   },
   {
    "duration": 16,
    "start_time": "2022-08-09T20:10:16.705Z"
   },
   {
    "duration": 16,
    "start_time": "2022-08-09T20:10:16.722Z"
   },
   {
    "duration": 7,
    "start_time": "2022-08-09T20:10:16.740Z"
   },
   {
    "duration": 4,
    "start_time": "2022-08-09T20:10:16.757Z"
   },
   {
    "duration": 10,
    "start_time": "2022-08-09T20:10:16.763Z"
   },
   {
    "duration": 30,
    "start_time": "2022-08-09T20:10:16.774Z"
   },
   {
    "duration": 4,
    "start_time": "2022-08-09T20:10:16.806Z"
   },
   {
    "duration": 162,
    "start_time": "2022-08-09T20:10:16.812Z"
   },
   {
    "duration": 28,
    "start_time": "2022-08-09T20:10:16.978Z"
   },
   {
    "duration": 208,
    "start_time": "2022-08-09T20:10:17.008Z"
   },
   {
    "duration": 25,
    "start_time": "2022-08-09T20:10:17.218Z"
   },
   {
    "duration": 23,
    "start_time": "2022-08-09T20:10:17.245Z"
   },
   {
    "duration": 18,
    "start_time": "2022-08-09T20:10:17.270Z"
   },
   {
    "duration": 15,
    "start_time": "2022-08-09T20:10:17.289Z"
   },
   {
    "duration": 24,
    "start_time": "2022-08-09T20:10:17.305Z"
   },
   {
    "duration": 44,
    "start_time": "2022-08-09T20:10:17.356Z"
   },
   {
    "duration": 55,
    "start_time": "2022-08-09T20:10:17.402Z"
   },
   {
    "duration": 14,
    "start_time": "2022-08-09T20:10:17.459Z"
   },
   {
    "duration": 114,
    "start_time": "2022-08-09T20:10:17.474Z"
   },
   {
    "duration": 0,
    "start_time": "2022-08-09T20:10:17.590Z"
   },
   {
    "duration": 0,
    "start_time": "2022-08-09T20:10:17.592Z"
   },
   {
    "duration": 0,
    "start_time": "2022-08-09T20:10:17.592Z"
   },
   {
    "duration": 0,
    "start_time": "2022-08-09T20:10:17.593Z"
   },
   {
    "duration": 0,
    "start_time": "2022-08-09T20:10:17.594Z"
   },
   {
    "duration": 0,
    "start_time": "2022-08-09T20:10:17.595Z"
   },
   {
    "duration": 0,
    "start_time": "2022-08-09T20:10:17.596Z"
   },
   {
    "duration": 0,
    "start_time": "2022-08-09T20:10:17.596Z"
   },
   {
    "duration": 0,
    "start_time": "2022-08-09T20:10:17.597Z"
   },
   {
    "duration": 0,
    "start_time": "2022-08-09T20:10:17.598Z"
   },
   {
    "duration": 0,
    "start_time": "2022-08-09T20:10:17.599Z"
   },
   {
    "duration": 0,
    "start_time": "2022-08-09T20:10:17.600Z"
   },
   {
    "duration": 0,
    "start_time": "2022-08-09T20:10:17.601Z"
   },
   {
    "duration": 0,
    "start_time": "2022-08-09T20:10:17.602Z"
   },
   {
    "duration": 0,
    "start_time": "2022-08-09T20:10:17.603Z"
   },
   {
    "duration": 0,
    "start_time": "2022-08-09T20:10:17.604Z"
   },
   {
    "duration": 0,
    "start_time": "2022-08-09T20:10:17.605Z"
   },
   {
    "duration": 0,
    "start_time": "2022-08-09T20:10:17.606Z"
   },
   {
    "duration": 0,
    "start_time": "2022-08-09T20:10:17.606Z"
   },
   {
    "duration": 0,
    "start_time": "2022-08-09T20:10:17.607Z"
   },
   {
    "duration": 0,
    "start_time": "2022-08-09T20:10:17.608Z"
   },
   {
    "duration": 0,
    "start_time": "2022-08-09T20:10:17.609Z"
   },
   {
    "duration": 0,
    "start_time": "2022-08-09T20:10:17.610Z"
   },
   {
    "duration": 0,
    "start_time": "2022-08-09T20:10:17.611Z"
   },
   {
    "duration": 0,
    "start_time": "2022-08-09T20:10:17.612Z"
   },
   {
    "duration": 0,
    "start_time": "2022-08-09T20:10:17.613Z"
   },
   {
    "duration": 0,
    "start_time": "2022-08-09T20:10:17.614Z"
   },
   {
    "duration": 0,
    "start_time": "2022-08-09T20:10:17.615Z"
   },
   {
    "duration": 0,
    "start_time": "2022-08-09T20:10:17.657Z"
   },
   {
    "duration": 0,
    "start_time": "2022-08-09T20:10:17.658Z"
   },
   {
    "duration": 0,
    "start_time": "2022-08-09T20:10:17.659Z"
   },
   {
    "duration": 0,
    "start_time": "2022-08-09T20:10:17.660Z"
   },
   {
    "duration": 0,
    "start_time": "2022-08-09T20:10:17.661Z"
   },
   {
    "duration": 0,
    "start_time": "2022-08-09T20:10:17.662Z"
   },
   {
    "duration": 12,
    "start_time": "2022-08-09T20:10:25.534Z"
   },
   {
    "duration": 205,
    "start_time": "2022-08-09T20:10:55.605Z"
   },
   {
    "duration": 1096,
    "start_time": "2022-08-09T20:11:13.903Z"
   },
   {
    "duration": 16,
    "start_time": "2022-08-09T20:11:26.632Z"
   },
   {
    "duration": 19,
    "start_time": "2022-08-09T20:12:27.551Z"
   },
   {
    "duration": 16,
    "start_time": "2022-08-09T20:12:34.105Z"
   },
   {
    "duration": 18,
    "start_time": "2022-08-09T20:12:43.898Z"
   },
   {
    "duration": 24,
    "start_time": "2022-08-09T20:12:45.418Z"
   },
   {
    "duration": 14,
    "start_time": "2022-08-09T20:12:47.396Z"
   },
   {
    "duration": 12,
    "start_time": "2022-08-09T20:12:59.063Z"
   },
   {
    "duration": 127,
    "start_time": "2022-08-09T20:13:20.299Z"
   },
   {
    "duration": 239,
    "start_time": "2022-08-09T20:13:38.218Z"
   },
   {
    "duration": 442,
    "start_time": "2022-08-09T20:13:51.475Z"
   },
   {
    "duration": 61,
    "start_time": "2022-08-09T20:14:06.464Z"
   },
   {
    "duration": 158,
    "start_time": "2022-08-09T20:14:06.527Z"
   },
   {
    "duration": 33,
    "start_time": "2022-08-09T20:14:06.686Z"
   },
   {
    "duration": 16,
    "start_time": "2022-08-09T20:14:06.758Z"
   },
   {
    "duration": 4,
    "start_time": "2022-08-09T20:14:06.776Z"
   },
   {
    "duration": 11460,
    "start_time": "2022-08-09T20:14:06.782Z"
   },
   {
    "duration": 13,
    "start_time": "2022-08-09T20:14:18.244Z"
   },
   {
    "duration": 14,
    "start_time": "2022-08-09T20:14:18.259Z"
   },
   {
    "duration": 209,
    "start_time": "2022-08-09T20:14:18.274Z"
   },
   {
    "duration": 235,
    "start_time": "2022-08-09T20:14:18.486Z"
   },
   {
    "duration": 218,
    "start_time": "2022-08-09T20:14:18.723Z"
   },
   {
    "duration": 28,
    "start_time": "2022-08-09T20:14:18.942Z"
   },
   {
    "duration": 17,
    "start_time": "2022-08-09T20:14:18.971Z"
   },
   {
    "duration": 11,
    "start_time": "2022-08-09T20:14:18.990Z"
   },
   {
    "duration": 323,
    "start_time": "2022-08-09T20:14:19.002Z"
   },
   {
    "duration": 288,
    "start_time": "2022-08-09T20:14:19.326Z"
   },
   {
    "duration": 29,
    "start_time": "2022-08-09T20:14:19.616Z"
   },
   {
    "duration": 65,
    "start_time": "2022-08-09T20:14:19.647Z"
   },
   {
    "duration": 22,
    "start_time": "2022-08-09T20:14:19.714Z"
   },
   {
    "duration": 30,
    "start_time": "2022-08-09T20:14:19.737Z"
   },
   {
    "duration": 15,
    "start_time": "2022-08-09T20:14:19.768Z"
   },
   {
    "duration": 19,
    "start_time": "2022-08-09T20:14:19.784Z"
   },
   {
    "duration": 241,
    "start_time": "2022-08-09T20:14:19.805Z"
   },
   {
    "duration": 40,
    "start_time": "2022-08-09T20:14:20.048Z"
   },
   {
    "duration": 72,
    "start_time": "2022-08-09T20:14:20.090Z"
   },
   {
    "duration": 0,
    "start_time": "2022-08-09T20:14:20.164Z"
   },
   {
    "duration": 0,
    "start_time": "2022-08-09T20:14:20.165Z"
   },
   {
    "duration": 0,
    "start_time": "2022-08-09T20:14:20.166Z"
   },
   {
    "duration": 0,
    "start_time": "2022-08-09T20:14:20.167Z"
   },
   {
    "duration": 0,
    "start_time": "2022-08-09T20:14:20.168Z"
   },
   {
    "duration": 0,
    "start_time": "2022-08-09T20:14:20.169Z"
   },
   {
    "duration": 13,
    "start_time": "2022-08-09T20:16:04.163Z"
   },
   {
    "duration": 15,
    "start_time": "2022-08-09T20:16:14.011Z"
   },
   {
    "duration": 14,
    "start_time": "2022-08-09T20:16:51.594Z"
   },
   {
    "duration": 711,
    "start_time": "2022-08-09T20:16:51.610Z"
   },
   {
    "duration": 3,
    "start_time": "2022-08-09T20:16:52.323Z"
   },
   {
    "duration": 17,
    "start_time": "2022-08-09T20:16:52.328Z"
   },
   {
    "duration": 4616,
    "start_time": "2022-08-09T20:16:52.347Z"
   },
   {
    "duration": 23,
    "start_time": "2022-08-09T20:16:56.965Z"
   },
   {
    "duration": 68,
    "start_time": "2022-08-09T20:16:56.990Z"
   },
   {
    "duration": 11,
    "start_time": "2022-08-09T20:24:58.683Z"
   },
   {
    "duration": 12,
    "start_time": "2022-08-09T20:25:49.488Z"
   },
   {
    "duration": 9,
    "start_time": "2022-08-09T20:25:57.153Z"
   },
   {
    "duration": 17,
    "start_time": "2022-08-09T20:25:59.821Z"
   },
   {
    "duration": 11,
    "start_time": "2022-08-09T20:26:04.996Z"
   },
   {
    "duration": 12,
    "start_time": "2022-08-09T20:26:17.927Z"
   },
   {
    "duration": 13,
    "start_time": "2022-08-09T20:26:30.083Z"
   },
   {
    "duration": 11,
    "start_time": "2022-08-09T20:26:34.687Z"
   },
   {
    "duration": 14,
    "start_time": "2022-08-09T20:28:33.389Z"
   },
   {
    "duration": 5,
    "start_time": "2022-08-10T13:32:42.578Z"
   },
   {
    "duration": 1260,
    "start_time": "2022-08-10T13:32:42.585Z"
   },
   {
    "duration": 4,
    "start_time": "2022-08-10T13:32:43.846Z"
   },
   {
    "duration": 74,
    "start_time": "2022-08-10T13:32:43.853Z"
   },
   {
    "duration": 3473,
    "start_time": "2022-08-10T13:32:43.928Z"
   },
   {
    "duration": 16,
    "start_time": "2022-08-10T13:32:47.402Z"
   },
   {
    "duration": 13,
    "start_time": "2022-08-10T13:32:47.421Z"
   },
   {
    "duration": 14,
    "start_time": "2022-08-10T13:32:47.435Z"
   },
   {
    "duration": 6,
    "start_time": "2022-08-10T13:32:47.451Z"
   },
   {
    "duration": 4,
    "start_time": "2022-08-10T13:32:47.459Z"
   },
   {
    "duration": 7,
    "start_time": "2022-08-10T13:32:47.464Z"
   },
   {
    "duration": 54,
    "start_time": "2022-08-10T13:32:47.472Z"
   },
   {
    "duration": 5,
    "start_time": "2022-08-10T13:32:47.528Z"
   },
   {
    "duration": 151,
    "start_time": "2022-08-10T13:32:47.534Z"
   },
   {
    "duration": 35,
    "start_time": "2022-08-10T13:32:47.687Z"
   },
   {
    "duration": 209,
    "start_time": "2022-08-10T13:32:47.724Z"
   },
   {
    "duration": 27,
    "start_time": "2022-08-10T13:32:47.934Z"
   },
   {
    "duration": 14,
    "start_time": "2022-08-10T13:32:47.963Z"
   },
   {
    "duration": 39,
    "start_time": "2022-08-10T13:32:47.979Z"
   },
   {
    "duration": 16,
    "start_time": "2022-08-10T13:32:48.019Z"
   },
   {
    "duration": 29,
    "start_time": "2022-08-10T13:32:48.036Z"
   },
   {
    "duration": 70,
    "start_time": "2022-08-10T13:32:48.067Z"
   },
   {
    "duration": 41,
    "start_time": "2022-08-10T13:32:48.139Z"
   },
   {
    "duration": 26,
    "start_time": "2022-08-10T13:32:48.181Z"
   },
   {
    "duration": 207,
    "start_time": "2022-08-10T13:32:48.209Z"
   },
   {
    "duration": 18,
    "start_time": "2022-08-10T13:32:48.418Z"
   },
   {
    "duration": 138,
    "start_time": "2022-08-10T13:32:48.437Z"
   },
   {
    "duration": 235,
    "start_time": "2022-08-10T13:32:48.579Z"
   },
   {
    "duration": 608,
    "start_time": "2022-08-10T13:32:48.816Z"
   },
   {
    "duration": 210,
    "start_time": "2022-08-10T13:32:49.425Z"
   },
   {
    "duration": 78,
    "start_time": "2022-08-10T13:32:49.637Z"
   },
   {
    "duration": 15,
    "start_time": "2022-08-10T13:32:49.719Z"
   },
   {
    "duration": 5,
    "start_time": "2022-08-10T13:32:49.736Z"
   },
   {
    "duration": 10703,
    "start_time": "2022-08-10T13:32:49.742Z"
   },
   {
    "duration": 4,
    "start_time": "2022-08-10T13:33:00.447Z"
   },
   {
    "duration": 26,
    "start_time": "2022-08-10T13:33:00.453Z"
   },
   {
    "duration": 219,
    "start_time": "2022-08-10T13:33:00.481Z"
   },
   {
    "duration": 252,
    "start_time": "2022-08-10T13:33:00.701Z"
   },
   {
    "duration": 146,
    "start_time": "2022-08-10T13:33:00.955Z"
   },
   {
    "duration": 32,
    "start_time": "2022-08-10T13:33:01.103Z"
   },
   {
    "duration": 19,
    "start_time": "2022-08-10T13:33:01.137Z"
   },
   {
    "duration": 10,
    "start_time": "2022-08-10T13:33:01.158Z"
   },
   {
    "duration": 391,
    "start_time": "2022-08-10T13:33:01.170Z"
   },
   {
    "duration": 299,
    "start_time": "2022-08-10T13:33:01.562Z"
   },
   {
    "duration": 29,
    "start_time": "2022-08-10T13:33:01.862Z"
   },
   {
    "duration": 73,
    "start_time": "2022-08-10T13:33:01.893Z"
   },
   {
    "duration": 21,
    "start_time": "2022-08-10T13:33:01.968Z"
   },
   {
    "duration": 9,
    "start_time": "2022-08-10T13:33:02.006Z"
   },
   {
    "duration": 29,
    "start_time": "2022-08-10T13:33:02.016Z"
   },
   {
    "duration": 20,
    "start_time": "2022-08-10T13:33:02.047Z"
   },
   {
    "duration": 244,
    "start_time": "2022-08-10T13:33:02.069Z"
   },
   {
    "duration": 33,
    "start_time": "2022-08-10T13:33:02.315Z"
   },
   {
    "duration": 17,
    "start_time": "2022-08-10T13:33:02.349Z"
   },
   {
    "duration": 1071,
    "start_time": "2022-08-10T13:33:02.368Z"
   },
   {
    "duration": 3,
    "start_time": "2022-08-10T13:33:03.441Z"
   },
   {
    "duration": 32,
    "start_time": "2022-08-10T13:33:03.446Z"
   },
   {
    "duration": 3760,
    "start_time": "2022-08-10T13:33:03.480Z"
   },
   {
    "duration": 79,
    "start_time": "2022-08-10T13:33:07.241Z"
   },
   {
    "duration": 11,
    "start_time": "2022-08-10T13:33:07.322Z"
   },
   {
    "duration": 157,
    "start_time": "2022-08-10T13:35:26.734Z"
   },
   {
    "duration": 979,
    "start_time": "2022-08-10T13:35:31.922Z"
   },
   {
    "duration": 163,
    "start_time": "2022-08-10T13:36:37.571Z"
   }
  ],
  "kernelspec": {
   "display_name": "Python 3 (ipykernel)",
   "language": "python",
   "name": "python3"
  },
  "language_info": {
   "codemirror_mode": {
    "name": "ipython",
    "version": 3
   },
   "file_extension": ".py",
   "mimetype": "text/x-python",
   "name": "python",
   "nbconvert_exporter": "python",
   "pygments_lexer": "ipython3",
   "version": "3.9.13"
  },
  "nbTranslate": {
   "displayLangs": [
    "en",
    "ru"
   ],
   "hotkey": "alt-t",
   "langInMainMenu": true,
   "sourceLang": "ru",
   "targetLang": "en",
   "useGoogleTranslate": true
  },
  "toc": {
   "base_numbering": 1,
   "nav_menu": {},
   "number_sections": true,
   "sideBar": true,
   "skip_h1_title": true,
   "title_cell": "Table of Contents",
   "title_sidebar": "Contents",
   "toc_cell": false,
   "toc_position": {
    "height": "calc(100% - 180px)",
    "left": "10px",
    "top": "150px",
    "width": "286.237px"
   },
   "toc_section_display": true,
   "toc_window_display": true
  },
  "varInspector": {
   "cols": {
    "lenName": 16,
    "lenType": 16,
    "lenVar": 40
   },
   "kernels_config": {
    "python": {
     "delete_cmd_postfix": "",
     "delete_cmd_prefix": "del ",
     "library": "var_list.py",
     "varRefreshCmd": "print(var_dic_list())"
    },
    "r": {
     "delete_cmd_postfix": ") ",
     "delete_cmd_prefix": "rm(",
     "library": "var_list.r",
     "varRefreshCmd": "cat(var_dic_list()) "
    }
   },
   "types_to_exclude": [
    "module",
    "function",
    "builtin_function_or_method",
    "instance",
    "_Feature"
   ],
   "window_display": false
  }
 },
 "nbformat": 4,
 "nbformat_minor": 2
}
