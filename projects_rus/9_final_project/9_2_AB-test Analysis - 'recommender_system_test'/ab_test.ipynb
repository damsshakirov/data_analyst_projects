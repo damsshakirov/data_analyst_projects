{
 "cells": [
  {
   "cell_type": "markdown",
   "metadata": {},
   "source": [
    "# A/B-тестирование - recommender_system_test"
   ]
  },
  {
   "cell_type": "markdown",
   "metadata": {},
   "source": [
    "**Описание проекта**\n",
    "\n",
    "Предстоит провести оценку результатов A/B-теста. В вашем распоряжении есть датасет с действиями пользователей, техническое задание и несколько вспомогательных датасетов.\n",
    "- Оцените корректность проведения теста\n",
    "- Проанализируйте результаты теста\n",
    "\n",
    "Чтобы оценить корректность проведения теста, проверьте:\n",
    "- пересечение тестовой аудитории с конкурирующим тестом,\n",
    "- совпадение теста и маркетинговых событий, другие проблемы временных границ теста.\n",
    "\n",
    "**Цель проекта**\n",
    "\n",
    "1. Оценить корректность проведения теста `recommender_system_test`\n",
    "2. Проанализировать результаты теста\n",
    "\n",
    "# Структура A/B тестирования\n",
    "\n",
    "1. Чтение и предобработка данных\n",
    "2. Оценить корректность проведения теста. Обратить внимание на:\n",
    "    - Соответствие данных требованиям технического задания. Проверить корректность всех пунктов технического задания.\n",
    "    - Время проведения теста. Убедиться, что оно не совпадает с маркетинговыми и другими активностями.\n",
    "    - Аудиторию теста. Удостовериться, что нет пересечений с конкурирующим тестом и нет пользователей, участвующих в двух группах теста одновременно. Проверить равномерность распределения по тестовым группам и правильность их формирования.\n",
    "3. Провести исследовательский анализ данных (EDA):\n",
    "    - Количество событий на пользователя одинаково распределены в выборках?\n",
    "    - Как число событий в выборках распределено по дням?\n",
    "    - Как меняется конверсия в воронке в выборках на разных этапах?\n",
    "    - Какие особенности данных нужно учесть, прежде чем приступать к A/B-тестированию?\n",
    "4. Оценить результаты A/B-тестирования\n",
    "    - Что можно сказать про результаты A/В-тестирования?\n",
    "    - Проверить статистическую разницу долей z-критерием.\n",
    "5. Описать выводы по этапу исследовательского анализа данных и по проведённой оценке результатов A/B-тестирования. Сделайте общее заключение о корректности проведения теста.\n",
    "\n",
    "**Техническое задание**\n",
    "\n",
    "- Название теста: `recommender_system_test`;\n",
    "- группы: А — контрольная, B — новая платёжная воронка;\n",
    "- дата запуска: 2020-12-07;\n",
    "- дата остановки набора новых пользователей: 2020-12-21;\n",
    "- дата остановки: 2021-01-04;\n",
    "- аудитория: 15% новых пользователей из региона EU;\n",
    "- назначение теста: тестирование изменений, связанных с внедрением улучшенной рекомендательной системы;\n",
    "- ожидаемое количество участников теста: 6000.\n",
    "- ожидаемый эффект: за 14 дней с момента регистрации пользователи покажут улучшение каждой метрики не менее, чем на 10%:\n",
    "    - конверсии в просмотр карточек товаров — событие `product_page`,\n",
    "    - просмотры корзины — `product_cart`,\n",
    "    - покупки — `purchase`."
   ]
  },
  {
   "cell_type": "markdown",
   "metadata": {},
   "source": [
    "**Оглавление:**\n",
    "<a id='section_id'></a>\n",
    "\n",
    "1. [Импорт библиотек и загрузка данных](#section_id1)\n",
    "2. [Корректность проведения теста](#section_id2)\n",
    "3. [Исследовательский анализ данных (EDA)](#section_id3)\n",
    "4. [Результаты A/B-тестирования](#section_id4)\n",
    "5. [Результаты исследования](#section_id5)"
   ]
  },
  {
   "cell_type": "markdown",
   "metadata": {},
   "source": [
    "## Импорт библиотек и загрузка данных\n",
    "<a id='section_id1'></a>"
   ]
  },
  {
   "cell_type": "code",
   "execution_count": 1,
   "metadata": {
    "ExecuteTime": {
     "end_time": "2022-11-18T10:42:56.713500Z",
     "start_time": "2022-11-18T10:42:44.396344Z"
    }
   },
   "outputs": [],
   "source": [
    "import pandas as pd\n",
    "import numpy as np\n",
    "from scipy import stats as st\n",
    "import math as mth\n",
    "import datetime as dt\n",
    "\n",
    "import matplotlib.pyplot as plt \n",
    "import seaborn as sns\n",
    "import plotly.express as px\n",
    "from plotly import graph_objects as go\n",
    "\n",
    "from IPython.display import display, HTML\n",
    "import warnings"
   ]
  },
  {
   "cell_type": "code",
   "execution_count": 2,
   "metadata": {
    "ExecuteTime": {
     "end_time": "2022-11-18T10:42:56.744389Z",
     "start_time": "2022-11-18T10:42:56.716463Z"
    }
   },
   "outputs": [
    {
     "data": {
      "text/html": [
       "<style>.container{width:80% !important;}</style"
      ],
      "text/plain": [
       "<IPython.core.display.HTML object>"
      ]
     },
     "metadata": {},
     "output_type": "display_data"
    }
   ],
   "source": [
    "# Формат отображения данных - отображение всех колонок и ограничиваю количество знаков после запятой\n",
    "pd.set_option('display.max_columns', None)\n",
    "pd.options.display.float_format = '{:,.2f}'.format\n",
    "pd.options.display.max_colwidth = 50\n",
    "# формат отображения ячеек с кодом:\n",
    "display(HTML(\"<style>.container{width:80% !important;}</style\"))\n",
    "\n",
    "# форматирую вывод графиков\n",
    "sns.set(rc={'figure.figsize':(10, 5)})\n",
    "sns.set_style('whitegrid')\n",
    "warnings.filterwarnings('ignore')"
   ]
  },
  {
   "cell_type": "code",
   "execution_count": 3,
   "metadata": {
    "ExecuteTime": {
     "end_time": "2022-11-18T10:43:10.265843Z",
     "start_time": "2022-11-18T10:42:56.747380Z"
    }
   },
   "outputs": [],
   "source": [
    "final_ab_events, ab_project_marketing_events, final_ab_new_users, final_ab_participants = (\n",
    "    pd.read_csv('/datasets/final_ab_events.csv')\n",
    "    ,pd.read_csv('/datasets/ab_project_marketing_events.csv')\n",
    "    ,pd.read_csv('/datasets/final_ab_new_users.csv')\n",
    "    ,pd.read_csv('/datasets/final_ab_participants.csv')\n",
    ")"
   ]
  },
  {
   "cell_type": "markdown",
   "metadata": {},
   "source": [
    "### Обзор данных\n",
    "\n",
    "#### `final_ab_events`"
   ]
  },
  {
   "cell_type": "code",
   "execution_count": 4,
   "metadata": {
    "ExecuteTime": {
     "end_time": "2022-11-18T10:43:10.581035Z",
     "start_time": "2022-11-18T10:43:10.269835Z"
    }
   },
   "outputs": [
    {
     "data": {
      "text/html": [
       "<div>\n",
       "<style scoped>\n",
       "    .dataframe tbody tr th:only-of-type {\n",
       "        vertical-align: middle;\n",
       "    }\n",
       "\n",
       "    .dataframe tbody tr th {\n",
       "        vertical-align: top;\n",
       "    }\n",
       "\n",
       "    .dataframe thead th {\n",
       "        text-align: right;\n",
       "    }\n",
       "</style>\n",
       "<table border=\"1\" class=\"dataframe\">\n",
       "  <thead>\n",
       "    <tr style=\"text-align: right;\">\n",
       "      <th></th>\n",
       "      <th>user_id</th>\n",
       "      <th>event_dt</th>\n",
       "      <th>event_name</th>\n",
       "      <th>details</th>\n",
       "    </tr>\n",
       "  </thead>\n",
       "  <tbody>\n",
       "    <tr>\n",
       "      <th>0</th>\n",
       "      <td>E1BDDCE0DAFA2679</td>\n",
       "      <td>2020-12-07 20:22:03</td>\n",
       "      <td>purchase</td>\n",
       "      <td>99.99</td>\n",
       "    </tr>\n",
       "    <tr>\n",
       "      <th>1</th>\n",
       "      <td>7B6452F081F49504</td>\n",
       "      <td>2020-12-07 09:22:53</td>\n",
       "      <td>purchase</td>\n",
       "      <td>9.99</td>\n",
       "    </tr>\n",
       "    <tr>\n",
       "      <th>2</th>\n",
       "      <td>9CD9F34546DF254C</td>\n",
       "      <td>2020-12-07 12:59:29</td>\n",
       "      <td>purchase</td>\n",
       "      <td>4.99</td>\n",
       "    </tr>\n",
       "  </tbody>\n",
       "</table>\n",
       "</div>"
      ],
      "text/plain": [
       "            user_id             event_dt event_name  details\n",
       "0  E1BDDCE0DAFA2679  2020-12-07 20:22:03   purchase    99.99\n",
       "1  7B6452F081F49504  2020-12-07 09:22:53   purchase     9.99\n",
       "2  9CD9F34546DF254C  2020-12-07 12:59:29   purchase     4.99"
      ]
     },
     "metadata": {},
     "output_type": "display_data"
    },
    {
     "name": "stdout",
     "output_type": "stream",
     "text": [
      "<class 'pandas.core.frame.DataFrame'>\n",
      "RangeIndex: 440317 entries, 0 to 440316\n",
      "Data columns (total 4 columns):\n",
      " #   Column      Non-Null Count   Dtype  \n",
      "---  ------      --------------   -----  \n",
      " 0   user_id     440317 non-null  object \n",
      " 1   event_dt    440317 non-null  object \n",
      " 2   event_name  440317 non-null  object \n",
      " 3   details     62740 non-null   float64\n",
      "dtypes: float64(1), object(3)\n",
      "memory usage: 13.4+ MB\n"
     ]
    },
    {
     "data": {
      "text/plain": [
       "None"
      ]
     },
     "metadata": {},
     "output_type": "display_data"
    },
    {
     "data": {
      "text/html": [
       "<div>\n",
       "<style scoped>\n",
       "    .dataframe tbody tr th:only-of-type {\n",
       "        vertical-align: middle;\n",
       "    }\n",
       "\n",
       "    .dataframe tbody tr th {\n",
       "        vertical-align: top;\n",
       "    }\n",
       "\n",
       "    .dataframe thead th {\n",
       "        text-align: right;\n",
       "    }\n",
       "</style>\n",
       "<table border=\"1\" class=\"dataframe\">\n",
       "  <thead>\n",
       "    <tr style=\"text-align: right;\">\n",
       "      <th></th>\n",
       "      <th>details</th>\n",
       "    </tr>\n",
       "  </thead>\n",
       "  <tbody>\n",
       "    <tr>\n",
       "      <th>count</th>\n",
       "      <td>62,740.00</td>\n",
       "    </tr>\n",
       "    <tr>\n",
       "      <th>mean</th>\n",
       "      <td>23.88</td>\n",
       "    </tr>\n",
       "    <tr>\n",
       "      <th>std</th>\n",
       "      <td>72.18</td>\n",
       "    </tr>\n",
       "    <tr>\n",
       "      <th>min</th>\n",
       "      <td>4.99</td>\n",
       "    </tr>\n",
       "    <tr>\n",
       "      <th>25%</th>\n",
       "      <td>4.99</td>\n",
       "    </tr>\n",
       "    <tr>\n",
       "      <th>50%</th>\n",
       "      <td>4.99</td>\n",
       "    </tr>\n",
       "    <tr>\n",
       "      <th>75%</th>\n",
       "      <td>9.99</td>\n",
       "    </tr>\n",
       "    <tr>\n",
       "      <th>max</th>\n",
       "      <td>499.99</td>\n",
       "    </tr>\n",
       "  </tbody>\n",
       "</table>\n",
       "</div>"
      ],
      "text/plain": [
       "        details\n",
       "count 62,740.00\n",
       "mean      23.88\n",
       "std       72.18\n",
       "min        4.99\n",
       "25%        4.99\n",
       "50%        4.99\n",
       "75%        9.99\n",
       "max      499.99"
      ]
     },
     "metadata": {},
     "output_type": "display_data"
    }
   ],
   "source": [
    "display(final_ab_events.head(3))\n",
    "display(final_ab_events.info())\n",
    "display(final_ab_events.describe())"
   ]
  },
  {
   "cell_type": "markdown",
   "metadata": {},
   "source": [
    "#### `ab_project_marketing_events`"
   ]
  },
  {
   "cell_type": "code",
   "execution_count": 5,
   "metadata": {
    "ExecuteTime": {
     "end_time": "2022-11-18T10:43:10.627950Z",
     "start_time": "2022-11-18T10:43:10.583995Z"
    }
   },
   "outputs": [
    {
     "data": {
      "text/html": [
       "<div>\n",
       "<style scoped>\n",
       "    .dataframe tbody tr th:only-of-type {\n",
       "        vertical-align: middle;\n",
       "    }\n",
       "\n",
       "    .dataframe tbody tr th {\n",
       "        vertical-align: top;\n",
       "    }\n",
       "\n",
       "    .dataframe thead th {\n",
       "        text-align: right;\n",
       "    }\n",
       "</style>\n",
       "<table border=\"1\" class=\"dataframe\">\n",
       "  <thead>\n",
       "    <tr style=\"text-align: right;\">\n",
       "      <th></th>\n",
       "      <th>name</th>\n",
       "      <th>regions</th>\n",
       "      <th>start_dt</th>\n",
       "      <th>finish_dt</th>\n",
       "    </tr>\n",
       "  </thead>\n",
       "  <tbody>\n",
       "    <tr>\n",
       "      <th>0</th>\n",
       "      <td>Christmas&amp;New Year Promo</td>\n",
       "      <td>EU, N.America</td>\n",
       "      <td>2020-12-25</td>\n",
       "      <td>2021-01-03</td>\n",
       "    </tr>\n",
       "    <tr>\n",
       "      <th>1</th>\n",
       "      <td>St. Valentine's Day Giveaway</td>\n",
       "      <td>EU, CIS, APAC, N.America</td>\n",
       "      <td>2020-02-14</td>\n",
       "      <td>2020-02-16</td>\n",
       "    </tr>\n",
       "    <tr>\n",
       "      <th>2</th>\n",
       "      <td>St. Patric's Day Promo</td>\n",
       "      <td>EU, N.America</td>\n",
       "      <td>2020-03-17</td>\n",
       "      <td>2020-03-19</td>\n",
       "    </tr>\n",
       "    <tr>\n",
       "      <th>3</th>\n",
       "      <td>Easter Promo</td>\n",
       "      <td>EU, CIS, APAC, N.America</td>\n",
       "      <td>2020-04-12</td>\n",
       "      <td>2020-04-19</td>\n",
       "    </tr>\n",
       "    <tr>\n",
       "      <th>4</th>\n",
       "      <td>4th of July Promo</td>\n",
       "      <td>N.America</td>\n",
       "      <td>2020-07-04</td>\n",
       "      <td>2020-07-11</td>\n",
       "    </tr>\n",
       "    <tr>\n",
       "      <th>5</th>\n",
       "      <td>Black Friday Ads Campaign</td>\n",
       "      <td>EU, CIS, APAC, N.America</td>\n",
       "      <td>2020-11-26</td>\n",
       "      <td>2020-12-01</td>\n",
       "    </tr>\n",
       "    <tr>\n",
       "      <th>6</th>\n",
       "      <td>Chinese New Year Promo</td>\n",
       "      <td>APAC</td>\n",
       "      <td>2020-01-25</td>\n",
       "      <td>2020-02-07</td>\n",
       "    </tr>\n",
       "    <tr>\n",
       "      <th>7</th>\n",
       "      <td>Labor day (May 1st) Ads Campaign</td>\n",
       "      <td>EU, CIS, APAC</td>\n",
       "      <td>2020-05-01</td>\n",
       "      <td>2020-05-03</td>\n",
       "    </tr>\n",
       "    <tr>\n",
       "      <th>8</th>\n",
       "      <td>International Women's Day Promo</td>\n",
       "      <td>EU, CIS, APAC</td>\n",
       "      <td>2020-03-08</td>\n",
       "      <td>2020-03-10</td>\n",
       "    </tr>\n",
       "    <tr>\n",
       "      <th>9</th>\n",
       "      <td>Victory Day CIS (May 9th) Event</td>\n",
       "      <td>CIS</td>\n",
       "      <td>2020-05-09</td>\n",
       "      <td>2020-05-11</td>\n",
       "    </tr>\n",
       "    <tr>\n",
       "      <th>10</th>\n",
       "      <td>CIS New Year Gift Lottery</td>\n",
       "      <td>CIS</td>\n",
       "      <td>2020-12-30</td>\n",
       "      <td>2021-01-07</td>\n",
       "    </tr>\n",
       "    <tr>\n",
       "      <th>11</th>\n",
       "      <td>Dragon Boat Festival Giveaway</td>\n",
       "      <td>APAC</td>\n",
       "      <td>2020-06-25</td>\n",
       "      <td>2020-07-01</td>\n",
       "    </tr>\n",
       "    <tr>\n",
       "      <th>12</th>\n",
       "      <td>Single's Day Gift Promo</td>\n",
       "      <td>APAC</td>\n",
       "      <td>2020-11-11</td>\n",
       "      <td>2020-11-12</td>\n",
       "    </tr>\n",
       "    <tr>\n",
       "      <th>13</th>\n",
       "      <td>Chinese Moon Festival</td>\n",
       "      <td>APAC</td>\n",
       "      <td>2020-10-01</td>\n",
       "      <td>2020-10-07</td>\n",
       "    </tr>\n",
       "  </tbody>\n",
       "</table>\n",
       "</div>"
      ],
      "text/plain": [
       "                                name                   regions    start_dt  \\\n",
       "0           Christmas&New Year Promo             EU, N.America  2020-12-25   \n",
       "1       St. Valentine's Day Giveaway  EU, CIS, APAC, N.America  2020-02-14   \n",
       "2             St. Patric's Day Promo             EU, N.America  2020-03-17   \n",
       "3                       Easter Promo  EU, CIS, APAC, N.America  2020-04-12   \n",
       "4                  4th of July Promo                 N.America  2020-07-04   \n",
       "5          Black Friday Ads Campaign  EU, CIS, APAC, N.America  2020-11-26   \n",
       "6             Chinese New Year Promo                      APAC  2020-01-25   \n",
       "7   Labor day (May 1st) Ads Campaign             EU, CIS, APAC  2020-05-01   \n",
       "8    International Women's Day Promo             EU, CIS, APAC  2020-03-08   \n",
       "9    Victory Day CIS (May 9th) Event                       CIS  2020-05-09   \n",
       "10         CIS New Year Gift Lottery                       CIS  2020-12-30   \n",
       "11     Dragon Boat Festival Giveaway                      APAC  2020-06-25   \n",
       "12           Single's Day Gift Promo                      APAC  2020-11-11   \n",
       "13             Chinese Moon Festival                      APAC  2020-10-01   \n",
       "\n",
       "     finish_dt  \n",
       "0   2021-01-03  \n",
       "1   2020-02-16  \n",
       "2   2020-03-19  \n",
       "3   2020-04-19  \n",
       "4   2020-07-11  \n",
       "5   2020-12-01  \n",
       "6   2020-02-07  \n",
       "7   2020-05-03  \n",
       "8   2020-03-10  \n",
       "9   2020-05-11  \n",
       "10  2021-01-07  \n",
       "11  2020-07-01  \n",
       "12  2020-11-12  \n",
       "13  2020-10-07  "
      ]
     },
     "metadata": {},
     "output_type": "display_data"
    },
    {
     "name": "stdout",
     "output_type": "stream",
     "text": [
      "<class 'pandas.core.frame.DataFrame'>\n",
      "RangeIndex: 14 entries, 0 to 13\n",
      "Data columns (total 4 columns):\n",
      " #   Column     Non-Null Count  Dtype \n",
      "---  ------     --------------  ----- \n",
      " 0   name       14 non-null     object\n",
      " 1   regions    14 non-null     object\n",
      " 2   start_dt   14 non-null     object\n",
      " 3   finish_dt  14 non-null     object\n",
      "dtypes: object(4)\n",
      "memory usage: 576.0+ bytes\n"
     ]
    },
    {
     "data": {
      "text/plain": [
       "None"
      ]
     },
     "metadata": {},
     "output_type": "display_data"
    },
    {
     "data": {
      "text/html": [
       "<div>\n",
       "<style scoped>\n",
       "    .dataframe tbody tr th:only-of-type {\n",
       "        vertical-align: middle;\n",
       "    }\n",
       "\n",
       "    .dataframe tbody tr th {\n",
       "        vertical-align: top;\n",
       "    }\n",
       "\n",
       "    .dataframe thead th {\n",
       "        text-align: right;\n",
       "    }\n",
       "</style>\n",
       "<table border=\"1\" class=\"dataframe\">\n",
       "  <thead>\n",
       "    <tr style=\"text-align: right;\">\n",
       "      <th></th>\n",
       "      <th>name</th>\n",
       "      <th>regions</th>\n",
       "      <th>start_dt</th>\n",
       "      <th>finish_dt</th>\n",
       "    </tr>\n",
       "  </thead>\n",
       "  <tbody>\n",
       "    <tr>\n",
       "      <th>count</th>\n",
       "      <td>14</td>\n",
       "      <td>14</td>\n",
       "      <td>14</td>\n",
       "      <td>14</td>\n",
       "    </tr>\n",
       "    <tr>\n",
       "      <th>unique</th>\n",
       "      <td>14</td>\n",
       "      <td>6</td>\n",
       "      <td>14</td>\n",
       "      <td>14</td>\n",
       "    </tr>\n",
       "    <tr>\n",
       "      <th>top</th>\n",
       "      <td>Christmas&amp;New Year Promo</td>\n",
       "      <td>APAC</td>\n",
       "      <td>2020-12-25</td>\n",
       "      <td>2021-01-03</td>\n",
       "    </tr>\n",
       "    <tr>\n",
       "      <th>freq</th>\n",
       "      <td>1</td>\n",
       "      <td>4</td>\n",
       "      <td>1</td>\n",
       "      <td>1</td>\n",
       "    </tr>\n",
       "  </tbody>\n",
       "</table>\n",
       "</div>"
      ],
      "text/plain": [
       "                            name regions    start_dt   finish_dt\n",
       "count                         14      14          14          14\n",
       "unique                        14       6          14          14\n",
       "top     Christmas&New Year Promo    APAC  2020-12-25  2021-01-03\n",
       "freq                           1       4           1           1"
      ]
     },
     "metadata": {},
     "output_type": "display_data"
    }
   ],
   "source": [
    "display(ab_project_marketing_events)\n",
    "display(ab_project_marketing_events.info())\n",
    "display(ab_project_marketing_events.describe())"
   ]
  },
  {
   "cell_type": "markdown",
   "metadata": {},
   "source": [
    "#### `final_ab_new_users`"
   ]
  },
  {
   "cell_type": "code",
   "execution_count": 6,
   "metadata": {
    "ExecuteTime": {
     "end_time": "2022-11-18T10:43:10.754611Z",
     "start_time": "2022-11-18T10:43:10.629903Z"
    }
   },
   "outputs": [
    {
     "data": {
      "text/html": [
       "<div>\n",
       "<style scoped>\n",
       "    .dataframe tbody tr th:only-of-type {\n",
       "        vertical-align: middle;\n",
       "    }\n",
       "\n",
       "    .dataframe tbody tr th {\n",
       "        vertical-align: top;\n",
       "    }\n",
       "\n",
       "    .dataframe thead th {\n",
       "        text-align: right;\n",
       "    }\n",
       "</style>\n",
       "<table border=\"1\" class=\"dataframe\">\n",
       "  <thead>\n",
       "    <tr style=\"text-align: right;\">\n",
       "      <th></th>\n",
       "      <th>user_id</th>\n",
       "      <th>first_date</th>\n",
       "      <th>region</th>\n",
       "      <th>device</th>\n",
       "    </tr>\n",
       "  </thead>\n",
       "  <tbody>\n",
       "    <tr>\n",
       "      <th>0</th>\n",
       "      <td>D72A72121175D8BE</td>\n",
       "      <td>2020-12-07</td>\n",
       "      <td>EU</td>\n",
       "      <td>PC</td>\n",
       "    </tr>\n",
       "    <tr>\n",
       "      <th>1</th>\n",
       "      <td>F1C668619DFE6E65</td>\n",
       "      <td>2020-12-07</td>\n",
       "      <td>N.America</td>\n",
       "      <td>Android</td>\n",
       "    </tr>\n",
       "    <tr>\n",
       "      <th>2</th>\n",
       "      <td>2E1BF1D4C37EA01F</td>\n",
       "      <td>2020-12-07</td>\n",
       "      <td>EU</td>\n",
       "      <td>PC</td>\n",
       "    </tr>\n",
       "  </tbody>\n",
       "</table>\n",
       "</div>"
      ],
      "text/plain": [
       "            user_id  first_date     region   device\n",
       "0  D72A72121175D8BE  2020-12-07         EU       PC\n",
       "1  F1C668619DFE6E65  2020-12-07  N.America  Android\n",
       "2  2E1BF1D4C37EA01F  2020-12-07         EU       PC"
      ]
     },
     "metadata": {},
     "output_type": "display_data"
    },
    {
     "name": "stdout",
     "output_type": "stream",
     "text": [
      "<class 'pandas.core.frame.DataFrame'>\n",
      "RangeIndex: 61733 entries, 0 to 61732\n",
      "Data columns (total 4 columns):\n",
      " #   Column      Non-Null Count  Dtype \n",
      "---  ------      --------------  ----- \n",
      " 0   user_id     61733 non-null  object\n",
      " 1   first_date  61733 non-null  object\n",
      " 2   region      61733 non-null  object\n",
      " 3   device      61733 non-null  object\n",
      "dtypes: object(4)\n",
      "memory usage: 1.9+ MB\n"
     ]
    },
    {
     "data": {
      "text/plain": [
       "None"
      ]
     },
     "metadata": {},
     "output_type": "display_data"
    },
    {
     "data": {
      "text/html": [
       "<div>\n",
       "<style scoped>\n",
       "    .dataframe tbody tr th:only-of-type {\n",
       "        vertical-align: middle;\n",
       "    }\n",
       "\n",
       "    .dataframe tbody tr th {\n",
       "        vertical-align: top;\n",
       "    }\n",
       "\n",
       "    .dataframe thead th {\n",
       "        text-align: right;\n",
       "    }\n",
       "</style>\n",
       "<table border=\"1\" class=\"dataframe\">\n",
       "  <thead>\n",
       "    <tr style=\"text-align: right;\">\n",
       "      <th></th>\n",
       "      <th>user_id</th>\n",
       "      <th>first_date</th>\n",
       "      <th>region</th>\n",
       "      <th>device</th>\n",
       "    </tr>\n",
       "  </thead>\n",
       "  <tbody>\n",
       "    <tr>\n",
       "      <th>count</th>\n",
       "      <td>61733</td>\n",
       "      <td>61733</td>\n",
       "      <td>61733</td>\n",
       "      <td>61733</td>\n",
       "    </tr>\n",
       "    <tr>\n",
       "      <th>unique</th>\n",
       "      <td>61733</td>\n",
       "      <td>17</td>\n",
       "      <td>4</td>\n",
       "      <td>4</td>\n",
       "    </tr>\n",
       "    <tr>\n",
       "      <th>top</th>\n",
       "      <td>D72A72121175D8BE</td>\n",
       "      <td>2020-12-21</td>\n",
       "      <td>EU</td>\n",
       "      <td>Android</td>\n",
       "    </tr>\n",
       "    <tr>\n",
       "      <th>freq</th>\n",
       "      <td>1</td>\n",
       "      <td>6290</td>\n",
       "      <td>46270</td>\n",
       "      <td>27520</td>\n",
       "    </tr>\n",
       "  </tbody>\n",
       "</table>\n",
       "</div>"
      ],
      "text/plain": [
       "                 user_id  first_date region   device\n",
       "count              61733       61733  61733    61733\n",
       "unique             61733          17      4        4\n",
       "top     D72A72121175D8BE  2020-12-21     EU  Android\n",
       "freq                   1        6290  46270    27520"
      ]
     },
     "metadata": {},
     "output_type": "display_data"
    }
   ],
   "source": [
    "display(final_ab_new_users.head(3))\n",
    "display(final_ab_new_users.info())\n",
    "display(final_ab_new_users.describe())"
   ]
  },
  {
   "cell_type": "markdown",
   "metadata": {},
   "source": [
    "#### `final_ab_participants`"
   ]
  },
  {
   "cell_type": "code",
   "execution_count": 7,
   "metadata": {
    "ExecuteTime": {
     "end_time": "2022-11-18T10:43:10.817403Z",
     "start_time": "2022-11-18T10:43:10.757531Z"
    }
   },
   "outputs": [
    {
     "data": {
      "text/html": [
       "<div>\n",
       "<style scoped>\n",
       "    .dataframe tbody tr th:only-of-type {\n",
       "        vertical-align: middle;\n",
       "    }\n",
       "\n",
       "    .dataframe tbody tr th {\n",
       "        vertical-align: top;\n",
       "    }\n",
       "\n",
       "    .dataframe thead th {\n",
       "        text-align: right;\n",
       "    }\n",
       "</style>\n",
       "<table border=\"1\" class=\"dataframe\">\n",
       "  <thead>\n",
       "    <tr style=\"text-align: right;\">\n",
       "      <th></th>\n",
       "      <th>user_id</th>\n",
       "      <th>group</th>\n",
       "      <th>ab_test</th>\n",
       "    </tr>\n",
       "  </thead>\n",
       "  <tbody>\n",
       "    <tr>\n",
       "      <th>0</th>\n",
       "      <td>D1ABA3E2887B6A73</td>\n",
       "      <td>A</td>\n",
       "      <td>recommender_system_test</td>\n",
       "    </tr>\n",
       "    <tr>\n",
       "      <th>1</th>\n",
       "      <td>A7A3664BD6242119</td>\n",
       "      <td>A</td>\n",
       "      <td>recommender_system_test</td>\n",
       "    </tr>\n",
       "    <tr>\n",
       "      <th>2</th>\n",
       "      <td>DABC14FDDFADD29E</td>\n",
       "      <td>A</td>\n",
       "      <td>recommender_system_test</td>\n",
       "    </tr>\n",
       "  </tbody>\n",
       "</table>\n",
       "</div>"
      ],
      "text/plain": [
       "            user_id group                  ab_test\n",
       "0  D1ABA3E2887B6A73     A  recommender_system_test\n",
       "1  A7A3664BD6242119     A  recommender_system_test\n",
       "2  DABC14FDDFADD29E     A  recommender_system_test"
      ]
     },
     "metadata": {},
     "output_type": "display_data"
    },
    {
     "name": "stdout",
     "output_type": "stream",
     "text": [
      "<class 'pandas.core.frame.DataFrame'>\n",
      "RangeIndex: 18268 entries, 0 to 18267\n",
      "Data columns (total 3 columns):\n",
      " #   Column   Non-Null Count  Dtype \n",
      "---  ------   --------------  ----- \n",
      " 0   user_id  18268 non-null  object\n",
      " 1   group    18268 non-null  object\n",
      " 2   ab_test  18268 non-null  object\n",
      "dtypes: object(3)\n",
      "memory usage: 428.3+ KB\n"
     ]
    },
    {
     "data": {
      "text/plain": [
       "None"
      ]
     },
     "metadata": {},
     "output_type": "display_data"
    },
    {
     "data": {
      "text/html": [
       "<div>\n",
       "<style scoped>\n",
       "    .dataframe tbody tr th:only-of-type {\n",
       "        vertical-align: middle;\n",
       "    }\n",
       "\n",
       "    .dataframe tbody tr th {\n",
       "        vertical-align: top;\n",
       "    }\n",
       "\n",
       "    .dataframe thead th {\n",
       "        text-align: right;\n",
       "    }\n",
       "</style>\n",
       "<table border=\"1\" class=\"dataframe\">\n",
       "  <thead>\n",
       "    <tr style=\"text-align: right;\">\n",
       "      <th></th>\n",
       "      <th>user_id</th>\n",
       "      <th>group</th>\n",
       "      <th>ab_test</th>\n",
       "    </tr>\n",
       "  </thead>\n",
       "  <tbody>\n",
       "    <tr>\n",
       "      <th>count</th>\n",
       "      <td>18268</td>\n",
       "      <td>18268</td>\n",
       "      <td>18268</td>\n",
       "    </tr>\n",
       "    <tr>\n",
       "      <th>unique</th>\n",
       "      <td>16666</td>\n",
       "      <td>2</td>\n",
       "      <td>2</td>\n",
       "    </tr>\n",
       "    <tr>\n",
       "      <th>top</th>\n",
       "      <td>0FDFDA0B2DEC2D91</td>\n",
       "      <td>A</td>\n",
       "      <td>interface_eu_test</td>\n",
       "    </tr>\n",
       "    <tr>\n",
       "      <th>freq</th>\n",
       "      <td>2</td>\n",
       "      <td>9655</td>\n",
       "      <td>11567</td>\n",
       "    </tr>\n",
       "  </tbody>\n",
       "</table>\n",
       "</div>"
      ],
      "text/plain": [
       "                 user_id  group            ab_test\n",
       "count              18268  18268              18268\n",
       "unique             16666      2                  2\n",
       "top     0FDFDA0B2DEC2D91      A  interface_eu_test\n",
       "freq                   2   9655              11567"
      ]
     },
     "metadata": {},
     "output_type": "display_data"
    }
   ],
   "source": [
    "display(final_ab_participants.head(3))\n",
    "display(final_ab_participants.info())\n",
    "display(final_ab_participants.describe())"
   ]
  },
  {
   "cell_type": "markdown",
   "metadata": {},
   "source": [
    "При первичном обзоре данных выявлены следующие проблемы:\n",
    "- приведу значения во всех датасетах к нижнему регистру\n",
    "- во всех датасетах, где есть дата, необходимо изменить тип данных на `datetime`\n",
    "- в датасете `final_ab_events` выявлены пропуски - при предобработке посмотрю как их исправить\n",
    "- проверю данные на явные дубликаты\n",
    "- в датасете `final_ab_participants` указаны данные двух разных тестов, при проверке на соответствие требованиям ТЗ уберу данные, не относящиеся к текущему исследованию.\n",
    "\n",
    "\n",
    "### Предобработка данных\n",
    "\n",
    "**Приведение к нижнему регистру**"
   ]
  },
  {
   "cell_type": "code",
   "execution_count": 8,
   "metadata": {
    "ExecuteTime": {
     "end_time": "2022-11-18T10:43:11.134588Z",
     "start_time": "2022-11-18T10:43:10.820362Z"
    }
   },
   "outputs": [],
   "source": [
    "final_ab_events['user_id'] = final_ab_events['user_id'].str.lower()\n",
    "final_ab_events['event_name'] = final_ab_events['event_name'].str.lower()\n",
    "\n",
    "ab_project_marketing_events['name'] = ab_project_marketing_events['name'].str.lower()\n",
    "ab_project_marketing_events['regions'] = ab_project_marketing_events['regions'].str.lower()\n",
    "\n",
    "final_ab_new_users['user_id'] = final_ab_new_users['user_id'].str.lower()\n",
    "final_ab_new_users['region'] = final_ab_new_users['region'].str.lower()\n",
    "final_ab_new_users['device'] = final_ab_new_users['device'].str.lower()\n",
    "\n",
    "final_ab_participants['user_id'] = final_ab_participants['user_id'].str.lower()\n",
    "final_ab_participants['group'] = final_ab_participants['group'].str.lower()"
   ]
  },
  {
   "cell_type": "markdown",
   "metadata": {},
   "source": [
    "**Изменение типов данных**"
   ]
  },
  {
   "cell_type": "code",
   "execution_count": 9,
   "metadata": {
    "ExecuteTime": {
     "end_time": "2022-11-18T10:43:11.515624Z",
     "start_time": "2022-11-18T10:43:11.136516Z"
    }
   },
   "outputs": [],
   "source": [
    "final_ab_events['event_dt'] = pd.to_datetime(final_ab_events['event_dt']).dt.round('1S')\n",
    "\n",
    "ab_project_marketing_events['start_dt'] = pd.to_datetime(ab_project_marketing_events['start_dt']).dt.round('1d')\n",
    "ab_project_marketing_events['finish_dt'] = pd.to_datetime(ab_project_marketing_events['finish_dt']).dt.round('1d')\n",
    "\n",
    "final_ab_new_users['first_date'] = pd.to_datetime(final_ab_new_users['first_date']).dt.round('1d')"
   ]
  },
  {
   "cell_type": "markdown",
   "metadata": {},
   "source": [
    "**Анализ пропусков в датасете final_ab_events**\n",
    "\n",
    "Сгруппирую датафрейм по виду событий и выведу колонку `details`"
   ]
  },
  {
   "cell_type": "code",
   "execution_count": 10,
   "metadata": {
    "ExecuteTime": {
     "end_time": "2022-11-18T10:43:11.578427Z",
     "start_time": "2022-11-18T10:43:11.523515Z"
    }
   },
   "outputs": [
    {
     "data": {
      "text/html": [
       "<div>\n",
       "<style scoped>\n",
       "    .dataframe tbody tr th:only-of-type {\n",
       "        vertical-align: middle;\n",
       "    }\n",
       "\n",
       "    .dataframe tbody tr th {\n",
       "        vertical-align: top;\n",
       "    }\n",
       "\n",
       "    .dataframe thead th {\n",
       "        text-align: right;\n",
       "    }\n",
       "</style>\n",
       "<table border=\"1\" class=\"dataframe\">\n",
       "  <thead>\n",
       "    <tr style=\"text-align: right;\">\n",
       "      <th></th>\n",
       "      <th>event_name</th>\n",
       "      <th>details_count</th>\n",
       "    </tr>\n",
       "  </thead>\n",
       "  <tbody>\n",
       "    <tr>\n",
       "      <th>0</th>\n",
       "      <td>login</td>\n",
       "      <td>0</td>\n",
       "    </tr>\n",
       "    <tr>\n",
       "      <th>1</th>\n",
       "      <td>product_cart</td>\n",
       "      <td>0</td>\n",
       "    </tr>\n",
       "    <tr>\n",
       "      <th>2</th>\n",
       "      <td>product_page</td>\n",
       "      <td>0</td>\n",
       "    </tr>\n",
       "    <tr>\n",
       "      <th>3</th>\n",
       "      <td>purchase</td>\n",
       "      <td>62740</td>\n",
       "    </tr>\n",
       "  </tbody>\n",
       "</table>\n",
       "</div>"
      ],
      "text/plain": [
       "     event_name  details_count\n",
       "0         login              0\n",
       "1  product_cart              0\n",
       "2  product_page              0\n",
       "3      purchase          62740"
      ]
     },
     "execution_count": 10,
     "metadata": {},
     "output_type": "execute_result"
    }
   ],
   "source": [
    "final_ab_events.groupby('event_name').agg(details_count=('details', 'count')).reset_index()"
   ]
  },
  {
   "cell_type": "markdown",
   "metadata": {},
   "source": [
    "Пропуски в датасете `final_ab_events` в колонке `details` относятся к тем строкам, где нет доп деталей по событию - вход, просмотр корзины. Проверю, встречается ли в колонке `details` начение 0, если нет, то заменю все пропуски на нули для дальнейшей работы со столбцом."
   ]
  },
  {
   "cell_type": "code",
   "execution_count": 11,
   "metadata": {
    "ExecuteTime": {
     "end_time": "2022-11-18T10:43:11.690159Z",
     "start_time": "2022-11-18T10:43:11.580329Z"
    }
   },
   "outputs": [
    {
     "data": {
      "text/html": [
       "<div>\n",
       "<style scoped>\n",
       "    .dataframe tbody tr th:only-of-type {\n",
       "        vertical-align: middle;\n",
       "    }\n",
       "\n",
       "    .dataframe tbody tr th {\n",
       "        vertical-align: top;\n",
       "    }\n",
       "\n",
       "    .dataframe thead th {\n",
       "        text-align: right;\n",
       "    }\n",
       "</style>\n",
       "<table border=\"1\" class=\"dataframe\">\n",
       "  <thead>\n",
       "    <tr style=\"text-align: right;\">\n",
       "      <th></th>\n",
       "      <th>details</th>\n",
       "    </tr>\n",
       "    <tr>\n",
       "      <th>event_name</th>\n",
       "      <th></th>\n",
       "    </tr>\n",
       "  </thead>\n",
       "  <tbody>\n",
       "    <tr>\n",
       "      <th>login</th>\n",
       "      <td>189552</td>\n",
       "    </tr>\n",
       "    <tr>\n",
       "      <th>product_cart</th>\n",
       "      <td>62462</td>\n",
       "    </tr>\n",
       "    <tr>\n",
       "      <th>product_page</th>\n",
       "      <td>125563</td>\n",
       "    </tr>\n",
       "    <tr>\n",
       "      <th>purchase</th>\n",
       "      <td>62740</td>\n",
       "    </tr>\n",
       "  </tbody>\n",
       "</table>\n",
       "</div>"
      ],
      "text/plain": [
       "              details\n",
       "event_name           \n",
       "login          189552\n",
       "product_cart    62462\n",
       "product_page   125563\n",
       "purchase        62740"
      ]
     },
     "execution_count": 11,
     "metadata": {},
     "output_type": "execute_result"
    }
   ],
   "source": [
    "final_ab_events['details'] = final_ab_events['details'].fillna(0)\n",
    "\n",
    "# Проверю корректность замены\n",
    "final_ab_events.pivot_table(index='event_name', values='details', aggfunc='count')"
   ]
  },
  {
   "cell_type": "markdown",
   "metadata": {},
   "source": [
    "Пропуски заменены на 0\n",
    "\n",
    "\n",
    "**Проверка на явные дубликаты**"
   ]
  },
  {
   "cell_type": "code",
   "execution_count": 12,
   "metadata": {
    "ExecuteTime": {
     "end_time": "2022-11-18T10:43:11.942411Z",
     "start_time": "2022-11-18T10:43:11.692030Z"
    }
   },
   "outputs": [
    {
     "name": "stdout",
     "output_type": "stream",
     "text": [
      "Количество явных дубликатов в final_ab_events: 0\n",
      "Количество явных дубликатов в ab_project_marketing_events: 0\n",
      "Количество явных дубликатов в final_ab_new_users: 0\n",
      "Количество явных дубликатов в final_ab_participants: 0\n"
     ]
    }
   ],
   "source": [
    "print('Количество явных дубликатов в final_ab_events:', final_ab_events.duplicated().sum())\n",
    "print('Количество явных дубликатов в ab_project_marketing_events:', ab_project_marketing_events.duplicated().sum())\n",
    "print('Количество явных дубликатов в final_ab_new_users:', final_ab_new_users.duplicated().sum())\n",
    "print('Количество явных дубликатов в final_ab_participants:', final_ab_participants.duplicated().sum())"
   ]
  },
  {
   "cell_type": "markdown",
   "metadata": {},
   "source": [
    "Пользователи с датой регистрации позже 21.12 относятся к другому тестированию.\n",
    "\n",
    "**Вывод:**\n",
    "\n",
    "- Все буквенные значения в датасетах приведены к нижнему регистру.\n",
    "- Данные приведены к нужному типу\n",
    "- Явные дубликаты не обнаружены\n",
    "- Пропуски в `final_ab_events` проанализирваны, замены на нули."
   ]
  },
  {
   "cell_type": "markdown",
   "metadata": {},
   "source": [
    "[Оглавление](#section_id)\n",
    "\n",
    "## Корректность проведения теста\n",
    "<a id='section_id2'></a>\n",
    "\n",
    "### Соответствие данных требованиям технического задания.\n",
    "\n",
    "Необходимо проверить корректность всех пунктов технического задания.\n",
    "\n",
    "#### Название теста\n",
    "\n",
    "Recommender_system_test\n",
    "\n",
    "На этапе обзора днных было выявлено, что в датасете присутствуют данные относящиеся к другому тестированию."
   ]
  },
  {
   "cell_type": "code",
   "execution_count": 13,
   "metadata": {
    "ExecuteTime": {
     "end_time": "2022-11-18T10:43:11.958320Z",
     "start_time": "2022-11-18T10:43:11.945353Z"
    }
   },
   "outputs": [
    {
     "data": {
      "text/plain": [
       "interface_eu_test          11567\n",
       "recommender_system_test     6701\n",
       "Name: ab_test, dtype: int64"
      ]
     },
     "execution_count": 13,
     "metadata": {},
     "output_type": "execute_result"
    }
   ],
   "source": [
    "final_ab_participants['ab_test'].value_counts()"
   ]
  },
  {
   "cell_type": "code",
   "execution_count": 14,
   "metadata": {
    "ExecuteTime": {
     "end_time": "2022-11-18T10:43:12.020185Z",
     "start_time": "2022-11-18T10:43:11.961311Z"
    }
   },
   "outputs": [
    {
     "data": {
      "text/html": [
       "<div>\n",
       "<style scoped>\n",
       "    .dataframe tbody tr th:only-of-type {\n",
       "        vertical-align: middle;\n",
       "    }\n",
       "\n",
       "    .dataframe tbody tr th {\n",
       "        vertical-align: top;\n",
       "    }\n",
       "\n",
       "    .dataframe thead th {\n",
       "        text-align: right;\n",
       "    }\n",
       "</style>\n",
       "<table border=\"1\" class=\"dataframe\">\n",
       "  <thead>\n",
       "    <tr style=\"text-align: right;\">\n",
       "      <th></th>\n",
       "      <th>ab_test</th>\n",
       "    </tr>\n",
       "  </thead>\n",
       "  <tbody>\n",
       "    <tr>\n",
       "      <th>count</th>\n",
       "      <td>6701</td>\n",
       "    </tr>\n",
       "    <tr>\n",
       "      <th>unique</th>\n",
       "      <td>1</td>\n",
       "    </tr>\n",
       "    <tr>\n",
       "      <th>top</th>\n",
       "      <td>recommender_system_test</td>\n",
       "    </tr>\n",
       "    <tr>\n",
       "      <th>freq</th>\n",
       "      <td>6701</td>\n",
       "    </tr>\n",
       "  </tbody>\n",
       "</table>\n",
       "</div>"
      ],
      "text/plain": [
       "                        ab_test\n",
       "count                      6701\n",
       "unique                        1\n",
       "top     recommender_system_test\n",
       "freq                       6701"
      ]
     },
     "execution_count": 14,
     "metadata": {},
     "output_type": "execute_result"
    }
   ],
   "source": [
    "# Оставлю в датафрейме только те данные, которые относятся к текущему тесту:\n",
    "final_ab_participants_clear = final_ab_participants[final_ab_participants['ab_test'] == 'recommender_system_test']\\\n",
    "                                            .reset_index(drop=True)\n",
    "final_ab_participants_clear[['ab_test']].describe()"
   ]
  },
  {
   "cell_type": "markdown",
   "metadata": {},
   "source": [
    "#### Группы тестирования\n",
    "\n",
    "А — контрольная, B — новая платёжная воронка"
   ]
  },
  {
   "cell_type": "code",
   "execution_count": 15,
   "metadata": {
    "ExecuteTime": {
     "end_time": "2022-11-18T10:43:12.036111Z",
     "start_time": "2022-11-18T10:43:12.023147Z"
    }
   },
   "outputs": [
    {
     "data": {
      "text/plain": [
       "array(['a', 'b'], dtype=object)"
      ]
     },
     "execution_count": 15,
     "metadata": {},
     "output_type": "execute_result"
    }
   ],
   "source": [
    "# Проверю названия групп:\n",
    "final_ab_participants['group'].unique()"
   ]
  },
  {
   "cell_type": "markdown",
   "metadata": {},
   "source": [
    "Названия групп соответствуют ТЗ.\n",
    "\n",
    "#### Дата остановки набора новых пользователей, дата запуска и остановки тестирования\n",
    "\n",
    "- дата остановки набора новых пользователей: 2020-12-21\n",
    "- дата запуска: 2020-12-07\n",
    "- дата остановки: 2021-01-04"
   ]
  },
  {
   "cell_type": "code",
   "execution_count": 16,
   "metadata": {
    "ExecuteTime": {
     "end_time": "2022-11-18T10:43:12.115897Z",
     "start_time": "2022-11-18T10:43:12.038145Z"
    }
   },
   "outputs": [
    {
     "name": "stdout",
     "output_type": "stream",
     "text": [
      "Первоначальная максимальная дата регистрации новых пользователей: 2020-12-23 00:00:00\n",
      "Корректная максимальная дата регистрации новых пользователей: 2020-12-21 00:00:00\n"
     ]
    },
    {
     "data": {
      "text/html": [
       "<div>\n",
       "<style scoped>\n",
       "    .dataframe tbody tr th:only-of-type {\n",
       "        vertical-align: middle;\n",
       "    }\n",
       "\n",
       "    .dataframe tbody tr th {\n",
       "        vertical-align: top;\n",
       "    }\n",
       "\n",
       "    .dataframe thead th {\n",
       "        text-align: right;\n",
       "    }\n",
       "</style>\n",
       "<table border=\"1\" class=\"dataframe\">\n",
       "  <thead>\n",
       "    <tr style=\"text-align: right;\">\n",
       "      <th></th>\n",
       "      <th>event_dt</th>\n",
       "    </tr>\n",
       "  </thead>\n",
       "  <tbody>\n",
       "    <tr>\n",
       "      <th>min</th>\n",
       "      <td>2020-12-07 00:00:33</td>\n",
       "    </tr>\n",
       "    <tr>\n",
       "      <th>max</th>\n",
       "      <td>2020-12-30 23:36:33</td>\n",
       "    </tr>\n",
       "  </tbody>\n",
       "</table>\n",
       "</div>"
      ],
      "text/plain": [
       "               event_dt\n",
       "min 2020-12-07 00:00:33\n",
       "max 2020-12-30 23:36:33"
      ]
     },
     "execution_count": 16,
     "metadata": {},
     "output_type": "execute_result"
    }
   ],
   "source": [
    "# Дата остановки набора новых пользователей\n",
    "print('Первоначальная максимальная дата регистрации новых пользователей:', final_ab_new_users['first_date'].max())\n",
    "\n",
    "final_ab_new_users = final_ab_new_users.loc[final_ab_new_users['first_date'] <= '2020-12-21'].reset_index(drop=True)\n",
    "print('Корректная максимальная дата регистрации новых пользователей:', final_ab_new_users['first_date'].max())\n",
    "\n",
    "# Даты запуска и остановки тестирования\n",
    "final_ab_events.agg({'event_dt':['min', 'max']})"
   ]
  },
  {
   "cell_type": "markdown",
   "metadata": {},
   "source": [
    "Дата завершения тестирования отличается от требования в ТЗ. События, происходившие с 23:36:33 30 декабря до 4 января не попали в датасет.\n",
    "\n",
    "Дата 4 января была выбрана исходя двухнедельного горизонта анализа (регистрация пользователй заканчивалась 21 декабря). Но данные зашли за период короче на 5 дней. Таким образом, мы не досчитаемся событий пользователей при проверке улучшения конверсии - в анализ не попадут события тех кто присоединился позже 16 декабря."
   ]
  },
  {
   "cell_type": "markdown",
   "metadata": {},
   "source": [
    "#### Аудитория\n",
    "\n",
    "15% новых пользователей из региона EU\n",
    "\n",
    "Для проверки данного пункта ТЗ, объединю 2 датафрейма с пользователями в один. "
   ]
  },
  {
   "cell_type": "code",
   "execution_count": 17,
   "metadata": {
    "ExecuteTime": {
     "end_time": "2022-11-18T10:43:12.162772Z",
     "start_time": "2022-11-18T10:43:12.119888Z"
    }
   },
   "outputs": [
    {
     "data": {
      "text/html": [
       "<div>\n",
       "<style scoped>\n",
       "    .dataframe tbody tr th:only-of-type {\n",
       "        vertical-align: middle;\n",
       "    }\n",
       "\n",
       "    .dataframe tbody tr th {\n",
       "        vertical-align: top;\n",
       "    }\n",
       "\n",
       "    .dataframe thead th {\n",
       "        text-align: right;\n",
       "    }\n",
       "</style>\n",
       "<table border=\"1\" class=\"dataframe\">\n",
       "  <thead>\n",
       "    <tr style=\"text-align: right;\">\n",
       "      <th></th>\n",
       "      <th>user_id</th>\n",
       "      <th>group</th>\n",
       "      <th>ab_test</th>\n",
       "      <th>first_date</th>\n",
       "      <th>region</th>\n",
       "      <th>device</th>\n",
       "    </tr>\n",
       "  </thead>\n",
       "  <tbody>\n",
       "    <tr>\n",
       "      <th>0</th>\n",
       "      <td>d1aba3e2887b6a73</td>\n",
       "      <td>a</td>\n",
       "      <td>recommender_system_test</td>\n",
       "      <td>2020-12-07</td>\n",
       "      <td>eu</td>\n",
       "      <td>pc</td>\n",
       "    </tr>\n",
       "    <tr>\n",
       "      <th>1</th>\n",
       "      <td>a7a3664bd6242119</td>\n",
       "      <td>a</td>\n",
       "      <td>recommender_system_test</td>\n",
       "      <td>2020-12-20</td>\n",
       "      <td>eu</td>\n",
       "      <td>iphone</td>\n",
       "    </tr>\n",
       "    <tr>\n",
       "      <th>2</th>\n",
       "      <td>dabc14fddfadd29e</td>\n",
       "      <td>a</td>\n",
       "      <td>recommender_system_test</td>\n",
       "      <td>2020-12-08</td>\n",
       "      <td>eu</td>\n",
       "      <td>mac</td>\n",
       "    </tr>\n",
       "  </tbody>\n",
       "</table>\n",
       "</div>"
      ],
      "text/plain": [
       "            user_id group                  ab_test first_date region  device\n",
       "0  d1aba3e2887b6a73     a  recommender_system_test 2020-12-07     eu      pc\n",
       "1  a7a3664bd6242119     a  recommender_system_test 2020-12-20     eu  iphone\n",
       "2  dabc14fddfadd29e     a  recommender_system_test 2020-12-08     eu     mac"
      ]
     },
     "execution_count": 17,
     "metadata": {},
     "output_type": "execute_result"
    }
   ],
   "source": [
    "final_ab_users = final_ab_participants_clear.merge(final_ab_new_users, on='user_id', how='left')\n",
    "\n",
    "# Выведу полученный датафрейм\n",
    "final_ab_users.head(3)"
   ]
  },
  {
   "cell_type": "code",
   "execution_count": 18,
   "metadata": {
    "ExecuteTime": {
     "end_time": "2022-11-18T10:43:12.178728Z",
     "start_time": "2022-11-18T10:43:12.165765Z"
    }
   },
   "outputs": [
    {
     "data": {
      "text/plain": [
       "eu           6351\n",
       "n.america     223\n",
       "apac           72\n",
       "cis            55\n",
       "Name: region, dtype: int64"
      ]
     },
     "execution_count": 18,
     "metadata": {},
     "output_type": "execute_result"
    }
   ],
   "source": [
    "# Распределение пользователей по регионам\n",
    "final_ab_users['region'].value_counts()"
   ]
  },
  {
   "cell_type": "markdown",
   "metadata": {},
   "source": [
    "Согласно ТЗ, аудитирия для теста должна состоять на 15% от всех новых пользователей из Европы, оставлю в датасете только пользователей из eu."
   ]
  },
  {
   "cell_type": "code",
   "execution_count": 19,
   "metadata": {
    "ExecuteTime": {
     "end_time": "2022-11-18T10:43:12.225677Z",
     "start_time": "2022-11-18T10:43:12.182718Z"
    }
   },
   "outputs": [
    {
     "name": "stdout",
     "output_type": "stream",
     "text": [
      "Доля пользователей из Европы относительно всех пользователей: 15.0%\n"
     ]
    }
   ],
   "source": [
    "final_ab_users = final_ab_users.loc[final_ab_users['region'] == 'eu'].reset_index(drop=True)\n",
    "\n",
    "print('Доля пользователей из Европы относительно всех пользователей: {:.1%}'.\\\n",
    "      format(final_ab_users['user_id'].nunique() / \n",
    "       final_ab_new_users[final_ab_new_users['region'] == 'eu']['user_id'].nunique()))"
   ]
  },
  {
   "cell_type": "markdown",
   "metadata": {},
   "source": [
    "В тесте участвуют ровно 15% от всех пользователей из Европы"
   ]
  },
  {
   "cell_type": "markdown",
   "metadata": {},
   "source": [
    "**Формирование единого датафрейма**\n",
    "\n",
    "Для дальнейшего анализа добавлю к объединённому датафрейму данные из `final_ab_events` методом `left`"
   ]
  },
  {
   "cell_type": "code",
   "execution_count": 20,
   "metadata": {
    "ExecuteTime": {
     "end_time": "2022-11-18T10:43:12.429096Z",
     "start_time": "2022-11-18T10:43:12.228598Z"
    }
   },
   "outputs": [
    {
     "data": {
      "text/html": [
       "<div>\n",
       "<style scoped>\n",
       "    .dataframe tbody tr th:only-of-type {\n",
       "        vertical-align: middle;\n",
       "    }\n",
       "\n",
       "    .dataframe tbody tr th {\n",
       "        vertical-align: top;\n",
       "    }\n",
       "\n",
       "    .dataframe thead th {\n",
       "        text-align: right;\n",
       "    }\n",
       "</style>\n",
       "<table border=\"1\" class=\"dataframe\">\n",
       "  <thead>\n",
       "    <tr style=\"text-align: right;\">\n",
       "      <th></th>\n",
       "      <th>user_id</th>\n",
       "      <th>group</th>\n",
       "      <th>ab_test</th>\n",
       "      <th>region</th>\n",
       "      <th>device</th>\n",
       "      <th>event_name</th>\n",
       "      <th>details</th>\n",
       "      <th>first_date</th>\n",
       "      <th>event_dt</th>\n",
       "    </tr>\n",
       "  </thead>\n",
       "  <tbody>\n",
       "    <tr>\n",
       "      <th>0</th>\n",
       "      <td>d1aba3e2887b6a73</td>\n",
       "      <td>a</td>\n",
       "      <td>recommender_system_test</td>\n",
       "      <td>eu</td>\n",
       "      <td>pc</td>\n",
       "      <td>purchase</td>\n",
       "      <td>99.99</td>\n",
       "      <td>2020-12-07</td>\n",
       "      <td>2020-12-07 14:43:27</td>\n",
       "    </tr>\n",
       "    <tr>\n",
       "      <th>1</th>\n",
       "      <td>d1aba3e2887b6a73</td>\n",
       "      <td>a</td>\n",
       "      <td>recommender_system_test</td>\n",
       "      <td>eu</td>\n",
       "      <td>pc</td>\n",
       "      <td>purchase</td>\n",
       "      <td>4.99</td>\n",
       "      <td>2020-12-07</td>\n",
       "      <td>2020-12-25 00:04:56</td>\n",
       "    </tr>\n",
       "    <tr>\n",
       "      <th>2</th>\n",
       "      <td>d1aba3e2887b6a73</td>\n",
       "      <td>a</td>\n",
       "      <td>recommender_system_test</td>\n",
       "      <td>eu</td>\n",
       "      <td>pc</td>\n",
       "      <td>product_cart</td>\n",
       "      <td>0.00</td>\n",
       "      <td>2020-12-07</td>\n",
       "      <td>2020-12-07 14:43:29</td>\n",
       "    </tr>\n",
       "  </tbody>\n",
       "</table>\n",
       "</div>"
      ],
      "text/plain": [
       "            user_id group                  ab_test region device  \\\n",
       "0  d1aba3e2887b6a73     a  recommender_system_test     eu     pc   \n",
       "1  d1aba3e2887b6a73     a  recommender_system_test     eu     pc   \n",
       "2  d1aba3e2887b6a73     a  recommender_system_test     eu     pc   \n",
       "\n",
       "     event_name  details first_date            event_dt  \n",
       "0      purchase    99.99 2020-12-07 2020-12-07 14:43:27  \n",
       "1      purchase     4.99 2020-12-07 2020-12-25 00:04:56  \n",
       "2  product_cart     0.00 2020-12-07 2020-12-07 14:43:29  "
      ]
     },
     "execution_count": 20,
     "metadata": {},
     "output_type": "execute_result"
    }
   ],
   "source": [
    "final_ab = final_ab_users.merge(final_ab_events, on='user_id', how='left')\n",
    "\n",
    "# Поменяю местами столбцы для удобства\n",
    "final_ab = final_ab[['user_id', 'group', 'ab_test', 'region', 'device', 'event_name', 'details', 'first_date', 'event_dt']]\n",
    "\n",
    "# Выведу полученный датафрейм\n",
    "final_ab.head(3)"
   ]
  },
  {
   "cell_type": "code",
   "execution_count": 21,
   "metadata": {
    "ExecuteTime": {
     "end_time": "2022-11-18T10:43:12.477022Z",
     "start_time": "2022-11-18T10:43:12.431055Z"
    }
   },
   "outputs": [
    {
     "name": "stdout",
     "output_type": "stream",
     "text": [
      "<class 'pandas.core.frame.DataFrame'>\n",
      "Int64Index: 26290 entries, 0 to 26289\n",
      "Data columns (total 9 columns):\n",
      " #   Column      Non-Null Count  Dtype         \n",
      "---  ------      --------------  -----         \n",
      " 0   user_id     26290 non-null  object        \n",
      " 1   group       26290 non-null  object        \n",
      " 2   ab_test     26290 non-null  object        \n",
      " 3   region      26290 non-null  object        \n",
      " 4   device      26290 non-null  object        \n",
      " 5   event_name  23420 non-null  object        \n",
      " 6   details     23420 non-null  float64       \n",
      " 7   first_date  26290 non-null  datetime64[ns]\n",
      " 8   event_dt    23420 non-null  datetime64[ns]\n",
      "dtypes: datetime64[ns](2), float64(1), object(6)\n",
      "memory usage: 2.0+ MB\n",
      "\n",
      "Количество уникальных пользователей: 6351\n"
     ]
    }
   ],
   "source": [
    "final_ab.info()\n",
    "print('')\n",
    "print('Количество уникальных пользователей:', final_ab['user_id'].nunique())"
   ]
  },
  {
   "cell_type": "markdown",
   "metadata": {},
   "source": [
    "После объединения датасетов образовались пустые значения, подтянутые из датафрейма `final_ab_events`. Эти пропуски относятся к пользователям, не совершивших ни одного действия после регистрации. Сохраню этих пользователей в отдельный датафрейм, а из основного удалю пропуски, оставив только пользователей, совершивших какое-либо действие."
   ]
  },
  {
   "cell_type": "code",
   "execution_count": 22,
   "metadata": {
    "ExecuteTime": {
     "end_time": "2022-11-18T10:43:12.539888Z",
     "start_time": "2022-11-18T10:43:12.479932Z"
    }
   },
   "outputs": [
    {
     "name": "stdout",
     "output_type": "stream",
     "text": [
      "<class 'pandas.core.frame.DataFrame'>\n",
      "RangeIndex: 23420 entries, 0 to 23419\n",
      "Data columns (total 9 columns):\n",
      " #   Column      Non-Null Count  Dtype         \n",
      "---  ------      --------------  -----         \n",
      " 0   user_id     23420 non-null  object        \n",
      " 1   group       23420 non-null  object        \n",
      " 2   ab_test     23420 non-null  object        \n",
      " 3   region      23420 non-null  object        \n",
      " 4   device      23420 non-null  object        \n",
      " 5   event_name  23420 non-null  object        \n",
      " 6   details     23420 non-null  float64       \n",
      " 7   first_date  23420 non-null  datetime64[ns]\n",
      " 8   event_dt    23420 non-null  datetime64[ns]\n",
      "dtypes: datetime64[ns](2), float64(1), object(6)\n",
      "memory usage: 1.6+ MB\n",
      "\n",
      "Количество уникальных пользователей (без действий): 2870\n",
      "Количество уникальных пользователей (совершивших действие): 3481\n"
     ]
    }
   ],
   "source": [
    "users_no_events = final_ab[final_ab['event_name'].isna()]\n",
    "# Убираю неактивных пользователей (строки с пропусками в названии события)\n",
    "final_ab.dropna(subset=['event_name'], inplace=True)\n",
    "final_ab = final_ab.reset_index(drop=True)\n",
    "# Проверка датафрейма\n",
    "final_ab.info()\n",
    "print('')\n",
    "print('Количество уникальных пользователей (без действий):', users_no_events['user_id'].nunique())\n",
    "print('Количество уникальных пользователей (совершивших действие):', final_ab['user_id'].nunique())"
   ]
  },
  {
   "cell_type": "markdown",
   "metadata": {},
   "source": [
    "#### Назначение теста \n",
    "\n",
    "Тестирование изменений, связанных с внедрением улучшенной рекомендательной системы - данный пункт проверен при фильтрации датафрейма `final_ab_participants` по названию тестирования. Данные пользователей, относящиеся к другому тестированию, исключены из датафреймов. \n",
    "\n",
    "\n",
    "#### Ожидаемое количество участников теста\n",
    "\n",
    "Ожидаемое число участников = 6000"
   ]
  },
  {
   "cell_type": "code",
   "execution_count": 23,
   "metadata": {
    "ExecuteTime": {
     "end_time": "2022-11-18T10:43:12.555754Z",
     "start_time": "2022-11-18T10:43:12.542756Z"
    }
   },
   "outputs": [
    {
     "name": "stdout",
     "output_type": "stream",
     "text": [
      "Число пользователей: 6351\n",
      "Число пользователей, совершивших действие: 3481\n"
     ]
    }
   ],
   "source": [
    "print('Число пользователей:', final_ab_users['user_id'].nunique())\n",
    "print('Число пользователей, совершивших действие:', final_ab['user_id'].nunique())"
   ]
  },
  {
   "cell_type": "markdown",
   "metadata": {},
   "source": [
    "Число пользователей, совершивший хоть одно действие почти в 2 раза ниже заявленного требования.\n",
    "\n",
    "#### Метрики - ожидаемый эффект\n",
    "\n",
    "Ожидаемый эффект: за 14 дней с момента регистрации пользователи покажут улучшение каждой метрики не менее, чем на 10%:\n",
    "- конверсии в просмотр карточек товаров — событие `product_page`,\n",
    "- просмотры корзины — `product_cart`,\n",
    "- покупки — `purchase`.\n",
    "\n",
    "\n",
    "По ТЗ нам нужно проанализировать период с момента регистрации в 14 дней, расчитаю лайфтайм между датами регистрации и события и уберу из датафрейма события, превышающие лайфтайм в 14 дней.  "
   ]
  },
  {
   "cell_type": "code",
   "execution_count": 24,
   "metadata": {
    "ExecuteTime": {
     "end_time": "2022-11-18T10:43:12.602994Z",
     "start_time": "2022-11-18T10:43:12.558713Z"
    }
   },
   "outputs": [
    {
     "name": "stdout",
     "output_type": "stream",
     "text": [
      "Величина датафрейма до исключения событий с lifetime > 14 дней: (23420, 10)\n"
     ]
    }
   ],
   "source": [
    "# Добавление колонки lifetime\n",
    "final_ab['lifetime'] = (final_ab['event_dt'] - final_ab['first_date']).dt.days\n",
    "print('Величина датафрейма до исключения событий с lifetime > 14 дней:', final_ab.shape)"
   ]
  },
  {
   "cell_type": "code",
   "execution_count": 25,
   "metadata": {
    "ExecuteTime": {
     "end_time": "2022-11-18T10:43:12.633789Z",
     "start_time": "2022-11-18T10:43:12.605862Z"
    }
   },
   "outputs": [
    {
     "name": "stdout",
     "output_type": "stream",
     "text": [
      "Величина датафрейма после исключения событий с lifetime > 14 дней: (22828, 10)\n"
     ]
    },
    {
     "data": {
      "text/html": [
       "<div>\n",
       "<style scoped>\n",
       "    .dataframe tbody tr th:only-of-type {\n",
       "        vertical-align: middle;\n",
       "    }\n",
       "\n",
       "    .dataframe tbody tr th {\n",
       "        vertical-align: top;\n",
       "    }\n",
       "\n",
       "    .dataframe thead th {\n",
       "        text-align: right;\n",
       "    }\n",
       "</style>\n",
       "<table border=\"1\" class=\"dataframe\">\n",
       "  <thead>\n",
       "    <tr style=\"text-align: right;\">\n",
       "      <th></th>\n",
       "      <th>user_id</th>\n",
       "      <th>group</th>\n",
       "      <th>ab_test</th>\n",
       "      <th>region</th>\n",
       "      <th>device</th>\n",
       "      <th>event_name</th>\n",
       "      <th>details</th>\n",
       "      <th>first_date</th>\n",
       "      <th>event_dt</th>\n",
       "      <th>lifetime</th>\n",
       "    </tr>\n",
       "  </thead>\n",
       "  <tbody>\n",
       "    <tr>\n",
       "      <th>0</th>\n",
       "      <td>d1aba3e2887b6a73</td>\n",
       "      <td>a</td>\n",
       "      <td>recommender_system_test</td>\n",
       "      <td>eu</td>\n",
       "      <td>pc</td>\n",
       "      <td>purchase</td>\n",
       "      <td>99.99</td>\n",
       "      <td>2020-12-07</td>\n",
       "      <td>2020-12-07 14:43:27</td>\n",
       "      <td>0</td>\n",
       "    </tr>\n",
       "    <tr>\n",
       "      <th>1</th>\n",
       "      <td>d1aba3e2887b6a73</td>\n",
       "      <td>a</td>\n",
       "      <td>recommender_system_test</td>\n",
       "      <td>eu</td>\n",
       "      <td>pc</td>\n",
       "      <td>product_cart</td>\n",
       "      <td>0.00</td>\n",
       "      <td>2020-12-07</td>\n",
       "      <td>2020-12-07 14:43:29</td>\n",
       "      <td>0</td>\n",
       "    </tr>\n",
       "    <tr>\n",
       "      <th>2</th>\n",
       "      <td>d1aba3e2887b6a73</td>\n",
       "      <td>a</td>\n",
       "      <td>recommender_system_test</td>\n",
       "      <td>eu</td>\n",
       "      <td>pc</td>\n",
       "      <td>product_page</td>\n",
       "      <td>0.00</td>\n",
       "      <td>2020-12-07</td>\n",
       "      <td>2020-12-07 14:43:27</td>\n",
       "      <td>0</td>\n",
       "    </tr>\n",
       "  </tbody>\n",
       "</table>\n",
       "</div>"
      ],
      "text/plain": [
       "            user_id group                  ab_test region device  \\\n",
       "0  d1aba3e2887b6a73     a  recommender_system_test     eu     pc   \n",
       "1  d1aba3e2887b6a73     a  recommender_system_test     eu     pc   \n",
       "2  d1aba3e2887b6a73     a  recommender_system_test     eu     pc   \n",
       "\n",
       "     event_name  details first_date            event_dt  lifetime  \n",
       "0      purchase    99.99 2020-12-07 2020-12-07 14:43:27         0  \n",
       "1  product_cart     0.00 2020-12-07 2020-12-07 14:43:29         0  \n",
       "2  product_page     0.00 2020-12-07 2020-12-07 14:43:27         0  "
      ]
     },
     "metadata": {},
     "output_type": "display_data"
    }
   ],
   "source": [
    "# Уберу строки с lifetime > 14 ней\n",
    "final_ab = final_ab[final_ab['lifetime'] <= 14].reset_index(drop=True)\n",
    "\n",
    "print('Величина датафрейма после исключения событий с lifetime > 14 дней:', final_ab.shape)\n",
    "display(final_ab.head(3))"
   ]
  },
  {
   "cell_type": "code",
   "execution_count": 26,
   "metadata": {
    "ExecuteTime": {
     "end_time": "2022-11-18T10:43:13.566667Z",
     "start_time": "2022-11-18T10:43:12.636780Z"
    },
    "scrolled": false
   },
   "outputs": [
    {
     "data": {
      "image/png": "[encoded data removed]",
      "text/plain": [
       "<Figure size 1200x400 with 1 Axes>"
      ]
     },
     "metadata": {},
     "output_type": "display_data"
    }
   ],
   "source": [
    "# Количество событий распределеннных в зависимости от лайфтайма пользователя\n",
    "sns.displot(final_ab, x=\"lifetime\", height=4, aspect=3)\n",
    "\n",
    "plt.title('Распределение дней lifetime среди пользователей')\n",
    "plt.ylabel('Частота события')\n",
    "plt.show()"
   ]
  },
  {
   "cell_type": "code",
   "execution_count": 27,
   "metadata": {
    "ExecuteTime": {
     "end_time": "2022-11-18T10:43:13.661680Z",
     "start_time": "2022-11-18T10:43:13.569660Z"
    }
   },
   "outputs": [
    {
     "data": {
      "text/html": [
       "<div>\n",
       "<style scoped>\n",
       "    .dataframe tbody tr th:only-of-type {\n",
       "        vertical-align: middle;\n",
       "    }\n",
       "\n",
       "    .dataframe tbody tr th {\n",
       "        vertical-align: top;\n",
       "    }\n",
       "\n",
       "    .dataframe thead th {\n",
       "        text-align: right;\n",
       "    }\n",
       "</style>\n",
       "<table border=\"1\" class=\"dataframe\">\n",
       "  <thead>\n",
       "    <tr style=\"text-align: right;\">\n",
       "      <th>group</th>\n",
       "      <th>event_name</th>\n",
       "      <th>a</th>\n",
       "      <th>b</th>\n",
       "      <th>conversion_a</th>\n",
       "      <th>conversion_b</th>\n",
       "      <th>difference</th>\n",
       "    </tr>\n",
       "  </thead>\n",
       "  <tbody>\n",
       "    <tr>\n",
       "      <th>0</th>\n",
       "      <td>login</td>\n",
       "      <td>2604</td>\n",
       "      <td>876</td>\n",
       "      <td>100.00</td>\n",
       "      <td>99.89</td>\n",
       "      <td>-0.11</td>\n",
       "    </tr>\n",
       "    <tr>\n",
       "      <th>1</th>\n",
       "      <td>product_page</td>\n",
       "      <td>1685</td>\n",
       "      <td>493</td>\n",
       "      <td>64.71</td>\n",
       "      <td>56.21</td>\n",
       "      <td>-8.49</td>\n",
       "    </tr>\n",
       "    <tr>\n",
       "      <th>2</th>\n",
       "      <td>product_cart</td>\n",
       "      <td>782</td>\n",
       "      <td>244</td>\n",
       "      <td>30.03</td>\n",
       "      <td>27.82</td>\n",
       "      <td>-2.21</td>\n",
       "    </tr>\n",
       "    <tr>\n",
       "      <th>3</th>\n",
       "      <td>purchase</td>\n",
       "      <td>833</td>\n",
       "      <td>249</td>\n",
       "      <td>31.99</td>\n",
       "      <td>28.39</td>\n",
       "      <td>-3.60</td>\n",
       "    </tr>\n",
       "  </tbody>\n",
       "</table>\n",
       "</div>"
      ],
      "text/plain": [
       "group    event_name     a    b  conversion_a  conversion_b  difference\n",
       "0             login  2604  876        100.00         99.89       -0.11\n",
       "1      product_page  1685  493         64.71         56.21       -8.49\n",
       "2      product_cart   782  244         30.03         27.82       -2.21\n",
       "3          purchase   833  249         31.99         28.39       -3.60"
      ]
     },
     "execution_count": 27,
     "metadata": {},
     "output_type": "execute_result"
    }
   ],
   "source": [
    "# Построю сводную таблицу с количеством пользователей для каждого события двух тестовых групп\n",
    "final_event_pvt = final_ab.pivot_table(index='event_name', columns='group', values='user_id', aggfunc='nunique').reset_index()\n",
    "\n",
    "# вычисление конверсии для группы А и В и расчет разницы конверсий группы В относительно А\n",
    "final_event_pvt['conversion_a'] = final_event_pvt['a'] / final_ab[final_ab['group']=='a']['user_id'].nunique() * 100\n",
    "final_event_pvt['conversion_b'] = final_event_pvt['b'] / final_ab[final_ab['group']=='b']['user_id'].nunique() * 100\n",
    "\n",
    "final_event_pvt['difference'] = final_event_pvt['conversion_b'] - final_event_pvt['conversion_a']\n",
    "\n",
    "# сортировка строк в соответствии с воронкой\n",
    "final_event_pvt = final_event_pvt.reindex([0, 2, 1, 3]).reset_index(drop=True)\n",
    "\n",
    "final_event_pvt"
   ]
  },
  {
   "cell_type": "markdown",
   "metadata": {},
   "source": [
    "Отрицательные значения говорят, что метрики не только не улучшились на ожидаемые 10%, но и ухудшились."
   ]
  },
  {
   "cell_type": "markdown",
   "metadata": {},
   "source": [
    "### Время проведения теста\n",
    "\n",
    "Необходимо убедиться, что оно не совпадает с маркетинговыми и другими активностями. Отберу маркетинговые кампании, которые пересекаются со временем проведения тестирования."
   ]
  },
  {
   "cell_type": "code",
   "execution_count": 28,
   "metadata": {
    "ExecuteTime": {
     "end_time": "2022-11-18T10:43:13.693597Z",
     "start_time": "2022-11-18T10:43:13.676640Z"
    }
   },
   "outputs": [
    {
     "data": {
      "text/html": [
       "<div>\n",
       "<style scoped>\n",
       "    .dataframe tbody tr th:only-of-type {\n",
       "        vertical-align: middle;\n",
       "    }\n",
       "\n",
       "    .dataframe tbody tr th {\n",
       "        vertical-align: top;\n",
       "    }\n",
       "\n",
       "    .dataframe thead th {\n",
       "        text-align: right;\n",
       "    }\n",
       "</style>\n",
       "<table border=\"1\" class=\"dataframe\">\n",
       "  <thead>\n",
       "    <tr style=\"text-align: right;\">\n",
       "      <th></th>\n",
       "      <th>name</th>\n",
       "      <th>regions</th>\n",
       "      <th>start_dt</th>\n",
       "      <th>finish_dt</th>\n",
       "    </tr>\n",
       "  </thead>\n",
       "  <tbody>\n",
       "    <tr>\n",
       "      <th>0</th>\n",
       "      <td>christmas&amp;new year promo</td>\n",
       "      <td>eu, n.america</td>\n",
       "      <td>2020-12-25</td>\n",
       "      <td>2021-01-03</td>\n",
       "    </tr>\n",
       "    <tr>\n",
       "      <th>10</th>\n",
       "      <td>cis new year gift lottery</td>\n",
       "      <td>cis</td>\n",
       "      <td>2020-12-30</td>\n",
       "      <td>2021-01-07</td>\n",
       "    </tr>\n",
       "  </tbody>\n",
       "</table>\n",
       "</div>"
      ],
      "text/plain": [
       "                         name        regions   start_dt  finish_dt\n",
       "0    christmas&new year promo  eu, n.america 2020-12-25 2021-01-03\n",
       "10  cis new year gift lottery            cis 2020-12-30 2021-01-07"
      ]
     },
     "execution_count": 28,
     "metadata": {},
     "output_type": "execute_result"
    }
   ],
   "source": [
    "# маркетинговые компании, которые могут повлиять на тест\n",
    "ab_project_marketing_events[(ab_project_marketing_events['start_dt'] <= '2020-01-04')\n",
    "                           | (ab_project_marketing_events['finish_dt'] >= '2020-12-07')]"
   ]
  },
  {
   "cell_type": "markdown",
   "metadata": {},
   "source": [
    "Время проведения кампаний `christmas&new year promo` совпадает со временем проведения теста, начиная с 25 декабря. Чтобы не получить ложные результаты, проверю распределение событий в двух группах, начиная с 25 числа. Если не будет перекоса в какой-либо из групп, значит данная компания одинаковая влияла на обе группы и нет необходимости исключать события из анализа.\n",
    "\n",
    "`cis new year gift lottery` тоже захватывает период тестирования, но эта компания проводится для региона cis, а у нас пользователи только из eu, поэтому на их поведении эта кампания не скажется."
   ]
  },
  {
   "cell_type": "code",
   "execution_count": 29,
   "metadata": {
    "ExecuteTime": {
     "end_time": "2022-11-18T10:43:14.422913Z",
     "start_time": "2022-11-18T10:43:13.696589Z"
    }
   },
   "outputs": [
    {
     "data": {
      "image/png": "[encoded data removed]",
      "text/plain": [
       "<Figure size 1263.5x400 with 1 Axes>"
      ]
     },
     "metadata": {},
     "output_type": "display_data"
    }
   ],
   "source": [
    "# Подсчёт количества вида события для пользователя в разных группах после 25 декабря\n",
    "final_ab_users_count_25 = (final_ab[final_ab['event_dt'] >= '2020-12-25']\n",
    "                        .groupby(['user_id', 'group', 'event_name'])\n",
    "                        .agg(events_count=('event_name', 'count')).sort_values(by='group').reset_index())\n",
    "\n",
    "# Количество каждого события для пользователей разных групп после 25 декабря\n",
    "sns.catplot(data=final_ab_users_count_25, x='event_name', y='events_count', \n",
    "            hue='group', kind='bar', palette='Spectral', height=4, aspect=3)\n",
    "plt.title('Частота события для групп пользователей после 25 декабря')\n",
    "plt.xlabel('Название события')\n",
    "plt.ylabel('Частота события')\n",
    "plt.show()"
   ]
  },
  {
   "cell_type": "markdown",
   "metadata": {},
   "source": [
    "Из распределения частоты событий нельзя сделать вывод, что маркетинговая кампания повлияла на какую-то из групп больше, чем на другую. Не буду исключать данные по событиям после 25 декабря из дальнейшего анализа."
   ]
  },
  {
   "cell_type": "markdown",
   "metadata": {},
   "source": [
    "### Аудитория теста \n",
    "\n",
    "Удостовериться, что:\n",
    "- нет пересечений с конкурирующим тестом,\n",
    "- нет пользователей, участвующих в двух группах теста одновременно\n",
    "- проверить равномерность распределения по тестовым группам и правильность их формирования.\n",
    "\n",
    "\n",
    "#### Пересечение пользователей с конкурирующим тестом"
   ]
  },
  {
   "cell_type": "code",
   "execution_count": 30,
   "metadata": {
    "ExecuteTime": {
     "end_time": "2022-11-18T10:43:14.469850Z",
     "start_time": "2022-11-18T10:43:14.426900Z"
    }
   },
   "outputs": [
    {
     "name": "stdout",
     "output_type": "stream",
     "text": [
      "Количество пересекающихся пользователей: 1602\n"
     ]
    },
    {
     "data": {
      "text/html": [
       "<div>\n",
       "<style scoped>\n",
       "    .dataframe tbody tr th:only-of-type {\n",
       "        vertical-align: middle;\n",
       "    }\n",
       "\n",
       "    .dataframe tbody tr th {\n",
       "        vertical-align: top;\n",
       "    }\n",
       "\n",
       "    .dataframe thead th {\n",
       "        text-align: right;\n",
       "    }\n",
       "</style>\n",
       "<table border=\"1\" class=\"dataframe\">\n",
       "  <thead>\n",
       "    <tr style=\"text-align: right;\">\n",
       "      <th></th>\n",
       "      <th>user_id</th>\n",
       "      <th>group</th>\n",
       "      <th>ab_test</th>\n",
       "    </tr>\n",
       "  </thead>\n",
       "  <tbody>\n",
       "    <tr>\n",
       "      <th>17892</th>\n",
       "      <td>001064feaab631a1</td>\n",
       "      <td>b</td>\n",
       "      <td>interface_eu_test</td>\n",
       "    </tr>\n",
       "    <tr>\n",
       "      <th>235</th>\n",
       "      <td>001064feaab631a1</td>\n",
       "      <td>b</td>\n",
       "      <td>recommender_system_test</td>\n",
       "    </tr>\n",
       "    <tr>\n",
       "      <th>16961</th>\n",
       "      <td>00341d8401f0f665</td>\n",
       "      <td>a</td>\n",
       "      <td>interface_eu_test</td>\n",
       "    </tr>\n",
       "    <tr>\n",
       "      <th>2137</th>\n",
       "      <td>00341d8401f0f665</td>\n",
       "      <td>a</td>\n",
       "      <td>recommender_system_test</td>\n",
       "    </tr>\n",
       "  </tbody>\n",
       "</table>\n",
       "</div>"
      ],
      "text/plain": [
       "                user_id group                  ab_test\n",
       "17892  001064feaab631a1     b        interface_eu_test\n",
       "235    001064feaab631a1     b  recommender_system_test\n",
       "16961  00341d8401f0f665     a        interface_eu_test\n",
       "2137   00341d8401f0f665     a  recommender_system_test"
      ]
     },
     "execution_count": 30,
     "metadata": {},
     "output_type": "execute_result"
    }
   ],
   "source": [
    "# подсчет количества пересекающихся между тестами пользователей\n",
    "test_1_users = final_ab_participants.loc[final_ab_participants['ab_test']=='recommender_system_test', 'user_id']\n",
    "test_2_users = final_ab_participants.loc[final_ab_participants['ab_test']=='interface_eu_test', 'user_id']\n",
    "\n",
    "# датафрейм с пользователями в двух тестах:\n",
    "users_1_2 = final_ab_participants.loc[\n",
    "    (final_ab_participants['user_id'].isin(test_1_users)) & (final_ab_participants['user_id'].isin(test_2_users))\n",
    "]\n",
    "\n",
    "print('Количество пересекающихся пользователей:', users_1_2['user_id'].nunique())\n",
    "users_1_2.sort_values('user_id').head(4)"
   ]
  },
  {
   "cell_type": "markdown",
   "metadata": {},
   "source": [
    "1 602 пользователя участвовали в двух тестах. Данных и ТЗ о втором тесте у нас нет, поэтому нельзя сказать точно могли (и если да, то каким образом) или нет пересекающиеся пользователи повлиять на результаты нашего тестирования. Тем не менее, второй тест мог повлиять на результат нашего теста, если распределение пользователей, которые участвовали в группе В второго теста не было равномерным между пользователями группы А и В первого теста.\n",
    "\n",
    "Отберу пользователей группы B второго теста и посмотрю как они распределяются между группами А и В исследуемого теста."
   ]
  },
  {
   "cell_type": "code",
   "execution_count": 31,
   "metadata": {
    "ExecuteTime": {
     "end_time": "2022-11-18T10:43:14.501765Z",
     "start_time": "2022-11-18T10:43:14.471778Z"
    }
   },
   "outputs": [
    {
     "data": {
      "text/plain": [
       "group\n",
       "a    439\n",
       "b    344\n",
       "Name: user_id, dtype: int64"
      ]
     },
     "execution_count": 31,
     "metadata": {},
     "output_type": "execute_result"
    }
   ],
   "source": [
    "users_test2_b = users_1_2[(users_1_2['ab_test'] == 'interface_eu_test') & (users_1_2['group'] == 'b')]['user_id']\n",
    "\n",
    "# Построю распределение пользователей нашего теста 1 между группами А и B:\n",
    "(final_ab_participants[final_ab_participants['user_id'].isin(users_test2_b) \n",
    "                      & (final_ab_participants['ab_test'] == 'recommender_system_test')]\n",
    "        .groupby('group')['user_id'].nunique())"
   ]
  },
  {
   "cell_type": "markdown",
   "metadata": {},
   "source": [
    "Пользователи из второго теста `interface_eu_test` группы B относительно равномерно распределены между пользователями групп A и B исследуемого теста `recommender_system_test`. Таким образом, не буду удалять пользователей, попавших в оба тестирования. "
   ]
  },
  {
   "cell_type": "markdown",
   "metadata": {},
   "source": [
    "#### Пользователи, попавшие в обе группы"
   ]
  },
  {
   "cell_type": "code",
   "execution_count": 32,
   "metadata": {
    "ExecuteTime": {
     "end_time": "2022-11-18T10:43:14.532646Z",
     "start_time": "2022-11-18T10:43:14.504692Z"
    }
   },
   "outputs": [
    {
     "data": {
      "text/html": [
       "<div>\n",
       "<style scoped>\n",
       "    .dataframe tbody tr th:only-of-type {\n",
       "        vertical-align: middle;\n",
       "    }\n",
       "\n",
       "    .dataframe tbody tr th {\n",
       "        vertical-align: top;\n",
       "    }\n",
       "\n",
       "    .dataframe thead th {\n",
       "        text-align: right;\n",
       "    }\n",
       "</style>\n",
       "<table border=\"1\" class=\"dataframe\">\n",
       "  <thead>\n",
       "    <tr style=\"text-align: right;\">\n",
       "      <th></th>\n",
       "      <th>user_id</th>\n",
       "      <th>group</th>\n",
       "      <th>ab_test</th>\n",
       "      <th>region</th>\n",
       "      <th>device</th>\n",
       "      <th>event_name</th>\n",
       "      <th>details</th>\n",
       "      <th>first_date</th>\n",
       "      <th>event_dt</th>\n",
       "      <th>lifetime</th>\n",
       "    </tr>\n",
       "  </thead>\n",
       "  <tbody>\n",
       "  </tbody>\n",
       "</table>\n",
       "</div>"
      ],
      "text/plain": [
       "Empty DataFrame\n",
       "Columns: [user_id, group, ab_test, region, device, event_name, details, first_date, event_dt, lifetime]\n",
       "Index: []"
      ]
     },
     "execution_count": 32,
     "metadata": {},
     "output_type": "execute_result"
    }
   ],
   "source": [
    "group_a_users = final_ab[final_ab['group']=='a']\n",
    "group_b_users = final_ab[final_ab['group']=='b']\n",
    "\n",
    "# Отфильтрую датафрейм по пользователям, которые находятся в обеих группах:\n",
    "final_ab.loc[(final_ab['user_id'].isin(group_a_users)) & (final_ab['user_id'].isin(group_b_users))]"
   ]
  },
  {
   "cell_type": "markdown",
   "metadata": {},
   "source": [
    "#### Распределение пользователей по тестовым группам"
   ]
  },
  {
   "cell_type": "code",
   "execution_count": 33,
   "metadata": {
    "ExecuteTime": {
     "end_time": "2022-11-18T10:43:14.548574Z",
     "start_time": "2022-11-18T10:43:14.535609Z"
    }
   },
   "outputs": [
    {
     "data": {
      "text/plain": [
       "group\n",
       "a    2604\n",
       "b     877\n",
       "Name: user_id, dtype: int64"
      ]
     },
     "execution_count": 33,
     "metadata": {},
     "output_type": "execute_result"
    }
   ],
   "source": [
    "final_ab.groupby('group')['user_id'].nunique()"
   ]
  },
  {
   "cell_type": "markdown",
   "metadata": {},
   "source": [
    "Среди пользователей деление на группы неравномерное, посмотрю более детально на регистрацию пользователей в разрезе групп по датам - построю гистограмму в разрезе пользователей по группам и по датам."
   ]
  },
  {
   "cell_type": "code",
   "execution_count": 34,
   "metadata": {
    "ExecuteTime": {
     "end_time": "2022-11-18T10:43:15.147974Z",
     "start_time": "2022-11-18T10:43:14.551565Z"
    }
   },
   "outputs": [
    {
     "data": {
      "image/png": "[encoded data removed]",
      "text/plain": [
       "<Figure size 1800x500 with 1 Axes>"
      ]
     },
     "metadata": {},
     "output_type": "display_data"
    }
   ],
   "source": [
    "plt.figure(figsize=(18, 5))\n",
    "sns.histplot(final_ab, x='first_date', hue='group', multiple='dodge', palette='Spectral', edgecolor='0.5')\n",
    "plt.title('Гистограмма по пользователям, совершавших события')\n",
    "plt.xlabel('Дата')\n",
    "plt.ylabel('Частота')\n",
    "\n",
    "plt.show()"
   ]
  },
  {
   "cell_type": "markdown",
   "metadata": {},
   "source": [
    "Количество регистраций пользователей группы А резко растёт в тот день, когда пропали пользователи без событий. По какой-то причине они  резко начали пользоваться продуктом. \n",
    "- Возможно, для группы А исправили какую-то проблему, начиная с 14 числа, а для группы В нет.\n",
    "- Так же отмечу, что число регистраций пользователей группы А, совершавших события до 14 числа находилось в диапазоне 250-1000 чел, а аналогичное число пользователей без событий в диапазоне 50-250 чел. Суммарное число в районе 1000 человек, но начиная с 14 декабря число регистраций юзеров группы А резко вырастает до 3000 чел и далее находится в диапазоне 1500-2500 чел., что выше значений до 14 декабря."
   ]
  },
  {
   "cell_type": "code",
   "execution_count": 35,
   "metadata": {
    "ExecuteTime": {
     "end_time": "2022-11-18T10:43:15.163928Z",
     "start_time": "2022-11-18T10:43:15.152956Z"
    }
   },
   "outputs": [
    {
     "data": {
      "text/plain": [
       "b    1840\n",
       "a    1030\n",
       "Name: group, dtype: int64"
      ]
     },
     "execution_count": 35,
     "metadata": {},
     "output_type": "execute_result"
    }
   ],
   "source": [
    "# Распределение пользователей без действий по группам\n",
    "users_no_events['group'].value_counts()"
   ]
  },
  {
   "cell_type": "markdown",
   "metadata": {},
   "source": [
    "Среди пользователей без совершённых событий деление на группы неравномерное, аналогично пользователям с действиями. Построю гистограмму."
   ]
  },
  {
   "cell_type": "code",
   "execution_count": 36,
   "metadata": {
    "ExecuteTime": {
     "end_time": "2022-11-18T10:43:15.704481Z",
     "start_time": "2022-11-18T10:43:15.171906Z"
    }
   },
   "outputs": [
    {
     "data": {
      "image/png": "[encoded data removed]",
      "text/plain": [
       "<Figure size 1800x500 with 1 Axes>"
      ]
     },
     "metadata": {},
     "output_type": "display_data"
    }
   ],
   "source": [
    "plt.figure(figsize=(18, 5))\n",
    "sns.histplot(users_no_events.sort_values(by='group'), x='first_date', \n",
    "             hue='group', multiple='dodge', palette='Spectral', edgecolor='0.5')\n",
    "\n",
    "plt.title('Гистограмма по пользователям, не совершавших событий')\n",
    "plt.xlabel('Дата')\n",
    "plt.ylabel('Частота')\n",
    "\n",
    "plt.show()"
   ]
  },
  {
   "cell_type": "markdown",
   "metadata": {},
   "source": [
    "После 13 декабря все пользователи, попавшие в группу А совершали какие-либо события, а для группы В осталась тенденция к присоединению пользователей без событий, отсюда возникает разница в 800 человек. Что-то произошло после 13 декабря.\n",
    "\n",
    "Дополнительно посмотрю на пользователей группы B (так как проблема отсутствия событий для группы А решилась с середины декабря) без событий в разрезе устройств."
   ]
  },
  {
   "cell_type": "code",
   "execution_count": 37,
   "metadata": {
    "ExecuteTime": {
     "end_time": "2022-11-18T10:43:16.382757Z",
     "start_time": "2022-11-18T10:43:15.707474Z"
    }
   },
   "outputs": [
    {
     "data": {
      "image/png": "[encoded data removed]",
      "text/plain": [
       "<Figure size 1800x500 with 1 Axes>"
      ]
     },
     "metadata": {},
     "output_type": "display_data"
    }
   ],
   "source": [
    "plt.figure(figsize=(18, 5))\n",
    "sns.histplot(users_no_events[users_no_events['group']=='b'], x='first_date', hue='device', \n",
    "             multiple='dodge', palette='Spectral', edgecolor='0.5')\n",
    "plt.title('Гистограмма пользователей группы B, не совершавших события в разрезе устройств')\n",
    "plt.xlabel('Дата')\n",
    "plt.ylabel('Частота')\n",
    "\n",
    "plt.show()"
   ]
  },
  {
   "cell_type": "markdown",
   "metadata": {},
   "source": [
    "На графике влияние вида устройства на совершение событий не выявлено.\n",
    "\n",
    "**Вывод - Корректность проведения тестирования:**\n",
    "\n",
    "1. Данные проверены на соответствие ТЗ. Выявлены отклонения от требований:\n",
    "- дата остановки тестирования, ожидаемая - 04.01, фактическая - 30.12\n",
    "- число пользователей ниже ожидаемых 6 000 - по факту число активных пользователей 3 481\n",
    "- пользователи за 14 дней с момента регистрации не показали улучшение конверсий в события на 10%, наоборот наблюдается ухудшение эти показателей.\n",
    "2. Время тестирования приходится на маркетинговую рождественскую кампанию, однако по результатам анализа, влияния на действия пользователей двух групп не выявлено.\n",
    "3. Присутствуют большое число пользователей (1 602 чел.), участвующих в двух тестах одновременно, ТЗ на второй тест мы не знаем и нет возможности полностью установить влияние второго теста на наше исследование."
   ]
  },
  {
   "cell_type": "markdown",
   "metadata": {},
   "source": [
    "[Оглавление](#section_id)\n",
    "\n",
    "## Исследовательский анализ данных (EDA)\n",
    "<a id='section_id3'></a>\n",
    "\n",
    "### Распределение количества событий на пользователя\n",
    "\n",
    "Количество событий на пользователя одинаково распределены в выборках?"
   ]
  },
  {
   "cell_type": "code",
   "execution_count": 38,
   "metadata": {
    "ExecuteTime": {
     "end_time": "2022-11-18T10:43:17.091892Z",
     "start_time": "2022-11-18T10:43:16.385659Z"
    }
   },
   "outputs": [
    {
     "data": {
      "image/png": "[encoded data removed]",
      "text/plain": [
       "<Figure size 1263.5x400 with 1 Axes>"
      ]
     },
     "metadata": {},
     "output_type": "display_data"
    }
   ],
   "source": [
    "group_user_event_grp = (final_ab.groupby(['group', 'user_id', 'event_name'])\n",
    "                        .agg(events_count=('event_name', 'count')).reset_index())\n",
    "# Количество каждого события для пользователей разных групп\n",
    "sns.catplot(data=group_user_event_grp, x='event_name', y='events_count', \n",
    "            kind='bar', hue='group', palette='Spectral', height=4, aspect=3)\n",
    "\n",
    "plt.title('Частота вида события для групп пользователей')\n",
    "plt.xlabel('Вид события')\n",
    "plt.ylabel('Частота события')\n",
    "plt.show()"
   ]
  },
  {
   "cell_type": "markdown",
   "metadata": {},
   "source": [
    "Пользователи в группах А и В совершают примерно равное количество каждого вида события.\n",
    "\n",
    "Посмотрю распределение количества пользовательских событий в разрезе групп A и B."
   ]
  },
  {
   "cell_type": "code",
   "execution_count": 39,
   "metadata": {
    "ExecuteTime": {
     "end_time": "2022-11-18T10:43:18.849072Z",
     "start_time": "2022-11-18T10:43:17.094764Z"
    }
   },
   "outputs": [
    {
     "data": {
      "image/png": "[encoded data removed]",
      "text/plain": [
       "<Figure size 2000x500 with 2 Axes>"
      ]
     },
     "metadata": {},
     "output_type": "display_data"
    },
    {
     "data": {
      "image/png": "[encoded data removed]",
      "text/plain": [
       "<Figure size 1563.5x500 with 1 Axes>"
      ]
     },
     "metadata": {},
     "output_type": "display_data"
    }
   ],
   "source": [
    "group_user_grp = final_ab.groupby(['group', 'user_id']).agg(events_count=('event_name', 'count')).reset_index()\n",
    "\n",
    "fig = plt.figure(figsize=(20, 5))\n",
    "\n",
    "ax_1 = fig.add_subplot(1, 1, 1)\n",
    "ax_2 = fig.add_subplot(1, 1, 1)\n",
    "\n",
    "sns.displot(data=group_user_grp, x='events_count', kde=True, hue='group', multiple='dodge', aspect=3, ax=ax_1)\\\n",
    "    .set(title='Распределение числа событий по пользователям разных групп')\n",
    "sns.boxplot(data=group_user_grp, x='events_count', y='group', palette='Spectral', orient='h', ax=ax_2)\\\n",
    "    .set(title='Диаграмма размаха числа событий по пользователям разных групп')\n",
    "\n",
    "plt.show()"
   ]
  },
  {
   "cell_type": "code",
   "execution_count": 40,
   "metadata": {
    "ExecuteTime": {
     "end_time": "2022-11-18T10:43:18.942854Z",
     "start_time": "2022-11-18T10:43:18.858048Z"
    }
   },
   "outputs": [
    {
     "data": {
      "text/html": [
       "<div>\n",
       "<style scoped>\n",
       "    .dataframe tbody tr th:only-of-type {\n",
       "        vertical-align: middle;\n",
       "    }\n",
       "\n",
       "    .dataframe tbody tr th {\n",
       "        vertical-align: top;\n",
       "    }\n",
       "\n",
       "    .dataframe thead tr th {\n",
       "        text-align: left;\n",
       "    }\n",
       "\n",
       "    .dataframe thead tr:last-of-type th {\n",
       "        text-align: right;\n",
       "    }\n",
       "</style>\n",
       "<table border=\"1\" class=\"dataframe\">\n",
       "  <thead>\n",
       "    <tr>\n",
       "      <th></th>\n",
       "      <th colspan=\"8\" halign=\"left\">events_count</th>\n",
       "    </tr>\n",
       "    <tr>\n",
       "      <th></th>\n",
       "      <th>count</th>\n",
       "      <th>mean</th>\n",
       "      <th>std</th>\n",
       "      <th>min</th>\n",
       "      <th>25%</th>\n",
       "      <th>50%</th>\n",
       "      <th>75%</th>\n",
       "      <th>max</th>\n",
       "    </tr>\n",
       "    <tr>\n",
       "      <th>group</th>\n",
       "      <th></th>\n",
       "      <th></th>\n",
       "      <th></th>\n",
       "      <th></th>\n",
       "      <th></th>\n",
       "      <th></th>\n",
       "      <th></th>\n",
       "      <th></th>\n",
       "    </tr>\n",
       "  </thead>\n",
       "  <tbody>\n",
       "    <tr>\n",
       "      <th>a</th>\n",
       "      <td>2,604.00</td>\n",
       "      <td>6.90</td>\n",
       "      <td>3.84</td>\n",
       "      <td>1.00</td>\n",
       "      <td>4.00</td>\n",
       "      <td>6.00</td>\n",
       "      <td>9.00</td>\n",
       "      <td>24.00</td>\n",
       "    </tr>\n",
       "    <tr>\n",
       "      <th>b</th>\n",
       "      <td>877.00</td>\n",
       "      <td>5.53</td>\n",
       "      <td>3.31</td>\n",
       "      <td>1.00</td>\n",
       "      <td>3.00</td>\n",
       "      <td>4.00</td>\n",
       "      <td>8.00</td>\n",
       "      <td>24.00</td>\n",
       "    </tr>\n",
       "  </tbody>\n",
       "</table>\n",
       "</div>"
      ],
      "text/plain": [
       "      events_count                                    \n",
       "             count mean  std  min  25%  50%  75%   max\n",
       "group                                                 \n",
       "a         2,604.00 6.90 3.84 1.00 4.00 6.00 9.00 24.00\n",
       "b           877.00 5.53 3.31 1.00 3.00 4.00 8.00 24.00"
      ]
     },
     "execution_count": 40,
     "metadata": {},
     "output_type": "execute_result"
    }
   ],
   "source": [
    "# числовое описание количества событий для пользователя\n",
    "group_user_grp.groupby('group').describe()"
   ]
  },
  {
   "cell_type": "markdown",
   "metadata": {},
   "source": [
    "**Вывод:**\n"
   ]
  },
  {
   "cell_type": "markdown",
   "metadata": {},
   "source": [
    "### Распределение событий по дням"
   ]
  },
  {
   "cell_type": "code",
   "execution_count": 41,
   "metadata": {
    "ExecuteTime": {
     "end_time": "2022-11-18T10:43:18.974737Z",
     "start_time": "2022-11-18T10:43:18.944848Z"
    }
   },
   "outputs": [
    {
     "data": {
      "text/html": [
       "<div>\n",
       "<style scoped>\n",
       "    .dataframe tbody tr th:only-of-type {\n",
       "        vertical-align: middle;\n",
       "    }\n",
       "\n",
       "    .dataframe tbody tr th {\n",
       "        vertical-align: top;\n",
       "    }\n",
       "\n",
       "    .dataframe thead th {\n",
       "        text-align: right;\n",
       "    }\n",
       "</style>\n",
       "<table border=\"1\" class=\"dataframe\">\n",
       "  <thead>\n",
       "    <tr style=\"text-align: right;\">\n",
       "      <th></th>\n",
       "      <th>user_id</th>\n",
       "      <th>group</th>\n",
       "      <th>ab_test</th>\n",
       "      <th>region</th>\n",
       "      <th>device</th>\n",
       "      <th>event_name</th>\n",
       "      <th>details</th>\n",
       "      <th>first_date</th>\n",
       "      <th>event_dt</th>\n",
       "      <th>lifetime</th>\n",
       "      <th>event_date</th>\n",
       "    </tr>\n",
       "  </thead>\n",
       "  <tbody>\n",
       "    <tr>\n",
       "      <th>0</th>\n",
       "      <td>d1aba3e2887b6a73</td>\n",
       "      <td>a</td>\n",
       "      <td>recommender_system_test</td>\n",
       "      <td>eu</td>\n",
       "      <td>pc</td>\n",
       "      <td>purchase</td>\n",
       "      <td>99.99</td>\n",
       "      <td>2020-12-07</td>\n",
       "      <td>2020-12-07 14:43:27</td>\n",
       "      <td>0</td>\n",
       "      <td>2020-12-07</td>\n",
       "    </tr>\n",
       "    <tr>\n",
       "      <th>1</th>\n",
       "      <td>d1aba3e2887b6a73</td>\n",
       "      <td>a</td>\n",
       "      <td>recommender_system_test</td>\n",
       "      <td>eu</td>\n",
       "      <td>pc</td>\n",
       "      <td>product_cart</td>\n",
       "      <td>0.00</td>\n",
       "      <td>2020-12-07</td>\n",
       "      <td>2020-12-07 14:43:29</td>\n",
       "      <td>0</td>\n",
       "      <td>2020-12-07</td>\n",
       "    </tr>\n",
       "  </tbody>\n",
       "</table>\n",
       "</div>"
      ],
      "text/plain": [
       "            user_id group                  ab_test region device  \\\n",
       "0  d1aba3e2887b6a73     a  recommender_system_test     eu     pc   \n",
       "1  d1aba3e2887b6a73     a  recommender_system_test     eu     pc   \n",
       "\n",
       "     event_name  details first_date            event_dt  lifetime  event_date  \n",
       "0      purchase    99.99 2020-12-07 2020-12-07 14:43:27         0  2020-12-07  \n",
       "1  product_cart     0.00 2020-12-07 2020-12-07 14:43:29         0  2020-12-07  "
      ]
     },
     "execution_count": 41,
     "metadata": {},
     "output_type": "execute_result"
    }
   ],
   "source": [
    "# Для дальнейшего анализа добавлю колонку с датой на основе столбца event_dt\n",
    "final_ab['event_date'] = final_ab['event_dt'].dt.date\n",
    "final_ab.head(2)"
   ]
  },
  {
   "cell_type": "code",
   "execution_count": 42,
   "metadata": {
    "ExecuteTime": {
     "end_time": "2022-11-18T10:43:19.799530Z",
     "start_time": "2022-11-18T10:43:18.976731Z"
    }
   },
   "outputs": [
    {
     "data": {
      "image/png": "[encoded data removed]",
      "text/plain": [
       "<Figure size 2000x500 with 1 Axes>"
      ]
     },
     "metadata": {},
     "output_type": "display_data"
    }
   ],
   "source": [
    "plt.subplots(figsize=(20, 5))\n",
    "sns.histplot(data=final_ab, x=final_ab['event_date'], \n",
    "             hue='group', multiple='dodge',\n",
    "             kde=True).set_title('Распределение событий по дням')\n",
    "plt.xlabel('Дата')\n",
    "plt.ylabel('Частота событий')\n",
    "plt.show()"
   ]
  },
  {
   "cell_type": "markdown",
   "metadata": {},
   "source": [
    "На основании гистограммы распределения отмечу:\n",
    "\n",
    "- в первые дни количество событий по группам было примерно одинаковым, до 13 числа разница в числе событий для групп была не так велика, затем для группы А резко увеличилось число событий - в 3-5 раз.\n",
    "- для группы А после 14 числа пошел резкий рост числа событий с пиком 21 числа\n",
    "- для группы В события распределены равномерно\n",
    "\n",
    "Так как группы несбалансированны по количеству участников, посмотрю на распределение среднего количества событий в день на пользователя."
   ]
  },
  {
   "cell_type": "code",
   "execution_count": 43,
   "metadata": {
    "ExecuteTime": {
     "end_time": "2022-11-18T10:43:22.287008Z",
     "start_time": "2022-11-18T10:43:19.803521Z"
    },
    "scrolled": false
   },
   "outputs": [
    {
     "data": {
      "image/png": "[encoded data removed]",
      "text/plain": [
       "<Figure size 1863.5x600 with 1 Axes>"
      ]
     },
     "metadata": {},
     "output_type": "display_data"
    }
   ],
   "source": [
    "group_user_date_grp = (final_ab.groupby(['event_date', 'group', 'user_id'])\n",
    "                        .agg(events_count=('event_date', 'count')).reset_index()).sort_values(by=['event_date', 'group'])\n",
    "\n",
    "# Количество каждого события для пользователей разных групп\n",
    "sns.catplot(data=group_user_date_grp, x='event_date', y='events_count', \n",
    "            kind='bar', hue='group', palette='Spectral', height=6, aspect=3)\n",
    "\n",
    "plt.title('Частота вида события для групп пользователей')\n",
    "plt.xlabel('Вид события')\n",
    "plt.ylabel('Частота события')\n",
    "plt.xticks(rotation=20)\n",
    "plt.show()"
   ]
  },
  {
   "cell_type": "markdown",
   "metadata": {},
   "source": [
    "После 13 декабря заметно увеличение числа событий для пользователя из группы А по сравнению с группой В.\n",
    "\n",
    "\n",
    "### Конверсия в воронке событий\n",
    "\n",
    "Как меняется конверсия в воронке в выборках на разных этапах?\n",
    "\n",
    "События:\n",
    "\n",
    "1. login - вход в приложение,\n",
    "2. product_page - просмотр карточек товаров,\n",
    "3. product_cart - просмотры корзины,\n",
    "4. purchase - покупки\n",
    "\n",
    "Построю воронку событий для пользователей из разных групп теста."
   ]
  },
  {
   "cell_type": "code",
   "execution_count": 49,
   "metadata": {
    "ExecuteTime": {
     "end_time": "2022-11-18T10:47:38.239807Z",
     "start_time": "2022-11-18T10:47:33.543413Z"
    }
   },
   "outputs": [
    {
     "data": {
      "image/png": "[encoded data removed]"
     },
     "metadata": {},
     "output_type": "display_data"
    }
   ],
   "source": [
    "fig = go.Figure()\n",
    "\n",
    "fig.add_trace(go.Funnel(\n",
    "    name = 'group_a',\n",
    "    y = final_event_pvt['event_name'],\n",
    "    x = final_event_pvt['a'],\n",
    "    textinfo = 'value+percent initial'))\n",
    "\n",
    "fig.add_trace(go.Funnel(\n",
    "    name = 'group_b',\n",
    "    y = final_event_pvt['event_name'],\n",
    "    x = final_event_pvt['b'],\n",
    "    textposition = 'inside',\n",
    "    textinfo = 'value+percent initial'))\n",
    "\n",
    "#Визуализация plotly в GitHub\n",
    "fig.show('png')"
   ]
  },
  {
   "cell_type": "markdown",
   "metadata": {},
   "source": [
    "- Исходя из воронки и количества покупок, можем сделать вывод что у приложения есть функция покупки в один клик, без перехода в корзину. Это объясняет почему на последнем этапе воронки количество пользователей больше чем на предыдущем.\n",
    "- Больше всего пользователей теряется на 3 шаге, то есть после просмотра карточки товара при переходе в корзину товара / оплате.\n",
    "- Конверсия для группы А выше чем для группы В, на всех этапах кроме перехода от просмотра карточки к просмотру корзины(здесь на 3% меньше)\n",
    "\n",
    "### Особенности данных\n",
    "\n",
    "Какие особенности данных нужно учесть, прежде чем приступать к A/B-тестированию?\n",
    "\n",
    "Прежде чем приступать к A/B-тестированию необходимо учесть:\n",
    "\n",
    "1. Дата завершения тестирования отличается от требования в ТЗ. События, происходившие с 23:36:33 30 декабря до 4 января не попали в датасет.\n",
    "\n",
    "    Дата 4 января была выбрана исходя двухнедельного горизонта анализа (регистрация пользователй заканчивалась 21 декабря). Но данные зашли за период короче на 5 дней. Таким образом, мы не досчитаемся событий пользователей при проверке улучшения конверсии - в анализ не попадут события тех кто присоединился позже 16 декабря.\n",
    "\n",
    "2. Дата набора новых пользователей. В датасете были пользователи с датой регистрации 23.12.2020, что на 2 дня позже требования ТЗ, пользователи с регистрацией после 21.12 были исключены из анализа.\n",
    "\n",
    "3. Общее число пользователей не соответствует ТЗ - 3 481 чел. вместо 6 000 из-за того, что присутствуют пользователи, не совершившие действия.\n",
    "\n",
    "4. Присутствует достаточно большое число пользователей (1 602 чел.), участвующих в двух тестах одновременно, ТЗ на второй тест мы не знаем и нет возможности полностью установить как это повлияет на текущее исследование.\n",
    "\n",
    "5. Число участников в группах А и В сильно отличается (2604 и 877 соответственно)"
   ]
  },
  {
   "cell_type": "markdown",
   "metadata": {},
   "source": [
    "**Вывод - Исследовательский анализ данных:**\n",
    "\n",
    "1. Пользователи обеих групп в среднем совершают сопостовимое число действий (6.9 для группы А и 5.5 для группы В). Однако из-за того, что пользователей в группе А больше, то валово число действий в этой группе превышает действия группы В.\n",
    "2. Число событий можно разбить на 3 временных отрезка:\n",
    "    - период 07.12-13.12 - небольшое число событий\n",
    "    - период 14.12-23.12 - наибольшее число событий с пиком 21 декабря\n",
    "    - период 24.12-30.12 - умеренное число событий с трндом на снижение\n",
    "3. Конверсия для группы А выше чем для группы В, на всех этапах кроме перехода от просмотра карточки к просмотру корзины."
   ]
  },
  {
   "cell_type": "markdown",
   "metadata": {},
   "source": [
    "[Оглавление](#section_id)\n",
    "\n",
    "## Оцените результаты A/B-тестирования\n",
    "<a id='section_id4'></a>\n",
    "\n",
    "    - Что можно сказать про результаты A/В-тестирования?\n",
    "    - Проверьте статистическую разницу долей z-критерием.\n",
    "    \n",
    "### Что можно сказать про результаты A/В-тестирования?\n",
    "\n",
    "Как было отмечено ранее, число фактических пользователей существенно ниже ожидаемого, таким образом, статистическая мощность тестирования будет невысокой."
   ]
  },
  {
   "cell_type": "markdown",
   "metadata": {},
   "source": [
    "### Статистическая разница долей, z-критерий\n",
    "\n",
    "Чтобы определить, есть ли статистически значимая разница между группами A и B, проверю гипотезы на равенство долей пользователей совершивших событие."
   ]
  },
  {
   "cell_type": "code",
   "execution_count": 45,
   "metadata": {
    "ExecuteTime": {
     "end_time": "2022-11-18T10:43:25.197877Z",
     "start_time": "2022-11-18T10:43:25.139034Z"
    }
   },
   "outputs": [
    {
     "data": {
      "text/html": [
       "<div>\n",
       "<style scoped>\n",
       "    .dataframe tbody tr th:only-of-type {\n",
       "        vertical-align: middle;\n",
       "    }\n",
       "\n",
       "    .dataframe tbody tr th {\n",
       "        vertical-align: top;\n",
       "    }\n",
       "\n",
       "    .dataframe thead th {\n",
       "        text-align: right;\n",
       "    }\n",
       "</style>\n",
       "<table border=\"1\" class=\"dataframe\">\n",
       "  <thead>\n",
       "    <tr style=\"text-align: right;\">\n",
       "      <th>group</th>\n",
       "      <th>a</th>\n",
       "      <th>b</th>\n",
       "    </tr>\n",
       "    <tr>\n",
       "      <th>event_name</th>\n",
       "      <th></th>\n",
       "      <th></th>\n",
       "    </tr>\n",
       "  </thead>\n",
       "  <tbody>\n",
       "    <tr>\n",
       "      <th>product_cart</th>\n",
       "      <td>782</td>\n",
       "      <td>244</td>\n",
       "    </tr>\n",
       "    <tr>\n",
       "      <th>product_page</th>\n",
       "      <td>1685</td>\n",
       "      <td>493</td>\n",
       "    </tr>\n",
       "    <tr>\n",
       "      <th>purchase</th>\n",
       "      <td>833</td>\n",
       "      <td>249</td>\n",
       "    </tr>\n",
       "  </tbody>\n",
       "</table>\n",
       "</div>"
      ],
      "text/plain": [
       "group            a    b\n",
       "event_name             \n",
       "product_cart   782  244\n",
       "product_page  1685  493\n",
       "purchase       833  249"
      ]
     },
     "metadata": {},
     "output_type": "display_data"
    },
    {
     "data": {
      "text/html": [
       "<div>\n",
       "<style scoped>\n",
       "    .dataframe tbody tr th:only-of-type {\n",
       "        vertical-align: middle;\n",
       "    }\n",
       "\n",
       "    .dataframe tbody tr th {\n",
       "        vertical-align: top;\n",
       "    }\n",
       "\n",
       "    .dataframe thead th {\n",
       "        text-align: right;\n",
       "    }\n",
       "</style>\n",
       "<table border=\"1\" class=\"dataframe\">\n",
       "  <thead>\n",
       "    <tr style=\"text-align: right;\">\n",
       "      <th></th>\n",
       "      <th>user_id</th>\n",
       "    </tr>\n",
       "    <tr>\n",
       "      <th>group</th>\n",
       "      <th></th>\n",
       "    </tr>\n",
       "  </thead>\n",
       "  <tbody>\n",
       "    <tr>\n",
       "      <th>a</th>\n",
       "      <td>2604</td>\n",
       "    </tr>\n",
       "    <tr>\n",
       "      <th>b</th>\n",
       "      <td>877</td>\n",
       "    </tr>\n",
       "  </tbody>\n",
       "</table>\n",
       "</div>"
      ],
      "text/plain": [
       "       user_id\n",
       "group         \n",
       "a         2604\n",
       "b          877"
      ]
     },
     "execution_count": 45,
     "metadata": {},
     "output_type": "execute_result"
    }
   ],
   "source": [
    "# Соберу датафреймы для проверки статистических разниц событий:\n",
    "group_event_pvt = final_ab.pivot_table(index='event_name', columns='group', values='user_id', aggfunc='nunique')\n",
    "# Уберу событие login, т.к. для него не получится посчитать success и trials будут равны\n",
    "group_event_pvt = group_event_pvt[1:]\n",
    "\n",
    "user_count = final_ab.groupby('group')['user_id'].nunique().reset_index()\n",
    "user_count.set_index('group', inplace=True)\n",
    "# Выведу два датафрейма:\n",
    "display(group_event_pvt)\n",
    "user_count"
   ]
  },
  {
   "cell_type": "code",
   "execution_count": 46,
   "metadata": {
    "ExecuteTime": {
     "end_time": "2022-11-18T10:43:25.213835Z",
     "start_time": "2022-11-18T10:43:25.200869Z"
    }
   },
   "outputs": [],
   "source": [
    "# Использую Z-критерий и напишу функцию для всех событий\n",
    "def z_test(event, alpha):\n",
    "    # Переменные для упрощения дальнейшего кода:\n",
    "    successes_1 = group_event_pvt.loc[event, 'a']\n",
    "    successes_2 = group_event_pvt.loc[event, 'b']\n",
    "    trials_1 = user_count.loc['a', 'user_id']\n",
    "    trials_2 = user_count.loc['b', 'user_id']\n",
    "    \n",
    "    # пропорции успехов по 2ум группам:\n",
    "    p1 = successes_1 / trials_1\n",
    "    p2 = successes_2 / trials_2\n",
    "    # пропорция успехов в комбинированном датасете:\n",
    "    p_combined = (successes_1 + successes_2) / (trials_1 + trials_2)\n",
    "    # разница пропорций в датасетах:\n",
    "    difference = p1 - p2\n",
    "    # считаюю статистику в ст.отклонениях стандартного нормального распределения\n",
    "    z_value = difference / mth.sqrt(p_combined * (1 - p_combined) * (1 / trials_1 + 1 / trials_2))\n",
    "    # задаю стандартное нормальное распределение (среднее 0, ст.отклонение 1)\n",
    "    distr = st.norm(0, 1)\n",
    "    p_value = (1 - distr.cdf(abs(z_value))) * 2\n",
    "    print('Проверка для групп a и b, событие: {}, p-значение: {p_value}'.format(event, p_value=p_value))\n",
    "    if (p_value < alpha):\n",
    "        print(\"Отвергаем нулевую гипотезу: между группами есть статистическая разница\")\n",
    "    else:\n",
    "        print(\"Не получилось отвергнуть нулевую гипотезу: между группами нет статистической разницы\")"
   ]
  },
  {
   "cell_type": "markdown",
   "metadata": {},
   "source": [
    "Сформулирую гипотезы\n",
    "\n",
    "- H0: доли уникальных посетителей, побывавших на этапе воронки, **одинаковы**.\n",
    "- H1: между долями уникальных посетителей, побывавших на этапе воронки, есть значимая **разница**.\n",
    "\n",
    "Уровень значимости установлю в 0.05."
   ]
  },
  {
   "cell_type": "code",
   "execution_count": 47,
   "metadata": {
    "ExecuteTime": {
     "end_time": "2022-11-18T10:43:25.245750Z",
     "start_time": "2022-11-18T10:43:25.218822Z"
    }
   },
   "outputs": [
    {
     "name": "stdout",
     "output_type": "stream",
     "text": [
      "Проверка для групп a и b, событие: product_cart, p-значение: 0.21469192029582396\n",
      "Не получилось отвергнуть нулевую гипотезу: между группами нет статистической разницы\n",
      "\n",
      "Проверка для групп a и b, событие: product_page, p-значение: 6.942739359416805e-06\n",
      "Отвергаем нулевую гипотезу: между группами есть статистическая разница\n",
      "\n",
      "Проверка для групп a и b, событие: purchase, p-значение: 0.04652482738393027\n",
      "Отвергаем нулевую гипотезу: между группами есть статистическая разница\n",
      "\n"
     ]
    }
   ],
   "source": [
    "for event in group_event_pvt.index:\n",
    "    z_test(event, 0.05)\n",
    "    print()"
   ]
  },
  {
   "cell_type": "markdown",
   "metadata": {},
   "source": [
    "**Вывод:**\n",
    "\n",
    "- Для события `product_cart` нет статистически значимой разницы в количестве пользователей между группами теста.\n",
    "- Для событий `product_page` и `purchase` есть статистически значимая разница между пользователями групп.\n",
    "\n",
    "Но отдельно хочу ещё раз отметить, что число пользователей для теста примерно в 2 раза ниже требуемого, таким образом, есть вероятность получения ложного результата."
   ]
  },
  {
   "cell_type": "markdown",
   "metadata": {},
   "source": [
    "[Оглавление](#section_id)\n",
    "\n",
    "## Результат исследования\n",
    "<a id='section_id5'></a>"
   ]
  },
  {
   "attachments": {
    "image.png": {
     "image/png": "[encoded data removed]"
    }
   },
   "cell_type": "markdown",
   "metadata": {},
   "source": [
    "**Описание данных**\n",
    "\n",
    "Для проведения исследования использовался набор из 4 датасетов с пользовательскими действиями (база пользователей, дата регистрации, совершённые действия, а также календарь маркетинговых мероприятий компании).\n",
    "\n",
    "**Предобработка данных**\n",
    "\n",
    "На этапе предобработки выполнены следующие шаги:\n",
    "\n",
    "- Все буквенные значения в датасетах приведены к нижнему регистру.\n",
    "- Данные приведены к нужному типу\n",
    "- Явные дубликаты не обнаружены\n",
    "- Пропуски в final_ab_events проанализирваны, замены на нули.\n",
    "\n",
    "**Корректность проведения теста**\n",
    "\n",
    "1. Данные проверены на соответствие ТЗ. Выявлены отклонения от требований:\n",
    "    - дата остановки тестирования, ожидаемая - 04.01, фактическая - 30.12\n",
    "    - число пользователей ниже ожидаемых 6 000 - по факту число активных пользователей 3 481\n",
    "    - пользователи за 14 дней с момента регистрации не показали улучшение конверсий в события на 10%, наоборот наблюдается ухудшение эти показателей.\n",
    "2. Время тестирования приходится на маркетинговую кампанию `christmas&new year promo`, однако по результатам анализа, влияния на действия пользователей двух групп не выявлено.\n",
    "3. Присутствуют большое число пользователей (1 602 чел.), участвующих в двух тестах одновременно, ТЗ на второй тест мы не знаем и нет возможности полностью установить влияние второго теста на наше исследование.\n",
    "\n",
    "\n",
    "**Исследовательский анализ данных - EDA**\n",
    "\n",
    "1. Пользователи обеих групп в среднем совершают сопостовимое число действий (7 для группы А и 5.8 для группы В). Однако из-за того, что пользователей в группе А больше, то валово число действий в этой группе превышает действия группы В.\n",
    "2. Число событий можно разбить на 3 временных отрезка:\n",
    "    - период 07.12-13.12 - небольшое число событий\n",
    "    - период 14.12-23.12 - наибольшее число событий с пиком 21 декабря\n",
    "    - период 24.12-30.12 - умеренное число событий с трндом на снижение\n",
    "3. Конверсия для группы А выше чем для группы В, на всех этапах кроме перехода от просмотра карточки к просмотру корзины.\n",
    "\n",
    "![image.png](attachment:image.png)"
   ]
  },
  {
   "cell_type": "markdown",
   "metadata": {},
   "source": [
    "### Результаты A/B-тестирования\n",
    "\n",
    "По резульату A/B тестирования были проверены гипотезы на равенство долей пользователей совершивших событие.\n",
    "\n",
    "- H0: доли уникальных посетителей, побывавших на этапе воронки, **одинаковы**.\n",
    "- H1: между долями уникальных посетителей, побывавших на этапе воронки, есть значимая **разница**."
   ]
  },
  {
   "cell_type": "code",
   "execution_count": 48,
   "metadata": {
    "ExecuteTime": {
     "end_time": "2022-11-18T10:43:25.261707Z",
     "start_time": "2022-11-18T10:43:25.247745Z"
    }
   },
   "outputs": [
    {
     "name": "stdout",
     "output_type": "stream",
     "text": [
      "Проверка для групп a и b, событие: product_cart, p-значение: 0.21469192029582396\n",
      "Не получилось отвергнуть нулевую гипотезу: между группами нет статистической разницы\n",
      "\n",
      "Проверка для групп a и b, событие: product_page, p-значение: 6.942739359416805e-06\n",
      "Отвергаем нулевую гипотезу: между группами есть статистическая разница\n",
      "\n",
      "Проверка для групп a и b, событие: purchase, p-значение: 0.04652482738393027\n",
      "Отвергаем нулевую гипотезу: между группами есть статистическая разница\n",
      "\n"
     ]
    }
   ],
   "source": [
    "for event in group_event_pvt.index:\n",
    "    z_test(event, 0.05)\n",
    "    print()"
   ]
  },
  {
   "cell_type": "markdown",
   "metadata": {},
   "source": [
    "**Вывод:**\n",
    "\n",
    "- Для события `product_cart` нет статистически значимой разницы в количестве пользователей между группами теста.\n",
    "- Для событий `product_page` и `purchase` есть статистически значимая разница между пользователями групп.\n",
    "\n",
    "\n",
    "### Общий вывод исследования\n",
    "\n",
    "Результаты статистической проверки позволяют нам сказать, что новая рекомендательная система не показала должных изменений и следует признать тест неудачным. Но нужно учитывать низкую мощность статистического теста, таким образом, вероятность ошибиться из-за относительно низкого числа пользователей, велика."
   ]
  }
 ],
 "metadata": {
  "ExecuteTimeLog": [
   {
    "duration": 1279,
    "start_time": "2022-11-08T07:41:53.772Z"
   },
   {
    "duration": 45,
    "start_time": "2022-11-08T07:42:00.109Z"
   },
   {
    "duration": 39,
    "start_time": "2022-11-08T07:42:10.165Z"
   },
   {
    "duration": 1412,
    "start_time": "2022-11-08T07:42:11.544Z"
   },
   {
    "duration": 3,
    "start_time": "2022-11-08T07:42:14.039Z"
   },
   {
    "duration": 36,
    "start_time": "2022-11-08T07:42:14.246Z"
   },
   {
    "duration": 1316,
    "start_time": "2022-11-08T07:42:14.469Z"
   },
   {
    "duration": 82,
    "start_time": "2022-11-08T07:42:30.848Z"
   },
   {
    "duration": 27,
    "start_time": "2022-11-08T07:42:56.721Z"
   },
   {
    "duration": 81,
    "start_time": "2022-11-08T07:43:23.518Z"
   },
   {
    "duration": 76,
    "start_time": "2022-11-08T07:43:24.349Z"
   },
   {
    "duration": 35,
    "start_time": "2022-11-08T07:43:50.747Z"
   },
   {
    "duration": 34,
    "start_time": "2022-11-08T07:43:58.737Z"
   },
   {
    "duration": 411,
    "start_time": "2022-11-08T07:44:09.894Z"
   },
   {
    "duration": 101,
    "start_time": "2022-11-08T07:44:30.499Z"
   },
   {
    "duration": 71,
    "start_time": "2022-11-08T07:44:46.780Z"
   },
   {
    "duration": 73,
    "start_time": "2022-11-08T07:45:44.706Z"
   },
   {
    "duration": 56,
    "start_time": "2022-11-08T07:45:48.830Z"
   },
   {
    "duration": 126,
    "start_time": "2022-11-08T07:46:11.806Z"
   },
   {
    "duration": 40,
    "start_time": "2022-11-08T07:46:19.266Z"
   },
   {
    "duration": 36,
    "start_time": "2022-11-08T07:46:28.550Z"
   },
   {
    "duration": 40,
    "start_time": "2022-11-08T07:46:38.239Z"
   },
   {
    "duration": 48,
    "start_time": "2022-11-08T07:46:48.612Z"
   },
   {
    "duration": 200,
    "start_time": "2022-11-08T07:47:20.177Z"
   },
   {
    "duration": 242,
    "start_time": "2022-11-08T07:47:47.589Z"
   },
   {
    "duration": 51,
    "start_time": "2022-11-08T07:47:56.208Z"
   },
   {
    "duration": 23,
    "start_time": "2022-11-08T07:48:05.091Z"
   },
   {
    "duration": 198,
    "start_time": "2022-11-08T07:49:57.491Z"
   },
   {
    "duration": 65,
    "start_time": "2022-11-08T07:50:00.190Z"
   },
   {
    "duration": 20,
    "start_time": "2022-11-08T07:50:02.983Z"
   },
   {
    "duration": 11,
    "start_time": "2022-11-08T07:50:31.170Z"
   },
   {
    "duration": 22,
    "start_time": "2022-11-08T07:50:39.981Z"
   },
   {
    "duration": 27,
    "start_time": "2022-11-08T07:51:02.596Z"
   },
   {
    "duration": 11,
    "start_time": "2022-11-08T07:51:11.690Z"
   },
   {
    "duration": 7,
    "start_time": "2022-11-08T07:51:29.994Z"
   },
   {
    "duration": 4,
    "start_time": "2022-11-08T07:51:48.748Z"
   },
   {
    "duration": 15,
    "start_time": "2022-11-08T07:52:21.391Z"
   },
   {
    "duration": 4,
    "start_time": "2022-11-08T07:52:46.483Z"
   },
   {
    "duration": 1143,
    "start_time": "2022-11-08T07:56:05.181Z"
   },
   {
    "duration": 46,
    "start_time": "2022-11-08T07:56:06.326Z"
   },
   {
    "duration": 1259,
    "start_time": "2022-11-08T07:56:06.373Z"
   },
   {
    "duration": 94,
    "start_time": "2022-11-08T07:56:07.634Z"
   },
   {
    "duration": 29,
    "start_time": "2022-11-08T07:56:07.730Z"
   },
   {
    "duration": 90,
    "start_time": "2022-11-08T07:56:07.761Z"
   },
   {
    "duration": 38,
    "start_time": "2022-11-08T07:56:08.129Z"
   },
   {
    "duration": 281,
    "start_time": "2022-11-08T07:56:09.318Z"
   },
   {
    "duration": 115,
    "start_time": "2022-11-08T07:56:09.834Z"
   },
   {
    "duration": 40,
    "start_time": "2022-11-08T07:56:10.420Z"
   },
   {
    "duration": 52,
    "start_time": "2022-11-08T07:56:11.772Z"
   },
   {
    "duration": 177,
    "start_time": "2022-11-08T07:56:12.743Z"
   },
   {
    "duration": 231,
    "start_time": "2022-11-08T07:56:14.017Z"
   },
   {
    "duration": 42,
    "start_time": "2022-11-08T07:56:16.567Z"
   },
   {
    "duration": 22,
    "start_time": "2022-11-08T07:56:17.376Z"
   },
   {
    "duration": 21,
    "start_time": "2022-11-08T07:56:19.661Z"
   },
   {
    "duration": 68,
    "start_time": "2022-11-08T07:56:49.668Z"
   },
   {
    "duration": 17,
    "start_time": "2022-11-08T07:56:54.726Z"
   },
   {
    "duration": 14,
    "start_time": "2022-11-08T07:57:03.054Z"
   },
   {
    "duration": 7,
    "start_time": "2022-11-08T07:57:28.187Z"
   },
   {
    "duration": 7,
    "start_time": "2022-11-08T07:57:34.927Z"
   },
   {
    "duration": 7,
    "start_time": "2022-11-08T07:59:17.692Z"
   },
   {
    "duration": 11,
    "start_time": "2022-11-08T08:17:20.079Z"
   },
   {
    "duration": 10,
    "start_time": "2022-11-08T08:17:25.575Z"
   },
   {
    "duration": 16,
    "start_time": "2022-11-08T08:17:35.782Z"
   },
   {
    "duration": 11,
    "start_time": "2022-11-08T08:18:59.665Z"
   },
   {
    "duration": 9,
    "start_time": "2022-11-08T08:19:06.174Z"
   },
   {
    "duration": 11,
    "start_time": "2022-11-08T08:19:29.623Z"
   },
   {
    "duration": 24,
    "start_time": "2022-11-08T08:19:29.904Z"
   },
   {
    "duration": 6,
    "start_time": "2022-11-08T08:19:31.452Z"
   },
   {
    "duration": 12,
    "start_time": "2022-11-08T08:19:32.224Z"
   },
   {
    "duration": 10,
    "start_time": "2022-11-08T08:19:37.878Z"
   },
   {
    "duration": 10,
    "start_time": "2022-11-08T08:19:39.011Z"
   },
   {
    "duration": 10,
    "start_time": "2022-11-08T08:20:16.860Z"
   },
   {
    "duration": 15,
    "start_time": "2022-11-08T08:20:36.049Z"
   },
   {
    "duration": 15,
    "start_time": "2022-11-08T08:20:43.604Z"
   },
   {
    "duration": 28,
    "start_time": "2022-11-08T08:20:46.418Z"
   },
   {
    "duration": 22,
    "start_time": "2022-11-08T08:20:48.001Z"
   },
   {
    "duration": 13,
    "start_time": "2022-11-08T08:29:18.384Z"
   },
   {
    "duration": 22,
    "start_time": "2022-11-08T08:29:59.831Z"
   },
   {
    "duration": 12,
    "start_time": "2022-11-08T08:30:56.090Z"
   },
   {
    "duration": 21,
    "start_time": "2022-11-08T08:32:41.077Z"
   },
   {
    "duration": 15,
    "start_time": "2022-11-08T08:32:44.945Z"
   },
   {
    "duration": 21,
    "start_time": "2022-11-08T08:33:01.274Z"
   },
   {
    "duration": 17,
    "start_time": "2022-11-08T08:33:13.153Z"
   },
   {
    "duration": 12,
    "start_time": "2022-11-08T08:33:21.118Z"
   },
   {
    "duration": 29,
    "start_time": "2022-11-08T08:33:35.478Z"
   },
   {
    "duration": 17,
    "start_time": "2022-11-08T08:33:47.642Z"
   },
   {
    "duration": 19,
    "start_time": "2022-11-08T08:33:58.022Z"
   },
   {
    "duration": 132,
    "start_time": "2022-11-08T08:36:40.290Z"
   },
   {
    "duration": 43,
    "start_time": "2022-11-08T08:36:51.624Z"
   },
   {
    "duration": 7,
    "start_time": "2022-11-08T08:37:09.479Z"
   },
   {
    "duration": 18,
    "start_time": "2022-11-08T08:37:11.636Z"
   },
   {
    "duration": 6,
    "start_time": "2022-11-08T08:37:14.633Z"
   },
   {
    "duration": 14,
    "start_time": "2022-11-08T08:37:16.656Z"
   },
   {
    "duration": 10,
    "start_time": "2022-11-08T08:38:09.393Z"
   },
   {
    "duration": 21,
    "start_time": "2022-11-08T08:38:10.849Z"
   },
   {
    "duration": 8,
    "start_time": "2022-11-08T08:38:14.381Z"
   },
   {
    "duration": 10,
    "start_time": "2022-11-08T08:38:31.122Z"
   },
   {
    "duration": 25,
    "start_time": "2022-11-08T08:39:35.134Z"
   },
   {
    "duration": 24,
    "start_time": "2022-11-08T08:39:40.599Z"
   },
   {
    "duration": 80,
    "start_time": "2022-11-08T08:40:19.244Z"
   },
   {
    "duration": 22,
    "start_time": "2022-11-08T08:40:24.464Z"
   },
   {
    "duration": 27,
    "start_time": "2022-11-08T08:41:07.629Z"
   },
   {
    "duration": 10,
    "start_time": "2022-11-08T08:41:08.397Z"
   },
   {
    "duration": 2,
    "start_time": "2022-11-08T08:42:10.425Z"
   },
   {
    "duration": 2,
    "start_time": "2022-11-08T08:42:10.795Z"
   },
   {
    "duration": 3,
    "start_time": "2022-11-08T08:42:11.172Z"
   },
   {
    "duration": 2,
    "start_time": "2022-11-08T08:42:12.383Z"
   },
   {
    "duration": 6,
    "start_time": "2022-11-08T08:42:36.355Z"
   },
   {
    "duration": 13,
    "start_time": "2022-11-08T08:42:49.747Z"
   },
   {
    "duration": 12,
    "start_time": "2022-11-08T08:43:02.831Z"
   },
   {
    "duration": 12,
    "start_time": "2022-11-08T08:43:05.986Z"
   },
   {
    "duration": 7,
    "start_time": "2022-11-08T08:43:16.448Z"
   },
   {
    "duration": 16,
    "start_time": "2022-11-08T08:43:47.017Z"
   },
   {
    "duration": 6,
    "start_time": "2022-11-08T08:47:39.237Z"
   },
   {
    "duration": 14,
    "start_time": "2022-11-08T08:48:09.442Z"
   },
   {
    "duration": 21,
    "start_time": "2022-11-08T08:48:55.643Z"
   },
   {
    "duration": 12,
    "start_time": "2022-11-08T08:48:56.341Z"
   },
   {
    "duration": 17,
    "start_time": "2022-11-08T08:49:03.848Z"
   },
   {
    "duration": 12,
    "start_time": "2022-11-08T08:49:06.752Z"
   },
   {
    "duration": 33,
    "start_time": "2022-11-08T08:49:26.279Z"
   },
   {
    "duration": 1203,
    "start_time": "2022-11-08T08:49:35.504Z"
   },
   {
    "duration": 49,
    "start_time": "2022-11-08T08:49:36.709Z"
   },
   {
    "duration": 2051,
    "start_time": "2022-11-08T08:49:36.760Z"
   },
   {
    "duration": 86,
    "start_time": "2022-11-08T08:49:38.814Z"
   },
   {
    "duration": 37,
    "start_time": "2022-11-08T08:49:38.902Z"
   },
   {
    "duration": 92,
    "start_time": "2022-11-08T08:49:38.941Z"
   },
   {
    "duration": 35,
    "start_time": "2022-11-08T08:49:39.035Z"
   },
   {
    "duration": 302,
    "start_time": "2022-11-08T08:49:39.072Z"
   },
   {
    "duration": 105,
    "start_time": "2022-11-08T08:49:39.375Z"
   },
   {
    "duration": 51,
    "start_time": "2022-11-08T08:49:39.483Z"
   },
   {
    "duration": 52,
    "start_time": "2022-11-08T08:49:39.535Z"
   },
   {
    "duration": 199,
    "start_time": "2022-11-08T08:49:39.588Z"
   },
   {
    "duration": 2,
    "start_time": "2022-11-08T08:49:39.789Z"
   },
   {
    "duration": 8,
    "start_time": "2022-11-08T08:49:39.792Z"
   },
   {
    "duration": 7,
    "start_time": "2022-11-08T08:49:39.801Z"
   },
   {
    "duration": 6,
    "start_time": "2022-11-08T08:49:39.809Z"
   },
   {
    "duration": 17,
    "start_time": "2022-11-08T08:49:39.817Z"
   },
   {
    "duration": 24,
    "start_time": "2022-11-08T08:49:39.836Z"
   },
   {
    "duration": 6,
    "start_time": "2022-11-08T08:49:39.861Z"
   },
   {
    "duration": 19,
    "start_time": "2022-11-08T08:49:39.869Z"
   },
   {
    "duration": 21,
    "start_time": "2022-11-08T08:49:39.890Z"
   },
   {
    "duration": 111,
    "start_time": "2022-11-08T08:49:39.927Z"
   },
   {
    "duration": 0,
    "start_time": "2022-11-08T08:49:40.040Z"
   },
   {
    "duration": 0,
    "start_time": "2022-11-08T08:49:40.041Z"
   },
   {
    "duration": 0,
    "start_time": "2022-11-08T08:49:40.042Z"
   },
   {
    "duration": 0,
    "start_time": "2022-11-08T08:49:40.043Z"
   },
   {
    "duration": 0,
    "start_time": "2022-11-08T08:49:40.044Z"
   },
   {
    "duration": 18,
    "start_time": "2022-11-08T08:51:14.847Z"
   },
   {
    "duration": 11,
    "start_time": "2022-11-08T08:51:31.095Z"
   },
   {
    "duration": 9,
    "start_time": "2022-11-08T08:51:38.895Z"
   },
   {
    "duration": 11,
    "start_time": "2022-11-08T08:51:42.869Z"
   },
   {
    "duration": 17,
    "start_time": "2022-11-08T08:52:23.062Z"
   },
   {
    "duration": 18,
    "start_time": "2022-11-08T08:53:25.145Z"
   },
   {
    "duration": 306,
    "start_time": "2022-11-08T08:54:33.549Z"
   },
   {
    "duration": 12,
    "start_time": "2022-11-08T08:55:09.445Z"
   },
   {
    "duration": 34,
    "start_time": "2022-11-08T08:55:21.243Z"
   },
   {
    "duration": 37,
    "start_time": "2022-11-08T08:55:24.581Z"
   },
   {
    "duration": 11,
    "start_time": "2022-11-08T08:55:26.256Z"
   },
   {
    "duration": 9,
    "start_time": "2022-11-08T08:55:48.404Z"
   },
   {
    "duration": 7,
    "start_time": "2022-11-08T08:55:59.809Z"
   },
   {
    "duration": 23,
    "start_time": "2022-11-08T08:57:30.583Z"
   },
   {
    "duration": 42,
    "start_time": "2022-11-08T09:02:36.109Z"
   },
   {
    "duration": 21,
    "start_time": "2022-11-08T09:02:36.339Z"
   },
   {
    "duration": 12,
    "start_time": "2022-11-08T09:06:53.788Z"
   },
   {
    "duration": 6,
    "start_time": "2022-11-08T09:07:05.822Z"
   },
   {
    "duration": 30,
    "start_time": "2022-11-08T09:07:34.659Z"
   },
   {
    "duration": 7,
    "start_time": "2022-11-08T09:07:56.738Z"
   },
   {
    "duration": 7,
    "start_time": "2022-11-08T09:10:15.095Z"
   },
   {
    "duration": 84,
    "start_time": "2022-11-08T09:11:20.281Z"
   },
   {
    "duration": 16,
    "start_time": "2022-11-08T09:11:24.108Z"
   },
   {
    "duration": 8,
    "start_time": "2022-11-08T09:11:47.096Z"
   },
   {
    "duration": 6,
    "start_time": "2022-11-08T09:11:55.395Z"
   },
   {
    "duration": 15,
    "start_time": "2022-11-08T09:12:00.799Z"
   },
   {
    "duration": 9,
    "start_time": "2022-11-08T09:12:07.124Z"
   },
   {
    "duration": 20,
    "start_time": "2022-11-08T09:12:25.178Z"
   },
   {
    "duration": 24,
    "start_time": "2022-11-08T09:12:44.711Z"
   },
   {
    "duration": 18,
    "start_time": "2022-11-08T09:12:45.488Z"
   },
   {
    "duration": 18,
    "start_time": "2022-11-08T09:13:28.597Z"
   },
   {
    "duration": 24,
    "start_time": "2022-11-08T09:13:29.024Z"
   },
   {
    "duration": 11,
    "start_time": "2022-11-08T09:13:29.652Z"
   },
   {
    "duration": 9,
    "start_time": "2022-11-08T09:13:42.583Z"
   },
   {
    "duration": 39,
    "start_time": "2022-11-08T09:14:19.609Z"
   },
   {
    "duration": 11,
    "start_time": "2022-11-08T09:14:20.424Z"
   },
   {
    "duration": 24,
    "start_time": "2022-11-08T09:16:14.338Z"
   },
   {
    "duration": 7,
    "start_time": "2022-11-08T09:16:47.420Z"
   },
   {
    "duration": 9,
    "start_time": "2022-11-08T09:16:48.194Z"
   },
   {
    "duration": 9,
    "start_time": "2022-11-08T09:17:06.393Z"
   },
   {
    "duration": 34,
    "start_time": "2022-11-08T09:17:39.675Z"
   },
   {
    "duration": 7,
    "start_time": "2022-11-08T09:17:39.979Z"
   },
   {
    "duration": 16,
    "start_time": "2022-11-08T09:21:42.433Z"
   },
   {
    "duration": 5,
    "start_time": "2022-11-08T09:21:46.644Z"
   },
   {
    "duration": 12,
    "start_time": "2022-11-08T09:21:52.416Z"
   },
   {
    "duration": 25,
    "start_time": "2022-11-08T09:22:20.738Z"
   },
   {
    "duration": 22,
    "start_time": "2022-11-08T09:22:26.480Z"
   },
   {
    "duration": 9,
    "start_time": "2022-11-08T09:22:37.738Z"
   },
   {
    "duration": 8,
    "start_time": "2022-11-08T09:22:51.251Z"
   },
   {
    "duration": 11,
    "start_time": "2022-11-08T09:22:55.195Z"
   },
   {
    "duration": 17,
    "start_time": "2022-11-08T09:23:08.099Z"
   },
   {
    "duration": 29,
    "start_time": "2022-11-08T09:23:30.111Z"
   },
   {
    "duration": 24,
    "start_time": "2022-11-08T09:23:43.739Z"
   },
   {
    "duration": 24,
    "start_time": "2022-11-08T09:23:56.599Z"
   },
   {
    "duration": 3,
    "start_time": "2022-11-08T09:24:14.262Z"
   },
   {
    "duration": 11,
    "start_time": "2022-11-08T09:24:17.259Z"
   },
   {
    "duration": 23,
    "start_time": "2022-11-08T09:24:52.567Z"
   },
   {
    "duration": 28,
    "start_time": "2022-11-08T09:25:20.038Z"
   },
   {
    "duration": 24,
    "start_time": "2022-11-08T09:25:27.162Z"
   },
   {
    "duration": 21,
    "start_time": "2022-11-08T09:25:34.195Z"
   },
   {
    "duration": 23,
    "start_time": "2022-11-08T09:25:43.159Z"
   },
   {
    "duration": 26,
    "start_time": "2022-11-08T09:25:48.220Z"
   },
   {
    "duration": 24,
    "start_time": "2022-11-08T09:26:25.407Z"
   },
   {
    "duration": 21,
    "start_time": "2022-11-08T09:26:49.472Z"
   },
   {
    "duration": 121,
    "start_time": "2022-11-08T09:44:23.188Z"
   },
   {
    "duration": 92,
    "start_time": "2022-11-08T09:44:43.403Z"
   },
   {
    "duration": 22,
    "start_time": "2022-11-08T09:45:40.084Z"
   },
   {
    "duration": 23,
    "start_time": "2022-11-08T09:45:57.772Z"
   },
   {
    "duration": 25,
    "start_time": "2022-11-08T09:46:21.424Z"
   },
   {
    "duration": 30,
    "start_time": "2022-11-08T09:46:42.088Z"
   },
   {
    "duration": 7,
    "start_time": "2022-11-08T09:46:59.284Z"
   },
   {
    "duration": 5,
    "start_time": "2022-11-08T09:49:47.488Z"
   },
   {
    "duration": 6,
    "start_time": "2022-11-08T09:50:08.409Z"
   },
   {
    "duration": 67,
    "start_time": "2022-11-08T09:50:14.810Z"
   },
   {
    "duration": 4,
    "start_time": "2022-11-08T09:50:19.780Z"
   },
   {
    "duration": 4,
    "start_time": "2022-11-08T09:50:23.660Z"
   },
   {
    "duration": 14,
    "start_time": "2022-11-08T09:52:15.397Z"
   },
   {
    "duration": 108,
    "start_time": "2022-11-08T09:52:57.306Z"
   },
   {
    "duration": 147,
    "start_time": "2022-11-08T09:53:03.253Z"
   },
   {
    "duration": 12,
    "start_time": "2022-11-08T09:53:11.801Z"
   },
   {
    "duration": 124,
    "start_time": "2022-11-08T09:53:25.465Z"
   },
   {
    "duration": 121,
    "start_time": "2022-11-08T09:53:58.555Z"
   },
   {
    "duration": 26,
    "start_time": "2022-11-08T09:54:05.651Z"
   },
   {
    "duration": 178,
    "start_time": "2022-11-08T09:54:14.594Z"
   },
   {
    "duration": 17,
    "start_time": "2022-11-08T09:54:14.775Z"
   },
   {
    "duration": 5,
    "start_time": "2022-11-08T09:54:48.181Z"
   },
   {
    "duration": 21,
    "start_time": "2022-11-08T09:54:54.729Z"
   },
   {
    "duration": 121,
    "start_time": "2022-11-08T09:57:50.539Z"
   },
   {
    "duration": 123,
    "start_time": "2022-11-08T09:57:54.942Z"
   },
   {
    "duration": 13,
    "start_time": "2022-11-08T09:58:00.438Z"
   },
   {
    "duration": 24,
    "start_time": "2022-11-08T09:58:28.478Z"
   },
   {
    "duration": 117,
    "start_time": "2022-11-08T09:58:53.699Z"
   },
   {
    "duration": 117,
    "start_time": "2022-11-08T09:59:11.318Z"
   },
   {
    "duration": 149,
    "start_time": "2022-11-08T09:59:19.839Z"
   },
   {
    "duration": 5,
    "start_time": "2022-11-08T10:00:27.635Z"
   },
   {
    "duration": 8,
    "start_time": "2022-11-08T10:00:55.411Z"
   },
   {
    "duration": 133,
    "start_time": "2022-11-08T10:01:31.999Z"
   },
   {
    "duration": 147,
    "start_time": "2022-11-08T10:01:40.256Z"
   },
   {
    "duration": 19,
    "start_time": "2022-11-08T10:01:41.071Z"
   },
   {
    "duration": 19,
    "start_time": "2022-11-08T10:01:41.671Z"
   },
   {
    "duration": 7,
    "start_time": "2022-11-08T10:01:42.239Z"
   },
   {
    "duration": 18,
    "start_time": "2022-11-08T10:01:52.638Z"
   },
   {
    "duration": 14,
    "start_time": "2022-11-08T10:04:52.667Z"
   },
   {
    "duration": 10,
    "start_time": "2022-11-08T10:14:22.826Z"
   },
   {
    "duration": 20,
    "start_time": "2022-11-08T10:14:29.098Z"
   },
   {
    "duration": 8,
    "start_time": "2022-11-08T10:14:51.558Z"
   },
   {
    "duration": 21,
    "start_time": "2022-11-08T10:16:40.039Z"
   },
   {
    "duration": 7,
    "start_time": "2022-11-08T10:42:34.876Z"
   },
   {
    "duration": 10,
    "start_time": "2022-11-08T10:42:39.164Z"
   },
   {
    "duration": 8,
    "start_time": "2022-11-08T10:42:51.524Z"
   },
   {
    "duration": 141,
    "start_time": "2022-11-08T10:42:57.931Z"
   },
   {
    "duration": 18,
    "start_time": "2022-11-08T10:43:01.245Z"
   },
   {
    "duration": 20,
    "start_time": "2022-11-08T10:43:02.716Z"
   },
   {
    "duration": 24,
    "start_time": "2022-11-08T10:43:03.667Z"
   },
   {
    "duration": 26,
    "start_time": "2022-11-08T10:43:07.869Z"
   },
   {
    "duration": 29,
    "start_time": "2022-11-08T10:43:19.585Z"
   },
   {
    "duration": 140,
    "start_time": "2022-11-08T10:43:28.470Z"
   },
   {
    "duration": 19,
    "start_time": "2022-11-08T10:43:30.409Z"
   },
   {
    "duration": 7,
    "start_time": "2022-11-08T10:44:42.632Z"
   },
   {
    "duration": 28,
    "start_time": "2022-11-08T10:44:49.380Z"
   },
   {
    "duration": 6,
    "start_time": "2022-11-08T10:44:51.085Z"
   },
   {
    "duration": 20,
    "start_time": "2022-11-08T10:45:50.582Z"
   },
   {
    "duration": 123,
    "start_time": "2022-11-08T10:45:53.816Z"
   },
   {
    "duration": 23,
    "start_time": "2022-11-08T10:45:54.274Z"
   },
   {
    "duration": 20,
    "start_time": "2022-11-08T10:46:02.782Z"
   },
   {
    "duration": 29,
    "start_time": "2022-11-08T10:46:36.885Z"
   },
   {
    "duration": 32,
    "start_time": "2022-11-08T10:46:47.889Z"
   },
   {
    "duration": 72,
    "start_time": "2022-11-08T10:47:49.262Z"
   },
   {
    "duration": 28,
    "start_time": "2022-11-08T10:47:52.893Z"
   },
   {
    "duration": 39,
    "start_time": "2022-11-08T10:48:04.122Z"
   },
   {
    "duration": 132,
    "start_time": "2022-11-08T10:48:16.525Z"
   },
   {
    "duration": 21,
    "start_time": "2022-11-08T10:48:16.839Z"
   },
   {
    "duration": 30,
    "start_time": "2022-11-08T10:48:19.236Z"
   },
   {
    "duration": 13,
    "start_time": "2022-11-08T10:50:49.357Z"
   },
   {
    "duration": 14,
    "start_time": "2022-11-08T10:51:07.703Z"
   },
   {
    "duration": 25,
    "start_time": "2022-11-08T10:51:23.215Z"
   },
   {
    "duration": 14,
    "start_time": "2022-11-08T10:51:24.243Z"
   },
   {
    "duration": 39,
    "start_time": "2022-11-08T10:51:43.257Z"
   },
   {
    "duration": 15,
    "start_time": "2022-11-08T10:51:46.906Z"
   },
   {
    "duration": 32,
    "start_time": "2022-11-08T10:51:54.634Z"
   },
   {
    "duration": 13,
    "start_time": "2022-11-08T10:51:54.864Z"
   },
   {
    "duration": 33,
    "start_time": "2022-11-08T10:52:11.674Z"
   },
   {
    "duration": 7,
    "start_time": "2022-11-08T10:52:12.557Z"
   },
   {
    "duration": 133,
    "start_time": "2022-11-08T10:52:34.661Z"
   },
   {
    "duration": 22,
    "start_time": "2022-11-08T10:52:35.270Z"
   },
   {
    "duration": 37,
    "start_time": "2022-11-08T10:52:37.302Z"
   },
   {
    "duration": 14,
    "start_time": "2022-11-08T10:52:38.143Z"
   },
   {
    "duration": 5,
    "start_time": "2022-11-08T10:52:57.900Z"
   },
   {
    "duration": 5,
    "start_time": "2022-11-08T10:53:17.307Z"
   },
   {
    "duration": 10,
    "start_time": "2022-11-08T11:02:58.877Z"
   },
   {
    "duration": 5,
    "start_time": "2022-11-08T11:03:06.435Z"
   },
   {
    "duration": 11,
    "start_time": "2022-11-08T11:03:12.572Z"
   },
   {
    "duration": 10,
    "start_time": "2022-11-08T11:03:30.308Z"
   },
   {
    "duration": 364,
    "start_time": "2022-11-08T11:03:31.692Z"
   },
   {
    "duration": 304,
    "start_time": "2022-11-08T11:03:38.937Z"
   },
   {
    "duration": 319,
    "start_time": "2022-11-08T11:03:43.666Z"
   },
   {
    "duration": 402,
    "start_time": "2022-11-08T11:03:59.833Z"
   },
   {
    "duration": 377,
    "start_time": "2022-11-08T11:04:55.637Z"
   },
   {
    "duration": 301,
    "start_time": "2022-11-08T11:05:56.997Z"
   },
   {
    "duration": 304,
    "start_time": "2022-11-08T11:06:16.157Z"
   },
   {
    "duration": 301,
    "start_time": "2022-11-08T11:06:20.620Z"
   },
   {
    "duration": 383,
    "start_time": "2022-11-08T11:06:55.835Z"
   },
   {
    "duration": 369,
    "start_time": "2022-11-08T11:06:58.489Z"
   },
   {
    "duration": 311,
    "start_time": "2022-11-08T11:07:06.136Z"
   },
   {
    "duration": 296,
    "start_time": "2022-11-08T11:07:08.269Z"
   },
   {
    "duration": 337,
    "start_time": "2022-11-08T11:07:29.715Z"
   },
   {
    "duration": 326,
    "start_time": "2022-11-08T11:07:39.958Z"
   },
   {
    "duration": 375,
    "start_time": "2022-11-08T11:07:46.049Z"
   },
   {
    "duration": 374,
    "start_time": "2022-11-08T11:07:50.825Z"
   },
   {
    "duration": 415,
    "start_time": "2022-11-08T11:07:55.422Z"
   },
   {
    "duration": 318,
    "start_time": "2022-11-08T11:08:01.944Z"
   },
   {
    "duration": 336,
    "start_time": "2022-11-08T11:08:12.180Z"
   },
   {
    "duration": 318,
    "start_time": "2022-11-08T11:08:16.057Z"
   },
   {
    "duration": 330,
    "start_time": "2022-11-08T11:08:29.643Z"
   },
   {
    "duration": 381,
    "start_time": "2022-11-08T11:08:38.017Z"
   },
   {
    "duration": 307,
    "start_time": "2022-11-08T11:08:48.121Z"
   },
   {
    "duration": 306,
    "start_time": "2022-11-08T11:08:56.159Z"
   },
   {
    "duration": 25,
    "start_time": "2022-11-08T11:09:11.760Z"
   },
   {
    "duration": 301,
    "start_time": "2022-11-08T11:09:24.514Z"
   },
   {
    "duration": 306,
    "start_time": "2022-11-08T11:09:33.873Z"
   },
   {
    "duration": 311,
    "start_time": "2022-11-08T11:09:44.185Z"
   },
   {
    "duration": 385,
    "start_time": "2022-11-08T11:09:57.247Z"
   },
   {
    "duration": 311,
    "start_time": "2022-11-08T11:10:00.462Z"
   },
   {
    "duration": 321,
    "start_time": "2022-11-08T11:10:32.548Z"
   },
   {
    "duration": 355,
    "start_time": "2022-11-08T12:57:43.093Z"
   },
   {
    "duration": 428,
    "start_time": "2022-11-08T12:58:12.930Z"
   },
   {
    "duration": 359,
    "start_time": "2022-11-08T13:01:28.919Z"
   },
   {
    "duration": 361,
    "start_time": "2022-11-08T13:01:32.748Z"
   },
   {
    "duration": 386,
    "start_time": "2022-11-08T13:03:49.253Z"
   },
   {
    "duration": 367,
    "start_time": "2022-11-08T13:04:14.100Z"
   },
   {
    "duration": 493,
    "start_time": "2022-11-08T13:04:15.316Z"
   },
   {
    "duration": 344,
    "start_time": "2022-11-08T13:05:17.340Z"
   },
   {
    "duration": 433,
    "start_time": "2022-11-08T13:06:03.714Z"
   },
   {
    "duration": 15,
    "start_time": "2022-11-08T13:07:33.060Z"
   },
   {
    "duration": 15,
    "start_time": "2022-11-08T13:07:45.627Z"
   },
   {
    "duration": 344,
    "start_time": "2022-11-08T13:08:03.973Z"
   },
   {
    "duration": 451,
    "start_time": "2022-11-08T13:08:35.492Z"
   },
   {
    "duration": 331,
    "start_time": "2022-11-08T13:10:13.580Z"
   },
   {
    "duration": 446,
    "start_time": "2022-11-08T13:10:21.569Z"
   },
   {
    "duration": 364,
    "start_time": "2022-11-08T13:10:30.342Z"
   },
   {
    "duration": 306,
    "start_time": "2022-11-08T13:10:37.200Z"
   },
   {
    "duration": 311,
    "start_time": "2022-11-08T13:10:54.077Z"
   },
   {
    "duration": 327,
    "start_time": "2022-11-08T13:11:06.286Z"
   },
   {
    "duration": 369,
    "start_time": "2022-11-08T13:21:57.479Z"
   },
   {
    "duration": 15,
    "start_time": "2022-11-08T13:22:59.784Z"
   },
   {
    "duration": 10,
    "start_time": "2022-11-08T13:23:25.582Z"
   },
   {
    "duration": 7,
    "start_time": "2022-11-08T13:23:29.014Z"
   },
   {
    "duration": 19,
    "start_time": "2022-11-08T13:23:35.201Z"
   },
   {
    "duration": 617,
    "start_time": "2022-11-08T13:23:43.997Z"
   },
   {
    "duration": 401,
    "start_time": "2022-11-08T13:24:02.405Z"
   },
   {
    "duration": 373,
    "start_time": "2022-11-08T13:24:35.066Z"
   },
   {
    "duration": 386,
    "start_time": "2022-11-08T13:24:40.485Z"
   },
   {
    "duration": 376,
    "start_time": "2022-11-08T13:24:51.857Z"
   },
   {
    "duration": 470,
    "start_time": "2022-11-08T13:24:58.477Z"
   },
   {
    "duration": 380,
    "start_time": "2022-11-08T13:25:26.604Z"
   },
   {
    "duration": 10,
    "start_time": "2022-11-08T13:49:11.868Z"
   },
   {
    "duration": 9,
    "start_time": "2022-11-08T13:49:14.299Z"
   },
   {
    "duration": 11,
    "start_time": "2022-11-08T13:50:55.686Z"
   },
   {
    "duration": 10,
    "start_time": "2022-11-08T13:51:20.403Z"
   },
   {
    "duration": 7,
    "start_time": "2022-11-08T13:51:28.971Z"
   },
   {
    "duration": 12,
    "start_time": "2022-11-08T13:51:36.003Z"
   },
   {
    "duration": 9,
    "start_time": "2022-11-08T13:52:36.775Z"
   },
   {
    "duration": 9,
    "start_time": "2022-11-08T13:52:44.660Z"
   },
   {
    "duration": 16,
    "start_time": "2022-11-08T14:06:11.677Z"
   },
   {
    "duration": 18,
    "start_time": "2022-11-08T14:07:04.568Z"
   },
   {
    "duration": 12,
    "start_time": "2022-11-08T14:07:22.182Z"
   },
   {
    "duration": 21,
    "start_time": "2022-11-08T14:07:29.756Z"
   },
   {
    "duration": 18,
    "start_time": "2022-11-08T14:07:40.292Z"
   },
   {
    "duration": 16,
    "start_time": "2022-11-08T14:07:49.500Z"
   },
   {
    "duration": 23,
    "start_time": "2022-11-08T14:08:33.383Z"
   },
   {
    "duration": 82,
    "start_time": "2022-11-08T14:09:06.388Z"
   },
   {
    "duration": 24,
    "start_time": "2022-11-08T14:09:11.487Z"
   },
   {
    "duration": 28,
    "start_time": "2022-11-08T14:09:16.877Z"
   },
   {
    "duration": 26,
    "start_time": "2022-11-08T14:09:52.048Z"
   },
   {
    "duration": 25,
    "start_time": "2022-11-08T14:10:18.742Z"
   },
   {
    "duration": 29,
    "start_time": "2022-11-08T14:10:38.285Z"
   },
   {
    "duration": 19,
    "start_time": "2022-11-08T14:11:55.459Z"
   },
   {
    "duration": 9,
    "start_time": "2022-11-08T14:14:37.121Z"
   },
   {
    "duration": 556,
    "start_time": "2022-11-08T14:14:47.249Z"
   },
   {
    "duration": 21,
    "start_time": "2022-11-08T14:15:39.680Z"
   },
   {
    "duration": 562,
    "start_time": "2022-11-08T14:15:41.775Z"
   },
   {
    "duration": 549,
    "start_time": "2022-11-08T14:19:43.431Z"
   },
   {
    "duration": 8,
    "start_time": "2022-11-08T14:36:27.065Z"
   },
   {
    "duration": 577,
    "start_time": "2022-11-08T14:36:35.297Z"
   },
   {
    "duration": 19,
    "start_time": "2022-11-08T14:36:48.028Z"
   },
   {
    "duration": 25,
    "start_time": "2022-11-08T14:37:04.385Z"
   },
   {
    "duration": 5,
    "start_time": "2022-11-08T14:37:14.338Z"
   },
   {
    "duration": 7,
    "start_time": "2022-11-08T14:37:18.940Z"
   },
   {
    "duration": 10,
    "start_time": "2022-11-08T14:37:38.680Z"
   },
   {
    "duration": 18,
    "start_time": "2022-11-08T14:39:16.868Z"
   },
   {
    "duration": 22,
    "start_time": "2022-11-08T14:39:21.901Z"
   },
   {
    "duration": 24,
    "start_time": "2022-11-08T14:39:50.517Z"
   },
   {
    "duration": 15,
    "start_time": "2022-11-08T14:46:48.950Z"
   },
   {
    "duration": 27,
    "start_time": "2022-11-08T14:50:58.560Z"
   },
   {
    "duration": 149,
    "start_time": "2022-11-08T14:53:19.499Z"
   },
   {
    "duration": 30,
    "start_time": "2022-11-08T14:53:20.008Z"
   },
   {
    "duration": 33,
    "start_time": "2022-11-08T14:53:21.056Z"
   },
   {
    "duration": 65,
    "start_time": "2022-11-08T14:55:45.368Z"
   },
   {
    "duration": 18,
    "start_time": "2022-11-08T14:55:52.876Z"
   },
   {
    "duration": 5,
    "start_time": "2022-11-08T14:56:03.595Z"
   },
   {
    "duration": 5,
    "start_time": "2022-11-08T14:56:11.228Z"
   },
   {
    "duration": 19,
    "start_time": "2022-11-08T14:59:00.913Z"
   },
   {
    "duration": 10,
    "start_time": "2022-11-08T14:59:07.014Z"
   },
   {
    "duration": 5,
    "start_time": "2022-11-08T14:59:09.617Z"
   },
   {
    "duration": 15,
    "start_time": "2022-11-08T14:59:16.020Z"
   },
   {
    "duration": 13,
    "start_time": "2022-11-08T14:59:28.284Z"
   },
   {
    "duration": 4,
    "start_time": "2022-11-08T14:59:32.492Z"
   },
   {
    "duration": 20,
    "start_time": "2022-11-08T15:17:40.526Z"
   },
   {
    "duration": 4,
    "start_time": "2022-11-08T15:17:52.723Z"
   },
   {
    "duration": 86,
    "start_time": "2022-11-08T15:18:02.315Z"
   },
   {
    "duration": 74,
    "start_time": "2022-11-08T15:18:10.002Z"
   },
   {
    "duration": 14,
    "start_time": "2022-11-08T15:18:20.528Z"
   },
   {
    "duration": 16,
    "start_time": "2022-11-08T15:18:33.928Z"
   },
   {
    "duration": 20,
    "start_time": "2022-11-08T15:18:48.058Z"
   },
   {
    "duration": 23,
    "start_time": "2022-11-08T15:19:14.142Z"
   },
   {
    "duration": 15,
    "start_time": "2022-11-08T15:19:51.278Z"
   },
   {
    "duration": 6,
    "start_time": "2022-11-08T15:20:06.075Z"
   },
   {
    "duration": 5,
    "start_time": "2022-11-08T15:20:37.151Z"
   },
   {
    "duration": 7,
    "start_time": "2022-11-08T15:24:01.717Z"
   },
   {
    "duration": 6,
    "start_time": "2022-11-08T15:31:36.199Z"
   },
   {
    "duration": 4,
    "start_time": "2022-11-08T15:31:37.122Z"
   },
   {
    "duration": 1218,
    "start_time": "2022-11-08T15:34:33.402Z"
   },
   {
    "duration": 55,
    "start_time": "2022-11-08T15:34:34.621Z"
   },
   {
    "duration": 1654,
    "start_time": "2022-11-08T15:34:34.678Z"
   },
   {
    "duration": 107,
    "start_time": "2022-11-08T15:34:36.334Z"
   },
   {
    "duration": 32,
    "start_time": "2022-11-08T15:34:36.443Z"
   },
   {
    "duration": 94,
    "start_time": "2022-11-08T15:34:36.476Z"
   },
   {
    "duration": 35,
    "start_time": "2022-11-08T15:34:36.571Z"
   },
   {
    "duration": 317,
    "start_time": "2022-11-08T15:34:36.608Z"
   },
   {
    "duration": 108,
    "start_time": "2022-11-08T15:34:36.936Z"
   },
   {
    "duration": 43,
    "start_time": "2022-11-08T15:34:37.046Z"
   },
   {
    "duration": 71,
    "start_time": "2022-11-08T15:34:37.091Z"
   },
   {
    "duration": 293,
    "start_time": "2022-11-08T15:34:37.163Z"
   },
   {
    "duration": 0,
    "start_time": "2022-11-08T15:34:37.458Z"
   },
   {
    "duration": 0,
    "start_time": "2022-11-08T15:34:37.459Z"
   },
   {
    "duration": 0,
    "start_time": "2022-11-08T15:34:37.460Z"
   },
   {
    "duration": 0,
    "start_time": "2022-11-08T15:34:37.461Z"
   },
   {
    "duration": 0,
    "start_time": "2022-11-08T15:34:37.462Z"
   },
   {
    "duration": 0,
    "start_time": "2022-11-08T15:34:37.463Z"
   },
   {
    "duration": 0,
    "start_time": "2022-11-08T15:34:37.464Z"
   },
   {
    "duration": 0,
    "start_time": "2022-11-08T15:34:37.465Z"
   },
   {
    "duration": 0,
    "start_time": "2022-11-08T15:34:37.466Z"
   },
   {
    "duration": 0,
    "start_time": "2022-11-08T15:34:37.467Z"
   },
   {
    "duration": 0,
    "start_time": "2022-11-08T15:34:37.469Z"
   },
   {
    "duration": 0,
    "start_time": "2022-11-08T15:34:37.470Z"
   },
   {
    "duration": 0,
    "start_time": "2022-11-08T15:34:37.470Z"
   },
   {
    "duration": 0,
    "start_time": "2022-11-08T15:34:37.471Z"
   },
   {
    "duration": 0,
    "start_time": "2022-11-08T15:34:37.472Z"
   },
   {
    "duration": 0,
    "start_time": "2022-11-08T15:34:37.473Z"
   },
   {
    "duration": 0,
    "start_time": "2022-11-08T15:34:37.474Z"
   },
   {
    "duration": 0,
    "start_time": "2022-11-08T15:34:37.475Z"
   },
   {
    "duration": 0,
    "start_time": "2022-11-08T15:34:37.475Z"
   },
   {
    "duration": 0,
    "start_time": "2022-11-08T15:34:37.476Z"
   },
   {
    "duration": 0,
    "start_time": "2022-11-08T15:34:37.477Z"
   },
   {
    "duration": 0,
    "start_time": "2022-11-08T15:34:37.478Z"
   },
   {
    "duration": 0,
    "start_time": "2022-11-08T15:34:37.479Z"
   },
   {
    "duration": 0,
    "start_time": "2022-11-08T15:34:37.480Z"
   },
   {
    "duration": 188,
    "start_time": "2022-11-08T15:35:04.493Z"
   },
   {
    "duration": 1331,
    "start_time": "2022-11-08T15:37:42.413Z"
   },
   {
    "duration": 40,
    "start_time": "2022-11-08T15:37:43.746Z"
   },
   {
    "duration": 1683,
    "start_time": "2022-11-08T15:37:43.788Z"
   },
   {
    "duration": 93,
    "start_time": "2022-11-08T15:37:45.473Z"
   },
   {
    "duration": 53,
    "start_time": "2022-11-08T15:37:45.569Z"
   },
   {
    "duration": 148,
    "start_time": "2022-11-08T15:37:45.626Z"
   },
   {
    "duration": 66,
    "start_time": "2022-11-08T15:37:45.776Z"
   },
   {
    "duration": 357,
    "start_time": "2022-11-08T15:37:45.844Z"
   },
   {
    "duration": 113,
    "start_time": "2022-11-08T15:37:46.203Z"
   },
   {
    "duration": 59,
    "start_time": "2022-11-08T15:37:46.318Z"
   },
   {
    "duration": 70,
    "start_time": "2022-11-08T15:37:46.379Z"
   },
   {
    "duration": 232,
    "start_time": "2022-11-08T15:37:46.451Z"
   },
   {
    "duration": 8,
    "start_time": "2022-11-08T15:37:46.685Z"
   },
   {
    "duration": 45,
    "start_time": "2022-11-08T15:37:46.697Z"
   },
   {
    "duration": 8,
    "start_time": "2022-11-08T15:37:46.744Z"
   },
   {
    "duration": 34,
    "start_time": "2022-11-08T15:37:46.753Z"
   },
   {
    "duration": 21,
    "start_time": "2022-11-08T15:37:46.789Z"
   },
   {
    "duration": 51,
    "start_time": "2022-11-08T15:37:46.812Z"
   },
   {
    "duration": 16,
    "start_time": "2022-11-08T15:37:46.865Z"
   },
   {
    "duration": 27,
    "start_time": "2022-11-08T15:37:46.883Z"
   },
   {
    "duration": 182,
    "start_time": "2022-11-08T15:37:46.912Z"
   },
   {
    "duration": 33,
    "start_time": "2022-11-08T15:37:47.096Z"
   },
   {
    "duration": 56,
    "start_time": "2022-11-08T15:37:47.133Z"
   },
   {
    "duration": 7,
    "start_time": "2022-11-08T15:37:47.192Z"
   },
   {
    "duration": 32,
    "start_time": "2022-11-08T15:37:47.201Z"
   },
   {
    "duration": 32,
    "start_time": "2022-11-08T15:37:47.241Z"
   },
   {
    "duration": 698,
    "start_time": "2022-11-08T15:37:47.274Z"
   },
   {
    "duration": 5,
    "start_time": "2022-11-08T15:37:47.974Z"
   },
   {
    "duration": 20,
    "start_time": "2022-11-08T15:37:47.980Z"
   },
   {
    "duration": 35,
    "start_time": "2022-11-08T15:37:48.002Z"
   },
   {
    "duration": 17,
    "start_time": "2022-11-08T15:37:48.038Z"
   },
   {
    "duration": 18,
    "start_time": "2022-11-08T15:37:48.057Z"
   },
   {
    "duration": 500,
    "start_time": "2022-11-08T15:37:48.077Z"
   },
   {
    "duration": 471,
    "start_time": "2022-11-08T15:37:48.579Z"
   },
   {
    "duration": 544,
    "start_time": "2022-11-08T15:37:49.055Z"
   },
   {
    "duration": 34,
    "start_time": "2022-11-08T15:37:49.600Z"
   },
   {
    "duration": 6,
    "start_time": "2022-11-08T15:41:54.602Z"
   },
   {
    "duration": 23,
    "start_time": "2022-11-08T15:47:26.837Z"
   },
   {
    "duration": 21,
    "start_time": "2022-11-08T15:47:46.920Z"
   },
   {
    "duration": 30,
    "start_time": "2022-11-08T15:49:22.985Z"
   },
   {
    "duration": 21,
    "start_time": "2022-11-08T15:49:28.532Z"
   },
   {
    "duration": 21,
    "start_time": "2022-11-08T15:49:34.216Z"
   },
   {
    "duration": 19,
    "start_time": "2022-11-08T15:49:51.809Z"
   },
   {
    "duration": 18,
    "start_time": "2022-11-08T15:51:10.968Z"
   },
   {
    "duration": 7,
    "start_time": "2022-11-08T15:54:38.987Z"
   },
   {
    "duration": 9,
    "start_time": "2022-11-08T15:54:54.528Z"
   },
   {
    "duration": 9,
    "start_time": "2022-11-08T15:55:45.365Z"
   },
   {
    "duration": 621,
    "start_time": "2022-11-08T15:55:50.399Z"
   },
   {
    "duration": 10,
    "start_time": "2022-11-08T15:55:54.898Z"
   },
   {
    "duration": 7,
    "start_time": "2022-11-08T15:56:02.295Z"
   },
   {
    "duration": 27,
    "start_time": "2022-11-08T16:00:37.687Z"
   },
   {
    "duration": 21,
    "start_time": "2022-11-08T16:00:43.946Z"
   },
   {
    "duration": 7,
    "start_time": "2022-11-08T16:21:11.912Z"
   },
   {
    "duration": 18,
    "start_time": "2022-11-08T16:22:09.718Z"
   },
   {
    "duration": 8,
    "start_time": "2022-11-08T16:22:47.909Z"
   },
   {
    "duration": 9,
    "start_time": "2022-11-08T16:44:32.052Z"
   },
   {
    "duration": 11,
    "start_time": "2022-11-08T16:45:53.443Z"
   },
   {
    "duration": 8,
    "start_time": "2022-11-08T16:46:04.506Z"
   },
   {
    "duration": 8,
    "start_time": "2022-11-08T16:46:54.900Z"
   },
   {
    "duration": 7,
    "start_time": "2022-11-08T16:47:07.867Z"
   },
   {
    "duration": 6,
    "start_time": "2022-11-08T16:47:10.878Z"
   },
   {
    "duration": 7,
    "start_time": "2022-11-08T16:48:34.300Z"
   },
   {
    "duration": 7,
    "start_time": "2022-11-08T16:49:01.442Z"
   },
   {
    "duration": 8,
    "start_time": "2022-11-08T16:50:18.281Z"
   },
   {
    "duration": 12,
    "start_time": "2022-11-08T16:50:26.577Z"
   },
   {
    "duration": 14,
    "start_time": "2022-11-08T16:51:07.910Z"
   },
   {
    "duration": 73,
    "start_time": "2022-11-08T16:52:46.854Z"
   },
   {
    "duration": 85,
    "start_time": "2022-11-08T16:52:51.291Z"
   },
   {
    "duration": 89,
    "start_time": "2022-11-08T16:52:55.691Z"
   },
   {
    "duration": 21,
    "start_time": "2022-11-08T16:53:01.836Z"
   },
   {
    "duration": 21,
    "start_time": "2022-11-08T16:53:10.324Z"
   },
   {
    "duration": 27,
    "start_time": "2022-11-08T16:54:52.438Z"
   },
   {
    "duration": 14,
    "start_time": "2022-11-08T16:55:00.924Z"
   },
   {
    "duration": 14,
    "start_time": "2022-11-08T16:55:43.662Z"
   },
   {
    "duration": 10,
    "start_time": "2022-11-08T16:56:35.937Z"
   },
   {
    "duration": 11,
    "start_time": "2022-11-08T16:57:08.957Z"
   },
   {
    "duration": 12,
    "start_time": "2022-11-08T16:57:13.262Z"
   },
   {
    "duration": 11,
    "start_time": "2022-11-08T16:58:06.091Z"
   },
   {
    "duration": 13,
    "start_time": "2022-11-08T17:12:27.782Z"
   },
   {
    "duration": 14,
    "start_time": "2022-11-08T17:27:23.048Z"
   },
   {
    "duration": 13,
    "start_time": "2022-11-08T17:27:36.665Z"
   },
   {
    "duration": 13,
    "start_time": "2022-11-08T17:27:42.115Z"
   },
   {
    "duration": 495,
    "start_time": "2022-11-08T17:28:15.377Z"
   },
   {
    "duration": 439,
    "start_time": "2022-11-08T17:28:35.894Z"
   },
   {
    "duration": 419,
    "start_time": "2022-11-08T17:28:39.995Z"
   },
   {
    "duration": 387,
    "start_time": "2022-11-08T17:28:42.935Z"
   },
   {
    "duration": 501,
    "start_time": "2022-11-08T17:28:46.470Z"
   },
   {
    "duration": 398,
    "start_time": "2022-11-08T17:28:49.648Z"
   },
   {
    "duration": 385,
    "start_time": "2022-11-08T17:28:54.864Z"
   },
   {
    "duration": 450,
    "start_time": "2022-11-08T17:28:58.791Z"
   },
   {
    "duration": 425,
    "start_time": "2022-11-08T17:31:32.773Z"
   },
   {
    "duration": 422,
    "start_time": "2022-11-08T17:31:38.306Z"
   },
   {
    "duration": 9,
    "start_time": "2022-11-08T17:32:37.617Z"
   },
   {
    "duration": 9,
    "start_time": "2022-11-08T17:32:48.569Z"
   },
   {
    "duration": 25,
    "start_time": "2022-11-08T17:34:18.185Z"
   },
   {
    "duration": 25,
    "start_time": "2022-11-08T17:34:33.173Z"
   },
   {
    "duration": 25,
    "start_time": "2022-11-08T17:34:43.614Z"
   },
   {
    "duration": 1562,
    "start_time": "2022-11-08T17:35:39.760Z"
   },
   {
    "duration": 1668,
    "start_time": "2022-11-08T17:35:44.860Z"
   },
   {
    "duration": 22,
    "start_time": "2022-11-08T17:36:00.608Z"
   },
   {
    "duration": 22,
    "start_time": "2022-11-08T17:36:08.801Z"
   },
   {
    "duration": 117,
    "start_time": "2022-11-08T17:36:20.524Z"
   },
   {
    "duration": 22,
    "start_time": "2022-11-08T17:37:59.360Z"
   },
   {
    "duration": 27,
    "start_time": "2022-11-08T17:38:14.202Z"
   },
   {
    "duration": 10,
    "start_time": "2022-11-08T17:38:14.595Z"
   },
   {
    "duration": 10,
    "start_time": "2022-11-08T17:38:27.047Z"
   },
   {
    "duration": 9,
    "start_time": "2022-11-08T17:38:27.829Z"
   },
   {
    "duration": 13,
    "start_time": "2022-11-08T17:38:47.953Z"
   },
   {
    "duration": 12,
    "start_time": "2022-11-08T17:38:48.548Z"
   },
   {
    "duration": 27,
    "start_time": "2022-11-08T17:39:06.085Z"
   },
   {
    "duration": 24,
    "start_time": "2022-11-08T17:39:18.208Z"
   },
   {
    "duration": 22,
    "start_time": "2022-11-08T17:39:26.180Z"
   },
   {
    "duration": 22,
    "start_time": "2022-11-08T17:39:32.494Z"
   },
   {
    "duration": 41,
    "start_time": "2022-11-08T17:41:32.907Z"
   },
   {
    "duration": 40,
    "start_time": "2022-11-08T17:42:54.027Z"
   },
   {
    "duration": 40,
    "start_time": "2022-11-08T17:43:19.266Z"
   },
   {
    "duration": 42,
    "start_time": "2022-11-08T17:43:28.207Z"
   },
   {
    "duration": 43,
    "start_time": "2022-11-08T17:43:42.147Z"
   },
   {
    "duration": 40,
    "start_time": "2022-11-08T17:43:51.785Z"
   },
   {
    "duration": 42,
    "start_time": "2022-11-08T17:44:00.777Z"
   },
   {
    "duration": 45,
    "start_time": "2022-11-08T17:44:05.410Z"
   },
   {
    "duration": 40,
    "start_time": "2022-11-08T17:44:09.948Z"
   },
   {
    "duration": 43,
    "start_time": "2022-11-08T17:44:21.607Z"
   },
   {
    "duration": 42,
    "start_time": "2022-11-08T17:44:30.560Z"
   },
   {
    "duration": 42,
    "start_time": "2022-11-08T17:44:50.421Z"
   },
   {
    "duration": 15,
    "start_time": "2022-11-08T18:07:07.305Z"
   },
   {
    "duration": 9,
    "start_time": "2022-11-08T18:08:07.060Z"
   },
   {
    "duration": 30,
    "start_time": "2022-11-08T18:10:52.698Z"
   },
   {
    "duration": 36,
    "start_time": "2022-11-08T18:11:00.181Z"
   },
   {
    "duration": 20,
    "start_time": "2022-11-08T18:11:58.085Z"
   },
   {
    "duration": 544,
    "start_time": "2022-11-08T18:11:58.515Z"
   },
   {
    "duration": 26,
    "start_time": "2022-11-08T18:12:13.133Z"
   },
   {
    "duration": 32,
    "start_time": "2022-11-08T18:12:31.015Z"
   },
   {
    "duration": 38,
    "start_time": "2022-11-08T18:13:17.761Z"
   },
   {
    "duration": 33,
    "start_time": "2022-11-08T18:13:30.590Z"
   },
   {
    "duration": 620,
    "start_time": "2022-11-08T18:14:38.607Z"
   },
   {
    "duration": 648,
    "start_time": "2022-11-08T18:14:44.371Z"
   },
   {
    "duration": 658,
    "start_time": "2022-11-08T18:15:00.731Z"
   },
   {
    "duration": 653,
    "start_time": "2022-11-08T18:15:47.885Z"
   },
   {
    "duration": 612,
    "start_time": "2022-11-08T18:21:49.133Z"
   },
   {
    "duration": 68,
    "start_time": "2022-11-08T18:22:11.545Z"
   },
   {
    "duration": 68,
    "start_time": "2022-11-08T18:22:14.885Z"
   },
   {
    "duration": 67,
    "start_time": "2022-11-08T18:22:22.804Z"
   },
   {
    "duration": 30,
    "start_time": "2022-11-08T18:22:27.049Z"
   },
   {
    "duration": 607,
    "start_time": "2022-11-08T18:23:39.069Z"
   },
   {
    "duration": 625,
    "start_time": "2022-11-08T18:23:44.089Z"
   },
   {
    "duration": 631,
    "start_time": "2022-11-08T18:23:59.446Z"
   },
   {
    "duration": 646,
    "start_time": "2022-11-08T18:24:47.796Z"
   },
   {
    "duration": 576,
    "start_time": "2022-11-08T18:25:22.713Z"
   },
   {
    "duration": 691,
    "start_time": "2022-11-08T18:25:30.183Z"
   },
   {
    "duration": 566,
    "start_time": "2022-11-08T18:25:55.050Z"
   },
   {
    "duration": 617,
    "start_time": "2022-11-08T18:26:23.479Z"
   },
   {
    "duration": 375,
    "start_time": "2022-11-08T18:29:34.981Z"
   },
   {
    "duration": 14,
    "start_time": "2022-11-08T18:29:38.819Z"
   },
   {
    "duration": 18,
    "start_time": "2022-11-08T18:31:09.043Z"
   },
   {
    "duration": 24,
    "start_time": "2022-11-08T18:31:14.510Z"
   },
   {
    "duration": 289,
    "start_time": "2022-11-08T18:32:12.505Z"
   },
   {
    "duration": 572,
    "start_time": "2022-11-08T18:32:51.709Z"
   },
   {
    "duration": 31,
    "start_time": "2022-11-08T18:33:21.115Z"
   },
   {
    "duration": 12,
    "start_time": "2022-11-08T18:33:32.099Z"
   },
   {
    "duration": 707,
    "start_time": "2022-11-08T18:33:38.089Z"
   },
   {
    "duration": 783,
    "start_time": "2022-11-08T18:34:00.237Z"
   },
   {
    "duration": 723,
    "start_time": "2022-11-08T18:34:24.056Z"
   },
   {
    "duration": 600,
    "start_time": "2022-11-08T18:35:36.680Z"
   },
   {
    "duration": 415,
    "start_time": "2022-11-08T18:36:18.472Z"
   },
   {
    "duration": 448,
    "start_time": "2022-11-08T18:37:38.772Z"
   },
   {
    "duration": 718,
    "start_time": "2022-11-08T18:38:12.789Z"
   },
   {
    "duration": 870,
    "start_time": "2022-11-08T18:38:41.264Z"
   },
   {
    "duration": 737,
    "start_time": "2022-11-08T18:38:53.068Z"
   },
   {
    "duration": 162,
    "start_time": "2022-11-08T18:39:41.169Z"
   },
   {
    "duration": 163,
    "start_time": "2022-11-08T18:40:07.817Z"
   },
   {
    "duration": 152,
    "start_time": "2022-11-08T18:40:41.259Z"
   },
   {
    "duration": 71,
    "start_time": "2022-11-08T18:43:49.261Z"
   },
   {
    "duration": 1139,
    "start_time": "2022-11-08T18:43:56.581Z"
   },
   {
    "duration": 1030,
    "start_time": "2022-11-08T18:44:22.398Z"
   },
   {
    "duration": 968,
    "start_time": "2022-11-08T18:44:26.774Z"
   },
   {
    "duration": 938,
    "start_time": "2022-11-08T18:44:48.400Z"
   },
   {
    "duration": 938,
    "start_time": "2022-11-08T18:45:09.624Z"
   },
   {
    "duration": 1093,
    "start_time": "2022-11-08T18:45:27.226Z"
   },
   {
    "duration": 974,
    "start_time": "2022-11-08T18:45:43.426Z"
   },
   {
    "duration": 979,
    "start_time": "2022-11-08T18:46:30.853Z"
   },
   {
    "duration": 5,
    "start_time": "2022-11-08T18:46:50.745Z"
   },
   {
    "duration": 1119,
    "start_time": "2022-11-08T18:46:55.372Z"
   },
   {
    "duration": 931,
    "start_time": "2022-11-08T18:47:00.197Z"
   },
   {
    "duration": 31,
    "start_time": "2022-11-08T18:47:16.473Z"
   },
   {
    "duration": 941,
    "start_time": "2022-11-08T18:47:21.842Z"
   },
   {
    "duration": 962,
    "start_time": "2022-11-08T18:47:32.230Z"
   },
   {
    "duration": 1048,
    "start_time": "2022-11-08T18:47:41.761Z"
   },
   {
    "duration": 803,
    "start_time": "2022-11-08T18:47:48.003Z"
   },
   {
    "duration": 1033,
    "start_time": "2022-11-08T18:47:54.741Z"
   },
   {
    "duration": 857,
    "start_time": "2022-11-08T18:48:00.482Z"
   },
   {
    "duration": 1123,
    "start_time": "2022-11-08T18:48:16.085Z"
   },
   {
    "duration": 843,
    "start_time": "2022-11-08T18:48:27.218Z"
   },
   {
    "duration": 851,
    "start_time": "2022-11-08T18:48:40.805Z"
   },
   {
    "duration": 928,
    "start_time": "2022-11-08T18:50:16.338Z"
   },
   {
    "duration": 873,
    "start_time": "2022-11-08T18:51:21.715Z"
   },
   {
    "duration": 1048,
    "start_time": "2022-11-08T18:51:33.074Z"
   },
   {
    "duration": 932,
    "start_time": "2022-11-08T18:51:46.027Z"
   },
   {
    "duration": 929,
    "start_time": "2022-11-08T18:51:55.874Z"
   },
   {
    "duration": 899,
    "start_time": "2022-11-08T18:52:02.606Z"
   },
   {
    "duration": 1012,
    "start_time": "2022-11-08T18:52:10.823Z"
   },
   {
    "duration": 886,
    "start_time": "2022-11-08T18:52:19.392Z"
   },
   {
    "duration": 1037,
    "start_time": "2022-11-08T18:52:26.187Z"
   },
   {
    "duration": 963,
    "start_time": "2022-11-08T18:53:29.479Z"
   },
   {
    "duration": 911,
    "start_time": "2022-11-08T18:53:47.268Z"
   },
   {
    "duration": 27,
    "start_time": "2022-11-08T18:54:44.721Z"
   },
   {
    "duration": 15,
    "start_time": "2022-11-08T18:54:55.676Z"
   },
   {
    "duration": 7,
    "start_time": "2022-11-08T18:55:04.386Z"
   },
   {
    "duration": 22,
    "start_time": "2022-11-08T18:55:10.924Z"
   },
   {
    "duration": 10,
    "start_time": "2022-11-08T18:55:15.801Z"
   },
   {
    "duration": 25,
    "start_time": "2022-11-08T18:55:25.669Z"
   },
   {
    "duration": 1650,
    "start_time": "2022-11-09T07:16:29.687Z"
   },
   {
    "duration": 45,
    "start_time": "2022-11-09T07:16:31.340Z"
   },
   {
    "duration": 1631,
    "start_time": "2022-11-09T07:16:31.387Z"
   },
   {
    "duration": 161,
    "start_time": "2022-11-09T07:16:33.020Z"
   },
   {
    "duration": 33,
    "start_time": "2022-11-09T07:16:33.184Z"
   },
   {
    "duration": 129,
    "start_time": "2022-11-09T07:16:33.219Z"
   },
   {
    "duration": 62,
    "start_time": "2022-11-09T07:16:33.350Z"
   },
   {
    "duration": 391,
    "start_time": "2022-11-09T07:16:33.414Z"
   },
   {
    "duration": 113,
    "start_time": "2022-11-09T07:16:33.806Z"
   },
   {
    "duration": 63,
    "start_time": "2022-11-09T07:16:33.921Z"
   },
   {
    "duration": 59,
    "start_time": "2022-11-09T07:16:33.985Z"
   },
   {
    "duration": 256,
    "start_time": "2022-11-09T07:16:34.046Z"
   },
   {
    "duration": 8,
    "start_time": "2022-11-09T07:16:34.304Z"
   },
   {
    "duration": 19,
    "start_time": "2022-11-09T07:16:34.315Z"
   },
   {
    "duration": 15,
    "start_time": "2022-11-09T07:16:34.336Z"
   },
   {
    "duration": 33,
    "start_time": "2022-11-09T07:16:34.353Z"
   },
   {
    "duration": 25,
    "start_time": "2022-11-09T07:16:34.388Z"
   },
   {
    "duration": 64,
    "start_time": "2022-11-09T07:16:34.415Z"
   },
   {
    "duration": 10,
    "start_time": "2022-11-09T07:16:34.481Z"
   },
   {
    "duration": 37,
    "start_time": "2022-11-09T07:16:34.494Z"
   },
   {
    "duration": 220,
    "start_time": "2022-11-09T07:16:34.533Z"
   },
   {
    "duration": 49,
    "start_time": "2022-11-09T07:16:34.755Z"
   },
   {
    "duration": 71,
    "start_time": "2022-11-09T07:16:34.807Z"
   },
   {
    "duration": 7,
    "start_time": "2022-11-09T07:16:34.881Z"
   },
   {
    "duration": 22,
    "start_time": "2022-11-09T07:16:34.890Z"
   },
   {
    "duration": 687,
    "start_time": "2022-11-09T07:16:34.914Z"
   },
   {
    "duration": 12,
    "start_time": "2022-11-09T07:16:35.603Z"
   },
   {
    "duration": 72,
    "start_time": "2022-11-09T07:16:35.617Z"
   },
   {
    "duration": 11,
    "start_time": "2022-11-09T07:16:35.690Z"
   },
   {
    "duration": 771,
    "start_time": "2022-11-09T07:16:35.703Z"
   },
   {
    "duration": 31,
    "start_time": "2022-11-09T07:16:36.476Z"
   },
   {
    "duration": 19,
    "start_time": "2022-11-09T07:16:36.509Z"
   },
   {
    "duration": 64,
    "start_time": "2022-11-09T07:16:36.531Z"
   },
   {
    "duration": 43,
    "start_time": "2022-11-09T07:16:36.598Z"
   },
   {
    "duration": 17,
    "start_time": "2022-11-09T07:16:36.643Z"
   },
   {
    "duration": 486,
    "start_time": "2022-11-09T07:16:36.663Z"
   },
   {
    "duration": 576,
    "start_time": "2022-11-09T07:16:37.151Z"
   },
   {
    "duration": 520,
    "start_time": "2022-11-09T07:16:37.729Z"
   },
   {
    "duration": 929,
    "start_time": "2022-11-09T07:16:38.254Z"
   },
   {
    "duration": 1224,
    "start_time": "2022-11-09T07:16:39.186Z"
   },
   {
    "duration": 38,
    "start_time": "2022-11-09T07:16:40.415Z"
   },
   {
    "duration": 39,
    "start_time": "2022-11-09T07:16:40.456Z"
   },
   {
    "duration": 20,
    "start_time": "2022-11-09T08:21:17.640Z"
   },
   {
    "duration": 25,
    "start_time": "2022-11-09T08:21:21.280Z"
   },
   {
    "duration": 14,
    "start_time": "2022-11-09T08:21:30.584Z"
   },
   {
    "duration": 564,
    "start_time": "2022-11-09T08:22:29.891Z"
   },
   {
    "duration": 386,
    "start_time": "2022-11-09T08:22:46.116Z"
   },
   {
    "duration": 509,
    "start_time": "2022-11-09T08:23:14.974Z"
   },
   {
    "duration": 425,
    "start_time": "2022-11-09T08:23:24.973Z"
   },
   {
    "duration": 483,
    "start_time": "2022-11-09T08:24:05.420Z"
   },
   {
    "duration": 548,
    "start_time": "2022-11-09T08:24:09.900Z"
   },
   {
    "duration": 315,
    "start_time": "2022-11-09T08:24:55.996Z"
   },
   {
    "duration": 198,
    "start_time": "2022-11-09T08:25:02.944Z"
   },
   {
    "duration": 439,
    "start_time": "2022-11-09T08:25:07.365Z"
   },
   {
    "duration": 476,
    "start_time": "2022-11-09T08:25:53.663Z"
   },
   {
    "duration": 365,
    "start_time": "2022-11-09T08:26:02.367Z"
   },
   {
    "duration": 540,
    "start_time": "2022-11-09T08:26:08.137Z"
   },
   {
    "duration": 783,
    "start_time": "2022-11-09T08:28:30.174Z"
   },
   {
    "duration": 784,
    "start_time": "2022-11-09T08:35:47.452Z"
   },
   {
    "duration": 811,
    "start_time": "2022-11-09T08:35:52.852Z"
   },
   {
    "duration": 736,
    "start_time": "2022-11-09T08:36:15.223Z"
   },
   {
    "duration": 209,
    "start_time": "2022-11-09T08:37:39.224Z"
   },
   {
    "duration": 16,
    "start_time": "2022-11-09T08:37:54.616Z"
   },
   {
    "duration": 274,
    "start_time": "2022-11-09T08:38:40.998Z"
   },
   {
    "duration": 708,
    "start_time": "2022-11-09T08:59:58.051Z"
   },
   {
    "duration": 795,
    "start_time": "2022-11-09T09:01:28.546Z"
   },
   {
    "duration": 936,
    "start_time": "2022-11-09T09:01:42.955Z"
   },
   {
    "duration": 1026,
    "start_time": "2022-11-09T09:02:07.508Z"
   },
   {
    "duration": 1005,
    "start_time": "2022-11-09T09:02:24.234Z"
   },
   {
    "duration": 619,
    "start_time": "2022-11-09T09:02:41.558Z"
   },
   {
    "duration": 862,
    "start_time": "2022-11-09T09:02:46.056Z"
   },
   {
    "duration": 965,
    "start_time": "2022-11-09T09:03:20.440Z"
   },
   {
    "duration": 877,
    "start_time": "2022-11-09T09:03:32.939Z"
   },
   {
    "duration": 906,
    "start_time": "2022-11-09T09:03:48.168Z"
   },
   {
    "duration": 983,
    "start_time": "2022-11-09T09:03:57.924Z"
   },
   {
    "duration": 1013,
    "start_time": "2022-11-09T09:04:13.319Z"
   },
   {
    "duration": 969,
    "start_time": "2022-11-09T09:10:14.653Z"
   },
   {
    "duration": 13,
    "start_time": "2022-11-09T09:17:07.842Z"
   },
   {
    "duration": 14,
    "start_time": "2022-11-09T09:20:36.826Z"
   },
   {
    "duration": 39,
    "start_time": "2022-11-09T09:22:05.561Z"
   },
   {
    "duration": 793,
    "start_time": "2022-11-09T09:24:00.032Z"
   },
   {
    "duration": 1088,
    "start_time": "2022-11-09T09:24:18.338Z"
   },
   {
    "duration": 38,
    "start_time": "2022-11-09T09:25:10.546Z"
   },
   {
    "duration": 1436,
    "start_time": "2022-11-09T09:27:31.497Z"
   },
   {
    "duration": 50,
    "start_time": "2022-11-09T09:27:32.936Z"
   },
   {
    "duration": 1567,
    "start_time": "2022-11-09T09:27:32.988Z"
   },
   {
    "duration": 155,
    "start_time": "2022-11-09T09:27:34.558Z"
   },
   {
    "duration": 80,
    "start_time": "2022-11-09T09:27:34.717Z"
   },
   {
    "duration": 130,
    "start_time": "2022-11-09T09:27:34.800Z"
   },
   {
    "duration": 60,
    "start_time": "2022-11-09T09:27:34.932Z"
   },
   {
    "duration": 431,
    "start_time": "2022-11-09T09:27:34.994Z"
   },
   {
    "duration": 125,
    "start_time": "2022-11-09T09:27:35.428Z"
   },
   {
    "duration": 89,
    "start_time": "2022-11-09T09:27:35.554Z"
   },
   {
    "duration": 87,
    "start_time": "2022-11-09T09:27:35.646Z"
   },
   {
    "duration": 255,
    "start_time": "2022-11-09T09:27:35.735Z"
   },
   {
    "duration": 8,
    "start_time": "2022-11-09T09:27:35.991Z"
   },
   {
    "duration": 20,
    "start_time": "2022-11-09T09:27:36.002Z"
   },
   {
    "duration": 8,
    "start_time": "2022-11-09T09:27:36.024Z"
   },
   {
    "duration": 43,
    "start_time": "2022-11-09T09:27:36.034Z"
   },
   {
    "duration": 24,
    "start_time": "2022-11-09T09:27:36.079Z"
   },
   {
    "duration": 40,
    "start_time": "2022-11-09T09:27:36.105Z"
   },
   {
    "duration": 33,
    "start_time": "2022-11-09T09:27:36.147Z"
   },
   {
    "duration": 44,
    "start_time": "2022-11-09T09:27:36.183Z"
   },
   {
    "duration": 182,
    "start_time": "2022-11-09T09:27:36.230Z"
   },
   {
    "duration": 28,
    "start_time": "2022-11-09T09:27:36.414Z"
   },
   {
    "duration": 62,
    "start_time": "2022-11-09T09:27:36.443Z"
   },
   {
    "duration": 13,
    "start_time": "2022-11-09T09:27:36.507Z"
   },
   {
    "duration": 19,
    "start_time": "2022-11-09T09:27:36.522Z"
   },
   {
    "duration": 556,
    "start_time": "2022-11-09T09:27:36.543Z"
   },
   {
    "duration": 16,
    "start_time": "2022-11-09T09:27:37.102Z"
   },
   {
    "duration": 67,
    "start_time": "2022-11-09T09:27:37.121Z"
   },
   {
    "duration": 11,
    "start_time": "2022-11-09T09:27:37.190Z"
   },
   {
    "duration": 749,
    "start_time": "2022-11-09T09:27:37.203Z"
   },
   {
    "duration": 35,
    "start_time": "2022-11-09T09:27:37.955Z"
   },
   {
    "duration": 15,
    "start_time": "2022-11-09T09:27:37.992Z"
   },
   {
    "duration": 31,
    "start_time": "2022-11-09T09:27:38.010Z"
   },
   {
    "duration": 36,
    "start_time": "2022-11-09T09:27:38.044Z"
   },
   {
    "duration": 10,
    "start_time": "2022-11-09T09:27:38.082Z"
   },
   {
    "duration": 495,
    "start_time": "2022-11-09T09:27:38.094Z"
   },
   {
    "duration": 612,
    "start_time": "2022-11-09T09:27:38.592Z"
   },
   {
    "duration": 565,
    "start_time": "2022-11-09T09:27:39.207Z"
   },
   {
    "duration": 926,
    "start_time": "2022-11-09T09:27:39.777Z"
   },
   {
    "duration": 1122,
    "start_time": "2022-11-09T09:27:40.706Z"
   },
   {
    "duration": 145,
    "start_time": "2022-11-09T09:27:41.833Z"
   },
   {
    "duration": 0,
    "start_time": "2022-11-09T09:27:41.979Z"
   },
   {
    "duration": 0,
    "start_time": "2022-11-09T09:27:41.981Z"
   },
   {
    "duration": 0,
    "start_time": "2022-11-09T09:27:41.982Z"
   },
   {
    "duration": 35,
    "start_time": "2022-11-09T09:28:01.489Z"
   },
   {
    "duration": 36,
    "start_time": "2022-11-09T09:28:04.505Z"
   },
   {
    "duration": 1022,
    "start_time": "2022-11-09T09:28:06.479Z"
   },
   {
    "duration": 1428,
    "start_time": "2022-11-09T09:30:45.727Z"
   },
   {
    "duration": 38,
    "start_time": "2022-11-09T09:30:47.157Z"
   },
   {
    "duration": 1212,
    "start_time": "2022-11-09T09:30:47.197Z"
   },
   {
    "duration": 114,
    "start_time": "2022-11-09T09:30:48.411Z"
   },
   {
    "duration": 58,
    "start_time": "2022-11-09T09:30:48.527Z"
   },
   {
    "duration": 207,
    "start_time": "2022-11-09T09:30:48.587Z"
   },
   {
    "duration": 47,
    "start_time": "2022-11-09T09:30:48.796Z"
   },
   {
    "duration": 437,
    "start_time": "2022-11-09T09:30:48.845Z"
   },
   {
    "duration": 126,
    "start_time": "2022-11-09T09:30:49.284Z"
   },
   {
    "duration": 63,
    "start_time": "2022-11-09T09:30:49.412Z"
   },
   {
    "duration": 63,
    "start_time": "2022-11-09T09:30:49.477Z"
   },
   {
    "duration": 345,
    "start_time": "2022-11-09T09:30:49.542Z"
   },
   {
    "duration": 16,
    "start_time": "2022-11-09T09:30:49.891Z"
   },
   {
    "duration": 40,
    "start_time": "2022-11-09T09:30:49.913Z"
   },
   {
    "duration": 18,
    "start_time": "2022-11-09T09:30:49.956Z"
   },
   {
    "duration": 43,
    "start_time": "2022-11-09T09:30:49.977Z"
   },
   {
    "duration": 30,
    "start_time": "2022-11-09T09:30:50.023Z"
   },
   {
    "duration": 55,
    "start_time": "2022-11-09T09:30:50.055Z"
   },
   {
    "duration": 9,
    "start_time": "2022-11-09T09:30:50.113Z"
   },
   {
    "duration": 55,
    "start_time": "2022-11-09T09:30:50.125Z"
   },
   {
    "duration": 251,
    "start_time": "2022-11-09T09:30:50.182Z"
   },
   {
    "duration": 45,
    "start_time": "2022-11-09T09:30:50.436Z"
   },
   {
    "duration": 51,
    "start_time": "2022-11-09T09:30:50.483Z"
   },
   {
    "duration": 9,
    "start_time": "2022-11-09T09:30:50.536Z"
   },
   {
    "duration": 52,
    "start_time": "2022-11-09T09:30:50.547Z"
   },
   {
    "duration": 609,
    "start_time": "2022-11-09T09:30:50.601Z"
   },
   {
    "duration": 10,
    "start_time": "2022-11-09T09:30:51.212Z"
   },
   {
    "duration": 72,
    "start_time": "2022-11-09T09:30:51.224Z"
   },
   {
    "duration": 10,
    "start_time": "2022-11-09T09:30:51.298Z"
   },
   {
    "duration": 710,
    "start_time": "2022-11-09T09:30:51.310Z"
   },
   {
    "duration": 27,
    "start_time": "2022-11-09T09:30:52.023Z"
   },
   {
    "duration": 33,
    "start_time": "2022-11-09T09:30:52.052Z"
   },
   {
    "duration": 21,
    "start_time": "2022-11-09T09:30:52.087Z"
   },
   {
    "duration": 11,
    "start_time": "2022-11-09T09:30:52.110Z"
   },
   {
    "duration": 11,
    "start_time": "2022-11-09T09:30:52.123Z"
   },
   {
    "duration": 525,
    "start_time": "2022-11-09T09:30:52.136Z"
   },
   {
    "duration": 570,
    "start_time": "2022-11-09T09:30:52.663Z"
   },
   {
    "duration": 488,
    "start_time": "2022-11-09T09:30:53.235Z"
   },
   {
    "duration": 708,
    "start_time": "2022-11-09T09:30:53.725Z"
   },
   {
    "duration": 1134,
    "start_time": "2022-11-09T09:30:54.435Z"
   },
   {
    "duration": 26,
    "start_time": "2022-11-09T09:30:55.574Z"
   },
   {
    "duration": 935,
    "start_time": "2022-11-09T09:30:55.602Z"
   },
   {
    "duration": 181,
    "start_time": "2022-11-09T09:30:56.539Z"
   },
   {
    "duration": 0,
    "start_time": "2022-11-09T09:30:56.722Z"
   },
   {
    "duration": 0,
    "start_time": "2022-11-09T09:30:56.724Z"
   },
   {
    "duration": 0,
    "start_time": "2022-11-09T09:30:56.725Z"
   },
   {
    "duration": 31,
    "start_time": "2022-11-09T09:32:13.978Z"
   },
   {
    "duration": 30,
    "start_time": "2022-11-09T09:32:14.416Z"
   },
   {
    "duration": 11,
    "start_time": "2022-11-09T09:32:15.720Z"
   },
   {
    "duration": 307,
    "start_time": "2022-11-09T09:32:16.447Z"
   },
   {
    "duration": 38,
    "start_time": "2022-11-09T09:32:33.024Z"
   },
   {
    "duration": 30,
    "start_time": "2022-11-09T09:32:37.819Z"
   },
   {
    "duration": 10,
    "start_time": "2022-11-09T09:32:38.332Z"
   },
   {
    "duration": 1477,
    "start_time": "2022-11-09T09:33:37.274Z"
   },
   {
    "duration": 44,
    "start_time": "2022-11-09T09:33:38.754Z"
   },
   {
    "duration": 1518,
    "start_time": "2022-11-09T09:33:38.800Z"
   },
   {
    "duration": 120,
    "start_time": "2022-11-09T09:33:40.320Z"
   },
   {
    "duration": 50,
    "start_time": "2022-11-09T09:33:40.444Z"
   },
   {
    "duration": 149,
    "start_time": "2022-11-09T09:33:40.496Z"
   },
   {
    "duration": 59,
    "start_time": "2022-11-09T09:33:40.647Z"
   },
   {
    "duration": 418,
    "start_time": "2022-11-09T09:33:40.708Z"
   },
   {
    "duration": 153,
    "start_time": "2022-11-09T09:33:41.128Z"
   },
   {
    "duration": 71,
    "start_time": "2022-11-09T09:33:41.283Z"
   },
   {
    "duration": 65,
    "start_time": "2022-11-09T09:33:41.371Z"
   },
   {
    "duration": 294,
    "start_time": "2022-11-09T09:33:41.439Z"
   },
   {
    "duration": 11,
    "start_time": "2022-11-09T09:33:41.736Z"
   },
   {
    "duration": 32,
    "start_time": "2022-11-09T09:33:41.750Z"
   },
   {
    "duration": 9,
    "start_time": "2022-11-09T09:33:41.784Z"
   },
   {
    "duration": 18,
    "start_time": "2022-11-09T09:33:41.795Z"
   },
   {
    "duration": 56,
    "start_time": "2022-11-09T09:33:41.816Z"
   },
   {
    "duration": 41,
    "start_time": "2022-11-09T09:33:41.874Z"
   },
   {
    "duration": 8,
    "start_time": "2022-11-09T09:33:41.918Z"
   },
   {
    "duration": 54,
    "start_time": "2022-11-09T09:33:41.929Z"
   },
   {
    "duration": 216,
    "start_time": "2022-11-09T09:33:41.985Z"
   },
   {
    "duration": 36,
    "start_time": "2022-11-09T09:33:42.204Z"
   },
   {
    "duration": 69,
    "start_time": "2022-11-09T09:33:42.243Z"
   },
   {
    "duration": 7,
    "start_time": "2022-11-09T09:33:42.315Z"
   },
   {
    "duration": 21,
    "start_time": "2022-11-09T09:33:42.324Z"
   },
   {
    "duration": 540,
    "start_time": "2022-11-09T09:33:42.347Z"
   },
   {
    "duration": 16,
    "start_time": "2022-11-09T09:33:42.890Z"
   },
   {
    "duration": 114,
    "start_time": "2022-11-09T09:33:42.909Z"
   },
   {
    "duration": 15,
    "start_time": "2022-11-09T09:33:43.026Z"
   },
   {
    "duration": 733,
    "start_time": "2022-11-09T09:33:43.043Z"
   },
   {
    "duration": 25,
    "start_time": "2022-11-09T09:33:43.778Z"
   },
   {
    "duration": 14,
    "start_time": "2022-11-09T09:33:43.805Z"
   },
   {
    "duration": 24,
    "start_time": "2022-11-09T09:33:43.821Z"
   },
   {
    "duration": 11,
    "start_time": "2022-11-09T09:33:43.880Z"
   },
   {
    "duration": 13,
    "start_time": "2022-11-09T09:33:43.892Z"
   },
   {
    "duration": 482,
    "start_time": "2022-11-09T09:33:43.907Z"
   },
   {
    "duration": 557,
    "start_time": "2022-11-09T09:33:44.391Z"
   },
   {
    "duration": 481,
    "start_time": "2022-11-09T09:33:44.950Z"
   },
   {
    "duration": 794,
    "start_time": "2022-11-09T09:33:45.434Z"
   },
   {
    "duration": 1145,
    "start_time": "2022-11-09T09:33:46.231Z"
   },
   {
    "duration": 29,
    "start_time": "2022-11-09T09:33:47.380Z"
   },
   {
    "duration": 934,
    "start_time": "2022-11-09T09:33:47.411Z"
   },
   {
    "duration": 55,
    "start_time": "2022-11-09T09:33:48.347Z"
   },
   {
    "duration": 15,
    "start_time": "2022-11-09T09:33:48.404Z"
   },
   {
    "duration": 19910,
    "start_time": "2022-11-09T09:33:48.422Z"
   },
   {
    "duration": 0,
    "start_time": "2022-11-09T09:34:08.334Z"
   },
   {
    "duration": 0,
    "start_time": "2022-11-09T09:34:08.336Z"
   },
   {
    "duration": 28,
    "start_time": "2022-11-09T09:35:10.589Z"
   },
   {
    "duration": 2334,
    "start_time": "2022-11-09T09:35:19.515Z"
   },
   {
    "duration": 2622,
    "start_time": "2022-11-09T09:35:49.837Z"
   },
   {
    "duration": 2268,
    "start_time": "2022-11-09T09:36:06.794Z"
   },
   {
    "duration": 2700,
    "start_time": "2022-11-09T09:36:17.732Z"
   },
   {
    "duration": 2734,
    "start_time": "2022-11-09T09:36:27.745Z"
   },
   {
    "duration": 2245,
    "start_time": "2022-11-09T09:37:22.754Z"
   },
   {
    "duration": 2387,
    "start_time": "2022-11-09T09:37:31.796Z"
   },
   {
    "duration": 2415,
    "start_time": "2022-11-09T09:37:44.453Z"
   },
   {
    "duration": 2125,
    "start_time": "2022-11-09T09:37:50.773Z"
   },
   {
    "duration": 2322,
    "start_time": "2022-11-09T09:38:52.358Z"
   },
   {
    "duration": 32,
    "start_time": "2022-11-09T09:39:24.604Z"
   },
   {
    "duration": 31,
    "start_time": "2022-11-09T09:39:25.053Z"
   },
   {
    "duration": 2787,
    "start_time": "2022-11-09T09:39:28.989Z"
   },
   {
    "duration": 2283,
    "start_time": "2022-11-09T09:41:25.769Z"
   },
   {
    "duration": 25,
    "start_time": "2022-11-09T09:41:43.130Z"
   },
   {
    "duration": 20,
    "start_time": "2022-11-09T09:43:45.662Z"
   },
   {
    "duration": 24,
    "start_time": "2022-11-09T09:43:49.331Z"
   },
   {
    "duration": 2328,
    "start_time": "2022-11-09T09:43:56.221Z"
   },
   {
    "duration": 2595,
    "start_time": "2022-11-09T09:44:06.532Z"
   },
   {
    "duration": 2441,
    "start_time": "2022-11-09T09:44:14.318Z"
   },
   {
    "duration": 42,
    "start_time": "2022-11-09T09:45:26.018Z"
   },
   {
    "duration": 33,
    "start_time": "2022-11-09T09:45:26.898Z"
   },
   {
    "duration": 22,
    "start_time": "2022-11-09T09:45:27.763Z"
   },
   {
    "duration": 27,
    "start_time": "2022-11-09T09:46:16.816Z"
   },
   {
    "duration": 44,
    "start_time": "2022-11-09T09:46:25.574Z"
   },
   {
    "duration": 24,
    "start_time": "2022-11-09T09:46:36.830Z"
   },
   {
    "duration": 2459,
    "start_time": "2022-11-09T09:46:38.351Z"
   },
   {
    "duration": 14,
    "start_time": "2022-11-09T09:47:44.063Z"
   },
   {
    "duration": 23,
    "start_time": "2022-11-09T09:47:56.894Z"
   },
   {
    "duration": 36,
    "start_time": "2022-11-09T09:48:34.097Z"
   },
   {
    "duration": 21,
    "start_time": "2022-11-09T09:49:23.106Z"
   },
   {
    "duration": 1042,
    "start_time": "2022-11-09T09:49:32.292Z"
   },
   {
    "duration": 37,
    "start_time": "2022-11-09T09:50:34.289Z"
   },
   {
    "duration": 12,
    "start_time": "2022-11-09T09:50:35.432Z"
   },
   {
    "duration": 13,
    "start_time": "2022-11-09T09:50:57.500Z"
   },
   {
    "duration": 2068,
    "start_time": "2022-11-09T09:51:11.476Z"
   },
   {
    "duration": 2042,
    "start_time": "2022-11-09T09:51:41.246Z"
   },
   {
    "duration": 2073,
    "start_time": "2022-11-09T09:51:45.628Z"
   },
   {
    "duration": 2626,
    "start_time": "2022-11-09T09:51:52.701Z"
   },
   {
    "duration": 2352,
    "start_time": "2022-11-09T09:51:56.273Z"
   },
   {
    "duration": 12,
    "start_time": "2022-11-09T09:55:09.725Z"
   },
   {
    "duration": 11,
    "start_time": "2022-11-09T09:55:25.716Z"
   },
   {
    "duration": 269,
    "start_time": "2022-11-09T09:55:58.098Z"
   },
   {
    "duration": 16,
    "start_time": "2022-11-09T09:57:05.123Z"
   },
   {
    "duration": 14,
    "start_time": "2022-11-09T09:57:07.762Z"
   },
   {
    "duration": 15,
    "start_time": "2022-11-09T09:57:17.362Z"
   },
   {
    "duration": 15,
    "start_time": "2022-11-09T09:57:54.227Z"
   },
   {
    "duration": 11,
    "start_time": "2022-11-09T10:05:55.250Z"
   },
   {
    "duration": 12,
    "start_time": "2022-11-09T10:06:09.061Z"
   },
   {
    "duration": 12,
    "start_time": "2022-11-09T10:17:19.405Z"
   },
   {
    "duration": 10,
    "start_time": "2022-11-09T10:18:42.665Z"
   },
   {
    "duration": 12,
    "start_time": "2022-11-09T10:19:05.174Z"
   },
   {
    "duration": 31,
    "start_time": "2022-11-09T10:21:19.570Z"
   },
   {
    "duration": 7,
    "start_time": "2022-11-09T10:22:56.195Z"
   },
   {
    "duration": 11,
    "start_time": "2022-11-09T10:24:38.250Z"
   },
   {
    "duration": 21,
    "start_time": "2022-11-09T10:42:33.830Z"
   },
   {
    "duration": 8,
    "start_time": "2022-11-09T10:42:37.021Z"
   },
   {
    "duration": 10,
    "start_time": "2022-11-09T10:42:39.667Z"
   },
   {
    "duration": 25,
    "start_time": "2022-11-09T10:42:46.217Z"
   },
   {
    "duration": 75,
    "start_time": "2022-11-09T10:46:10.494Z"
   },
   {
    "duration": 10,
    "start_time": "2022-11-09T10:46:19.197Z"
   },
   {
    "duration": 6,
    "start_time": "2022-11-09T10:49:05.486Z"
   },
   {
    "duration": 17,
    "start_time": "2022-11-09T10:49:47.173Z"
   },
   {
    "duration": 6,
    "start_time": "2022-11-09T10:49:58.165Z"
   },
   {
    "duration": 5,
    "start_time": "2022-11-09T10:50:23.534Z"
   },
   {
    "duration": 10,
    "start_time": "2022-11-09T11:04:05.283Z"
   },
   {
    "duration": 481,
    "start_time": "2022-11-09T11:07:29.726Z"
   },
   {
    "duration": 1506,
    "start_time": "2022-11-09T11:07:35.370Z"
   },
   {
    "duration": 460,
    "start_time": "2022-11-09T11:08:55.802Z"
   },
   {
    "duration": 12,
    "start_time": "2022-11-09T11:26:27.840Z"
   },
   {
    "duration": 14,
    "start_time": "2022-11-09T11:40:02.752Z"
   },
   {
    "duration": 35,
    "start_time": "2022-11-09T11:40:12.486Z"
   },
   {
    "duration": 19,
    "start_time": "2022-11-09T11:40:28.904Z"
   },
   {
    "duration": 30,
    "start_time": "2022-11-09T11:40:41.648Z"
   },
   {
    "duration": 25,
    "start_time": "2022-11-09T13:18:06.386Z"
   },
   {
    "duration": 31,
    "start_time": "2022-11-09T13:18:12.950Z"
   },
   {
    "duration": 26,
    "start_time": "2022-11-09T13:18:24.194Z"
   },
   {
    "duration": 28,
    "start_time": "2022-11-09T13:18:32.038Z"
   },
   {
    "duration": 31,
    "start_time": "2022-11-09T13:18:35.753Z"
   },
   {
    "duration": 33,
    "start_time": "2022-11-09T13:18:49.582Z"
   },
   {
    "duration": 26,
    "start_time": "2022-11-09T13:26:15.066Z"
   },
   {
    "duration": 33,
    "start_time": "2022-11-09T13:34:05.629Z"
   },
   {
    "duration": 32,
    "start_time": "2022-11-09T13:39:00.180Z"
   },
   {
    "duration": 8,
    "start_time": "2022-11-09T13:39:04.527Z"
   },
   {
    "duration": 4,
    "start_time": "2022-11-09T13:41:17.957Z"
   },
   {
    "duration": 12,
    "start_time": "2022-11-09T13:41:22.707Z"
   },
   {
    "duration": 10,
    "start_time": "2022-11-09T13:41:32.842Z"
   },
   {
    "duration": 30,
    "start_time": "2022-11-09T13:41:52.851Z"
   },
   {
    "duration": 8,
    "start_time": "2022-11-09T13:41:53.900Z"
   },
   {
    "duration": 44,
    "start_time": "2022-11-09T13:42:06.341Z"
   },
   {
    "duration": 3,
    "start_time": "2022-11-09T13:42:06.869Z"
   },
   {
    "duration": 3,
    "start_time": "2022-11-09T13:42:10.088Z"
   },
   {
    "duration": 3,
    "start_time": "2022-11-09T13:42:17.808Z"
   },
   {
    "duration": 35,
    "start_time": "2022-11-09T13:42:23.397Z"
   },
   {
    "duration": 10,
    "start_time": "2022-11-09T13:42:23.819Z"
   },
   {
    "duration": 7,
    "start_time": "2022-11-09T13:43:14.926Z"
   },
   {
    "duration": 26,
    "start_time": "2022-11-09T13:43:21.363Z"
   },
   {
    "duration": 7,
    "start_time": "2022-11-09T13:43:21.835Z"
   },
   {
    "duration": 40,
    "start_time": "2022-11-09T13:43:28.388Z"
   },
   {
    "duration": 25,
    "start_time": "2022-11-09T13:43:34.579Z"
   },
   {
    "duration": 40,
    "start_time": "2022-11-09T13:43:35.068Z"
   },
   {
    "duration": 8,
    "start_time": "2022-11-09T13:43:35.415Z"
   },
   {
    "duration": 8,
    "start_time": "2022-11-09T13:43:40.040Z"
   },
   {
    "duration": 8,
    "start_time": "2022-11-09T13:43:45.986Z"
   },
   {
    "duration": 10,
    "start_time": "2022-11-09T13:51:06.515Z"
   },
   {
    "duration": 36,
    "start_time": "2022-11-09T13:51:57.729Z"
   },
   {
    "duration": 52,
    "start_time": "2022-11-09T13:52:50.934Z"
   },
   {
    "duration": 34,
    "start_time": "2022-11-09T13:53:06.730Z"
   },
   {
    "duration": 36,
    "start_time": "2022-11-09T13:53:18.314Z"
   },
   {
    "duration": 45,
    "start_time": "2022-11-09T13:53:22.362Z"
   },
   {
    "duration": 42,
    "start_time": "2022-11-09T13:53:30.929Z"
   },
   {
    "duration": 43,
    "start_time": "2022-11-09T13:53:38.634Z"
   },
   {
    "duration": 33,
    "start_time": "2022-11-09T13:53:52.703Z"
   },
   {
    "duration": 7,
    "start_time": "2022-11-09T13:53:53.443Z"
   },
   {
    "duration": 6,
    "start_time": "2022-11-09T13:57:21.811Z"
   },
   {
    "duration": 12,
    "start_time": "2022-11-09T13:57:56.916Z"
   },
   {
    "duration": 8,
    "start_time": "2022-11-09T13:58:31.217Z"
   },
   {
    "duration": 5,
    "start_time": "2022-11-09T13:58:48.869Z"
   },
   {
    "duration": 4,
    "start_time": "2022-11-09T13:58:53.861Z"
   },
   {
    "duration": 1304,
    "start_time": "2022-11-09T13:59:08.447Z"
   },
   {
    "duration": 6,
    "start_time": "2022-11-09T13:59:33.781Z"
   },
   {
    "duration": 12,
    "start_time": "2022-11-09T13:59:34.754Z"
   },
   {
    "duration": 8,
    "start_time": "2022-11-09T14:00:17.738Z"
   },
   {
    "duration": 16,
    "start_time": "2022-11-09T14:00:18.173Z"
   },
   {
    "duration": 6,
    "start_time": "2022-11-09T14:00:34.288Z"
   },
   {
    "duration": 10,
    "start_time": "2022-11-09T14:00:34.754Z"
   },
   {
    "duration": 32,
    "start_time": "2022-11-09T14:01:55.360Z"
   },
   {
    "duration": 8,
    "start_time": "2022-11-09T14:01:56.325Z"
   },
   {
    "duration": 5,
    "start_time": "2022-11-09T14:01:56.743Z"
   },
   {
    "duration": 6,
    "start_time": "2022-11-09T14:04:44.336Z"
   },
   {
    "duration": 6,
    "start_time": "2022-11-09T14:04:47.016Z"
   },
   {
    "duration": 17,
    "start_time": "2022-11-09T14:04:47.811Z"
   },
   {
    "duration": 9,
    "start_time": "2022-11-09T14:05:01.437Z"
   },
   {
    "duration": 10,
    "start_time": "2022-11-09T14:05:01.798Z"
   },
   {
    "duration": 8,
    "start_time": "2022-11-09T14:05:12.412Z"
   },
   {
    "duration": 7,
    "start_time": "2022-11-09T14:05:12.952Z"
   },
   {
    "duration": 10,
    "start_time": "2022-11-09T14:05:13.270Z"
   },
   {
    "duration": 7,
    "start_time": "2022-11-09T14:06:40.897Z"
   },
   {
    "duration": 33,
    "start_time": "2022-11-09T14:10:16.305Z"
   },
   {
    "duration": 8,
    "start_time": "2022-11-09T14:10:20.192Z"
   },
   {
    "duration": 41,
    "start_time": "2022-11-09T14:11:41.933Z"
   },
   {
    "duration": 33,
    "start_time": "2022-11-09T14:13:13.171Z"
   },
   {
    "duration": 7,
    "start_time": "2022-11-09T14:13:13.855Z"
   },
   {
    "duration": 9,
    "start_time": "2022-11-09T14:13:22.702Z"
   },
   {
    "duration": 7,
    "start_time": "2022-11-09T14:13:27.257Z"
   },
   {
    "duration": 8,
    "start_time": "2022-11-09T14:13:33.409Z"
   },
   {
    "duration": 8,
    "start_time": "2022-11-09T14:13:34.446Z"
   },
   {
    "duration": 10,
    "start_time": "2022-11-09T14:13:35.121Z"
   },
   {
    "duration": 9,
    "start_time": "2022-11-09T14:13:41.417Z"
   },
   {
    "duration": 4,
    "start_time": "2022-11-09T14:13:49.425Z"
   },
   {
    "duration": 9,
    "start_time": "2022-11-09T14:13:49.979Z"
   },
   {
    "duration": 46,
    "start_time": "2022-11-09T14:15:29.663Z"
   },
   {
    "duration": 6,
    "start_time": "2022-11-09T14:15:29.941Z"
   },
   {
    "duration": 10,
    "start_time": "2022-11-09T14:15:31.472Z"
   },
   {
    "duration": 6,
    "start_time": "2022-11-09T14:16:13.275Z"
   },
   {
    "duration": 8,
    "start_time": "2022-11-09T14:16:14.012Z"
   },
   {
    "duration": 7,
    "start_time": "2022-11-09T14:17:42.263Z"
   },
   {
    "duration": 10,
    "start_time": "2022-11-09T14:53:27.504Z"
   },
   {
    "duration": 52,
    "start_time": "2022-11-09T14:55:51.402Z"
   },
   {
    "duration": 43,
    "start_time": "2022-11-09T14:56:20.878Z"
   },
   {
    "duration": 80,
    "start_time": "2022-11-09T15:07:04.482Z"
   },
   {
    "duration": 10,
    "start_time": "2022-11-09T16:03:50.505Z"
   },
   {
    "duration": 69,
    "start_time": "2022-11-09T16:03:51.628Z"
   },
   {
    "duration": 1484,
    "start_time": "2022-11-09T16:51:18.539Z"
   },
   {
    "duration": 52,
    "start_time": "2022-11-09T16:51:20.026Z"
   },
   {
    "duration": 1266,
    "start_time": "2022-11-09T16:51:20.082Z"
   },
   {
    "duration": 127,
    "start_time": "2022-11-09T16:51:21.350Z"
   },
   {
    "duration": 40,
    "start_time": "2022-11-09T16:51:21.484Z"
   },
   {
    "duration": 178,
    "start_time": "2022-11-09T16:51:21.526Z"
   },
   {
    "duration": 45,
    "start_time": "2022-11-09T16:51:21.707Z"
   },
   {
    "duration": 421,
    "start_time": "2022-11-09T16:51:21.772Z"
   },
   {
    "duration": 129,
    "start_time": "2022-11-09T16:51:22.195Z"
   },
   {
    "duration": 74,
    "start_time": "2022-11-09T16:51:22.326Z"
   },
   {
    "duration": 89,
    "start_time": "2022-11-09T16:51:22.403Z"
   },
   {
    "duration": 267,
    "start_time": "2022-11-09T16:51:22.494Z"
   },
   {
    "duration": 17,
    "start_time": "2022-11-09T16:51:22.763Z"
   },
   {
    "duration": 22,
    "start_time": "2022-11-09T16:51:22.788Z"
   },
   {
    "duration": 6,
    "start_time": "2022-11-09T16:51:22.813Z"
   },
   {
    "duration": 27,
    "start_time": "2022-11-09T16:51:22.821Z"
   },
   {
    "duration": 45,
    "start_time": "2022-11-09T16:51:22.873Z"
   },
   {
    "duration": 8,
    "start_time": "2022-11-09T16:51:22.919Z"
   },
   {
    "duration": 59,
    "start_time": "2022-11-09T16:51:22.929Z"
   },
   {
    "duration": 229,
    "start_time": "2022-11-09T16:51:22.990Z"
   },
   {
    "duration": 31,
    "start_time": "2022-11-09T16:51:23.221Z"
   },
   {
    "duration": 62,
    "start_time": "2022-11-09T16:51:23.254Z"
   },
   {
    "duration": 10,
    "start_time": "2022-11-09T16:51:23.319Z"
   },
   {
    "duration": 44,
    "start_time": "2022-11-09T16:51:23.331Z"
   },
   {
    "duration": 562,
    "start_time": "2022-11-09T16:51:23.389Z"
   },
   {
    "duration": 66,
    "start_time": "2022-11-09T16:51:23.953Z"
   },
   {
    "duration": 14,
    "start_time": "2022-11-09T16:51:24.021Z"
   },
   {
    "duration": 739,
    "start_time": "2022-11-09T16:51:24.037Z"
   },
   {
    "duration": 28,
    "start_time": "2022-11-09T16:51:24.778Z"
   },
   {
    "duration": 25,
    "start_time": "2022-11-09T16:51:24.808Z"
   },
   {
    "duration": 68,
    "start_time": "2022-11-09T16:51:24.836Z"
   },
   {
    "duration": 47,
    "start_time": "2022-11-09T16:51:24.906Z"
   },
   {
    "duration": 641,
    "start_time": "2022-11-09T16:51:24.955Z"
   },
   {
    "duration": 8,
    "start_time": "2022-11-09T16:51:25.599Z"
   },
   {
    "duration": 594,
    "start_time": "2022-11-09T16:51:25.610Z"
   },
   {
    "duration": 555,
    "start_time": "2022-11-09T16:51:26.206Z"
   },
   {
    "duration": 793,
    "start_time": "2022-11-09T16:51:26.764Z"
   },
   {
    "duration": 1163,
    "start_time": "2022-11-09T16:51:27.559Z"
   },
   {
    "duration": 29,
    "start_time": "2022-11-09T16:51:28.724Z"
   },
   {
    "duration": 44,
    "start_time": "2022-11-09T16:51:28.754Z"
   },
   {
    "duration": 848,
    "start_time": "2022-11-09T16:51:28.802Z"
   },
   {
    "duration": 2250,
    "start_time": "2022-11-09T16:51:29.653Z"
   },
   {
    "duration": 289,
    "start_time": "2022-11-09T16:51:31.905Z"
   },
   {
    "duration": 90,
    "start_time": "2022-11-09T16:51:32.196Z"
   },
   {
    "duration": 7,
    "start_time": "2022-11-09T16:51:32.288Z"
   },
   {
    "duration": 190,
    "start_time": "2022-11-09T16:51:32.297Z"
   },
   {
    "duration": 4,
    "start_time": "2022-11-09T16:53:08.292Z"
   },
   {
    "duration": 1465,
    "start_time": "2022-11-09T16:53:15.986Z"
   },
   {
    "duration": 48,
    "start_time": "2022-11-09T16:53:17.453Z"
   },
   {
    "duration": 1339,
    "start_time": "2022-11-09T16:53:17.503Z"
   },
   {
    "duration": 113,
    "start_time": "2022-11-09T16:53:18.845Z"
   },
   {
    "duration": 55,
    "start_time": "2022-11-09T16:53:18.960Z"
   },
   {
    "duration": 135,
    "start_time": "2022-11-09T16:53:19.018Z"
   },
   {
    "duration": 56,
    "start_time": "2022-11-09T16:53:19.155Z"
   },
   {
    "duration": 436,
    "start_time": "2022-11-09T16:53:19.213Z"
   },
   {
    "duration": 178,
    "start_time": "2022-11-09T16:53:19.651Z"
   },
   {
    "duration": 78,
    "start_time": "2022-11-09T16:53:19.834Z"
   },
   {
    "duration": 83,
    "start_time": "2022-11-09T16:53:19.914Z"
   },
   {
    "duration": 287,
    "start_time": "2022-11-09T16:53:19.999Z"
   },
   {
    "duration": 8,
    "start_time": "2022-11-09T16:53:20.288Z"
   },
   {
    "duration": 33,
    "start_time": "2022-11-09T16:53:20.298Z"
   },
   {
    "duration": 19,
    "start_time": "2022-11-09T16:53:20.333Z"
   },
   {
    "duration": 54,
    "start_time": "2022-11-09T16:53:20.353Z"
   },
   {
    "duration": 48,
    "start_time": "2022-11-09T16:53:20.409Z"
   },
   {
    "duration": 8,
    "start_time": "2022-11-09T16:53:20.459Z"
   },
   {
    "duration": 58,
    "start_time": "2022-11-09T16:53:20.472Z"
   },
   {
    "duration": 212,
    "start_time": "2022-11-09T16:53:20.532Z"
   },
   {
    "duration": 45,
    "start_time": "2022-11-09T16:53:20.746Z"
   },
   {
    "duration": 50,
    "start_time": "2022-11-09T16:53:20.793Z"
   },
   {
    "duration": 37,
    "start_time": "2022-11-09T16:53:20.845Z"
   },
   {
    "duration": 21,
    "start_time": "2022-11-09T16:53:20.888Z"
   },
   {
    "duration": 575,
    "start_time": "2022-11-09T16:53:20.911Z"
   },
   {
    "duration": 48,
    "start_time": "2022-11-09T16:53:21.489Z"
   },
   {
    "duration": 522,
    "start_time": "2022-11-09T16:53:21.539Z"
   },
   {
    "duration": 883,
    "start_time": "2022-11-09T16:53:22.065Z"
   },
   {
    "duration": 26,
    "start_time": "2022-11-09T16:53:22.950Z"
   },
   {
    "duration": 22,
    "start_time": "2022-11-09T16:53:22.977Z"
   },
   {
    "duration": 43,
    "start_time": "2022-11-09T16:53:23.001Z"
   },
   {
    "duration": 13,
    "start_time": "2022-11-09T16:53:23.046Z"
   },
   {
    "duration": 586,
    "start_time": "2022-11-09T16:53:23.061Z"
   },
   {
    "duration": 7,
    "start_time": "2022-11-09T16:53:23.650Z"
   },
   {
    "duration": 542,
    "start_time": "2022-11-09T16:53:23.659Z"
   },
   {
    "duration": 551,
    "start_time": "2022-11-09T16:53:24.204Z"
   },
   {
    "duration": 769,
    "start_time": "2022-11-09T16:53:24.758Z"
   },
   {
    "duration": 1196,
    "start_time": "2022-11-09T16:53:25.530Z"
   },
   {
    "duration": 28,
    "start_time": "2022-11-09T16:53:26.728Z"
   },
   {
    "duration": 42,
    "start_time": "2022-11-09T16:53:26.758Z"
   },
   {
    "duration": 849,
    "start_time": "2022-11-09T16:53:26.802Z"
   },
   {
    "duration": 2184,
    "start_time": "2022-11-09T16:53:27.653Z"
   },
   {
    "duration": 317,
    "start_time": "2022-11-09T16:53:29.838Z"
   },
   {
    "duration": 60,
    "start_time": "2022-11-09T16:53:30.157Z"
   },
   {
    "duration": 58,
    "start_time": "2022-11-09T16:53:30.219Z"
   },
   {
    "duration": 35,
    "start_time": "2022-11-09T16:53:30.284Z"
   },
   {
    "duration": 14,
    "start_time": "2022-11-09T16:53:52.667Z"
   },
   {
    "duration": 8,
    "start_time": "2022-11-09T16:54:00.646Z"
   },
   {
    "duration": 1448,
    "start_time": "2022-11-09T16:54:26.300Z"
   },
   {
    "duration": 47,
    "start_time": "2022-11-09T16:54:27.750Z"
   },
   {
    "duration": 1341,
    "start_time": "2022-11-09T16:54:27.799Z"
   },
   {
    "duration": 123,
    "start_time": "2022-11-09T16:54:29.142Z"
   },
   {
    "duration": 48,
    "start_time": "2022-11-09T16:54:29.267Z"
   },
   {
    "duration": 134,
    "start_time": "2022-11-09T16:54:29.317Z"
   },
   {
    "duration": 72,
    "start_time": "2022-11-09T16:54:29.453Z"
   },
   {
    "duration": 562,
    "start_time": "2022-11-09T16:54:29.527Z"
   },
   {
    "duration": 144,
    "start_time": "2022-11-09T16:54:30.092Z"
   },
   {
    "duration": 68,
    "start_time": "2022-11-09T16:54:30.239Z"
   },
   {
    "duration": 74,
    "start_time": "2022-11-09T16:54:30.309Z"
   },
   {
    "duration": 300,
    "start_time": "2022-11-09T16:54:30.389Z"
   },
   {
    "duration": 8,
    "start_time": "2022-11-09T16:54:30.691Z"
   },
   {
    "duration": 41,
    "start_time": "2022-11-09T16:54:30.701Z"
   },
   {
    "duration": 17,
    "start_time": "2022-11-09T16:54:30.744Z"
   },
   {
    "duration": 88,
    "start_time": "2022-11-09T16:54:30.763Z"
   },
   {
    "duration": 52,
    "start_time": "2022-11-09T16:54:30.853Z"
   },
   {
    "duration": 25,
    "start_time": "2022-11-09T16:54:30.906Z"
   },
   {
    "duration": 79,
    "start_time": "2022-11-09T16:54:30.933Z"
   },
   {
    "duration": 248,
    "start_time": "2022-11-09T16:54:31.014Z"
   },
   {
    "duration": 44,
    "start_time": "2022-11-09T16:54:31.263Z"
   },
   {
    "duration": 73,
    "start_time": "2022-11-09T16:54:31.309Z"
   },
   {
    "duration": 10,
    "start_time": "2022-11-09T16:54:31.388Z"
   },
   {
    "duration": 34,
    "start_time": "2022-11-09T16:54:31.400Z"
   },
   {
    "duration": 548,
    "start_time": "2022-11-09T16:54:31.436Z"
   },
   {
    "duration": 64,
    "start_time": "2022-11-09T16:54:31.987Z"
   },
   {
    "duration": 34,
    "start_time": "2022-11-09T16:54:32.053Z"
   },
   {
    "duration": 698,
    "start_time": "2022-11-09T16:54:32.091Z"
   },
   {
    "duration": 25,
    "start_time": "2022-11-09T16:54:32.791Z"
   },
   {
    "duration": 15,
    "start_time": "2022-11-09T16:54:32.818Z"
   },
   {
    "duration": 58,
    "start_time": "2022-11-09T16:54:32.834Z"
   },
   {
    "duration": 13,
    "start_time": "2022-11-09T16:54:32.894Z"
   },
   {
    "duration": 675,
    "start_time": "2022-11-09T16:54:32.909Z"
   },
   {
    "duration": 8,
    "start_time": "2022-11-09T16:54:33.588Z"
   },
   {
    "duration": 550,
    "start_time": "2022-11-09T16:54:33.598Z"
   },
   {
    "duration": 543,
    "start_time": "2022-11-09T16:54:34.150Z"
   },
   {
    "duration": 812,
    "start_time": "2022-11-09T16:54:34.695Z"
   },
   {
    "duration": 1110,
    "start_time": "2022-11-09T16:54:35.508Z"
   },
   {
    "duration": 29,
    "start_time": "2022-11-09T16:54:36.620Z"
   },
   {
    "duration": 38,
    "start_time": "2022-11-09T16:54:36.651Z"
   },
   {
    "duration": 881,
    "start_time": "2022-11-09T16:54:36.691Z"
   },
   {
    "duration": 2248,
    "start_time": "2022-11-09T16:54:37.574Z"
   },
   {
    "duration": 321,
    "start_time": "2022-11-09T16:54:39.825Z"
   },
   {
    "duration": 54,
    "start_time": "2022-11-09T16:54:40.148Z"
   },
   {
    "duration": 12,
    "start_time": "2022-11-09T16:54:40.203Z"
   },
   {
    "duration": 62,
    "start_time": "2022-11-09T16:54:40.217Z"
   },
   {
    "duration": 22,
    "start_time": "2022-11-09T16:54:40.281Z"
   },
   {
    "duration": 1416,
    "start_time": "2022-11-10T09:23:21.647Z"
   },
   {
    "duration": 67,
    "start_time": "2022-11-10T09:23:23.065Z"
   },
   {
    "duration": 1814,
    "start_time": "2022-11-10T09:23:23.133Z"
   },
   {
    "duration": 96,
    "start_time": "2022-11-10T09:23:24.949Z"
   },
   {
    "duration": 31,
    "start_time": "2022-11-10T09:23:25.047Z"
   },
   {
    "duration": 122,
    "start_time": "2022-11-10T09:23:25.080Z"
   },
   {
    "duration": 47,
    "start_time": "2022-11-10T09:23:25.203Z"
   },
   {
    "duration": 336,
    "start_time": "2022-11-10T09:23:25.252Z"
   },
   {
    "duration": 137,
    "start_time": "2022-11-10T09:23:25.590Z"
   },
   {
    "duration": 44,
    "start_time": "2022-11-10T09:23:25.730Z"
   },
   {
    "duration": 76,
    "start_time": "2022-11-10T09:23:25.775Z"
   },
   {
    "duration": 229,
    "start_time": "2022-11-10T09:23:25.852Z"
   },
   {
    "duration": 7,
    "start_time": "2022-11-10T09:23:26.083Z"
   },
   {
    "duration": 16,
    "start_time": "2022-11-10T09:23:26.091Z"
   },
   {
    "duration": 6,
    "start_time": "2022-11-10T09:23:26.122Z"
   },
   {
    "duration": 26,
    "start_time": "2022-11-10T09:23:26.129Z"
   },
   {
    "duration": 38,
    "start_time": "2022-11-10T09:23:26.157Z"
   },
   {
    "duration": 27,
    "start_time": "2022-11-10T09:23:26.196Z"
   },
   {
    "duration": 36,
    "start_time": "2022-11-10T09:23:26.225Z"
   },
   {
    "duration": 171,
    "start_time": "2022-11-10T09:23:26.263Z"
   },
   {
    "duration": 25,
    "start_time": "2022-11-10T09:23:26.435Z"
   },
   {
    "duration": 60,
    "start_time": "2022-11-10T09:23:26.462Z"
   },
   {
    "duration": 8,
    "start_time": "2022-11-10T09:23:26.524Z"
   },
   {
    "duration": 24,
    "start_time": "2022-11-10T09:23:26.534Z"
   },
   {
    "duration": 565,
    "start_time": "2022-11-10T09:23:26.560Z"
   },
   {
    "duration": 47,
    "start_time": "2022-11-10T09:23:27.127Z"
   },
   {
    "duration": 10,
    "start_time": "2022-11-10T09:23:27.176Z"
   },
   {
    "duration": 634,
    "start_time": "2022-11-10T09:23:27.190Z"
   },
   {
    "duration": 25,
    "start_time": "2022-11-10T09:23:27.826Z"
   },
   {
    "duration": 23,
    "start_time": "2022-11-10T09:23:27.853Z"
   },
   {
    "duration": 57,
    "start_time": "2022-11-10T09:23:27.878Z"
   },
   {
    "duration": 20,
    "start_time": "2022-11-10T09:23:27.936Z"
   },
   {
    "duration": 534,
    "start_time": "2022-11-10T09:23:27.958Z"
   },
   {
    "duration": 6,
    "start_time": "2022-11-10T09:23:28.494Z"
   },
   {
    "duration": 644,
    "start_time": "2022-11-10T09:23:28.501Z"
   },
   {
    "duration": 468,
    "start_time": "2022-11-10T09:23:29.146Z"
   },
   {
    "duration": 696,
    "start_time": "2022-11-10T09:23:29.622Z"
   },
   {
    "duration": 1077,
    "start_time": "2022-11-10T09:23:30.321Z"
   },
   {
    "duration": 29,
    "start_time": "2022-11-10T09:23:31.400Z"
   },
   {
    "duration": 21,
    "start_time": "2022-11-10T09:23:31.431Z"
   },
   {
    "duration": 891,
    "start_time": "2022-11-10T09:23:31.454Z"
   },
   {
    "duration": 2043,
    "start_time": "2022-11-10T09:23:32.347Z"
   },
   {
    "duration": 498,
    "start_time": "2022-11-10T09:23:34.391Z"
   },
   {
    "duration": 55,
    "start_time": "2022-11-10T09:23:34.890Z"
   },
   {
    "duration": 7,
    "start_time": "2022-11-10T09:23:34.949Z"
   },
   {
    "duration": 15,
    "start_time": "2022-11-10T09:23:34.959Z"
   },
   {
    "duration": 10,
    "start_time": "2022-11-10T09:23:35.023Z"
   },
   {
    "duration": 6,
    "start_time": "2022-11-10T09:47:34.513Z"
   },
   {
    "duration": 9,
    "start_time": "2022-11-10T09:47:35.412Z"
   },
   {
    "duration": 6,
    "start_time": "2022-11-10T09:47:41.772Z"
   },
   {
    "duration": 9,
    "start_time": "2022-11-10T09:47:42.411Z"
   },
   {
    "duration": 1584,
    "start_time": "2022-11-10T10:06:39.238Z"
   },
   {
    "duration": 39,
    "start_time": "2022-11-10T10:06:40.825Z"
   },
   {
    "duration": 1876,
    "start_time": "2022-11-10T10:06:40.866Z"
   },
   {
    "duration": 205,
    "start_time": "2022-11-10T10:06:42.743Z"
   },
   {
    "duration": 90,
    "start_time": "2022-11-10T10:06:42.951Z"
   },
   {
    "duration": 216,
    "start_time": "2022-11-10T10:06:43.044Z"
   },
   {
    "duration": 113,
    "start_time": "2022-11-10T10:06:43.262Z"
   },
   {
    "duration": 527,
    "start_time": "2022-11-10T10:06:43.377Z"
   },
   {
    "duration": 120,
    "start_time": "2022-11-10T10:06:43.906Z"
   },
   {
    "duration": 56,
    "start_time": "2022-11-10T10:06:44.028Z"
   },
   {
    "duration": 78,
    "start_time": "2022-11-10T10:06:44.086Z"
   },
   {
    "duration": 243,
    "start_time": "2022-11-10T10:06:44.166Z"
   },
   {
    "duration": 8,
    "start_time": "2022-11-10T10:06:44.411Z"
   },
   {
    "duration": 16,
    "start_time": "2022-11-10T10:06:44.436Z"
   },
   {
    "duration": 6,
    "start_time": "2022-11-10T10:06:44.453Z"
   },
   {
    "duration": 24,
    "start_time": "2022-11-10T10:06:44.460Z"
   },
   {
    "duration": 74,
    "start_time": "2022-11-10T10:06:44.486Z"
   },
   {
    "duration": 9,
    "start_time": "2022-11-10T10:06:44.562Z"
   },
   {
    "duration": 28,
    "start_time": "2022-11-10T10:06:44.572Z"
   },
   {
    "duration": 182,
    "start_time": "2022-11-10T10:06:44.602Z"
   },
   {
    "duration": 27,
    "start_time": "2022-11-10T10:06:44.786Z"
   },
   {
    "duration": 60,
    "start_time": "2022-11-10T10:06:44.814Z"
   },
   {
    "duration": 10,
    "start_time": "2022-11-10T10:06:44.875Z"
   },
   {
    "duration": 16,
    "start_time": "2022-11-10T10:06:44.887Z"
   },
   {
    "duration": 623,
    "start_time": "2022-11-10T10:06:44.905Z"
   },
   {
    "duration": 64,
    "start_time": "2022-11-10T10:06:45.530Z"
   },
   {
    "duration": 14,
    "start_time": "2022-11-10T10:06:45.596Z"
   },
   {
    "duration": 688,
    "start_time": "2022-11-10T10:06:45.612Z"
   },
   {
    "duration": 22,
    "start_time": "2022-11-10T10:06:46.302Z"
   },
   {
    "duration": 14,
    "start_time": "2022-11-10T10:06:46.337Z"
   },
   {
    "duration": 19,
    "start_time": "2022-11-10T10:06:46.353Z"
   },
   {
    "duration": 9,
    "start_time": "2022-11-10T10:06:46.374Z"
   },
   {
    "duration": 563,
    "start_time": "2022-11-10T10:06:46.385Z"
   },
   {
    "duration": 7,
    "start_time": "2022-11-10T10:06:46.950Z"
   },
   {
    "duration": 494,
    "start_time": "2022-11-10T10:06:46.959Z"
   },
   {
    "duration": 497,
    "start_time": "2022-11-10T10:06:47.454Z"
   },
   {
    "duration": 736,
    "start_time": "2022-11-10T10:06:47.953Z"
   },
   {
    "duration": 1185,
    "start_time": "2022-11-10T10:06:48.691Z"
   },
   {
    "duration": 27,
    "start_time": "2022-11-10T10:06:49.879Z"
   },
   {
    "duration": 43,
    "start_time": "2022-11-10T10:06:49.908Z"
   },
   {
    "duration": 835,
    "start_time": "2022-11-10T10:06:49.957Z"
   },
   {
    "duration": 1921,
    "start_time": "2022-11-10T10:06:50.794Z"
   },
   {
    "duration": 272,
    "start_time": "2022-11-10T10:06:52.717Z"
   },
   {
    "duration": 59,
    "start_time": "2022-11-10T10:06:52.991Z"
   },
   {
    "duration": 6,
    "start_time": "2022-11-10T10:06:53.052Z"
   },
   {
    "duration": 15,
    "start_time": "2022-11-10T10:06:53.059Z"
   },
   {
    "duration": 64,
    "start_time": "2022-11-10T10:06:53.075Z"
   },
   {
    "duration": 500,
    "start_time": "2022-11-10T10:19:14.926Z"
   },
   {
    "duration": 18,
    "start_time": "2022-11-10T10:19:42.648Z"
   },
   {
    "duration": 8,
    "start_time": "2022-11-10T10:19:54.640Z"
   },
   {
    "duration": 35,
    "start_time": "2022-11-10T10:19:59.440Z"
   },
   {
    "duration": 7,
    "start_time": "2022-11-10T10:20:43.348Z"
   },
   {
    "duration": 508,
    "start_time": "2022-11-10T10:20:49.802Z"
   },
   {
    "duration": 25,
    "start_time": "2022-11-10T10:24:22.594Z"
   },
   {
    "duration": 11,
    "start_time": "2022-11-10T10:24:28.274Z"
   },
   {
    "duration": 21,
    "start_time": "2022-11-10T10:24:38.579Z"
   },
   {
    "duration": 551,
    "start_time": "2022-11-10T10:24:48.869Z"
   },
   {
    "duration": 21,
    "start_time": "2022-11-10T10:25:54.522Z"
   },
   {
    "duration": 536,
    "start_time": "2022-11-10T10:25:55.396Z"
   },
   {
    "duration": 80,
    "start_time": "2022-11-10T10:26:00.549Z"
   },
   {
    "duration": 49,
    "start_time": "2022-11-10T10:28:46.447Z"
   },
   {
    "duration": 130,
    "start_time": "2022-11-10T10:29:14.065Z"
   },
   {
    "duration": 21,
    "start_time": "2022-11-10T10:29:17.438Z"
   },
   {
    "duration": 22,
    "start_time": "2022-11-10T10:29:24.540Z"
   },
   {
    "duration": 29,
    "start_time": "2022-11-10T10:29:35.389Z"
   },
   {
    "duration": 41,
    "start_time": "2022-11-10T10:29:46.603Z"
   },
   {
    "duration": 76,
    "start_time": "2022-11-10T10:31:28.298Z"
   },
   {
    "duration": 30,
    "start_time": "2022-11-10T10:31:31.915Z"
   },
   {
    "duration": 30,
    "start_time": "2022-11-10T10:31:40.165Z"
   },
   {
    "duration": 28,
    "start_time": "2022-11-10T10:31:54.981Z"
   },
   {
    "duration": 24,
    "start_time": "2022-11-10T10:32:05.972Z"
   },
   {
    "duration": 70,
    "start_time": "2022-11-10T10:33:10.430Z"
   },
   {
    "duration": 28,
    "start_time": "2022-11-10T10:33:45.863Z"
   },
   {
    "duration": 7,
    "start_time": "2022-11-10T10:34:01.854Z"
   },
   {
    "duration": 24,
    "start_time": "2022-11-10T10:34:02.258Z"
   },
   {
    "duration": 22,
    "start_time": "2022-11-10T10:34:22.738Z"
   },
   {
    "duration": 454,
    "start_time": "2022-11-10T10:34:22.931Z"
   },
   {
    "duration": 60,
    "start_time": "2022-11-10T10:34:23.388Z"
   },
   {
    "duration": 11,
    "start_time": "2022-11-10T10:34:23.879Z"
   },
   {
    "duration": 794,
    "start_time": "2022-11-10T10:34:25.091Z"
   },
   {
    "duration": 23,
    "start_time": "2022-11-10T10:34:26.199Z"
   },
   {
    "duration": 14,
    "start_time": "2022-11-10T10:34:27.550Z"
   },
   {
    "duration": 23,
    "start_time": "2022-11-10T10:34:32.339Z"
   },
   {
    "duration": 12,
    "start_time": "2022-11-10T10:34:34.107Z"
   },
   {
    "duration": 636,
    "start_time": "2022-11-10T10:34:38.543Z"
   },
   {
    "duration": 7,
    "start_time": "2022-11-10T10:34:40.012Z"
   },
   {
    "duration": 439,
    "start_time": "2022-11-10T10:34:43.111Z"
   },
   {
    "duration": 504,
    "start_time": "2022-11-10T10:34:46.202Z"
   },
   {
    "duration": 737,
    "start_time": "2022-11-10T10:38:29.592Z"
   },
   {
    "duration": 1134,
    "start_time": "2022-11-10T10:38:30.927Z"
   },
   {
    "duration": 27,
    "start_time": "2022-11-10T10:38:40.845Z"
   },
   {
    "duration": 21,
    "start_time": "2022-11-10T10:38:47.375Z"
   },
   {
    "duration": 907,
    "start_time": "2022-11-10T10:38:48.361Z"
   },
   {
    "duration": 59,
    "start_time": "2022-11-10T10:40:47.004Z"
   },
   {
    "duration": 6,
    "start_time": "2022-11-10T10:40:48.000Z"
   },
   {
    "duration": 9,
    "start_time": "2022-11-10T10:40:51.773Z"
   },
   {
    "duration": 10,
    "start_time": "2022-11-10T10:43:27.880Z"
   },
   {
    "duration": 114,
    "start_time": "2022-11-10T10:43:33.157Z"
   },
   {
    "duration": 9,
    "start_time": "2022-11-10T10:46:20.888Z"
   },
   {
    "duration": 10,
    "start_time": "2022-11-10T10:46:58.940Z"
   },
   {
    "duration": 1267,
    "start_time": "2022-11-10T10:50:09.748Z"
   },
   {
    "duration": 39,
    "start_time": "2022-11-10T10:50:11.017Z"
   },
   {
    "duration": 1463,
    "start_time": "2022-11-10T10:50:11.057Z"
   },
   {
    "duration": 128,
    "start_time": "2022-11-10T10:50:12.523Z"
   },
   {
    "duration": 40,
    "start_time": "2022-11-10T10:50:12.653Z"
   },
   {
    "duration": 149,
    "start_time": "2022-11-10T10:50:12.695Z"
   },
   {
    "duration": 50,
    "start_time": "2022-11-10T10:50:12.846Z"
   },
   {
    "duration": 398,
    "start_time": "2022-11-10T10:50:12.898Z"
   },
   {
    "duration": 119,
    "start_time": "2022-11-10T10:50:13.298Z"
   },
   {
    "duration": 56,
    "start_time": "2022-11-10T10:50:13.420Z"
   },
   {
    "duration": 73,
    "start_time": "2022-11-10T10:50:13.478Z"
   },
   {
    "duration": 247,
    "start_time": "2022-11-10T10:50:13.553Z"
   },
   {
    "duration": 9,
    "start_time": "2022-11-10T10:50:13.802Z"
   },
   {
    "duration": 35,
    "start_time": "2022-11-10T10:50:13.813Z"
   },
   {
    "duration": 6,
    "start_time": "2022-11-10T10:50:13.850Z"
   },
   {
    "duration": 33,
    "start_time": "2022-11-10T10:50:13.858Z"
   },
   {
    "duration": 81,
    "start_time": "2022-11-10T10:50:13.893Z"
   },
   {
    "duration": 10,
    "start_time": "2022-11-10T10:50:13.977Z"
   },
   {
    "duration": 60,
    "start_time": "2022-11-10T10:50:13.990Z"
   },
   {
    "duration": 222,
    "start_time": "2022-11-10T10:50:14.052Z"
   },
   {
    "duration": 27,
    "start_time": "2022-11-10T10:50:14.276Z"
   },
   {
    "duration": 62,
    "start_time": "2022-11-10T10:50:14.305Z"
   },
   {
    "duration": 10,
    "start_time": "2022-11-10T10:50:14.369Z"
   },
   {
    "duration": 8,
    "start_time": "2022-11-10T10:50:14.382Z"
   },
   {
    "duration": 51,
    "start_time": "2022-11-10T10:50:14.391Z"
   },
   {
    "duration": 562,
    "start_time": "2022-11-10T10:50:14.445Z"
   },
   {
    "duration": 74,
    "start_time": "2022-11-10T10:50:15.009Z"
   },
   {
    "duration": 14,
    "start_time": "2022-11-10T10:50:15.086Z"
   },
   {
    "duration": 838,
    "start_time": "2022-11-10T10:50:15.102Z"
   },
   {
    "duration": 23,
    "start_time": "2022-11-10T10:50:15.942Z"
   },
   {
    "duration": 17,
    "start_time": "2022-11-10T10:50:15.967Z"
   },
   {
    "duration": 26,
    "start_time": "2022-11-10T10:50:15.986Z"
   },
   {
    "duration": 12,
    "start_time": "2022-11-10T10:50:16.038Z"
   },
   {
    "duration": 599,
    "start_time": "2022-11-10T10:50:16.053Z"
   },
   {
    "duration": 7,
    "start_time": "2022-11-10T10:50:16.655Z"
   },
   {
    "duration": 510,
    "start_time": "2022-11-10T10:50:16.664Z"
   },
   {
    "duration": 567,
    "start_time": "2022-11-10T10:50:17.176Z"
   },
   {
    "duration": 737,
    "start_time": "2022-11-10T10:50:17.745Z"
   },
   {
    "duration": 1155,
    "start_time": "2022-11-10T10:50:18.483Z"
   },
   {
    "duration": 32,
    "start_time": "2022-11-10T10:50:19.640Z"
   },
   {
    "duration": 27,
    "start_time": "2022-11-10T10:50:19.674Z"
   },
   {
    "duration": 780,
    "start_time": "2022-11-10T10:50:19.704Z"
   },
   {
    "duration": 1949,
    "start_time": "2022-11-10T10:50:20.488Z"
   },
   {
    "duration": 267,
    "start_time": "2022-11-10T10:50:22.439Z"
   },
   {
    "duration": 52,
    "start_time": "2022-11-10T10:50:22.708Z"
   },
   {
    "duration": 6,
    "start_time": "2022-11-10T10:50:22.763Z"
   },
   {
    "duration": 74,
    "start_time": "2022-11-10T10:50:22.771Z"
   },
   {
    "duration": 24,
    "start_time": "2022-11-10T10:50:22.847Z"
   },
   {
    "duration": 1342,
    "start_time": "2022-11-10T12:15:35.976Z"
   },
   {
    "duration": 38,
    "start_time": "2022-11-10T12:15:37.320Z"
   },
   {
    "duration": 1555,
    "start_time": "2022-11-10T12:15:37.359Z"
   },
   {
    "duration": 147,
    "start_time": "2022-11-10T12:15:38.917Z"
   },
   {
    "duration": 42,
    "start_time": "2022-11-10T12:15:39.067Z"
   },
   {
    "duration": 142,
    "start_time": "2022-11-10T12:15:39.111Z"
   },
   {
    "duration": 44,
    "start_time": "2022-11-10T12:15:39.254Z"
   },
   {
    "duration": 392,
    "start_time": "2022-11-10T12:15:39.301Z"
   },
   {
    "duration": 123,
    "start_time": "2022-11-10T12:15:39.695Z"
   },
   {
    "duration": 67,
    "start_time": "2022-11-10T12:15:39.821Z"
   },
   {
    "duration": 74,
    "start_time": "2022-11-10T12:15:39.890Z"
   },
   {
    "duration": 244,
    "start_time": "2022-11-10T12:15:39.966Z"
   },
   {
    "duration": 10,
    "start_time": "2022-11-10T12:15:40.212Z"
   },
   {
    "duration": 28,
    "start_time": "2022-11-10T12:15:40.224Z"
   },
   {
    "duration": 5,
    "start_time": "2022-11-10T12:15:40.254Z"
   },
   {
    "duration": 22,
    "start_time": "2022-11-10T12:15:40.261Z"
   },
   {
    "duration": 69,
    "start_time": "2022-11-10T12:15:40.285Z"
   },
   {
    "duration": 8,
    "start_time": "2022-11-10T12:15:40.356Z"
   },
   {
    "duration": 27,
    "start_time": "2022-11-10T12:15:40.365Z"
   },
   {
    "duration": 189,
    "start_time": "2022-11-10T12:15:40.394Z"
   },
   {
    "duration": 27,
    "start_time": "2022-11-10T12:15:40.585Z"
   },
   {
    "duration": 56,
    "start_time": "2022-11-10T12:15:40.614Z"
   },
   {
    "duration": 9,
    "start_time": "2022-11-10T12:15:40.672Z"
   },
   {
    "duration": 6,
    "start_time": "2022-11-10T12:15:40.683Z"
   },
   {
    "duration": 48,
    "start_time": "2022-11-10T12:15:40.691Z"
   },
   {
    "duration": 508,
    "start_time": "2022-11-10T12:15:40.741Z"
   },
   {
    "duration": 50,
    "start_time": "2022-11-10T12:15:41.251Z"
   },
   {
    "duration": 12,
    "start_time": "2022-11-10T12:15:41.304Z"
   },
   {
    "duration": 646,
    "start_time": "2022-11-10T12:15:41.338Z"
   },
   {
    "duration": 25,
    "start_time": "2022-11-10T12:15:41.986Z"
   },
   {
    "duration": 27,
    "start_time": "2022-11-10T12:15:42.012Z"
   },
   {
    "duration": 30,
    "start_time": "2022-11-10T12:15:42.040Z"
   },
   {
    "duration": 11,
    "start_time": "2022-11-10T12:15:42.072Z"
   },
   {
    "duration": 556,
    "start_time": "2022-11-10T12:15:42.086Z"
   },
   {
    "duration": 8,
    "start_time": "2022-11-10T12:15:42.644Z"
   },
   {
    "duration": 475,
    "start_time": "2022-11-10T12:15:42.654Z"
   },
   {
    "duration": 497,
    "start_time": "2022-11-10T12:15:43.130Z"
   },
   {
    "duration": 716,
    "start_time": "2022-11-10T12:15:43.637Z"
   },
   {
    "duration": 1028,
    "start_time": "2022-11-10T12:15:44.355Z"
   },
   {
    "duration": 26,
    "start_time": "2022-11-10T12:15:45.385Z"
   },
   {
    "duration": 38,
    "start_time": "2022-11-10T12:15:45.412Z"
   },
   {
    "duration": 831,
    "start_time": "2022-11-10T12:15:45.452Z"
   },
   {
    "duration": 1870,
    "start_time": "2022-11-10T12:15:46.285Z"
   },
   {
    "duration": 279,
    "start_time": "2022-11-10T12:15:48.157Z"
   },
   {
    "duration": 107,
    "start_time": "2022-11-10T12:15:48.439Z"
   },
   {
    "duration": 8,
    "start_time": "2022-11-10T12:15:48.548Z"
   },
   {
    "duration": 18,
    "start_time": "2022-11-10T12:15:48.558Z"
   },
   {
    "duration": 66,
    "start_time": "2022-11-10T12:15:48.578Z"
   }
  ],
  "kernelspec": {
   "display_name": "Python 3 (ipykernel)",
   "language": "python",
   "name": "python3"
  },
  "language_info": {
   "codemirror_mode": {
    "name": "ipython",
    "version": 3
   },
   "file_extension": ".py",
   "mimetype": "text/x-python",
   "name": "python",
   "nbconvert_exporter": "python",
   "pygments_lexer": "ipython3",
   "version": "3.9.13"
  },
  "nbTranslate": {
   "displayLangs": [
    "en",
    "ru"
   ],
   "hotkey": "alt-t",
   "langInMainMenu": true,
   "sourceLang": "ru",
   "targetLang": "en",
   "useGoogleTranslate": true
  },
  "toc": {
   "base_numbering": 1,
   "nav_menu": {},
   "number_sections": true,
   "sideBar": true,
   "skip_h1_title": true,
   "title_cell": "Table of Contents",
   "title_sidebar": "Contents",
   "toc_cell": false,
   "toc_position": {
    "height": "calc(100% - 180px)",
    "left": "10px",
    "top": "150px",
    "width": "255.075px"
   },
   "toc_section_display": true,
   "toc_window_display": true
  },
  "varInspector": {
   "cols": {
    "lenName": 16,
    "lenType": 16,
    "lenVar": 40
   },
   "kernels_config": {
    "python": {
     "delete_cmd_postfix": "",
     "delete_cmd_prefix": "del ",
     "library": "var_list.py",
     "varRefreshCmd": "print(var_dic_list())"
    },
    "r": {
     "delete_cmd_postfix": ") ",
     "delete_cmd_prefix": "rm(",
     "library": "var_list.r",
     "varRefreshCmd": "cat(var_dic_list()) "
    }
   },
   "types_to_exclude": [
    "module",
    "function",
    "builtin_function_or_method",
    "instance",
    "_Feature"
   ],
   "window_display": false
  }
 },
 "nbformat": 4,
 "nbformat_minor": 2
}
