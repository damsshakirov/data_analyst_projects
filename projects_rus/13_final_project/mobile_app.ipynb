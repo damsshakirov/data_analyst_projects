{
 "cells": [
  {
   "cell_type": "markdown",
   "metadata": {},
   "source": [
    "# Анализ поведения пользователей в мобильном приложении"
   ]
  },
  {
   "cell_type": "markdown",
   "metadata": {},
   "source": [
    "**Цель проекта:**\n",
    "\n",
    "1. Проанализируйте связь целевого события — просмотра контактов — и других действий пользователей. \n",
    "2. Оценить, какие действия чаще совершают те пользователи, которые просматривают контакты.\n",
    "\n",
    "\n",
    "# Структура проекта\n",
    "\n",
    "**Шаг 1 Чтение и предобработка данных**\n",
    "\n",
    "* Прочесть датасеты и изучить общую информацию\n",
    "* Привести, если необходимо, названия столбцов к единому стилистическому формату\n",
    "* Проверить данные на наличие явных и неявных дубликатов и пропусков, при наличии исправить\n",
    "* Проверить типы данных, при необходимости привести к нужному типу\n",
    "* Добавить столбец даты и времени, а также отдельный столбец дат\n",
    "* Посмотреть стоит ли перевести миллисекунды в секунды - почему?\n",
    "\n",
    "**Шаг 2 Исследовательский анализ данных (EDA)**\n",
    "\n",
    "* Сколько всего событий в датасете?\n",
    "* Сколько всего пользователей в датасете?\n",
    "* Сколько в среднем событий приходится на одного пользователя?\n",
    "* Данные за какой период представлены в датасете? Найти максимальную и минимальную дату. Построить гистограмму по дате и времени.\n",
    "* Рассчитать и визуализировать DAU / WAU в представленном датасете - есть ли закономерности в пользовательском поведении?\n",
    "\n",
    "**Шаг 3 Изучить поведенческие сценарии**\n",
    "* Посмотреть, какие события есть в датасете, как часто они встречаются. Отсортировать события по частоте.\n",
    "* Посчитать, сколько уникальных пользователей совершали каждое из этих событий. Отсортируйте события по числу уникальных пользователей.\n",
    "* Разбить все события на сессии в разрезе уникальных пользователей. На основе сессий предположить, в каком порядке происходят события. Выявить поведенческие сценарии, их количество.\n",
    "* По сценариям описать воронки (конверсии) - какая доля пользователей проходит на следующий шаг каждой воронки (от числа пользователей на предыдущем). Выявить сценарии с лучшей и худшей конверсиями за представленный период.\n",
    "* В разрезе поведенческих сценариев проанализировать, какая доля пользователей доходит от первого события до просмотра контактов?\n",
    "* Проанализировать как различается время в разрезе поведенческих сценариев пользователей?\n",
    "* Посмотреть влияет ли источник привлечения пользователя на долю пользователей, совершивших целевое действие - просмотр контактов.\n",
    "\n",
    "**Шаг 4 Формулировка статистических гипотез**\n",
    "\n",
    "* Одни пользователи совершают действия `tips_show` и `tips_click`, другие — только `tips_show`. Проверить гипотезу: конверсия в просмотры контактов различается у этих двух групп.\n",
    "* Проверить гипотезу о разности между конверсиями в просмотры контактов среди пользователей пришедших из разных источников - `google` и `яндекс`.\n",
    "* Проверить статистическую значимость различий средней длительности сессии между пользователями, пришедшими из `google` и `yandex`."
   ]
  },
  {
   "cell_type": "markdown",
   "metadata": {},
   "source": [
    "**Оглавление:**\n",
    "<a id='section_id'></a>\n",
    "\n",
    "1. [Импорт библиотек и загрузка данных](#section_id1)\n",
    "\n",
    "2. [Исследовательский анализ данных (EDA)](#section_id2)\n",
    "\n",
    "3. [Поведенческие сценарии](#section_id3)\n",
    "\n",
    "4. [Проверка статистических гипотез](#section_id4)\n",
    "\n",
    "5. [Результаты исследования](#section_id5)\n"
   ]
  },
  {
   "cell_type": "markdown",
   "metadata": {},
   "source": [
    "## Импорт библиотек и загрузка данных\n",
    "<a id='section_id1'></a>"
   ]
  },
  {
   "cell_type": "code",
   "execution_count": 119,
   "metadata": {
    "ExecuteTime": {
     "end_time": "2022-11-18T09:43:05.553454Z",
     "start_time": "2022-11-18T09:43:05.538492Z"
    }
   },
   "outputs": [],
   "source": [
    "import pandas as pd\n",
    "import numpy as np\n",
    "from scipy import stats as st\n",
    "import math as mth\n",
    "import datetime\n",
    "\n",
    "import matplotlib.pyplot as plt \n",
    "import seaborn as sns\n",
    "import plotly.express as px\n",
    "from plotly import graph_objects as go\n",
    "\n",
    "from IPython.display import display, HTML\n",
    "import warnings"
   ]
  },
  {
   "cell_type": "code",
   "execution_count": 120,
   "metadata": {
    "ExecuteTime": {
     "end_time": "2022-11-18T09:43:05.901521Z",
     "start_time": "2022-11-18T09:43:05.873598Z"
    }
   },
   "outputs": [
    {
     "data": {
      "text/html": [
       "<style>.container{width:80% !important;}</style"
      ],
      "text/plain": [
       "<IPython.core.display.HTML object>"
      ]
     },
     "metadata": {},
     "output_type": "display_data"
    }
   ],
   "source": [
    "# Формат отображения данных - отображение всех колонок и ограничиваю количество знаков после запятой\n",
    "pd.set_option('display.max_columns', None)\n",
    "pd.options.display.float_format = '{:,.2f}'.format\n",
    "pd.options.display.max_colwidth = 50\n",
    "# формат отображения ячеек с кодом:\n",
    "display(HTML(\"<style>.container{width:80% !important;}</style\"))\n",
    "\n",
    "# форматирую вывод графиков\n",
    "sns.set(rc={'figure.figsize':(10, 5)})\n",
    "sns.set_style('whitegrid')\n",
    "warnings.filterwarnings('ignore')"
   ]
  },
  {
   "cell_type": "code",
   "execution_count": 16,
   "metadata": {
    "ExecuteTime": {
     "end_time": "2022-11-18T08:52:21.776223Z",
     "start_time": "2022-11-18T08:52:17.914139Z"
    }
   },
   "outputs": [],
   "source": [
    "mobile_sourсes, mobile_dataset = (\n",
    "    pd.read_csv('datasets/mobile_sources.csv'),\n",
    "    pd.read_csv('datasets/mobile_dataset.csv')\n",
    ")"
   ]
  },
  {
   "cell_type": "markdown",
   "metadata": {},
   "source": [
    "### Обзор данных"
   ]
  },
  {
   "cell_type": "code",
   "execution_count": 17,
   "metadata": {
    "ExecuteTime": {
     "end_time": "2022-11-18T08:52:21.824030Z",
     "start_time": "2022-11-18T08:52:21.810066Z"
    }
   },
   "outputs": [
    {
     "data": {
      "text/html": [
       "<div>\n",
       "<style scoped>\n",
       "    .dataframe tbody tr th:only-of-type {\n",
       "        vertical-align: middle;\n",
       "    }\n",
       "\n",
       "    .dataframe tbody tr th {\n",
       "        vertical-align: top;\n",
       "    }\n",
       "\n",
       "    .dataframe thead th {\n",
       "        text-align: right;\n",
       "    }\n",
       "</style>\n",
       "<table border=\"1\" class=\"dataframe\">\n",
       "  <thead>\n",
       "    <tr style=\"text-align: right;\">\n",
       "      <th></th>\n",
       "      <th>userId</th>\n",
       "      <th>source</th>\n",
       "    </tr>\n",
       "  </thead>\n",
       "  <tbody>\n",
       "    <tr>\n",
       "      <th>0</th>\n",
       "      <td>020292ab-89bc-4156-9acf-68bc2783f894</td>\n",
       "      <td>other</td>\n",
       "    </tr>\n",
       "    <tr>\n",
       "      <th>1</th>\n",
       "      <td>cf7eda61-9349-469f-ac27-e5b6f5ec475c</td>\n",
       "      <td>yandex</td>\n",
       "    </tr>\n",
       "    <tr>\n",
       "      <th>2</th>\n",
       "      <td>8c356c42-3ba9-4cb6-80b8-3f868d0192c3</td>\n",
       "      <td>yandex</td>\n",
       "    </tr>\n",
       "  </tbody>\n",
       "</table>\n",
       "</div>"
      ],
      "text/plain": [
       "                                 userId  source\n",
       "0  020292ab-89bc-4156-9acf-68bc2783f894   other\n",
       "1  cf7eda61-9349-469f-ac27-e5b6f5ec475c  yandex\n",
       "2  8c356c42-3ba9-4cb6-80b8-3f868d0192c3  yandex"
      ]
     },
     "execution_count": 17,
     "metadata": {},
     "output_type": "execute_result"
    }
   ],
   "source": [
    "mobile_sourсes.head(3)"
   ]
  },
  {
   "cell_type": "code",
   "execution_count": 18,
   "metadata": {
    "ExecuteTime": {
     "end_time": "2022-11-18T08:52:21.871911Z",
     "start_time": "2022-11-18T08:52:21.860931Z"
    }
   },
   "outputs": [
    {
     "data": {
      "text/html": [
       "<div>\n",
       "<style scoped>\n",
       "    .dataframe tbody tr th:only-of-type {\n",
       "        vertical-align: middle;\n",
       "    }\n",
       "\n",
       "    .dataframe tbody tr th {\n",
       "        vertical-align: top;\n",
       "    }\n",
       "\n",
       "    .dataframe thead th {\n",
       "        text-align: right;\n",
       "    }\n",
       "</style>\n",
       "<table border=\"1\" class=\"dataframe\">\n",
       "  <thead>\n",
       "    <tr style=\"text-align: right;\">\n",
       "      <th></th>\n",
       "      <th>userId</th>\n",
       "      <th>source</th>\n",
       "    </tr>\n",
       "  </thead>\n",
       "  <tbody>\n",
       "    <tr>\n",
       "      <th>4290</th>\n",
       "      <td>437a4cd4-9ba9-457f-8614-d142bc48fbeb</td>\n",
       "      <td>yandex</td>\n",
       "    </tr>\n",
       "    <tr>\n",
       "      <th>4291</th>\n",
       "      <td>c10055f0-0b47-477a-869e-d391b31fdf8f</td>\n",
       "      <td>yandex</td>\n",
       "    </tr>\n",
       "    <tr>\n",
       "      <th>4292</th>\n",
       "      <td>d157bffc-264d-4464-8220-1cc0c42f43a9</td>\n",
       "      <td>google</td>\n",
       "    </tr>\n",
       "  </tbody>\n",
       "</table>\n",
       "</div>"
      ],
      "text/plain": [
       "                                    userId  source\n",
       "4290  437a4cd4-9ba9-457f-8614-d142bc48fbeb  yandex\n",
       "4291  c10055f0-0b47-477a-869e-d391b31fdf8f  yandex\n",
       "4292  d157bffc-264d-4464-8220-1cc0c42f43a9  google"
      ]
     },
     "execution_count": 18,
     "metadata": {},
     "output_type": "execute_result"
    }
   ],
   "source": [
    "mobile_sourсes.tail(3)"
   ]
  },
  {
   "cell_type": "code",
   "execution_count": 19,
   "metadata": {
    "ExecuteTime": {
     "end_time": "2022-11-18T08:52:21.933768Z",
     "start_time": "2022-11-18T08:52:21.905811Z"
    }
   },
   "outputs": [
    {
     "name": "stdout",
     "output_type": "stream",
     "text": [
      "<class 'pandas.core.frame.DataFrame'>\n",
      "RangeIndex: 4293 entries, 0 to 4292\n",
      "Data columns (total 2 columns):\n",
      " #   Column  Non-Null Count  Dtype \n",
      "---  ------  --------------  ----- \n",
      " 0   userId  4293 non-null   object\n",
      " 1   source  4293 non-null   object\n",
      "dtypes: object(2)\n",
      "memory usage: 67.2+ KB\n"
     ]
    }
   ],
   "source": [
    "mobile_sourсes.info()"
   ]
  },
  {
   "cell_type": "code",
   "execution_count": 20,
   "metadata": {
    "ExecuteTime": {
     "end_time": "2022-11-18T08:52:21.981609Z",
     "start_time": "2022-11-18T08:52:21.968643Z"
    }
   },
   "outputs": [
    {
     "data": {
      "text/html": [
       "<div>\n",
       "<style scoped>\n",
       "    .dataframe tbody tr th:only-of-type {\n",
       "        vertical-align: middle;\n",
       "    }\n",
       "\n",
       "    .dataframe tbody tr th {\n",
       "        vertical-align: top;\n",
       "    }\n",
       "\n",
       "    .dataframe thead th {\n",
       "        text-align: right;\n",
       "    }\n",
       "</style>\n",
       "<table border=\"1\" class=\"dataframe\">\n",
       "  <thead>\n",
       "    <tr style=\"text-align: right;\">\n",
       "      <th></th>\n",
       "      <th>event.time</th>\n",
       "      <th>event.name</th>\n",
       "      <th>user.id</th>\n",
       "    </tr>\n",
       "  </thead>\n",
       "  <tbody>\n",
       "    <tr>\n",
       "      <th>0</th>\n",
       "      <td>2019-10-07 00:00:00.431357</td>\n",
       "      <td>advert_open</td>\n",
       "      <td>020292ab-89bc-4156-9acf-68bc2783f894</td>\n",
       "    </tr>\n",
       "    <tr>\n",
       "      <th>1</th>\n",
       "      <td>2019-10-07 00:00:01.236320</td>\n",
       "      <td>tips_show</td>\n",
       "      <td>020292ab-89bc-4156-9acf-68bc2783f894</td>\n",
       "    </tr>\n",
       "    <tr>\n",
       "      <th>2</th>\n",
       "      <td>2019-10-07 00:00:02.245341</td>\n",
       "      <td>tips_show</td>\n",
       "      <td>cf7eda61-9349-469f-ac27-e5b6f5ec475c</td>\n",
       "    </tr>\n",
       "  </tbody>\n",
       "</table>\n",
       "</div>"
      ],
      "text/plain": [
       "                   event.time   event.name  \\\n",
       "0  2019-10-07 00:00:00.431357  advert_open   \n",
       "1  2019-10-07 00:00:01.236320    tips_show   \n",
       "2  2019-10-07 00:00:02.245341    tips_show   \n",
       "\n",
       "                                user.id  \n",
       "0  020292ab-89bc-4156-9acf-68bc2783f894  \n",
       "1  020292ab-89bc-4156-9acf-68bc2783f894  \n",
       "2  cf7eda61-9349-469f-ac27-e5b6f5ec475c  "
      ]
     },
     "execution_count": 20,
     "metadata": {},
     "output_type": "execute_result"
    }
   ],
   "source": [
    "mobile_dataset.head(3)"
   ]
  },
  {
   "cell_type": "code",
   "execution_count": 21,
   "metadata": {
    "ExecuteTime": {
     "end_time": "2022-11-18T08:52:22.045437Z",
     "start_time": "2022-11-18T08:52:22.016514Z"
    }
   },
   "outputs": [
    {
     "data": {
      "text/html": [
       "<div>\n",
       "<style scoped>\n",
       "    .dataframe tbody tr th:only-of-type {\n",
       "        vertical-align: middle;\n",
       "    }\n",
       "\n",
       "    .dataframe tbody tr th {\n",
       "        vertical-align: top;\n",
       "    }\n",
       "\n",
       "    .dataframe thead th {\n",
       "        text-align: right;\n",
       "    }\n",
       "</style>\n",
       "<table border=\"1\" class=\"dataframe\">\n",
       "  <thead>\n",
       "    <tr style=\"text-align: right;\">\n",
       "      <th></th>\n",
       "      <th>event.time</th>\n",
       "      <th>event.name</th>\n",
       "      <th>user.id</th>\n",
       "    </tr>\n",
       "  </thead>\n",
       "  <tbody>\n",
       "    <tr>\n",
       "      <th>74194</th>\n",
       "      <td>2019-11-03 23:56:57.041825</td>\n",
       "      <td>search_1</td>\n",
       "      <td>20850c8f-4135-4059-b13b-198d3ac59902</td>\n",
       "    </tr>\n",
       "    <tr>\n",
       "      <th>74195</th>\n",
       "      <td>2019-11-03 23:57:06.232189</td>\n",
       "      <td>tips_show</td>\n",
       "      <td>28fccdf4-7b9e-42f5-bc73-439a265f20e9</td>\n",
       "    </tr>\n",
       "    <tr>\n",
       "      <th>74196</th>\n",
       "      <td>2019-11-03 23:58:12.532487</td>\n",
       "      <td>tips_show</td>\n",
       "      <td>28fccdf4-7b9e-42f5-bc73-439a265f20e9</td>\n",
       "    </tr>\n",
       "  </tbody>\n",
       "</table>\n",
       "</div>"
      ],
      "text/plain": [
       "                       event.time event.name  \\\n",
       "74194  2019-11-03 23:56:57.041825   search_1   \n",
       "74195  2019-11-03 23:57:06.232189  tips_show   \n",
       "74196  2019-11-03 23:58:12.532487  tips_show   \n",
       "\n",
       "                                    user.id  \n",
       "74194  20850c8f-4135-4059-b13b-198d3ac59902  \n",
       "74195  28fccdf4-7b9e-42f5-bc73-439a265f20e9  \n",
       "74196  28fccdf4-7b9e-42f5-bc73-439a265f20e9  "
      ]
     },
     "execution_count": 21,
     "metadata": {},
     "output_type": "execute_result"
    }
   ],
   "source": [
    "mobile_dataset.tail(3)"
   ]
  },
  {
   "cell_type": "code",
   "execution_count": 22,
   "metadata": {
    "ExecuteTime": {
     "end_time": "2022-11-18T08:52:22.140186Z",
     "start_time": "2022-11-18T08:52:22.079347Z"
    }
   },
   "outputs": [
    {
     "name": "stdout",
     "output_type": "stream",
     "text": [
      "<class 'pandas.core.frame.DataFrame'>\n",
      "RangeIndex: 74197 entries, 0 to 74196\n",
      "Data columns (total 3 columns):\n",
      " #   Column      Non-Null Count  Dtype \n",
      "---  ------      --------------  ----- \n",
      " 0   event.time  74197 non-null  object\n",
      " 1   event.name  74197 non-null  object\n",
      " 2   user.id     74197 non-null  object\n",
      "dtypes: object(3)\n",
      "memory usage: 1.7+ MB\n"
     ]
    }
   ],
   "source": [
    "mobile_dataset.info()"
   ]
  },
  {
   "cell_type": "markdown",
   "metadata": {},
   "source": [
    "При первичном обзоре данных пропусков в датасетах не выявлено.\n",
    "\n",
    "### Предобработка данных\n",
    "\n",
    "В ходе предобработки переименую колонки, проверю на дубликаты, в датасете `mobile_dataset` необходимо будет добавить колонки с датой и временем.\n",
    "\n",
    "**Приведу названия колонок в датасетах к единому стилистическому формату**"
   ]
  },
  {
   "cell_type": "code",
   "execution_count": 23,
   "metadata": {
    "ExecuteTime": {
     "end_time": "2022-11-18T08:52:22.187059Z",
     "start_time": "2022-11-18T08:52:22.175093Z"
    }
   },
   "outputs": [
    {
     "name": "stdout",
     "output_type": "stream",
     "text": [
      "Index(['user_id', 'source'], dtype='object')\n",
      "Index(['event_time', 'event_name', 'user_id'], dtype='object')\n"
     ]
    }
   ],
   "source": [
    "# Приведу все символы в названиях столбцов таблиц к единому стилистическому формату\n",
    "\n",
    "for df in [mobile_sourсes, mobile_dataset]:\n",
    "    df.columns = df.columns.str.replace('.', '_', regex=True)\n",
    "    df.columns = df.columns.str.replace('userId', 'user_id')\n",
    "    print(df.columns)"
   ]
  },
  {
   "cell_type": "code",
   "execution_count": 24,
   "metadata": {
    "ExecuteTime": {
     "end_time": "2022-11-18T08:52:27.855015Z",
     "start_time": "2022-11-18T08:52:27.845042Z"
    }
   },
   "outputs": [],
   "source": [
    "df.columns = df.columns.str.replace('.', '_', regex=True)"
   ]
  },
  {
   "cell_type": "markdown",
   "metadata": {},
   "source": [
    "**Преобразование колонок с датой и временем**\n",
    "\n",
    "Время событий указано с гранулярностью до миллисекунд.\n",
    "\n",
    "Посмотрю на случайное событие по отдельному пользователю, чтобы понять играют ли роль миллисекунды в поведенческом сценарии и нужна ли такая гранулярность в дальнейшем анализе."
   ]
  },
  {
   "cell_type": "code",
   "execution_count": 25,
   "metadata": {
    "ExecuteTime": {
     "end_time": "2022-11-18T08:52:30.220688Z",
     "start_time": "2022-11-18T08:52:27.930813Z"
    }
   },
   "outputs": [
    {
     "data": {
      "text/html": [
       "<div>\n",
       "<style scoped>\n",
       "    .dataframe tbody tr th:only-of-type {\n",
       "        vertical-align: middle;\n",
       "    }\n",
       "\n",
       "    .dataframe tbody tr th {\n",
       "        vertical-align: top;\n",
       "    }\n",
       "\n",
       "    .dataframe thead th {\n",
       "        text-align: right;\n",
       "    }\n",
       "</style>\n",
       "<table border=\"1\" class=\"dataframe\">\n",
       "  <thead>\n",
       "    <tr style=\"text-align: right;\">\n",
       "      <th></th>\n",
       "      <th>event_time</th>\n",
       "      <th>event_name</th>\n",
       "      <th>user_id</th>\n",
       "    </tr>\n",
       "  </thead>\n",
       "  <tbody>\n",
       "    <tr>\n",
       "      <th>421</th>\n",
       "      <td>2019-10-07 11:10:39.701908</td>\n",
       "      <td>map</td>\n",
       "      <td>ed13f6f0-08f4-4561-852e-456580f7a40d</td>\n",
       "    </tr>\n",
       "    <tr>\n",
       "      <th>422</th>\n",
       "      <td>2019-10-07 11:10:39.913731</td>\n",
       "      <td>map</td>\n",
       "      <td>ed13f6f0-08f4-4561-852e-456580f7a40d</td>\n",
       "    </tr>\n",
       "    <tr>\n",
       "      <th>423</th>\n",
       "      <td>2019-10-07 11:10:40.185470</td>\n",
       "      <td>map</td>\n",
       "      <td>ed13f6f0-08f4-4561-852e-456580f7a40d</td>\n",
       "    </tr>\n",
       "    <tr>\n",
       "      <th>424</th>\n",
       "      <td>2019-10-07 11:10:40.604284</td>\n",
       "      <td>map</td>\n",
       "      <td>ed13f6f0-08f4-4561-852e-456580f7a40d</td>\n",
       "    </tr>\n",
       "    <tr>\n",
       "      <th>425</th>\n",
       "      <td>2019-10-07 11:10:40.873885</td>\n",
       "      <td>map</td>\n",
       "      <td>ed13f6f0-08f4-4561-852e-456580f7a40d</td>\n",
       "    </tr>\n",
       "    <tr>\n",
       "      <th>429</th>\n",
       "      <td>2019-10-07 11:11:32.094258</td>\n",
       "      <td>map</td>\n",
       "      <td>ed13f6f0-08f4-4561-852e-456580f7a40d</td>\n",
       "    </tr>\n",
       "  </tbody>\n",
       "</table>\n",
       "</div>"
      ],
      "text/plain": [
       "                     event_time event_name  \\\n",
       "421  2019-10-07 11:10:39.701908        map   \n",
       "422  2019-10-07 11:10:39.913731        map   \n",
       "423  2019-10-07 11:10:40.185470        map   \n",
       "424  2019-10-07 11:10:40.604284        map   \n",
       "425  2019-10-07 11:10:40.873885        map   \n",
       "429  2019-10-07 11:11:32.094258        map   \n",
       "\n",
       "                                  user_id  \n",
       "421  ed13f6f0-08f4-4561-852e-456580f7a40d  \n",
       "422  ed13f6f0-08f4-4561-852e-456580f7a40d  \n",
       "423  ed13f6f0-08f4-4561-852e-456580f7a40d  \n",
       "424  ed13f6f0-08f4-4561-852e-456580f7a40d  \n",
       "425  ed13f6f0-08f4-4561-852e-456580f7a40d  \n",
       "429  ed13f6f0-08f4-4561-852e-456580f7a40d  "
      ]
     },
     "execution_count": 25,
     "metadata": {},
     "output_type": "execute_result"
    }
   ],
   "source": [
    "mobile_dataset[(mobile_dataset['event_name'] == 'map') \n",
    "               & (mobile_dataset['user_id'] == 'ed13f6f0-08f4-4561-852e-456580f7a40d')].head(6)"
   ]
  },
  {
   "cell_type": "markdown",
   "metadata": {},
   "source": [
    "Пользователь зашёл в карту объявления, в строках 421-425 отражено 5 событий за период меньше 1 секунды. Возможно, пользователь скроллил карту, таким образом по своей сути это похоже на одно событие.\n",
    "\n",
    "Таким образом округлю время до секунд, это не избавит датасет от дубликатов (на рассмотренном примере останутся 2 строчки с просмотром карты после удаления дубликатов), но снизит дублирующие события в более чем 2 раза. При дальнейшем анализе отдельно посмотрю как повлияют похожие оставшиеся дубли на результат исследования. "
   ]
  },
  {
   "cell_type": "code",
   "execution_count": 26,
   "metadata": {
    "ExecuteTime": {
     "end_time": "2022-11-18T08:52:30.934777Z",
     "start_time": "2022-11-18T08:52:30.226673Z"
    },
    "scrolled": false
   },
   "outputs": [
    {
     "data": {
      "text/html": [
       "<div>\n",
       "<style scoped>\n",
       "    .dataframe tbody tr th:only-of-type {\n",
       "        vertical-align: middle;\n",
       "    }\n",
       "\n",
       "    .dataframe tbody tr th {\n",
       "        vertical-align: top;\n",
       "    }\n",
       "\n",
       "    .dataframe thead th {\n",
       "        text-align: right;\n",
       "    }\n",
       "</style>\n",
       "<table border=\"1\" class=\"dataframe\">\n",
       "  <thead>\n",
       "    <tr style=\"text-align: right;\">\n",
       "      <th></th>\n",
       "      <th>event_name</th>\n",
       "      <th>user_id</th>\n",
       "      <th>event_date_time</th>\n",
       "      <th>event_date</th>\n",
       "      <th>event_week</th>\n",
       "    </tr>\n",
       "  </thead>\n",
       "  <tbody>\n",
       "    <tr>\n",
       "      <th>0</th>\n",
       "      <td>advert_open</td>\n",
       "      <td>020292ab-89bc-4156-9acf-68bc2783f894</td>\n",
       "      <td>2019-10-07 00:00:00</td>\n",
       "      <td>2019-10-07</td>\n",
       "      <td>41</td>\n",
       "    </tr>\n",
       "    <tr>\n",
       "      <th>1</th>\n",
       "      <td>tips_show</td>\n",
       "      <td>020292ab-89bc-4156-9acf-68bc2783f894</td>\n",
       "      <td>2019-10-07 00:00:01</td>\n",
       "      <td>2019-10-07</td>\n",
       "      <td>41</td>\n",
       "    </tr>\n",
       "    <tr>\n",
       "      <th>2</th>\n",
       "      <td>tips_show</td>\n",
       "      <td>cf7eda61-9349-469f-ac27-e5b6f5ec475c</td>\n",
       "      <td>2019-10-07 00:00:02</td>\n",
       "      <td>2019-10-07</td>\n",
       "      <td>41</td>\n",
       "    </tr>\n",
       "    <tr>\n",
       "      <th>3</th>\n",
       "      <td>tips_show</td>\n",
       "      <td>020292ab-89bc-4156-9acf-68bc2783f894</td>\n",
       "      <td>2019-10-07 00:00:07</td>\n",
       "      <td>2019-10-07</td>\n",
       "      <td>41</td>\n",
       "    </tr>\n",
       "    <tr>\n",
       "      <th>4</th>\n",
       "      <td>advert_open</td>\n",
       "      <td>cf7eda61-9349-469f-ac27-e5b6f5ec475c</td>\n",
       "      <td>2019-10-07 00:00:56</td>\n",
       "      <td>2019-10-07</td>\n",
       "      <td>41</td>\n",
       "    </tr>\n",
       "  </tbody>\n",
       "</table>\n",
       "</div>"
      ],
      "text/plain": [
       "    event_name                               user_id     event_date_time  \\\n",
       "0  advert_open  020292ab-89bc-4156-9acf-68bc2783f894 2019-10-07 00:00:00   \n",
       "1    tips_show  020292ab-89bc-4156-9acf-68bc2783f894 2019-10-07 00:00:01   \n",
       "2    tips_show  cf7eda61-9349-469f-ac27-e5b6f5ec475c 2019-10-07 00:00:02   \n",
       "3    tips_show  020292ab-89bc-4156-9acf-68bc2783f894 2019-10-07 00:00:07   \n",
       "4  advert_open  cf7eda61-9349-469f-ac27-e5b6f5ec475c 2019-10-07 00:00:56   \n",
       "\n",
       "  event_date  event_week  \n",
       "0 2019-10-07          41  \n",
       "1 2019-10-07          41  \n",
       "2 2019-10-07          41  \n",
       "3 2019-10-07          41  \n",
       "4 2019-10-07          41  "
      ]
     },
     "execution_count": 26,
     "metadata": {},
     "output_type": "execute_result"
    }
   ],
   "source": [
    "# Выделение даты и времени, даты, недели в отдельные колонки с изменением типа данных\n",
    "mobile_dataset['event_date_time'] = pd.to_datetime(mobile_dataset['event_time']).dt.round('1S')\n",
    "mobile_dataset['event_date'] = mobile_dataset['event_time'].astype('datetime64[D]')\n",
    "mobile_dataset['event_week'] = mobile_dataset['event_date'].dt.isocalendar().week.astype('int')\n",
    "\n",
    "#Избавлюсь от изначального столбца со временем\n",
    "mobile_dataset = mobile_dataset.drop(columns='event_time')\n",
    "\n",
    "mobile_dataset.head()"
   ]
  },
  {
   "cell_type": "markdown",
   "metadata": {},
   "source": [
    "**Проверка дубликатов**"
   ]
  },
  {
   "cell_type": "code",
   "execution_count": 27,
   "metadata": {
    "ExecuteTime": {
     "end_time": "2022-11-18T08:52:31.014565Z",
     "start_time": "2022-11-18T08:52:30.937771Z"
    }
   },
   "outputs": [
    {
     "name": "stdout",
     "output_type": "stream",
     "text": [
      "Количество явных дубликатов в датасетах\n",
      "mobile_sourсes: 0\n",
      "mobile_dataset: 1118\n"
     ]
    }
   ],
   "source": [
    "print('Количество явных дубликатов в датасетах')\n",
    "print('mobile_sourсes:', mobile_sourсes.duplicated().sum())\n",
    "print('mobile_dataset:', mobile_dataset.duplicated().sum())"
   ]
  },
  {
   "cell_type": "code",
   "execution_count": 28,
   "metadata": {
    "ExecuteTime": {
     "end_time": "2022-11-18T08:52:31.046482Z",
     "start_time": "2022-11-18T08:52:31.018557Z"
    }
   },
   "outputs": [
    {
     "data": {
      "text/plain": [
       "tips_show        40055\n",
       "photos_show      10012\n",
       "advert_open       6164\n",
       "contacts_show     4450\n",
       "map               3881\n",
       "search_1          3506\n",
       "favorites_add     1417\n",
       "search_5          1049\n",
       "tips_click         814\n",
       "search_4           701\n",
       "contacts_call      541\n",
       "search_3           522\n",
       "search_6           460\n",
       "search_2           324\n",
       "search_7           222\n",
       "show_contacts       79\n",
       "Name: event_name, dtype: int64"
      ]
     },
     "execution_count": 28,
     "metadata": {},
     "output_type": "execute_result"
    }
   ],
   "source": [
    "# Проверю датасет по неявным дубликатам, сгруппированным по событиям\n",
    "mobile_dataset['event_name'].value_counts()"
   ]
  },
  {
   "cell_type": "code",
   "execution_count": 29,
   "metadata": {
    "ExecuteTime": {
     "end_time": "2022-11-18T08:52:31.078394Z",
     "start_time": "2022-11-18T08:52:31.048474Z"
    }
   },
   "outputs": [
    {
     "data": {
      "text/plain": [
       "tips_show        40055\n",
       "photos_show      10012\n",
       "advert_open       6164\n",
       "contacts_show     4529\n",
       "map               3881\n",
       "search_1          3506\n",
       "favorites_add     1417\n",
       "search_5          1049\n",
       "tips_click         814\n",
       "search_4           701\n",
       "contacts_call      541\n",
       "search_3           522\n",
       "search_6           460\n",
       "search_2           324\n",
       "search_7           222\n",
       "Name: event_name, dtype: int64"
      ]
     },
     "execution_count": 29,
     "metadata": {},
     "output_type": "execute_result"
    }
   ],
   "source": [
    "# События contacts_show и show_contacts являются неявными дубликатами, объединю их в одно событие:\n",
    "mobile_dataset.loc[mobile_dataset['event_name'] == 'show_contacts', 'event_name'] = 'contacts_show'\n",
    "\n",
    "# Проверю датасет после объединения событий - дубликатов:\n",
    "mobile_dataset['event_name'].value_counts()"
   ]
  },
  {
   "cell_type": "markdown",
   "metadata": {},
   "source": [
    "Неявные дубликаты исправлены, удалю явные дубликаты."
   ]
  },
  {
   "cell_type": "code",
   "execution_count": 30,
   "metadata": {
    "ExecuteTime": {
     "end_time": "2022-11-18T08:52:31.204057Z",
     "start_time": "2022-11-18T08:52:31.081386Z"
    }
   },
   "outputs": [
    {
     "data": {
      "text/plain": [
       "0"
      ]
     },
     "execution_count": 30,
     "metadata": {},
     "output_type": "execute_result"
    }
   ],
   "source": [
    "mobile_dataset = mobile_dataset.drop_duplicates()\n",
    "# Проверю датасет:\n",
    "mobile_dataset.duplicated().sum()"
   ]
  },
  {
   "cell_type": "code",
   "execution_count": 31,
   "metadata": {
    "ExecuteTime": {
     "end_time": "2022-11-18T08:52:31.220015Z",
     "start_time": "2022-11-18T08:52:31.207050Z"
    }
   },
   "outputs": [
    {
     "data": {
      "text/plain": [
       "yandex    1934\n",
       "other     1230\n",
       "google    1129\n",
       "Name: source, dtype: int64"
      ]
     },
     "execution_count": 31,
     "metadata": {},
     "output_type": "execute_result"
    }
   ],
   "source": [
    "# Проверю датасет mobile_sources на неявные дубликаты, сгруппировав по источникам привлечения пользователей\n",
    "mobile_sourсes['source'].value_counts()"
   ]
  },
  {
   "cell_type": "markdown",
   "metadata": {},
   "source": [
    "**Объединение датасетов**\n",
    "\n",
    "Для дальнейшего анализа объединю два датасета `mobile_dataset` и `mobile_sourсes` в один по общему полю - `user_id`.\n",
    "\n",
    "Сначала убежусь, что пользователи в датафрейме mobile_sources не повторяются, чтобы в дальнейшем анализе не  задублировались события."
   ]
  },
  {
   "cell_type": "code",
   "execution_count": 32,
   "metadata": {
    "ExecuteTime": {
     "end_time": "2022-11-18T08:52:31.235973Z",
     "start_time": "2022-11-18T08:52:31.223008Z"
    }
   },
   "outputs": [
    {
     "name": "stdout",
     "output_type": "stream",
     "text": [
      "Число уникальных пользователей: 4293\n",
      "Число строк в датафрейме: (4293, 2)\n"
     ]
    }
   ],
   "source": [
    "print('Число уникальных пользователей:', mobile_sourсes['user_id'].nunique())\n",
    "print('Число строк в датафрейме:', mobile_sourсes.shape)"
   ]
  },
  {
   "cell_type": "markdown",
   "metadata": {},
   "source": [
    "Число уникальных пользователей совпадает с числом строк в датафрейме - объединю датасеты и поменяю порядок колонок для удобства."
   ]
  },
  {
   "cell_type": "code",
   "execution_count": 33,
   "metadata": {
    "ExecuteTime": {
     "end_time": "2022-11-18T08:52:31.442420Z",
     "start_time": "2022-11-18T08:52:31.238965Z"
    }
   },
   "outputs": [
    {
     "data": {
      "text/html": [
       "<div>\n",
       "<style scoped>\n",
       "    .dataframe tbody tr th:only-of-type {\n",
       "        vertical-align: middle;\n",
       "    }\n",
       "\n",
       "    .dataframe tbody tr th {\n",
       "        vertical-align: top;\n",
       "    }\n",
       "\n",
       "    .dataframe thead th {\n",
       "        text-align: right;\n",
       "    }\n",
       "</style>\n",
       "<table border=\"1\" class=\"dataframe\">\n",
       "  <thead>\n",
       "    <tr style=\"text-align: right;\">\n",
       "      <th></th>\n",
       "      <th>user_id</th>\n",
       "      <th>source</th>\n",
       "      <th>event_name</th>\n",
       "      <th>event_date_time</th>\n",
       "      <th>event_date</th>\n",
       "      <th>event_week</th>\n",
       "    </tr>\n",
       "  </thead>\n",
       "  <tbody>\n",
       "    <tr>\n",
       "      <th>0</th>\n",
       "      <td>020292ab-89bc-4156-9acf-68bc2783f894</td>\n",
       "      <td>other</td>\n",
       "      <td>advert_open</td>\n",
       "      <td>2019-10-07 00:00:00</td>\n",
       "      <td>2019-10-07</td>\n",
       "      <td>41</td>\n",
       "    </tr>\n",
       "    <tr>\n",
       "      <th>1</th>\n",
       "      <td>020292ab-89bc-4156-9acf-68bc2783f894</td>\n",
       "      <td>other</td>\n",
       "      <td>tips_show</td>\n",
       "      <td>2019-10-07 00:00:01</td>\n",
       "      <td>2019-10-07</td>\n",
       "      <td>41</td>\n",
       "    </tr>\n",
       "    <tr>\n",
       "      <th>2</th>\n",
       "      <td>cf7eda61-9349-469f-ac27-e5b6f5ec475c</td>\n",
       "      <td>yandex</td>\n",
       "      <td>tips_show</td>\n",
       "      <td>2019-10-07 00:00:02</td>\n",
       "      <td>2019-10-07</td>\n",
       "      <td>41</td>\n",
       "    </tr>\n",
       "  </tbody>\n",
       "</table>\n",
       "</div>"
      ],
      "text/plain": [
       "                                user_id  source   event_name  \\\n",
       "0  020292ab-89bc-4156-9acf-68bc2783f894   other  advert_open   \n",
       "1  020292ab-89bc-4156-9acf-68bc2783f894   other    tips_show   \n",
       "2  cf7eda61-9349-469f-ac27-e5b6f5ec475c  yandex    tips_show   \n",
       "\n",
       "      event_date_time event_date  event_week  \n",
       "0 2019-10-07 00:00:00 2019-10-07          41  \n",
       "1 2019-10-07 00:00:01 2019-10-07          41  \n",
       "2 2019-10-07 00:00:02 2019-10-07          41  "
      ]
     },
     "execution_count": 33,
     "metadata": {},
     "output_type": "execute_result"
    }
   ],
   "source": [
    "mobile = mobile_dataset.merge(mobile_sourсes, on='user_id', how='left')[['user_id', \n",
    "                                'source', 'event_name', 'event_date_time', 'event_date', 'event_week']]\n",
    "\n",
    "# Проверю полученный датафрейм\n",
    "mobile.head(3)"
   ]
  },
  {
   "cell_type": "code",
   "execution_count": 34,
   "metadata": {
    "ExecuteTime": {
     "end_time": "2022-11-18T08:52:31.538165Z",
     "start_time": "2022-11-18T08:52:31.449402Z"
    }
   },
   "outputs": [
    {
     "name": "stdout",
     "output_type": "stream",
     "text": [
      "<class 'pandas.core.frame.DataFrame'>\n",
      "Int64Index: 73079 entries, 0 to 73078\n",
      "Data columns (total 6 columns):\n",
      " #   Column           Non-Null Count  Dtype         \n",
      "---  ------           --------------  -----         \n",
      " 0   user_id          73079 non-null  object        \n",
      " 1   source           73079 non-null  object        \n",
      " 2   event_name       73079 non-null  object        \n",
      " 3   event_date_time  73079 non-null  datetime64[ns]\n",
      " 4   event_date       73079 non-null  datetime64[ns]\n",
      " 5   event_week       73079 non-null  int32         \n",
      "dtypes: datetime64[ns](2), int32(1), object(3)\n",
      "memory usage: 3.6+ MB\n"
     ]
    }
   ],
   "source": [
    "# Проверю типы данных\n",
    "mobile.info()"
   ]
  },
  {
   "cell_type": "code",
   "execution_count": null,
   "metadata": {},
   "outputs": [],
   "source": []
  },
  {
   "cell_type": "markdown",
   "metadata": {},
   "source": [
    "**Вывод:**\n",
    "\n",
    "Предобработка данных проведена:\n",
    "- названия колонок приведены к единому стилистическому формату\n",
    "- исключены явные и неявные дубликаты\n",
    "- пропуски не обнаружны\n",
    "- данные о времени событий преведены к временному типу `datetime` и вынесены в отдельные колонки - `event_date_time`, `event_date` \n",
    "- время событий округлено до секунд"
   ]
  },
  {
   "cell_type": "markdown",
   "metadata": {},
   "source": [
    "[Оглавление](#section_id)"
   ]
  },
  {
   "cell_type": "markdown",
   "metadata": {},
   "source": [
    "## Исследовательский анализ данных (EDA)\n",
    "<a id='section_id2'></a>\n",
    "\n",
    "### Количество событий в датасете\n",
    "\n",
    "Сколько всего событий в датасете?"
   ]
  },
  {
   "cell_type": "code",
   "execution_count": 35,
   "metadata": {
    "ExecuteTime": {
     "end_time": "2022-11-18T08:52:31.570078Z",
     "start_time": "2022-11-18T08:52:31.541156Z"
    }
   },
   "outputs": [
    {
     "name": "stdout",
     "output_type": "stream",
     "text": [
      "Число событий: 73079\n",
      "\n",
      "Детализация по видам событий\n",
      "tips_show        39892\n",
      "photos_show       9372\n",
      "advert_open       6145\n",
      "contacts_show     4381\n",
      "map               3760\n",
      "search_1          3489\n",
      "favorites_add     1414\n",
      "search_5          1049\n",
      "tips_click         811\n",
      "search_4           701\n",
      "contacts_call      538\n",
      "search_3           521\n",
      "search_6           460\n",
      "search_2           324\n",
      "search_7           222\n",
      "Name: event_name, dtype: int64\n"
     ]
    }
   ],
   "source": [
    "print('Число событий:',mobile['event_name'].count())\n",
    "print('')\n",
    "print('Детализация по видам событий')\n",
    "print(mobile['event_name'].value_counts())"
   ]
  },
  {
   "cell_type": "markdown",
   "metadata": {},
   "source": [
    "**Вывод:**\n",
    "\n",
    "В датасете представлено 15 видов событий c общим количеством взаимодействий 73079. \n",
    "- Есть событие-лидер, которое совершают наибольшее число раз - `tips_show`, данное событие по числу взаимодействий больше, чем все остальные события вместе взятые. \n",
    "- Далее идут 5 событий, индивидуально набирающие более 3 тыс. взаимодействий это `photos_show`, `advert_open`, `contacts_show`, `map`, `search_1`. \n",
    "- С 7 по 15 место находятся события, получающие существенно меньше взаимодействий. \n",
    "\n",
    "Отдельно стоит заметить, что все события, связанные с поиском (2-7) не пользуются популярностью. Их нужно либо доработать, либо проработать вопрос, чтобы вовсе убрать из приложения. Это позволит не тратить силы на их поддержку, а также потенциально сделает приложение легче."
   ]
  },
  {
   "cell_type": "markdown",
   "metadata": {},
   "source": [
    "### Число пользователей в датасете\n",
    "\n",
    "Сколько всего пользователей в датасете?"
   ]
  },
  {
   "cell_type": "code",
   "execution_count": 36,
   "metadata": {
    "ExecuteTime": {
     "end_time": "2022-11-18T08:52:31.600996Z",
     "start_time": "2022-11-18T08:52:31.573073Z"
    }
   },
   "outputs": [
    {
     "data": {
      "text/plain": [
       "user_id    4293\n",
       "dtype: int64"
      ]
     },
     "execution_count": 36,
     "metadata": {},
     "output_type": "execute_result"
    }
   ],
   "source": [
    "mobile[['user_id']].nunique()"
   ]
  },
  {
   "cell_type": "markdown",
   "metadata": {},
   "source": [
    "**Вывод:**\n",
    "\n",
    "В датасете 4293 уникальных пользователя."
   ]
  },
  {
   "cell_type": "markdown",
   "metadata": {},
   "source": [
    "### Количество событий на одного пользователя\n",
    "\n",
    "Сколько в среднем событий приходится на одного пользователя?\n",
    "\n",
    "Перед тем как посчитать среденее количество событий на 1 пользователя посмотрю как события распределяются между ними."
   ]
  },
  {
   "cell_type": "code",
   "execution_count": 86,
   "metadata": {
    "ExecuteTime": {
     "end_time": "2022-11-18T09:13:19.298326Z",
     "start_time": "2022-11-18T09:13:19.253483Z"
    }
   },
   "outputs": [
    {
     "data": {
      "text/html": [
       "<div>\n",
       "<style scoped>\n",
       "    .dataframe tbody tr th:only-of-type {\n",
       "        vertical-align: middle;\n",
       "    }\n",
       "\n",
       "    .dataframe tbody tr th {\n",
       "        vertical-align: top;\n",
       "    }\n",
       "\n",
       "    .dataframe thead th {\n",
       "        text-align: right;\n",
       "    }\n",
       "</style>\n",
       "<table border=\"1\" class=\"dataframe\">\n",
       "  <thead>\n",
       "    <tr style=\"text-align: right;\">\n",
       "      <th></th>\n",
       "      <th>event_name</th>\n",
       "    </tr>\n",
       "  </thead>\n",
       "  <tbody>\n",
       "    <tr>\n",
       "      <th>count</th>\n",
       "      <td>4,293.00</td>\n",
       "    </tr>\n",
       "    <tr>\n",
       "      <th>mean</th>\n",
       "      <td>17.02</td>\n",
       "    </tr>\n",
       "    <tr>\n",
       "      <th>std</th>\n",
       "      <td>28.62</td>\n",
       "    </tr>\n",
       "    <tr>\n",
       "      <th>min</th>\n",
       "      <td>1.00</td>\n",
       "    </tr>\n",
       "    <tr>\n",
       "      <th>25%</th>\n",
       "      <td>5.00</td>\n",
       "    </tr>\n",
       "    <tr>\n",
       "      <th>50%</th>\n",
       "      <td>9.00</td>\n",
       "    </tr>\n",
       "    <tr>\n",
       "      <th>75%</th>\n",
       "      <td>17.00</td>\n",
       "    </tr>\n",
       "    <tr>\n",
       "      <th>max</th>\n",
       "      <td>472.00</td>\n",
       "    </tr>\n",
       "  </tbody>\n",
       "</table>\n",
       "</div>"
      ],
      "text/plain": [
       "       event_name\n",
       "count    4,293.00\n",
       "mean        17.02\n",
       "std         28.62\n",
       "min          1.00\n",
       "25%          5.00\n",
       "50%          9.00\n",
       "75%         17.00\n",
       "max        472.00"
      ]
     },
     "execution_count": 86,
     "metadata": {},
     "output_type": "execute_result"
    }
   ],
   "source": [
    "mobile.groupby('user_id').agg({'event_name':'count'}).describe()"
   ]
  },
  {
   "cell_type": "markdown",
   "metadata": {},
   "source": [
    "Из полченного описания данных видно, что число событий в разрезе пользователей может сильно отличаться: \n",
    "- стандартное отклонение 28.6\n",
    "- среднее число событий 17\n",
    "- медиана 9\n",
    "- также есть пользователи с очень большим числом событий.\n",
    "\n",
    "Построю гистограмму распределения числа событий по пользователям, отсеку пользователей с большим числом событий (число событий в 3ем квартиле * 1.5 и добавлю небольшой запас для наглядности)"
   ]
  },
  {
   "cell_type": "code",
   "execution_count": 97,
   "metadata": {
    "ExecuteTime": {
     "end_time": "2022-11-18T09:23:59.959136Z",
     "start_time": "2022-11-18T09:23:58.939890Z"
    }
   },
   "outputs": [
    {
     "data": {
      "image/png": "[encoded data removed]",
      "text/plain": [
       "<Figure size 2500x700 with 1 Axes>"
      ]
     },
     "metadata": {},
     "output_type": "display_data"
    },
    {
     "name": "stdout",
     "output_type": "stream",
     "text": [
      "В среднем на 1 пользователя приходится 17 событий\n"
     ]
    }
   ],
   "source": [
    "plt.subplots(figsize=(25, 7))\n",
    "sns.histplot(mobile.groupby('user_id').agg({'event_name':'count'})['event_name'], kde=True)\n",
    "plt.xlim(0, 50)\n",
    "plt.title('Гистограмма рспределения числа событий по пользователям')\n",
    "plt.xlabel('Число событий')\n",
    "plt.ylabel('Число пользователей')\n",
    "\n",
    "plt.show()\n",
    "\n",
    "print('В среднем на 1 пользователя приходится %d событий' %\n",
    "      (mobile['event_name'].count() / mobile['user_id'].nunique()))"
   ]
  },
  {
   "cell_type": "markdown",
   "metadata": {},
   "source": [
    "### Временной период исследования\n",
    "\n",
    "Данные за какой период представлены в датасете? Найти максимальную и минимальную дату. Построить гистограмму по дате и времени."
   ]
  },
  {
   "cell_type": "code",
   "execution_count": 38,
   "metadata": {
    "ExecuteTime": {
     "end_time": "2022-11-18T08:52:31.711734Z",
     "start_time": "2022-11-18T08:52:31.634908Z"
    }
   },
   "outputs": [
    {
     "name": "stdout",
     "output_type": "stream",
     "text": [
      "Минимальная дата: 2019-10-07 00:00:00\n",
      "Максимальная дата: 2019-11-03 23:58:13\n"
     ]
    }
   ],
   "source": [
    "print('Минимальная дата:', mobile['event_date_time'].min())\n",
    "print('Максимальная дата:', mobile['event_date_time'].max())"
   ]
  },
  {
   "cell_type": "code",
   "execution_count": 39,
   "metadata": {
    "ExecuteTime": {
     "end_time": "2022-11-18T08:52:33.456038Z",
     "start_time": "2022-11-18T08:52:31.713696Z"
    }
   },
   "outputs": [
    {
     "data": {
      "image/png": "[encoded data removed]",
      "text/plain": [
       "<Figure size 2500x600 with 1 Axes>"
      ]
     },
     "metadata": {},
     "output_type": "display_data"
    }
   ],
   "source": [
    "# Задаю размер графика:\n",
    "plt.subplots(figsize=(25, 6))\n",
    "# Строю гистограму\n",
    "sns.histplot(mobile['event_date_time'], bins=50)\n",
    "\n",
    "plt.title('Гистограмма по дате и времени')\n",
    "plt.xlabel('Дата')\n",
    "plt.ylabel('Частота')\n",
    "plt.xticks(rotation=30)\n",
    "plt.show()"
   ]
  },
  {
   "cell_type": "markdown",
   "metadata": {},
   "source": [
    "**Вывод:**\n",
    "\n",
    "Данные в датасете представлены за период с 07.10.2019 по 03.11.2019. Распределение событий по времени показывает, что есть отдельные пики использования приложения, но в общем и целом приложением пользуются однородно на всём временном отрезке."
   ]
  },
  {
   "cell_type": "markdown",
   "metadata": {},
   "source": [
    "### Бизнес-метрики\n",
    "\n",
    "\n",
    "**DAU / WAU**\n",
    "\n",
    "Рассчитать и визуализировать DAU / WAU в представленном датасете - есть ли закономерности в пользовательском поведении?"
   ]
  },
  {
   "cell_type": "code",
   "execution_count": 40,
   "metadata": {
    "ExecuteTime": {
     "end_time": "2022-11-18T08:52:33.599650Z",
     "start_time": "2022-11-18T08:52:33.459034Z"
    }
   },
   "outputs": [],
   "source": [
    "# Посчитаю метрики DAU и WAU: \n",
    "dau = (mobile.groupby('event_date').agg({'user_id':'nunique'})).rename(columns={'user_id':'dau'})\n",
    "window = 7\n",
    "dau['dau_mean'] = dau['dau'].rolling(window).mean()\n",
    "wau = (mobile.groupby('event_week').agg({'user_id':'nunique'})).rename(columns={'user_id':'wau'})"
   ]
  },
  {
   "cell_type": "code",
   "execution_count": 41,
   "metadata": {
    "ExecuteTime": {
     "end_time": "2022-11-18T08:52:34.838341Z",
     "start_time": "2022-11-18T08:52:33.601651Z"
    },
    "scrolled": true
   },
   "outputs": [
    {
     "data": {
      "image/png": "[encoded data removed]",
      "text/plain": [
       "<Figure size 2000x500 with 2 Axes>"
      ]
     },
     "metadata": {},
     "output_type": "display_data"
    }
   ],
   "source": [
    "# Нарисую графики DAU и WAU\n",
    "fig = plt.figure(figsize=(20, 5))\n",
    "fig.suptitle('DAU и WAU')\n",
    "\n",
    "ax_1 = fig.add_subplot(1, 2, 1)\n",
    "ax_2 = fig.add_subplot(1, 2, 2)\n",
    "dau.plot(grid = True, ax=ax_1).set(title='DAU')\n",
    "wau.plot(grid = True, legend = False, ax=ax_2).set(title='WAU')\n",
    "plt.show()\n",
    "\n",
    "#После расчёта метрик оставлю только те столбцы, которые понадобятся в дальнейшем исследовании:\n",
    "mobile = mobile[['user_id', 'source', 'event_name', 'event_date_time']]"
   ]
  },
  {
   "cell_type": "markdown",
   "metadata": {},
   "source": [
    "**Вывод:**\n",
    "\n",
    "Показатели метрик DAU и WAU растут на изученном периоде, но стоит отметить, что к концу октября 2019 наметился тренд на снижение пользовательской активности. Возможно, всплеск объясняется рекламными кампаниями в начале октября, а возможно к концу октября разработчики выкатили обновление с новыми фичами, которые не понравились части пользователей, нужно обсудить с разработчиками."
   ]
  },
  {
   "cell_type": "markdown",
   "metadata": {},
   "source": [
    "[Оглавление](#section_id)"
   ]
  },
  {
   "cell_type": "markdown",
   "metadata": {},
   "source": [
    "## Поведенческие сценарии\n",
    "<a id='section_id3'></a>\n",
    "\n",
    "### Виды событий\n",
    "Посмотреть, какие события есть в датасете, как часто они встречаются. Отсортировать события по частоте."
   ]
  },
  {
   "cell_type": "code",
   "execution_count": 100,
   "metadata": {
    "ExecuteTime": {
     "end_time": "2022-11-18T09:33:00.841234Z",
     "start_time": "2022-11-18T09:33:00.455564Z"
    }
   },
   "outputs": [
    {
     "data": {
      "image/png": "[encoded data removed]",
      "text/plain": [
       "<Figure size 1000x300 with 1 Axes>"
      ]
     },
     "metadata": {},
     "output_type": "display_data"
    }
   ],
   "source": [
    "events_quantity = mobile[['event_name', 'user_id']].groupby(['event_name']).count()\\\n",
    "    .sort_values(by='user_id', ascending=False)\n",
    "events_quantity.plot(kind='bar', legend=False, title='Число событий по видам', figsize=(10, 3))\\\n",
    "    .set_xlabel('Наименование события')\n",
    "plt.xticks(rotation=50)\n",
    "plt.show()"
   ]
  },
  {
   "cell_type": "markdown",
   "metadata": {},
   "source": [
    "**Вывод:**\n",
    "\n",
    "`tips_show` - самый полпулярный вид события, как следует из описания данных - это техническое автоматическое событие, выполняемое приложением автоматически."
   ]
  },
  {
   "cell_type": "markdown",
   "metadata": {},
   "source": [
    "### Уникальные пользователя в разрезе событий \n",
    "Посчитать, сколько уникальных пользователей совершали каждое из этих событий. Отсортируйте события по числу уникальных пользователей."
   ]
  },
  {
   "cell_type": "code",
   "execution_count": 101,
   "metadata": {
    "ExecuteTime": {
     "end_time": "2022-11-18T09:34:04.054140Z",
     "start_time": "2022-11-18T09:34:03.702109Z"
    },
    "scrolled": false
   },
   "outputs": [
    {
     "name": "stdout",
     "output_type": "stream",
     "text": [
      "Число уникальных пользователей: 4293\n"
     ]
    },
    {
     "data": {
      "image/png": "[encoded data removed]",
      "text/plain": [
       "<Figure size 1000x300 with 1 Axes>"
      ]
     },
     "metadata": {},
     "output_type": "display_data"
    }
   ],
   "source": [
    "print('Число уникальных пользователей:', mobile['user_id'].nunique())\n",
    "\n",
    "(mobile.groupby(['event_name'])['user_id'].nunique().sort_values(ascending=False)\n",
    "     .plot(kind='bar', legend=False, title='Число уникальных пользователей по видам событий', figsize=(10, 3)))\n",
    "plt.xlabel('Наименование события')\n",
    "plt.ylabel('Число уникальных пользователей')\n",
    "plt.xticks(rotation=50)\n",
    "plt.show()"
   ]
  },
  {
   "cell_type": "markdown",
   "metadata": {},
   "source": [
    "**Вывод:**\n",
    "\n",
    "Уникальные пользователи распределяются по видам событий аналогичным образом больше всего сталкиваются с автоматическим событием `tips_show`, далее идут события `map`, `photos_show`, `contacts_show` с каждым из которых взаимодействовали более тысячи пользователей. остальные события, в том числе 7 видов `search` менее популярны."
   ]
  },
  {
   "cell_type": "markdown",
   "metadata": {},
   "source": [
    "### Пользовательские сессии\n",
    "\n",
    "Разбить все события на сессии в разрезе уникальных пользователей. На основе сессий предположить, в каком порядке происходят события. Выявить поведенческие сценарии, их количество."
   ]
  },
  {
   "cell_type": "code",
   "execution_count": 44,
   "metadata": {
    "ExecuteTime": {
     "end_time": "2022-11-18T08:52:36.156814Z",
     "start_time": "2022-11-18T08:52:35.981282Z"
    },
    "scrolled": false
   },
   "outputs": [
    {
     "data": {
      "text/html": [
       "<div>\n",
       "<style scoped>\n",
       "    .dataframe tbody tr th:only-of-type {\n",
       "        vertical-align: middle;\n",
       "    }\n",
       "\n",
       "    .dataframe tbody tr th {\n",
       "        vertical-align: top;\n",
       "    }\n",
       "\n",
       "    .dataframe thead th {\n",
       "        text-align: right;\n",
       "    }\n",
       "</style>\n",
       "<table border=\"1\" class=\"dataframe\">\n",
       "  <thead>\n",
       "    <tr style=\"text-align: right;\">\n",
       "      <th></th>\n",
       "      <th>user_id</th>\n",
       "      <th>source</th>\n",
       "      <th>event_name</th>\n",
       "      <th>event_date_time</th>\n",
       "      <th>session_id</th>\n",
       "    </tr>\n",
       "  </thead>\n",
       "  <tbody>\n",
       "    <tr>\n",
       "      <th>0</th>\n",
       "      <td>0001b1d5-b74a-4cbf-aeb0-7df5947bf349</td>\n",
       "      <td>other</td>\n",
       "      <td>tips_show</td>\n",
       "      <td>2019-10-07 13:39:46</td>\n",
       "      <td>1</td>\n",
       "    </tr>\n",
       "    <tr>\n",
       "      <th>1</th>\n",
       "      <td>0001b1d5-b74a-4cbf-aeb0-7df5947bf349</td>\n",
       "      <td>other</td>\n",
       "      <td>tips_show</td>\n",
       "      <td>2019-10-07 13:40:31</td>\n",
       "      <td>1</td>\n",
       "    </tr>\n",
       "    <tr>\n",
       "      <th>2</th>\n",
       "      <td>0001b1d5-b74a-4cbf-aeb0-7df5947bf349</td>\n",
       "      <td>other</td>\n",
       "      <td>tips_show</td>\n",
       "      <td>2019-10-07 13:41:06</td>\n",
       "      <td>1</td>\n",
       "    </tr>\n",
       "  </tbody>\n",
       "</table>\n",
       "</div>"
      ],
      "text/plain": [
       "                                user_id source event_name     event_date_time  \\\n",
       "0  0001b1d5-b74a-4cbf-aeb0-7df5947bf349  other  tips_show 2019-10-07 13:39:46   \n",
       "1  0001b1d5-b74a-4cbf-aeb0-7df5947bf349  other  tips_show 2019-10-07 13:40:31   \n",
       "2  0001b1d5-b74a-4cbf-aeb0-7df5947bf349  other  tips_show 2019-10-07 13:41:06   \n",
       "\n",
       "   session_id  \n",
       "0           1  \n",
       "1           1  \n",
       "2           1  "
      ]
     },
     "execution_count": 44,
     "metadata": {},
     "output_type": "execute_result"
    }
   ],
   "source": [
    "# Сортирую датафрейм по пользователям и времени\n",
    "mobile = mobile.sort_values(by=['user_id', 'event_date_time']).reset_index(drop=True)\n",
    "\n",
    "# Задаю тайм-аут сессии:\n",
    "step = '15Min'\n",
    "# Идентификация тайм-аута сессии между событиями:\n",
    "interval = (mobile.groupby('user_id')['event_date_time'].diff() > pd.Timedelta(step)).cumsum()\n",
    "# Добавление сессий в датафрейм:\n",
    "mobile['session_id'] = mobile.groupby(['user_id', interval], sort=False).ngroup() + 1\n",
    "\n",
    "mobile.head(3)"
   ]
  },
  {
   "cell_type": "markdown",
   "metadata": {},
   "source": [
    "На основании снижающегося стандартного отклонения и диаграммы размаха длин сессий, (анализ ниже) выявлен оптимальный тайм-аут сессии в 15 минут."
   ]
  },
  {
   "cell_type": "code",
   "execution_count": 45,
   "metadata": {
    "ExecuteTime": {
     "end_time": "2022-11-18T08:52:36.184737Z",
     "start_time": "2022-11-18T08:52:36.160805Z"
    },
    "scrolled": true
   },
   "outputs": [
    {
     "data": {
      "text/plain": [
       "6914     139\n",
       "8640     129\n",
       "7756     127\n",
       "7633     112\n",
       "11032    104\n",
       "10456    104\n",
       "188      100\n",
       "330       97\n",
       "10171     93\n",
       "6539      91\n",
       "Name: session_id, dtype: int64"
      ]
     },
     "execution_count": 45,
     "metadata": {},
     "output_type": "execute_result"
    }
   ],
   "source": [
    "# Посмотрю на количество событий в разрезе сессий с самым большим количеством событий\n",
    "mobile['session_id'].value_counts().head(10)"
   ]
  },
  {
   "cell_type": "markdown",
   "metadata": {},
   "source": [
    "Отдельно посмотрю на сессию с самым большим числом событий"
   ]
  },
  {
   "cell_type": "code",
   "execution_count": 46,
   "metadata": {
    "ExecuteTime": {
     "end_time": "2022-11-18T08:52:36.232609Z",
     "start_time": "2022-11-18T08:52:36.187731Z"
    }
   },
   "outputs": [
    {
     "data": {
      "text/html": [
       "<div>\n",
       "<style scoped>\n",
       "    .dataframe tbody tr th:only-of-type {\n",
       "        vertical-align: middle;\n",
       "    }\n",
       "\n",
       "    .dataframe tbody tr th {\n",
       "        vertical-align: top;\n",
       "    }\n",
       "\n",
       "    .dataframe thead th {\n",
       "        text-align: right;\n",
       "    }\n",
       "</style>\n",
       "<table border=\"1\" class=\"dataframe\">\n",
       "  <thead>\n",
       "    <tr style=\"text-align: right;\">\n",
       "      <th></th>\n",
       "      <th>user_id</th>\n",
       "      <th>source</th>\n",
       "      <th>event_name</th>\n",
       "      <th>event_date_time</th>\n",
       "      <th>session_id</th>\n",
       "    </tr>\n",
       "  </thead>\n",
       "  <tbody>\n",
       "    <tr>\n",
       "      <th>43260</th>\n",
       "      <td>9ce63488-758a-481a-bcb5-a02b467e1d84</td>\n",
       "      <td>yandex</td>\n",
       "      <td>tips_show</td>\n",
       "      <td>2019-10-08 15:44:03</td>\n",
       "      <td>6914</td>\n",
       "    </tr>\n",
       "    <tr>\n",
       "      <th>43261</th>\n",
       "      <td>9ce63488-758a-481a-bcb5-a02b467e1d84</td>\n",
       "      <td>yandex</td>\n",
       "      <td>tips_show</td>\n",
       "      <td>2019-10-08 15:46:28</td>\n",
       "      <td>6914</td>\n",
       "    </tr>\n",
       "    <tr>\n",
       "      <th>43262</th>\n",
       "      <td>9ce63488-758a-481a-bcb5-a02b467e1d84</td>\n",
       "      <td>yandex</td>\n",
       "      <td>tips_show</td>\n",
       "      <td>2019-10-08 15:48:20</td>\n",
       "      <td>6914</td>\n",
       "    </tr>\n",
       "    <tr>\n",
       "      <th>43263</th>\n",
       "      <td>9ce63488-758a-481a-bcb5-a02b467e1d84</td>\n",
       "      <td>yandex</td>\n",
       "      <td>tips_show</td>\n",
       "      <td>2019-10-08 15:48:47</td>\n",
       "      <td>6914</td>\n",
       "    </tr>\n",
       "    <tr>\n",
       "      <th>43264</th>\n",
       "      <td>9ce63488-758a-481a-bcb5-a02b467e1d84</td>\n",
       "      <td>yandex</td>\n",
       "      <td>tips_show</td>\n",
       "      <td>2019-10-08 15:49:32</td>\n",
       "      <td>6914</td>\n",
       "    </tr>\n",
       "    <tr>\n",
       "      <th>...</th>\n",
       "      <td>...</td>\n",
       "      <td>...</td>\n",
       "      <td>...</td>\n",
       "      <td>...</td>\n",
       "      <td>...</td>\n",
       "    </tr>\n",
       "    <tr>\n",
       "      <th>43394</th>\n",
       "      <td>9ce63488-758a-481a-bcb5-a02b467e1d84</td>\n",
       "      <td>yandex</td>\n",
       "      <td>map</td>\n",
       "      <td>2019-10-08 16:54:14</td>\n",
       "      <td>6914</td>\n",
       "    </tr>\n",
       "    <tr>\n",
       "      <th>43395</th>\n",
       "      <td>9ce63488-758a-481a-bcb5-a02b467e1d84</td>\n",
       "      <td>yandex</td>\n",
       "      <td>favorites_add</td>\n",
       "      <td>2019-10-08 16:54:32</td>\n",
       "      <td>6914</td>\n",
       "    </tr>\n",
       "    <tr>\n",
       "      <th>43396</th>\n",
       "      <td>9ce63488-758a-481a-bcb5-a02b467e1d84</td>\n",
       "      <td>yandex</td>\n",
       "      <td>favorites_add</td>\n",
       "      <td>2019-10-08 16:54:36</td>\n",
       "      <td>6914</td>\n",
       "    </tr>\n",
       "    <tr>\n",
       "      <th>43397</th>\n",
       "      <td>9ce63488-758a-481a-bcb5-a02b467e1d84</td>\n",
       "      <td>yandex</td>\n",
       "      <td>favorites_add</td>\n",
       "      <td>2019-10-08 16:54:43</td>\n",
       "      <td>6914</td>\n",
       "    </tr>\n",
       "    <tr>\n",
       "      <th>43398</th>\n",
       "      <td>9ce63488-758a-481a-bcb5-a02b467e1d84</td>\n",
       "      <td>yandex</td>\n",
       "      <td>favorites_add</td>\n",
       "      <td>2019-10-08 16:54:53</td>\n",
       "      <td>6914</td>\n",
       "    </tr>\n",
       "  </tbody>\n",
       "</table>\n",
       "<p>139 rows × 5 columns</p>\n",
       "</div>"
      ],
      "text/plain": [
       "                                    user_id  source     event_name  \\\n",
       "43260  9ce63488-758a-481a-bcb5-a02b467e1d84  yandex      tips_show   \n",
       "43261  9ce63488-758a-481a-bcb5-a02b467e1d84  yandex      tips_show   \n",
       "43262  9ce63488-758a-481a-bcb5-a02b467e1d84  yandex      tips_show   \n",
       "43263  9ce63488-758a-481a-bcb5-a02b467e1d84  yandex      tips_show   \n",
       "43264  9ce63488-758a-481a-bcb5-a02b467e1d84  yandex      tips_show   \n",
       "...                                     ...     ...            ...   \n",
       "43394  9ce63488-758a-481a-bcb5-a02b467e1d84  yandex            map   \n",
       "43395  9ce63488-758a-481a-bcb5-a02b467e1d84  yandex  favorites_add   \n",
       "43396  9ce63488-758a-481a-bcb5-a02b467e1d84  yandex  favorites_add   \n",
       "43397  9ce63488-758a-481a-bcb5-a02b467e1d84  yandex  favorites_add   \n",
       "43398  9ce63488-758a-481a-bcb5-a02b467e1d84  yandex  favorites_add   \n",
       "\n",
       "          event_date_time  session_id  \n",
       "43260 2019-10-08 15:44:03        6914  \n",
       "43261 2019-10-08 15:46:28        6914  \n",
       "43262 2019-10-08 15:48:20        6914  \n",
       "43263 2019-10-08 15:48:47        6914  \n",
       "43264 2019-10-08 15:49:32        6914  \n",
       "...                   ...         ...  \n",
       "43394 2019-10-08 16:54:14        6914  \n",
       "43395 2019-10-08 16:54:32        6914  \n",
       "43396 2019-10-08 16:54:36        6914  \n",
       "43397 2019-10-08 16:54:43        6914  \n",
       "43398 2019-10-08 16:54:53        6914  \n",
       "\n",
       "[139 rows x 5 columns]"
      ]
     },
     "execution_count": 46,
     "metadata": {},
     "output_type": "execute_result"
    }
   ],
   "source": [
    "# Поиск номера сессии с наибольшим числом событий в датафрейме:\n",
    "session_long = mobile.groupby('session_id')['user_id'].count().sort_values(ascending=False).idxmax()\n",
    "mobile[mobile['session_id'] == session_long]"
   ]
  },
  {
   "cell_type": "markdown",
   "metadata": {},
   "source": [
    "Сессия длилась чуть больше часа. Посмотрю какие есть события в сессии и как они распределяются по количеству. Ниже посчитаю длительность сессий всего датафрейма."
   ]
  },
  {
   "cell_type": "code",
   "execution_count": 47,
   "metadata": {
    "ExecuteTime": {
     "end_time": "2022-11-18T08:52:36.263528Z",
     "start_time": "2022-11-18T08:52:36.236599Z"
    },
    "scrolled": false
   },
   "outputs": [
    {
     "data": {
      "text/plain": [
       "map              58\n",
       "favorites_add    50\n",
       "tips_show        31\n",
       "Name: event_name, dtype: int64"
      ]
     },
     "execution_count": 47,
     "metadata": {},
     "output_type": "execute_result"
    }
   ],
   "source": [
    "mobile[mobile['session_id'] == session_long]['event_name'].value_counts()"
   ]
  },
  {
   "cell_type": "markdown",
   "metadata": {},
   "source": [
    "**Вывод:**\n",
    "\n",
    "Пользователи разбиты на сессии на основе тайм-аута в 15 минут между событиями. Итого получилось 11 537 сессий."
   ]
  },
  {
   "cell_type": "markdown",
   "metadata": {},
   "source": [
    "#### Длительность сессий\n",
    "\n",
    "Посмотрю длительность сессии в минутах, для этого создам датаффрейм, сгруппированный по номеру сессии, через аггрегацию выведу минимальное и максимально вермя сессии в отдельные колонки, по ним рассчитаю продолжительность. "
   ]
  },
  {
   "cell_type": "code",
   "execution_count": 48,
   "metadata": {
    "ExecuteTime": {
     "end_time": "2022-11-18T08:52:36.389191Z",
     "start_time": "2022-11-18T08:52:36.266521Z"
    }
   },
   "outputs": [
    {
     "data": {
      "text/html": [
       "<div>\n",
       "<style scoped>\n",
       "    .dataframe tbody tr th:only-of-type {\n",
       "        vertical-align: middle;\n",
       "    }\n",
       "\n",
       "    .dataframe tbody tr th {\n",
       "        vertical-align: top;\n",
       "    }\n",
       "\n",
       "    .dataframe thead th {\n",
       "        text-align: right;\n",
       "    }\n",
       "</style>\n",
       "<table border=\"1\" class=\"dataframe\">\n",
       "  <thead>\n",
       "    <tr style=\"text-align: right;\">\n",
       "      <th></th>\n",
       "      <th>session_id</th>\n",
       "      <th>session_start</th>\n",
       "      <th>session_end</th>\n",
       "      <th>session_duration_m</th>\n",
       "    </tr>\n",
       "  </thead>\n",
       "  <tbody>\n",
       "    <tr>\n",
       "      <th>8639</th>\n",
       "      <td>8640</td>\n",
       "      <td>2019-10-13 13:44:01</td>\n",
       "      <td>2019-10-13 17:37:40</td>\n",
       "      <td>233.65</td>\n",
       "    </tr>\n",
       "    <tr>\n",
       "      <th>7597</th>\n",
       "      <td>7598</td>\n",
       "      <td>2019-10-27 01:24:21</td>\n",
       "      <td>2019-10-27 04:36:45</td>\n",
       "      <td>192.40</td>\n",
       "    </tr>\n",
       "    <tr>\n",
       "      <th>10044</th>\n",
       "      <td>10045</td>\n",
       "      <td>2019-11-02 19:46:32</td>\n",
       "      <td>2019-11-02 22:46:36</td>\n",
       "      <td>180.07</td>\n",
       "    </tr>\n",
       "    <tr>\n",
       "      <th>10455</th>\n",
       "      <td>10456</td>\n",
       "      <td>2019-10-22 19:57:57</td>\n",
       "      <td>2019-10-22 22:42:47</td>\n",
       "      <td>164.83</td>\n",
       "    </tr>\n",
       "    <tr>\n",
       "      <th>7632</th>\n",
       "      <td>7633</td>\n",
       "      <td>2019-10-29 14:37:20</td>\n",
       "      <td>2019-10-29 17:19:48</td>\n",
       "      <td>162.47</td>\n",
       "    </tr>\n",
       "  </tbody>\n",
       "</table>\n",
       "</div>"
      ],
      "text/plain": [
       "       session_id       session_start         session_end  session_duration_m\n",
       "8639         8640 2019-10-13 13:44:01 2019-10-13 17:37:40              233.65\n",
       "7597         7598 2019-10-27 01:24:21 2019-10-27 04:36:45              192.40\n",
       "10044       10045 2019-11-02 19:46:32 2019-11-02 22:46:36              180.07\n",
       "10455       10456 2019-10-22 19:57:57 2019-10-22 22:42:47              164.83\n",
       "7632         7633 2019-10-29 14:37:20 2019-10-29 17:19:48              162.47"
      ]
     },
     "metadata": {},
     "output_type": "display_data"
    },
    {
     "data": {
      "text/html": [
       "<div>\n",
       "<style scoped>\n",
       "    .dataframe tbody tr th:only-of-type {\n",
       "        vertical-align: middle;\n",
       "    }\n",
       "\n",
       "    .dataframe tbody tr th {\n",
       "        vertical-align: top;\n",
       "    }\n",
       "\n",
       "    .dataframe thead th {\n",
       "        text-align: right;\n",
       "    }\n",
       "</style>\n",
       "<table border=\"1\" class=\"dataframe\">\n",
       "  <thead>\n",
       "    <tr style=\"text-align: right;\">\n",
       "      <th></th>\n",
       "      <th>session_duration_m</th>\n",
       "    </tr>\n",
       "  </thead>\n",
       "  <tbody>\n",
       "    <tr>\n",
       "      <th>count</th>\n",
       "      <td>11,537.00</td>\n",
       "    </tr>\n",
       "    <tr>\n",
       "      <th>mean</th>\n",
       "      <td>9.44</td>\n",
       "    </tr>\n",
       "    <tr>\n",
       "      <th>std</th>\n",
       "      <td>14.19</td>\n",
       "    </tr>\n",
       "    <tr>\n",
       "      <th>min</th>\n",
       "      <td>0.00</td>\n",
       "    </tr>\n",
       "    <tr>\n",
       "      <th>25%</th>\n",
       "      <td>0.08</td>\n",
       "    </tr>\n",
       "    <tr>\n",
       "      <th>50%</th>\n",
       "      <td>4.32</td>\n",
       "    </tr>\n",
       "    <tr>\n",
       "      <th>75%</th>\n",
       "      <td>13.05</td>\n",
       "    </tr>\n",
       "    <tr>\n",
       "      <th>max</th>\n",
       "      <td>233.65</td>\n",
       "    </tr>\n",
       "  </tbody>\n",
       "</table>\n",
       "</div>"
      ],
      "text/plain": [
       "       session_duration_m\n",
       "count           11,537.00\n",
       "mean                 9.44\n",
       "std                 14.19\n",
       "min                  0.00\n",
       "25%                  0.08\n",
       "50%                  4.32\n",
       "75%                 13.05\n",
       "max                233.65"
      ]
     },
     "execution_count": 48,
     "metadata": {},
     "output_type": "execute_result"
    }
   ],
   "source": [
    "session_duration = mobile.groupby('session_id').agg(session_start = ('event_date_time', 'min'), \n",
    "                                                session_end = ('event_date_time', 'max')).reset_index()\n",
    "session_duration['session_duration_m'] = (session_duration['session_end'] \n",
    "                                          - session_duration['session_start']).dt.total_seconds().div(60)\n",
    "\n",
    "display(session_duration.sort_values(by='session_duration_m', ascending = False).head())\n",
    "\n",
    "# Посмотрю на статистическое описание длинн сессий:\n",
    "session_duration[['session_duration_m']].describe()"
   ]
  },
  {
   "cell_type": "markdown",
   "metadata": {},
   "source": [
    "Сессии в датафрейме довольно сильно отличаются друг от друга. Стандартное отклонение ~14, средняя длина около 9 с половиной минут, медианное значение ~4 минут 20 секунд. \n",
    "\n",
    "Построю диаграмму размаха длины сессий."
   ]
  },
  {
   "cell_type": "code",
   "execution_count": 49,
   "metadata": {
    "ExecuteTime": {
     "end_time": "2022-11-18T08:52:36.609602Z",
     "start_time": "2022-11-18T08:52:36.391189Z"
    }
   },
   "outputs": [
    {
     "data": {
      "image/png": "[encoded data removed]",
      "text/plain": [
       "<Figure size 1500x300 with 1 Axes>"
      ]
     },
     "metadata": {},
     "output_type": "display_data"
    }
   ],
   "source": [
    "plt.subplots(figsize=(15, 3))\n",
    "sns.boxplot(data = session_duration, x='session_duration_m')\n",
    "\n",
    "plt.xlabel('Длина сессий, мин')\n",
    "plt.title('Диаграмма размаха длин сессий')\n",
    "plt.show()"
   ]
  },
  {
   "cell_type": "markdown",
   "metadata": {},
   "source": [
    "Добавлю продолжительность сессий в основной датафрейм:"
   ]
  },
  {
   "cell_type": "code",
   "execution_count": 50,
   "metadata": {
    "ExecuteTime": {
     "end_time": "2022-11-18T08:52:36.656480Z",
     "start_time": "2022-11-18T08:52:36.613594Z"
    }
   },
   "outputs": [],
   "source": [
    "mobile = mobile.merge(session_duration, on='session_id', how='left')"
   ]
  },
  {
   "cell_type": "markdown",
   "metadata": {},
   "source": [
    "**Вывод:**\n",
    "\n",
    "Средняя длина около 9 с половиной минут, медианное значение ~4 минут 20 секунд. На диаграмме размаха наглядно видно - большая часть сессий длится до 15 минут, но также отмечу, что есть много сессий-выбросов, длиннее 20 минут или правее верхнего уса (3 квартиль * 1.5). \n",
    "\n",
    "В датафрейм добавлена длительность сессии - использую данное поле для проверки статистической разницы между пользователями, пришедшими из `google` и `yandex`."
   ]
  },
  {
   "cell_type": "markdown",
   "metadata": {},
   "source": [
    "#### Распределение количества событий по сессиям\n",
    "\n",
    "Посмотрю распределение числа событий по сессиям и построю гистограмму"
   ]
  },
  {
   "cell_type": "code",
   "execution_count": 51,
   "metadata": {
    "ExecuteTime": {
     "end_time": "2022-11-18T08:52:37.845297Z",
     "start_time": "2022-11-18T08:52:36.660466Z"
    }
   },
   "outputs": [
    {
     "data": {
      "text/plain": [
       "1     2680\n",
       "2     1702\n",
       "3     1206\n",
       "4     1044\n",
       "5      852\n",
       "6      636\n",
       "7      490\n",
       "8      425\n",
       "9      343\n",
       "10     296\n",
       "Name: event_name, dtype: int64"
      ]
     },
     "metadata": {},
     "output_type": "display_data"
    },
    {
     "data": {
      "image/png": "[encoded data removed]",
      "text/plain": [
       "<Figure size 1400x300 with 1 Axes>"
      ]
     },
     "metadata": {},
     "output_type": "display_data"
    }
   ],
   "source": [
    "display(mobile.groupby('session_id')['event_name'].count().value_counts().head(10))\n",
    "\n",
    "plt.subplots(figsize=(14, 3))\n",
    "sns.histplot(mobile.groupby('session_id')['event_name'].count(), kde=True)\\\n",
    "    .set(title='Гистограмма распределения количества событий в сессиях')\n",
    "plt.xlim(0, 30)\n",
    "plt.xlabel('Количество событий в сессии')\n",
    "plt.ylabel('Частота')\n",
    "plt.show()"
   ]
  },
  {
   "cell_type": "markdown",
   "metadata": {},
   "source": [
    "**Вывод:**\n",
    "\n",
    "Большая часть сессий (около половины) состоит из 1-2 событий."
   ]
  },
  {
   "cell_type": "markdown",
   "metadata": {},
   "source": [
    "### Воронки пользовательских сценариев\n",
    "\n",
    "По сценариям описать воронки (конверсии) - какая доля пользователей проходит на следующий шаг каждой воронки (от числа пользователей на предыдущем). Выявить сценарии с лучшей и худшей конверсиями за представленный период."
   ]
  },
  {
   "cell_type": "code",
   "execution_count": 52,
   "metadata": {
    "ExecuteTime": {
     "end_time": "2022-11-18T08:52:40.062861Z",
     "start_time": "2022-11-18T08:52:37.861256Z"
    },
    "scrolled": false
   },
   "outputs": [
    {
     "data": {
      "text/html": [
       "<div>\n",
       "<style scoped>\n",
       "    .dataframe tbody tr th:only-of-type {\n",
       "        vertical-align: middle;\n",
       "    }\n",
       "\n",
       "    .dataframe tbody tr th {\n",
       "        vertical-align: top;\n",
       "    }\n",
       "\n",
       "    .dataframe thead th {\n",
       "        text-align: right;\n",
       "    }\n",
       "</style>\n",
       "<table border=\"1\" class=\"dataframe\">\n",
       "  <thead>\n",
       "    <tr style=\"text-align: right;\">\n",
       "      <th></th>\n",
       "      <th>index</th>\n",
       "      <th>event_unique</th>\n",
       "    </tr>\n",
       "  </thead>\n",
       "  <tbody>\n",
       "    <tr>\n",
       "      <th>0</th>\n",
       "      <td>['tips_show' 'contacts_show']</td>\n",
       "      <td>387</td>\n",
       "    </tr>\n",
       "    <tr>\n",
       "      <th>1</th>\n",
       "      <td>['contacts_show']</td>\n",
       "      <td>263</td>\n",
       "    </tr>\n",
       "    <tr>\n",
       "      <th>2</th>\n",
       "      <td>['contacts_show' 'contacts_call']</td>\n",
       "      <td>138</td>\n",
       "    </tr>\n",
       "    <tr>\n",
       "      <th>3</th>\n",
       "      <td>['contacts_show' 'tips_show']</td>\n",
       "      <td>99</td>\n",
       "    </tr>\n",
       "    <tr>\n",
       "      <th>4</th>\n",
       "      <td>['map' 'tips_show' 'contacts_show']</td>\n",
       "      <td>91</td>\n",
       "    </tr>\n",
       "    <tr>\n",
       "      <th>5</th>\n",
       "      <td>['photos_show' 'contacts_show']</td>\n",
       "      <td>85</td>\n",
       "    </tr>\n",
       "    <tr>\n",
       "      <th>6</th>\n",
       "      <td>['search_1' 'contacts_show' 'contacts_call']</td>\n",
       "      <td>53</td>\n",
       "    </tr>\n",
       "    <tr>\n",
       "      <th>7</th>\n",
       "      <td>['search_1' 'contacts_show']</td>\n",
       "      <td>47</td>\n",
       "    </tr>\n",
       "    <tr>\n",
       "      <th>8</th>\n",
       "      <td>['contacts_show' 'photos_show']</td>\n",
       "      <td>40</td>\n",
       "    </tr>\n",
       "    <tr>\n",
       "      <th>9</th>\n",
       "      <td>['search_1' 'photos_show' 'contacts_show']</td>\n",
       "      <td>39</td>\n",
       "    </tr>\n",
       "    <tr>\n",
       "      <th>10</th>\n",
       "      <td>['photos_show' 'contacts_show' 'contacts_call']</td>\n",
       "      <td>35</td>\n",
       "    </tr>\n",
       "    <tr>\n",
       "      <th>11</th>\n",
       "      <td>['tips_show' 'contacts_show' 'tips_click']</td>\n",
       "      <td>26</td>\n",
       "    </tr>\n",
       "    <tr>\n",
       "      <th>12</th>\n",
       "      <td>['map' 'contacts_show' 'tips_show']</td>\n",
       "      <td>25</td>\n",
       "    </tr>\n",
       "    <tr>\n",
       "      <th>13</th>\n",
       "      <td>['contacts_show' 'contacts_call' 'photos_show']</td>\n",
       "      <td>24</td>\n",
       "    </tr>\n",
       "    <tr>\n",
       "      <th>14</th>\n",
       "      <td>['tips_show' 'map' 'contacts_show']</td>\n",
       "      <td>24</td>\n",
       "    </tr>\n",
       "    <tr>\n",
       "      <th>15</th>\n",
       "      <td>['tips_show' 'contacts_show' 'map']</td>\n",
       "      <td>20</td>\n",
       "    </tr>\n",
       "    <tr>\n",
       "      <th>16</th>\n",
       "      <td>['tips_show' 'tips_click' 'contacts_show']</td>\n",
       "      <td>17</td>\n",
       "    </tr>\n",
       "    <tr>\n",
       "      <th>17</th>\n",
       "      <td>['search_1' 'photos_show' 'contacts_show' 'con...</td>\n",
       "      <td>13</td>\n",
       "    </tr>\n",
       "    <tr>\n",
       "      <th>18</th>\n",
       "      <td>['map' 'advert_open' 'tips_show' 'contacts_show']</td>\n",
       "      <td>13</td>\n",
       "    </tr>\n",
       "    <tr>\n",
       "      <th>19</th>\n",
       "      <td>['map' 'contacts_show']</td>\n",
       "      <td>11</td>\n",
       "    </tr>\n",
       "  </tbody>\n",
       "</table>\n",
       "</div>"
      ],
      "text/plain": [
       "                                                index  event_unique\n",
       "0                       ['tips_show' 'contacts_show']           387\n",
       "1                                   ['contacts_show']           263\n",
       "2                   ['contacts_show' 'contacts_call']           138\n",
       "3                       ['contacts_show' 'tips_show']            99\n",
       "4                 ['map' 'tips_show' 'contacts_show']            91\n",
       "5                     ['photos_show' 'contacts_show']            85\n",
       "6        ['search_1' 'contacts_show' 'contacts_call']            53\n",
       "7                        ['search_1' 'contacts_show']            47\n",
       "8                     ['contacts_show' 'photos_show']            40\n",
       "9          ['search_1' 'photos_show' 'contacts_show']            39\n",
       "10    ['photos_show' 'contacts_show' 'contacts_call']            35\n",
       "11         ['tips_show' 'contacts_show' 'tips_click']            26\n",
       "12                ['map' 'contacts_show' 'tips_show']            25\n",
       "13    ['contacts_show' 'contacts_call' 'photos_show']            24\n",
       "14                ['tips_show' 'map' 'contacts_show']            24\n",
       "15                ['tips_show' 'contacts_show' 'map']            20\n",
       "16         ['tips_show' 'tips_click' 'contacts_show']            17\n",
       "17  ['search_1' 'photos_show' 'contacts_show' 'con...            13\n",
       "18  ['map' 'advert_open' 'tips_show' 'contacts_show']            13\n",
       "19                            ['map' 'contacts_show']            11"
      ]
     },
     "execution_count": 52,
     "metadata": {},
     "output_type": "execute_result"
    }
   ],
   "source": [
    "sessions_unique = (mobile.groupby(['user_id', 'session_id'])\n",
    "                   .agg(event_unique=('event_name', 'unique'), \n",
    "                        avg_session_length = ('session_duration_m', 'mean'))).reset_index()\n",
    "\n",
    "sessions_unique['event_unique'] = sessions_unique['event_unique'].apply(lambda x: str(x))\n",
    "sessions_unique[sessions_unique['event_unique'].str.contains('contacts_show')]['event_unique'].\\\n",
    "    value_counts().reset_index().head(20)"
   ]
  },
  {
   "cell_type": "code",
   "execution_count": 53,
   "metadata": {
    "ExecuteTime": {
     "end_time": "2022-11-18T08:52:40.078819Z",
     "start_time": "2022-11-18T08:52:40.066851Z"
    }
   },
   "outputs": [],
   "source": [
    "#!pip install kaleido"
   ]
  },
  {
   "cell_type": "code",
   "execution_count": 118,
   "metadata": {
    "ExecuteTime": {
     "end_time": "2022-11-18T09:41:28.797547Z",
     "start_time": "2022-11-18T09:41:26.344405Z"
    }
   },
   "outputs": [
    {
     "data": {
      "image/png": "[encoded data removed]"
     },
     "metadata": {},
     "output_type": "display_data"
    }
   ],
   "source": [
    "# Подготовка данных для графиков воронок по трём сценариям\n",
    "df_funnel = mobile[['event_name', 'user_id']]\n",
    "\n",
    "step_list_1 = ['map', 'tips_show', 'contacts_show']\n",
    "\n",
    "user_list_1_1 = df_funnel.query('event_name == \"map\"')['user_id'].unique()\n",
    "user_list_1_2 = df_funnel.query('user_id in @user_list_1_1 and event_name == \"tips_show\"')['user_id'].unique()\n",
    "user_list_1_3 = df_funnel.query('user_id in @user_list_1_2 and event_name == \"contacts_show\"')['user_id'].unique()\n",
    "user_list_1 = [len(user_list_1_1), len(user_list_1_2), len(user_list_1_3)]\n",
    "\n",
    "step_list_2 = ['search_1', 'photos_show', 'contacts_show']\n",
    "\n",
    "user_list_2_1 = df_funnel.query('event_name == \"search_1\"')['user_id'].unique()\n",
    "user_list_2_2 = df_funnel.query('user_id in @user_list_2_1 and event_name == \"photos_show\"')['user_id'].unique()\n",
    "user_list_2_3 = df_funnel.query('user_id in @user_list_2_2 and event_name == \"contacts_show\"')['user_id'].unique()\n",
    "user_list_2 = [len(user_list_2_1), len(user_list_2_2), len(user_list_2_3)]\n",
    "\n",
    "step_list_3 = ['tips_show', 'tips_click', 'contacts_show']\n",
    "\n",
    "user_list_3_1 = df_funnel.query('event_name == \"tips_show\"')['user_id'].unique()\n",
    "user_list_3_2 = df_funnel.query('user_id in @user_list_3_1 and event_name == \"tips_click\"')['user_id'].unique()\n",
    "user_list_3_3 = df_funnel.query('user_id in @user_list_3_2 and event_name == \"contacts_show\"')['user_id'].unique()\n",
    "user_list_3 = [len(user_list_3_1), len(user_list_3_2), len(user_list_3_3)]\n",
    "\n",
    "\n",
    "fig = go.Figure()\n",
    "\n",
    "fig.add_trace(go.Funnelarea(\n",
    "    values = user_list_1, textinfo = 'value', marker = {'colors':['#157570', '#1CA09A', '#23C7BF']},\n",
    "    title = {'text': 'map -> tips_show -> contacts_show'}, domain = {\"x\": [0, 0.3], \"y\": [0, 1]}))\n",
    "\n",
    "fig.add_trace(go.Funnelarea(\n",
    "    values = user_list_2, textinfo = 'value',\n",
    "    title = {'text': 'search_1 -> photos_show -> contacts_show'}, domain = {\"x\": [0.35, 0.65], \"y\": [0, 1]}))\n",
    "\n",
    "fig.add_trace(go.Funnelarea(\n",
    "    values = user_list_3, textinfo = 'value',\n",
    "    title = {'text': 'tips_show -> tips_click -> contacts_show'}, domain = {\"x\": [0.7, 1], \"y\": [0, 1]}))\n",
    "\n",
    "# для отображения воронок в GitHub\n",
    "fig.show('png')"
   ]
  },
  {
   "cell_type": "markdown",
   "metadata": {},
   "source": [
    "**Вывод:**\n",
    "\n",
    "Выделены 3 пользовательских сценария на основе частотности. \n",
    "1. 'map', 'tips_show', 'contacts_show'\n",
    "2. 'search_1', 'photos_show', 'contacts_show'\n",
    "3. 'tips_show', 'tips_click', 'contacts_show'\n",
    "\n",
    "Ниже будет проанализирована конверсия по ним."
   ]
  },
  {
   "cell_type": "markdown",
   "metadata": {},
   "source": [
    "### Конверсия пользователей\n",
    "\n",
    "В разрезе поведенческих сценариев проанализировать, какая доля пользователей доходит от первого события до просмотра контактов?\n",
    "\n",
    "Для анализа отобраны 3 сценария:\n",
    "1. 'map', 'tips_show', 'contacts_show'\n",
    "2. 'search_1', 'photos_show', 'contacts_show'\n",
    "3. 'tips_show', 'tips_click', 'contacts_show'"
   ]
  },
  {
   "cell_type": "code",
   "execution_count": 55,
   "metadata": {
    "ExecuteTime": {
     "end_time": "2022-11-18T08:53:27.427782Z",
     "start_time": "2022-11-18T08:53:27.385894Z"
    }
   },
   "outputs": [
    {
     "data": {
      "text/html": [
       "<div>\n",
       "<style scoped>\n",
       "    .dataframe tbody tr th:only-of-type {\n",
       "        vertical-align: middle;\n",
       "    }\n",
       "\n",
       "    .dataframe tbody tr th {\n",
       "        vertical-align: top;\n",
       "    }\n",
       "\n",
       "    .dataframe thead th {\n",
       "        text-align: right;\n",
       "    }\n",
       "</style>\n",
       "<table border=\"1\" class=\"dataframe\">\n",
       "  <thead>\n",
       "    <tr style=\"text-align: right;\">\n",
       "      <th></th>\n",
       "      <th>step_1</th>\n",
       "      <th>step_2</th>\n",
       "      <th>contacts_show</th>\n",
       "      <th>conversion</th>\n",
       "    </tr>\n",
       "  </thead>\n",
       "  <tbody>\n",
       "    <tr>\n",
       "      <th>0</th>\n",
       "      <td>1456</td>\n",
       "      <td>1352</td>\n",
       "      <td>275</td>\n",
       "      <td>0.19</td>\n",
       "    </tr>\n",
       "    <tr>\n",
       "      <th>1</th>\n",
       "      <td>787</td>\n",
       "      <td>643</td>\n",
       "      <td>191</td>\n",
       "      <td>0.24</td>\n",
       "    </tr>\n",
       "    <tr>\n",
       "      <th>2</th>\n",
       "      <td>2801</td>\n",
       "      <td>297</td>\n",
       "      <td>91</td>\n",
       "      <td>0.03</td>\n",
       "    </tr>\n",
       "  </tbody>\n",
       "</table>\n",
       "</div>"
      ],
      "text/plain": [
       "   step_1  step_2  contacts_show  conversion\n",
       "0    1456    1352            275        0.19\n",
       "1     787     643            191        0.24\n",
       "2    2801     297             91        0.03"
      ]
     },
     "execution_count": 55,
     "metadata": {},
     "output_type": "execute_result"
    }
   ],
   "source": [
    "# Соберу датафрейм по числу пользователей в разрезе сценариев для расчёта конверсии\n",
    "columns = ['step_1', 'step_2', 'contacts_show']\n",
    "conversion = pd.DataFrame(data = [user_list_1, user_list_2, user_list_3], columns = columns)\n",
    "# Посчитаю конверсию:\n",
    "conversion['conversion'] = conversion['contacts_show'] / conversion['step_1']\n",
    "conversion"
   ]
  },
  {
   "cell_type": "markdown",
   "metadata": {},
   "source": [
    "**Вывод:**\n",
    "\n",
    "В рамках анализа трёх наиболее популярных сценариев, наилучшая конверсия выявлена у сценария 2 ('search_1', 'photos_show', 'contacts_show') на уровне 24%. Наименьшая конверсия в 3% у сценария 3 ('tips_show', 'tips_click', 'contacts_show')."
   ]
  },
  {
   "cell_type": "markdown",
   "metadata": {},
   "source": [
    "### Время в разрезе поведенческих сценариев\n",
    "\n",
    "Проанализировать как различается время в разрезе поведенческих сценариев пользователей?"
   ]
  },
  {
   "cell_type": "code",
   "execution_count": 56,
   "metadata": {
    "ExecuteTime": {
     "end_time": "2022-11-18T08:53:27.443739Z",
     "start_time": "2022-11-18T08:53:27.435775Z"
    }
   },
   "outputs": [
    {
     "name": "stdout",
     "output_type": "stream",
     "text": [
      "Сценарий 1: ['map', 'tips_show', 'contacts_show']\n",
      "Сценарий 2: ['search_1', 'photos_show', 'contacts_show']\n",
      "Сценарий 3: ['tips_show', 'tips_click', 'contacts_show']\n"
     ]
    }
   ],
   "source": [
    "print('Сценарий 1:', step_list_1)\n",
    "print('Сценарий 2:', step_list_2)\n",
    "print('Сценарий 3:', step_list_3)"
   ]
  },
  {
   "cell_type": "code",
   "execution_count": 57,
   "metadata": {
    "ExecuteTime": {
     "end_time": "2022-11-18T08:53:27.553446Z",
     "start_time": "2022-11-18T08:53:27.449726Z"
    }
   },
   "outputs": [
    {
     "data": {
      "text/html": [
       "<div>\n",
       "<style scoped>\n",
       "    .dataframe tbody tr th:only-of-type {\n",
       "        vertical-align: middle;\n",
       "    }\n",
       "\n",
       "    .dataframe tbody tr th {\n",
       "        vertical-align: top;\n",
       "    }\n",
       "\n",
       "    .dataframe thead th {\n",
       "        text-align: right;\n",
       "    }\n",
       "</style>\n",
       "<table border=\"1\" class=\"dataframe\">\n",
       "  <thead>\n",
       "    <tr style=\"text-align: right;\">\n",
       "      <th></th>\n",
       "      <th>event_unique</th>\n",
       "      <th>session_counts</th>\n",
       "      <th>avg_session_length</th>\n",
       "      <th>median_session_length</th>\n",
       "    </tr>\n",
       "  </thead>\n",
       "  <tbody>\n",
       "    <tr>\n",
       "      <th>0</th>\n",
       "      <td>['tips_show' 'contacts_show']</td>\n",
       "      <td>387</td>\n",
       "      <td>17.28</td>\n",
       "      <td>12.30</td>\n",
       "    </tr>\n",
       "    <tr>\n",
       "      <th>1</th>\n",
       "      <td>['contacts_show']</td>\n",
       "      <td>263</td>\n",
       "      <td>2.19</td>\n",
       "      <td>0.00</td>\n",
       "    </tr>\n",
       "    <tr>\n",
       "      <th>2</th>\n",
       "      <td>['contacts_show' 'contacts_call']</td>\n",
       "      <td>138</td>\n",
       "      <td>2.41</td>\n",
       "      <td>0.25</td>\n",
       "    </tr>\n",
       "    <tr>\n",
       "      <th>3</th>\n",
       "      <td>['contacts_show' 'tips_show']</td>\n",
       "      <td>99</td>\n",
       "      <td>10.29</td>\n",
       "      <td>6.70</td>\n",
       "    </tr>\n",
       "    <tr>\n",
       "      <th>4</th>\n",
       "      <td>['map' 'tips_show' 'contacts_show']</td>\n",
       "      <td>91</td>\n",
       "      <td>18.67</td>\n",
       "      <td>11.73</td>\n",
       "    </tr>\n",
       "    <tr>\n",
       "      <th>5</th>\n",
       "      <td>['photos_show' 'contacts_show']</td>\n",
       "      <td>85</td>\n",
       "      <td>11.05</td>\n",
       "      <td>8.28</td>\n",
       "    </tr>\n",
       "    <tr>\n",
       "      <th>6</th>\n",
       "      <td>['search_1' 'contacts_show' 'contacts_call']</td>\n",
       "      <td>53</td>\n",
       "      <td>7.42</td>\n",
       "      <td>4.18</td>\n",
       "    </tr>\n",
       "    <tr>\n",
       "      <th>7</th>\n",
       "      <td>['search_1' 'contacts_show']</td>\n",
       "      <td>47</td>\n",
       "      <td>5.98</td>\n",
       "      <td>3.18</td>\n",
       "    </tr>\n",
       "    <tr>\n",
       "      <th>8</th>\n",
       "      <td>['contacts_show' 'photos_show']</td>\n",
       "      <td>40</td>\n",
       "      <td>10.32</td>\n",
       "      <td>7.96</td>\n",
       "    </tr>\n",
       "    <tr>\n",
       "      <th>9</th>\n",
       "      <td>['search_1' 'photos_show' 'contacts_show']</td>\n",
       "      <td>39</td>\n",
       "      <td>14.50</td>\n",
       "      <td>12.32</td>\n",
       "    </tr>\n",
       "    <tr>\n",
       "      <th>10</th>\n",
       "      <td>['photos_show' 'contacts_show' 'contacts_call']</td>\n",
       "      <td>35</td>\n",
       "      <td>14.61</td>\n",
       "      <td>9.80</td>\n",
       "    </tr>\n",
       "    <tr>\n",
       "      <th>11</th>\n",
       "      <td>['tips_show' 'contacts_show' 'tips_click']</td>\n",
       "      <td>26</td>\n",
       "      <td>38.92</td>\n",
       "      <td>26.62</td>\n",
       "    </tr>\n",
       "    <tr>\n",
       "      <th>12</th>\n",
       "      <td>['map' 'contacts_show' 'tips_show']</td>\n",
       "      <td>25</td>\n",
       "      <td>8.78</td>\n",
       "      <td>6.47</td>\n",
       "    </tr>\n",
       "    <tr>\n",
       "      <th>13</th>\n",
       "      <td>['tips_show' 'map' 'contacts_show']</td>\n",
       "      <td>24</td>\n",
       "      <td>27.43</td>\n",
       "      <td>25.97</td>\n",
       "    </tr>\n",
       "    <tr>\n",
       "      <th>14</th>\n",
       "      <td>['contacts_show' 'contacts_call' 'photos_show']</td>\n",
       "      <td>24</td>\n",
       "      <td>6.96</td>\n",
       "      <td>4.62</td>\n",
       "    </tr>\n",
       "    <tr>\n",
       "      <th>15</th>\n",
       "      <td>['tips_show' 'contacts_show' 'map']</td>\n",
       "      <td>20</td>\n",
       "      <td>29.18</td>\n",
       "      <td>20.69</td>\n",
       "    </tr>\n",
       "    <tr>\n",
       "      <th>16</th>\n",
       "      <td>['tips_show' 'tips_click' 'contacts_show']</td>\n",
       "      <td>17</td>\n",
       "      <td>27.09</td>\n",
       "      <td>28.08</td>\n",
       "    </tr>\n",
       "  </tbody>\n",
       "</table>\n",
       "</div>"
      ],
      "text/plain": [
       "                                       event_unique  session_counts  \\\n",
       "0                     ['tips_show' 'contacts_show']             387   \n",
       "1                                 ['contacts_show']             263   \n",
       "2                 ['contacts_show' 'contacts_call']             138   \n",
       "3                     ['contacts_show' 'tips_show']              99   \n",
       "4               ['map' 'tips_show' 'contacts_show']              91   \n",
       "5                   ['photos_show' 'contacts_show']              85   \n",
       "6      ['search_1' 'contacts_show' 'contacts_call']              53   \n",
       "7                      ['search_1' 'contacts_show']              47   \n",
       "8                   ['contacts_show' 'photos_show']              40   \n",
       "9        ['search_1' 'photos_show' 'contacts_show']              39   \n",
       "10  ['photos_show' 'contacts_show' 'contacts_call']              35   \n",
       "11       ['tips_show' 'contacts_show' 'tips_click']              26   \n",
       "12              ['map' 'contacts_show' 'tips_show']              25   \n",
       "13              ['tips_show' 'map' 'contacts_show']              24   \n",
       "14  ['contacts_show' 'contacts_call' 'photos_show']              24   \n",
       "15              ['tips_show' 'contacts_show' 'map']              20   \n",
       "16       ['tips_show' 'tips_click' 'contacts_show']              17   \n",
       "\n",
       "    avg_session_length  median_session_length  \n",
       "0                17.28                  12.30  \n",
       "1                 2.19                   0.00  \n",
       "2                 2.41                   0.25  \n",
       "3                10.29                   6.70  \n",
       "4                18.67                  11.73  \n",
       "5                11.05                   8.28  \n",
       "6                 7.42                   4.18  \n",
       "7                 5.98                   3.18  \n",
       "8                10.32                   7.96  \n",
       "9                14.50                  12.32  \n",
       "10               14.61                   9.80  \n",
       "11               38.92                  26.62  \n",
       "12                8.78                   6.47  \n",
       "13               27.43                  25.97  \n",
       "14                6.96                   4.62  \n",
       "15               29.18                  20.69  \n",
       "16               27.09                  28.08  "
      ]
     },
     "execution_count": 57,
     "metadata": {},
     "output_type": "execute_result"
    }
   ],
   "source": [
    "(sessions_unique[sessions_unique['event_unique'].str.contains('contacts_show')]\n",
    "     .groupby('event_unique')\n",
    "     .agg(session_counts=('session_id', 'count'), avg_session_length = ('avg_session_length', 'mean'),\n",
    "         median_session_length = ('avg_session_length', 'median'))\n",
    "     .sort_values(by='session_counts', ascending=False).reset_index().head(17))"
   ]
  },
  {
   "cell_type": "markdown",
   "metadata": {},
   "source": [
    "**Вывод:**\n",
    "\n",
    "В разрезе трёх выбранных сценариев, среднее время сессии колеблется от 14 минут 30 секунд по 2 сценарию до 27 минут по сценарию №3, у сценария №1 среднее время сессии на уровне 18 минут 40 секунд. \n",
    "\n",
    "Медианные значения времени сессии у сценариев 1 и 2 ниже средних значений - это говорит о наличии длительных сессий-выбросов. Медианное значение сценария 3 немного ниже среднего значения, что сигнализирует о большом количестве коротких сессий."
   ]
  },
  {
   "cell_type": "markdown",
   "metadata": {},
   "source": [
    "### Влияние источника на совершение целевого действия\n",
    "\n",
    "Посмотреть влияет ли источник привлечения пользователя на долю пользователей, совершивших целевое действие - просмотр контактов."
   ]
  },
  {
   "cell_type": "code",
   "execution_count": 58,
   "metadata": {
    "ExecuteTime": {
     "end_time": "2022-11-18T08:53:27.632235Z",
     "start_time": "2022-11-18T08:53:27.556438Z"
    }
   },
   "outputs": [],
   "source": [
    "# Уникальные пользователи в разрезе источников:\n",
    "source_users = mobile.groupby('source').agg(count_users=('user_id', 'nunique')).reset_index()\n",
    "\n",
    "# Уникальные пользователи с целевым действием в разрезе источников:\n",
    "source_contacs_show = mobile[mobile['event_name'] == 'contacts_show'].\\\n",
    "        groupby('source').agg(count_users_contasts_show=('user_id', 'nunique')).reset_index()\n",
    "\n",
    "# Объединю датафреймы\n",
    "source = source_users.merge(source_contacs_show, on='source')"
   ]
  },
  {
   "cell_type": "code",
   "execution_count": 59,
   "metadata": {
    "ExecuteTime": {
     "end_time": "2022-11-18T08:53:27.663157Z",
     "start_time": "2022-11-18T08:53:27.636228Z"
    }
   },
   "outputs": [
    {
     "data": {
      "text/html": [
       "<div>\n",
       "<style scoped>\n",
       "    .dataframe tbody tr th:only-of-type {\n",
       "        vertical-align: middle;\n",
       "    }\n",
       "\n",
       "    .dataframe tbody tr th {\n",
       "        vertical-align: top;\n",
       "    }\n",
       "\n",
       "    .dataframe thead th {\n",
       "        text-align: right;\n",
       "    }\n",
       "</style>\n",
       "<table border=\"1\" class=\"dataframe\">\n",
       "  <thead>\n",
       "    <tr style=\"text-align: right;\">\n",
       "      <th></th>\n",
       "      <th>source</th>\n",
       "      <th>count_users</th>\n",
       "      <th>count_users_contasts_show</th>\n",
       "      <th>conversion</th>\n",
       "    </tr>\n",
       "  </thead>\n",
       "  <tbody>\n",
       "    <tr>\n",
       "      <th>0</th>\n",
       "      <td>google</td>\n",
       "      <td>1129</td>\n",
       "      <td>275</td>\n",
       "      <td>0.24</td>\n",
       "    </tr>\n",
       "    <tr>\n",
       "      <th>1</th>\n",
       "      <td>other</td>\n",
       "      <td>1230</td>\n",
       "      <td>228</td>\n",
       "      <td>0.19</td>\n",
       "    </tr>\n",
       "    <tr>\n",
       "      <th>2</th>\n",
       "      <td>yandex</td>\n",
       "      <td>1934</td>\n",
       "      <td>478</td>\n",
       "      <td>0.25</td>\n",
       "    </tr>\n",
       "  </tbody>\n",
       "</table>\n",
       "</div>"
      ],
      "text/plain": [
       "   source  count_users  count_users_contasts_show  conversion\n",
       "0  google         1129                        275        0.24\n",
       "1   other         1230                        228        0.19\n",
       "2  yandex         1934                        478        0.25"
      ]
     },
     "execution_count": 59,
     "metadata": {},
     "output_type": "execute_result"
    }
   ],
   "source": [
    "# Посчитаю конверсию:\n",
    "source['conversion'] = source['count_users_contasts_show'] / source['count_users']\n",
    "source"
   ]
  },
  {
   "cell_type": "markdown",
   "metadata": {},
   "source": [
    "**Вывод:**\n",
    "\n",
    "Источник не является существенным критерием совершения целевого действия. Однако пользователи, привлечённые через рекламный канал Yandex совершают целевое действие несколько чаще с уровнем конверсии в 25%, при конверсии пользователей Google в 24% и конверсией 19% с прочих источников. \n",
    "\n",
    "Тем не менее, в рамках проверки статистических гепотез, хочу проверить, различаются ли конверсии пользователей в просмотры контактов из источников yandex и google."
   ]
  },
  {
   "cell_type": "markdown",
   "metadata": {},
   "source": [
    "[Оглавление](#section_id)"
   ]
  },
  {
   "cell_type": "markdown",
   "metadata": {},
   "source": [
    "## Проверка статистических гипотез\n",
    "<a id='section_id4'></a>\n",
    "\n",
    "### Пользователи групп tips_show-tips_click и tips_show\n",
    "Одни пользователи совершают действия `tips_show` и `tips_click`, другие — только `tips_show`. \n",
    "\n",
    "Проверить гипотезу: конверсия в просмотры контактов различается у этих двух групп.\n",
    "\n",
    "- Н0: конверсии пользователей в просмотры контактов из групп `tips_show`-`tips_click` и `tips_show` **не различаются**\n",
    "- Н1: конверсии пользователей в просмотры контактов из групп `tips_show`-`tips_click` и `tips_show` **различаются**\n",
    "\n",
    "Для проверки статистической гипотезы соберу данных пользователей по группам:\n",
    "- в первую группу попадут пользователи, которые совершили действие `tips_show`-`tips_click` (в один датафрейм без целевого действия, в другой с целевым действием)\n",
    "- во вторую группу попадут пользователи, которые совершили только действие `tips_show` (аналогично, в один датафрейм без целевого действия, в другой с целевым действием)"
   ]
  },
  {
   "cell_type": "code",
   "execution_count": 121,
   "metadata": {
    "ExecuteTime": {
     "end_time": "2022-11-18T09:43:18.459674Z",
     "start_time": "2022-11-18T09:43:18.298108Z"
    },
    "scrolled": true
   },
   "outputs": [],
   "source": [
    "# Исключение пользователей группы 1 из группы 2:\n",
    "users_click_show = sessions_unique[sessions_unique['event_unique'].str.contains('tips_show') \n",
    "                & sessions_unique['event_unique'].str.contains('tips_click')][['user_id']]\\\n",
    "                .groupby('user_id').count().reset_index()['user_id'].tolist()\n",
    "\n",
    "# Формирование групп:\n",
    "group_click_show = sessions_unique[sessions_unique['event_unique'].str.contains('tips_show') \n",
    "                                   & sessions_unique['event_unique'].str.contains('tips_click')]\\\n",
    "                                    .groupby('user_id')['user_id'].agg('nunique').count()\n",
    "\n",
    "group_click_show_cont = sessions_unique[sessions_unique['event_unique'].str.contains('tips_show')\n",
    "                                        & sessions_unique['event_unique'].str.contains('tips_click')\n",
    "                                        & sessions_unique['event_unique'].str.contains('contacts_show')]\\\n",
    "                                        .groupby('user_id')['user_id'].agg('nunique').count()\n",
    "\n",
    "group_show = sessions_unique.query('user_id not in @users_click_show')[\n",
    "                            sessions_unique['event_unique'].str.contains('tips_show')\n",
    "                            & (~sessions_unique['event_unique'].str.contains('tips_click'))]\\\n",
    "                            .groupby('user_id')['user_id'].agg('nunique').count()\n",
    "\n",
    "group_show_cont = sessions_unique.query('user_id not in @users_click_show')[\n",
    "                                  sessions_unique['event_unique'].str.contains('tips_show')\n",
    "                                  & (~sessions_unique['event_unique'].str.contains('tips_click'))\n",
    "                                  & sessions_unique['event_unique'].str.contains('contacts_show')]\\\n",
    "                                  .groupby('user_id')['user_id'].agg('nunique').count()"
   ]
  },
  {
   "cell_type": "code",
   "execution_count": 122,
   "metadata": {
    "ExecuteTime": {
     "end_time": "2022-11-18T09:43:19.029154Z",
     "start_time": "2022-11-18T09:43:18.949367Z"
    },
    "scrolled": true
   },
   "outputs": [
    {
     "data": {
      "text/html": [
       "<div>\n",
       "<style scoped>\n",
       "    .dataframe tbody tr th:only-of-type {\n",
       "        vertical-align: middle;\n",
       "    }\n",
       "\n",
       "    .dataframe tbody tr th {\n",
       "        vertical-align: top;\n",
       "    }\n",
       "\n",
       "    .dataframe thead th {\n",
       "        text-align: right;\n",
       "    }\n",
       "</style>\n",
       "<table border=\"1\" class=\"dataframe\">\n",
       "  <thead>\n",
       "    <tr style=\"text-align: right;\">\n",
       "      <th></th>\n",
       "      <th>user_id</th>\n",
       "      <th>user_unique_x</th>\n",
       "      <th>user_unique_y</th>\n",
       "    </tr>\n",
       "  </thead>\n",
       "  <tbody>\n",
       "  </tbody>\n",
       "</table>\n",
       "</div>"
      ],
      "text/plain": [
       "Empty DataFrame\n",
       "Columns: [user_id, user_unique_x, user_unique_y]\n",
       "Index: []"
      ]
     },
     "execution_count": 122,
     "metadata": {},
     "output_type": "execute_result"
    }
   ],
   "source": [
    "# Проверка, что пользователи двух групп не пересекаются \n",
    "group_click_show_users = sessions_unique[sessions_unique['event_unique'].str.contains('tips_show') \n",
    "                                   & sessions_unique['event_unique'].str.contains('tips_click')]\\\n",
    "                                    .groupby('user_id').agg(user_unique=('user_id','nunique')).reset_index()\n",
    "\n",
    "group_show_users = sessions_unique.query('user_id not in @users_click_show')[\n",
    "    sessions_unique['event_unique'].str.contains('tips_show')\n",
    "                            & (~sessions_unique['event_unique'].str.contains('tips_click'))]\\\n",
    "                            .groupby('user_id').agg(user_unique=('user_id','nunique')).reset_index()\n",
    "\n",
    "# Для проверки пересекающихся пользователей, объединяю датафреймы:\n",
    "groups_test = group_click_show_users.merge(group_show_users, on='user_id', how='left')\n",
    "\n",
    "# Фильтрую объединённый датафрейм по подтянутой колонке, если в ней только NaN, значит пересекающихся пользователей нет.\n",
    "groups_test[groups_test['user_unique_y'].isna() == False]"
   ]
  },
  {
   "cell_type": "code",
   "execution_count": 123,
   "metadata": {
    "ExecuteTime": {
     "end_time": "2022-11-18T09:43:19.711572Z",
     "start_time": "2022-11-18T09:43:19.689643Z"
    }
   },
   "outputs": [
    {
     "name": "stdout",
     "output_type": "stream",
     "text": [
      "p-значение: 0.04013386370892125\n",
      "Отвергаем нулевую гипотезу: между долями есть значимая разница\n"
     ]
    }
   ],
   "source": [
    "alpha = 0.05 # критический уровень статистической значимости\n",
    "\n",
    "successes = np.array([group_click_show_cont, group_show_cont])\n",
    "trials = np.array([group_click_show, group_show])\n",
    "\n",
    "# пропорция успехов в первой группе:\n",
    "p1 = successes[0]/trials[0]\n",
    "\n",
    "# пропорция успехов во второй группе:\n",
    "p2 = successes[1]/trials[1]\n",
    "\n",
    "# пропорция успехов в комбинированном датасете:\n",
    "p_combined = (successes[0] + successes[1]) / (trials[0] + trials[1])\n",
    "\n",
    "# разница пропорций в датасетах\n",
    "difference = p1 - p2\n",
    "\n",
    "# считаем статистику в ст.отклонениях стандартного нормального распределения\n",
    "z_value = difference / mth.sqrt(p_combined * (1 - p_combined) * (1/trials[0] + 1/trials[1]))\n",
    "\n",
    "# задаем стандартное нормальное распределение (среднее 0, ст.отклонение 1)\n",
    "distr = st.norm(0, 1)\n",
    "\n",
    "p_value = (1 - distr.cdf(abs(z_value))) * 2\n",
    "\n",
    "print('p-значение:', p_value)\n",
    "\n",
    "if p_value < alpha:\n",
    "    print('Отвергаем нулевую гипотезу: между долями есть значимая разница')\n",
    "else:\n",
    "    print('Не получилось отвергнуть нулевую гипотезу, нет оснований считать доли разными')"
   ]
  },
  {
   "cell_type": "markdown",
   "metadata": {},
   "source": [
    "**Вывод:**\n",
    "\n",
    "p-value ниже критического уровня статистической значимости, отвергаем нулевую гипотезу - между долями есть статистически значимая разница."
   ]
  },
  {
   "cell_type": "markdown",
   "metadata": {},
   "source": [
    "### Пользователи из разных источников\n",
    "\n",
    "Проверить гипотезу: конверсия в просмотры контактов различается у пользователей из разных источников - `google` и `яндекс`.\n",
    "\n",
    "- H0: конверсии пользователей в просмотры контактов из источников `google` и `yandex` **не различаются**.\n",
    "- H1: конверсии пользователей в просмотры контактов из источников yandex и google **различаются**.\n",
    "\n",
    "Воспользуюсь датафреймом, рассчитанным для одного из предыдущих пунктов анализа:"
   ]
  },
  {
   "cell_type": "code",
   "execution_count": 124,
   "metadata": {
    "ExecuteTime": {
     "end_time": "2022-11-18T09:43:26.491826Z",
     "start_time": "2022-11-18T09:43:26.477863Z"
    }
   },
   "outputs": [
    {
     "data": {
      "text/html": [
       "<div>\n",
       "<style scoped>\n",
       "    .dataframe tbody tr th:only-of-type {\n",
       "        vertical-align: middle;\n",
       "    }\n",
       "\n",
       "    .dataframe tbody tr th {\n",
       "        vertical-align: top;\n",
       "    }\n",
       "\n",
       "    .dataframe thead th {\n",
       "        text-align: right;\n",
       "    }\n",
       "</style>\n",
       "<table border=\"1\" class=\"dataframe\">\n",
       "  <thead>\n",
       "    <tr style=\"text-align: right;\">\n",
       "      <th></th>\n",
       "      <th>source</th>\n",
       "      <th>count_users</th>\n",
       "      <th>count_users_contasts_show</th>\n",
       "      <th>conversion</th>\n",
       "    </tr>\n",
       "  </thead>\n",
       "  <tbody>\n",
       "    <tr>\n",
       "      <th>0</th>\n",
       "      <td>google</td>\n",
       "      <td>1129</td>\n",
       "      <td>275</td>\n",
       "      <td>0.24</td>\n",
       "    </tr>\n",
       "    <tr>\n",
       "      <th>1</th>\n",
       "      <td>other</td>\n",
       "      <td>1230</td>\n",
       "      <td>228</td>\n",
       "      <td>0.19</td>\n",
       "    </tr>\n",
       "    <tr>\n",
       "      <th>2</th>\n",
       "      <td>yandex</td>\n",
       "      <td>1934</td>\n",
       "      <td>478</td>\n",
       "      <td>0.25</td>\n",
       "    </tr>\n",
       "  </tbody>\n",
       "</table>\n",
       "</div>"
      ],
      "text/plain": [
       "   source  count_users  count_users_contasts_show  conversion\n",
       "0  google         1129                        275        0.24\n",
       "1   other         1230                        228        0.19\n",
       "2  yandex         1934                        478        0.25"
      ]
     },
     "execution_count": 124,
     "metadata": {},
     "output_type": "execute_result"
    }
   ],
   "source": [
    "source"
   ]
  },
  {
   "cell_type": "code",
   "execution_count": 125,
   "metadata": {
    "ExecuteTime": {
     "end_time": "2022-11-18T09:43:26.807979Z",
     "start_time": "2022-11-18T09:43:26.773075Z"
    }
   },
   "outputs": [
    {
     "name": "stdout",
     "output_type": "stream",
     "text": [
      "p-значение: 0.8244316027993777\n",
      "Не получилось отвергнуть нулевую гипотезу, нет оснований считать доли разными\n"
     ]
    }
   ],
   "source": [
    "alpha = 0.05 # критический уровень статистической значимости\n",
    "\n",
    "google_ind = 0\n",
    "yandex_ind = 2\n",
    "successes = np.array([source.loc[google_ind,'count_users_contasts_show'], source.loc[yandex_ind,'count_users_contasts_show']])\n",
    "trials = np.array([source.loc[google_ind,'count_users'], source.loc[yandex_ind,'count_users']])\n",
    "\n",
    "# пропорция успехов в первой группе:\n",
    "p1 = successes[0]/trials[0]\n",
    "\n",
    "# пропорция успехов во второй группе:\n",
    "p2 = successes[1]/trials[1]\n",
    "\n",
    "# пропорция успехов в комбинированном датасете:\n",
    "p_combined = (successes[0] + successes[1]) / (trials[0] + trials[1])\n",
    "\n",
    "# разница пропорций в датасетах\n",
    "difference = p1 - p2\n",
    "\n",
    "# считаем статистику в ст.отклонениях стандартного нормального распределения\n",
    "z_value = difference / mth.sqrt(p_combined * (1 - p_combined) * (1/trials[0] + 1/trials[1]))\n",
    "\n",
    "# задаем стандартное нормальное распределение (среднее 0, ст.отклонение 1)\n",
    "distr = st.norm(0, 1)\n",
    "\n",
    "p_value = (1 - distr.cdf(abs(z_value))) * 2\n",
    "\n",
    "print('p-значение:', p_value)\n",
    "\n",
    "if p_value < alpha:\n",
    "    print('Отвергаем нулевую гипотезу: между долями есть значимая разница')\n",
    "else:\n",
    "    print('Не получилось отвергнуть нулевую гипотезу, нет оснований считать доли разными')"
   ]
  },
  {
   "cell_type": "markdown",
   "metadata": {},
   "source": [
    "**Вывод:**\n",
    "\n",
    "Нет оснований утверждать, что доли пользователей из разных источников статистически отличаются."
   ]
  },
  {
   "cell_type": "markdown",
   "metadata": {},
   "source": [
    "### Средняя длительность сессий пользователей из google и яндекс\n",
    "\n",
    "Посчитаю статистическую значимость различий в средней продолжительности сессии между группами пользователями, пришедшими из `google` и `yandex`.\n",
    "\n",
    "Воспользуюсь критерием Манна-Уитни\n",
    "\n",
    "- H0: Средняя длительность сессии пользователей, пришедших через `google` **не превосходит** среднее время пользователей из `yandex`\n",
    "- H1: Средняя длительность сессии пользователей, пришедших через `google` **превосходит** среднее время пользователей из `yandex`"
   ]
  },
  {
   "cell_type": "code",
   "execution_count": 126,
   "metadata": {
    "ExecuteTime": {
     "end_time": "2022-11-18T09:43:28.664016Z",
     "start_time": "2022-11-18T09:43:28.598193Z"
    }
   },
   "outputs": [
    {
     "name": "stdout",
     "output_type": "stream",
     "text": [
      "p-значение: [0.00082904]\n",
      "Отвергаем нулевую гипотезу\n"
     ]
    }
   ],
   "source": [
    "google = mobile[mobile['source'] == 'google'].groupby('session_id')[['session_duration_m']].agg('mean')\n",
    "yandex = mobile[mobile['source'] == 'yandex'].groupby('session_id')[['session_duration_m']].agg('mean')\n",
    "\n",
    "# Критический уровень статистиеской значимости в 5%\n",
    "alpha = 0.05\n",
    "\n",
    "results = st.ttest_ind(google, yandex)\n",
    "\n",
    "print('p-значение:', results.pvalue)\n",
    "\n",
    "if results.pvalue < alpha:\n",
    "    print(\"Отвергаем нулевую гипотезу\")\n",
    "else:\n",
    "    print(\"Не получилось отвергнуть нулевую гипотезу\")"
   ]
  },
  {
   "cell_type": "code",
   "execution_count": 127,
   "metadata": {
    "ExecuteTime": {
     "end_time": "2022-11-18T09:43:29.327242Z",
     "start_time": "2022-11-18T09:43:29.317303Z"
    },
    "scrolled": true
   },
   "outputs": [
    {
     "name": "stdout",
     "output_type": "stream",
     "text": [
      "Средняя продолжительность сессии пользователей из google: 9.34\n",
      "Средняя продолжительность сессии пользователей из yandex: 10.43\n"
     ]
    }
   ],
   "source": [
    "print('Средняя продолжительность сессии пользователей из google: {:,.2f}'.format(google['session_duration_m'].mean()))\n",
    "\n",
    "print('Средняя продолжительность сессии пользователей из yandex: {:,.2f}'.format(yandex['session_duration_m'].mean()))"
   ]
  },
  {
   "cell_type": "markdown",
   "metadata": {},
   "source": [
    "**Вывод:**\n",
    "\n",
    "Средняя продолжительность сессии статистически значимо не отличается в разрезе источников google и yandex."
   ]
  },
  {
   "cell_type": "markdown",
   "metadata": {},
   "source": [
    "[Оглавление](#section_id)"
   ]
  },
  {
   "cell_type": "markdown",
   "metadata": {},
   "source": [
    "## Dashboard"
   ]
  },
  {
   "cell_type": "markdown",
   "metadata": {},
   "source": [
    "[Tableau Dashboard](https://public.tableau.com/app/profile/damir2910/viz/da_49_13_final_mobile_app/sheet3?publish=yes)\n",
    "\n",
    "[Presentation](https://drive.google.com/file/d/1AnQ0sg8OrI9eW7fZRQV1iZZ_RwiqDcqU/view?usp=sharing)"
   ]
  },
  {
   "cell_type": "markdown",
   "metadata": {},
   "source": [
    "## Результаты исследования\n",
    "<a id='section_id5'></a>\n"
   ]
  },
  {
   "attachments": {
    "image.png": {
     "image/png": "[encoded data removed]"
    }
   },
   "cell_type": "markdown",
   "metadata": {},
   "source": [
    "**Описание данных**\n",
    "\n",
    "Для проведения исследования использовался датасет с данными пользователей по взаимодействию с мобильным приложением \"Ненужные вещи\".\n",
    "\n",
    "**Предобработка данных**\n",
    "\n",
    "В ходе первичного анализа пропуски, дубликаты и какие-либо аномалии, связанные с качеством данных не обнаружены. В ходе предобработки названия колонок приведены к единому стилистическому формату.\n",
    "\n",
    "**Исследовательский анализ данных - EDA**\n",
    "\n",
    "В рамках исследовательского анализа данных выявлено:\n",
    "- Количество событий в датасете: 73079\n",
    "- Число уникальных пользователей: 4293\n",
    "- Временной период: с 07.10.2019 по 03.11.2019\n",
    "- Посчитаны метрики DAU / WAU \n",
    "\n",
    "![image.png](attachment:image.png)"
   ]
  },
  {
   "cell_type": "markdown",
   "metadata": {},
   "source": [
    "### Поведенческие сценарии\n",
    "\n",
    "При анализе поведенческих сценариев, выявлено:\n",
    "1. tips_show - самый полпулярный вид события, как следует из описания данных - это техническое автоматическое событие, выполняемое приложением автоматически.\n",
    "\n",
    "2. Уникальные пользователи распределяются по видам событий аналогичным образом больше всего сталкиваются с автоматическим событием tips_show, далее идут события map, photos_show, contacts_show с каждым из которых взаимодействовали более тысячи пользователей. остальные события, в том числе 7 видов search менее популярны.\n",
    "\n",
    "3. Пользователи разбиты на сессии на основе тайм-аута в 15 минут между событиями. Итого получилось 11 537 сессий.\n",
    "\n",
    "-  Средняя длина около 9 с половиной минут, медианное значение ~4 минут 20 секунд. На диаграмме размаха наглядно видно - большая часть сессий длится до 15 минут, но также отмечу, что есть много сессий-выбросов, длиннее 20 минут или правее верхнего уса (3 квартиль * 1.5). В датафрейм добавлена длительность сессии - использую данное поле для проверки статистической разницы между пользователями, пришедшими из `google` и `yandex`.\n",
    "\n",
    "- Большая часть сессий (около половины) состоит из 1-2 событий.\n",
    "\n",
    "4. Выделены 3 пользовательских сценария на основе частотности. \n",
    "   \n",
    "    - 'map', 'tips_show', 'contacts_show'\n",
    "    - 'search_1', 'photos_show', 'contacts_show'\n",
    "    - 'tips_show', 'tips_click', 'contacts_show'\n",
    "\n",
    "5. В рамках анализа трёх наиболее популярных сценариев, наилучшая конверсия выявлена у сценария 2 ('search_1', 'photos_show', 'contacts_show') на уровне 24%. Наименьшая конверсия в 3% у сценария 3 ('tips_show', 'tips_click', 'contacts_show').\n",
    "\n",
    "6. В разрезе трёх выбранных сценариев, среднее время сессии колеблется от 14 минут 30 секунд по 2 сценарию до 27 минут по сценарию №3, у сценария №1 среднее время сессии на уровне 18 минут 40 секунд. Медианные значения времени сессии у сценариев 1 и 2 ниже средних значений - это говорит о наличии длительных сессий-выбросов. Медианное значение сценария 3 немного ниже среднего значения, что сигнализирует о большом количестве коротких сессий.\n",
    "\n",
    "7. Источник не является существенным критерием совершения целевого действия. Однако пользователи, привлечённые через рекламный канал Yandex совершают целевое действие несколько чаще с уровнем конверсии в 25%, при конверсии пользователей Google в 24% и конверсией 19% с прочих источников."
   ]
  },
  {
   "cell_type": "markdown",
   "metadata": {},
   "source": [
    "### Проверка статистических гипотез\n",
    "\n",
    "Было проведено 3 проверки статистических гипотез\n",
    "1. **Пользователи групп tips_show-tips_click и tips_show**\n",
    "    \n",
    "    Гипотеза: конверсия в просмотры контактов различается у этих двух групп.\n",
    "\n",
    "- Н0: конверсии пользователей в просмотры контактов из групп `tips_show`-`tips_click` и `tips_show` **не различаются**\n",
    "- Н1: конверсии пользователей в просмотры контактов из групп `tips_show`-`tips_click` и `tips_show` **различаются**\n",
    "\n",
    "**Вывод:**\n",
    "Применив z-критерий, выявлено, что p-value ниже критического уровня статистической значимости, отвергаем нулевую гипотезу - между долями есть статистически значимая разница.\n",
    "\n",
    "2. **Пользователи из разных источников (google, yandex)**\n",
    "\n",
    "Проверить гипотезу: конверсия в просмотры контактов различается у пользователей из разных источников - `google` и `yandex`.\n",
    "\n",
    "- H0: конверсии пользователей в просмотры контактов из источников `google` и `yandex` **не различаются**.\n",
    "- H1: конверсии пользователей в просмотры контактов из источников yandex и google **различаются**.\n",
    "\n",
    "**Вывод:**\n",
    "Применив z-критерий, нет оснований утверждать, что доли пользователей из разных источников статистически отличаются.\n",
    "\n",
    "3. **Средняя длительность сессий пользователей из google и яндекс**\n",
    "\n",
    "Проверить гипотзеу: средняя продолжительность сессии между группами пользователей статистически не отличается. Посчитаю статистическую значимость различий в средней продолжительности сессии между группами пользователями, пришедшими из `google` и `yandex`.\n",
    "\n",
    "Воспользовался критерием Манна-Уитни\n",
    "\n",
    "- H0: Средняя длительность сессии пользователей, пришедших через google не превосходит среднее время пользователей из yandex\n",
    "- H1: Средняя длительность сессии пользователей, пришедших через google превосходит среднее время пользователей из yandex\n",
    "\n",
    "**Вывод:**\n",
    "Средняя продолжительность сессии статистически значимо не отличается в разрезе источников google и yandex."
   ]
  },
  {
   "cell_type": "markdown",
   "metadata": {},
   "source": [
    "### Рекоммендации по развитию приложения\n",
    "\n",
    "1. Чтобы увеличить конверсию в событие просмотр контактов, то нужно стремиться уменьшать среднюю длительность сессии пользователя. \n",
    "\n",
    "2. С событиями `search_2`, `search_3`, `search_6`, `search_7` пользователи взаимодействуют минимально, стоит обсудить с продакт менеджером целесообразность поддерживания данных фич в приложении. Либо их нужно доработать, либо убрать, так как они непопулярны.\n",
    "\n",
    "3. Доработать процесс поиска в приложении. Некоторые пользователи достаточно много проводят время в приложении. Возможно проблемы с навигацией."
   ]
  }
 ],
 "metadata": {
  "ExecuteTimeLog": [
   {
    "duration": 3,
    "start_time": "2022-10-27T11:15:24.691Z"
   },
   {
    "duration": 45,
    "start_time": "2022-10-27T11:18:57.153Z"
   },
   {
    "duration": 1410,
    "start_time": "2022-10-27T11:20:09.201Z"
   },
   {
    "duration": 35,
    "start_time": "2022-10-27T11:20:23.080Z"
   },
   {
    "duration": 349,
    "start_time": "2022-10-27T11:22:13.112Z"
   },
   {
    "duration": 239,
    "start_time": "2022-10-27T11:22:18.544Z"
   },
   {
    "duration": 11,
    "start_time": "2022-10-27T11:23:06.183Z"
   },
   {
    "duration": 7,
    "start_time": "2022-10-27T11:23:11.497Z"
   },
   {
    "duration": 6,
    "start_time": "2022-10-27T11:23:12.489Z"
   },
   {
    "duration": 7,
    "start_time": "2022-10-27T11:23:17.785Z"
   },
   {
    "duration": 6,
    "start_time": "2022-10-27T11:23:21.254Z"
   },
   {
    "duration": 6,
    "start_time": "2022-10-27T11:23:22.429Z"
   },
   {
    "duration": 11,
    "start_time": "2022-10-27T11:23:27.045Z"
   },
   {
    "duration": 6,
    "start_time": "2022-10-27T11:23:40.676Z"
   },
   {
    "duration": 8,
    "start_time": "2022-10-27T11:23:48.233Z"
   },
   {
    "duration": 18,
    "start_time": "2022-10-27T11:23:52.765Z"
   },
   {
    "duration": 4,
    "start_time": "2022-10-27T11:30:24.635Z"
   },
   {
    "duration": 10,
    "start_time": "2022-10-27T11:30:30.475Z"
   },
   {
    "duration": 8,
    "start_time": "2022-10-27T11:30:36.856Z"
   },
   {
    "duration": 15,
    "start_time": "2022-10-27T11:30:41.163Z"
   },
   {
    "duration": 4,
    "start_time": "2022-10-27T11:32:34.163Z"
   },
   {
    "duration": 11,
    "start_time": "2022-10-27T11:32:43.320Z"
   },
   {
    "duration": 7,
    "start_time": "2022-10-27T11:32:52.632Z"
   },
   {
    "duration": 3,
    "start_time": "2022-10-27T11:33:00.387Z"
   },
   {
    "duration": 8,
    "start_time": "2022-10-27T11:33:10.133Z"
   },
   {
    "duration": 13,
    "start_time": "2022-10-27T11:33:10.806Z"
   },
   {
    "duration": 3,
    "start_time": "2022-10-27T11:33:42.469Z"
   },
   {
    "duration": 17,
    "start_time": "2022-10-27T11:35:29.599Z"
   },
   {
    "duration": 145,
    "start_time": "2022-10-27T11:37:01.812Z"
   },
   {
    "duration": 4,
    "start_time": "2022-10-27T11:40:18.485Z"
   },
   {
    "duration": 125,
    "start_time": "2022-10-27T11:40:36.580Z"
   },
   {
    "duration": 8,
    "start_time": "2022-10-27T11:40:42.341Z"
   },
   {
    "duration": 7,
    "start_time": "2022-10-27T11:41:11.773Z"
   },
   {
    "duration": 33,
    "start_time": "2022-10-27T11:41:22.574Z"
   },
   {
    "duration": 31,
    "start_time": "2022-10-27T11:41:32.277Z"
   },
   {
    "duration": 44,
    "start_time": "2022-10-27T11:42:12.682Z"
   },
   {
    "duration": 31,
    "start_time": "2022-10-27T11:42:16.850Z"
   },
   {
    "duration": 1332,
    "start_time": "2022-10-27T14:29:56.330Z"
   },
   {
    "duration": 31,
    "start_time": "2022-10-27T14:29:57.664Z"
   },
   {
    "duration": 263,
    "start_time": "2022-10-27T14:29:57.696Z"
   },
   {
    "duration": 10,
    "start_time": "2022-10-27T14:29:57.961Z"
   },
   {
    "duration": 7,
    "start_time": "2022-10-27T14:29:57.978Z"
   },
   {
    "duration": 14,
    "start_time": "2022-10-27T14:29:57.986Z"
   },
   {
    "duration": 11,
    "start_time": "2022-10-27T14:29:58.002Z"
   },
   {
    "duration": 18,
    "start_time": "2022-10-27T14:29:58.014Z"
   },
   {
    "duration": 20,
    "start_time": "2022-10-27T14:29:58.034Z"
   },
   {
    "duration": 19,
    "start_time": "2022-10-27T14:29:58.055Z"
   },
   {
    "duration": 7,
    "start_time": "2022-10-27T14:29:58.076Z"
   },
   {
    "duration": 38,
    "start_time": "2022-10-27T14:29:58.085Z"
   },
   {
    "duration": 50,
    "start_time": "2022-10-27T14:37:54.930Z"
   },
   {
    "duration": 31,
    "start_time": "2022-10-27T14:37:59.641Z"
   },
   {
    "duration": 34,
    "start_time": "2022-10-27T14:38:05.909Z"
   },
   {
    "duration": 30,
    "start_time": "2022-10-27T14:38:13.523Z"
   },
   {
    "duration": 4,
    "start_time": "2022-10-27T14:39:22.610Z"
   },
   {
    "duration": 3,
    "start_time": "2022-10-27T14:39:25.062Z"
   },
   {
    "duration": 860,
    "start_time": "2022-10-27T15:16:30.181Z"
   },
   {
    "duration": 26,
    "start_time": "2022-10-27T15:16:39.556Z"
   },
   {
    "duration": 28,
    "start_time": "2022-10-27T15:16:50.049Z"
   },
   {
    "duration": 21,
    "start_time": "2022-10-27T15:16:56.177Z"
   },
   {
    "duration": 61,
    "start_time": "2022-10-27T15:17:19.597Z"
   },
   {
    "duration": 1320,
    "start_time": "2022-10-27T15:17:37.765Z"
   },
   {
    "duration": 27,
    "start_time": "2022-10-27T15:17:39.088Z"
   },
   {
    "duration": 284,
    "start_time": "2022-10-27T15:17:39.116Z"
   },
   {
    "duration": 10,
    "start_time": "2022-10-27T15:17:39.401Z"
   },
   {
    "duration": 13,
    "start_time": "2022-10-27T15:17:39.413Z"
   },
   {
    "duration": 27,
    "start_time": "2022-10-27T15:17:39.427Z"
   },
   {
    "duration": 29,
    "start_time": "2022-10-27T15:17:39.456Z"
   },
   {
    "duration": 30,
    "start_time": "2022-10-27T15:17:39.487Z"
   },
   {
    "duration": 50,
    "start_time": "2022-10-27T15:17:39.518Z"
   },
   {
    "duration": 28,
    "start_time": "2022-10-27T15:17:39.570Z"
   },
   {
    "duration": 12,
    "start_time": "2022-10-27T15:17:39.600Z"
   },
   {
    "duration": 69,
    "start_time": "2022-10-27T15:17:39.613Z"
   },
   {
    "duration": 24,
    "start_time": "2022-10-27T15:17:39.684Z"
   },
   {
    "duration": 7,
    "start_time": "2022-10-27T15:18:53.059Z"
   },
   {
    "duration": 27,
    "start_time": "2022-10-27T15:19:08.171Z"
   },
   {
    "duration": 807,
    "start_time": "2022-10-27T15:20:28.985Z"
   },
   {
    "duration": 8,
    "start_time": "2022-10-27T15:20:34.786Z"
   },
   {
    "duration": 38,
    "start_time": "2022-10-27T15:20:35.930Z"
   },
   {
    "duration": 789,
    "start_time": "2022-10-27T15:20:36.493Z"
   },
   {
    "duration": 1265,
    "start_time": "2022-10-27T15:20:56.286Z"
   },
   {
    "duration": 46,
    "start_time": "2022-10-27T15:20:57.553Z"
   },
   {
    "duration": 243,
    "start_time": "2022-10-27T15:20:57.601Z"
   },
   {
    "duration": 9,
    "start_time": "2022-10-27T15:20:57.846Z"
   },
   {
    "duration": 8,
    "start_time": "2022-10-27T15:20:57.856Z"
   },
   {
    "duration": 11,
    "start_time": "2022-10-27T15:20:57.877Z"
   },
   {
    "duration": 14,
    "start_time": "2022-10-27T15:20:57.890Z"
   },
   {
    "duration": 9,
    "start_time": "2022-10-27T15:20:57.906Z"
   },
   {
    "duration": 18,
    "start_time": "2022-10-27T15:20:57.916Z"
   },
   {
    "duration": 6,
    "start_time": "2022-10-27T15:20:57.937Z"
   },
   {
    "duration": 62,
    "start_time": "2022-10-27T15:20:57.945Z"
   },
   {
    "duration": 43,
    "start_time": "2022-10-27T15:20:58.008Z"
   },
   {
    "duration": 31,
    "start_time": "2022-10-27T15:21:22.769Z"
   },
   {
    "duration": 33,
    "start_time": "2022-10-27T16:07:21.896Z"
   },
   {
    "duration": 50,
    "start_time": "2022-10-27T16:07:45.324Z"
   },
   {
    "duration": 41,
    "start_time": "2022-10-27T16:08:03.239Z"
   },
   {
    "duration": 39,
    "start_time": "2022-10-27T16:08:42.195Z"
   },
   {
    "duration": 1340,
    "start_time": "2022-10-27T16:08:50.323Z"
   },
   {
    "duration": 39,
    "start_time": "2022-10-27T16:08:51.665Z"
   },
   {
    "duration": 308,
    "start_time": "2022-10-27T16:08:51.705Z"
   },
   {
    "duration": 9,
    "start_time": "2022-10-27T16:08:52.015Z"
   },
   {
    "duration": 12,
    "start_time": "2022-10-27T16:08:52.025Z"
   },
   {
    "duration": 17,
    "start_time": "2022-10-27T16:08:52.038Z"
   },
   {
    "duration": 11,
    "start_time": "2022-10-27T16:08:52.056Z"
   },
   {
    "duration": 75,
    "start_time": "2022-10-27T16:08:52.077Z"
   },
   {
    "duration": 22,
    "start_time": "2022-10-27T16:08:52.153Z"
   },
   {
    "duration": 6,
    "start_time": "2022-10-27T16:08:52.178Z"
   },
   {
    "duration": 45,
    "start_time": "2022-10-27T16:08:52.186Z"
   },
   {
    "duration": 49,
    "start_time": "2022-10-27T16:08:52.232Z"
   },
   {
    "duration": 42,
    "start_time": "2022-10-27T16:09:12.207Z"
   },
   {
    "duration": 34,
    "start_time": "2022-10-27T16:09:21.589Z"
   },
   {
    "duration": 72,
    "start_time": "2022-10-27T16:12:10.396Z"
   },
   {
    "duration": 81,
    "start_time": "2022-10-27T16:12:17.213Z"
   },
   {
    "duration": 76,
    "start_time": "2022-10-27T16:12:26.227Z"
   },
   {
    "duration": 498,
    "start_time": "2022-10-27T16:12:55.747Z"
   },
   {
    "duration": 145,
    "start_time": "2022-10-27T16:13:56.507Z"
   },
   {
    "duration": 86,
    "start_time": "2022-10-27T16:14:09.119Z"
   },
   {
    "duration": 601,
    "start_time": "2022-10-27T16:14:15.083Z"
   },
   {
    "duration": 57,
    "start_time": "2022-10-27T16:15:16.772Z"
   },
   {
    "duration": 552,
    "start_time": "2022-10-27T16:15:18.211Z"
   },
   {
    "duration": 88,
    "start_time": "2022-10-27T16:15:31.605Z"
   },
   {
    "duration": 427,
    "start_time": "2022-10-27T16:15:33.707Z"
   },
   {
    "duration": 93,
    "start_time": "2022-10-27T16:15:54.532Z"
   },
   {
    "duration": 557,
    "start_time": "2022-10-27T16:15:58.918Z"
   },
   {
    "duration": 88,
    "start_time": "2022-10-27T16:16:05.710Z"
   },
   {
    "duration": 18,
    "start_time": "2022-10-27T16:16:09.678Z"
   },
   {
    "duration": 483,
    "start_time": "2022-10-27T16:16:47.754Z"
   },
   {
    "duration": 451,
    "start_time": "2022-10-27T16:16:50.179Z"
   },
   {
    "duration": 514,
    "start_time": "2022-10-27T16:16:53.871Z"
   },
   {
    "duration": 415,
    "start_time": "2022-10-27T16:16:57.303Z"
   },
   {
    "duration": 612,
    "start_time": "2022-10-27T16:17:55.533Z"
   },
   {
    "duration": 515,
    "start_time": "2022-10-27T16:18:00.039Z"
   },
   {
    "duration": 546,
    "start_time": "2022-10-27T16:18:04.724Z"
   },
   {
    "duration": 15,
    "start_time": "2022-10-27T16:18:22.675Z"
   },
   {
    "duration": 17,
    "start_time": "2022-10-27T16:18:31.286Z"
   },
   {
    "duration": 18,
    "start_time": "2022-10-27T16:18:36.375Z"
   },
   {
    "duration": 11,
    "start_time": "2022-10-27T16:18:46.882Z"
   },
   {
    "duration": 1021,
    "start_time": "2022-10-27T16:21:28.259Z"
   },
   {
    "duration": 88,
    "start_time": "2022-10-27T16:21:50.882Z"
   },
   {
    "duration": 311,
    "start_time": "2022-10-27T16:22:39.453Z"
   },
   {
    "duration": 64,
    "start_time": "2022-10-27T16:22:58.297Z"
   },
   {
    "duration": 1166,
    "start_time": "2022-10-27T16:23:09.318Z"
   },
   {
    "duration": 28,
    "start_time": "2022-10-27T16:23:10.486Z"
   },
   {
    "duration": 197,
    "start_time": "2022-10-27T16:23:10.516Z"
   },
   {
    "duration": 10,
    "start_time": "2022-10-27T16:23:10.714Z"
   },
   {
    "duration": 9,
    "start_time": "2022-10-27T16:23:10.726Z"
   },
   {
    "duration": 15,
    "start_time": "2022-10-27T16:23:10.736Z"
   },
   {
    "duration": 25,
    "start_time": "2022-10-27T16:23:10.752Z"
   },
   {
    "duration": 8,
    "start_time": "2022-10-27T16:23:10.778Z"
   },
   {
    "duration": 19,
    "start_time": "2022-10-27T16:23:10.787Z"
   },
   {
    "duration": 6,
    "start_time": "2022-10-27T16:23:10.808Z"
   },
   {
    "duration": 44,
    "start_time": "2022-10-27T16:23:10.815Z"
   },
   {
    "duration": 58,
    "start_time": "2022-10-27T16:23:10.876Z"
   },
   {
    "duration": 9,
    "start_time": "2022-10-27T16:23:10.936Z"
   },
   {
    "duration": 592,
    "start_time": "2022-10-27T16:23:10.948Z"
   },
   {
    "duration": 528,
    "start_time": "2022-10-27T16:31:01.446Z"
   },
   {
    "duration": 514,
    "start_time": "2022-10-27T16:31:12.082Z"
   },
   {
    "duration": 519,
    "start_time": "2022-10-27T16:31:17.414Z"
   },
   {
    "duration": 511,
    "start_time": "2022-10-27T16:31:22.011Z"
   },
   {
    "duration": 59,
    "start_time": "2022-10-27T16:43:12.541Z"
   },
   {
    "duration": 14,
    "start_time": "2022-10-27T16:44:18.661Z"
   },
   {
    "duration": 26,
    "start_time": "2022-10-27T16:44:34.519Z"
   },
   {
    "duration": 23,
    "start_time": "2022-10-27T16:44:40.713Z"
   },
   {
    "duration": 118,
    "start_time": "2022-10-27T16:44:48.937Z"
   },
   {
    "duration": 44,
    "start_time": "2022-10-27T16:44:56.286Z"
   },
   {
    "duration": 8,
    "start_time": "2022-10-27T16:45:00.765Z"
   },
   {
    "duration": 46,
    "start_time": "2022-10-27T16:45:29.077Z"
   },
   {
    "duration": 50,
    "start_time": "2022-10-27T16:45:33.190Z"
   },
   {
    "duration": 31,
    "start_time": "2022-10-27T16:45:59.747Z"
   },
   {
    "duration": 62,
    "start_time": "2022-10-27T16:46:36.655Z"
   },
   {
    "duration": 9,
    "start_time": "2022-10-27T16:46:52.578Z"
   },
   {
    "duration": 19,
    "start_time": "2022-10-27T16:46:59.447Z"
   },
   {
    "duration": 196,
    "start_time": "2022-10-27T16:47:30.060Z"
   },
   {
    "duration": 171,
    "start_time": "2022-10-27T16:47:33.117Z"
   },
   {
    "duration": 30,
    "start_time": "2022-10-27T16:47:56.965Z"
   },
   {
    "duration": 48,
    "start_time": "2022-10-27T17:02:46.792Z"
   },
   {
    "duration": 41,
    "start_time": "2022-10-27T17:02:51.180Z"
   },
   {
    "duration": 1227,
    "start_time": "2022-10-27T17:03:18.554Z"
   },
   {
    "duration": 29,
    "start_time": "2022-10-27T17:03:19.783Z"
   },
   {
    "duration": 248,
    "start_time": "2022-10-27T17:03:19.813Z"
   },
   {
    "duration": 9,
    "start_time": "2022-10-27T17:03:20.064Z"
   },
   {
    "duration": 15,
    "start_time": "2022-10-27T17:03:20.074Z"
   },
   {
    "duration": 22,
    "start_time": "2022-10-27T17:03:20.090Z"
   },
   {
    "duration": 28,
    "start_time": "2022-10-27T17:03:20.113Z"
   },
   {
    "duration": 23,
    "start_time": "2022-10-27T17:03:20.143Z"
   },
   {
    "duration": 17,
    "start_time": "2022-10-27T17:03:20.168Z"
   },
   {
    "duration": 8,
    "start_time": "2022-10-27T17:03:20.187Z"
   },
   {
    "duration": 41,
    "start_time": "2022-10-27T17:03:20.196Z"
   },
   {
    "duration": 51,
    "start_time": "2022-10-27T17:03:20.238Z"
   },
   {
    "duration": 3,
    "start_time": "2022-10-27T17:03:20.290Z"
   },
   {
    "duration": 15,
    "start_time": "2022-10-27T17:03:20.295Z"
   },
   {
    "duration": 636,
    "start_time": "2022-10-27T17:03:20.312Z"
   },
   {
    "duration": 19,
    "start_time": "2022-10-27T17:04:17.653Z"
   },
   {
    "duration": 18,
    "start_time": "2022-10-27T17:12:52.052Z"
   },
   {
    "duration": 38,
    "start_time": "2022-10-27T17:13:16.026Z"
   },
   {
    "duration": 18,
    "start_time": "2022-10-27T17:14:10.299Z"
   },
   {
    "duration": 19,
    "start_time": "2022-10-27T17:14:18.139Z"
   },
   {
    "duration": 18,
    "start_time": "2022-10-27T17:14:22.336Z"
   },
   {
    "duration": 20,
    "start_time": "2022-10-27T17:14:33.317Z"
   },
   {
    "duration": 19,
    "start_time": "2022-10-27T17:14:40.797Z"
   },
   {
    "duration": 19,
    "start_time": "2022-10-27T17:14:44.462Z"
   },
   {
    "duration": 19,
    "start_time": "2022-10-27T17:16:59.359Z"
   },
   {
    "duration": 24,
    "start_time": "2022-10-27T17:21:43.019Z"
   },
   {
    "duration": 18,
    "start_time": "2022-10-27T17:21:45.714Z"
   },
   {
    "duration": 40,
    "start_time": "2022-10-27T17:25:02.243Z"
   },
   {
    "duration": 25,
    "start_time": "2022-10-27T17:25:09.541Z"
   },
   {
    "duration": 8,
    "start_time": "2022-10-27T17:27:24.114Z"
   },
   {
    "duration": 23,
    "start_time": "2022-10-27T17:27:27.408Z"
   },
   {
    "duration": 25,
    "start_time": "2022-10-27T17:27:49.642Z"
   },
   {
    "duration": 40,
    "start_time": "2022-10-27T17:40:44.174Z"
   },
   {
    "duration": 24,
    "start_time": "2022-10-27T17:41:53.359Z"
   },
   {
    "duration": 11,
    "start_time": "2022-10-27T17:42:23.628Z"
   },
   {
    "duration": 11,
    "start_time": "2022-10-27T17:43:34.309Z"
   },
   {
    "duration": 17,
    "start_time": "2022-10-27T17:57:12.671Z"
   },
   {
    "duration": 15,
    "start_time": "2022-10-27T17:57:19.049Z"
   },
   {
    "duration": 14,
    "start_time": "2022-10-27T17:58:33.992Z"
   },
   {
    "duration": 1220,
    "start_time": "2022-10-27T17:58:53.674Z"
   },
   {
    "duration": 27,
    "start_time": "2022-10-27T17:58:54.896Z"
   },
   {
    "duration": 316,
    "start_time": "2022-10-27T17:58:54.925Z"
   },
   {
    "duration": 11,
    "start_time": "2022-10-27T17:58:55.243Z"
   },
   {
    "duration": 21,
    "start_time": "2022-10-27T17:58:55.257Z"
   },
   {
    "duration": 34,
    "start_time": "2022-10-27T17:58:55.280Z"
   },
   {
    "duration": 19,
    "start_time": "2022-10-27T17:58:55.316Z"
   },
   {
    "duration": 21,
    "start_time": "2022-10-27T17:58:55.337Z"
   },
   {
    "duration": 20,
    "start_time": "2022-10-27T17:58:55.360Z"
   },
   {
    "duration": 10,
    "start_time": "2022-10-27T17:58:55.381Z"
   },
   {
    "duration": 29,
    "start_time": "2022-10-27T17:58:55.392Z"
   },
   {
    "duration": 56,
    "start_time": "2022-10-27T17:58:55.422Z"
   },
   {
    "duration": 24,
    "start_time": "2022-10-27T17:58:55.479Z"
   },
   {
    "duration": 10,
    "start_time": "2022-10-27T17:58:55.506Z"
   },
   {
    "duration": 28,
    "start_time": "2022-10-27T17:58:55.518Z"
   },
   {
    "duration": 35,
    "start_time": "2022-10-27T17:58:55.548Z"
   },
   {
    "duration": 9,
    "start_time": "2022-10-27T17:58:55.584Z"
   },
   {
    "duration": 603,
    "start_time": "2022-10-27T17:58:55.594Z"
   },
   {
    "duration": 15,
    "start_time": "2022-10-27T17:59:50.409Z"
   },
   {
    "duration": 45,
    "start_time": "2022-10-27T18:00:50.901Z"
   },
   {
    "duration": 41,
    "start_time": "2022-10-27T18:00:55.791Z"
   },
   {
    "duration": 11,
    "start_time": "2022-10-27T18:03:23.122Z"
   },
   {
    "duration": 8,
    "start_time": "2022-10-27T18:04:03.768Z"
   },
   {
    "duration": 110,
    "start_time": "2022-10-27T18:04:10.603Z"
   },
   {
    "duration": 12,
    "start_time": "2022-10-27T18:04:12.808Z"
   },
   {
    "duration": 9,
    "start_time": "2022-10-27T18:04:29.807Z"
   },
   {
    "duration": 8,
    "start_time": "2022-10-27T18:04:33.969Z"
   },
   {
    "duration": 9,
    "start_time": "2022-10-27T18:04:58.171Z"
   },
   {
    "duration": 6,
    "start_time": "2022-10-27T18:05:10.108Z"
   },
   {
    "duration": 1426,
    "start_time": "2022-10-28T08:25:36.096Z"
   },
   {
    "duration": 32,
    "start_time": "2022-10-28T08:25:37.524Z"
   },
   {
    "duration": 282,
    "start_time": "2022-10-28T08:25:37.557Z"
   },
   {
    "duration": 10,
    "start_time": "2022-10-28T08:25:37.841Z"
   },
   {
    "duration": 33,
    "start_time": "2022-10-28T08:25:37.853Z"
   },
   {
    "duration": 15,
    "start_time": "2022-10-28T08:25:37.888Z"
   },
   {
    "duration": 11,
    "start_time": "2022-10-28T08:25:37.904Z"
   },
   {
    "duration": 9,
    "start_time": "2022-10-28T08:25:37.916Z"
   },
   {
    "duration": 21,
    "start_time": "2022-10-28T08:25:37.926Z"
   },
   {
    "duration": 6,
    "start_time": "2022-10-28T08:25:37.949Z"
   },
   {
    "duration": 24,
    "start_time": "2022-10-28T08:25:37.957Z"
   },
   {
    "duration": 74,
    "start_time": "2022-10-28T08:25:37.983Z"
   },
   {
    "duration": 24,
    "start_time": "2022-10-28T08:25:38.059Z"
   },
   {
    "duration": 10,
    "start_time": "2022-10-28T08:25:38.086Z"
   },
   {
    "duration": 38,
    "start_time": "2022-10-28T08:25:38.098Z"
   },
   {
    "duration": 51,
    "start_time": "2022-10-28T08:25:38.138Z"
   },
   {
    "duration": 7,
    "start_time": "2022-10-28T08:25:38.191Z"
   },
   {
    "duration": 41,
    "start_time": "2022-10-28T08:25:38.199Z"
   },
   {
    "duration": 9,
    "start_time": "2022-10-28T08:25:38.242Z"
   },
   {
    "duration": 631,
    "start_time": "2022-10-28T08:25:38.252Z"
   },
   {
    "duration": 9,
    "start_time": "2022-10-28T08:26:08.160Z"
   },
   {
    "duration": 6,
    "start_time": "2022-10-28T08:26:12.432Z"
   },
   {
    "duration": 5,
    "start_time": "2022-10-28T08:26:33.844Z"
   },
   {
    "duration": 10,
    "start_time": "2022-10-28T08:26:51.660Z"
   },
   {
    "duration": 7,
    "start_time": "2022-10-28T08:27:36.307Z"
   },
   {
    "duration": 60,
    "start_time": "2022-10-28T08:28:12.111Z"
   },
   {
    "duration": 4,
    "start_time": "2022-10-28T08:28:17.494Z"
   },
   {
    "duration": 6,
    "start_time": "2022-10-28T08:28:23.784Z"
   },
   {
    "duration": 6,
    "start_time": "2022-10-28T08:30:18.936Z"
   },
   {
    "duration": 14,
    "start_time": "2022-10-28T08:31:03.598Z"
   },
   {
    "duration": 1188,
    "start_time": "2022-10-28T08:32:29.974Z"
   },
   {
    "duration": 30,
    "start_time": "2022-10-28T08:32:31.164Z"
   },
   {
    "duration": 239,
    "start_time": "2022-10-28T08:32:31.196Z"
   },
   {
    "duration": 9,
    "start_time": "2022-10-28T08:32:31.437Z"
   },
   {
    "duration": 7,
    "start_time": "2022-10-28T08:32:31.449Z"
   },
   {
    "duration": 20,
    "start_time": "2022-10-28T08:32:31.457Z"
   },
   {
    "duration": 10,
    "start_time": "2022-10-28T08:32:31.479Z"
   },
   {
    "duration": 10,
    "start_time": "2022-10-28T08:32:31.490Z"
   },
   {
    "duration": 37,
    "start_time": "2022-10-28T08:32:31.501Z"
   },
   {
    "duration": 6,
    "start_time": "2022-10-28T08:32:31.540Z"
   },
   {
    "duration": 19,
    "start_time": "2022-10-28T08:32:31.548Z"
   },
   {
    "duration": 44,
    "start_time": "2022-10-28T08:32:31.569Z"
   },
   {
    "duration": 44,
    "start_time": "2022-10-28T08:32:31.615Z"
   },
   {
    "duration": 9,
    "start_time": "2022-10-28T08:32:31.662Z"
   },
   {
    "duration": 22,
    "start_time": "2022-10-28T08:32:31.673Z"
   },
   {
    "duration": 61,
    "start_time": "2022-10-28T08:32:31.697Z"
   },
   {
    "duration": 6,
    "start_time": "2022-10-28T08:32:31.760Z"
   },
   {
    "duration": 21,
    "start_time": "2022-10-28T08:32:31.767Z"
   },
   {
    "duration": 11,
    "start_time": "2022-10-28T08:32:31.790Z"
   },
   {
    "duration": 1114,
    "start_time": "2022-10-28T08:32:31.803Z"
   },
   {
    "duration": 19,
    "start_time": "2022-10-28T08:32:36.361Z"
   },
   {
    "duration": 34,
    "start_time": "2022-10-28T08:32:47.233Z"
   },
   {
    "duration": 34,
    "start_time": "2022-10-28T08:32:48.993Z"
   },
   {
    "duration": 32,
    "start_time": "2022-10-28T08:32:50.109Z"
   },
   {
    "duration": 32,
    "start_time": "2022-10-28T08:33:31.540Z"
   },
   {
    "duration": 28,
    "start_time": "2022-10-28T08:33:37.801Z"
   },
   {
    "duration": 30,
    "start_time": "2022-10-28T08:33:49.833Z"
   },
   {
    "duration": 9,
    "start_time": "2022-10-28T08:33:55.838Z"
   },
   {
    "duration": 18,
    "start_time": "2022-10-28T08:34:02.041Z"
   },
   {
    "duration": 589,
    "start_time": "2022-10-28T08:34:20.455Z"
   },
   {
    "duration": 515,
    "start_time": "2022-10-28T08:34:40.206Z"
   },
   {
    "duration": 510,
    "start_time": "2022-10-28T08:34:46.481Z"
   },
   {
    "duration": 513,
    "start_time": "2022-10-28T08:34:50.700Z"
   },
   {
    "duration": 676,
    "start_time": "2022-10-28T08:34:55.746Z"
   },
   {
    "duration": 18,
    "start_time": "2022-10-28T08:37:22.489Z"
   },
   {
    "duration": 47,
    "start_time": "2022-10-28T08:37:43.186Z"
   },
   {
    "duration": 7,
    "start_time": "2022-10-28T08:38:10.580Z"
   },
   {
    "duration": 29,
    "start_time": "2022-10-28T08:47:30.646Z"
   },
   {
    "duration": 41,
    "start_time": "2022-10-28T08:47:44.490Z"
   },
   {
    "duration": 28,
    "start_time": "2022-10-28T08:47:51.953Z"
   },
   {
    "duration": 34,
    "start_time": "2022-10-28T08:48:06.210Z"
   },
   {
    "duration": 18,
    "start_time": "2022-10-28T08:49:25.917Z"
   },
   {
    "duration": 17,
    "start_time": "2022-10-28T08:49:27.940Z"
   },
   {
    "duration": 1295,
    "start_time": "2022-10-28T09:18:35.934Z"
   },
   {
    "duration": 25,
    "start_time": "2022-10-28T09:18:37.231Z"
   },
   {
    "duration": 223,
    "start_time": "2022-10-28T09:18:37.258Z"
   },
   {
    "duration": 9,
    "start_time": "2022-10-28T09:18:37.482Z"
   },
   {
    "duration": 8,
    "start_time": "2022-10-28T09:18:37.493Z"
   },
   {
    "duration": 12,
    "start_time": "2022-10-28T09:18:37.503Z"
   },
   {
    "duration": 8,
    "start_time": "2022-10-28T09:18:37.534Z"
   },
   {
    "duration": 12,
    "start_time": "2022-10-28T09:18:37.544Z"
   },
   {
    "duration": 22,
    "start_time": "2022-10-28T09:18:37.558Z"
   },
   {
    "duration": 6,
    "start_time": "2022-10-28T09:18:37.582Z"
   },
   {
    "duration": 19,
    "start_time": "2022-10-28T09:18:37.589Z"
   },
   {
    "duration": 62,
    "start_time": "2022-10-28T09:18:37.609Z"
   },
   {
    "duration": 22,
    "start_time": "2022-10-28T09:18:37.673Z"
   },
   {
    "duration": 10,
    "start_time": "2022-10-28T09:18:37.697Z"
   },
   {
    "duration": 37,
    "start_time": "2022-10-28T09:18:37.709Z"
   },
   {
    "duration": 40,
    "start_time": "2022-10-28T09:18:37.748Z"
   },
   {
    "duration": 5,
    "start_time": "2022-10-28T09:18:37.790Z"
   },
   {
    "duration": 8,
    "start_time": "2022-10-28T09:18:37.796Z"
   },
   {
    "duration": 51,
    "start_time": "2022-10-28T09:18:37.805Z"
   },
   {
    "duration": 17,
    "start_time": "2022-10-28T09:18:37.858Z"
   },
   {
    "duration": 683,
    "start_time": "2022-10-28T09:18:37.877Z"
   },
   {
    "duration": 16,
    "start_time": "2022-10-28T09:21:31.137Z"
   },
   {
    "duration": 17,
    "start_time": "2022-10-28T09:33:19.480Z"
   },
   {
    "duration": 11,
    "start_time": "2022-10-28T09:33:20.977Z"
   },
   {
    "duration": 101,
    "start_time": "2022-10-28T10:27:39.805Z"
   },
   {
    "duration": 37,
    "start_time": "2022-10-28T10:27:57.406Z"
   },
   {
    "duration": 18,
    "start_time": "2022-10-28T10:28:02.674Z"
   },
   {
    "duration": 26,
    "start_time": "2022-10-28T10:28:14.143Z"
   },
   {
    "duration": 30,
    "start_time": "2022-10-28T10:30:53.349Z"
   },
   {
    "duration": 1023,
    "start_time": "2022-10-28T10:31:18.478Z"
   },
   {
    "duration": 67,
    "start_time": "2022-10-28T10:34:07.449Z"
   },
   {
    "duration": 24,
    "start_time": "2022-10-28T10:34:18.605Z"
   },
   {
    "duration": 45,
    "start_time": "2022-10-28T10:34:23.397Z"
   },
   {
    "duration": 51,
    "start_time": "2022-10-28T10:34:27.414Z"
   },
   {
    "duration": 17,
    "start_time": "2022-10-28T10:34:29.215Z"
   },
   {
    "duration": 14,
    "start_time": "2022-10-28T10:34:36.274Z"
   },
   {
    "duration": 27,
    "start_time": "2022-10-28T10:34:57.775Z"
   },
   {
    "duration": 32,
    "start_time": "2022-10-28T10:37:00.858Z"
   },
   {
    "duration": 10,
    "start_time": "2022-10-28T10:37:23.221Z"
   },
   {
    "duration": 10,
    "start_time": "2022-10-28T10:37:26.093Z"
   },
   {
    "duration": 21,
    "start_time": "2022-10-28T10:37:35.306Z"
   },
   {
    "duration": 10,
    "start_time": "2022-10-28T10:38:49.309Z"
   },
   {
    "duration": 12,
    "start_time": "2022-10-28T10:39:00.182Z"
   },
   {
    "duration": 4,
    "start_time": "2022-10-28T10:39:04.058Z"
   },
   {
    "duration": 24,
    "start_time": "2022-10-28T10:39:08.133Z"
   },
   {
    "duration": 23,
    "start_time": "2022-10-28T10:39:37.677Z"
   },
   {
    "duration": 22,
    "start_time": "2022-10-28T10:39:41.072Z"
   },
   {
    "duration": 20,
    "start_time": "2022-10-28T10:39:43.345Z"
   },
   {
    "duration": 18,
    "start_time": "2022-10-28T10:40:03.229Z"
   },
   {
    "duration": 20,
    "start_time": "2022-10-28T10:40:08.125Z"
   },
   {
    "duration": 15,
    "start_time": "2022-10-28T10:40:26.851Z"
   },
   {
    "duration": 14,
    "start_time": "2022-10-28T10:40:29.969Z"
   },
   {
    "duration": 18,
    "start_time": "2022-10-28T10:40:42.965Z"
   },
   {
    "duration": 31,
    "start_time": "2022-10-28T10:40:51.449Z"
   },
   {
    "duration": 27,
    "start_time": "2022-10-28T10:41:05.253Z"
   },
   {
    "duration": 9,
    "start_time": "2022-10-28T10:41:21.720Z"
   },
   {
    "duration": 7,
    "start_time": "2022-10-28T10:46:54.603Z"
   },
   {
    "duration": 1216,
    "start_time": "2022-10-28T10:47:25.678Z"
   },
   {
    "duration": 27,
    "start_time": "2022-10-28T10:47:26.896Z"
   },
   {
    "duration": 310,
    "start_time": "2022-10-28T10:47:26.925Z"
   },
   {
    "duration": 9,
    "start_time": "2022-10-28T10:47:27.237Z"
   },
   {
    "duration": 8,
    "start_time": "2022-10-28T10:47:27.248Z"
   },
   {
    "duration": 13,
    "start_time": "2022-10-28T10:47:27.258Z"
   },
   {
    "duration": 13,
    "start_time": "2022-10-28T10:47:27.272Z"
   },
   {
    "duration": 12,
    "start_time": "2022-10-28T10:47:27.286Z"
   },
   {
    "duration": 34,
    "start_time": "2022-10-28T10:47:27.300Z"
   },
   {
    "duration": 6,
    "start_time": "2022-10-28T10:47:27.336Z"
   },
   {
    "duration": 114,
    "start_time": "2022-10-28T10:47:27.344Z"
   },
   {
    "duration": 0,
    "start_time": "2022-10-28T10:47:27.460Z"
   },
   {
    "duration": 0,
    "start_time": "2022-10-28T10:47:27.461Z"
   },
   {
    "duration": 0,
    "start_time": "2022-10-28T10:47:27.462Z"
   },
   {
    "duration": 0,
    "start_time": "2022-10-28T10:47:27.463Z"
   },
   {
    "duration": 0,
    "start_time": "2022-10-28T10:47:27.464Z"
   },
   {
    "duration": 0,
    "start_time": "2022-10-28T10:47:27.465Z"
   },
   {
    "duration": 0,
    "start_time": "2022-10-28T10:47:27.466Z"
   },
   {
    "duration": 0,
    "start_time": "2022-10-28T10:47:27.467Z"
   },
   {
    "duration": 0,
    "start_time": "2022-10-28T10:47:27.468Z"
   },
   {
    "duration": 0,
    "start_time": "2022-10-28T10:47:27.470Z"
   },
   {
    "duration": 0,
    "start_time": "2022-10-28T10:47:27.470Z"
   },
   {
    "duration": 0,
    "start_time": "2022-10-28T10:47:27.472Z"
   },
   {
    "duration": 0,
    "start_time": "2022-10-28T10:47:27.472Z"
   },
   {
    "duration": 0,
    "start_time": "2022-10-28T10:47:27.473Z"
   },
   {
    "duration": 0,
    "start_time": "2022-10-28T10:47:27.474Z"
   },
   {
    "duration": 41,
    "start_time": "2022-10-28T10:47:36.248Z"
   },
   {
    "duration": 28,
    "start_time": "2022-10-28T10:47:38.868Z"
   },
   {
    "duration": 18,
    "start_time": "2022-10-28T10:47:39.407Z"
   },
   {
    "duration": 41,
    "start_time": "2022-10-28T10:47:40.261Z"
   },
   {
    "duration": 25,
    "start_time": "2022-10-28T10:47:42.645Z"
   },
   {
    "duration": 11,
    "start_time": "2022-10-28T10:47:45.473Z"
   },
   {
    "duration": 21,
    "start_time": "2022-10-28T10:47:46.425Z"
   },
   {
    "duration": 17,
    "start_time": "2022-10-28T10:50:55.930Z"
   },
   {
    "duration": 882,
    "start_time": "2022-10-28T10:50:56.562Z"
   },
   {
    "duration": 0,
    "start_time": "2022-10-28T10:50:57.446Z"
   },
   {
    "duration": 10,
    "start_time": "2022-10-28T10:50:57.822Z"
   },
   {
    "duration": 17,
    "start_time": "2022-10-28T10:50:59.381Z"
   },
   {
    "duration": 42,
    "start_time": "2022-10-28T10:51:00.329Z"
   },
   {
    "duration": 6,
    "start_time": "2022-10-28T10:51:00.545Z"
   },
   {
    "duration": 5,
    "start_time": "2022-10-28T10:51:00.990Z"
   },
   {
    "duration": 32,
    "start_time": "2022-10-28T10:51:01.525Z"
   },
   {
    "duration": 20,
    "start_time": "2022-10-28T10:51:02.213Z"
   },
   {
    "duration": 12,
    "start_time": "2022-10-28T10:51:03.816Z"
   },
   {
    "duration": 9,
    "start_time": "2022-10-28T10:51:04.557Z"
   },
   {
    "duration": 26,
    "start_time": "2022-10-28T10:51:05.437Z"
   },
   {
    "duration": 17,
    "start_time": "2022-10-28T10:51:52.434Z"
   },
   {
    "duration": 15,
    "start_time": "2022-10-28T10:53:09.429Z"
   },
   {
    "duration": 6,
    "start_time": "2022-10-28T10:53:21.387Z"
   },
   {
    "duration": 12,
    "start_time": "2022-10-28T10:53:27.537Z"
   },
   {
    "duration": 18,
    "start_time": "2022-10-28T10:54:06.837Z"
   },
   {
    "duration": 19,
    "start_time": "2022-10-28T10:54:12.863Z"
   },
   {
    "duration": 64,
    "start_time": "2022-10-28T10:56:18.493Z"
   },
   {
    "duration": 15,
    "start_time": "2022-10-28T10:56:22.567Z"
   },
   {
    "duration": 12,
    "start_time": "2022-10-28T10:56:29.915Z"
   },
   {
    "duration": 20,
    "start_time": "2022-10-28T10:57:23.930Z"
   },
   {
    "duration": 222,
    "start_time": "2022-10-28T10:57:36.431Z"
   },
   {
    "duration": 25,
    "start_time": "2022-10-28T10:57:51.514Z"
   },
   {
    "duration": 24,
    "start_time": "2022-10-28T10:58:11.370Z"
   },
   {
    "duration": 121,
    "start_time": "2022-10-28T10:58:15.475Z"
   },
   {
    "duration": 23,
    "start_time": "2022-10-28T10:58:26.364Z"
   },
   {
    "duration": 13,
    "start_time": "2022-10-28T10:58:58.775Z"
   },
   {
    "duration": 36,
    "start_time": "2022-10-28T10:59:04.059Z"
   },
   {
    "duration": 30,
    "start_time": "2022-10-28T10:59:15.957Z"
   },
   {
    "duration": 37,
    "start_time": "2022-10-28T10:59:21.059Z"
   },
   {
    "duration": 35,
    "start_time": "2022-10-28T10:59:29.229Z"
   },
   {
    "duration": 34,
    "start_time": "2022-10-28T10:59:33.697Z"
   },
   {
    "duration": 126,
    "start_time": "2022-10-28T11:02:36.675Z"
   },
   {
    "duration": 19,
    "start_time": "2022-10-28T11:02:41.043Z"
   },
   {
    "duration": 18,
    "start_time": "2022-10-28T11:02:49.134Z"
   },
   {
    "duration": 22,
    "start_time": "2022-10-28T11:02:58.142Z"
   },
   {
    "duration": 215,
    "start_time": "2022-10-28T11:03:23.887Z"
   },
   {
    "duration": 240,
    "start_time": "2022-10-28T11:03:34.126Z"
   },
   {
    "duration": 23,
    "start_time": "2022-10-28T11:03:48.358Z"
   },
   {
    "duration": 227,
    "start_time": "2022-10-28T11:04:06.678Z"
   },
   {
    "duration": 117,
    "start_time": "2022-10-28T11:05:01.214Z"
   },
   {
    "duration": 15,
    "start_time": "2022-10-28T11:05:08.239Z"
   },
   {
    "duration": 295,
    "start_time": "2022-10-28T11:05:12.755Z"
   },
   {
    "duration": 241,
    "start_time": "2022-10-28T11:05:19.970Z"
   },
   {
    "duration": 252,
    "start_time": "2022-10-28T11:06:04.792Z"
   },
   {
    "duration": 218,
    "start_time": "2022-10-28T11:06:09.794Z"
   },
   {
    "duration": 234,
    "start_time": "2022-10-28T11:06:37.106Z"
   },
   {
    "duration": 234,
    "start_time": "2022-10-28T11:06:54.591Z"
   },
   {
    "duration": 261,
    "start_time": "2022-10-28T11:09:11.490Z"
   },
   {
    "duration": 862,
    "start_time": "2022-10-28T11:10:36.558Z"
   },
   {
    "duration": 9,
    "start_time": "2022-10-28T11:10:50.619Z"
   },
   {
    "duration": 6,
    "start_time": "2022-10-28T11:10:54.907Z"
   },
   {
    "duration": 275,
    "start_time": "2022-10-28T11:11:06.252Z"
   },
   {
    "duration": 998,
    "start_time": "2022-10-28T11:11:17.317Z"
   },
   {
    "duration": 7,
    "start_time": "2022-10-28T11:11:19.996Z"
   },
   {
    "duration": 10,
    "start_time": "2022-10-28T11:11:22.899Z"
   },
   {
    "duration": 226,
    "start_time": "2022-10-28T11:11:30.386Z"
   },
   {
    "duration": 35,
    "start_time": "2022-10-28T11:12:09.624Z"
   },
   {
    "duration": 7,
    "start_time": "2022-10-28T11:12:27.900Z"
   },
   {
    "duration": 8,
    "start_time": "2022-10-28T11:12:42.278Z"
   },
   {
    "duration": 11,
    "start_time": "2022-10-28T11:12:48.227Z"
   },
   {
    "duration": 236,
    "start_time": "2022-10-28T11:13:11.992Z"
   },
   {
    "duration": 225,
    "start_time": "2022-10-28T11:13:20.061Z"
   },
   {
    "duration": 437,
    "start_time": "2022-10-28T11:13:46.317Z"
   },
   {
    "duration": 294,
    "start_time": "2022-10-28T11:14:04.745Z"
   },
   {
    "duration": 293,
    "start_time": "2022-10-28T11:14:15.692Z"
   },
   {
    "duration": 233,
    "start_time": "2022-10-28T11:14:35.081Z"
   },
   {
    "duration": 232,
    "start_time": "2022-10-28T11:14:40.049Z"
   },
   {
    "duration": 250,
    "start_time": "2022-10-28T11:15:34.737Z"
   },
   {
    "duration": 275,
    "start_time": "2022-10-28T11:15:46.372Z"
   },
   {
    "duration": 245,
    "start_time": "2022-10-28T11:16:27.117Z"
   },
   {
    "duration": 232,
    "start_time": "2022-10-28T11:16:41.869Z"
   },
   {
    "duration": 242,
    "start_time": "2022-10-28T11:17:02.401Z"
   },
   {
    "duration": 234,
    "start_time": "2022-10-28T13:18:09.378Z"
   },
   {
    "duration": 317,
    "start_time": "2022-10-28T13:22:24.630Z"
   },
   {
    "duration": 255,
    "start_time": "2022-10-28T13:22:31.452Z"
   },
   {
    "duration": 12,
    "start_time": "2022-10-28T13:30:07.636Z"
   },
   {
    "duration": 10,
    "start_time": "2022-10-28T13:30:17.701Z"
   },
   {
    "duration": 11,
    "start_time": "2022-10-28T13:30:21.063Z"
   },
   {
    "duration": 19,
    "start_time": "2022-10-28T13:30:24.161Z"
   },
   {
    "duration": 291,
    "start_time": "2022-10-28T14:45:15.618Z"
   },
   {
    "duration": 48,
    "start_time": "2022-10-28T14:45:19.861Z"
   },
   {
    "duration": 75,
    "start_time": "2022-10-28T14:45:24.659Z"
   },
   {
    "duration": 100,
    "start_time": "2022-10-28T14:45:45.855Z"
   },
   {
    "duration": 72,
    "start_time": "2022-10-28T14:46:14.338Z"
   },
   {
    "duration": 65,
    "start_time": "2022-10-28T14:46:36.180Z"
   },
   {
    "duration": 16,
    "start_time": "2022-10-28T14:46:53.208Z"
   },
   {
    "duration": 16,
    "start_time": "2022-10-28T14:46:55.661Z"
   },
   {
    "duration": 15,
    "start_time": "2022-10-28T14:54:04.295Z"
   },
   {
    "duration": 17,
    "start_time": "2022-10-28T14:54:10.940Z"
   },
   {
    "duration": 16,
    "start_time": "2022-10-28T14:54:13.346Z"
   },
   {
    "duration": 631,
    "start_time": "2022-10-28T14:55:19.773Z"
   },
   {
    "duration": 568,
    "start_time": "2022-10-28T14:55:35.379Z"
   },
   {
    "duration": 588,
    "start_time": "2022-10-28T14:55:41.677Z"
   },
   {
    "duration": 670,
    "start_time": "2022-10-28T14:55:47.190Z"
   },
   {
    "duration": 557,
    "start_time": "2022-10-28T14:55:56.490Z"
   },
   {
    "duration": 29,
    "start_time": "2022-10-28T14:56:17.419Z"
   },
   {
    "duration": 577,
    "start_time": "2022-10-28T14:56:31.046Z"
   },
   {
    "duration": 5,
    "start_time": "2022-10-28T14:57:04.662Z"
   },
   {
    "duration": 5,
    "start_time": "2022-10-28T14:57:38.903Z"
   },
   {
    "duration": 579,
    "start_time": "2022-10-28T14:57:48.533Z"
   },
   {
    "duration": 12,
    "start_time": "2022-10-28T15:02:36.516Z"
   },
   {
    "duration": 10,
    "start_time": "2022-10-28T15:02:39.820Z"
   },
   {
    "duration": 54,
    "start_time": "2022-10-28T15:03:34.912Z"
   },
   {
    "duration": 17,
    "start_time": "2022-10-28T15:03:38.360Z"
   },
   {
    "duration": 22,
    "start_time": "2022-10-28T15:03:42.863Z"
   },
   {
    "duration": 22,
    "start_time": "2022-10-28T15:04:08.784Z"
   },
   {
    "duration": 19,
    "start_time": "2022-10-28T15:04:13.849Z"
   },
   {
    "duration": 22,
    "start_time": "2022-10-28T15:04:17.260Z"
   },
   {
    "duration": 20,
    "start_time": "2022-10-28T15:04:25.219Z"
   },
   {
    "duration": 22,
    "start_time": "2022-10-28T15:04:30.938Z"
   },
   {
    "duration": 20,
    "start_time": "2022-10-28T15:05:45.339Z"
   },
   {
    "duration": 838,
    "start_time": "2022-10-28T15:06:23.140Z"
   },
   {
    "duration": 1173,
    "start_time": "2022-10-28T15:06:30.471Z"
   },
   {
    "duration": 24,
    "start_time": "2022-10-28T15:06:31.646Z"
   },
   {
    "duration": 341,
    "start_time": "2022-10-28T15:06:31.671Z"
   },
   {
    "duration": 10,
    "start_time": "2022-10-28T15:06:32.014Z"
   },
   {
    "duration": 7,
    "start_time": "2022-10-28T15:06:32.034Z"
   },
   {
    "duration": 13,
    "start_time": "2022-10-28T15:06:32.042Z"
   },
   {
    "duration": 9,
    "start_time": "2022-10-28T15:06:32.056Z"
   },
   {
    "duration": 8,
    "start_time": "2022-10-28T15:06:32.067Z"
   },
   {
    "duration": 24,
    "start_time": "2022-10-28T15:06:32.077Z"
   },
   {
    "duration": 6,
    "start_time": "2022-10-28T15:06:32.102Z"
   },
   {
    "duration": 34,
    "start_time": "2022-10-28T15:06:32.110Z"
   },
   {
    "duration": 58,
    "start_time": "2022-10-28T15:06:32.146Z"
   },
   {
    "duration": 43,
    "start_time": "2022-10-28T15:06:32.206Z"
   },
   {
    "duration": 10,
    "start_time": "2022-10-28T15:06:32.251Z"
   },
   {
    "duration": 20,
    "start_time": "2022-10-28T15:06:32.263Z"
   },
   {
    "duration": 60,
    "start_time": "2022-10-28T15:06:32.284Z"
   },
   {
    "duration": 6,
    "start_time": "2022-10-28T15:06:32.345Z"
   },
   {
    "duration": 20,
    "start_time": "2022-10-28T15:06:32.352Z"
   },
   {
    "duration": 28,
    "start_time": "2022-10-28T15:06:32.373Z"
   },
   {
    "duration": 17,
    "start_time": "2022-10-28T15:06:32.403Z"
   },
   {
    "duration": 20,
    "start_time": "2022-10-28T15:06:32.421Z"
   },
   {
    "duration": 265,
    "start_time": "2022-10-28T15:06:32.443Z"
   },
   {
    "duration": 26,
    "start_time": "2022-10-28T15:06:32.709Z"
   },
   {
    "duration": 16,
    "start_time": "2022-10-28T15:06:32.736Z"
   },
   {
    "duration": 5,
    "start_time": "2022-10-28T15:06:32.754Z"
   },
   {
    "duration": 663,
    "start_time": "2022-10-28T15:06:32.760Z"
   },
   {
    "duration": 10,
    "start_time": "2022-10-28T15:06:33.425Z"
   },
   {
    "duration": 45,
    "start_time": "2022-10-28T15:06:33.437Z"
   },
   {
    "duration": 614,
    "start_time": "2022-10-28T15:07:25.908Z"
   },
   {
    "duration": 9,
    "start_time": "2022-10-28T15:07:26.524Z"
   },
   {
    "duration": 8,
    "start_time": "2022-10-28T15:07:26.535Z"
   },
   {
    "duration": 11,
    "start_time": "2022-10-28T15:07:26.838Z"
   },
   {
    "duration": 7,
    "start_time": "2022-10-28T15:07:27.272Z"
   },
   {
    "duration": 6,
    "start_time": "2022-10-28T15:07:27.900Z"
   },
   {
    "duration": 17,
    "start_time": "2022-10-28T15:07:28.185Z"
   },
   {
    "duration": 8,
    "start_time": "2022-10-28T15:07:30.685Z"
   },
   {
    "duration": 17,
    "start_time": "2022-10-28T15:07:40.571Z"
   },
   {
    "duration": 52,
    "start_time": "2022-10-28T15:09:29.888Z"
   },
   {
    "duration": 810,
    "start_time": "2022-10-28T15:09:59.161Z"
   },
   {
    "duration": 16,
    "start_time": "2022-10-28T15:10:20.216Z"
   },
   {
    "duration": 1169,
    "start_time": "2022-10-28T15:10:31.592Z"
   },
   {
    "duration": 31,
    "start_time": "2022-10-28T15:10:32.763Z"
   },
   {
    "duration": 250,
    "start_time": "2022-10-28T15:10:32.795Z"
   },
   {
    "duration": 9,
    "start_time": "2022-10-28T15:10:33.047Z"
   },
   {
    "duration": 7,
    "start_time": "2022-10-28T15:10:33.058Z"
   },
   {
    "duration": 14,
    "start_time": "2022-10-28T15:10:33.066Z"
   },
   {
    "duration": 10,
    "start_time": "2022-10-28T15:10:33.082Z"
   },
   {
    "duration": 9,
    "start_time": "2022-10-28T15:10:33.093Z"
   },
   {
    "duration": 35,
    "start_time": "2022-10-28T15:10:33.104Z"
   },
   {
    "duration": 6,
    "start_time": "2022-10-28T15:10:33.141Z"
   },
   {
    "duration": 19,
    "start_time": "2022-10-28T15:10:33.149Z"
   },
   {
    "duration": 76,
    "start_time": "2022-10-28T15:10:33.169Z"
   },
   {
    "duration": 26,
    "start_time": "2022-10-28T15:10:33.246Z"
   },
   {
    "duration": 11,
    "start_time": "2022-10-28T15:10:33.275Z"
   },
   {
    "duration": 20,
    "start_time": "2022-10-28T15:10:33.287Z"
   },
   {
    "duration": 60,
    "start_time": "2022-10-28T15:10:33.308Z"
   },
   {
    "duration": 5,
    "start_time": "2022-10-28T15:10:33.370Z"
   },
   {
    "duration": 7,
    "start_time": "2022-10-28T15:10:33.377Z"
   },
   {
    "duration": 52,
    "start_time": "2022-10-28T15:10:33.386Z"
   },
   {
    "duration": 18,
    "start_time": "2022-10-28T15:10:33.439Z"
   },
   {
    "duration": 11,
    "start_time": "2022-10-28T15:10:33.458Z"
   },
   {
    "duration": 273,
    "start_time": "2022-10-28T15:10:33.470Z"
   },
   {
    "duration": 17,
    "start_time": "2022-10-28T15:10:33.745Z"
   },
   {
    "duration": 15,
    "start_time": "2022-10-28T15:10:33.763Z"
   },
   {
    "duration": 5,
    "start_time": "2022-10-28T15:10:33.780Z"
   },
   {
    "duration": 673,
    "start_time": "2022-10-28T15:10:33.787Z"
   },
   {
    "duration": 10,
    "start_time": "2022-10-28T15:10:34.462Z"
   },
   {
    "duration": 47,
    "start_time": "2022-10-28T15:10:34.473Z"
   },
   {
    "duration": 124,
    "start_time": "2022-10-28T15:11:06.057Z"
   },
   {
    "duration": 781,
    "start_time": "2022-10-28T15:11:22.684Z"
   },
   {
    "duration": 1213,
    "start_time": "2022-10-28T15:11:40.342Z"
   },
   {
    "duration": 28,
    "start_time": "2022-10-28T15:11:41.558Z"
   },
   {
    "duration": 208,
    "start_time": "2022-10-28T15:11:41.588Z"
   },
   {
    "duration": 9,
    "start_time": "2022-10-28T15:11:41.798Z"
   },
   {
    "duration": 7,
    "start_time": "2022-10-28T15:11:41.809Z"
   },
   {
    "duration": 22,
    "start_time": "2022-10-28T15:11:41.818Z"
   },
   {
    "duration": 6,
    "start_time": "2022-10-28T15:11:41.842Z"
   },
   {
    "duration": 9,
    "start_time": "2022-10-28T15:11:41.849Z"
   },
   {
    "duration": 19,
    "start_time": "2022-10-28T15:11:41.859Z"
   },
   {
    "duration": 6,
    "start_time": "2022-10-28T15:11:41.881Z"
   },
   {
    "duration": 19,
    "start_time": "2022-10-28T15:11:41.888Z"
   },
   {
    "duration": 78,
    "start_time": "2022-10-28T15:11:41.909Z"
   },
   {
    "duration": 45,
    "start_time": "2022-10-28T15:11:41.989Z"
   },
   {
    "duration": 11,
    "start_time": "2022-10-28T15:11:42.035Z"
   },
   {
    "duration": 18,
    "start_time": "2022-10-28T15:11:42.048Z"
   },
   {
    "duration": 42,
    "start_time": "2022-10-28T15:11:42.068Z"
   },
   {
    "duration": 23,
    "start_time": "2022-10-28T15:11:42.112Z"
   },
   {
    "duration": 7,
    "start_time": "2022-10-28T15:11:42.136Z"
   },
   {
    "duration": 33,
    "start_time": "2022-10-28T15:11:42.145Z"
   },
   {
    "duration": 19,
    "start_time": "2022-10-28T15:11:42.180Z"
   },
   {
    "duration": 37,
    "start_time": "2022-10-28T15:11:42.201Z"
   },
   {
    "duration": 272,
    "start_time": "2022-10-28T15:11:42.240Z"
   },
   {
    "duration": 26,
    "start_time": "2022-10-28T15:11:42.514Z"
   },
   {
    "duration": 16,
    "start_time": "2022-10-28T15:11:42.542Z"
   },
   {
    "duration": 6,
    "start_time": "2022-10-28T15:11:42.559Z"
   },
   {
    "duration": 657,
    "start_time": "2022-10-28T15:11:42.567Z"
   },
   {
    "duration": 11,
    "start_time": "2022-10-28T15:11:43.226Z"
   },
   {
    "duration": 132,
    "start_time": "2022-10-28T15:11:43.240Z"
   },
   {
    "duration": 26,
    "start_time": "2022-10-28T15:12:13.639Z"
   },
   {
    "duration": 27,
    "start_time": "2022-10-28T15:12:14.242Z"
   },
   {
    "duration": 28,
    "start_time": "2022-10-28T15:12:23.247Z"
   },
   {
    "duration": 26,
    "start_time": "2022-10-28T15:12:27.513Z"
   },
   {
    "duration": 36,
    "start_time": "2022-10-28T15:12:29.689Z"
   },
   {
    "duration": 30,
    "start_time": "2022-10-28T15:12:31.869Z"
   },
   {
    "duration": 19,
    "start_time": "2022-10-28T15:12:32.105Z"
   },
   {
    "duration": 11,
    "start_time": "2022-10-28T15:12:34.073Z"
   },
   {
    "duration": 237,
    "start_time": "2022-10-28T15:12:34.317Z"
   },
   {
    "duration": 17,
    "start_time": "2022-10-28T15:12:35.281Z"
   },
   {
    "duration": 25,
    "start_time": "2022-10-28T15:12:36.601Z"
   },
   {
    "duration": 5,
    "start_time": "2022-10-28T15:12:37.465Z"
   },
   {
    "duration": 577,
    "start_time": "2022-10-28T15:12:37.945Z"
   },
   {
    "duration": 11,
    "start_time": "2022-10-28T15:12:39.452Z"
   },
   {
    "duration": 29,
    "start_time": "2022-10-28T15:12:39.914Z"
   },
   {
    "duration": 6,
    "start_time": "2022-10-28T15:12:43.481Z"
   },
   {
    "duration": 816,
    "start_time": "2022-10-28T15:13:58.107Z"
   },
   {
    "duration": 24,
    "start_time": "2022-10-28T15:14:16.058Z"
   },
   {
    "duration": 356,
    "start_time": "2022-10-28T15:14:51.401Z"
   },
   {
    "duration": 364,
    "start_time": "2022-10-28T15:15:17.738Z"
   },
   {
    "duration": 362,
    "start_time": "2022-10-28T15:15:33.196Z"
   },
   {
    "duration": 449,
    "start_time": "2022-10-28T15:16:00.541Z"
   },
   {
    "duration": 178,
    "start_time": "2022-10-28T15:16:14.041Z"
   },
   {
    "duration": 167,
    "start_time": "2022-10-28T15:16:29.289Z"
   },
   {
    "duration": 529,
    "start_time": "2022-10-28T15:16:40.007Z"
   },
   {
    "duration": 552,
    "start_time": "2022-10-28T15:16:48.698Z"
   },
   {
    "duration": 783,
    "start_time": "2022-10-28T15:22:14.011Z"
   },
   {
    "duration": 847,
    "start_time": "2022-10-28T15:25:25.296Z"
   },
   {
    "duration": 638,
    "start_time": "2022-10-28T15:25:33.227Z"
   },
   {
    "duration": 658,
    "start_time": "2022-10-28T15:25:49.424Z"
   },
   {
    "duration": 832,
    "start_time": "2022-10-28T15:26:02.617Z"
   },
   {
    "duration": 918,
    "start_time": "2022-10-28T15:27:12.489Z"
   },
   {
    "duration": 295,
    "start_time": "2022-10-28T15:27:27.876Z"
   },
   {
    "duration": 828,
    "start_time": "2022-10-28T15:27:33.140Z"
   },
   {
    "duration": 49,
    "start_time": "2022-10-28T15:27:47.641Z"
   },
   {
    "duration": 851,
    "start_time": "2022-10-28T15:27:56.424Z"
   },
   {
    "duration": 788,
    "start_time": "2022-10-28T15:30:22.560Z"
   },
   {
    "duration": 440,
    "start_time": "2022-10-28T15:30:38.549Z"
   },
   {
    "duration": 823,
    "start_time": "2022-10-28T15:30:51.385Z"
   },
   {
    "duration": 589,
    "start_time": "2022-10-28T15:32:43.342Z"
   },
   {
    "duration": 348,
    "start_time": "2022-10-28T15:33:04.961Z"
   },
   {
    "duration": 358,
    "start_time": "2022-10-28T15:34:17.590Z"
   },
   {
    "duration": 643,
    "start_time": "2022-10-28T15:35:00.746Z"
   },
   {
    "duration": 455,
    "start_time": "2022-10-28T15:36:05.215Z"
   },
   {
    "duration": 594,
    "start_time": "2022-10-28T15:38:43.767Z"
   },
   {
    "duration": 55,
    "start_time": "2022-10-28T15:38:52.568Z"
   },
   {
    "duration": 945,
    "start_time": "2022-10-28T15:39:03.544Z"
   },
   {
    "duration": 694,
    "start_time": "2022-10-28T15:45:36.037Z"
   },
   {
    "duration": 633,
    "start_time": "2022-10-28T15:45:46.600Z"
   },
   {
    "duration": 727,
    "start_time": "2022-10-28T15:45:52.884Z"
   },
   {
    "duration": 642,
    "start_time": "2022-10-28T15:46:07.544Z"
   },
   {
    "duration": 800,
    "start_time": "2022-10-28T15:46:23.736Z"
   },
   {
    "duration": 13,
    "start_time": "2022-10-28T15:46:36.261Z"
   },
   {
    "duration": 9,
    "start_time": "2022-10-28T15:46:38.243Z"
   },
   {
    "duration": 619,
    "start_time": "2022-10-28T15:47:15.634Z"
   },
   {
    "duration": 673,
    "start_time": "2022-10-28T15:47:25.944Z"
   },
   {
    "duration": 508,
    "start_time": "2022-10-28T15:47:40.861Z"
   },
   {
    "duration": 574,
    "start_time": "2022-10-28T15:48:24.128Z"
   },
   {
    "duration": 539,
    "start_time": "2022-10-28T15:48:38.056Z"
   },
   {
    "duration": 593,
    "start_time": "2022-10-28T15:48:48.460Z"
   },
   {
    "duration": 637,
    "start_time": "2022-10-28T15:48:58.112Z"
   },
   {
    "duration": 608,
    "start_time": "2022-10-28T15:49:19.993Z"
   },
   {
    "duration": 586,
    "start_time": "2022-10-28T16:23:12.469Z"
   },
   {
    "duration": 13,
    "start_time": "2022-10-28T16:28:06.346Z"
   },
   {
    "duration": 11,
    "start_time": "2022-10-28T16:28:15.377Z"
   },
   {
    "duration": 9,
    "start_time": "2022-10-28T16:28:23.373Z"
   },
   {
    "duration": 13,
    "start_time": "2022-10-28T16:28:41.558Z"
   },
   {
    "duration": 13,
    "start_time": "2022-10-28T16:29:00.145Z"
   },
   {
    "duration": 12,
    "start_time": "2022-10-28T16:29:02.749Z"
   },
   {
    "duration": 13,
    "start_time": "2022-10-28T16:29:35.514Z"
   },
   {
    "duration": 14,
    "start_time": "2022-10-28T16:29:45.430Z"
   },
   {
    "duration": 321,
    "start_time": "2022-10-28T16:35:32.568Z"
   },
   {
    "duration": 15,
    "start_time": "2022-10-28T17:03:28.407Z"
   },
   {
    "duration": 32,
    "start_time": "2022-10-28T17:06:08.514Z"
   },
   {
    "duration": 44,
    "start_time": "2022-10-28T17:06:12.869Z"
   },
   {
    "duration": 41,
    "start_time": "2022-10-28T17:06:26.549Z"
   },
   {
    "duration": 50,
    "start_time": "2022-10-28T17:06:46.805Z"
   },
   {
    "duration": 761,
    "start_time": "2022-10-28T17:08:45.643Z"
   },
   {
    "duration": 1244,
    "start_time": "2022-10-28T17:08:57.169Z"
   },
   {
    "duration": 38,
    "start_time": "2022-10-28T17:08:58.415Z"
   },
   {
    "duration": 294,
    "start_time": "2022-10-28T17:08:58.455Z"
   },
   {
    "duration": 9,
    "start_time": "2022-10-28T17:08:58.751Z"
   },
   {
    "duration": 10,
    "start_time": "2022-10-28T17:08:58.761Z"
   },
   {
    "duration": 20,
    "start_time": "2022-10-28T17:08:58.773Z"
   },
   {
    "duration": 17,
    "start_time": "2022-10-28T17:08:58.795Z"
   },
   {
    "duration": 9,
    "start_time": "2022-10-28T17:08:58.814Z"
   },
   {
    "duration": 21,
    "start_time": "2022-10-28T17:08:58.825Z"
   },
   {
    "duration": 7,
    "start_time": "2022-10-28T17:08:58.849Z"
   },
   {
    "duration": 20,
    "start_time": "2022-10-28T17:08:58.858Z"
   },
   {
    "duration": 81,
    "start_time": "2022-10-28T17:08:58.881Z"
   },
   {
    "duration": 25,
    "start_time": "2022-10-28T17:08:58.964Z"
   },
   {
    "duration": 12,
    "start_time": "2022-10-28T17:08:58.990Z"
   },
   {
    "duration": 40,
    "start_time": "2022-10-28T17:08:59.004Z"
   },
   {
    "duration": 43,
    "start_time": "2022-10-28T17:08:59.046Z"
   },
   {
    "duration": 6,
    "start_time": "2022-10-28T17:08:59.091Z"
   },
   {
    "duration": 11,
    "start_time": "2022-10-28T17:08:59.098Z"
   },
   {
    "duration": 52,
    "start_time": "2022-10-28T17:08:59.111Z"
   },
   {
    "duration": 19,
    "start_time": "2022-10-28T17:08:59.165Z"
   },
   {
    "duration": 13,
    "start_time": "2022-10-28T17:08:59.186Z"
   },
   {
    "duration": 37,
    "start_time": "2022-10-28T17:08:59.200Z"
   },
   {
    "duration": 17,
    "start_time": "2022-10-28T17:08:59.238Z"
   },
   {
    "duration": 5,
    "start_time": "2022-10-28T17:08:59.257Z"
   },
   {
    "duration": 669,
    "start_time": "2022-10-28T17:08:59.264Z"
   },
   {
    "duration": 10,
    "start_time": "2022-10-28T17:08:59.935Z"
   },
   {
    "duration": 651,
    "start_time": "2022-10-28T17:08:59.946Z"
   },
   {
    "duration": 243,
    "start_time": "2022-10-28T17:09:00.600Z"
   },
   {
    "duration": 53,
    "start_time": "2022-10-28T17:09:00.845Z"
   },
   {
    "duration": 41,
    "start_time": "2022-10-28T17:09:24.073Z"
   },
   {
    "duration": 886,
    "start_time": "2022-10-28T17:11:56.120Z"
   },
   {
    "duration": 754,
    "start_time": "2022-10-28T17:12:11.264Z"
   },
   {
    "duration": 723,
    "start_time": "2022-10-28T17:12:17.202Z"
   },
   {
    "duration": 755,
    "start_time": "2022-10-28T17:14:00.749Z"
   },
   {
    "duration": 729,
    "start_time": "2022-10-28T17:14:06.701Z"
   },
   {
    "duration": 647,
    "start_time": "2022-10-28T17:14:50.291Z"
   },
   {
    "duration": 124,
    "start_time": "2022-10-28T17:15:09.673Z"
   },
   {
    "duration": 727,
    "start_time": "2022-10-28T17:15:17.907Z"
   },
   {
    "duration": 748,
    "start_time": "2022-10-28T17:15:26.245Z"
   },
   {
    "duration": 749,
    "start_time": "2022-10-28T17:15:35.621Z"
   },
   {
    "duration": 749,
    "start_time": "2022-10-28T17:15:49.449Z"
   },
   {
    "duration": 756,
    "start_time": "2022-10-28T17:15:55.714Z"
   },
   {
    "duration": 734,
    "start_time": "2022-10-28T17:16:03.752Z"
   },
   {
    "duration": 1165,
    "start_time": "2022-10-28T17:16:14.655Z"
   },
   {
    "duration": 27,
    "start_time": "2022-10-28T17:16:15.822Z"
   },
   {
    "duration": 660,
    "start_time": "2022-10-28T17:16:15.850Z"
   },
   {
    "duration": 9,
    "start_time": "2022-10-28T17:16:16.512Z"
   },
   {
    "duration": 9,
    "start_time": "2022-10-28T17:16:16.524Z"
   },
   {
    "duration": 10,
    "start_time": "2022-10-28T17:16:16.535Z"
   },
   {
    "duration": 8,
    "start_time": "2022-10-28T17:16:16.546Z"
   },
   {
    "duration": 9,
    "start_time": "2022-10-28T17:16:16.556Z"
   },
   {
    "duration": 18,
    "start_time": "2022-10-28T17:16:16.567Z"
   },
   {
    "duration": 7,
    "start_time": "2022-10-28T17:16:16.586Z"
   },
   {
    "duration": 46,
    "start_time": "2022-10-28T17:16:16.594Z"
   },
   {
    "duration": 59,
    "start_time": "2022-10-28T17:16:16.641Z"
   },
   {
    "duration": 45,
    "start_time": "2022-10-28T17:16:16.702Z"
   },
   {
    "duration": 10,
    "start_time": "2022-10-28T17:16:16.751Z"
   },
   {
    "duration": 29,
    "start_time": "2022-10-28T17:16:16.763Z"
   },
   {
    "duration": 56,
    "start_time": "2022-10-28T17:16:16.793Z"
   },
   {
    "duration": 6,
    "start_time": "2022-10-28T17:16:16.850Z"
   },
   {
    "duration": 7,
    "start_time": "2022-10-28T17:16:16.858Z"
   },
   {
    "duration": 29,
    "start_time": "2022-10-28T17:16:16.867Z"
   },
   {
    "duration": 40,
    "start_time": "2022-10-28T17:16:16.897Z"
   },
   {
    "duration": 13,
    "start_time": "2022-10-28T17:16:16.939Z"
   },
   {
    "duration": 17,
    "start_time": "2022-10-28T17:16:16.954Z"
   },
   {
    "duration": 15,
    "start_time": "2022-10-28T17:16:16.973Z"
   },
   {
    "duration": 5,
    "start_time": "2022-10-28T17:16:16.989Z"
   },
   {
    "duration": 671,
    "start_time": "2022-10-28T17:16:16.995Z"
   },
   {
    "duration": 10,
    "start_time": "2022-10-28T17:16:17.668Z"
   },
   {
    "duration": 654,
    "start_time": "2022-10-28T17:16:17.679Z"
   },
   {
    "duration": 247,
    "start_time": "2022-10-28T17:16:18.336Z"
   },
   {
    "duration": 792,
    "start_time": "2022-10-28T17:16:18.584Z"
   },
   {
    "duration": 727,
    "start_time": "2022-10-28T17:16:40.442Z"
   },
   {
    "duration": 758,
    "start_time": "2022-10-28T17:16:47.842Z"
   },
   {
    "duration": 1221,
    "start_time": "2022-10-28T17:16:55.143Z"
   },
   {
    "duration": 27,
    "start_time": "2022-10-28T17:16:56.366Z"
   },
   {
    "duration": 242,
    "start_time": "2022-10-28T17:16:56.394Z"
   },
   {
    "duration": 9,
    "start_time": "2022-10-28T17:16:56.638Z"
   },
   {
    "duration": 7,
    "start_time": "2022-10-28T17:16:56.649Z"
   },
   {
    "duration": 14,
    "start_time": "2022-10-28T17:16:56.658Z"
   },
   {
    "duration": 12,
    "start_time": "2022-10-28T17:16:56.673Z"
   },
   {
    "duration": 9,
    "start_time": "2022-10-28T17:16:56.686Z"
   },
   {
    "duration": 40,
    "start_time": "2022-10-28T17:16:56.697Z"
   },
   {
    "duration": 7,
    "start_time": "2022-10-28T17:16:56.739Z"
   },
   {
    "duration": 18,
    "start_time": "2022-10-28T17:16:56.748Z"
   },
   {
    "duration": 78,
    "start_time": "2022-10-28T17:16:56.768Z"
   },
   {
    "duration": 26,
    "start_time": "2022-10-28T17:16:56.848Z"
   },
   {
    "duration": 10,
    "start_time": "2022-10-28T17:16:56.877Z"
   },
   {
    "duration": 20,
    "start_time": "2022-10-28T17:16:56.888Z"
   },
   {
    "duration": 62,
    "start_time": "2022-10-28T17:16:56.910Z"
   },
   {
    "duration": 6,
    "start_time": "2022-10-28T17:16:56.973Z"
   },
   {
    "duration": 7,
    "start_time": "2022-10-28T17:16:56.980Z"
   },
   {
    "duration": 27,
    "start_time": "2022-10-28T17:16:56.988Z"
   },
   {
    "duration": 19,
    "start_time": "2022-10-28T17:16:57.034Z"
   },
   {
    "duration": 14,
    "start_time": "2022-10-28T17:16:57.055Z"
   },
   {
    "duration": 22,
    "start_time": "2022-10-28T17:16:57.071Z"
   },
   {
    "duration": 43,
    "start_time": "2022-10-28T17:16:57.095Z"
   },
   {
    "duration": 6,
    "start_time": "2022-10-28T17:16:57.140Z"
   },
   {
    "duration": 650,
    "start_time": "2022-10-28T17:16:57.148Z"
   },
   {
    "duration": 10,
    "start_time": "2022-10-28T17:16:57.800Z"
   },
   {
    "duration": 635,
    "start_time": "2022-10-28T17:16:57.811Z"
   },
   {
    "duration": 239,
    "start_time": "2022-10-28T17:16:58.448Z"
   },
   {
    "duration": 789,
    "start_time": "2022-10-28T17:16:58.688Z"
   },
   {
    "duration": 754,
    "start_time": "2022-10-28T17:17:42.841Z"
   },
   {
    "duration": 728,
    "start_time": "2022-10-28T17:17:55.193Z"
   },
   {
    "duration": 1005,
    "start_time": "2022-10-28T17:18:11.954Z"
   },
   {
    "duration": 73,
    "start_time": "2022-10-28T17:18:26.246Z"
   },
   {
    "duration": 13,
    "start_time": "2022-10-28T17:18:42.754Z"
   },
   {
    "duration": 752,
    "start_time": "2022-10-28T17:19:02.630Z"
   },
   {
    "duration": 11,
    "start_time": "2022-10-28T17:19:16.625Z"
   },
   {
    "duration": 18,
    "start_time": "2022-10-28T17:19:26.442Z"
   },
   {
    "duration": 19,
    "start_time": "2022-10-28T17:19:41.902Z"
   },
   {
    "duration": 795,
    "start_time": "2022-10-28T17:20:11.078Z"
   },
   {
    "duration": 667,
    "start_time": "2022-10-28T17:20:18.566Z"
   },
   {
    "duration": 703,
    "start_time": "2022-10-28T17:20:22.862Z"
   },
   {
    "duration": 726,
    "start_time": "2022-10-28T17:20:27.687Z"
   },
   {
    "duration": 799,
    "start_time": "2022-10-28T17:20:31.342Z"
   },
   {
    "duration": 713,
    "start_time": "2022-10-28T17:20:34.507Z"
   },
   {
    "duration": 777,
    "start_time": "2022-10-28T17:20:37.620Z"
   },
   {
    "duration": 747,
    "start_time": "2022-10-28T17:20:42.142Z"
   },
   {
    "duration": 719,
    "start_time": "2022-10-28T17:20:45.826Z"
   },
   {
    "duration": 735,
    "start_time": "2022-10-28T17:20:48.966Z"
   },
   {
    "duration": 771,
    "start_time": "2022-10-28T17:20:52.186Z"
   },
   {
    "duration": 21,
    "start_time": "2022-10-28T17:20:56.157Z"
   },
   {
    "duration": 11,
    "start_time": "2022-10-28T17:21:26.590Z"
   },
   {
    "duration": 18,
    "start_time": "2022-10-28T17:21:30.042Z"
   },
   {
    "duration": 16,
    "start_time": "2022-10-28T17:21:42.106Z"
   },
   {
    "duration": 17,
    "start_time": "2022-10-28T17:21:57.446Z"
   },
   {
    "duration": 743,
    "start_time": "2022-10-28T17:22:32.563Z"
   },
   {
    "duration": 21,
    "start_time": "2022-10-28T17:37:56.055Z"
   },
   {
    "duration": 1372,
    "start_time": "2022-10-30T08:26:54.175Z"
   },
   {
    "duration": 29,
    "start_time": "2022-10-30T08:26:55.549Z"
   },
   {
    "duration": 206,
    "start_time": "2022-10-30T08:26:55.580Z"
   },
   {
    "duration": 9,
    "start_time": "2022-10-30T08:26:55.788Z"
   },
   {
    "duration": 15,
    "start_time": "2022-10-30T08:26:55.800Z"
   },
   {
    "duration": 23,
    "start_time": "2022-10-30T08:26:55.816Z"
   },
   {
    "duration": 10,
    "start_time": "2022-10-30T08:26:55.841Z"
   },
   {
    "duration": 9,
    "start_time": "2022-10-30T08:26:55.852Z"
   },
   {
    "duration": 18,
    "start_time": "2022-10-30T08:26:55.862Z"
   },
   {
    "duration": 6,
    "start_time": "2022-10-30T08:26:55.882Z"
   },
   {
    "duration": 16,
    "start_time": "2022-10-30T08:26:55.890Z"
   },
   {
    "duration": 84,
    "start_time": "2022-10-30T08:26:55.907Z"
   },
   {
    "duration": 28,
    "start_time": "2022-10-30T08:26:55.992Z"
   },
   {
    "duration": 23,
    "start_time": "2022-10-30T08:26:56.022Z"
   },
   {
    "duration": 31,
    "start_time": "2022-10-30T08:26:56.047Z"
   },
   {
    "duration": 49,
    "start_time": "2022-10-30T08:26:56.079Z"
   },
   {
    "duration": 8,
    "start_time": "2022-10-30T08:26:56.130Z"
   },
   {
    "duration": 13,
    "start_time": "2022-10-30T08:26:56.139Z"
   },
   {
    "duration": 44,
    "start_time": "2022-10-30T08:26:56.154Z"
   },
   {
    "duration": 23,
    "start_time": "2022-10-30T08:26:56.199Z"
   },
   {
    "duration": 34,
    "start_time": "2022-10-30T08:26:56.224Z"
   },
   {
    "duration": 37,
    "start_time": "2022-10-30T08:26:56.259Z"
   },
   {
    "duration": 20,
    "start_time": "2022-10-30T08:26:56.298Z"
   },
   {
    "duration": 16,
    "start_time": "2022-10-30T08:26:56.319Z"
   },
   {
    "duration": 656,
    "start_time": "2022-10-30T08:26:56.337Z"
   },
   {
    "duration": 9,
    "start_time": "2022-10-30T08:26:56.995Z"
   },
   {
    "duration": 750,
    "start_time": "2022-10-30T08:26:57.005Z"
   },
   {
    "duration": 264,
    "start_time": "2022-10-30T08:26:57.757Z"
   },
   {
    "duration": 823,
    "start_time": "2022-10-30T08:26:58.023Z"
   },
   {
    "duration": 17,
    "start_time": "2022-10-30T08:26:58.847Z"
   },
   {
    "duration": 14,
    "start_time": "2022-10-30T08:54:52.400Z"
   },
   {
    "duration": 774,
    "start_time": "2022-10-30T08:55:02.851Z"
   },
   {
    "duration": 134,
    "start_time": "2022-10-30T09:29:56.924Z"
   },
   {
    "duration": 15,
    "start_time": "2022-10-30T09:30:55.144Z"
   },
   {
    "duration": 15,
    "start_time": "2022-10-30T09:31:18.336Z"
   },
   {
    "duration": 12,
    "start_time": "2022-10-30T09:31:52.575Z"
   },
   {
    "duration": 10,
    "start_time": "2022-10-30T09:32:12.931Z"
   },
   {
    "duration": 9,
    "start_time": "2022-10-30T09:32:38.701Z"
   },
   {
    "duration": 13,
    "start_time": "2022-10-30T09:32:45.244Z"
   },
   {
    "duration": 13,
    "start_time": "2022-10-30T09:32:49.378Z"
   },
   {
    "duration": 16,
    "start_time": "2022-10-30T09:33:13.102Z"
   },
   {
    "duration": 757,
    "start_time": "2022-10-30T09:35:21.467Z"
   },
   {
    "duration": 756,
    "start_time": "2022-10-30T09:35:23.324Z"
   },
   {
    "duration": 695,
    "start_time": "2022-10-30T09:35:58.661Z"
   },
   {
    "duration": 1655,
    "start_time": "2022-10-30T09:36:19.728Z"
   },
   {
    "duration": 33,
    "start_time": "2022-10-30T09:36:38.209Z"
   },
   {
    "duration": 691,
    "start_time": "2022-10-30T09:36:44.148Z"
   },
   {
    "duration": 31,
    "start_time": "2022-10-30T09:38:13.505Z"
   },
   {
    "duration": 739,
    "start_time": "2022-10-30T09:38:20.262Z"
   },
   {
    "duration": 711,
    "start_time": "2022-10-30T09:39:46.024Z"
   },
   {
    "duration": 685,
    "start_time": "2022-10-30T09:40:15.104Z"
   },
   {
    "duration": 755,
    "start_time": "2022-10-30T09:40:20.941Z"
   },
   {
    "duration": 42,
    "start_time": "2022-10-30T09:42:06.483Z"
   },
   {
    "duration": 9,
    "start_time": "2022-10-30T09:42:16.485Z"
   },
   {
    "duration": 551,
    "start_time": "2022-10-30T09:43:14.731Z"
   },
   {
    "duration": 42,
    "start_time": "2022-10-30T09:44:09.986Z"
   },
   {
    "duration": 44,
    "start_time": "2022-10-30T09:44:13.248Z"
   },
   {
    "duration": 1341,
    "start_time": "2022-10-30T16:02:05.141Z"
   },
   {
    "duration": 28,
    "start_time": "2022-10-30T16:02:06.484Z"
   },
   {
    "duration": 307,
    "start_time": "2022-10-30T16:02:06.513Z"
   },
   {
    "duration": 9,
    "start_time": "2022-10-30T16:02:06.822Z"
   },
   {
    "duration": 9,
    "start_time": "2022-10-30T16:02:06.833Z"
   },
   {
    "duration": 12,
    "start_time": "2022-10-30T16:02:06.844Z"
   },
   {
    "duration": 11,
    "start_time": "2022-10-30T16:02:06.858Z"
   },
   {
    "duration": 11,
    "start_time": "2022-10-30T16:02:06.871Z"
   },
   {
    "duration": 37,
    "start_time": "2022-10-30T16:02:06.883Z"
   },
   {
    "duration": 7,
    "start_time": "2022-10-30T16:02:06.922Z"
   },
   {
    "duration": 17,
    "start_time": "2022-10-30T16:02:06.931Z"
   },
   {
    "duration": 75,
    "start_time": "2022-10-30T16:02:06.950Z"
   },
   {
    "duration": 24,
    "start_time": "2022-10-30T16:02:07.027Z"
   },
   {
    "duration": 9,
    "start_time": "2022-10-30T16:02:07.054Z"
   },
   {
    "duration": 20,
    "start_time": "2022-10-30T16:02:07.064Z"
   },
   {
    "duration": 62,
    "start_time": "2022-10-30T16:02:07.086Z"
   },
   {
    "duration": 5,
    "start_time": "2022-10-30T16:02:07.149Z"
   },
   {
    "duration": 41,
    "start_time": "2022-10-30T16:02:07.156Z"
   },
   {
    "duration": 43,
    "start_time": "2022-10-30T16:02:07.198Z"
   },
   {
    "duration": 38,
    "start_time": "2022-10-30T16:02:07.243Z"
   },
   {
    "duration": 26,
    "start_time": "2022-10-30T16:02:07.282Z"
   },
   {
    "duration": 47,
    "start_time": "2022-10-30T16:02:07.309Z"
   },
   {
    "duration": 29,
    "start_time": "2022-10-30T16:02:07.357Z"
   },
   {
    "duration": 28,
    "start_time": "2022-10-30T16:02:07.388Z"
   },
   {
    "duration": 636,
    "start_time": "2022-10-30T16:02:07.417Z"
   },
   {
    "duration": 10,
    "start_time": "2022-10-30T16:02:08.055Z"
   },
   {
    "duration": 653,
    "start_time": "2022-10-30T16:02:08.066Z"
   },
   {
    "duration": 283,
    "start_time": "2022-10-30T16:02:08.721Z"
   },
   {
    "duration": 764,
    "start_time": "2022-10-30T16:02:09.007Z"
   },
   {
    "duration": 717,
    "start_time": "2022-10-30T16:02:09.772Z"
   },
   {
    "duration": 10,
    "start_time": "2022-10-30T16:02:10.490Z"
   },
   {
    "duration": 25,
    "start_time": "2022-10-30T16:02:10.502Z"
   },
   {
    "duration": 850,
    "start_time": "2022-10-30T16:04:34.473Z"
   },
   {
    "duration": 44,
    "start_time": "2022-10-30T16:04:37.568Z"
   },
   {
    "duration": 14,
    "start_time": "2022-10-30T16:04:55.742Z"
   },
   {
    "duration": 1179,
    "start_time": "2022-10-30T16:05:03.820Z"
   },
   {
    "duration": 30,
    "start_time": "2022-10-30T16:05:05.001Z"
   },
   {
    "duration": 190,
    "start_time": "2022-10-30T16:05:05.033Z"
   },
   {
    "duration": 9,
    "start_time": "2022-10-30T16:05:05.225Z"
   },
   {
    "duration": 26,
    "start_time": "2022-10-30T16:05:05.235Z"
   },
   {
    "duration": 13,
    "start_time": "2022-10-30T16:05:05.263Z"
   },
   {
    "duration": 11,
    "start_time": "2022-10-30T16:05:05.277Z"
   },
   {
    "duration": 8,
    "start_time": "2022-10-30T16:05:05.290Z"
   },
   {
    "duration": 15,
    "start_time": "2022-10-30T16:05:05.300Z"
   },
   {
    "duration": 8,
    "start_time": "2022-10-30T16:05:05.320Z"
   },
   {
    "duration": 18,
    "start_time": "2022-10-30T16:05:05.329Z"
   },
   {
    "duration": 61,
    "start_time": "2022-10-30T16:05:05.348Z"
   },
   {
    "duration": 31,
    "start_time": "2022-10-30T16:05:05.420Z"
   },
   {
    "duration": 10,
    "start_time": "2022-10-30T16:05:05.452Z"
   },
   {
    "duration": 17,
    "start_time": "2022-10-30T16:05:05.463Z"
   },
   {
    "duration": 73,
    "start_time": "2022-10-30T16:05:05.482Z"
   },
   {
    "duration": 5,
    "start_time": "2022-10-30T16:05:05.556Z"
   },
   {
    "duration": 8,
    "start_time": "2022-10-30T16:05:05.563Z"
   },
   {
    "duration": 31,
    "start_time": "2022-10-30T16:05:05.573Z"
   },
   {
    "duration": 17,
    "start_time": "2022-10-30T16:05:05.620Z"
   },
   {
    "duration": 11,
    "start_time": "2022-10-30T16:05:05.638Z"
   },
   {
    "duration": 19,
    "start_time": "2022-10-30T16:05:05.650Z"
   },
   {
    "duration": 13,
    "start_time": "2022-10-30T16:05:05.671Z"
   },
   {
    "duration": 5,
    "start_time": "2022-10-30T16:05:05.685Z"
   },
   {
    "duration": 652,
    "start_time": "2022-10-30T16:05:05.692Z"
   },
   {
    "duration": 10,
    "start_time": "2022-10-30T16:05:06.345Z"
   },
   {
    "duration": 666,
    "start_time": "2022-10-30T16:05:06.357Z"
   },
   {
    "duration": 239,
    "start_time": "2022-10-30T16:05:07.027Z"
   },
   {
    "duration": 13,
    "start_time": "2022-10-30T16:05:07.268Z"
   },
   {
    "duration": 787,
    "start_time": "2022-10-30T16:05:07.282Z"
   },
   {
    "duration": 56,
    "start_time": "2022-10-30T16:05:08.071Z"
   },
   {
    "duration": 695,
    "start_time": "2022-10-30T16:05:08.129Z"
   },
   {
    "duration": 10,
    "start_time": "2022-10-30T16:05:08.825Z"
   },
   {
    "duration": 45,
    "start_time": "2022-10-30T16:05:08.837Z"
   },
   {
    "duration": 786,
    "start_time": "2022-10-30T16:17:30.237Z"
   },
   {
    "duration": 1263,
    "start_time": "2022-10-30T16:17:41.098Z"
   },
   {
    "duration": 61,
    "start_time": "2022-10-30T16:17:42.363Z"
   },
   {
    "duration": 311,
    "start_time": "2022-10-30T16:17:42.426Z"
   },
   {
    "duration": 9,
    "start_time": "2022-10-30T16:17:42.739Z"
   },
   {
    "duration": 11,
    "start_time": "2022-10-30T16:17:42.749Z"
   },
   {
    "duration": 59,
    "start_time": "2022-10-30T16:17:42.762Z"
   },
   {
    "duration": 10,
    "start_time": "2022-10-30T16:17:42.823Z"
   },
   {
    "duration": 13,
    "start_time": "2022-10-30T16:17:42.835Z"
   },
   {
    "duration": 72,
    "start_time": "2022-10-30T16:17:42.850Z"
   },
   {
    "duration": 8,
    "start_time": "2022-10-30T16:17:42.926Z"
   },
   {
    "duration": 21,
    "start_time": "2022-10-30T16:17:42.936Z"
   },
   {
    "duration": 163,
    "start_time": "2022-10-30T16:17:42.959Z"
   },
   {
    "duration": 26,
    "start_time": "2022-10-30T16:17:43.123Z"
   },
   {
    "duration": 9,
    "start_time": "2022-10-30T16:17:43.151Z"
   },
   {
    "duration": 72,
    "start_time": "2022-10-30T16:17:43.162Z"
   },
   {
    "duration": 104,
    "start_time": "2022-10-30T16:17:43.235Z"
   },
   {
    "duration": 5,
    "start_time": "2022-10-30T16:17:43.341Z"
   },
   {
    "duration": 14,
    "start_time": "2022-10-30T16:17:43.348Z"
   },
   {
    "duration": 85,
    "start_time": "2022-10-30T16:17:43.363Z"
   },
   {
    "duration": 17,
    "start_time": "2022-10-30T16:17:43.449Z"
   },
   {
    "duration": 64,
    "start_time": "2022-10-30T16:17:43.467Z"
   },
   {
    "duration": 34,
    "start_time": "2022-10-30T16:17:43.532Z"
   },
   {
    "duration": 56,
    "start_time": "2022-10-30T16:17:43.568Z"
   },
   {
    "duration": 5,
    "start_time": "2022-10-30T16:17:43.626Z"
   },
   {
    "duration": 813,
    "start_time": "2022-10-30T16:17:43.632Z"
   },
   {
    "duration": 10,
    "start_time": "2022-10-30T16:17:44.447Z"
   },
   {
    "duration": 625,
    "start_time": "2022-10-30T16:17:44.458Z"
   },
   {
    "duration": 253,
    "start_time": "2022-10-30T16:17:45.087Z"
   },
   {
    "duration": 15,
    "start_time": "2022-10-30T16:17:45.342Z"
   },
   {
    "duration": 866,
    "start_time": "2022-10-30T16:17:45.360Z"
   },
   {
    "duration": 44,
    "start_time": "2022-10-30T16:17:46.227Z"
   },
   {
    "duration": 687,
    "start_time": "2022-10-30T16:17:46.273Z"
   },
   {
    "duration": 11,
    "start_time": "2022-10-30T16:17:46.962Z"
   },
   {
    "duration": 14,
    "start_time": "2022-10-30T16:17:46.975Z"
   },
   {
    "duration": 19,
    "start_time": "2022-10-30T16:18:12.890Z"
   },
   {
    "duration": 741,
    "start_time": "2022-10-30T16:19:37.410Z"
   },
   {
    "duration": 43,
    "start_time": "2022-10-30T16:19:50.262Z"
   },
   {
    "duration": 700,
    "start_time": "2022-10-30T16:19:50.945Z"
   },
   {
    "duration": 13,
    "start_time": "2022-10-30T16:23:09.730Z"
   },
   {
    "duration": 784,
    "start_time": "2022-10-30T16:24:42.289Z"
   },
   {
    "duration": 128,
    "start_time": "2022-10-30T16:24:56.104Z"
   },
   {
    "duration": 5,
    "start_time": "2022-10-30T16:25:00.427Z"
   },
   {
    "duration": 608,
    "start_time": "2022-10-30T16:25:06.661Z"
   },
   {
    "duration": 819,
    "start_time": "2022-10-30T16:26:07.477Z"
   },
   {
    "duration": 746,
    "start_time": "2022-10-30T16:26:11.270Z"
   },
   {
    "duration": 775,
    "start_time": "2022-10-30T16:26:16.393Z"
   },
   {
    "duration": 832,
    "start_time": "2022-10-30T16:26:20.514Z"
   },
   {
    "duration": 47,
    "start_time": "2022-10-30T16:26:49.984Z"
   },
   {
    "duration": 706,
    "start_time": "2022-10-30T16:26:51.790Z"
   },
   {
    "duration": 757,
    "start_time": "2022-10-30T16:26:57.157Z"
   },
   {
    "duration": 705,
    "start_time": "2022-10-30T16:31:18.270Z"
   },
   {
    "duration": 793,
    "start_time": "2022-10-30T16:31:53.782Z"
   },
   {
    "duration": 43,
    "start_time": "2022-10-30T16:32:07.444Z"
   },
   {
    "duration": 10,
    "start_time": "2022-10-30T16:32:17.648Z"
   },
   {
    "duration": 8,
    "start_time": "2022-10-30T16:32:23.277Z"
   },
   {
    "duration": 15,
    "start_time": "2022-10-30T16:32:30.444Z"
   },
   {
    "duration": 809,
    "start_time": "2022-10-30T16:32:56.062Z"
   },
   {
    "duration": 716,
    "start_time": "2022-10-30T16:33:13.507Z"
   },
   {
    "duration": 42,
    "start_time": "2022-10-30T16:33:14.225Z"
   },
   {
    "duration": 703,
    "start_time": "2022-10-30T16:33:14.269Z"
   },
   {
    "duration": 692,
    "start_time": "2022-10-30T16:33:14.974Z"
   },
   {
    "duration": 9,
    "start_time": "2022-10-30T16:33:15.668Z"
   },
   {
    "duration": 14,
    "start_time": "2022-10-30T16:33:15.927Z"
   },
   {
    "duration": 14,
    "start_time": "2022-10-30T16:33:38.067Z"
   },
   {
    "duration": 711,
    "start_time": "2022-10-30T16:35:43.309Z"
   },
   {
    "duration": 1213,
    "start_time": "2022-10-30T16:36:09.091Z"
   },
   {
    "duration": 26,
    "start_time": "2022-10-30T16:36:10.306Z"
   },
   {
    "duration": 277,
    "start_time": "2022-10-30T16:36:10.333Z"
   },
   {
    "duration": 11,
    "start_time": "2022-10-30T16:36:10.612Z"
   },
   {
    "duration": 15,
    "start_time": "2022-10-30T16:36:10.624Z"
   },
   {
    "duration": 18,
    "start_time": "2022-10-30T16:36:10.641Z"
   },
   {
    "duration": 9,
    "start_time": "2022-10-30T16:36:10.661Z"
   },
   {
    "duration": 10,
    "start_time": "2022-10-30T16:36:10.671Z"
   },
   {
    "duration": 29,
    "start_time": "2022-10-30T16:36:10.683Z"
   },
   {
    "duration": 11,
    "start_time": "2022-10-30T16:36:10.714Z"
   },
   {
    "duration": 20,
    "start_time": "2022-10-30T16:36:10.726Z"
   },
   {
    "duration": 146,
    "start_time": "2022-10-30T16:36:10.747Z"
   },
   {
    "duration": 0,
    "start_time": "2022-10-30T16:36:10.895Z"
   },
   {
    "duration": 0,
    "start_time": "2022-10-30T16:36:10.896Z"
   },
   {
    "duration": 0,
    "start_time": "2022-10-30T16:36:10.897Z"
   },
   {
    "duration": 0,
    "start_time": "2022-10-30T16:36:10.899Z"
   },
   {
    "duration": 0,
    "start_time": "2022-10-30T16:36:10.900Z"
   },
   {
    "duration": 0,
    "start_time": "2022-10-30T16:36:10.902Z"
   },
   {
    "duration": 0,
    "start_time": "2022-10-30T16:36:10.903Z"
   },
   {
    "duration": 0,
    "start_time": "2022-10-30T16:36:10.905Z"
   },
   {
    "duration": 0,
    "start_time": "2022-10-30T16:36:10.921Z"
   },
   {
    "duration": 0,
    "start_time": "2022-10-30T16:36:10.922Z"
   },
   {
    "duration": 0,
    "start_time": "2022-10-30T16:36:10.923Z"
   },
   {
    "duration": 0,
    "start_time": "2022-10-30T16:36:10.924Z"
   },
   {
    "duration": 0,
    "start_time": "2022-10-30T16:36:10.925Z"
   },
   {
    "duration": 0,
    "start_time": "2022-10-30T16:36:10.926Z"
   },
   {
    "duration": 0,
    "start_time": "2022-10-30T16:36:10.927Z"
   },
   {
    "duration": 0,
    "start_time": "2022-10-30T16:36:10.928Z"
   },
   {
    "duration": 0,
    "start_time": "2022-10-30T16:36:10.929Z"
   },
   {
    "duration": 0,
    "start_time": "2022-10-30T16:36:10.930Z"
   },
   {
    "duration": 0,
    "start_time": "2022-10-30T16:36:10.931Z"
   },
   {
    "duration": 0,
    "start_time": "2022-10-30T16:36:10.932Z"
   },
   {
    "duration": 0,
    "start_time": "2022-10-30T16:36:10.933Z"
   },
   {
    "duration": 0,
    "start_time": "2022-10-30T16:36:10.934Z"
   },
   {
    "duration": 63,
    "start_time": "2022-10-30T16:37:51.927Z"
   },
   {
    "duration": 25,
    "start_time": "2022-10-30T16:37:54.888Z"
   },
   {
    "duration": 10,
    "start_time": "2022-10-30T16:37:55.225Z"
   },
   {
    "duration": 15,
    "start_time": "2022-10-30T16:37:55.419Z"
   },
   {
    "duration": 43,
    "start_time": "2022-10-30T16:37:55.904Z"
   },
   {
    "duration": 5,
    "start_time": "2022-10-30T16:37:56.075Z"
   },
   {
    "duration": 5,
    "start_time": "2022-10-30T16:37:56.416Z"
   },
   {
    "duration": 30,
    "start_time": "2022-10-30T16:37:56.777Z"
   },
   {
    "duration": 16,
    "start_time": "2022-10-30T16:37:57.288Z"
   },
   {
    "duration": 11,
    "start_time": "2022-10-30T16:37:57.381Z"
   },
   {
    "duration": 16,
    "start_time": "2022-10-30T16:37:57.491Z"
   },
   {
    "duration": 14,
    "start_time": "2022-10-30T16:37:57.582Z"
   },
   {
    "duration": 5,
    "start_time": "2022-10-30T16:37:57.644Z"
   },
   {
    "duration": 658,
    "start_time": "2022-10-30T16:37:57.679Z"
   },
   {
    "duration": 10,
    "start_time": "2022-10-30T16:37:58.339Z"
   },
   {
    "duration": 656,
    "start_time": "2022-10-30T16:37:58.351Z"
   },
   {
    "duration": 231,
    "start_time": "2022-10-30T16:37:59.010Z"
   },
   {
    "duration": 744,
    "start_time": "2022-10-30T16:37:59.243Z"
   },
   {
    "duration": 53,
    "start_time": "2022-10-30T16:37:59.989Z"
   },
   {
    "duration": 714,
    "start_time": "2022-10-30T16:38:00.043Z"
   },
   {
    "duration": 756,
    "start_time": "2022-10-30T16:38:00.759Z"
   },
   {
    "duration": 11,
    "start_time": "2022-10-30T16:38:01.517Z"
   },
   {
    "duration": 30,
    "start_time": "2022-10-30T16:38:01.530Z"
   },
   {
    "duration": 714,
    "start_time": "2022-10-30T17:19:25.913Z"
   },
   {
    "duration": 46,
    "start_time": "2022-10-30T17:19:29.195Z"
   },
   {
    "duration": 15,
    "start_time": "2022-10-30T17:19:47.805Z"
   },
   {
    "duration": 10,
    "start_time": "2022-10-30T17:24:53.764Z"
   },
   {
    "duration": 9,
    "start_time": "2022-10-30T17:25:07.769Z"
   },
   {
    "duration": 15,
    "start_time": "2022-10-30T17:25:36.283Z"
   },
   {
    "duration": 11,
    "start_time": "2022-10-30T17:25:50.702Z"
   },
   {
    "duration": 11,
    "start_time": "2022-10-30T17:26:02.391Z"
   },
   {
    "duration": 17,
    "start_time": "2022-10-30T18:35:55.050Z"
   },
   {
    "duration": 10,
    "start_time": "2022-10-30T18:36:00.779Z"
   },
   {
    "duration": 154,
    "start_time": "2022-10-30T18:36:52.303Z"
   },
   {
    "duration": 165,
    "start_time": "2022-10-30T18:36:58.436Z"
   },
   {
    "duration": 176,
    "start_time": "2022-10-30T18:37:13.908Z"
   },
   {
    "duration": 195,
    "start_time": "2022-10-30T18:37:22.775Z"
   },
   {
    "duration": 10,
    "start_time": "2022-10-30T18:39:09.832Z"
   },
   {
    "duration": 9,
    "start_time": "2022-10-30T18:39:19.806Z"
   },
   {
    "duration": 10,
    "start_time": "2022-10-30T18:39:23.344Z"
   },
   {
    "duration": 503,
    "start_time": "2022-10-30T18:39:57.395Z"
   },
   {
    "duration": 587,
    "start_time": "2022-10-30T18:40:00.122Z"
   },
   {
    "duration": 674,
    "start_time": "2022-10-30T18:40:31.727Z"
   },
   {
    "duration": 720,
    "start_time": "2022-10-30T18:40:34.719Z"
   },
   {
    "duration": 784,
    "start_time": "2022-10-30T18:40:49.918Z"
   },
   {
    "duration": 342,
    "start_time": "2022-10-30T18:41:10.869Z"
   },
   {
    "duration": 11,
    "start_time": "2022-10-30T18:41:33.008Z"
   },
   {
    "duration": 10,
    "start_time": "2022-10-30T18:41:33.812Z"
   },
   {
    "duration": 21,
    "start_time": "2022-10-30T18:42:00.580Z"
   },
   {
    "duration": 10,
    "start_time": "2022-10-30T18:42:14.838Z"
   },
   {
    "duration": 652,
    "start_time": "2022-10-30T18:54:57.560Z"
   },
   {
    "duration": 365,
    "start_time": "2022-10-30T18:55:31.227Z"
   },
   {
    "duration": 813,
    "start_time": "2022-10-30T18:56:12.907Z"
   },
   {
    "duration": 640,
    "start_time": "2022-10-30T18:56:31.559Z"
   },
   {
    "duration": 817,
    "start_time": "2022-10-30T18:56:36.114Z"
   },
   {
    "duration": 698,
    "start_time": "2022-10-30T19:29:32.819Z"
   },
   {
    "duration": 713,
    "start_time": "2022-10-30T19:30:09.173Z"
   },
   {
    "duration": 910,
    "start_time": "2022-10-30T19:31:11.075Z"
   },
   {
    "duration": 695,
    "start_time": "2022-10-30T19:31:43.353Z"
   },
   {
    "duration": 691,
    "start_time": "2022-10-30T19:31:50.226Z"
   },
   {
    "duration": 849,
    "start_time": "2022-10-30T19:32:41.626Z"
   },
   {
    "duration": 662,
    "start_time": "2022-10-30T19:33:17.042Z"
   },
   {
    "duration": 715,
    "start_time": "2022-10-30T19:33:28.803Z"
   },
   {
    "duration": 820,
    "start_time": "2022-10-30T19:33:35.696Z"
   },
   {
    "duration": 10,
    "start_time": "2022-10-30T19:54:32.918Z"
   },
   {
    "duration": 9,
    "start_time": "2022-10-30T19:55:24.040Z"
   },
   {
    "duration": 13,
    "start_time": "2022-10-30T19:55:30.848Z"
   },
   {
    "duration": 16,
    "start_time": "2022-10-30T19:56:31.550Z"
   },
   {
    "duration": 15,
    "start_time": "2022-10-30T19:56:35.833Z"
   },
   {
    "duration": 9,
    "start_time": "2022-10-30T20:01:07.678Z"
   },
   {
    "duration": 11,
    "start_time": "2022-10-30T20:01:42.492Z"
   },
   {
    "duration": 14,
    "start_time": "2022-10-30T20:01:47.261Z"
   },
   {
    "duration": 18,
    "start_time": "2022-10-30T20:02:12.717Z"
   },
   {
    "duration": 14,
    "start_time": "2022-10-30T20:02:29.400Z"
   },
   {
    "duration": 17,
    "start_time": "2022-10-30T20:02:58.008Z"
   },
   {
    "duration": 10,
    "start_time": "2022-10-30T20:03:18.110Z"
   },
   {
    "duration": 1187,
    "start_time": "2022-10-30T20:54:07.306Z"
   },
   {
    "duration": 27,
    "start_time": "2022-10-30T20:54:08.495Z"
   },
   {
    "duration": 277,
    "start_time": "2022-10-30T20:54:08.523Z"
   },
   {
    "duration": 9,
    "start_time": "2022-10-30T20:54:08.802Z"
   },
   {
    "duration": 10,
    "start_time": "2022-10-30T20:54:08.813Z"
   },
   {
    "duration": 17,
    "start_time": "2022-10-30T20:54:08.825Z"
   },
   {
    "duration": 43,
    "start_time": "2022-10-30T20:54:08.843Z"
   },
   {
    "duration": 11,
    "start_time": "2022-10-30T20:54:08.887Z"
   },
   {
    "duration": 23,
    "start_time": "2022-10-30T20:54:08.899Z"
   },
   {
    "duration": 11,
    "start_time": "2022-10-30T20:54:08.925Z"
   },
   {
    "duration": 30,
    "start_time": "2022-10-30T20:54:08.938Z"
   },
   {
    "duration": 828,
    "start_time": "2022-10-30T20:54:08.970Z"
   },
   {
    "duration": 0,
    "start_time": "2022-10-30T20:54:09.800Z"
   },
   {
    "duration": 0,
    "start_time": "2022-10-30T20:54:09.801Z"
   },
   {
    "duration": 0,
    "start_time": "2022-10-30T20:54:09.802Z"
   },
   {
    "duration": 0,
    "start_time": "2022-10-30T20:54:09.802Z"
   },
   {
    "duration": 0,
    "start_time": "2022-10-30T20:54:09.803Z"
   },
   {
    "duration": 0,
    "start_time": "2022-10-30T20:54:09.804Z"
   },
   {
    "duration": 0,
    "start_time": "2022-10-30T20:54:09.805Z"
   },
   {
    "duration": 0,
    "start_time": "2022-10-30T20:54:09.806Z"
   },
   {
    "duration": 0,
    "start_time": "2022-10-30T20:54:09.806Z"
   },
   {
    "duration": 0,
    "start_time": "2022-10-30T20:54:09.807Z"
   },
   {
    "duration": 0,
    "start_time": "2022-10-30T20:54:09.808Z"
   },
   {
    "duration": 0,
    "start_time": "2022-10-30T20:54:09.809Z"
   },
   {
    "duration": 0,
    "start_time": "2022-10-30T20:54:09.811Z"
   },
   {
    "duration": 0,
    "start_time": "2022-10-30T20:54:09.812Z"
   },
   {
    "duration": 0,
    "start_time": "2022-10-30T20:54:09.813Z"
   },
   {
    "duration": 0,
    "start_time": "2022-10-30T20:54:09.814Z"
   },
   {
    "duration": 0,
    "start_time": "2022-10-30T20:54:09.816Z"
   },
   {
    "duration": 0,
    "start_time": "2022-10-30T20:54:09.817Z"
   },
   {
    "duration": 0,
    "start_time": "2022-10-30T20:54:09.822Z"
   },
   {
    "duration": 0,
    "start_time": "2022-10-30T20:54:09.824Z"
   },
   {
    "duration": 0,
    "start_time": "2022-10-30T20:54:09.825Z"
   },
   {
    "duration": 1201,
    "start_time": "2022-10-30T20:55:08.996Z"
   },
   {
    "duration": 29,
    "start_time": "2022-10-30T20:55:10.199Z"
   },
   {
    "duration": 203,
    "start_time": "2022-10-30T20:55:10.229Z"
   },
   {
    "duration": 9,
    "start_time": "2022-10-30T20:55:10.434Z"
   },
   {
    "duration": 8,
    "start_time": "2022-10-30T20:55:10.444Z"
   },
   {
    "duration": 12,
    "start_time": "2022-10-30T20:55:10.454Z"
   },
   {
    "duration": 9,
    "start_time": "2022-10-30T20:55:10.468Z"
   },
   {
    "duration": 9,
    "start_time": "2022-10-30T20:55:10.478Z"
   },
   {
    "duration": 37,
    "start_time": "2022-10-30T20:55:10.488Z"
   },
   {
    "duration": 4,
    "start_time": "2022-10-30T20:55:10.528Z"
   },
   {
    "duration": 17,
    "start_time": "2022-10-30T20:55:10.534Z"
   },
   {
    "duration": 164,
    "start_time": "2022-10-30T20:55:10.553Z"
   },
   {
    "duration": 0,
    "start_time": "2022-10-30T20:55:10.721Z"
   },
   {
    "duration": 0,
    "start_time": "2022-10-30T20:55:10.722Z"
   },
   {
    "duration": 0,
    "start_time": "2022-10-30T20:55:10.723Z"
   },
   {
    "duration": 1,
    "start_time": "2022-10-30T20:55:10.725Z"
   },
   {
    "duration": 0,
    "start_time": "2022-10-30T20:55:10.727Z"
   },
   {
    "duration": 0,
    "start_time": "2022-10-30T20:55:10.729Z"
   },
   {
    "duration": 0,
    "start_time": "2022-10-30T20:55:10.730Z"
   },
   {
    "duration": 0,
    "start_time": "2022-10-30T20:55:10.732Z"
   },
   {
    "duration": 0,
    "start_time": "2022-10-30T20:55:10.734Z"
   },
   {
    "duration": 0,
    "start_time": "2022-10-30T20:55:10.735Z"
   },
   {
    "duration": 1,
    "start_time": "2022-10-30T20:55:10.736Z"
   },
   {
    "duration": 0,
    "start_time": "2022-10-30T20:55:10.738Z"
   },
   {
    "duration": 0,
    "start_time": "2022-10-30T20:55:10.739Z"
   },
   {
    "duration": 0,
    "start_time": "2022-10-30T20:55:10.741Z"
   },
   {
    "duration": 0,
    "start_time": "2022-10-30T20:55:10.742Z"
   },
   {
    "duration": 1,
    "start_time": "2022-10-30T20:55:10.742Z"
   },
   {
    "duration": 0,
    "start_time": "2022-10-30T20:55:10.743Z"
   },
   {
    "duration": 0,
    "start_time": "2022-10-30T20:55:10.744Z"
   },
   {
    "duration": 0,
    "start_time": "2022-10-30T20:55:10.745Z"
   },
   {
    "duration": 0,
    "start_time": "2022-10-30T20:55:10.746Z"
   },
   {
    "duration": 0,
    "start_time": "2022-10-30T20:55:10.747Z"
   },
   {
    "duration": 48,
    "start_time": "2022-10-30T20:55:57.755Z"
   },
   {
    "duration": 1237,
    "start_time": "2022-10-30T20:56:04.893Z"
   },
   {
    "duration": 28,
    "start_time": "2022-10-30T20:56:06.132Z"
   },
   {
    "duration": 206,
    "start_time": "2022-10-30T20:56:06.162Z"
   },
   {
    "duration": 9,
    "start_time": "2022-10-30T20:56:06.371Z"
   },
   {
    "duration": 16,
    "start_time": "2022-10-30T20:56:06.381Z"
   },
   {
    "duration": 12,
    "start_time": "2022-10-30T20:56:06.398Z"
   },
   {
    "duration": 24,
    "start_time": "2022-10-30T20:56:06.412Z"
   },
   {
    "duration": 38,
    "start_time": "2022-10-30T20:56:06.437Z"
   },
   {
    "duration": 43,
    "start_time": "2022-10-30T20:56:06.477Z"
   },
   {
    "duration": 12,
    "start_time": "2022-10-30T20:56:06.522Z"
   },
   {
    "duration": 39,
    "start_time": "2022-10-30T20:56:06.536Z"
   },
   {
    "duration": 63,
    "start_time": "2022-10-30T20:56:06.577Z"
   },
   {
    "duration": 25,
    "start_time": "2022-10-30T20:56:06.642Z"
   },
   {
    "duration": 10,
    "start_time": "2022-10-30T20:56:06.668Z"
   },
   {
    "duration": 34,
    "start_time": "2022-10-30T20:56:06.679Z"
   },
   {
    "duration": 57,
    "start_time": "2022-10-30T20:56:06.714Z"
   },
   {
    "duration": 5,
    "start_time": "2022-10-30T20:56:06.773Z"
   },
   {
    "duration": 930,
    "start_time": "2022-10-30T20:56:06.780Z"
   },
   {
    "duration": 0,
    "start_time": "2022-10-30T20:56:07.712Z"
   },
   {
    "duration": 0,
    "start_time": "2022-10-30T20:56:07.714Z"
   },
   {
    "duration": 0,
    "start_time": "2022-10-30T20:56:07.716Z"
   },
   {
    "duration": 0,
    "start_time": "2022-10-30T20:56:07.717Z"
   },
   {
    "duration": 0,
    "start_time": "2022-10-30T20:56:07.718Z"
   },
   {
    "duration": 0,
    "start_time": "2022-10-30T20:56:07.720Z"
   },
   {
    "duration": 0,
    "start_time": "2022-10-30T20:56:07.721Z"
   },
   {
    "duration": 0,
    "start_time": "2022-10-30T20:56:07.723Z"
   },
   {
    "duration": 0,
    "start_time": "2022-10-30T20:56:07.724Z"
   },
   {
    "duration": 0,
    "start_time": "2022-10-30T20:56:07.725Z"
   },
   {
    "duration": 0,
    "start_time": "2022-10-30T20:56:07.727Z"
   },
   {
    "duration": 0,
    "start_time": "2022-10-30T20:56:07.728Z"
   },
   {
    "duration": 0,
    "start_time": "2022-10-30T20:56:07.730Z"
   },
   {
    "duration": 0,
    "start_time": "2022-10-30T20:56:07.732Z"
   },
   {
    "duration": 0,
    "start_time": "2022-10-30T20:56:07.733Z"
   },
   {
    "duration": 9,
    "start_time": "2022-10-30T20:56:43.865Z"
   },
   {
    "duration": 6,
    "start_time": "2022-10-30T20:57:08.336Z"
   },
   {
    "duration": 5,
    "start_time": "2022-10-30T20:58:19.358Z"
   },
   {
    "duration": 1187,
    "start_time": "2022-10-30T20:58:32.307Z"
   },
   {
    "duration": 24,
    "start_time": "2022-10-30T20:58:33.496Z"
   },
   {
    "duration": 204,
    "start_time": "2022-10-30T20:58:33.522Z"
   },
   {
    "duration": 9,
    "start_time": "2022-10-30T20:58:33.728Z"
   },
   {
    "duration": 9,
    "start_time": "2022-10-30T20:58:33.738Z"
   },
   {
    "duration": 11,
    "start_time": "2022-10-30T20:58:33.749Z"
   },
   {
    "duration": 16,
    "start_time": "2022-10-30T20:58:33.762Z"
   },
   {
    "duration": 11,
    "start_time": "2022-10-30T20:58:33.779Z"
   },
   {
    "duration": 29,
    "start_time": "2022-10-30T20:58:33.792Z"
   },
   {
    "duration": 6,
    "start_time": "2022-10-30T20:58:33.824Z"
   },
   {
    "duration": 18,
    "start_time": "2022-10-30T20:58:33.832Z"
   },
   {
    "duration": 69,
    "start_time": "2022-10-30T20:58:33.852Z"
   },
   {
    "duration": 24,
    "start_time": "2022-10-30T20:58:33.923Z"
   },
   {
    "duration": 9,
    "start_time": "2022-10-30T20:58:33.949Z"
   },
   {
    "duration": 17,
    "start_time": "2022-10-30T20:58:33.959Z"
   },
   {
    "duration": 66,
    "start_time": "2022-10-30T20:58:33.978Z"
   },
   {
    "duration": 5,
    "start_time": "2022-10-30T20:58:34.046Z"
   },
   {
    "duration": 6,
    "start_time": "2022-10-30T20:58:34.052Z"
   },
   {
    "duration": 29,
    "start_time": "2022-10-30T20:58:34.060Z"
   },
   {
    "duration": 39,
    "start_time": "2022-10-30T20:58:34.091Z"
   },
   {
    "duration": 11,
    "start_time": "2022-10-30T20:58:34.131Z"
   },
   {
    "duration": 19,
    "start_time": "2022-10-30T20:58:34.143Z"
   },
   {
    "duration": 13,
    "start_time": "2022-10-30T20:58:34.164Z"
   },
   {
    "duration": 4,
    "start_time": "2022-10-30T20:58:34.178Z"
   },
   {
    "duration": 633,
    "start_time": "2022-10-30T20:58:34.184Z"
   },
   {
    "duration": 10,
    "start_time": "2022-10-30T20:58:34.819Z"
   },
   {
    "duration": 609,
    "start_time": "2022-10-30T20:58:34.830Z"
   },
   {
    "duration": 240,
    "start_time": "2022-10-30T20:58:35.441Z"
   },
   {
    "duration": 737,
    "start_time": "2022-10-30T20:58:35.682Z"
   },
   {
    "duration": 9,
    "start_time": "2022-10-30T20:58:36.420Z"
   },
   {
    "duration": 14,
    "start_time": "2022-10-30T20:58:36.431Z"
   },
   {
    "duration": 9,
    "start_time": "2022-10-30T20:58:36.446Z"
   },
   {
    "duration": 745,
    "start_time": "2022-10-30T20:58:36.456Z"
   },
   {
    "duration": 1405,
    "start_time": "2022-10-31T07:54:57.600Z"
   },
   {
    "duration": 31,
    "start_time": "2022-10-31T07:54:59.008Z"
   },
   {
    "duration": 274,
    "start_time": "2022-10-31T07:54:59.041Z"
   },
   {
    "duration": 9,
    "start_time": "2022-10-31T07:54:59.317Z"
   },
   {
    "duration": 42,
    "start_time": "2022-10-31T07:54:59.328Z"
   },
   {
    "duration": 47,
    "start_time": "2022-10-31T07:54:59.372Z"
   },
   {
    "duration": 46,
    "start_time": "2022-10-31T07:54:59.420Z"
   },
   {
    "duration": 22,
    "start_time": "2022-10-31T07:54:59.468Z"
   },
   {
    "duration": 50,
    "start_time": "2022-10-31T07:54:59.492Z"
   },
   {
    "duration": 25,
    "start_time": "2022-10-31T07:54:59.544Z"
   },
   {
    "duration": 63,
    "start_time": "2022-10-31T07:54:59.570Z"
   },
   {
    "duration": 66,
    "start_time": "2022-10-31T07:54:59.635Z"
   },
   {
    "duration": 46,
    "start_time": "2022-10-31T07:54:59.703Z"
   },
   {
    "duration": 25,
    "start_time": "2022-10-31T07:54:59.752Z"
   },
   {
    "duration": 43,
    "start_time": "2022-10-31T07:54:59.778Z"
   },
   {
    "duration": 59,
    "start_time": "2022-10-31T07:54:59.823Z"
   },
   {
    "duration": 6,
    "start_time": "2022-10-31T07:54:59.883Z"
   },
   {
    "duration": 25,
    "start_time": "2022-10-31T07:54:59.890Z"
   },
   {
    "duration": 62,
    "start_time": "2022-10-31T07:54:59.917Z"
   },
   {
    "duration": 41,
    "start_time": "2022-10-31T07:54:59.981Z"
   },
   {
    "duration": 21,
    "start_time": "2022-10-31T07:55:00.024Z"
   },
   {
    "duration": 61,
    "start_time": "2022-10-31T07:55:00.047Z"
   },
   {
    "duration": 47,
    "start_time": "2022-10-31T07:55:00.109Z"
   },
   {
    "duration": 23,
    "start_time": "2022-10-31T07:55:00.158Z"
   },
   {
    "duration": 679,
    "start_time": "2022-10-31T07:55:00.183Z"
   },
   {
    "duration": 10,
    "start_time": "2022-10-31T07:55:00.863Z"
   },
   {
    "duration": 631,
    "start_time": "2022-10-31T07:55:00.874Z"
   },
   {
    "duration": 245,
    "start_time": "2022-10-31T07:55:01.506Z"
   },
   {
    "duration": 743,
    "start_time": "2022-10-31T07:55:01.753Z"
   },
   {
    "duration": 10,
    "start_time": "2022-10-31T07:55:02.498Z"
   },
   {
    "duration": 27,
    "start_time": "2022-10-31T07:55:02.510Z"
   },
   {
    "duration": 13,
    "start_time": "2022-10-31T07:55:02.538Z"
   },
   {
    "duration": 778,
    "start_time": "2022-10-31T07:55:02.552Z"
   },
   {
    "duration": 830,
    "start_time": "2022-10-31T07:56:18.554Z"
   },
   {
    "duration": 10,
    "start_time": "2022-10-31T07:56:19.386Z"
   },
   {
    "duration": 16,
    "start_time": "2022-10-31T07:56:21.497Z"
   },
   {
    "duration": 10,
    "start_time": "2022-10-31T07:56:24.965Z"
   },
   {
    "duration": 735,
    "start_time": "2022-10-31T07:56:29.716Z"
   },
   {
    "duration": 748,
    "start_time": "2022-10-31T07:58:44.408Z"
   },
   {
    "duration": 10,
    "start_time": "2022-10-31T07:58:45.158Z"
   },
   {
    "duration": 14,
    "start_time": "2022-10-31T07:58:45.169Z"
   },
   {
    "duration": 10,
    "start_time": "2022-10-31T07:58:45.973Z"
   },
   {
    "duration": 708,
    "start_time": "2022-10-31T07:58:48.769Z"
   },
   {
    "duration": 771,
    "start_time": "2022-10-31T07:59:01.275Z"
   },
   {
    "duration": 12,
    "start_time": "2022-10-31T07:59:03.248Z"
   },
   {
    "duration": 16,
    "start_time": "2022-10-31T07:59:03.976Z"
   },
   {
    "duration": 724,
    "start_time": "2022-10-31T07:59:45.705Z"
   },
   {
    "duration": 123,
    "start_time": "2022-10-31T08:02:19.141Z"
   },
   {
    "duration": 23,
    "start_time": "2022-10-31T08:02:38.025Z"
   },
   {
    "duration": 11,
    "start_time": "2022-10-31T08:03:01.273Z"
   },
   {
    "duration": 754,
    "start_time": "2022-10-31T08:05:28.635Z"
   },
   {
    "duration": 11,
    "start_time": "2022-10-31T08:05:34.189Z"
   },
   {
    "duration": 4,
    "start_time": "2022-10-31T08:13:04.042Z"
   },
   {
    "duration": 3,
    "start_time": "2022-10-31T08:13:10.202Z"
   },
   {
    "duration": 22,
    "start_time": "2022-10-31T08:13:11.942Z"
   },
   {
    "duration": 11,
    "start_time": "2022-10-31T08:14:01.832Z"
   },
   {
    "duration": 20,
    "start_time": "2022-10-31T08:14:06.222Z"
   },
   {
    "duration": 21,
    "start_time": "2022-10-31T08:16:22.452Z"
   },
   {
    "duration": 173141,
    "start_time": "2022-10-31T08:17:51.030Z"
   },
   {
    "duration": 17,
    "start_time": "2022-10-31T08:21:18.912Z"
   },
   {
    "duration": 28,
    "start_time": "2022-10-31T08:22:12.310Z"
   },
   {
    "duration": 139,
    "start_time": "2022-10-31T08:22:26.312Z"
   },
   {
    "duration": 742,
    "start_time": "2022-10-31T08:24:27.952Z"
   },
   {
    "duration": 1186,
    "start_time": "2022-10-31T08:24:44.681Z"
   },
   {
    "duration": 24,
    "start_time": "2022-10-31T08:24:45.869Z"
   },
   {
    "duration": 381,
    "start_time": "2022-10-31T08:24:45.895Z"
   },
   {
    "duration": 9,
    "start_time": "2022-10-31T08:24:46.278Z"
   },
   {
    "duration": 12,
    "start_time": "2022-10-31T08:24:46.288Z"
   },
   {
    "duration": 13,
    "start_time": "2022-10-31T08:24:46.301Z"
   },
   {
    "duration": 12,
    "start_time": "2022-10-31T08:24:46.315Z"
   },
   {
    "duration": 9,
    "start_time": "2022-10-31T08:24:46.328Z"
   },
   {
    "duration": 19,
    "start_time": "2022-10-31T08:24:46.339Z"
   },
   {
    "duration": 8,
    "start_time": "2022-10-31T08:24:46.362Z"
   },
   {
    "duration": 38,
    "start_time": "2022-10-31T08:24:46.372Z"
   },
   {
    "duration": 81,
    "start_time": "2022-10-31T08:24:46.423Z"
   },
   {
    "duration": 41,
    "start_time": "2022-10-31T08:24:46.506Z"
   },
   {
    "duration": 11,
    "start_time": "2022-10-31T08:24:46.548Z"
   },
   {
    "duration": 19,
    "start_time": "2022-10-31T08:24:46.561Z"
   },
   {
    "duration": 62,
    "start_time": "2022-10-31T08:24:46.581Z"
   },
   {
    "duration": 6,
    "start_time": "2022-10-31T08:24:46.645Z"
   },
   {
    "duration": 15,
    "start_time": "2022-10-31T08:24:46.652Z"
   },
   {
    "duration": 36,
    "start_time": "2022-10-31T08:24:46.668Z"
   },
   {
    "duration": 28,
    "start_time": "2022-10-31T08:24:46.706Z"
   },
   {
    "duration": 13,
    "start_time": "2022-10-31T08:24:46.736Z"
   },
   {
    "duration": 20,
    "start_time": "2022-10-31T08:24:46.751Z"
   },
   {
    "duration": 16,
    "start_time": "2022-10-31T08:24:46.772Z"
   },
   {
    "duration": 5,
    "start_time": "2022-10-31T08:24:46.789Z"
   },
   {
    "duration": 646,
    "start_time": "2022-10-31T08:24:46.823Z"
   },
   {
    "duration": 10,
    "start_time": "2022-10-31T08:24:47.471Z"
   },
   {
    "duration": 651,
    "start_time": "2022-10-31T08:24:47.482Z"
   },
   {
    "duration": 232,
    "start_time": "2022-10-31T08:24:48.136Z"
   },
   {
    "duration": 795,
    "start_time": "2022-10-31T08:24:48.369Z"
   },
   {
    "duration": 3,
    "start_time": "2022-10-31T08:24:49.167Z"
   },
   {
    "duration": 29,
    "start_time": "2022-10-31T08:24:49.172Z"
   },
   {
    "duration": 36,
    "start_time": "2022-10-31T08:24:49.202Z"
   },
   {
    "duration": 29,
    "start_time": "2022-10-31T08:24:49.240Z"
   },
   {
    "duration": 708,
    "start_time": "2022-10-31T08:24:49.271Z"
   },
   {
    "duration": 751,
    "start_time": "2022-10-31T08:25:39.342Z"
   },
   {
    "duration": 12,
    "start_time": "2022-10-31T08:25:40.330Z"
   },
   {
    "duration": 717,
    "start_time": "2022-10-31T08:26:04.592Z"
   },
   {
    "duration": 20,
    "start_time": "2022-10-31T08:26:05.312Z"
   },
   {
    "duration": 25708,
    "start_time": "2022-10-31T08:29:08.726Z"
   },
   {
    "duration": 353,
    "start_time": "2022-10-31T08:30:19.105Z"
   },
   {
    "duration": 6,
    "start_time": "2022-10-31T08:30:59.036Z"
   },
   {
    "duration": 1276,
    "start_time": "2022-10-31T08:31:05.215Z"
   },
   {
    "duration": 41,
    "start_time": "2022-10-31T08:31:06.492Z"
   },
   {
    "duration": 204,
    "start_time": "2022-10-31T08:31:06.534Z"
   },
   {
    "duration": 10,
    "start_time": "2022-10-31T08:31:06.740Z"
   },
   {
    "duration": 10,
    "start_time": "2022-10-31T08:31:06.751Z"
   },
   {
    "duration": 18,
    "start_time": "2022-10-31T08:31:06.763Z"
   },
   {
    "duration": 10,
    "start_time": "2022-10-31T08:31:06.782Z"
   },
   {
    "duration": 11,
    "start_time": "2022-10-31T08:31:06.794Z"
   },
   {
    "duration": 36,
    "start_time": "2022-10-31T08:31:06.806Z"
   },
   {
    "duration": 12,
    "start_time": "2022-10-31T08:31:06.845Z"
   },
   {
    "duration": 27,
    "start_time": "2022-10-31T08:31:06.859Z"
   },
   {
    "duration": 76,
    "start_time": "2022-10-31T08:31:06.888Z"
   },
   {
    "duration": 25,
    "start_time": "2022-10-31T08:31:06.965Z"
   },
   {
    "duration": 34,
    "start_time": "2022-10-31T08:31:06.991Z"
   },
   {
    "duration": 18,
    "start_time": "2022-10-31T08:31:07.026Z"
   },
   {
    "duration": 42,
    "start_time": "2022-10-31T08:31:07.046Z"
   },
   {
    "duration": 32,
    "start_time": "2022-10-31T08:31:07.090Z"
   },
   {
    "duration": 6,
    "start_time": "2022-10-31T08:31:07.124Z"
   },
   {
    "duration": 33,
    "start_time": "2022-10-31T08:31:07.131Z"
   },
   {
    "duration": 22,
    "start_time": "2022-10-31T08:31:07.165Z"
   },
   {
    "duration": 36,
    "start_time": "2022-10-31T08:31:07.189Z"
   },
   {
    "duration": 24,
    "start_time": "2022-10-31T08:31:07.227Z"
   },
   {
    "duration": 18,
    "start_time": "2022-10-31T08:31:07.252Z"
   },
   {
    "duration": 4,
    "start_time": "2022-10-31T08:31:07.272Z"
   },
   {
    "duration": 691,
    "start_time": "2022-10-31T08:31:07.277Z"
   },
   {
    "duration": 9,
    "start_time": "2022-10-31T08:31:07.970Z"
   },
   {
    "duration": 649,
    "start_time": "2022-10-31T08:31:07.980Z"
   },
   {
    "duration": 254,
    "start_time": "2022-10-31T08:31:08.633Z"
   },
   {
    "duration": 820,
    "start_time": "2022-10-31T08:31:08.889Z"
   },
   {
    "duration": 19,
    "start_time": "2022-10-31T08:31:09.710Z"
   },
   {
    "duration": 5,
    "start_time": "2022-10-31T08:31:09.731Z"
   },
   {
    "duration": 20,
    "start_time": "2022-10-31T08:31:09.737Z"
   },
   {
    "duration": 13,
    "start_time": "2022-10-31T08:31:09.759Z"
   },
   {
    "duration": 9,
    "start_time": "2022-10-31T08:31:09.774Z"
   },
   {
    "duration": 690,
    "start_time": "2022-10-31T08:31:09.785Z"
   },
   {
    "duration": 1412,
    "start_time": "2022-10-31T10:49:43.399Z"
   },
   {
    "duration": 25,
    "start_time": "2022-10-31T10:49:44.813Z"
   },
   {
    "duration": 479,
    "start_time": "2022-10-31T10:49:44.840Z"
   },
   {
    "duration": 10,
    "start_time": "2022-10-31T10:49:45.321Z"
   },
   {
    "duration": 6,
    "start_time": "2022-10-31T10:49:45.333Z"
   },
   {
    "duration": 14,
    "start_time": "2022-10-31T10:49:45.341Z"
   },
   {
    "duration": 14,
    "start_time": "2022-10-31T10:49:45.356Z"
   },
   {
    "duration": 15,
    "start_time": "2022-10-31T10:49:45.372Z"
   },
   {
    "duration": 38,
    "start_time": "2022-10-31T10:49:45.389Z"
   },
   {
    "duration": 12,
    "start_time": "2022-10-31T10:49:45.428Z"
   },
   {
    "duration": 25,
    "start_time": "2022-10-31T10:49:45.442Z"
   },
   {
    "duration": 68,
    "start_time": "2022-10-31T10:49:45.469Z"
   },
   {
    "duration": 27,
    "start_time": "2022-10-31T10:49:45.538Z"
   },
   {
    "duration": 11,
    "start_time": "2022-10-31T10:49:45.567Z"
   },
   {
    "duration": 19,
    "start_time": "2022-10-31T10:49:45.579Z"
   },
   {
    "duration": 46,
    "start_time": "2022-10-31T10:49:45.621Z"
   },
   {
    "duration": 5,
    "start_time": "2022-10-31T10:49:45.669Z"
   },
   {
    "duration": 12,
    "start_time": "2022-10-31T10:49:45.676Z"
   },
   {
    "duration": 49,
    "start_time": "2022-10-31T10:49:45.690Z"
   },
   {
    "duration": 17,
    "start_time": "2022-10-31T10:49:45.741Z"
   },
   {
    "duration": 13,
    "start_time": "2022-10-31T10:49:45.759Z"
   },
   {
    "duration": 17,
    "start_time": "2022-10-31T10:49:45.773Z"
   },
   {
    "duration": 43,
    "start_time": "2022-10-31T10:49:45.792Z"
   },
   {
    "duration": 5,
    "start_time": "2022-10-31T10:49:45.837Z"
   },
   {
    "duration": 719,
    "start_time": "2022-10-31T10:49:45.844Z"
   },
   {
    "duration": 11,
    "start_time": "2022-10-31T10:49:46.564Z"
   },
   {
    "duration": 683,
    "start_time": "2022-10-31T10:49:46.576Z"
   },
   {
    "duration": 240,
    "start_time": "2022-10-31T10:49:47.261Z"
   },
   {
    "duration": 756,
    "start_time": "2022-10-31T10:49:47.503Z"
   },
   {
    "duration": 14,
    "start_time": "2022-10-31T10:49:48.261Z"
   },
   {
    "duration": 6,
    "start_time": "2022-10-31T10:49:48.277Z"
   },
   {
    "duration": 13,
    "start_time": "2022-10-31T10:49:48.284Z"
   },
   {
    "duration": 35,
    "start_time": "2022-10-31T10:49:48.299Z"
   },
   {
    "duration": 10,
    "start_time": "2022-10-31T10:49:48.336Z"
   },
   {
    "duration": 817,
    "start_time": "2022-10-31T10:49:48.348Z"
   },
   {
    "duration": 15,
    "start_time": "2022-10-31T11:12:21.990Z"
   },
   {
    "duration": 1180,
    "start_time": "2022-10-31T11:12:38.066Z"
   },
   {
    "duration": 72,
    "start_time": "2022-10-31T11:12:39.248Z"
   },
   {
    "duration": 217,
    "start_time": "2022-10-31T11:12:39.322Z"
   },
   {
    "duration": 9,
    "start_time": "2022-10-31T11:12:39.542Z"
   },
   {
    "duration": 32,
    "start_time": "2022-10-31T11:12:39.553Z"
   },
   {
    "duration": 51,
    "start_time": "2022-10-31T11:12:39.587Z"
   },
   {
    "duration": 28,
    "start_time": "2022-10-31T11:12:39.639Z"
   },
   {
    "duration": 19,
    "start_time": "2022-10-31T11:12:39.669Z"
   },
   {
    "duration": 41,
    "start_time": "2022-10-31T11:12:39.690Z"
   },
   {
    "duration": 5,
    "start_time": "2022-10-31T11:12:39.734Z"
   },
   {
    "duration": 48,
    "start_time": "2022-10-31T11:12:39.741Z"
   },
   {
    "duration": 87,
    "start_time": "2022-10-31T11:12:39.790Z"
   },
   {
    "duration": 25,
    "start_time": "2022-10-31T11:12:39.878Z"
   },
   {
    "duration": 21,
    "start_time": "2022-10-31T11:12:39.904Z"
   },
   {
    "duration": 52,
    "start_time": "2022-10-31T11:12:39.926Z"
   },
   {
    "duration": 94,
    "start_time": "2022-10-31T11:12:39.980Z"
   },
   {
    "duration": 29,
    "start_time": "2022-10-31T11:12:40.076Z"
   },
   {
    "duration": 28,
    "start_time": "2022-10-31T11:12:40.107Z"
   },
   {
    "duration": 64,
    "start_time": "2022-10-31T11:12:40.138Z"
   },
   {
    "duration": 47,
    "start_time": "2022-10-31T11:12:40.204Z"
   },
   {
    "duration": 56,
    "start_time": "2022-10-31T11:12:40.252Z"
   },
   {
    "duration": 51,
    "start_time": "2022-10-31T11:12:40.310Z"
   },
   {
    "duration": 34,
    "start_time": "2022-10-31T11:12:40.362Z"
   },
   {
    "duration": 55,
    "start_time": "2022-10-31T11:12:40.397Z"
   },
   {
    "duration": 704,
    "start_time": "2022-10-31T11:12:40.453Z"
   },
   {
    "duration": 10,
    "start_time": "2022-10-31T11:12:41.159Z"
   },
   {
    "duration": 700,
    "start_time": "2022-10-31T11:12:41.171Z"
   },
   {
    "duration": 241,
    "start_time": "2022-10-31T11:12:41.875Z"
   },
   {
    "duration": 840,
    "start_time": "2022-10-31T11:12:42.118Z"
   },
   {
    "duration": 10,
    "start_time": "2022-10-31T11:12:42.959Z"
   },
   {
    "duration": 41,
    "start_time": "2022-10-31T11:12:42.971Z"
   },
   {
    "duration": 25,
    "start_time": "2022-10-31T11:12:43.014Z"
   },
   {
    "duration": 856,
    "start_time": "2022-10-31T11:12:43.041Z"
   },
   {
    "duration": 756,
    "start_time": "2022-10-31T11:15:56.002Z"
   },
   {
    "duration": 27,
    "start_time": "2022-10-31T11:16:36.604Z"
   },
   {
    "duration": 23,
    "start_time": "2022-10-31T11:16:51.681Z"
   },
   {
    "duration": 731,
    "start_time": "2022-10-31T11:17:10.398Z"
   },
   {
    "duration": 26,
    "start_time": "2022-10-31T11:17:11.131Z"
   },
   {
    "duration": 876,
    "start_time": "2022-10-31T11:17:18.790Z"
   },
   {
    "duration": 29,
    "start_time": "2022-10-31T11:17:19.668Z"
   },
   {
    "duration": 24,
    "start_time": "2022-10-31T11:18:10.955Z"
   },
   {
    "duration": 101,
    "start_time": "2022-10-31T11:20:41.849Z"
   },
   {
    "duration": 17,
    "start_time": "2022-10-31T11:20:50.522Z"
   },
   {
    "duration": 19,
    "start_time": "2022-10-31T11:21:34.343Z"
   },
   {
    "duration": 17,
    "start_time": "2022-10-31T11:21:42.037Z"
   },
   {
    "duration": 18,
    "start_time": "2022-10-31T11:21:48.592Z"
   },
   {
    "duration": 19,
    "start_time": "2022-10-31T11:21:52.897Z"
   },
   {
    "duration": 19,
    "start_time": "2022-10-31T11:22:29.735Z"
   },
   {
    "duration": 29,
    "start_time": "2022-10-31T11:23:42.003Z"
   },
   {
    "duration": 17,
    "start_time": "2022-10-31T11:24:02.100Z"
   },
   {
    "duration": 25,
    "start_time": "2022-10-31T11:24:29.659Z"
   },
   {
    "duration": 23,
    "start_time": "2022-10-31T11:27:00.120Z"
   },
   {
    "duration": 22,
    "start_time": "2022-10-31T11:27:04.187Z"
   },
   {
    "duration": 1666,
    "start_time": "2022-10-31T11:28:10.063Z"
   },
   {
    "duration": 18,
    "start_time": "2022-10-31T11:29:43.435Z"
   },
   {
    "duration": 19,
    "start_time": "2022-10-31T11:29:59.262Z"
   },
   {
    "duration": 20,
    "start_time": "2022-10-31T11:30:05.974Z"
   },
   {
    "duration": 28,
    "start_time": "2022-10-31T11:30:08.951Z"
   },
   {
    "duration": 24,
    "start_time": "2022-10-31T11:33:10.508Z"
   },
   {
    "duration": 18,
    "start_time": "2022-10-31T11:35:02.753Z"
   },
   {
    "duration": 20,
    "start_time": "2022-10-31T11:35:05.265Z"
   },
   {
    "duration": 19,
    "start_time": "2022-10-31T11:35:13.234Z"
   },
   {
    "duration": 19,
    "start_time": "2022-10-31T11:35:32.578Z"
   },
   {
    "duration": 20,
    "start_time": "2022-10-31T11:36:12.316Z"
   },
   {
    "duration": 22,
    "start_time": "2022-10-31T13:13:09.762Z"
   },
   {
    "duration": 20,
    "start_time": "2022-10-31T13:15:15.114Z"
   },
   {
    "duration": 21,
    "start_time": "2022-10-31T13:15:21.101Z"
   },
   {
    "duration": 19,
    "start_time": "2022-10-31T13:15:26.982Z"
   },
   {
    "duration": 43,
    "start_time": "2022-10-31T13:18:35.151Z"
   },
   {
    "duration": 74,
    "start_time": "2022-10-31T13:18:42.704Z"
   },
   {
    "duration": 18,
    "start_time": "2022-10-31T13:18:49.942Z"
   },
   {
    "duration": 42,
    "start_time": "2022-10-31T13:19:55.517Z"
   },
   {
    "duration": 69,
    "start_time": "2022-10-31T13:20:08.311Z"
   },
   {
    "duration": 76,
    "start_time": "2022-10-31T13:41:45.362Z"
   },
   {
    "duration": 42,
    "start_time": "2022-10-31T13:41:54.682Z"
   },
   {
    "duration": 25,
    "start_time": "2022-10-31T13:42:20.327Z"
   },
   {
    "duration": 19,
    "start_time": "2022-10-31T13:49:17.080Z"
   },
   {
    "duration": 23,
    "start_time": "2022-10-31T13:49:25.804Z"
   },
   {
    "duration": 25,
    "start_time": "2022-10-31T13:49:57.972Z"
   },
   {
    "duration": 47,
    "start_time": "2022-10-31T13:54:55.251Z"
   },
   {
    "duration": 94,
    "start_time": "2022-10-31T13:55:03.304Z"
   },
   {
    "duration": 256,
    "start_time": "2022-10-31T13:55:14.856Z"
   },
   {
    "duration": 269,
    "start_time": "2022-10-31T13:55:47.112Z"
   },
   {
    "duration": 194,
    "start_time": "2022-10-31T13:56:26.138Z"
   },
   {
    "duration": 4,
    "start_time": "2022-10-31T13:56:27.832Z"
   },
   {
    "duration": 4,
    "start_time": "2022-10-31T13:56:52.178Z"
   },
   {
    "duration": 4,
    "start_time": "2022-10-31T13:57:05.285Z"
   },
   {
    "duration": 5,
    "start_time": "2022-10-31T13:57:17.013Z"
   },
   {
    "duration": 21,
    "start_time": "2022-10-31T13:57:43.755Z"
   },
   {
    "duration": 24,
    "start_time": "2022-10-31T13:57:46.416Z"
   },
   {
    "duration": 23,
    "start_time": "2022-10-31T13:58:04.443Z"
   },
   {
    "duration": 85,
    "start_time": "2022-10-31T13:58:38.985Z"
   },
   {
    "duration": 30,
    "start_time": "2022-10-31T13:58:45.577Z"
   },
   {
    "duration": 31,
    "start_time": "2022-10-31T14:06:27.767Z"
   },
   {
    "duration": 21,
    "start_time": "2022-10-31T14:06:54.898Z"
   },
   {
    "duration": 33,
    "start_time": "2022-10-31T14:07:18.326Z"
   },
   {
    "duration": 47,
    "start_time": "2022-10-31T14:07:19.048Z"
   },
   {
    "duration": 60,
    "start_time": "2022-10-31T14:07:19.651Z"
   },
   {
    "duration": 66,
    "start_time": "2022-10-31T14:07:20.359Z"
   },
   {
    "duration": 71,
    "start_time": "2022-10-31T14:07:22.568Z"
   },
   {
    "duration": 1223,
    "start_time": "2022-10-31T14:07:42.306Z"
   },
   {
    "duration": 30,
    "start_time": "2022-10-31T14:07:43.531Z"
   },
   {
    "duration": 286,
    "start_time": "2022-10-31T14:07:43.562Z"
   },
   {
    "duration": 9,
    "start_time": "2022-10-31T14:07:43.851Z"
   },
   {
    "duration": 7,
    "start_time": "2022-10-31T14:07:43.861Z"
   },
   {
    "duration": 11,
    "start_time": "2022-10-31T14:07:43.870Z"
   },
   {
    "duration": 9,
    "start_time": "2022-10-31T14:07:43.883Z"
   },
   {
    "duration": 27,
    "start_time": "2022-10-31T14:07:43.894Z"
   },
   {
    "duration": 18,
    "start_time": "2022-10-31T14:07:43.923Z"
   },
   {
    "duration": 5,
    "start_time": "2022-10-31T14:07:43.944Z"
   },
   {
    "duration": 18,
    "start_time": "2022-10-31T14:07:43.950Z"
   },
   {
    "duration": 76,
    "start_time": "2022-10-31T14:07:43.970Z"
   },
   {
    "duration": 25,
    "start_time": "2022-10-31T14:07:44.048Z"
   },
   {
    "duration": 13,
    "start_time": "2022-10-31T14:07:44.075Z"
   },
   {
    "duration": 35,
    "start_time": "2022-10-31T14:07:44.090Z"
   },
   {
    "duration": 41,
    "start_time": "2022-10-31T14:07:44.126Z"
   },
   {
    "duration": 5,
    "start_time": "2022-10-31T14:07:44.169Z"
   },
   {
    "duration": 6,
    "start_time": "2022-10-31T14:07:44.176Z"
   },
   {
    "duration": 53,
    "start_time": "2022-10-31T14:07:44.184Z"
   },
   {
    "duration": 17,
    "start_time": "2022-10-31T14:07:44.238Z"
   },
   {
    "duration": 11,
    "start_time": "2022-10-31T14:07:44.256Z"
   },
   {
    "duration": 16,
    "start_time": "2022-10-31T14:07:44.269Z"
   },
   {
    "duration": 37,
    "start_time": "2022-10-31T14:07:44.287Z"
   },
   {
    "duration": 5,
    "start_time": "2022-10-31T14:07:44.325Z"
   },
   {
    "duration": 640,
    "start_time": "2022-10-31T14:07:44.332Z"
   },
   {
    "duration": 9,
    "start_time": "2022-10-31T14:07:44.974Z"
   },
   {
    "duration": 647,
    "start_time": "2022-10-31T14:07:44.984Z"
   },
   {
    "duration": 254,
    "start_time": "2022-10-31T14:07:45.634Z"
   },
   {
    "duration": 753,
    "start_time": "2022-10-31T14:07:45.889Z"
   },
   {
    "duration": 24,
    "start_time": "2022-10-31T14:07:46.643Z"
   },
   {
    "duration": 23,
    "start_time": "2022-10-31T14:07:46.669Z"
   },
   {
    "duration": 28,
    "start_time": "2022-10-31T14:07:46.694Z"
   },
   {
    "duration": 22,
    "start_time": "2022-10-31T14:07:46.724Z"
   },
   {
    "duration": 12,
    "start_time": "2022-10-31T14:07:46.748Z"
   },
   {
    "duration": 15,
    "start_time": "2022-10-31T14:07:46.761Z"
   },
   {
    "duration": 9,
    "start_time": "2022-10-31T14:07:46.777Z"
   },
   {
    "duration": 703,
    "start_time": "2022-10-31T14:07:46.788Z"
   },
   {
    "duration": 56,
    "start_time": "2022-10-31T14:10:53.607Z"
   },
   {
    "duration": 574,
    "start_time": "2022-10-31T14:11:03.169Z"
   },
   {
    "duration": 552,
    "start_time": "2022-10-31T14:11:13.593Z"
   },
   {
    "duration": 725,
    "start_time": "2022-10-31T14:26:49.053Z"
   },
   {
    "duration": 27,
    "start_time": "2022-10-31T14:27:07.600Z"
   },
   {
    "duration": 26,
    "start_time": "2022-10-31T14:27:42.932Z"
   },
   {
    "duration": 943,
    "start_time": "2022-10-31T14:28:05.939Z"
   },
   {
    "duration": 866,
    "start_time": "2022-10-31T14:28:13.950Z"
   },
   {
    "duration": 861,
    "start_time": "2022-10-31T14:28:29.627Z"
   },
   {
    "duration": 1195,
    "start_time": "2022-10-31T14:28:36.848Z"
   },
   {
    "duration": 11,
    "start_time": "2022-10-31T14:28:48.794Z"
   },
   {
    "duration": 11,
    "start_time": "2022-10-31T14:29:02.813Z"
   },
   {
    "duration": 9,
    "start_time": "2022-10-31T14:29:09.114Z"
   },
   {
    "duration": 14,
    "start_time": "2022-10-31T14:29:22.439Z"
   },
   {
    "duration": 10,
    "start_time": "2022-10-31T14:29:27.748Z"
   },
   {
    "duration": 11,
    "start_time": "2022-10-31T14:29:54.465Z"
   },
   {
    "duration": 1324,
    "start_time": "2022-10-31T14:33:25.254Z"
   },
   {
    "duration": 552,
    "start_time": "2022-10-31T14:33:47.166Z"
   },
   {
    "duration": 588,
    "start_time": "2022-10-31T14:33:51.276Z"
   },
   {
    "duration": 567,
    "start_time": "2022-10-31T14:34:24.937Z"
   },
   {
    "duration": 590,
    "start_time": "2022-10-31T14:34:29.361Z"
   },
   {
    "duration": 547,
    "start_time": "2022-10-31T14:34:59.610Z"
   },
   {
    "duration": 32,
    "start_time": "2022-10-31T14:46:48.275Z"
   },
   {
    "duration": 26,
    "start_time": "2022-10-31T14:47:36.526Z"
   },
   {
    "duration": 26,
    "start_time": "2022-10-31T14:47:58.060Z"
   },
   {
    "duration": 617,
    "start_time": "2022-10-31T14:54:19.262Z"
   },
   {
    "duration": 12,
    "start_time": "2022-10-31T14:54:24.297Z"
   },
   {
    "duration": 10,
    "start_time": "2022-10-31T14:54:44.018Z"
   },
   {
    "duration": 25,
    "start_time": "2022-10-31T14:55:37.159Z"
   },
   {
    "duration": 1222,
    "start_time": "2022-10-31T14:55:49.405Z"
   },
   {
    "duration": 26,
    "start_time": "2022-10-31T14:55:50.629Z"
   },
   {
    "duration": 256,
    "start_time": "2022-10-31T14:55:50.657Z"
   },
   {
    "duration": 9,
    "start_time": "2022-10-31T14:55:50.914Z"
   },
   {
    "duration": 22,
    "start_time": "2022-10-31T14:55:50.925Z"
   },
   {
    "duration": 33,
    "start_time": "2022-10-31T14:55:50.948Z"
   },
   {
    "duration": 23,
    "start_time": "2022-10-31T14:55:50.983Z"
   },
   {
    "duration": 29,
    "start_time": "2022-10-31T14:55:51.007Z"
   },
   {
    "duration": 56,
    "start_time": "2022-10-31T14:55:51.037Z"
   },
   {
    "duration": 6,
    "start_time": "2022-10-31T14:55:51.095Z"
   },
   {
    "duration": 44,
    "start_time": "2022-10-31T14:55:51.103Z"
   },
   {
    "duration": 62,
    "start_time": "2022-10-31T14:55:51.149Z"
   },
   {
    "duration": 27,
    "start_time": "2022-10-31T14:55:51.213Z"
   },
   {
    "duration": 12,
    "start_time": "2022-10-31T14:55:51.245Z"
   },
   {
    "duration": 33,
    "start_time": "2022-10-31T14:55:51.259Z"
   },
   {
    "duration": 61,
    "start_time": "2022-10-31T14:55:51.294Z"
   },
   {
    "duration": 7,
    "start_time": "2022-10-31T14:55:51.356Z"
   },
   {
    "duration": 16,
    "start_time": "2022-10-31T14:55:51.364Z"
   },
   {
    "duration": 50,
    "start_time": "2022-10-31T14:55:51.382Z"
   },
   {
    "duration": 49,
    "start_time": "2022-10-31T14:55:51.434Z"
   },
   {
    "duration": 31,
    "start_time": "2022-10-31T14:55:51.484Z"
   },
   {
    "duration": 34,
    "start_time": "2022-10-31T14:55:51.517Z"
   },
   {
    "duration": 19,
    "start_time": "2022-10-31T14:55:51.552Z"
   },
   {
    "duration": 14,
    "start_time": "2022-10-31T14:55:51.572Z"
   },
   {
    "duration": 653,
    "start_time": "2022-10-31T14:55:51.588Z"
   },
   {
    "duration": 660,
    "start_time": "2022-10-31T14:55:52.243Z"
   },
   {
    "duration": 241,
    "start_time": "2022-10-31T14:55:52.904Z"
   },
   {
    "duration": 739,
    "start_time": "2022-10-31T14:55:53.147Z"
   },
   {
    "duration": 34,
    "start_time": "2022-10-31T14:55:53.888Z"
   },
   {
    "duration": 31,
    "start_time": "2022-10-31T14:55:53.923Z"
   },
   {
    "duration": 559,
    "start_time": "2022-10-31T14:55:53.956Z"
   },
   {
    "duration": 10,
    "start_time": "2022-10-31T14:55:54.517Z"
   },
   {
    "duration": 18,
    "start_time": "2022-10-31T14:55:54.529Z"
   },
   {
    "duration": 12,
    "start_time": "2022-10-31T14:55:54.549Z"
   },
   {
    "duration": 18,
    "start_time": "2022-10-31T14:55:54.563Z"
   },
   {
    "duration": 8,
    "start_time": "2022-10-31T14:55:54.583Z"
   },
   {
    "duration": 716,
    "start_time": "2022-10-31T14:55:54.593Z"
   },
   {
    "duration": 14,
    "start_time": "2022-10-31T14:56:12.610Z"
   },
   {
    "duration": 79,
    "start_time": "2022-10-31T15:04:40.381Z"
   },
   {
    "duration": 112,
    "start_time": "2022-10-31T15:05:23.439Z"
   },
   {
    "duration": 1181,
    "start_time": "2022-10-31T15:23:56.182Z"
   },
   {
    "duration": 29,
    "start_time": "2022-10-31T15:23:57.365Z"
   },
   {
    "duration": 206,
    "start_time": "2022-10-31T15:23:57.396Z"
   },
   {
    "duration": 9,
    "start_time": "2022-10-31T15:23:57.605Z"
   },
   {
    "duration": 36,
    "start_time": "2022-10-31T15:23:57.615Z"
   },
   {
    "duration": 30,
    "start_time": "2022-10-31T15:23:57.653Z"
   },
   {
    "duration": 27,
    "start_time": "2022-10-31T15:23:57.685Z"
   },
   {
    "duration": 18,
    "start_time": "2022-10-31T15:23:57.713Z"
   },
   {
    "duration": 33,
    "start_time": "2022-10-31T15:23:57.732Z"
   },
   {
    "duration": 5,
    "start_time": "2022-10-31T15:23:57.768Z"
   },
   {
    "duration": 42,
    "start_time": "2022-10-31T15:23:57.775Z"
   },
   {
    "duration": 75,
    "start_time": "2022-10-31T15:23:57.819Z"
   },
   {
    "duration": 37,
    "start_time": "2022-10-31T15:23:57.896Z"
   },
   {
    "duration": 10,
    "start_time": "2022-10-31T15:23:57.935Z"
   },
   {
    "duration": 39,
    "start_time": "2022-10-31T15:23:57.946Z"
   },
   {
    "duration": 61,
    "start_time": "2022-10-31T15:23:57.986Z"
   },
   {
    "duration": 6,
    "start_time": "2022-10-31T15:23:58.048Z"
   },
   {
    "duration": 20,
    "start_time": "2022-10-31T15:23:58.057Z"
   },
   {
    "duration": 57,
    "start_time": "2022-10-31T15:23:58.080Z"
   },
   {
    "duration": 17,
    "start_time": "2022-10-31T15:23:58.139Z"
   },
   {
    "duration": 28,
    "start_time": "2022-10-31T15:23:58.158Z"
   },
   {
    "duration": 33,
    "start_time": "2022-10-31T15:23:58.188Z"
   },
   {
    "duration": 28,
    "start_time": "2022-10-31T15:23:58.222Z"
   },
   {
    "duration": 11,
    "start_time": "2022-10-31T15:23:58.252Z"
   },
   {
    "duration": 685,
    "start_time": "2022-10-31T15:23:58.265Z"
   },
   {
    "duration": 754,
    "start_time": "2022-10-31T15:23:58.953Z"
   },
   {
    "duration": 244,
    "start_time": "2022-10-31T15:23:59.709Z"
   },
   {
    "duration": 786,
    "start_time": "2022-10-31T15:23:59.956Z"
   },
   {
    "duration": 27,
    "start_time": "2022-10-31T15:24:00.744Z"
   },
   {
    "duration": 59,
    "start_time": "2022-10-31T15:24:00.773Z"
   },
   {
    "duration": 618,
    "start_time": "2022-10-31T15:24:00.834Z"
   },
   {
    "duration": 11,
    "start_time": "2022-10-31T15:24:01.454Z"
   },
   {
    "duration": 166,
    "start_time": "2022-10-31T15:24:01.467Z"
   },
   {
    "duration": 0,
    "start_time": "2022-10-31T15:24:01.635Z"
   },
   {
    "duration": 0,
    "start_time": "2022-10-31T15:24:01.636Z"
   },
   {
    "duration": 0,
    "start_time": "2022-10-31T15:24:01.637Z"
   },
   {
    "duration": 0,
    "start_time": "2022-10-31T15:24:01.638Z"
   },
   {
    "duration": 1252,
    "start_time": "2022-10-31T15:24:43.613Z"
   },
   {
    "duration": 46,
    "start_time": "2022-10-31T15:24:44.867Z"
   },
   {
    "duration": 221,
    "start_time": "2022-10-31T15:24:44.915Z"
   },
   {
    "duration": 10,
    "start_time": "2022-10-31T15:24:45.137Z"
   },
   {
    "duration": 48,
    "start_time": "2022-10-31T15:24:45.150Z"
   },
   {
    "duration": 30,
    "start_time": "2022-10-31T15:24:45.200Z"
   },
   {
    "duration": 19,
    "start_time": "2022-10-31T15:24:45.232Z"
   },
   {
    "duration": 11,
    "start_time": "2022-10-31T15:24:45.253Z"
   },
   {
    "duration": 21,
    "start_time": "2022-10-31T15:24:45.266Z"
   },
   {
    "duration": 6,
    "start_time": "2022-10-31T15:24:45.289Z"
   },
   {
    "duration": 29,
    "start_time": "2022-10-31T15:24:45.296Z"
   },
   {
    "duration": 67,
    "start_time": "2022-10-31T15:24:45.326Z"
   },
   {
    "duration": 31,
    "start_time": "2022-10-31T15:24:45.394Z"
   },
   {
    "duration": 10,
    "start_time": "2022-10-31T15:24:45.428Z"
   },
   {
    "duration": 25,
    "start_time": "2022-10-31T15:24:45.439Z"
   },
   {
    "duration": 62,
    "start_time": "2022-10-31T15:24:45.466Z"
   },
   {
    "duration": 6,
    "start_time": "2022-10-31T15:24:45.530Z"
   },
   {
    "duration": 10,
    "start_time": "2022-10-31T15:24:45.538Z"
   },
   {
    "duration": 33,
    "start_time": "2022-10-31T15:24:45.549Z"
   },
   {
    "duration": 44,
    "start_time": "2022-10-31T15:24:45.584Z"
   },
   {
    "duration": 11,
    "start_time": "2022-10-31T15:24:45.630Z"
   },
   {
    "duration": 18,
    "start_time": "2022-10-31T15:24:45.642Z"
   },
   {
    "duration": 14,
    "start_time": "2022-10-31T15:24:45.662Z"
   },
   {
    "duration": 5,
    "start_time": "2022-10-31T15:24:45.678Z"
   },
   {
    "duration": 720,
    "start_time": "2022-10-31T15:24:45.684Z"
   },
   {
    "duration": 741,
    "start_time": "2022-10-31T15:24:46.406Z"
   },
   {
    "duration": 238,
    "start_time": "2022-10-31T15:24:47.149Z"
   },
   {
    "duration": 781,
    "start_time": "2022-10-31T15:24:47.389Z"
   },
   {
    "duration": 24,
    "start_time": "2022-10-31T15:24:48.171Z"
   },
   {
    "duration": 42,
    "start_time": "2022-10-31T15:24:48.197Z"
   },
   {
    "duration": 594,
    "start_time": "2022-10-31T15:24:48.240Z"
   },
   {
    "duration": 11,
    "start_time": "2022-10-31T15:24:48.836Z"
   },
   {
    "duration": 36,
    "start_time": "2022-10-31T15:24:48.850Z"
   },
   {
    "duration": 29,
    "start_time": "2022-10-31T15:24:48.888Z"
   },
   {
    "duration": 19,
    "start_time": "2022-10-31T15:24:48.919Z"
   },
   {
    "duration": 14,
    "start_time": "2022-10-31T15:24:48.940Z"
   },
   {
    "duration": 757,
    "start_time": "2022-10-31T15:24:48.957Z"
   },
   {
    "duration": 853,
    "start_time": "2022-10-31T15:25:15.970Z"
   },
   {
    "duration": 11,
    "start_time": "2022-10-31T15:25:31.317Z"
   },
   {
    "duration": 12,
    "start_time": "2022-10-31T15:28:24.101Z"
   },
   {
    "duration": 161187,
    "start_time": "2022-10-31T15:28:30.604Z"
   },
   {
    "duration": 156365,
    "start_time": "2022-10-31T15:32:29.272Z"
   },
   {
    "duration": 10,
    "start_time": "2022-10-31T16:05:25.975Z"
   },
   {
    "duration": 10,
    "start_time": "2022-10-31T16:05:34.950Z"
   },
   {
    "duration": 164,
    "start_time": "2022-10-31T16:07:03.509Z"
   },
   {
    "duration": 679,
    "start_time": "2022-10-31T16:08:38.911Z"
   },
   {
    "duration": 171,
    "start_time": "2022-10-31T16:08:39.592Z"
   },
   {
    "duration": 15,
    "start_time": "2022-10-31T16:09:40.716Z"
   },
   {
    "duration": 2,
    "start_time": "2022-10-31T16:11:03.036Z"
   },
   {
    "duration": 19,
    "start_time": "2022-10-31T16:16:38.071Z"
   },
   {
    "duration": 3,
    "start_time": "2022-10-31T16:24:36.668Z"
   },
   {
    "duration": 70,
    "start_time": "2022-10-31T16:24:36.673Z"
   },
   {
    "duration": 302,
    "start_time": "2022-10-31T16:24:36.744Z"
   },
   {
    "duration": 7,
    "start_time": "2022-10-31T16:24:37.048Z"
   },
   {
    "duration": 12,
    "start_time": "2022-10-31T16:24:37.058Z"
   },
   {
    "duration": 12,
    "start_time": "2022-10-31T16:24:37.072Z"
   },
   {
    "duration": 8,
    "start_time": "2022-10-31T16:24:37.086Z"
   },
   {
    "duration": 27,
    "start_time": "2022-10-31T16:24:37.095Z"
   },
   {
    "duration": 19,
    "start_time": "2022-10-31T16:24:37.123Z"
   },
   {
    "duration": 5,
    "start_time": "2022-10-31T16:24:37.143Z"
   },
   {
    "duration": 19,
    "start_time": "2022-10-31T16:24:37.150Z"
   },
   {
    "duration": 74,
    "start_time": "2022-10-31T16:24:37.171Z"
   },
   {
    "duration": 25,
    "start_time": "2022-10-31T16:24:37.247Z"
   },
   {
    "duration": 10,
    "start_time": "2022-10-31T16:24:37.274Z"
   },
   {
    "duration": 36,
    "start_time": "2022-10-31T16:24:37.285Z"
   },
   {
    "duration": 42,
    "start_time": "2022-10-31T16:24:37.322Z"
   },
   {
    "duration": 5,
    "start_time": "2022-10-31T16:24:37.366Z"
   },
   {
    "duration": 8,
    "start_time": "2022-10-31T16:24:37.373Z"
   },
   {
    "duration": 52,
    "start_time": "2022-10-31T16:24:37.383Z"
   },
   {
    "duration": 15,
    "start_time": "2022-10-31T16:24:37.437Z"
   },
   {
    "duration": 10,
    "start_time": "2022-10-31T16:24:37.454Z"
   },
   {
    "duration": 17,
    "start_time": "2022-10-31T16:24:37.466Z"
   },
   {
    "duration": 39,
    "start_time": "2022-10-31T16:24:37.484Z"
   },
   {
    "duration": 5,
    "start_time": "2022-10-31T16:24:37.524Z"
   },
   {
    "duration": 582,
    "start_time": "2022-10-31T16:24:37.531Z"
   },
   {
    "duration": 621,
    "start_time": "2022-10-31T16:24:38.114Z"
   },
   {
    "duration": 279,
    "start_time": "2022-10-31T16:24:38.737Z"
   },
   {
    "duration": 914,
    "start_time": "2022-10-31T16:24:39.023Z"
   },
   {
    "duration": 25,
    "start_time": "2022-10-31T16:24:39.938Z"
   },
   {
    "duration": 24,
    "start_time": "2022-10-31T16:24:39.965Z"
   },
   {
    "duration": 571,
    "start_time": "2022-10-31T16:24:39.991Z"
   },
   {
    "duration": 168,
    "start_time": "2022-10-31T16:24:40.563Z"
   },
   {
    "duration": 3,
    "start_time": "2022-10-31T16:24:40.733Z"
   },
   {
    "duration": 12,
    "start_time": "2022-10-31T16:24:40.737Z"
   },
   {
    "duration": 38,
    "start_time": "2022-10-31T16:24:40.751Z"
   },
   {
    "duration": 23,
    "start_time": "2022-10-31T16:24:40.791Z"
   },
   {
    "duration": 25,
    "start_time": "2022-10-31T16:24:40.816Z"
   },
   {
    "duration": 763,
    "start_time": "2022-10-31T16:24:40.843Z"
   },
   {
    "duration": 20,
    "start_time": "2022-10-31T16:25:05.119Z"
   },
   {
    "duration": 779,
    "start_time": "2022-10-31T16:25:37.324Z"
   },
   {
    "duration": 31,
    "start_time": "2022-10-31T16:25:38.104Z"
   },
   {
    "duration": 27,
    "start_time": "2022-10-31T16:25:45.594Z"
   },
   {
    "duration": 509,
    "start_time": "2022-10-31T16:25:46.989Z"
   },
   {
    "duration": 149,
    "start_time": "2022-10-31T16:25:47.500Z"
   },
   {
    "duration": 2,
    "start_time": "2022-10-31T16:25:55.839Z"
   },
   {
    "duration": 2,
    "start_time": "2022-10-31T16:28:26.720Z"
   },
   {
    "duration": 10,
    "start_time": "2022-10-31T16:29:27.930Z"
   },
   {
    "duration": 13,
    "start_time": "2022-10-31T16:37:05.647Z"
   },
   {
    "duration": 18,
    "start_time": "2022-10-31T16:42:17.206Z"
   },
   {
    "duration": 17,
    "start_time": "2022-10-31T16:43:09.596Z"
   },
   {
    "duration": 17,
    "start_time": "2022-10-31T16:43:13.632Z"
   },
   {
    "duration": 21,
    "start_time": "2022-10-31T16:43:26.113Z"
   },
   {
    "duration": 14,
    "start_time": "2022-10-31T16:43:49.318Z"
   },
   {
    "duration": 17,
    "start_time": "2022-10-31T16:43:56.488Z"
   },
   {
    "duration": 18,
    "start_time": "2022-10-31T16:44:38.789Z"
   },
   {
    "duration": 177,
    "start_time": "2022-10-31T16:46:13.981Z"
   },
   {
    "duration": 180,
    "start_time": "2022-10-31T16:47:31.626Z"
   },
   {
    "duration": 12,
    "start_time": "2022-10-31T16:48:01.296Z"
   },
   {
    "duration": 10,
    "start_time": "2022-10-31T16:49:09.837Z"
   },
   {
    "duration": 12,
    "start_time": "2022-10-31T16:49:13.722Z"
   },
   {
    "duration": 183,
    "start_time": "2022-10-31T16:49:46.756Z"
   },
   {
    "duration": 192,
    "start_time": "2022-10-31T16:49:54.663Z"
   },
   {
    "duration": 13,
    "start_time": "2022-10-31T16:51:00.124Z"
   },
   {
    "duration": 10,
    "start_time": "2022-10-31T16:51:03.910Z"
   },
   {
    "duration": 14,
    "start_time": "2022-10-31T16:51:25.391Z"
   },
   {
    "duration": 10,
    "start_time": "2022-10-31T16:51:41.163Z"
   },
   {
    "duration": 10,
    "start_time": "2022-10-31T16:52:35.692Z"
   },
   {
    "duration": 17,
    "start_time": "2022-10-31T16:52:45.956Z"
   },
   {
    "duration": 18,
    "start_time": "2022-10-31T16:54:21.743Z"
   },
   {
    "duration": 18,
    "start_time": "2022-10-31T16:54:43.108Z"
   },
   {
    "duration": 17,
    "start_time": "2022-10-31T16:54:53.131Z"
   },
   {
    "duration": 16,
    "start_time": "2022-10-31T16:55:02.199Z"
   },
   {
    "duration": 239,
    "start_time": "2022-10-31T17:03:53.558Z"
   },
   {
    "duration": 243,
    "start_time": "2022-10-31T17:03:59.974Z"
   },
   {
    "duration": 21,
    "start_time": "2022-10-31T17:04:09.045Z"
   },
   {
    "duration": 19,
    "start_time": "2022-10-31T17:04:18.169Z"
   },
   {
    "duration": 16,
    "start_time": "2022-10-31T17:07:32.959Z"
   },
   {
    "duration": 19,
    "start_time": "2022-10-31T17:08:19.187Z"
   },
   {
    "duration": 9,
    "start_time": "2022-10-31T17:08:23.134Z"
   },
   {
    "duration": 13,
    "start_time": "2022-10-31T17:09:14.057Z"
   },
   {
    "duration": 16,
    "start_time": "2022-10-31T17:09:27.396Z"
   },
   {
    "duration": 77,
    "start_time": "2022-10-31T17:11:14.846Z"
   },
   {
    "duration": 17,
    "start_time": "2022-10-31T17:11:20.255Z"
   },
   {
    "duration": 18,
    "start_time": "2022-10-31T17:11:27.870Z"
   },
   {
    "duration": 21,
    "start_time": "2022-10-31T17:11:52.187Z"
   },
   {
    "duration": 24,
    "start_time": "2022-10-31T17:12:24.568Z"
   },
   {
    "duration": 34,
    "start_time": "2022-10-31T17:13:05.750Z"
   },
   {
    "duration": 31,
    "start_time": "2022-10-31T17:13:41.695Z"
   },
   {
    "duration": 20,
    "start_time": "2022-10-31T17:14:51.258Z"
   },
   {
    "duration": 7,
    "start_time": "2022-10-31T17:14:52.056Z"
   },
   {
    "duration": 54,
    "start_time": "2022-10-31T17:15:08.208Z"
   },
   {
    "duration": 6,
    "start_time": "2022-10-31T17:15:09.216Z"
   },
   {
    "duration": 5,
    "start_time": "2022-10-31T17:15:24.299Z"
   },
   {
    "duration": 61,
    "start_time": "2022-10-31T17:15:45.064Z"
   },
   {
    "duration": 7,
    "start_time": "2022-10-31T17:15:48.016Z"
   },
   {
    "duration": 34,
    "start_time": "2022-10-31T17:16:36.702Z"
   },
   {
    "duration": 7,
    "start_time": "2022-10-31T17:16:37.753Z"
   },
   {
    "duration": 4,
    "start_time": "2022-10-31T17:17:10.964Z"
   },
   {
    "duration": 7,
    "start_time": "2022-10-31T17:17:16.875Z"
   },
   {
    "duration": 1373,
    "start_time": "2022-11-01T07:19:14.464Z"
   },
   {
    "duration": 95,
    "start_time": "2022-11-01T07:19:15.840Z"
   },
   {
    "duration": 279,
    "start_time": "2022-11-01T07:19:15.938Z"
   },
   {
    "duration": 14,
    "start_time": "2022-11-01T07:19:16.219Z"
   },
   {
    "duration": 36,
    "start_time": "2022-11-01T07:19:16.235Z"
   },
   {
    "duration": 33,
    "start_time": "2022-11-01T07:19:16.274Z"
   },
   {
    "duration": 16,
    "start_time": "2022-11-01T07:19:16.309Z"
   },
   {
    "duration": 36,
    "start_time": "2022-11-01T07:19:16.327Z"
   },
   {
    "duration": 19,
    "start_time": "2022-11-01T07:19:16.364Z"
   },
   {
    "duration": 5,
    "start_time": "2022-11-01T07:19:16.385Z"
   },
   {
    "duration": 24,
    "start_time": "2022-11-01T07:19:16.391Z"
   },
   {
    "duration": 72,
    "start_time": "2022-11-01T07:19:16.416Z"
   },
   {
    "duration": 25,
    "start_time": "2022-11-01T07:19:16.490Z"
   },
   {
    "duration": 16,
    "start_time": "2022-11-01T07:19:16.520Z"
   },
   {
    "duration": 15,
    "start_time": "2022-11-01T07:19:16.538Z"
   },
   {
    "duration": 39,
    "start_time": "2022-11-01T07:19:16.555Z"
   },
   {
    "duration": 5,
    "start_time": "2022-11-01T07:19:16.596Z"
   },
   {
    "duration": 14,
    "start_time": "2022-11-01T07:19:16.620Z"
   },
   {
    "duration": 31,
    "start_time": "2022-11-01T07:19:16.635Z"
   },
   {
    "duration": 16,
    "start_time": "2022-11-01T07:19:16.668Z"
   },
   {
    "duration": 21,
    "start_time": "2022-11-01T07:19:16.685Z"
   },
   {
    "duration": 26,
    "start_time": "2022-11-01T07:19:16.708Z"
   },
   {
    "duration": 16,
    "start_time": "2022-11-01T07:19:16.736Z"
   },
   {
    "duration": 13,
    "start_time": "2022-11-01T07:19:16.754Z"
   },
   {
    "duration": 683,
    "start_time": "2022-11-01T07:19:16.769Z"
   },
   {
    "duration": 681,
    "start_time": "2022-11-01T07:19:17.454Z"
   },
   {
    "duration": 261,
    "start_time": "2022-11-01T07:19:18.137Z"
   },
   {
    "duration": 816,
    "start_time": "2022-11-01T07:19:18.399Z"
   },
   {
    "duration": 28,
    "start_time": "2022-11-01T07:19:19.217Z"
   },
   {
    "duration": 23,
    "start_time": "2022-11-01T07:19:19.247Z"
   },
   {
    "duration": 528,
    "start_time": "2022-11-01T07:19:19.272Z"
   },
   {
    "duration": 180,
    "start_time": "2022-11-01T07:19:19.802Z"
   },
   {
    "duration": 2,
    "start_time": "2022-11-01T07:19:19.984Z"
   },
   {
    "duration": 34,
    "start_time": "2022-11-01T07:19:19.988Z"
   },
   {
    "duration": 115,
    "start_time": "2022-11-01T07:19:20.033Z"
   },
   {
    "duration": 0,
    "start_time": "2022-11-01T07:19:20.150Z"
   },
   {
    "duration": 0,
    "start_time": "2022-11-01T07:19:20.151Z"
   },
   {
    "duration": 0,
    "start_time": "2022-11-01T07:19:20.153Z"
   },
   {
    "duration": 0,
    "start_time": "2022-11-01T07:19:20.155Z"
   },
   {
    "duration": 0,
    "start_time": "2022-11-01T07:19:20.156Z"
   },
   {
    "duration": 0,
    "start_time": "2022-11-01T07:19:20.157Z"
   },
   {
    "duration": 0,
    "start_time": "2022-11-01T07:19:20.159Z"
   },
   {
    "duration": 0,
    "start_time": "2022-11-01T07:19:20.161Z"
   },
   {
    "duration": 0,
    "start_time": "2022-11-01T07:19:20.162Z"
   },
   {
    "duration": 4,
    "start_time": "2022-11-01T07:20:20.950Z"
   },
   {
    "duration": 57,
    "start_time": "2022-11-01T07:20:20.956Z"
   },
   {
    "duration": 283,
    "start_time": "2022-11-01T07:20:21.015Z"
   },
   {
    "duration": 7,
    "start_time": "2022-11-01T07:20:21.300Z"
   },
   {
    "duration": 25,
    "start_time": "2022-11-01T07:20:21.309Z"
   },
   {
    "duration": 19,
    "start_time": "2022-11-01T07:20:21.336Z"
   },
   {
    "duration": 13,
    "start_time": "2022-11-01T07:20:21.356Z"
   },
   {
    "duration": 13,
    "start_time": "2022-11-01T07:20:21.370Z"
   },
   {
    "duration": 18,
    "start_time": "2022-11-01T07:20:21.384Z"
   },
   {
    "duration": 5,
    "start_time": "2022-11-01T07:20:21.405Z"
   },
   {
    "duration": 35,
    "start_time": "2022-11-01T07:20:21.412Z"
   },
   {
    "duration": 57,
    "start_time": "2022-11-01T07:20:21.449Z"
   },
   {
    "duration": 30,
    "start_time": "2022-11-01T07:20:21.508Z"
   },
   {
    "duration": 10,
    "start_time": "2022-11-01T07:20:21.540Z"
   },
   {
    "duration": 22,
    "start_time": "2022-11-01T07:20:21.552Z"
   },
   {
    "duration": 69,
    "start_time": "2022-11-01T07:20:21.575Z"
   },
   {
    "duration": 6,
    "start_time": "2022-11-01T07:20:21.645Z"
   },
   {
    "duration": 10,
    "start_time": "2022-11-01T07:20:21.652Z"
   },
   {
    "duration": 30,
    "start_time": "2022-11-01T07:20:21.664Z"
   },
   {
    "duration": 46,
    "start_time": "2022-11-01T07:20:21.696Z"
   },
   {
    "duration": 17,
    "start_time": "2022-11-01T07:20:21.744Z"
   },
   {
    "duration": 20,
    "start_time": "2022-11-01T07:20:21.763Z"
   },
   {
    "duration": 15,
    "start_time": "2022-11-01T07:20:21.784Z"
   },
   {
    "duration": 20,
    "start_time": "2022-11-01T07:20:21.801Z"
   },
   {
    "duration": 588,
    "start_time": "2022-11-01T07:20:21.823Z"
   },
   {
    "duration": 654,
    "start_time": "2022-11-01T07:20:22.421Z"
   },
   {
    "duration": 269,
    "start_time": "2022-11-01T07:20:23.077Z"
   },
   {
    "duration": 764,
    "start_time": "2022-11-01T07:20:23.349Z"
   },
   {
    "duration": 34,
    "start_time": "2022-11-01T07:20:24.115Z"
   },
   {
    "duration": 25,
    "start_time": "2022-11-01T07:20:24.151Z"
   },
   {
    "duration": 536,
    "start_time": "2022-11-01T07:20:24.178Z"
   },
   {
    "duration": 162,
    "start_time": "2022-11-01T07:20:24.715Z"
   },
   {
    "duration": 2,
    "start_time": "2022-11-01T07:20:24.879Z"
   },
   {
    "duration": 6,
    "start_time": "2022-11-01T07:20:24.883Z"
   },
   {
    "duration": 21,
    "start_time": "2022-11-01T07:20:24.890Z"
   },
   {
    "duration": 17,
    "start_time": "2022-11-01T07:20:24.920Z"
   },
   {
    "duration": 0,
    "start_time": "2022-11-01T07:20:24.938Z"
   },
   {
    "duration": 0,
    "start_time": "2022-11-01T07:20:24.940Z"
   },
   {
    "duration": 0,
    "start_time": "2022-11-01T07:20:24.941Z"
   },
   {
    "duration": 0,
    "start_time": "2022-11-01T07:20:24.942Z"
   },
   {
    "duration": 0,
    "start_time": "2022-11-01T07:20:24.943Z"
   },
   {
    "duration": 0,
    "start_time": "2022-11-01T07:20:24.944Z"
   },
   {
    "duration": 0,
    "start_time": "2022-11-01T07:20:24.946Z"
   },
   {
    "duration": 0,
    "start_time": "2022-11-01T07:20:24.946Z"
   },
   {
    "duration": 23,
    "start_time": "2022-11-01T07:20:48.869Z"
   },
   {
    "duration": 43,
    "start_time": "2022-11-01T07:20:48.894Z"
   },
   {
    "duration": 12,
    "start_time": "2022-11-01T07:20:48.942Z"
   },
   {
    "duration": 39,
    "start_time": "2022-11-01T07:20:48.957Z"
   },
   {
    "duration": 0,
    "start_time": "2022-11-01T07:20:49.002Z"
   },
   {
    "duration": 0,
    "start_time": "2022-11-01T07:20:49.003Z"
   },
   {
    "duration": 0,
    "start_time": "2022-11-01T07:20:49.004Z"
   },
   {
    "duration": 0,
    "start_time": "2022-11-01T07:20:49.006Z"
   },
   {
    "duration": 0,
    "start_time": "2022-11-01T07:20:49.007Z"
   },
   {
    "duration": 187,
    "start_time": "2022-11-01T07:21:16.042Z"
   },
   {
    "duration": 25,
    "start_time": "2022-11-01T07:23:16.708Z"
   },
   {
    "duration": 23,
    "start_time": "2022-11-01T07:23:33.026Z"
   },
   {
    "duration": 18,
    "start_time": "2022-11-01T07:23:38.788Z"
   },
   {
    "duration": 28,
    "start_time": "2022-11-01T07:23:53.902Z"
   },
   {
    "duration": 12,
    "start_time": "2022-11-01T07:24:18.564Z"
   },
   {
    "duration": 87,
    "start_time": "2022-11-01T07:24:21.996Z"
   },
   {
    "duration": 113,
    "start_time": "2022-11-01T07:24:24.739Z"
   },
   {
    "duration": 62,
    "start_time": "2022-11-01T07:24:35.973Z"
   },
   {
    "duration": 60,
    "start_time": "2022-11-01T07:24:45.839Z"
   },
   {
    "duration": 56,
    "start_time": "2022-11-01T07:26:09.942Z"
   },
   {
    "duration": 310,
    "start_time": "2022-11-01T07:26:12.678Z"
   },
   {
    "duration": 228,
    "start_time": "2022-11-01T07:26:26.684Z"
   },
   {
    "duration": 240,
    "start_time": "2022-11-01T07:26:50.017Z"
   },
   {
    "duration": 239,
    "start_time": "2022-11-01T07:26:55.704Z"
   },
   {
    "duration": 10,
    "start_time": "2022-11-01T07:27:31.233Z"
   },
   {
    "duration": 17,
    "start_time": "2022-11-01T07:27:31.532Z"
   },
   {
    "duration": 11,
    "start_time": "2022-11-01T07:27:32.204Z"
   },
   {
    "duration": 1032,
    "start_time": "2022-11-01T07:27:32.733Z"
   },
   {
    "duration": 257,
    "start_time": "2022-11-01T07:27:53.255Z"
   },
   {
    "duration": 352,
    "start_time": "2022-11-01T07:28:18.612Z"
   },
   {
    "duration": 499,
    "start_time": "2022-11-01T09:04:35.648Z"
   },
   {
    "duration": 556,
    "start_time": "2022-11-01T09:04:49.603Z"
   },
   {
    "duration": 740,
    "start_time": "2022-11-01T09:06:25.151Z"
   },
   {
    "duration": 25,
    "start_time": "2022-11-01T09:07:06.608Z"
   },
   {
    "duration": 157,
    "start_time": "2022-11-01T09:07:15.199Z"
   },
   {
    "duration": 27,
    "start_time": "2022-11-01T09:07:17.786Z"
   },
   {
    "duration": 29,
    "start_time": "2022-11-01T09:07:30.097Z"
   },
   {
    "duration": 25,
    "start_time": "2022-11-01T09:07:35.658Z"
   },
   {
    "duration": 650,
    "start_time": "2022-11-01T09:08:04.671Z"
   },
   {
    "duration": 758,
    "start_time": "2022-11-01T09:08:55.610Z"
   },
   {
    "duration": 736,
    "start_time": "2022-11-01T09:09:04.289Z"
   },
   {
    "duration": 758,
    "start_time": "2022-11-01T09:09:19.011Z"
   },
   {
    "duration": 978,
    "start_time": "2022-11-01T09:09:28.439Z"
   },
   {
    "duration": 813,
    "start_time": "2022-11-01T09:09:32.262Z"
   },
   {
    "duration": 431,
    "start_time": "2022-11-01T09:09:45.337Z"
   },
   {
    "duration": 434,
    "start_time": "2022-11-01T09:12:03.995Z"
   },
   {
    "duration": 728,
    "start_time": "2022-11-01T09:15:37.043Z"
   },
   {
    "duration": 334,
    "start_time": "2022-11-01T09:15:46.090Z"
   },
   {
    "duration": 258,
    "start_time": "2022-11-01T09:49:23.014Z"
   },
   {
    "duration": 287,
    "start_time": "2022-11-01T09:49:48.739Z"
   },
   {
    "duration": 4,
    "start_time": "2022-11-01T09:50:32.234Z"
   },
   {
    "duration": 438,
    "start_time": "2022-11-01T09:50:36.308Z"
   },
   {
    "duration": 428,
    "start_time": "2022-11-01T09:50:50.079Z"
   },
   {
    "duration": 440,
    "start_time": "2022-11-01T09:50:57.443Z"
   },
   {
    "duration": 440,
    "start_time": "2022-11-01T09:51:11.960Z"
   },
   {
    "duration": 484,
    "start_time": "2022-11-01T09:51:17.508Z"
   },
   {
    "duration": 1563,
    "start_time": "2022-11-01T09:51:30.017Z"
   },
   {
    "duration": 21,
    "start_time": "2022-11-01T09:51:54.906Z"
   },
   {
    "duration": 11,
    "start_time": "2022-11-01T09:52:03.079Z"
   },
   {
    "duration": 19,
    "start_time": "2022-11-01T09:52:24.699Z"
   },
   {
    "duration": 94,
    "start_time": "2022-11-01T09:52:43.785Z"
   },
   {
    "duration": 413,
    "start_time": "2022-11-01T09:52:56.274Z"
   },
   {
    "duration": 450,
    "start_time": "2022-11-01T09:53:25.731Z"
   },
   {
    "duration": 429,
    "start_time": "2022-11-01T09:53:30.685Z"
   },
   {
    "duration": 416,
    "start_time": "2022-11-01T09:54:24.714Z"
   },
   {
    "duration": 448,
    "start_time": "2022-11-01T09:55:17.789Z"
   },
   {
    "duration": 450,
    "start_time": "2022-11-01T09:55:53.611Z"
   },
   {
    "duration": 416,
    "start_time": "2022-11-01T09:55:56.779Z"
   },
   {
    "duration": 411,
    "start_time": "2022-11-01T11:13:24.734Z"
   },
   {
    "duration": 450,
    "start_time": "2022-11-01T11:13:28.298Z"
   },
   {
    "duration": 428,
    "start_time": "2022-11-01T11:13:30.576Z"
   },
   {
    "duration": 439,
    "start_time": "2022-11-01T11:13:37.071Z"
   },
   {
    "duration": 49,
    "start_time": "2022-11-01T11:13:40.640Z"
   },
   {
    "duration": 417,
    "start_time": "2022-11-01T11:13:46.567Z"
   },
   {
    "duration": 418,
    "start_time": "2022-11-01T11:17:03.283Z"
   },
   {
    "duration": 420,
    "start_time": "2022-11-01T11:17:10.554Z"
   },
   {
    "duration": 429,
    "start_time": "2022-11-01T11:17:16.904Z"
   },
   {
    "duration": 13,
    "start_time": "2022-11-01T11:18:16.782Z"
   },
   {
    "duration": 334,
    "start_time": "2022-11-01T11:18:50.742Z"
   },
   {
    "duration": 404,
    "start_time": "2022-11-01T11:19:19.681Z"
   },
   {
    "duration": 361,
    "start_time": "2022-11-01T11:19:25.414Z"
   },
   {
    "duration": 323,
    "start_time": "2022-11-01T11:19:35.193Z"
   },
   {
    "duration": 346,
    "start_time": "2022-11-01T11:19:40.559Z"
   },
   {
    "duration": 331,
    "start_time": "2022-11-01T11:20:35.731Z"
   },
   {
    "duration": 354,
    "start_time": "2022-11-01T11:20:53.303Z"
   },
   {
    "duration": 377,
    "start_time": "2022-11-01T11:21:11.677Z"
   },
   {
    "duration": 346,
    "start_time": "2022-11-01T11:21:16.269Z"
   },
   {
    "duration": 1229,
    "start_time": "2022-11-01T11:24:07.104Z"
   },
   {
    "duration": 36,
    "start_time": "2022-11-01T11:24:08.335Z"
   },
   {
    "duration": 314,
    "start_time": "2022-11-01T11:24:08.373Z"
   },
   {
    "duration": 10,
    "start_time": "2022-11-01T11:24:08.689Z"
   },
   {
    "duration": 16,
    "start_time": "2022-11-01T11:24:08.700Z"
   },
   {
    "duration": 36,
    "start_time": "2022-11-01T11:24:08.720Z"
   },
   {
    "duration": 19,
    "start_time": "2022-11-01T11:24:08.758Z"
   },
   {
    "duration": 20,
    "start_time": "2022-11-01T11:24:08.779Z"
   },
   {
    "duration": 31,
    "start_time": "2022-11-01T11:24:08.801Z"
   },
   {
    "duration": 37,
    "start_time": "2022-11-01T11:24:08.834Z"
   },
   {
    "duration": 64,
    "start_time": "2022-11-01T11:24:08.872Z"
   },
   {
    "duration": 96,
    "start_time": "2022-11-01T11:24:08.939Z"
   },
   {
    "duration": 31,
    "start_time": "2022-11-01T11:24:09.037Z"
   },
   {
    "duration": 11,
    "start_time": "2022-11-01T11:24:09.070Z"
   },
   {
    "duration": 46,
    "start_time": "2022-11-01T11:24:09.083Z"
   },
   {
    "duration": 54,
    "start_time": "2022-11-01T11:24:09.131Z"
   },
   {
    "duration": 5,
    "start_time": "2022-11-01T11:24:09.187Z"
   },
   {
    "duration": 32,
    "start_time": "2022-11-01T11:24:09.194Z"
   },
   {
    "duration": 58,
    "start_time": "2022-11-01T11:24:09.227Z"
   },
   {
    "duration": 16,
    "start_time": "2022-11-01T11:24:09.287Z"
   },
   {
    "duration": 14,
    "start_time": "2022-11-01T11:24:09.304Z"
   },
   {
    "duration": 39,
    "start_time": "2022-11-01T11:24:09.319Z"
   },
   {
    "duration": 29,
    "start_time": "2022-11-01T11:24:09.360Z"
   },
   {
    "duration": 5,
    "start_time": "2022-11-01T11:24:09.391Z"
   },
   {
    "duration": 644,
    "start_time": "2022-11-01T11:24:09.397Z"
   },
   {
    "duration": 636,
    "start_time": "2022-11-01T11:24:10.043Z"
   },
   {
    "duration": 246,
    "start_time": "2022-11-01T11:24:10.680Z"
   },
   {
    "duration": 258,
    "start_time": "2022-11-01T11:24:10.929Z"
   },
   {
    "duration": 824,
    "start_time": "2022-11-01T11:24:11.189Z"
   },
   {
    "duration": 17,
    "start_time": "2022-11-01T11:24:12.020Z"
   },
   {
    "duration": 12,
    "start_time": "2022-11-01T11:24:12.039Z"
   },
   {
    "duration": 440,
    "start_time": "2022-11-01T11:24:12.053Z"
   },
   {
    "duration": 26,
    "start_time": "2022-11-01T11:24:12.495Z"
   },
   {
    "duration": 23,
    "start_time": "2022-11-01T11:24:12.523Z"
   },
   {
    "duration": 3,
    "start_time": "2022-11-01T11:24:12.555Z"
   },
   {
    "duration": 12,
    "start_time": "2022-11-01T11:24:12.559Z"
   },
   {
    "duration": 22,
    "start_time": "2022-11-01T11:24:12.572Z"
   },
   {
    "duration": 49,
    "start_time": "2022-11-01T11:24:12.595Z"
   },
   {
    "duration": 7,
    "start_time": "2022-11-01T11:24:12.646Z"
   },
   {
    "duration": 195,
    "start_time": "2022-11-01T11:24:12.655Z"
   },
   {
    "duration": 10,
    "start_time": "2022-11-01T11:24:12.852Z"
   },
   {
    "duration": 14,
    "start_time": "2022-11-01T11:24:12.864Z"
   },
   {
    "duration": 9,
    "start_time": "2022-11-01T11:24:12.880Z"
   },
   {
    "duration": 814,
    "start_time": "2022-11-01T11:24:12.890Z"
   },
   {
    "duration": 443,
    "start_time": "2022-11-01T12:10:31.875Z"
   },
   {
    "duration": 537,
    "start_time": "2022-11-01T12:10:41.124Z"
   },
   {
    "duration": 574,
    "start_time": "2022-11-01T12:11:57.383Z"
   },
   {
    "duration": 431,
    "start_time": "2022-11-01T12:12:07.489Z"
   },
   {
    "duration": 420,
    "start_time": "2022-11-01T12:12:16.716Z"
   },
   {
    "duration": 443,
    "start_time": "2022-11-01T12:12:23.464Z"
   },
   {
    "duration": 424,
    "start_time": "2022-11-01T12:12:46.912Z"
   },
   {
    "duration": 546,
    "start_time": "2022-11-01T12:13:19.675Z"
   },
   {
    "duration": 459,
    "start_time": "2022-11-01T12:13:48.954Z"
   },
   {
    "duration": 428,
    "start_time": "2022-11-01T12:14:00.309Z"
   },
   {
    "duration": 420,
    "start_time": "2022-11-01T12:14:57.631Z"
   },
   {
    "duration": 419,
    "start_time": "2022-11-01T12:28:11.119Z"
   },
   {
    "duration": 420,
    "start_time": "2022-11-01T12:28:13.498Z"
   },
   {
    "duration": 61,
    "start_time": "2022-11-01T12:28:18.662Z"
   },
   {
    "duration": 494,
    "start_time": "2022-11-01T12:28:22.550Z"
   },
   {
    "duration": 449,
    "start_time": "2022-11-01T12:28:25.548Z"
   },
   {
    "duration": 43,
    "start_time": "2022-11-01T12:28:45.659Z"
   },
   {
    "duration": 459,
    "start_time": "2022-11-01T12:28:50.176Z"
   },
   {
    "duration": 428,
    "start_time": "2022-11-01T12:29:18.109Z"
   },
   {
    "duration": 42,
    "start_time": "2022-11-01T12:29:21.959Z"
   },
   {
    "duration": 421,
    "start_time": "2022-11-01T12:29:25.440Z"
   },
   {
    "duration": 4,
    "start_time": "2022-11-01T12:31:35.622Z"
   },
   {
    "duration": 12,
    "start_time": "2022-11-01T13:43:06.051Z"
   },
   {
    "duration": 763,
    "start_time": "2022-11-01T13:43:54.883Z"
   },
   {
    "duration": 718,
    "start_time": "2022-11-01T13:44:16.215Z"
   },
   {
    "duration": 7,
    "start_time": "2022-11-01T13:44:31.666Z"
   },
   {
    "duration": 13,
    "start_time": "2022-11-01T13:44:44.548Z"
   },
   {
    "duration": 20,
    "start_time": "2022-11-01T13:44:50.682Z"
   },
   {
    "duration": 7,
    "start_time": "2022-11-01T13:45:02.538Z"
   },
   {
    "duration": 44,
    "start_time": "2022-11-01T13:51:41.928Z"
   },
   {
    "duration": 10,
    "start_time": "2022-11-01T13:51:45.270Z"
   },
   {
    "duration": 14,
    "start_time": "2022-11-01T13:51:59.669Z"
   },
   {
    "duration": 10,
    "start_time": "2022-11-01T13:52:04.267Z"
   },
   {
    "duration": 6,
    "start_time": "2022-11-01T13:52:12.599Z"
   },
   {
    "duration": 7,
    "start_time": "2022-11-01T13:52:17.951Z"
   },
   {
    "duration": 697,
    "start_time": "2022-11-01T13:53:14.903Z"
   },
   {
    "duration": 796,
    "start_time": "2022-11-01T13:54:39.320Z"
   },
   {
    "duration": 855,
    "start_time": "2022-11-01T13:55:12.374Z"
   },
   {
    "duration": 6,
    "start_time": "2022-11-01T13:55:17.301Z"
   },
   {
    "duration": 7,
    "start_time": "2022-11-01T13:55:46.019Z"
   },
   {
    "duration": 9,
    "start_time": "2022-11-01T13:55:47.074Z"
   },
   {
    "duration": 12,
    "start_time": "2022-11-01T13:55:53.987Z"
   },
   {
    "duration": 9,
    "start_time": "2022-11-01T13:56:01.354Z"
   },
   {
    "duration": 9,
    "start_time": "2022-11-01T13:59:47.746Z"
   },
   {
    "duration": 15,
    "start_time": "2022-11-01T13:59:48.059Z"
   },
   {
    "duration": 10,
    "start_time": "2022-11-01T13:59:50.338Z"
   },
   {
    "duration": 10,
    "start_time": "2022-11-01T14:00:29.232Z"
   },
   {
    "duration": 10,
    "start_time": "2022-11-01T14:00:56.987Z"
   },
   {
    "duration": 6,
    "start_time": "2022-11-01T14:01:22.607Z"
   },
   {
    "duration": 5,
    "start_time": "2022-11-01T14:01:35.747Z"
   },
   {
    "duration": 14,
    "start_time": "2022-11-01T14:02:59.226Z"
   },
   {
    "duration": 652,
    "start_time": "2022-11-01T14:35:36.932Z"
   },
   {
    "duration": 8,
    "start_time": "2022-11-01T14:35:37.735Z"
   },
   {
    "duration": 11,
    "start_time": "2022-11-01T14:35:41.695Z"
   },
   {
    "duration": 13,
    "start_time": "2022-11-01T14:35:51.151Z"
   },
   {
    "duration": 13,
    "start_time": "2022-11-01T14:36:47.151Z"
   },
   {
    "duration": 24,
    "start_time": "2022-11-01T14:37:11.832Z"
   },
   {
    "duration": 27,
    "start_time": "2022-11-01T14:38:23.105Z"
   },
   {
    "duration": 21,
    "start_time": "2022-11-01T14:38:35.637Z"
   },
   {
    "duration": 642,
    "start_time": "2022-11-01T14:40:10.515Z"
   },
   {
    "duration": 657,
    "start_time": "2022-11-01T14:41:15.371Z"
   },
   {
    "duration": 7,
    "start_time": "2022-11-01T14:42:49.931Z"
   },
   {
    "duration": 10,
    "start_time": "2022-11-01T14:42:58.960Z"
   },
   {
    "duration": 7,
    "start_time": "2022-11-01T14:43:02.847Z"
   },
   {
    "duration": 15,
    "start_time": "2022-11-01T14:43:52.915Z"
   },
   {
    "duration": 8,
    "start_time": "2022-11-01T14:44:32.350Z"
   },
   {
    "duration": 7,
    "start_time": "2022-11-01T14:45:48.069Z"
   },
   {
    "duration": 731,
    "start_time": "2022-11-01T14:47:10.408Z"
   },
   {
    "duration": 651,
    "start_time": "2022-11-01T14:58:24.242Z"
   },
   {
    "duration": 15,
    "start_time": "2022-11-01T15:00:04.583Z"
   },
   {
    "duration": 7,
    "start_time": "2022-11-01T15:00:22.416Z"
   },
   {
    "duration": 15,
    "start_time": "2022-11-01T15:00:29.871Z"
   },
   {
    "duration": 19,
    "start_time": "2022-11-01T15:00:40.841Z"
   },
   {
    "duration": 6,
    "start_time": "2022-11-01T15:00:46.962Z"
   },
   {
    "duration": 708,
    "start_time": "2022-11-01T15:02:00.850Z"
   },
   {
    "duration": 665,
    "start_time": "2022-11-01T15:02:20.695Z"
   },
   {
    "duration": 693,
    "start_time": "2022-11-01T15:03:03.702Z"
   },
   {
    "duration": 663,
    "start_time": "2022-11-01T15:03:12.975Z"
   },
   {
    "duration": 14,
    "start_time": "2022-11-01T15:04:46.599Z"
   },
   {
    "duration": 27,
    "start_time": "2022-11-01T15:05:10.512Z"
   },
   {
    "duration": 1315,
    "start_time": "2022-11-01T15:05:16.833Z"
   },
   {
    "duration": 58,
    "start_time": "2022-11-01T15:05:18.150Z"
   },
   {
    "duration": 341,
    "start_time": "2022-11-01T15:05:18.210Z"
   },
   {
    "duration": 11,
    "start_time": "2022-11-01T15:05:18.552Z"
   },
   {
    "duration": 17,
    "start_time": "2022-11-01T15:05:18.565Z"
   },
   {
    "duration": 50,
    "start_time": "2022-11-01T15:05:18.584Z"
   },
   {
    "duration": 24,
    "start_time": "2022-11-01T15:05:18.636Z"
   },
   {
    "duration": 14,
    "start_time": "2022-11-01T15:05:18.662Z"
   },
   {
    "duration": 56,
    "start_time": "2022-11-01T15:05:18.677Z"
   },
   {
    "duration": 27,
    "start_time": "2022-11-01T15:05:18.736Z"
   },
   {
    "duration": 53,
    "start_time": "2022-11-01T15:05:18.766Z"
   },
   {
    "duration": 107,
    "start_time": "2022-11-01T15:05:18.820Z"
   },
   {
    "duration": 36,
    "start_time": "2022-11-01T15:05:18.934Z"
   },
   {
    "duration": 19,
    "start_time": "2022-11-01T15:05:18.974Z"
   },
   {
    "duration": 22,
    "start_time": "2022-11-01T15:05:18.995Z"
   },
   {
    "duration": 76,
    "start_time": "2022-11-01T15:05:19.023Z"
   },
   {
    "duration": 6,
    "start_time": "2022-11-01T15:05:19.101Z"
   },
   {
    "duration": 20,
    "start_time": "2022-11-01T15:05:19.109Z"
   },
   {
    "duration": 47,
    "start_time": "2022-11-01T15:05:19.134Z"
   },
   {
    "duration": 22,
    "start_time": "2022-11-01T15:05:19.183Z"
   },
   {
    "duration": 23,
    "start_time": "2022-11-01T15:05:19.208Z"
   },
   {
    "duration": 20,
    "start_time": "2022-11-01T15:05:19.238Z"
   },
   {
    "duration": 14,
    "start_time": "2022-11-01T15:05:19.260Z"
   },
   {
    "duration": 5,
    "start_time": "2022-11-01T15:05:19.276Z"
   },
   {
    "duration": 750,
    "start_time": "2022-11-01T15:05:19.283Z"
   },
   {
    "duration": 1087,
    "start_time": "2022-11-01T15:05:20.035Z"
   },
   {
    "duration": 605,
    "start_time": "2022-11-01T15:05:21.130Z"
   },
   {
    "duration": 619,
    "start_time": "2022-11-01T15:05:21.740Z"
   },
   {
    "duration": 1153,
    "start_time": "2022-11-01T15:05:22.360Z"
   },
   {
    "duration": 20,
    "start_time": "2022-11-01T15:05:23.515Z"
   },
   {
    "duration": 23,
    "start_time": "2022-11-01T15:05:23.537Z"
   },
   {
    "duration": 26,
    "start_time": "2022-11-01T15:05:23.562Z"
   },
   {
    "duration": 43,
    "start_time": "2022-11-01T15:05:23.590Z"
   },
   {
    "duration": 8,
    "start_time": "2022-11-01T15:05:23.636Z"
   },
   {
    "duration": 18,
    "start_time": "2022-11-01T15:05:23.646Z"
   },
   {
    "duration": 863,
    "start_time": "2022-11-01T15:05:23.666Z"
   },
   {
    "duration": 34,
    "start_time": "2022-11-01T15:05:24.536Z"
   },
   {
    "duration": 3,
    "start_time": "2022-11-01T15:05:24.572Z"
   },
   {
    "duration": 758,
    "start_time": "2022-11-01T15:05:24.577Z"
   },
   {
    "duration": 109,
    "start_time": "2022-11-01T15:05:25.337Z"
   },
   {
    "duration": 0,
    "start_time": "2022-11-01T15:05:25.448Z"
   },
   {
    "duration": 0,
    "start_time": "2022-11-01T15:05:25.450Z"
   },
   {
    "duration": 0,
    "start_time": "2022-11-01T15:05:25.451Z"
   },
   {
    "duration": 0,
    "start_time": "2022-11-01T15:05:25.453Z"
   },
   {
    "duration": 0,
    "start_time": "2022-11-01T15:05:25.454Z"
   },
   {
    "duration": 0,
    "start_time": "2022-11-01T15:05:25.567Z"
   },
   {
    "duration": 7,
    "start_time": "2022-11-01T15:47:58.376Z"
   },
   {
    "duration": 42,
    "start_time": "2022-11-01T15:57:36.612Z"
   },
   {
    "duration": 22,
    "start_time": "2022-11-01T16:03:35.236Z"
   },
   {
    "duration": 15,
    "start_time": "2022-11-01T16:04:05.390Z"
   },
   {
    "duration": 15,
    "start_time": "2022-11-01T16:05:01.265Z"
   },
   {
    "duration": 23,
    "start_time": "2022-11-01T16:07:16.270Z"
   },
   {
    "duration": 31,
    "start_time": "2022-11-01T16:07:24.769Z"
   },
   {
    "duration": 142,
    "start_time": "2022-11-01T16:08:10.959Z"
   },
   {
    "duration": 11,
    "start_time": "2022-11-01T16:08:27.377Z"
   },
   {
    "duration": 15,
    "start_time": "2022-11-01T16:09:27.811Z"
   },
   {
    "duration": 105,
    "start_time": "2022-11-01T16:09:37.658Z"
   },
   {
    "duration": 138,
    "start_time": "2022-11-01T16:09:49.025Z"
   },
   {
    "duration": 123,
    "start_time": "2022-11-01T16:10:10.811Z"
   },
   {
    "duration": 192,
    "start_time": "2022-11-01T16:11:11.234Z"
   },
   {
    "duration": 173,
    "start_time": "2022-11-01T16:12:34.367Z"
   },
   {
    "duration": 164,
    "start_time": "2022-11-01T16:12:36.225Z"
   },
   {
    "duration": 169,
    "start_time": "2022-11-01T16:13:23.332Z"
   },
   {
    "duration": 741,
    "start_time": "2022-11-01T16:13:50.287Z"
   },
   {
    "duration": 8,
    "start_time": "2022-11-01T16:13:52.866Z"
   },
   {
    "duration": 13,
    "start_time": "2022-11-01T16:13:53.327Z"
   },
   {
    "duration": 9,
    "start_time": "2022-11-01T16:13:53.981Z"
   },
   {
    "duration": 41,
    "start_time": "2022-11-01T16:13:54.838Z"
   },
   {
    "duration": 170,
    "start_time": "2022-11-01T16:13:55.922Z"
   },
   {
    "duration": 865,
    "start_time": "2022-11-01T16:14:13.188Z"
   },
   {
    "duration": 7,
    "start_time": "2022-11-01T16:14:14.054Z"
   },
   {
    "duration": 15,
    "start_time": "2022-11-01T16:14:14.062Z"
   },
   {
    "duration": 8,
    "start_time": "2022-11-01T16:14:14.444Z"
   },
   {
    "duration": 31,
    "start_time": "2022-11-01T16:14:15.149Z"
   },
   {
    "duration": 160,
    "start_time": "2022-11-01T16:14:16.556Z"
   },
   {
    "duration": 811,
    "start_time": "2022-11-01T16:14:37.490Z"
   },
   {
    "duration": 7,
    "start_time": "2022-11-01T16:14:38.304Z"
   },
   {
    "duration": 18,
    "start_time": "2022-11-01T16:14:38.366Z"
   },
   {
    "duration": 8,
    "start_time": "2022-11-01T16:14:38.841Z"
   },
   {
    "duration": 33,
    "start_time": "2022-11-01T16:14:39.531Z"
   },
   {
    "duration": 167,
    "start_time": "2022-11-01T16:14:40.449Z"
   },
   {
    "duration": 780,
    "start_time": "2022-11-01T16:14:51.067Z"
   },
   {
    "duration": 7,
    "start_time": "2022-11-01T16:14:51.849Z"
   },
   {
    "duration": 10,
    "start_time": "2022-11-01T16:14:51.965Z"
   },
   {
    "duration": 7,
    "start_time": "2022-11-01T16:14:52.642Z"
   },
   {
    "duration": 31,
    "start_time": "2022-11-01T16:14:53.434Z"
   },
   {
    "duration": 190,
    "start_time": "2022-11-01T16:14:54.541Z"
   },
   {
    "duration": 14,
    "start_time": "2022-11-01T16:15:32.593Z"
   },
   {
    "duration": 736,
    "start_time": "2022-11-01T16:16:04.844Z"
   },
   {
    "duration": 770,
    "start_time": "2022-11-01T16:20:37.607Z"
   },
   {
    "duration": 797,
    "start_time": "2022-11-01T16:20:48.517Z"
   },
   {
    "duration": 6,
    "start_time": "2022-11-01T16:21:07.500Z"
   },
   {
    "duration": 14,
    "start_time": "2022-11-01T16:21:36.756Z"
   },
   {
    "duration": 8,
    "start_time": "2022-11-01T16:21:40.318Z"
   },
   {
    "duration": 7,
    "start_time": "2022-11-01T16:21:45.052Z"
   },
   {
    "duration": 9,
    "start_time": "2022-11-01T16:22:21.302Z"
   },
   {
    "duration": 5,
    "start_time": "2022-11-01T16:22:27.135Z"
   },
   {
    "duration": 5,
    "start_time": "2022-11-01T16:22:32.578Z"
   },
   {
    "duration": 4,
    "start_time": "2022-11-01T16:22:36.036Z"
   },
   {
    "duration": 5,
    "start_time": "2022-11-01T16:22:38.787Z"
   },
   {
    "duration": 35,
    "start_time": "2022-11-01T16:22:45.758Z"
   },
   {
    "duration": 13,
    "start_time": "2022-11-01T16:22:53.395Z"
   },
   {
    "duration": 11,
    "start_time": "2022-11-01T16:23:22.122Z"
   },
   {
    "duration": 12,
    "start_time": "2022-11-01T16:23:24.427Z"
   },
   {
    "duration": 21,
    "start_time": "2022-11-01T16:23:37.240Z"
   },
   {
    "duration": 10,
    "start_time": "2022-11-01T16:23:52.932Z"
   },
   {
    "duration": 10,
    "start_time": "2022-11-01T16:23:57.891Z"
   },
   {
    "duration": 15,
    "start_time": "2022-11-01T16:24:11.170Z"
   },
   {
    "duration": 27,
    "start_time": "2022-11-01T16:24:19.591Z"
   },
   {
    "duration": 1433,
    "start_time": "2022-11-01T16:24:27.444Z"
   },
   {
    "duration": 17,
    "start_time": "2022-11-01T16:25:07.042Z"
   },
   {
    "duration": 12,
    "start_time": "2022-11-01T16:25:54.806Z"
   },
   {
    "duration": 14,
    "start_time": "2022-11-01T16:26:03.403Z"
   },
   {
    "duration": 15,
    "start_time": "2022-11-01T16:26:11.215Z"
   },
   {
    "duration": 17,
    "start_time": "2022-11-01T16:26:37.994Z"
   },
   {
    "duration": 11,
    "start_time": "2022-11-01T16:26:43.997Z"
   },
   {
    "duration": 14,
    "start_time": "2022-11-01T16:26:45.954Z"
   },
   {
    "duration": 21,
    "start_time": "2022-11-01T16:26:58.845Z"
   },
   {
    "duration": 16,
    "start_time": "2022-11-01T16:27:05.616Z"
   },
   {
    "duration": 13,
    "start_time": "2022-11-01T16:27:21.239Z"
   },
   {
    "duration": 18,
    "start_time": "2022-11-01T16:27:30.528Z"
   },
   {
    "duration": 20,
    "start_time": "2022-11-01T16:27:40.836Z"
   },
   {
    "duration": 13,
    "start_time": "2022-11-01T16:27:43.178Z"
   },
   {
    "duration": 13,
    "start_time": "2022-11-01T16:27:48.083Z"
   },
   {
    "duration": 523,
    "start_time": "2022-11-01T16:27:57.660Z"
   },
   {
    "duration": 19,
    "start_time": "2022-11-01T16:28:01.099Z"
   },
   {
    "duration": 18,
    "start_time": "2022-11-01T16:28:24.539Z"
   },
   {
    "duration": 10,
    "start_time": "2022-11-01T16:31:05.054Z"
   },
   {
    "duration": 6,
    "start_time": "2022-11-01T16:31:16.943Z"
   },
   {
    "duration": 11,
    "start_time": "2022-11-01T16:31:43.582Z"
   },
   {
    "duration": 10,
    "start_time": "2022-11-01T16:32:01.921Z"
   },
   {
    "duration": 15,
    "start_time": "2022-11-01T16:32:08.853Z"
   },
   {
    "duration": 11,
    "start_time": "2022-11-01T16:32:16.639Z"
   },
   {
    "duration": 9,
    "start_time": "2022-11-01T16:32:29.746Z"
   },
   {
    "duration": 13,
    "start_time": "2022-11-01T16:32:31.465Z"
   },
   {
    "duration": 20,
    "start_time": "2022-11-01T16:33:04.137Z"
   },
   {
    "duration": 18,
    "start_time": "2022-11-01T16:36:24.671Z"
   },
   {
    "duration": 6,
    "start_time": "2022-11-01T16:36:26.134Z"
   },
   {
    "duration": 32,
    "start_time": "2022-11-01T16:37:33.753Z"
   },
   {
    "duration": 186,
    "start_time": "2022-11-01T16:37:36.588Z"
   },
   {
    "duration": 34,
    "start_time": "2022-11-01T16:39:27.142Z"
   },
   {
    "duration": 152,
    "start_time": "2022-11-01T16:39:28.679Z"
   },
   {
    "duration": 10,
    "start_time": "2022-11-01T16:48:50.854Z"
   },
   {
    "duration": 9,
    "start_time": "2022-11-01T16:48:53.376Z"
   },
   {
    "duration": 8,
    "start_time": "2022-11-01T16:49:01.973Z"
   },
   {
    "duration": 818,
    "start_time": "2022-11-01T16:49:39.700Z"
   },
   {
    "duration": 11,
    "start_time": "2022-11-01T16:50:13.993Z"
   },
   {
    "duration": 732,
    "start_time": "2022-11-01T16:50:15.683Z"
   },
   {
    "duration": 927,
    "start_time": "2022-11-01T16:50:44.490Z"
   },
   {
    "duration": 360,
    "start_time": "2022-11-01T16:51:29.664Z"
   },
   {
    "duration": 762,
    "start_time": "2022-11-01T16:51:57.106Z"
   },
   {
    "duration": 684,
    "start_time": "2022-11-01T16:52:06.856Z"
   },
   {
    "duration": 907,
    "start_time": "2022-11-01T16:52:12.177Z"
   },
   {
    "duration": 705,
    "start_time": "2022-11-01T16:52:19.060Z"
   },
   {
    "duration": 732,
    "start_time": "2022-11-01T16:52:23.985Z"
   },
   {
    "duration": 1023,
    "start_time": "2022-11-01T16:52:27.317Z"
   },
   {
    "duration": 21,
    "start_time": "2022-11-01T16:55:46.065Z"
   },
   {
    "duration": 32,
    "start_time": "2022-11-01T16:55:59.599Z"
   },
   {
    "duration": 11,
    "start_time": "2022-11-01T16:59:41.143Z"
   },
   {
    "duration": 949,
    "start_time": "2022-11-01T17:00:26.493Z"
   },
   {
    "duration": 15,
    "start_time": "2022-11-01T17:00:37.150Z"
   },
   {
    "duration": 716,
    "start_time": "2022-11-01T17:00:40.614Z"
   },
   {
    "duration": 20,
    "start_time": "2022-11-01T17:54:38.069Z"
   },
   {
    "duration": 13,
    "start_time": "2022-11-01T17:55:04.665Z"
   },
   {
    "duration": 12,
    "start_time": "2022-11-01T17:56:31.102Z"
   },
   {
    "duration": 4,
    "start_time": "2022-11-01T18:03:42.880Z"
   },
   {
    "duration": 32,
    "start_time": "2022-11-01T18:03:42.888Z"
   },
   {
    "duration": 332,
    "start_time": "2022-11-01T18:03:42.923Z"
   },
   {
    "duration": 7,
    "start_time": "2022-11-01T18:03:43.257Z"
   },
   {
    "duration": 10,
    "start_time": "2022-11-01T18:03:43.267Z"
   },
   {
    "duration": 29,
    "start_time": "2022-11-01T18:03:43.279Z"
   },
   {
    "duration": 14,
    "start_time": "2022-11-01T18:03:43.310Z"
   },
   {
    "duration": 12,
    "start_time": "2022-11-01T18:03:43.326Z"
   },
   {
    "duration": 19,
    "start_time": "2022-11-01T18:03:43.339Z"
   },
   {
    "duration": 5,
    "start_time": "2022-11-01T18:03:43.360Z"
   },
   {
    "duration": 20,
    "start_time": "2022-11-01T18:03:43.367Z"
   },
   {
    "duration": 78,
    "start_time": "2022-11-01T18:03:43.389Z"
   },
   {
    "duration": 24,
    "start_time": "2022-11-01T18:03:43.470Z"
   },
   {
    "duration": 27,
    "start_time": "2022-11-01T18:03:43.496Z"
   },
   {
    "duration": 16,
    "start_time": "2022-11-01T18:03:43.525Z"
   },
   {
    "duration": 55,
    "start_time": "2022-11-01T18:03:43.542Z"
   },
   {
    "duration": 22,
    "start_time": "2022-11-01T18:03:43.599Z"
   },
   {
    "duration": 8,
    "start_time": "2022-11-01T18:03:43.623Z"
   },
   {
    "duration": 30,
    "start_time": "2022-11-01T18:03:43.633Z"
   },
   {
    "duration": 16,
    "start_time": "2022-11-01T18:03:43.664Z"
   },
   {
    "duration": 39,
    "start_time": "2022-11-01T18:03:43.682Z"
   },
   {
    "duration": 21,
    "start_time": "2022-11-01T18:03:43.723Z"
   },
   {
    "duration": 15,
    "start_time": "2022-11-01T18:03:43.745Z"
   },
   {
    "duration": 5,
    "start_time": "2022-11-01T18:03:43.762Z"
   },
   {
    "duration": 609,
    "start_time": "2022-11-01T18:03:43.768Z"
   },
   {
    "duration": 642,
    "start_time": "2022-11-01T18:03:44.379Z"
   },
   {
    "duration": 249,
    "start_time": "2022-11-01T18:03:45.022Z"
   },
   {
    "duration": 274,
    "start_time": "2022-11-01T18:03:45.272Z"
   },
   {
    "duration": 803,
    "start_time": "2022-11-01T18:03:45.548Z"
   },
   {
    "duration": 7,
    "start_time": "2022-11-01T18:03:46.353Z"
   },
   {
    "duration": 24,
    "start_time": "2022-11-01T18:03:46.362Z"
   },
   {
    "duration": 6,
    "start_time": "2022-11-01T18:03:46.388Z"
   },
   {
    "duration": 56,
    "start_time": "2022-11-01T18:03:46.396Z"
   },
   {
    "duration": 166,
    "start_time": "2022-11-01T18:03:46.454Z"
   },
   {
    "duration": 14,
    "start_time": "2022-11-01T18:03:46.622Z"
   },
   {
    "duration": 773,
    "start_time": "2022-11-01T18:03:46.638Z"
   },
   {
    "duration": 30,
    "start_time": "2022-11-01T18:03:47.415Z"
   },
   {
    "duration": 3,
    "start_time": "2022-11-01T18:03:47.447Z"
   },
   {
    "duration": 802,
    "start_time": "2022-11-01T18:03:47.451Z"
   },
   {
    "duration": 6,
    "start_time": "2022-11-01T18:03:48.254Z"
   },
   {
    "duration": 32,
    "start_time": "2022-11-01T18:03:48.261Z"
   },
   {
    "duration": 41,
    "start_time": "2022-11-01T18:03:48.295Z"
   },
   {
    "duration": 8,
    "start_time": "2022-11-01T18:03:48.338Z"
   },
   {
    "duration": 314,
    "start_time": "2022-11-01T18:03:48.348Z"
   },
   {
    "duration": 11,
    "start_time": "2022-11-01T18:03:48.663Z"
   },
   {
    "duration": 28,
    "start_time": "2022-11-01T18:03:48.676Z"
   },
   {
    "duration": 24,
    "start_time": "2022-11-01T20:01:22.178Z"
   },
   {
    "duration": 5,
    "start_time": "2022-11-01T20:07:07.752Z"
   },
   {
    "duration": 8,
    "start_time": "2022-11-01T20:07:08.605Z"
   },
   {
    "duration": 5,
    "start_time": "2022-11-01T20:12:21.050Z"
   },
   {
    "duration": 7,
    "start_time": "2022-11-01T20:14:11.854Z"
   },
   {
    "duration": 11,
    "start_time": "2022-11-01T20:14:15.856Z"
   },
   {
    "duration": 8,
    "start_time": "2022-11-01T20:14:28.956Z"
   },
   {
    "duration": 20,
    "start_time": "2022-11-01T20:14:52.515Z"
   },
   {
    "duration": 15,
    "start_time": "2022-11-01T20:15:17.745Z"
   },
   {
    "duration": 15,
    "start_time": "2022-11-01T20:15:33.404Z"
   },
   {
    "duration": 23,
    "start_time": "2022-11-01T20:15:37.420Z"
   },
   {
    "duration": 9,
    "start_time": "2022-11-01T20:15:40.973Z"
   },
   {
    "duration": 8,
    "start_time": "2022-11-01T20:16:27.999Z"
   },
   {
    "duration": 9,
    "start_time": "2022-11-01T20:16:32.802Z"
   },
   {
    "duration": 33,
    "start_time": "2022-11-01T20:30:01.675Z"
   },
   {
    "duration": 33,
    "start_time": "2022-11-01T20:30:18.420Z"
   },
   {
    "duration": 7,
    "start_time": "2022-11-01T20:36:48.026Z"
   },
   {
    "duration": 3,
    "start_time": "2022-11-01T20:36:50.848Z"
   },
   {
    "duration": 11,
    "start_time": "2022-11-01T20:37:51.929Z"
   },
   {
    "duration": 4,
    "start_time": "2022-11-01T20:38:01.885Z"
   },
   {
    "duration": 31,
    "start_time": "2022-11-01T20:38:02.212Z"
   },
   {
    "duration": 5,
    "start_time": "2022-11-01T20:40:16.031Z"
   },
   {
    "duration": 42,
    "start_time": "2022-11-01T20:40:16.521Z"
   },
   {
    "duration": 31,
    "start_time": "2022-11-01T20:40:28.224Z"
   },
   {
    "duration": 1341,
    "start_time": "2022-11-02T07:29:08.393Z"
   },
   {
    "duration": 36,
    "start_time": "2022-11-02T07:29:09.736Z"
   },
   {
    "duration": 320,
    "start_time": "2022-11-02T07:29:09.774Z"
   },
   {
    "duration": 9,
    "start_time": "2022-11-02T07:29:10.095Z"
   },
   {
    "duration": 10,
    "start_time": "2022-11-02T07:29:10.106Z"
   },
   {
    "duration": 9,
    "start_time": "2022-11-02T07:29:10.122Z"
   },
   {
    "duration": 13,
    "start_time": "2022-11-02T07:29:10.133Z"
   },
   {
    "duration": 8,
    "start_time": "2022-11-02T07:29:10.148Z"
   },
   {
    "duration": 18,
    "start_time": "2022-11-02T07:29:10.157Z"
   },
   {
    "duration": 5,
    "start_time": "2022-11-02T07:29:10.176Z"
   },
   {
    "duration": 17,
    "start_time": "2022-11-02T07:29:10.182Z"
   },
   {
    "duration": 68,
    "start_time": "2022-11-02T07:29:10.201Z"
   },
   {
    "duration": 23,
    "start_time": "2022-11-02T07:29:10.271Z"
   },
   {
    "duration": 9,
    "start_time": "2022-11-02T07:29:10.297Z"
   },
   {
    "duration": 14,
    "start_time": "2022-11-02T07:29:10.322Z"
   },
   {
    "duration": 37,
    "start_time": "2022-11-02T07:29:10.338Z"
   },
   {
    "duration": 5,
    "start_time": "2022-11-02T07:29:10.377Z"
   },
   {
    "duration": 6,
    "start_time": "2022-11-02T07:29:10.383Z"
   },
   {
    "duration": 56,
    "start_time": "2022-11-02T07:29:10.390Z"
   },
   {
    "duration": 17,
    "start_time": "2022-11-02T07:29:10.447Z"
   },
   {
    "duration": 12,
    "start_time": "2022-11-02T07:29:10.465Z"
   },
   {
    "duration": 17,
    "start_time": "2022-11-02T07:29:10.479Z"
   },
   {
    "duration": 35,
    "start_time": "2022-11-02T07:29:10.498Z"
   },
   {
    "duration": 5,
    "start_time": "2022-11-02T07:29:10.534Z"
   },
   {
    "duration": 589,
    "start_time": "2022-11-02T07:29:10.541Z"
   },
   {
    "duration": 607,
    "start_time": "2022-11-02T07:29:11.132Z"
   },
   {
    "duration": 213,
    "start_time": "2022-11-02T07:29:11.742Z"
   },
   {
    "duration": 238,
    "start_time": "2022-11-02T07:29:11.957Z"
   },
   {
    "duration": 698,
    "start_time": "2022-11-02T07:29:12.197Z"
   },
   {
    "duration": 7,
    "start_time": "2022-11-02T07:29:12.897Z"
   },
   {
    "duration": 28,
    "start_time": "2022-11-02T07:29:12.905Z"
   },
   {
    "duration": 6,
    "start_time": "2022-11-02T07:29:12.935Z"
   },
   {
    "duration": 35,
    "start_time": "2022-11-02T07:29:12.942Z"
   },
   {
    "duration": 149,
    "start_time": "2022-11-02T07:29:12.978Z"
   },
   {
    "duration": 13,
    "start_time": "2022-11-02T07:29:13.129Z"
   },
   {
    "duration": 826,
    "start_time": "2022-11-02T07:29:13.144Z"
   },
   {
    "duration": 27,
    "start_time": "2022-11-02T07:29:13.972Z"
   },
   {
    "duration": 2,
    "start_time": "2022-11-02T07:29:14.000Z"
   },
   {
    "duration": 698,
    "start_time": "2022-11-02T07:29:14.004Z"
   },
   {
    "duration": 4,
    "start_time": "2022-11-02T07:29:14.703Z"
   },
   {
    "duration": 23,
    "start_time": "2022-11-02T07:29:14.721Z"
   },
   {
    "duration": 120,
    "start_time": "2022-11-02T07:29:14.746Z"
   },
   {
    "duration": 0,
    "start_time": "2022-11-02T07:29:14.868Z"
   },
   {
    "duration": 0,
    "start_time": "2022-11-02T07:29:14.870Z"
   },
   {
    "duration": 0,
    "start_time": "2022-11-02T07:29:14.871Z"
   },
   {
    "duration": 0,
    "start_time": "2022-11-02T07:29:14.873Z"
   },
   {
    "duration": 0,
    "start_time": "2022-11-02T07:29:14.874Z"
   },
   {
    "duration": 0,
    "start_time": "2022-11-02T07:29:14.875Z"
   },
   {
    "duration": 0,
    "start_time": "2022-11-02T07:29:14.877Z"
   },
   {
    "duration": 0,
    "start_time": "2022-11-02T07:29:14.878Z"
   },
   {
    "duration": 23,
    "start_time": "2022-11-02T07:31:09.562Z"
   },
   {
    "duration": 134,
    "start_time": "2022-11-02T07:31:10.019Z"
   },
   {
    "duration": 6,
    "start_time": "2022-11-02T07:33:08.876Z"
   },
   {
    "duration": 4,
    "start_time": "2022-11-02T07:33:09.309Z"
   },
   {
    "duration": 29,
    "start_time": "2022-11-02T07:33:17.262Z"
   },
   {
    "duration": 26,
    "start_time": "2022-11-02T08:04:20.159Z"
   },
   {
    "duration": 27,
    "start_time": "2022-11-02T08:04:27.125Z"
   },
   {
    "duration": 35,
    "start_time": "2022-11-02T08:04:45.305Z"
   },
   {
    "duration": 42,
    "start_time": "2022-11-02T08:05:19.087Z"
   },
   {
    "duration": 20,
    "start_time": "2022-11-02T08:05:19.549Z"
   },
   {
    "duration": 23,
    "start_time": "2022-11-02T08:06:04.042Z"
   },
   {
    "duration": 27,
    "start_time": "2022-11-02T08:06:08.133Z"
   },
   {
    "duration": 53,
    "start_time": "2022-11-02T08:06:43.736Z"
   },
   {
    "duration": 8,
    "start_time": "2022-11-02T08:07:06.996Z"
   },
   {
    "duration": 23,
    "start_time": "2022-11-02T08:07:25.800Z"
   },
   {
    "duration": 4,
    "start_time": "2022-11-02T08:07:26.600Z"
   },
   {
    "duration": 8,
    "start_time": "2022-11-02T08:07:36.853Z"
   },
   {
    "duration": 8,
    "start_time": "2022-11-02T08:07:40.570Z"
   },
   {
    "duration": 8,
    "start_time": "2022-11-02T08:07:46.488Z"
   },
   {
    "duration": 23,
    "start_time": "2022-11-02T08:54:06.818Z"
   },
   {
    "duration": 3,
    "start_time": "2022-11-02T08:57:48.189Z"
   },
   {
    "duration": 4,
    "start_time": "2022-11-02T08:57:53.523Z"
   },
   {
    "duration": 9,
    "start_time": "2022-11-02T08:59:52.588Z"
   },
   {
    "duration": 7,
    "start_time": "2022-11-02T09:00:15.374Z"
   },
   {
    "duration": 24,
    "start_time": "2022-11-02T09:15:47.305Z"
   },
   {
    "duration": 8,
    "start_time": "2022-11-02T09:15:58.827Z"
   },
   {
    "duration": 20,
    "start_time": "2022-11-02T09:19:08.121Z"
   },
   {
    "duration": 54,
    "start_time": "2022-11-02T09:19:14.055Z"
   },
   {
    "duration": 16,
    "start_time": "2022-11-02T09:19:14.738Z"
   },
   {
    "duration": 65,
    "start_time": "2022-11-02T09:22:27.595Z"
   },
   {
    "duration": 64,
    "start_time": "2022-11-02T09:22:42.948Z"
   },
   {
    "duration": 23,
    "start_time": "2022-11-02T09:22:53.637Z"
   },
   {
    "duration": 24,
    "start_time": "2022-11-02T09:24:11.701Z"
   },
   {
    "duration": 358,
    "start_time": "2022-11-02T09:26:25.743Z"
   },
   {
    "duration": 351,
    "start_time": "2022-11-02T09:36:14.783Z"
   },
   {
    "duration": 332,
    "start_time": "2022-11-02T09:36:27.662Z"
   },
   {
    "duration": 402,
    "start_time": "2022-11-02T09:36:42.441Z"
   },
   {
    "duration": 326,
    "start_time": "2022-11-02T09:36:50.155Z"
   },
   {
    "duration": 3,
    "start_time": "2022-11-02T09:49:18.347Z"
   },
   {
    "duration": 61,
    "start_time": "2022-11-02T09:49:19.913Z"
   },
   {
    "duration": 317,
    "start_time": "2022-11-02T09:49:20.181Z"
   },
   {
    "duration": 331,
    "start_time": "2022-11-02T09:49:47.726Z"
   },
   {
    "duration": 346,
    "start_time": "2022-11-02T09:49:59.410Z"
   },
   {
    "duration": 52,
    "start_time": "2022-11-02T09:51:15.374Z"
   },
   {
    "duration": 3,
    "start_time": "2022-11-02T09:51:26.472Z"
   },
   {
    "duration": 344,
    "start_time": "2022-11-02T09:51:30.291Z"
   },
   {
    "duration": 4,
    "start_time": "2022-11-02T09:52:02.823Z"
   },
   {
    "duration": 3,
    "start_time": "2022-11-02T09:52:10.933Z"
   },
   {
    "duration": 61,
    "start_time": "2022-11-02T09:52:11.410Z"
   },
   {
    "duration": 9,
    "start_time": "2022-11-02T09:52:11.974Z"
   },
   {
    "duration": 6,
    "start_time": "2022-11-02T09:52:19.610Z"
   },
   {
    "duration": 58,
    "start_time": "2022-11-02T09:52:20.060Z"
   },
   {
    "duration": 18,
    "start_time": "2022-11-02T09:52:20.289Z"
   },
   {
    "duration": 4,
    "start_time": "2022-11-02T09:54:53.610Z"
   },
   {
    "duration": 3,
    "start_time": "2022-11-02T09:54:54.506Z"
   },
   {
    "duration": 57,
    "start_time": "2022-11-02T09:54:54.695Z"
   },
   {
    "duration": 21,
    "start_time": "2022-11-02T09:54:55.094Z"
   },
   {
    "duration": 19,
    "start_time": "2022-11-02T09:56:18.555Z"
   },
   {
    "duration": 109,
    "start_time": "2022-11-02T09:56:30.786Z"
   },
   {
    "duration": 22,
    "start_time": "2022-11-02T09:57:44.291Z"
   },
   {
    "duration": 23,
    "start_time": "2022-11-02T09:58:38.840Z"
   },
   {
    "duration": 15,
    "start_time": "2022-11-02T09:59:21.623Z"
   },
   {
    "duration": 14,
    "start_time": "2022-11-02T09:59:48.599Z"
   },
   {
    "duration": 14,
    "start_time": "2022-11-02T09:59:58.501Z"
   },
   {
    "duration": 13,
    "start_time": "2022-11-02T10:00:04.613Z"
   },
   {
    "duration": 21,
    "start_time": "2022-11-02T10:00:07.246Z"
   },
   {
    "duration": 15,
    "start_time": "2022-11-02T10:00:34.705Z"
   },
   {
    "duration": 13,
    "start_time": "2022-11-02T10:01:20.588Z"
   },
   {
    "duration": 17,
    "start_time": "2022-11-02T10:01:25.060Z"
   },
   {
    "duration": 15,
    "start_time": "2022-11-02T10:01:37.235Z"
   },
   {
    "duration": 13,
    "start_time": "2022-11-02T10:03:16.949Z"
   },
   {
    "duration": 13,
    "start_time": "2022-11-02T10:03:37.094Z"
   },
   {
    "duration": 12,
    "start_time": "2022-11-02T10:04:14.888Z"
   },
   {
    "duration": 13,
    "start_time": "2022-11-02T10:04:28.686Z"
   },
   {
    "duration": 14,
    "start_time": "2022-11-02T10:04:42.845Z"
   },
   {
    "duration": 13,
    "start_time": "2022-11-02T10:04:50.498Z"
   },
   {
    "duration": 12,
    "start_time": "2022-11-02T10:05:40.856Z"
   },
   {
    "duration": 12,
    "start_time": "2022-11-02T10:05:51.831Z"
   },
   {
    "duration": 13,
    "start_time": "2022-11-02T10:06:51.694Z"
   },
   {
    "duration": 13,
    "start_time": "2022-11-02T10:07:06.079Z"
   },
   {
    "duration": 3,
    "start_time": "2022-11-02T10:07:31.957Z"
   },
   {
    "duration": 19,
    "start_time": "2022-11-02T10:08:10.789Z"
   },
   {
    "duration": 13,
    "start_time": "2022-11-02T10:08:19.929Z"
   },
   {
    "duration": 18,
    "start_time": "2022-11-02T10:08:26.227Z"
   },
   {
    "duration": 17,
    "start_time": "2022-11-02T10:08:40.916Z"
   },
   {
    "duration": 13,
    "start_time": "2022-11-02T10:08:42.962Z"
   },
   {
    "duration": 12,
    "start_time": "2022-11-02T10:08:58.382Z"
   },
   {
    "duration": 16,
    "start_time": "2022-11-02T10:09:16.440Z"
   },
   {
    "duration": 12,
    "start_time": "2022-11-02T10:09:33.370Z"
   },
   {
    "duration": 8,
    "start_time": "2022-11-02T10:10:32.151Z"
   },
   {
    "duration": 16,
    "start_time": "2022-11-02T10:10:49.514Z"
   },
   {
    "duration": 14,
    "start_time": "2022-11-02T10:20:34.291Z"
   },
   {
    "duration": 17,
    "start_time": "2022-11-02T10:20:45.887Z"
   },
   {
    "duration": 14,
    "start_time": "2022-11-02T10:20:49.573Z"
   },
   {
    "duration": 12,
    "start_time": "2022-11-02T10:20:54.809Z"
   },
   {
    "duration": 13,
    "start_time": "2022-11-02T10:21:26.104Z"
   },
   {
    "duration": 13,
    "start_time": "2022-11-02T10:21:30.999Z"
   },
   {
    "duration": 13,
    "start_time": "2022-11-02T10:22:01.532Z"
   },
   {
    "duration": 12,
    "start_time": "2022-11-02T10:22:15.924Z"
   },
   {
    "duration": 11,
    "start_time": "2022-11-02T10:22:24.076Z"
   },
   {
    "duration": 11,
    "start_time": "2022-11-02T10:22:29.980Z"
   },
   {
    "duration": 20,
    "start_time": "2022-11-02T10:22:35.234Z"
   },
   {
    "duration": 18,
    "start_time": "2022-11-02T10:22:38.660Z"
   },
   {
    "duration": 11,
    "start_time": "2022-11-02T10:23:08.097Z"
   },
   {
    "duration": 11,
    "start_time": "2022-11-02T10:23:23.151Z"
   },
   {
    "duration": 11,
    "start_time": "2022-11-02T10:23:32.405Z"
   },
   {
    "duration": 11,
    "start_time": "2022-11-02T10:23:39.368Z"
   },
   {
    "duration": 107,
    "start_time": "2022-11-02T10:24:09.121Z"
   },
   {
    "duration": 23,
    "start_time": "2022-11-02T10:24:17.084Z"
   },
   {
    "duration": 14,
    "start_time": "2022-11-02T10:24:26.784Z"
   },
   {
    "duration": 11,
    "start_time": "2022-11-02T10:24:39.438Z"
   },
   {
    "duration": 12,
    "start_time": "2022-11-02T10:24:46.907Z"
   },
   {
    "duration": 16,
    "start_time": "2022-11-02T10:25:00.281Z"
   },
   {
    "duration": 16,
    "start_time": "2022-11-02T10:26:32.243Z"
   },
   {
    "duration": 10,
    "start_time": "2022-11-02T10:26:38.631Z"
   },
   {
    "duration": 11,
    "start_time": "2022-11-02T10:26:48.293Z"
   },
   {
    "duration": 17,
    "start_time": "2022-11-02T10:27:04.913Z"
   },
   {
    "duration": 18,
    "start_time": "2022-11-02T10:28:19.319Z"
   },
   {
    "duration": 11,
    "start_time": "2022-11-02T10:29:10.189Z"
   },
   {
    "duration": 16,
    "start_time": "2022-11-02T10:29:22.516Z"
   },
   {
    "duration": 11,
    "start_time": "2022-11-02T10:29:26.852Z"
   },
   {
    "duration": 12,
    "start_time": "2022-11-02T10:30:50.268Z"
   },
   {
    "duration": 17,
    "start_time": "2022-11-02T10:31:18.110Z"
   },
   {
    "duration": 16,
    "start_time": "2022-11-02T10:31:36.568Z"
   },
   {
    "duration": 23,
    "start_time": "2022-11-02T10:31:58.036Z"
   },
   {
    "duration": 17,
    "start_time": "2022-11-02T10:32:03.940Z"
   },
   {
    "duration": 65,
    "start_time": "2022-11-02T10:32:58.316Z"
   },
   {
    "duration": 73,
    "start_time": "2022-11-02T10:38:29.551Z"
   },
   {
    "duration": 81,
    "start_time": "2022-11-02T10:52:15.055Z"
   },
   {
    "duration": 65,
    "start_time": "2022-11-02T10:52:26.811Z"
   },
   {
    "duration": 2,
    "start_time": "2022-11-02T10:52:50.373Z"
   },
   {
    "duration": 3,
    "start_time": "2022-11-02T10:53:06.975Z"
   },
   {
    "duration": 70,
    "start_time": "2022-11-02T10:53:13.052Z"
   },
   {
    "duration": 4,
    "start_time": "2022-11-02T10:55:20.651Z"
   },
   {
    "duration": 3,
    "start_time": "2022-11-02T10:59:22.513Z"
   },
   {
    "duration": 3,
    "start_time": "2022-11-02T10:59:26.131Z"
   },
   {
    "duration": 4,
    "start_time": "2022-11-02T11:07:27.490Z"
   },
   {
    "duration": 8,
    "start_time": "2022-11-02T11:07:32.896Z"
   },
   {
    "duration": 3,
    "start_time": "2022-11-02T11:08:21.810Z"
   },
   {
    "duration": 879,
    "start_time": "2022-11-02T11:08:45.754Z"
   },
   {
    "duration": 5,
    "start_time": "2022-11-02T11:09:15.724Z"
   },
   {
    "duration": 9,
    "start_time": "2022-11-02T11:09:19.484Z"
   },
   {
    "duration": 9,
    "start_time": "2022-11-02T11:11:26.474Z"
   },
   {
    "duration": 16,
    "start_time": "2022-11-02T11:15:16.339Z"
   },
   {
    "duration": 12,
    "start_time": "2022-11-02T11:15:22.427Z"
   },
   {
    "duration": 6,
    "start_time": "2022-11-02T11:15:28.103Z"
   },
   {
    "duration": 719,
    "start_time": "2022-11-02T11:16:16.579Z"
   },
   {
    "duration": 16,
    "start_time": "2022-11-02T11:17:15.422Z"
   },
   {
    "duration": 10,
    "start_time": "2022-11-02T11:17:21.375Z"
   },
   {
    "duration": 4,
    "start_time": "2022-11-02T11:18:06.099Z"
   },
   {
    "duration": 8,
    "start_time": "2022-11-02T11:19:34.763Z"
   },
   {
    "duration": 13,
    "start_time": "2022-11-02T11:19:57.377Z"
   },
   {
    "duration": 21,
    "start_time": "2022-11-02T11:20:13.113Z"
   },
   {
    "duration": 8,
    "start_time": "2022-11-02T11:20:33.922Z"
   },
   {
    "duration": 11,
    "start_time": "2022-11-02T11:20:52.708Z"
   },
   {
    "duration": 13,
    "start_time": "2022-11-02T11:20:58.634Z"
   },
   {
    "duration": 4,
    "start_time": "2022-11-02T11:21:45.683Z"
   },
   {
    "duration": 5,
    "start_time": "2022-11-02T11:22:13.068Z"
   },
   {
    "duration": 5,
    "start_time": "2022-11-02T11:22:30.093Z"
   },
   {
    "duration": 4,
    "start_time": "2022-11-02T11:22:43.843Z"
   },
   {
    "duration": 14,
    "start_time": "2022-11-02T11:23:04.105Z"
   },
   {
    "duration": 13,
    "start_time": "2022-11-02T11:23:17.104Z"
   },
   {
    "duration": 5,
    "start_time": "2022-11-02T11:23:20.064Z"
   },
   {
    "duration": 4,
    "start_time": "2022-11-02T11:23:36.575Z"
   },
   {
    "duration": 13,
    "start_time": "2022-11-02T11:23:41.393Z"
   },
   {
    "duration": 68,
    "start_time": "2022-11-02T11:24:50.596Z"
   },
   {
    "duration": 20,
    "start_time": "2022-11-02T11:24:58.973Z"
   },
   {
    "duration": 9,
    "start_time": "2022-11-02T11:25:40.069Z"
   },
   {
    "duration": 15,
    "start_time": "2022-11-02T11:25:51.424Z"
   },
   {
    "duration": 14,
    "start_time": "2022-11-02T11:26:39.006Z"
   },
   {
    "duration": 11,
    "start_time": "2022-11-02T11:26:46.779Z"
   },
   {
    "duration": 12,
    "start_time": "2022-11-02T11:26:56.356Z"
   },
   {
    "duration": 59,
    "start_time": "2022-11-02T11:27:16.203Z"
   },
   {
    "duration": 10,
    "start_time": "2022-11-02T11:27:29.585Z"
   },
   {
    "duration": 10,
    "start_time": "2022-11-02T12:14:25.137Z"
   },
   {
    "duration": 20,
    "start_time": "2022-11-02T12:14:55.414Z"
   },
   {
    "duration": 11,
    "start_time": "2022-11-02T12:15:06.080Z"
   },
   {
    "duration": 61,
    "start_time": "2022-11-02T12:15:50.009Z"
   },
   {
    "duration": 22,
    "start_time": "2022-11-02T12:19:45.928Z"
   },
   {
    "duration": 11,
    "start_time": "2022-11-02T12:19:58.542Z"
   },
   {
    "duration": 8,
    "start_time": "2022-11-02T12:20:03.758Z"
   },
   {
    "duration": 11,
    "start_time": "2022-11-02T12:20:10.020Z"
   },
   {
    "duration": 14,
    "start_time": "2022-11-02T12:20:34.299Z"
   },
   {
    "duration": 8,
    "start_time": "2022-11-02T12:20:47.683Z"
   },
   {
    "duration": 11,
    "start_time": "2022-11-02T12:20:54.183Z"
   },
   {
    "duration": 14,
    "start_time": "2022-11-02T12:22:15.252Z"
   },
   {
    "duration": 10,
    "start_time": "2022-11-02T12:22:21.762Z"
   },
   {
    "duration": 15,
    "start_time": "2022-11-02T12:22:45.976Z"
   },
   {
    "duration": 10,
    "start_time": "2022-11-02T12:23:27.806Z"
   },
   {
    "duration": 853,
    "start_time": "2022-11-02T12:23:37.959Z"
   },
   {
    "duration": 633,
    "start_time": "2022-11-02T12:24:03.192Z"
   },
   {
    "duration": 708,
    "start_time": "2022-11-02T12:24:20.245Z"
   },
   {
    "duration": 705,
    "start_time": "2022-11-02T12:24:40.600Z"
   },
   {
    "duration": 11,
    "start_time": "2022-11-02T12:25:01.882Z"
   },
   {
    "duration": 13,
    "start_time": "2022-11-02T12:26:26.190Z"
   },
   {
    "duration": 15,
    "start_time": "2022-11-02T12:26:45.153Z"
   },
   {
    "duration": 10,
    "start_time": "2022-11-02T12:26:50.126Z"
   },
   {
    "duration": 18,
    "start_time": "2022-11-02T12:27:51.425Z"
   },
   {
    "duration": 17,
    "start_time": "2022-11-02T12:27:58.046Z"
   },
   {
    "duration": 17,
    "start_time": "2022-11-02T12:28:02.946Z"
   },
   {
    "duration": 17,
    "start_time": "2022-11-02T12:28:08.199Z"
   },
   {
    "duration": 22,
    "start_time": "2022-11-02T12:28:27.502Z"
   },
   {
    "duration": 17,
    "start_time": "2022-11-02T12:28:34.001Z"
   },
   {
    "duration": 14,
    "start_time": "2022-11-02T12:28:46.500Z"
   },
   {
    "duration": 18,
    "start_time": "2022-11-02T12:29:10.858Z"
   },
   {
    "duration": 17,
    "start_time": "2022-11-02T12:38:32.593Z"
   },
   {
    "duration": 15,
    "start_time": "2022-11-02T12:39:06.432Z"
   },
   {
    "duration": 14,
    "start_time": "2022-11-02T12:41:40.626Z"
   },
   {
    "duration": 15,
    "start_time": "2022-11-02T12:41:53.339Z"
   },
   {
    "duration": 18,
    "start_time": "2022-11-02T12:42:28.887Z"
   },
   {
    "duration": 14,
    "start_time": "2022-11-02T12:43:02.054Z"
   },
   {
    "duration": 13,
    "start_time": "2022-11-02T12:43:05.978Z"
   },
   {
    "duration": 42,
    "start_time": "2022-11-02T12:43:22.349Z"
   },
   {
    "duration": 18,
    "start_time": "2022-11-02T12:43:34.057Z"
   },
   {
    "duration": 17,
    "start_time": "2022-11-02T12:44:12.910Z"
   },
   {
    "duration": 18,
    "start_time": "2022-11-02T12:44:25.524Z"
   },
   {
    "duration": 18,
    "start_time": "2022-11-02T12:45:08.597Z"
   },
   {
    "duration": 18,
    "start_time": "2022-11-02T12:45:14.442Z"
   },
   {
    "duration": 17,
    "start_time": "2022-11-02T12:45:28.045Z"
   },
   {
    "duration": 10,
    "start_time": "2022-11-02T12:46:41.345Z"
   },
   {
    "duration": 21,
    "start_time": "2022-11-02T12:47:08.743Z"
   },
   {
    "duration": 22,
    "start_time": "2022-11-02T12:48:20.704Z"
   },
   {
    "duration": 4,
    "start_time": "2022-11-02T12:48:57.482Z"
   },
   {
    "duration": 4,
    "start_time": "2022-11-02T12:49:27.812Z"
   },
   {
    "duration": 48,
    "start_time": "2022-11-02T12:50:07.879Z"
   },
   {
    "duration": 18,
    "start_time": "2022-11-02T12:50:13.608Z"
   },
   {
    "duration": 10,
    "start_time": "2022-11-02T12:50:27.310Z"
   },
   {
    "duration": 24,
    "start_time": "2022-11-02T12:50:36.703Z"
   },
   {
    "duration": 23,
    "start_time": "2022-11-02T12:50:56.951Z"
   },
   {
    "duration": 25,
    "start_time": "2022-11-02T12:51:17.466Z"
   },
   {
    "duration": 21,
    "start_time": "2022-11-02T12:51:29.896Z"
   },
   {
    "duration": 23,
    "start_time": "2022-11-02T12:53:34.165Z"
   },
   {
    "duration": 15,
    "start_time": "2022-11-02T12:59:06.332Z"
   },
   {
    "duration": 1148,
    "start_time": "2022-11-02T12:59:32.325Z"
   },
   {
    "duration": 33,
    "start_time": "2022-11-02T12:59:33.475Z"
   },
   {
    "duration": 510,
    "start_time": "2022-11-02T12:59:33.509Z"
   },
   {
    "duration": 8,
    "start_time": "2022-11-02T12:59:34.022Z"
   },
   {
    "duration": 13,
    "start_time": "2022-11-02T12:59:34.031Z"
   },
   {
    "duration": 19,
    "start_time": "2022-11-02T12:59:34.046Z"
   },
   {
    "duration": 17,
    "start_time": "2022-11-02T12:59:34.067Z"
   },
   {
    "duration": 9,
    "start_time": "2022-11-02T12:59:34.085Z"
   },
   {
    "duration": 21,
    "start_time": "2022-11-02T12:59:34.096Z"
   },
   {
    "duration": 5,
    "start_time": "2022-11-02T12:59:34.121Z"
   },
   {
    "duration": 17,
    "start_time": "2022-11-02T12:59:34.127Z"
   },
   {
    "duration": 51,
    "start_time": "2022-11-02T12:59:34.146Z"
   },
   {
    "duration": 44,
    "start_time": "2022-11-02T12:59:34.199Z"
   },
   {
    "duration": 11,
    "start_time": "2022-11-02T12:59:34.245Z"
   },
   {
    "duration": 17,
    "start_time": "2022-11-02T12:59:34.257Z"
   },
   {
    "duration": 57,
    "start_time": "2022-11-02T12:59:34.276Z"
   },
   {
    "duration": 6,
    "start_time": "2022-11-02T12:59:34.334Z"
   },
   {
    "duration": 8,
    "start_time": "2022-11-02T12:59:34.341Z"
   },
   {
    "duration": 31,
    "start_time": "2022-11-02T12:59:34.350Z"
   },
   {
    "duration": 40,
    "start_time": "2022-11-02T12:59:34.382Z"
   },
   {
    "duration": 11,
    "start_time": "2022-11-02T12:59:34.424Z"
   },
   {
    "duration": 25,
    "start_time": "2022-11-02T12:59:34.437Z"
   },
   {
    "duration": 15,
    "start_time": "2022-11-02T12:59:34.463Z"
   },
   {
    "duration": 4,
    "start_time": "2022-11-02T12:59:34.479Z"
   },
   {
    "duration": 598,
    "start_time": "2022-11-02T12:59:34.485Z"
   },
   {
    "duration": 567,
    "start_time": "2022-11-02T12:59:35.084Z"
   },
   {
    "duration": 229,
    "start_time": "2022-11-02T12:59:35.689Z"
   },
   {
    "duration": 246,
    "start_time": "2022-11-02T12:59:35.923Z"
   },
   {
    "duration": 688,
    "start_time": "2022-11-02T12:59:36.170Z"
   },
   {
    "duration": 5,
    "start_time": "2022-11-02T12:59:36.860Z"
   },
   {
    "duration": 16,
    "start_time": "2022-11-02T12:59:36.867Z"
   },
   {
    "duration": 6,
    "start_time": "2022-11-02T12:59:36.884Z"
   },
   {
    "duration": 52,
    "start_time": "2022-11-02T12:59:36.891Z"
   },
   {
    "duration": 147,
    "start_time": "2022-11-02T12:59:36.945Z"
   },
   {
    "duration": 13,
    "start_time": "2022-11-02T12:59:37.094Z"
   },
   {
    "duration": 752,
    "start_time": "2022-11-02T12:59:37.109Z"
   },
   {
    "duration": 24,
    "start_time": "2022-11-02T12:59:37.863Z"
   },
   {
    "duration": 712,
    "start_time": "2022-11-02T12:59:37.889Z"
   },
   {
    "duration": 3,
    "start_time": "2022-11-02T12:59:38.602Z"
   },
   {
    "duration": 348,
    "start_time": "2022-11-02T12:59:38.606Z"
   },
   {
    "duration": 3,
    "start_time": "2022-11-02T12:59:38.955Z"
   },
   {
    "duration": 26,
    "start_time": "2022-11-02T12:59:38.959Z"
   },
   {
    "duration": 39,
    "start_time": "2022-11-02T12:59:38.987Z"
   },
   {
    "duration": 57,
    "start_time": "2022-11-02T12:59:39.029Z"
   },
   {
    "duration": 46,
    "start_time": "2022-11-02T12:59:39.088Z"
   },
   {
    "duration": 34,
    "start_time": "2022-11-02T12:59:39.135Z"
   },
   {
    "duration": 8,
    "start_time": "2022-11-02T12:59:39.171Z"
   },
   {
    "duration": 202,
    "start_time": "2022-11-02T12:59:39.180Z"
   },
   {
    "duration": 10,
    "start_time": "2022-11-02T12:59:39.384Z"
   },
   {
    "duration": 14,
    "start_time": "2022-11-02T12:59:39.395Z"
   },
   {
    "duration": 863,
    "start_time": "2022-11-02T13:00:53.293Z"
   },
   {
    "duration": 43,
    "start_time": "2022-11-02T13:01:07.206Z"
   },
   {
    "duration": 8,
    "start_time": "2022-11-02T13:01:07.900Z"
   },
   {
    "duration": 172,
    "start_time": "2022-11-02T13:01:20.689Z"
   },
   {
    "duration": 10,
    "start_time": "2022-11-02T13:01:24.233Z"
   },
   {
    "duration": 8,
    "start_time": "2022-11-02T13:02:27.843Z"
   },
   {
    "duration": 16,
    "start_time": "2022-11-02T13:50:44.574Z"
   },
   {
    "duration": 11,
    "start_time": "2022-11-02T13:51:12.716Z"
   },
   {
    "duration": 10,
    "start_time": "2022-11-02T13:51:15.538Z"
   },
   {
    "duration": 12,
    "start_time": "2022-11-02T13:55:44.806Z"
   },
   {
    "duration": 11,
    "start_time": "2022-11-02T13:56:00.788Z"
   },
   {
    "duration": 105,
    "start_time": "2022-11-02T13:56:04.793Z"
   },
   {
    "duration": 11,
    "start_time": "2022-11-02T13:56:08.663Z"
   },
   {
    "duration": 11,
    "start_time": "2022-11-02T13:56:24.564Z"
   },
   {
    "duration": 10,
    "start_time": "2022-11-02T13:56:26.314Z"
   },
   {
    "duration": 22,
    "start_time": "2022-11-02T13:56:38.924Z"
   },
   {
    "duration": 15,
    "start_time": "2022-11-02T13:56:45.232Z"
   },
   {
    "duration": 22,
    "start_time": "2022-11-02T13:56:57.352Z"
   },
   {
    "duration": 11,
    "start_time": "2022-11-02T13:58:14.787Z"
   },
   {
    "duration": 11,
    "start_time": "2022-11-02T13:59:54.561Z"
   },
   {
    "duration": 12,
    "start_time": "2022-11-02T14:00:14.145Z"
   },
   {
    "duration": 10,
    "start_time": "2022-11-02T14:00:32.293Z"
   },
   {
    "duration": 21,
    "start_time": "2022-11-02T14:00:40.569Z"
   },
   {
    "duration": 10,
    "start_time": "2022-11-02T14:00:45.671Z"
   },
   {
    "duration": 23,
    "start_time": "2022-11-02T14:00:58.104Z"
   },
   {
    "duration": 12,
    "start_time": "2022-11-02T14:02:16.894Z"
   },
   {
    "duration": 18,
    "start_time": "2022-11-02T14:02:25.255Z"
   },
   {
    "duration": 54,
    "start_time": "2022-11-02T14:02:31.304Z"
   },
   {
    "duration": 11,
    "start_time": "2022-11-02T14:02:52.665Z"
   },
   {
    "duration": 10,
    "start_time": "2022-11-02T14:04:12.804Z"
   },
   {
    "duration": 52,
    "start_time": "2022-11-02T14:04:38.059Z"
   },
   {
    "duration": 50,
    "start_time": "2022-11-02T14:04:45.704Z"
   },
   {
    "duration": 561,
    "start_time": "2022-11-02T14:19:07.922Z"
   },
   {
    "duration": 624,
    "start_time": "2022-11-02T14:19:22.355Z"
   },
   {
    "duration": 695,
    "start_time": "2022-11-02T14:19:32.051Z"
   },
   {
    "duration": 554,
    "start_time": "2022-11-02T14:19:55.821Z"
   },
   {
    "duration": 556,
    "start_time": "2022-11-02T14:20:08.020Z"
   },
   {
    "duration": 539,
    "start_time": "2022-11-02T14:20:19.455Z"
   },
   {
    "duration": 52,
    "start_time": "2022-11-02T14:21:17.246Z"
   },
   {
    "duration": 11,
    "start_time": "2022-11-02T14:21:28.554Z"
   },
   {
    "duration": 14,
    "start_time": "2022-11-02T14:24:08.995Z"
   },
   {
    "duration": 1063,
    "start_time": "2022-11-02T14:29:44.169Z"
   },
   {
    "duration": 1085,
    "start_time": "2022-11-02T14:30:39.363Z"
   },
   {
    "duration": 11,
    "start_time": "2022-11-02T14:31:14.002Z"
   },
   {
    "duration": 36,
    "start_time": "2022-11-02T14:31:38.910Z"
   },
   {
    "duration": 32,
    "start_time": "2022-11-02T14:32:27.273Z"
   },
   {
    "duration": 35,
    "start_time": "2022-11-02T14:32:45.140Z"
   },
   {
    "duration": 83,
    "start_time": "2022-11-02T14:33:44.965Z"
   },
   {
    "duration": 53,
    "start_time": "2022-11-02T14:33:51.869Z"
   },
   {
    "duration": 64,
    "start_time": "2022-11-02T14:34:02.369Z"
   },
   {
    "duration": 11,
    "start_time": "2022-11-02T14:34:14.645Z"
   },
   {
    "duration": 74,
    "start_time": "2022-11-02T14:37:58.043Z"
   },
   {
    "duration": 17,
    "start_time": "2022-11-02T14:45:03.410Z"
   },
   {
    "duration": 12,
    "start_time": "2022-11-02T14:45:37.493Z"
   },
   {
    "duration": 141,
    "start_time": "2022-11-02T14:55:25.476Z"
   },
   {
    "duration": 44,
    "start_time": "2022-11-02T14:55:42.073Z"
   },
   {
    "duration": 44,
    "start_time": "2022-11-02T14:56:03.343Z"
   },
   {
    "duration": 1100,
    "start_time": "2022-11-02T14:56:12.478Z"
   },
   {
    "duration": 27,
    "start_time": "2022-11-02T14:56:13.579Z"
   },
   {
    "duration": 274,
    "start_time": "2022-11-02T14:56:13.607Z"
   },
   {
    "duration": 9,
    "start_time": "2022-11-02T14:56:13.883Z"
   },
   {
    "duration": 8,
    "start_time": "2022-11-02T14:56:13.893Z"
   },
   {
    "duration": 19,
    "start_time": "2022-11-02T14:56:13.903Z"
   },
   {
    "duration": 8,
    "start_time": "2022-11-02T14:56:13.924Z"
   },
   {
    "duration": 9,
    "start_time": "2022-11-02T14:56:13.934Z"
   },
   {
    "duration": 21,
    "start_time": "2022-11-02T14:56:13.944Z"
   },
   {
    "duration": 9,
    "start_time": "2022-11-02T14:56:13.968Z"
   },
   {
    "duration": 18,
    "start_time": "2022-11-02T14:56:13.979Z"
   },
   {
    "duration": 68,
    "start_time": "2022-11-02T14:56:13.999Z"
   },
   {
    "duration": 23,
    "start_time": "2022-11-02T14:56:14.068Z"
   },
   {
    "duration": 11,
    "start_time": "2022-11-02T14:56:14.093Z"
   },
   {
    "duration": 14,
    "start_time": "2022-11-02T14:56:14.122Z"
   },
   {
    "duration": 42,
    "start_time": "2022-11-02T14:56:14.137Z"
   },
   {
    "duration": 6,
    "start_time": "2022-11-02T14:56:14.180Z"
   },
   {
    "duration": 7,
    "start_time": "2022-11-02T14:56:14.188Z"
   },
   {
    "duration": 55,
    "start_time": "2022-11-02T14:56:14.197Z"
   },
   {
    "duration": 26,
    "start_time": "2022-11-02T14:56:14.254Z"
   },
   {
    "duration": 17,
    "start_time": "2022-11-02T14:56:14.282Z"
   },
   {
    "duration": 34,
    "start_time": "2022-11-02T14:56:14.301Z"
   },
   {
    "duration": 17,
    "start_time": "2022-11-02T14:56:14.337Z"
   },
   {
    "duration": 8,
    "start_time": "2022-11-02T14:56:14.356Z"
   },
   {
    "duration": 638,
    "start_time": "2022-11-02T14:56:14.366Z"
   },
   {
    "duration": 611,
    "start_time": "2022-11-02T14:56:15.006Z"
   },
   {
    "duration": 245,
    "start_time": "2022-11-02T14:56:15.618Z"
   },
   {
    "duration": 244,
    "start_time": "2022-11-02T14:56:15.866Z"
   },
   {
    "duration": 66,
    "start_time": "2022-11-02T14:56:16.112Z"
   },
   {
    "duration": 706,
    "start_time": "2022-11-02T14:56:16.180Z"
   },
   {
    "duration": 5,
    "start_time": "2022-11-02T14:56:16.888Z"
   },
   {
    "duration": 13,
    "start_time": "2022-11-02T14:56:16.894Z"
   },
   {
    "duration": 7,
    "start_time": "2022-11-02T14:56:16.922Z"
   },
   {
    "duration": 30,
    "start_time": "2022-11-02T14:56:16.930Z"
   },
   {
    "duration": 169,
    "start_time": "2022-11-02T14:56:16.961Z"
   },
   {
    "duration": 8,
    "start_time": "2022-11-02T14:56:17.132Z"
   },
   {
    "duration": 378,
    "start_time": "2022-11-02T14:56:17.142Z"
   },
   {
    "duration": 23,
    "start_time": "2022-11-02T14:56:17.522Z"
   },
   {
    "duration": 403,
    "start_time": "2022-11-02T14:56:17.547Z"
   },
   {
    "duration": 3,
    "start_time": "2022-11-02T14:56:17.951Z"
   },
   {
    "duration": 181,
    "start_time": "2022-11-02T14:56:17.956Z"
   },
   {
    "duration": 3,
    "start_time": "2022-11-02T14:56:18.139Z"
   },
   {
    "duration": 17,
    "start_time": "2022-11-02T14:56:18.144Z"
   },
   {
    "duration": 17,
    "start_time": "2022-11-02T14:56:18.162Z"
   },
   {
    "duration": 63,
    "start_time": "2022-11-02T14:56:18.180Z"
   },
   {
    "duration": 79,
    "start_time": "2022-11-02T14:56:18.245Z"
   },
   {
    "duration": 10,
    "start_time": "2022-11-02T14:56:18.326Z"
   },
   {
    "duration": 357,
    "start_time": "2022-11-02T14:56:18.338Z"
   },
   {
    "duration": 10,
    "start_time": "2022-11-02T14:56:18.697Z"
   },
   {
    "duration": 55,
    "start_time": "2022-11-02T14:56:18.708Z"
   },
   {
    "duration": 23,
    "start_time": "2022-11-02T14:57:35.814Z"
   },
   {
    "duration": 25,
    "start_time": "2022-11-02T14:57:41.932Z"
   },
   {
    "duration": 299,
    "start_time": "2022-11-02T14:59:21.925Z"
   },
   {
    "duration": 1182,
    "start_time": "2022-11-02T15:00:41.745Z"
   },
   {
    "duration": 52,
    "start_time": "2022-11-02T15:00:42.929Z"
   },
   {
    "duration": 217,
    "start_time": "2022-11-02T15:00:42.982Z"
   },
   {
    "duration": 9,
    "start_time": "2022-11-02T15:00:43.201Z"
   },
   {
    "duration": 15,
    "start_time": "2022-11-02T15:00:43.211Z"
   },
   {
    "duration": 12,
    "start_time": "2022-11-02T15:00:43.227Z"
   },
   {
    "duration": 12,
    "start_time": "2022-11-02T15:00:43.240Z"
   },
   {
    "duration": 11,
    "start_time": "2022-11-02T15:00:43.253Z"
   },
   {
    "duration": 19,
    "start_time": "2022-11-02T15:00:43.265Z"
   },
   {
    "duration": 5,
    "start_time": "2022-11-02T15:00:43.286Z"
   },
   {
    "duration": 37,
    "start_time": "2022-11-02T15:00:43.292Z"
   },
   {
    "duration": 51,
    "start_time": "2022-11-02T15:00:43.330Z"
   },
   {
    "duration": 23,
    "start_time": "2022-11-02T15:00:43.383Z"
   },
   {
    "duration": 10,
    "start_time": "2022-11-02T15:00:43.422Z"
   },
   {
    "duration": 18,
    "start_time": "2022-11-02T15:00:43.433Z"
   },
   {
    "duration": 46,
    "start_time": "2022-11-02T15:00:43.452Z"
   },
   {
    "duration": 5,
    "start_time": "2022-11-02T15:00:43.500Z"
   },
   {
    "duration": 17,
    "start_time": "2022-11-02T15:00:43.506Z"
   },
   {
    "duration": 27,
    "start_time": "2022-11-02T15:00:43.525Z"
   },
   {
    "duration": 16,
    "start_time": "2022-11-02T15:00:43.554Z"
   },
   {
    "duration": 11,
    "start_time": "2022-11-02T15:00:43.571Z"
   },
   {
    "duration": 41,
    "start_time": "2022-11-02T15:00:43.583Z"
   },
   {
    "duration": 14,
    "start_time": "2022-11-02T15:00:43.625Z"
   },
   {
    "duration": 4,
    "start_time": "2022-11-02T15:00:43.641Z"
   },
   {
    "duration": 609,
    "start_time": "2022-11-02T15:00:43.647Z"
   },
   {
    "duration": 579,
    "start_time": "2022-11-02T15:00:44.257Z"
   },
   {
    "duration": 238,
    "start_time": "2022-11-02T15:00:44.838Z"
   },
   {
    "duration": 247,
    "start_time": "2022-11-02T15:00:45.081Z"
   },
   {
    "duration": 63,
    "start_time": "2022-11-02T15:00:45.330Z"
   },
   {
    "duration": 717,
    "start_time": "2022-11-02T15:00:45.394Z"
   },
   {
    "duration": 6,
    "start_time": "2022-11-02T15:00:46.118Z"
   },
   {
    "duration": 17,
    "start_time": "2022-11-02T15:00:46.126Z"
   },
   {
    "duration": 6,
    "start_time": "2022-11-02T15:00:46.145Z"
   },
   {
    "duration": 27,
    "start_time": "2022-11-02T15:00:46.152Z"
   },
   {
    "duration": 162,
    "start_time": "2022-11-02T15:00:46.181Z"
   },
   {
    "duration": 13,
    "start_time": "2022-11-02T15:00:46.345Z"
   },
   {
    "duration": 790,
    "start_time": "2022-11-02T15:00:46.359Z"
   },
   {
    "duration": 24,
    "start_time": "2022-11-02T15:00:47.150Z"
   },
   {
    "duration": 715,
    "start_time": "2022-11-02T15:00:47.176Z"
   },
   {
    "duration": 2,
    "start_time": "2022-11-02T15:00:47.892Z"
   },
   {
    "duration": 175,
    "start_time": "2022-11-02T15:00:47.896Z"
   },
   {
    "duration": 2,
    "start_time": "2022-11-02T15:00:48.072Z"
   },
   {
    "duration": 18,
    "start_time": "2022-11-02T15:00:48.075Z"
   },
   {
    "duration": 29,
    "start_time": "2022-11-02T15:00:48.094Z"
   },
   {
    "duration": 23,
    "start_time": "2022-11-02T15:00:48.125Z"
   },
   {
    "duration": 83,
    "start_time": "2022-11-02T15:00:48.150Z"
   },
   {
    "duration": 9,
    "start_time": "2022-11-02T15:00:48.234Z"
   },
   {
    "duration": 568,
    "start_time": "2022-11-02T15:00:48.244Z"
   },
   {
    "duration": 16,
    "start_time": "2022-11-02T15:00:48.814Z"
   },
   {
    "duration": 105,
    "start_time": "2022-11-02T15:00:48.831Z"
   },
   {
    "duration": 694,
    "start_time": "2022-11-02T15:20:53.674Z"
   },
   {
    "duration": 636,
    "start_time": "2022-11-02T15:23:29.229Z"
   },
   {
    "duration": 829,
    "start_time": "2022-11-02T15:23:44.958Z"
   },
   {
    "duration": 709,
    "start_time": "2022-11-02T15:23:53.864Z"
   },
   {
    "duration": 722,
    "start_time": "2022-11-02T15:24:05.636Z"
   },
   {
    "duration": 687,
    "start_time": "2022-11-02T15:24:28.333Z"
   },
   {
    "duration": 654,
    "start_time": "2022-11-02T15:24:39.414Z"
   },
   {
    "duration": 28,
    "start_time": "2022-11-02T15:25:23.138Z"
   },
   {
    "duration": 19,
    "start_time": "2022-11-02T15:26:34.398Z"
   },
   {
    "duration": 22,
    "start_time": "2022-11-02T15:26:40.631Z"
   },
   {
    "duration": 23,
    "start_time": "2022-11-02T15:27:04.394Z"
   },
   {
    "duration": 711,
    "start_time": "2022-11-02T15:28:26.396Z"
   },
   {
    "duration": 9,
    "start_time": "2022-11-02T15:28:32.900Z"
   },
   {
    "duration": 13,
    "start_time": "2022-11-02T15:29:09.435Z"
   },
   {
    "duration": 14,
    "start_time": "2022-11-02T15:30:05.652Z"
   },
   {
    "duration": 23,
    "start_time": "2022-11-02T15:30:19.048Z"
   },
   {
    "duration": 17,
    "start_time": "2022-11-02T15:31:18.130Z"
   },
   {
    "duration": 17,
    "start_time": "2022-11-02T15:31:28.290Z"
   },
   {
    "duration": 18,
    "start_time": "2022-11-02T15:32:06.121Z"
   },
   {
    "duration": 18,
    "start_time": "2022-11-02T15:32:42.456Z"
   },
   {
    "duration": 22,
    "start_time": "2022-11-02T15:33:11.838Z"
   },
   {
    "duration": 22,
    "start_time": "2022-11-02T15:33:49.691Z"
   },
   {
    "duration": 25,
    "start_time": "2022-11-02T15:34:00.595Z"
   },
   {
    "duration": 21,
    "start_time": "2022-11-02T15:34:07.016Z"
   },
   {
    "duration": 18,
    "start_time": "2022-11-02T15:34:28.040Z"
   },
   {
    "duration": 23,
    "start_time": "2022-11-02T15:35:03.686Z"
   },
   {
    "duration": 8,
    "start_time": "2022-11-02T15:35:55.457Z"
   },
   {
    "duration": 21,
    "start_time": "2022-11-02T15:44:32.727Z"
   },
   {
    "duration": 15,
    "start_time": "2022-11-02T15:44:45.777Z"
   },
   {
    "duration": 26,
    "start_time": "2022-11-02T15:45:00.385Z"
   },
   {
    "duration": 762,
    "start_time": "2022-11-02T15:45:08.722Z"
   },
   {
    "duration": 26,
    "start_time": "2022-11-02T16:09:27.812Z"
   },
   {
    "duration": 10,
    "start_time": "2022-11-02T16:09:28.736Z"
   },
   {
    "duration": 41,
    "start_time": "2022-11-02T16:19:26.416Z"
   },
   {
    "duration": 43,
    "start_time": "2022-11-02T16:19:38.335Z"
   },
   {
    "duration": 10,
    "start_time": "2022-11-02T16:19:38.813Z"
   },
   {
    "duration": 9,
    "start_time": "2022-11-02T16:19:48.705Z"
   },
   {
    "duration": 1419,
    "start_time": "2022-11-02T16:21:22.212Z"
   },
   {
    "duration": 748,
    "start_time": "2022-11-02T16:23:04.036Z"
   },
   {
    "duration": 604,
    "start_time": "2022-11-02T16:23:31.607Z"
   },
   {
    "duration": 740,
    "start_time": "2022-11-02T16:23:42.525Z"
   },
   {
    "duration": 759,
    "start_time": "2022-11-02T16:24:06.273Z"
   },
   {
    "duration": 70,
    "start_time": "2022-11-02T16:24:18.608Z"
   },
   {
    "duration": 44,
    "start_time": "2022-11-02T16:25:11.966Z"
   },
   {
    "duration": 11,
    "start_time": "2022-11-02T16:25:12.661Z"
   },
   {
    "duration": 1189,
    "start_time": "2022-11-02T16:25:46.641Z"
   },
   {
    "duration": 33,
    "start_time": "2022-11-02T16:25:47.832Z"
   },
   {
    "duration": 266,
    "start_time": "2022-11-02T16:25:47.867Z"
   },
   {
    "duration": 8,
    "start_time": "2022-11-02T16:25:48.135Z"
   },
   {
    "duration": 10,
    "start_time": "2022-11-02T16:25:48.145Z"
   },
   {
    "duration": 14,
    "start_time": "2022-11-02T16:25:48.156Z"
   },
   {
    "duration": 13,
    "start_time": "2022-11-02T16:25:48.171Z"
   },
   {
    "duration": 9,
    "start_time": "2022-11-02T16:25:48.185Z"
   },
   {
    "duration": 17,
    "start_time": "2022-11-02T16:25:48.195Z"
   },
   {
    "duration": 5,
    "start_time": "2022-11-02T16:25:48.223Z"
   },
   {
    "duration": 24,
    "start_time": "2022-11-02T16:25:48.229Z"
   },
   {
    "duration": 65,
    "start_time": "2022-11-02T16:25:48.257Z"
   },
   {
    "duration": 28,
    "start_time": "2022-11-02T16:25:48.324Z"
   },
   {
    "duration": 9,
    "start_time": "2022-11-02T16:25:48.354Z"
   },
   {
    "duration": 18,
    "start_time": "2022-11-02T16:25:48.365Z"
   },
   {
    "duration": 57,
    "start_time": "2022-11-02T16:25:48.384Z"
   },
   {
    "duration": 5,
    "start_time": "2022-11-02T16:25:48.443Z"
   },
   {
    "duration": 8,
    "start_time": "2022-11-02T16:25:48.449Z"
   },
   {
    "duration": 28,
    "start_time": "2022-11-02T16:25:48.459Z"
   },
   {
    "duration": 40,
    "start_time": "2022-11-02T16:25:48.488Z"
   },
   {
    "duration": 13,
    "start_time": "2022-11-02T16:25:48.529Z"
   },
   {
    "duration": 20,
    "start_time": "2022-11-02T16:25:48.544Z"
   },
   {
    "duration": 14,
    "start_time": "2022-11-02T16:25:48.565Z"
   },
   {
    "duration": 4,
    "start_time": "2022-11-02T16:25:48.581Z"
   },
   {
    "duration": 687,
    "start_time": "2022-11-02T16:25:48.587Z"
   },
   {
    "duration": 621,
    "start_time": "2022-11-02T16:25:49.276Z"
   },
   {
    "duration": 219,
    "start_time": "2022-11-02T16:25:49.899Z"
   },
   {
    "duration": 246,
    "start_time": "2022-11-02T16:25:50.122Z"
   },
   {
    "duration": 77,
    "start_time": "2022-11-02T16:25:50.369Z"
   },
   {
    "duration": 714,
    "start_time": "2022-11-02T16:25:50.447Z"
   },
   {
    "duration": 6,
    "start_time": "2022-11-02T16:25:51.162Z"
   },
   {
    "duration": 27,
    "start_time": "2022-11-02T16:25:51.169Z"
   },
   {
    "duration": 6,
    "start_time": "2022-11-02T16:25:51.198Z"
   },
   {
    "duration": 40,
    "start_time": "2022-11-02T16:25:51.206Z"
   },
   {
    "duration": 142,
    "start_time": "2022-11-02T16:25:51.248Z"
   },
   {
    "duration": 13,
    "start_time": "2022-11-02T16:25:51.392Z"
   },
   {
    "duration": 734,
    "start_time": "2022-11-02T16:25:51.407Z"
   },
   {
    "duration": 26,
    "start_time": "2022-11-02T16:25:52.143Z"
   },
   {
    "duration": 757,
    "start_time": "2022-11-02T16:25:52.170Z"
   },
   {
    "duration": 176,
    "start_time": "2022-11-02T16:25:52.928Z"
   },
   {
    "duration": 18,
    "start_time": "2022-11-02T16:25:53.105Z"
   },
   {
    "duration": 5,
    "start_time": "2022-11-02T16:25:53.125Z"
   },
   {
    "duration": 25,
    "start_time": "2022-11-02T16:25:53.132Z"
   },
   {
    "duration": 93,
    "start_time": "2022-11-02T16:25:53.159Z"
   },
   {
    "duration": 8,
    "start_time": "2022-11-02T16:25:53.253Z"
   },
   {
    "duration": 89,
    "start_time": "2022-11-02T16:25:53.263Z"
   },
   {
    "duration": 11,
    "start_time": "2022-11-02T16:25:53.353Z"
   },
   {
    "duration": 41,
    "start_time": "2022-11-02T16:36:26.075Z"
   },
   {
    "duration": 11,
    "start_time": "2022-11-02T16:36:39.924Z"
   },
   {
    "duration": 11,
    "start_time": "2022-11-02T16:46:54.403Z"
   },
   {
    "duration": 11,
    "start_time": "2022-11-02T16:47:53.675Z"
   },
   {
    "duration": 12,
    "start_time": "2022-11-02T16:47:55.165Z"
   },
   {
    "duration": 108,
    "start_time": "2022-11-02T16:48:34.562Z"
   },
   {
    "duration": 15,
    "start_time": "2022-11-02T16:48:50.784Z"
   },
   {
    "duration": 16,
    "start_time": "2022-11-02T16:49:06.154Z"
   },
   {
    "duration": 10,
    "start_time": "2022-11-02T16:49:11.918Z"
   },
   {
    "duration": 14,
    "start_time": "2022-11-02T16:49:16.499Z"
   },
   {
    "duration": 23,
    "start_time": "2022-11-02T16:49:26.022Z"
   },
   {
    "duration": 22,
    "start_time": "2022-11-02T16:49:35.325Z"
   },
   {
    "duration": 23,
    "start_time": "2022-11-02T16:49:43.363Z"
   },
   {
    "duration": 21,
    "start_time": "2022-11-02T16:49:52.075Z"
   },
   {
    "duration": 25,
    "start_time": "2022-11-02T16:50:37.039Z"
   },
   {
    "duration": 27,
    "start_time": "2022-11-02T16:50:45.271Z"
   },
   {
    "duration": 75,
    "start_time": "2022-11-02T16:51:07.837Z"
   },
   {
    "duration": 29,
    "start_time": "2022-11-02T16:51:13.496Z"
   },
   {
    "duration": 24,
    "start_time": "2022-11-02T16:51:26.072Z"
   },
   {
    "duration": 56,
    "start_time": "2022-11-02T16:52:57.243Z"
   },
   {
    "duration": 41,
    "start_time": "2022-11-02T17:26:09.770Z"
   },
   {
    "duration": 19,
    "start_time": "2022-11-02T17:26:12.218Z"
   },
   {
    "duration": 13,
    "start_time": "2022-11-02T17:26:21.145Z"
   },
   {
    "duration": 18,
    "start_time": "2022-11-02T17:26:26.208Z"
   },
   {
    "duration": 47,
    "start_time": "2022-11-02T17:26:38.018Z"
   },
   {
    "duration": 20,
    "start_time": "2022-11-02T17:26:48.717Z"
   },
   {
    "duration": 17,
    "start_time": "2022-11-02T17:27:05.671Z"
   },
   {
    "duration": 15,
    "start_time": "2022-11-02T17:27:22.722Z"
   },
   {
    "duration": 19,
    "start_time": "2022-11-02T17:27:29.293Z"
   },
   {
    "duration": 13,
    "start_time": "2022-11-02T17:27:38.749Z"
   },
   {
    "duration": 44,
    "start_time": "2022-11-02T17:34:25.320Z"
   },
   {
    "duration": 11,
    "start_time": "2022-11-02T17:34:25.891Z"
   },
   {
    "duration": 14,
    "start_time": "2022-11-02T17:34:43.085Z"
   },
   {
    "duration": 23,
    "start_time": "2022-11-02T17:34:57.538Z"
   },
   {
    "duration": 19,
    "start_time": "2022-11-02T17:35:04.178Z"
   },
   {
    "duration": 14,
    "start_time": "2022-11-02T17:35:11.932Z"
   },
   {
    "duration": 113,
    "start_time": "2022-11-02T17:36:00.774Z"
   },
   {
    "duration": 49,
    "start_time": "2022-11-02T17:36:13.488Z"
   },
   {
    "duration": 58,
    "start_time": "2022-11-02T17:36:49.457Z"
   },
   {
    "duration": 55,
    "start_time": "2022-11-02T17:38:26.156Z"
   },
   {
    "duration": 58,
    "start_time": "2022-11-02T17:38:35.833Z"
   },
   {
    "duration": 57,
    "start_time": "2022-11-02T17:39:20.689Z"
   },
   {
    "duration": 48,
    "start_time": "2022-11-02T17:40:28.183Z"
   },
   {
    "duration": 7,
    "start_time": "2022-11-02T17:41:32.711Z"
   },
   {
    "duration": 12,
    "start_time": "2022-11-02T17:41:57.535Z"
   },
   {
    "duration": 10,
    "start_time": "2022-11-02T17:42:01.346Z"
   },
   {
    "duration": 48,
    "start_time": "2022-11-02T17:47:54.737Z"
   },
   {
    "duration": 6,
    "start_time": "2022-11-02T17:49:05.096Z"
   },
   {
    "duration": 15,
    "start_time": "2022-11-02T17:55:43.282Z"
   },
   {
    "duration": 35,
    "start_time": "2022-11-02T17:56:26.383Z"
   },
   {
    "duration": 701,
    "start_time": "2022-11-02T18:00:47.702Z"
   },
   {
    "duration": 6,
    "start_time": "2022-11-02T18:01:30.121Z"
   },
   {
    "duration": 6,
    "start_time": "2022-11-02T18:01:47.876Z"
   },
   {
    "duration": 5,
    "start_time": "2022-11-02T18:03:16.025Z"
   },
   {
    "duration": 3,
    "start_time": "2022-11-02T18:03:26.999Z"
   },
   {
    "duration": 6,
    "start_time": "2022-11-02T18:03:30.452Z"
   },
   {
    "duration": 6,
    "start_time": "2022-11-02T18:03:37.651Z"
   },
   {
    "duration": 6,
    "start_time": "2022-11-02T18:03:41.426Z"
   },
   {
    "duration": 6,
    "start_time": "2022-11-02T18:04:15.931Z"
   },
   {
    "duration": 9,
    "start_time": "2022-11-02T18:04:27.237Z"
   },
   {
    "duration": 62,
    "start_time": "2022-11-02T18:04:42.986Z"
   },
   {
    "duration": 12,
    "start_time": "2022-11-02T18:04:46.356Z"
   },
   {
    "duration": 51,
    "start_time": "2022-11-02T18:04:53.475Z"
   },
   {
    "duration": 10,
    "start_time": "2022-11-02T18:04:59.891Z"
   },
   {
    "duration": 11,
    "start_time": "2022-11-02T18:05:22.769Z"
   },
   {
    "duration": 8,
    "start_time": "2022-11-02T18:05:28.623Z"
   },
   {
    "duration": 11,
    "start_time": "2022-11-02T18:05:32.749Z"
   },
   {
    "duration": 7,
    "start_time": "2022-11-02T18:06:20.988Z"
   },
   {
    "duration": 11,
    "start_time": "2022-11-02T18:06:32.121Z"
   },
   {
    "duration": 7,
    "start_time": "2022-11-02T18:06:33.781Z"
   },
   {
    "duration": 1116,
    "start_time": "2022-11-02T18:06:58.931Z"
   },
   {
    "duration": 1807,
    "start_time": "2022-11-02T18:07:03.490Z"
   },
   {
    "duration": 6,
    "start_time": "2022-11-02T18:07:14.363Z"
   },
   {
    "duration": 781,
    "start_time": "2022-11-02T18:07:34.697Z"
   },
   {
    "duration": 731,
    "start_time": "2022-11-02T18:07:44.693Z"
   },
   {
    "duration": 4,
    "start_time": "2022-11-02T18:08:45.459Z"
   },
   {
    "duration": 756,
    "start_time": "2022-11-02T18:08:48.969Z"
   },
   {
    "duration": 5,
    "start_time": "2022-11-02T18:08:51.391Z"
   },
   {
    "duration": 12,
    "start_time": "2022-11-02T18:08:57.813Z"
   },
   {
    "duration": 7,
    "start_time": "2022-11-02T18:09:00.596Z"
   },
   {
    "duration": 4,
    "start_time": "2022-11-02T18:09:09.794Z"
   },
   {
    "duration": 687,
    "start_time": "2022-11-02T18:09:37.608Z"
   },
   {
    "duration": 5,
    "start_time": "2022-11-02T18:09:40.677Z"
   },
   {
    "duration": 4,
    "start_time": "2022-11-02T18:10:47.611Z"
   },
   {
    "duration": 10,
    "start_time": "2022-11-02T18:11:59.542Z"
   },
   {
    "duration": 8,
    "start_time": "2022-11-02T18:12:08.737Z"
   },
   {
    "duration": 8,
    "start_time": "2022-11-02T18:14:30.911Z"
   },
   {
    "duration": 7,
    "start_time": "2022-11-02T18:30:12.479Z"
   },
   {
    "duration": 8,
    "start_time": "2022-11-02T18:30:19.925Z"
   },
   {
    "duration": 15,
    "start_time": "2022-11-02T18:30:25.986Z"
   },
   {
    "duration": 16,
    "start_time": "2022-11-02T18:31:08.859Z"
   },
   {
    "duration": 20,
    "start_time": "2022-11-02T18:31:23.051Z"
   },
   {
    "duration": 4,
    "start_time": "2022-11-02T18:36:00.774Z"
   },
   {
    "duration": 14,
    "start_time": "2022-11-02T18:36:09.955Z"
   },
   {
    "duration": 21,
    "start_time": "2022-11-02T18:36:35.891Z"
   },
   {
    "duration": 10,
    "start_time": "2022-11-02T18:37:07.581Z"
   },
   {
    "duration": 10,
    "start_time": "2022-11-02T18:37:20.757Z"
   },
   {
    "duration": 43,
    "start_time": "2022-11-02T18:37:37.191Z"
   },
   {
    "duration": 15,
    "start_time": "2022-11-02T18:37:40.155Z"
   },
   {
    "duration": 16,
    "start_time": "2022-11-02T18:37:45.162Z"
   },
   {
    "duration": 12,
    "start_time": "2022-11-02T18:37:59.048Z"
   },
   {
    "duration": 21,
    "start_time": "2022-11-02T18:38:46.077Z"
   },
   {
    "duration": 6,
    "start_time": "2022-11-02T18:39:29.438Z"
   },
   {
    "duration": 6,
    "start_time": "2022-11-02T18:39:30.072Z"
   },
   {
    "duration": 7,
    "start_time": "2022-11-02T18:39:30.445Z"
   },
   {
    "duration": 13,
    "start_time": "2022-11-02T18:39:31.559Z"
   },
   {
    "duration": 26,
    "start_time": "2022-11-02T18:39:33.025Z"
   },
   {
    "duration": 19,
    "start_time": "2022-11-02T18:42:00.110Z"
   },
   {
    "duration": 24,
    "start_time": "2022-11-02T18:42:42.677Z"
   },
   {
    "duration": 23,
    "start_time": "2022-11-02T18:43:04.326Z"
   },
   {
    "duration": 21,
    "start_time": "2022-11-02T18:43:13.732Z"
   },
   {
    "duration": 25,
    "start_time": "2022-11-02T18:43:25.168Z"
   },
   {
    "duration": 25,
    "start_time": "2022-11-02T18:43:30.509Z"
   },
   {
    "duration": 16,
    "start_time": "2022-11-02T18:44:24.061Z"
   },
   {
    "duration": 16,
    "start_time": "2022-11-02T18:44:55.074Z"
   },
   {
    "duration": 15,
    "start_time": "2022-11-02T18:44:58.606Z"
   },
   {
    "duration": 8,
    "start_time": "2022-11-02T18:45:22.631Z"
   },
   {
    "duration": 8,
    "start_time": "2022-11-02T18:45:49.845Z"
   },
   {
    "duration": 22,
    "start_time": "2022-11-02T18:45:52.099Z"
   },
   {
    "duration": 11,
    "start_time": "2022-11-02T18:45:53.748Z"
   },
   {
    "duration": 77,
    "start_time": "2022-11-02T18:46:17.683Z"
   },
   {
    "duration": 11,
    "start_time": "2022-11-02T18:46:21.960Z"
   },
   {
    "duration": 9,
    "start_time": "2022-11-02T18:46:59.607Z"
   },
   {
    "duration": 9,
    "start_time": "2022-11-02T18:47:14.890Z"
   },
   {
    "duration": 8,
    "start_time": "2022-11-02T18:47:23.025Z"
   },
   {
    "duration": 8,
    "start_time": "2022-11-02T18:47:50.219Z"
   },
   {
    "duration": 45,
    "start_time": "2022-11-02T18:47:57.257Z"
   },
   {
    "duration": 43,
    "start_time": "2022-11-02T18:48:55.056Z"
   },
   {
    "duration": 58,
    "start_time": "2022-11-02T18:49:17.301Z"
   },
   {
    "duration": 10,
    "start_time": "2022-11-02T18:49:30.741Z"
   },
   {
    "duration": 6,
    "start_time": "2022-11-02T18:49:50.725Z"
   },
   {
    "duration": 8,
    "start_time": "2022-11-02T18:50:08.892Z"
   },
   {
    "duration": 4,
    "start_time": "2022-11-02T18:50:43.285Z"
   },
   {
    "duration": 3,
    "start_time": "2022-11-02T20:07:18.099Z"
   },
   {
    "duration": 241,
    "start_time": "2022-11-02T20:12:06.134Z"
   },
   {
    "duration": 252,
    "start_time": "2022-11-02T20:19:43.416Z"
   },
   {
    "duration": 275,
    "start_time": "2022-11-02T20:20:00.407Z"
   },
   {
    "duration": 7,
    "start_time": "2022-11-02T20:22:41.035Z"
   },
   {
    "duration": 658,
    "start_time": "2022-11-02T20:29:11.403Z"
   },
   {
    "duration": 4,
    "start_time": "2022-11-02T20:31:38.668Z"
   },
   {
    "duration": 5,
    "start_time": "2022-11-02T20:40:32.973Z"
   },
   {
    "duration": 635,
    "start_time": "2022-11-02T20:45:28.692Z"
   },
   {
    "duration": 13,
    "start_time": "2022-11-02T20:47:40.827Z"
   },
   {
    "duration": 1167,
    "start_time": "2022-11-02T20:47:55.909Z"
   },
   {
    "duration": 28,
    "start_time": "2022-11-02T20:47:57.078Z"
   },
   {
    "duration": 343,
    "start_time": "2022-11-02T20:47:57.107Z"
   },
   {
    "duration": 12,
    "start_time": "2022-11-02T20:47:57.452Z"
   },
   {
    "duration": 7,
    "start_time": "2022-11-02T20:47:57.465Z"
   },
   {
    "duration": 12,
    "start_time": "2022-11-02T20:47:57.474Z"
   },
   {
    "duration": 10,
    "start_time": "2022-11-02T20:47:57.488Z"
   },
   {
    "duration": 25,
    "start_time": "2022-11-02T20:47:57.500Z"
   },
   {
    "duration": 20,
    "start_time": "2022-11-02T20:47:57.526Z"
   },
   {
    "duration": 5,
    "start_time": "2022-11-02T20:47:57.549Z"
   },
   {
    "duration": 17,
    "start_time": "2022-11-02T20:47:57.556Z"
   },
   {
    "duration": 79,
    "start_time": "2022-11-02T20:47:57.574Z"
   },
   {
    "duration": 24,
    "start_time": "2022-11-02T20:47:57.655Z"
   },
   {
    "duration": 10,
    "start_time": "2022-11-02T20:47:57.680Z"
   },
   {
    "duration": 38,
    "start_time": "2022-11-02T20:47:57.691Z"
   },
   {
    "duration": 38,
    "start_time": "2022-11-02T20:47:57.731Z"
   },
   {
    "duration": 5,
    "start_time": "2022-11-02T20:47:57.771Z"
   },
   {
    "duration": 6,
    "start_time": "2022-11-02T20:47:57.777Z"
   },
   {
    "duration": 51,
    "start_time": "2022-11-02T20:47:57.784Z"
   },
   {
    "duration": 17,
    "start_time": "2022-11-02T20:47:57.837Z"
   },
   {
    "duration": 12,
    "start_time": "2022-11-02T20:47:57.855Z"
   },
   {
    "duration": 15,
    "start_time": "2022-11-02T20:47:57.869Z"
   },
   {
    "duration": 38,
    "start_time": "2022-11-02T20:47:57.885Z"
   },
   {
    "duration": 4,
    "start_time": "2022-11-02T20:47:57.925Z"
   },
   {
    "duration": 645,
    "start_time": "2022-11-02T20:47:57.931Z"
   },
   {
    "duration": 732,
    "start_time": "2022-11-02T20:47:58.577Z"
   },
   {
    "duration": 0,
    "start_time": "2022-11-02T20:47:59.311Z"
   },
   {
    "duration": 0,
    "start_time": "2022-11-02T20:47:59.313Z"
   },
   {
    "duration": 0,
    "start_time": "2022-11-02T20:47:59.314Z"
   },
   {
    "duration": 0,
    "start_time": "2022-11-02T20:47:59.315Z"
   },
   {
    "duration": 0,
    "start_time": "2022-11-02T20:47:59.321Z"
   },
   {
    "duration": 0,
    "start_time": "2022-11-02T20:47:59.322Z"
   },
   {
    "duration": 0,
    "start_time": "2022-11-02T20:47:59.323Z"
   },
   {
    "duration": 0,
    "start_time": "2022-11-02T20:47:59.324Z"
   },
   {
    "duration": 0,
    "start_time": "2022-11-02T20:47:59.325Z"
   },
   {
    "duration": 0,
    "start_time": "2022-11-02T20:47:59.326Z"
   },
   {
    "duration": 0,
    "start_time": "2022-11-02T20:47:59.327Z"
   },
   {
    "duration": 0,
    "start_time": "2022-11-02T20:47:59.328Z"
   },
   {
    "duration": 0,
    "start_time": "2022-11-02T20:47:59.329Z"
   },
   {
    "duration": 0,
    "start_time": "2022-11-02T20:47:59.330Z"
   },
   {
    "duration": 0,
    "start_time": "2022-11-02T20:47:59.331Z"
   },
   {
    "duration": 0,
    "start_time": "2022-11-02T20:47:59.333Z"
   },
   {
    "duration": 0,
    "start_time": "2022-11-02T20:47:59.334Z"
   },
   {
    "duration": 0,
    "start_time": "2022-11-02T20:47:59.335Z"
   },
   {
    "duration": 0,
    "start_time": "2022-11-02T20:47:59.336Z"
   },
   {
    "duration": 0,
    "start_time": "2022-11-02T20:47:59.337Z"
   },
   {
    "duration": 0,
    "start_time": "2022-11-02T20:47:59.338Z"
   },
   {
    "duration": 0,
    "start_time": "2022-11-02T20:47:59.339Z"
   },
   {
    "duration": 0,
    "start_time": "2022-11-02T20:47:59.340Z"
   },
   {
    "duration": 0,
    "start_time": "2022-11-02T20:47:59.341Z"
   },
   {
    "duration": 551,
    "start_time": "2022-11-02T20:48:20.849Z"
   },
   {
    "duration": 572,
    "start_time": "2022-11-02T20:48:49.300Z"
   },
   {
    "duration": 1138,
    "start_time": "2022-11-02T20:48:55.526Z"
   },
   {
    "duration": 25,
    "start_time": "2022-11-02T20:48:56.666Z"
   },
   {
    "duration": 229,
    "start_time": "2022-11-02T20:48:56.692Z"
   },
   {
    "duration": 9,
    "start_time": "2022-11-02T20:48:56.922Z"
   },
   {
    "duration": 5,
    "start_time": "2022-11-02T20:48:56.934Z"
   },
   {
    "duration": 10,
    "start_time": "2022-11-02T20:48:56.941Z"
   },
   {
    "duration": 13,
    "start_time": "2022-11-02T20:48:56.953Z"
   },
   {
    "duration": 7,
    "start_time": "2022-11-02T20:48:56.968Z"
   },
   {
    "duration": 16,
    "start_time": "2022-11-02T20:48:56.977Z"
   },
   {
    "duration": 5,
    "start_time": "2022-11-02T20:48:57.021Z"
   },
   {
    "duration": 17,
    "start_time": "2022-11-02T20:48:57.027Z"
   },
   {
    "duration": 59,
    "start_time": "2022-11-02T20:48:57.045Z"
   },
   {
    "duration": 24,
    "start_time": "2022-11-02T20:48:57.122Z"
   },
   {
    "duration": 9,
    "start_time": "2022-11-02T20:48:57.149Z"
   },
   {
    "duration": 20,
    "start_time": "2022-11-02T20:48:57.159Z"
   },
   {
    "duration": 53,
    "start_time": "2022-11-02T20:48:57.180Z"
   },
   {
    "duration": 5,
    "start_time": "2022-11-02T20:48:57.234Z"
   },
   {
    "duration": 8,
    "start_time": "2022-11-02T20:48:57.240Z"
   },
   {
    "duration": 27,
    "start_time": "2022-11-02T20:48:57.249Z"
   },
   {
    "duration": 16,
    "start_time": "2022-11-02T20:48:57.278Z"
   },
   {
    "duration": 35,
    "start_time": "2022-11-02T20:48:57.295Z"
   },
   {
    "duration": 15,
    "start_time": "2022-11-02T20:48:57.331Z"
   },
   {
    "duration": 14,
    "start_time": "2022-11-02T20:48:57.347Z"
   },
   {
    "duration": 10,
    "start_time": "2022-11-02T20:48:57.362Z"
   },
   {
    "duration": 646,
    "start_time": "2022-11-02T20:48:57.373Z"
   },
   {
    "duration": 582,
    "start_time": "2022-11-02T20:48:58.022Z"
   },
   {
    "duration": 218,
    "start_time": "2022-11-02T20:48:58.606Z"
   },
   {
    "duration": 308,
    "start_time": "2022-11-02T20:48:58.826Z"
   },
   {
    "duration": 57,
    "start_time": "2022-11-02T20:48:59.136Z"
   },
   {
    "duration": 723,
    "start_time": "2022-11-02T20:48:59.194Z"
   },
   {
    "duration": 5,
    "start_time": "2022-11-02T20:48:59.921Z"
   },
   {
    "duration": 17,
    "start_time": "2022-11-02T20:48:59.927Z"
   },
   {
    "duration": 5,
    "start_time": "2022-11-02T20:48:59.946Z"
   },
   {
    "duration": 29,
    "start_time": "2022-11-02T20:48:59.952Z"
   },
   {
    "duration": 162,
    "start_time": "2022-11-02T20:48:59.983Z"
   },
   {
    "duration": 13,
    "start_time": "2022-11-02T20:49:00.147Z"
   },
   {
    "duration": 782,
    "start_time": "2022-11-02T20:49:00.162Z"
   },
   {
    "duration": 885,
    "start_time": "2022-11-02T20:49:00.945Z"
   },
   {
    "duration": 187,
    "start_time": "2022-11-02T20:49:01.832Z"
   },
   {
    "duration": 10,
    "start_time": "2022-11-02T20:49:02.022Z"
   },
   {
    "duration": 28,
    "start_time": "2022-11-02T20:49:02.035Z"
   },
   {
    "duration": 75,
    "start_time": "2022-11-02T20:49:02.065Z"
   },
   {
    "duration": 50,
    "start_time": "2022-11-02T20:49:02.142Z"
   },
   {
    "duration": 7,
    "start_time": "2022-11-02T20:49:02.194Z"
   },
   {
    "duration": 83,
    "start_time": "2022-11-02T20:49:02.203Z"
   },
   {
    "duration": 7,
    "start_time": "2022-11-02T20:49:02.287Z"
   },
   {
    "duration": 46,
    "start_time": "2022-11-02T20:49:02.295Z"
   },
   {
    "duration": 27,
    "start_time": "2022-11-02T20:49:02.342Z"
   },
   {
    "duration": 65,
    "start_time": "2022-11-02T20:49:02.371Z"
   },
   {
    "duration": 26,
    "start_time": "2022-11-02T20:49:02.437Z"
   },
   {
    "duration": 802,
    "start_time": "2022-11-02T20:52:16.146Z"
   },
   {
    "duration": 775,
    "start_time": "2022-11-02T20:52:44.295Z"
   },
   {
    "duration": 1231,
    "start_time": "2022-11-02T21:09:19.121Z"
   },
   {
    "duration": 31,
    "start_time": "2022-11-02T21:09:20.354Z"
   },
   {
    "duration": 183,
    "start_time": "2022-11-02T21:09:20.387Z"
   },
   {
    "duration": 9,
    "start_time": "2022-11-02T21:09:20.571Z"
   },
   {
    "duration": 36,
    "start_time": "2022-11-02T21:09:20.581Z"
   },
   {
    "duration": 34,
    "start_time": "2022-11-02T21:09:20.619Z"
   },
   {
    "duration": 39,
    "start_time": "2022-11-02T21:09:20.655Z"
   },
   {
    "duration": 29,
    "start_time": "2022-11-02T21:09:20.695Z"
   },
   {
    "duration": 41,
    "start_time": "2022-11-02T21:09:20.726Z"
   },
   {
    "duration": 35,
    "start_time": "2022-11-02T21:09:20.769Z"
   },
   {
    "duration": 45,
    "start_time": "2022-11-02T21:09:20.806Z"
   },
   {
    "duration": 67,
    "start_time": "2022-11-02T21:09:20.853Z"
   },
   {
    "duration": 25,
    "start_time": "2022-11-02T21:09:20.922Z"
   },
   {
    "duration": 9,
    "start_time": "2022-11-02T21:09:20.950Z"
   },
   {
    "duration": 51,
    "start_time": "2022-11-02T21:09:20.960Z"
   },
   {
    "duration": 47,
    "start_time": "2022-11-02T21:09:21.013Z"
   },
   {
    "duration": 6,
    "start_time": "2022-11-02T21:09:21.062Z"
   },
   {
    "duration": 40,
    "start_time": "2022-11-02T21:09:21.070Z"
   },
   {
    "duration": 45,
    "start_time": "2022-11-02T21:09:21.111Z"
   },
   {
    "duration": 20,
    "start_time": "2022-11-02T21:09:21.158Z"
   },
   {
    "duration": 32,
    "start_time": "2022-11-02T21:09:21.179Z"
   },
   {
    "duration": 47,
    "start_time": "2022-11-02T21:09:21.212Z"
   },
   {
    "duration": 51,
    "start_time": "2022-11-02T21:09:21.261Z"
   },
   {
    "duration": 28,
    "start_time": "2022-11-02T21:09:21.313Z"
   },
   {
    "duration": 646,
    "start_time": "2022-11-02T21:09:21.342Z"
   },
   {
    "duration": 603,
    "start_time": "2022-11-02T21:09:21.990Z"
   },
   {
    "duration": 235,
    "start_time": "2022-11-02T21:09:22.595Z"
   },
   {
    "duration": 253,
    "start_time": "2022-11-02T21:09:22.831Z"
   },
   {
    "duration": 771,
    "start_time": "2022-11-02T21:09:23.086Z"
   },
   {
    "duration": 5,
    "start_time": "2022-11-02T21:09:23.859Z"
   },
   {
    "duration": 29,
    "start_time": "2022-11-02T21:09:23.866Z"
   },
   {
    "duration": 14,
    "start_time": "2022-11-02T21:09:23.897Z"
   },
   {
    "duration": 49,
    "start_time": "2022-11-02T21:09:23.913Z"
   },
   {
    "duration": 154,
    "start_time": "2022-11-02T21:09:23.964Z"
   },
   {
    "duration": 19,
    "start_time": "2022-11-02T21:09:24.122Z"
   },
   {
    "duration": 802,
    "start_time": "2022-11-02T21:09:24.143Z"
   },
   {
    "duration": 799,
    "start_time": "2022-11-02T21:09:24.946Z"
   },
   {
    "duration": 193,
    "start_time": "2022-11-02T21:09:25.747Z"
   },
   {
    "duration": 10,
    "start_time": "2022-11-02T21:09:25.941Z"
   },
   {
    "duration": 11,
    "start_time": "2022-11-02T21:09:25.953Z"
   },
   {
    "duration": 74,
    "start_time": "2022-11-02T21:09:25.968Z"
   },
   {
    "duration": 98,
    "start_time": "2022-11-02T21:09:26.044Z"
   },
   {
    "duration": 11,
    "start_time": "2022-11-02T21:09:26.144Z"
   },
   {
    "duration": 70,
    "start_time": "2022-11-02T21:09:26.157Z"
   },
   {
    "duration": 8,
    "start_time": "2022-11-02T21:09:26.229Z"
   },
   {
    "duration": 21,
    "start_time": "2022-11-02T21:09:26.238Z"
   },
   {
    "duration": 19,
    "start_time": "2022-11-02T21:09:26.260Z"
   },
   {
    "duration": 42,
    "start_time": "2022-11-02T21:09:26.281Z"
   },
   {
    "duration": 5,
    "start_time": "2022-11-02T21:09:26.325Z"
   },
   {
    "duration": 1410,
    "start_time": "2022-11-03T08:38:11.733Z"
   },
   {
    "duration": 42,
    "start_time": "2022-11-03T08:38:13.146Z"
   },
   {
    "duration": 200,
    "start_time": "2022-11-03T08:38:13.190Z"
   },
   {
    "duration": 9,
    "start_time": "2022-11-03T08:38:13.392Z"
   },
   {
    "duration": 20,
    "start_time": "2022-11-03T08:38:13.402Z"
   },
   {
    "duration": 32,
    "start_time": "2022-11-03T08:38:13.424Z"
   },
   {
    "duration": 13,
    "start_time": "2022-11-03T08:38:13.458Z"
   },
   {
    "duration": 12,
    "start_time": "2022-11-03T08:38:13.473Z"
   },
   {
    "duration": 47,
    "start_time": "2022-11-03T08:38:13.486Z"
   },
   {
    "duration": 6,
    "start_time": "2022-11-03T08:38:13.536Z"
   },
   {
    "duration": 21,
    "start_time": "2022-11-03T08:38:13.543Z"
   },
   {
    "duration": 66,
    "start_time": "2022-11-03T08:38:13.566Z"
   },
   {
    "duration": 26,
    "start_time": "2022-11-03T08:38:13.633Z"
   },
   {
    "duration": 9,
    "start_time": "2022-11-03T08:38:13.661Z"
   },
   {
    "duration": 19,
    "start_time": "2022-11-03T08:38:13.672Z"
   },
   {
    "duration": 47,
    "start_time": "2022-11-03T08:38:13.709Z"
   },
   {
    "duration": 6,
    "start_time": "2022-11-03T08:38:13.758Z"
   },
   {
    "duration": 7,
    "start_time": "2022-11-03T08:38:13.766Z"
   },
   {
    "duration": 52,
    "start_time": "2022-11-03T08:38:13.775Z"
   },
   {
    "duration": 20,
    "start_time": "2022-11-03T08:38:13.829Z"
   },
   {
    "duration": 13,
    "start_time": "2022-11-03T08:38:13.851Z"
   },
   {
    "duration": 47,
    "start_time": "2022-11-03T08:38:13.866Z"
   },
   {
    "duration": 16,
    "start_time": "2022-11-03T08:38:13.915Z"
   },
   {
    "duration": 6,
    "start_time": "2022-11-03T08:38:13.932Z"
   },
   {
    "duration": 671,
    "start_time": "2022-11-03T08:38:13.940Z"
   },
   {
    "duration": 656,
    "start_time": "2022-11-03T08:38:14.613Z"
   },
   {
    "duration": 236,
    "start_time": "2022-11-03T08:38:15.271Z"
   },
   {
    "duration": 266,
    "start_time": "2022-11-03T08:38:15.510Z"
   },
   {
    "duration": 806,
    "start_time": "2022-11-03T08:38:15.777Z"
   },
   {
    "duration": 6,
    "start_time": "2022-11-03T08:38:16.584Z"
   },
   {
    "duration": 46,
    "start_time": "2022-11-03T08:38:16.591Z"
   },
   {
    "duration": 21,
    "start_time": "2022-11-03T08:38:16.639Z"
   },
   {
    "duration": 69,
    "start_time": "2022-11-03T08:38:16.661Z"
   },
   {
    "duration": 161,
    "start_time": "2022-11-03T08:38:16.731Z"
   },
   {
    "duration": 17,
    "start_time": "2022-11-03T08:38:16.893Z"
   },
   {
    "duration": 768,
    "start_time": "2022-11-03T08:38:16.912Z"
   },
   {
    "duration": 900,
    "start_time": "2022-11-03T08:38:17.682Z"
   },
   {
    "duration": 399,
    "start_time": "2022-11-03T08:38:18.584Z"
   },
   {
    "duration": 25,
    "start_time": "2022-11-03T08:38:18.984Z"
   },
   {
    "duration": 4,
    "start_time": "2022-11-03T08:38:19.010Z"
   },
   {
    "duration": 110,
    "start_time": "2022-11-03T08:38:19.015Z"
   },
   {
    "duration": 39,
    "start_time": "2022-11-03T08:38:19.128Z"
   },
   {
    "duration": 8,
    "start_time": "2022-11-03T08:38:19.168Z"
   },
   {
    "duration": 85,
    "start_time": "2022-11-03T08:38:19.178Z"
   },
   {
    "duration": 11,
    "start_time": "2022-11-03T08:38:19.265Z"
   },
   {
    "duration": 42,
    "start_time": "2022-11-03T08:38:19.278Z"
   },
   {
    "duration": 21,
    "start_time": "2022-11-03T08:38:19.322Z"
   },
   {
    "duration": 51,
    "start_time": "2022-11-03T08:38:19.344Z"
   },
   {
    "duration": 27,
    "start_time": "2022-11-03T08:38:19.396Z"
   },
   {
    "duration": 11,
    "start_time": "2022-11-03T08:48:50.452Z"
   },
   {
    "duration": 2298,
    "start_time": "2022-11-03T09:01:55.922Z"
   },
   {
    "duration": 40,
    "start_time": "2022-11-03T09:03:08.724Z"
   },
   {
    "duration": 27,
    "start_time": "2022-11-03T09:03:09.968Z"
   },
   {
    "duration": 319,
    "start_time": "2022-11-03T09:03:10.182Z"
   },
   {
    "duration": 11,
    "start_time": "2022-11-03T09:03:10.674Z"
   },
   {
    "duration": 8,
    "start_time": "2022-11-03T09:03:10.929Z"
   },
   {
    "duration": 13,
    "start_time": "2022-11-03T09:03:11.257Z"
   },
   {
    "duration": 12,
    "start_time": "2022-11-03T09:03:11.568Z"
   },
   {
    "duration": 9,
    "start_time": "2022-11-03T09:03:11.831Z"
   },
   {
    "duration": 18,
    "start_time": "2022-11-03T09:03:12.119Z"
   },
   {
    "duration": 6,
    "start_time": "2022-11-03T09:03:13.076Z"
   },
   {
    "duration": 82,
    "start_time": "2022-11-03T09:05:05.455Z"
   },
   {
    "duration": 52,
    "start_time": "2022-11-03T09:05:20.080Z"
   },
   {
    "duration": 3,
    "start_time": "2022-11-03T09:06:33.098Z"
   },
   {
    "duration": 84,
    "start_time": "2022-11-03T09:06:33.103Z"
   },
   {
    "duration": 209,
    "start_time": "2022-11-03T09:06:33.189Z"
   },
   {
    "duration": 7,
    "start_time": "2022-11-03T09:06:33.400Z"
   },
   {
    "duration": 10,
    "start_time": "2022-11-03T09:06:33.409Z"
   },
   {
    "duration": 17,
    "start_time": "2022-11-03T09:06:33.420Z"
   },
   {
    "duration": 21,
    "start_time": "2022-11-03T09:06:33.439Z"
   },
   {
    "duration": 16,
    "start_time": "2022-11-03T09:06:33.462Z"
   },
   {
    "duration": 20,
    "start_time": "2022-11-03T09:06:33.480Z"
   },
   {
    "duration": 6,
    "start_time": "2022-11-03T09:06:33.501Z"
   },
   {
    "duration": 32,
    "start_time": "2022-11-03T09:06:33.509Z"
   },
   {
    "duration": 70,
    "start_time": "2022-11-03T09:06:33.543Z"
   },
   {
    "duration": 45,
    "start_time": "2022-11-03T09:06:33.615Z"
   },
   {
    "duration": 11,
    "start_time": "2022-11-03T09:06:33.662Z"
   },
   {
    "duration": 23,
    "start_time": "2022-11-03T09:06:33.675Z"
   },
   {
    "duration": 64,
    "start_time": "2022-11-03T09:06:33.700Z"
   },
   {
    "duration": 6,
    "start_time": "2022-11-03T09:06:33.765Z"
   },
   {
    "duration": 12,
    "start_time": "2022-11-03T09:06:33.773Z"
   },
   {
    "duration": 32,
    "start_time": "2022-11-03T09:06:33.786Z"
   },
   {
    "duration": 40,
    "start_time": "2022-11-03T09:06:33.820Z"
   },
   {
    "duration": 13,
    "start_time": "2022-11-03T09:06:33.862Z"
   },
   {
    "duration": 22,
    "start_time": "2022-11-03T09:06:33.877Z"
   },
   {
    "duration": 15,
    "start_time": "2022-11-03T09:06:33.900Z"
   },
   {
    "duration": 5,
    "start_time": "2022-11-03T09:06:33.916Z"
   },
   {
    "duration": 697,
    "start_time": "2022-11-03T09:06:33.923Z"
   },
   {
    "duration": 655,
    "start_time": "2022-11-03T09:06:34.623Z"
   },
   {
    "duration": 249,
    "start_time": "2022-11-03T09:06:35.314Z"
   },
   {
    "duration": 273,
    "start_time": "2022-11-03T09:06:35.565Z"
   },
   {
    "duration": 1333,
    "start_time": "2022-11-03T09:06:35.841Z"
   },
   {
    "duration": 6,
    "start_time": "2022-11-03T09:06:37.176Z"
   },
   {
    "duration": 70,
    "start_time": "2022-11-03T09:06:37.184Z"
   },
   {
    "duration": 8,
    "start_time": "2022-11-03T09:06:37.256Z"
   },
   {
    "duration": 92,
    "start_time": "2022-11-03T09:06:37.265Z"
   },
   {
    "duration": 309,
    "start_time": "2022-11-03T09:06:37.358Z"
   },
   {
    "duration": 16,
    "start_time": "2022-11-03T09:06:37.669Z"
   },
   {
    "duration": 1496,
    "start_time": "2022-11-03T09:06:37.686Z"
   },
   {
    "duration": 1283,
    "start_time": "2022-11-03T09:06:39.184Z"
   },
   {
    "duration": 198,
    "start_time": "2022-11-03T09:06:40.468Z"
   },
   {
    "duration": 11,
    "start_time": "2022-11-03T09:06:40.668Z"
   },
   {
    "duration": 18,
    "start_time": "2022-11-03T09:06:40.680Z"
   },
   {
    "duration": 77,
    "start_time": "2022-11-03T09:06:40.700Z"
   },
   {
    "duration": 82,
    "start_time": "2022-11-03T09:06:40.779Z"
   },
   {
    "duration": 9,
    "start_time": "2022-11-03T09:06:40.863Z"
   },
   {
    "duration": 58,
    "start_time": "2022-11-03T09:06:40.873Z"
   },
   {
    "duration": 22,
    "start_time": "2022-11-03T09:06:40.933Z"
   },
   {
    "duration": 15,
    "start_time": "2022-11-03T09:06:40.956Z"
   },
   {
    "duration": 14,
    "start_time": "2022-11-03T09:06:40.973Z"
   },
   {
    "duration": 28,
    "start_time": "2022-11-03T09:06:40.989Z"
   },
   {
    "duration": 5,
    "start_time": "2022-11-03T09:06:41.019Z"
   },
   {
    "duration": 20,
    "start_time": "2022-11-03T09:07:23.909Z"
   },
   {
    "duration": 19,
    "start_time": "2022-11-03T09:07:38.140Z"
   },
   {
    "duration": 19,
    "start_time": "2022-11-03T09:07:44.304Z"
   },
   {
    "duration": 12,
    "start_time": "2022-11-03T09:07:48.376Z"
   },
   {
    "duration": 12,
    "start_time": "2022-11-03T09:08:12.192Z"
   },
   {
    "duration": 1258,
    "start_time": "2022-11-03T09:08:34.653Z"
   },
   {
    "duration": 31,
    "start_time": "2022-11-03T09:08:35.913Z"
   },
   {
    "duration": 212,
    "start_time": "2022-11-03T09:08:35.946Z"
   },
   {
    "duration": 10,
    "start_time": "2022-11-03T09:08:36.160Z"
   },
   {
    "duration": 10,
    "start_time": "2022-11-03T09:08:36.172Z"
   },
   {
    "duration": 18,
    "start_time": "2022-11-03T09:08:36.183Z"
   },
   {
    "duration": 13,
    "start_time": "2022-11-03T09:08:36.203Z"
   },
   {
    "duration": 10,
    "start_time": "2022-11-03T09:08:36.218Z"
   },
   {
    "duration": 35,
    "start_time": "2022-11-03T09:08:36.230Z"
   },
   {
    "duration": 6,
    "start_time": "2022-11-03T09:08:36.267Z"
   },
   {
    "duration": 20,
    "start_time": "2022-11-03T09:08:36.275Z"
   },
   {
    "duration": 78,
    "start_time": "2022-11-03T09:08:36.297Z"
   },
   {
    "duration": 28,
    "start_time": "2022-11-03T09:08:36.376Z"
   },
   {
    "duration": 9,
    "start_time": "2022-11-03T09:08:36.407Z"
   },
   {
    "duration": 39,
    "start_time": "2022-11-03T09:08:36.418Z"
   },
   {
    "duration": 47,
    "start_time": "2022-11-03T09:08:36.459Z"
   },
   {
    "duration": 6,
    "start_time": "2022-11-03T09:08:36.508Z"
   },
   {
    "duration": 8,
    "start_time": "2022-11-03T09:08:36.516Z"
   },
   {
    "duration": 62,
    "start_time": "2022-11-03T09:08:36.526Z"
   },
   {
    "duration": 19,
    "start_time": "2022-11-03T09:08:36.590Z"
   },
   {
    "duration": 13,
    "start_time": "2022-11-03T09:08:36.611Z"
   },
   {
    "duration": 59,
    "start_time": "2022-11-03T09:08:36.626Z"
   },
   {
    "duration": 14,
    "start_time": "2022-11-03T09:08:36.686Z"
   },
   {
    "duration": 32,
    "start_time": "2022-11-03T09:08:36.702Z"
   },
   {
    "duration": 36,
    "start_time": "2022-11-03T09:08:36.735Z"
   },
   {
    "duration": 727,
    "start_time": "2022-11-03T09:08:36.773Z"
   },
   {
    "duration": 687,
    "start_time": "2022-11-03T09:08:37.502Z"
   },
   {
    "duration": 255,
    "start_time": "2022-11-03T09:08:38.190Z"
   },
   {
    "duration": 312,
    "start_time": "2022-11-03T09:08:38.447Z"
   },
   {
    "duration": 1715,
    "start_time": "2022-11-03T09:08:38.761Z"
   },
   {
    "duration": 6,
    "start_time": "2022-11-03T09:08:40.478Z"
   },
   {
    "duration": 21,
    "start_time": "2022-11-03T09:08:40.486Z"
   },
   {
    "duration": 7,
    "start_time": "2022-11-03T09:08:40.555Z"
   },
   {
    "duration": 49,
    "start_time": "2022-11-03T09:08:40.564Z"
   },
   {
    "duration": 156,
    "start_time": "2022-11-03T09:08:40.615Z"
   },
   {
    "duration": 15,
    "start_time": "2022-11-03T09:08:40.773Z"
   },
   {
    "duration": 901,
    "start_time": "2022-11-03T09:08:40.790Z"
   },
   {
    "duration": 821,
    "start_time": "2022-11-03T09:08:41.693Z"
   },
   {
    "duration": 197,
    "start_time": "2022-11-03T09:08:42.515Z"
   },
   {
    "duration": 11,
    "start_time": "2022-11-03T09:08:42.713Z"
   },
   {
    "duration": 30,
    "start_time": "2022-11-03T09:08:42.727Z"
   },
   {
    "duration": 33,
    "start_time": "2022-11-03T09:08:42.758Z"
   },
   {
    "duration": 92,
    "start_time": "2022-11-03T09:08:42.793Z"
   },
   {
    "duration": 9,
    "start_time": "2022-11-03T09:08:42.887Z"
   },
   {
    "duration": 89,
    "start_time": "2022-11-03T09:08:42.898Z"
   },
   {
    "duration": 9,
    "start_time": "2022-11-03T09:08:42.989Z"
   },
   {
    "duration": 14,
    "start_time": "2022-11-03T09:08:42.999Z"
   },
   {
    "duration": 12,
    "start_time": "2022-11-03T09:08:43.015Z"
   },
   {
    "duration": 49,
    "start_time": "2022-11-03T09:08:43.029Z"
   },
   {
    "duration": 7,
    "start_time": "2022-11-03T09:08:43.080Z"
   },
   {
    "duration": 1257,
    "start_time": "2022-11-03T09:14:37.836Z"
   },
   {
    "duration": 44,
    "start_time": "2022-11-03T09:14:39.096Z"
   },
   {
    "duration": 223,
    "start_time": "2022-11-03T09:14:39.141Z"
   },
   {
    "duration": 9,
    "start_time": "2022-11-03T09:14:39.366Z"
   },
   {
    "duration": 11,
    "start_time": "2022-11-03T09:14:39.377Z"
   },
   {
    "duration": 20,
    "start_time": "2022-11-03T09:14:39.390Z"
   },
   {
    "duration": 17,
    "start_time": "2022-11-03T09:14:39.412Z"
   },
   {
    "duration": 13,
    "start_time": "2022-11-03T09:14:39.431Z"
   },
   {
    "duration": 25,
    "start_time": "2022-11-03T09:14:39.445Z"
   },
   {
    "duration": 6,
    "start_time": "2022-11-03T09:14:39.473Z"
   },
   {
    "duration": 22,
    "start_time": "2022-11-03T09:14:39.481Z"
   },
   {
    "duration": 75,
    "start_time": "2022-11-03T09:14:39.505Z"
   },
   {
    "duration": 31,
    "start_time": "2022-11-03T09:14:39.582Z"
   },
   {
    "duration": 11,
    "start_time": "2022-11-03T09:14:39.614Z"
   },
   {
    "duration": 38,
    "start_time": "2022-11-03T09:14:39.627Z"
   },
   {
    "duration": 63,
    "start_time": "2022-11-03T09:14:39.667Z"
   },
   {
    "duration": 6,
    "start_time": "2022-11-03T09:14:39.732Z"
   },
   {
    "duration": 23,
    "start_time": "2022-11-03T09:14:39.739Z"
   },
   {
    "duration": 57,
    "start_time": "2022-11-03T09:14:39.764Z"
   },
   {
    "duration": 19,
    "start_time": "2022-11-03T09:14:39.822Z"
   },
   {
    "duration": 13,
    "start_time": "2022-11-03T09:14:39.843Z"
   },
   {
    "duration": 36,
    "start_time": "2022-11-03T09:14:39.858Z"
   },
   {
    "duration": 15,
    "start_time": "2022-11-03T09:14:39.895Z"
   },
   {
    "duration": 9,
    "start_time": "2022-11-03T09:14:39.912Z"
   },
   {
    "duration": 688,
    "start_time": "2022-11-03T09:14:39.923Z"
   },
   {
    "duration": 682,
    "start_time": "2022-11-03T09:14:40.612Z"
   },
   {
    "duration": 317,
    "start_time": "2022-11-03T09:14:41.318Z"
   },
   {
    "duration": 320,
    "start_time": "2022-11-03T09:14:41.641Z"
   },
   {
    "duration": 804,
    "start_time": "2022-11-03T09:14:41.963Z"
   },
   {
    "duration": 8,
    "start_time": "2022-11-03T09:14:42.769Z"
   },
   {
    "duration": 21,
    "start_time": "2022-11-03T09:14:42.779Z"
   },
   {
    "duration": 7,
    "start_time": "2022-11-03T09:14:42.801Z"
   },
   {
    "duration": 57,
    "start_time": "2022-11-03T09:14:42.809Z"
   },
   {
    "duration": 158,
    "start_time": "2022-11-03T09:14:42.867Z"
   },
   {
    "duration": 15,
    "start_time": "2022-11-03T09:14:43.027Z"
   },
   {
    "duration": 812,
    "start_time": "2022-11-03T09:14:43.055Z"
   },
   {
    "duration": 814,
    "start_time": "2022-11-03T09:14:43.870Z"
   },
   {
    "duration": 218,
    "start_time": "2022-11-03T09:14:44.687Z"
   },
   {
    "duration": 10,
    "start_time": "2022-11-03T09:14:44.906Z"
   },
   {
    "duration": 36,
    "start_time": "2022-11-03T09:14:44.918Z"
   },
   {
    "duration": 39,
    "start_time": "2022-11-03T09:14:44.956Z"
   },
   {
    "duration": 87,
    "start_time": "2022-11-03T09:14:44.997Z"
   },
   {
    "duration": 9,
    "start_time": "2022-11-03T09:14:45.085Z"
   },
   {
    "duration": 65,
    "start_time": "2022-11-03T09:14:45.096Z"
   },
   {
    "duration": 7,
    "start_time": "2022-11-03T09:14:45.163Z"
   },
   {
    "duration": 16,
    "start_time": "2022-11-03T09:14:45.172Z"
   },
   {
    "duration": 8,
    "start_time": "2022-11-03T09:14:45.190Z"
   },
   {
    "duration": 42,
    "start_time": "2022-11-03T09:14:45.200Z"
   },
   {
    "duration": 10,
    "start_time": "2022-11-03T09:14:45.244Z"
   },
   {
    "duration": 51,
    "start_time": "2022-11-03T09:17:39.804Z"
   },
   {
    "duration": 5,
    "start_time": "2022-11-03T09:17:45.839Z"
   },
   {
    "duration": 5,
    "start_time": "2022-11-03T09:17:55.533Z"
   },
   {
    "duration": 3,
    "start_time": "2022-11-03T09:18:00.291Z"
   },
   {
    "duration": 4,
    "start_time": "2022-11-03T09:18:05.210Z"
   },
   {
    "duration": 16,
    "start_time": "2022-11-03T09:19:34.544Z"
   },
   {
    "duration": 15,
    "start_time": "2022-11-03T09:19:41.066Z"
   },
   {
    "duration": 21,
    "start_time": "2022-11-03T09:19:47.948Z"
   },
   {
    "duration": 20,
    "start_time": "2022-11-03T09:20:00.040Z"
   },
   {
    "duration": 124,
    "start_time": "2022-11-03T09:20:08.168Z"
   },
   {
    "duration": 17,
    "start_time": "2022-11-03T09:20:17.903Z"
   },
   {
    "duration": 68,
    "start_time": "2022-11-03T09:21:00.023Z"
   },
   {
    "duration": 24,
    "start_time": "2022-11-03T09:21:03.908Z"
   },
   {
    "duration": 25,
    "start_time": "2022-11-03T09:21:37.935Z"
   },
   {
    "duration": 21,
    "start_time": "2022-11-03T09:22:13.020Z"
   },
   {
    "duration": 20,
    "start_time": "2022-11-03T09:23:06.940Z"
   },
   {
    "duration": 24,
    "start_time": "2022-11-03T09:23:32.004Z"
   },
   {
    "duration": 28,
    "start_time": "2022-11-03T09:23:37.807Z"
   },
   {
    "duration": 45,
    "start_time": "2022-11-03T09:24:22.977Z"
   },
   {
    "duration": 37,
    "start_time": "2022-11-03T09:24:44.076Z"
   },
   {
    "duration": 48,
    "start_time": "2022-11-03T09:25:10.491Z"
   },
   {
    "duration": 47,
    "start_time": "2022-11-03T09:25:49.624Z"
   },
   {
    "duration": 50,
    "start_time": "2022-11-03T09:25:52.812Z"
   },
   {
    "duration": 47,
    "start_time": "2022-11-03T09:25:57.906Z"
   },
   {
    "duration": 47,
    "start_time": "2022-11-03T09:26:23.090Z"
   },
   {
    "duration": 51,
    "start_time": "2022-11-03T09:26:34.368Z"
   },
   {
    "duration": 49,
    "start_time": "2022-11-03T09:26:42.100Z"
   },
   {
    "duration": 22,
    "start_time": "2022-11-03T09:27:07.162Z"
   },
   {
    "duration": 48,
    "start_time": "2022-11-03T09:28:18.406Z"
   },
   {
    "duration": 12,
    "start_time": "2022-11-03T09:28:20.260Z"
   },
   {
    "duration": 11,
    "start_time": "2022-11-03T09:28:43.143Z"
   },
   {
    "duration": 50,
    "start_time": "2022-11-03T09:30:01.380Z"
   },
   {
    "duration": 62,
    "start_time": "2022-11-03T09:30:05.480Z"
   },
   {
    "duration": 23,
    "start_time": "2022-11-03T09:30:15.986Z"
   },
   {
    "duration": 74,
    "start_time": "2022-11-03T09:31:12.716Z"
   },
   {
    "duration": 25,
    "start_time": "2022-11-03T09:31:29.669Z"
   },
   {
    "duration": 48,
    "start_time": "2022-11-03T09:33:31.230Z"
   },
   {
    "duration": 45,
    "start_time": "2022-11-03T09:33:33.526Z"
   },
   {
    "duration": 16,
    "start_time": "2022-11-03T09:33:39.226Z"
   },
   {
    "duration": 21,
    "start_time": "2022-11-03T09:34:04.554Z"
   },
   {
    "duration": 16,
    "start_time": "2022-11-03T09:34:18.005Z"
   },
   {
    "duration": 19,
    "start_time": "2022-11-03T09:34:22.112Z"
   },
   {
    "duration": 31,
    "start_time": "2022-11-03T09:34:31.562Z"
   },
   {
    "duration": 20,
    "start_time": "2022-11-03T09:34:36.272Z"
   },
   {
    "duration": 17,
    "start_time": "2022-11-03T09:34:55.549Z"
   },
   {
    "duration": 20,
    "start_time": "2022-11-03T09:35:08.444Z"
   },
   {
    "duration": 22,
    "start_time": "2022-11-03T09:35:15.520Z"
   },
   {
    "duration": 61,
    "start_time": "2022-11-03T09:35:19.099Z"
   },
   {
    "duration": 24,
    "start_time": "2022-11-03T09:35:22.636Z"
   },
   {
    "duration": 14,
    "start_time": "2022-11-03T09:36:09.596Z"
   },
   {
    "duration": 19,
    "start_time": "2022-11-03T09:36:14.004Z"
   },
   {
    "duration": 4,
    "start_time": "2022-11-03T09:36:55.595Z"
   },
   {
    "duration": 22,
    "start_time": "2022-11-03T09:37:00.301Z"
   },
   {
    "duration": 29,
    "start_time": "2022-11-03T09:37:21.997Z"
   },
   {
    "duration": 17,
    "start_time": "2022-11-03T09:37:40.656Z"
   },
   {
    "duration": 22,
    "start_time": "2022-11-03T09:37:54.594Z"
   },
   {
    "duration": 21,
    "start_time": "2022-11-03T09:38:03.138Z"
   },
   {
    "duration": 15,
    "start_time": "2022-11-03T09:38:05.902Z"
   },
   {
    "duration": 20,
    "start_time": "2022-11-03T09:38:14.980Z"
   },
   {
    "duration": 22,
    "start_time": "2022-11-03T09:38:16.354Z"
   },
   {
    "duration": 13,
    "start_time": "2022-11-03T09:38:16.740Z"
   },
   {
    "duration": 16,
    "start_time": "2022-11-03T09:38:29.674Z"
   },
   {
    "duration": 19,
    "start_time": "2022-11-03T09:38:34.218Z"
   },
   {
    "duration": 24,
    "start_time": "2022-11-03T09:38:42.915Z"
   },
   {
    "duration": 20,
    "start_time": "2022-11-03T09:39:39.044Z"
   },
   {
    "duration": 782,
    "start_time": "2022-11-03T09:39:47.988Z"
   },
   {
    "duration": 18,
    "start_time": "2022-11-03T09:39:59.535Z"
   },
   {
    "duration": 1286,
    "start_time": "2022-11-03T09:40:15.528Z"
   },
   {
    "duration": 854,
    "start_time": "2022-11-03T09:42:11.672Z"
   },
   {
    "duration": 20,
    "start_time": "2022-11-03T09:42:38.233Z"
   },
   {
    "duration": 21,
    "start_time": "2022-11-03T09:42:45.632Z"
   },
   {
    "duration": 23,
    "start_time": "2022-11-03T09:42:51.001Z"
   },
   {
    "duration": 25,
    "start_time": "2022-11-03T09:43:06.113Z"
   },
   {
    "duration": 21,
    "start_time": "2022-11-03T09:43:12.180Z"
   },
   {
    "duration": 17,
    "start_time": "2022-11-03T09:43:34.637Z"
   },
   {
    "duration": 20,
    "start_time": "2022-11-03T09:43:42.706Z"
   },
   {
    "duration": 13,
    "start_time": "2022-11-03T09:44:03.601Z"
   },
   {
    "duration": 12,
    "start_time": "2022-11-03T09:44:15.634Z"
   },
   {
    "duration": 12,
    "start_time": "2022-11-03T09:44:22.084Z"
   },
   {
    "duration": 18,
    "start_time": "2022-11-03T09:45:30.485Z"
   },
   {
    "duration": 17,
    "start_time": "2022-11-03T09:47:20.148Z"
   },
   {
    "duration": 4,
    "start_time": "2022-11-03T09:48:22.221Z"
   },
   {
    "duration": 26,
    "start_time": "2022-11-03T09:49:34.084Z"
   },
   {
    "duration": 21,
    "start_time": "2022-11-03T09:49:46.250Z"
   },
   {
    "duration": 22,
    "start_time": "2022-11-03T09:50:18.198Z"
   },
   {
    "duration": 49,
    "start_time": "2022-11-03T09:50:40.474Z"
   },
   {
    "duration": 22,
    "start_time": "2022-11-03T09:50:46.005Z"
   },
   {
    "duration": 21,
    "start_time": "2022-11-03T09:51:02.041Z"
   },
   {
    "duration": 43,
    "start_time": "2022-11-03T09:51:37.594Z"
   },
   {
    "duration": 44,
    "start_time": "2022-11-03T09:51:43.395Z"
   },
   {
    "duration": 43,
    "start_time": "2022-11-03T09:51:53.409Z"
   },
   {
    "duration": 30,
    "start_time": "2022-11-03T09:51:58.795Z"
   },
   {
    "duration": 72,
    "start_time": "2022-11-03T09:52:41.525Z"
   },
   {
    "duration": 48,
    "start_time": "2022-11-03T09:53:05.655Z"
   },
   {
    "duration": 4,
    "start_time": "2022-11-03T09:53:48.598Z"
   },
   {
    "duration": 63,
    "start_time": "2022-11-03T09:53:51.353Z"
   },
   {
    "duration": 21,
    "start_time": "2022-11-03T09:54:14.730Z"
   },
   {
    "duration": 20,
    "start_time": "2022-11-03T09:56:24.990Z"
   },
   {
    "duration": 16,
    "start_time": "2022-11-03T09:56:29.874Z"
   },
   {
    "duration": 54,
    "start_time": "2022-11-03T10:00:03.651Z"
   },
   {
    "duration": 58,
    "start_time": "2022-11-03T10:01:05.996Z"
   },
   {
    "duration": 16,
    "start_time": "2022-11-03T10:01:26.379Z"
   },
   {
    "duration": 62,
    "start_time": "2022-11-03T10:01:33.362Z"
   },
   {
    "duration": 50,
    "start_time": "2022-11-03T10:05:44.418Z"
   },
   {
    "duration": 48,
    "start_time": "2022-11-03T10:08:16.467Z"
   },
   {
    "duration": 6,
    "start_time": "2022-11-03T10:08:30.831Z"
   },
   {
    "duration": 49,
    "start_time": "2022-11-03T10:08:33.792Z"
   },
   {
    "duration": 55,
    "start_time": "2022-11-03T10:08:54.319Z"
   },
   {
    "duration": 45,
    "start_time": "2022-11-03T10:08:55.862Z"
   },
   {
    "duration": 47,
    "start_time": "2022-11-03T10:08:57.945Z"
   },
   {
    "duration": 45,
    "start_time": "2022-11-03T10:09:17.767Z"
   },
   {
    "duration": 54,
    "start_time": "2022-11-03T10:09:57.227Z"
   },
   {
    "duration": 160,
    "start_time": "2022-11-03T10:10:02.727Z"
   },
   {
    "duration": 176,
    "start_time": "2022-11-03T10:10:06.799Z"
   },
   {
    "duration": 63,
    "start_time": "2022-11-03T10:10:11.648Z"
   },
   {
    "duration": 44,
    "start_time": "2022-11-03T10:10:17.480Z"
   },
   {
    "duration": 45,
    "start_time": "2022-11-03T10:10:22.174Z"
   },
   {
    "duration": 55,
    "start_time": "2022-11-03T10:10:31.680Z"
   },
   {
    "duration": 51,
    "start_time": "2022-11-03T10:10:39.922Z"
   },
   {
    "duration": 48,
    "start_time": "2022-11-03T10:10:44.706Z"
   },
   {
    "duration": 48,
    "start_time": "2022-11-03T10:11:20.863Z"
   },
   {
    "duration": 54,
    "start_time": "2022-11-03T10:11:27.822Z"
   },
   {
    "duration": 51,
    "start_time": "2022-11-03T10:11:32.119Z"
   },
   {
    "duration": 53,
    "start_time": "2022-11-03T10:11:35.540Z"
   },
   {
    "duration": 48,
    "start_time": "2022-11-03T10:13:07.080Z"
   },
   {
    "duration": 5,
    "start_time": "2022-11-03T10:13:16.672Z"
   },
   {
    "duration": 51,
    "start_time": "2022-11-03T10:13:45.424Z"
   },
   {
    "duration": 7,
    "start_time": "2022-11-03T10:15:52.645Z"
   },
   {
    "duration": 7,
    "start_time": "2022-11-03T11:07:14.226Z"
   },
   {
    "duration": 12,
    "start_time": "2022-11-03T11:07:21.114Z"
   },
   {
    "duration": 13,
    "start_time": "2022-11-03T11:07:24.638Z"
   },
   {
    "duration": 45,
    "start_time": "2022-11-03T13:21:39.874Z"
   },
   {
    "duration": 1333,
    "start_time": "2022-11-03T13:21:45.998Z"
   },
   {
    "duration": 53,
    "start_time": "2022-11-03T13:21:47.333Z"
   },
   {
    "duration": 666,
    "start_time": "2022-11-03T13:21:47.388Z"
   },
   {
    "duration": 9,
    "start_time": "2022-11-03T13:21:48.056Z"
   },
   {
    "duration": 17,
    "start_time": "2022-11-03T13:21:48.067Z"
   },
   {
    "duration": 16,
    "start_time": "2022-11-03T13:21:48.085Z"
   },
   {
    "duration": 7,
    "start_time": "2022-11-03T13:21:48.103Z"
   },
   {
    "duration": 14,
    "start_time": "2022-11-03T13:21:48.112Z"
   },
   {
    "duration": 16,
    "start_time": "2022-11-03T13:21:48.127Z"
   },
   {
    "duration": 4,
    "start_time": "2022-11-03T13:21:48.145Z"
   },
   {
    "duration": 5,
    "start_time": "2022-11-03T13:21:48.150Z"
   },
   {
    "duration": 16,
    "start_time": "2022-11-03T13:21:48.156Z"
   },
   {
    "duration": 72,
    "start_time": "2022-11-03T13:21:48.174Z"
   },
   {
    "duration": 23,
    "start_time": "2022-11-03T13:21:48.248Z"
   },
   {
    "duration": 12,
    "start_time": "2022-11-03T13:21:48.273Z"
   },
   {
    "duration": 17,
    "start_time": "2022-11-03T13:21:48.286Z"
   },
   {
    "duration": 38,
    "start_time": "2022-11-03T13:21:48.321Z"
   },
   {
    "duration": 4,
    "start_time": "2022-11-03T13:21:48.361Z"
   },
   {
    "duration": 8,
    "start_time": "2022-11-03T13:21:48.367Z"
   },
   {
    "duration": 46,
    "start_time": "2022-11-03T13:21:48.376Z"
   },
   {
    "duration": 16,
    "start_time": "2022-11-03T13:21:48.424Z"
   },
   {
    "duration": 11,
    "start_time": "2022-11-03T13:21:48.441Z"
   },
   {
    "duration": 17,
    "start_time": "2022-11-03T13:21:48.453Z"
   },
   {
    "duration": 13,
    "start_time": "2022-11-03T13:21:48.471Z"
   },
   {
    "duration": 8,
    "start_time": "2022-11-03T13:21:48.485Z"
   },
   {
    "duration": 582,
    "start_time": "2022-11-03T13:21:48.521Z"
   },
   {
    "duration": 564,
    "start_time": "2022-11-03T13:21:49.105Z"
   },
   {
    "duration": 229,
    "start_time": "2022-11-03T13:21:49.703Z"
   },
   {
    "duration": 259,
    "start_time": "2022-11-03T13:21:49.934Z"
   },
   {
    "duration": 767,
    "start_time": "2022-11-03T13:21:50.195Z"
   },
   {
    "duration": 6,
    "start_time": "2022-11-03T13:21:50.963Z"
   },
   {
    "duration": 18,
    "start_time": "2022-11-03T13:21:50.971Z"
   },
   {
    "duration": 8,
    "start_time": "2022-11-03T13:21:50.990Z"
   },
   {
    "duration": 52,
    "start_time": "2022-11-03T13:21:50.999Z"
   },
   {
    "duration": 155,
    "start_time": "2022-11-03T13:21:51.053Z"
   },
   {
    "duration": 19,
    "start_time": "2022-11-03T13:21:51.210Z"
   },
   {
    "duration": 773,
    "start_time": "2022-11-03T13:21:51.230Z"
   },
   {
    "duration": 737,
    "start_time": "2022-11-03T13:21:52.004Z"
   },
   {
    "duration": 425,
    "start_time": "2022-11-03T13:21:52.743Z"
   },
   {
    "duration": 11,
    "start_time": "2022-11-03T13:21:53.170Z"
   },
   {
    "duration": 7,
    "start_time": "2022-11-03T13:21:53.183Z"
   },
   {
    "duration": 59,
    "start_time": "2022-11-03T13:21:53.191Z"
   },
   {
    "duration": 83,
    "start_time": "2022-11-03T13:21:53.252Z"
   },
   {
    "duration": 7,
    "start_time": "2022-11-03T13:21:53.337Z"
   },
   {
    "duration": 96,
    "start_time": "2022-11-03T13:21:53.346Z"
   },
   {
    "duration": 138,
    "start_time": "2022-11-03T13:21:53.443Z"
   },
   {
    "duration": 0,
    "start_time": "2022-11-03T13:21:53.583Z"
   },
   {
    "duration": 0,
    "start_time": "2022-11-03T13:21:53.584Z"
   },
   {
    "duration": 0,
    "start_time": "2022-11-03T13:21:53.586Z"
   },
   {
    "duration": 0,
    "start_time": "2022-11-03T13:21:53.587Z"
   },
   {
    "duration": 0,
    "start_time": "2022-11-03T13:21:53.588Z"
   },
   {
    "duration": 1409,
    "start_time": "2022-11-03T16:49:22.127Z"
   },
   {
    "duration": 28,
    "start_time": "2022-11-03T16:49:23.538Z"
   },
   {
    "duration": 314,
    "start_time": "2022-11-03T16:49:23.568Z"
   },
   {
    "duration": 9,
    "start_time": "2022-11-03T16:49:23.884Z"
   },
   {
    "duration": 23,
    "start_time": "2022-11-03T16:49:23.896Z"
   },
   {
    "duration": 19,
    "start_time": "2022-11-03T16:49:23.921Z"
   },
   {
    "duration": 17,
    "start_time": "2022-11-03T16:49:23.942Z"
   },
   {
    "duration": 12,
    "start_time": "2022-11-03T16:49:23.960Z"
   },
   {
    "duration": 24,
    "start_time": "2022-11-03T16:49:23.974Z"
   },
   {
    "duration": 8,
    "start_time": "2022-11-03T16:49:24.000Z"
   },
   {
    "duration": 10,
    "start_time": "2022-11-03T16:49:24.009Z"
   },
   {
    "duration": 25,
    "start_time": "2022-11-03T16:49:24.021Z"
   },
   {
    "duration": 58,
    "start_time": "2022-11-03T16:49:24.047Z"
   },
   {
    "duration": 26,
    "start_time": "2022-11-03T16:49:24.109Z"
   },
   {
    "duration": 25,
    "start_time": "2022-11-03T16:49:24.136Z"
   },
   {
    "duration": 18,
    "start_time": "2022-11-03T16:49:24.163Z"
   },
   {
    "duration": 45,
    "start_time": "2022-11-03T16:49:24.183Z"
   },
   {
    "duration": 25,
    "start_time": "2022-11-03T16:49:24.230Z"
   },
   {
    "duration": 6,
    "start_time": "2022-11-03T16:49:24.256Z"
   },
   {
    "duration": 43,
    "start_time": "2022-11-03T16:49:24.263Z"
   },
   {
    "duration": 22,
    "start_time": "2022-11-03T16:49:24.308Z"
   },
   {
    "duration": 45,
    "start_time": "2022-11-03T16:49:24.334Z"
   },
   {
    "duration": 28,
    "start_time": "2022-11-03T16:49:24.381Z"
   },
   {
    "duration": 14,
    "start_time": "2022-11-03T16:49:24.411Z"
   },
   {
    "duration": 5,
    "start_time": "2022-11-03T16:49:24.427Z"
   },
   {
    "duration": 715,
    "start_time": "2022-11-03T16:49:24.434Z"
   },
   {
    "duration": 704,
    "start_time": "2022-11-03T16:49:25.151Z"
   },
   {
    "duration": 253,
    "start_time": "2022-11-03T16:49:25.897Z"
   },
   {
    "duration": 288,
    "start_time": "2022-11-03T16:49:26.154Z"
   },
   {
    "duration": 803,
    "start_time": "2022-11-03T16:49:26.454Z"
   },
   {
    "duration": 7,
    "start_time": "2022-11-03T16:49:27.258Z"
   },
   {
    "duration": 34,
    "start_time": "2022-11-03T16:49:27.267Z"
   },
   {
    "duration": 17,
    "start_time": "2022-11-03T16:49:27.303Z"
   },
   {
    "duration": 31,
    "start_time": "2022-11-03T16:49:27.322Z"
   },
   {
    "duration": 162,
    "start_time": "2022-11-03T16:49:27.356Z"
   },
   {
    "duration": 15,
    "start_time": "2022-11-03T16:49:27.520Z"
   },
   {
    "duration": 983,
    "start_time": "2022-11-03T16:49:27.537Z"
   },
   {
    "duration": 858,
    "start_time": "2022-11-03T16:49:28.522Z"
   },
   {
    "duration": 196,
    "start_time": "2022-11-03T16:49:29.381Z"
   },
   {
    "duration": 10,
    "start_time": "2022-11-03T16:49:29.579Z"
   },
   {
    "duration": 14,
    "start_time": "2022-11-03T16:49:29.595Z"
   },
   {
    "duration": 77,
    "start_time": "2022-11-03T16:49:29.611Z"
   },
   {
    "duration": 95,
    "start_time": "2022-11-03T16:49:29.690Z"
   },
   {
    "duration": 8,
    "start_time": "2022-11-03T16:49:29.787Z"
   },
   {
    "duration": 112,
    "start_time": "2022-11-03T16:49:29.797Z"
   },
   {
    "duration": 176,
    "start_time": "2022-11-03T16:49:29.911Z"
   },
   {
    "duration": 0,
    "start_time": "2022-11-03T16:49:30.089Z"
   },
   {
    "duration": 0,
    "start_time": "2022-11-03T16:49:30.090Z"
   },
   {
    "duration": 0,
    "start_time": "2022-11-03T16:49:30.091Z"
   },
   {
    "duration": 0,
    "start_time": "2022-11-03T16:49:30.093Z"
   },
   {
    "duration": 0,
    "start_time": "2022-11-03T16:49:30.093Z"
   },
   {
    "duration": 48,
    "start_time": "2022-11-03T16:50:48.078Z"
   },
   {
    "duration": 1263,
    "start_time": "2022-11-03T16:50:58.521Z"
   },
   {
    "duration": 199,
    "start_time": "2022-11-03T16:50:59.786Z"
   },
   {
    "duration": 281,
    "start_time": "2022-11-03T16:50:59.987Z"
   },
   {
    "duration": 10,
    "start_time": "2022-11-03T16:51:00.270Z"
   },
   {
    "duration": 30,
    "start_time": "2022-11-03T16:51:00.282Z"
   },
   {
    "duration": 34,
    "start_time": "2022-11-03T16:51:00.314Z"
   },
   {
    "duration": 36,
    "start_time": "2022-11-03T16:51:00.350Z"
   },
   {
    "duration": 33,
    "start_time": "2022-11-03T16:51:00.388Z"
   },
   {
    "duration": 46,
    "start_time": "2022-11-03T16:51:00.423Z"
   },
   {
    "duration": 24,
    "start_time": "2022-11-03T16:51:00.471Z"
   },
   {
    "duration": 38,
    "start_time": "2022-11-03T16:51:00.497Z"
   },
   {
    "duration": 47,
    "start_time": "2022-11-03T16:51:00.537Z"
   },
   {
    "duration": 77,
    "start_time": "2022-11-03T16:51:00.586Z"
   },
   {
    "duration": 43,
    "start_time": "2022-11-03T16:51:00.666Z"
   },
   {
    "duration": 11,
    "start_time": "2022-11-03T16:51:00.710Z"
   },
   {
    "duration": 32,
    "start_time": "2022-11-03T16:51:00.722Z"
   },
   {
    "duration": 57,
    "start_time": "2022-11-03T16:51:00.756Z"
   },
   {
    "duration": 7,
    "start_time": "2022-11-03T16:51:00.814Z"
   },
   {
    "duration": 24,
    "start_time": "2022-11-03T16:51:00.823Z"
   },
   {
    "duration": 52,
    "start_time": "2022-11-03T16:51:00.849Z"
   },
   {
    "duration": 19,
    "start_time": "2022-11-03T16:51:00.902Z"
   },
   {
    "duration": 24,
    "start_time": "2022-11-03T16:51:00.922Z"
   },
   {
    "duration": 29,
    "start_time": "2022-11-03T16:51:00.948Z"
   },
   {
    "duration": 22,
    "start_time": "2022-11-03T16:51:00.979Z"
   },
   {
    "duration": 12,
    "start_time": "2022-11-03T16:51:01.003Z"
   },
   {
    "duration": 797,
    "start_time": "2022-11-03T16:51:01.016Z"
   },
   {
    "duration": 629,
    "start_time": "2022-11-03T16:51:01.815Z"
   },
   {
    "duration": 249,
    "start_time": "2022-11-03T16:51:02.469Z"
   },
   {
    "duration": 270,
    "start_time": "2022-11-03T16:51:02.719Z"
   },
   {
    "duration": 831,
    "start_time": "2022-11-03T16:51:02.990Z"
   },
   {
    "duration": 7,
    "start_time": "2022-11-03T16:51:03.822Z"
   },
   {
    "duration": 35,
    "start_time": "2022-11-03T16:51:03.830Z"
   },
   {
    "duration": 6,
    "start_time": "2022-11-03T16:51:03.866Z"
   },
   {
    "duration": 39,
    "start_time": "2022-11-03T16:51:03.874Z"
   },
   {
    "duration": 171,
    "start_time": "2022-11-03T16:51:03.915Z"
   },
   {
    "duration": 16,
    "start_time": "2022-11-03T16:51:04.088Z"
   },
   {
    "duration": 935,
    "start_time": "2022-11-03T16:51:04.105Z"
   },
   {
    "duration": 824,
    "start_time": "2022-11-03T16:51:05.042Z"
   },
   {
    "duration": 187,
    "start_time": "2022-11-03T16:51:05.868Z"
   },
   {
    "duration": 11,
    "start_time": "2022-11-03T16:51:06.056Z"
   },
   {
    "duration": 5,
    "start_time": "2022-11-03T16:51:06.071Z"
   },
   {
    "duration": 24,
    "start_time": "2022-11-03T16:51:06.077Z"
   },
   {
    "duration": 84,
    "start_time": "2022-11-03T16:51:06.103Z"
   },
   {
    "duration": 9,
    "start_time": "2022-11-03T16:51:06.189Z"
   },
   {
    "duration": 128,
    "start_time": "2022-11-03T16:51:06.199Z"
   },
   {
    "duration": 55,
    "start_time": "2022-11-03T16:51:06.328Z"
   },
   {
    "duration": 7,
    "start_time": "2022-11-03T16:51:06.384Z"
   },
   {
    "duration": 24,
    "start_time": "2022-11-03T16:51:06.392Z"
   },
   {
    "duration": 17,
    "start_time": "2022-11-03T16:51:06.418Z"
   },
   {
    "duration": 30,
    "start_time": "2022-11-03T16:51:06.436Z"
   },
   {
    "duration": 4,
    "start_time": "2022-11-03T16:51:06.468Z"
   },
   {
    "duration": 1234,
    "start_time": "2022-11-03T16:53:23.084Z"
   },
   {
    "duration": 30,
    "start_time": "2022-11-03T16:53:24.320Z"
   },
   {
    "duration": 204,
    "start_time": "2022-11-03T16:53:24.352Z"
   },
   {
    "duration": 9,
    "start_time": "2022-11-03T16:53:24.558Z"
   },
   {
    "duration": 9,
    "start_time": "2022-11-03T16:53:24.569Z"
   },
   {
    "duration": 12,
    "start_time": "2022-11-03T16:53:24.580Z"
   },
   {
    "duration": 12,
    "start_time": "2022-11-03T16:53:24.594Z"
   },
   {
    "duration": 10,
    "start_time": "2022-11-03T16:53:24.607Z"
   },
   {
    "duration": 46,
    "start_time": "2022-11-03T16:53:24.618Z"
   },
   {
    "duration": 7,
    "start_time": "2022-11-03T16:53:24.666Z"
   },
   {
    "duration": 8,
    "start_time": "2022-11-03T16:53:24.675Z"
   },
   {
    "duration": 26,
    "start_time": "2022-11-03T16:53:24.684Z"
   },
   {
    "duration": 85,
    "start_time": "2022-11-03T16:53:24.712Z"
   },
   {
    "duration": 32,
    "start_time": "2022-11-03T16:53:24.800Z"
   },
   {
    "duration": 27,
    "start_time": "2022-11-03T16:53:24.834Z"
   },
   {
    "duration": 34,
    "start_time": "2022-11-03T16:53:24.862Z"
   },
   {
    "duration": 46,
    "start_time": "2022-11-03T16:53:24.898Z"
   },
   {
    "duration": 13,
    "start_time": "2022-11-03T16:53:24.946Z"
   },
   {
    "duration": 11,
    "start_time": "2022-11-03T16:53:24.960Z"
   },
   {
    "duration": 33,
    "start_time": "2022-11-03T16:53:24.972Z"
   },
   {
    "duration": 17,
    "start_time": "2022-11-03T16:53:25.006Z"
   },
   {
    "duration": 36,
    "start_time": "2022-11-03T16:53:25.025Z"
   },
   {
    "duration": 17,
    "start_time": "2022-11-03T16:53:25.063Z"
   },
   {
    "duration": 15,
    "start_time": "2022-11-03T16:53:25.081Z"
   },
   {
    "duration": 7,
    "start_time": "2022-11-03T16:53:25.097Z"
   },
   {
    "duration": 730,
    "start_time": "2022-11-03T16:53:25.105Z"
   },
   {
    "duration": 675,
    "start_time": "2022-11-03T16:53:25.837Z"
   },
   {
    "duration": 252,
    "start_time": "2022-11-03T16:53:26.515Z"
   },
   {
    "duration": 275,
    "start_time": "2022-11-03T16:53:26.769Z"
   },
   {
    "duration": 820,
    "start_time": "2022-11-03T16:53:27.045Z"
   },
   {
    "duration": 7,
    "start_time": "2022-11-03T16:53:27.866Z"
   },
   {
    "duration": 27,
    "start_time": "2022-11-03T16:53:27.874Z"
   },
   {
    "duration": 7,
    "start_time": "2022-11-03T16:53:27.903Z"
   },
   {
    "duration": 56,
    "start_time": "2022-11-03T16:53:27.911Z"
   },
   {
    "duration": 153,
    "start_time": "2022-11-03T16:53:27.969Z"
   },
   {
    "duration": 15,
    "start_time": "2022-11-03T16:53:28.124Z"
   },
   {
    "duration": 796,
    "start_time": "2022-11-03T16:53:28.141Z"
   },
   {
    "duration": 813,
    "start_time": "2022-11-03T16:53:28.939Z"
   },
   {
    "duration": 202,
    "start_time": "2022-11-03T16:53:29.755Z"
   },
   {
    "duration": 10,
    "start_time": "2022-11-03T16:53:29.959Z"
   },
   {
    "duration": 9,
    "start_time": "2022-11-03T16:53:29.972Z"
   },
   {
    "duration": 74,
    "start_time": "2022-11-03T16:53:29.982Z"
   },
   {
    "duration": 40,
    "start_time": "2022-11-03T16:53:30.058Z"
   },
   {
    "duration": 8,
    "start_time": "2022-11-03T16:53:30.100Z"
   },
   {
    "duration": 105,
    "start_time": "2022-11-03T16:53:30.110Z"
   },
   {
    "duration": 60,
    "start_time": "2022-11-03T16:53:30.217Z"
   },
   {
    "duration": 7,
    "start_time": "2022-11-03T16:53:30.279Z"
   },
   {
    "duration": 49,
    "start_time": "2022-11-03T16:53:30.287Z"
   },
   {
    "duration": 24,
    "start_time": "2022-11-03T16:53:30.337Z"
   },
   {
    "duration": 62,
    "start_time": "2022-11-03T16:53:30.363Z"
   },
   {
    "duration": 25,
    "start_time": "2022-11-03T16:53:30.427Z"
   },
   {
    "duration": 1828,
    "start_time": "2022-11-03T17:40:24.578Z"
   },
   {
    "duration": 507,
    "start_time": "2022-11-03T17:40:26.409Z"
   },
   {
    "duration": 500,
    "start_time": "2022-11-03T17:40:26.917Z"
   },
   {
    "duration": 24,
    "start_time": "2022-11-03T17:40:27.420Z"
   },
   {
    "duration": 8,
    "start_time": "2022-11-03T17:40:27.447Z"
   },
   {
    "duration": 14,
    "start_time": "2022-11-03T17:40:27.457Z"
   },
   {
    "duration": 9,
    "start_time": "2022-11-03T17:40:27.473Z"
   },
   {
    "duration": 8,
    "start_time": "2022-11-03T17:40:27.484Z"
   },
   {
    "duration": 54,
    "start_time": "2022-11-03T17:40:27.494Z"
   },
   {
    "duration": 6,
    "start_time": "2022-11-03T17:40:27.552Z"
   },
   {
    "duration": 5,
    "start_time": "2022-11-03T17:40:27.560Z"
   },
   {
    "duration": 18,
    "start_time": "2022-11-03T17:40:27.567Z"
   },
   {
    "duration": 108,
    "start_time": "2022-11-03T17:40:27.587Z"
   },
   {
    "duration": 63,
    "start_time": "2022-11-03T17:40:27.697Z"
   },
   {
    "duration": 10,
    "start_time": "2022-11-03T17:40:27.762Z"
   },
   {
    "duration": 21,
    "start_time": "2022-11-03T17:40:27.774Z"
   },
   {
    "duration": 74,
    "start_time": "2022-11-03T17:40:27.796Z"
   },
   {
    "duration": 8,
    "start_time": "2022-11-03T17:40:27.873Z"
   },
   {
    "duration": 7,
    "start_time": "2022-11-03T17:40:27.883Z"
   },
   {
    "duration": 69,
    "start_time": "2022-11-03T17:40:27.892Z"
   },
   {
    "duration": 20,
    "start_time": "2022-11-03T17:40:27.963Z"
   },
   {
    "duration": 15,
    "start_time": "2022-11-03T17:40:27.985Z"
   },
   {
    "duration": 51,
    "start_time": "2022-11-03T17:40:28.003Z"
   },
   {
    "duration": 19,
    "start_time": "2022-11-03T17:40:28.056Z"
   },
   {
    "duration": 7,
    "start_time": "2022-11-03T17:40:28.078Z"
   },
   {
    "duration": 876,
    "start_time": "2022-11-03T17:40:28.087Z"
   },
   {
    "duration": 834,
    "start_time": "2022-11-03T17:40:28.966Z"
   },
   {
    "duration": 336,
    "start_time": "2022-11-03T17:40:29.805Z"
   },
   {
    "duration": 334,
    "start_time": "2022-11-03T17:40:30.144Z"
   },
   {
    "duration": 1149,
    "start_time": "2022-11-03T17:40:30.480Z"
   },
   {
    "duration": 12,
    "start_time": "2022-11-03T17:40:31.632Z"
   },
   {
    "duration": 29,
    "start_time": "2022-11-03T17:40:31.647Z"
   },
   {
    "duration": 6,
    "start_time": "2022-11-03T17:40:31.678Z"
   },
   {
    "duration": 69,
    "start_time": "2022-11-03T17:40:31.686Z"
   },
   {
    "duration": 221,
    "start_time": "2022-11-03T17:40:31.757Z"
   },
   {
    "duration": 16,
    "start_time": "2022-11-03T17:40:31.980Z"
   },
   {
    "duration": 1025,
    "start_time": "2022-11-03T17:40:31.998Z"
   },
   {
    "duration": 1148,
    "start_time": "2022-11-03T17:40:33.024Z"
   },
   {
    "duration": 640,
    "start_time": "2022-11-03T17:40:34.174Z"
   },
   {
    "duration": 17,
    "start_time": "2022-11-03T17:40:34.834Z"
   },
   {
    "duration": 7,
    "start_time": "2022-11-03T17:40:34.858Z"
   },
   {
    "duration": 101,
    "start_time": "2022-11-03T17:40:34.870Z"
   },
   {
    "duration": 117,
    "start_time": "2022-11-03T17:40:34.974Z"
   },
   {
    "duration": 12,
    "start_time": "2022-11-03T17:40:35.094Z"
   },
   {
    "duration": 102,
    "start_time": "2022-11-03T17:40:35.108Z"
   },
   {
    "duration": 88,
    "start_time": "2022-11-03T17:40:35.213Z"
   },
   {
    "duration": 11,
    "start_time": "2022-11-03T17:40:35.303Z"
   },
   {
    "duration": 11,
    "start_time": "2022-11-03T17:40:35.333Z"
   },
   {
    "duration": 16,
    "start_time": "2022-11-03T17:40:35.346Z"
   },
   {
    "duration": 34,
    "start_time": "2022-11-03T17:40:35.364Z"
   },
   {
    "duration": 7,
    "start_time": "2022-11-03T17:40:35.400Z"
   }
  ],
  "kernelspec": {
   "display_name": "Python 3 (ipykernel)",
   "language": "python",
   "name": "python3"
  },
  "language_info": {
   "codemirror_mode": {
    "name": "ipython",
    "version": 3
   },
   "file_extension": ".py",
   "mimetype": "text/x-python",
   "name": "python",
   "nbconvert_exporter": "python",
   "pygments_lexer": "ipython3",
   "version": "3.9.13"
  },
  "nbTranslate": {
   "displayLangs": [
    "en",
    "ru"
   ],
   "hotkey": "alt-t",
   "langInMainMenu": true,
   "sourceLang": "ru",
   "targetLang": "en",
   "useGoogleTranslate": true
  },
  "toc": {
   "base_numbering": 1,
   "nav_menu": {},
   "number_sections": true,
   "sideBar": true,
   "skip_h1_title": true,
   "title_cell": "Table of Contents",
   "title_sidebar": "Contents",
   "toc_cell": false,
   "toc_position": {
    "height": "calc(100% - 180px)",
    "left": "10px",
    "top": "150px",
    "width": "248.075px"
   },
   "toc_section_display": true,
   "toc_window_display": true
  },
  "varInspector": {
   "cols": {
    "lenName": 16,
    "lenType": 16,
    "lenVar": 40
   },
   "kernels_config": {
    "python": {
     "delete_cmd_postfix": "",
     "delete_cmd_prefix": "del ",
     "library": "var_list.py",
     "varRefreshCmd": "print(var_dic_list())"
    },
    "r": {
     "delete_cmd_postfix": ") ",
     "delete_cmd_prefix": "rm(",
     "library": "var_list.r",
     "varRefreshCmd": "cat(var_dic_list()) "
    }
   },
   "types_to_exclude": [
    "module",
    "function",
    "builtin_function_or_method",
    "instance",
    "_Feature"
   ],
   "window_display": false
  }
 },
 "nbformat": 4,
 "nbformat_minor": 2
}
