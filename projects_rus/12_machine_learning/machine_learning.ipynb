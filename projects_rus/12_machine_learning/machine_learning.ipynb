{
 "cells": [
  {
   "cell_type": "markdown",
   "metadata": {},
   "source": [
    "# Прогнозирование оттока клиентов фитнес-центра"
   ]
  },
  {
   "cell_type": "markdown",
   "metadata": {},
   "source": [
    "**Цель проекта**\n",
    "\n",
    "1. Построить модель прогнозирования оттока клиентов\n",
    "2. Произвести кластеризацию клиентов\n",
    "\n",
    "# Структура проекта\n",
    "\n",
    "**Шаг 1. Чтение и предобработка данных**\n",
    "\n",
    "**Шаг 2. Исследовательский анализ данных (EDA)**\n",
    "\n",
    "* Посмотрите на датасет: есть ли в нём отсутствующие значения (пропуски), изучите средние значения и стандартные отклонения (пригодится метод describe());\n",
    "\n",
    "* Посмотрите на средние значения признаков в двух группах — тех, кто ушел в отток и тех, кто остался (воспользуйтесь методом groupby());\n",
    "\n",
    "* Постройте столбчатые гистограммы и распределения признаков для тех, кто ушёл (отток) и тех, кто остался (не попали в отток);\n",
    "\n",
    "* Постройте матрицу корреляций и отобразите её.\n",
    "\n",
    "**Шаг 3. Построить модель прогнозирования оттока клиентов**\n",
    "\n",
    "* Постройте модель бинарной классификации клиентов, где целевой признак — факт оттока клиента в следующем месяце:\n",
    "* Разбейте данные на обучающую и валидационную выборку функцией train_test_split().\n",
    "* Обучите модель на train-выборке двумя способами:\n",
    "    - логистической регрессией,\n",
    "    - случайным лесом.\n",
    "* Оцените метрики accuracy, precision и recall для обеих моделей на валидационной выборке. Сравните по ним модели. Какая модель показала себя лучше на основании метрик?\n",
    "* Не забудьте указать параметр random_state при разделении выборки и задании алгоритма.\n",
    "\n",
    "**Шаг 4. Сделать кластеризацию клиентов**\n",
    "\n",
    "Отложите в сторону столбец с оттоком и проведите кластеризацию объектов (клиентов):\n",
    "* Стандартизируйте данные.\n",
    "* Постройте матрицу расстояний функцией linkage() на стандартизованной матрице признаков и нарисуйте дендрограмму. Внимание: отрисовка дендрограммы может занять время! На основании полученного графика предположите, какое количество кластеров можно выделить.\n",
    "* Обучите модель кластеризации на основании алгоритма K-Means и спрогнозируйте кластеры клиентов. Договоримся за число кластеров принять n=5, чтобы ваши результаты можно было сравнивать с результатами остальных студентов. Однако, конечно, в жизни никто не скажет вам правильный ответ, и решение остаётся за вами (на основании изучения графика из предыдущего пункта).\n",
    "* Посмотрите на средние значения признаков для кластеров. Можно ли сразу что-то заметить?\n",
    "* Постройте распределения признаков для кластеров. Можно ли что-то заметить по ним?\n",
    "* Для каждого полученного кластера посчитайте долю оттока (методом groupby()). Отличаются ли они по доле оттока? Какие кластеры склонны к оттоку, а какие — надёжны?\n",
    "\n",
    "**Шаг 5. Сформулировать выводы и базовые рекомендации по работе с клиентами**\n",
    "\n",
    "Сформулируйте основные выводы и предложите рекомендации для стратегии взаимодействия с клиентами и их удержания."
   ]
  },
  {
   "cell_type": "markdown",
   "metadata": {},
   "source": [
    "**Оглавление:**\n",
    "<a id='section_id'></a>\n",
    "\n",
    "1. [Импорт библиотек и загрузка данных](#section_id1)\n",
    "\n",
    "2. [EDA](#section_id2)\n",
    "\n",
    "3. [Модель прогнозирования оттока клиентов](#section_id3)\n",
    "\n",
    "4. [Кластеризация клиентов](#section_id4)\n",
    "\n",
    "5. [Общий вывод](#section_id5)\n"
   ]
  },
  {
   "cell_type": "markdown",
   "metadata": {},
   "source": [
    "## Импорт библиотек и загрузка данных\n",
    "<a id='section_id1'></a>"
   ]
  },
  {
   "cell_type": "code",
   "execution_count": 1,
   "metadata": {
    "ExecuteTime": {
     "end_time": "2022-11-18T13:32:21.568550Z",
     "start_time": "2022-11-18T13:31:32.188500Z"
    }
   },
   "outputs": [],
   "source": [
    "import pandas as pd\n",
    "import numpy as np\n",
    "import copy\n",
    "import matplotlib.pyplot as plt \n",
    "import seaborn as sns\n",
    "\n",
    "from sklearn.model_selection import train_test_split\n",
    "from sklearn.linear_model import LogisticRegression\n",
    "from sklearn.ensemble import RandomForestClassifier\n",
    "from sklearn.preprocessing import StandardScaler\n",
    "from sklearn.metrics import accuracy_score, precision_score, recall_score, f1_score\n",
    "from scipy.cluster.hierarchy import dendrogram, linkage\n",
    "from sklearn.cluster import KMeans\n",
    "\n",
    "import warnings\n",
    "from IPython.display import display, HTML"
   ]
  },
  {
   "cell_type": "code",
   "execution_count": 2,
   "metadata": {
    "ExecuteTime": {
     "end_time": "2022-11-18T13:32:21.679939Z",
     "start_time": "2022-11-18T13:32:21.653727Z"
    }
   },
   "outputs": [
    {
     "data": {
      "text/html": [
       "<style>.container{width:70% !important;}</style"
      ],
      "text/plain": [
       "<IPython.core.display.HTML object>"
      ]
     },
     "metadata": {},
     "output_type": "display_data"
    }
   ],
   "source": [
    "# Причёсываю формат отображения данных - отображение всех колонок и 2 знака после запятой\n",
    "pd.set_option('display.max_columns', None)\n",
    "pd.options.display.float_format = '{:,.2f}'.format\n",
    "pd.options.display.max_colwidth = 50\n",
    "# формат отображения ячеек с кодом:\n",
    "display(HTML(\"<style>.container{width:70% !important;}</style\"))\n",
    "\n",
    "# форматирую вывод графиков\n",
    "sns.set(rc={'figure.figsize':(10, 6)})\n",
    "warnings.filterwarnings('ignore')"
   ]
  },
  {
   "cell_type": "code",
   "execution_count": 3,
   "metadata": {
    "ExecuteTime": {
     "end_time": "2022-11-18T13:32:23.159354Z",
     "start_time": "2022-11-18T13:32:21.716211Z"
    }
   },
   "outputs": [],
   "source": [
    "# Чтение исходных данных\n",
    "gym_data = pd.read_csv('https://code.s3.yandex.net/datasets/gym_churn.csv')"
   ]
  },
  {
   "cell_type": "markdown",
   "metadata": {},
   "source": [
    "[Оглавление](#section_id)\n",
    "\n",
    "## EDA - Исследовательский анализ данных\n",
    "<a id='section_id2'></a>"
   ]
  },
  {
   "cell_type": "code",
   "execution_count": 4,
   "metadata": {
    "ExecuteTime": {
     "end_time": "2022-11-18T13:32:23.300932Z",
     "start_time": "2022-11-18T13:32:23.166040Z"
    }
   },
   "outputs": [
    {
     "data": {
      "text/plain": [
       "0"
      ]
     },
     "execution_count": 4,
     "metadata": {},
     "output_type": "execute_result"
    }
   ],
   "source": [
    "# Проверю на дубликаты\n",
    "gym_data.duplicated().sum()"
   ]
  },
  {
   "cell_type": "code",
   "execution_count": 5,
   "metadata": {
    "ExecuteTime": {
     "end_time": "2022-11-18T13:32:23.331994Z",
     "start_time": "2022-11-18T13:32:23.311994Z"
    }
   },
   "outputs": [],
   "source": [
    "# Приведу названия столбцов к нижнему регистру\n",
    "gym_data.columns = [i.lower() for i in gym_data]"
   ]
  },
  {
   "cell_type": "code",
   "execution_count": 6,
   "metadata": {
    "ExecuteTime": {
     "end_time": "2022-11-18T13:32:23.347805Z",
     "start_time": "2022-11-18T13:32:23.335021Z"
    },
    "scrolled": true
   },
   "outputs": [
    {
     "data": {
      "text/plain": [
       "Index(['gender', 'near_location', 'partner', 'promo_friends', 'phone',\n",
       "       'contract_period', 'group_visits', 'age',\n",
       "       'avg_additional_charges_total', 'month_to_end_contract', 'lifetime',\n",
       "       'avg_class_frequency_total', 'avg_class_frequency_current_month',\n",
       "       'churn'],\n",
       "      dtype='object')"
      ]
     },
     "execution_count": 6,
     "metadata": {},
     "output_type": "execute_result"
    }
   ],
   "source": [
    "# Проверка регистров\n",
    "gym_data.columns"
   ]
  },
  {
   "cell_type": "markdown",
   "metadata": {},
   "source": [
    "### Изучение датасета\n",
    "Посмотрите на датасет: есть ли в нём отсутствующие значения (пропуски), изучите средние значения и стандартные отклонения (пригодится метод `describe()`);"
   ]
  },
  {
   "cell_type": "code",
   "execution_count": 7,
   "metadata": {
    "ExecuteTime": {
     "end_time": "2022-11-18T13:32:23.441306Z",
     "start_time": "2022-11-18T13:32:23.355364Z"
    }
   },
   "outputs": [
    {
     "data": {
      "text/html": [
       "<div>\n",
       "<style scoped>\n",
       "    .dataframe tbody tr th:only-of-type {\n",
       "        vertical-align: middle;\n",
       "    }\n",
       "\n",
       "    .dataframe tbody tr th {\n",
       "        vertical-align: top;\n",
       "    }\n",
       "\n",
       "    .dataframe thead th {\n",
       "        text-align: right;\n",
       "    }\n",
       "</style>\n",
       "<table border=\"1\" class=\"dataframe\">\n",
       "  <thead>\n",
       "    <tr style=\"text-align: right;\">\n",
       "      <th></th>\n",
       "      <th>gender</th>\n",
       "      <th>near_location</th>\n",
       "      <th>partner</th>\n",
       "      <th>promo_friends</th>\n",
       "      <th>phone</th>\n",
       "      <th>contract_period</th>\n",
       "      <th>group_visits</th>\n",
       "      <th>age</th>\n",
       "      <th>avg_additional_charges_total</th>\n",
       "      <th>month_to_end_contract</th>\n",
       "      <th>lifetime</th>\n",
       "      <th>avg_class_frequency_total</th>\n",
       "      <th>avg_class_frequency_current_month</th>\n",
       "      <th>churn</th>\n",
       "    </tr>\n",
       "  </thead>\n",
       "  <tbody>\n",
       "    <tr>\n",
       "      <th>0</th>\n",
       "      <td>1</td>\n",
       "      <td>1</td>\n",
       "      <td>1</td>\n",
       "      <td>1</td>\n",
       "      <td>0</td>\n",
       "      <td>6</td>\n",
       "      <td>1</td>\n",
       "      <td>29</td>\n",
       "      <td>14.23</td>\n",
       "      <td>5.00</td>\n",
       "      <td>3</td>\n",
       "      <td>0.02</td>\n",
       "      <td>0.00</td>\n",
       "      <td>0</td>\n",
       "    </tr>\n",
       "    <tr>\n",
       "      <th>1</th>\n",
       "      <td>0</td>\n",
       "      <td>1</td>\n",
       "      <td>0</td>\n",
       "      <td>0</td>\n",
       "      <td>1</td>\n",
       "      <td>12</td>\n",
       "      <td>1</td>\n",
       "      <td>31</td>\n",
       "      <td>113.20</td>\n",
       "      <td>12.00</td>\n",
       "      <td>7</td>\n",
       "      <td>1.92</td>\n",
       "      <td>1.91</td>\n",
       "      <td>0</td>\n",
       "    </tr>\n",
       "    <tr>\n",
       "      <th>2</th>\n",
       "      <td>0</td>\n",
       "      <td>1</td>\n",
       "      <td>1</td>\n",
       "      <td>0</td>\n",
       "      <td>1</td>\n",
       "      <td>1</td>\n",
       "      <td>0</td>\n",
       "      <td>28</td>\n",
       "      <td>129.45</td>\n",
       "      <td>1.00</td>\n",
       "      <td>2</td>\n",
       "      <td>1.86</td>\n",
       "      <td>1.74</td>\n",
       "      <td>0</td>\n",
       "    </tr>\n",
       "    <tr>\n",
       "      <th>3</th>\n",
       "      <td>0</td>\n",
       "      <td>1</td>\n",
       "      <td>1</td>\n",
       "      <td>1</td>\n",
       "      <td>1</td>\n",
       "      <td>12</td>\n",
       "      <td>1</td>\n",
       "      <td>33</td>\n",
       "      <td>62.67</td>\n",
       "      <td>12.00</td>\n",
       "      <td>2</td>\n",
       "      <td>3.21</td>\n",
       "      <td>3.36</td>\n",
       "      <td>0</td>\n",
       "    </tr>\n",
       "    <tr>\n",
       "      <th>4</th>\n",
       "      <td>1</td>\n",
       "      <td>1</td>\n",
       "      <td>1</td>\n",
       "      <td>1</td>\n",
       "      <td>1</td>\n",
       "      <td>1</td>\n",
       "      <td>0</td>\n",
       "      <td>26</td>\n",
       "      <td>198.36</td>\n",
       "      <td>1.00</td>\n",
       "      <td>3</td>\n",
       "      <td>1.11</td>\n",
       "      <td>1.12</td>\n",
       "      <td>0</td>\n",
       "    </tr>\n",
       "  </tbody>\n",
       "</table>\n",
       "</div>"
      ],
      "text/plain": [
       "   gender  near_location  partner  promo_friends  phone  contract_period  \\\n",
       "0       1              1        1              1      0                6   \n",
       "1       0              1        0              0      1               12   \n",
       "2       0              1        1              0      1                1   \n",
       "3       0              1        1              1      1               12   \n",
       "4       1              1        1              1      1                1   \n",
       "\n",
       "   group_visits  age  avg_additional_charges_total  month_to_end_contract  \\\n",
       "0             1   29                         14.23                   5.00   \n",
       "1             1   31                        113.20                  12.00   \n",
       "2             0   28                        129.45                   1.00   \n",
       "3             1   33                         62.67                  12.00   \n",
       "4             0   26                        198.36                   1.00   \n",
       "\n",
       "   lifetime  avg_class_frequency_total  avg_class_frequency_current_month  \\\n",
       "0         3                       0.02                               0.00   \n",
       "1         7                       1.92                               1.91   \n",
       "2         2                       1.86                               1.74   \n",
       "3         2                       3.21                               3.36   \n",
       "4         3                       1.11                               1.12   \n",
       "\n",
       "   churn  \n",
       "0      0  \n",
       "1      0  \n",
       "2      0  \n",
       "3      0  \n",
       "4      0  "
      ]
     },
     "execution_count": 7,
     "metadata": {},
     "output_type": "execute_result"
    }
   ],
   "source": [
    "gym_data.head(5)"
   ]
  },
  {
   "cell_type": "code",
   "execution_count": 8,
   "metadata": {
    "ExecuteTime": {
     "end_time": "2022-11-18T13:32:23.596465Z",
     "start_time": "2022-11-18T13:32:23.444710Z"
    }
   },
   "outputs": [
    {
     "name": "stdout",
     "output_type": "stream",
     "text": [
      "<class 'pandas.core.frame.DataFrame'>\n",
      "RangeIndex: 4000 entries, 0 to 3999\n",
      "Data columns (total 14 columns):\n",
      " #   Column                             Non-Null Count  Dtype  \n",
      "---  ------                             --------------  -----  \n",
      " 0   gender                             4000 non-null   int64  \n",
      " 1   near_location                      4000 non-null   int64  \n",
      " 2   partner                            4000 non-null   int64  \n",
      " 3   promo_friends                      4000 non-null   int64  \n",
      " 4   phone                              4000 non-null   int64  \n",
      " 5   contract_period                    4000 non-null   int64  \n",
      " 6   group_visits                       4000 non-null   int64  \n",
      " 7   age                                4000 non-null   int64  \n",
      " 8   avg_additional_charges_total       4000 non-null   float64\n",
      " 9   month_to_end_contract              4000 non-null   float64\n",
      " 10  lifetime                           4000 non-null   int64  \n",
      " 11  avg_class_frequency_total          4000 non-null   float64\n",
      " 12  avg_class_frequency_current_month  4000 non-null   float64\n",
      " 13  churn                              4000 non-null   int64  \n",
      "dtypes: float64(4), int64(10)\n",
      "memory usage: 437.6 KB\n"
     ]
    }
   ],
   "source": [
    "# Посмотрю общую информацию о датасете:\n",
    "gym_data.info()"
   ]
  },
  {
   "cell_type": "markdown",
   "metadata": {},
   "source": [
    "Пропусков в датасете нет, типы данных соответствуют своим сущностям.\n",
    "\n",
    "Изучу средние значения и стандартные отклонения"
   ]
  },
  {
   "cell_type": "code",
   "execution_count": 9,
   "metadata": {
    "ExecuteTime": {
     "end_time": "2022-11-18T13:32:23.721066Z",
     "start_time": "2022-11-18T13:32:23.600048Z"
    },
    "scrolled": true
   },
   "outputs": [
    {
     "data": {
      "text/html": [
       "<div>\n",
       "<style scoped>\n",
       "    .dataframe tbody tr th:only-of-type {\n",
       "        vertical-align: middle;\n",
       "    }\n",
       "\n",
       "    .dataframe tbody tr th {\n",
       "        vertical-align: top;\n",
       "    }\n",
       "\n",
       "    .dataframe thead th {\n",
       "        text-align: right;\n",
       "    }\n",
       "</style>\n",
       "<table border=\"1\" class=\"dataframe\">\n",
       "  <thead>\n",
       "    <tr style=\"text-align: right;\">\n",
       "      <th></th>\n",
       "      <th>gender</th>\n",
       "      <th>near_location</th>\n",
       "      <th>partner</th>\n",
       "      <th>promo_friends</th>\n",
       "      <th>phone</th>\n",
       "      <th>contract_period</th>\n",
       "      <th>group_visits</th>\n",
       "      <th>age</th>\n",
       "      <th>avg_additional_charges_total</th>\n",
       "      <th>month_to_end_contract</th>\n",
       "      <th>lifetime</th>\n",
       "      <th>avg_class_frequency_total</th>\n",
       "      <th>avg_class_frequency_current_month</th>\n",
       "      <th>churn</th>\n",
       "    </tr>\n",
       "  </thead>\n",
       "  <tbody>\n",
       "    <tr>\n",
       "      <th>count</th>\n",
       "      <td>4,000.00</td>\n",
       "      <td>4,000.00</td>\n",
       "      <td>4,000.00</td>\n",
       "      <td>4,000.00</td>\n",
       "      <td>4,000.00</td>\n",
       "      <td>4,000.00</td>\n",
       "      <td>4,000.00</td>\n",
       "      <td>4,000.00</td>\n",
       "      <td>4,000.00</td>\n",
       "      <td>4,000.00</td>\n",
       "      <td>4,000.00</td>\n",
       "      <td>4,000.00</td>\n",
       "      <td>4,000.00</td>\n",
       "      <td>4,000.00</td>\n",
       "    </tr>\n",
       "    <tr>\n",
       "      <th>mean</th>\n",
       "      <td>0.51</td>\n",
       "      <td>0.85</td>\n",
       "      <td>0.49</td>\n",
       "      <td>0.31</td>\n",
       "      <td>0.90</td>\n",
       "      <td>4.68</td>\n",
       "      <td>0.41</td>\n",
       "      <td>29.18</td>\n",
       "      <td>146.94</td>\n",
       "      <td>4.32</td>\n",
       "      <td>3.72</td>\n",
       "      <td>1.88</td>\n",
       "      <td>1.77</td>\n",
       "      <td>0.27</td>\n",
       "    </tr>\n",
       "    <tr>\n",
       "      <th>std</th>\n",
       "      <td>0.50</td>\n",
       "      <td>0.36</td>\n",
       "      <td>0.50</td>\n",
       "      <td>0.46</td>\n",
       "      <td>0.30</td>\n",
       "      <td>4.55</td>\n",
       "      <td>0.49</td>\n",
       "      <td>3.26</td>\n",
       "      <td>96.36</td>\n",
       "      <td>4.19</td>\n",
       "      <td>3.75</td>\n",
       "      <td>0.97</td>\n",
       "      <td>1.05</td>\n",
       "      <td>0.44</td>\n",
       "    </tr>\n",
       "    <tr>\n",
       "      <th>min</th>\n",
       "      <td>0.00</td>\n",
       "      <td>0.00</td>\n",
       "      <td>0.00</td>\n",
       "      <td>0.00</td>\n",
       "      <td>0.00</td>\n",
       "      <td>1.00</td>\n",
       "      <td>0.00</td>\n",
       "      <td>18.00</td>\n",
       "      <td>0.15</td>\n",
       "      <td>1.00</td>\n",
       "      <td>0.00</td>\n",
       "      <td>0.00</td>\n",
       "      <td>0.00</td>\n",
       "      <td>0.00</td>\n",
       "    </tr>\n",
       "    <tr>\n",
       "      <th>25%</th>\n",
       "      <td>0.00</td>\n",
       "      <td>1.00</td>\n",
       "      <td>0.00</td>\n",
       "      <td>0.00</td>\n",
       "      <td>1.00</td>\n",
       "      <td>1.00</td>\n",
       "      <td>0.00</td>\n",
       "      <td>27.00</td>\n",
       "      <td>68.87</td>\n",
       "      <td>1.00</td>\n",
       "      <td>1.00</td>\n",
       "      <td>1.18</td>\n",
       "      <td>0.96</td>\n",
       "      <td>0.00</td>\n",
       "    </tr>\n",
       "    <tr>\n",
       "      <th>50%</th>\n",
       "      <td>1.00</td>\n",
       "      <td>1.00</td>\n",
       "      <td>0.00</td>\n",
       "      <td>0.00</td>\n",
       "      <td>1.00</td>\n",
       "      <td>1.00</td>\n",
       "      <td>0.00</td>\n",
       "      <td>29.00</td>\n",
       "      <td>136.22</td>\n",
       "      <td>1.00</td>\n",
       "      <td>3.00</td>\n",
       "      <td>1.83</td>\n",
       "      <td>1.72</td>\n",
       "      <td>0.00</td>\n",
       "    </tr>\n",
       "    <tr>\n",
       "      <th>75%</th>\n",
       "      <td>1.00</td>\n",
       "      <td>1.00</td>\n",
       "      <td>1.00</td>\n",
       "      <td>1.00</td>\n",
       "      <td>1.00</td>\n",
       "      <td>6.00</td>\n",
       "      <td>1.00</td>\n",
       "      <td>31.00</td>\n",
       "      <td>210.95</td>\n",
       "      <td>6.00</td>\n",
       "      <td>5.00</td>\n",
       "      <td>2.54</td>\n",
       "      <td>2.51</td>\n",
       "      <td>1.00</td>\n",
       "    </tr>\n",
       "    <tr>\n",
       "      <th>max</th>\n",
       "      <td>1.00</td>\n",
       "      <td>1.00</td>\n",
       "      <td>1.00</td>\n",
       "      <td>1.00</td>\n",
       "      <td>1.00</td>\n",
       "      <td>12.00</td>\n",
       "      <td>1.00</td>\n",
       "      <td>41.00</td>\n",
       "      <td>552.59</td>\n",
       "      <td>12.00</td>\n",
       "      <td>31.00</td>\n",
       "      <td>6.02</td>\n",
       "      <td>6.15</td>\n",
       "      <td>1.00</td>\n",
       "    </tr>\n",
       "  </tbody>\n",
       "</table>\n",
       "</div>"
      ],
      "text/plain": [
       "        gender  near_location  partner  promo_friends    phone  \\\n",
       "count 4,000.00       4,000.00 4,000.00       4,000.00 4,000.00   \n",
       "mean      0.51           0.85     0.49           0.31     0.90   \n",
       "std       0.50           0.36     0.50           0.46     0.30   \n",
       "min       0.00           0.00     0.00           0.00     0.00   \n",
       "25%       0.00           1.00     0.00           0.00     1.00   \n",
       "50%       1.00           1.00     0.00           0.00     1.00   \n",
       "75%       1.00           1.00     1.00           1.00     1.00   \n",
       "max       1.00           1.00     1.00           1.00     1.00   \n",
       "\n",
       "       contract_period  group_visits      age  avg_additional_charges_total  \\\n",
       "count         4,000.00      4,000.00 4,000.00                      4,000.00   \n",
       "mean              4.68          0.41    29.18                        146.94   \n",
       "std               4.55          0.49     3.26                         96.36   \n",
       "min               1.00          0.00    18.00                          0.15   \n",
       "25%               1.00          0.00    27.00                         68.87   \n",
       "50%               1.00          0.00    29.00                        136.22   \n",
       "75%               6.00          1.00    31.00                        210.95   \n",
       "max              12.00          1.00    41.00                        552.59   \n",
       "\n",
       "       month_to_end_contract  lifetime  avg_class_frequency_total  \\\n",
       "count               4,000.00  4,000.00                   4,000.00   \n",
       "mean                    4.32      3.72                       1.88   \n",
       "std                     4.19      3.75                       0.97   \n",
       "min                     1.00      0.00                       0.00   \n",
       "25%                     1.00      1.00                       1.18   \n",
       "50%                     1.00      3.00                       1.83   \n",
       "75%                     6.00      5.00                       2.54   \n",
       "max                    12.00     31.00                       6.02   \n",
       "\n",
       "       avg_class_frequency_current_month    churn  \n",
       "count                           4,000.00 4,000.00  \n",
       "mean                                1.77     0.27  \n",
       "std                                 1.05     0.44  \n",
       "min                                 0.00     0.00  \n",
       "25%                                 0.96     0.00  \n",
       "50%                                 1.72     0.00  \n",
       "75%                                 2.51     1.00  \n",
       "max                                 6.15     1.00  "
      ]
     },
     "execution_count": 9,
     "metadata": {},
     "output_type": "execute_result"
    }
   ],
   "source": [
    "gym_data.describe()"
   ]
  },
  {
   "cell_type": "markdown",
   "metadata": {},
   "source": [
    "### Средние значения признаков в двух группах\n",
    "Посмотрите на средние значения признаков в двух группах — тех, кто ушел в отток и тех, кто остался (воспользуйтесь методом `groupby()`);"
   ]
  },
  {
   "cell_type": "code",
   "execution_count": 10,
   "metadata": {
    "ExecuteTime": {
     "end_time": "2022-11-18T13:32:24.620940Z",
     "start_time": "2022-11-18T13:32:23.729045Z"
    },
    "scrolled": false
   },
   "outputs": [
    {
     "data": {
      "text/html": [
       "<style type=\"text/css\">\n",
       "</style>\n",
       "<table id=\"T_fe288\">\n",
       "  <thead>\n",
       "    <tr>\n",
       "      <th class=\"index_name level0\" >churn</th>\n",
       "      <th id=\"T_fe288_level0_col0\" class=\"col_heading level0 col0\" >0</th>\n",
       "      <th id=\"T_fe288_level0_col1\" class=\"col_heading level0 col1\" >1</th>\n",
       "    </tr>\n",
       "  </thead>\n",
       "  <tbody>\n",
       "    <tr>\n",
       "      <th id=\"T_fe288_level0_row0\" class=\"row_heading level0 row0\" >gender</th>\n",
       "      <td id=\"T_fe288_row0_col0\" class=\"data row0 col0\" >0.510037</td>\n",
       "      <td id=\"T_fe288_row0_col1\" class=\"data row0 col1\" >0.510839</td>\n",
       "    </tr>\n",
       "    <tr>\n",
       "      <th id=\"T_fe288_level0_row1\" class=\"row_heading level0 row1\" >near_location</th>\n",
       "      <td id=\"T_fe288_row1_col0\" class=\"data row1 col0\" >0.873086</td>\n",
       "      <td id=\"T_fe288_row1_col1\" class=\"data row1 col1\" >0.768143</td>\n",
       "    </tr>\n",
       "    <tr>\n",
       "      <th id=\"T_fe288_level0_row2\" class=\"row_heading level0 row2\" >partner</th>\n",
       "      <td id=\"T_fe288_row2_col0\" class=\"data row2 col0\" >0.534195</td>\n",
       "      <td id=\"T_fe288_row2_col1\" class=\"data row2 col1\" >0.355325</td>\n",
       "    </tr>\n",
       "    <tr>\n",
       "      <th id=\"T_fe288_level0_row3\" class=\"row_heading level0 row3\" >promo_friends</th>\n",
       "      <td id=\"T_fe288_row3_col0\" class=\"data row3 col0\" >0.353522</td>\n",
       "      <td id=\"T_fe288_row3_col1\" class=\"data row3 col1\" >0.183789</td>\n",
       "    </tr>\n",
       "    <tr>\n",
       "      <th id=\"T_fe288_level0_row4\" class=\"row_heading level0 row4\" >phone</th>\n",
       "      <td id=\"T_fe288_row4_col0\" class=\"data row4 col0\" >0.903709</td>\n",
       "      <td id=\"T_fe288_row4_col1\" class=\"data row4 col1\" >0.902922</td>\n",
       "    </tr>\n",
       "    <tr>\n",
       "      <th id=\"T_fe288_level0_row5\" class=\"row_heading level0 row5\" >contract_period</th>\n",
       "      <td id=\"T_fe288_row5_col0\" class=\"data row5 col0\" >5.747193</td>\n",
       "      <td id=\"T_fe288_row5_col1\" class=\"data row5 col1\" >1.728558</td>\n",
       "    </tr>\n",
       "    <tr>\n",
       "      <th id=\"T_fe288_level0_row6\" class=\"row_heading level0 row6\" >group_visits</th>\n",
       "      <td id=\"T_fe288_row6_col0\" class=\"data row6 col0\" >0.464103</td>\n",
       "      <td id=\"T_fe288_row6_col1\" class=\"data row6 col1\" >0.268615</td>\n",
       "    </tr>\n",
       "    <tr>\n",
       "      <th id=\"T_fe288_level0_row7\" class=\"row_heading level0 row7\" >age</th>\n",
       "      <td id=\"T_fe288_row7_col0\" class=\"data row7 col0\" >29.976523</td>\n",
       "      <td id=\"T_fe288_row7_col1\" class=\"data row7 col1\" >26.989632</td>\n",
       "    </tr>\n",
       "    <tr>\n",
       "      <th id=\"T_fe288_level0_row8\" class=\"row_heading level0 row8\" >avg_additional_charges_total</th>\n",
       "      <td id=\"T_fe288_row8_col0\" class=\"data row8 col0\" >158.445715</td>\n",
       "      <td id=\"T_fe288_row8_col1\" class=\"data row8 col1\" >115.082899</td>\n",
       "    </tr>\n",
       "    <tr>\n",
       "      <th id=\"T_fe288_level0_row9\" class=\"row_heading level0 row9\" >month_to_end_contract</th>\n",
       "      <td id=\"T_fe288_row9_col0\" class=\"data row9 col0\" >5.283089</td>\n",
       "      <td id=\"T_fe288_row9_col1\" class=\"data row9 col1\" >1.662582</td>\n",
       "    </tr>\n",
       "    <tr>\n",
       "      <th id=\"T_fe288_level0_row10\" class=\"row_heading level0 row10\" >lifetime</th>\n",
       "      <td id=\"T_fe288_row10_col0\" class=\"data row10 col0\" >4.711807</td>\n",
       "      <td id=\"T_fe288_row10_col1\" class=\"data row10 col1\" >0.990575</td>\n",
       "    </tr>\n",
       "    <tr>\n",
       "      <th id=\"T_fe288_level0_row11\" class=\"row_heading level0 row11\" >avg_class_frequency_total</th>\n",
       "      <td id=\"T_fe288_row11_col0\" class=\"data row11 col0\" >2.024876</td>\n",
       "      <td id=\"T_fe288_row11_col1\" class=\"data row11 col1\" >1.474995</td>\n",
       "    </tr>\n",
       "    <tr>\n",
       "      <th id=\"T_fe288_level0_row12\" class=\"row_heading level0 row12\" >avg_class_frequency_current_month</th>\n",
       "      <td id=\"T_fe288_row12_col0\" class=\"data row12 col0\" >2.027882</td>\n",
       "      <td id=\"T_fe288_row12_col1\" class=\"data row12 col1\" >1.044546</td>\n",
       "    </tr>\n",
       "  </tbody>\n",
       "</table>\n"
      ],
      "text/plain": [
       "<pandas.io.formats.style.Styler at 0x259f67621c0>"
      ]
     },
     "execution_count": 10,
     "metadata": {},
     "output_type": "execute_result"
    }
   ],
   "source": [
    "gym_data.groupby('churn').mean().T.style"
   ]
  },
  {
   "cell_type": "code",
   "execution_count": 11,
   "metadata": {
    "ExecuteTime": {
     "end_time": "2022-11-18T13:32:24.682062Z",
     "start_time": "2022-11-18T13:32:24.644891Z"
    }
   },
   "outputs": [
    {
     "data": {
      "text/plain": [
       "Index(['gender', 'near_location', 'partner', 'promo_friends', 'phone',\n",
       "       'contract_period', 'group_visits', 'age',\n",
       "       'avg_additional_charges_total', 'month_to_end_contract', 'lifetime',\n",
       "       'avg_class_frequency_total', 'avg_class_frequency_current_month',\n",
       "       'churn'],\n",
       "      dtype='object')"
      ]
     },
     "execution_count": 11,
     "metadata": {},
     "output_type": "execute_result"
    }
   ],
   "source": [
    "gym_data.columns"
   ]
  },
  {
   "cell_type": "markdown",
   "metadata": {},
   "source": [
    "### Столбчатые гистограммы и распределение признаков\n",
    "Постройте столбчатые гистограммы и распределения признаков для тех, кто ушёл (отток) и тех, кто остался (не попали в отток)"
   ]
  },
  {
   "cell_type": "code",
   "execution_count": 12,
   "metadata": {
    "ExecuteTime": {
     "end_time": "2022-11-18T13:32:29.958658Z",
     "start_time": "2022-11-18T13:32:24.690035Z"
    }
   },
   "outputs": [
    {
     "data": {
      "image/png": "[encoded data removed]",
      "text/plain": [
       "<Figure size 2160x1350 with 9 Axes>"
      ]
     },
     "metadata": {},
     "output_type": "display_data"
    }
   ],
   "source": [
    "# Построю графики качественных характеристик, сгруппированных по критерию оттока:\n",
    "categorical = ['gender', 'near_location', 'partner', \n",
    "         'promo_friends', 'phone', 'contract_period', 'group_visits']\n",
    "cols = 3\n",
    "c, axes = plt.subplots(nrows=3, ncols=cols, figsize=(24, 15), dpi=90)\n",
    "\n",
    "for idx, feat in enumerate(categorical):\n",
    "    sns.countplot(x = gym_data[feat], data=gym_data, hue='churn',\n",
    "                  ax=axes[idx // cols, idx % cols]).set(title=feat)\n",
    "    axes[idx // cols, idx % cols].set_ylabel('')\n",
    "    axes[idx // cols, idx % cols].set_xlabel('')"
   ]
  },
  {
   "cell_type": "code",
   "execution_count": 13,
   "metadata": {
    "ExecuteTime": {
     "end_time": "2022-11-18T13:32:36.197367Z",
     "start_time": "2022-11-18T13:32:29.977623Z"
    },
    "scrolled": false
   },
   "outputs": [
    {
     "data": {
      "image/png": "[encoded data removed]",
      "text/plain": [
       "<Figure size 2160x1080 with 6 Axes>"
      ]
     },
     "metadata": {},
     "output_type": "display_data"
    }
   ],
   "source": [
    "# Построю гистограммы распределения по количественным характеристикам:\n",
    "quantitative = ['age', 'avg_additional_charges_total', 'month_to_end_contract', \n",
    "                'lifetime', 'avg_class_frequency_total', 'avg_class_frequency_current_month']\n",
    "cols = 3\n",
    "q, axes = plt.subplots(nrows=2, ncols=cols, figsize=(24, 12), dpi=90)\n",
    "\n",
    "for idx, feat in enumerate(quantitative):\n",
    "    sns.histplot(x = gym_data[feat], data=gym_data, hue='churn', kde=True, linewidth=0, bins=20,\n",
    "                 ax=axes[idx // cols, idx % cols]).set(title=feat)\n",
    "    axes[idx // cols, idx % cols].set_ylabel('')\n",
    "    axes[idx // cols, idx % cols].set_xlabel('')"
   ]
  },
  {
   "cell_type": "markdown",
   "metadata": {},
   "source": [
    "### Матрица корреляций и тепловая карта\n",
    "\n",
    "Постройте матрицу корреляций и отобразите её."
   ]
  },
  {
   "cell_type": "code",
   "execution_count": 14,
   "metadata": {
    "ExecuteTime": {
     "end_time": "2022-11-18T13:32:38.164114Z",
     "start_time": "2022-11-18T13:32:36.204304Z"
    }
   },
   "outputs": [
    {
     "data": {
      "image/png": "[encoded data removed]",
      "text/plain": [
       "<Figure size 1400x600 with 2 Axes>"
      ]
     },
     "metadata": {},
     "output_type": "display_data"
    }
   ],
   "source": [
    "cm = gym_data.corr()\n",
    "plt.figure(figsize=(14, 6))\n",
    "sns.heatmap(cm, annot = True, fmt = '0.2f', linewidths=.5, cmap='coolwarm')\n",
    "plt.title('Тепловая карта матрицы корреляций')\n",
    "plt.show()"
   ]
  },
  {
   "cell_type": "markdown",
   "metadata": {},
   "source": [
    "**Вывод:**\n",
    "\n",
    "В данных есть мультиколлинеарные признаки:\n",
    "- `contract_period` - `month_to_end_contract`\n",
    "- `avg_class_frequency_total` - `avg_class_frequency_current_month`\n",
    "\n",
    "А также есть признаки с нулевой зависимостью от целевой переменной: `gender`, `phone`.\n",
    "\n",
    "У признаков `near_location`, `partner`, `promo_friends` и `avg_additional_charges_total` слабая корреляция с целевой переменной, корреляция в диапазоне (-0.13) - (-0.2). Эти признаки не оказывают существенного влияния на отток.\n",
    "\n",
    "Таким образом остаются признаки `contract_period`, `month_to_end_contract`, `age`, `lifetime` и `avg_class_frequency_current_month` с относительно существенным влиянием на целевую переменную, при чём, как указано выше, первые два - мультиколлинеарны между собой."
   ]
  },
  {
   "cell_type": "markdown",
   "metadata": {},
   "source": [
    "[Оглавление](#section_id)\n",
    "\n",
    "## Модель прогнозирования оттока клиентов\n",
    "<a id='section_id3'></a>\n",
    "\n",
    "Необходимо построить модель бинарной классификации клиентов, где целевой признак — факт оттока клиента в следующем месяце"
   ]
  },
  {
   "cell_type": "markdown",
   "metadata": {},
   "source": [
    "Перед построением моделей прогнозирования, необходимо убрать мультиколлинеарные признаки. Из каждой пары буду убирать признак, которых хуже коррелирует с целевой переменной\n",
    "1. Из пары `contract_period` (корр. -0.39) - `month_to_end_contract`(корр. -0.38) уберу `month_to_end_contract`\n",
    "2. Из пары `avg_class_frequency_total`(корр. -0.25) - `avg_class_frequency_current_month` (корр. -0.41), уберу `avg_class_frequency_total`"
   ]
  },
  {
   "cell_type": "code",
   "execution_count": 15,
   "metadata": {
    "ExecuteTime": {
     "end_time": "2022-11-18T13:32:38.196039Z",
     "start_time": "2022-11-18T13:32:38.168998Z"
    }
   },
   "outputs": [],
   "source": [
    "gym = copy.deepcopy(gym_data.drop(['month_to_end_contract', 'avg_class_frequency_total'], axis=1))"
   ]
  },
  {
   "cell_type": "code",
   "execution_count": 16,
   "metadata": {
    "ExecuteTime": {
     "end_time": "2022-11-18T13:32:38.306696Z",
     "start_time": "2022-11-18T13:32:38.201909Z"
    }
   },
   "outputs": [],
   "source": [
    "# разделю данные на признаки (матрица X) и целевую переменную (y)\n",
    "X = gym.drop('churn', axis = 1)\n",
    "y = gym['churn']\n",
    "\n",
    "# разделяю модель на обучающую и валидационную выборки\n",
    "X_train, X_test, y_train, y_test = train_test_split(X, y, test_size=0.2, random_state=0)"
   ]
  },
  {
   "cell_type": "markdown",
   "metadata": {},
   "source": [
    "### Логистическая регрессия"
   ]
  },
  {
   "cell_type": "code",
   "execution_count": 17,
   "metadata": {
    "ExecuteTime": {
     "end_time": "2022-11-18T13:32:38.529106Z",
     "start_time": "2022-11-18T13:32:38.315674Z"
    }
   },
   "outputs": [
    {
     "name": "stdout",
     "output_type": "stream",
     "text": [
      "Метрики прогноза на основе логистической регресси:\n",
      "Accuracy: 0.90\n",
      "Precision: 0.79\n",
      "Recall: 0.79\n"
     ]
    }
   ],
   "source": [
    "# задаю алгоритм для логистической модели\n",
    "model = LogisticRegression(solver='liblinear', random_state=0)\n",
    "\n",
    "# обучение модели\n",
    "model.fit(X_train, y_train)\n",
    "\n",
    "# прогнозирование на обученной модели\n",
    "predictions = model.predict(X_test)\n",
    "probabilities =  model.predict_proba(X_test)[:,1]\n",
    "\n",
    "print('Метрики прогноза на основе логистической регресси:')\n",
    "print('Accuracy: {:.2f}'.format(accuracy_score(y_test, predictions)))\n",
    "print('Precision: {:.2f}'.format(precision_score(y_test, predictions)))\n",
    "print('Recall: {:.2f}'.format(recall_score(y_test, predictions)))"
   ]
  },
  {
   "cell_type": "markdown",
   "metadata": {},
   "source": [
    "### Случайный лес"
   ]
  },
  {
   "cell_type": "code",
   "execution_count": 18,
   "metadata": {
    "ExecuteTime": {
     "end_time": "2022-11-18T13:32:39.460913Z",
     "start_time": "2022-11-18T13:32:38.535211Z"
    }
   },
   "outputs": [
    {
     "name": "stdout",
     "output_type": "stream",
     "text": [
      "Метрики прогноза на основе метода случайный лес:\n",
      "Accuracy: 0.90\n",
      "Precision: 0.81\n",
      "Recall: 0.75\n"
     ]
    }
   ],
   "source": [
    "# обучение StandartScaler на обучающей выборке\n",
    "scaler = StandardScaler()\n",
    "scaler.fit(X_train)\n",
    "\n",
    "# Преобразование обучающего и валидационного наборов данных\n",
    "X_train_st = scaler.transform(X_train)\n",
    "X_test_st = scaler.transform(X_test)\n",
    "\n",
    "# алгоритм для модели логистической регрессии\n",
    "rf_model = RandomForestClassifier(n_estimators = 100, random_state = 0)\n",
    "# обучение модели\n",
    "rf_model.fit(X_train_st, y_train)\n",
    "# формирование прогнозов на основе обученной модели\n",
    "rf_predictions = rf_model.predict(X_test_st) \n",
    "rf_probabilities = rf_model.predict_proba(X_test_st)[:,1]\n",
    "\n",
    "print('Метрики прогноза на основе метода случайный лес:')\n",
    "print('Accuracy: {:.2f}'.format(accuracy_score(y_test, rf_predictions)))\n",
    "print('Precision: {:.2f}'.format(precision_score(y_test, rf_predictions)))\n",
    "print('Recall: {:.2f}'.format(recall_score(y_test, rf_predictions)))"
   ]
  },
  {
   "cell_type": "markdown",
   "metadata": {},
   "source": [
    "**Вывод:**\n",
    "\n",
    "Две модели показывают схожие метрики прогноза."
   ]
  },
  {
   "cell_type": "markdown",
   "metadata": {},
   "source": [
    "[Оглавление](#section_id)\n",
    "\n",
    "## Кластеризация клиентов\n",
    "<a id='section_id4'></a>\n",
    "\n",
    "### Стандартизация данных"
   ]
  },
  {
   "cell_type": "code",
   "execution_count": 19,
   "metadata": {
    "ExecuteTime": {
     "end_time": "2022-11-18T13:32:39.506945Z",
     "start_time": "2022-11-18T13:32:39.468683Z"
    }
   },
   "outputs": [],
   "source": [
    "# Стандартизация данных перед работой с алгоритмами\n",
    "sc = StandardScaler()\n",
    "X_sc = sc.fit_transform(gym)"
   ]
  },
  {
   "cell_type": "markdown",
   "metadata": {},
   "source": [
    "### Матрица расстояний и дендрограмма\n",
    "\n",
    "Постройте матрицу расстояний функцией linkage() на стандартизованной матрице признаков и нарисуйте дендрограмму. Внимание: отрисовка дендрограммы может занять время! На основании полученного графика предположите, какое количество кластеров можно выделить."
   ]
  },
  {
   "cell_type": "code",
   "execution_count": 20,
   "metadata": {
    "ExecuteTime": {
     "end_time": "2022-11-18T13:34:01.902041Z",
     "start_time": "2022-11-18T13:32:39.514923Z"
    }
   },
   "outputs": [
    {
     "data": {
      "image/png": "[encoded data removed]",
      "text/plain": [
       "<Figure size 1500x1000 with 1 Axes>"
      ]
     },
     "metadata": {},
     "output_type": "display_data"
    }
   ],
   "source": [
    "linked = linkage(X_sc, method = 'ward') \n",
    "# График дендрограммы\n",
    "plt.figure(figsize=(15, 10))  \n",
    "dendrogram(linked, orientation='top')\n",
    "plt.title('Кластеризация пользователей')\n",
    "plt.show() "
   ]
  },
  {
   "cell_type": "markdown",
   "metadata": {},
   "source": [
    "На графике явно выделяются 5 кластеров пользователей"
   ]
  },
  {
   "cell_type": "markdown",
   "metadata": {},
   "source": [
    "### K-Means\n",
    "\n",
    "Обучите модель кластеризации на основании алгоритма K-Means и спрогнозируйте кластеры клиентов. Договоримся за число кластеров принять n=5, чтобы ваши результаты можно было сравнивать с результатами остальных студентов. Однако, конечно, в жизни никто не скажет вам правильный ответ, и решение остаётся за вами (на основании изучения графика из предыдущего пункта)."
   ]
  },
  {
   "cell_type": "code",
   "execution_count": 21,
   "metadata": {
    "ExecuteTime": {
     "end_time": "2022-11-18T13:34:03.250460Z",
     "start_time": "2022-11-18T13:34:01.908024Z"
    }
   },
   "outputs": [
    {
     "data": {
      "text/html": [
       "<div>\n",
       "<style scoped>\n",
       "    .dataframe tbody tr th:only-of-type {\n",
       "        vertical-align: middle;\n",
       "    }\n",
       "\n",
       "    .dataframe tbody tr th {\n",
       "        vertical-align: top;\n",
       "    }\n",
       "\n",
       "    .dataframe thead th {\n",
       "        text-align: right;\n",
       "    }\n",
       "</style>\n",
       "<table border=\"1\" class=\"dataframe\">\n",
       "  <thead>\n",
       "    <tr style=\"text-align: right;\">\n",
       "      <th></th>\n",
       "      <th>gender</th>\n",
       "      <th>near_location</th>\n",
       "      <th>partner</th>\n",
       "      <th>promo_friends</th>\n",
       "      <th>phone</th>\n",
       "      <th>contract_period</th>\n",
       "      <th>group_visits</th>\n",
       "      <th>age</th>\n",
       "      <th>avg_additional_charges_total</th>\n",
       "      <th>lifetime</th>\n",
       "      <th>avg_class_frequency_current_month</th>\n",
       "      <th>churn</th>\n",
       "      <th>cluster</th>\n",
       "    </tr>\n",
       "  </thead>\n",
       "  <tbody>\n",
       "    <tr>\n",
       "      <th>0</th>\n",
       "      <td>1</td>\n",
       "      <td>1</td>\n",
       "      <td>1</td>\n",
       "      <td>1</td>\n",
       "      <td>0</td>\n",
       "      <td>6</td>\n",
       "      <td>1</td>\n",
       "      <td>29</td>\n",
       "      <td>14.23</td>\n",
       "      <td>3</td>\n",
       "      <td>0.00</td>\n",
       "      <td>0</td>\n",
       "      <td>2</td>\n",
       "    </tr>\n",
       "    <tr>\n",
       "      <th>1</th>\n",
       "      <td>0</td>\n",
       "      <td>1</td>\n",
       "      <td>0</td>\n",
       "      <td>0</td>\n",
       "      <td>1</td>\n",
       "      <td>12</td>\n",
       "      <td>1</td>\n",
       "      <td>31</td>\n",
       "      <td>113.20</td>\n",
       "      <td>7</td>\n",
       "      <td>1.91</td>\n",
       "      <td>0</td>\n",
       "      <td>1</td>\n",
       "    </tr>\n",
       "    <tr>\n",
       "      <th>2</th>\n",
       "      <td>0</td>\n",
       "      <td>1</td>\n",
       "      <td>1</td>\n",
       "      <td>0</td>\n",
       "      <td>1</td>\n",
       "      <td>1</td>\n",
       "      <td>0</td>\n",
       "      <td>28</td>\n",
       "      <td>129.45</td>\n",
       "      <td>2</td>\n",
       "      <td>1.74</td>\n",
       "      <td>0</td>\n",
       "      <td>1</td>\n",
       "    </tr>\n",
       "  </tbody>\n",
       "</table>\n",
       "</div>"
      ],
      "text/plain": [
       "   gender  near_location  partner  promo_friends  phone  contract_period  \\\n",
       "0       1              1        1              1      0                6   \n",
       "1       0              1        0              0      1               12   \n",
       "2       0              1        1              0      1                1   \n",
       "\n",
       "   group_visits  age  avg_additional_charges_total  lifetime  \\\n",
       "0             1   29                         14.23         3   \n",
       "1             1   31                        113.20         7   \n",
       "2             0   28                        129.45         2   \n",
       "\n",
       "   avg_class_frequency_current_month  churn  cluster  \n",
       "0                               0.00      0        2  \n",
       "1                               1.91      0        1  \n",
       "2                               1.74      0        1  "
      ]
     },
     "execution_count": 21,
     "metadata": {},
     "output_type": "execute_result"
    }
   ],
   "source": [
    "# задаю число кластеров, равное 5, и фиксирую значение random_state для воспроизводимости результата\n",
    "km = KMeans(n_clusters=5, random_state=0)\n",
    "# применяю алгоритм к данным и формирую вектор кластеров\n",
    "labels = km.fit_predict(X_sc)\n",
    "\n",
    "gym['cluster'] = labels\n",
    "gym.head(3)"
   ]
  },
  {
   "cell_type": "markdown",
   "metadata": {},
   "source": [
    "### Средние значения признаков для кластеров\n",
    "\n",
    "Посмотрите на средние значения признаков для кластеров. Можно ли сразу что-то заметить?"
   ]
  },
  {
   "cell_type": "code",
   "execution_count": 22,
   "metadata": {
    "ExecuteTime": {
     "end_time": "2022-11-18T13:34:03.314294Z",
     "start_time": "2022-11-18T13:34:03.256443Z"
    }
   },
   "outputs": [
    {
     "data": {
      "text/plain": [
       "1    1290\n",
       "3    1037\n",
       "4     730\n",
       "0     557\n",
       "2     386\n",
       "Name: cluster, dtype: int64"
      ]
     },
     "execution_count": 22,
     "metadata": {},
     "output_type": "execute_result"
    }
   ],
   "source": [
    "# Посмотрю на количественное распределение данных между полученными кластерами\n",
    "gym['cluster'].value_counts()"
   ]
  },
  {
   "cell_type": "markdown",
   "metadata": {},
   "source": [
    "<div class=\"alert alert-success\">\n",
    "<font size=\"5\"><b>Комментарий ревьюера</b></font>\n",
    "\n",
    "Успех:\n",
    "\n",
    "Здорово что обращаешь внимание на размер кластеров, может там в одном или нескольих выборка мизерная со всеми вытекающими для качества выводов\n",
    "\n",
    "</div>\n",
    "\n",
    "\n",
    "\n",
    "\n",
    "\n"
   ]
  },
  {
   "cell_type": "code",
   "execution_count": 23,
   "metadata": {
    "ExecuteTime": {
     "end_time": "2022-11-18T13:34:03.472905Z",
     "start_time": "2022-11-18T13:34:03.317791Z"
    }
   },
   "outputs": [
    {
     "data": {
      "text/html": [
       "<style type=\"text/css\">\n",
       "#T_9b3b7_row0_col0, #T_9b3b7_row1_col0, #T_9b3b7_row2_col1, #T_9b3b7_row3_col1, #T_9b3b7_row4_col2, #T_9b3b7_row5_col4, #T_9b3b7_row6_col0, #T_9b3b7_row7_col4, #T_9b3b7_row8_col4, #T_9b3b7_row9_col4, #T_9b3b7_row10_col4, #T_9b3b7_row11_col1 {\n",
       "  background-color: #3b4cc0;\n",
       "  color: #f1f1f1;\n",
       "}\n",
       "#T_9b3b7_row0_col1 {\n",
       "  background-color: #f6bda2;\n",
       "  color: #000000;\n",
       "}\n",
       "#T_9b3b7_row0_col2, #T_9b3b7_row1_col1, #T_9b3b7_row1_col4, #T_9b3b7_row2_col3, #T_9b3b7_row3_col3, #T_9b3b7_row4_col0, #T_9b3b7_row4_col1, #T_9b3b7_row4_col3, #T_9b3b7_row4_col4, #T_9b3b7_row5_col3, #T_9b3b7_row6_col3, #T_9b3b7_row7_col1, #T_9b3b7_row8_col1, #T_9b3b7_row9_col1, #T_9b3b7_row10_col1, #T_9b3b7_row11_col4 {\n",
       "  background-color: #b40426;\n",
       "  color: #f1f1f1;\n",
       "}\n",
       "#T_9b3b7_row0_col3, #T_9b3b7_row3_col0 {\n",
       "  background-color: #4257c9;\n",
       "  color: #f1f1f1;\n",
       "}\n",
       "#T_9b3b7_row0_col4, #T_9b3b7_row7_col0 {\n",
       "  background-color: #edd1c2;\n",
       "  color: #000000;\n",
       "}\n",
       "#T_9b3b7_row1_col2 {\n",
       "  background-color: #e16751;\n",
       "  color: #f1f1f1;\n",
       "}\n",
       "#T_9b3b7_row1_col3 {\n",
       "  background-color: #b50927;\n",
       "  color: #f1f1f1;\n",
       "}\n",
       "#T_9b3b7_row2_col0 {\n",
       "  background-color: #b9d0f9;\n",
       "  color: #000000;\n",
       "}\n",
       "#T_9b3b7_row2_col2 {\n",
       "  background-color: #b1cbfc;\n",
       "  color: #000000;\n",
       "}\n",
       "#T_9b3b7_row2_col4 {\n",
       "  background-color: #6f92f3;\n",
       "  color: #f1f1f1;\n",
       "}\n",
       "#T_9b3b7_row3_col2 {\n",
       "  background-color: #a9c6fd;\n",
       "  color: #000000;\n",
       "}\n",
       "#T_9b3b7_row3_col4 {\n",
       "  background-color: #84a7fc;\n",
       "  color: #f1f1f1;\n",
       "}\n",
       "#T_9b3b7_row5_col0 {\n",
       "  background-color: #7597f6;\n",
       "  color: #f1f1f1;\n",
       "}\n",
       "#T_9b3b7_row5_col1 {\n",
       "  background-color: #a2c1ff;\n",
       "  color: #000000;\n",
       "}\n",
       "#T_9b3b7_row5_col2 {\n",
       "  background-color: #ccd9ed;\n",
       "  color: #000000;\n",
       "}\n",
       "#T_9b3b7_row6_col1 {\n",
       "  background-color: #f29274;\n",
       "  color: #f1f1f1;\n",
       "}\n",
       "#T_9b3b7_row6_col2 {\n",
       "  background-color: #f7bca1;\n",
       "  color: #000000;\n",
       "}\n",
       "#T_9b3b7_row6_col4 {\n",
       "  background-color: #7699f6;\n",
       "  color: #f1f1f1;\n",
       "}\n",
       "#T_9b3b7_row7_col2 {\n",
       "  background-color: #f39577;\n",
       "  color: #000000;\n",
       "}\n",
       "#T_9b3b7_row7_col3 {\n",
       "  background-color: #c32e31;\n",
       "  color: #f1f1f1;\n",
       "}\n",
       "#T_9b3b7_row8_col0 {\n",
       "  background-color: #d9dce1;\n",
       "  color: #000000;\n",
       "}\n",
       "#T_9b3b7_row8_col2 {\n",
       "  background-color: #f6bfa6;\n",
       "  color: #000000;\n",
       "}\n",
       "#T_9b3b7_row8_col3 {\n",
       "  background-color: #c43032;\n",
       "  color: #f1f1f1;\n",
       "}\n",
       "#T_9b3b7_row9_col0 {\n",
       "  background-color: #e5d8d1;\n",
       "  color: #000000;\n",
       "}\n",
       "#T_9b3b7_row9_col2 {\n",
       "  background-color: #f08a6c;\n",
       "  color: #f1f1f1;\n",
       "}\n",
       "#T_9b3b7_row9_col3 {\n",
       "  background-color: #b8122a;\n",
       "  color: #f1f1f1;\n",
       "}\n",
       "#T_9b3b7_row10_col0 {\n",
       "  background-color: #e8d6cc;\n",
       "  color: #000000;\n",
       "}\n",
       "#T_9b3b7_row10_col2 {\n",
       "  background-color: #f7b599;\n",
       "  color: #000000;\n",
       "}\n",
       "#T_9b3b7_row10_col3 {\n",
       "  background-color: #ba162b;\n",
       "  color: #f1f1f1;\n",
       "}\n",
       "#T_9b3b7_row11_col0 {\n",
       "  background-color: #c1d4f4;\n",
       "  color: #000000;\n",
       "}\n",
       "#T_9b3b7_row11_col2 {\n",
       "  background-color: #93b5fe;\n",
       "  color: #000000;\n",
       "}\n",
       "#T_9b3b7_row11_col3 {\n",
       "  background-color: #3c4ec2;\n",
       "  color: #f1f1f1;\n",
       "}\n",
       "</style>\n",
       "<table id=\"T_9b3b7\">\n",
       "  <thead>\n",
       "    <tr>\n",
       "      <th class=\"index_name level0\" >cluster</th>\n",
       "      <th id=\"T_9b3b7_level0_col0\" class=\"col_heading level0 col0\" >0</th>\n",
       "      <th id=\"T_9b3b7_level0_col1\" class=\"col_heading level0 col1\" >1</th>\n",
       "      <th id=\"T_9b3b7_level0_col2\" class=\"col_heading level0 col2\" >2</th>\n",
       "      <th id=\"T_9b3b7_level0_col3\" class=\"col_heading level0 col3\" >3</th>\n",
       "      <th id=\"T_9b3b7_level0_col4\" class=\"col_heading level0 col4\" >4</th>\n",
       "    </tr>\n",
       "  </thead>\n",
       "  <tbody>\n",
       "    <tr>\n",
       "      <th id=\"T_9b3b7_level0_row0\" class=\"row_heading level0 row0\" >gender</th>\n",
       "      <td id=\"T_9b3b7_row0_col0\" class=\"data row0 col0\" >0.501</td>\n",
       "      <td id=\"T_9b3b7_row0_col1\" class=\"data row0 col1\" >0.516</td>\n",
       "      <td id=\"T_9b3b7_row0_col2\" class=\"data row0 col2\" >0.523</td>\n",
       "      <td id=\"T_9b3b7_row0_col3\" class=\"data row0 col3\" >0.501</td>\n",
       "      <td id=\"T_9b3b7_row0_col4\" class=\"data row0 col4\" >0.514</td>\n",
       "    </tr>\n",
       "    <tr>\n",
       "      <th id=\"T_9b3b7_level0_row1\" class=\"row_heading level0 row1\" >near_location</th>\n",
       "      <td id=\"T_9b3b7_row1_col0\" class=\"data row1 col0\" >0.000</td>\n",
       "      <td id=\"T_9b3b7_row1_col1\" class=\"data row1 col1\" >0.999</td>\n",
       "      <td id=\"T_9b3b7_row1_col2\" class=\"data row1 col2\" >0.863</td>\n",
       "      <td id=\"T_9b3b7_row1_col3\" class=\"data row1 col3\" >0.992</td>\n",
       "      <td id=\"T_9b3b7_row1_col4\" class=\"data row1 col4\" >1.000</td>\n",
       "    </tr>\n",
       "    <tr>\n",
       "      <th id=\"T_9b3b7_level0_row2\" class=\"row_heading level0 row2\" >partner</th>\n",
       "      <td id=\"T_9b3b7_row2_col0\" class=\"data row2 col0\" >0.487</td>\n",
       "      <td id=\"T_9b3b7_row2_col1\" class=\"data row2 col1\" >0.216</td>\n",
       "      <td id=\"T_9b3b7_row2_col2\" class=\"data row2 col2\" >0.472</td>\n",
       "      <td id=\"T_9b3b7_row2_col3\" class=\"data row2 col3\" >0.936</td>\n",
       "      <td id=\"T_9b3b7_row2_col4\" class=\"data row2 col4\" >0.336</td>\n",
       "    </tr>\n",
       "    <tr>\n",
       "      <th id=\"T_9b3b7_level0_row3\" class=\"row_heading level0 row3\" >promo_friends</th>\n",
       "      <td id=\"T_9b3b7_row3_col0\" class=\"data row3 col0\" >0.074</td>\n",
       "      <td id=\"T_9b3b7_row3_col1\" class=\"data row3 col1\" >0.055</td>\n",
       "      <td id=\"T_9b3b7_row3_col2\" class=\"data row3 col2\" >0.306</td>\n",
       "      <td id=\"T_9b3b7_row3_col3\" class=\"data row3 col3\" >0.810</td>\n",
       "      <td id=\"T_9b3b7_row3_col4\" class=\"data row3 col4\" >0.225</td>\n",
       "    </tr>\n",
       "    <tr>\n",
       "      <th id=\"T_9b3b7_level0_row4\" class=\"row_heading level0 row4\" >phone</th>\n",
       "      <td id=\"T_9b3b7_row4_col0\" class=\"data row4 col0\" >1.000</td>\n",
       "      <td id=\"T_9b3b7_row4_col1\" class=\"data row4 col1\" >1.000</td>\n",
       "      <td id=\"T_9b3b7_row4_col2\" class=\"data row4 col2\" >0.000</td>\n",
       "      <td id=\"T_9b3b7_row4_col3\" class=\"data row4 col3\" >1.000</td>\n",
       "      <td id=\"T_9b3b7_row4_col4\" class=\"data row4 col4\" >1.000</td>\n",
       "    </tr>\n",
       "    <tr>\n",
       "      <th id=\"T_9b3b7_level0_row5\" class=\"row_heading level0 row5\" >contract_period</th>\n",
       "      <td id=\"T_9b3b7_row5_col0\" class=\"data row5 col0\" >2.989</td>\n",
       "      <td id=\"T_9b3b7_row5_col1\" class=\"data row5 col1\" >3.871</td>\n",
       "      <td id=\"T_9b3b7_row5_col2\" class=\"data row5 col2\" >4.777</td>\n",
       "      <td id=\"T_9b3b7_row5_col3\" class=\"data row5 col3\" >8.633</td>\n",
       "      <td id=\"T_9b3b7_row5_col4\" class=\"data row5 col4\" >1.740</td>\n",
       "    </tr>\n",
       "    <tr>\n",
       "      <th id=\"T_9b3b7_level0_row6\" class=\"row_heading level0 row6\" >group_visits</th>\n",
       "      <td id=\"T_9b3b7_row6_col0\" class=\"data row6 col0\" >0.237</td>\n",
       "      <td id=\"T_9b3b7_row6_col1\" class=\"data row6 col1\" >0.460</td>\n",
       "      <td id=\"T_9b3b7_row6_col2\" class=\"data row6 col2\" >0.427</td>\n",
       "      <td id=\"T_9b3b7_row6_col3\" class=\"data row6 col3\" >0.527</td>\n",
       "      <td id=\"T_9b3b7_row6_col4\" class=\"data row6 col4\" >0.290</td>\n",
       "    </tr>\n",
       "    <tr>\n",
       "      <th id=\"T_9b3b7_level0_row7\" class=\"row_heading level0 row7\" >age</th>\n",
       "      <td id=\"T_9b3b7_row7_col0\" class=\"data row7 col0\" >28.700</td>\n",
       "      <td id=\"T_9b3b7_row7_col1\" class=\"data row7 col1\" >30.053</td>\n",
       "      <td id=\"T_9b3b7_row7_col2\" class=\"data row7 col2\" >29.298</td>\n",
       "      <td id=\"T_9b3b7_row7_col3\" class=\"data row7 col3\" >29.927</td>\n",
       "      <td id=\"T_9b3b7_row7_col4\" class=\"data row7 col4\" >26.903</td>\n",
       "    </tr>\n",
       "    <tr>\n",
       "      <th id=\"T_9b3b7_level0_row8\" class=\"row_heading level0 row8\" >avg_additional_charges_total</th>\n",
       "      <td id=\"T_9b3b7_row8_col0\" class=\"data row8 col0\" >137.061</td>\n",
       "      <td id=\"T_9b3b7_row8_col1\" class=\"data row8 col1\" >160.909</td>\n",
       "      <td id=\"T_9b3b7_row8_col2\" class=\"data row8 col2\" >144.208</td>\n",
       "      <td id=\"T_9b3b7_row8_col3\" class=\"data row8 col3\" >158.816</td>\n",
       "      <td id=\"T_9b3b7_row8_col4\" class=\"data row8 col4\" >114.387</td>\n",
       "    </tr>\n",
       "    <tr>\n",
       "      <th id=\"T_9b3b7_level0_row9\" class=\"row_heading level0 row9\" >lifetime</th>\n",
       "      <td id=\"T_9b3b7_row9_col0\" class=\"data row9 col0\" >2.987</td>\n",
       "      <td id=\"T_9b3b7_row9_col1\" class=\"data row9 col1\" >4.747</td>\n",
       "      <td id=\"T_9b3b7_row9_col2\" class=\"data row9 col2\" >3.940</td>\n",
       "      <td id=\"T_9b3b7_row9_col3\" class=\"data row9 col3\" >4.702</td>\n",
       "      <td id=\"T_9b3b7_row9_col4\" class=\"data row9 col4\" >0.978</td>\n",
       "    </tr>\n",
       "    <tr>\n",
       "      <th id=\"T_9b3b7_level0_row10\" class=\"row_heading level0 row10\" >avg_class_frequency_current_month</th>\n",
       "      <td id=\"T_9b3b7_row10_col0\" class=\"data row10 col0\" >1.594</td>\n",
       "      <td id=\"T_9b3b7_row10_col1\" class=\"data row10 col1\" >2.050</td>\n",
       "      <td id=\"T_9b3b7_row10_col2\" class=\"data row10 col2\" >1.724</td>\n",
       "      <td id=\"T_9b3b7_row10_col3\" class=\"data row10 col3\" >2.031</td>\n",
       "      <td id=\"T_9b3b7_row10_col4\" class=\"data row10 col4\" >1.046</td>\n",
       "    </tr>\n",
       "    <tr>\n",
       "      <th id=\"T_9b3b7_level0_row11\" class=\"row_heading level0 row11\" >churn</th>\n",
       "      <td id=\"T_9b3b7_row11_col0\" class=\"data row11 col0\" >0.404</td>\n",
       "      <td id=\"T_9b3b7_row11_col1\" class=\"data row11 col1\" >0.002</td>\n",
       "      <td id=\"T_9b3b7_row11_col2\" class=\"data row11 col2\" >0.267</td>\n",
       "      <td id=\"T_9b3b7_row11_col3\" class=\"data row11 col3\" >0.006</td>\n",
       "      <td id=\"T_9b3b7_row11_col4\" class=\"data row11 col4\" >0.993</td>\n",
       "    </tr>\n",
       "  </tbody>\n",
       "</table>\n"
      ],
      "text/plain": [
       "<pandas.io.formats.style.Styler at 0x259861dcc70>"
      ]
     },
     "execution_count": 23,
     "metadata": {},
     "output_type": "execute_result"
    }
   ],
   "source": [
    "# Средние значения признаков для кластеров\n",
    "cluster_features = gym.groupby('cluster').mean().T\n",
    "numeric_columns = cluster_features.columns\n",
    "\n",
    "cluster_features.style.background_gradient(cmap='coolwarm', axis=1).set_precision(3)"
   ]
  },
  {
   "cell_type": "markdown",
   "metadata": {},
   "source": [
    "**Вывод:**\n",
    "\n",
    "Среди 5 кластеров визуально выделяются кластеры 1 и 3 как лидеры по среднему чеку за сопутствующие услуги фитнес центра, средней частоте посещений клуба и времени с момента первого посещения клуба.\n",
    "\n",
    "Кластеры 0 и 4 лидеры по оттоку - аналогичные характеристики (чек, частота посещений и время пользования клубом) существенно ниже, чем у кластеров-лидеров."
   ]
  },
  {
   "cell_type": "markdown",
   "metadata": {},
   "source": [
    "### Распределение признаков для кластеров\n",
    "Постройте распределения признаков для кластеров. Можно ли что-то заметить по ним?"
   ]
  },
  {
   "cell_type": "code",
   "execution_count": 24,
   "metadata": {
    "ExecuteTime": {
     "end_time": "2022-11-18T13:34:09.592516Z",
     "start_time": "2022-11-18T13:34:03.479014Z"
    },
    "scrolled": false
   },
   "outputs": [
    {
     "data": {
      "image/png": "[encoded data removed]",
      "text/plain": [
       "<Figure size 2160x1080 with 8 Axes>"
      ]
     },
     "metadata": {},
     "output_type": "display_data"
    }
   ],
   "source": [
    "# Построю графики распределения признаков по категориальным признакам в разрезе кластеров:\n",
    "categorical = ['gender', 'near_location', 'partner', 'promo_friends', \n",
    "               'phone', 'contract_period', 'group_visits', 'churn']\n",
    "cols = 4\n",
    "f, axes = plt.subplots(nrows=2, ncols=cols, figsize=(24, 12), dpi=90)\n",
    "\n",
    "for idx, feat in enumerate(categorical):\n",
    "    sns.barplot(x='cluster', y=feat, data=gym, ax=axes[idx // cols, idx % cols]).set(title=feat)\n",
    "    axes[idx // cols, idx % cols].set_ylabel('')\n",
    "    axes[idx // cols, idx % cols].set_xlabel('')"
   ]
  },
  {
   "cell_type": "code",
   "execution_count": 25,
   "metadata": {
    "ExecuteTime": {
     "end_time": "2022-11-18T13:34:11.515027Z",
     "start_time": "2022-11-18T13:34:09.596505Z"
    }
   },
   "outputs": [
    {
     "data": {
      "image/png": "[encoded data removed]",
      "text/plain": [
       "<Figure size 1800x1260 with 4 Axes>"
      ]
     },
     "metadata": {},
     "output_type": "display_data"
    }
   ],
   "source": [
    "# Построю графики диаграммы размаха по количественным характеристикам в разрезе кластеров:\n",
    "quantitative = ['age', 'avg_additional_charges_total', 'lifetime', 'avg_class_frequency_current_month']\n",
    "cols = 2\n",
    "q, axes = plt.subplots(nrows=2, ncols=cols, figsize=(20, 14), dpi=90)\n",
    "\n",
    "for idx, feat in enumerate(quantitative):\n",
    "    sns.boxplot(x = 'cluster', y = gym[feat], data = gym, \n",
    "                ax=axes[idx // cols, idx % cols]).set(title=feat)\n",
    "    axes[idx // cols, idx % cols].set_ylabel('')\n",
    "    axes[idx // cols, idx % cols].set_xlabel('')"
   ]
  },
  {
   "cell_type": "markdown",
   "metadata": {},
   "source": [
    "**Вывод:**\n",
    "\n",
    "- Распределение кластеров в разрезе по полу визуально похоже.\n",
    "- Большинство клиентов проживают или работают в районе фитнес-клуба, что также выглядит логичным.\n",
    "- Распределение кластеров по компаням-партнёрам отличается, среди непартнёров лидирует кластер 1, среди партнёров - кластер 3\n",
    "- Также в разрезе акции приведи друга кластер 1 - лидер по клиентам без друзей-аггитатора, среди клиентов, пришедших через друзей лидирует кластер 3 как и среди компаний партнёров.\n",
    "- Большинство клиентов оставили контактный номер телефона, за исключением группы людей, которые полностью попали в отдельный кластер - кластер 2\n",
    "- В разрезе срока дейтсвия абонемента кластеры выглядят перемешанными, но тем не менее, выделяются кластеры 1, 4 по сроку абонемента 1 мес. и кластер 3 со сроком абонемента в 12 мес."
   ]
  },
  {
   "cell_type": "markdown",
   "metadata": {},
   "source": [
    "### Доля оттока по кластерам\n",
    "Для каждого полученного кластера посчитайте долю оттока (методом `groupby()`). Отличаются ли они по доле оттока? Какие кластеры склонны к оттоку, а какие — надёжны?"
   ]
  },
  {
   "cell_type": "code",
   "execution_count": 26,
   "metadata": {
    "ExecuteTime": {
     "end_time": "2022-11-18T13:34:11.624132Z",
     "start_time": "2022-11-18T13:34:11.519907Z"
    },
    "scrolled": true
   },
   "outputs": [
    {
     "data": {
      "text/html": [
       "<div>\n",
       "<style scoped>\n",
       "    .dataframe tbody tr th:only-of-type {\n",
       "        vertical-align: middle;\n",
       "    }\n",
       "\n",
       "    .dataframe tbody tr th {\n",
       "        vertical-align: top;\n",
       "    }\n",
       "\n",
       "    .dataframe thead th {\n",
       "        text-align: right;\n",
       "    }\n",
       "</style>\n",
       "<table border=\"1\" class=\"dataframe\">\n",
       "  <thead>\n",
       "    <tr style=\"text-align: right;\">\n",
       "      <th></th>\n",
       "      <th>churn</th>\n",
       "    </tr>\n",
       "  </thead>\n",
       "  <tbody>\n",
       "    <tr>\n",
       "      <th>4</th>\n",
       "      <td>0.99</td>\n",
       "    </tr>\n",
       "    <tr>\n",
       "      <th>0</th>\n",
       "      <td>0.40</td>\n",
       "    </tr>\n",
       "    <tr>\n",
       "      <th>2</th>\n",
       "      <td>0.27</td>\n",
       "    </tr>\n",
       "    <tr>\n",
       "      <th>3</th>\n",
       "      <td>0.01</td>\n",
       "    </tr>\n",
       "    <tr>\n",
       "      <th>1</th>\n",
       "      <td>0.00</td>\n",
       "    </tr>\n",
       "  </tbody>\n",
       "</table>\n",
       "</div>"
      ],
      "text/plain": [
       "   churn\n",
       "4   0.99\n",
       "0   0.40\n",
       "2   0.27\n",
       "3   0.01\n",
       "1   0.00"
      ]
     },
     "execution_count": 26,
     "metadata": {},
     "output_type": "execute_result"
    }
   ],
   "source": [
    "gym.groupby('cluster')[['churn']].mean().reset_index(drop=True).sort_values(by='churn', ascending=False)"
   ]
  },
  {
   "cell_type": "markdown",
   "metadata": {},
   "source": [
    "**Вывод:**\n",
    "\n",
    "В кластере номер 4 самая высокая доля оттока, в кластерах 1, 3 оттоков в текущем месяце почти нет. "
   ]
  },
  {
   "cell_type": "markdown",
   "metadata": {},
   "source": [
    "[Оглавление](#section_id)\n",
    "\n",
    "## Результаты исследования:\n",
    "<a id='section_id5'></a>"
   ]
  },
  {
   "cell_type": "markdown",
   "metadata": {},
   "source": [
    "**Описание данных**\n",
    "\n",
    "Для проведения исследования использовался датасет с данными на месяц до оттока и факт оттока на определённый месяц по клиентам фитнес-клуба.\n",
    "\n",
    "**Предобработка данных**\n",
    "\n",
    "В ходе первичного анализа пропуски, дубликаты и какие-либо аномалии, связанные с качеством данных не обнаружены. В ходе предобработки названия колонок приведены к нижнему регистру.\n",
    "\n",
    "**Исследовательский анализ данных - EDA**\n",
    "\n",
    "В рамках исследовательского анализа данных обнаружились мультиколлинеарные признаки:\n",
    "- `contract_period` - `month_to_end_contract`\n",
    "- `avg_class_frequency_total` - `avg_class_frequency_current_month`\n",
    "\n",
    "А также есть признаки с нулевой зависимостью от целевой переменной `churn`: `gender`, `phone`.\n",
    "\n",
    "У признаков `near_location`, `partner`, `promo_friends` и `avg_additional_charges_total` слабая корреляция с целевой переменной, корреляция в диапазоне (-0.13) - (-0.2). Эти признаки не оказывают существенного влияния на отток.\n",
    "\n",
    "Таким образом остаются признаки `contract_period`, `month_to_end_contract`, `age`, `lifetime` и `avg_class_frequency_current_month` с относительно существенным влиянием на целевую переменную, при чём, как указано выше, первые два - мультиколлинеарны между собой.\n",
    "\n",
    "**Модель прогнозирования оттока клиентов**\n",
    "\n",
    "Была построена модель бинарной классификации клиентов, где целевой признак — факт оттока клиента в следующем месяце и обучены модели на train-выборке двумя способами:\n",
    "- логистической регрессией\n",
    "- случайным лесом\n",
    "\n",
    "Были посчитаны метрики accuracy, precision и recall для обеих моделей. Модели показывают схожие метрики прогноза.\n",
    "\n",
    "\n",
    "**Кластеризация клиентов**\n",
    "\n",
    "Была построена матрица расстояний функцией `linkage()` на стандартизованной матрице признаков, на основании неё построена дендрограмма, на основании которой явно выделяются 5 кластеров.\n",
    "\n",
    "Далее построена модель кластеризации на основании алгоритма K-Means и спрогнозированы кластеры клиентов.\n",
    "\n",
    "Ниже показана матрица кластеров в разрезе признаков для наглядного понимания."
   ]
  },
  {
   "cell_type": "code",
   "execution_count": 27,
   "metadata": {
    "ExecuteTime": {
     "end_time": "2022-11-18T13:34:11.717927Z",
     "start_time": "2022-11-18T13:34:11.634105Z"
    }
   },
   "outputs": [
    {
     "data": {
      "text/html": [
       "<style type=\"text/css\">\n",
       "#T_29c07_row0_col0, #T_29c07_row1_col0, #T_29c07_row2_col1, #T_29c07_row3_col1, #T_29c07_row4_col2, #T_29c07_row5_col4, #T_29c07_row6_col0, #T_29c07_row7_col4, #T_29c07_row8_col4, #T_29c07_row9_col4, #T_29c07_row10_col4, #T_29c07_row11_col1 {\n",
       "  background-color: #3b4cc0;\n",
       "  color: #f1f1f1;\n",
       "}\n",
       "#T_29c07_row0_col1 {\n",
       "  background-color: #f6bda2;\n",
       "  color: #000000;\n",
       "}\n",
       "#T_29c07_row0_col2, #T_29c07_row1_col1, #T_29c07_row1_col4, #T_29c07_row2_col3, #T_29c07_row3_col3, #T_29c07_row4_col0, #T_29c07_row4_col1, #T_29c07_row4_col3, #T_29c07_row4_col4, #T_29c07_row5_col3, #T_29c07_row6_col3, #T_29c07_row7_col1, #T_29c07_row8_col1, #T_29c07_row9_col1, #T_29c07_row10_col1, #T_29c07_row11_col4 {\n",
       "  background-color: #b40426;\n",
       "  color: #f1f1f1;\n",
       "}\n",
       "#T_29c07_row0_col3, #T_29c07_row3_col0 {\n",
       "  background-color: #4257c9;\n",
       "  color: #f1f1f1;\n",
       "}\n",
       "#T_29c07_row0_col4, #T_29c07_row7_col0 {\n",
       "  background-color: #edd1c2;\n",
       "  color: #000000;\n",
       "}\n",
       "#T_29c07_row1_col2 {\n",
       "  background-color: #e16751;\n",
       "  color: #f1f1f1;\n",
       "}\n",
       "#T_29c07_row1_col3 {\n",
       "  background-color: #b50927;\n",
       "  color: #f1f1f1;\n",
       "}\n",
       "#T_29c07_row2_col0 {\n",
       "  background-color: #b9d0f9;\n",
       "  color: #000000;\n",
       "}\n",
       "#T_29c07_row2_col2 {\n",
       "  background-color: #b1cbfc;\n",
       "  color: #000000;\n",
       "}\n",
       "#T_29c07_row2_col4 {\n",
       "  background-color: #6f92f3;\n",
       "  color: #f1f1f1;\n",
       "}\n",
       "#T_29c07_row3_col2 {\n",
       "  background-color: #a9c6fd;\n",
       "  color: #000000;\n",
       "}\n",
       "#T_29c07_row3_col4 {\n",
       "  background-color: #84a7fc;\n",
       "  color: #f1f1f1;\n",
       "}\n",
       "#T_29c07_row5_col0 {\n",
       "  background-color: #7597f6;\n",
       "  color: #f1f1f1;\n",
       "}\n",
       "#T_29c07_row5_col1 {\n",
       "  background-color: #a2c1ff;\n",
       "  color: #000000;\n",
       "}\n",
       "#T_29c07_row5_col2 {\n",
       "  background-color: #ccd9ed;\n",
       "  color: #000000;\n",
       "}\n",
       "#T_29c07_row6_col1 {\n",
       "  background-color: #f29274;\n",
       "  color: #f1f1f1;\n",
       "}\n",
       "#T_29c07_row6_col2 {\n",
       "  background-color: #f7bca1;\n",
       "  color: #000000;\n",
       "}\n",
       "#T_29c07_row6_col4 {\n",
       "  background-color: #7699f6;\n",
       "  color: #f1f1f1;\n",
       "}\n",
       "#T_29c07_row7_col2 {\n",
       "  background-color: #f39577;\n",
       "  color: #000000;\n",
       "}\n",
       "#T_29c07_row7_col3 {\n",
       "  background-color: #c32e31;\n",
       "  color: #f1f1f1;\n",
       "}\n",
       "#T_29c07_row8_col0 {\n",
       "  background-color: #d9dce1;\n",
       "  color: #000000;\n",
       "}\n",
       "#T_29c07_row8_col2 {\n",
       "  background-color: #f6bfa6;\n",
       "  color: #000000;\n",
       "}\n",
       "#T_29c07_row8_col3 {\n",
       "  background-color: #c43032;\n",
       "  color: #f1f1f1;\n",
       "}\n",
       "#T_29c07_row9_col0 {\n",
       "  background-color: #e5d8d1;\n",
       "  color: #000000;\n",
       "}\n",
       "#T_29c07_row9_col2 {\n",
       "  background-color: #f08a6c;\n",
       "  color: #f1f1f1;\n",
       "}\n",
       "#T_29c07_row9_col3 {\n",
       "  background-color: #b8122a;\n",
       "  color: #f1f1f1;\n",
       "}\n",
       "#T_29c07_row10_col0 {\n",
       "  background-color: #e8d6cc;\n",
       "  color: #000000;\n",
       "}\n",
       "#T_29c07_row10_col2 {\n",
       "  background-color: #f7b599;\n",
       "  color: #000000;\n",
       "}\n",
       "#T_29c07_row10_col3 {\n",
       "  background-color: #ba162b;\n",
       "  color: #f1f1f1;\n",
       "}\n",
       "#T_29c07_row11_col0 {\n",
       "  background-color: #c1d4f4;\n",
       "  color: #000000;\n",
       "}\n",
       "#T_29c07_row11_col2 {\n",
       "  background-color: #93b5fe;\n",
       "  color: #000000;\n",
       "}\n",
       "#T_29c07_row11_col3 {\n",
       "  background-color: #3c4ec2;\n",
       "  color: #f1f1f1;\n",
       "}\n",
       "</style>\n",
       "<table id=\"T_29c07\">\n",
       "  <thead>\n",
       "    <tr>\n",
       "      <th class=\"index_name level0\" >cluster</th>\n",
       "      <th id=\"T_29c07_level0_col0\" class=\"col_heading level0 col0\" >0</th>\n",
       "      <th id=\"T_29c07_level0_col1\" class=\"col_heading level0 col1\" >1</th>\n",
       "      <th id=\"T_29c07_level0_col2\" class=\"col_heading level0 col2\" >2</th>\n",
       "      <th id=\"T_29c07_level0_col3\" class=\"col_heading level0 col3\" >3</th>\n",
       "      <th id=\"T_29c07_level0_col4\" class=\"col_heading level0 col4\" >4</th>\n",
       "    </tr>\n",
       "  </thead>\n",
       "  <tbody>\n",
       "    <tr>\n",
       "      <th id=\"T_29c07_level0_row0\" class=\"row_heading level0 row0\" >gender</th>\n",
       "      <td id=\"T_29c07_row0_col0\" class=\"data row0 col0\" >0.501</td>\n",
       "      <td id=\"T_29c07_row0_col1\" class=\"data row0 col1\" >0.516</td>\n",
       "      <td id=\"T_29c07_row0_col2\" class=\"data row0 col2\" >0.523</td>\n",
       "      <td id=\"T_29c07_row0_col3\" class=\"data row0 col3\" >0.501</td>\n",
       "      <td id=\"T_29c07_row0_col4\" class=\"data row0 col4\" >0.514</td>\n",
       "    </tr>\n",
       "    <tr>\n",
       "      <th id=\"T_29c07_level0_row1\" class=\"row_heading level0 row1\" >near_location</th>\n",
       "      <td id=\"T_29c07_row1_col0\" class=\"data row1 col0\" >0.000</td>\n",
       "      <td id=\"T_29c07_row1_col1\" class=\"data row1 col1\" >0.999</td>\n",
       "      <td id=\"T_29c07_row1_col2\" class=\"data row1 col2\" >0.863</td>\n",
       "      <td id=\"T_29c07_row1_col3\" class=\"data row1 col3\" >0.992</td>\n",
       "      <td id=\"T_29c07_row1_col4\" class=\"data row1 col4\" >1.000</td>\n",
       "    </tr>\n",
       "    <tr>\n",
       "      <th id=\"T_29c07_level0_row2\" class=\"row_heading level0 row2\" >partner</th>\n",
       "      <td id=\"T_29c07_row2_col0\" class=\"data row2 col0\" >0.487</td>\n",
       "      <td id=\"T_29c07_row2_col1\" class=\"data row2 col1\" >0.216</td>\n",
       "      <td id=\"T_29c07_row2_col2\" class=\"data row2 col2\" >0.472</td>\n",
       "      <td id=\"T_29c07_row2_col3\" class=\"data row2 col3\" >0.936</td>\n",
       "      <td id=\"T_29c07_row2_col4\" class=\"data row2 col4\" >0.336</td>\n",
       "    </tr>\n",
       "    <tr>\n",
       "      <th id=\"T_29c07_level0_row3\" class=\"row_heading level0 row3\" >promo_friends</th>\n",
       "      <td id=\"T_29c07_row3_col0\" class=\"data row3 col0\" >0.074</td>\n",
       "      <td id=\"T_29c07_row3_col1\" class=\"data row3 col1\" >0.055</td>\n",
       "      <td id=\"T_29c07_row3_col2\" class=\"data row3 col2\" >0.306</td>\n",
       "      <td id=\"T_29c07_row3_col3\" class=\"data row3 col3\" >0.810</td>\n",
       "      <td id=\"T_29c07_row3_col4\" class=\"data row3 col4\" >0.225</td>\n",
       "    </tr>\n",
       "    <tr>\n",
       "      <th id=\"T_29c07_level0_row4\" class=\"row_heading level0 row4\" >phone</th>\n",
       "      <td id=\"T_29c07_row4_col0\" class=\"data row4 col0\" >1.000</td>\n",
       "      <td id=\"T_29c07_row4_col1\" class=\"data row4 col1\" >1.000</td>\n",
       "      <td id=\"T_29c07_row4_col2\" class=\"data row4 col2\" >0.000</td>\n",
       "      <td id=\"T_29c07_row4_col3\" class=\"data row4 col3\" >1.000</td>\n",
       "      <td id=\"T_29c07_row4_col4\" class=\"data row4 col4\" >1.000</td>\n",
       "    </tr>\n",
       "    <tr>\n",
       "      <th id=\"T_29c07_level0_row5\" class=\"row_heading level0 row5\" >contract_period</th>\n",
       "      <td id=\"T_29c07_row5_col0\" class=\"data row5 col0\" >2.989</td>\n",
       "      <td id=\"T_29c07_row5_col1\" class=\"data row5 col1\" >3.871</td>\n",
       "      <td id=\"T_29c07_row5_col2\" class=\"data row5 col2\" >4.777</td>\n",
       "      <td id=\"T_29c07_row5_col3\" class=\"data row5 col3\" >8.633</td>\n",
       "      <td id=\"T_29c07_row5_col4\" class=\"data row5 col4\" >1.740</td>\n",
       "    </tr>\n",
       "    <tr>\n",
       "      <th id=\"T_29c07_level0_row6\" class=\"row_heading level0 row6\" >group_visits</th>\n",
       "      <td id=\"T_29c07_row6_col0\" class=\"data row6 col0\" >0.237</td>\n",
       "      <td id=\"T_29c07_row6_col1\" class=\"data row6 col1\" >0.460</td>\n",
       "      <td id=\"T_29c07_row6_col2\" class=\"data row6 col2\" >0.427</td>\n",
       "      <td id=\"T_29c07_row6_col3\" class=\"data row6 col3\" >0.527</td>\n",
       "      <td id=\"T_29c07_row6_col4\" class=\"data row6 col4\" >0.290</td>\n",
       "    </tr>\n",
       "    <tr>\n",
       "      <th id=\"T_29c07_level0_row7\" class=\"row_heading level0 row7\" >age</th>\n",
       "      <td id=\"T_29c07_row7_col0\" class=\"data row7 col0\" >28.700</td>\n",
       "      <td id=\"T_29c07_row7_col1\" class=\"data row7 col1\" >30.053</td>\n",
       "      <td id=\"T_29c07_row7_col2\" class=\"data row7 col2\" >29.298</td>\n",
       "      <td id=\"T_29c07_row7_col3\" class=\"data row7 col3\" >29.927</td>\n",
       "      <td id=\"T_29c07_row7_col4\" class=\"data row7 col4\" >26.903</td>\n",
       "    </tr>\n",
       "    <tr>\n",
       "      <th id=\"T_29c07_level0_row8\" class=\"row_heading level0 row8\" >avg_additional_charges_total</th>\n",
       "      <td id=\"T_29c07_row8_col0\" class=\"data row8 col0\" >137.061</td>\n",
       "      <td id=\"T_29c07_row8_col1\" class=\"data row8 col1\" >160.909</td>\n",
       "      <td id=\"T_29c07_row8_col2\" class=\"data row8 col2\" >144.208</td>\n",
       "      <td id=\"T_29c07_row8_col3\" class=\"data row8 col3\" >158.816</td>\n",
       "      <td id=\"T_29c07_row8_col4\" class=\"data row8 col4\" >114.387</td>\n",
       "    </tr>\n",
       "    <tr>\n",
       "      <th id=\"T_29c07_level0_row9\" class=\"row_heading level0 row9\" >lifetime</th>\n",
       "      <td id=\"T_29c07_row9_col0\" class=\"data row9 col0\" >2.987</td>\n",
       "      <td id=\"T_29c07_row9_col1\" class=\"data row9 col1\" >4.747</td>\n",
       "      <td id=\"T_29c07_row9_col2\" class=\"data row9 col2\" >3.940</td>\n",
       "      <td id=\"T_29c07_row9_col3\" class=\"data row9 col3\" >4.702</td>\n",
       "      <td id=\"T_29c07_row9_col4\" class=\"data row9 col4\" >0.978</td>\n",
       "    </tr>\n",
       "    <tr>\n",
       "      <th id=\"T_29c07_level0_row10\" class=\"row_heading level0 row10\" >avg_class_frequency_current_month</th>\n",
       "      <td id=\"T_29c07_row10_col0\" class=\"data row10 col0\" >1.594</td>\n",
       "      <td id=\"T_29c07_row10_col1\" class=\"data row10 col1\" >2.050</td>\n",
       "      <td id=\"T_29c07_row10_col2\" class=\"data row10 col2\" >1.724</td>\n",
       "      <td id=\"T_29c07_row10_col3\" class=\"data row10 col3\" >2.031</td>\n",
       "      <td id=\"T_29c07_row10_col4\" class=\"data row10 col4\" >1.046</td>\n",
       "    </tr>\n",
       "    <tr>\n",
       "      <th id=\"T_29c07_level0_row11\" class=\"row_heading level0 row11\" >churn</th>\n",
       "      <td id=\"T_29c07_row11_col0\" class=\"data row11 col0\" >0.404</td>\n",
       "      <td id=\"T_29c07_row11_col1\" class=\"data row11 col1\" >0.002</td>\n",
       "      <td id=\"T_29c07_row11_col2\" class=\"data row11 col2\" >0.267</td>\n",
       "      <td id=\"T_29c07_row11_col3\" class=\"data row11 col3\" >0.006</td>\n",
       "      <td id=\"T_29c07_row11_col4\" class=\"data row11 col4\" >0.993</td>\n",
       "    </tr>\n",
       "  </tbody>\n",
       "</table>\n"
      ],
      "text/plain": [
       "<pandas.io.formats.style.Styler at 0x2598f567940>"
      ]
     },
     "execution_count": 27,
     "metadata": {},
     "output_type": "execute_result"
    }
   ],
   "source": [
    "cluster_features = gym.groupby('cluster').mean().T\n",
    "numeric_columns = cluster_features.columns\n",
    "\n",
    "cluster_features.style.background_gradient(cmap='coolwarm', axis=1).set_precision(3)"
   ]
  },
  {
   "cell_type": "markdown",
   "metadata": {},
   "source": [
    "Среди 5 кластеров визуально выделяются кластеры 1 и 3 как лидеры по среднему чеку за сопутствующие услуги фитнес центра, средней частоте посещений клуба и времени с момента первого посещения клуба.\n",
    "\n",
    "Кластеры 0 и 4 лидеры по оттоку - аналогичные характеристики (чек, частота посещений и время пользования клубом) существенно ниже, чем у кластеров-лидеров.\n",
    "\n",
    "### Рекомендации по работе с клиентами\n",
    "\n",
    "- Для снижения оттока пользователей необходимо использовать данные клиентов из кластеров 1, 3. На основе этих данных составить идеальный клиентский профиль и таргетировать рекламу на них для максимизации дальнейших продаж карт клуба среди подобных пользователей.\n",
    "- Продумать программу лояльности для поддерживки и мотивации \"хороших кластеров\".\n",
    "- Глубже сегментировать оттекающих, к каждому сегменту целесообразно тестировать индивидуальные предложения.\n",
    "- Выстроить предиктивную систему аналитики и действовать не после оттока, а до него. Для этой цели сфокусироваться на следующих признаках в кластерах лидерах:\n",
    "    - расширять сеть партнёров и развивать акцию \"приведи друга\" - клиенты, купившие абонемент через партнёров (вероятно со скидкой) или друзей оттекают в меньшей степени.\n",
    "    - сфокуситроваться на продажах долгосрочный абонементов (год и больше), таким абонементы при удельном расчёте будут дешевле, но в абсолюте клуб получит больше прибыли, даже если кто-то из долгосрочных клиентов перестанет посещать зал, выручку за абонемент клуб уже получил. И наоборот, если клиент покупает краткосрочный абонемент необходимо сфокусироваться на нём, чтобы заинтересовать в дальнейшем посещении клуба."
   ]
  }
 ],
 "metadata": {
  "ExecuteTimeLog": [
   {
    "duration": 474,
    "start_time": "2022-10-18T20:34:33.674Z"
   },
   {
    "duration": 1455,
    "start_time": "2022-10-18T20:35:52.366Z"
   },
   {
    "duration": 117,
    "start_time": "2022-10-18T20:35:53.823Z"
   },
   {
    "duration": 3,
    "start_time": "2022-10-18T20:36:05.286Z"
   },
   {
    "duration": 96,
    "start_time": "2022-10-18T20:36:05.456Z"
   },
   {
    "duration": 145,
    "start_time": "2022-10-18T20:36:48.646Z"
   },
   {
    "duration": 29,
    "start_time": "2022-10-18T20:36:52.327Z"
   },
   {
    "duration": 11,
    "start_time": "2022-10-18T20:36:58.385Z"
   },
   {
    "duration": 11,
    "start_time": "2022-10-18T20:37:07.664Z"
   },
   {
    "duration": 5,
    "start_time": "2022-10-18T20:37:17.736Z"
   },
   {
    "duration": 14,
    "start_time": "2022-10-18T20:37:24.294Z"
   },
   {
    "duration": 10,
    "start_time": "2022-10-18T20:37:34.726Z"
   },
   {
    "duration": 11,
    "start_time": "2022-10-18T20:37:42.807Z"
   },
   {
    "duration": 10,
    "start_time": "2022-10-18T20:37:52.356Z"
   },
   {
    "duration": 45,
    "start_time": "2022-10-18T20:37:57.845Z"
   },
   {
    "duration": 7,
    "start_time": "2022-10-18T20:38:48.456Z"
   },
   {
    "duration": 13,
    "start_time": "2022-10-18T20:38:54.864Z"
   },
   {
    "duration": 16,
    "start_time": "2022-10-18T20:39:06.304Z"
   },
   {
    "duration": 21,
    "start_time": "2022-10-18T20:39:18.916Z"
   },
   {
    "duration": 30,
    "start_time": "2022-10-18T20:39:59.524Z"
   },
   {
    "duration": 29,
    "start_time": "2022-10-18T20:40:07.756Z"
   },
   {
    "duration": 34,
    "start_time": "2022-10-18T20:48:02.649Z"
   },
   {
    "duration": 29,
    "start_time": "2022-10-18T20:48:28.581Z"
   },
   {
    "duration": 58,
    "start_time": "2022-10-18T20:50:09.269Z"
   },
   {
    "duration": 12,
    "start_time": "2022-10-18T20:50:41.322Z"
   },
   {
    "duration": 12,
    "start_time": "2022-10-18T20:51:34.430Z"
   },
   {
    "duration": 10,
    "start_time": "2022-10-18T20:55:33.802Z"
   },
   {
    "duration": 3,
    "start_time": "2022-10-18T20:55:41.212Z"
   },
   {
    "duration": 16,
    "start_time": "2022-10-18T20:55:43.242Z"
   },
   {
    "duration": 11,
    "start_time": "2022-10-18T20:56:28.311Z"
   },
   {
    "duration": 5,
    "start_time": "2022-10-18T20:56:32.971Z"
   },
   {
    "duration": 14,
    "start_time": "2022-10-18T20:57:12.752Z"
   },
   {
    "duration": 34,
    "start_time": "2022-10-18T20:57:21.352Z"
   },
   {
    "duration": 10,
    "start_time": "2022-10-18T20:57:21.700Z"
   },
   {
    "duration": 16,
    "start_time": "2022-10-18T20:57:22.030Z"
   },
   {
    "duration": 26,
    "start_time": "2022-10-18T20:57:23.872Z"
   },
   {
    "duration": 7,
    "start_time": "2022-10-18T20:57:35.312Z"
   },
   {
    "duration": 8,
    "start_time": "2022-10-18T20:57:44.531Z"
   },
   {
    "duration": 4,
    "start_time": "2022-10-18T20:59:18.887Z"
   },
   {
    "duration": 4,
    "start_time": "2022-10-18T20:59:19.512Z"
   },
   {
    "duration": 4,
    "start_time": "2022-10-18T20:59:49.399Z"
   },
   {
    "duration": 6,
    "start_time": "2022-10-18T21:00:08.541Z"
   },
   {
    "duration": 42,
    "start_time": "2022-10-18T21:03:04.771Z"
   },
   {
    "duration": 4,
    "start_time": "2022-10-18T21:03:37.691Z"
   },
   {
    "duration": 5,
    "start_time": "2022-10-18T21:06:21.209Z"
   },
   {
    "duration": 14,
    "start_time": "2022-10-18T21:06:25.312Z"
   },
   {
    "duration": 48,
    "start_time": "2022-10-18T21:06:54.999Z"
   },
   {
    "duration": 10,
    "start_time": "2022-10-18T21:07:49.812Z"
   },
   {
    "duration": 15,
    "start_time": "2022-10-18T21:08:07.072Z"
   },
   {
    "duration": 3290,
    "start_time": "2022-10-18T21:08:12.553Z"
   },
   {
    "duration": 11,
    "start_time": "2022-10-18T21:09:36.372Z"
   },
   {
    "duration": 2462,
    "start_time": "2022-10-18T21:09:44.911Z"
   },
   {
    "duration": 3343,
    "start_time": "2022-10-18T21:10:26.924Z"
   },
   {
    "duration": 1639,
    "start_time": "2022-10-19T08:55:56.801Z"
   },
   {
    "duration": 54,
    "start_time": "2022-10-19T08:55:58.442Z"
   },
   {
    "duration": 141,
    "start_time": "2022-10-19T08:55:58.497Z"
   },
   {
    "duration": 11,
    "start_time": "2022-10-19T08:55:58.640Z"
   },
   {
    "duration": 11,
    "start_time": "2022-10-19T08:55:58.941Z"
   },
   {
    "duration": 43,
    "start_time": "2022-10-19T08:55:59.561Z"
   },
   {
    "duration": 7,
    "start_time": "2022-10-19T08:55:59.761Z"
   },
   {
    "duration": 3,
    "start_time": "2022-10-19T08:55:59.932Z"
   },
   {
    "duration": 3,
    "start_time": "2022-10-19T08:56:00.135Z"
   },
   {
    "duration": 43,
    "start_time": "2022-10-19T08:56:00.789Z"
   },
   {
    "duration": 2767,
    "start_time": "2022-10-19T08:56:01.551Z"
   },
   {
    "duration": 2501,
    "start_time": "2022-10-19T08:56:21.079Z"
   },
   {
    "duration": 2831,
    "start_time": "2022-10-19T08:56:29.144Z"
   },
   {
    "duration": 2883,
    "start_time": "2022-10-19T09:16:55.757Z"
   },
   {
    "duration": 2669,
    "start_time": "2022-10-19T09:17:33.808Z"
   },
   {
    "duration": 2839,
    "start_time": "2022-10-19T09:18:46.538Z"
   },
   {
    "duration": 2565,
    "start_time": "2022-10-19T09:19:02.620Z"
   },
   {
    "duration": 2935,
    "start_time": "2022-10-19T09:19:22.798Z"
   },
   {
    "duration": 3674,
    "start_time": "2022-10-19T09:19:31.328Z"
   },
   {
    "duration": 2731,
    "start_time": "2022-10-19T09:19:36.640Z"
   },
   {
    "duration": 2772,
    "start_time": "2022-10-19T09:21:23.629Z"
   },
   {
    "duration": 2913,
    "start_time": "2022-10-19T09:22:34.487Z"
   },
   {
    "duration": 2672,
    "start_time": "2022-10-19T09:22:48.591Z"
   },
   {
    "duration": 2861,
    "start_time": "2022-10-19T09:22:53.680Z"
   },
   {
    "duration": 2641,
    "start_time": "2022-10-19T09:27:40.720Z"
   },
   {
    "duration": 2691,
    "start_time": "2022-10-19T09:28:25.401Z"
   },
   {
    "duration": 2496,
    "start_time": "2022-10-19T09:28:48.786Z"
   },
   {
    "duration": 2610,
    "start_time": "2022-10-19T09:28:56.990Z"
   },
   {
    "duration": 2776,
    "start_time": "2022-10-19T09:29:04.878Z"
   },
   {
    "duration": 2510,
    "start_time": "2022-10-19T09:29:12.400Z"
   },
   {
    "duration": 2674,
    "start_time": "2022-10-19T09:29:41.162Z"
   },
   {
    "duration": 2564,
    "start_time": "2022-10-19T09:30:02.811Z"
   },
   {
    "duration": 319,
    "start_time": "2022-10-19T09:30:14.231Z"
   },
   {
    "duration": 2761,
    "start_time": "2022-10-19T09:30:19.749Z"
   },
   {
    "duration": 4,
    "start_time": "2022-10-19T09:37:51.480Z"
   },
   {
    "duration": 4,
    "start_time": "2022-10-19T09:38:33.628Z"
   },
   {
    "duration": 10,
    "start_time": "2022-10-19T09:38:34.181Z"
   },
   {
    "duration": 10,
    "start_time": "2022-10-19T09:38:34.870Z"
   },
   {
    "duration": 38,
    "start_time": "2022-10-19T09:38:37.268Z"
   },
   {
    "duration": 9,
    "start_time": "2022-10-19T09:39:43.640Z"
   },
   {
    "duration": 2687,
    "start_time": "2022-10-19T09:40:19.981Z"
   },
   {
    "duration": 37,
    "start_time": "2022-10-19T09:41:22.819Z"
   },
   {
    "duration": 4,
    "start_time": "2022-10-19T09:41:28.877Z"
   },
   {
    "duration": 5,
    "start_time": "2022-10-19T09:41:31.330Z"
   },
   {
    "duration": 9,
    "start_time": "2022-10-19T09:41:34.360Z"
   },
   {
    "duration": 11,
    "start_time": "2022-10-19T09:41:37.178Z"
   },
   {
    "duration": 36,
    "start_time": "2022-10-19T09:41:40.234Z"
   },
   {
    "duration": 9,
    "start_time": "2022-10-19T09:41:44.981Z"
   },
   {
    "duration": 2591,
    "start_time": "2022-10-19T09:41:56.741Z"
   },
   {
    "duration": 13,
    "start_time": "2022-10-19T09:42:05.223Z"
   },
   {
    "duration": 702,
    "start_time": "2022-10-19T09:42:13.731Z"
   },
   {
    "duration": 1362,
    "start_time": "2022-10-19T09:46:37.463Z"
   },
   {
    "duration": 44,
    "start_time": "2022-10-19T09:46:38.827Z"
   },
   {
    "duration": 32,
    "start_time": "2022-10-19T09:46:38.873Z"
   },
   {
    "duration": 7,
    "start_time": "2022-10-19T09:46:38.907Z"
   },
   {
    "duration": 3,
    "start_time": "2022-10-19T09:46:38.915Z"
   },
   {
    "duration": 8,
    "start_time": "2022-10-19T09:46:38.919Z"
   },
   {
    "duration": 12,
    "start_time": "2022-10-19T09:46:38.928Z"
   },
   {
    "duration": 12,
    "start_time": "2022-10-19T09:46:38.942Z"
   },
   {
    "duration": 38,
    "start_time": "2022-10-19T09:46:38.955Z"
   },
   {
    "duration": 55,
    "start_time": "2022-10-19T09:46:38.994Z"
   },
   {
    "duration": 2657,
    "start_time": "2022-10-19T09:46:39.051Z"
   },
   {
    "duration": 0,
    "start_time": "2022-10-19T09:54:31.336Z"
   },
   {
    "duration": 0,
    "start_time": "2022-10-19T09:54:31.342Z"
   },
   {
    "duration": 670,
    "start_time": "2022-10-19T09:54:33.397Z"
   },
   {
    "duration": 687,
    "start_time": "2022-10-19T09:54:34.850Z"
   },
   {
    "duration": 1505,
    "start_time": "2022-10-19T09:54:35.767Z"
   },
   {
    "duration": 1397,
    "start_time": "2022-10-19T09:54:46.566Z"
   },
   {
    "duration": 1377,
    "start_time": "2022-10-19T09:55:59.006Z"
   },
   {
    "duration": 1329,
    "start_time": "2022-10-19T09:56:07.297Z"
   },
   {
    "duration": 1371,
    "start_time": "2022-10-19T09:56:45.677Z"
   },
   {
    "duration": 1371,
    "start_time": "2022-10-19T09:56:57.985Z"
   },
   {
    "duration": 1340,
    "start_time": "2022-10-19T09:57:07.355Z"
   },
   {
    "duration": 1348,
    "start_time": "2022-10-19T09:57:15.146Z"
   },
   {
    "duration": 1334,
    "start_time": "2022-10-19T09:57:22.557Z"
   },
   {
    "duration": 1308,
    "start_time": "2022-10-19T09:57:32.567Z"
   },
   {
    "duration": 2114,
    "start_time": "2022-10-19T09:59:41.077Z"
   },
   {
    "duration": 13,
    "start_time": "2022-10-19T10:02:21.777Z"
   },
   {
    "duration": 5,
    "start_time": "2022-10-19T10:46:54.227Z"
   },
   {
    "duration": 70,
    "start_time": "2022-10-19T10:46:54.233Z"
   },
   {
    "duration": 32,
    "start_time": "2022-10-19T10:46:54.305Z"
   },
   {
    "duration": 8,
    "start_time": "2022-10-19T10:46:54.339Z"
   },
   {
    "duration": 2,
    "start_time": "2022-10-19T10:46:54.350Z"
   },
   {
    "duration": 9,
    "start_time": "2022-10-19T10:46:54.354Z"
   },
   {
    "duration": 16,
    "start_time": "2022-10-19T10:46:54.365Z"
   },
   {
    "duration": 11,
    "start_time": "2022-10-19T10:46:54.383Z"
   },
   {
    "duration": 44,
    "start_time": "2022-10-19T10:46:54.396Z"
   },
   {
    "duration": 10,
    "start_time": "2022-10-19T10:46:54.442Z"
   },
   {
    "duration": 2765,
    "start_time": "2022-10-19T10:46:54.453Z"
   },
   {
    "duration": 684,
    "start_time": "2022-10-19T10:46:57.220Z"
   },
   {
    "duration": 1381,
    "start_time": "2022-10-19T10:46:57.906Z"
   },
   {
    "duration": 10,
    "start_time": "2022-10-19T11:07:24.345Z"
   },
   {
    "duration": 17,
    "start_time": "2022-10-19T11:07:30.767Z"
   },
   {
    "duration": 18,
    "start_time": "2022-10-19T11:07:38.325Z"
   },
   {
    "duration": 7,
    "start_time": "2022-10-19T11:09:21.017Z"
   },
   {
    "duration": 109,
    "start_time": "2022-10-19T11:17:12.917Z"
   },
   {
    "duration": 32,
    "start_time": "2022-10-19T11:18:00.298Z"
   },
   {
    "duration": 31,
    "start_time": "2022-10-19T11:18:05.667Z"
   },
   {
    "duration": 351,
    "start_time": "2022-10-19T11:21:58.324Z"
   },
   {
    "duration": 397,
    "start_time": "2022-10-19T11:22:05.067Z"
   },
   {
    "duration": 156,
    "start_time": "2022-10-19T11:22:37.067Z"
   },
   {
    "duration": 343,
    "start_time": "2022-10-19T11:23:00.867Z"
   },
   {
    "duration": 386,
    "start_time": "2022-10-19T11:26:36.096Z"
   },
   {
    "duration": 16,
    "start_time": "2022-10-19T11:31:44.207Z"
   },
   {
    "duration": 108219,
    "start_time": "2022-10-19T11:31:52.875Z"
   },
   {
    "duration": 530,
    "start_time": "2022-10-19T11:37:07.997Z"
   },
   {
    "duration": 104238,
    "start_time": "2022-10-19T11:37:10.157Z"
   },
   {
    "duration": 6,
    "start_time": "2022-10-19T11:41:43.599Z"
   },
   {
    "duration": 32,
    "start_time": "2022-10-19T11:41:44.491Z"
   },
   {
    "duration": 365,
    "start_time": "2022-10-19T11:41:45.718Z"
   },
   {
    "duration": 8,
    "start_time": "2022-10-19T11:41:47.667Z"
   },
   {
    "duration": 102719,
    "start_time": "2022-10-19T11:41:48.038Z"
   },
   {
    "duration": 8,
    "start_time": "2022-10-19T12:14:29.819Z"
   },
   {
    "duration": 1373,
    "start_time": "2022-10-19T12:19:07.349Z"
   },
   {
    "duration": 1270,
    "start_time": "2022-10-19T12:20:00.058Z"
   },
   {
    "duration": 1474,
    "start_time": "2022-10-19T12:20:15.149Z"
   },
   {
    "duration": 1289,
    "start_time": "2022-10-19T12:20:42.139Z"
   },
   {
    "duration": 1324,
    "start_time": "2022-10-19T12:20:58.799Z"
   },
   {
    "duration": 1300,
    "start_time": "2022-10-19T12:21:46.425Z"
   },
   {
    "duration": 1355,
    "start_time": "2022-10-19T12:21:50.768Z"
   },
   {
    "duration": 5,
    "start_time": "2022-10-19T12:22:48.999Z"
   },
   {
    "duration": 12,
    "start_time": "2022-10-19T12:23:41.309Z"
   },
   {
    "duration": 7,
    "start_time": "2022-10-19T12:23:57.538Z"
   },
   {
    "duration": 7,
    "start_time": "2022-10-19T12:24:18.789Z"
   },
   {
    "duration": 5,
    "start_time": "2022-10-19T12:24:23.569Z"
   },
   {
    "duration": 19,
    "start_time": "2022-10-19T12:25:15.119Z"
   },
   {
    "duration": 610831,
    "start_time": "2022-10-19T12:27:41.669Z"
   },
   {
    "duration": 2089,
    "start_time": "2022-10-19T12:46:48.093Z"
   },
   {
    "duration": 2193,
    "start_time": "2022-10-19T12:47:15.780Z"
   },
   {
    "duration": 2000,
    "start_time": "2022-10-19T12:47:41.979Z"
   },
   {
    "duration": 2144,
    "start_time": "2022-10-19T12:48:08.245Z"
   },
   {
    "duration": 1024,
    "start_time": "2022-10-19T12:48:29.020Z"
   },
   {
    "duration": 924,
    "start_time": "2022-10-19T12:48:41.139Z"
   },
   {
    "duration": 1207,
    "start_time": "2022-10-19T12:48:48.240Z"
   },
   {
    "duration": 1290,
    "start_time": "2022-10-19T12:48:54.480Z"
   },
   {
    "duration": 1349,
    "start_time": "2022-10-19T13:01:57.769Z"
   },
   {
    "duration": 51,
    "start_time": "2022-10-19T13:01:59.120Z"
   },
   {
    "duration": 32,
    "start_time": "2022-10-19T13:01:59.173Z"
   },
   {
    "duration": 7,
    "start_time": "2022-10-19T13:01:59.207Z"
   },
   {
    "duration": 6,
    "start_time": "2022-10-19T13:01:59.216Z"
   },
   {
    "duration": 9,
    "start_time": "2022-10-19T13:01:59.224Z"
   },
   {
    "duration": 24,
    "start_time": "2022-10-19T13:01:59.235Z"
   },
   {
    "duration": 11,
    "start_time": "2022-10-19T13:01:59.260Z"
   },
   {
    "duration": 48,
    "start_time": "2022-10-19T13:01:59.272Z"
   },
   {
    "duration": 47,
    "start_time": "2022-10-19T13:01:59.321Z"
   },
   {
    "duration": 2784,
    "start_time": "2022-10-19T13:01:59.370Z"
   },
   {
    "duration": 890,
    "start_time": "2022-10-19T13:02:02.156Z"
   },
   {
    "duration": 1397,
    "start_time": "2022-10-19T13:02:03.047Z"
   },
   {
    "duration": 101,
    "start_time": "2022-10-19T13:02:04.448Z"
   },
   {
    "duration": 0,
    "start_time": "2022-10-19T13:02:04.551Z"
   },
   {
    "duration": 0,
    "start_time": "2022-10-19T13:02:04.553Z"
   },
   {
    "duration": 0,
    "start_time": "2022-10-19T13:02:04.554Z"
   },
   {
    "duration": 0,
    "start_time": "2022-10-19T13:02:04.556Z"
   },
   {
    "duration": 0,
    "start_time": "2022-10-19T13:02:04.557Z"
   },
   {
    "duration": 0,
    "start_time": "2022-10-19T13:02:04.558Z"
   },
   {
    "duration": 0,
    "start_time": "2022-10-19T13:02:04.559Z"
   },
   {
    "duration": 0,
    "start_time": "2022-10-19T13:02:04.561Z"
   },
   {
    "duration": 0,
    "start_time": "2022-10-19T13:02:04.562Z"
   },
   {
    "duration": 3,
    "start_time": "2022-10-19T13:03:40.000Z"
   },
   {
    "duration": 1417,
    "start_time": "2022-10-19T13:03:46.913Z"
   },
   {
    "duration": 45,
    "start_time": "2022-10-19T13:03:48.332Z"
   },
   {
    "duration": 32,
    "start_time": "2022-10-19T13:03:48.378Z"
   },
   {
    "duration": 9,
    "start_time": "2022-10-19T13:03:48.411Z"
   },
   {
    "duration": 3,
    "start_time": "2022-10-19T13:03:48.422Z"
   },
   {
    "duration": 7,
    "start_time": "2022-10-19T13:03:48.426Z"
   },
   {
    "duration": 12,
    "start_time": "2022-10-19T13:03:48.434Z"
   },
   {
    "duration": 10,
    "start_time": "2022-10-19T13:03:48.448Z"
   },
   {
    "duration": 37,
    "start_time": "2022-10-19T13:03:48.459Z"
   },
   {
    "duration": 62,
    "start_time": "2022-10-19T13:03:48.497Z"
   },
   {
    "duration": 2730,
    "start_time": "2022-10-19T13:03:48.560Z"
   },
   {
    "duration": 882,
    "start_time": "2022-10-19T13:03:51.292Z"
   },
   {
    "duration": 1484,
    "start_time": "2022-10-19T13:03:52.176Z"
   },
   {
    "duration": 113,
    "start_time": "2022-10-19T13:03:53.663Z"
   },
   {
    "duration": 0,
    "start_time": "2022-10-19T13:03:53.778Z"
   },
   {
    "duration": 0,
    "start_time": "2022-10-19T13:03:53.779Z"
   },
   {
    "duration": 0,
    "start_time": "2022-10-19T13:03:53.780Z"
   },
   {
    "duration": 0,
    "start_time": "2022-10-19T13:03:53.781Z"
   },
   {
    "duration": 0,
    "start_time": "2022-10-19T13:03:53.782Z"
   },
   {
    "duration": 0,
    "start_time": "2022-10-19T13:03:53.782Z"
   },
   {
    "duration": 0,
    "start_time": "2022-10-19T13:03:53.783Z"
   },
   {
    "duration": 0,
    "start_time": "2022-10-19T13:03:53.784Z"
   },
   {
    "duration": 0,
    "start_time": "2022-10-19T13:03:53.785Z"
   },
   {
    "duration": 13,
    "start_time": "2022-10-19T13:04:31.260Z"
   },
   {
    "duration": 13,
    "start_time": "2022-10-19T13:04:40.740Z"
   },
   {
    "duration": 14,
    "start_time": "2022-10-19T13:05:09.193Z"
   },
   {
    "duration": 1430,
    "start_time": "2022-10-19T13:05:35.155Z"
   },
   {
    "duration": 40,
    "start_time": "2022-10-19T13:05:36.587Z"
   },
   {
    "duration": 32,
    "start_time": "2022-10-19T13:05:36.629Z"
   },
   {
    "duration": 7,
    "start_time": "2022-10-19T13:05:36.662Z"
   },
   {
    "duration": 21,
    "start_time": "2022-10-19T13:05:36.671Z"
   },
   {
    "duration": 17,
    "start_time": "2022-10-19T13:05:36.693Z"
   },
   {
    "duration": 18,
    "start_time": "2022-10-19T13:05:36.712Z"
   },
   {
    "duration": 15,
    "start_time": "2022-10-19T13:05:36.732Z"
   },
   {
    "duration": 44,
    "start_time": "2022-10-19T13:05:36.748Z"
   },
   {
    "duration": 50,
    "start_time": "2022-10-19T13:05:36.793Z"
   },
   {
    "duration": 2758,
    "start_time": "2022-10-19T13:05:36.845Z"
   },
   {
    "duration": 900,
    "start_time": "2022-10-19T13:05:39.605Z"
   },
   {
    "duration": 1566,
    "start_time": "2022-10-19T13:05:40.506Z"
   },
   {
    "duration": 115,
    "start_time": "2022-10-19T13:05:42.075Z"
   },
   {
    "duration": 0,
    "start_time": "2022-10-19T13:05:42.191Z"
   },
   {
    "duration": 0,
    "start_time": "2022-10-19T13:05:42.193Z"
   },
   {
    "duration": 0,
    "start_time": "2022-10-19T13:05:42.193Z"
   },
   {
    "duration": 0,
    "start_time": "2022-10-19T13:05:42.194Z"
   },
   {
    "duration": 0,
    "start_time": "2022-10-19T13:05:42.195Z"
   },
   {
    "duration": 0,
    "start_time": "2022-10-19T13:05:42.196Z"
   },
   {
    "duration": 0,
    "start_time": "2022-10-19T13:05:42.197Z"
   },
   {
    "duration": 0,
    "start_time": "2022-10-19T13:05:42.198Z"
   },
   {
    "duration": 0,
    "start_time": "2022-10-19T13:05:42.199Z"
   },
   {
    "duration": 5,
    "start_time": "2022-10-19T13:06:14.433Z"
   },
   {
    "duration": 4,
    "start_time": "2022-10-19T13:06:37.913Z"
   },
   {
    "duration": 5,
    "start_time": "2022-10-19T13:06:41.060Z"
   },
   {
    "duration": 14,
    "start_time": "2022-10-19T13:06:42.884Z"
   },
   {
    "duration": 11,
    "start_time": "2022-10-19T13:06:59.455Z"
   },
   {
    "duration": 5,
    "start_time": "2022-10-19T13:07:28.592Z"
   },
   {
    "duration": 5,
    "start_time": "2022-10-19T13:07:29.885Z"
   },
   {
    "duration": 7,
    "start_time": "2022-10-19T13:07:31.121Z"
   },
   {
    "duration": 33,
    "start_time": "2022-10-19T13:07:31.603Z"
   },
   {
    "duration": 362,
    "start_time": "2022-10-19T13:07:32.249Z"
   },
   {
    "duration": 8,
    "start_time": "2022-10-19T13:07:33.334Z"
   },
   {
    "duration": 109884,
    "start_time": "2022-10-19T13:07:34.075Z"
   },
   {
    "duration": 1063,
    "start_time": "2022-10-19T13:09:23.960Z"
   },
   {
    "duration": 5,
    "start_time": "2022-10-19T13:09:25.024Z"
   },
   {
    "duration": 14,
    "start_time": "2022-10-19T13:09:25.031Z"
   },
   {
    "duration": 1621,
    "start_time": "2022-10-19T13:09:25.047Z"
   },
   {
    "duration": 12,
    "start_time": "2022-10-19T13:39:41.559Z"
   },
   {
    "duration": 11,
    "start_time": "2022-10-19T13:45:21.710Z"
   },
   {
    "duration": 10,
    "start_time": "2022-10-19T13:45:47.510Z"
   },
   {
    "duration": 10,
    "start_time": "2022-10-19T13:45:54.908Z"
   },
   {
    "duration": 11,
    "start_time": "2022-10-19T13:45:57.590Z"
   },
   {
    "duration": 10,
    "start_time": "2022-10-19T14:49:48.814Z"
   },
   {
    "duration": 10,
    "start_time": "2022-10-19T14:54:09.506Z"
   },
   {
    "duration": 32,
    "start_time": "2022-10-19T15:01:21.827Z"
   },
   {
    "duration": 10,
    "start_time": "2022-10-19T15:01:48.899Z"
   },
   {
    "duration": 11,
    "start_time": "2022-10-19T15:05:40.847Z"
   },
   {
    "duration": 71,
    "start_time": "2022-10-19T15:08:46.376Z"
   },
   {
    "duration": 12,
    "start_time": "2022-10-19T15:08:49.957Z"
   },
   {
    "duration": 12,
    "start_time": "2022-10-19T15:08:54.427Z"
   },
   {
    "duration": 10,
    "start_time": "2022-10-19T15:08:58.717Z"
   },
   {
    "duration": 11,
    "start_time": "2022-10-19T15:09:03.946Z"
   },
   {
    "duration": 12,
    "start_time": "2022-10-19T15:09:32.166Z"
   },
   {
    "duration": 10,
    "start_time": "2022-10-19T15:09:38.667Z"
   },
   {
    "duration": 15,
    "start_time": "2022-10-19T15:09:51.057Z"
   },
   {
    "duration": 14,
    "start_time": "2022-10-19T15:09:59.907Z"
   },
   {
    "duration": 12,
    "start_time": "2022-10-19T15:10:08.506Z"
   },
   {
    "duration": 12,
    "start_time": "2022-10-19T15:13:07.916Z"
   },
   {
    "duration": 7,
    "start_time": "2022-10-19T15:13:14.246Z"
   },
   {
    "duration": 10,
    "start_time": "2022-10-19T15:13:47.866Z"
   },
   {
    "duration": 9,
    "start_time": "2022-10-19T15:14:26.737Z"
   },
   {
    "duration": 235,
    "start_time": "2022-10-19T15:14:35.446Z"
   },
   {
    "duration": 10,
    "start_time": "2022-10-19T15:14:37.872Z"
   },
   {
    "duration": 12,
    "start_time": "2022-10-19T15:35:06.543Z"
   },
   {
    "duration": 13,
    "start_time": "2022-10-19T15:35:10.594Z"
   },
   {
    "duration": 9,
    "start_time": "2022-10-19T15:35:17.243Z"
   },
   {
    "duration": 8,
    "start_time": "2022-10-19T15:35:26.883Z"
   },
   {
    "duration": 9,
    "start_time": "2022-10-19T15:35:40.711Z"
   },
   {
    "duration": 10,
    "start_time": "2022-10-19T15:35:51.223Z"
   },
   {
    "duration": 1304,
    "start_time": "2022-10-19T15:38:43.263Z"
   },
   {
    "duration": 55,
    "start_time": "2022-10-19T16:05:19.956Z"
   },
   {
    "duration": 1443,
    "start_time": "2022-10-19T16:05:28.949Z"
   },
   {
    "duration": 41,
    "start_time": "2022-10-19T16:05:30.394Z"
   },
   {
    "duration": 43,
    "start_time": "2022-10-19T16:05:30.437Z"
   },
   {
    "duration": 8,
    "start_time": "2022-10-19T16:05:30.482Z"
   },
   {
    "duration": 26,
    "start_time": "2022-10-19T16:05:30.492Z"
   },
   {
    "duration": 33,
    "start_time": "2022-10-19T16:05:30.520Z"
   },
   {
    "duration": 32,
    "start_time": "2022-10-19T16:05:30.554Z"
   },
   {
    "duration": 24,
    "start_time": "2022-10-19T16:05:30.587Z"
   },
   {
    "duration": 119,
    "start_time": "2022-10-19T16:05:30.613Z"
   },
   {
    "duration": 43,
    "start_time": "2022-10-19T16:05:30.734Z"
   },
   {
    "duration": 2930,
    "start_time": "2022-10-19T16:05:30.778Z"
   },
   {
    "duration": 871,
    "start_time": "2022-10-19T16:05:33.709Z"
   },
   {
    "duration": 1426,
    "start_time": "2022-10-19T16:05:34.581Z"
   },
   {
    "duration": 4,
    "start_time": "2022-10-19T16:05:36.011Z"
   },
   {
    "duration": 16,
    "start_time": "2022-10-19T16:05:36.017Z"
   },
   {
    "duration": 42,
    "start_time": "2022-10-19T16:05:36.035Z"
   },
   {
    "duration": 344,
    "start_time": "2022-10-19T16:05:36.079Z"
   },
   {
    "duration": 8,
    "start_time": "2022-10-19T16:05:36.425Z"
   },
   {
    "duration": 108996,
    "start_time": "2022-10-19T16:05:36.435Z"
   },
   {
    "duration": 606,
    "start_time": "2022-10-19T16:07:25.433Z"
   },
   {
    "duration": 6,
    "start_time": "2022-10-19T16:07:26.121Z"
   },
   {
    "duration": 75,
    "start_time": "2022-10-19T16:07:26.129Z"
   },
   {
    "duration": 1340,
    "start_time": "2022-10-19T16:07:26.207Z"
   },
   {
    "duration": 9,
    "start_time": "2022-10-19T16:07:27.549Z"
   },
   {
    "duration": 2103,
    "start_time": "2022-10-20T04:54:55.818Z"
   },
   {
    "duration": 45,
    "start_time": "2022-10-20T04:54:57.923Z"
   },
   {
    "duration": 45,
    "start_time": "2022-10-20T04:54:57.970Z"
   },
   {
    "duration": 9,
    "start_time": "2022-10-20T04:54:58.017Z"
   },
   {
    "duration": 7,
    "start_time": "2022-10-20T04:54:58.027Z"
   },
   {
    "duration": 13,
    "start_time": "2022-10-20T04:54:58.036Z"
   },
   {
    "duration": 33,
    "start_time": "2022-10-20T04:54:58.051Z"
   },
   {
    "duration": 11,
    "start_time": "2022-10-20T04:54:58.085Z"
   },
   {
    "duration": 47,
    "start_time": "2022-10-20T04:54:58.098Z"
   },
   {
    "duration": 45,
    "start_time": "2022-10-20T04:54:58.148Z"
   },
   {
    "duration": 2974,
    "start_time": "2022-10-20T04:54:58.195Z"
   },
   {
    "duration": 1078,
    "start_time": "2022-10-20T04:55:01.170Z"
   },
   {
    "duration": 1594,
    "start_time": "2022-10-20T04:55:02.250Z"
   },
   {
    "duration": 5,
    "start_time": "2022-10-20T04:55:03.847Z"
   },
   {
    "duration": 18,
    "start_time": "2022-10-20T04:55:03.854Z"
   },
   {
    "duration": 46,
    "start_time": "2022-10-20T04:55:03.874Z"
   },
   {
    "duration": 354,
    "start_time": "2022-10-20T04:55:03.922Z"
   },
   {
    "duration": 7,
    "start_time": "2022-10-20T04:55:04.278Z"
   },
   {
    "duration": 115384,
    "start_time": "2022-10-20T04:55:04.287Z"
   },
   {
    "duration": 882,
    "start_time": "2022-10-20T04:56:59.673Z"
   },
   {
    "duration": 6,
    "start_time": "2022-10-20T04:57:00.557Z"
   },
   {
    "duration": 34,
    "start_time": "2022-10-20T04:57:00.565Z"
   },
   {
    "duration": 1467,
    "start_time": "2022-10-20T04:57:00.601Z"
   },
   {
    "duration": 10,
    "start_time": "2022-10-20T04:57:02.069Z"
   },
   {
    "duration": 1749,
    "start_time": "2022-10-20T11:04:03.668Z"
   },
   {
    "duration": 65,
    "start_time": "2022-10-20T11:04:05.419Z"
   },
   {
    "duration": 43,
    "start_time": "2022-10-20T11:04:05.486Z"
   },
   {
    "duration": 8,
    "start_time": "2022-10-20T11:04:05.531Z"
   },
   {
    "duration": 2,
    "start_time": "2022-10-20T11:04:05.542Z"
   },
   {
    "duration": 8,
    "start_time": "2022-10-20T11:04:05.546Z"
   },
   {
    "duration": 16,
    "start_time": "2022-10-20T11:04:05.555Z"
   },
   {
    "duration": 12,
    "start_time": "2022-10-20T11:04:05.572Z"
   },
   {
    "duration": 49,
    "start_time": "2022-10-20T11:04:05.585Z"
   },
   {
    "duration": 41,
    "start_time": "2022-10-20T11:04:05.636Z"
   },
   {
    "duration": 2717,
    "start_time": "2022-10-20T11:04:05.679Z"
   },
   {
    "duration": 865,
    "start_time": "2022-10-20T11:04:08.397Z"
   },
   {
    "duration": 1512,
    "start_time": "2022-10-20T11:04:09.263Z"
   },
   {
    "duration": 4,
    "start_time": "2022-10-20T11:04:10.777Z"
   },
   {
    "duration": 15,
    "start_time": "2022-10-20T11:04:10.782Z"
   },
   {
    "duration": 35,
    "start_time": "2022-10-20T11:04:10.799Z"
   },
   {
    "duration": 321,
    "start_time": "2022-10-20T11:04:10.835Z"
   },
   {
    "duration": 7,
    "start_time": "2022-10-20T11:04:11.158Z"
   },
   {
    "duration": 107889,
    "start_time": "2022-10-20T11:04:11.166Z"
   },
   {
    "duration": 962,
    "start_time": "2022-10-20T11:05:59.056Z"
   },
   {
    "duration": 6,
    "start_time": "2022-10-20T11:06:00.020Z"
   },
   {
    "duration": 43,
    "start_time": "2022-10-20T11:06:00.028Z"
   },
   {
    "duration": 1342,
    "start_time": "2022-10-20T11:06:00.073Z"
   },
   {
    "duration": 13,
    "start_time": "2022-10-20T11:06:01.417Z"
   },
   {
    "duration": 1812,
    "start_time": "2022-10-20T11:06:01.432Z"
   },
   {
    "duration": 1663,
    "start_time": "2022-10-20T11:28:36.977Z"
   },
   {
    "duration": 1762,
    "start_time": "2022-10-20T11:28:57.247Z"
   },
   {
    "duration": 1376,
    "start_time": "2022-10-20T11:29:52.298Z"
   },
   {
    "duration": 13,
    "start_time": "2022-10-20T11:30:00.624Z"
   },
   {
    "duration": 13,
    "start_time": "2022-10-20T11:30:26.074Z"
   },
   {
    "duration": 1142,
    "start_time": "2022-10-20T11:30:35.744Z"
   },
   {
    "duration": 1281,
    "start_time": "2022-10-20T11:30:49.681Z"
   },
   {
    "duration": 2437,
    "start_time": "2022-10-20T11:34:47.433Z"
   },
   {
    "duration": 1625,
    "start_time": "2022-10-20T11:35:20.530Z"
   },
   {
    "duration": 2413,
    "start_time": "2022-10-20T11:35:30.708Z"
   },
   {
    "duration": 2530,
    "start_time": "2022-10-20T11:35:51.389Z"
   },
   {
    "duration": 2476,
    "start_time": "2022-10-20T11:36:07.912Z"
   },
   {
    "duration": 1861,
    "start_time": "2022-10-20T11:37:41.742Z"
   },
   {
    "duration": 2837,
    "start_time": "2022-10-20T11:38:02.671Z"
   },
   {
    "duration": 2568,
    "start_time": "2022-10-20T11:38:05.510Z"
   },
   {
    "duration": 2063,
    "start_time": "2022-10-20T11:40:51.534Z"
   },
   {
    "duration": 85,
    "start_time": "2022-10-20T11:41:21.266Z"
   },
   {
    "duration": 2273,
    "start_time": "2022-10-20T11:41:27.888Z"
   },
   {
    "duration": 1911,
    "start_time": "2022-10-20T11:41:38.944Z"
   },
   {
    "duration": 2129,
    "start_time": "2022-10-20T11:41:48.108Z"
   },
   {
    "duration": 2204,
    "start_time": "2022-10-20T11:41:52.124Z"
   },
   {
    "duration": 2001,
    "start_time": "2022-10-20T11:42:16.024Z"
   },
   {
    "duration": 2123,
    "start_time": "2022-10-20T11:42:29.545Z"
   },
   {
    "duration": 4,
    "start_time": "2022-10-20T11:43:36.538Z"
   },
   {
    "duration": 4,
    "start_time": "2022-10-20T11:44:10.031Z"
   },
   {
    "duration": 2154,
    "start_time": "2022-10-20T11:44:17.884Z"
   },
   {
    "duration": 55,
    "start_time": "2022-10-20T11:44:38.278Z"
   },
   {
    "duration": 2298,
    "start_time": "2022-10-20T11:44:44.722Z"
   },
   {
    "duration": 2307,
    "start_time": "2022-10-20T11:45:55.160Z"
   },
   {
    "duration": 2483,
    "start_time": "2022-10-20T11:46:06.351Z"
   },
   {
    "duration": 2621,
    "start_time": "2022-10-20T11:47:11.396Z"
   },
   {
    "duration": 2882,
    "start_time": "2022-10-20T11:47:42.085Z"
   },
   {
    "duration": 2964,
    "start_time": "2022-10-20T11:47:53.893Z"
   },
   {
    "duration": 3114,
    "start_time": "2022-10-20T11:48:43.379Z"
   },
   {
    "duration": 2607,
    "start_time": "2022-10-20T11:48:57.888Z"
   },
   {
    "duration": 2624,
    "start_time": "2022-10-20T11:50:01.232Z"
   },
   {
    "duration": 2639,
    "start_time": "2022-10-20T11:51:34.332Z"
   },
   {
    "duration": 2602,
    "start_time": "2022-10-20T11:51:44.918Z"
   },
   {
    "duration": 4,
    "start_time": "2022-10-20T11:52:17.610Z"
   },
   {
    "duration": 17,
    "start_time": "2022-10-20T11:59:45.292Z"
   },
   {
    "duration": 15,
    "start_time": "2022-10-20T12:13:32.215Z"
   },
   {
    "duration": 4,
    "start_time": "2022-10-20T12:13:36.895Z"
   },
   {
    "duration": 2417,
    "start_time": "2022-10-20T12:13:50.688Z"
   },
   {
    "duration": 2636,
    "start_time": "2022-10-20T12:14:40.155Z"
   },
   {
    "duration": 2760,
    "start_time": "2022-10-20T12:14:53.746Z"
   },
   {
    "duration": 2580,
    "start_time": "2022-10-20T12:16:16.525Z"
   },
   {
    "duration": 9,
    "start_time": "2022-10-20T12:18:49.464Z"
   },
   {
    "duration": 10,
    "start_time": "2022-10-20T12:20:16.594Z"
   },
   {
    "duration": 12,
    "start_time": "2022-10-20T12:20:46.754Z"
   },
   {
    "duration": 2841,
    "start_time": "2022-10-20T12:21:10.703Z"
   },
   {
    "duration": 2579,
    "start_time": "2022-10-20T12:21:52.422Z"
   },
   {
    "duration": 2552,
    "start_time": "2022-10-20T12:22:14.297Z"
   },
   {
    "duration": 2735,
    "start_time": "2022-10-20T12:22:52.094Z"
   },
   {
    "duration": 2491,
    "start_time": "2022-10-20T12:24:21.694Z"
   },
   {
    "duration": 2805,
    "start_time": "2022-10-20T12:30:20.171Z"
   },
   {
    "duration": 2720,
    "start_time": "2022-10-20T12:36:23.090Z"
   },
   {
    "duration": 2901,
    "start_time": "2022-10-20T12:36:42.942Z"
   },
   {
    "duration": 2526,
    "start_time": "2022-10-20T12:37:24.728Z"
   },
   {
    "duration": 15543,
    "start_time": "2022-10-20T12:37:37.201Z"
   },
   {
    "duration": 2938,
    "start_time": "2022-10-20T12:38:02.403Z"
   },
   {
    "duration": 2401,
    "start_time": "2022-10-20T12:38:31.399Z"
   },
   {
    "duration": 2568,
    "start_time": "2022-10-20T12:39:19.993Z"
   },
   {
    "duration": 2620,
    "start_time": "2022-10-20T12:39:32.538Z"
   },
   {
    "duration": 49,
    "start_time": "2022-10-20T12:40:06.773Z"
   },
   {
    "duration": 2268,
    "start_time": "2022-10-20T12:40:10.189Z"
   },
   {
    "duration": 2328,
    "start_time": "2022-10-20T12:40:18.583Z"
   },
   {
    "duration": 2509,
    "start_time": "2022-10-20T12:40:24.723Z"
   },
   {
    "duration": 2531,
    "start_time": "2022-10-20T12:40:34.603Z"
   },
   {
    "duration": 2953,
    "start_time": "2022-10-20T12:41:55.693Z"
   },
   {
    "duration": 2485,
    "start_time": "2022-10-20T12:42:12.970Z"
   },
   {
    "duration": 2536,
    "start_time": "2022-10-20T12:42:24.956Z"
   },
   {
    "duration": 41,
    "start_time": "2022-10-20T12:43:36.763Z"
   },
   {
    "duration": 2568,
    "start_time": "2022-10-20T12:43:55.202Z"
   },
   {
    "duration": 2821,
    "start_time": "2022-10-20T12:44:39.228Z"
   },
   {
    "duration": 17,
    "start_time": "2022-10-20T12:45:31.504Z"
   },
   {
    "duration": 19,
    "start_time": "2022-10-20T12:45:41.564Z"
   },
   {
    "duration": 1815,
    "start_time": "2022-10-20T12:45:47.423Z"
   },
   {
    "duration": 25,
    "start_time": "2022-10-20T12:46:08.533Z"
   },
   {
    "duration": 1897,
    "start_time": "2022-10-20T12:46:11.373Z"
   },
   {
    "duration": 2364,
    "start_time": "2022-10-20T12:46:31.283Z"
   },
   {
    "duration": 1555,
    "start_time": "2022-10-20T12:51:40.001Z"
   },
   {
    "duration": 2143,
    "start_time": "2022-10-20T12:52:13.350Z"
   },
   {
    "duration": 1861,
    "start_time": "2022-10-20T12:52:32.233Z"
   },
   {
    "duration": 2102,
    "start_time": "2022-10-20T12:52:54.532Z"
   },
   {
    "duration": 1500,
    "start_time": "2022-10-20T12:56:23.973Z"
   },
   {
    "duration": 1555,
    "start_time": "2022-10-20T12:56:44.062Z"
   },
   {
    "duration": 1449,
    "start_time": "2022-10-20T12:56:57.953Z"
   },
   {
    "duration": 1306,
    "start_time": "2022-10-20T12:58:40.442Z"
   },
   {
    "duration": 1449,
    "start_time": "2022-10-20T12:58:53.753Z"
   },
   {
    "duration": 1339,
    "start_time": "2022-10-20T12:59:05.783Z"
   },
   {
    "duration": 1480,
    "start_time": "2022-10-20T13:00:10.194Z"
   },
   {
    "duration": 5,
    "start_time": "2022-10-20T13:00:19.490Z"
   },
   {
    "duration": 37,
    "start_time": "2022-10-20T13:09:41.684Z"
   },
   {
    "duration": 11,
    "start_time": "2022-10-20T13:13:00.361Z"
   },
   {
    "duration": 44,
    "start_time": "2022-10-20T13:13:31.914Z"
   },
   {
    "duration": 14,
    "start_time": "2022-10-20T13:13:56.213Z"
   },
   {
    "duration": 19,
    "start_time": "2022-10-20T13:14:05.493Z"
   },
   {
    "duration": 40,
    "start_time": "2022-10-20T13:14:12.683Z"
   },
   {
    "duration": 13,
    "start_time": "2022-10-20T13:14:17.262Z"
   },
   {
    "duration": 37,
    "start_time": "2022-10-20T13:14:24.820Z"
   },
   {
    "duration": 41,
    "start_time": "2022-10-20T13:14:59.384Z"
   },
   {
    "duration": 4,
    "start_time": "2022-10-20T13:15:03.512Z"
   },
   {
    "duration": 40,
    "start_time": "2022-10-20T13:15:53.574Z"
   },
   {
    "duration": 15,
    "start_time": "2022-10-20T13:16:02.743Z"
   },
   {
    "duration": 25,
    "start_time": "2022-10-20T13:16:13.784Z"
   },
   {
    "duration": 14,
    "start_time": "2022-10-20T13:16:25.534Z"
   },
   {
    "duration": 17,
    "start_time": "2022-10-20T13:16:32.293Z"
   },
   {
    "duration": 27,
    "start_time": "2022-10-20T13:16:45.064Z"
   },
   {
    "duration": 23,
    "start_time": "2022-10-20T13:16:49.022Z"
   },
   {
    "duration": 24,
    "start_time": "2022-10-20T13:17:30.463Z"
   },
   {
    "duration": 25,
    "start_time": "2022-10-20T13:17:42.544Z"
   },
   {
    "duration": 24,
    "start_time": "2022-10-20T13:17:47.414Z"
   },
   {
    "duration": 16,
    "start_time": "2022-10-20T13:18:17.502Z"
   },
   {
    "duration": 31,
    "start_time": "2022-10-20T13:18:24.525Z"
   },
   {
    "duration": 33,
    "start_time": "2022-10-20T13:19:15.014Z"
   },
   {
    "duration": 37,
    "start_time": "2022-10-20T13:19:42.694Z"
   },
   {
    "duration": 55,
    "start_time": "2022-10-20T13:19:46.276Z"
   },
   {
    "duration": 32,
    "start_time": "2022-10-20T13:20:07.815Z"
   },
   {
    "duration": 25,
    "start_time": "2022-10-20T13:20:33.174Z"
   },
   {
    "duration": 24,
    "start_time": "2022-10-20T13:20:36.464Z"
   },
   {
    "duration": 27,
    "start_time": "2022-10-20T13:20:39.894Z"
   },
   {
    "duration": 23,
    "start_time": "2022-10-20T13:20:42.114Z"
   },
   {
    "duration": 25,
    "start_time": "2022-10-20T13:20:44.064Z"
   },
   {
    "duration": 21,
    "start_time": "2022-10-20T13:20:47.254Z"
   },
   {
    "duration": 23,
    "start_time": "2022-10-20T13:20:49.534Z"
   },
   {
    "duration": 24,
    "start_time": "2022-10-20T13:21:14.811Z"
   },
   {
    "duration": 32,
    "start_time": "2022-10-20T13:21:44.394Z"
   },
   {
    "duration": 25,
    "start_time": "2022-10-20T13:21:51.534Z"
   },
   {
    "duration": 25,
    "start_time": "2022-10-20T13:22:03.070Z"
   },
   {
    "duration": 28,
    "start_time": "2022-10-20T13:22:17.412Z"
   },
   {
    "duration": 30,
    "start_time": "2022-10-20T13:22:44.557Z"
   },
   {
    "duration": 29,
    "start_time": "2022-10-20T13:23:07.774Z"
   },
   {
    "duration": 25,
    "start_time": "2022-10-20T13:23:16.744Z"
   },
   {
    "duration": 4,
    "start_time": "2022-10-20T13:31:01.954Z"
   },
   {
    "duration": 16,
    "start_time": "2022-10-20T13:32:10.159Z"
   },
   {
    "duration": 2496,
    "start_time": "2022-10-20T13:32:21.104Z"
   },
   {
    "duration": 15,
    "start_time": "2022-10-20T13:32:52.104Z"
   },
   {
    "duration": 2593,
    "start_time": "2022-10-20T13:33:45.123Z"
   },
   {
    "duration": 1864,
    "start_time": "2022-10-20T13:34:07.224Z"
   },
   {
    "duration": 1681,
    "start_time": "2022-10-20T13:34:20.684Z"
   },
   {
    "duration": 1351,
    "start_time": "2022-10-20T13:34:41.556Z"
   },
   {
    "duration": 42,
    "start_time": "2022-10-20T13:34:42.909Z"
   },
   {
    "duration": 25,
    "start_time": "2022-10-20T13:34:42.953Z"
   },
   {
    "duration": 10,
    "start_time": "2022-10-20T13:34:42.980Z"
   },
   {
    "duration": 6,
    "start_time": "2022-10-20T13:34:42.993Z"
   },
   {
    "duration": 10,
    "start_time": "2022-10-20T13:34:43.000Z"
   },
   {
    "duration": 23,
    "start_time": "2022-10-20T13:34:43.012Z"
   },
   {
    "duration": 12,
    "start_time": "2022-10-20T13:34:43.037Z"
   },
   {
    "duration": 49,
    "start_time": "2022-10-20T13:34:43.051Z"
   },
   {
    "duration": 43,
    "start_time": "2022-10-20T13:34:43.101Z"
   },
   {
    "duration": 3739,
    "start_time": "2022-10-20T13:34:43.146Z"
   },
   {
    "duration": 2231,
    "start_time": "2022-10-20T13:34:46.888Z"
   },
   {
    "duration": 1815,
    "start_time": "2022-10-20T13:34:49.121Z"
   },
   {
    "duration": 2082,
    "start_time": "2022-10-20T13:34:50.940Z"
   },
   {
    "duration": 1401,
    "start_time": "2022-10-20T13:34:53.024Z"
   },
   {
    "duration": 5,
    "start_time": "2022-10-20T13:34:54.427Z"
   },
   {
    "duration": 23,
    "start_time": "2022-10-20T13:34:54.434Z"
   },
   {
    "duration": 17,
    "start_time": "2022-10-20T13:34:54.459Z"
   },
   {
    "duration": 56,
    "start_time": "2022-10-20T13:34:54.479Z"
   },
   {
    "duration": 372,
    "start_time": "2022-10-20T13:34:54.537Z"
   },
   {
    "duration": 7,
    "start_time": "2022-10-20T13:34:54.912Z"
   },
   {
    "duration": 110002,
    "start_time": "2022-10-20T13:34:54.921Z"
   },
   {
    "duration": 876,
    "start_time": "2022-10-20T13:36:44.926Z"
   },
   {
    "duration": 6,
    "start_time": "2022-10-20T13:36:45.803Z"
   },
   {
    "duration": 117,
    "start_time": "2022-10-20T13:36:45.811Z"
   },
   {
    "duration": 64,
    "start_time": "2022-10-20T13:36:45.930Z"
   },
   {
    "duration": 2907,
    "start_time": "2022-10-20T13:36:45.996Z"
   },
   {
    "duration": 2630,
    "start_time": "2022-10-20T13:36:48.905Z"
   },
   {
    "duration": 1318,
    "start_time": "2022-10-20T13:36:51.537Z"
   },
   {
    "duration": 10,
    "start_time": "2022-10-20T13:36:52.856Z"
   },
   {
    "duration": 2667,
    "start_time": "2022-10-20T13:36:52.868Z"
   },
   {
    "duration": 2835,
    "start_time": "2022-10-20T13:41:56.392Z"
   },
   {
    "duration": 3195,
    "start_time": "2022-10-20T13:42:14.123Z"
   },
   {
    "duration": 2792,
    "start_time": "2022-10-20T13:43:35.513Z"
   },
   {
    "duration": 1399,
    "start_time": "2022-10-20T13:43:56.972Z"
   },
   {
    "duration": 24,
    "start_time": "2022-10-20T13:43:58.373Z"
   },
   {
    "duration": 20,
    "start_time": "2022-10-20T13:43:58.399Z"
   },
   {
    "duration": 8,
    "start_time": "2022-10-20T13:43:58.420Z"
   },
   {
    "duration": 3,
    "start_time": "2022-10-20T13:43:58.430Z"
   },
   {
    "duration": 26,
    "start_time": "2022-10-20T13:43:58.434Z"
   },
   {
    "duration": 18,
    "start_time": "2022-10-20T13:43:58.461Z"
   },
   {
    "duration": 13,
    "start_time": "2022-10-20T13:43:58.480Z"
   },
   {
    "duration": 43,
    "start_time": "2022-10-20T13:43:58.495Z"
   },
   {
    "duration": 46,
    "start_time": "2022-10-20T13:43:58.540Z"
   },
   {
    "duration": 3932,
    "start_time": "2022-10-20T13:43:58.599Z"
   },
   {
    "duration": 2662,
    "start_time": "2022-10-20T13:44:02.533Z"
   },
   {
    "duration": 1909,
    "start_time": "2022-10-20T13:44:05.196Z"
   },
   {
    "duration": 2017,
    "start_time": "2022-10-20T13:44:07.108Z"
   },
   {
    "duration": 1362,
    "start_time": "2022-10-20T13:44:09.127Z"
   },
   {
    "duration": 16,
    "start_time": "2022-10-20T13:44:10.491Z"
   },
   {
    "duration": 14,
    "start_time": "2022-10-20T13:44:10.510Z"
   },
   {
    "duration": 7,
    "start_time": "2022-10-20T13:44:10.526Z"
   },
   {
    "duration": 34,
    "start_time": "2022-10-20T13:44:10.535Z"
   },
   {
    "duration": 384,
    "start_time": "2022-10-20T13:44:10.570Z"
   },
   {
    "duration": 7,
    "start_time": "2022-10-20T13:44:10.956Z"
   },
   {
    "duration": 112705,
    "start_time": "2022-10-20T13:44:10.965Z"
   },
   {
    "duration": 850,
    "start_time": "2022-10-20T13:46:03.672Z"
   },
   {
    "duration": 6,
    "start_time": "2022-10-20T13:46:04.524Z"
   },
   {
    "duration": 22,
    "start_time": "2022-10-20T13:46:04.532Z"
   },
   {
    "duration": 34,
    "start_time": "2022-10-20T13:46:04.599Z"
   },
   {
    "duration": 2675,
    "start_time": "2022-10-20T13:46:04.635Z"
   },
   {
    "duration": 2848,
    "start_time": "2022-10-20T13:46:07.312Z"
   },
   {
    "duration": 1319,
    "start_time": "2022-10-20T13:46:10.161Z"
   },
   {
    "duration": 9,
    "start_time": "2022-10-20T13:46:11.482Z"
   },
   {
    "duration": 2711,
    "start_time": "2022-10-20T13:46:11.501Z"
   },
   {
    "duration": 2510,
    "start_time": "2022-10-20T13:47:38.801Z"
   },
   {
    "duration": 1680,
    "start_time": "2022-10-20T13:47:45.965Z"
   },
   {
    "duration": 2551,
    "start_time": "2022-10-20T13:47:56.023Z"
   },
   {
    "duration": 2855,
    "start_time": "2022-10-20T13:58:41.969Z"
   },
   {
    "duration": 195,
    "start_time": "2022-10-20T13:59:21.757Z"
   },
   {
    "duration": 70,
    "start_time": "2022-10-20T14:00:08.390Z"
   },
   {
    "duration": 3031,
    "start_time": "2022-10-20T14:00:12.250Z"
   },
   {
    "duration": 2450,
    "start_time": "2022-10-20T14:00:19.890Z"
   },
   {
    "duration": 65,
    "start_time": "2022-10-20T14:01:00.600Z"
   },
   {
    "duration": 391,
    "start_time": "2022-10-20T14:01:08.750Z"
   },
   {
    "duration": 250,
    "start_time": "2022-10-20T14:01:21.810Z"
   },
   {
    "duration": 19,
    "start_time": "2022-10-20T14:03:36.872Z"
   },
   {
    "duration": 2420,
    "start_time": "2022-10-20T14:03:41.949Z"
   },
   {
    "duration": 2564,
    "start_time": "2022-10-20T14:04:24.670Z"
   },
   {
    "duration": 2295,
    "start_time": "2022-10-20T14:05:36.339Z"
   },
   {
    "duration": 5,
    "start_time": "2022-10-20T14:06:05.428Z"
   },
   {
    "duration": 2333,
    "start_time": "2022-10-20T14:06:25.979Z"
   },
   {
    "duration": 2193,
    "start_time": "2022-10-20T14:06:30.969Z"
   },
   {
    "duration": 1981,
    "start_time": "2022-10-20T14:17:05.738Z"
   },
   {
    "duration": 2041,
    "start_time": "2022-10-20T14:17:19.488Z"
   },
   {
    "duration": 1900,
    "start_time": "2022-10-20T14:18:24.388Z"
   },
   {
    "duration": 1798,
    "start_time": "2022-10-20T14:18:40.359Z"
   },
   {
    "duration": 1833,
    "start_time": "2022-10-20T14:19:12.386Z"
   },
   {
    "duration": 1267,
    "start_time": "2022-10-20T14:19:59.109Z"
   },
   {
    "duration": 2228,
    "start_time": "2022-10-20T14:20:13.807Z"
   },
   {
    "duration": 1682,
    "start_time": "2022-10-20T16:41:18.448Z"
   },
   {
    "duration": 27,
    "start_time": "2022-10-20T16:41:20.132Z"
   },
   {
    "duration": 44,
    "start_time": "2022-10-20T16:41:20.160Z"
   },
   {
    "duration": 8,
    "start_time": "2022-10-20T16:41:20.206Z"
   },
   {
    "duration": 5,
    "start_time": "2022-10-20T16:41:20.216Z"
   },
   {
    "duration": 7,
    "start_time": "2022-10-20T16:41:20.222Z"
   },
   {
    "duration": 15,
    "start_time": "2022-10-20T16:41:20.230Z"
   },
   {
    "duration": 10,
    "start_time": "2022-10-20T16:41:20.246Z"
   },
   {
    "duration": 55,
    "start_time": "2022-10-20T16:41:20.258Z"
   },
   {
    "duration": 45,
    "start_time": "2022-10-20T16:41:20.314Z"
   },
   {
    "duration": 2838,
    "start_time": "2022-10-20T16:41:20.361Z"
   },
   {
    "duration": 2440,
    "start_time": "2022-10-20T16:41:23.208Z"
   },
   {
    "duration": 2566,
    "start_time": "2022-10-20T16:41:25.650Z"
   },
   {
    "duration": 1880,
    "start_time": "2022-10-20T16:41:28.218Z"
   },
   {
    "duration": 1303,
    "start_time": "2022-10-20T16:41:30.101Z"
   },
   {
    "duration": 3,
    "start_time": "2022-10-20T16:41:31.406Z"
   },
   {
    "duration": 22,
    "start_time": "2022-10-20T16:41:31.411Z"
   },
   {
    "duration": 43,
    "start_time": "2022-10-20T16:41:31.434Z"
   },
   {
    "duration": 340,
    "start_time": "2022-10-20T16:41:31.479Z"
   },
   {
    "duration": 7,
    "start_time": "2022-10-20T16:41:31.820Z"
   },
   {
    "duration": 96907,
    "start_time": "2022-10-20T16:41:31.828Z"
   },
   {
    "duration": 880,
    "start_time": "2022-10-20T16:43:08.736Z"
   },
   {
    "duration": 95,
    "start_time": "2022-10-20T16:43:09.618Z"
   },
   {
    "duration": 12,
    "start_time": "2022-10-20T16:43:09.715Z"
   },
   {
    "duration": 24,
    "start_time": "2022-10-20T16:43:09.729Z"
   },
   {
    "duration": 1979,
    "start_time": "2022-10-20T16:43:09.755Z"
   },
   {
    "duration": 1927,
    "start_time": "2022-10-20T16:43:11.735Z"
   },
   {
    "duration": 8,
    "start_time": "2022-10-20T16:43:13.664Z"
   },
   {
    "duration": 1602,
    "start_time": "2022-10-20T16:50:59.749Z"
   },
   {
    "duration": 1866,
    "start_time": "2022-10-20T16:51:41.734Z"
   },
   {
    "duration": 2018,
    "start_time": "2022-10-20T16:53:36.886Z"
   },
   {
    "duration": 1894,
    "start_time": "2022-10-20T16:53:49.743Z"
   },
   {
    "duration": 37,
    "start_time": "2022-10-20T17:58:02.130Z"
   },
   {
    "duration": 372,
    "start_time": "2022-10-20T17:58:09.717Z"
   },
   {
    "duration": 27,
    "start_time": "2022-10-20T18:04:35.249Z"
   },
   {
    "duration": 23,
    "start_time": "2022-10-20T18:06:10.784Z"
   },
   {
    "duration": 22,
    "start_time": "2022-10-20T18:13:48.047Z"
   },
   {
    "duration": 22,
    "start_time": "2022-10-20T18:15:57.447Z"
   },
   {
    "duration": 1424,
    "start_time": "2022-10-20T18:23:39.796Z"
   },
   {
    "duration": 24,
    "start_time": "2022-10-20T18:23:41.222Z"
   },
   {
    "duration": 22,
    "start_time": "2022-10-20T18:23:41.247Z"
   },
   {
    "duration": 8,
    "start_time": "2022-10-20T18:23:41.272Z"
   },
   {
    "duration": 3,
    "start_time": "2022-10-20T18:23:41.281Z"
   },
   {
    "duration": 22,
    "start_time": "2022-10-20T18:23:41.286Z"
   },
   {
    "duration": 18,
    "start_time": "2022-10-20T18:23:41.309Z"
   },
   {
    "duration": 23,
    "start_time": "2022-10-20T18:23:41.328Z"
   },
   {
    "duration": 35,
    "start_time": "2022-10-20T18:23:41.353Z"
   },
   {
    "duration": 47,
    "start_time": "2022-10-20T18:23:41.390Z"
   },
   {
    "duration": 2607,
    "start_time": "2022-10-20T18:23:41.439Z"
   },
   {
    "duration": 2436,
    "start_time": "2022-10-20T18:23:44.048Z"
   },
   {
    "duration": 1688,
    "start_time": "2022-10-20T18:23:46.486Z"
   },
   {
    "duration": 1839,
    "start_time": "2022-10-20T18:23:48.176Z"
   },
   {
    "duration": 1280,
    "start_time": "2022-10-20T18:23:50.017Z"
   },
   {
    "duration": 14,
    "start_time": "2022-10-20T18:23:51.298Z"
   },
   {
    "duration": 9,
    "start_time": "2022-10-20T18:23:51.314Z"
   },
   {
    "duration": 29,
    "start_time": "2022-10-20T18:23:51.324Z"
   },
   {
    "duration": 359,
    "start_time": "2022-10-20T18:23:51.355Z"
   },
   {
    "duration": 8,
    "start_time": "2022-10-20T18:23:51.716Z"
   },
   {
    "duration": 97512,
    "start_time": "2022-10-20T18:23:51.726Z"
   },
   {
    "duration": 1077,
    "start_time": "2022-10-20T18:25:29.240Z"
   },
   {
    "duration": 6,
    "start_time": "2022-10-20T18:25:30.318Z"
   },
   {
    "duration": 35,
    "start_time": "2022-10-20T18:25:30.325Z"
   },
   {
    "duration": 1955,
    "start_time": "2022-10-20T18:25:30.362Z"
   },
   {
    "duration": 1921,
    "start_time": "2022-10-20T18:25:32.319Z"
   },
   {
    "duration": 10,
    "start_time": "2022-10-20T18:25:34.241Z"
   },
   {
    "duration": 44,
    "start_time": "2022-10-20T18:25:34.253Z"
   },
   {
    "duration": 1762,
    "start_time": "2022-10-21T08:48:49.980Z"
   },
   {
    "duration": 46,
    "start_time": "2022-10-21T08:48:51.744Z"
   },
   {
    "duration": 174,
    "start_time": "2022-10-21T08:48:51.794Z"
   },
   {
    "duration": 9,
    "start_time": "2022-10-21T08:48:51.969Z"
   },
   {
    "duration": 8,
    "start_time": "2022-10-21T08:48:51.980Z"
   },
   {
    "duration": 40,
    "start_time": "2022-10-21T08:48:51.992Z"
   },
   {
    "duration": 32,
    "start_time": "2022-10-21T08:48:52.033Z"
   },
   {
    "duration": 12,
    "start_time": "2022-10-21T08:48:52.066Z"
   },
   {
    "duration": 70,
    "start_time": "2022-10-21T08:48:52.080Z"
   },
   {
    "duration": 51,
    "start_time": "2022-10-21T08:48:52.151Z"
   },
   {
    "duration": 3043,
    "start_time": "2022-10-21T08:48:52.204Z"
   },
   {
    "duration": 3065,
    "start_time": "2022-10-21T08:48:55.249Z"
   },
   {
    "duration": 1963,
    "start_time": "2022-10-21T08:48:58.316Z"
   },
   {
    "duration": 2174,
    "start_time": "2022-10-21T08:49:00.282Z"
   },
   {
    "duration": 1660,
    "start_time": "2022-10-21T08:49:02.457Z"
   },
   {
    "duration": 4,
    "start_time": "2022-10-21T08:49:04.119Z"
   },
   {
    "duration": 9,
    "start_time": "2022-10-21T08:49:04.125Z"
   },
   {
    "duration": 35,
    "start_time": "2022-10-21T08:49:04.135Z"
   },
   {
    "duration": 365,
    "start_time": "2022-10-21T08:49:04.172Z"
   },
   {
    "duration": 8,
    "start_time": "2022-10-21T08:49:04.539Z"
   },
   {
    "duration": 121618,
    "start_time": "2022-10-21T08:49:04.549Z"
   },
   {
    "duration": 631,
    "start_time": "2022-10-21T08:51:06.169Z"
   },
   {
    "duration": 10,
    "start_time": "2022-10-21T08:51:06.805Z"
   },
   {
    "duration": 71,
    "start_time": "2022-10-21T08:51:06.885Z"
   },
   {
    "duration": 2364,
    "start_time": "2022-10-21T08:51:06.958Z"
   },
   {
    "duration": 2214,
    "start_time": "2022-10-21T08:51:09.323Z"
   },
   {
    "duration": 10,
    "start_time": "2022-10-21T08:51:11.538Z"
   },
   {
    "duration": 98,
    "start_time": "2022-10-21T08:51:11.550Z"
   },
   {
    "duration": 2137,
    "start_time": "2022-10-21T08:57:29.065Z"
   },
   {
    "duration": 374,
    "start_time": "2022-10-21T09:11:23.557Z"
   },
   {
    "duration": 1373,
    "start_time": "2022-10-21T09:11:28.696Z"
   },
   {
    "duration": 1278,
    "start_time": "2022-10-21T09:11:38.416Z"
   },
   {
    "duration": 1432,
    "start_time": "2022-10-21T09:12:09.977Z"
   },
   {
    "duration": 1574,
    "start_time": "2022-10-21T09:12:18.955Z"
   },
   {
    "duration": 13,
    "start_time": "2022-10-21T09:14:33.142Z"
   },
   {
    "duration": 15,
    "start_time": "2022-10-21T09:14:39.967Z"
   },
   {
    "duration": 4,
    "start_time": "2022-10-21T09:14:41.900Z"
   },
   {
    "duration": 2246,
    "start_time": "2022-10-21T09:15:28.022Z"
   },
   {
    "duration": 3063,
    "start_time": "2022-10-21T09:15:55.326Z"
   },
   {
    "duration": 1782,
    "start_time": "2022-10-21T09:16:08.651Z"
   },
   {
    "duration": 1784,
    "start_time": "2022-10-21T09:16:16.355Z"
   },
   {
    "duration": 2231,
    "start_time": "2022-10-21T09:16:25.768Z"
   },
   {
    "duration": 1846,
    "start_time": "2022-10-21T09:16:40.491Z"
   },
   {
    "duration": 1661,
    "start_time": "2022-10-21T09:18:23.870Z"
   },
   {
    "duration": 1509,
    "start_time": "2022-10-21T09:18:29.477Z"
   },
   {
    "duration": 1764,
    "start_time": "2022-10-21T09:18:37.849Z"
   },
   {
    "duration": 1663,
    "start_time": "2022-10-21T09:18:43.748Z"
   },
   {
    "duration": 1676,
    "start_time": "2022-10-21T09:19:30.344Z"
   },
   {
    "duration": 1586,
    "start_time": "2022-10-21T09:20:25.218Z"
   },
   {
    "duration": 1979,
    "start_time": "2022-10-21T09:23:50.820Z"
   },
   {
    "duration": 1961,
    "start_time": "2022-10-21T09:24:05.786Z"
   },
   {
    "duration": 1512,
    "start_time": "2022-10-21T09:24:42.422Z"
   },
   {
    "duration": 1824,
    "start_time": "2022-10-21T09:24:49.658Z"
   },
   {
    "duration": 1511,
    "start_time": "2022-10-21T09:24:59.667Z"
   },
   {
    "duration": 1969,
    "start_time": "2022-10-21T09:25:08.534Z"
   },
   {
    "duration": 1612,
    "start_time": "2022-10-21T09:25:27.131Z"
   },
   {
    "duration": 1163,
    "start_time": "2022-10-21T09:25:55.393Z"
   },
   {
    "duration": 1533,
    "start_time": "2022-10-21T09:26:10.708Z"
   },
   {
    "duration": 1593,
    "start_time": "2022-10-21T09:26:15.918Z"
   },
   {
    "duration": 1848,
    "start_time": "2022-10-21T09:27:53.312Z"
   },
   {
    "duration": 1818,
    "start_time": "2022-10-21T09:28:02.183Z"
   },
   {
    "duration": 1774,
    "start_time": "2022-10-21T09:28:08.874Z"
   },
   {
    "duration": 1562,
    "start_time": "2022-10-21T09:28:56.181Z"
   },
   {
    "duration": 1590,
    "start_time": "2022-10-21T09:28:57.751Z"
   },
   {
    "duration": 5,
    "start_time": "2022-10-21T09:31:15.357Z"
   },
   {
    "duration": 1335,
    "start_time": "2022-10-21T09:33:14.528Z"
   },
   {
    "duration": 1210,
    "start_time": "2022-10-21T09:34:15.666Z"
   },
   {
    "duration": 1181,
    "start_time": "2022-10-21T09:34:42.636Z"
   },
   {
    "duration": 1638,
    "start_time": "2022-10-21T09:35:29.141Z"
   },
   {
    "duration": 2038,
    "start_time": "2022-10-21T09:35:49.429Z"
   },
   {
    "duration": 1254,
    "start_time": "2022-10-21T09:36:17.346Z"
   },
   {
    "duration": 2131,
    "start_time": "2022-10-21T09:37:07.159Z"
   },
   {
    "duration": 102,
    "start_time": "2022-10-21T09:37:21.260Z"
   },
   {
    "duration": 1150,
    "start_time": "2022-10-21T09:37:55.921Z"
   },
   {
    "duration": 886,
    "start_time": "2022-10-21T09:38:37.655Z"
   },
   {
    "duration": 1432,
    "start_time": "2022-10-21T09:38:45.027Z"
   },
   {
    "duration": 1446,
    "start_time": "2022-10-21T09:38:49.916Z"
   },
   {
    "duration": 975,
    "start_time": "2022-10-21T09:41:58.365Z"
   },
   {
    "duration": 2489,
    "start_time": "2022-10-21T09:42:06.313Z"
   },
   {
    "duration": 956,
    "start_time": "2022-10-21T09:42:53.273Z"
   },
   {
    "duration": 4,
    "start_time": "2022-10-21T09:43:01.675Z"
   },
   {
    "duration": 2672,
    "start_time": "2022-10-21T09:43:41.964Z"
   },
   {
    "duration": 1176,
    "start_time": "2022-10-21T09:44:12.712Z"
   },
   {
    "duration": 832,
    "start_time": "2022-10-21T09:44:21.058Z"
   },
   {
    "duration": 752,
    "start_time": "2022-10-21T09:44:31.717Z"
   },
   {
    "duration": 907,
    "start_time": "2022-10-21T09:45:50.127Z"
   },
   {
    "duration": 23,
    "start_time": "2022-10-21T09:50:16.214Z"
   },
   {
    "duration": 7,
    "start_time": "2022-10-21T09:50:20.990Z"
   },
   {
    "duration": 1675,
    "start_time": "2022-10-21T09:50:44.031Z"
   },
   {
    "duration": 68,
    "start_time": "2022-10-21T09:50:45.708Z"
   },
   {
    "duration": 47,
    "start_time": "2022-10-21T09:50:45.778Z"
   },
   {
    "duration": 45,
    "start_time": "2022-10-21T09:50:45.828Z"
   },
   {
    "duration": 3,
    "start_time": "2022-10-21T09:50:45.876Z"
   },
   {
    "duration": 69,
    "start_time": "2022-10-21T09:50:45.881Z"
   },
   {
    "duration": 14,
    "start_time": "2022-10-21T09:50:45.953Z"
   },
   {
    "duration": 10,
    "start_time": "2022-10-21T09:50:45.968Z"
   },
   {
    "duration": 63,
    "start_time": "2022-10-21T09:50:45.980Z"
   },
   {
    "duration": 81,
    "start_time": "2022-10-21T09:50:46.052Z"
   },
   {
    "duration": 31,
    "start_time": "2022-10-21T09:50:46.135Z"
   },
   {
    "duration": 1608,
    "start_time": "2022-10-21T09:50:46.167Z"
   },
   {
    "duration": 1478,
    "start_time": "2022-10-21T09:50:47.777Z"
   },
   {
    "duration": 1755,
    "start_time": "2022-10-21T09:50:49.258Z"
   },
   {
    "duration": 6,
    "start_time": "2022-10-21T09:50:51.014Z"
   },
   {
    "duration": 32,
    "start_time": "2022-10-21T09:50:51.022Z"
   },
   {
    "duration": 45,
    "start_time": "2022-10-21T09:50:51.056Z"
   },
   {
    "duration": 424,
    "start_time": "2022-10-21T09:50:51.108Z"
   },
   {
    "duration": 10,
    "start_time": "2022-10-21T09:50:51.534Z"
   },
   {
    "duration": 137423,
    "start_time": "2022-10-21T09:50:51.545Z"
   },
   {
    "duration": 1221,
    "start_time": "2022-10-21T09:53:08.970Z"
   },
   {
    "duration": 20,
    "start_time": "2022-10-21T09:53:10.217Z"
   },
   {
    "duration": 38,
    "start_time": "2022-10-21T09:53:10.242Z"
   },
   {
    "duration": 2315,
    "start_time": "2022-10-21T09:53:10.282Z"
   },
   {
    "duration": 784,
    "start_time": "2022-10-21T09:53:12.599Z"
   },
   {
    "duration": 22,
    "start_time": "2022-10-21T09:53:13.390Z"
   },
   {
    "duration": 54,
    "start_time": "2022-10-21T09:53:13.424Z"
   },
   {
    "duration": 1021,
    "start_time": "2022-10-21T10:34:20.849Z"
   },
   {
    "duration": 1426,
    "start_time": "2022-10-21T10:34:25.246Z"
   },
   {
    "duration": 1875,
    "start_time": "2022-10-21T10:34:43.048Z"
   },
   {
    "duration": 44,
    "start_time": "2022-10-21T10:34:44.925Z"
   },
   {
    "duration": 51,
    "start_time": "2022-10-21T10:34:44.970Z"
   },
   {
    "duration": 17,
    "start_time": "2022-10-21T10:34:45.023Z"
   },
   {
    "duration": 8,
    "start_time": "2022-10-21T10:34:45.046Z"
   },
   {
    "duration": 9,
    "start_time": "2022-10-21T10:34:45.055Z"
   },
   {
    "duration": 14,
    "start_time": "2022-10-21T10:34:45.066Z"
   },
   {
    "duration": 16,
    "start_time": "2022-10-21T10:34:45.082Z"
   },
   {
    "duration": 93,
    "start_time": "2022-10-21T10:34:45.099Z"
   },
   {
    "duration": 64,
    "start_time": "2022-10-21T10:34:45.194Z"
   },
   {
    "duration": 4,
    "start_time": "2022-10-21T10:34:45.260Z"
   },
   {
    "duration": 1518,
    "start_time": "2022-10-21T10:34:45.265Z"
   },
   {
    "duration": 1438,
    "start_time": "2022-10-21T10:34:46.785Z"
   },
   {
    "duration": 1687,
    "start_time": "2022-10-21T10:34:48.226Z"
   },
   {
    "duration": 8,
    "start_time": "2022-10-21T10:34:49.915Z"
   },
   {
    "duration": 30,
    "start_time": "2022-10-21T10:34:49.926Z"
   },
   {
    "duration": 35,
    "start_time": "2022-10-21T10:34:49.958Z"
   },
   {
    "duration": 429,
    "start_time": "2022-10-21T10:34:49.995Z"
   },
   {
    "duration": 9,
    "start_time": "2022-10-21T10:34:50.426Z"
   },
   {
    "duration": 140323,
    "start_time": "2022-10-21T10:34:50.437Z"
   },
   {
    "duration": 1147,
    "start_time": "2022-10-21T10:37:10.762Z"
   },
   {
    "duration": 9,
    "start_time": "2022-10-21T10:37:11.914Z"
   },
   {
    "duration": 46,
    "start_time": "2022-10-21T10:37:11.929Z"
   },
   {
    "duration": 2236,
    "start_time": "2022-10-21T10:37:11.977Z"
   },
   {
    "duration": 841,
    "start_time": "2022-10-21T10:37:14.215Z"
   },
   {
    "duration": 11,
    "start_time": "2022-10-21T10:37:15.058Z"
   },
   {
    "duration": 80,
    "start_time": "2022-10-21T10:37:15.085Z"
   },
   {
    "duration": 1416,
    "start_time": "2022-10-21T10:37:15.167Z"
   },
   {
    "duration": 0,
    "start_time": "2022-10-21T10:37:16.709Z"
   },
   {
    "duration": 4,
    "start_time": "2022-10-21T10:37:35.656Z"
   },
   {
    "duration": 12,
    "start_time": "2022-10-21T10:38:12.564Z"
   },
   {
    "duration": 17,
    "start_time": "2022-10-21T10:38:19.823Z"
   },
   {
    "duration": 5,
    "start_time": "2022-10-21T10:38:31.120Z"
   },
   {
    "duration": 10,
    "start_time": "2022-10-21T10:38:38.395Z"
   },
   {
    "duration": 2136,
    "start_time": "2022-10-21T10:43:11.406Z"
   },
   {
    "duration": 1933,
    "start_time": "2022-10-21T10:43:23.502Z"
   },
   {
    "duration": 1709,
    "start_time": "2022-10-21T10:45:22.082Z"
   },
   {
    "duration": 45,
    "start_time": "2022-10-21T10:45:23.794Z"
   },
   {
    "duration": 37,
    "start_time": "2022-10-21T10:45:23.842Z"
   },
   {
    "duration": 11,
    "start_time": "2022-10-21T10:45:23.880Z"
   },
   {
    "duration": 25,
    "start_time": "2022-10-21T10:45:23.893Z"
   },
   {
    "duration": 7,
    "start_time": "2022-10-21T10:45:23.920Z"
   },
   {
    "duration": 15,
    "start_time": "2022-10-21T10:45:23.929Z"
   },
   {
    "duration": 16,
    "start_time": "2022-10-21T10:45:23.946Z"
   },
   {
    "duration": 63,
    "start_time": "2022-10-21T10:45:23.965Z"
   },
   {
    "duration": 58,
    "start_time": "2022-10-21T10:45:24.030Z"
   },
   {
    "duration": 3,
    "start_time": "2022-10-21T10:45:24.090Z"
   },
   {
    "duration": 1456,
    "start_time": "2022-10-21T10:45:24.099Z"
   },
   {
    "duration": 1961,
    "start_time": "2022-10-21T10:45:25.558Z"
   },
   {
    "duration": 1604,
    "start_time": "2022-10-21T10:45:27.525Z"
   },
   {
    "duration": 6,
    "start_time": "2022-10-21T10:45:29.131Z"
   },
   {
    "duration": 41,
    "start_time": "2022-10-21T10:45:29.139Z"
   },
   {
    "duration": 64,
    "start_time": "2022-10-21T10:45:29.182Z"
   },
   {
    "duration": 514,
    "start_time": "2022-10-21T10:45:29.248Z"
   },
   {
    "duration": 10,
    "start_time": "2022-10-21T10:45:29.764Z"
   }
  ],
  "kernelspec": {
   "display_name": "Python 3 (ipykernel)",
   "language": "python",
   "name": "python3"
  },
  "language_info": {
   "codemirror_mode": {
    "name": "ipython",
    "version": 3
   },
   "file_extension": ".py",
   "mimetype": "text/x-python",
   "name": "python",
   "nbconvert_exporter": "python",
   "pygments_lexer": "ipython3",
   "version": "3.9.13"
  },
  "nbTranslate": {
   "displayLangs": [
    "en",
    "ru"
   ],
   "hotkey": "alt-t",
   "langInMainMenu": true,
   "sourceLang": "ru",
   "targetLang": "en",
   "useGoogleTranslate": true
  },
  "toc": {
   "base_numbering": 1,
   "nav_menu": {},
   "number_sections": true,
   "sideBar": true,
   "skip_h1_title": true,
   "title_cell": "Table of Contents",
   "title_sidebar": "Contents",
   "toc_cell": false,
   "toc_position": {
    "height": "calc(100% - 180px)",
    "left": "10px",
    "top": "150px",
    "width": "286.075px"
   },
   "toc_section_display": true,
   "toc_window_display": true
  },
  "varInspector": {
   "cols": {
    "lenName": 16,
    "lenType": 16,
    "lenVar": 40
   },
   "kernels_config": {
    "python": {
     "delete_cmd_postfix": "",
     "delete_cmd_prefix": "del ",
     "library": "var_list.py",
     "varRefreshCmd": "print(var_dic_list())"
    },
    "r": {
     "delete_cmd_postfix": ") ",
     "delete_cmd_prefix": "rm(",
     "library": "var_list.r",
     "varRefreshCmd": "cat(var_dic_list()) "
    }
   },
   "types_to_exclude": [
    "module",
    "function",
    "builtin_function_or_method",
    "instance",
    "_Feature"
   ],
   "window_display": false
  }
 },
 "nbformat": 4,
 "nbformat_minor": 2
}
